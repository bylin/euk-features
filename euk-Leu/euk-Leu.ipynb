{
 "cells": [
  {
   "cell_type": "code",
   "execution_count": 1,
   "metadata": {
    "collapsed": true
   },
   "outputs": [],
   "source": [
    "%matplotlib inline\n",
    "from ggplot import *\n",
    "import matplotlib as mpl\n",
    "mpl.style.use('ggplot')\n",
    "import pandas as pd\n",
    "import numpy as np"
   ]
  },
  {
   "cell_type": "markdown",
   "metadata": {},
   "source": [
    "## Introduction\n",
    "\n",
    "Previously, we looked at fungal leucine tRNAs in GtRNAdb. Next, we're going to look at all eukaryotic leucine tRNAs in GtRNAdb. This will involve two extra steps. I'll need to build a phylogenetic tree, which will be used for autodetection of identity elements. This will replace the hardcoded yeast IDEs. \n",
    "\n",
    "We've learned that in fungi, the lower bound for _percentage of tRNAs missing an IDE_ is 20% in a single species, while every single species contained at least one tRNA with the proper IDEs. So for autodetection of IDEs, what can we set as a cutoff? What if all but one species has the IDEs? This could mean that the one species has a mutated synthetase. We need to set a boundary for the amount of evidence that will convince us that a conserved position is an identity element. I'd say that if 80% of species within a clade have the IDE in at least one tRNA, then it's convincing. \n",
    "\n",
    "## Workflow\n",
    "One potential workflow is as follows:\n",
    "1. Generate multi-tiered phylogenetic tree\n",
    "2. Align and filter tRNAs from each clade\n",
    "3. For each clade, find and score potential IDEs.\n",
    "    - This includes base pairs and single bases.\n",
    "    - Scoring will need to take into account a) number of species with at least one tRNA with the IDE, and b) percent of tRNAs with the IDE within each species. (a) is a scalar, while (b) is a vector. So we'll take the product of (a) and the mean of (b), for a score between 0 and 1. Let $s$ be the number of subclades in the clade, while $s_i$ is the subset of subclades containing at least one tRNA with an IDE $i$. $s$ can refer to species (e.g. _S. cerevisiae_ within fungi) or clades (e.g. fungi within eukaryotes). Let $t_s$ be the number of tRNAs within a subclade $s$, and $t_i$ be the number of tRNAs containing an IDE $i$. Then: \n",
    "$$\\text{Score} = \\frac{s_i}{s}\\frac{\\sum^s{t_{s,i}}}{s}$$\n",
    "    - As a heuristic, we will not score any positions with $s_i < 0.8$.\n",
    "4. Imagine a phylogenetic tree with root R branching into clades A, B, and C. If steps #2-#4 are performed for each of A, B, and C, we will now want to perform a R-wide analysis of the IDEs identified within subclades A, B, and C. Since this IDE analysis is entirely computational, some phylogenetic context is necessary. Then, we will want to perform a t-test for the scores of each IDE, between R and A (or B or C). The null hypothesis is that they are the same, e.g. conserved. \n",
    "    - Alternatively, we can assume that positions without evolutionary pressure have scores that follow a normal distribution, with a mean of $0.25 \\cdot 0.25 = 0.0625$. But tRNAs are subject to a variety of compounding pressures, and have different evolutionary timelines, so actually, this is a silly assumption.\n",
    "    - Either way, we will need to apply multiple testing corrections.\n",
    "    \n",
    "Unfortunately, this would fail in the case where the same position is mutated among different clades - for example, maybe fungi have A35 while mammals have G35. This requires a positional analysis. Instead of counting the number of tRNAs with an IDE, we can look at the R-wide information content. In theory, low information content means conservation. \n",
    "\n",
    "Given a method for finding positional IDE information, we should start with a list of positional IDEs, then try to resolve nucleotides. This also eliminates the need for subclade IDE autodetection, and instead we can just take the base or nucleotide at the proper position. So, we'll need to develop a cutoff for entropy. This would be used to determine the position of the base. Then we'd have to figure out a clade-wide nucleotide, which also needs a cutoff. I'm not too worried about this second cutoff, since we can just say something like 80%, and reanalyze subclades - the important thing is the entropy of the position. \n",
    "\n",
    "## Revised workflow\n",
    "1. Generate multi-tiered phylogenetic tree\n",
    "2. Align and filter tRNAs from each clade\n",
    "3. **Find positions under entropy cutoff**\n",
    "4. Resolve nucleotides corresponding to positions, if possible.\n",
    "5. Resolve nucleotides for subclades.\n",
    "\n",
    "In this notebook, I'll be performing this analysis for eukaryotic leucine tRNAs in order to find an appropriate entropy cutoff. Leucine is a good system since it is well studied, and has shared as well as differing IDEs between yeast and human. \n",
    "\n",
    "Later, we will want to look at identity element \"suites\" - what combinations of identity elements can be persistently found throughout a clade? This would be able to match the brain-specific arginine across species.\n",
    "\n",
    "### Yeast/human leucine IDEs\n",
    "Shared     |Yeast    |Human           |\n",
    ":--------|---------|-----------------:\n",
    "A73      |G35, G37 |C3:G70, A4:U69, G5:C68, C20a\n",
    "\n",
    "We have a couple of options for determining entropy.\n",
    "\n",
    "First, we can parse the alignment itself. For example, there are 925 As, 4 Us, and 21 Gs at position 73. There are also 2 Ns and 2 '-'s, which we don't count. Average entropy here is\n",
    "\n",
    "$$-\\sum^np_i\\log_2{p_i}$$"
   ]
  },
  {
   "cell_type": "code",
   "execution_count": 2,
   "metadata": {
    "collapsed": false
   },
   "outputs": [
    {
     "data": {
      "text/plain": [
       "0.19225738255857028"
      ]
     },
     "execution_count": 2,
     "metadata": {},
     "output_type": "execute_result"
    }
   ],
   "source": [
    "from math import log2\n",
    "-925/950*log2(925/950) - 4/950*log2(4/950) - 21/950*log2(21/950)"
   ]
  },
  {
   "cell_type": "markdown",
   "metadata": {},
   "source": [
    "Now if we look at position 69, this is the entropy you'd see from a typical position."
   ]
  },
  {
   "cell_type": "code",
   "execution_count": 3,
   "metadata": {
    "collapsed": false
   },
   "outputs": [
    {
     "data": {
      "text/plain": [
       "935"
      ]
     },
     "execution_count": 3,
     "metadata": {},
     "output_type": "execute_result"
    }
   ],
   "source": [
    "# 184 As, 36 Gs, 426 Us, 289 Cs\n",
    "184+36+426+289"
   ]
  },
  {
   "cell_type": "code",
   "execution_count": 4,
   "metadata": {
    "collapsed": false
   },
   "outputs": [
    {
     "data": {
      "text/plain": [
       "1.6827342976356228"
      ]
     },
     "execution_count": 4,
     "metadata": {},
     "output_type": "execute_result"
    }
   ],
   "source": [
    "def entropy(n, total): return -n/total*log2(n/total)\n",
    "entropy(184, 935) + entropy(36, 935) + entropy(426, 935) + entropy(289, 935)"
   ]
  },
  {
   "cell_type": "markdown",
   "metadata": {},
   "source": [
    "I thought about building a covariance model and parse the file to get emission log-odds bit scores for each possible nucleotide or base pair. This is different from what I calculated above: odds and probability are different. \n",
    "\n",
    "It's not clear how to consolidate log-odds into single positional scores. Range is loosely correlated with conservation for strong IDEs, but what if we had a subclade mutate the base at that position? Then for the position, we'd see a smaller range of bit scores, and it would be indistinguishable from variation. Overall, not being able to resolve multiple log odds scores into a scalar is probably because the range of possible odds is [0, $\\infty$]. Unlike probabilities, which sum to 1, odds are unbounded. What we could do is recover the probabilities by taking the root inverse log. Then we can aggregate them using the above process.\n",
    "\n",
    "But that would take too long, and we're trying to get a move on here. We'll stick with the former, finding positions with minimum entropy. "
   ]
  },
  {
   "cell_type": "markdown",
   "metadata": {},
   "source": [
    "## Finding an entropy cutoff\n",
    "\n",
    "We'll come back to building a phylogenetic tree later. First, we'll get the entropy at each position and see if there's an easy cutoff. We use the R2 alignment used to build the leucine-specific CM, and also just the fungal tRNAs. Again, we use `--matchonly` to get the proper numbering, and ignore potential insertions/deletions."
   ]
  },
  {
   "cell_type": "code",
   "execution_count": 5,
   "metadata": {
    "collapsed": false
   },
   "outputs": [],
   "source": [
    "%%bash\n",
    "cp ../gtrnadb-fungi/fungi-Leu-tRNAs.sto .\n",
    "cp ../../tRNAscan/models/1.6/fasta/euk-Leu-r2-031616.fa euk-Leu.fa\n",
    "cmalign -g --notrunc --matchonly -o euk-Leu.sto /projects/lowelab/users/blin/tRNAscan/models/current/TRNAinf-euk-Leu.cm euk-Leu.fa > /dev/null"
   ]
  },
  {
   "cell_type": "markdown",
   "metadata": {},
   "source": [
    "We need to dynamically determine what the secondary structure looks like. I use a combination of Sprinzl numbering and region numbering to track positions, since there are some weird tRNAs out there (variable loop, long D arm/D loop, G0, etc)."
   ]
  },
  {
   "cell_type": "code",
   "execution_count": 52,
   "metadata": {
    "collapsed": false
   },
   "outputs": [
    {
     "name": "stdout",
     "output_type": "stream",
     "text": [
      "Position 1:83 (acceptor #1) Counter({'G:C': 1792, 'A:U': 270, 'G:U': 12, 'A:C': 7, 'C:C': 3, 'G:A': 3, 'U:A': 2, 'G:N': 1, 'U:U': 1, '-:-': 1, 'G:G': 1, '-:C': 1, 'U:C': 1, 'N:C': 1})\n",
      "Position 2:82 (acceptor #2) Counter({'U:A': 790, 'G:C': 498, 'C:G': 414, 'G:U': 298, 'A:U': 71, 'U:G': 11, '-:-': 3, 'G:G': 2, 'C:A': 2, 'G:A': 2, 'A:A': 2, 'G:N': 1, 'C:U': 1, 'N:U': 1})\n",
      "Position 3:81 (acceptor #3) Counter({'C:G': 1256, 'U:G': 424, 'U:A': 203, 'A:U': 123, 'G:C': 67, 'C:A': 5, 'A:G': 3, '-:-': 3, 'G:U': 3, 'G:G': 2, 'U:C': 2, 'C:C': 2, 'C:U': 1, 'U:U': 1, '-:A': 1})\n",
      "Position 4:80 (acceptor #4) Counter({'A:U': 1632, 'G:C': 296, 'C:G': 76, 'U:A': 56, 'G:U': 8, 'U:U': 7, 'A:A': 7, 'A:C': 6, '-:-': 6, 'C:U': 2})\n",
      "Position 5:79 (acceptor #5) Counter({'G:C': 1627, 'A:U': 252, 'C:G': 111, 'G:U': 47, 'U:A': 42, 'A:C': 5, '-:-': 4, 'G:A': 3, 'C:C': 2, 'U:G': 1, 'G:G': 1, 'G:-': 1})\n",
      "Position 6:78 (acceptor #6) Counter({'G:C': 672, 'G:U': 651, 'C:G': 395, 'U:G': 213, 'A:U': 79, 'U:A': 71, '-:-': 4, 'A:G': 3, 'C:A': 3, 'U:U': 3, '-:U': 1, 'U:C': 1})\n",
      "Position 7:77 (acceptor #7) Counter({'A:U': 1265, 'G:C': 530, 'U:A': 207, 'C:G': 57, 'G:U': 19, '-:-': 4, 'A:C': 4, 'U:G': 3, 'U:U': 3, 'A:G': 1, 'G:G': 1, 'C:C': 1, 'A:A': 1})\n",
      "Position 8 (single #1) Counter({'U': 2091, 'G': 2, 'C': 2, 'A': 1})\n",
      "Position 9 (single #2) Counter({'G': 2082, 'A': 7, 'U': 6, 'C': 1})\n",
      "Position 10:26 (dstem #1) Counter({'G:C': 1981, 'G:U': 41, 'C:G': 38, 'U:A': 17, 'A:U': 7, 'A:C': 3, 'G:A': 2, 'G:G': 2, 'C:C': 2, 'C:U': 1, 'C:-': 1, 'U:C': 1})\n",
      "Position 11:25 (dstem #2) Counter({'C:G': 2054, 'U:A': 11, 'U:G': 10, 'G:C': 8, 'C:A': 6, 'C:U': 3, 'C:C': 3, 'A:G': 1})\n",
      "Position 12:24 (dstem #3) Counter({'C:G': 2024, 'U:G': 36, 'U:A': 12, 'G:C': 10, 'C:A': 8, 'A:G': 2, 'C:U': 2, 'G:G': 1, 'C:-': 1})\n",
      "Position 13:23 (dstem #4) Counter({'G:A': 2009, 'G:U': 41, 'A:A': 33, 'C:A': 9, 'G:C': 2, 'U:A': 2})\n",
      "Position 14 (dloop #1) Counter({'A': 2094, 'U': 1, 'C': 1})\n",
      "Position 15 (dloop #2) Counter({'G': 2078, 'A': 16, 'U': 2})\n",
      "Position 16 (dloop #3) Counter({'U': 1139, 'C': 923, 'A': 20, 'G': 14})\n",
      "Position 17 (dloop #4) Counter({'G': 2077, 'A': 15, 'U': 4})\n",
      "Position 18 (dloop #5) Counter({'G': 2089, 'A': 3, 'U': 2, 'N': 1, '-': 1})\n",
      "Position 19 (dloop #6) Counter({'U': 2091, 'C': 4, 'G': 1})\n",
      "Position 20 (dloop #7) Counter({'C': 1616, '-': 430, 'U': 45, 'G': 4, 'A': 1})\n",
      "Position 21 (dloop #8) Counter({'U': 1965, 'C': 78, 'G': 25, 'A': 24, '-': 4})\n",
      "Position 22 (dloop #9) Counter({'A': 2080, 'G': 12, 'U': 4})\n",
      "Position 27 (single #1) Counter({'G': 2037, 'A': 46, 'U': 10, 'C': 3})\n",
      "Position 28:44 (acstem #1) Counter({'C:G': 1561, 'U:A': 382, 'G:C': 71, 'G:U': 37, 'A:U': 14, 'U:G': 11, 'C:A': 9, 'C:U': 3, 'G:G': 2, 'U:U': 2, 'A:G': 1, '-:A': 1, 'C:-': 1, 'A:A': 1})\n",
      "Position 29:43 (acstem #2) Counter({'U:A': 1273, 'C:G': 690, 'G:C': 63, 'A:U': 55, 'U:G': 3, 'U:C': 3, 'C:A': 2, 'U:U': 2, 'A:G': 1, '-:A': 1, 'G:A': 1, 'C:U': 1, 'G:U': 1})\n",
      "Position 30:42 (acstem #3) Counter({'G:C': 1218, 'A:U': 794, 'U:A': 33, 'C:G': 22, 'G:U': 10, 'U:U': 6, 'U:G': 2, 'G:A': 2, 'C:U': 2, 'A:C': 2, 'G:-': 2, 'G:G': 1, 'U:C': 1, 'C:C': 1})\n",
      "Position 31:41 (acstem #4) Counter({'G:C': 1611, 'C:G': 417, 'U:G': 44, 'G:U': 6, 'C:A': 5, 'U:A': 3, 'C:C': 3, 'C:U': 2, 'G:A': 1, 'A:C': 1, 'C:-': 1, 'U:C': 1, 'A:U': 1})\n",
      "Position 32:40 (acstem #5) Counter({'A:U': 1384, 'G:C': 502, 'U:A': 117, 'C:G': 37, 'A:C': 17, 'G:U': 16, 'C:U': 10, 'U:U': 9, 'A:G': 2, 'G:A': 1, 'U:C': 1})\n",
      "Position 33 (acloop #1) Counter({'U': 1251, 'C': 820, 'G': 17, 'A': 8})\n",
      "Position 34 (acloop #2) Counter({'U': 2065, 'C': 18, 'G': 6, 'N': 5, 'A': 1, '-': 1})\n",
      "Position 35 (acloop #3) Counter({'N': 2095, '-': 1})\n",
      "Position 36 (acloop #4) Counter({'N': 2096})\n",
      "Position 37 (acloop #5) Counter({'N': 2091, 'A': 3, 'G': 2})\n",
      "Position 38 (acloop #6) Counter({'G': 2075, 'A': 16, 'U': 3, 'C': 1, 'N': 1})\n",
      "Position 39 (acloop #7) Counter({'U': 1051, 'C': 668, 'A': 366, 'G': 11})\n",
      "Position 45 (single #1) Counter({'U': 2079, 'C': 8, 'A': 6, 'G': 3})\n",
      "Position 46:57 (vstem #1) Counter({'C:G': 1441, 'G:C': 361, 'A:U': 145, 'U:A': 85, 'G:U': 28, '-:-': 12, 'C:-': 11, 'U:G': 4, 'A:C': 2, '-:C': 2, 'A:G': 1, '-:U': 1, '-:A': 1, 'C:U': 1, '-:G': 1})\n",
      "Position 47:56 (vstem #2) Counter({'U:A': 1022, 'C:G': 384, 'G:C': 345, 'U:G': 199, 'A:U': 114, '-:-': 12, 'U:-': 6, 'C:A': 2, '-:C': 2, 'U:C': 2, 'A:A': 2, 'G:U': 2, '-:U': 1, '-:A': 1, '-:G': 1, 'C:-': 1})\n",
      "Position 48:55 (vstem #3) Counter({'C:G': 1212, 'A:U': 306, 'U:A': 235, '-:-': 167, 'G:C': 109, 'U:G': 33, '-:G': 12, '-:U': 5, 'G:U': 4, 'U:U': 3, 'G:G': 2, 'C:-': 2, 'C:U': 2, 'U:-': 2, '-:C': 2})\n",
      "Position 49:54 (vstem #4) Counter({'C:G': 1083, '-:-': 825, 'U:A': 65, 'G:C': 40, 'U:G': 38, 'G:A': 10, '-:G': 9, 'C:A': 7, 'A:U': 7, 'U:-': 4, 'A:G': 2, 'C:U': 2, 'U:U': 2, 'A:A': 1, 'G:U': 1})\n",
      "Position 50 (vloop #1) Counter({'U': 755, 'G': 724, 'A': 268, 'C': 245, '-': 104})\n",
      "Position 51 (vloop #2) Counter({'U': 808, 'C': 576, 'A': 503, 'G': 133, '-': 76})\n",
      "Position 52 (vloop #3) Counter({'A': 855, 'U': 528, 'C': 492, 'G': 136, '-': 85})\n",
      "Position 53 (vloop #4) Counter({'-': 562, 'U': 553, 'G': 503, 'A': 459, 'C': 19})\n",
      "Position 58 (single #1) Counter({'G': 1898, 'U': 102, 'A': 90, 'C': 3, '-': 3})\n",
      "Position 59 (single #2) Counter({'C': 2033, 'U': 61, 'A': 2})\n",
      "Position 60:76 (tpcstem #1) Counter({'G:C': 1868, 'A:U': 94, 'G:U': 63, 'C:G': 28, 'A:C': 25, 'U:A': 6, 'G:G': 3, 'U:C': 3, '-:C': 3, 'G:A': 2, 'A:A': 1})\n",
      "Position 61:75 (tpcstem #2) Counter({'U:A': 1804, 'C:G': 162, 'A:U': 63, 'G:C': 28, 'U:G': 15, 'C:A': 4, 'U:C': 4, 'G:U': 4, 'G:A': 3, 'A:G': 2, '-:A': 2, 'U:U': 2, 'A:A': 2, 'C:U': 1})\n",
      "Position 62:74 (tpcstem #3) Counter({'G:C': 2044, 'A:U': 32, 'G:U': 8, 'C:G': 6, 'A:C': 5, 'C:A': 1})\n",
      "Position 63:73 (tpcstem #4) Counter({'G:C': 1909, 'A:U': 162, 'C:G': 7, 'G:U': 6, 'U:C': 4, 'A:C': 2, 'A:G': 1, 'N:C': 1, 'U:A': 1, 'G:A': 1, 'G:G': 1, 'C:C': 1})\n",
      "Position 64:72 (tpcstem #5) Counter({'G:C': 2079, 'A:C': 6, 'U:C': 3, 'G:U': 3, 'G:A': 2, 'G:G': 1, 'C:C': 1, 'A:U': 1})\n",
      "Position 65 (tpcloop #1) Counter({'U': 2088, 'A': 3, 'G': 3, 'C': 2})\n",
      "Position 66 (tpcloop #2) Counter({'U': 2095, 'C': 1})\n",
      "Position 67 (tpcloop #3) Counter({'C': 2054, 'U': 36, 'G': 4, 'A': 2})\n",
      "Position 68 (tpcloop #4) Counter({'G': 1724, 'A': 367, 'C': 5})\n",
      "Position 69 (tpcloop #5) Counter({'A': 2089, 'C': 4, 'G': 2, 'U': 1})\n",
      "Position 70 (tpcloop #6) Counter({'A': 2013, 'G': 67, 'U': 13, 'C': 3})\n",
      "Position 71 (tpcloop #7) Counter({'U': 1631, 'C': 456, 'A': 8, 'G': 1})\n",
      "Position 84 (single #1) Counter({'A': 2079, 'G': 9, 'N': 3, 'U': 3, '-': 1, 'C': 1})\n"
     ]
    }
   ],
   "source": [
    "import re\n",
    "from collections import Counter\n",
    "from math import log2\n",
    "\n",
    "class Position:\n",
    "    def __init__(self, position, region, region_number, index=-1, paired=False, counts=None, num_obs=0, entropy=-1):\n",
    "        self.position = position\n",
    "        self.region = region\n",
    "        self.region_number = region_number\n",
    "        self.index = index\n",
    "        self.paired = paired\n",
    "        if counts is None:\n",
    "            self.counts = Counter()\n",
    "        else:\n",
    "            self.counts = counts\n",
    "        self.num_obs = num_obs\n",
    "        self.entropy = entropy\n",
    "    \n",
    "    def __str__(self):\n",
    "        return \"Position {} ({} #{})\".format(self.position, self.region, self.region_number)\n",
    "\n",
    "class Region:\n",
    "    def __init__(self, lower, upper, name):\n",
    "        self.lower = lower\n",
    "        self.upper = upper\n",
    "        self.name = name\n",
    "    \n",
    "    def __str__(self):\n",
    "        return \"Region {} ({} ~ {})\".format(self.name, self.lower, self.upper)\n",
    "\n",
    "def annotate_positions(ss):\n",
    "    loop_indices = [r.span() for r in re.finditer('\\(+|<+|_+|>+|\\)+', ss)]\n",
    "    if len(loop_indices) == 14: regions = ['acceptor', 'dstem', 'dloop', 'dstem', 'acstem', 'acloop', 'acstem', 'vstem', 'vloop', 'vstem', 'tpcstem', 'tpcloop', 'tpcstem', 'acstem']\n",
    "    elif len(loop_indices) == 11: regions = ['acceptor', 'dstem', 'dloop', 'dstem', 'acstem', 'acloop', 'acstem', 'tpcstem', 'tpcloop', 'tpcstem', 'acstem']\n",
    "    regions = [Region(indices[0], indices[1], name) for indices, name in zip(loop_indices, regions[:])]\n",
    "    region = regions[0]\n",
    "    positions = []\n",
    "    region_index = 0 # index to be used to iterate through regions list\n",
    "    region_numbering = 0 # base numbering within a region\n",
    "    for position in range(len(ss)):\n",
    "        if region_index < len(regions):\n",
    "            region = regions[region_index]\n",
    "        else:\n",
    "            positions.append(Position(position=str(position + 1), region='single', region_number=region_numbering + 1, index=len(positions), paired=False))\n",
    "            continue\n",
    "        if position < region.lower: # before the next region starts (or if it's the last region), annotate as single bases\n",
    "            positions.append(Position(position=str(position + 1), region='single', region_number=region_numbering + 1, index=len(positions), paired=False))\n",
    "            region_numbering += 1\n",
    "        elif position == region.lower: # start of region: begin region numbering at 1\n",
    "            if ss[position] == \"(\":\n",
    "                paired_base = regions[-1].upper - 1\n",
    "                positions.append(Position(position='{}:{}'.format(position + 1, paired_base + 1), region=region.name, region_number=1, index=len(positions), paired=True))\n",
    "            elif ss[position] == \"<\":\n",
    "                paired_base = regions[region_index + 2].upper - 1\n",
    "                positions.append(Position(position='{}:{}'.format(position + 1, paired_base + 1), region=region.name, region_number=1, index=len(positions), paired=True))\n",
    "            elif ss[position] in [')', '>']:\n",
    "                pass\n",
    "            else:\n",
    "                positions.append(Position(position=str(position + 1), region=region.name, region_number=region_numbering + 1, index=len(positions), paired=False))\n",
    "            region_numbering = 1\n",
    "        elif position > region.lower and position <= region.upper - 1: # inside region: increment region numbering normally\n",
    "            # find paired base, or skip if base is the opposite strand\n",
    "            if ss[position] == \"(\":\n",
    "                paired_base = regions[-1].upper - (position - regions[0].lower) - 1\n",
    "                positions.append(Position(position='{}:{}'.format(position + 1, paired_base + 1), region=region.name, region_number=region_numbering + 1, index=len(positions), paired=True))\n",
    "            elif ss[position] == \"<\":\n",
    "                paired_base = regions[region_index + 2].upper - region_numbering - 1\n",
    "                positions.append(Position(position='{}:{}'.format(position + 1, paired_base + 1), region=region.name, region_number=region_numbering + 1, index=len(positions), paired=True))\n",
    "            elif ss[position] in [')', '>']:\n",
    "                pass\n",
    "            else:\n",
    "                positions.append(Position(position=str(position + 1), region=region.name, region_number=region_numbering+1, index=len(positions), paired=False))\n",
    "            region_numbering += 1\n",
    "        if position == region.upper - 1: # end of region, reset region index and increment region number\n",
    "            region_index += 1\n",
    "            region_numbering = 0\n",
    "        \n",
    "    return positions\n",
    "\n",
    "def count_positions(input_file, positions):\n",
    "    # We've now annotated all of the positions. Time to count bases at each position.\n",
    "    # Loop through all sequences in alignment\n",
    "    alignment_fhandle = open(input_file) # refresh handle\n",
    "    for line in alignment_fhandle:\n",
    "        if line[0] in [\"#\", '\\n', '/']: continue\n",
    "        if len(line.split()) == 1: print(line)\n",
    "        seqname, seq = line.strip().split()\n",
    "        for position_index, position in enumerate(positions):\n",
    "            if position.paired:\n",
    "                index1, index2 = position.position.split(':')\n",
    "                index1, index2 = int(index1), int(index2)\n",
    "                base_pair = \"{}:{}\".format(seq[index1 - 1], seq[index2 - 1])\n",
    "                positions[position_index].counts[base_pair] += 1\n",
    "            else:\n",
    "                index = int(position.position)\n",
    "                base = seq[index - 1]\n",
    "                positions[position_index].counts[base] += 1\n",
    "    for index, position in enumerate(positions):\n",
    "        positions[index].num_obs = sum(position.counts.values())\n",
    "        positions[index].entropy = calculate_positional_entropy(positions[index])\n",
    "    return positions\n",
    "\n",
    "def calculate_positional_entropy(position):\n",
    "    return sum(-count / position.num_obs * log2(count / position.num_obs) for count in position.counts.values())\n",
    "\n",
    "alignment_fhandle = open('euk-Leu.sto')\n",
    "positions = [] # list containing each position in the tRNA\n",
    "\n",
    "# first, get secondary structure\n",
    "for line in alignment_fhandle:\n",
    "    if line[0:12] == '#=GC SS_cons':\n",
    "        ss = line.strip().split()[-1]\n",
    "\n",
    "# parse secondary structure into regions and positions\n",
    "positions = annotate_positions(ss)\n",
    "\n",
    "# get counts for each position by parsing Stockholm file\n",
    "positions = count_positions('euk-Leu.sto', positions)\n",
    "\n",
    "for position in positions:\n",
    "    print(position, position.counts)\n"
   ]
  },
  {
   "cell_type": "markdown",
   "metadata": {
    "collapsed": false
   },
   "source": [
    "Okay, all the data is processed and in place. Let's convert it into a data frame and plot in R."
   ]
  },
  {
   "cell_type": "code",
   "execution_count": 51,
   "metadata": {
    "collapsed": false
   },
   "outputs": [
    {
     "data": {
      "text/plain": [
       "<matplotlib.axes._subplots.AxesSubplot at 0x7f8b19404e80>"
      ]
     },
     "execution_count": 51,
     "metadata": {},
     "output_type": "execute_result"
    },
    {
     "data": {
      "image/png": "[encoded data removed]",
      "text/plain": [
       "<matplotlib.figure.Figure at 0x7f8b194c1cc0>"
      ]
     },
     "metadata": {},
     "output_type": "display_data"
    }
   ],
   "source": [
    "from pylab import rcParams\n",
    "rcParams['figure.figsize'] = 12, 7\n",
    "df = pd.concat(pd.DataFrame({'Position': [position.position], \n",
    "                              'Entropy': [position.entropy]}) for position in positions)\n",
    "outfile = open('euk-Leu-entropy.tsv', 'w')\n",
    "for position in positions:\n",
    "    outfile.write('{}\\t{}\\n'.format(position.position, position.entropy))\n",
    "\n",
    "df.plot(kind='bar', x='Position')\n",
    "#ggplot(df, aes(x='Index', weight='Entropy')) + geom_bar() + theme(axis_text_x=element_text(angle=90, hjust=1)) + \\\n",
    "#    scale_x_discrete(breaks=list(df.Position),labels=list(df.Index))\n"
   ]
  },
  {
   "cell_type": "code",
   "execution_count": 23,
   "metadata": {
    "collapsed": false
   },
   "outputs": [
    {
     "name": "stderr",
     "output_type": "stream",
     "text": [
      "/projects/lowelab/users/blin/anaconda3/lib/python3.5/site-packages/IPython/extensions/rmagic.py:11: UserWarning: The rmagic extension in IPython has moved to `rpy2.ipython`, please see `rpy2` documentation.\n",
      "  warnings.warn(\"The rmagic extension in IPython has moved to \"\n"
     ]
    },
    {
     "ename": "TypeError",
     "evalue": "type 'rpy2.rinterface.StrSexpVector' is not an acceptable base type",
     "output_type": "error",
     "traceback": [
      "\u001b[1;31m---------------------------------------------------------------------------\u001b[0m",
      "\u001b[1;31mTypeError\u001b[0m                                 Traceback (most recent call last)",
      "\u001b[1;32m<ipython-input-23-79103ea320e8>\u001b[0m in \u001b[0;36m<module>\u001b[1;34m()\u001b[0m\n\u001b[0;32m      1\u001b[0m \u001b[0mget_ipython\u001b[0m\u001b[1;33m(\u001b[0m\u001b[1;33m)\u001b[0m\u001b[1;33m.\u001b[0m\u001b[0mmagic\u001b[0m\u001b[1;33m(\u001b[0m\u001b[1;34m'reload_ext rmagic'\u001b[0m\u001b[1;33m)\u001b[0m\u001b[1;33m\u001b[0m\u001b[0m\n\u001b[1;32m----> 2\u001b[1;33m \u001b[1;32mimport\u001b[0m \u001b[0mrpy2\u001b[0m\u001b[1;33m.\u001b[0m\u001b[0mipython\u001b[0m\u001b[1;33m\u001b[0m\u001b[0m\n\u001b[0m",
      "\u001b[1;32m/projects/lowelab/users/blin/anaconda3/lib/python3.5/site-packages/rpy2/ipython/__init__.py\u001b[0m in \u001b[0;36m<module>\u001b[1;34m()\u001b[0m\n\u001b[1;32m----> 1\u001b[1;33m \u001b[1;32mfrom\u001b[0m \u001b[1;33m.\u001b[0m\u001b[0mrmagic\u001b[0m \u001b[1;32mimport\u001b[0m \u001b[0mload_ipython_extension\u001b[0m\u001b[1;33m\u001b[0m\u001b[0m\n\u001b[0m",
      "\u001b[1;32m/projects/lowelab/users/blin/anaconda3/lib/python3.5/site-packages/rpy2/ipython/rmagic.py\u001b[0m in \u001b[0;36m<module>\u001b[1;34m()\u001b[0m\n\u001b[0;32m     51\u001b[0m \u001b[1;33m\u001b[0m\u001b[0m\n\u001b[0;32m     52\u001b[0m \u001b[1;32mimport\u001b[0m \u001b[0mrpy2\u001b[0m\u001b[1;33m.\u001b[0m\u001b[0mrinterface\u001b[0m \u001b[1;32mas\u001b[0m \u001b[0mri\u001b[0m\u001b[1;33m\u001b[0m\u001b[0m\n\u001b[1;32m---> 53\u001b[1;33m \u001b[1;32mimport\u001b[0m \u001b[0mrpy2\u001b[0m\u001b[1;33m.\u001b[0m\u001b[0mrobjects\u001b[0m \u001b[1;32mas\u001b[0m \u001b[0mro\u001b[0m\u001b[1;33m\u001b[0m\u001b[0m\n\u001b[0m\u001b[0;32m     54\u001b[0m \u001b[1;32mimport\u001b[0m \u001b[0mrpy2\u001b[0m\u001b[1;33m.\u001b[0m\u001b[0mrobjects\u001b[0m\u001b[1;33m.\u001b[0m\u001b[0mpackages\u001b[0m \u001b[1;32mas\u001b[0m \u001b[0mrpacks\u001b[0m\u001b[1;33m\u001b[0m\u001b[0m\n\u001b[0;32m     55\u001b[0m \u001b[0mConverter\u001b[0m \u001b[1;33m=\u001b[0m \u001b[0mro\u001b[0m\u001b[1;33m.\u001b[0m\u001b[0mconversion\u001b[0m\u001b[1;33m.\u001b[0m\u001b[0mConverter\u001b[0m\u001b[1;33m\u001b[0m\u001b[0m\n",
      "\u001b[1;32m/projects/lowelab/users/blin/anaconda3/lib/python3.5/site-packages/rpy2/robjects/__init__.py\u001b[0m in \u001b[0;36m<module>\u001b[1;34m()\u001b[0m\n\u001b[0;32m     17\u001b[0m \u001b[1;33m\u001b[0m\u001b[0m\n\u001b[0;32m     18\u001b[0m \u001b[1;32mfrom\u001b[0m \u001b[0mrpy2\u001b[0m\u001b[1;33m.\u001b[0m\u001b[0mrobjects\u001b[0m\u001b[1;33m.\u001b[0m\u001b[0mrobject\u001b[0m \u001b[1;32mimport\u001b[0m \u001b[0mRObjectMixin\u001b[0m\u001b[1;33m,\u001b[0m \u001b[0mRObject\u001b[0m\u001b[1;33m\u001b[0m\u001b[0m\n\u001b[1;32m---> 19\u001b[1;33m from rpy2.robjects.vectors import (BoolVector,\n\u001b[0m\u001b[0;32m     20\u001b[0m                                    \u001b[0mIntVector\u001b[0m\u001b[1;33m,\u001b[0m\u001b[1;33m\u001b[0m\u001b[0m\n\u001b[0;32m     21\u001b[0m                                    \u001b[0mFloatVector\u001b[0m\u001b[1;33m,\u001b[0m\u001b[1;33m\u001b[0m\u001b[0m\n",
      "\u001b[1;32m/projects/lowelab/users/blin/anaconda3/lib/python3.5/site-packages/rpy2/robjects/vectors.py\u001b[0m in \u001b[0;36m<module>\u001b[1;34m()\u001b[0m\n\u001b[0;32m    334\u001b[0m \u001b[1;33m\u001b[0m\u001b[0m\n\u001b[0;32m    335\u001b[0m \u001b[1;33m\u001b[0m\u001b[0m\n\u001b[1;32m--> 336\u001b[1;33m \u001b[1;32mclass\u001b[0m \u001b[0mStrVector\u001b[0m\u001b[1;33m(\u001b[0m\u001b[0mVector\u001b[0m\u001b[1;33m,\u001b[0m \u001b[0mStrSexpVector\u001b[0m\u001b[1;33m)\u001b[0m\u001b[1;33m:\u001b[0m\u001b[1;33m\u001b[0m\u001b[0m\n\u001b[0m\u001b[0;32m    337\u001b[0m     \"\"\"      Vector of string elements\n\u001b[0;32m    338\u001b[0m \u001b[1;33m\u001b[0m\u001b[0m\n",
      "\u001b[1;31mTypeError\u001b[0m: type 'rpy2.rinterface.StrSexpVector' is not an acceptable base type"
     ]
    }
   ],
   "source": [
    "%reload_ext rmagic\n",
    "import rpy2.ipython"
   ]
  },
  {
   "cell_type": "code",
   "execution_count": 21,
   "metadata": {
    "collapsed": false
   },
   "outputs": [
    {
     "name": "stderr",
     "output_type": "stream",
     "text": [
      "ERROR: Line magic function `%R` not found.\n"
     ]
    },
    {
     "ename": "NameError",
     "evalue": "name 'read' is not defined",
     "output_type": "error",
     "traceback": [
      "\u001b[1;31m---------------------------------------------------------------------------\u001b[0m",
      "\u001b[1;31mNameError\u001b[0m                                 Traceback (most recent call last)",
      "\u001b[1;32m<ipython-input-21-a02df7ad633d>\u001b[0m in \u001b[0;36m<module>\u001b[1;34m()\u001b[0m\n\u001b[0;32m      1\u001b[0m \u001b[0mget_ipython\u001b[0m\u001b[1;33m(\u001b[0m\u001b[1;33m)\u001b[0m\u001b[1;33m.\u001b[0m\u001b[0mmagic\u001b[0m\u001b[1;33m(\u001b[0m\u001b[1;34m'R'\u001b[0m\u001b[1;33m)\u001b[0m\u001b[1;33m\u001b[0m\u001b[0m\n\u001b[1;32m----> 2\u001b[1;33m \u001b[0mdf\u001b[0m \u001b[1;33m=\u001b[0m \u001b[0mread\u001b[0m\u001b[1;33m.\u001b[0m\u001b[0mtable\u001b[0m\u001b[1;33m(\u001b[0m\u001b[1;34m'euk-Leu-entropy.tsv'\u001b[0m\u001b[1;33m)\u001b[0m\u001b[1;33m\u001b[0m\u001b[0m\n\u001b[0m\u001b[0;32m      3\u001b[0m \u001b[0mdf\u001b[0m\u001b[1;33m\u001b[0m\u001b[0m\n",
      "\u001b[1;31mNameError\u001b[0m: name 'read' is not defined"
     ]
    }
   ],
   "source": [
    "%R\n",
    "df = read.table('euk-Leu-entropy.tsv')\n",
    "df\n"
   ]
  },
  {
   "cell_type": "code",
   "execution_count": null,
   "metadata": {
    "collapsed": true
   },
   "outputs": [],
   "source": []
  }
 ],
 "metadata": {
  "anaconda-cloud": {},
  "kernelspec": {
   "display_name": "Python [Root]",
   "language": "python",
   "name": "Python [Root]"
  },
  "language_info": {
   "codemirror_mode": {
    "name": "ipython",
    "version": 3
   },
   "file_extension": ".py",
   "mimetype": "text/x-python",
   "name": "python",
   "nbconvert_exporter": "python",
   "pygments_lexer": "ipython3",
   "version": "3.5.2"
  }
 },
 "nbformat": 4,
 "nbformat_minor": 0
}
