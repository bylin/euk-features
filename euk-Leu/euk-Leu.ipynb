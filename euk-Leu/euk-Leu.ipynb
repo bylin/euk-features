{
 "cells": [
  {
   "cell_type": "markdown",
   "metadata": {},
   "source": [
    "## Introduction\n",
    "\n",
    "Previously, we looked at fungal leucine tRNAs in GtRNAdb. Next, we're going to look at all eukaryotic leucine tRNAs in GtRNAdb. This will involve two extra steps. I'll need to build a phylogenetic tree, which will be used for autodetection of identity elements. This will replace the hardcoded yeast IDEs. \n",
    "\n",
    "We've learned that in fungi, the lower bound for _percentage of tRNAs missing an IDE_ is 20% in a single species, while every single species contained at least one tRNA with the proper IDEs. So for autodetection of IDEs, what can we set as a cutoff? What if all but one species has the IDEs? This could mean that the one species has a mutated synthetase. We need to set a boundary for the amount of evidence that will convince us that a conserved position is an identity element. I'd say that if 80% of species within a clade have the IDE in at least one tRNA, then it's convincing. \n",
    "\n",
    "## Workflow\n",
    "One potential workflow is as follows:\n",
    "1. Generate multi-tiered phylogenetic tree\n",
    "2. Align and filter tRNAs from each clade\n",
    "3. For each clade, find and score potential IDEs.\n",
    "    - This includes base pairs and single bases.\n",
    "    - Scoring will need to take into account a) number of species with at least one tRNA with the IDE, and b) percent of tRNAs with the IDE within each species. (a) is a scalar, while (b) is a vector. So we'll take the product of (a) and the mean of (b), for a score between 0 and 1. Let $s$ be the number of subclades in the clade, while $s_i$ is the subset of subclades containing at least one tRNA with an IDE $i$. $s$ can refer to species (e.g. _S. cerevisiae_ within fungi) or clades (e.g. fungi within eukaryotes). Let $t_s$ be the number of tRNAs within a subclade $s$, and $t_i$ be the number of tRNAs containing an IDE $i$. Then: \n",
    "$$\\text{Score} = \\frac{s_i}{s}\\frac{\\sum^s{t_{s,i}}}{s}$$\n",
    "    - As a heuristic, we will not score any positions with $s_i < 0.8$.\n",
    "4. Imagine a phylogenetic tree with root R branching into clades A, B, and C. If steps #2-#4 are performed for each of A, B, and C, we will now want to perform a R-wide analysis of the IDEs identified within subclades A, B, and C. Since this IDE analysis is entirely computational, some phylogenetic context is necessary. Then, we will want to perform a t-test for the scores of each IDE, between R and A (or B or C). The null hypothesis is that they are the same, e.g. conserved. \n",
    "    - Alternatively, we can assume that positions without evolutionary pressure have scores that follow a normal distribution, with a mean of $0.25 \\cdot 0.25 = 0.0625$. But tRNAs are subject to a variety of compounding pressures, and have different evolutionary timelines, so actually, this is a silly assumption.\n",
    "    - Either way, we will need to apply multiple testing corrections.\n",
    "    \n",
    "Unfortunately, this would fail in the case where the same position is mutated among different clades - for example, maybe fungi have A35 while mammals have G35. This requires a positional analysis. Instead of counting the number of tRNAs with an IDE, we can look at the R-wide information content. In theory, low information content means conservation. \n",
    "\n",
    "Given a method for finding positional IDE information, we should start with a list of positional IDEs, then try to resolve nucleotides. This also eliminates the need for subclade IDE autodetection, and instead we can just take the base or nucleotide at the proper position. So, we'll need to develop a cutoff for entropy. This would be used to determine the position of the base. Then we'd have to figure out a clade-wide nucleotide, which also needs a cutoff. I'm not too worried about this second cutoff, since we can just say something like 80%, and reanalyze subclades - the important thing is the entropy of the position. \n",
    "\n",
    "## Revised workflow\n",
    "1. Generate multi-tiered phylogenetic tree\n",
    "2. Align and filter tRNAs from each clade\n",
    "3. **Find positions under entropy cutoff**\n",
    "4. Resolve nucleotides corresponding to positions, if possible.\n",
    "5. Resolve nucleotides for subclades.\n",
    "\n",
    "In this notebook, I'll be performing this analysis for eukaryotic leucine tRNAs in order to find an appropriate entropy cutoff. Leucine is a good system since it is well studied, and has shared as well as differing IDEs between yeast and human. \n",
    "\n",
    "Later, we will want to look at identity element \"suites\" - what combinations of identity elements can be persistently found throughout a clade? This would be able to match the brain-specific arginine across species.\n",
    "\n",
    "### Yeast/human leucine IDEs\n",
    "Shared     |Yeast    |Human           |\n",
    ":--------|---------|-----------------:\n",
    "A73      |G35, G37 |C3:G70, A4:U69, G5:C68, C20a\n",
    "\n",
    "We have a couple of options for determining entropy.\n",
    "\n",
    "First, we can parse the alignment itself. For example, there are 925 As, 4 Us, and 21 Gs at position 73. There are also 2 Ns and 2 '-'s, which we don't count. Average entropy here is\n",
    "\n",
    "$$-\\sum^np_i\\log_2{p_i}$$"
   ]
  },
  {
   "cell_type": "code",
   "execution_count": 2,
   "metadata": {
    "collapsed": false
   },
   "outputs": [
    {
     "data": {
      "text/plain": [
       "0.19225738255857028"
      ]
     },
     "execution_count": 2,
     "metadata": {},
     "output_type": "execute_result"
    }
   ],
   "source": [
    "from math import log2\n",
    "-925/950*log2(925/950) - 4/950*log2(4/950) - 21/950*log2(21/950)"
   ]
  },
  {
   "cell_type": "markdown",
   "metadata": {},
   "source": [
    "Now if we look at position 69, this is the entropy you'd see from a typical position."
   ]
  },
  {
   "cell_type": "code",
   "execution_count": 3,
   "metadata": {
    "collapsed": false
   },
   "outputs": [
    {
     "data": {
      "text/plain": [
       "935"
      ]
     },
     "execution_count": 3,
     "metadata": {},
     "output_type": "execute_result"
    }
   ],
   "source": [
    "# 184 As, 36 Gs, 426 Us, 289 Cs\n",
    "184+36+426+289"
   ]
  },
  {
   "cell_type": "code",
   "execution_count": 4,
   "metadata": {
    "collapsed": false
   },
   "outputs": [
    {
     "data": {
      "text/plain": [
       "1.6827342976356228"
      ]
     },
     "execution_count": 4,
     "metadata": {},
     "output_type": "execute_result"
    }
   ],
   "source": [
    "def entropy(n, total): return -n/total*log2(n/total)\n",
    "entropy(184, 935) + entropy(36, 935) + entropy(426, 935) + entropy(289, 935)"
   ]
  },
  {
   "cell_type": "markdown",
   "metadata": {},
   "source": [
    "I thought about building a covariance model and parse the file to get emission log-odds bit scores for each possible nucleotide or base pair. This is different from what I calculated above: odds and probability are different. \n",
    "\n",
    "It's not clear how to consolidate log-odds into single positional scores. Range is loosely correlated with conservation for strong IDEs, but what if we had a subclade mutate the base at that position? Then for the position, we'd see a smaller range of bit scores, and it would be indistinguishable from variation. Overall, not being able to resolve multiple log odds scores into a scalar is probably because the range of possible odds is [0, $\\infty$]. Unlike probabilities, which sum to 1, odds are unbounded. What we could do is recover the probabilities by taking the root inverse log. Then we can aggregate them using the above process.\n",
    "\n",
    "But that would take too long, and we're trying to get a move on here. We'll stick with the former, finding positions with minimum entropy. "
   ]
  },
  {
   "cell_type": "markdown",
   "metadata": {},
   "source": [
    "## Parse alignment into positions\n",
    "\n",
    "We'll come back to building a phylogenetic tree later. First, we'll get the entropy at each position and see if there's an easy cutoff. We use the R2 alignment used to build the leucine-specific CM, and also just the fungal tRNAs. Again, we use `--matchonly` to get the proper numbering, and ignore potential insertions/deletions."
   ]
  },
  {
   "cell_type": "code",
   "execution_count": 5,
   "metadata": {
    "collapsed": false
   },
   "outputs": [],
   "source": [
    "%%bash\n",
    "cp ../gtrnadb-fungi/fungi-Leu-tRNAs.sto .\n",
    "cp ../../tRNAscan/models/1.6/fasta/euk-Leu-r2-031616.fa euk-Leu.fa\n",
    "cmalign -g --notrunc --matchonly -o euk-Leu.sto /projects/lowelab/users/blin/tRNAscan/models/current/TRNAinf-euk-Leu.cm euk-Leu.fa > /dev/null"
   ]
  },
  {
   "cell_type": "markdown",
   "metadata": {},
   "source": [
    "We need to dynamically determine what the secondary structure looks like. I use a combination of Sprinzl numbering and region numbering to track positions, since there are some weird tRNAs out there (variable loop, long D arm/D loop, G0, etc).\n",
    "\n",
    "This section has been moved to `../tRNA_position.py`."
   ]
  },
  {
   "cell_type": "code",
   "execution_count": 89,
   "metadata": {
    "collapsed": false
   },
   "outputs": [],
   "source": [
    "from tRNA_position import get_positions\n",
    "\n",
    "position = get_positions('euk-Leu.sto')"
   ]
  },
  {
   "cell_type": "markdown",
   "metadata": {
    "collapsed": false
   },
   "source": [
    "## Determine entropy cutoff\n",
    "\n",
    "Okay, all the data is processed and in place. Let's convert it into a data frame and plot it."
   ]
  },
  {
   "cell_type": "code",
   "execution_count": 51,
   "metadata": {
    "collapsed": false
   },
   "outputs": [
    {
     "data": {
      "text/plain": [
       "<matplotlib.axes._subplots.AxesSubplot at 0x7f8b19404e80>"
      ]
     },
     "execution_count": 51,
     "metadata": {},
     "output_type": "execute_result"
    },
    {
     "data": {
      "image/png": "[encoded data removed]",
      "text/plain": [
       "<matplotlib.figure.Figure at 0x7f8b194c1cc0>"
      ]
     },
     "metadata": {},
     "output_type": "display_data"
    }
   ],
   "source": [
    "df = pd.concat(pd.DataFrame({'Position': [position.position], \n",
    "                              'Entropy': [position.entropy]}) for position in positions)\n",
    "\n",
    "df.plot(kind='bar', x='Position')"
   ]
  },
  {
   "cell_type": "markdown",
   "metadata": {
    "collapsed": true
   },
   "source": [
    "The identity elements in question are listed here again:\n",
    "\n",
    "Numbering  | Shared     |Yeast    |Human           |\n",
    ":--------|---------|---------|---------------------------:\n",
    " Sprinzl |A73      |G35, G37 |C3:G70, A4:U69, G5:C68, C20a\n",
    " Isotype-specific | 84   | 35, 37   | 3:81, 4:80, 5:79, none\n",
    "\n",
    "\n",
    "Unfortunately, we can't see data for the human C20a insertion. \n",
    "\n",
    "Let's run this analysis for fungi only, and also for all mammals.\n"
   ]
  },
  {
   "cell_type": "code",
   "execution_count": 56,
   "metadata": {
    "collapsed": true
   },
   "outputs": [],
   "source": [
    "%%bash\n",
    "grep \"Mammalia\" /projects/lowelab/users/blin/identity/gtrnadb-fungi/genome_table_20151017.txt | egrep -v \"bosTau7|hg38|mm9\" > gtrnadb-mammalia.txt"
   ]
  },
  {
   "cell_type": "code",
   "execution_count": 76,
   "metadata": {
    "collapsed": false
   },
   "outputs": [],
   "source": [
    "def create_mammalian_alignment():\n",
    "  import subprocess\n",
    "  from Bio import SeqIO\n",
    "  species = []\n",
    "  for line in open('gtrnadb-mammalia.txt'):\n",
    "      tabs = line.strip().split('\\t')\n",
    "      if len(tabs[1]) > 2: species.append(tabs[1])\n",
    "  leu_fhandle = open('mam-Leu-tRNAs.fa', 'w')\n",
    "  for seq in SeqIO.parse('euk-Leu-r2-031616.fa', 'fasta'):\n",
    "      if (\"Leu\" in seq.name) and any(s in seq.name for s in species):\n",
    "          SeqIO.write(seq, leu_fhandle, 'fasta')\n",
    "  leu_fhandle.close()\n",
    "\n",
    "  subprocess.call('cmalign -g --notrunc --matchonly -o mam-Leu-tRNAs.sto /projects/lowelab/users/blin/tRNAscan/models/current/TRNAinf-euk-Leu.cm mam-Leu-tRNAs.fa', shell = True)\n",
    "\n",
    "create_mammalian_alignment()\n",
    "mam_positions = get_positions('mam-Leu-tRNAs.sto')"
   ]
  },
  {
   "cell_type": "code",
   "execution_count": 77,
   "metadata": {
    "collapsed": false,
    "scrolled": false
   },
   "outputs": [
    {
     "data": {
      "text/plain": [
       "<matplotlib.axes._subplots.AxesSubplot at 0x7f8b1934da90>"
      ]
     },
     "execution_count": 77,
     "metadata": {},
     "output_type": "execute_result"
    },
    {
     "data": {
      "image/png": "[encoded data removed]",
      "text/plain": [
       "<matplotlib.figure.Figure at 0x7f8b18c8ef60>"
      ]
     },
     "metadata": {},
     "output_type": "display_data"
    }
   ],
   "source": [
    "df = pd.concat(pd.DataFrame({'Position': [position.position], \n",
    "                              'Entropy': [position.entropy]}) for position in mam_positions)\n",
    "\n",
    "df.plot(kind='bar', x='Position')"
   ]
  },
  {
   "cell_type": "code",
   "execution_count": 85,
   "metadata": {
    "collapsed": false,
    "scrolled": true
   },
   "outputs": [
    {
     "name": "stdout",
     "output_type": "stream",
     "text": [
      "Position 1:83 (acceptor #1)\n",
      "G:C:580, -:C:1, A:C:4, G:N:1, C:C:1, A:U:142, G:U:5, -:-:1\n",
      "Entropy: 0.8695990742097626\n",
      "\n",
      "Position 2:82 (acceptor #2)\n",
      "U:G:3, G:C:239, C:G:142, G:A:1, G:N:1, C:A:1, A:U:2, A:A:1, U:A:344, -:-:1\n",
      "Entropy: 1.618251839456041\n",
      "\n",
      "Position 3:81 (acceptor #3)\n",
      "U:G:242, G:G:1, C:G:483, C:A:2, A:G:1, -:A:1, U:A:4, -:-:1\n",
      "Entropy: 1.0416893602704882\n",
      "\n",
      "Position 4:80 (acceptor #4)\n",
      "G:C:61, C:U:1, A:C:4, -:-:1, A:U:664, G:U:2, U:U:2\n",
      "Entropy: 0.5436396778112177\n",
      "\n",
      "Position 5:79 (acceptor #5)\n",
      "G:A:2, G:C:700, A:U:2, A:C:3, G:U:28\n",
      "Entropy: 0.32539825795174515\n",
      "\n",
      "Position 6:78 (acceptor #6)\n",
      "U:G:18, G:C:203, C:G:188, U:A:34, C:A:1, A:G:1, -:U:1, A:U:35, G:U:253, U:U:1\n",
      "Entropy: 2.142579267039109\n",
      "\n",
      "Position 7:77 (acceptor #7)\n",
      "G:G:1, G:C:238, A:C:1, C:C:1, A:U:487, A:A:1, G:U:5, U:U:1\n",
      "Entropy: 1.0339757653348451\n",
      "\n",
      "Position 8 (single #1)\n",
      "U:733, G:1, C:1\n",
      "Entropy: 0.029829471693680287\n",
      "\n",
      "Position 9 (single #2)\n",
      "U:1, A:2, G:732\n",
      "Entropy: 0.04201910418097976\n",
      "\n",
      "Position 10:26 (dstem #1)\n",
      "G:A:2, G:C:711, G:G:1, A:C:2, U:C:1, G:U:18\n",
      "Entropy: 0.24967739481846696\n",
      "\n",
      "Position 11:25 (dstem #2)\n",
      "U:G:2, C:U:1, C:G:731, C:A:1\n",
      "Entropy: 0.056927143613207457\n",
      "\n",
      "Position 12:24 (dstem #3)\n",
      "U:G:13, A:G:1, C:G:720, U:A:1\n",
      "Entropy: 0.15800867687583564\n",
      "\n",
      "Position 13:23 (dstem #4)\n",
      "U:A:2, G:A:715, A:A:10, G:U:1, C:A:7\n",
      "Entropy: 0.2231550532689113\n",
      "\n",
      "Position 14 (dloop #1)\n",
      "U:1, A:734\n",
      "Entropy: 0.014916072938804028\n",
      "\n",
      "Position 15 (dloop #2)\n",
      "A:2, G:733\n",
      "Entropy: 0.027108383258306137\n",
      "\n",
      "Position 16 (dloop #3)\n",
      "U:389, A:3, G:3, C:340\n",
      "Entropy: 1.0651197030015849\n",
      "\n",
      "Position 17 (dloop #4)\n",
      "U:1, A:10, G:724\n",
      "Entropy: 0.1187328163262923\n",
      "\n",
      "Position 18 (dloop #5)\n",
      "A:1, G:734\n",
      "Entropy: 0.014916072938804028\n",
      "\n",
      "Position 19 (dloop #6)\n",
      "U:733, C:2\n",
      "Entropy: 0.027108383258306137\n",
      "\n",
      "Position 20 (dloop #7)\n",
      "U:8, G:2, C:583, -:142\n",
      "Entropy: 0.8175319368046052\n",
      "\n",
      "Position 21 (dloop #8)\n",
      "U:721, A:4, C:8, -:2\n",
      "Entropy: 0.16232182897184513\n",
      "\n",
      "Position 22 (dloop #9)\n",
      "U:2, A:732, G:1\n",
      "Entropy: 0.04201910418097976\n",
      "\n",
      "Position 27 (single #1)\n",
      "U:7, A:21, G:707\n",
      "Entropy: 0.26439554376045843\n",
      "\n",
      "Position 28:44 (acstem #1)\n",
      "U:G:2, G:G:2, C:G:584, C:A:3, C:-:1, A:A:1, U:A:141, U:U:1\n",
      "Entropy: 0.8382138130892731\n",
      "\n",
      "Position 29:43 (acstem #2)\n",
      "G:A:1, C:G:197, U:G:3, C:A:2, A:U:2, U:A:530\n",
      "Entropy: 0.9410306068749278\n",
      "\n",
      "Position 30:42 (acstem #3)\n",
      "G:C:531, A:U:197, A:C:2, G:U:4, G:-:1\n",
      "Entropy: 0.9250591561728264\n",
      "\n",
      "Position 31:41 (acstem #4)\n",
      "G:A:1, U:G:7, G:C:584, C:U:1, C:G:136, C:A:3, C:C:1, U:A:2\n",
      "Entropy: 0.8724047108087023\n",
      "\n",
      "Position 32:40 (acstem #5)\n",
      "A:G:1, G:C:144, A:U:585, G:U:3, A:C:2\n",
      "Entropy: 0.7913754272403866\n",
      "\n",
      "Position 33 (acloop #1)\n",
      "U:395, C:340\n",
      "Entropy: 0.9959570229927301\n",
      "\n",
      "Position 34 (acloop #2)\n",
      "U:734, C:1\n",
      "Entropy: 0.014916072938804028\n",
      "\n",
      "Position 35 (acloop #3)\n",
      "N:735\n",
      "Entropy: 0.0\n",
      "\n",
      "Position 36 (acloop #4)\n",
      "N:735\n",
      "Entropy: 0.0\n",
      "\n",
      "Position 37 (acloop #5)\n",
      "N:735\n",
      "Entropy: 0.0\n",
      "\n",
      "Position 38 (acloop #6)\n",
      "A:3, G:731, C:1\n",
      "Entropy: 0.05317899735176057\n",
      "\n",
      "Position 39 (acloop #7)\n",
      "U:351, A:145, G:1, C:238\n",
      "Entropy: 1.5108884668715403\n",
      "\n",
      "Position 45 (single #1)\n",
      "U:730, G:1, C:4\n",
      "Entropy: 0.06366923258061506\n",
      "\n",
      "Position 46:57 (vstem #1)\n",
      "U:G:2, A:G:1, G:C:122, C:G:584, C:-:3, -:C:1, C:U:1, A:U:6, G:U:14, -:-:1\n",
      "Entropy: 0.9665322370245444\n",
      "\n",
      "Position 47:56 (vstem #2)\n",
      "U:G:103, G:C:141, C:G:12, U:C:1, C:-:1, -:C:1, A:U:41, A:A:2, U:A:432, -:-:1\n",
      "Entropy: 1.7091148912601688\n",
      "\n",
      "Position 48:55 (vstem #3)\n",
      "U:G:3, C:U:1, G:C:39, C:G:543, -:G:2, C:-:1, -:C:1, A:U:100, G:U:1, U:A:41, -:-:3\n",
      "Entropy: 1.3110743617855816\n",
      "\n",
      "Position 49:54 (vstem #4)\n",
      "U:G:15, C:U:1, C:G:447, U:U:1, U:A:32, -:-:239\n",
      "Entropy: 1.3007064363081215\n",
      "\n",
      "Position 50 (vloop #1)\n",
      "U:300, A:96, G:180, C:138, -:21\n",
      "Entropy: 2.007926146565797\n",
      "\n",
      "Position 51 (vloop #2)\n",
      "U:330, A:126, G:58, C:209, -:12\n",
      "Entropy: 1.8567785249032285\n",
      "\n",
      "Position 52 (vloop #3)\n",
      "U:181, A:246, G:63, C:231, -:14\n",
      "Entropy: 1.9638367573673683\n",
      "\n",
      "Position 53 (vloop #4)\n",
      "U:308, A:6, G:231, C:2, -:188\n",
      "Entropy: 1.633577633981058\n",
      "\n",
      "Position 58 (single #1)\n",
      "U:14, A:22, G:697, C:2\n",
      "Entropy: 0.35617756613309015\n",
      "\n",
      "Position 59 (single #2)\n",
      "U:18, C:717\n",
      "Entropy: 0.16595654262817933\n",
      "\n",
      "Position 60:76 (tpcstem #1)\n",
      "G:C:711, G:G:1, -:C:1, A:C:11, A:U:1, A:A:1, G:U:9\n",
      "Entropy: 0.26665096925107995\n",
      "\n",
      "Position 61:75 (tpcstem #2)\n",
      "U:C:2, C:G:1, U:A:731, C:A:1\n",
      "Entropy: 0.056927143613207457\n",
      "\n",
      "Position 62:74 (tpcstem #3)\n",
      "G:C:732, G:U:1, A:C:2\n",
      "Entropy: 0.04201910418097977\n",
      "\n",
      "Position 63:73 (tpcstem #4)\n",
      "G:U:2, U:C:1, G:C:730, A:C:1, C:C:1\n",
      "Entropy: 0.07183249788673751\n",
      "\n",
      "Position 64:72 (tpcstem #5)\n",
      "C:C:1, U:C:1, G:C:729, A:U:1, A:C:3\n",
      "Entropy: 0.08298701706182113\n",
      "\n",
      "Position 65 (tpcloop #1)\n",
      "U:735\n",
      "Entropy: 0.0\n",
      "\n",
      "Position 66 (tpcloop #2)\n",
      "U:735\n",
      "Entropy: 0.0\n",
      "\n",
      "Position 67 (tpcloop #3)\n",
      "U:15, G:1, C:719\n",
      "Entropy: 0.15860174245844388\n",
      "\n",
      "Position 68 (tpcloop #4)\n",
      "A:35, G:698, C:2\n",
      "Entropy: 0.30311200776806546\n",
      "\n",
      "Position 69 (tpcloop #5)\n",
      "A:733, G:1, C:1\n",
      "Entropy: 0.029829471693680287\n",
      "\n",
      "Position 70 (tpcloop #6)\n",
      "A:711, G:24\n",
      "Entropy: 0.2075271227213974\n",
      "\n",
      "Position 71 (tpcloop #7)\n",
      "U:589, A:1, C:145\n",
      "Entropy: 0.7309368338892956\n",
      "\n",
      "Position 84 (single #1)\n",
      "N:1, A:730, G:2, C:1, -:1\n",
      "Entropy: 0.07183249788673751\n",
      "\n"
     ]
    }
   ],
   "source": [
    "for position in mam_positions: \n",
    "  print(position)\n",
    "  print(', '.join('{}:{}'.format(key, value) for key, value in position.counts.items()))\n",
    "  print('Entropy: {}\\n'.format(position.entropy))"
   ]
  },
  {
   "cell_type": "code",
   "execution_count": 88,
   "metadata": {
    "collapsed": false
   },
   "outputs": [
    {
     "data": {
      "text/plain": [
       "0.5625347617839733"
      ]
     },
     "execution_count": 88,
     "metadata": {},
     "output_type": "execute_result"
    }
   ],
   "source": [
    "mean(position.entropy for position in mam_positions) # mean entropy"
   ]
  },
  {
   "cell_type": "markdown",
   "metadata": {},
   "source": [
    "We have a problem.\n",
    "\n",
    "Some cases are very clearly identity elements. For example:\n",
    "\n",
    "```\n",
    "Position 84 (single #1)\n",
    "N:1, A:730, G:2, C:1, -:1\n",
    "Entropy: 0.07183249788673751\n",
    "```\n",
    "\n",
    "There is universal agreement, aside from a few exceptions (those are worth looking into later...!!!). But what about positions like this?\n",
    "\n",
    "```\n",
    "Position 16 (dloop #3)\n",
    "U:389, A:3, G:3, C:340\n",
    "Entropy: 1.0651197030015849\n",
    "```\n",
    "\n",
    "This has a much higher entropy, higher than the average entropy. So maybe entropy isn't a good measure for position. It becomes painfully clear with base pairs. For example, the known IDE at 3:70:\n",
    "\n",
    "```\n",
    "Position 3:81 (acceptor #3)\n",
    "U:G:242, G:G:1, C:G:483, C:A:2, A:G:1, -:A:1, U:A:4, -:-:1\n",
    "Entropy: 1.0416893602704882\n",
    "```\n",
    "\n",
    "Looking at the alignments, it seems like U:G and C:G are evenly distributed throughout all mammals. But it wouldn't get picked up by a pure entropy cutoff. "
   ]
  },
  {
   "cell_type": "markdown",
   "metadata": {},
   "source": [
    "## Frequency cutoffs\n",
    "\n",
    "Instead of an entropy cutoff, I can use a frequency cutoff instead. This would encompass all of the _negative_ identity elements, too. Identity elements are defined as existing in at least 90% of tRNAs.\n",
    "\n",
    "Here's a table of the possible positions, including base pairs, aside from ACGTN. \"Rank\" refers to the precedence of the rule - for example, a position that has 91% As and 9% Us will be determined to be an \"A\", and not \"W\". More specific rules are evaluated first, in a greedy fashion.\n",
    "\n",
    "Base pairing rules involving mismatches are kept to a minimum. The assumption is that a position inside a stem is typically supposed to be a base pair. There are instances of steric hindrance due to mismatches; however, those are not well known and I'd like to avoid over-annotating lesser known phenomena.\n",
    "\n",
    "Symbol   |   Bases  | Rule  | Rank\n",
    ":--------|----------|-------|------\n",
    "R | G A | Purine | 2\n",
    "Y | U C | Pyrimidine | 2\n",
    "K | G U | Keto | 2\n",
    "M | A C | Amino | 2\n",
    "S | G C | Strong | 2\n",
    "W | A U | Weak | 2\n",
    "B | C G U | not A | 3\n",
    "D | G A U | not C | 3\n",
    "H | A C U | not G | 3\n",
    "V | G C A | not U | 3\n",
    "R:Y | G:C A:U | Purine-Pyrimidine | 2\n",
    "Y:R | C:G U:A | Pyrimidine-Purine | 2\n",
    "S:S | G:C C:G | Strong | 2\n",
    "W:W | A:U U:A | Weak | 2\n",
    "W:O | G:U U:G | Wobble | 2\n",
    "B:V | G:C C:G U:A | not A:U | 3\n",
    "V:B | G:C C:G A:U | not U:A | 3\n",
    "D:H | A:U U:A G:C | not C:G | 3\n",
    "H:D | A:U U:A C:G | not G:C | 3\n",
    "W:C | A:U U:A G:C C:G | Watson-Crick | 4\n",
    "G:N | G:C G:U C:G U:G | G | 5\n",
    "U:N | U:G U:A A:U G:U | U | 5\n",
    "C:O | A:U U:A G:C C:G G:U U:G | Canonical pairs | 6\n",
    "Y:Y | U:C C:U U:U C:C | Pyrimidine-pyrimidine mismatch | 7\n",
    "R:R | A:G G:A A:A G:G | Purine-purine mismatch | 7\n",
    "M:M | A:A G:G C:C U:U A:G A:C C:A C:U G:A U:C | Mismatch | 8"
   ]
  },
  {
   "cell_type": "markdown",
   "metadata": {
    "collapsed": true
   },
   "source": [
    "Now, I need to determine the dominant base or base pair at each position. These may not necessarily reflect real identity elements."
   ]
  },
  {
   "cell_type": "code",
   "execution_count": 160,
   "metadata": {
    "collapsed": false
   },
   "outputs": [],
   "source": [
    "def position_generator(positions, threshold=0.95):\n",
    "  for position in positions: # iterate through positions\n",
    "    if position.paired:\n",
    "      combos = [{'A:U': ['A:U'], 'U:A': ['U:A'], 'G:C': ['G:C'], 'C:G': ['C:G'], 'G:U': ['G:U'], 'U:G': ['U:G'], 'A:A': ['A:A'], 'C:C': ['C:C'], 'G:G': ['G:G'], 'U:U': ['U:U'], 'A:G': ['A:G'], 'G:A': ['G:A'], 'A:C': ['A:C'], 'C:A': ['C:A'], 'C:U': ['C:U'], 'U:C': ['U:C']},\n",
    "                {'R:Y': ['G:C', 'A:U'], 'Y:R': ['C:G', 'U:A'], 'S:S': ['G:C', 'C:G'], 'W:W': ['A:U', 'U:A'], 'W:O': ['G:U', 'U:G']},\n",
    "                {'B:V': ['G:C', 'C:G', 'U:A'], 'V:B': ['G:C', 'C:G', 'A:U'], 'D:H': ['A:U', 'U:A', 'G:C'], 'H:D': ['A:U', 'U:A', 'C:G']},\n",
    "                {'W:C': ['A:U', 'U:A', 'G:C', 'C:G']},\n",
    "                {'G:N': ['G:C', 'G:U', 'C:G', 'U:G'], 'U:N': ['U:G', 'U:A', 'A:U', 'G:U']},\n",
    "                {'C:O': ['A:U', 'U:A', 'G:C', 'C:G', 'G:U', 'U:G']},\n",
    "                {'Y:Y': ['U:C', 'C:U', 'U:U', 'C:C'], 'R:R': ['A:G', 'G:A', 'A:A', 'G:G']},\n",
    "                {'M:M': ['A:A', 'G:G', 'C:C', 'U:U', 'A:G', 'A:C', 'C:A', 'C:U', 'G:A', 'U:C']}]\n",
    "    else: \n",
    "      combos = [{'A': ['A'], 'C': ['C'], 'G': ['G'], 'U': ['U']},\n",
    "                {'R': ['A', 'G'], 'Y': ['C', 'U'], 'K': ['G', 'U'], 'M': ['A', 'C'], 'S': ['G', 'C'], 'W': ['A', 'U']},\n",
    "                {'B': ['C', 'G', 'U'], 'D': ['G', 'A', 'U'], 'H': ['A', 'C', 'U'], 'V': ['G', 'C', 'A']}]\n",
    "      # Single base combinations. Three dictionaries, organized by rank.\n",
    "    max_freq = 0\n",
    "    best_symbol = ''\n",
    "    for rank_dict in combos:\n",
    "      # Each dictionary contains symbols (keys) and possible bases or base pairs the symbol resolves to (values).\n",
    "      # Check which symbol has the highest frequency.\n",
    "      for symbol, bases in rank_dict.items():\n",
    "        freq = sum([position.counts[base] for base in bases]) / sum(position.counts.values())\n",
    "        if max_freq < freq:\n",
    "          max_freq = freq\n",
    "          best_symbol = symbol\n",
    "      if max_freq > threshold:\n",
    "        yield position, best_symbol, max_freq\n",
    "        break\n",
    "    if max_freq < threshold:\n",
    "      yield position, best_symbol, max_freq"
   ]
  },
  {
   "cell_type": "code",
   "execution_count": 161,
   "metadata": {
    "collapsed": false
   },
   "outputs": [],
   "source": [
    "fungi_positions = get_positions('fungi-Leu-tRNAs.sto')\n",
    "df = pd.concat(pd.DataFrame({'Position': [position.position], \n",
    "                             'Symbol': [symbol],\n",
    "                             'Frequency': [freq],\n",
    "                             'Clade': 'Mammalia'}) for position, symbol, freq in position_generator(mam_positions))\n",
    "df2 = pd.concat(pd.DataFrame({'Position': [position.position], \n",
    "                              'Symbol': [symbol],\n",
    "                              'Frequency': [freq],\n",
    "                              'Clade': 'Fungi'}) for position, symbol, freq in position_generator(fungi_positions))\n",
    "df = df.append(df2)"
   ]
  },
  {
   "cell_type": "markdown",
   "metadata": {},
   "source": [
    "Now we have a data frame with positions, consensus calls, and their frequency, for mammals and fungi.\n",
    "\n",
    "What positions have a different consensus identity element between mammals and fungi?"
   ]
  },
  {
   "cell_type": "code",
   "execution_count": 163,
   "metadata": {
    "collapsed": false
   },
   "outputs": [
    {
     "name": "stdout",
     "output_type": "stream",
     "text": [
      "      Clade  Frequency Position Symbol\n",
      "0  Mammalia   0.982313     1:83    R:Y\n",
      "0     Fungi   0.981172     1:83    G:C\n",
      "      Clade  Frequency Position Symbol\n",
      "0  Mammalia   0.986395     2:82    B:V\n",
      "0     Fungi   0.989540     2:82    C:O\n",
      "      Clade  Frequency Position Symbol\n",
      "0  Mammalia   0.986395     3:81    G:N\n",
      "0     Fungi   0.970711     3:81    W:C\n",
      "      Clade  Frequency Position Symbol\n",
      "0  Mammalia   0.986395     4:80    R:Y\n",
      "0     Fungi   0.950837     4:80    D:H\n",
      "      Clade  Frequency Position Symbol\n",
      "0  Mammalia   0.952381     5:79    G:C\n",
      "0     Fungi   0.987448     5:79    W:C\n",
      "      Clade  Frequency Position Symbol\n",
      "0  Mammalia   0.994558     6:78    C:O\n",
      "0     Fungi   0.959205     6:78    G:N\n",
      "      Clade  Frequency Position Symbol\n",
      "0  Mammalia   0.986395     7:77    R:Y\n",
      "0     Fungi   0.982218     7:77    W:C\n",
      "      Clade  Frequency Position Symbol\n",
      "0  Mammalia   0.967347    10:26    G:C\n",
      "0     Fungi   0.984310    10:26    D:H\n",
      "      Clade  Frequency Position Symbol\n",
      "0  Mammalia   0.986395    28:44    Y:R\n",
      "0     Fungi   1.000000    28:44    C:O\n",
      "      Clade  Frequency Position Symbol\n",
      "0  Mammalia   0.989116    29:43    Y:R\n",
      "0     Fungi   0.973849    29:43    H:D\n",
      "      Clade  Frequency Position Symbol\n",
      "0  Mammalia   0.990476    30:42    R:Y\n",
      "0     Fungi   0.985356    30:42    W:C\n",
      "      Clade  Frequency Position Symbol\n",
      "0  Mammalia   0.979592    31:41    S:S\n",
      "0     Fungi   1.000000    31:41    G:N\n",
      "      Clade  Frequency Position Symbol\n",
      "0  Mammalia   0.991837    32:40    R:Y\n",
      "0     Fungi   0.964435    32:40    W:C\n",
      "      Clade  Frequency Position Symbol\n",
      "0  Mammalia   0.960544    46:57    S:S\n",
      "0     Fungi   0.973849    46:57    V:B\n",
      "      Clade  Frequency Position Symbol\n",
      "0  Mammalia   0.978231       58      R\n",
      "0     Fungi   0.989540       58      K\n",
      "      Clade  Frequency Position Symbol\n",
      "0  Mammalia   0.967347    60:76    G:C\n",
      "0     Fungi   1.000000    60:76    C:O\n",
      "      Clade  Frequency Position Symbol\n",
      "0  Mammalia   0.994558    61:75    U:A\n",
      "0     Fungi   0.986402    61:75    W:C\n",
      "      Clade  Frequency Position Symbol\n",
      "0  Mammalia   0.993197    63:73    G:C\n",
      "0     Fungi   0.968619    63:73    R:Y\n",
      "      Clade  Frequency Position Symbol\n",
      "0  Mammalia   0.997279       68      R\n",
      "0     Fungi   0.958159       68      G\n",
      "      Clade  Frequency Position Symbol\n",
      "0  Mammalia   0.967347       70      A\n",
      "0     Fungi   0.995816       70      R\n"
     ]
    }
   ],
   "source": [
    "for position in df.Position.unique():\n",
    "  df2 = df.ix[df.Position == position]\n",
    "  if len(df2.Symbol.unique()) > 1 and min(df2.Frequency) > 0.95:\n",
    "    print(df2)"
   ]
  },
  {
   "cell_type": "markdown",
   "metadata": {},
   "source": [
    "I played around with the threshold value, and it seems like differences between mammals and fungi are sensitive to it. A stricter threshold will result in less differences but a higher \"non-specific rate\", or in other words, specific rules (A, G) tend to be edged out by less specific rules (B, D). The converse is true for a lower threshold."
   ]
  },
  {
   "cell_type": "markdown",
   "metadata": {},
   "source": [
    "Are there identity elements that are correlated? Do they tend to appear in \"suites\"?"
   ]
  },
  {
   "cell_type": "code",
   "execution_count": null,
   "metadata": {
    "collapsed": true
   },
   "outputs": [],
   "source": []
  }
 ],
 "metadata": {
  "anaconda-cloud": {},
  "kernelspec": {
   "display_name": "Python [Root]",
   "language": "python",
   "name": "Python [Root]"
  },
  "language_info": {
   "codemirror_mode": {
    "name": "ipython",
    "version": 3
   },
   "file_extension": ".py",
   "mimetype": "text/x-python",
   "name": "python",
   "nbconvert_exporter": "python",
   "pygments_lexer": "ipython3",
   "version": "3.5.2"
  }
 },
 "nbformat": 4,
 "nbformat_minor": 0
}
