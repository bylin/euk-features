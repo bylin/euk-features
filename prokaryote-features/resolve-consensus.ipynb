{
 "cells": [
  {
   "cell_type": "code",
   "execution_count": 5,
   "metadata": {
    "collapsed": true
   },
   "outputs": [],
   "source": [
    "library(ggplot2)\n",
    "library(reshape2)\n",
    "library(RColorBrewer)\n",
    "suppressMessages(library(plyr))\n",
    "suppressMessages(library(dplyr))\n",
    "library(stringr)\n",
    "suppressMessages(library(tidyr))\n",
    "theme_set(theme_bw())\n",
    "library(parallel)\n",
    "library(scales)\n",
    "library(knitr)\n",
    "library(IRdisplay)\n",
    "suppressWarnings(suppressMessages(library(Biostrings)))\n",
    "options(repr.plot.width=7, repr.plot.height=4)\n",
    "isotypes = c('Ala', 'Arg', 'Asn', 'Asp', 'Cys', 'Gln', 'Glu', 'Gly', 'His', 'Ile', 'iMet', 'Leu', 'Lys', 'Met', 'Phe', 'Pro', 'Ser', 'Thr', 'Trp', 'Tyr', 'Val')\n",
    "\n",
    "# includes all paired including 3d\n",
    "#paired_positions = c('X1.72'='1:72', 'X2.71'='2:71', 'X3.70'='3:70', 'X4.69'='4:69', 'X5.68'='5:68', 'X6.67'='6:67', 'X7.66'='7:66', 'X8.14'='*8:14', 'X9.23'='*9:23', 'X10.25'='10:25', 'X10.45'='*10:45', 'X11.24'='11:24', 'X12.23'='12:23', 'X13.22'='13:22', 'X15.48'='*15:48','X18.55'='*18:55', 'X19.56'='*19:56', 'X22.46'='*22:46', 'X26.44'='*26:44', 'X27.43'='27:43', 'X28.42'='28:42', 'X29.41'='29:41', 'X30.40'='30:40', 'X31.39'='31:39', 'X49.65'='49:65', 'X50.64'='50:64', 'X51.63'='51:63', 'X52.62'='52:62', 'X53.61'='53:61', 'X54.58'='*54:58')\n",
    "# filtered version of paired positions\n",
    "paired_positions = c('X1.72'='1:72', 'X2.71'='2:71', 'X3.70'='3:70', 'X4.69'='4:69', 'X5.68'='5:68', 'X6.67'='6:67', 'X7.66'='7:66', 'X8.14'='*8:14', 'X10.25'='10:25', 'X11.24'='11:24', 'X12.23'='12:23', 'X13.22'='13:22', 'X15.48'='*15:48','X18.55'='*18:55', 'X19.56'='*19:56', 'X27.43'='27:43', 'X28.42'='28:42', 'X29.41'='29:41', 'X30.40'='30:40', 'X31.39'='31:39', 'X49.65'='49:65', 'X50.64'='50:64', 'X51.63'='51:63', 'X52.62'='52:62', 'X53.61'='53:61', 'X54.58'='*54:58')\n",
    "paired_identities = c('GC', 'AU', 'UA', 'CG', 'GU', 'UG', 'PurinePyrimidine', 'PyrimidinePurine', 'StrongPair', 'WeakPair', 'AminoKeto', 'KetoAmino', 'Wobble', 'Paired', 'Bulge', 'Mismatched', 'Absent')\n",
    "\n",
    "single_positions = c('X8'='8', 'X9'='9', 'X14'='14', 'X15'='15', 'X16'='16', 'X17'='17', 'X17a'='17a', 'X17b'='17b', 'X18'='18', 'X19'='19', 'X20'='20', 'X20a'='20a', 'X20b'='20b', 'X21'='21', 'X26'='26', 'X32'='32', 'X33'='33', 'X34'='34', 'X35'='35', 'X36'='36', 'X37'='37', 'X38'='38', 'X44'='44', 'X45'='45', 'X46'='46', 'X47'='47', 'X48'='48', 'X54'='54', 'X55'='55', 'X56'='56', 'X57'='57', 'X58'='58', 'X59'='59', 'X60'='60', 'X73'='73')\n",
    "single_identities = c('A', 'C', 'G', 'U', 'Purine', 'Pyrimidine', 'Weak', 'Strong', 'Amino', 'Keto', 'B', 'D', 'H', 'V', 'Absent')\n",
    "\n",
    "colors = c('A'='gray20', 'C'='gray20', 'G'='gray20', 'U'='gray20', 'Absent'='gray20', 'Purine'='gray20', 'Pyrimidine'='gray20', 'Weak'='gray20', 'Strong'='gray20', 'Amino'='gray20', 'Keto'='gray20', 'B'='gray50', 'D'='gray50', 'H'='gray50', 'V'='gray50', 'GC'='gray20', 'AU'='gray20', 'UA'='gray20', 'CG'='gray20', 'GU'='gray20', 'UG'='gray20', 'PurinePyrimidine'='gray20', 'PyrimidinePurine'='gray20', 'StrongPair'='gray20', 'WeakPair'='gray20', 'AminoKeto'='gray20', 'KetoAmino'='gray20', 'Wobble'='gray20', 'Paired'='gray20', 'Bulge'='gray20', 'Mismatched'='gray20')\n",
    "fills = c('A'='#ffd92f', 'C'='#4daf4a', 'G'='#e41a1c', 'U'='#377eb8', 'Purine'='#ff8300', 'Pyrimidine'='#66c2a5', 'Weak'='#b3de69', 'Strong'='#fb72b2', 'Amino'='#c1764a', 'Keto'='#b26cbd', 'B'='#e5c494', 'D'='#ccebd5', 'H'='#ffa79d', 'V'='#a6cdea', 'Absent'='gray60', 'Mismatched'='gray30', 'Paired'='#ffffcc')\n",
    "\n",
    "# simple codes for reviewer #3\n",
    "simple_identities = c('A' = 'A', 'C' = 'C', 'G' = 'G', 'U' = 'U', 'Purine' = 'Purine', 'Pyrimidine' = 'Pyrimidine', \n",
    "                      'Weak' = 'A/U (W) ', 'Strong' = 'G/C (S) ', 'Amino' = 'A/C (M) ', 'Keto' = 'G/U (K) ', \n",
    "                      'B' = 'C/G/U (B) ', 'D' = 'A/G/U (D) ', 'H' = 'A/C/U (H) ', 'V' = 'A/C/G (V) ', 'Absent' = 'Absent')\n",
    "colors = c(colors, 'A/U (W) ' = 'gray20', 'G/C (S) ' = 'gray20', 'A/C (M) ' ='gray20', 'G/U (K) ' = 'gray20', 'C/G/U (B) ' = 'gray50', 'A/G/U (D) ' = 'gray50', 'A/C/U (H) ' = 'gray50', 'A/C/G (V) ' = 'gray50')\n",
    "fills = c(fills, 'A/U (W) ' = '#b3de69', 'G/C (S) ' = '#fb72b2', 'A/C (M) ' ='#c1764a', 'G/U (K) ' = '#b26cbd', 'C/G/U (B) ' = '#e5c494', 'A/G/U (D) ' = '#ccebd5', 'A/C/U (H) ' = '#ffa79d', 'A/C/G (V) ' = '#a6cdea')"
   ]
  },
  {
   "cell_type": "markdown",
   "metadata": {},
   "source": [
    "# Introduction\n",
    "\n",
    "\n",
    "Like in eukaryotes, we need to find the consensus features within bacteria / archaea, and generate heatmaps.\n",
    "\n",
    "# Data wrangling\n",
    "\n",
    "## Data import\n",
    "\n",
    "Rather than work around R's idiosyncracies, I'll set `fMet` as `iMet`. Even if this upsets Patricia, I don't have to spend a couple of days trying to visualize missing isotypes."
   ]
  },
  {
   "cell_type": "code",
   "execution_count": 6,
   "metadata": {
    "collapsed": false
   },
   "outputs": [],
   "source": [
    "identities = read.delim('identities.tsv', sep='\\t', stringsAsFactors=FALSE)\n",
    "identities$restrict = as.logical(identities$restrict)\n",
    "identities = identities %>% filter(!restrict, !(isotype %in% c('SeC', 'Sup'))) %>%\n",
    "  rowwise %>% mutate(isotype = ifelse(isotype == 'fMet', 'iMet', isotype))\n",
    "positions = colnames(identities)[which(str_detect(colnames(identities), \"X\\\\d+\\\\.\\\\d+$\"))]\n",
    "positions = c(positions, 'X8', 'X9', 'X14', 'X15', 'X16', 'X17', 'X17a', 'X18', 'X19', 'X20', 'X20a', 'X20b', 'X21', 'X26', 'X32', 'X33', 'X34', 'X35', 'X36', 'X37', 'X38', 'X44', 'X45', 'X46', 'X47', 'X48', 'X54', 'X55', 'X56', 'X57', 'X58', 'X59', 'X60', 'X73')"
   ]
  },
  {
   "cell_type": "markdown",
   "metadata": {},
   "source": [
    "## Get frequencies\n"
   ]
  },
  {
   "cell_type": "code",
   "execution_count": 7,
   "metadata": {
    "collapsed": false
   },
   "outputs": [],
   "source": [
    "clade_iso_freqs = identities %>%\n",
    "  filter(!restrict) %>%\n",
    "  select(match(c('clade', 'isotype', positions), colnames(identities))) %>%\n",
    "  gather(positions, bases, -clade, -isotype) %>%\n",
    "  group_by(clade, isotype, positions, bases) %>%\n",
    "  tally %>%\n",
    "  group_by(clade, isotype, positions) %>%\n",
    "  summarize(A = sum(n[bases == \"A\"]),\n",
    "            C = sum(n[bases == \"C\"]),\n",
    "            G = sum(n[bases == \"G\"]),\n",
    "            U = sum(n[bases == \"U\"]),\n",
    "            GC = sum(n[bases == \"G:C\"]),\n",
    "            AU = sum(n[bases == \"A:U\"]),\n",
    "            UA = sum(n[bases == \"U:A\"]),\n",
    "            CG = sum(n[bases == \"C:G\"]),\n",
    "            GU = sum(n[bases == \"G:U\"]),\n",
    "            UG = sum(n[bases == \"U:G\"]),\n",
    "            Paired = sum(n[bases %in% c(\"A:U\", \"U:A\", \"C:G\", \"G:C\", \"G:U\", \"U:G\")]),\n",
    "            Absent = sum(n[bases %in% c(\"-\", \".\", \"-:-\")]),\n",
    "            Bulge = sum(n[bases %in% c(\"A:-\", \"U:-\", \"C:-\", \"G:-\", \"-:A\", \"-:G\", \"-:C\", \"-:U\")]),\n",
    "            Mismatched = sum(n[bases %in% c(\"A:A\", \"G:G\", \"C:C\", \"U:U\", \"A:G\", \"A:C\", \"C:A\", \"C:U\", \"G:A\", \"U:C\")]),\n",
    "            Purine = sum(n[(bases %in% c(\"A\", \"G\")) & (n / sum(n) >= 0.05)]),\n",
    "            Pyrimidine = sum(n[(bases %in% c(\"C\", \"U\")) & (n / sum(n) >= 0.05)]),\n",
    "            Weak = sum(n[(bases %in% c(\"A\", \"U\")) & (n / sum(n) >= 0.05)]),\n",
    "            Strong = sum(n[(bases %in% c(\"G\", \"C\")) & (n / sum(n) >= 0.05)]),\n",
    "            Amino = sum(n[(bases %in% c(\"A\", \"C\")) & (n / sum(n) >= 0.05)]),\n",
    "            Keto = sum(n[(bases %in% c(\"G\", \"U\")) & (n / sum(n) >= 0.05)]),\n",
    "            B = sum(n[(bases %in% c(\"C\", \"G\", \"U\")) & (n / sum(n) >= 0.05)]),\n",
    "            D = sum(n[(bases %in% c(\"A\", \"G\", \"U\")) & (n / sum(n) >= 0.05)]),\n",
    "            H = sum(n[(bases %in% c(\"A\", \"C\", \"U\")) & (n / sum(n) >= 0.05)]),\n",
    "            V = sum(n[(bases %in% c(\"A\", \"C\", \"G\")) & (n / sum(n) >= 0.05)]),\n",
    "            D = sum(n[(bases %in% c(\"A\", \"G\", \"U\")) & (n / sum(n) >= 0.05)]),\n",
    "            PurinePyrimidine = sum(n[(bases %in% c(\"A:U\", \"G:C\")) & (n / sum(n) >= 0.05)]),\n",
    "            PyrimidinePurine = sum(n[(bases %in% c(\"U:A\", \"C:G\")) & (n / sum(n) >= 0.05)]),\n",
    "            StrongPair = sum(n[(bases %in% c(\"G:C\", \"C:G\")) & (n / sum(n) >= 0.05)]),\n",
    "            WeakPair = sum(n[(bases %in% c(\"A:U\", \"U:A\")) & (n / sum(n) >= 0.05)]),\n",
    "            AminoKeto = sum(n[(bases %in% c('AU', 'CG', 'AminoKeto')) & (n / sum(n) >= 0.05)]),\n",
    "            KetoAmino = sum(n[(bases %in% c('UA', 'GC', 'KetoAmino')) & (n / sum(n) >= 0.05)]),\n",
    "            Wobble = sum(n[(bases %in% c(\"G:U\", \"U:G\")) & (n / sum(n) >= 0.05)])) %>%\n",
    "  mutate(clade_iso_pos_total = A + C + G + U + Paired + Absent + Bulge + Mismatched) %>%\n",
    "  gather(feature, n, -clade, -isotype, -positions, -clade_iso_pos_total) %>%\n",
    "  mutate(freq = n/clade_iso_pos_total)\n",
    "\n",
    "code_groups = c('A'=1, 'C'=1, 'G'=1, 'U'=1, 'Absent'=1, \n",
    "                'GC'=1, 'AU'=1, 'UA'=1, 'CG'=1, 'GU'=1, 'UG'=1,\n",
    "                'Purine'=2, 'Pyrimidine'=2,\n",
    "                'Weak'=3, 'Strong'=3, 'Amino'=3, 'Keto'=3,\n",
    "                'B'=4, 'D'=4, 'H'=4, 'V'=4,\n",
    "                'StrongPair'=2, 'WeakPair'=2, 'Wobble'=2,\n",
    "                'PurinePyrimidine'=3, 'PyrimidinePurine'=3, 'AminoKeto'=3, 'KetoAmino'=3,\n",
    "                'Paired'=4, 'Mismatched'=4, 'Bulge'=4)"
   ]
  },
  {
   "cell_type": "code",
   "execution_count": 8,
   "metadata": {
    "collapsed": false
   },
   "outputs": [],
   "source": [
    "# remove duplicates\n",
    "best_freqs = clade_iso_freqs %>%\n",
    "  filter(freq > 0.9) %>%\n",
    "  group_by(clade, isotype, positions) %>%\n",
    "  arrange(code_groups[feature], desc(freq)) %>%\n",
    "  filter(row_number(positions) == 1)"
   ]
  },
  {
   "cell_type": "markdown",
   "metadata": {},
   "source": [
    "# Consensus sequence features"
   ]
  },
  {
   "cell_type": "code",
   "execution_count": 11,
   "metadata": {
    "collapsed": true
   },
   "outputs": [],
   "source": [
    "get_consensus_feature = function(position, codes) {\n",
    "  position = unique(position)\n",
    "  best_codes = resolve_code(codes) # returns a vector of all possible combinations of bases. Note that this is not limited to the basic combinations given by the codes variable.\n",
    "  if (length(position) != 1) stop(\"Multiple positions passed to function\")\n",
    "  if (length(codes) != 210) return(\"N/A\") # make sure that each isotype/clade is represented\n",
    "  if (length(best_codes) == 0) return(\"N/A\")\n",
    "  codes = list(A=\"A\", C=\"C\", G=\"G\", U=\"U\", Absent=c(\"-\", \".\", \"-:-\"), Purine=c(\"A\", \"G\"), Pyrimidine=c(\"C\", \"U\"), Weak=c(\"A\", \"U\"), Strong=c(\"G\", \"C\"), Amino=c(\"A\", \"C\"), Keto=c(\"G\", \"U\"), B=c(\"C\", \"G\", \"U\"), D=c(\"A\", \"G\", \"U\"), H=c(\"A\", \"C\", \"U\"), V=c(\"A\", \"C\", \"G\"), D=c(\"A\", \"G\", \"U\"), GC=\"G:C\", AU=\"A:U\", UA=\"U:A\", CG=\"C:G\", GU=\"G:U\", UG= \"U:G\", PurinePyrimidine=c(\"A:U\", \"G:C\"), PyrimidinePurine=c(\"U:A\", \"C:G\"), AminoKeto=c(\"A:U\", \"C:G\"), KetoAmino=c(\"U:A\", \"G:C\"), StrongPair=c(\"G:C\", \"C:G\"), WeakPair=c(\"A:U\", \"U:A\"), Wobble=c(\"G:U\", \"U:G\"), Paired=c(\"A:U\", \"U:A\", \"C:G\", \"G:C\", \"G:U\", \"U:G\"), Bulge=c(\"A:-\", \"U:-\", \"C:-\", \"G:-\", \"-:A\", \"-:G\", \"-:C\", \"-:U\"), Mismatched=c(\"A:A\", \"G:G\", \"C:C\", \"U:U\", \"A:G\", \"A:C\", \"C:A\", \"C:U\", \"G:A\", \"U:C\"))   # for each possible code, check each species\n",
    "  # for each possible code, check each species\n",
    "  # this ensures that we consider other IDEs if the most specific one fails the species check. For example, if \"Purine\" fails, we also consider \"V\"\n",
    "  species_check = sapply(best_codes, function(code) {\n",
    "    codes_str = paste0(\"c('\", paste0(codes[[code]], collapse=\"', '\"), \"')\")\n",
    "    df = identities %>%\n",
    "           select_('species', 'isotype', position) %>%\n",
    "           group_by_('species', 'isotype') %>% \n",
    "           summarize_(match = paste0(\"sum(\", position, \" %in% \", codes_str, \")\"),\n",
    "                      miss = paste0(\"sum(!(\", position, \" %in% \", codes_str, \"))\")) %>%\n",
    "           mutate(ubiquitous = (match / (match + miss)) > 0.1)\n",
    "    all(df$ubiquitous)\n",
    "  })\n",
    "  ide = names(species_check[species_check])[1]\n",
    "  return(ifelse(is.na(ide), \"N/A\", ide))\n",
    "}\n",
    "\n",
    "resolve_code = function(codes) {\n",
    "  codes = unique(codes)\n",
    "  x = c(A = all(codes %in% 'A'),\n",
    "        C = all(codes %in% 'C'),\n",
    "        G = all(codes %in% 'G'),\n",
    "        U = all(codes %in% 'U'),\n",
    "        Absent = all(codes %in% 'Absent'),\n",
    "        Purine = all(codes %in% c('A', 'G', 'Purine')),\n",
    "        Pyrimidine = all(codes %in% c('C', 'U', 'Pyrimidine')),\n",
    "        Weak = all(codes %in% c('A', 'U', 'Weak')),\n",
    "        Strong = all(codes %in% c('G', 'C', 'Strong')),\n",
    "        Amino = all(codes %in% c('A', 'C', 'Amino')),\n",
    "        Keto = all(codes %in% c('G', 'U', 'Keto')),\n",
    "        B = all(codes %in% c('C', 'G', 'U', 'B', 'Strong', 'Pyrimidine', 'Keto')),\n",
    "        D = all(codes %in% c('A', 'G', 'U', 'D', 'Purine', 'Weak', 'Keto')),\n",
    "        H = all(codes %in% c('A', 'C', 'U', 'H', 'Amino', 'Weak', 'Pyrimidine')),\n",
    "        V = all(codes %in% c('A', 'C', 'G', 'V', 'Amino', 'Purine', 'Strong')),\n",
    "        GC = all(codes %in% 'GC'),\n",
    "        AU = all(codes %in% 'AU'),\n",
    "        UA = all(codes %in% 'UA'),\n",
    "        CG = all(codes %in% 'CG'),\n",
    "        GU = all(codes %in% 'GU'),\n",
    "        UG = all(codes %in% 'UG'),\n",
    "        PurinePyrimidine = all(codes %in% c('AU', 'GC', 'PurinePyrimidine')),\n",
    "        PyrimidinePurine = all(codes %in% c('UA', 'CG', 'PyrimidinePurine')),\n",
    "        StrongPair = all(codes %in% c('GC', 'CG', 'StrongPair')),\n",
    "        WeakPair = all(codes %in% c('AU', 'UA', 'WeakPair')),\n",
    "        AminoKeto = all(codes %in% c('AU', 'CG', 'AminoKeto')),\n",
    "        KetoAmino = all(codes %in% c('UA', 'GC', 'KetoAmino')),\n",
    "        Wobble = all(codes %in% c('GU', 'UG', 'Wobble')),\n",
    "        Paired = all(codes %in% c('AU', 'UA', 'CG', 'GC', 'GU', 'UG', 'Paired', 'PurinePyrimidine', 'PyrimidinePurine', 'StrongPair', 'WeakPair', 'AminoKeto', 'KetoAmino', 'Wobble')),\n",
    "        Bulge = all(codes %in% 'Bulge'),\n",
    "        Mismatched = all(codes %in% c('AA', 'GG', 'CC', 'UU', 'AG', 'AC', 'CA', 'CU', 'GA', 'UC', 'Mismatched')))\n",
    "  return(names(x[which(x)]))\n",
    "}"
   ]
  },
  {
   "cell_type": "code",
   "execution_count": 12,
   "metadata": {
    "collapsed": false
   },
   "outputs": [
    {
     "data": {
      "text/html": [
       "<table>\n",
       "<thead><tr><th></th><th scope=col>positions</th><th scope=col>identity</th></tr></thead>\n",
       "<tbody>\n",
       "</tbody>\n",
       "</table>\n"
      ],
      "text/latex": [
       "\\begin{tabular}{r|ll}\n",
       "  & positions & identity\\\\\n",
       "\\hline\n",
       "\\end{tabular}\n"
      ],
      "text/plain": [
       "[1] positions identity \n",
       "<0 rows> (or 0-length row.names)"
      ]
     },
     "metadata": {},
     "output_type": "display_data"
    }
   ],
   "source": [
    "consensus = best_freqs %>%\n",
    "  group_by(positions) %>% \n",
    "  summarize(identity = get_consensus_feature(positions, feature)) %>%\n",
    "  filter(identity != \"N/A\")\n",
    "consensus"
   ]
  },
  {
   "cell_type": "code",
   "execution_count": 11,
   "metadata": {
    "collapsed": false
   },
   "outputs": [
    {
     "data": {
      "text/html": [
       "<table>\n",
       "<thead><tr><th></th><th scope=col>clade</th><th scope=col>isotype</th><th scope=col>positions</th><th scope=col>clade_iso_pos_total</th><th scope=col>feature</th><th scope=col>n</th><th scope=col>freq</th></tr></thead>\n",
       "<tbody>\n",
       "\t<tr><th scope=row>1</th><td>Actinobacteria</td><td>Ala           </td><td>X37           </td><td>618           </td><td>A             </td><td>618           </td><td>1             </td></tr>\n",
       "\t<tr><th scope=row>2</th><td>Actinobacteria</td><td>Ala           </td><td>X58           </td><td>618           </td><td>A             </td><td>618           </td><td>1             </td></tr>\n",
       "\t<tr><th scope=row>3</th><td>Actinobacteria</td><td>Arg           </td><td>X14           </td><td>876           </td><td>A             </td><td>876           </td><td>1             </td></tr>\n",
       "\t<tr><th scope=row>4</th><td>Actinobacteria</td><td>Arg           </td><td>X58           </td><td>876           </td><td>A             </td><td>876           </td><td>1             </td></tr>\n",
       "\t<tr><th scope=row>5</th><td>Actinobacteria</td><td>Asn           </td><td>X14           </td><td>238           </td><td>A             </td><td>238           </td><td>1             </td></tr>\n",
       "\t<tr><th scope=row>6</th><td>Actinobacteria</td><td>Asn           </td><td>X21           </td><td>238           </td><td>A             </td><td>238           </td><td>1             </td></tr>\n",
       "</tbody>\n",
       "</table>\n"
      ],
      "text/latex": [
       "\\begin{tabular}{r|lllllll}\n",
       "  & clade & isotype & positions & clade\\_iso\\_pos\\_total & feature & n & freq\\\\\n",
       "\\hline\n",
       "\t1 & Actinobacteria & Ala            & X37            & 618            & A              & 618            & 1             \\\\\n",
       "\t2 & Actinobacteria & Ala            & X58            & 618            & A              & 618            & 1             \\\\\n",
       "\t3 & Actinobacteria & Arg            & X14            & 876            & A              & 876            & 1             \\\\\n",
       "\t4 & Actinobacteria & Arg            & X58            & 876            & A              & 876            & 1             \\\\\n",
       "\t5 & Actinobacteria & Asn            & X14            & 238            & A              & 238            & 1             \\\\\n",
       "\t6 & Actinobacteria & Asn            & X21            & 238            & A              & 238            & 1             \\\\\n",
       "\\end{tabular}\n"
      ],
      "text/plain": [
       "           clade isotype positions clade_iso_pos_total feature   n freq\n",
       "1 Actinobacteria     Ala       X37                 618       A 618    1\n",
       "2 Actinobacteria     Ala       X58                 618       A 618    1\n",
       "3 Actinobacteria     Arg       X14                 876       A 876    1\n",
       "4 Actinobacteria     Arg       X58                 876       A 876    1\n",
       "5 Actinobacteria     Asn       X14                 238       A 238    1\n",
       "6 Actinobacteria     Asn       X21                 238       A 238    1"
      ]
     },
     "metadata": {},
     "output_type": "display_data"
    }
   ],
   "source": [
    "best_freqs %>% head"
   ]
  },
  {
   "cell_type": "markdown",
   "metadata": {},
   "source": [
    "# Isotype-specific features"
   ]
  },
  {
   "cell_type": "code",
   "execution_count": 13,
   "metadata": {
    "collapsed": true
   },
   "outputs": [],
   "source": [
    "get_isotype_IDE = function(isotype, position, codes) {\n",
    "  isotype = unique(isotype)\n",
    "  position = unique(position)\n",
    "  valid_codes = resolve_code(codes) # returns a vector of all possible combinations of bases. Note that this is not limited to the basic combinations given by the codes variable.\n",
    "  if (length(isotype) != 1) stop(\"Multiple isotypes passed to function\")\n",
    "  if (length(position) != 1) stop(\"Multiple positions passed to function\")\n",
    "  if (length(codes) != 10) return(\"N/A\") # make sure that each clade is represented\n",
    "  if (length(valid_codes) == 0) return(\"N/A\")\n",
    "  codes = list(A=\"A\", C=\"C\", G=\"G\", U=\"U\", Absent=c(\"-\", \".\", \"-:-\"), Purine=c(\"A\", \"G\"), Pyrimidine=c(\"C\", \"U\"), Weak=c(\"A\", \"U\"), Strong=c(\"G\", \"C\"), Amino=c(\"A\", \"C\"), Keto=c(\"G\", \"U\"), B=c(\"C\", \"G\", \"U\"), D=c(\"A\", \"G\", \"U\"), H=c(\"A\", \"C\", \"U\"), V=c(\"A\", \"C\", \"G\"), D=c(\"A\", \"G\", \"U\"), GC=\"G:C\", AU=\"A:U\", UA=\"U:A\", CG=\"C:G\", GU=\"G:U\", UG= \"U:G\", PurinePyrimidine=c(\"A:U\", \"G:C\"), PyrimidinePurine=c(\"U:A\", \"C:G\"), AminoKeto=c(\"A:U\", \"C:G\"), KetoAmino=c(\"U:A\", \"G:C\"), StrongPair=c(\"G:C\", \"C:G\"), WeakPair=c(\"A:U\", \"U:A\"), Wobble=c(\"G:U\", \"U:G\"), Paired=c(\"A:U\", \"U:A\", \"C:G\", \"G:C\", \"G:U\", \"U:G\"), Bulge=c(\"A:-\", \"U:-\", \"C:-\", \"G:-\", \"-:A\", \"-:G\", \"-:C\", \"-:U\"), Mismatched=c(\"A:A\", \"G:G\", \"C:C\", \"U:U\", \"A:G\", \"A:C\", \"C:A\", \"C:U\", \"G:A\", \"U:C\"))   # for each possible code, check each species\n",
    "  # this ensures that we consider other IDEs if the most specific one fails the species check. For example, if \"Purine\" fails, we also consider \"V\"\n",
    "  for (code in valid_codes) {\n",
    "    codes_str = paste0(\"c('\", paste0(codes[[code]], collapse=\"', '\"), \"')\")\n",
    "    df = identities %>%\n",
    "           select_('species', 'isotype', position) %>%\n",
    "           filter_(paste0(\"isotype == '\", isotype, \"'\")) %>%\n",
    "           group_by_('species') %>% \n",
    "           summarize_(match = paste0(\"sum(\", position, \" %in% \", codes_str, \")\"),\n",
    "                      miss = paste0(\"sum(!(\", position, \" %in% \", codes_str, \"))\")) %>%\n",
    "           mutate(ubiquitous = (match / (match + miss)) > 0.1)\n",
    "    if (all(df$ubiquitous)) return(code)\n",
    "  }\n",
    "  return(\"N/A\")\n",
    "}"
   ]
  },
  {
   "cell_type": "code",
   "execution_count": 15,
   "metadata": {
    "collapsed": false
   },
   "outputs": [
    {
     "data": {
      "text/html": [
       "<table>\n",
       "<thead><tr><th></th><th scope=col>clade</th><th scope=col>isotype</th><th scope=col>positions</th><th scope=col>clade_iso_pos_total</th><th scope=col>feature</th><th scope=col>n</th><th scope=col>freq</th></tr></thead>\n",
       "<tbody>\n",
       "\t<tr><th scope=row>1</th><td>Actinobacteria</td><td>Ala           </td><td>X37           </td><td>618           </td><td>A             </td><td>618           </td><td>1             </td></tr>\n",
       "\t<tr><th scope=row>2</th><td>Actinobacteria</td><td>Ala           </td><td>X58           </td><td>618           </td><td>A             </td><td>618           </td><td>1             </td></tr>\n",
       "\t<tr><th scope=row>3</th><td>Actinobacteria</td><td>Arg           </td><td>X14           </td><td>876           </td><td>A             </td><td>876           </td><td>1             </td></tr>\n",
       "\t<tr><th scope=row>4</th><td>Actinobacteria</td><td>Arg           </td><td>X58           </td><td>876           </td><td>A             </td><td>876           </td><td>1             </td></tr>\n",
       "\t<tr><th scope=row>5</th><td>Actinobacteria</td><td>Asn           </td><td>X14           </td><td>238           </td><td>A             </td><td>238           </td><td>1             </td></tr>\n",
       "\t<tr><th scope=row>6</th><td>Actinobacteria</td><td>Asn           </td><td>X21           </td><td>238           </td><td>A             </td><td>238           </td><td>1             </td></tr>\n",
       "</tbody>\n",
       "</table>\n"
      ],
      "text/latex": [
       "\\begin{tabular}{r|lllllll}\n",
       "  & clade & isotype & positions & clade\\_iso\\_pos\\_total & feature & n & freq\\\\\n",
       "\\hline\n",
       "\t1 & Actinobacteria & Ala            & X37            & 618            & A              & 618            & 1             \\\\\n",
       "\t2 & Actinobacteria & Ala            & X58            & 618            & A              & 618            & 1             \\\\\n",
       "\t3 & Actinobacteria & Arg            & X14            & 876            & A              & 876            & 1             \\\\\n",
       "\t4 & Actinobacteria & Arg            & X58            & 876            & A              & 876            & 1             \\\\\n",
       "\t5 & Actinobacteria & Asn            & X14            & 238            & A              & 238            & 1             \\\\\n",
       "\t6 & Actinobacteria & Asn            & X21            & 238            & A              & 238            & 1             \\\\\n",
       "\\end{tabular}\n"
      ],
      "text/plain": [
       "           clade isotype positions clade_iso_pos_total feature   n freq\n",
       "1 Actinobacteria     Ala       X37                 618       A 618    1\n",
       "2 Actinobacteria     Ala       X58                 618       A 618    1\n",
       "3 Actinobacteria     Arg       X14                 876       A 876    1\n",
       "4 Actinobacteria     Arg       X58                 876       A 876    1\n",
       "5 Actinobacteria     Asn       X14                 238       A 238    1\n",
       "6 Actinobacteria     Asn       X21                 238       A 238    1"
      ]
     },
     "metadata": {},
     "output_type": "display_data"
    }
   ],
   "source": [
    "best_freqs %>% filter head"
   ]
  },
  {
   "cell_type": "code",
   "execution_count": null,
   "metadata": {
    "collapsed": false
   },
   "outputs": [
    {
     "name": "stderr",
     "output_type": "stream",
     "text": [
      "Warning message:\n",
      "“Grouping rowwise data frame strips rowwise nature”Warning message:\n",
      "“Grouping rowwise data frame strips rowwise nature”Warning message:\n",
      "“Grouping rowwise data frame strips rowwise nature”Warning message:\n",
      "“Grouping rowwise data frame strips rowwise nature”Warning message:\n",
      "“Grouping rowwise data frame strips rowwise nature”Warning message:\n",
      "“Grouping rowwise data frame strips rowwise nature”Warning message:\n",
      "“Grouping rowwise data frame strips rowwise nature”Warning message:\n",
      "“Grouping rowwise data frame strips rowwise nature”Warning message:\n",
      "“Grouping rowwise data frame strips rowwise nature”Warning message:\n",
      "“Grouping rowwise data frame strips rowwise nature”Warning message:\n",
      "“Grouping rowwise data frame strips rowwise nature”Warning message:\n",
      "“Grouping rowwise data frame strips rowwise nature”Warning message:\n",
      "“Grouping rowwise data frame strips rowwise nature”Warning message:\n",
      "“Grouping rowwise data frame strips rowwise nature”Warning message:\n",
      "“Grouping rowwise data frame strips rowwise nature”Warning message:\n",
      "“Grouping rowwise data frame strips rowwise nature”Warning message:\n",
      "“Grouping rowwise data frame strips rowwise nature”Warning message:\n",
      "“Grouping rowwise data frame strips rowwise nature”Warning message:\n",
      "“Grouping rowwise data frame strips rowwise nature”Warning message:\n",
      "“Grouping rowwise data frame strips rowwise nature”Warning message:\n",
      "“Grouping rowwise data frame strips rowwise nature”Warning message:\n",
      "“Grouping rowwise data frame strips rowwise nature”Warning message:\n",
      "“Grouping rowwise data frame strips rowwise nature”Warning message:\n",
      "“Grouping rowwise data frame strips rowwise nature”Warning message:\n",
      "“Grouping rowwise data frame strips rowwise nature”Warning message:\n",
      "“Grouping rowwise data frame strips rowwise nature”Warning message:\n",
      "“Grouping rowwise data frame strips rowwise nature”Warning message:\n",
      "“Grouping rowwise data frame strips rowwise nature”Warning message:\n",
      "“Grouping rowwise data frame strips rowwise nature”Warning message:\n",
      "“Grouping rowwise data frame strips rowwise nature”Warning message:\n",
      "“Grouping rowwise data frame strips rowwise nature”Warning message:\n",
      "“Grouping rowwise data frame strips rowwise nature”Warning message:\n",
      "“Grouping rowwise data frame strips rowwise nature”Warning message:\n",
      "“Grouping rowwise data frame strips rowwise nature”Warning message:\n",
      "“Grouping rowwise data frame strips rowwise nature”Warning message:\n",
      "“Grouping rowwise data frame strips rowwise nature”Warning message:\n",
      "“Grouping rowwise data frame strips rowwise nature”Warning message:\n",
      "“Grouping rowwise data frame strips rowwise nature”Warning message:\n",
      "“Grouping rowwise data frame strips rowwise nature”Warning message:\n",
      "“Grouping rowwise data frame strips rowwise nature”Warning message:\n",
      "“Grouping rowwise data frame strips rowwise nature”Warning message:\n",
      "“Grouping rowwise data frame strips rowwise nature”Warning message:\n",
      "“Grouping rowwise data frame strips rowwise nature”Warning message:\n",
      "“Grouping rowwise data frame strips rowwise nature”Warning message:\n",
      "“Grouping rowwise data frame strips rowwise nature”Warning message:\n",
      "“Grouping rowwise data frame strips rowwise nature”Warning message:\n",
      "“Grouping rowwise data frame strips rowwise nature”Warning message:\n",
      "“Grouping rowwise data frame strips rowwise nature”Warning message:\n",
      "“Grouping rowwise data frame strips rowwise nature”Warning message:\n",
      "“Grouping rowwise data frame strips rowwise nature”Warning message:\n",
      "“Grouping rowwise data frame strips rowwise nature”Warning message:\n",
      "“Grouping rowwise data frame strips rowwise nature”Warning message:\n",
      "“Grouping rowwise data frame strips rowwise nature”Warning message:\n",
      "“Grouping rowwise data frame strips rowwise nature”Warning message:\n",
      "“Grouping rowwise data frame strips rowwise nature”Warning message:\n",
      "“Grouping rowwise data frame strips rowwise nature”Warning message:\n",
      "“Grouping rowwise data frame strips rowwise nature”Warning message:\n",
      "“Grouping rowwise data frame strips rowwise nature”Warning message:\n",
      "“Grouping rowwise data frame strips rowwise nature”Warning message:\n",
      "“Grouping rowwise data frame strips rowwise nature”Warning message:\n",
      "“Grouping rowwise data frame strips rowwise nature”Warning message:\n",
      "“Grouping rowwise data frame strips rowwise nature”Warning message:\n",
      "“Grouping rowwise data frame strips rowwise nature”"
     ]
    }
   ],
   "source": [
    "isotype_specific = best_freqs %>%\n",
    "  group_by(isotype, positions) %>% \n",
    "  summarize(identity = get_isotype_IDE(isotype, positions, feature)) %>%\n",
    "  filter(identity != \"N/A\")"
   ]
  },
  {
   "cell_type": "code",
   "execution_count": null,
   "metadata": {
    "collapsed": true
   },
   "outputs": [],
   "source": []
  },
  {
   "cell_type": "markdown",
   "metadata": {},
   "source": [
    "# Isotype-clade-specific features"
   ]
  },
  {
   "cell_type": "code",
   "execution_count": null,
   "metadata": {
    "collapsed": true
   },
   "outputs": [],
   "source": [
    "get_clade_isotype_IDE = function(clade, isotype, position, codes) {\n",
    "  clade = unique(clade)\n",
    "  isotype = unique(isotype)\n",
    "  position = unique(position)\n",
    "  valid_codes = resolve_code(codes) # returns a vector of all possible combinations of bases. Note that this is not limited to the basic combinations given by the codes variable.\n",
    "  if (length(clade) != 1) stop(\"Multiple clades passed to function\")\n",
    "  if (length(isotype) != 1) stop(\"Multiple clades passed to function\")\n",
    "  if (length(position) != 1) stop(\"Multiple positions passed to function\")\n",
    "  if (length(valid_codes) == 0) return(\"N/A\")\n",
    "  codes = list(A=\"A\", C=\"C\", G=\"G\", U=\"U\", Absent=c(\"-\", \".\", \"-:-\"), Purine=c(\"A\", \"G\"), Pyrimidine=c(\"C\", \"U\"), Weak=c(\"A\", \"U\"), Strong=c(\"G\", \"C\"), Amino=c(\"A\", \"C\"), Keto=c(\"G\", \"U\"), B=c(\"C\", \"G\", \"U\"), D=c(\"A\", \"G\", \"U\"), H=c(\"A\", \"C\", \"U\"), V=c(\"A\", \"C\", \"G\"), D=c(\"A\", \"G\", \"U\"), GC=\"G:C\", AU=\"A:U\", UA=\"U:A\", CG=\"C:G\", GU=\"G:U\", UG= \"U:G\", PurinePyrimidine=c(\"A:U\", \"G:C\"), PyrimidinePurine=c(\"U:A\", \"C:G\"), AminoKeto=c(\"A:U\", \"C:G\"), KetoAmino=c(\"U:A\", \"G:C\"), StrongPair=c(\"G:C\", \"C:G\"), WeakPair=c(\"A:U\", \"U:A\"), Wobble=c(\"G:U\", \"U:G\"), Paired=c(\"A:U\", \"U:A\", \"C:G\", \"G:C\", \"G:U\", \"U:G\"), Bulge=c(\"A:-\", \"U:-\", \"C:-\", \"G:-\", \"-:A\", \"-:G\", \"-:C\", \"-:U\"), Mismatched=c(\"A:A\", \"G:G\", \"C:C\", \"U:U\", \"A:G\", \"A:C\", \"C:A\", \"C:U\", \"G:A\", \"U:C\"))   # for each possible code, check each species\n",
    "  # for each possible code, check each species\n",
    "  # this ensures that we consider other IDEs if the most specific one fails the species check. For example, if \"Purine\" fails, we also consider \"V\"\n",
    "  for (code in valid_codes) {\n",
    "    codes_str = paste0(\"c('\", paste0(codes[[code]], collapse=\"', '\"), \"')\")\n",
    "    df = identities %>% \n",
    "           select_('species', 'isotype', 'clade', position) %>%    \n",
    "           filter_(paste0(\"clade == '\", clade, \"' & isotype == '\", isotype, \"'\")) %>%\n",
    "           group_by_('species') %>% \n",
    "           summarize_(match = paste0(\"sum(\", position, \" %in% \", codes_str, \")\"),\n",
    "                      miss = paste0(\"sum(!(\", position, \" %in% \", codes_str, \"))\")) %>%\n",
    "           mutate(ubiquitous = (match / (match + miss)) > 0.1)\n",
    "    if (all(df$ubiquitous)) return(code)\n",
    "  }\n",
    "  return(\"N/A\")\n",
    "}"
   ]
  },
  {
   "cell_type": "code",
   "execution_count": null,
   "metadata": {
    "collapsed": true
   },
   "outputs": [],
   "source": [
    "clade_isotype_specific = best_freqs %>%\n",
    "  group_by(clade, isotype, positions) %>% \n",
    "  summarize(identity = get_clade_isotype_IDE(clade, isotype, positions, feature)) %>%\n",
    "  filter(identity != \"N/A\")"
   ]
  }
 ],
 "metadata": {
  "anaconda-cloud": {},
  "kernelspec": {
   "display_name": "R",
   "language": "R",
   "name": "ir"
  },
  "language_info": {
   "codemirror_mode": "r",
   "file_extension": ".r",
   "mimetype": "text/x-r-source",
   "name": "R",
   "pygments_lexer": "r",
   "version": "3.3.1"
  }
 },
 "nbformat": 4,
 "nbformat_minor": 0
}
