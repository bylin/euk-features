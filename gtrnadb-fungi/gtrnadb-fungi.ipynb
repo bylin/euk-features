{
 "cells": [
  {
   "cell_type": "code",
   "execution_count": 176,
   "metadata": {
    "collapsed": false
   },
   "outputs": [],
   "source": [
    "%matplotlib inline\n",
    "from ggplot import *\n",
    "import matplotlib as mpl\n",
    "mpl.style.use('ggplot')\n",
    "import pandas as pd\n",
    "import numpy as np"
   ]
  },
  {
   "cell_type": "markdown",
   "metadata": {},
   "source": [
    "This is an exploratory run for high-throughput analysis of tRNA identity elements. "
   ]
  },
  {
   "cell_type": "markdown",
   "metadata": {},
   "source": [
    "# GtRNAdb fungi species\n",
    "\n",
    "We'll start from the GtRNAdb genome table dump to isolate fungi."
   ]
  },
  {
   "cell_type": "code",
   "execution_count": 177,
   "metadata": {
    "collapsed": false
   },
   "outputs": [],
   "source": [
    "%%bash\n",
    "grep \"Fungi\" /projects/lowelab/users/blin/tRNAscan/models/taxonomy/genome_table_20151017.txt > gtrnadb-fungi.txt"
   ]
  },
  {
   "cell_type": "markdown",
   "metadata": {},
   "source": [
    "# Isolate fungal tRNAs\n",
    "\n",
    "To do that, we'll dig through the tRNAscan runs. I picked leucine since it is well studied. The canonical _S. cerevesiae_ identity elements are A35, G37, and A73."
   ]
  },
  {
   "cell_type": "code",
   "execution_count": 178,
   "metadata": {
    "collapsed": true
   },
   "outputs": [],
   "source": [
    "def copy_tRNAs():\n",
    "  import subprocess\n",
    "  for line in open('gtrnadb-fungi.txt'):\n",
    "    tabs = line.strip().split('\\t')\n",
    "    src_file_name = '/projects/lowelab/users/pchan/GtRNAdb2/tRNA-runs/Eukaryota/' + tabs[0] + '/' + tabs[1] + '-tRNAs.fa'\n",
    "    dest_file_name = './genomes/' + tabs[1] + '-tRNAs.fa'\n",
    "    subprocess.call('cp {} {}'.format(src_file_name, dest_file_name), shell = True)\n",
    "\n",
    "copy_tRNAs()\n",
    "\n",
    "def isolate_leucine_tRNAs():\n",
    "  from Bio import SeqIO\n",
    "  leucine_tRNA_fhandle = open('fungi-Leu-tRNAs.fa', 'w')\n",
    "  for line in open('gtrnadb-fungi.txt'):\n",
    "    tabs = line.strip().split('\\t')\n",
    "    file_name = './genomes/' + tabs[1] + '-tRNAs.fa'\n",
    "    for seq in SeqIO.parse(file_name, \"fasta\"):\n",
    "      if \"Leu\" in seq.name:\n",
    "        SeqIO.write(seq, leucine_tRNA_fhandle, 'fasta')\n",
    "\n",
    "isolate_leucine_tRNAs()\n"
   ]
  },
  {
   "cell_type": "markdown",
   "metadata": {},
   "source": [
    "# Filter and align leucine tRNAs\n",
    "\n",
    "The next two steps involve Infernal. \n",
    "\n",
    "We use _cmsearch_ to filter out low-scoring leucines. This filters out tRNAs that we aren't completely confident are leucines, based on the eukaryotic leucine model.\n",
    "\n",
    "Then, we use _cmalign_ to align tRNAs by secondary structure. This is to line up each tRNA at the proper position regardless of insertions, deletions, mismatches, or secondary structure mutations. In other words, it gets us the proper numbering."
   ]
  },
  {
   "cell_type": "code",
   "execution_count": 182,
   "metadata": {
    "collapsed": true
   },
   "outputs": [],
   "source": [
    "def filter_align_Leu_tRNAs():\n",
    "  import subprocess\n",
    "  from Bio import SeqIO\n",
    "  # filter out tRNAs that are clearly not cytosolic leucines (using the eukaryotic model)\n",
    "  # we can afford to be stringent with this, so set to 50 bit cutoff\n",
    "  subprocess.call('cmsearch -g --notrunc --toponly -T 50 --tblout fungi-Leu-tRNAs.out /projects/lowelab/users/blin/tRNAscan/models/current/TRNAinf-euk-Leu.cm fungi-Leu-tRNAs.fa', shell = True)\n",
    "  leucine_tRNAs = []\n",
    "  for line in open('fungi-Leu-tRNAs.out'):\n",
    "    if line[0] == '#': continue\n",
    "    leucine_tRNAs.append(line.split()[0])\n",
    "  filtered_Leu_fhandle = open('fungi-Leu-tRNAs-filtered.fa', 'w')\n",
    "  for seq in SeqIO.parse('fungi-Leu-tRNAs.fa', 'fasta'):\n",
    "    if seq.name in leucine_tRNAs: SeqIO.write(seq, filtered_Leu_fhandle, 'fasta')\n",
    "  filtered_Leu_fhandle.close()\n",
    "\n",
    "  # we use --matchonly to make parsing easier. But it's possible that there's a conserved insertion within a clade. Oh well. \n",
    "  subprocess.call('cmalign -g --notrunc --matchonly -o fungi-Leu-tRNAs.sto /projects/lowelab/users/blin/tRNAscan/models/current/TRNAinf-euk-Leu.cm fungi-Leu-tRNAs-filtered.fa', shell = True)\n",
    "\n",
    "filter_align_Leu_tRNAs()"
   ]
  },
  {
   "cell_type": "markdown",
   "metadata": {},
   "source": [
    "# Parse alignment\n",
    "\n",
    "Now, we loop through the tRNAs and identify nucleotides at key identity element positions. The goal is to build a table containing organism, tRNA, and N=3 columns for the number of identity elements. This requires parsing an alignment `.sto` file. At this point, we also filter out mitochondrial tRNAs.\n",
    "\n",
    "We use A35, G37, and A73, reviewed in Giegé et al. (1998). "
   ]
  },
  {
   "cell_type": "code",
   "execution_count": 184,
   "metadata": {
    "collapsed": false
   },
   "outputs": [],
   "source": [
    "def parse_alignment():\n",
    "  import re\n",
    "  identities_fhandle = open('fungi-Leu-identities.tsv', 'w')\n",
    "  alignment_fhandle = open('fungi-Leu-tRNAs.sto')\n",
    "  trnas = []\n",
    "  for line in alignment_fhandle:\n",
    "    if line[0] in ['#', '\\n']:\n",
    "      if line[0:12] != '#=GC SS_cons':\n",
    "        continue\n",
    "      else:\n",
    "        break\n",
    "    if \"chrM\" in line: continue\n",
    "    trna = trna_identities()\n",
    "    trna.name, trna.seq = line.strip().split()\n",
    "    trna.organism = trna.name.split('tRNA')[0][:-1] # cut off tRNA and the underscore before it\n",
    "    trna.anticodon = trna.name.split('tRNA-Leu-')[1][0:3]\n",
    "    trnas.append(trna)\n",
    "  \n",
    "  # parse consensus secondary structure\n",
    "  seq = line.strip().split()[2]\n",
    "  # need the new position of A35 and G37. to get to the right position, we need to find the 2nd loop. the anticodon itself is standard.\n",
    "  match_obj = re.finditer('_+', seq)\n",
    "  # discard first loop (d loop)\n",
    "  _ = match_obj.__next__()\n",
    "  A35_position = match_obj.__next__().span()[0] + 3\n",
    "  G37_position = A35_position + 2\n",
    "  # A73 should just be the last position\n",
    "  A73_position = len(seq) - 1 # subtract one since we are pulling out of a string and we need the right index\n",
    "\n",
    "  for trna in trnas:\n",
    "    identities_fhandle.write('{}\\t{}\\t{}\\t{}\\t{}\\t{}\\n'.format(trna.organism, trna.name, trna.anticodon, trna.seq[A35_position], trna.seq[G37_position], trna.seq[A73_position]))\n",
    "  \n",
    "\n",
    "class trna_identities:\n",
    "  def __init__(self):\n",
    "    pass\n",
    "\n",
    "parse_alignment()"
   ]
  },
  {
   "cell_type": "markdown",
   "metadata": {},
   "source": [
    "Here is what the identities table looks like."
   ]
  },
  {
   "cell_type": "code",
   "execution_count": 224,
   "metadata": {
    "collapsed": false
   },
   "outputs": [
    {
     "data": {
      "text/html": [
       "<div>\n",
       "<table border=\"1\" class=\"dataframe\">\n",
       "  <thead>\n",
       "    <tr style=\"text-align: right;\">\n",
       "      <th></th>\n",
       "      <th>Organism</th>\n",
       "      <th>tRNA</th>\n",
       "      <th>Anticodon</th>\n",
       "      <th>A35</th>\n",
       "      <th>G37</th>\n",
       "      <th>A73</th>\n",
       "    </tr>\n",
       "  </thead>\n",
       "  <tbody>\n",
       "    <tr>\n",
       "      <th>1</th>\n",
       "      <td>Ashbya_gossypii_ATCC_10895</td>\n",
       "      <td>Ashbya_gossypii_ATCC_10895_tRNA-Leu-GAG-1-1</td>\n",
       "      <td>GAG</td>\n",
       "      <td>A</td>\n",
       "      <td>G</td>\n",
       "      <td>A</td>\n",
       "    </tr>\n",
       "    <tr>\n",
       "      <th>2</th>\n",
       "      <td>Ashbya_gossypii_ATCC_10895</td>\n",
       "      <td>Ashbya_gossypii_ATCC_10895_tRNA-Leu-CAA-1-2</td>\n",
       "      <td>CAA</td>\n",
       "      <td>A</td>\n",
       "      <td>G</td>\n",
       "      <td>A</td>\n",
       "    </tr>\n",
       "    <tr>\n",
       "      <th>3</th>\n",
       "      <td>Ashbya_gossypii_ATCC_10895</td>\n",
       "      <td>Ashbya_gossypii_ATCC_10895_tRNA-Leu-TAG-1-1</td>\n",
       "      <td>TAG</td>\n",
       "      <td>A</td>\n",
       "      <td>G</td>\n",
       "      <td>A</td>\n",
       "    </tr>\n",
       "    <tr>\n",
       "      <th>4</th>\n",
       "      <td>Ashbya_gossypii_ATCC_10895</td>\n",
       "      <td>Ashbya_gossypii_ATCC_10895_tRNA-Leu-CAG-1-1</td>\n",
       "      <td>CAG</td>\n",
       "      <td>A</td>\n",
       "      <td>G</td>\n",
       "      <td>A</td>\n",
       "    </tr>\n",
       "  </tbody>\n",
       "</table>\n",
       "</div>"
      ],
      "text/plain": [
       "                     Organism                                         tRNA  \\\n",
       "1  Ashbya_gossypii_ATCC_10895  Ashbya_gossypii_ATCC_10895_tRNA-Leu-GAG-1-1   \n",
       "2  Ashbya_gossypii_ATCC_10895  Ashbya_gossypii_ATCC_10895_tRNA-Leu-CAA-1-2   \n",
       "3  Ashbya_gossypii_ATCC_10895  Ashbya_gossypii_ATCC_10895_tRNA-Leu-TAG-1-1   \n",
       "4  Ashbya_gossypii_ATCC_10895  Ashbya_gossypii_ATCC_10895_tRNA-Leu-CAG-1-1   \n",
       "\n",
       "  Anticodon A35 G37 A73  \n",
       "1       GAG   A   G   A  \n",
       "2       CAA   A   G   A  \n",
       "3       TAG   A   G   A  \n",
       "4       CAG   A   G   A  "
      ]
     },
     "execution_count": 224,
     "metadata": {},
     "output_type": "execute_result"
    }
   ],
   "source": [
    "identities = pd.read_table('fungi-Leu-identities.tsv', sep='\\t', header=None, names = ['Organism', 'tRNA', 'Anticodon', 'A35', 'G37', 'A73'])\n",
    "identities[1:5]"
   ]
  },
  {
   "cell_type": "markdown",
   "metadata": {},
   "source": [
    "# EDA\n",
    "\n",
    "First, we start with a histogram of number of leucines per organism."
   ]
  },
  {
   "cell_type": "code",
   "execution_count": 11,
   "metadata": {
    "collapsed": false
   },
   "outputs": [
    {
     "data": {
      "image/png": "[encoded data removed]",
      "text/plain": [
       "<matplotlib.figure.Figure at 0x7f9e61c745f8>"
      ]
     },
     "metadata": {},
     "output_type": "display_data"
    },
    {
     "data": {
      "text/plain": [
       "<ggplot: (-9223363266965900179)>"
      ]
     },
     "execution_count": 11,
     "metadata": {},
     "output_type": "execute_result"
    }
   ],
   "source": [
    "df = identities.ix[:, 'Organism'].value_counts()\n",
    "df = df.to_frame().reset_index()\n",
    "df.columns = ['Organism', 'Count']\n",
    "ggplot(df, aes(x='Count')) + geom_bar() + xlab('No. leucine tRNAs') + ylab('No. species')"
   ]
  },
  {
   "cell_type": "markdown",
   "metadata": {},
   "source": [
    "Most yeasts have 10-20 leucine tRNAs.\n",
    "\n",
    "Next, we'll look at the distribution of anticodons."
   ]
  },
  {
   "cell_type": "code",
   "execution_count": 12,
   "metadata": {
    "collapsed": false
   },
   "outputs": [
    {
     "data": {
      "image/png": "[encoded data removed]",
      "text/plain": [
       "<matplotlib.figure.Figure at 0x7f9e6149feb8>"
      ]
     },
     "metadata": {},
     "output_type": "display_data"
    },
    {
     "data": {
      "text/plain": [
       "<ggplot: (-9223363266966423864)>"
      ]
     },
     "execution_count": 12,
     "metadata": {},
     "output_type": "execute_result"
    }
   ],
   "source": [
    "df = identities.ix[:, 'Anticodon'].to_frame()\n",
    "ggplot(df, aes(x='Anticodon')) + geom_bar()"
   ]
  },
  {
   "cell_type": "markdown",
   "metadata": {},
   "source": [
    "Now let's look at the percentage of fungi that contain the _S. cerevisiae_ identity elements. This is defined by whether an organism contains at least one leucine tRNA with the identity element."
   ]
  },
  {
   "cell_type": "code",
   "execution_count": 265,
   "metadata": {
    "collapsed": false
   },
   "outputs": [
    {
     "data": {
      "text/plain": [
       "0    True\n",
       "1    True\n",
       "2    True\n",
       "3    True\n",
       "4    True\n",
       "5    True\n",
       "6    True\n",
       "7    True\n",
       "8    True\n",
       "9    True\n",
       "dtype: bool"
      ]
     },
     "execution_count": 265,
     "metadata": {},
     "output_type": "execute_result"
    }
   ],
   "source": [
    "a = pd.Series(range(10))\n",
    "(a == a) & (a == a)"
   ]
  },
  {
   "cell_type": "code",
   "execution_count": 270,
   "metadata": {
    "collapsed": false
   },
   "outputs": [
    {
     "name": "stdout",
     "output_type": "stream",
     "text": [
      "A35: 60\n",
      "G37: 60\n",
      "A73: 60\n",
      "A35+G37: 60\n",
      "A35+G37+A73: 60\n"
     ]
    }
   ],
   "source": [
    "print('A35: {}\\nG37: {}\\nA73: {}\\nA35+G37: {}\\nA35+G37+A73: {}'.format(\n",
    "        sum(any(trnas.A35 == \"A\") for organism, trnas in identities.groupby(\"Organism\")),\n",
    "        sum(any(trnas.G37 == \"G\") for organism, trnas in identities.groupby(\"Organism\")),\n",
    "        sum(any(trnas.A73 == \"A\") for organism, trnas in identities.groupby(\"Organism\")),\n",
    "        sum(any((trnas.A35 == \"A\") & (trnas.G37 == \"G\")) for organism, trnas in identities.groupby(\"Organism\")),\n",
    "        sum(any((trnas.A35 == \"A\") & (trnas.G37 == \"G\") & (trnas.A73 == \"A\")) for organism, trnas in identities.groupby(\"Organism\"))))\n",
    "        "
   ]
  },
  {
   "cell_type": "markdown",
   "metadata": {},
   "source": [
    "Looks like all species have one of each. Now let's look at the percentage of tRNAs by species that contain the _S. cerevisiae_ identity elements. "
   ]
  },
  {
   "cell_type": "code",
   "execution_count": 275,
   "metadata": {
    "collapsed": false
   },
   "outputs": [
    {
     "data": {
      "image/png": "[encoded data removed]",
      "text/plain": [
       "<matplotlib.figure.Figure at 0x7f9e573ae518>"
      ]
     },
     "metadata": {},
     "output_type": "display_data"
    },
    {
     "data": {
      "text/plain": [
       "<ggplot: (-9223363266976960852)>"
      ]
     },
     "execution_count": 275,
     "metadata": {},
     "output_type": "execute_result"
    }
   ],
   "source": [
    "# Build a table with 1 row = 1 species, with (for each IDE) a fraction of the number of tRNAs with the IDE.\n",
    "df = pd.concat(pd.DataFrame({'Organism': [organism], \n",
    "                             'A35': [sum(trnas.A35 == \"A\")/len(trnas.A35)],\n",
    "                             'G37': [sum(trnas.G37 == \"G\")/len(trnas.G37)],\n",
    "                             'A73': [sum(trnas.A73 == \"A\")/len(trnas.A73)]}) for organism, trnas in identities.groupby('Organism'))\n",
    "\n",
    "df = pd.melt(df, id_vars = 'Organism', value_vars = ['A35', 'G37', 'A73'], var_name = 'IDE', value_name = '% tRNAs with IDE')\n",
    "ggplot(df.ix[df.IDE == \"A35\"], aes(x = '% tRNAs with IDE')) + geom_histogram() + ylab('No. species') + xlim(0, 1.1) + ggtitle('Percent tRNAs with A35, by species')"
   ]
  },
  {
   "cell_type": "code",
   "execution_count": 278,
   "metadata": {
    "collapsed": false
   },
   "outputs": [
    {
     "data": {
      "image/png": "[encoded data removed]",
      "text/plain": [
       "<matplotlib.figure.Figure at 0x7f9e57481518>"
      ]
     },
     "metadata": {},
     "output_type": "display_data"
    },
    {
     "data": {
      "text/plain": [
       "<ggplot: (8769877897350)>"
      ]
     },
     "execution_count": 278,
     "metadata": {},
     "output_type": "execute_result"
    }
   ],
   "source": [
    "ggplot(df.ix[df.IDE == \"G37\"], aes(x = '% tRNAs with IDE')) + geom_histogram() + xlim(0, 1.1) + ggtitle('% tRNAs with G37, by species')"
   ]
  },
  {
   "cell_type": "code",
   "execution_count": 277,
   "metadata": {
    "collapsed": false
   },
   "outputs": [
    {
     "data": {
      "image/png": "[encoded data removed]",
      "text/plain": [
       "<matplotlib.figure.Figure at 0x7f9e5768c438>"
      ]
     },
     "metadata": {},
     "output_type": "display_data"
    },
    {
     "data": {
      "text/plain": [
       "<ggplot: (8769877919559)>"
      ]
     },
     "execution_count": 277,
     "metadata": {},
     "output_type": "execute_result"
    }
   ],
   "source": [
    "ggplot(df.ix[df.IDE == \"A73\"], aes(x = '% tRNAs with IDE')) + geom_histogram() + xlim(0, 1.1) + ggtitle('% tRNAs with A73, by species')"
   ]
  },
  {
   "cell_type": "markdown",
   "metadata": {},
   "source": [
    "So the vast majority of tRNAs have each of the identity elements. Is there a correlation between score and whether the identity elements are there? \n",
    "\n",
    "This wouldn't be too hard - give a score to all tRNAs based on whether the IDE is there, for a max score of 3. But this would be a circular comparison. The model scores are based on the identity elements to begin with, so it would only measure a correlation between the fungi-Leu specific IDEs and general tRNA signals. Which, I suppose, could be interesting, but it's the null hypothesis."
   ]
  },
  {
   "cell_type": "markdown",
   "metadata": {},
   "source": [
    "# References\n",
    "\n",
    "1. Giegé, R., Sissler, M. & Florentz, C. Universal rules and idiosyncratic features in tRNA identity. Nucleic Acids Res. 26, 5017–35 (1998)."
   ]
  }
 ],
 "metadata": {
  "anaconda-cloud": {},
  "kernelspec": {
   "display_name": "Python [Root]",
   "language": "python",
   "name": "Python [Root]"
  },
  "language_info": {
   "codemirror_mode": {
    "name": "ipython",
    "version": 3
   },
   "file_extension": ".py",
   "mimetype": "text/x-python",
   "name": "python",
   "nbconvert_exporter": "python",
   "pygments_lexer": "ipython3",
   "version": "3.5.2"
  }
 },
 "nbformat": 4,
 "nbformat_minor": 0
}
