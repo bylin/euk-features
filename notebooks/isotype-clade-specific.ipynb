{
 "cells": [
  {
   "cell_type": "code",
   "execution_count": 2,
   "metadata": {
    "collapsed": false
   },
   "outputs": [],
   "source": [
    "library(ggplot2)\n",
    "library(reshape2)\n",
    "library(dplyr)\n",
    "library(stringr)\n",
    "library(tidyr)\n",
    "theme_set(theme_bw())\n",
    "options(repr.plot.width=7, repr.plot.height=4)\n",
    "isotypes = c('Ala', 'Arg', 'Asn', 'Asp', 'Cys', 'Gln', 'Glu', 'Gly', 'His', 'Ile', 'iMet', 'Leu', 'Lys', 'Met', 'Phe', 'Pro', 'Ser', 'Thr', 'Trp', 'Tyr', 'Val')"
   ]
  },
  {
   "cell_type": "markdown",
   "metadata": {},
   "source": [
    "# Introduction\n",
    "\n",
    "We look for isotype-specific, clade-specific, and clade-isotype-specific identity elements.\n",
    "\n",
    "- **Isotype-specific** IDEs are verified by:\n",
    "    - for the isotype in question, checking that 90% of the tRNAs for each clade contain the IDE\n",
    "    - for the isotype in question, ensuring that the IDE exists at above 50% frequency for all species \n",
    "- **Clade-specific** IDEs are verified by:\n",
    "    - for the clade in question, checking that 90% of the tRNAs for each isotype contain the IDE\n",
    "    - ensuring that the IDE exists at above 50% frequency for all species and each isotype\n",
    "- **Clade and isotype-specific** IDEs are verified by:\n",
    "    - for the clade and isotype in question, checking that 90% of the tRNAs contain the IDE\n",
    "    - for the isotype in question, ensuring that the IDE exists at above 50% frequency for all species\n",
    "    \n",
    "# Data import"
   ]
  },
  {
   "cell_type": "code",
   "execution_count": null,
   "metadata": {
    "collapsed": true
   },
   "outputs": [],
   "source": []
  }
 ],
 "metadata": {
  "kernelspec": {
   "display_name": "R",
   "language": "R",
   "name": "ir"
  },
  "language_info": {
   "codemirror_mode": "r",
   "file_extension": ".r",
   "mimetype": "text/x-r-source",
   "name": "R",
   "pygments_lexer": "r",
   "version": "3.2.2"
  }
 },
 "nbformat": 4,
 "nbformat_minor": 0
}
