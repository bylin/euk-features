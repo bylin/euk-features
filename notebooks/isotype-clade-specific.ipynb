{
 "cells": [
  {
   "cell_type": "code",
   "execution_count": 4,
   "metadata": {
    "collapsed": false
   },
   "outputs": [],
   "source": [
    "library(ggplot2)\n",
    "library(reshape2)\n",
    "library(dplyr)\n",
    "library(stringr)\n",
    "library(tidyr)\n",
    "theme_set(theme_bw())\n",
    "options(repr.plot.width=7, repr.plot.height=4)\n",
    "isotypes = c('Ala', 'Arg', 'Asn', 'Asp', 'Cys', 'Gln', 'Glu', 'Gly', 'His', 'Ile', 'iMet', 'Leu', 'Lys', 'Met', 'Phe', 'Pro', 'Ser', 'Thr', 'Trp', 'Tyr', 'Val')"
   ]
  },
  {
   "cell_type": "markdown",
   "metadata": {},
   "source": [
    "# Introduction\n",
    "\n",
    "We look for isotype-specific, clade-specific, and clade-isotype-specific identity elements.\n",
    "\n",
    "- **Isotype-specific** IDEs are verified by:\n",
    "    - for the isotype in question, checking that 90% of the tRNAs for each clade contain the IDE\n",
    "    - for the isotype in question, ensuring that the IDE exists at above 50% frequency for all species \n",
    "- **Clade-specific** IDEs are verified by:\n",
    "    - for the clade in question, checking that 90% of the tRNAs for each isotype contain the IDE\n",
    "    - ensuring that the IDE exists at above 50% frequency for all species and each isotype\n",
    "- **Clade and isotype-specific** IDEs are verified by:\n",
    "    - for the clade and isotype in question, checking that 90% of the tRNAs contain the IDE\n",
    "    - for the isotype in question, ensuring that the IDE exists at above 50% frequency for all species\n",
    "    \n",
    "# Data wrangling\n",
    "## Data import"
   ]
  },
  {
   "cell_type": "code",
   "execution_count": 5,
   "metadata": {
    "collapsed": false
   },
   "outputs": [],
   "source": [
    "identities = read.delim('identities.tsv', sep='\\t', stringsAsFactors=FALSE)\n",
    "identities$quality = as.logical(identities$quality)\n",
    "identities$restrict = as.logical(identities$restrict)\n",
    "positions = colnames(identities)[which(str_detect(colnames(identities), \"X\\\\d+\\\\.\\\\d+$\"))]\n",
    "positions = c(positions, 'X8', 'X9', 'X14', 'X15', 'X16', 'X17', 'X18', 'X19', 'X20', 'X20a', 'X21', 'X26', 'X32', 'X33', 'X34', 'X35', 'X36', 'X37', 'X38', 'X44', 'X45', 'X46', 'X47', 'X48', 'X54', 'X55', 'X56', 'X57', 'X58', 'X59', 'X60', 'X73')"
   ]
  },
  {
   "cell_type": "markdown",
   "metadata": {},
   "source": [
    "## Get frequencies"
   ]
  },
  {
   "cell_type": "code",
   "execution_count": 6,
   "metadata": {
    "collapsed": false
   },
   "outputs": [],
   "source": [
    "clade_iso_ac_freqs = identities %>%\n",
    "  filter(quality & (!restrict | isotype == \"iMet\")) %>%\n",
    "  select(match(c('clade', 'isotype', 'anticodon', positions), colnames(identities))) %>%\n",
    "  gather(positions, bases, -clade, -isotype, -anticodon) %>%\n",
    "  group_by(clade, isotype, anticodon, positions, bases) %>%\n",
    "  tally() %>%\n",
    "  group_by(clade, isotype, anticodon, positions) %>%\n",
    "  mutate(freq=n) %>%\n",
    "  group_by(clade, isotype, anticodon, positions) %>%\n",
    "  summarize(A = sum(freq[bases == \"A\"]),\n",
    "            C = sum(freq[bases == \"C\"]),\n",
    "            G = sum(freq[bases == \"G\"]),\n",
    "            U = sum(freq[bases == \"U\"]),\n",
    "            Deletion = sum(freq[bases %in% c(\"-\", \".\")]), \n",
    "            Purine = sum(freq[bases %in% c(\"A\", \"G\")]),\n",
    "            Pyrimidine = sum(freq[bases %in% c(\"C\", \"U\")]),\n",
    "            Weak = sum(freq[bases %in% c(\"A\", \"U\")]),\n",
    "            Strong = sum(freq[bases %in% c(\"G\", \"C\")]),\n",
    "            Amino = sum(freq[bases %in% c(\"A\", \"C\")]),\n",
    "            Keto = sum(freq[bases %in% c(\"G\", \"U\")]),\n",
    "            B = sum(freq[bases %in% c(\"C\", \"G\", \"U\")]),\n",
    "            D = sum(freq[bases %in% c(\"A\", \"G\", \"U\")]),\n",
    "            H = sum(freq[bases %in% c(\"A\", \"C\", \"U\")]),\n",
    "            V = sum(freq[bases %in% c(\"A\", \"C\", \"G\")]),\n",
    "            D = sum(freq[bases %in% c(\"A\", \"G\", \"U\")]),\n",
    "            GC = sum(freq[bases == \"G:C\"]),\n",
    "            AU = sum(freq[bases == \"A:U\"]),\n",
    "            UA = sum(freq[bases == \"U:A\"]),\n",
    "            CG = sum(freq[bases == \"C:G\"]),\n",
    "            GU = sum(freq[bases == \"G:U\"]),\n",
    "            UG = sum(freq[bases == \"U:G\"]),\n",
    "            PairDeletion = sum(freq[bases == \"-:-\"]), \n",
    "            PurinePyrimidine = sum(freq[bases %in% c(\"A:U\", \"G:C\")]),\n",
    "            PyrimidinePurine = sum(freq[bases %in% c(\"U:A\", \"C:G\")]),\n",
    "            StrongPair = sum(freq[bases %in% c(\"G:C\", \"C:G\")]),\n",
    "            WeakPair = sum(freq[bases %in% c(\"A:U\", \"U:A\")]),\n",
    "            Wobble = sum(freq[bases %in% c(\"G:U\", \"U:G\")]),\n",
    "            Paired = sum(freq[bases %in% c(\"A:U\", \"U:A\", \"C:G\", \"G:C\", \"G:U\", \"U:G\")]),\n",
    "            Bulge = sum(freq[bases %in% c(\"A:-\", \"U:-\", \"C:-\", \"G:-\", \"-:A\", \"-:G\", \"-:C\", \"-:U\")]),\n",
    "            Mismatched = sum(freq[bases %in% c(\"A:A\", \"G:G\", \"C:C\", \"U:U\", \"A:G\", \"A:C\", \"C:A\", \"C:U\", \"G:A\", \"U:C\")])\n",
    "            ) %>%\n",
    "  mutate(total = A + B + Deletion + Paired + Mismatched + Bulge + PairDeletion) %>%\n",
    "  melt(id.vars=c(\"clade\", \"isotype\", \"anticodon\", \"positions\", \"total\")) %>%\n",
    "  mutate(freq=value/total)"
   ]
  },
  {
   "cell_type": "markdown",
   "metadata": {},
   "source": [
    "# Consensus IDEs\n",
    "\n",
    "First, we'll quickly recapitulate the consensus IDEs. We can remove the IDEs that have high specificity (e.g. U8-A14), and we'll skip removal of IDEs with lower specificity (e.g., H54)."
   ]
  },
  {
   "cell_type": "code",
   "execution_count": 20,
   "metadata": {
    "collapsed": true
   },
   "outputs": [],
   "source": [
    "check_consensus_IDE = function(position, code) {\n",
    "  codes = list(A = \"A\", C = \"C\", G = \"G\", U = \"U\", Deletion = c(\"-\", \".\"), Purine = c(\"A\", \"G\"), Pyrimidine = c(\"C\", \"U\"), Weak = c(\"A\", \"U\"), Strong = c(\"G\", \"C\"), Amino = c(\"A\", \"C\"), Keto = c(\"G\", \"U\"), B = c(\"C\", \"G\", \"U\"), D = c(\"A\", \"G\", \"U\"), H = c(\"A\", \"C\", \"U\"), V = c(\"A\", \"C\", \"G\"), D = c(\"A\", \"G\", \"U\"), GC =  \"G:C\", AU =  \"A:U\", UA =  \"U:A\", CG =  \"C:G\", GU =  \"G:U\", UG =  \"U:G\", PairDeletion =  \"-:-\", PurinePyrimidine = c(\"A:U\", \"G:C\"), PyrimidinePurine = c(\"U:A\", \"C:G\"), StrongPair = c(\"G:C\", \"C:G\"), WeakPair = c(\"A:U\", \"U:A\"), Wobble = c(\"G:U\", \"U:G\"), Paired = c(\"A:U\", \"U:A\", \"C:G\", \"G:C\", \"G:U\", \"U:G\"), Bulge = c(\"A:-\", \"U:-\", \"C:-\", \"G:-\", \"-:A\", \"-:G\", \"-:C\", \"-:U\"), Mismatched = c(\"A:A\", \"G:G\", \"C:C\", \"U:U\", \"A:G\", \"A:C\", \"C:A\", \"C:U\", \"G:A\", \"U:C\")) \n",
    "  codes_str = paste0(\"c('\", paste0(codes[[code]], collapse=\"', '\"), \"')\")\n",
    "  df = identities %>% select_('species', 'isotype', position) %>%\n",
    "    group_by_('species', 'isotype') %>% \n",
    "    summarize_(match = paste0(\"sum(\", position, \" %in% \", codes_str, \")\"),\n",
    "               miss = paste0(\"sum(!(\", position, \" %in% \", codes_str, \"))\")) %>%\n",
    "    mutate(ubiquitous = match > miss)\n",
    "  return(all(df$ubiquitous))\n",
    "}\n",
    "\n",
    "check_consensus_IDEs = Vectorize(check_consensus_IDE)\n",
    "\n",
    "resolve_code = function(codes) {\n",
    "  codes = unique(codes)\n",
    "  x = c(A = all(codes %in% 'A'),\n",
    "        C = all(codes %in% 'C'),\n",
    "        G = all(codes %in% 'G'),\n",
    "        U = all(codes %in% 'U'),\n",
    "        Deletion = all(codes %in% 'Deletion'),\n",
    "        Purine = all(codes %in% c('A', 'G', 'Purine')),\n",
    "        Pyrimidine = all(codes %in% c('C', 'U', 'Pyrimidine')),\n",
    "        Weak = all(codes %in% c('A', 'U', 'Weak')),\n",
    "        Strong = all(codes %in% c('G', 'C', 'Strong')),\n",
    "        Amino = all(codes %in% c('A', 'C', 'Amino')),\n",
    "        Keto = all(codes %in% c('G', 'U', 'Keto')),\n",
    "        B = all(codes %in% c('C', 'G', 'U', 'B', 'Strong', 'Pyrimidine', 'Keto')),\n",
    "        D = all(codes %in% c('A', 'G', 'U', 'D', 'Purine', 'Weak', 'Keto')),\n",
    "        H = all(codes %in% c('A', 'C', 'U', 'H', 'Amino', 'Weak', 'Pyrimidine')),\n",
    "        V = all(codes %in% c('A', 'C', 'G', 'V', 'Amino', 'Purine', 'Strong')),\n",
    "        GC = all(codes %in% 'GC'),\n",
    "        AU = all(codes %in% 'AU'),\n",
    "        UA = all(codes %in% 'UA'),\n",
    "        CG = all(codes %in% 'CG'),\n",
    "        GU = all(codes %in% 'GU'),\n",
    "        UG = all(codes %in% 'UG'),\n",
    "        PairDeletion = all(codes %in% 'PairDeletion'), \n",
    "        PurinePyrimidine = all(codes %in% c('AU', 'GC', 'PurinePyrimidine')),\n",
    "        PyrimidinePurine = all(codes %in% c('UA', 'CG', 'PyrimidinePurine')),\n",
    "        StrongPair = all(codes %in% c('GC', 'CG', 'StrongPair')),\n",
    "        WeakPair = all(codes %in% c('AU', 'UA', 'WeakPair')),\n",
    "        Wobble = all(codes %in% c('GU', 'UG', 'Wobble')),\n",
    "        Paired = all(codes %in% c('AU', 'UA', 'CG', 'GC', 'GU', 'UG', 'Paired', 'PurinePyrimidine', 'PyrimidinePurine', 'StrongPair', 'WeakPair', 'Wobble')),\n",
    "        Bulge = all(codes %in% 'Bulge'),\n",
    "        Mismatched = all(codes %in% c('AA', 'GG', 'CC', 'UU', 'AG', 'AC', 'CA', 'CU', 'GA', 'UC', 'Mismatched', 'Paired', 'PurinePyrimidine', 'PyrimidinePurine', 'StrongPair', 'WeakPair', 'Wobble')))\n",
    "  return(names(x[which(x)]))\n",
    "}"
   ]
  },
  {
   "cell_type": "code",
   "execution_count": 22,
   "metadata": {
    "collapsed": false
   },
   "outputs": [
    {
     "data": {
      "text/html": [
       "<table>\n",
       "<thead><tr><th></th><th scope=col>positions</th><th scope=col>variable</th><th scope=col>ubiquitous</th></tr></thead>\n",
       "<tbody>\n",
       "\t<tr><th scope=row>1</th><td>X14</td><td>A</td><td>TRUE</td></tr>\n",
       "\t<tr><th scope=row>2</th><td>X19</td><td>G</td><td>TRUE</td></tr>\n",
       "\t<tr><th scope=row>3</th><td>X19.56</td><td>GC</td><td>TRUE</td></tr>\n",
       "\t<tr><th scope=row>4</th><td>X33</td><td>Pyrimidine</td><td>TRUE</td></tr>\n",
       "\t<tr><th scope=row>5</th><td>X38</td><td>H</td><td>TRUE</td></tr>\n",
       "\t<tr><th scope=row>6</th><td>X54</td><td>H</td><td>TRUE</td></tr>\n",
       "\t<tr><th scope=row>7</th><td>X55</td><td>Pyrimidine</td><td>TRUE</td></tr>\n",
       "\t<tr><th scope=row>8</th><td>X56</td><td>C</td><td>TRUE</td></tr>\n",
       "\t<tr><th scope=row>9</th><td>X57</td><td>Purine</td><td>TRUE</td></tr>\n",
       "\t<tr><th scope=row>10</th><td>X8</td><td>U</td><td>TRUE</td></tr>\n",
       "\t<tr><th scope=row>11</th><td>X8.14</td><td>UA</td><td>TRUE</td></tr>\n",
       "</tbody>\n",
       "</table>\n"
      ],
      "text/latex": [
       "\\begin{tabular}{r|lll}\n",
       "  & positions & variable & ubiquitous\\\\\n",
       "\\hline\n",
       "\t1 & X14 & A & TRUE\\\\\n",
       "\t2 & X19 & G & TRUE\\\\\n",
       "\t3 & X19.56 & GC & TRUE\\\\\n",
       "\t4 & X33 & Pyrimidine & TRUE\\\\\n",
       "\t5 & X38 & H & TRUE\\\\\n",
       "\t6 & X54 & H & TRUE\\\\\n",
       "\t7 & X55 & Pyrimidine & TRUE\\\\\n",
       "\t8 & X56 & C & TRUE\\\\\n",
       "\t9 & X57 & Purine & TRUE\\\\\n",
       "\t10 & X8 & U & TRUE\\\\\n",
       "\t11 & X8.14 & UA & TRUE\\\\\n",
       "\\end{tabular}\n"
      ],
      "text/plain": [
       "# A tibble: 11 × 3\n",
       "   positions   variable ubiquitous\n",
       "       <chr>      <chr>      <lgl>\n",
       "1        X14          A       TRUE\n",
       "2        X19          G       TRUE\n",
       "3     X19.56         GC       TRUE\n",
       "4        X33 Pyrimidine       TRUE\n",
       "5        X38          H       TRUE\n",
       "6        X54          H       TRUE\n",
       "7        X55 Pyrimidine       TRUE\n",
       "8        X56          C       TRUE\n",
       "9        X57     Purine       TRUE\n",
       "10        X8          U       TRUE\n",
       "11     X8.14         UA       TRUE"
      ]
     },
     "execution_count": 22,
     "metadata": {},
     "output_type": "execute_result"
    }
   ],
   "source": [
    "consensus = clade_iso_ac_freqs %>% \n",
    "  group_by(isotype, positions, clade, variable) %>% # remove duplicates\n",
    "  summarize(count=sum(value), freq=sum(value)/sum(total)) %>%\n",
    "  filter(freq > 0.9) %>%\n",
    "  arrange(freq) %>%\n",
    "  group_by(isotype, clade, positions) %>%\n",
    "  filter(row_number(freq) == 1) %>%\n",
    "  group_by(positions) %>% \n",
    "  mutate(best_code = resolve_code(variable)[1]) %>%\n",
    "  summarize(hifreq = length(unique(best_code)) == 1 & n() == 147 & !is.na(best_code[1]), variable=best_code[1]) %>%\n",
    "  filter(hifreq) %>%\n",
    "  select(positions, variable) %>%\n",
    "  mutate(ubiquitous = check_consensus_IDEs(positions, variable)) %>%\n",
    "  filter(ubiquitous)\n",
    "\n",
    "consensus"
   ]
  }
 ],
 "metadata": {
  "kernelspec": {
   "display_name": "R",
   "language": "R",
   "name": "ir"
  },
  "language_info": {
   "codemirror_mode": "r",
   "file_extension": ".r",
   "mimetype": "text/x-r-source",
   "name": "R",
   "pygments_lexer": "r",
   "version": "3.2.2"
  }
 },
 "nbformat": 4,
 "nbformat_minor": 0
}
