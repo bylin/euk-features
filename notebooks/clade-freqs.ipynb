{
 "cells": [
  {
   "cell_type": "code",
   "execution_count": 2,
   "metadata": {
    "collapsed": false,
    "scrolled": true
   },
   "outputs": [
    {
     "name": "stderr",
     "output_type": "stream",
     "text": [
      "\n",
      "Attaching package: ‘tidyr’\n",
      "\n",
      "The following object is masked from ‘package:reshape2’:\n",
      "\n",
      "    smiths\n",
      "\n"
     ]
    }
   ],
   "source": [
    "library(ggplot2)\n",
    "library(reshape2)\n",
    "library(dplyr)\n",
    "library(stringr)\n",
    "library(tidyr)\n",
    "theme_set(theme_bw())\n",
    "options(repr.plot.width=7, repr.plot.height=4)"
   ]
  },
  {
   "cell_type": "code",
   "execution_count": 8,
   "metadata": {
    "collapsed": true
   },
   "outputs": [],
   "source": [
    "identities = read.delim('identities.tsv', sep='\\t', stringsAsFactors=FALSE)\n",
    "identities$quality = as.logical(identities$quality)\n",
    "identities$restrict = as.logical(identities$restrict)"
   ]
  },
  {
   "cell_type": "markdown",
   "metadata": {},
   "source": [
    "# Introduction\n",
    "\n",
    "Here, I measure base frequencies and tabulate identity elements by clade. Biologists in the past have named things as identity elements if 100% of tRNAs have this element. I'll relax those restrictions to 98% among the quality and species-restricted tRNAs.\n",
    "\n",
    "Terminology:\n",
    "- An **identity element** is a base or base class (G, purine, etc.) located at a specific position.\n",
    "- **Consensus** identity elements for a clade means that all subclades contain this identity element.\n",
    "- **Diverged** positions for a clade means that all subclades contain an IDE at that position, even if the IDE differs. Of course, the IDE itself could be \"zoomed out\", to a lower specificity, and then the position wouldn't be described as diverged anymore. For example, if archaea and bacteria have A41 but eukarya have G41, then position 41 is diverged if you consider A41 and G41 to be separate IDEs, but not diverged if you call it as R41.\n",
    "- **Unique** identity elements for a subclade means that all sister subclades do not have an IDE at this position.\n",
    "- We could potentially have a case where certain subclades have an IDE at a position while others do not. These will be known as **shared** identity elements among two or more unrelated subclades.\n",
    "\n",
    "## Base combination table\n",
    "\n",
    "Reproduced from euk-Leu\n",
    "\n",
    "Symbol   |   Bases  | Rule  | Rank\n",
    ":--------|----------|-------|------\n",
    "R | G A | Purine | 2\n",
    "Y | U C | Pyrimidine | 2\n",
    "K | G U | Keto | 2\n",
    "M | A C | Amino | 2\n",
    "S | G C | Strong | 2\n",
    "W | A U | Weak | 2\n",
    "B | C G U | not A | 3\n",
    "D | G A U | not C | 3\n",
    "H | A C U | not G | 3\n",
    "V | G C A | not U | 3\n",
    "R:Y | G:C A:U | Purine-Pyrimidine | 2\n",
    "Y:R | C:G U:A | Pyrimidine-Purine | 2\n",
    "S:S | G:C C:G | Strong | 2\n",
    "W:W | A:U U:A | Weak | 2\n",
    "W:O | G:U U:G | Wobble | 2\n",
    "B:V | G:C C:G U:A | not A:U | 3\n",
    "V:B | G:C C:G A:U | not U:A | 3\n",
    "D:H | A:U U:A G:C | not C:G | 3\n",
    "H:D | A:U U:A C:G | not G:C | 3\n",
    "W:C | A:U U:A G:C C:G | Watson-Crick | 4\n",
    "G:N | G:C G:U C:G U:G | G | 5\n",
    "U:N | U:G U:A A:U G:U | U | 5\n",
    "C:O | A:U U:A G:C C:G G:U U:G | Canonical pairs | 6\n",
    "Y:Y | U:C C:U U:U C:C | Pyrimidine-pyrimidine mismatch | 7\n",
    "R:R | A:G G:A A:A G:G | Purine-purine mismatch | 7\n",
    "M:M | A:A G:G C:C U:U A:G A:C C:A C:U G:A U:C | Mismatch | 8"
   ]
  },
  {
   "cell_type": "markdown",
   "metadata": {},
   "source": [
    "# Consensus eukaryotic identity elements\n",
    "\n",
    "I will start with the easiest case: IDEs that are almost perfectly conserved among all eukaryotes."
   ]
  },
  {
   "cell_type": "code",
   "execution_count": 4,
   "metadata": {
    "collapsed": false
   },
   "outputs": [],
   "source": [
    "positions = colnames(identities)[which(str_detect(colnames(identities), 'X\\\\d+\\\\.'))]\n",
    "positions = c(positions, 'X8', 'X9', 'X14', 'X15', 'X16', 'X17', 'X18', 'X19', 'X20', 'X20a', 'X21', 'X26', 'X32', 'X33', 'X34', 'X35', 'X36', 'X37', 'X38', 'X44', 'X45', 'X46', 'X47', 'X48', 'X54', 'X55', 'X56', 'X57', 'X58', 'X59', 'X60', 'X73')"
   ]
  },
  {
   "cell_type": "code",
   "execution_count": 98,
   "metadata": {
    "collapsed": false
   },
   "outputs": [],
   "source": [
    "euk_freqs = identities %>% select(match(positions, colnames(identities))) %>%\n",
    "  gather(positions, bases) %>%\n",
    "  group_by(positions, bases) %>%\n",
    "  tally() %>%\n",
    "  group_by(positions) %>%\n",
    "  mutate(freq=n/sum(n)) %>%\n",
    "  group_by(positions) %>%\n",
    "  summarize(A = sum(freq[bases == \"A\"]),\n",
    "            C = sum(freq[bases == \"C\"]),\n",
    "            G = sum(freq[bases == \"G\"]),\n",
    "            U = sum(freq[bases == \"U\"]),\n",
    "            Purine = sum(freq[bases %in% c(\"A\", \"G\")]),\n",
    "            Pyrimidine = sum(freq[bases %in% c(\"C\", \"U\")]),\n",
    "            Weak = sum(freq[bases %in% c(\"A\", \"U\")]),\n",
    "            Strong = sum(freq[bases %in% c(\"G\", \"C\")]),\n",
    "            Amino = sum(freq[bases %in% c(\"A\", \"C\")]),\n",
    "            Keto = sum(freq[bases %in% c(\"G\", \"U\")]),\n",
    "            B = sum(freq[bases %in% c(\"C\", \"G\", \"U\")]),\n",
    "            D = sum(freq[bases %in% c(\"A\", \"G\", \"U\")]),\n",
    "            H = sum(freq[bases %in% c(\"A\", \"C\", \"U\")]),\n",
    "            V = sum(freq[bases %in% c(\"A\", \"C\", \"G\")]),\n",
    "            D = sum(freq[bases %in% c(\"A\", \"G\", \"U\")]),\n",
    "            GC = sum(freq[bases == \"G:C\"]),\n",
    "            AU = sum(freq[bases == \"A:U\"]),\n",
    "            UA = sum(freq[bases == \"U:A\"]),\n",
    "            CG = sum(freq[bases == \"C:G\"]),\n",
    "            PurinePyrimidine = sum(freq[bases %in% c(\"A:U\", \"U:A\", \"C:G\", \"G:C\")]),\n",
    "            StrongPair = sum(freq[bases %in% c(\"G:C\", \"C:G\")]),\n",
    "            WeakPair = sum(freq[bases %in% c(\"A:U\", \"U:A\")]),\n",
    "            Wobble = sum(freq[bases %in% c(\"G:U\", \"U:G\")]),\n",
    "            Paired = sum(freq[bases %in% c(\"A:U\", \"U:A\", \"C:G\", \"G:C\", \"G:U\", \"U:G\")]),\n",
    "            Mismatched = sum(freq[bases %in% c(\"A:A\", \"G:G\", \"C:C\", \"U:U\", \"A:G\", \"A:C\", \"C:A\", \"C:U\", \"G:A\", \"U:C\")])\n",
    "            )"
   ]
  },
  {
   "cell_type": "code",
   "execution_count": 99,
   "metadata": {
    "collapsed": false
   },
   "outputs": [
    {
     "name": "stderr",
     "output_type": "stream",
     "text": [
      "Using positions as id variables\n"
     ]
    },
    {
     "data": {
      "text/html": [
       "<table>\n",
       "<thead><tr><th></th><th scope=col>positions</th><th scope=col>variable</th><th scope=col>value</th></tr></thead>\n",
       "<tbody>\n",
       "\t<tr><th scope=row>1</th><td>X14</td><td>A</td><td>0.9942488</td></tr>\n",
       "\t<tr><th scope=row>2</th><td>X21</td><td>A</td><td>0.982819</td></tr>\n",
       "\t<tr><th scope=row>3</th><td>X58</td><td>A</td><td>0.9744916</td></tr>\n",
       "\t<tr><th scope=row>4</th><td>X18</td><td>G</td><td>0.9891507</td></tr>\n",
       "\t<tr><th scope=row>5</th><td>X19</td><td>G</td><td>0.9878808</td></tr>\n",
       "\t<tr><th scope=row>6</th><td>X33</td><td>U</td><td>0.9771222</td></tr>\n",
       "\t<tr><th scope=row>7</th><td>X54</td><td>U</td><td>0.9722147</td></tr>\n",
       "\t<tr><th scope=row>8</th><td>X55</td><td>U</td><td>0.9893412</td></tr>\n",
       "\t<tr><th scope=row>9</th><td>X8</td><td>U</td><td>0.9739654</td></tr>\n",
       "\t<tr><th scope=row>10</th><td>X15</td><td>Purine</td><td>0.997079</td></tr>\n",
       "\t<tr><th scope=row>11</th><td>X37</td><td>Purine</td><td>0.9939132</td></tr>\n",
       "\t<tr><th scope=row>12</th><td>X46</td><td>Purine</td><td>0.9905659</td></tr>\n",
       "\t<tr><th scope=row>13</th><td>X57</td><td>Purine</td><td>0.9932963</td></tr>\n",
       "\t<tr><th scope=row>14</th><td>X9</td><td>Purine</td><td>0.9873365</td></tr>\n",
       "\t<tr><th scope=row>15</th><td>X32</td><td>Pyrimidine</td><td>0.9966981</td></tr>\n",
       "\t<tr><th scope=row>16</th><td>X48</td><td>Pyrimidine</td><td>0.9627533</td></tr>\n",
       "\t<tr><th scope=row>17</th><td>X60</td><td>Pyrimidine</td><td>0.9588255</td></tr>\n",
       "\t<tr><th scope=row>18</th><td>X26</td><td>D</td><td>0.9781654</td></tr>\n",
       "\t<tr><th scope=row>19</th><td>X44</td><td>D</td><td>0.9505071</td></tr>\n",
       "\t<tr><th scope=row>20</th><td>X59</td><td>D</td><td>0.9507339</td></tr>\n",
       "\t<tr><th scope=row>21</th><td>X73</td><td>D</td><td>0.9691304</td></tr>\n",
       "\t<tr><th scope=row>22</th><td>X20</td><td>H</td><td>0.9689218</td></tr>\n",
       "\t<tr><th scope=row>23</th><td>X38</td><td>H</td><td>0.9946389</td></tr>\n",
       "\t<tr><th scope=row>24</th><td>X56</td><td>V</td><td>0.9515412</td></tr>\n",
       "\t<tr><th scope=row>25</th><td>X18.55</td><td>Wobble</td><td>0.9785918</td></tr>\n",
       "\t<tr><th scope=row>26</th><td>X10.25</td><td>Paired</td><td>0.9849145</td></tr>\n",
       "\t<tr><th scope=row>27</th><td>X19.56</td><td>Paired</td><td>0.9835901</td></tr>\n",
       "\t<tr><th scope=row>28</th><td>X3.70</td><td>Paired</td><td>0.9616466</td></tr>\n",
       "\t<tr><th scope=row>29</th><td>X49.65</td><td>Paired</td><td>0.9696838</td></tr>\n",
       "\t<tr><th scope=row>30</th><td>X53.61</td><td>Paired</td><td>0.9764782</td></tr>\n",
       "\t<tr><th scope=row>31</th><td>X54.58</td><td>Paired</td><td>0.9682777</td></tr>\n",
       "</tbody>\n",
       "</table>\n"
      ],
      "text/latex": [
       "\\begin{tabular}{r|lll}\n",
       "  & positions & variable & value\\\\\n",
       "\\hline\n",
       "\t1 & X14 & A & 0.9942488\\\\\n",
       "\t2 & X21 & A & 0.982819\\\\\n",
       "\t3 & X58 & A & 0.9744916\\\\\n",
       "\t4 & X18 & G & 0.9891507\\\\\n",
       "\t5 & X19 & G & 0.9878808\\\\\n",
       "\t6 & X33 & U & 0.9771222\\\\\n",
       "\t7 & X54 & U & 0.9722147\\\\\n",
       "\t8 & X55 & U & 0.9893412\\\\\n",
       "\t9 & X8 & U & 0.9739654\\\\\n",
       "\t10 & X15 & Purine & 0.997079\\\\\n",
       "\t11 & X37 & Purine & 0.9939132\\\\\n",
       "\t12 & X46 & Purine & 0.9905659\\\\\n",
       "\t13 & X57 & Purine & 0.9932963\\\\\n",
       "\t14 & X9 & Purine & 0.9873365\\\\\n",
       "\t15 & X32 & Pyrimidine & 0.9966981\\\\\n",
       "\t16 & X48 & Pyrimidine & 0.9627533\\\\\n",
       "\t17 & X60 & Pyrimidine & 0.9588255\\\\\n",
       "\t18 & X26 & D & 0.9781654\\\\\n",
       "\t19 & X44 & D & 0.9505071\\\\\n",
       "\t20 & X59 & D & 0.9507339\\\\\n",
       "\t21 & X73 & D & 0.9691304\\\\\n",
       "\t22 & X20 & H & 0.9689218\\\\\n",
       "\t23 & X38 & H & 0.9946389\\\\\n",
       "\t24 & X56 & V & 0.9515412\\\\\n",
       "\t25 & X18.55 & Wobble & 0.9785918\\\\\n",
       "\t26 & X10.25 & Paired & 0.9849145\\\\\n",
       "\t27 & X19.56 & Paired & 0.9835901\\\\\n",
       "\t28 & X3.70 & Paired & 0.9616466\\\\\n",
       "\t29 & X49.65 & Paired & 0.9696838\\\\\n",
       "\t30 & X53.61 & Paired & 0.9764782\\\\\n",
       "\t31 & X54.58 & Paired & 0.9682777\\\\\n",
       "\\end{tabular}\n"
      ],
      "text/plain": [
       "Source: local data frame [31 x 3]\n",
       "Groups: positions [31]\n",
       "\n",
       "   positions variable     value\n",
       "       <chr>   <fctr>     <dbl>\n",
       "1        X14        A 0.9942488\n",
       "2        X21        A 0.9828190\n",
       "3        X58        A 0.9744916\n",
       "4        X18        G 0.9891507\n",
       "5        X19        G 0.9878808\n",
       "6        X33        U 0.9771222\n",
       "7        X54        U 0.9722147\n",
       "8        X55        U 0.9893412\n",
       "9         X8        U 0.9739654\n",
       "10       X15   Purine 0.9970790\n",
       "# ... with 21 more rows"
      ]
     },
     "execution_count": 99,
     "metadata": {},
     "output_type": "execute_result"
    }
   ],
   "source": [
    "euk_freqs %>%\n",
    "  melt %>% \n",
    "  filter(value > 0.95) %>%\n",
    "  group_by(positions) %>% # remove duplicates\n",
    "  filter(row_number(value) == 1)"
   ]
  },
  {
   "cell_type": "markdown",
   "metadata": {},
   "source": []
  }
 ],
 "metadata": {
  "anaconda-cloud": {},
  "kernelspec": {
   "display_name": "R",
   "language": "R",
   "name": "ir"
  },
  "language_info": {
   "codemirror_mode": "r",
   "file_extension": ".r",
   "mimetype": "text/x-r-source",
   "name": "R",
   "pygments_lexer": "r",
   "version": "3.2.2"
  }
 },
 "nbformat": 4,
 "nbformat_minor": 0
}
