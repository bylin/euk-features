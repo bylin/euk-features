{
 "cells": [
  {
   "cell_type": "code",
   "execution_count": 37,
   "metadata": {
    "collapsed": false
   },
   "outputs": [],
   "source": [
    "library(ggplot2)\n",
    "library(reshape2)\n",
    "library(RColorBrewer)\n",
    "suppressMessages(library(dplyr))\n",
    "library(stringr)\n",
    "suppressMessages(library(tidyr))\n",
    "theme_set(theme_bw())\n",
    "library(knitr)\n",
    "library(scales)\n",
    "library(IRdisplay)\n",
    "options(repr.plot.width=7, repr.plot.height=4)\n",
    "isotypes = c('Ala', 'Arg', 'Asn', 'Asp', 'Cys', 'Gln', 'Glu', 'Gly', 'His', 'Ile', 'iMet', 'Leu', 'Lys', 'Met', 'Phe', 'Pro', 'Ser', 'Thr', 'Trp', 'Tyr', 'Val')\n",
    "\n",
    "paired_positions = c('X1.72'='1:72', 'X2.71'='2:71', 'X3.70'='3:70', 'X4.69'='4:69', 'X5.68'='5:68', 'X6.67'='6:67', 'X7.66'='7:66', 'X8.14'='8:14', 'X9.23'='9:23', 'X10.25'='10:25', 'X10.45'='10:45', 'X11.24'='11:24', 'X12.23'='12:23', 'X13.22'='13:22', 'X15.48'='15:48','X18.55'='18:55', 'X19.56'='19:56', 'X22.46'='22:46', 'X26.44'='26:44', 'X27.43'='27:43', 'X28.42'='28:42', 'X29.41'='29:41', 'X30.40'='30:40', 'X31.39'='31:39', 'X49.65'='49:65', 'X50.64'='50:64', 'X51.63'='51:63', 'X52.62'='52:62', 'X53.61'='53:61', 'X54.58'='54:58')\n",
    "paired_identities = c('GC', 'AU', 'UA', 'CG', 'GU', 'UG', 'Absent', 'PurinePyrimidine', 'PyrimidinePurine', 'StrongPair', 'WeakPair', 'AminoKeto', 'KetoAmino', 'Wobble', 'Paired', 'Bulge', 'Mismatched')\n",
    "paired_colors = c('GC'='gray20', 'AU'='gray20', 'UA'='gray20', 'CG'='gray20', 'GU'='gray20', 'UG'='gray20', 'Absent'='gray20', 'PurinePyrimidine'='gray40', 'PyrimidinePurine'='gray40', 'StrongPair'='gray40', 'WeakPair'='gray40', 'AminoKeto'='gray40', 'KetoAmino'='gray40', 'Wobble'='gray40', 'Paired'='gray40', 'Bulge'='gray40', 'Mismatched'='gray40')\n",
    "\n",
    "single_positions = c('X8'='8', 'X9'='9', 'X14'='14', 'X15'='15', 'X16'='16', 'X17'='17', 'X17a'='17a', 'X18'='18', 'X19'='19', 'X20'='20', 'X20a'='20a', 'X20b'='20b', 'X21'='21', 'X26'='26', 'X32'='32', 'X33'='33', 'X34'='34', 'X35'='35', 'X36'='36', 'X37'='37', 'X38'='38', 'X44'='44', 'X45'='45', 'X46'='46', 'X47'='47', 'X48'='48', 'X54'='54', 'X55'='55', 'X56'='56', 'X57'='57', 'X58'='58', 'X59'='59', 'X60'='60', 'X73'='73')\n",
    "single_identities = c('A', 'C', 'G', 'U', 'Absent', 'Purine', 'Pyrimidine', 'Weak', 'Strong', 'Amino', 'Keto', 'B', 'D', 'H', 'V')\n",
    "single_colors = c('A'='gray20', 'C'='gray20', 'G'='gray20', 'U'='gray20', 'Absent'='gray20', 'Purine'='gray40', 'Pyrimidine'='gray40', 'Weak'='gray40', 'Strong'='gray40', 'Amino'='gray40', 'Keto'='gray40', 'B'='gray40', 'D'='gray40', 'H'='gray40', 'V'='gray40')\n",
    "\n",
    "identities = read.delim('identities.tsv', sep='\\t', stringsAsFactors=FALSE)\n",
    "identities$quality = as.logical(identities$quality)\n",
    "identities$restrict = as.logical(identities$restrict)\n",
    "identities = identities %>% filter(isotype %in% isotypes)\n",
    "positions = colnames(identities)[which(str_detect(colnames(identities), \"X\\\\d+\\\\.\\\\d+$\"))]\n",
    "positions = c(positions, 'X8', 'X9', 'X14', 'X15', 'X16', 'X17', 'X17a', 'X18', 'X19', 'X20', 'X20a', 'X20b', 'X21', 'X26', 'X32', 'X33', 'X34', 'X35', 'X36', 'X37', 'X38', 'X44', 'X45', 'X46', 'X47', 'X48', 'X54', 'X55', 'X56', 'X57', 'X58', 'X59', 'X60', 'X73')\n",
    "\n",
    "load('best-freqs.RData')\n",
    "load('clade-isotype-specific.RData')\n",
    "load('clade-isotype-freqs.RData')"
   ]
  },
  {
   "cell_type": "markdown",
   "metadata": {},
   "source": [
    "# Universal\n",
    "\n",
    "## 8:14"
   ]
  },
  {
   "cell_type": "code",
   "execution_count": 28,
   "metadata": {
    "collapsed": false,
    "scrolled": false
   },
   "outputs": [
    {
     "data": {
      "text/html": [
       "<table>\n",
       "<thead><tr><th></th><th scope=col>clade</th><th scope=col>species</th><th scope=col>isotype</th><th scope=col>-:A</th><th scope=col>A:A</th><th scope=col>C:A</th><th scope=col>G:A</th><th scope=col>U:A</th><th scope=col>U:C</th><th scope=col>U:G</th><th scope=col>U:U</th></tr></thead>\n",
       "<tbody>\n",
       "\t<tr><th scope=row>1</th><td>Fungi        </td><td>sporReil_SRZ2</td><td>Cys          </td><td>0            </td><td>2            </td><td>0            </td><td>0            </td><td>0            </td><td>0            </td><td>0            </td><td>0            </td></tr>\n",
       "\t<tr><th scope=row>2</th><td>Fungi       </td><td>ustiMayd_521</td><td>Cys         </td><td>0           </td><td>1           </td><td>0           </td><td>0           </td><td>0           </td><td>0           </td><td>0           </td><td>0           </td></tr>\n",
       "</tbody>\n",
       "</table>\n"
      ],
      "text/latex": [
       "\\begin{tabular}{r|lllllllllll}\n",
       "  & clade & species & isotype & -:A & A:A & C:A & G:A & U:A & U:C & U:G & U:U\\\\\n",
       "\\hline\n",
       "\t1 & Fungi           & sporReil\\_SRZ2 & Cys             & 0               & 2               & 0               & 0               & 0               & 0               & 0               & 0              \\\\\n",
       "\t2 & Fungi          & ustiMayd\\_521 & Cys            & 0              & 1              & 0              & 0              & 0              & 0              & 0              & 0             \\\\\n",
       "\\end{tabular}\n"
      ],
      "text/plain": [
       "  clade       species isotype -:A A:A C:A G:A U:A U:C U:G U:U\n",
       "1 Fungi sporReil_SRZ2     Cys   0   2   0   0   0   0   0   0\n",
       "2 Fungi  ustiMayd_521     Cys   0   1   0   0   0   0   0   0"
      ]
     },
     "metadata": {},
     "output_type": "display_data"
    },
    {
     "data": {
      "text/html": [
       "<table>\n",
       "<thead><tr><th></th><th scope=col>clade</th><th scope=col>X8.14</th><th scope=col>Ala</th><th scope=col>Arg</th><th scope=col>Asn</th><th scope=col>Asp</th><th scope=col>Cys</th><th scope=col>Gln</th><th scope=col>Glu</th><th scope=col>Gly</th><th scope=col>Ile</th><th scope=col>Leu</th><th scope=col>Lys</th><th scope=col>Phe</th><th scope=col>Pro</th><th scope=col>Ser</th><th scope=col>Thr</th><th scope=col>Trp</th><th scope=col>Tyr</th><th scope=col>Val</th></tr></thead>\n",
       "<tbody>\n",
       "\t<tr><th scope=row>1</th><td>Fungi</td><td>A:A  </td><td>0    </td><td>0    </td><td>0    </td><td>0    </td><td>3    </td><td>0    </td><td>0    </td><td>0    </td><td>0    </td><td>0    </td><td>0    </td><td>0    </td><td>0    </td><td>0    </td><td>0    </td><td>0    </td><td>0    </td><td>0    </td></tr>\n",
       "\t<tr><th scope=row>2</th><td>Fungi</td><td>U:G  </td><td>0    </td><td>0    </td><td>1    </td><td>0    </td><td>0    </td><td>0    </td><td>0    </td><td>0    </td><td>0    </td><td>0    </td><td>0    </td><td>0    </td><td>0    </td><td>0    </td><td>0    </td><td>0    </td><td>0    </td><td>1    </td></tr>\n",
       "\t<tr><th scope=row>3</th><td>Insecta</td><td>C:A    </td><td>0      </td><td>0      </td><td>0      </td><td>0      </td><td>0      </td><td>0      </td><td>0      </td><td>0      </td><td>0      </td><td>0      </td><td>0      </td><td>0      </td><td>0      </td><td>0      </td><td>0      </td><td>0      </td><td>1      </td><td>0      </td></tr>\n",
       "\t<tr><th scope=row>4</th><td>Mammalia</td><td>-:A     </td><td>1       </td><td>0       </td><td>0       </td><td>0       </td><td>0       </td><td>0       </td><td>0       </td><td>0       </td><td>0       </td><td>0       </td><td>3       </td><td>0       </td><td>0       </td><td>0       </td><td>0       </td><td>0       </td><td>0       </td><td>1       </td></tr>\n",
       "\t<tr><th scope=row>5</th><td>Mammalia</td><td>A:A     </td><td>0       </td><td>0       </td><td>0       </td><td>0       </td><td>1       </td><td>1       </td><td>2       </td><td>0       </td><td>0       </td><td>0       </td><td>1       </td><td>1       </td><td>0       </td><td>0       </td><td>0       </td><td>0       </td><td>0       </td><td>0       </td></tr>\n",
       "\t<tr><th scope=row>6</th><td>Mammalia</td><td>C:A     </td><td>0       </td><td>1       </td><td>6       </td><td>3       </td><td>5       </td><td>0       </td><td>12      </td><td>0       </td><td>1       </td><td>2       </td><td>7       </td><td>1       </td><td>0       </td><td>5       </td><td>1       </td><td>0       </td><td>1       </td><td>1       </td></tr>\n",
       "\t<tr><th scope=row>7</th><td>Mammalia</td><td>G:A     </td><td>1       </td><td>0       </td><td>1       </td><td>0       </td><td>4       </td><td>0       </td><td>2       </td><td>0       </td><td>1       </td><td>1       </td><td>6       </td><td>0       </td><td>0       </td><td>0       </td><td>0       </td><td>0       </td><td>1       </td><td>0       </td></tr>\n",
       "\t<tr><th scope=row>8</th><td>Mammalia</td><td>U:C     </td><td>0       </td><td>0       </td><td>0       </td><td>0       </td><td>2       </td><td>0       </td><td>0       </td><td>1       </td><td>1       </td><td>0       </td><td>0       </td><td>1       </td><td>0       </td><td>0       </td><td>0       </td><td>0       </td><td>1       </td><td>0       </td></tr>\n",
       "\t<tr><th scope=row>9</th><td>Mammalia</td><td>U:G     </td><td>0       </td><td>1       </td><td>3       </td><td>0       </td><td>3       </td><td>1       </td><td>0       </td><td>8       </td><td>2       </td><td>0       </td><td>2       </td><td>0       </td><td>1       </td><td>3       </td><td>1       </td><td>0       </td><td>0       </td><td>1       </td></tr>\n",
       "\t<tr><th scope=row>10</th><td>Mammalia</td><td>U:U     </td><td>0       </td><td>0       </td><td>0       </td><td>0       </td><td>1       </td><td>0       </td><td>0       </td><td>0       </td><td>0       </td><td>1       </td><td>3       </td><td>2       </td><td>0       </td><td>0       </td><td>0       </td><td>0       </td><td>0       </td><td>0       </td></tr>\n",
       "\t<tr><th scope=row>11</th><td>Nematoda</td><td>C:A     </td><td>0       </td><td>0       </td><td>0       </td><td>0       </td><td>0       </td><td>0       </td><td>0       </td><td>1       </td><td>1       </td><td>0       </td><td>0       </td><td>0       </td><td>0       </td><td>0       </td><td>1       </td><td>0       </td><td>0       </td><td>0       </td></tr>\n",
       "\t<tr><th scope=row>12</th><td>Nematoda</td><td>G:A     </td><td>0       </td><td>0       </td><td>0       </td><td>0       </td><td>0       </td><td>0       </td><td>0       </td><td>1       </td><td>0       </td><td>0       </td><td>1       </td><td>0       </td><td>0       </td><td>0       </td><td>0       </td><td>0       </td><td>0       </td><td>0       </td></tr>\n",
       "\t<tr><th scope=row>13</th><td>Nematoda</td><td>U:G     </td><td>0       </td><td>0       </td><td>0       </td><td>0       </td><td>0       </td><td>1       </td><td>1       </td><td>0       </td><td>0       </td><td>0       </td><td>0       </td><td>0       </td><td>0       </td><td>0       </td><td>0       </td><td>0       </td><td>0       </td><td>0       </td></tr>\n",
       "\t<tr><th scope=row>14</th><td>Nematoda</td><td>U:U     </td><td>0       </td><td>0       </td><td>0       </td><td>0       </td><td>1       </td><td>0       </td><td>0       </td><td>0       </td><td>0       </td><td>0       </td><td>0       </td><td>0       </td><td>0       </td><td>0       </td><td>0       </td><td>0       </td><td>0       </td><td>0       </td></tr>\n",
       "\t<tr><th scope=row>15</th><td>Spermatophyta</td><td>A:A          </td><td>0            </td><td>0            </td><td>1            </td><td>0            </td><td>0            </td><td>0            </td><td>0            </td><td>1            </td><td>0            </td><td>0            </td><td>0            </td><td>1            </td><td>0            </td><td>0            </td><td>0            </td><td>0            </td><td>0            </td><td>0            </td></tr>\n",
       "\t<tr><th scope=row>16</th><td>Spermatophyta</td><td>C:A          </td><td>0            </td><td>0            </td><td>0            </td><td>0            </td><td>0            </td><td>0            </td><td>0            </td><td>0            </td><td>0            </td><td>0            </td><td>0            </td><td>0            </td><td>0            </td><td>0            </td><td>2            </td><td>0            </td><td>0            </td><td>1            </td></tr>\n",
       "\t<tr><th scope=row>17</th><td>Spermatophyta</td><td>U:C          </td><td>0            </td><td>0            </td><td>0            </td><td>0            </td><td>0            </td><td>0            </td><td>0            </td><td>1            </td><td>0            </td><td>0            </td><td>1            </td><td>0            </td><td>0            </td><td>0            </td><td>0            </td><td>0            </td><td>0            </td><td>0            </td></tr>\n",
       "\t<tr><th scope=row>18</th><td>Spermatophyta</td><td>U:G          </td><td>0            </td><td>0            </td><td>0            </td><td>0            </td><td>0            </td><td>0            </td><td>0            </td><td>0            </td><td>0            </td><td>0            </td><td>0            </td><td>0            </td><td>0            </td><td>1            </td><td>0            </td><td>0            </td><td>1            </td><td>0            </td></tr>\n",
       "\t<tr><th scope=row>19</th><td>Spermatophyta</td><td>U:U          </td><td>0            </td><td>0            </td><td>0            </td><td>0            </td><td>0            </td><td>0            </td><td>0            </td><td>0            </td><td>0            </td><td>0            </td><td>1            </td><td>0            </td><td>0            </td><td>0            </td><td>0            </td><td>0            </td><td>1            </td><td>1            </td></tr>\n",
       "\t<tr><th scope=row>20</th><td>Vertebrata</td><td>-:A       </td><td>0         </td><td>0         </td><td>0         </td><td>0         </td><td>0         </td><td>0         </td><td>0         </td><td>0         </td><td>0         </td><td>0         </td><td>0         </td><td>0         </td><td>0         </td><td>0         </td><td>0         </td><td>0         </td><td>0         </td><td>3         </td></tr>\n",
       "\t<tr><th scope=row>21</th><td>Vertebrata</td><td>A:A       </td><td>0         </td><td>0         </td><td>0         </td><td>0         </td><td>0         </td><td>0         </td><td>1         </td><td>0         </td><td>1         </td><td>0         </td><td>0         </td><td>0         </td><td>0         </td><td>0         </td><td>1         </td><td>0         </td><td>0         </td><td>0         </td></tr>\n",
       "\t<tr><th scope=row>22</th><td>Vertebrata</td><td>C:A       </td><td>1         </td><td>1         </td><td>0         </td><td>0         </td><td>0         </td><td>0         </td><td>0         </td><td>0         </td><td>1         </td><td>0         </td><td>1         </td><td>2         </td><td>0         </td><td>0         </td><td>2         </td><td>1         </td><td>0         </td><td>2         </td></tr>\n",
       "\t<tr><th scope=row>23</th><td>Vertebrata</td><td>G:A       </td><td>0         </td><td>0         </td><td>0         </td><td>0         </td><td>0         </td><td>0         </td><td>2         </td><td>1         </td><td>1         </td><td>1         </td><td>2         </td><td>5         </td><td>0         </td><td>0         </td><td>0         </td><td>0         </td><td>0         </td><td>0         </td></tr>\n",
       "\t<tr><th scope=row>24</th><td>Vertebrata</td><td>U:C       </td><td>1         </td><td>1         </td><td>0         </td><td>0         </td><td>2         </td><td>0         </td><td>1         </td><td>1         </td><td>1         </td><td>1         </td><td>0         </td><td>1         </td><td>1         </td><td>0         </td><td>1         </td><td>0         </td><td>0         </td><td>1         </td></tr>\n",
       "\t<tr><th scope=row>25</th><td>Vertebrata</td><td>U:G       </td><td>2         </td><td>0         </td><td>0         </td><td>1         </td><td>1         </td><td>1         </td><td>1         </td><td>1         </td><td>0         </td><td>0         </td><td>3         </td><td>1         </td><td>0         </td><td>1         </td><td>0         </td><td>0         </td><td>0         </td><td>2         </td></tr>\n",
       "\t<tr><th scope=row>26</th><td>Vertebrata</td><td>U:U       </td><td>0         </td><td>0         </td><td>0         </td><td>0         </td><td>0         </td><td>1         </td><td>2         </td><td>0         </td><td>0         </td><td>0         </td><td>1         </td><td>1         </td><td>0         </td><td>2         </td><td>0         </td><td>1         </td><td>0         </td><td>2         </td></tr>\n",
       "</tbody>\n",
       "</table>\n"
      ],
      "text/latex": [
       "\\begin{tabular}{r|llllllllllllllllllll}\n",
       "  & clade & X8.14 & Ala & Arg & Asn & Asp & Cys & Gln & Glu & Gly & Ile & Leu & Lys & Phe & Pro & Ser & Thr & Trp & Tyr & Val\\\\\n",
       "\\hline\n",
       "\t1 & Fungi & A:A   & 0     & 0     & 0     & 0     & 3     & 0     & 0     & 0     & 0     & 0     & 0     & 0     & 0     & 0     & 0     & 0     & 0     & 0    \\\\\n",
       "\t2 & Fungi & U:G   & 0     & 0     & 1     & 0     & 0     & 0     & 0     & 0     & 0     & 0     & 0     & 0     & 0     & 0     & 0     & 0     & 0     & 1    \\\\\n",
       "\t3 & Insecta & C:A     & 0       & 0       & 0       & 0       & 0       & 0       & 0       & 0       & 0       & 0       & 0       & 0       & 0       & 0       & 0       & 0       & 1       & 0      \\\\\n",
       "\t4 & Mammalia & -:A      & 1        & 0        & 0        & 0        & 0        & 0        & 0        & 0        & 0        & 0        & 3        & 0        & 0        & 0        & 0        & 0        & 0        & 1       \\\\\n",
       "\t5 & Mammalia & A:A      & 0        & 0        & 0        & 0        & 1        & 1        & 2        & 0        & 0        & 0        & 1        & 1        & 0        & 0        & 0        & 0        & 0        & 0       \\\\\n",
       "\t6 & Mammalia & C:A      & 0        & 1        & 6        & 3        & 5        & 0        & 12       & 0        & 1        & 2        & 7        & 1        & 0        & 5        & 1        & 0        & 1        & 1       \\\\\n",
       "\t7 & Mammalia & G:A      & 1        & 0        & 1        & 0        & 4        & 0        & 2        & 0        & 1        & 1        & 6        & 0        & 0        & 0        & 0        & 0        & 1        & 0       \\\\\n",
       "\t8 & Mammalia & U:C      & 0        & 0        & 0        & 0        & 2        & 0        & 0        & 1        & 1        & 0        & 0        & 1        & 0        & 0        & 0        & 0        & 1        & 0       \\\\\n",
       "\t9 & Mammalia & U:G      & 0        & 1        & 3        & 0        & 3        & 1        & 0        & 8        & 2        & 0        & 2        & 0        & 1        & 3        & 1        & 0        & 0        & 1       \\\\\n",
       "\t10 & Mammalia & U:U      & 0        & 0        & 0        & 0        & 1        & 0        & 0        & 0        & 0        & 1        & 3        & 2        & 0        & 0        & 0        & 0        & 0        & 0       \\\\\n",
       "\t11 & Nematoda & C:A      & 0        & 0        & 0        & 0        & 0        & 0        & 0        & 1        & 1        & 0        & 0        & 0        & 0        & 0        & 1        & 0        & 0        & 0       \\\\\n",
       "\t12 & Nematoda & G:A      & 0        & 0        & 0        & 0        & 0        & 0        & 0        & 1        & 0        & 0        & 1        & 0        & 0        & 0        & 0        & 0        & 0        & 0       \\\\\n",
       "\t13 & Nematoda & U:G      & 0        & 0        & 0        & 0        & 0        & 1        & 1        & 0        & 0        & 0        & 0        & 0        & 0        & 0        & 0        & 0        & 0        & 0       \\\\\n",
       "\t14 & Nematoda & U:U      & 0        & 0        & 0        & 0        & 1        & 0        & 0        & 0        & 0        & 0        & 0        & 0        & 0        & 0        & 0        & 0        & 0        & 0       \\\\\n",
       "\t15 & Spermatophyta & A:A           & 0             & 0             & 1             & 0             & 0             & 0             & 0             & 1             & 0             & 0             & 0             & 1             & 0             & 0             & 0             & 0             & 0             & 0            \\\\\n",
       "\t16 & Spermatophyta & C:A           & 0             & 0             & 0             & 0             & 0             & 0             & 0             & 0             & 0             & 0             & 0             & 0             & 0             & 0             & 2             & 0             & 0             & 1            \\\\\n",
       "\t17 & Spermatophyta & U:C           & 0             & 0             & 0             & 0             & 0             & 0             & 0             & 1             & 0             & 0             & 1             & 0             & 0             & 0             & 0             & 0             & 0             & 0            \\\\\n",
       "\t18 & Spermatophyta & U:G           & 0             & 0             & 0             & 0             & 0             & 0             & 0             & 0             & 0             & 0             & 0             & 0             & 0             & 1             & 0             & 0             & 1             & 0            \\\\\n",
       "\t19 & Spermatophyta & U:U           & 0             & 0             & 0             & 0             & 0             & 0             & 0             & 0             & 0             & 0             & 1             & 0             & 0             & 0             & 0             & 0             & 1             & 1            \\\\\n",
       "\t20 & Vertebrata & -:A        & 0          & 0          & 0          & 0          & 0          & 0          & 0          & 0          & 0          & 0          & 0          & 0          & 0          & 0          & 0          & 0          & 0          & 3         \\\\\n",
       "\t21 & Vertebrata & A:A        & 0          & 0          & 0          & 0          & 0          & 0          & 1          & 0          & 1          & 0          & 0          & 0          & 0          & 0          & 1          & 0          & 0          & 0         \\\\\n",
       "\t22 & Vertebrata & C:A        & 1          & 1          & 0          & 0          & 0          & 0          & 0          & 0          & 1          & 0          & 1          & 2          & 0          & 0          & 2          & 1          & 0          & 2         \\\\\n",
       "\t23 & Vertebrata & G:A        & 0          & 0          & 0          & 0          & 0          & 0          & 2          & 1          & 1          & 1          & 2          & 5          & 0          & 0          & 0          & 0          & 0          & 0         \\\\\n",
       "\t24 & Vertebrata & U:C        & 1          & 1          & 0          & 0          & 2          & 0          & 1          & 1          & 1          & 1          & 0          & 1          & 1          & 0          & 1          & 0          & 0          & 1         \\\\\n",
       "\t25 & Vertebrata & U:G        & 2          & 0          & 0          & 1          & 1          & 1          & 1          & 1          & 0          & 0          & 3          & 1          & 0          & 1          & 0          & 0          & 0          & 2         \\\\\n",
       "\t26 & Vertebrata & U:U        & 0          & 0          & 0          & 0          & 0          & 1          & 2          & 0          & 0          & 0          & 1          & 1          & 0          & 2          & 0          & 1          & 0          & 2         \\\\\n",
       "\\end{tabular}\n"
      ],
      "text/plain": [
       "           clade X8.14 Ala Arg Asn Asp Cys Gln Glu Gly Ile Leu Lys Phe Pro Ser\n",
       "1          Fungi   A:A   0   0   0   0   3   0   0   0   0   0   0   0   0   0\n",
       "2          Fungi   U:G   0   0   1   0   0   0   0   0   0   0   0   0   0   0\n",
       "3        Insecta   C:A   0   0   0   0   0   0   0   0   0   0   0   0   0   0\n",
       "4       Mammalia   -:A   1   0   0   0   0   0   0   0   0   0   3   0   0   0\n",
       "5       Mammalia   A:A   0   0   0   0   1   1   2   0   0   0   1   1   0   0\n",
       "6       Mammalia   C:A   0   1   6   3   5   0  12   0   1   2   7   1   0   5\n",
       "7       Mammalia   G:A   1   0   1   0   4   0   2   0   1   1   6   0   0   0\n",
       "8       Mammalia   U:C   0   0   0   0   2   0   0   1   1   0   0   1   0   0\n",
       "9       Mammalia   U:G   0   1   3   0   3   1   0   8   2   0   2   0   1   3\n",
       "10      Mammalia   U:U   0   0   0   0   1   0   0   0   0   1   3   2   0   0\n",
       "11      Nematoda   C:A   0   0   0   0   0   0   0   1   1   0   0   0   0   0\n",
       "12      Nematoda   G:A   0   0   0   0   0   0   0   1   0   0   1   0   0   0\n",
       "13      Nematoda   U:G   0   0   0   0   0   1   1   0   0   0   0   0   0   0\n",
       "14      Nematoda   U:U   0   0   0   0   1   0   0   0   0   0   0   0   0   0\n",
       "15 Spermatophyta   A:A   0   0   1   0   0   0   0   1   0   0   0   1   0   0\n",
       "16 Spermatophyta   C:A   0   0   0   0   0   0   0   0   0   0   0   0   0   0\n",
       "17 Spermatophyta   U:C   0   0   0   0   0   0   0   1   0   0   1   0   0   0\n",
       "18 Spermatophyta   U:G   0   0   0   0   0   0   0   0   0   0   0   0   0   1\n",
       "19 Spermatophyta   U:U   0   0   0   0   0   0   0   0   0   0   1   0   0   0\n",
       "20    Vertebrata   -:A   0   0   0   0   0   0   0   0   0   0   0   0   0   0\n",
       "21    Vertebrata   A:A   0   0   0   0   0   0   1   0   1   0   0   0   0   0\n",
       "22    Vertebrata   C:A   1   1   0   0   0   0   0   0   1   0   1   2   0   0\n",
       "23    Vertebrata   G:A   0   0   0   0   0   0   2   1   1   1   2   5   0   0\n",
       "24    Vertebrata   U:C   1   1   0   0   2   0   1   1   1   1   0   1   1   0\n",
       "25    Vertebrata   U:G   2   0   0   1   1   1   1   1   0   0   3   1   0   1\n",
       "26    Vertebrata   U:U   0   0   0   0   0   1   2   0   0   0   1   1   0   2\n",
       "   Thr Trp Tyr Val\n",
       "1    0   0   0   0\n",
       "2    0   0   0   1\n",
       "3    0   0   1   0\n",
       "4    0   0   0   1\n",
       "5    0   0   0   0\n",
       "6    1   0   1   1\n",
       "7    0   0   1   0\n",
       "8    0   0   1   0\n",
       "9    1   0   0   1\n",
       "10   0   0   0   0\n",
       "11   1   0   0   0\n",
       "12   0   0   0   0\n",
       "13   0   0   0   0\n",
       "14   0   0   0   0\n",
       "15   0   0   0   0\n",
       "16   2   0   0   1\n",
       "17   0   0   0   0\n",
       "18   0   0   1   0\n",
       "19   0   0   1   1\n",
       "20   0   0   0   3\n",
       "21   1   0   0   0\n",
       "22   2   1   0   2\n",
       "23   0   0   0   0\n",
       "24   1   0   0   1\n",
       "25   0   0   0   2\n",
       "26   0   1   0   2"
      ]
     },
     "metadata": {},
     "output_type": "display_data"
    }
   ],
   "source": [
    "# isotype/species check\n",
    "identities %>% filter(!restrict) %>% select(clade, species, isotype, X8.14) %>% \n",
    "  count(clade, species, isotype, X8.14) %>% spread(X8.14, n, 0) %>% filter(`U:A` == 0)\n",
    "\n",
    "# clade/isotype quantification\n",
    "identities %>% select(clade, isotype, restrict, X8.14) %>% filter(!restrict, X8.14 != 'U:A') %>%\n",
    "  count(clade, isotype, X8.14) %>% spread(isotype, n, 0)"
   ]
  },
  {
   "cell_type": "markdown",
   "metadata": {},
   "source": [
    "## R9"
   ]
  },
  {
   "cell_type": "code",
   "execution_count": 21,
   "metadata": {
    "collapsed": false
   },
   "outputs": [
    {
     "data": {
      "text/html": [
       "<table>\n",
       "<thead><tr><th></th><th scope=col>clade</th><th scope=col>isotype</th><th scope=col>-</th><th scope=col>A</th><th scope=col>C</th><th scope=col>G</th><th scope=col>U</th></tr></thead>\n",
       "<tbody>\n",
       "</tbody>\n",
       "</table>\n"
      ],
      "text/latex": [
       "\\begin{tabular}{r|lllllll}\n",
       "  & clade & isotype & - & A & C & G & U\\\\\n",
       "\\hline\n",
       "\\end{tabular}\n"
      ],
      "text/plain": [
       "[1] clade   isotype -       A       C       G       U      \n",
       "<0 rows> (or 0-length row.names)"
      ]
     },
     "metadata": {},
     "output_type": "display_data"
    },
    {
     "data": {
      "text/html": [
       "<table>\n",
       "<thead><tr><th></th><th scope=col>clade</th><th scope=col>X9</th><th scope=col>Arg</th><th scope=col>Asn</th><th scope=col>Gln</th><th scope=col>Glu</th><th scope=col>Gly</th><th scope=col>His</th><th scope=col>Ile</th><th scope=col>Leu</th><th scope=col>Lys</th><th scope=col>Met</th><th scope=col>Phe</th><th scope=col>Pro</th><th scope=col>Ser</th><th scope=col>Thr</th><th scope=col>Trp</th><th scope=col>Tyr</th><th scope=col>Val</th></tr></thead>\n",
       "<tbody>\n",
       "\t<tr><th scope=row>1</th><td>Fungi</td><td>C    </td><td>0    </td><td>0    </td><td>8    </td><td>0    </td><td>8    </td><td>26   </td><td>0    </td><td>0    </td><td>0    </td><td>0    </td><td>0    </td><td>2    </td><td>1    </td><td>0    </td><td>0    </td><td>2    </td><td>1    </td></tr>\n",
       "\t<tr><th scope=row>2</th><td>Fungi</td><td>U    </td><td>2    </td><td>0    </td><td>0    </td><td>0    </td><td>0    </td><td>0    </td><td>0    </td><td>0    </td><td>0    </td><td>0    </td><td>0    </td><td>0    </td><td>0    </td><td>0    </td><td>0    </td><td>0    </td><td>1    </td></tr>\n",
       "\t<tr><th scope=row>3</th><td>Insecta</td><td>-      </td><td>0      </td><td>1      </td><td>0      </td><td>0      </td><td>0      </td><td>0      </td><td>0      </td><td>0      </td><td>0      </td><td>0      </td><td>0      </td><td>0      </td><td>0      </td><td>0      </td><td>0      </td><td>0      </td><td>0      </td></tr>\n",
       "\t<tr><th scope=row>4</th><td>Insecta</td><td>C      </td><td>0      </td><td>0      </td><td>0      </td><td>1      </td><td>0      </td><td>22     </td><td>0      </td><td>0      </td><td>0      </td><td>0      </td><td>0      </td><td>0      </td><td>0      </td><td>0      </td><td>0      </td><td>0      </td><td>0      </td></tr>\n",
       "\t<tr><th scope=row>5</th><td>Insecta</td><td>U      </td><td>0      </td><td>0      </td><td>0      </td><td>39     </td><td>0      </td><td>0      </td><td>0      </td><td>0      </td><td>0      </td><td>0      </td><td>0      </td><td>0      </td><td>0      </td><td>0      </td><td>0      </td><td>0      </td><td>0      </td></tr>\n",
       "\t<tr><th scope=row>6</th><td>Mammalia</td><td>C       </td><td>0       </td><td>0       </td><td>1       </td><td>2       </td><td>1       </td><td>73      </td><td>1       </td><td>0       </td><td>1       </td><td>1       </td><td>0       </td><td>0       </td><td>0       </td><td>1       </td><td>0       </td><td>0       </td><td>0       </td></tr>\n",
       "\t<tr><th scope=row>7</th><td>Mammalia</td><td>U       </td><td>0       </td><td>1       </td><td>0       </td><td>6       </td><td>0       </td><td>0       </td><td>0       </td><td>1       </td><td>7       </td><td>0       </td><td>2       </td><td>0       </td><td>0       </td><td>0       </td><td>1       </td><td>0       </td><td>0       </td></tr>\n",
       "\t<tr><th scope=row>8</th><td>Nematoda</td><td>-       </td><td>0       </td><td>0       </td><td>0       </td><td>0       </td><td>0       </td><td>0       </td><td>0       </td><td>0       </td><td>0       </td><td>0       </td><td>0       </td><td>0       </td><td>0       </td><td>1       </td><td>0       </td><td>0       </td><td>0       </td></tr>\n",
       "\t<tr><th scope=row>9</th><td>Nematoda</td><td>C       </td><td>1       </td><td>0       </td><td>0       </td><td>0       </td><td>1       </td><td>1       </td><td>0       </td><td>1       </td><td>0       </td><td>0       </td><td>0       </td><td>0       </td><td>0       </td><td>0       </td><td>1       </td><td>0       </td><td>1       </td></tr>\n",
       "\t<tr><th scope=row>10</th><td>Nematoda</td><td>U       </td><td>0       </td><td>0       </td><td>0       </td><td>1       </td><td>1       </td><td>0       </td><td>0       </td><td>1       </td><td>0       </td><td>0       </td><td>1       </td><td>0       </td><td>0       </td><td>1       </td><td>0       </td><td>0       </td><td>1       </td></tr>\n",
       "\t<tr><th scope=row>11</th><td>Spermatophyta</td><td>C            </td><td>0            </td><td>0            </td><td>0            </td><td>60           </td><td>0            </td><td>0            </td><td>0            </td><td>0            </td><td>2            </td><td>0            </td><td>0            </td><td>0            </td><td>0            </td><td>0            </td><td>1            </td><td>1            </td><td>0            </td></tr>\n",
       "\t<tr><th scope=row>12</th><td>Spermatophyta</td><td>U            </td><td>2            </td><td>0            </td><td>0            </td><td>2            </td><td>0            </td><td>0            </td><td>1            </td><td>0            </td><td>0            </td><td>0            </td><td>0            </td><td>1            </td><td>0            </td><td>1            </td><td>0            </td><td>2            </td><td>1            </td></tr>\n",
       "\t<tr><th scope=row>13</th><td>Vertebrata</td><td>C         </td><td>0         </td><td>1         </td><td>0         </td><td>0         </td><td>2         </td><td>78        </td><td>1         </td><td>1         </td><td>1         </td><td>0         </td><td>0         </td><td>0         </td><td>0         </td><td>1         </td><td>0         </td><td>0         </td><td>1         </td></tr>\n",
       "\t<tr><th scope=row>14</th><td>Vertebrata</td><td>U         </td><td>1         </td><td>0         </td><td>1         </td><td>0         </td><td>1         </td><td>4         </td><td>1         </td><td>1         </td><td>4         </td><td>0         </td><td>19        </td><td>2         </td><td>0         </td><td>0         </td><td>0         </td><td>1         </td><td>2         </td></tr>\n",
       "</tbody>\n",
       "</table>\n"
      ],
      "text/latex": [
       "\\begin{tabular}{r|lllllllllllllllllll}\n",
       "  & clade & X9 & Arg & Asn & Gln & Glu & Gly & His & Ile & Leu & Lys & Met & Phe & Pro & Ser & Thr & Trp & Tyr & Val\\\\\n",
       "\\hline\n",
       "\t1 & Fungi & C     & 0     & 0     & 8     & 0     & 8     & 26    & 0     & 0     & 0     & 0     & 0     & 2     & 1     & 0     & 0     & 2     & 1    \\\\\n",
       "\t2 & Fungi & U     & 2     & 0     & 0     & 0     & 0     & 0     & 0     & 0     & 0     & 0     & 0     & 0     & 0     & 0     & 0     & 0     & 1    \\\\\n",
       "\t3 & Insecta & -       & 0       & 1       & 0       & 0       & 0       & 0       & 0       & 0       & 0       & 0       & 0       & 0       & 0       & 0       & 0       & 0       & 0      \\\\\n",
       "\t4 & Insecta & C       & 0       & 0       & 0       & 1       & 0       & 22      & 0       & 0       & 0       & 0       & 0       & 0       & 0       & 0       & 0       & 0       & 0      \\\\\n",
       "\t5 & Insecta & U       & 0       & 0       & 0       & 39      & 0       & 0       & 0       & 0       & 0       & 0       & 0       & 0       & 0       & 0       & 0       & 0       & 0      \\\\\n",
       "\t6 & Mammalia & C        & 0        & 0        & 1        & 2        & 1        & 73       & 1        & 0        & 1        & 1        & 0        & 0        & 0        & 1        & 0        & 0        & 0       \\\\\n",
       "\t7 & Mammalia & U        & 0        & 1        & 0        & 6        & 0        & 0        & 0        & 1        & 7        & 0        & 2        & 0        & 0        & 0        & 1        & 0        & 0       \\\\\n",
       "\t8 & Nematoda & -        & 0        & 0        & 0        & 0        & 0        & 0        & 0        & 0        & 0        & 0        & 0        & 0        & 0        & 1        & 0        & 0        & 0       \\\\\n",
       "\t9 & Nematoda & C        & 1        & 0        & 0        & 0        & 1        & 1        & 0        & 1        & 0        & 0        & 0        & 0        & 0        & 0        & 1        & 0        & 1       \\\\\n",
       "\t10 & Nematoda & U        & 0        & 0        & 0        & 1        & 1        & 0        & 0        & 1        & 0        & 0        & 1        & 0        & 0        & 1        & 0        & 0        & 1       \\\\\n",
       "\t11 & Spermatophyta & C             & 0             & 0             & 0             & 60            & 0             & 0             & 0             & 0             & 2             & 0             & 0             & 0             & 0             & 0             & 1             & 1             & 0            \\\\\n",
       "\t12 & Spermatophyta & U             & 2             & 0             & 0             & 2             & 0             & 0             & 1             & 0             & 0             & 0             & 0             & 1             & 0             & 1             & 0             & 2             & 1            \\\\\n",
       "\t13 & Vertebrata & C          & 0          & 1          & 0          & 0          & 2          & 78         & 1          & 1          & 1          & 0          & 0          & 0          & 0          & 1          & 0          & 0          & 1         \\\\\n",
       "\t14 & Vertebrata & U          & 1          & 0          & 1          & 0          & 1          & 4          & 1          & 1          & 4          & 0          & 19         & 2          & 0          & 0          & 0          & 1          & 2         \\\\\n",
       "\\end{tabular}\n"
      ],
      "text/plain": [
       "           clade X9 Arg Asn Gln Glu Gly His Ile Leu Lys Met Phe Pro Ser Thr Trp\n",
       "1          Fungi  C   0   0   8   0   8  26   0   0   0   0   0   2   1   0   0\n",
       "2          Fungi  U   2   0   0   0   0   0   0   0   0   0   0   0   0   0   0\n",
       "3        Insecta  -   0   1   0   0   0   0   0   0   0   0   0   0   0   0   0\n",
       "4        Insecta  C   0   0   0   1   0  22   0   0   0   0   0   0   0   0   0\n",
       "5        Insecta  U   0   0   0  39   0   0   0   0   0   0   0   0   0   0   0\n",
       "6       Mammalia  C   0   0   1   2   1  73   1   0   1   1   0   0   0   1   0\n",
       "7       Mammalia  U   0   1   0   6   0   0   0   1   7   0   2   0   0   0   1\n",
       "8       Nematoda  -   0   0   0   0   0   0   0   0   0   0   0   0   0   1   0\n",
       "9       Nematoda  C   1   0   0   0   1   1   0   1   0   0   0   0   0   0   1\n",
       "10      Nematoda  U   0   0   0   1   1   0   0   1   0   0   1   0   0   1   0\n",
       "11 Spermatophyta  C   0   0   0  60   0   0   0   0   2   0   0   0   0   0   1\n",
       "12 Spermatophyta  U   2   0   0   2   0   0   1   0   0   0   0   1   0   1   0\n",
       "13    Vertebrata  C   0   1   0   0   2  78   1   1   1   0   0   0   0   1   0\n",
       "14    Vertebrata  U   1   0   1   0   1   4   1   1   4   0  19   2   0   0   0\n",
       "   Tyr Val\n",
       "1    2   1\n",
       "2    0   1\n",
       "3    0   0\n",
       "4    0   0\n",
       "5    0   0\n",
       "6    0   0\n",
       "7    0   0\n",
       "8    0   0\n",
       "9    0   1\n",
       "10   0   1\n",
       "11   1   0\n",
       "12   2   1\n",
       "13   0   1\n",
       "14   1   2"
      ]
     },
     "metadata": {},
     "output_type": "display_data"
    }
   ],
   "source": [
    "# clade/isotype check\n",
    "identities %>% filter(!restrict) %>% select(clade, isotype, X9) %>%\n",
    "  count(clade, isotype, X9) %>% spread(X9, n, 0) %>% filter(A == 0 & G == 0)\n",
    "\n",
    "# clade/isotype quantification\n",
    "identities %>% select(clade, isotype, restrict, X9) %>% filter(!restrict, !(X9 %in% c('A', 'G'))) %>%\n",
    "  count(clade, isotype, X9) %>% spread(isotype, n, 0)"
   ]
  },
  {
   "cell_type": "code",
   "execution_count": 20,
   "metadata": {
    "collapsed": false
   },
   "outputs": [
    {
     "data": {
      "text/html": [
       "<table>\n",
       "<thead><tr><th></th><th scope=col>clade</th><th scope=col>isotype</th><th scope=col>A</th><th scope=col>C</th><th scope=col>G</th><th scope=col>U</th></tr></thead>\n",
       "<tbody>\n",
       "\t<tr><th scope=row>1</th><td>Insecta</td><td>Glu    </td><td>0      </td><td>1      </td><td>136    </td><td>163    </td></tr>\n",
       "\t<tr><th scope=row>2</th><td>Insecta</td><td>His    </td><td>1      </td><td>114    </td><td>0      </td><td>0      </td></tr>\n",
       "\t<tr><th scope=row>3</th><td>Mammalia</td><td>His     </td><td>1       </td><td>365     </td><td>4       </td><td>0       </td></tr>\n",
       "\t<tr><th scope=row>4</th><td>Spermatophyta</td><td>Glu          </td><td>360          </td><td>236          </td><td>2            </td><td>2            </td></tr>\n",
       "\t<tr><th scope=row>5</th><td>Vertebrata</td><td>His       </td><td>4         </td><td>373       </td><td>0         </td><td>5         </td></tr>\n",
       "\t<tr><th scope=row>6</th><td>Vertebrata</td><td>Phe       </td><td>412       </td><td>0         </td><td>1         </td><td>55        </td></tr>\n",
       "</tbody>\n",
       "</table>\n"
      ],
      "text/latex": [
       "\\begin{tabular}{r|llllll}\n",
       "  & clade & isotype & A & C & G & U\\\\\n",
       "\\hline\n",
       "\t1 & Insecta & Glu     & 0       & 1       & 136     & 163    \\\\\n",
       "\t2 & Insecta & His     & 1       & 114     & 0       & 0      \\\\\n",
       "\t3 & Mammalia & His      & 1        & 365      & 4        & 0       \\\\\n",
       "\t4 & Spermatophyta & Glu           & 360           & 236           & 2             & 2            \\\\\n",
       "\t5 & Vertebrata & His        & 4          & 373        & 0          & 5         \\\\\n",
       "\t6 & Vertebrata & Phe        & 412        & 0          & 1          & 55        \\\\\n",
       "\\end{tabular}\n"
      ],
      "text/plain": [
       "          clade isotype   A   C   G   U\n",
       "1       Insecta     Glu   0   1 136 163\n",
       "2       Insecta     His   1 114   0   0\n",
       "3      Mammalia     His   1 365   4   0\n",
       "4 Spermatophyta     Glu 360 236   2   2\n",
       "5    Vertebrata     His   4 373   0   5\n",
       "6    Vertebrata     Phe 412   0   1  55"
      ]
     },
     "metadata": {},
     "output_type": "display_data"
    }
   ],
   "source": [
    "# odd bumps in Glu, His, Phe\n",
    "identities %>% filter(((clade %in% c(\"Insecta\", \"Mammalia\", \"Vertebrata\")) & isotype == \"His\") | \n",
    "                      ((clade %in% c(\"Insecta\", \"Spermatophyta\")) & isotype == \"Glu\") |\n",
    "                      (clade == \"Vertebrata\" & isotype == \"Phe\")) %>%\n",
    "  select(clade, isotype, X9) %>% group_by(clade, isotype, X9) %>% tally %>% spread(X9, n, 0)"
   ]
  },
  {
   "cell_type": "code",
   "execution_count": 22,
   "metadata": {
    "collapsed": true
   },
   "outputs": [
    {
     "data": {
      "text/html": [
       "<table>\n",
       "<thead><tr><th></th><th scope=col>species</th><th scope=col>C</th><th scope=col>G</th><th scope=col>U</th></tr></thead>\n",
       "<tbody>\n",
       "\t<tr><th scope=row>1</th><td>anoGam2</td><td>0      </td><td>11     </td><td>15     </td></tr>\n",
       "\t<tr><th scope=row>2</th><td>apiMel1</td><td>0      </td><td>11     </td><td>0      </td></tr>\n",
       "\t<tr><th scope=row>3</th><td>bomTer1</td><td>0      </td><td>10     </td><td>0      </td></tr>\n",
       "\t<tr><th scope=row>4</th><td>dm6</td><td>0  </td><td>6  </td><td>13 </td></tr>\n",
       "\t<tr><th scope=row>5</th><td>dp4</td><td>0  </td><td>6  </td><td>17 </td></tr>\n",
       "\t<tr><th scope=row>6</th><td>droAna3</td><td>0      </td><td>6      </td><td>13     </td></tr>\n",
       "\t<tr><th scope=row>7</th><td>droEre2</td><td>0      </td><td>6      </td><td>12     </td></tr>\n",
       "\t<tr><th scope=row>8</th><td>droGri2</td><td>1      </td><td>5      </td><td>10     </td></tr>\n",
       "\t<tr><th scope=row>9</th><td>droMoj3</td><td>0      </td><td>6      </td><td>11     </td></tr>\n",
       "\t<tr><th scope=row>10</th><td>droPer1</td><td>0      </td><td>6      </td><td>14     </td></tr>\n",
       "\t<tr><th scope=row>11</th><td>droSec1</td><td>0      </td><td>6      </td><td>12     </td></tr>\n",
       "\t<tr><th scope=row>12</th><td>droSim1</td><td>0      </td><td>3      </td><td>10     </td></tr>\n",
       "\t<tr><th scope=row>13</th><td>droVir3</td><td>0      </td><td>6      </td><td>10     </td></tr>\n",
       "\t<tr><th scope=row>14</th><td>droWil1</td><td>0      </td><td>9      </td><td>12     </td></tr>\n",
       "\t<tr><th scope=row>15</th><td>droYak2</td><td>0      </td><td>6      </td><td>14     </td></tr>\n",
       "\t<tr><th scope=row>16</th><td>mayDes1</td><td>0      </td><td>6      </td><td>0      </td></tr>\n",
       "\t<tr><th scope=row>17</th><td>nasVit1</td><td>0      </td><td>14     </td><td>0      </td></tr>\n",
       "\t<tr><th scope=row>18</th><td>triCas1</td><td>0      </td><td>13     </td><td>0      </td></tr>\n",
       "</tbody>\n",
       "</table>\n"
      ],
      "text/latex": [
       "\\begin{tabular}{r|llll}\n",
       "  & species & C & G & U\\\\\n",
       "\\hline\n",
       "\t1 & anoGam2 & 0       & 11      & 15     \\\\\n",
       "\t2 & apiMel1 & 0       & 11      & 0      \\\\\n",
       "\t3 & bomTer1 & 0       & 10      & 0      \\\\\n",
       "\t4 & dm6 & 0   & 6   & 13 \\\\\n",
       "\t5 & dp4 & 0   & 6   & 17 \\\\\n",
       "\t6 & droAna3 & 0       & 6       & 13     \\\\\n",
       "\t7 & droEre2 & 0       & 6       & 12     \\\\\n",
       "\t8 & droGri2 & 1       & 5       & 10     \\\\\n",
       "\t9 & droMoj3 & 0       & 6       & 11     \\\\\n",
       "\t10 & droPer1 & 0       & 6       & 14     \\\\\n",
       "\t11 & droSec1 & 0       & 6       & 12     \\\\\n",
       "\t12 & droSim1 & 0       & 3       & 10     \\\\\n",
       "\t13 & droVir3 & 0       & 6       & 10     \\\\\n",
       "\t14 & droWil1 & 0       & 9       & 12     \\\\\n",
       "\t15 & droYak2 & 0       & 6       & 14     \\\\\n",
       "\t16 & mayDes1 & 0       & 6       & 0      \\\\\n",
       "\t17 & nasVit1 & 0       & 14      & 0      \\\\\n",
       "\t18 & triCas1 & 0       & 13      & 0      \\\\\n",
       "\\end{tabular}\n"
      ],
      "text/plain": [
       "   species C  G  U\n",
       "1  anoGam2 0 11 15\n",
       "2  apiMel1 0 11  0\n",
       "3  bomTer1 0 10  0\n",
       "4      dm6 0  6 13\n",
       "5      dp4 0  6 17\n",
       "6  droAna3 0  6 13\n",
       "7  droEre2 0  6 12\n",
       "8  droGri2 1  5 10\n",
       "9  droMoj3 0  6 11\n",
       "10 droPer1 0  6 14\n",
       "11 droSec1 0  6 12\n",
       "12 droSim1 0  3 10\n",
       "13 droVir3 0  6 10\n",
       "14 droWil1 0  9 12\n",
       "15 droYak2 0  6 14\n",
       "16 mayDes1 0  6  0\n",
       "17 nasVit1 0 14  0\n",
       "18 triCas1 0 13  0"
      ]
     },
     "metadata": {},
     "output_type": "display_data"
    },
    {
     "data": {
      "text/html": [
       "<table>\n",
       "<thead><tr><th></th><th scope=col>species</th><th scope=col>A</th><th scope=col>C</th></tr></thead>\n",
       "<tbody>\n",
       "\t<tr><th scope=row>1</th><td>anoGam2</td><td>0      </td><td>21     </td></tr>\n",
       "\t<tr><th scope=row>2</th><td>apiMel1</td><td>0      </td><td>7      </td></tr>\n",
       "\t<tr><th scope=row>3</th><td>bomTer1</td><td>0      </td><td>6      </td></tr>\n",
       "\t<tr><th scope=row>4</th><td>dm6</td><td>0  </td><td>5  </td></tr>\n",
       "\t<tr><th scope=row>5</th><td>dp4</td><td>0  </td><td>5  </td></tr>\n",
       "\t<tr><th scope=row>6</th><td>droAna3</td><td>0      </td><td>5      </td></tr>\n",
       "\t<tr><th scope=row>7</th><td>droEre2</td><td>0      </td><td>6      </td></tr>\n",
       "\t<tr><th scope=row>8</th><td>droGri2</td><td>0      </td><td>5      </td></tr>\n",
       "\t<tr><th scope=row>9</th><td>droMoj3</td><td>0      </td><td>5      </td></tr>\n",
       "\t<tr><th scope=row>10</th><td>droPer1</td><td>0      </td><td>7      </td></tr>\n",
       "\t<tr><th scope=row>11</th><td>droSec1</td><td>0      </td><td>6      </td></tr>\n",
       "\t<tr><th scope=row>12</th><td>droSim1</td><td>1      </td><td>4      </td></tr>\n",
       "\t<tr><th scope=row>13</th><td>droVir3</td><td>0      </td><td>5      </td></tr>\n",
       "\t<tr><th scope=row>14</th><td>droWil1</td><td>0      </td><td>7      </td></tr>\n",
       "\t<tr><th scope=row>15</th><td>droYak2</td><td>0      </td><td>5      </td></tr>\n",
       "\t<tr><th scope=row>16</th><td>nasVit1</td><td>0      </td><td>8      </td></tr>\n",
       "\t<tr><th scope=row>17</th><td>triCas1</td><td>0      </td><td>7      </td></tr>\n",
       "</tbody>\n",
       "</table>\n"
      ],
      "text/latex": [
       "\\begin{tabular}{r|lll}\n",
       "  & species & A & C\\\\\n",
       "\\hline\n",
       "\t1 & anoGam2 & 0       & 21     \\\\\n",
       "\t2 & apiMel1 & 0       & 7      \\\\\n",
       "\t3 & bomTer1 & 0       & 6      \\\\\n",
       "\t4 & dm6 & 0   & 5  \\\\\n",
       "\t5 & dp4 & 0   & 5  \\\\\n",
       "\t6 & droAna3 & 0       & 5      \\\\\n",
       "\t7 & droEre2 & 0       & 6      \\\\\n",
       "\t8 & droGri2 & 0       & 5      \\\\\n",
       "\t9 & droMoj3 & 0       & 5      \\\\\n",
       "\t10 & droPer1 & 0       & 7      \\\\\n",
       "\t11 & droSec1 & 0       & 6      \\\\\n",
       "\t12 & droSim1 & 1       & 4      \\\\\n",
       "\t13 & droVir3 & 0       & 5      \\\\\n",
       "\t14 & droWil1 & 0       & 7      \\\\\n",
       "\t15 & droYak2 & 0       & 5      \\\\\n",
       "\t16 & nasVit1 & 0       & 8      \\\\\n",
       "\t17 & triCas1 & 0       & 7      \\\\\n",
       "\\end{tabular}\n"
      ],
      "text/plain": [
       "   species A  C\n",
       "1  anoGam2 0 21\n",
       "2  apiMel1 0  7\n",
       "3  bomTer1 0  6\n",
       "4      dm6 0  5\n",
       "5      dp4 0  5\n",
       "6  droAna3 0  5\n",
       "7  droEre2 0  6\n",
       "8  droGri2 0  5\n",
       "9  droMoj3 0  5\n",
       "10 droPer1 0  7\n",
       "11 droSec1 0  6\n",
       "12 droSim1 1  4\n",
       "13 droVir3 0  5\n",
       "14 droWil1 0  7\n",
       "15 droYak2 0  5\n",
       "16 nasVit1 0  8\n",
       "17 triCas1 0  7"
      ]
     },
     "metadata": {},
     "output_type": "display_data"
    },
    {
     "data": {
      "text/html": [
       "<table>\n",
       "<thead><tr><th></th><th scope=col>species</th><th scope=col>A</th><th scope=col>C</th><th scope=col>G</th></tr></thead>\n",
       "<tbody>\n",
       "\t<tr><th scope=row>1</th><td>ailMel1</td><td>0      </td><td>8      </td><td>0      </td></tr>\n",
       "\t<tr><th scope=row>2</th><td>balAcu1</td><td>0      </td><td>8      </td><td>0      </td></tr>\n",
       "\t<tr><th scope=row>3</th><td>bosTau8</td><td>0      </td><td>15     </td><td>0      </td></tr>\n",
       "\t<tr><th scope=row>4</th><td>calJac3</td><td>0      </td><td>7      </td><td>0      </td></tr>\n",
       "\t<tr><th scope=row>5</th><td>canFam3</td><td>0      </td><td>8      </td><td>0      </td></tr>\n",
       "\t<tr><th scope=row>6</th><td>cavPor3</td><td>0      </td><td>7      </td><td>0      </td></tr>\n",
       "\t<tr><th scope=row>7</th><td>cerSim1</td><td>0      </td><td>9      </td><td>0      </td></tr>\n",
       "\t<tr><th scope=row>8</th><td>criGri1</td><td>0      </td><td>13     </td><td>0      </td></tr>\n",
       "\t<tr><th scope=row>9</th><td>dasNov3</td><td>1      </td><td>8      </td><td>0      </td></tr>\n",
       "\t<tr><th scope=row>10</th><td>dipOrd1</td><td>0      </td><td>1      </td><td>0      </td></tr>\n",
       "\t<tr><th scope=row>11</th><td>equCab2</td><td>0      </td><td>7      </td><td>0      </td></tr>\n",
       "\t<tr><th scope=row>12</th><td>eriEur2</td><td>0      </td><td>5      </td><td>0      </td></tr>\n",
       "\t<tr><th scope=row>13</th><td>felCat5</td><td>0      </td><td>9      </td><td>0      </td></tr>\n",
       "\t<tr><th scope=row>14</th><td>gorGor3</td><td>0      </td><td>7      </td><td>0      </td></tr>\n",
       "\t<tr><th scope=row>15</th><td>hetGla2</td><td>0      </td><td>6      </td><td>0      </td></tr>\n",
       "\t<tr><th scope=row>16</th><td>hg19</td><td>0   </td><td>10  </td><td>0   </td></tr>\n",
       "\t<tr><th scope=row>17</th><td>loxAfr3</td><td>0      </td><td>18     </td><td>0      </td></tr>\n",
       "\t<tr><th scope=row>18</th><td>macEug2</td><td>0      </td><td>6      </td><td>0      </td></tr>\n",
       "\t<tr><th scope=row>19</th><td>micMur1</td><td>0      </td><td>3      </td><td>0      </td></tr>\n",
       "\t<tr><th scope=row>20</th><td>mm10</td><td>0   </td><td>10  </td><td>0   </td></tr>\n",
       "\t<tr><th scope=row>21</th><td>monDom5</td><td>0      </td><td>9      </td><td>0      </td></tr>\n",
       "\t<tr><th scope=row>22</th><td>musFur1</td><td>0      </td><td>6      </td><td>0      </td></tr>\n",
       "\t<tr><th scope=row>23</th><td>myoLuc2</td><td>0      </td><td>5      </td><td>3      </td></tr>\n",
       "\t<tr><th scope=row>24</th><td>nomLeu3</td><td>0      </td><td>10     </td><td>0      </td></tr>\n",
       "\t<tr><th scope=row>25</th><td>ochPri3</td><td>0      </td><td>5      </td><td>0      </td></tr>\n",
       "\t<tr><th scope=row>26</th><td>ornAna1</td><td>0      </td><td>6      </td><td>0      </td></tr>\n",
       "\t<tr><th scope=row>27</th><td>oryCun2</td><td>0      </td><td>9      </td><td>0      </td></tr>\n",
       "\t<tr><th scope=row>28</th><td>otoGar3</td><td>0      </td><td>8      </td><td>0      </td></tr>\n",
       "\t<tr><th scope=row>29</th><td>oviAri3</td><td>0      </td><td>11     </td><td>0      </td></tr>\n",
       "\t<tr><th scope=row>30</th><td>panTro4</td><td>0      </td><td>9      </td><td>1      </td></tr>\n",
       "\t<tr><th scope=row>31</th><td>papAnu2</td><td>0      </td><td>10     </td><td>0      </td></tr>\n",
       "\t<tr><th scope=row>32</th><td>ponAbe2</td><td>0      </td><td>10     </td><td>0      </td></tr>\n",
       "\t<tr><th scope=row>33</th><td>proCap1</td><td>0      </td><td>7      </td><td>0      </td></tr>\n",
       "\t<tr><th scope=row>34</th><td>pteVam1</td><td>0      </td><td>4      </td><td>0      </td></tr>\n",
       "\t<tr><th scope=row>35</th><td>rheMac8</td><td>0      </td><td>12     </td><td>0      </td></tr>\n",
       "\t<tr><th scope=row>36</th><td>rn6</td><td>0  </td><td>10 </td><td>0  </td></tr>\n",
       "\t<tr><th scope=row>37</th><td>saiBol1</td><td>0      </td><td>7      </td><td>0      </td></tr>\n",
       "\t<tr><th scope=row>38</th><td>sarHar1</td><td>0      </td><td>9      </td><td>0      </td></tr>\n",
       "\t<tr><th scope=row>39</th><td>sorAra2</td><td>0      </td><td>7      </td><td>0      </td></tr>\n",
       "\t<tr><th scope=row>40</th><td>speTri2</td><td>0      </td><td>6      </td><td>0      </td></tr>\n",
       "\t<tr><th scope=row>41</th><td>susScr3</td><td>0      </td><td>9      </td><td>0      </td></tr>\n",
       "\t<tr><th scope=row>42</th><td>tarSyr2</td><td>0      </td><td>6      </td><td>0      </td></tr>\n",
       "\t<tr><th scope=row>43</th><td>triMan1</td><td>0      </td><td>9      </td><td>0      </td></tr>\n",
       "\t<tr><th scope=row>44</th><td>turTru2</td><td>0      </td><td>8      </td><td>0      </td></tr>\n",
       "\t<tr><th scope=row>45</th><td>vicPac2</td><td>0      </td><td>8      </td><td>0      </td></tr>\n",
       "</tbody>\n",
       "</table>\n"
      ],
      "text/latex": [
       "\\begin{tabular}{r|llll}\n",
       "  & species & A & C & G\\\\\n",
       "\\hline\n",
       "\t1 & ailMel1 & 0       & 8       & 0      \\\\\n",
       "\t2 & balAcu1 & 0       & 8       & 0      \\\\\n",
       "\t3 & bosTau8 & 0       & 15      & 0      \\\\\n",
       "\t4 & calJac3 & 0       & 7       & 0      \\\\\n",
       "\t5 & canFam3 & 0       & 8       & 0      \\\\\n",
       "\t6 & cavPor3 & 0       & 7       & 0      \\\\\n",
       "\t7 & cerSim1 & 0       & 9       & 0      \\\\\n",
       "\t8 & criGri1 & 0       & 13      & 0      \\\\\n",
       "\t9 & dasNov3 & 1       & 8       & 0      \\\\\n",
       "\t10 & dipOrd1 & 0       & 1       & 0      \\\\\n",
       "\t11 & equCab2 & 0       & 7       & 0      \\\\\n",
       "\t12 & eriEur2 & 0       & 5       & 0      \\\\\n",
       "\t13 & felCat5 & 0       & 9       & 0      \\\\\n",
       "\t14 & gorGor3 & 0       & 7       & 0      \\\\\n",
       "\t15 & hetGla2 & 0       & 6       & 0      \\\\\n",
       "\t16 & hg19 & 0    & 10   & 0   \\\\\n",
       "\t17 & loxAfr3 & 0       & 18      & 0      \\\\\n",
       "\t18 & macEug2 & 0       & 6       & 0      \\\\\n",
       "\t19 & micMur1 & 0       & 3       & 0      \\\\\n",
       "\t20 & mm10 & 0    & 10   & 0   \\\\\n",
       "\t21 & monDom5 & 0       & 9       & 0      \\\\\n",
       "\t22 & musFur1 & 0       & 6       & 0      \\\\\n",
       "\t23 & myoLuc2 & 0       & 5       & 3      \\\\\n",
       "\t24 & nomLeu3 & 0       & 10      & 0      \\\\\n",
       "\t25 & ochPri3 & 0       & 5       & 0      \\\\\n",
       "\t26 & ornAna1 & 0       & 6       & 0      \\\\\n",
       "\t27 & oryCun2 & 0       & 9       & 0      \\\\\n",
       "\t28 & otoGar3 & 0       & 8       & 0      \\\\\n",
       "\t29 & oviAri3 & 0       & 11      & 0      \\\\\n",
       "\t30 & panTro4 & 0       & 9       & 1      \\\\\n",
       "\t31 & papAnu2 & 0       & 10      & 0      \\\\\n",
       "\t32 & ponAbe2 & 0       & 10      & 0      \\\\\n",
       "\t33 & proCap1 & 0       & 7       & 0      \\\\\n",
       "\t34 & pteVam1 & 0       & 4       & 0      \\\\\n",
       "\t35 & rheMac8 & 0       & 12      & 0      \\\\\n",
       "\t36 & rn6 & 0   & 10  & 0  \\\\\n",
       "\t37 & saiBol1 & 0       & 7       & 0      \\\\\n",
       "\t38 & sarHar1 & 0       & 9       & 0      \\\\\n",
       "\t39 & sorAra2 & 0       & 7       & 0      \\\\\n",
       "\t40 & speTri2 & 0       & 6       & 0      \\\\\n",
       "\t41 & susScr3 & 0       & 9       & 0      \\\\\n",
       "\t42 & tarSyr2 & 0       & 6       & 0      \\\\\n",
       "\t43 & triMan1 & 0       & 9       & 0      \\\\\n",
       "\t44 & turTru2 & 0       & 8       & 0      \\\\\n",
       "\t45 & vicPac2 & 0       & 8       & 0      \\\\\n",
       "\\end{tabular}\n"
      ],
      "text/plain": [
       "   species A  C G\n",
       "1  ailMel1 0  8 0\n",
       "2  balAcu1 0  8 0\n",
       "3  bosTau8 0 15 0\n",
       "4  calJac3 0  7 0\n",
       "5  canFam3 0  8 0\n",
       "6  cavPor3 0  7 0\n",
       "7  cerSim1 0  9 0\n",
       "8  criGri1 0 13 0\n",
       "9  dasNov3 1  8 0\n",
       "10 dipOrd1 0  1 0\n",
       "11 equCab2 0  7 0\n",
       "12 eriEur2 0  5 0\n",
       "13 felCat5 0  9 0\n",
       "14 gorGor3 0  7 0\n",
       "15 hetGla2 0  6 0\n",
       "16    hg19 0 10 0\n",
       "17 loxAfr3 0 18 0\n",
       "18 macEug2 0  6 0\n",
       "19 micMur1 0  3 0\n",
       "20    mm10 0 10 0\n",
       "21 monDom5 0  9 0\n",
       "22 musFur1 0  6 0\n",
       "23 myoLuc2 0  5 3\n",
       "24 nomLeu3 0 10 0\n",
       "25 ochPri3 0  5 0\n",
       "26 ornAna1 0  6 0\n",
       "27 oryCun2 0  9 0\n",
       "28 otoGar3 0  8 0\n",
       "29 oviAri3 0 11 0\n",
       "30 panTro4 0  9 1\n",
       "31 papAnu2 0 10 0\n",
       "32 ponAbe2 0 10 0\n",
       "33 proCap1 0  7 0\n",
       "34 pteVam1 0  4 0\n",
       "35 rheMac8 0 12 0\n",
       "36     rn6 0 10 0\n",
       "37 saiBol1 0  7 0\n",
       "38 sarHar1 0  9 0\n",
       "39 sorAra2 0  7 0\n",
       "40 speTri2 0  6 0\n",
       "41 susScr3 0  9 0\n",
       "42 tarSyr2 0  6 0\n",
       "43 triMan1 0  9 0\n",
       "44 turTru2 0  8 0\n",
       "45 vicPac2 0  8 0"
      ]
     },
     "metadata": {},
     "output_type": "display_data"
    },
    {
     "data": {
      "text/html": [
       "<table>\n",
       "<thead><tr><th></th><th scope=col>species</th><th scope=col>A</th><th scope=col>C</th><th scope=col>G</th><th scope=col>U</th></tr></thead>\n",
       "<tbody>\n",
       "\t<tr><th scope=row>1</th><td>araTha1</td><td>13     </td><td>10     </td><td>0      </td><td>0      </td></tr>\n",
       "\t<tr><th scope=row>2</th><td>braDis3</td><td>19     </td><td>10     </td><td>0      </td><td>0      </td></tr>\n",
       "\t<tr><th scope=row>3</th><td>braOle1</td><td>25     </td><td>20     </td><td>0      </td><td>0      </td></tr>\n",
       "\t<tr><th scope=row>4</th><td>carPap1</td><td>8      </td><td>7      </td><td>0      </td><td>0      </td></tr>\n",
       "\t<tr><th scope=row>5</th><td>cucSat1</td><td>17     </td><td>13     </td><td>0      </td><td>0      </td></tr>\n",
       "\t<tr><th scope=row>6</th><td>fraVes1</td><td>18     </td><td>10     </td><td>0      </td><td>0      </td></tr>\n",
       "\t<tr><th scope=row>7</th><td>glyMax2</td><td>24     </td><td>16     </td><td>0      </td><td>0      </td></tr>\n",
       "\t<tr><th scope=row>8</th><td>gosRai2</td><td>19     </td><td>18     </td><td>0      </td><td>0      </td></tr>\n",
       "\t<tr><th scope=row>9</th><td>malDom1</td><td>26     </td><td>21     </td><td>0      </td><td>1      </td></tr>\n",
       "\t<tr><th scope=row>10</th><td>manEsc6</td><td>24     </td><td>19     </td><td>0      </td><td>0      </td></tr>\n",
       "\t<tr><th scope=row>11</th><td>medTru4</td><td>17     </td><td>15     </td><td>0      </td><td>0      </td></tr>\n",
       "\t<tr><th scope=row>12</th><td>orySat7</td><td>25     </td><td>10     </td><td>1      </td><td>0      </td></tr>\n",
       "\t<tr><th scope=row>13</th><td>popTri3</td><td>21     </td><td>14     </td><td>0      </td><td>0      </td></tr>\n",
       "\t<tr><th scope=row>14</th><td>solPen1</td><td>29     </td><td>19     </td><td>1      </td><td>0      </td></tr>\n",
       "\t<tr><th scope=row>15</th><td>sorBic3</td><td>24     </td><td>10     </td><td>0      </td><td>0      </td></tr>\n",
       "\t<tr><th scope=row>16</th><td>spiPol1</td><td>7      </td><td>3      </td><td>0      </td><td>0      </td></tr>\n",
       "\t<tr><th scope=row>17</th><td>vitVin1</td><td>15     </td><td>7      </td><td>0      </td><td>1      </td></tr>\n",
       "\t<tr><th scope=row>18</th><td>zeaMay6</td><td>29     </td><td>14     </td><td>0      </td><td>0      </td></tr>\n",
       "</tbody>\n",
       "</table>\n"
      ],
      "text/latex": [
       "\\begin{tabular}{r|lllll}\n",
       "  & species & A & C & G & U\\\\\n",
       "\\hline\n",
       "\t1 & araTha1 & 13      & 10      & 0       & 0      \\\\\n",
       "\t2 & braDis3 & 19      & 10      & 0       & 0      \\\\\n",
       "\t3 & braOle1 & 25      & 20      & 0       & 0      \\\\\n",
       "\t4 & carPap1 & 8       & 7       & 0       & 0      \\\\\n",
       "\t5 & cucSat1 & 17      & 13      & 0       & 0      \\\\\n",
       "\t6 & fraVes1 & 18      & 10      & 0       & 0      \\\\\n",
       "\t7 & glyMax2 & 24      & 16      & 0       & 0      \\\\\n",
       "\t8 & gosRai2 & 19      & 18      & 0       & 0      \\\\\n",
       "\t9 & malDom1 & 26      & 21      & 0       & 1      \\\\\n",
       "\t10 & manEsc6 & 24      & 19      & 0       & 0      \\\\\n",
       "\t11 & medTru4 & 17      & 15      & 0       & 0      \\\\\n",
       "\t12 & orySat7 & 25      & 10      & 1       & 0      \\\\\n",
       "\t13 & popTri3 & 21      & 14      & 0       & 0      \\\\\n",
       "\t14 & solPen1 & 29      & 19      & 1       & 0      \\\\\n",
       "\t15 & sorBic3 & 24      & 10      & 0       & 0      \\\\\n",
       "\t16 & spiPol1 & 7       & 3       & 0       & 0      \\\\\n",
       "\t17 & vitVin1 & 15      & 7       & 0       & 1      \\\\\n",
       "\t18 & zeaMay6 & 29      & 14      & 0       & 0      \\\\\n",
       "\\end{tabular}\n"
      ],
      "text/plain": [
       "   species  A  C G U\n",
       "1  araTha1 13 10 0 0\n",
       "2  braDis3 19 10 0 0\n",
       "3  braOle1 25 20 0 0\n",
       "4  carPap1  8  7 0 0\n",
       "5  cucSat1 17 13 0 0\n",
       "6  fraVes1 18 10 0 0\n",
       "7  glyMax2 24 16 0 0\n",
       "8  gosRai2 19 18 0 0\n",
       "9  malDom1 26 21 0 1\n",
       "10 manEsc6 24 19 0 0\n",
       "11 medTru4 17 15 0 0\n",
       "12 orySat7 25 10 1 0\n",
       "13 popTri3 21 14 0 0\n",
       "14 solPen1 29 19 1 0\n",
       "15 sorBic3 24 10 0 0\n",
       "16 spiPol1  7  3 0 0\n",
       "17 vitVin1 15  7 0 1\n",
       "18 zeaMay6 29 14 0 0"
      ]
     },
     "metadata": {},
     "output_type": "display_data"
    },
    {
     "data": {
      "text/html": [
       "<table>\n",
       "<thead><tr><th></th><th scope=col>species</th><th scope=col>A</th><th scope=col>C</th><th scope=col>U</th></tr></thead>\n",
       "<tbody>\n",
       "\t<tr><th scope=row>1</th><td>anoCar2</td><td>0      </td><td>4      </td><td>0      </td></tr>\n",
       "\t<tr><th scope=row>2</th><td>calMil1</td><td>0      </td><td>13     </td><td>0      </td></tr>\n",
       "\t<tr><th scope=row>3</th><td>chrPic1</td><td>1      </td><td>6      </td><td>0      </td></tr>\n",
       "\t<tr><th scope=row>4</th><td>danRer10</td><td>2       </td><td>190     </td><td>3       </td></tr>\n",
       "\t<tr><th scope=row>5</th><td>fr3</td><td>0  </td><td>15 </td><td>0  </td></tr>\n",
       "\t<tr><th scope=row>6</th><td>gadMor1</td><td>0      </td><td>12     </td><td>0      </td></tr>\n",
       "\t<tr><th scope=row>7</th><td>galGal4</td><td>0      </td><td>4      </td><td>1      </td></tr>\n",
       "\t<tr><th scope=row>8</th><td>gasAcu1</td><td>0      </td><td>40     </td><td>0      </td></tr>\n",
       "\t<tr><th scope=row>9</th><td>geoFor1</td><td>0      </td><td>2      </td><td>0      </td></tr>\n",
       "\t<tr><th scope=row>10</th><td>latCha1</td><td>0      </td><td>4      </td><td>0      </td></tr>\n",
       "\t<tr><th scope=row>11</th><td>melGal1</td><td>0      </td><td>2      </td><td>0      </td></tr>\n",
       "\t<tr><th scope=row>12</th><td>melUnd1</td><td>0      </td><td>2      </td><td>0      </td></tr>\n",
       "\t<tr><th scope=row>13</th><td>oreNil2</td><td>0      </td><td>15     </td><td>1      </td></tr>\n",
       "\t<tr><th scope=row>14</th><td>oryLat2</td><td>1      </td><td>18     </td><td>0      </td></tr>\n",
       "\t<tr><th scope=row>15</th><td>taeGut2</td><td>0      </td><td>5      </td><td>0      </td></tr>\n",
       "\t<tr><th scope=row>16</th><td>tetNig2</td><td>0      </td><td>10     </td><td>0      </td></tr>\n",
       "\t<tr><th scope=row>17</th><td>xenTro3</td><td>0      </td><td>31     </td><td>0      </td></tr>\n",
       "</tbody>\n",
       "</table>\n"
      ],
      "text/latex": [
       "\\begin{tabular}{r|llll}\n",
       "  & species & A & C & U\\\\\n",
       "\\hline\n",
       "\t1 & anoCar2 & 0       & 4       & 0      \\\\\n",
       "\t2 & calMil1 & 0       & 13      & 0      \\\\\n",
       "\t3 & chrPic1 & 1       & 6       & 0      \\\\\n",
       "\t4 & danRer10 & 2        & 190      & 3       \\\\\n",
       "\t5 & fr3 & 0   & 15  & 0  \\\\\n",
       "\t6 & gadMor1 & 0       & 12      & 0      \\\\\n",
       "\t7 & galGal4 & 0       & 4       & 1      \\\\\n",
       "\t8 & gasAcu1 & 0       & 40      & 0      \\\\\n",
       "\t9 & geoFor1 & 0       & 2       & 0      \\\\\n",
       "\t10 & latCha1 & 0       & 4       & 0      \\\\\n",
       "\t11 & melGal1 & 0       & 2       & 0      \\\\\n",
       "\t12 & melUnd1 & 0       & 2       & 0      \\\\\n",
       "\t13 & oreNil2 & 0       & 15      & 1      \\\\\n",
       "\t14 & oryLat2 & 1       & 18      & 0      \\\\\n",
       "\t15 & taeGut2 & 0       & 5       & 0      \\\\\n",
       "\t16 & tetNig2 & 0       & 10      & 0      \\\\\n",
       "\t17 & xenTro3 & 0       & 31      & 0      \\\\\n",
       "\\end{tabular}\n"
      ],
      "text/plain": [
       "    species A   C U\n",
       "1   anoCar2 0   4 0\n",
       "2   calMil1 0  13 0\n",
       "3   chrPic1 1   6 0\n",
       "4  danRer10 2 190 3\n",
       "5       fr3 0  15 0\n",
       "6   gadMor1 0  12 0\n",
       "7   galGal4 0   4 1\n",
       "8   gasAcu1 0  40 0\n",
       "9   geoFor1 0   2 0\n",
       "10  latCha1 0   4 0\n",
       "11  melGal1 0   2 0\n",
       "12  melUnd1 0   2 0\n",
       "13  oreNil2 0  15 1\n",
       "14  oryLat2 1  18 0\n",
       "15  taeGut2 0   5 0\n",
       "16  tetNig2 0  10 0\n",
       "17  xenTro3 0  31 0"
      ]
     },
     "metadata": {},
     "output_type": "display_data"
    },
    {
     "data": {
      "text/html": [
       "<table>\n",
       "<thead><tr><th></th><th scope=col>species</th><th scope=col>A</th><th scope=col>G</th><th scope=col>U</th></tr></thead>\n",
       "<tbody>\n",
       "\t<tr><th scope=row>1</th><td>anoCar2</td><td>5      </td><td>0      </td><td>0      </td></tr>\n",
       "\t<tr><th scope=row>2</th><td>calMil1</td><td>41     </td><td>0      </td><td>0      </td></tr>\n",
       "\t<tr><th scope=row>3</th><td>chrPic1</td><td>19     </td><td>0      </td><td>0      </td></tr>\n",
       "\t<tr><th scope=row>4</th><td>danRer10</td><td>120     </td><td>0       </td><td>55      </td></tr>\n",
       "\t<tr><th scope=row>5</th><td>fr3</td><td>17 </td><td>0  </td><td>0  </td></tr>\n",
       "\t<tr><th scope=row>6</th><td>gadMor1</td><td>31     </td><td>1      </td><td>0      </td></tr>\n",
       "\t<tr><th scope=row>7</th><td>galGal4</td><td>8      </td><td>0      </td><td>0      </td></tr>\n",
       "\t<tr><th scope=row>8</th><td>gasAcu1</td><td>35     </td><td>0      </td><td>0      </td></tr>\n",
       "\t<tr><th scope=row>9</th><td>geoFor1</td><td>5      </td><td>0      </td><td>0      </td></tr>\n",
       "\t<tr><th scope=row>10</th><td>latCha1</td><td>8      </td><td>0      </td><td>0      </td></tr>\n",
       "\t<tr><th scope=row>11</th><td>melGal1</td><td>6      </td><td>0      </td><td>0      </td></tr>\n",
       "\t<tr><th scope=row>12</th><td>melUnd1</td><td>6      </td><td>0      </td><td>0      </td></tr>\n",
       "\t<tr><th scope=row>13</th><td>oreNil2</td><td>23     </td><td>0      </td><td>0      </td></tr>\n",
       "\t<tr><th scope=row>14</th><td>oryLat2</td><td>10     </td><td>0      </td><td>0      </td></tr>\n",
       "\t<tr><th scope=row>15</th><td>taeGut2</td><td>10     </td><td>0      </td><td>0      </td></tr>\n",
       "\t<tr><th scope=row>16</th><td>tetNig2</td><td>14     </td><td>0      </td><td>0      </td></tr>\n",
       "\t<tr><th scope=row>17</th><td>xenTro3</td><td>54     </td><td>0      </td><td>0      </td></tr>\n",
       "</tbody>\n",
       "</table>\n"
      ],
      "text/latex": [
       "\\begin{tabular}{r|llll}\n",
       "  & species & A & G & U\\\\\n",
       "\\hline\n",
       "\t1 & anoCar2 & 5       & 0       & 0      \\\\\n",
       "\t2 & calMil1 & 41      & 0       & 0      \\\\\n",
       "\t3 & chrPic1 & 19      & 0       & 0      \\\\\n",
       "\t4 & danRer10 & 120      & 0        & 55      \\\\\n",
       "\t5 & fr3 & 17  & 0   & 0  \\\\\n",
       "\t6 & gadMor1 & 31      & 1       & 0      \\\\\n",
       "\t7 & galGal4 & 8       & 0       & 0      \\\\\n",
       "\t8 & gasAcu1 & 35      & 0       & 0      \\\\\n",
       "\t9 & geoFor1 & 5       & 0       & 0      \\\\\n",
       "\t10 & latCha1 & 8       & 0       & 0      \\\\\n",
       "\t11 & melGal1 & 6       & 0       & 0      \\\\\n",
       "\t12 & melUnd1 & 6       & 0       & 0      \\\\\n",
       "\t13 & oreNil2 & 23      & 0       & 0      \\\\\n",
       "\t14 & oryLat2 & 10      & 0       & 0      \\\\\n",
       "\t15 & taeGut2 & 10      & 0       & 0      \\\\\n",
       "\t16 & tetNig2 & 14      & 0       & 0      \\\\\n",
       "\t17 & xenTro3 & 54      & 0       & 0      \\\\\n",
       "\\end{tabular}\n"
      ],
      "text/plain": [
       "    species   A G  U\n",
       "1   anoCar2   5 0  0\n",
       "2   calMil1  41 0  0\n",
       "3   chrPic1  19 0  0\n",
       "4  danRer10 120 0 55\n",
       "5       fr3  17 0  0\n",
       "6   gadMor1  31 1  0\n",
       "7   galGal4   8 0  0\n",
       "8   gasAcu1  35 0  0\n",
       "9   geoFor1   5 0  0\n",
       "10  latCha1   8 0  0\n",
       "11  melGal1   6 0  0\n",
       "12  melUnd1   6 0  0\n",
       "13  oreNil2  23 0  0\n",
       "14  oryLat2  10 0  0\n",
       "15  taeGut2  10 0  0\n",
       "16  tetNig2  14 0  0\n",
       "17  xenTro3  54 0  0"
      ]
     },
     "metadata": {},
     "output_type": "display_data"
    }
   ],
   "source": [
    "# check each individually for species\n",
    "identities %>% filter(clade == \"Insecta\", isotype == \"Glu\") %>% select(species, X9) %>% count(species, X9) %>% spread(X9, n, 0)\n",
    "identities %>% filter(clade == \"Insecta\", isotype == \"His\") %>% select(species, X9) %>% count(species, X9) %>% spread(X9, n, 0)\n",
    "identities %>% filter(clade == \"Mammalia\", isotype == \"His\") %>% select(species, X9) %>% count(species, X9) %>% spread(X9, n, 0)\n",
    "identities %>% filter(clade == \"Spermatophyta\", isotype == \"Glu\") %>% select(species, X9) %>% count(species, X9) %>% spread(X9, n, 0)\n",
    "identities %>% filter(clade == \"Vertebrata\", isotype == \"His\") %>% select(species, X9) %>% count(species, X9) %>% spread(X9, n, 0)\n",
    "# zebrafish accounts for all of the weird ones here\n",
    "identities %>% filter(clade == \"Vertebrata\", isotype == \"Phe\") %>% select(species, X9) %>% count(species, X9) %>% spread(X9, n, 0)"
   ]
  },
  {
   "cell_type": "markdown",
   "metadata": {},
   "source": [
    "## Y11:R24\n",
    "\n",
    "Also see identity-stories"
   ]
  },
  {
   "cell_type": "code",
   "execution_count": 29,
   "metadata": {
    "collapsed": true
   },
   "outputs": [
    {
     "data": {
      "text/html": [
       "<table>\n",
       "<thead><tr><th></th><th scope=col>clade</th><th scope=col>species</th><th scope=col>isotype</th><th scope=col>A:A</th><th scope=col>A:C</th><th scope=col>A:G</th><th scope=col>A:U</th><th scope=col>C:A</th><th scope=col>C:C</th><th scope=col>C:G</th><th scope=col>C:U</th><th scope=col>G:A</th><th scope=col>G:C</th><th scope=col>G:G</th><th scope=col>U:A</th><th scope=col>U:C</th><th scope=col>U:G</th><th scope=col>U:U</th></tr></thead>\n",
       "<tbody>\n",
       "\t<tr><th scope=row>1</th><td>Fungi         </td><td>aspeFumi_AF293</td><td>Tyr           </td><td>0             </td><td>0             </td><td>0             </td><td>0             </td><td>0             </td><td>0             </td><td>0             </td><td>0             </td><td>0             </td><td>0             </td><td>0             </td><td>0             </td><td>0             </td><td>1             </td><td>0             </td></tr>\n",
       "\t<tr><th scope=row>2</th><td>Fungi         </td><td>crypGatt_WM276</td><td>Tyr           </td><td>0             </td><td>0             </td><td>0             </td><td>0             </td><td>0             </td><td>0             </td><td>0             </td><td>0             </td><td>0             </td><td>0             </td><td>0             </td><td>0             </td><td>0             </td><td>1             </td><td>0             </td></tr>\n",
       "\t<tr><th scope=row>3</th><td>Fungi                  </td><td>crypNeof_VAR_GRUBII_H99</td><td>Tyr                    </td><td>0                      </td><td>0                      </td><td>0                      </td><td>0                      </td><td>0                      </td><td>0                      </td><td>0                      </td><td>0                      </td><td>0                      </td><td>0                      </td><td>0                      </td><td>0                      </td><td>0                      </td><td>1                      </td><td>0                      </td></tr>\n",
       "\t<tr><th scope=row>4</th><td>Fungi                         </td><td>crypNeof_VAR_NEOFORMANS_B_3501</td><td>Tyr                           </td><td>0                             </td><td>0                             </td><td>0                             </td><td>0                             </td><td>0                             </td><td>0                             </td><td>0                             </td><td>0                             </td><td>0                             </td><td>0                             </td><td>0                             </td><td>0                             </td><td>0                             </td><td>1                             </td><td>0                             </td></tr>\n",
       "\t<tr><th scope=row>5</th><td>Fungi                        </td><td>crypNeof_VAR_NEOFORMANS_JEC21</td><td>Tyr                          </td><td>0                            </td><td>0                            </td><td>0                            </td><td>0                            </td><td>0                            </td><td>0                            </td><td>0                            </td><td>0                            </td><td>0                            </td><td>0                            </td><td>0                            </td><td>0                            </td><td>0                            </td><td>1                            </td><td>0                            </td></tr>\n",
       "\t<tr><th scope=row>6</th><td>Fungi             </td><td>flamVelu_KACC42780</td><td>His               </td><td>0                 </td><td>0                 </td><td>0                 </td><td>3                 </td><td>0                 </td><td>0                 </td><td>0                 </td><td>0                 </td><td>0                 </td><td>0                 </td><td>0                 </td><td>0                 </td><td>0                 </td><td>0                 </td><td>0                 </td></tr>\n",
       "\t<tr><th scope=row>7</th><td>Fungi        </td><td>schiPomb_972H</td><td>iMet         </td><td>0            </td><td>0            </td><td>0            </td><td>0            </td><td>0            </td><td>0            </td><td>0            </td><td>0            </td><td>0            </td><td>1            </td><td>0            </td><td>0            </td><td>0            </td><td>0            </td><td>0            </td></tr>\n",
       "</tbody>\n",
       "</table>\n"
      ],
      "text/latex": [
       "\\begin{tabular}{r|llllllllllllllllll}\n",
       "  & clade & species & isotype & A:A & A:C & A:G & A:U & C:A & C:C & C:G & C:U & G:A & G:C & G:G & U:A & U:C & U:G & U:U\\\\\n",
       "\\hline\n",
       "\t1 & Fungi            & aspeFumi\\_AF293 & Tyr              & 0                & 0                & 0                & 0                & 0                & 0                & 0                & 0                & 0                & 0                & 0                & 0                & 0                & 1                & 0               \\\\\n",
       "\t2 & Fungi            & crypGatt\\_WM276 & Tyr              & 0                & 0                & 0                & 0                & 0                & 0                & 0                & 0                & 0                & 0                & 0                & 0                & 0                & 1                & 0               \\\\\n",
       "\t3 & Fungi                         & crypNeof\\_VAR\\_GRUBII\\_H99 & Tyr                           & 0                             & 0                             & 0                             & 0                             & 0                             & 0                             & 0                             & 0                             & 0                             & 0                             & 0                             & 0                             & 0                             & 1                             & 0                            \\\\\n",
       "\t4 & Fungi                                  & crypNeof\\_VAR\\_NEOFORMANS\\_B\\_3501 & Tyr                                    & 0                                      & 0                                      & 0                                      & 0                                      & 0                                      & 0                                      & 0                                      & 0                                      & 0                                      & 0                                      & 0                                      & 0                                      & 0                                      & 1                                      & 0                                     \\\\\n",
       "\t5 & Fungi                               & crypNeof\\_VAR\\_NEOFORMANS\\_JEC21 & Tyr                                 & 0                                   & 0                                   & 0                                   & 0                                   & 0                                   & 0                                   & 0                                   & 0                                   & 0                                   & 0                                   & 0                                   & 0                                   & 0                                   & 1                                   & 0                                  \\\\\n",
       "\t6 & Fungi                & flamVelu\\_KACC42780 & His                  & 0                    & 0                    & 0                    & 3                    & 0                    & 0                    & 0                    & 0                    & 0                    & 0                    & 0                    & 0                    & 0                    & 0                    & 0                   \\\\\n",
       "\t7 & Fungi           & schiPomb\\_972H & iMet            & 0               & 0               & 0               & 0               & 0               & 0               & 0               & 0               & 0               & 1               & 0               & 0               & 0               & 0               & 0              \\\\\n",
       "\\end{tabular}\n"
      ],
      "text/plain": [
       "  clade                        species isotype A:A A:C A:G A:U C:A C:C C:G C:U\n",
       "1 Fungi                 aspeFumi_AF293     Tyr   0   0   0   0   0   0   0   0\n",
       "2 Fungi                 crypGatt_WM276     Tyr   0   0   0   0   0   0   0   0\n",
       "3 Fungi        crypNeof_VAR_GRUBII_H99     Tyr   0   0   0   0   0   0   0   0\n",
       "4 Fungi crypNeof_VAR_NEOFORMANS_B_3501     Tyr   0   0   0   0   0   0   0   0\n",
       "5 Fungi  crypNeof_VAR_NEOFORMANS_JEC21     Tyr   0   0   0   0   0   0   0   0\n",
       "6 Fungi             flamVelu_KACC42780     His   0   0   0   3   0   0   0   0\n",
       "7 Fungi                  schiPomb_972H    iMet   0   0   0   0   0   0   0   0\n",
       "  G:A G:C G:G U:A U:C U:G U:U\n",
       "1   0   0   0   0   0   1   0\n",
       "2   0   0   0   0   0   1   0\n",
       "3   0   0   0   0   0   1   0\n",
       "4   0   0   0   0   0   1   0\n",
       "5   0   0   0   0   0   1   0\n",
       "6   0   0   0   0   0   0   0\n",
       "7   0   1   0   0   0   0   0"
      ]
     },
     "metadata": {},
     "output_type": "display_data"
    },
    {
     "data": {
      "text/html": [
       "<table>\n",
       "<thead><tr><th></th><th scope=col>clade</th><th scope=col>X11.24</th><th scope=col>Ala</th><th scope=col>Arg</th><th scope=col>Asn</th><th scope=col>Asp</th><th scope=col>Cys</th><th scope=col>Gln</th><th scope=col>Glu</th><th scope=col>Gly</th><th scope=col>⋯</th><th scope=col>Leu</th><th scope=col>Lys</th><th scope=col>Met</th><th scope=col>Phe</th><th scope=col>Pro</th><th scope=col>Ser</th><th scope=col>Thr</th><th scope=col>Trp</th><th scope=col>Tyr</th><th scope=col>Val</th></tr></thead>\n",
       "<tbody>\n",
       "\t<tr><th scope=row>1</th><td>Fungi</td><td>A:U  </td><td>0    </td><td>1    </td><td>0    </td><td>0    </td><td>0    </td><td>5    </td><td>0    </td><td>2    </td><td>⋯    </td><td>0    </td><td>0    </td><td>0    </td><td>0    </td><td>0    </td><td>0    </td><td>0    </td><td>0    </td><td>0    </td><td>3    </td></tr>\n",
       "\t<tr><th scope=row>2</th><td>Fungi</td><td>C:A  </td><td>1    </td><td>0    </td><td>0    </td><td>0    </td><td>0    </td><td>0    </td><td>0    </td><td>0    </td><td>⋯    </td><td>0    </td><td>0    </td><td>0    </td><td>0    </td><td>1    </td><td>1    </td><td>0    </td><td>0    </td><td>0    </td><td>0    </td></tr>\n",
       "\t<tr><th scope=row>3</th><td>Fungi</td><td>C:C  </td><td>0    </td><td>0    </td><td>1    </td><td>0    </td><td>0    </td><td>0    </td><td>0    </td><td>0    </td><td>⋯    </td><td>1    </td><td>0    </td><td>0    </td><td>0    </td><td>0    </td><td>0    </td><td>0    </td><td>0    </td><td>0    </td><td>0    </td></tr>\n",
       "\t<tr><th scope=row>4</th><td>Fungi</td><td>G:C  </td><td>2    </td><td>0    </td><td>0    </td><td>0    </td><td>0    </td><td>2    </td><td>1    </td><td>2    </td><td>⋯    </td><td>11   </td><td>0    </td><td>0    </td><td>0    </td><td>0    </td><td>6    </td><td>0    </td><td>0    </td><td>0    </td><td>1    </td></tr>\n",
       "\t<tr><th scope=row>5</th><td>Fungi</td><td>U:G  </td><td>3    </td><td>0    </td><td>1    </td><td>0    </td><td>0    </td><td>0    </td><td>0    </td><td>0    </td><td>⋯    </td><td>1    </td><td>1    </td><td>0    </td><td>0    </td><td>4    </td><td>0    </td><td>1    </td><td>0    </td><td>9    </td><td>87   </td></tr>\n",
       "\t<tr><th scope=row>6</th><td>Insecta</td><td>A:G    </td><td>0      </td><td>0      </td><td>1      </td><td>0      </td><td>0      </td><td>0      </td><td>0      </td><td>0      </td><td>⋯      </td><td>0      </td><td>0      </td><td>0      </td><td>0      </td><td>0      </td><td>0      </td><td>0      </td><td>0      </td><td>0      </td><td>0      </td></tr>\n",
       "\t<tr><th scope=row>7</th><td>Insecta</td><td>C:A    </td><td>0      </td><td>0      </td><td>0      </td><td>0      </td><td>0      </td><td>0      </td><td>0      </td><td>0      </td><td>⋯      </td><td>0      </td><td>0      </td><td>0      </td><td>0      </td><td>1      </td><td>0      </td><td>0      </td><td>0      </td><td>0      </td><td>0      </td></tr>\n",
       "\t<tr><th scope=row>8</th><td>Insecta</td><td>U:G    </td><td>0      </td><td>1      </td><td>0      </td><td>0      </td><td>0      </td><td>0      </td><td>0      </td><td>1      </td><td>⋯      </td><td>0      </td><td>0      </td><td>0      </td><td>0      </td><td>0      </td><td>0      </td><td>0      </td><td>0      </td><td>1      </td><td>0      </td></tr>\n",
       "\t<tr><th scope=row>9</th><td>Mammalia</td><td>A:C     </td><td>0       </td><td>0       </td><td>0       </td><td>0       </td><td>0       </td><td>0       </td><td>0       </td><td>0       </td><td>⋯       </td><td>0       </td><td>0       </td><td>1       </td><td>0       </td><td>0       </td><td>0       </td><td>0       </td><td>0       </td><td>0       </td><td>0       </td></tr>\n",
       "\t<tr><th scope=row>10</th><td>Mammalia</td><td>A:G     </td><td>0       </td><td>0       </td><td>0       </td><td>0       </td><td>1       </td><td>0       </td><td>0       </td><td>0       </td><td>⋯       </td><td>0       </td><td>3       </td><td>0       </td><td>0       </td><td>0       </td><td>0       </td><td>1       </td><td>0       </td><td>0       </td><td>0       </td></tr>\n",
       "\t<tr><th scope=row>11</th><td>Mammalia</td><td>A:U     </td><td>0       </td><td>0       </td><td>0       </td><td>0       </td><td>0       </td><td>0       </td><td>0       </td><td>0       </td><td>⋯       </td><td>0       </td><td>0       </td><td>1       </td><td>0       </td><td>0       </td><td>0       </td><td>0       </td><td>0       </td><td>0       </td><td>0       </td></tr>\n",
       "\t<tr><th scope=row>12</th><td>Mammalia</td><td>C:A     </td><td>4       </td><td>2       </td><td>3       </td><td>2       </td><td>5       </td><td>0       </td><td>2       </td><td>2       </td><td>⋯       </td><td>1       </td><td>10      </td><td>2       </td><td>3       </td><td>1       </td><td>2       </td><td>0       </td><td>3       </td><td>0       </td><td>4       </td></tr>\n",
       "\t<tr><th scope=row>13</th><td>Mammalia</td><td>C:C     </td><td>1       </td><td>1       </td><td>2       </td><td>0       </td><td>1       </td><td>0       </td><td>0       </td><td>0       </td><td>⋯       </td><td>0       </td><td>5       </td><td>3       </td><td>1       </td><td>0       </td><td>0       </td><td>1       </td><td>0       </td><td>0       </td><td>0       </td></tr>\n",
       "\t<tr><th scope=row>14</th><td>Mammalia</td><td>C:U     </td><td>0       </td><td>0       </td><td>0       </td><td>0       </td><td>0       </td><td>0       </td><td>0       </td><td>0       </td><td>⋯       </td><td>1       </td><td>4       </td><td>0       </td><td>0       </td><td>0       </td><td>0       </td><td>0       </td><td>0       </td><td>0       </td><td>0       </td></tr>\n",
       "\t<tr><th scope=row>15</th><td>Mammalia</td><td>G:A     </td><td>0       </td><td>0       </td><td>0       </td><td>0       </td><td>0       </td><td>0       </td><td>0       </td><td>0       </td><td>⋯       </td><td>0       </td><td>0       </td><td>0       </td><td>0       </td><td>1       </td><td>0       </td><td>0       </td><td>0       </td><td>0       </td><td>1       </td></tr>\n",
       "\t<tr><th scope=row>16</th><td>Mammalia</td><td>G:C     </td><td>0       </td><td>0       </td><td>0       </td><td>0       </td><td>0       </td><td>0       </td><td>0       </td><td>0       </td><td>⋯       </td><td>0       </td><td>1       </td><td>0       </td><td>0       </td><td>0       </td><td>0       </td><td>0       </td><td>0       </td><td>0       </td><td>0       </td></tr>\n",
       "\t<tr><th scope=row>17</th><td>Mammalia</td><td>G:G     </td><td>0       </td><td>0       </td><td>0       </td><td>0       </td><td>0       </td><td>0       </td><td>0       </td><td>0       </td><td>⋯       </td><td>0       </td><td>0       </td><td>0       </td><td>1       </td><td>0       </td><td>1       </td><td>0       </td><td>0       </td><td>0       </td><td>0       </td></tr>\n",
       "\t<tr><th scope=row>18</th><td>Mammalia</td><td>U:C     </td><td>0       </td><td>0       </td><td>0       </td><td>1       </td><td>0       </td><td>0       </td><td>1       </td><td>0       </td><td>⋯       </td><td>0       </td><td>0       </td><td>0       </td><td>0       </td><td>0       </td><td>0       </td><td>0       </td><td>0       </td><td>0       </td><td>0       </td></tr>\n",
       "\t<tr><th scope=row>19</th><td>Mammalia</td><td>U:G     </td><td>6       </td><td>3       </td><td>16      </td><td>1       </td><td>6       </td><td>0       </td><td>1       </td><td>5       </td><td>⋯       </td><td>1       </td><td>16      </td><td>13      </td><td>4       </td><td>1       </td><td>2       </td><td>1       </td><td>3       </td><td>5       </td><td>0       </td></tr>\n",
       "\t<tr><th scope=row>20</th><td>Mammalia</td><td>U:U     </td><td>1       </td><td>0       </td><td>0       </td><td>0       </td><td>0       </td><td>1       </td><td>1       </td><td>0       </td><td>⋯       </td><td>0       </td><td>0       </td><td>0       </td><td>0       </td><td>0       </td><td>0       </td><td>0       </td><td>0       </td><td>0       </td><td>1       </td></tr>\n",
       "\t<tr><th scope=row>21</th><td>Nematoda</td><td>A:A     </td><td>0       </td><td>0       </td><td>0       </td><td>0       </td><td>0       </td><td>0       </td><td>0       </td><td>0       </td><td>⋯       </td><td>0       </td><td>0       </td><td>0       </td><td>0       </td><td>1       </td><td>0       </td><td>0       </td><td>0       </td><td>0       </td><td>0       </td></tr>\n",
       "\t<tr><th scope=row>22</th><td>Nematoda</td><td>A:G     </td><td>2       </td><td>0       </td><td>1       </td><td>0       </td><td>0       </td><td>0       </td><td>0       </td><td>0       </td><td>⋯       </td><td>0       </td><td>0       </td><td>0       </td><td>0       </td><td>0       </td><td>0       </td><td>0       </td><td>0       </td><td>0       </td><td>0       </td></tr>\n",
       "\t<tr><th scope=row>23</th><td>Nematoda</td><td>A:U     </td><td>0       </td><td>0       </td><td>0       </td><td>0       </td><td>0       </td><td>0       </td><td>0       </td><td>0       </td><td>⋯       </td><td>0       </td><td>0       </td><td>2       </td><td>0       </td><td>0       </td><td>0       </td><td>0       </td><td>0       </td><td>0       </td><td>0       </td></tr>\n",
       "\t<tr><th scope=row>24</th><td>Nematoda</td><td>C:A     </td><td>1       </td><td>1       </td><td>0       </td><td>0       </td><td>0       </td><td>0       </td><td>0       </td><td>0       </td><td>⋯       </td><td>2       </td><td>2       </td><td>0       </td><td>0       </td><td>0       </td><td>0       </td><td>0       </td><td>0       </td><td>0       </td><td>0       </td></tr>\n",
       "\t<tr><th scope=row>25</th><td>Nematoda</td><td>C:C     </td><td>0       </td><td>1       </td><td>0       </td><td>0       </td><td>0       </td><td>0       </td><td>0       </td><td>0       </td><td>⋯       </td><td>0       </td><td>0       </td><td>0       </td><td>0       </td><td>0       </td><td>0       </td><td>1       </td><td>0       </td><td>0       </td><td>0       </td></tr>\n",
       "\t<tr><th scope=row>26</th><td>Nematoda</td><td>C:U     </td><td>0       </td><td>0       </td><td>0       </td><td>0       </td><td>0       </td><td>0       </td><td>0       </td><td>0       </td><td>⋯       </td><td>1       </td><td>0       </td><td>0       </td><td>0       </td><td>0       </td><td>0       </td><td>0       </td><td>0       </td><td>1       </td><td>0       </td></tr>\n",
       "\t<tr><th scope=row>27</th><td>Nematoda</td><td>G:A     </td><td>0       </td><td>0       </td><td>0       </td><td>0       </td><td>0       </td><td>0       </td><td>1       </td><td>0       </td><td>⋯       </td><td>0       </td><td>0       </td><td>0       </td><td>0       </td><td>0       </td><td>0       </td><td>0       </td><td>0       </td><td>0       </td><td>0       </td></tr>\n",
       "\t<tr><th scope=row>28</th><td>Nematoda</td><td>G:G     </td><td>0       </td><td>1       </td><td>0       </td><td>0       </td><td>0       </td><td>0       </td><td>0       </td><td>0       </td><td>⋯       </td><td>0       </td><td>0       </td><td>0       </td><td>0       </td><td>0       </td><td>0       </td><td>0       </td><td>0       </td><td>0       </td><td>0       </td></tr>\n",
       "\t<tr><th scope=row>29</th><td>Nematoda</td><td>U:G     </td><td>1       </td><td>0       </td><td>0       </td><td>0       </td><td>0       </td><td>0       </td><td>0       </td><td>0       </td><td>⋯       </td><td>0       </td><td>0       </td><td>0       </td><td>0       </td><td>1       </td><td>0       </td><td>1       </td><td>0       </td><td>0       </td><td>0       </td></tr>\n",
       "\t<tr><th scope=row>30</th><td>Nematoda</td><td>U:U     </td><td>0       </td><td>0       </td><td>0       </td><td>0       </td><td>0       </td><td>0       </td><td>2       </td><td>1       </td><td>⋯       </td><td>0       </td><td>0       </td><td>0       </td><td>0       </td><td>1       </td><td>0       </td><td>0       </td><td>0       </td><td>0       </td><td>0       </td></tr>\n",
       "\t<tr><th scope=row>31</th><td>Spermatophyta</td><td>A:A          </td><td>0            </td><td>0            </td><td>0            </td><td>0            </td><td>0            </td><td>0            </td><td>1            </td><td>0            </td><td>⋯            </td><td>0            </td><td>0            </td><td>0            </td><td>0            </td><td>0            </td><td>0            </td><td>0            </td><td>0            </td><td>0            </td><td>0            </td></tr>\n",
       "\t<tr><th scope=row>32</th><td>Spermatophyta</td><td>A:G          </td><td>1            </td><td>0            </td><td>0            </td><td>0            </td><td>1            </td><td>0            </td><td>0            </td><td>0            </td><td>⋯            </td><td>0            </td><td>0            </td><td>0            </td><td>1            </td><td>0            </td><td>0            </td><td>0            </td><td>0            </td><td>1            </td><td>0            </td></tr>\n",
       "\t<tr><th scope=row>33</th><td>Spermatophyta</td><td>A:U          </td><td>0            </td><td>0            </td><td>0            </td><td>0            </td><td>0            </td><td>0            </td><td>0            </td><td>0            </td><td>⋯            </td><td>0            </td><td>0            </td><td>14           </td><td>0            </td><td>0            </td><td>0            </td><td>0            </td><td>0            </td><td>0            </td><td>0            </td></tr>\n",
       "\t<tr><th scope=row>34</th><td>Spermatophyta</td><td>C:A          </td><td>1            </td><td>0            </td><td>2            </td><td>0            </td><td>0            </td><td>0            </td><td>1            </td><td>0            </td><td>⋯            </td><td>0            </td><td>3            </td><td>0            </td><td>0            </td><td>0            </td><td>1            </td><td>0            </td><td>0            </td><td>1            </td><td>0            </td></tr>\n",
       "\t<tr><th scope=row>35</th><td>Spermatophyta</td><td>C:C          </td><td>0            </td><td>1            </td><td>0            </td><td>0            </td><td>0            </td><td>0            </td><td>0            </td><td>0            </td><td>⋯            </td><td>1            </td><td>0            </td><td>0            </td><td>0            </td><td>0            </td><td>0            </td><td>0            </td><td>0            </td><td>0            </td><td>0            </td></tr>\n",
       "\t<tr><th scope=row>36</th><td>Spermatophyta</td><td>C:U          </td><td>0            </td><td>0            </td><td>0            </td><td>0            </td><td>0            </td><td>0            </td><td>0            </td><td>0            </td><td>⋯            </td><td>0            </td><td>1            </td><td>0            </td><td>0            </td><td>0            </td><td>0            </td><td>0            </td><td>0            </td><td>0            </td><td>0            </td></tr>\n",
       "\t<tr><th scope=row>37</th><td>Spermatophyta</td><td>G:G          </td><td>0            </td><td>0            </td><td>0            </td><td>0            </td><td>0            </td><td>0            </td><td>0            </td><td>0            </td><td>⋯            </td><td>1            </td><td>0            </td><td>0            </td><td>0            </td><td>0            </td><td>0            </td><td>1            </td><td>0            </td><td>0            </td><td>0            </td></tr>\n",
       "\t<tr><th scope=row>38</th><td>Spermatophyta</td><td>U:G          </td><td>0            </td><td>1            </td><td>0            </td><td>7            </td><td>1            </td><td>0            </td><td>0            </td><td>1            </td><td>⋯            </td><td>4            </td><td>0            </td><td>1            </td><td>1            </td><td>0            </td><td>6            </td><td>1            </td><td>1            </td><td>1            </td><td>0            </td></tr>\n",
       "\t<tr><th scope=row>39</th><td>Spermatophyta</td><td>U:U          </td><td>0            </td><td>0            </td><td>0            </td><td>0            </td><td>0            </td><td>0            </td><td>0            </td><td>0            </td><td>⋯            </td><td>0            </td><td>0            </td><td>0            </td><td>0            </td><td>0            </td><td>0            </td><td>0            </td><td>0            </td><td>0            </td><td>1            </td></tr>\n",
       "\t<tr><th scope=row>40</th><td>Vertebrata</td><td>A:A       </td><td>0         </td><td>0         </td><td>0         </td><td>0         </td><td>0         </td><td>0         </td><td>0         </td><td>0         </td><td>⋯         </td><td>0         </td><td>0         </td><td>0         </td><td>0         </td><td>1         </td><td>0         </td><td>0         </td><td>0         </td><td>0         </td><td>0         </td></tr>\n",
       "\t<tr><th scope=row>41</th><td>Vertebrata</td><td>A:G       </td><td>0         </td><td>0         </td><td>2         </td><td>0         </td><td>2         </td><td>0         </td><td>0         </td><td>0         </td><td>⋯         </td><td>1         </td><td>0         </td><td>0         </td><td>1         </td><td>0         </td><td>3         </td><td>4         </td><td>1         </td><td>0         </td><td>0         </td></tr>\n",
       "\t<tr><th scope=row>42</th><td>Vertebrata</td><td>C:A       </td><td>2         </td><td>2         </td><td>4         </td><td>0         </td><td>1         </td><td>0         </td><td>2         </td><td>1         </td><td>⋯         </td><td>0         </td><td>2         </td><td>1         </td><td>1         </td><td>0         </td><td>5         </td><td>0         </td><td>2         </td><td>0         </td><td>3         </td></tr>\n",
       "\t<tr><th scope=row>43</th><td>Vertebrata</td><td>C:C       </td><td>0         </td><td>0         </td><td>2         </td><td>0         </td><td>1         </td><td>0         </td><td>0         </td><td>0         </td><td>⋯         </td><td>2         </td><td>0         </td><td>0         </td><td>0         </td><td>0         </td><td>1         </td><td>0         </td><td>1         </td><td>0         </td><td>0         </td></tr>\n",
       "\t<tr><th scope=row>44</th><td>Vertebrata</td><td>C:U       </td><td>0         </td><td>0         </td><td>1         </td><td>0         </td><td>0         </td><td>0         </td><td>0         </td><td>1         </td><td>⋯         </td><td>0         </td><td>3         </td><td>0         </td><td>1         </td><td>0         </td><td>0         </td><td>0         </td><td>0         </td><td>0         </td><td>0         </td></tr>\n",
       "\t<tr><th scope=row>45</th><td>Vertebrata</td><td>G:A       </td><td>0         </td><td>0         </td><td>0         </td><td>0         </td><td>0         </td><td>0         </td><td>1         </td><td>0         </td><td>⋯         </td><td>0         </td><td>0         </td><td>0         </td><td>0         </td><td>0         </td><td>0         </td><td>0         </td><td>0         </td><td>0         </td><td>0         </td></tr>\n",
       "\t<tr><th scope=row>46</th><td>Vertebrata</td><td>G:G       </td><td>0         </td><td>0         </td><td>0         </td><td>0         </td><td>0         </td><td>0         </td><td>0         </td><td>0         </td><td>⋯         </td><td>0         </td><td>0         </td><td>0         </td><td>0         </td><td>0         </td><td>0         </td><td>0         </td><td>1         </td><td>0         </td><td>0         </td></tr>\n",
       "\t<tr><th scope=row>47</th><td>Vertebrata</td><td>U:C       </td><td>0         </td><td>0         </td><td>0         </td><td>0         </td><td>0         </td><td>0         </td><td>0         </td><td>0         </td><td>⋯         </td><td>0         </td><td>0         </td><td>0         </td><td>0         </td><td>1         </td><td>0         </td><td>0         </td><td>0         </td><td>0         </td><td>1         </td></tr>\n",
       "\t<tr><th scope=row>48</th><td>Vertebrata</td><td>U:G       </td><td>3         </td><td>4         </td><td>11        </td><td>2         </td><td>2         </td><td>2         </td><td>2         </td><td>0         </td><td>⋯         </td><td>0         </td><td>4         </td><td>5         </td><td>9         </td><td>0         </td><td>2         </td><td>2         </td><td>6         </td><td>0         </td><td>1         </td></tr>\n",
       "\t<tr><th scope=row>49</th><td>Vertebrata</td><td>U:U       </td><td>0         </td><td>0         </td><td>0         </td><td>0         </td><td>0         </td><td>0         </td><td>1         </td><td>0         </td><td>⋯         </td><td>0         </td><td>0         </td><td>0         </td><td>0         </td><td>0         </td><td>0         </td><td>0         </td><td>0         </td><td>0         </td><td>0         </td></tr>\n",
       "</tbody>\n",
       "</table>\n"
      ],
      "text/latex": [
       "\\begin{tabular}{r|lllllllllllllllllllllll}\n",
       "  & clade & X11.24 & Ala & Arg & Asn & Asp & Cys & Gln & Glu & Gly & ⋯ & Leu & Lys & Met & Phe & Pro & Ser & Thr & Trp & Tyr & Val\\\\\n",
       "\\hline\n",
       "\t1 & Fungi & A:U   & 0     & 1     & 0     & 0     & 0     & 5     & 0     & 2     & ⋯     & 0     & 0     & 0     & 0     & 0     & 0     & 0     & 0     & 0     & 3    \\\\\n",
       "\t2 & Fungi & C:A   & 1     & 0     & 0     & 0     & 0     & 0     & 0     & 0     & ⋯     & 0     & 0     & 0     & 0     & 1     & 1     & 0     & 0     & 0     & 0    \\\\\n",
       "\t3 & Fungi & C:C   & 0     & 0     & 1     & 0     & 0     & 0     & 0     & 0     & ⋯     & 1     & 0     & 0     & 0     & 0     & 0     & 0     & 0     & 0     & 0    \\\\\n",
       "\t4 & Fungi & G:C   & 2     & 0     & 0     & 0     & 0     & 2     & 1     & 2     & ⋯     & 11    & 0     & 0     & 0     & 0     & 6     & 0     & 0     & 0     & 1    \\\\\n",
       "\t5 & Fungi & U:G   & 3     & 0     & 1     & 0     & 0     & 0     & 0     & 0     & ⋯     & 1     & 1     & 0     & 0     & 4     & 0     & 1     & 0     & 9     & 87   \\\\\n",
       "\t6 & Insecta & A:G     & 0       & 0       & 1       & 0       & 0       & 0       & 0       & 0       & ⋯       & 0       & 0       & 0       & 0       & 0       & 0       & 0       & 0       & 0       & 0      \\\\\n",
       "\t7 & Insecta & C:A     & 0       & 0       & 0       & 0       & 0       & 0       & 0       & 0       & ⋯       & 0       & 0       & 0       & 0       & 1       & 0       & 0       & 0       & 0       & 0      \\\\\n",
       "\t8 & Insecta & U:G     & 0       & 1       & 0       & 0       & 0       & 0       & 0       & 1       & ⋯       & 0       & 0       & 0       & 0       & 0       & 0       & 0       & 0       & 1       & 0      \\\\\n",
       "\t9 & Mammalia & A:C      & 0        & 0        & 0        & 0        & 0        & 0        & 0        & 0        & ⋯        & 0        & 0        & 1        & 0        & 0        & 0        & 0        & 0        & 0        & 0       \\\\\n",
       "\t10 & Mammalia & A:G      & 0        & 0        & 0        & 0        & 1        & 0        & 0        & 0        & ⋯        & 0        & 3        & 0        & 0        & 0        & 0        & 1        & 0        & 0        & 0       \\\\\n",
       "\t11 & Mammalia & A:U      & 0        & 0        & 0        & 0        & 0        & 0        & 0        & 0        & ⋯        & 0        & 0        & 1        & 0        & 0        & 0        & 0        & 0        & 0        & 0       \\\\\n",
       "\t12 & Mammalia & C:A      & 4        & 2        & 3        & 2        & 5        & 0        & 2        & 2        & ⋯        & 1        & 10       & 2        & 3        & 1        & 2        & 0        & 3        & 0        & 4       \\\\\n",
       "\t13 & Mammalia & C:C      & 1        & 1        & 2        & 0        & 1        & 0        & 0        & 0        & ⋯        & 0        & 5        & 3        & 1        & 0        & 0        & 1        & 0        & 0        & 0       \\\\\n",
       "\t14 & Mammalia & C:U      & 0        & 0        & 0        & 0        & 0        & 0        & 0        & 0        & ⋯        & 1        & 4        & 0        & 0        & 0        & 0        & 0        & 0        & 0        & 0       \\\\\n",
       "\t15 & Mammalia & G:A      & 0        & 0        & 0        & 0        & 0        & 0        & 0        & 0        & ⋯        & 0        & 0        & 0        & 0        & 1        & 0        & 0        & 0        & 0        & 1       \\\\\n",
       "\t16 & Mammalia & G:C      & 0        & 0        & 0        & 0        & 0        & 0        & 0        & 0        & ⋯        & 0        & 1        & 0        & 0        & 0        & 0        & 0        & 0        & 0        & 0       \\\\\n",
       "\t17 & Mammalia & G:G      & 0        & 0        & 0        & 0        & 0        & 0        & 0        & 0        & ⋯        & 0        & 0        & 0        & 1        & 0        & 1        & 0        & 0        & 0        & 0       \\\\\n",
       "\t18 & Mammalia & U:C      & 0        & 0        & 0        & 1        & 0        & 0        & 1        & 0        & ⋯        & 0        & 0        & 0        & 0        & 0        & 0        & 0        & 0        & 0        & 0       \\\\\n",
       "\t19 & Mammalia & U:G      & 6        & 3        & 16       & 1        & 6        & 0        & 1        & 5        & ⋯        & 1        & 16       & 13       & 4        & 1        & 2        & 1        & 3        & 5        & 0       \\\\\n",
       "\t20 & Mammalia & U:U      & 1        & 0        & 0        & 0        & 0        & 1        & 1        & 0        & ⋯        & 0        & 0        & 0        & 0        & 0        & 0        & 0        & 0        & 0        & 1       \\\\\n",
       "\t21 & Nematoda & A:A      & 0        & 0        & 0        & 0        & 0        & 0        & 0        & 0        & ⋯        & 0        & 0        & 0        & 0        & 1        & 0        & 0        & 0        & 0        & 0       \\\\\n",
       "\t22 & Nematoda & A:G      & 2        & 0        & 1        & 0        & 0        & 0        & 0        & 0        & ⋯        & 0        & 0        & 0        & 0        & 0        & 0        & 0        & 0        & 0        & 0       \\\\\n",
       "\t23 & Nematoda & A:U      & 0        & 0        & 0        & 0        & 0        & 0        & 0        & 0        & ⋯        & 0        & 0        & 2        & 0        & 0        & 0        & 0        & 0        & 0        & 0       \\\\\n",
       "\t24 & Nematoda & C:A      & 1        & 1        & 0        & 0        & 0        & 0        & 0        & 0        & ⋯        & 2        & 2        & 0        & 0        & 0        & 0        & 0        & 0        & 0        & 0       \\\\\n",
       "\t25 & Nematoda & C:C      & 0        & 1        & 0        & 0        & 0        & 0        & 0        & 0        & ⋯        & 0        & 0        & 0        & 0        & 0        & 0        & 1        & 0        & 0        & 0       \\\\\n",
       "\t26 & Nematoda & C:U      & 0        & 0        & 0        & 0        & 0        & 0        & 0        & 0        & ⋯        & 1        & 0        & 0        & 0        & 0        & 0        & 0        & 0        & 1        & 0       \\\\\n",
       "\t27 & Nematoda & G:A      & 0        & 0        & 0        & 0        & 0        & 0        & 1        & 0        & ⋯        & 0        & 0        & 0        & 0        & 0        & 0        & 0        & 0        & 0        & 0       \\\\\n",
       "\t28 & Nematoda & G:G      & 0        & 1        & 0        & 0        & 0        & 0        & 0        & 0        & ⋯        & 0        & 0        & 0        & 0        & 0        & 0        & 0        & 0        & 0        & 0       \\\\\n",
       "\t29 & Nematoda & U:G      & 1        & 0        & 0        & 0        & 0        & 0        & 0        & 0        & ⋯        & 0        & 0        & 0        & 0        & 1        & 0        & 1        & 0        & 0        & 0       \\\\\n",
       "\t30 & Nematoda & U:U      & 0        & 0        & 0        & 0        & 0        & 0        & 2        & 1        & ⋯        & 0        & 0        & 0        & 0        & 1        & 0        & 0        & 0        & 0        & 0       \\\\\n",
       "\t31 & Spermatophyta & A:A           & 0             & 0             & 0             & 0             & 0             & 0             & 1             & 0             & ⋯             & 0             & 0             & 0             & 0             & 0             & 0             & 0             & 0             & 0             & 0            \\\\\n",
       "\t32 & Spermatophyta & A:G           & 1             & 0             & 0             & 0             & 1             & 0             & 0             & 0             & ⋯             & 0             & 0             & 0             & 1             & 0             & 0             & 0             & 0             & 1             & 0            \\\\\n",
       "\t33 & Spermatophyta & A:U           & 0             & 0             & 0             & 0             & 0             & 0             & 0             & 0             & ⋯             & 0             & 0             & 14            & 0             & 0             & 0             & 0             & 0             & 0             & 0            \\\\\n",
       "\t34 & Spermatophyta & C:A           & 1             & 0             & 2             & 0             & 0             & 0             & 1             & 0             & ⋯             & 0             & 3             & 0             & 0             & 0             & 1             & 0             & 0             & 1             & 0            \\\\\n",
       "\t35 & Spermatophyta & C:C           & 0             & 1             & 0             & 0             & 0             & 0             & 0             & 0             & ⋯             & 1             & 0             & 0             & 0             & 0             & 0             & 0             & 0             & 0             & 0            \\\\\n",
       "\t36 & Spermatophyta & C:U           & 0             & 0             & 0             & 0             & 0             & 0             & 0             & 0             & ⋯             & 0             & 1             & 0             & 0             & 0             & 0             & 0             & 0             & 0             & 0            \\\\\n",
       "\t37 & Spermatophyta & G:G           & 0             & 0             & 0             & 0             & 0             & 0             & 0             & 0             & ⋯             & 1             & 0             & 0             & 0             & 0             & 0             & 1             & 0             & 0             & 0            \\\\\n",
       "\t38 & Spermatophyta & U:G           & 0             & 1             & 0             & 7             & 1             & 0             & 0             & 1             & ⋯             & 4             & 0             & 1             & 1             & 0             & 6             & 1             & 1             & 1             & 0            \\\\\n",
       "\t39 & Spermatophyta & U:U           & 0             & 0             & 0             & 0             & 0             & 0             & 0             & 0             & ⋯             & 0             & 0             & 0             & 0             & 0             & 0             & 0             & 0             & 0             & 1            \\\\\n",
       "\t40 & Vertebrata & A:A        & 0          & 0          & 0          & 0          & 0          & 0          & 0          & 0          & ⋯          & 0          & 0          & 0          & 0          & 1          & 0          & 0          & 0          & 0          & 0         \\\\\n",
       "\t41 & Vertebrata & A:G        & 0          & 0          & 2          & 0          & 2          & 0          & 0          & 0          & ⋯          & 1          & 0          & 0          & 1          & 0          & 3          & 4          & 1          & 0          & 0         \\\\\n",
       "\t42 & Vertebrata & C:A        & 2          & 2          & 4          & 0          & 1          & 0          & 2          & 1          & ⋯          & 0          & 2          & 1          & 1          & 0          & 5          & 0          & 2          & 0          & 3         \\\\\n",
       "\t43 & Vertebrata & C:C        & 0          & 0          & 2          & 0          & 1          & 0          & 0          & 0          & ⋯          & 2          & 0          & 0          & 0          & 0          & 1          & 0          & 1          & 0          & 0         \\\\\n",
       "\t44 & Vertebrata & C:U        & 0          & 0          & 1          & 0          & 0          & 0          & 0          & 1          & ⋯          & 0          & 3          & 0          & 1          & 0          & 0          & 0          & 0          & 0          & 0         \\\\\n",
       "\t45 & Vertebrata & G:A        & 0          & 0          & 0          & 0          & 0          & 0          & 1          & 0          & ⋯          & 0          & 0          & 0          & 0          & 0          & 0          & 0          & 0          & 0          & 0         \\\\\n",
       "\t46 & Vertebrata & G:G        & 0          & 0          & 0          & 0          & 0          & 0          & 0          & 0          & ⋯          & 0          & 0          & 0          & 0          & 0          & 0          & 0          & 1          & 0          & 0         \\\\\n",
       "\t47 & Vertebrata & U:C        & 0          & 0          & 0          & 0          & 0          & 0          & 0          & 0          & ⋯          & 0          & 0          & 0          & 0          & 1          & 0          & 0          & 0          & 0          & 1         \\\\\n",
       "\t48 & Vertebrata & U:G        & 3          & 4          & 11         & 2          & 2          & 2          & 2          & 0          & ⋯          & 0          & 4          & 5          & 9          & 0          & 2          & 2          & 6          & 0          & 1         \\\\\n",
       "\t49 & Vertebrata & U:U        & 0          & 0          & 0          & 0          & 0          & 0          & 1          & 0          & ⋯          & 0          & 0          & 0          & 0          & 0          & 0          & 0          & 0          & 0          & 0         \\\\\n",
       "\\end{tabular}\n"
      ],
      "text/plain": [
       "           clade X11.24 Ala Arg Asn Asp Cys Gln Glu Gly ⋯ Leu Lys Met Phe Pro\n",
       "1          Fungi    A:U   0   1   0   0   0   5   0   2 ⋯   0   0   0   0   0\n",
       "2          Fungi    C:A   1   0   0   0   0   0   0   0 ⋯   0   0   0   0   1\n",
       "3          Fungi    C:C   0   0   1   0   0   0   0   0 ⋯   1   0   0   0   0\n",
       "4          Fungi    G:C   2   0   0   0   0   2   1   2 ⋯  11   0   0   0   0\n",
       "5          Fungi    U:G   3   0   1   0   0   0   0   0 ⋯   1   1   0   0   4\n",
       "6        Insecta    A:G   0   0   1   0   0   0   0   0 ⋯   0   0   0   0   0\n",
       "7        Insecta    C:A   0   0   0   0   0   0   0   0 ⋯   0   0   0   0   1\n",
       "8        Insecta    U:G   0   1   0   0   0   0   0   1 ⋯   0   0   0   0   0\n",
       "9       Mammalia    A:C   0   0   0   0   0   0   0   0 ⋯   0   0   1   0   0\n",
       "10      Mammalia    A:G   0   0   0   0   1   0   0   0 ⋯   0   3   0   0   0\n",
       "11      Mammalia    A:U   0   0   0   0   0   0   0   0 ⋯   0   0   1   0   0\n",
       "12      Mammalia    C:A   4   2   3   2   5   0   2   2 ⋯   1  10   2   3   1\n",
       "13      Mammalia    C:C   1   1   2   0   1   0   0   0 ⋯   0   5   3   1   0\n",
       "14      Mammalia    C:U   0   0   0   0   0   0   0   0 ⋯   1   4   0   0   0\n",
       "15      Mammalia    G:A   0   0   0   0   0   0   0   0 ⋯   0   0   0   0   1\n",
       "16      Mammalia    G:C   0   0   0   0   0   0   0   0 ⋯   0   1   0   0   0\n",
       "17      Mammalia    G:G   0   0   0   0   0   0   0   0 ⋯   0   0   0   1   0\n",
       "18      Mammalia    U:C   0   0   0   1   0   0   1   0 ⋯   0   0   0   0   0\n",
       "19      Mammalia    U:G   6   3  16   1   6   0   1   5 ⋯   1  16  13   4   1\n",
       "20      Mammalia    U:U   1   0   0   0   0   1   1   0 ⋯   0   0   0   0   0\n",
       "21      Nematoda    A:A   0   0   0   0   0   0   0   0 ⋯   0   0   0   0   1\n",
       "22      Nematoda    A:G   2   0   1   0   0   0   0   0 ⋯   0   0   0   0   0\n",
       "23      Nematoda    A:U   0   0   0   0   0   0   0   0 ⋯   0   0   2   0   0\n",
       "24      Nematoda    C:A   1   1   0   0   0   0   0   0 ⋯   2   2   0   0   0\n",
       "25      Nematoda    C:C   0   1   0   0   0   0   0   0 ⋯   0   0   0   0   0\n",
       "26      Nematoda    C:U   0   0   0   0   0   0   0   0 ⋯   1   0   0   0   0\n",
       "27      Nematoda    G:A   0   0   0   0   0   0   1   0 ⋯   0   0   0   0   0\n",
       "28      Nematoda    G:G   0   1   0   0   0   0   0   0 ⋯   0   0   0   0   0\n",
       "29      Nematoda    U:G   1   0   0   0   0   0   0   0 ⋯   0   0   0   0   1\n",
       "30      Nematoda    U:U   0   0   0   0   0   0   2   1 ⋯   0   0   0   0   1\n",
       "31 Spermatophyta    A:A   0   0   0   0   0   0   1   0 ⋯   0   0   0   0   0\n",
       "32 Spermatophyta    A:G   1   0   0   0   1   0   0   0 ⋯   0   0   0   1   0\n",
       "33 Spermatophyta    A:U   0   0   0   0   0   0   0   0 ⋯   0   0  14   0   0\n",
       "34 Spermatophyta    C:A   1   0   2   0   0   0   1   0 ⋯   0   3   0   0   0\n",
       "35 Spermatophyta    C:C   0   1   0   0   0   0   0   0 ⋯   1   0   0   0   0\n",
       "36 Spermatophyta    C:U   0   0   0   0   0   0   0   0 ⋯   0   1   0   0   0\n",
       "37 Spermatophyta    G:G   0   0   0   0   0   0   0   0 ⋯   1   0   0   0   0\n",
       "38 Spermatophyta    U:G   0   1   0   7   1   0   0   1 ⋯   4   0   1   1   0\n",
       "39 Spermatophyta    U:U   0   0   0   0   0   0   0   0 ⋯   0   0   0   0   0\n",
       "40    Vertebrata    A:A   0   0   0   0   0   0   0   0 ⋯   0   0   0   0   1\n",
       "41    Vertebrata    A:G   0   0   2   0   2   0   0   0 ⋯   1   0   0   1   0\n",
       "42    Vertebrata    C:A   2   2   4   0   1   0   2   1 ⋯   0   2   1   1   0\n",
       "43    Vertebrata    C:C   0   0   2   0   1   0   0   0 ⋯   2   0   0   0   0\n",
       "44    Vertebrata    C:U   0   0   1   0   0   0   0   1 ⋯   0   3   0   1   0\n",
       "45    Vertebrata    G:A   0   0   0   0   0   0   1   0 ⋯   0   0   0   0   0\n",
       "46    Vertebrata    G:G   0   0   0   0   0   0   0   0 ⋯   0   0   0   0   0\n",
       "47    Vertebrata    U:C   0   0   0   0   0   0   0   0 ⋯   0   0   0   0   1\n",
       "48    Vertebrata    U:G   3   4  11   2   2   2   2   0 ⋯   0   4   5   9   0\n",
       "49    Vertebrata    U:U   0   0   0   0   0   0   1   0 ⋯   0   0   0   0   0\n",
       "   Ser Thr Trp Tyr Val\n",
       "1    0   0   0   0   3\n",
       "2    1   0   0   0   0\n",
       "3    0   0   0   0   0\n",
       "4    6   0   0   0   1\n",
       "5    0   1   0   9  87\n",
       "6    0   0   0   0   0\n",
       "7    0   0   0   0   0\n",
       "8    0   0   0   1   0\n",
       "9    0   0   0   0   0\n",
       "10   0   1   0   0   0\n",
       "11   0   0   0   0   0\n",
       "12   2   0   3   0   4\n",
       "13   0   1   0   0   0\n",
       "14   0   0   0   0   0\n",
       "15   0   0   0   0   1\n",
       "16   0   0   0   0   0\n",
       "17   1   0   0   0   0\n",
       "18   0   0   0   0   0\n",
       "19   2   1   3   5   0\n",
       "20   0   0   0   0   1\n",
       "21   0   0   0   0   0\n",
       "22   0   0   0   0   0\n",
       "23   0   0   0   0   0\n",
       "24   0   0   0   0   0\n",
       "25   0   1   0   0   0\n",
       "26   0   0   0   1   0\n",
       "27   0   0   0   0   0\n",
       "28   0   0   0   0   0\n",
       "29   0   1   0   0   0\n",
       "30   0   0   0   0   0\n",
       "31   0   0   0   0   0\n",
       "32   0   0   0   1   0\n",
       "33   0   0   0   0   0\n",
       "34   1   0   0   1   0\n",
       "35   0   0   0   0   0\n",
       "36   0   0   0   0   0\n",
       "37   0   1   0   0   0\n",
       "38   6   1   1   1   0\n",
       "39   0   0   0   0   1\n",
       "40   0   0   0   0   0\n",
       "41   3   4   1   0   0\n",
       "42   5   0   2   0   3\n",
       "43   1   0   1   0   0\n",
       "44   0   0   0   0   0\n",
       "45   0   0   0   0   0\n",
       "46   0   0   1   0   0\n",
       "47   0   0   0   0   1\n",
       "48   2   2   6   0   1\n",
       "49   0   0   0   0   0"
      ]
     },
     "metadata": {},
     "output_type": "display_data"
    }
   ],
   "source": [
    "# species/isotype check\n",
    "identities %>% filter(!restrict) %>% select(clade, species, isotype, X11.24) %>%\n",
    "  count(clade, species, isotype, X11.24) %>% spread(X11.24, n, 0) %>% filter(`C:G` == 0 & `U:A` == 0)\n",
    "\n",
    "# clade/isotype quantification\n",
    "identities %>% select(clade, isotype, restrict, X11.24) %>% filter(!restrict, !(X11.24 %in% c('U:A', 'C:G'))) %>%\n",
    "  count(clade, isotype, X11.24) %>% spread(isotype, n, 0)"
   ]
  },
  {
   "cell_type": "markdown",
   "metadata": {},
   "source": [
    "## R15:Y48"
   ]
  },
  {
   "cell_type": "code",
   "execution_count": 30,
   "metadata": {
    "collapsed": true
   },
   "outputs": [
    {
     "data": {
      "text/html": [
       "<table>\n",
       "<thead><tr><th></th><th scope=col>isotype</th></tr></thead>\n",
       "<tbody>\n",
       "\t<tr><th scope=row>1</th><td>Ala</td></tr>\n",
       "\t<tr><th scope=row>2</th><td>Glu</td></tr>\n",
       "\t<tr><th scope=row>3</th><td>Asp</td></tr>\n",
       "\t<tr><th scope=row>4</th><td>Phe</td></tr>\n",
       "\t<tr><th scope=row>5</th><td>Met</td></tr>\n",
       "\t<tr><th scope=row>6</th><td>His</td></tr>\n",
       "\t<tr><th scope=row>7</th><td>Asn</td></tr>\n",
       "\t<tr><th scope=row>8</th><td>Gln</td></tr>\n",
       "</tbody>\n",
       "</table>\n"
      ],
      "text/latex": [
       "\\begin{tabular}{r|l}\n",
       "  & isotype\\\\\n",
       "\\hline\n",
       "\t1 & Ala\\\\\n",
       "\t2 & Glu\\\\\n",
       "\t3 & Asp\\\\\n",
       "\t4 & Phe\\\\\n",
       "\t5 & Met\\\\\n",
       "\t6 & His\\\\\n",
       "\t7 & Asn\\\\\n",
       "\t8 & Gln\\\\\n",
       "\\end{tabular}\n"
      ],
      "text/plain": [
       "  isotype\n",
       "1     Ala\n",
       "2     Glu\n",
       "3     Asp\n",
       "4     Phe\n",
       "5     Met\n",
       "6     His\n",
       "7     Asn\n",
       "8     Gln"
      ]
     },
     "metadata": {},
     "output_type": "display_data"
    },
    {
     "data": {
      "text/html": [
       "<table>\n",
       "<thead><tr><th></th><th scope=col>species</th></tr></thead>\n",
       "<tbody>\n",
       "\t<tr><th scope=row>1</th><td>araTha1</td></tr>\n",
       "\t<tr><th scope=row>2</th><td>ashbGoss_ATCC10895</td></tr>\n",
       "\t<tr><th scope=row>3</th><td>aspeFumi_AF293</td></tr>\n",
       "\t<tr><th scope=row>4</th><td>aspeNidu_FGSC_A4</td></tr>\n",
       "\t<tr><th scope=row>5</th><td>botrCine_B05_10</td></tr>\n",
       "\t<tr><th scope=row>6</th><td>braDis3</td></tr>\n",
       "\t<tr><th scope=row>7</th><td>candAlbi_WO_1</td></tr>\n",
       "\t<tr><th scope=row>8</th><td>candDubl_CD36</td></tr>\n",
       "\t<tr><th scope=row>9</th><td>candGlab_CBS_138</td></tr>\n",
       "\t<tr><th scope=row>10</th><td>candOrth_CO_90_125</td></tr>\n",
       "\t<tr><th scope=row>11</th><td>carPap1</td></tr>\n",
       "\t<tr><th scope=row>12</th><td>crypGatt_WM276</td></tr>\n",
       "\t<tr><th scope=row>13</th><td>crypNeof_VAR_GRUBII_H99</td></tr>\n",
       "\t<tr><th scope=row>14</th><td>crypNeof_VAR_NEOFORMANS_B_3501</td></tr>\n",
       "\t<tr><th scope=row>15</th><td>crypNeof_VAR_NEOFORMANS_JEC21</td></tr>\n",
       "\t<tr><th scope=row>16</th><td>enceCuni_GB_M1</td></tr>\n",
       "\t<tr><th scope=row>17</th><td>enceHell_ATCC50504</td></tr>\n",
       "\t<tr><th scope=row>18</th><td>enceInte_ATCC50506</td></tr>\n",
       "\t<tr><th scope=row>19</th><td>enceRoma_SJ_2008</td></tr>\n",
       "\t<tr><th scope=row>20</th><td>eremCymb_DBVPG#7215</td></tr>\n",
       "\t<tr><th scope=row>21</th><td>fraVes1</td></tr>\n",
       "\t<tr><th scope=row>22</th><td>glyMax2</td></tr>\n",
       "\t<tr><th scope=row>23</th><td>gosRai2</td></tr>\n",
       "\t<tr><th scope=row>24</th><td>kazaAfri_CBS_2517</td></tr>\n",
       "\t<tr><th scope=row>25</th><td>kluyLact_NRRL_Y_1140</td></tr>\n",
       "\t<tr><th scope=row>26</th><td>malDom1</td></tr>\n",
       "\t<tr><th scope=row>27</th><td>manEsc6</td></tr>\n",
       "\t<tr><th scope=row>28</th><td>medTru4</td></tr>\n",
       "\t<tr><th scope=row>29</th><td>naumCast_CBS_4309</td></tr>\n",
       "\t<tr><th scope=row>30</th><td>naumDair_CBS_421</td></tr>\n",
       "\t<tr><th scope=row>31</th><td>orySat7</td></tr>\n",
       "\t<tr><th scope=row>32</th><td>popTri3</td></tr>\n",
       "\t<tr><th scope=row>33</th><td>priPac1</td></tr>\n",
       "\t<tr><th scope=row>34</th><td>sacCer3</td></tr>\n",
       "\t<tr><th scope=row>35</th><td>saccSp_ASHBYA_ACERI</td></tr>\n",
       "\t<tr><th scope=row>36</th><td>saccSp_BOULARDII_17</td></tr>\n",
       "\t<tr><th scope=row>37</th><td>saccSp_BOULARDII_ATCCMYA_796</td></tr>\n",
       "\t<tr><th scope=row>38</th><td>schiPomb_972H</td></tr>\n",
       "\t<tr><th scope=row>39</th><td>sorBic3</td></tr>\n",
       "\t<tr><th scope=row>40</th><td>tetrPhaf_CBS_4417</td></tr>\n",
       "\t<tr><th scope=row>41</th><td>toruDelb_CBS_1146</td></tr>\n",
       "\t<tr><th scope=row>42</th><td>triSpi1</td></tr>\n",
       "\t<tr><th scope=row>43</th><td>vitVin1</td></tr>\n",
       "\t<tr><th scope=row>44</th><td>zeaMay6</td></tr>\n",
       "\t<tr><th scope=row>45</th><td>zygoRoux_CBS_732</td></tr>\n",
       "</tbody>\n",
       "</table>\n"
      ],
      "text/latex": [
       "\\begin{tabular}{r|l}\n",
       "  & species\\\\\n",
       "\\hline\n",
       "\t1 & araTha1\\\\\n",
       "\t2 & ashbGoss\\_ATCC10895\\\\\n",
       "\t3 & aspeFumi\\_AF293\\\\\n",
       "\t4 & aspeNidu\\_FGSC\\_A4\\\\\n",
       "\t5 & botrCine\\_B05\\_10\\\\\n",
       "\t6 & braDis3\\\\\n",
       "\t7 & candAlbi\\_WO\\_1\\\\\n",
       "\t8 & candDubl\\_CD36\\\\\n",
       "\t9 & candGlab\\_CBS\\_138\\\\\n",
       "\t10 & candOrth\\_CO\\_90\\_125\\\\\n",
       "\t11 & carPap1\\\\\n",
       "\t12 & crypGatt\\_WM276\\\\\n",
       "\t13 & crypNeof\\_VAR\\_GRUBII\\_H99\\\\\n",
       "\t14 & crypNeof\\_VAR\\_NEOFORMANS\\_B\\_3501\\\\\n",
       "\t15 & crypNeof\\_VAR\\_NEOFORMANS\\_JEC21\\\\\n",
       "\t16 & enceCuni\\_GB\\_M1\\\\\n",
       "\t17 & enceHell\\_ATCC50504\\\\\n",
       "\t18 & enceInte\\_ATCC50506\\\\\n",
       "\t19 & enceRoma\\_SJ\\_2008\\\\\n",
       "\t20 & eremCymb\\_DBVPG\\#7215\\\\\n",
       "\t21 & fraVes1\\\\\n",
       "\t22 & glyMax2\\\\\n",
       "\t23 & gosRai2\\\\\n",
       "\t24 & kazaAfri\\_CBS\\_2517\\\\\n",
       "\t25 & kluyLact\\_NRRL\\_Y\\_1140\\\\\n",
       "\t26 & malDom1\\\\\n",
       "\t27 & manEsc6\\\\\n",
       "\t28 & medTru4\\\\\n",
       "\t29 & naumCast\\_CBS\\_4309\\\\\n",
       "\t30 & naumDair\\_CBS\\_421\\\\\n",
       "\t31 & orySat7\\\\\n",
       "\t32 & popTri3\\\\\n",
       "\t33 & priPac1\\\\\n",
       "\t34 & sacCer3\\\\\n",
       "\t35 & saccSp\\_ASHBYA\\_ACERI\\\\\n",
       "\t36 & saccSp\\_BOULARDII\\_17\\\\\n",
       "\t37 & saccSp\\_BOULARDII\\_ATCCMYA\\_796\\\\\n",
       "\t38 & schiPomb\\_972H\\\\\n",
       "\t39 & sorBic3\\\\\n",
       "\t40 & tetrPhaf\\_CBS\\_4417\\\\\n",
       "\t41 & toruDelb\\_CBS\\_1146\\\\\n",
       "\t42 & triSpi1\\\\\n",
       "\t43 & vitVin1\\\\\n",
       "\t44 & zeaMay6\\\\\n",
       "\t45 & zygoRoux\\_CBS\\_732\\\\\n",
       "\\end{tabular}\n"
      ],
      "text/plain": [
       "                          species\n",
       "1                         araTha1\n",
       "2              ashbGoss_ATCC10895\n",
       "3                  aspeFumi_AF293\n",
       "4                aspeNidu_FGSC_A4\n",
       "5                 botrCine_B05_10\n",
       "6                         braDis3\n",
       "7                   candAlbi_WO_1\n",
       "8                   candDubl_CD36\n",
       "9                candGlab_CBS_138\n",
       "10             candOrth_CO_90_125\n",
       "11                        carPap1\n",
       "12                 crypGatt_WM276\n",
       "13        crypNeof_VAR_GRUBII_H99\n",
       "14 crypNeof_VAR_NEOFORMANS_B_3501\n",
       "15  crypNeof_VAR_NEOFORMANS_JEC21\n",
       "16                 enceCuni_GB_M1\n",
       "17             enceHell_ATCC50504\n",
       "18             enceInte_ATCC50506\n",
       "19               enceRoma_SJ_2008\n",
       "20            eremCymb_DBVPG#7215\n",
       "21                        fraVes1\n",
       "22                        glyMax2\n",
       "23                        gosRai2\n",
       "24              kazaAfri_CBS_2517\n",
       "25           kluyLact_NRRL_Y_1140\n",
       "26                        malDom1\n",
       "27                        manEsc6\n",
       "28                        medTru4\n",
       "29              naumCast_CBS_4309\n",
       "30               naumDair_CBS_421\n",
       "31                        orySat7\n",
       "32                        popTri3\n",
       "33                        priPac1\n",
       "34                        sacCer3\n",
       "35            saccSp_ASHBYA_ACERI\n",
       "36            saccSp_BOULARDII_17\n",
       "37   saccSp_BOULARDII_ATCCMYA_796\n",
       "38                  schiPomb_972H\n",
       "39                        sorBic3\n",
       "40              tetrPhaf_CBS_4417\n",
       "41              toruDelb_CBS_1146\n",
       "42                        triSpi1\n",
       "43                        vitVin1\n",
       "44                        zeaMay6\n",
       "45               zygoRoux_CBS_732"
      ]
     },
     "metadata": {},
     "output_type": "display_data"
    }
   ],
   "source": [
    "# check no. isotypes without R15:Y48\n",
    "identities %>% filter(!restrict) %>% count(species, isotype, X15.48) %>% spread(X15.48, n, fill = 0) %>% \n",
    "  filter(`G:C` == 0 & `A:U` == 0) %>% \n",
    "  ungroup %>% select(isotype) %>% unique\n",
    "\n",
    "# check no. species with tRNAs of an isotype without R15:Y48\n",
    "identities %>% filter(!restrict) %>% count(species, isotype, X15.48) %>% spread(X15.48, n, fill = 0) %>% \n",
    "  filter(`G:C` == 0 & `A:U` == 0) %>% \n",
    "  ungroup %>% select(species) %>% unique"
   ]
  },
  {
   "cell_type": "markdown",
   "metadata": {},
   "source": [
    "## Y16"
   ]
  },
  {
   "cell_type": "code",
   "execution_count": 100,
   "metadata": {
    "collapsed": false
   },
   "outputs": [
    {
     "data": {
      "text/html": [
       "<table>\n",
       "<thead><tr><th></th><th scope=col>isotype</th></tr></thead>\n",
       "<tbody>\n",
       "\t<tr><th scope=row>1</th><td>Pro</td></tr>\n",
       "\t<tr><th scope=row>2</th><td>iMet</td></tr>\n",
       "\t<tr><th scope=row>3</th><td>His</td></tr>\n",
       "\t<tr><th scope=row>4</th><td>Cys</td></tr>\n",
       "\t<tr><th scope=row>5</th><td>Phe</td></tr>\n",
       "\t<tr><th scope=row>6</th><td>Asp</td></tr>\n",
       "\t<tr><th scope=row>7</th><td>Trp</td></tr>\n",
       "\t<tr><th scope=row>8</th><td>Glu</td></tr>\n",
       "</tbody>\n",
       "</table>\n"
      ],
      "text/latex": [
       "\\begin{tabular}{r|l}\n",
       "  & isotype\\\\\n",
       "\\hline\n",
       "\t1 & Pro\\\\\n",
       "\t2 & iMet\\\\\n",
       "\t3 & His\\\\\n",
       "\t4 & Cys\\\\\n",
       "\t5 & Phe\\\\\n",
       "\t6 & Asp\\\\\n",
       "\t7 & Trp\\\\\n",
       "\t8 & Glu\\\\\n",
       "\\end{tabular}\n"
      ],
      "text/plain": [
       "  isotype\n",
       "1     Pro\n",
       "2    iMet\n",
       "3     His\n",
       "4     Cys\n",
       "5     Phe\n",
       "6     Asp\n",
       "7     Trp\n",
       "8     Glu"
      ]
     },
     "metadata": {},
     "output_type": "display_data"
    },
    {
     "data": {
      "text/html": [
       "<table>\n",
       "<thead><tr><th></th><th scope=col>species</th></tr></thead>\n",
       "<tbody>\n",
       "\t<tr><th scope=row>1</th><td>anoCar2</td></tr>\n",
       "\t<tr><th scope=row>2</th><td>anoGam2</td></tr>\n",
       "\t<tr><th scope=row>3</th><td>aspeFumi_AF293</td></tr>\n",
       "\t<tr><th scope=row>4</th><td>aspeOryz_RIB40</td></tr>\n",
       "\t<tr><th scope=row>5</th><td>bomTer1</td></tr>\n",
       "\t<tr><th scope=row>6</th><td>candOrth_CO_90_125</td></tr>\n",
       "\t<tr><th scope=row>7</th><td>cavPor3</td></tr>\n",
       "\t<tr><th scope=row>8</th><td>chaeTher_VAR_THERMOPHILUM_DSM1</td></tr>\n",
       "\t<tr><th scope=row>9</th><td>chrPic1</td></tr>\n",
       "\t<tr><th scope=row>10</th><td>criGri1</td></tr>\n",
       "\t<tr><th scope=row>11</th><td>crypGatt_WM276</td></tr>\n",
       "\t<tr><th scope=row>12</th><td>crypNeof_VAR_GRUBII_H99</td></tr>\n",
       "\t<tr><th scope=row>13</th><td>crypNeof_VAR_NEOFORMANS_B_3501</td></tr>\n",
       "\t<tr><th scope=row>14</th><td>crypNeof_VAR_NEOFORMANS_JEC21</td></tr>\n",
       "\t<tr><th scope=row>15</th><td>dasNov3</td></tr>\n",
       "\t<tr><th scope=row>16</th><td>dipOrd1</td></tr>\n",
       "\t<tr><th scope=row>17</th><td>dm6</td></tr>\n",
       "\t<tr><th scope=row>18</th><td>droAna3</td></tr>\n",
       "\t<tr><th scope=row>19</th><td>droEre2</td></tr>\n",
       "\t<tr><th scope=row>20</th><td>droSec1</td></tr>\n",
       "\t<tr><th scope=row>21</th><td>droVir3</td></tr>\n",
       "\t<tr><th scope=row>22</th><td>droYak2</td></tr>\n",
       "\t<tr><th scope=row>23</th><td>enceHell_ATCC50504</td></tr>\n",
       "\t<tr><th scope=row>24</th><td>enceInte_ATCC50506</td></tr>\n",
       "\t<tr><th scope=row>25</th><td>enceRoma_SJ_2008</td></tr>\n",
       "\t<tr><th scope=row>26</th><td>eriEur2</td></tr>\n",
       "\t<tr><th scope=row>27</th><td>flamVelu_KACC42780</td></tr>\n",
       "\t<tr><th scope=row>28</th><td>fusaGram_CS3005</td></tr>\n",
       "\t<tr><th scope=row>29</th><td>fusaGram_PH_1_NRRL_31084</td></tr>\n",
       "\t<tr><th scope=row>30</th><td>gadMor1</td></tr>\n",
       "\t<tr><th scope=row>⋮</th><td>⋮</td></tr>\n",
       "\t<tr><th scope=row>38</th><td>macEug2</td></tr>\n",
       "\t<tr><th scope=row>39</th><td>magnOryz_70_15</td></tr>\n",
       "\t<tr><th scope=row>40</th><td>melGal1</td></tr>\n",
       "\t<tr><th scope=row>41</th><td>melUnd1</td></tr>\n",
       "\t<tr><th scope=row>42</th><td>monDom5</td></tr>\n",
       "\t<tr><th scope=row>43</th><td>myceTher_ATCC42464</td></tr>\n",
       "\t<tr><th scope=row>44</th><td>myoLuc2</td></tr>\n",
       "\t<tr><th scope=row>45</th><td>nasVit1</td></tr>\n",
       "\t<tr><th scope=row>46</th><td>neurCras_OR74A</td></tr>\n",
       "\t<tr><th scope=row>47</th><td>oreNil2</td></tr>\n",
       "\t<tr><th scope=row>48</th><td>oryLat2</td></tr>\n",
       "\t<tr><th scope=row>49</th><td>panRed1</td></tr>\n",
       "\t<tr><th scope=row>50</th><td>rn6</td></tr>\n",
       "\t<tr><th scope=row>51</th><td>saiBol1</td></tr>\n",
       "\t<tr><th scope=row>52</th><td>sarHar1</td></tr>\n",
       "\t<tr><th scope=row>53</th><td>schiPomb_972H</td></tr>\n",
       "\t<tr><th scope=row>54</th><td>sorAra2</td></tr>\n",
       "\t<tr><th scope=row>55</th><td>taeGut2</td></tr>\n",
       "\t<tr><th scope=row>56</th><td>tetNig2</td></tr>\n",
       "\t<tr><th scope=row>57</th><td>thieTerr_NRRL_8126</td></tr>\n",
       "\t<tr><th scope=row>58</th><td>triCas1</td></tr>\n",
       "\t<tr><th scope=row>59</th><td>triSpi1</td></tr>\n",
       "\t<tr><th scope=row>60</th><td>ustiMayd_521</td></tr>\n",
       "\t<tr><th scope=row>61</th><td>valsMali_03_8</td></tr>\n",
       "\t<tr><th scope=row>62</th><td>vertDahl_JR2</td></tr>\n",
       "\t<tr><th scope=row>63</th><td>vertDahl_VDLS_17</td></tr>\n",
       "\t<tr><th scope=row>64</th><td>xenTro3</td></tr>\n",
       "\t<tr><th scope=row>65</th><td>yarrLipo_CLIB122</td></tr>\n",
       "\t<tr><th scope=row>66</th><td>yarrLipo_PO1F</td></tr>\n",
       "\t<tr><th scope=row>67</th><td>yarrLipo_WSH_Z06</td></tr>\n",
       "</tbody>\n",
       "</table>\n"
      ],
      "text/latex": [
       "\\begin{tabular}{r|l}\n",
       "  & species\\\\\n",
       "\\hline\n",
       "\t1 & anoCar2\\\\\n",
       "\t2 & anoGam2\\\\\n",
       "\t3 & aspeFumi\\_AF293\\\\\n",
       "\t4 & aspeOryz\\_RIB40\\\\\n",
       "\t5 & bomTer1\\\\\n",
       "\t6 & candOrth\\_CO\\_90\\_125\\\\\n",
       "\t7 & cavPor3\\\\\n",
       "\t8 & chaeTher\\_VAR\\_THERMOPHILUM\\_DSM1\\\\\n",
       "\t9 & chrPic1\\\\\n",
       "\t10 & criGri1\\\\\n",
       "\t11 & crypGatt\\_WM276\\\\\n",
       "\t12 & crypNeof\\_VAR\\_GRUBII\\_H99\\\\\n",
       "\t13 & crypNeof\\_VAR\\_NEOFORMANS\\_B\\_3501\\\\\n",
       "\t14 & crypNeof\\_VAR\\_NEOFORMANS\\_JEC21\\\\\n",
       "\t15 & dasNov3\\\\\n",
       "\t16 & dipOrd1\\\\\n",
       "\t17 & dm6\\\\\n",
       "\t18 & droAna3\\\\\n",
       "\t19 & droEre2\\\\\n",
       "\t20 & droSec1\\\\\n",
       "\t21 & droVir3\\\\\n",
       "\t22 & droYak2\\\\\n",
       "\t23 & enceHell\\_ATCC50504\\\\\n",
       "\t24 & enceInte\\_ATCC50506\\\\\n",
       "\t25 & enceRoma\\_SJ\\_2008\\\\\n",
       "\t26 & eriEur2\\\\\n",
       "\t27 & flamVelu\\_KACC42780\\\\\n",
       "\t28 & fusaGram\\_CS3005\\\\\n",
       "\t29 & fusaGram\\_PH\\_1\\_NRRL\\_31084\\\\\n",
       "\t30 & gadMor1\\\\\n",
       "\t⋮ & ⋮\\\\\n",
       "\t38 & macEug2\\\\\n",
       "\t39 & magnOryz\\_70\\_15\\\\\n",
       "\t40 & melGal1\\\\\n",
       "\t41 & melUnd1\\\\\n",
       "\t42 & monDom5\\\\\n",
       "\t43 & myceTher\\_ATCC42464\\\\\n",
       "\t44 & myoLuc2\\\\\n",
       "\t45 & nasVit1\\\\\n",
       "\t46 & neurCras\\_OR74A\\\\\n",
       "\t47 & oreNil2\\\\\n",
       "\t48 & oryLat2\\\\\n",
       "\t49 & panRed1\\\\\n",
       "\t50 & rn6\\\\\n",
       "\t51 & saiBol1\\\\\n",
       "\t52 & sarHar1\\\\\n",
       "\t53 & schiPomb\\_972H\\\\\n",
       "\t54 & sorAra2\\\\\n",
       "\t55 & taeGut2\\\\\n",
       "\t56 & tetNig2\\\\\n",
       "\t57 & thieTerr\\_NRRL\\_8126\\\\\n",
       "\t58 & triCas1\\\\\n",
       "\t59 & triSpi1\\\\\n",
       "\t60 & ustiMayd\\_521\\\\\n",
       "\t61 & valsMali\\_03\\_8\\\\\n",
       "\t62 & vertDahl\\_JR2\\\\\n",
       "\t63 & vertDahl\\_VDLS\\_17\\\\\n",
       "\t64 & xenTro3\\\\\n",
       "\t65 & yarrLipo\\_CLIB122\\\\\n",
       "\t66 & yarrLipo\\_PO1F\\\\\n",
       "\t67 & yarrLipo\\_WSH\\_Z06\\\\\n",
       "\\end{tabular}\n"
      ],
      "text/plain": [
       "                          species\n",
       "1                         anoCar2\n",
       "2                         anoGam2\n",
       "3                  aspeFumi_AF293\n",
       "4                  aspeOryz_RIB40\n",
       "5                         bomTer1\n",
       "6              candOrth_CO_90_125\n",
       "7                         cavPor3\n",
       "8  chaeTher_VAR_THERMOPHILUM_DSM1\n",
       "9                         chrPic1\n",
       "10                        criGri1\n",
       "11                 crypGatt_WM276\n",
       "12        crypNeof_VAR_GRUBII_H99\n",
       "13 crypNeof_VAR_NEOFORMANS_B_3501\n",
       "14  crypNeof_VAR_NEOFORMANS_JEC21\n",
       "15                        dasNov3\n",
       "16                        dipOrd1\n",
       "17                            dm6\n",
       "18                        droAna3\n",
       "19                        droEre2\n",
       "20                        droSec1\n",
       "21                        droVir3\n",
       "22                        droYak2\n",
       "23             enceHell_ATCC50504\n",
       "24             enceInte_ATCC50506\n",
       "25               enceRoma_SJ_2008\n",
       "26                        eriEur2\n",
       "27             flamVelu_KACC42780\n",
       "28                fusaGram_CS3005\n",
       "29       fusaGram_PH_1_NRRL_31084\n",
       "30                        gadMor1\n",
       "⋮                               ⋮\n",
       "38                        macEug2\n",
       "39                 magnOryz_70_15\n",
       "40                        melGal1\n",
       "41                        melUnd1\n",
       "42                        monDom5\n",
       "43             myceTher_ATCC42464\n",
       "44                        myoLuc2\n",
       "45                        nasVit1\n",
       "46                 neurCras_OR74A\n",
       "47                        oreNil2\n",
       "48                        oryLat2\n",
       "49                        panRed1\n",
       "50                            rn6\n",
       "51                        saiBol1\n",
       "52                        sarHar1\n",
       "53                  schiPomb_972H\n",
       "54                        sorAra2\n",
       "55                        taeGut2\n",
       "56                        tetNig2\n",
       "57             thieTerr_NRRL_8126\n",
       "58                        triCas1\n",
       "59                        triSpi1\n",
       "60                   ustiMayd_521\n",
       "61                  valsMali_03_8\n",
       "62                   vertDahl_JR2\n",
       "63               vertDahl_VDLS_17\n",
       "64                        xenTro3\n",
       "65               yarrLipo_CLIB122\n",
       "66                  yarrLipo_PO1F\n",
       "67               yarrLipo_WSH_Z06"
      ]
     },
     "metadata": {},
     "output_type": "display_data"
    }
   ],
   "source": [
    "# check no. isotypes without Y16\n",
    "identities %>% filter(!restrict) %>% count(species, isotype, X16) %>% spread(X16, n, fill = 0) %>% \n",
    "  filter(C == 0 & U == 0) %>% \n",
    "  ungroup %>% select(isotype) %>% unique\n",
    "\n",
    "# check no. species with tRNAs of an isotype without R15:Y48\n",
    "identities %>% filter(!restrict) %>% count(species, isotype, X16) %>% spread(X16, n, fill = 0) %>% \n",
    "  filter(C == 0 & U == 0) %>% \n",
    "  ungroup %>% select(species) %>% unique"
   ]
  },
  {
   "cell_type": "markdown",
   "metadata": {},
   "source": [
    "## 18:55, 19:56"
   ]
  },
  {
   "cell_type": "code",
   "execution_count": 39,
   "metadata": {
    "collapsed": true
   },
   "outputs": [
    {
     "data": {
      "text/html": [
       "<table>\n",
       "<thead><tr><th></th><th scope=col>clade</th><th scope=col>species</th><th scope=col>isotype</th><th scope=col>-:U</th><th scope=col>A:G</th><th scope=col>A:U</th><th scope=col>C:U</th><th scope=col>G:-</th><th scope=col>G:A</th><th scope=col>G:C</th><th scope=col>G:G</th><th scope=col>G:U</th><th scope=col>U:U</th></tr></thead>\n",
       "<tbody>\n",
       "\t<tr><th scope=row>1</th><td>Fungi             </td><td>flamVelu_KACC42780</td><td>Pro               </td><td>0                 </td><td>0                 </td><td>2                 </td><td>2                 </td><td>0                 </td><td>0                 </td><td>0                 </td><td>0                 </td><td>0                 </td><td>0                 </td></tr>\n",
       "</tbody>\n",
       "</table>\n"
      ],
      "text/latex": [
       "\\begin{tabular}{r|lllllllllllll}\n",
       "  & clade & species & isotype & -:U & A:G & A:U & C:U & G:- & G:A & G:C & G:G & G:U & U:U\\\\\n",
       "\\hline\n",
       "\t1 & Fungi                & flamVelu\\_KACC42780 & Pro                  & 0                    & 0                    & 2                    & 2                    & 0                    & 0                    & 0                    & 0                    & 0                    & 0                   \\\\\n",
       "\\end{tabular}\n"
      ],
      "text/plain": [
       "  clade            species isotype -:U A:G A:U C:U G:- G:A G:C G:G G:U U:U\n",
       "1 Fungi flamVelu_KACC42780     Pro   0   0   2   2   0   0   0   0   0   0"
      ]
     },
     "metadata": {},
     "output_type": "display_data"
    },
    {
     "data": {
      "text/html": [
       "<table>\n",
       "<thead><tr><th></th><th scope=col>clade</th><th scope=col>isotype</th><th scope=col>positions</th><th scope=col>clade_iso_pos_total</th><th scope=col>feature</th><th scope=col>n</th><th scope=col>freq</th></tr></thead>\n",
       "<tbody>\n",
       "\t<tr><th scope=row>1</th><td>Mammalia         </td><td>Lys              </td><td>X19.56           </td><td>865              </td><td>Paired           </td><td>844              </td><td>0.975722543352601</td></tr>\n",
       "</tbody>\n",
       "</table>\n"
      ],
      "text/latex": [
       "\\begin{tabular}{r|lllllll}\n",
       "  & clade & isotype & positions & clade\\_iso\\_pos\\_total & feature & n & freq\\\\\n",
       "\\hline\n",
       "\t1 & Mammalia          & Lys               & X19.56            & 865               & Paired            & 844               & 0.975722543352601\\\\\n",
       "\\end{tabular}\n"
      ],
      "text/plain": [
       "     clade isotype positions clade_iso_pos_total feature   n      freq\n",
       "1 Mammalia     Lys    X19.56                 865  Paired 844 0.9757225"
      ]
     },
     "metadata": {},
     "output_type": "display_data"
    },
    {
     "data": {
      "text/html": [
       "<table>\n",
       "<thead><tr><th></th><th scope=col>clade</th><th scope=col>isotype</th><th scope=col>positions</th><th scope=col>clade_iso_pos_total</th><th scope=col>feature</th><th scope=col>n</th><th scope=col>freq</th></tr></thead>\n",
       "<tbody>\n",
       "\t<tr><th scope=row>1</th><td>Mammalia         </td><td>Lys              </td><td>X19.56           </td><td>865              </td><td>GC               </td><td>778              </td><td>0.899421965317919</td></tr>\n",
       "\t<tr><th scope=row>2</th><td>Vertebrata       </td><td>Glu              </td><td>X19.56           </td><td>277              </td><td>GC               </td><td>254              </td><td>0.916967509025271</td></tr>\n",
       "\t<tr><th scope=row>3</th><td>Mammalia         </td><td>Lys              </td><td>X19.56           </td><td>865              </td><td>Paired           </td><td>844              </td><td>0.975722543352601</td></tr>\n",
       "\t<tr><th scope=row>4</th><td>Vertebrata       </td><td>Glu              </td><td>X19.56           </td><td>277              </td><td>Paired           </td><td>269              </td><td>0.971119133574007</td></tr>\n",
       "\t<tr><th scope=row>5</th><td>Mammalia         </td><td>Lys              </td><td>X19.56           </td><td>865              </td><td>PurinePyrimidine </td><td>778              </td><td>0.899421965317919</td></tr>\n",
       "\t<tr><th scope=row>6</th><td>Vertebrata       </td><td>Glu              </td><td>X19.56           </td><td>277              </td><td>PurinePyrimidine </td><td>254              </td><td>0.916967509025271</td></tr>\n",
       "\t<tr><th scope=row>7</th><td>Mammalia         </td><td>Lys              </td><td>X19.56           </td><td>865              </td><td>StrongPair       </td><td>778              </td><td>0.899421965317919</td></tr>\n",
       "\t<tr><th scope=row>8</th><td>Vertebrata       </td><td>Glu              </td><td>X19.56           </td><td>277              </td><td>StrongPair       </td><td>254              </td><td>0.916967509025271</td></tr>\n",
       "</tbody>\n",
       "</table>\n"
      ],
      "text/latex": [
       "\\begin{tabular}{r|lllllll}\n",
       "  & clade & isotype & positions & clade\\_iso\\_pos\\_total & feature & n & freq\\\\\n",
       "\\hline\n",
       "\t1 & Mammalia          & Lys               & X19.56            & 865               & GC                & 778               & 0.899421965317919\\\\\n",
       "\t2 & Vertebrata        & Glu               & X19.56            & 277               & GC                & 254               & 0.916967509025271\\\\\n",
       "\t3 & Mammalia          & Lys               & X19.56            & 865               & Paired            & 844               & 0.975722543352601\\\\\n",
       "\t4 & Vertebrata        & Glu               & X19.56            & 277               & Paired            & 269               & 0.971119133574007\\\\\n",
       "\t5 & Mammalia          & Lys               & X19.56            & 865               & PurinePyrimidine  & 778               & 0.899421965317919\\\\\n",
       "\t6 & Vertebrata        & Glu               & X19.56            & 277               & PurinePyrimidine  & 254               & 0.916967509025271\\\\\n",
       "\t7 & Mammalia          & Lys               & X19.56            & 865               & StrongPair        & 778               & 0.899421965317919\\\\\n",
       "\t8 & Vertebrata        & Glu               & X19.56            & 277               & StrongPair        & 254               & 0.916967509025271\\\\\n",
       "\\end{tabular}\n"
      ],
      "text/plain": [
       "       clade isotype positions clade_iso_pos_total          feature   n\n",
       "1   Mammalia     Lys    X19.56                 865               GC 778\n",
       "2 Vertebrata     Glu    X19.56                 277               GC 254\n",
       "3   Mammalia     Lys    X19.56                 865           Paired 844\n",
       "4 Vertebrata     Glu    X19.56                 277           Paired 269\n",
       "5   Mammalia     Lys    X19.56                 865 PurinePyrimidine 778\n",
       "6 Vertebrata     Glu    X19.56                 277 PurinePyrimidine 254\n",
       "7   Mammalia     Lys    X19.56                 865       StrongPair 778\n",
       "8 Vertebrata     Glu    X19.56                 277       StrongPair 254\n",
       "       freq\n",
       "1 0.8994220\n",
       "2 0.9169675\n",
       "3 0.9757225\n",
       "4 0.9711191\n",
       "5 0.8994220\n",
       "6 0.9169675\n",
       "7 0.8994220\n",
       "8 0.9169675"
      ]
     },
     "metadata": {},
     "output_type": "display_data"
    },
    {
     "data": {
      "text/html": [
       "<table>\n",
       "<thead><tr><th></th><th scope=col>clade</th><th scope=col>species</th><th scope=col>isotype</th><th scope=col>A:A</th><th scope=col>A:C</th><th scope=col>A:U</th><th scope=col>C:C</th><th scope=col>G:-</th><th scope=col>G:A</th><th scope=col>G:C</th><th scope=col>G:G</th><th scope=col>G:U</th><th scope=col>U:C</th><th scope=col>U:U</th></tr></thead>\n",
       "<tbody>\n",
       "\t<tr><th scope=row>1</th><td>Mammalia</td><td>ailMel1 </td><td>Lys     </td><td>0       </td><td>1       </td><td>0       </td><td>1       </td><td>0       </td><td>0       </td><td>33      </td><td>1       </td><td>5       </td><td>0       </td><td>0       </td></tr>\n",
       "\t<tr><th scope=row>2</th><td>Mammalia</td><td>balAcu1 </td><td>Lys     </td><td>0       </td><td>0       </td><td>0       </td><td>0       </td><td>0       </td><td>0       </td><td>17      </td><td>0       </td><td>0       </td><td>0       </td><td>0       </td></tr>\n",
       "\t<tr><th scope=row>3</th><td>Mammalia</td><td>bosTau8 </td><td>Lys     </td><td>0       </td><td>0       </td><td>0       </td><td>0       </td><td>0       </td><td>1       </td><td>26      </td><td>0       </td><td>0       </td><td>0       </td><td>0       </td></tr>\n",
       "\t<tr><th scope=row>4</th><td>Mammalia</td><td>calJac3 </td><td>Lys     </td><td>0       </td><td>0       </td><td>0       </td><td>0       </td><td>0       </td><td>0       </td><td>9       </td><td>0       </td><td>1       </td><td>0       </td><td>0       </td></tr>\n",
       "\t<tr><th scope=row>5</th><td>Mammalia</td><td>canFam3 </td><td>Lys     </td><td>0       </td><td>2       </td><td>0       </td><td>0       </td><td>0       </td><td>1       </td><td>29      </td><td>0       </td><td>5       </td><td>0       </td><td>0       </td></tr>\n",
       "\t<tr><th scope=row>6</th><td>Mammalia</td><td>cavPor3 </td><td>Lys     </td><td>0       </td><td>1       </td><td>0       </td><td>0       </td><td>0       </td><td>0       </td><td>23      </td><td>0       </td><td>3       </td><td>0       </td><td>0       </td></tr>\n",
       "\t<tr><th scope=row>7</th><td>Mammalia</td><td>cerSim1 </td><td>Lys     </td><td>0       </td><td>0       </td><td>0       </td><td>0       </td><td>0       </td><td>0       </td><td>14      </td><td>0       </td><td>1       </td><td>0       </td><td>0       </td></tr>\n",
       "\t<tr><th scope=row>8</th><td>Mammalia</td><td>criGri1 </td><td>Lys     </td><td>0       </td><td>0       </td><td>0       </td><td>0       </td><td>0       </td><td>0       </td><td>36      </td><td>0       </td><td>3       </td><td>0       </td><td>0       </td></tr>\n",
       "\t<tr><th scope=row>9</th><td>Mammalia</td><td>dasNov3 </td><td>Lys     </td><td>0       </td><td>0       </td><td>1       </td><td>0       </td><td>0       </td><td>0       </td><td>27      </td><td>0       </td><td>2       </td><td>0       </td><td>0       </td></tr>\n",
       "\t<tr><th scope=row>10</th><td>Mammalia</td><td>dipOrd1 </td><td>Lys     </td><td>0       </td><td>0       </td><td>0       </td><td>0       </td><td>0       </td><td>0       </td><td>1       </td><td>0       </td><td>0       </td><td>0       </td><td>0       </td></tr>\n",
       "\t<tr><th scope=row>11</th><td>Mammalia</td><td>equCab2 </td><td>Lys     </td><td>0       </td><td>0       </td><td>0       </td><td>0       </td><td>0       </td><td>0       </td><td>9       </td><td>0       </td><td>0       </td><td>0       </td><td>0       </td></tr>\n",
       "\t<tr><th scope=row>12</th><td>Mammalia</td><td>eriEur2 </td><td>Lys     </td><td>0       </td><td>1       </td><td>0       </td><td>0       </td><td>0       </td><td>0       </td><td>42      </td><td>0       </td><td>7       </td><td>0       </td><td>0       </td></tr>\n",
       "\t<tr><th scope=row>13</th><td>Mammalia</td><td>felCat5 </td><td>Lys     </td><td>0       </td><td>1       </td><td>0       </td><td>0       </td><td>0       </td><td>0       </td><td>36      </td><td>0       </td><td>3       </td><td>0       </td><td>0       </td></tr>\n",
       "\t<tr><th scope=row>14</th><td>Mammalia</td><td>gorGor3 </td><td>Lys     </td><td>0       </td><td>0       </td><td>0       </td><td>0       </td><td>0       </td><td>0       </td><td>12      </td><td>0       </td><td>1       </td><td>0       </td><td>0       </td></tr>\n",
       "\t<tr><th scope=row>15</th><td>Mammalia</td><td>hetGla2 </td><td>Lys     </td><td>0       </td><td>1       </td><td>0       </td><td>0       </td><td>0       </td><td>0       </td><td>8       </td><td>0       </td><td>3       </td><td>0       </td><td>0       </td></tr>\n",
       "\t<tr><th scope=row>16</th><td>Mammalia</td><td>hg19    </td><td>Lys     </td><td>0       </td><td>1       </td><td>0       </td><td>0       </td><td>0       </td><td>0       </td><td>15      </td><td>0       </td><td>2       </td><td>0       </td><td>0       </td></tr>\n",
       "\t<tr><th scope=row>17</th><td>Mammalia</td><td>loxAfr3 </td><td>Lys     </td><td>0       </td><td>3       </td><td>0       </td><td>0       </td><td>0       </td><td>0       </td><td>30      </td><td>0       </td><td>2       </td><td>0       </td><td>0       </td></tr>\n",
       "\t<tr><th scope=row>18</th><td>Mammalia</td><td>macEug2 </td><td>Lys     </td><td>0       </td><td>0       </td><td>0       </td><td>0       </td><td>0       </td><td>0       </td><td>11      </td><td>0       </td><td>0       </td><td>0       </td><td>0       </td></tr>\n",
       "\t<tr><th scope=row>19</th><td>Mammalia</td><td>micMur1 </td><td>Lys     </td><td>0       </td><td>0       </td><td>0       </td><td>0       </td><td>0       </td><td>0       </td><td>3       </td><td>0       </td><td>1       </td><td>0       </td><td>0       </td></tr>\n",
       "\t<tr><th scope=row>20</th><td>Mammalia</td><td>mm10    </td><td>Lys     </td><td>0       </td><td>1       </td><td>0       </td><td>0       </td><td>0       </td><td>0       </td><td>13      </td><td>0       </td><td>0       </td><td>0       </td><td>0       </td></tr>\n",
       "\t<tr><th scope=row>21</th><td>Mammalia</td><td>monDom5 </td><td>Lys     </td><td>0       </td><td>0       </td><td>0       </td><td>0       </td><td>0       </td><td>0       </td><td>11      </td><td>0       </td><td>2       </td><td>0       </td><td>0       </td></tr>\n",
       "\t<tr><th scope=row>22</th><td>Mammalia</td><td>musFur1 </td><td>Lys     </td><td>0       </td><td>2       </td><td>1       </td><td>0       </td><td>0       </td><td>0       </td><td>31      </td><td>1       </td><td>3       </td><td>0       </td><td>0       </td></tr>\n",
       "\t<tr><th scope=row>23</th><td>Mammalia</td><td>myoLuc2 </td><td>Lys     </td><td>0       </td><td>0       </td><td>0       </td><td>0       </td><td>0       </td><td>0       </td><td>9       </td><td>0       </td><td>1       </td><td>0       </td><td>0       </td></tr>\n",
       "\t<tr><th scope=row>24</th><td>Mammalia</td><td>nomLeu3 </td><td>Lys     </td><td>0       </td><td>0       </td><td>0       </td><td>0       </td><td>0       </td><td>0       </td><td>16      </td><td>0       </td><td>0       </td><td>0       </td><td>0       </td></tr>\n",
       "\t<tr><th scope=row>25</th><td>Mammalia</td><td>ochPri3 </td><td>Lys     </td><td>0       </td><td>0       </td><td>0       </td><td>0       </td><td>0       </td><td>0       </td><td>11      </td><td>0       </td><td>0       </td><td>0       </td><td>0       </td></tr>\n",
       "\t<tr><th scope=row>26</th><td>Mammalia</td><td>ornAna1 </td><td>Lys     </td><td>0       </td><td>0       </td><td>0       </td><td>0       </td><td>0       </td><td>0       </td><td>30      </td><td>0       </td><td>0       </td><td>0       </td><td>0       </td></tr>\n",
       "\t<tr><th scope=row>27</th><td>Mammalia</td><td>oryCun2 </td><td>Lys     </td><td>0       </td><td>0       </td><td>0       </td><td>0       </td><td>0       </td><td>0       </td><td>23      </td><td>0       </td><td>4       </td><td>0       </td><td>0       </td></tr>\n",
       "\t<tr><th scope=row>28</th><td>Mammalia</td><td>otoGar3 </td><td>Lys     </td><td>0       </td><td>0       </td><td>0       </td><td>0       </td><td>0       </td><td>0       </td><td>10      </td><td>0       </td><td>1       </td><td>0       </td><td>0       </td></tr>\n",
       "\t<tr><th scope=row>29</th><td>Mammalia</td><td>oviAri3 </td><td>Lys     </td><td>0       </td><td>0       </td><td>0       </td><td>0       </td><td>0       </td><td>0       </td><td>29      </td><td>0       </td><td>0       </td><td>0       </td><td>0       </td></tr>\n",
       "\t<tr><th scope=row>30</th><td>Mammalia</td><td>panTro4 </td><td>Lys     </td><td>0       </td><td>0       </td><td>0       </td><td>0       </td><td>0       </td><td>0       </td><td>14      </td><td>0       </td><td>2       </td><td>0       </td><td>0       </td></tr>\n",
       "\t<tr><th scope=row>⋮</th><td>⋮</td><td>⋮</td><td>⋮</td><td>⋮</td><td>⋮</td><td>⋮</td><td>⋮</td><td>⋮</td><td>⋮</td><td>⋮</td><td>⋮</td><td>⋮</td><td>⋮</td><td>⋮</td></tr>\n",
       "\t<tr><th scope=row>33</th><td>Mammalia</td><td>proCap1 </td><td>Lys     </td><td>0       </td><td>0       </td><td>0       </td><td>0       </td><td>0       </td><td>1       </td><td>15      </td><td>0       </td><td>0       </td><td>0       </td><td>0       </td></tr>\n",
       "\t<tr><th scope=row>34</th><td>Mammalia</td><td>pteVam1 </td><td>Lys     </td><td>0       </td><td>0       </td><td>0       </td><td>0       </td><td>0       </td><td>0       </td><td>4       </td><td>0       </td><td>0       </td><td>0       </td><td>0       </td></tr>\n",
       "\t<tr><th scope=row>35</th><td>Mammalia</td><td>rheMac8 </td><td>Lys     </td><td>0       </td><td>0       </td><td>0       </td><td>0       </td><td>0       </td><td>0       </td><td>15      </td><td>0       </td><td>0       </td><td>0       </td><td>0       </td></tr>\n",
       "\t<tr><th scope=row>36</th><td>Mammalia</td><td>rn6     </td><td>Lys     </td><td>0       </td><td>0       </td><td>0       </td><td>0       </td><td>0       </td><td>0       </td><td>10      </td><td>0       </td><td>0       </td><td>0       </td><td>0       </td></tr>\n",
       "\t<tr><th scope=row>37</th><td>Mammalia</td><td>saiBol1 </td><td>Lys     </td><td>0       </td><td>0       </td><td>0       </td><td>0       </td><td>0       </td><td>0       </td><td>11      </td><td>0       </td><td>0       </td><td>0       </td><td>0       </td></tr>\n",
       "\t<tr><th scope=row>38</th><td>Mammalia</td><td>sarHar1 </td><td>Lys     </td><td>0       </td><td>1       </td><td>0       </td><td>0       </td><td>0       </td><td>0       </td><td>25      </td><td>0       </td><td>4       </td><td>0       </td><td>0       </td></tr>\n",
       "\t<tr><th scope=row>39</th><td>Mammalia</td><td>sorAra2 </td><td>Lys     </td><td>0       </td><td>0       </td><td>0       </td><td>0       </td><td>0       </td><td>0       </td><td>11      </td><td>0       </td><td>2       </td><td>0       </td><td>0       </td></tr>\n",
       "\t<tr><th scope=row>40</th><td>Mammalia</td><td>speTri2 </td><td>Lys     </td><td>0       </td><td>0       </td><td>0       </td><td>0       </td><td>0       </td><td>0       </td><td>7       </td><td>0       </td><td>1       </td><td>0       </td><td>0       </td></tr>\n",
       "\t<tr><th scope=row>41</th><td>Mammalia</td><td>susScr3 </td><td>Lys     </td><td>0       </td><td>0       </td><td>0       </td><td>0       </td><td>0       </td><td>0       </td><td>12      </td><td>0       </td><td>0       </td><td>0       </td><td>0       </td></tr>\n",
       "\t<tr><th scope=row>42</th><td>Mammalia</td><td>tarSyr2 </td><td>Lys     </td><td>0       </td><td>0       </td><td>0       </td><td>0       </td><td>0       </td><td>0       </td><td>10      </td><td>0       </td><td>1       </td><td>0       </td><td>0       </td></tr>\n",
       "\t<tr><th scope=row>43</th><td>Mammalia</td><td>triMan1 </td><td>Lys     </td><td>0       </td><td>0       </td><td>0       </td><td>0       </td><td>0       </td><td>0       </td><td>23      </td><td>0       </td><td>0       </td><td>0       </td><td>0       </td></tr>\n",
       "\t<tr><th scope=row>44</th><td>Mammalia</td><td>turTru2 </td><td>Lys     </td><td>0       </td><td>0       </td><td>0       </td><td>0       </td><td>0       </td><td>0       </td><td>18      </td><td>0       </td><td>0       </td><td>0       </td><td>0       </td></tr>\n",
       "\t<tr><th scope=row>45</th><td>Mammalia</td><td>vicPac2 </td><td>Lys     </td><td>0       </td><td>0       </td><td>0       </td><td>0       </td><td>0       </td><td>0       </td><td>10      </td><td>0       </td><td>1       </td><td>0       </td><td>0       </td></tr>\n",
       "\t<tr><th scope=row>46</th><td>Vertebrata</td><td>anoCar2   </td><td>Glu       </td><td>0         </td><td>0         </td><td>0         </td><td>0         </td><td>0         </td><td>0         </td><td>6         </td><td>0         </td><td>0         </td><td>0         </td><td>0         </td></tr>\n",
       "\t<tr><th scope=row>47</th><td>Vertebrata</td><td>calMil1   </td><td>Glu       </td><td>0         </td><td>0         </td><td>0         </td><td>0         </td><td>1         </td><td>0         </td><td>24        </td><td>0         </td><td>3         </td><td>0         </td><td>0         </td></tr>\n",
       "\t<tr><th scope=row>48</th><td>Vertebrata</td><td>chrPic1   </td><td>Glu       </td><td>0         </td><td>0         </td><td>0         </td><td>0         </td><td>0         </td><td>0         </td><td>10        </td><td>0         </td><td>1         </td><td>0         </td><td>0         </td></tr>\n",
       "\t<tr><th scope=row>49</th><td>Vertebrata</td><td>danRer10  </td><td>Glu       </td><td>0         </td><td>0         </td><td>0         </td><td>0         </td><td>0         </td><td>0         </td><td>47        </td><td>0         </td><td>3         </td><td>0         </td><td>0         </td></tr>\n",
       "\t<tr><th scope=row>50</th><td>Vertebrata</td><td>fr3       </td><td>Glu       </td><td>0         </td><td>0         </td><td>0         </td><td>0         </td><td>0         </td><td>0         </td><td>10        </td><td>0         </td><td>1         </td><td>0         </td><td>0         </td></tr>\n",
       "\t<tr><th scope=row>51</th><td>Vertebrata</td><td>gadMor1   </td><td>Glu       </td><td>0         </td><td>0         </td><td>0         </td><td>0         </td><td>0         </td><td>0         </td><td>34        </td><td>0         </td><td>4         </td><td>2         </td><td>0         </td></tr>\n",
       "\t<tr><th scope=row>52</th><td>Vertebrata</td><td>galGal4   </td><td>Glu       </td><td>0         </td><td>0         </td><td>0         </td><td>0         </td><td>0         </td><td>0         </td><td>8         </td><td>0         </td><td>0         </td><td>0         </td><td>0         </td></tr>\n",
       "\t<tr><th scope=row>53</th><td>Vertebrata</td><td>gasAcu1   </td><td>Glu       </td><td>1         </td><td>1         </td><td>0         </td><td>0         </td><td>0         </td><td>0         </td><td>28        </td><td>0         </td><td>0         </td><td>0         </td><td>0         </td></tr>\n",
       "\t<tr><th scope=row>54</th><td>Vertebrata</td><td>geoFor1   </td><td>Glu       </td><td>0         </td><td>0         </td><td>0         </td><td>0         </td><td>0         </td><td>0         </td><td>5         </td><td>0         </td><td>0         </td><td>0         </td><td>0         </td></tr>\n",
       "\t<tr><th scope=row>55</th><td>Vertebrata</td><td>latCha1   </td><td>Glu       </td><td>0         </td><td>0         </td><td>0         </td><td>0         </td><td>0         </td><td>0         </td><td>11        </td><td>0         </td><td>1         </td><td>0         </td><td>0         </td></tr>\n",
       "\t<tr><th scope=row>56</th><td>Vertebrata</td><td>melGal1   </td><td>Glu       </td><td>0         </td><td>0         </td><td>0         </td><td>0         </td><td>0         </td><td>0         </td><td>6         </td><td>0         </td><td>0         </td><td>0         </td><td>0         </td></tr>\n",
       "\t<tr><th scope=row>57</th><td>Vertebrata</td><td>melUnd1   </td><td>Glu       </td><td>0         </td><td>0         </td><td>0         </td><td>0         </td><td>0         </td><td>0         </td><td>3         </td><td>0         </td><td>0         </td><td>0         </td><td>0         </td></tr>\n",
       "\t<tr><th scope=row>58</th><td>Vertebrata</td><td>oreNil2   </td><td>Glu       </td><td>0         </td><td>0         </td><td>0         </td><td>0         </td><td>0         </td><td>0         </td><td>8         </td><td>0         </td><td>0         </td><td>0         </td><td>0         </td></tr>\n",
       "\t<tr><th scope=row>59</th><td>Vertebrata</td><td>oryLat2   </td><td>Glu       </td><td>0         </td><td>0         </td><td>0         </td><td>0         </td><td>0         </td><td>0         </td><td>10        </td><td>0         </td><td>0         </td><td>0         </td><td>0         </td></tr>\n",
       "\t<tr><th scope=row>60</th><td>Vertebrata</td><td>taeGut2   </td><td>Glu       </td><td>0         </td><td>0         </td><td>0         </td><td>0         </td><td>0         </td><td>0         </td><td>4         </td><td>0         </td><td>0         </td><td>0         </td><td>0         </td></tr>\n",
       "\t<tr><th scope=row>61</th><td>Vertebrata</td><td>tetNig2   </td><td>Glu       </td><td>0         </td><td>0         </td><td>0         </td><td>0         </td><td>0         </td><td>0         </td><td>14        </td><td>0         </td><td>1         </td><td>0         </td><td>1         </td></tr>\n",
       "\t<tr><th scope=row>62</th><td>Vertebrata</td><td>xenTro3   </td><td>Glu       </td><td>0         </td><td>0         </td><td>0         </td><td>1         </td><td>0         </td><td>1         </td><td>26        </td><td>0         </td><td>1         </td><td>0         </td><td>0         </td></tr>\n",
       "</tbody>\n",
       "</table>\n"
      ],
      "text/latex": [
       "\\begin{tabular}{r|llllllllllllll}\n",
       "  & clade & species & isotype & A:A & A:C & A:U & C:C & G:- & G:A & G:C & G:G & G:U & U:C & U:U\\\\\n",
       "\\hline\n",
       "\t1 & Mammalia & ailMel1  & Lys      & 0        & 1        & 0        & 1        & 0        & 0        & 33       & 1        & 5        & 0        & 0       \\\\\n",
       "\t2 & Mammalia & balAcu1  & Lys      & 0        & 0        & 0        & 0        & 0        & 0        & 17       & 0        & 0        & 0        & 0       \\\\\n",
       "\t3 & Mammalia & bosTau8  & Lys      & 0        & 0        & 0        & 0        & 0        & 1        & 26       & 0        & 0        & 0        & 0       \\\\\n",
       "\t4 & Mammalia & calJac3  & Lys      & 0        & 0        & 0        & 0        & 0        & 0        & 9        & 0        & 1        & 0        & 0       \\\\\n",
       "\t5 & Mammalia & canFam3  & Lys      & 0        & 2        & 0        & 0        & 0        & 1        & 29       & 0        & 5        & 0        & 0       \\\\\n",
       "\t6 & Mammalia & cavPor3  & Lys      & 0        & 1        & 0        & 0        & 0        & 0        & 23       & 0        & 3        & 0        & 0       \\\\\n",
       "\t7 & Mammalia & cerSim1  & Lys      & 0        & 0        & 0        & 0        & 0        & 0        & 14       & 0        & 1        & 0        & 0       \\\\\n",
       "\t8 & Mammalia & criGri1  & Lys      & 0        & 0        & 0        & 0        & 0        & 0        & 36       & 0        & 3        & 0        & 0       \\\\\n",
       "\t9 & Mammalia & dasNov3  & Lys      & 0        & 0        & 1        & 0        & 0        & 0        & 27       & 0        & 2        & 0        & 0       \\\\\n",
       "\t10 & Mammalia & dipOrd1  & Lys      & 0        & 0        & 0        & 0        & 0        & 0        & 1        & 0        & 0        & 0        & 0       \\\\\n",
       "\t11 & Mammalia & equCab2  & Lys      & 0        & 0        & 0        & 0        & 0        & 0        & 9        & 0        & 0        & 0        & 0       \\\\\n",
       "\t12 & Mammalia & eriEur2  & Lys      & 0        & 1        & 0        & 0        & 0        & 0        & 42       & 0        & 7        & 0        & 0       \\\\\n",
       "\t13 & Mammalia & felCat5  & Lys      & 0        & 1        & 0        & 0        & 0        & 0        & 36       & 0        & 3        & 0        & 0       \\\\\n",
       "\t14 & Mammalia & gorGor3  & Lys      & 0        & 0        & 0        & 0        & 0        & 0        & 12       & 0        & 1        & 0        & 0       \\\\\n",
       "\t15 & Mammalia & hetGla2  & Lys      & 0        & 1        & 0        & 0        & 0        & 0        & 8        & 0        & 3        & 0        & 0       \\\\\n",
       "\t16 & Mammalia & hg19     & Lys      & 0        & 1        & 0        & 0        & 0        & 0        & 15       & 0        & 2        & 0        & 0       \\\\\n",
       "\t17 & Mammalia & loxAfr3  & Lys      & 0        & 3        & 0        & 0        & 0        & 0        & 30       & 0        & 2        & 0        & 0       \\\\\n",
       "\t18 & Mammalia & macEug2  & Lys      & 0        & 0        & 0        & 0        & 0        & 0        & 11       & 0        & 0        & 0        & 0       \\\\\n",
       "\t19 & Mammalia & micMur1  & Lys      & 0        & 0        & 0        & 0        & 0        & 0        & 3        & 0        & 1        & 0        & 0       \\\\\n",
       "\t20 & Mammalia & mm10     & Lys      & 0        & 1        & 0        & 0        & 0        & 0        & 13       & 0        & 0        & 0        & 0       \\\\\n",
       "\t21 & Mammalia & monDom5  & Lys      & 0        & 0        & 0        & 0        & 0        & 0        & 11       & 0        & 2        & 0        & 0       \\\\\n",
       "\t22 & Mammalia & musFur1  & Lys      & 0        & 2        & 1        & 0        & 0        & 0        & 31       & 1        & 3        & 0        & 0       \\\\\n",
       "\t23 & Mammalia & myoLuc2  & Lys      & 0        & 0        & 0        & 0        & 0        & 0        & 9        & 0        & 1        & 0        & 0       \\\\\n",
       "\t24 & Mammalia & nomLeu3  & Lys      & 0        & 0        & 0        & 0        & 0        & 0        & 16       & 0        & 0        & 0        & 0       \\\\\n",
       "\t25 & Mammalia & ochPri3  & Lys      & 0        & 0        & 0        & 0        & 0        & 0        & 11       & 0        & 0        & 0        & 0       \\\\\n",
       "\t26 & Mammalia & ornAna1  & Lys      & 0        & 0        & 0        & 0        & 0        & 0        & 30       & 0        & 0        & 0        & 0       \\\\\n",
       "\t27 & Mammalia & oryCun2  & Lys      & 0        & 0        & 0        & 0        & 0        & 0        & 23       & 0        & 4        & 0        & 0       \\\\\n",
       "\t28 & Mammalia & otoGar3  & Lys      & 0        & 0        & 0        & 0        & 0        & 0        & 10       & 0        & 1        & 0        & 0       \\\\\n",
       "\t29 & Mammalia & oviAri3  & Lys      & 0        & 0        & 0        & 0        & 0        & 0        & 29       & 0        & 0        & 0        & 0       \\\\\n",
       "\t30 & Mammalia & panTro4  & Lys      & 0        & 0        & 0        & 0        & 0        & 0        & 14       & 0        & 2        & 0        & 0       \\\\\n",
       "\t⋮ & ⋮ & ⋮ & ⋮ & ⋮ & ⋮ & ⋮ & ⋮ & ⋮ & ⋮ & ⋮ & ⋮ & ⋮ & ⋮ & ⋮\\\\\n",
       "\t33 & Mammalia & proCap1  & Lys      & 0        & 0        & 0        & 0        & 0        & 1        & 15       & 0        & 0        & 0        & 0       \\\\\n",
       "\t34 & Mammalia & pteVam1  & Lys      & 0        & 0        & 0        & 0        & 0        & 0        & 4        & 0        & 0        & 0        & 0       \\\\\n",
       "\t35 & Mammalia & rheMac8  & Lys      & 0        & 0        & 0        & 0        & 0        & 0        & 15       & 0        & 0        & 0        & 0       \\\\\n",
       "\t36 & Mammalia & rn6      & Lys      & 0        & 0        & 0        & 0        & 0        & 0        & 10       & 0        & 0        & 0        & 0       \\\\\n",
       "\t37 & Mammalia & saiBol1  & Lys      & 0        & 0        & 0        & 0        & 0        & 0        & 11       & 0        & 0        & 0        & 0       \\\\\n",
       "\t38 & Mammalia & sarHar1  & Lys      & 0        & 1        & 0        & 0        & 0        & 0        & 25       & 0        & 4        & 0        & 0       \\\\\n",
       "\t39 & Mammalia & sorAra2  & Lys      & 0        & 0        & 0        & 0        & 0        & 0        & 11       & 0        & 2        & 0        & 0       \\\\\n",
       "\t40 & Mammalia & speTri2  & Lys      & 0        & 0        & 0        & 0        & 0        & 0        & 7        & 0        & 1        & 0        & 0       \\\\\n",
       "\t41 & Mammalia & susScr3  & Lys      & 0        & 0        & 0        & 0        & 0        & 0        & 12       & 0        & 0        & 0        & 0       \\\\\n",
       "\t42 & Mammalia & tarSyr2  & Lys      & 0        & 0        & 0        & 0        & 0        & 0        & 10       & 0        & 1        & 0        & 0       \\\\\n",
       "\t43 & Mammalia & triMan1  & Lys      & 0        & 0        & 0        & 0        & 0        & 0        & 23       & 0        & 0        & 0        & 0       \\\\\n",
       "\t44 & Mammalia & turTru2  & Lys      & 0        & 0        & 0        & 0        & 0        & 0        & 18       & 0        & 0        & 0        & 0       \\\\\n",
       "\t45 & Mammalia & vicPac2  & Lys      & 0        & 0        & 0        & 0        & 0        & 0        & 10       & 0        & 1        & 0        & 0       \\\\\n",
       "\t46 & Vertebrata & anoCar2    & Glu        & 0          & 0          & 0          & 0          & 0          & 0          & 6          & 0          & 0          & 0          & 0         \\\\\n",
       "\t47 & Vertebrata & calMil1    & Glu        & 0          & 0          & 0          & 0          & 1          & 0          & 24         & 0          & 3          & 0          & 0         \\\\\n",
       "\t48 & Vertebrata & chrPic1    & Glu        & 0          & 0          & 0          & 0          & 0          & 0          & 10         & 0          & 1          & 0          & 0         \\\\\n",
       "\t49 & Vertebrata & danRer10   & Glu        & 0          & 0          & 0          & 0          & 0          & 0          & 47         & 0          & 3          & 0          & 0         \\\\\n",
       "\t50 & Vertebrata & fr3        & Glu        & 0          & 0          & 0          & 0          & 0          & 0          & 10         & 0          & 1          & 0          & 0         \\\\\n",
       "\t51 & Vertebrata & gadMor1    & Glu        & 0          & 0          & 0          & 0          & 0          & 0          & 34         & 0          & 4          & 2          & 0         \\\\\n",
       "\t52 & Vertebrata & galGal4    & Glu        & 0          & 0          & 0          & 0          & 0          & 0          & 8          & 0          & 0          & 0          & 0         \\\\\n",
       "\t53 & Vertebrata & gasAcu1    & Glu        & 1          & 1          & 0          & 0          & 0          & 0          & 28         & 0          & 0          & 0          & 0         \\\\\n",
       "\t54 & Vertebrata & geoFor1    & Glu        & 0          & 0          & 0          & 0          & 0          & 0          & 5          & 0          & 0          & 0          & 0         \\\\\n",
       "\t55 & Vertebrata & latCha1    & Glu        & 0          & 0          & 0          & 0          & 0          & 0          & 11         & 0          & 1          & 0          & 0         \\\\\n",
       "\t56 & Vertebrata & melGal1    & Glu        & 0          & 0          & 0          & 0          & 0          & 0          & 6          & 0          & 0          & 0          & 0         \\\\\n",
       "\t57 & Vertebrata & melUnd1    & Glu        & 0          & 0          & 0          & 0          & 0          & 0          & 3          & 0          & 0          & 0          & 0         \\\\\n",
       "\t58 & Vertebrata & oreNil2    & Glu        & 0          & 0          & 0          & 0          & 0          & 0          & 8          & 0          & 0          & 0          & 0         \\\\\n",
       "\t59 & Vertebrata & oryLat2    & Glu        & 0          & 0          & 0          & 0          & 0          & 0          & 10         & 0          & 0          & 0          & 0         \\\\\n",
       "\t60 & Vertebrata & taeGut2    & Glu        & 0          & 0          & 0          & 0          & 0          & 0          & 4          & 0          & 0          & 0          & 0         \\\\\n",
       "\t61 & Vertebrata & tetNig2    & Glu        & 0          & 0          & 0          & 0          & 0          & 0          & 14         & 0          & 1          & 0          & 1         \\\\\n",
       "\t62 & Vertebrata & xenTro3    & Glu        & 0          & 0          & 0          & 1          & 0          & 1          & 26         & 0          & 1          & 0          & 0         \\\\\n",
       "\\end{tabular}\n"
      ],
      "text/plain": [
       "        clade  species isotype A:A A:C A:U C:C G:- G:A G:C G:G G:U U:C U:U\n",
       "1    Mammalia  ailMel1     Lys   0   1   0   1   0   0  33   1   5   0   0\n",
       "2    Mammalia  balAcu1     Lys   0   0   0   0   0   0  17   0   0   0   0\n",
       "3    Mammalia  bosTau8     Lys   0   0   0   0   0   1  26   0   0   0   0\n",
       "4    Mammalia  calJac3     Lys   0   0   0   0   0   0   9   0   1   0   0\n",
       "5    Mammalia  canFam3     Lys   0   2   0   0   0   1  29   0   5   0   0\n",
       "6    Mammalia  cavPor3     Lys   0   1   0   0   0   0  23   0   3   0   0\n",
       "7    Mammalia  cerSim1     Lys   0   0   0   0   0   0  14   0   1   0   0\n",
       "8    Mammalia  criGri1     Lys   0   0   0   0   0   0  36   0   3   0   0\n",
       "9    Mammalia  dasNov3     Lys   0   0   1   0   0   0  27   0   2   0   0\n",
       "10   Mammalia  dipOrd1     Lys   0   0   0   0   0   0   1   0   0   0   0\n",
       "11   Mammalia  equCab2     Lys   0   0   0   0   0   0   9   0   0   0   0\n",
       "12   Mammalia  eriEur2     Lys   0   1   0   0   0   0  42   0   7   0   0\n",
       "13   Mammalia  felCat5     Lys   0   1   0   0   0   0  36   0   3   0   0\n",
       "14   Mammalia  gorGor3     Lys   0   0   0   0   0   0  12   0   1   0   0\n",
       "15   Mammalia  hetGla2     Lys   0   1   0   0   0   0   8   0   3   0   0\n",
       "16   Mammalia     hg19     Lys   0   1   0   0   0   0  15   0   2   0   0\n",
       "17   Mammalia  loxAfr3     Lys   0   3   0   0   0   0  30   0   2   0   0\n",
       "18   Mammalia  macEug2     Lys   0   0   0   0   0   0  11   0   0   0   0\n",
       "19   Mammalia  micMur1     Lys   0   0   0   0   0   0   3   0   1   0   0\n",
       "20   Mammalia     mm10     Lys   0   1   0   0   0   0  13   0   0   0   0\n",
       "21   Mammalia  monDom5     Lys   0   0   0   0   0   0  11   0   2   0   0\n",
       "22   Mammalia  musFur1     Lys   0   2   1   0   0   0  31   1   3   0   0\n",
       "23   Mammalia  myoLuc2     Lys   0   0   0   0   0   0   9   0   1   0   0\n",
       "24   Mammalia  nomLeu3     Lys   0   0   0   0   0   0  16   0   0   0   0\n",
       "25   Mammalia  ochPri3     Lys   0   0   0   0   0   0  11   0   0   0   0\n",
       "26   Mammalia  ornAna1     Lys   0   0   0   0   0   0  30   0   0   0   0\n",
       "27   Mammalia  oryCun2     Lys   0   0   0   0   0   0  23   0   4   0   0\n",
       "28   Mammalia  otoGar3     Lys   0   0   0   0   0   0  10   0   1   0   0\n",
       "29   Mammalia  oviAri3     Lys   0   0   0   0   0   0  29   0   0   0   0\n",
       "30   Mammalia  panTro4     Lys   0   0   0   0   0   0  14   0   2   0   0\n",
       "⋮           ⋮        ⋮       ⋮   ⋮   ⋮   ⋮   ⋮   ⋮   ⋮   ⋮   ⋮   ⋮   ⋮   ⋮\n",
       "33   Mammalia  proCap1     Lys   0   0   0   0   0   1  15   0   0   0   0\n",
       "34   Mammalia  pteVam1     Lys   0   0   0   0   0   0   4   0   0   0   0\n",
       "35   Mammalia  rheMac8     Lys   0   0   0   0   0   0  15   0   0   0   0\n",
       "36   Mammalia      rn6     Lys   0   0   0   0   0   0  10   0   0   0   0\n",
       "37   Mammalia  saiBol1     Lys   0   0   0   0   0   0  11   0   0   0   0\n",
       "38   Mammalia  sarHar1     Lys   0   1   0   0   0   0  25   0   4   0   0\n",
       "39   Mammalia  sorAra2     Lys   0   0   0   0   0   0  11   0   2   0   0\n",
       "40   Mammalia  speTri2     Lys   0   0   0   0   0   0   7   0   1   0   0\n",
       "41   Mammalia  susScr3     Lys   0   0   0   0   0   0  12   0   0   0   0\n",
       "42   Mammalia  tarSyr2     Lys   0   0   0   0   0   0  10   0   1   0   0\n",
       "43   Mammalia  triMan1     Lys   0   0   0   0   0   0  23   0   0   0   0\n",
       "44   Mammalia  turTru2     Lys   0   0   0   0   0   0  18   0   0   0   0\n",
       "45   Mammalia  vicPac2     Lys   0   0   0   0   0   0  10   0   1   0   0\n",
       "46 Vertebrata  anoCar2     Glu   0   0   0   0   0   0   6   0   0   0   0\n",
       "47 Vertebrata  calMil1     Glu   0   0   0   0   1   0  24   0   3   0   0\n",
       "48 Vertebrata  chrPic1     Glu   0   0   0   0   0   0  10   0   1   0   0\n",
       "49 Vertebrata danRer10     Glu   0   0   0   0   0   0  47   0   3   0   0\n",
       "50 Vertebrata      fr3     Glu   0   0   0   0   0   0  10   0   1   0   0\n",
       "51 Vertebrata  gadMor1     Glu   0   0   0   0   0   0  34   0   4   2   0\n",
       "52 Vertebrata  galGal4     Glu   0   0   0   0   0   0   8   0   0   0   0\n",
       "53 Vertebrata  gasAcu1     Glu   1   1   0   0   0   0  28   0   0   0   0\n",
       "54 Vertebrata  geoFor1     Glu   0   0   0   0   0   0   5   0   0   0   0\n",
       "55 Vertebrata  latCha1     Glu   0   0   0   0   0   0  11   0   1   0   0\n",
       "56 Vertebrata  melGal1     Glu   0   0   0   0   0   0   6   0   0   0   0\n",
       "57 Vertebrata  melUnd1     Glu   0   0   0   0   0   0   3   0   0   0   0\n",
       "58 Vertebrata  oreNil2     Glu   0   0   0   0   0   0   8   0   0   0   0\n",
       "59 Vertebrata  oryLat2     Glu   0   0   0   0   0   0  10   0   0   0   0\n",
       "60 Vertebrata  taeGut2     Glu   0   0   0   0   0   0   4   0   0   0   0\n",
       "61 Vertebrata  tetNig2     Glu   0   0   0   0   0   0  14   0   1   0   1\n",
       "62 Vertebrata  xenTro3     Glu   0   0   0   1   0   1  26   0   1   0   0"
      ]
     },
     "metadata": {},
     "output_type": "display_data"
    }
   ],
   "source": [
    "# 18:55 fails isotype/species check\n",
    "identities %>% filter(!restrict) %>% select(clade, species, isotype, X18.55) %>%\n",
    "  count(clade, species, isotype, X18.55) %>% spread(X18.55, n, 0) %>% filter(`G:U` == 0)\n",
    "\n",
    "# 19:56 fails clade/isotype check....at 89.9%.\n",
    "clade_iso_freqs %>% filter(freq > 0.5, positions == 'X19.56') %>%\n",
    "  filter((clade == \"Mammalia\" & isotype == \"Lys\") | (clade == \"Vertebrata\" & isotype == \"Glu\"))\n",
    "identities %>% filter(!restrict, (clade == \"Mammalia\" & isotype == \"Lys\") | (clade == \"Vertebrata\" & isotype == \"Glu\")) %>%\n",
    "  select(clade, species, isotype, X19.56) %>% count(clade, species, isotype, X19.56) %>% \n",
    "  spread(X19.56, n, 0)"
   ]
  },
  {
   "cell_type": "markdown",
   "metadata": {},
   "source": [
    "## A21"
   ]
  },
  {
   "cell_type": "code",
   "execution_count": 40,
   "metadata": {
    "collapsed": false
   },
   "outputs": [
    {
     "data": {
      "text/html": [
       "<table>\n",
       "<thead><tr><th></th><th scope=col>clade</th><th scope=col>species</th><th scope=col>isotype</th><th scope=col>A</th><th scope=col>C</th><th scope=col>G</th><th scope=col>U</th></tr></thead>\n",
       "<tbody>\n",
       "\t<tr><th scope=row>1</th><td>Fungi           </td><td>aspeNidu_FGSC_A4</td><td>Phe             </td><td>0               </td><td>0               </td><td>0               </td><td>2               </td></tr>\n",
       "\t<tr><th scope=row>2</th><td>Fungi        </td><td>schiPomb_972H</td><td>Met          </td><td>0            </td><td>0            </td><td>2            </td><td>0            </td></tr>\n",
       "\t<tr><th scope=row>3</th><td>Fungi        </td><td>sporReil_SRZ2</td><td>Cys          </td><td>0            </td><td>0            </td><td>0            </td><td>2            </td></tr>\n",
       "\t<tr><th scope=row>4</th><td>Fungi        </td><td>sporReil_SRZ2</td><td>Phe          </td><td>0            </td><td>4            </td><td>0            </td><td>0            </td></tr>\n",
       "\t<tr><th scope=row>5</th><td>Fungi       </td><td>ustiMayd_521</td><td>Cys         </td><td>0           </td><td>0           </td><td>0           </td><td>1           </td></tr>\n",
       "\t<tr><th scope=row>6</th><td>Fungi       </td><td>ustiMayd_521</td><td>Phe         </td><td>0           </td><td>2           </td><td>0           </td><td>0           </td></tr>\n",
       "</tbody>\n",
       "</table>\n"
      ],
      "text/latex": [
       "\\begin{tabular}{r|lllllll}\n",
       "  & clade & species & isotype & A & C & G & U\\\\\n",
       "\\hline\n",
       "\t1 & Fungi                & aspeNidu\\_FGSC\\_A4 & Phe                  & 0                    & 0                    & 0                    & 2                   \\\\\n",
       "\t2 & Fungi           & schiPomb\\_972H & Met             & 0               & 0               & 2               & 0              \\\\\n",
       "\t3 & Fungi           & sporReil\\_SRZ2 & Cys             & 0               & 0               & 0               & 2              \\\\\n",
       "\t4 & Fungi           & sporReil\\_SRZ2 & Phe             & 0               & 4               & 0               & 0              \\\\\n",
       "\t5 & Fungi          & ustiMayd\\_521 & Cys            & 0              & 0              & 0              & 1             \\\\\n",
       "\t6 & Fungi          & ustiMayd\\_521 & Phe            & 0              & 2              & 0              & 0             \\\\\n",
       "\\end{tabular}\n"
      ],
      "text/plain": [
       "  clade          species isotype A C G U\n",
       "1 Fungi aspeNidu_FGSC_A4     Phe 0 0 0 2\n",
       "2 Fungi    schiPomb_972H     Met 0 0 2 0\n",
       "3 Fungi    sporReil_SRZ2     Cys 0 0 0 2\n",
       "4 Fungi    sporReil_SRZ2     Phe 0 4 0 0\n",
       "5 Fungi     ustiMayd_521     Cys 0 0 0 1\n",
       "6 Fungi     ustiMayd_521     Phe 0 2 0 0"
      ]
     },
     "metadata": {},
     "output_type": "display_data"
    }
   ],
   "source": [
    "identities %>% filter(!restrict) %>% select(clade, species, isotype, X21) %>% \n",
    "  count(clade, species, isotype, X21) %>% spread(X21, n, 0) %>% filter(A == 0)"
   ]
  },
  {
   "cell_type": "markdown",
   "metadata": {},
   "source": [
    "## U33"
   ]
  },
  {
   "cell_type": "code",
   "execution_count": 43,
   "metadata": {
    "collapsed": false
   },
   "outputs": [
    {
     "data": {
      "text/markdown": [
       "|clade         |X33 | Ala| Arg| Asp| Cys| Gln| Glu| Gly| His| Ile| iMet| Leu| Lys| Met| Phe| Pro| Ser| Thr| Trp| Tyr| Val|\n",
       "|:-------------|:---|---:|---:|---:|---:|---:|---:|---:|---:|---:|----:|---:|---:|---:|---:|---:|---:|---:|---:|---:|---:|\n",
       "|Fungi         |A   |   1|   0|   0|   0|   2|   1|   1|   1|   0|    0|   0|   0|   0|   0|   0|   0|   0|   0|   0|   0|\n",
       "|Fungi         |C   |   8|   0|   0|   0|   0|   0|   4|   0|   0|    1|  14|   0|   1|   1|   0|   4|   1|   0|   0|   1|\n",
       "|Fungi         |G   |   0|   0|   0|   0|   0|   1|   0|   0|   0|    0|   6|   0|   0|   0|   0|   1|   0|   0|   0|   0|\n",
       "|Insecta       |A   |   0|   0|   0|   0|   0|   1|   0|   0|   0|    0|   0|   0|   0|   0|   0|   0|   0|   0|   0|   0|\n",
       "|Insecta       |C   |   0|   0|   0|   1|   0|   0|   2|   0|   0|   28|   0|   0|   0|   0|   0|   0|   0|   0|   0|   0|\n",
       "|Mammalia      |A   |   0|   0|   0|   0|   0|   0|   0|   0|   1|    0|   0|   0|   0|   0|   0|   0|   0|   1|   0|   0|\n",
       "|Mammalia      |C   |   6|   0|   2|   3|   0|   0|   1|   1|   3|   86|   1|  10|   1|   2|   0|   0|   1|   6|   3|   0|\n",
       "|Mammalia      |G   |   1|   0|   0|   1|   0|   0|   0|   0|   0|    0|   0|   2|   0|   1|   0|   1|   0|   0|   1|   0|\n",
       "|Nematoda      |-   |   0|   0|   0|   0|   0|   0|   0|   0|   0|    0|   0|   0|   0|   0|   0|   2|   0|   0|   0|   0|\n",
       "|Nematoda      |C   |   0|   0|   0|   0|   0|   0|   0|   0|   0|   17|   0|   0|   0|   0|   0|   3|   0|   0|   0|   0|\n",
       "|Nematoda      |G   |   0|   0|   0|   0|   0|   0|   0|   0|   0|    0|   0|   0|   0|   0|   0|   6|   0|   0|   0|   0|\n",
       "|Spermatophyta |A   |   0|   0|   0|   0|   0|   0|   0|   0|   0|    0|   0|   0|   0|   0|   0|   0|   0|   0|   1|   0|\n",
       "|Spermatophyta |C   |   0|   0|   0|   0|   1|   0|   2|   0|   0|   45|   0|   0|   0|   0|   0|   1|   1|   0|   0|   1|\n",
       "|Spermatophyta |G   |   0|   0|   0|   0|   0|   0|   0|   0|   0|    0|   0|   1|   0|   0|   1|   0|   0|   0|   0|   0|\n",
       "|Vertebrata    |A   |   0|   1|   0|   0|   1|   1|   0|   0|   0|    0|   0|   4|   0|   2|   0|   1|   0|   1|   2|   1|\n",
       "|Vertebrata    |C   |   0|   1|   0|   0|   0|   3|   2|   1|   1|   69|   2|   4|   0|   2|   1|   0|   0|   1|   3|   1|\n",
       "|Vertebrata    |G   |   1|   0|   0|   1|   3|   0|   0|   0|   0|    0|   0|   2|   0|   0|   0|   2|   0|   0|   0|   0|"
      ]
     },
     "metadata": {},
     "output_type": "display_data"
    }
   ],
   "source": [
    "# Clade/isotype quantification\n",
    "identities %>% filter(!restrict) %>% select(clade, isotype, X33) %>% filter(X33 != \"U\") %>%\n",
    "  count(clade, isotype, X33) %>% spread(isotype, n, 0) %>%\n",
    "  kable %>% paste(collapse = '\\n') %>% display_markdown"
   ]
  },
  {
   "cell_type": "code",
   "execution_count": 47,
   "metadata": {
    "collapsed": false
   },
   "outputs": [
    {
     "data": {
      "text/html": [
       "<table>\n",
       "<thead><tr><th></th><th scope=col>clade</th><th scope=col>Cs</th><th scope=col>Us</th><th scope=col>CUs</th></tr></thead>\n",
       "<tbody>\n",
       "\t<tr><th scope=row>1</th><td>Fungi</td><td>1    </td><td>49   </td><td>0    </td></tr>\n",
       "\t<tr><th scope=row>2</th><td>Insecta</td><td>18     </td><td>0      </td><td>0      </td></tr>\n",
       "\t<tr><th scope=row>3</th><td>Mammalia</td><td>43      </td><td>0       </td><td>2       </td></tr>\n",
       "\t<tr><th scope=row>4</th><td>Nematoda</td><td>12      </td><td>0       </td><td>1       </td></tr>\n",
       "\t<tr><th scope=row>5</th><td>Spermatophyta</td><td>18           </td><td>0            </td><td>0            </td></tr>\n",
       "\t<tr><th scope=row>6</th><td>Vertebrata</td><td>15        </td><td>0         </td><td>2         </td></tr>\n",
       "</tbody>\n",
       "</table>\n"
      ],
      "text/latex": [
       "\\begin{tabular}{r|llll}\n",
       "  & clade & Cs & Us & CUs\\\\\n",
       "\\hline\n",
       "\t1 & Fungi & 1     & 49    & 0    \\\\\n",
       "\t2 & Insecta & 18      & 0       & 0      \\\\\n",
       "\t3 & Mammalia & 43       & 0        & 2       \\\\\n",
       "\t4 & Nematoda & 12       & 0        & 1       \\\\\n",
       "\t5 & Spermatophyta & 18            & 0             & 0            \\\\\n",
       "\t6 & Vertebrata & 15         & 0          & 2         \\\\\n",
       "\\end{tabular}\n"
      ],
      "text/plain": [
       "          clade Cs Us CUs\n",
       "1         Fungi  1 49   0\n",
       "2       Insecta 18  0   0\n",
       "3      Mammalia 43  0   2\n",
       "4      Nematoda 12  0   1\n",
       "5 Spermatophyta 18  0   0\n",
       "6    Vertebrata 15  0   2"
      ]
     },
     "metadata": {},
     "output_type": "display_data"
    },
    {
     "data": {
      "text/html": [
       "<table>\n",
       "<thead><tr><th></th><th scope=col>species</th><th scope=col>C</th><th scope=col>U</th></tr></thead>\n",
       "<tbody>\n",
       "\t<tr><th scope=row>1</th><td>flamVelu_KACC42780</td><td>1                 </td><td>0                 </td></tr>\n",
       "</tbody>\n",
       "</table>\n"
      ],
      "text/latex": [
       "\\begin{tabular}{r|lll}\n",
       "  & species & C & U\\\\\n",
       "\\hline\n",
       "\t1 & flamVelu\\_KACC42780 & 1                    & 0                   \\\\\n",
       "\\end{tabular}\n"
      ],
      "text/plain": [
       "             species C U\n",
       "1 flamVelu_KACC42780 1 0"
      ]
     },
     "metadata": {},
     "output_type": "display_data"
    }
   ],
   "source": [
    "# No. species with only C33, no. species with only U33, and no. species with both\n",
    "identities %>% filter(!restrict) %>% select(clade, species, isotype, X33) %>% \n",
    "  filter(isotype == \"iMet\") %>%\n",
    "  count(clade, species, isotype, X33) %>% spread(X33, n, 0) %>% \n",
    "  group_by(clade) %>% summarize(Cs = sum(C > 0 & U == 0), Us = sum(U > 0 & C == 0), CUs = sum(U > 0 & C > 0))\n",
    "\n",
    "# which fungi is it\n",
    "identities %>% filter(!restrict, clade == \"Fungi\", isotype == 'iMet') %>% select(species, X33) %>%\n",
    "  count(species, X33) %>% spread(X33, n, 0) %>% filter(U == 0)"
   ]
  },
  {
   "cell_type": "code",
   "execution_count": 46,
   "metadata": {
    "collapsed": false
   },
   "outputs": [
    {
     "data": {
      "text/html": [
       "<table>\n",
       "<thead><tr><th></th><th scope=col>clade</th><th scope=col>isotype</th><th scope=col>-</th><th scope=col>A</th><th scope=col>C</th><th scope=col>G</th><th scope=col>U</th></tr></thead>\n",
       "<tbody>\n",
       "\t<tr><th scope=row>1</th><td>Fungi    </td><td>Elongator</td><td>0        </td><td>6        </td><td>43       </td><td>8        </td><td>12275    </td></tr>\n",
       "\t<tr><th scope=row>2</th><td>Fungi</td><td>iMet </td><td>0    </td><td>0    </td><td>9    </td><td>0    </td><td>194  </td></tr>\n",
       "\t<tr><th scope=row>3</th><td>Insecta  </td><td>Elongator</td><td>0        </td><td>1        </td><td>5        </td><td>0        </td><td>4675     </td></tr>\n",
       "\t<tr><th scope=row>4</th><td>Insecta</td><td>iMet   </td><td>0      </td><td>0      </td><td>96     </td><td>0      </td><td>0      </td></tr>\n",
       "\t<tr><th scope=row>5</th><td>Mammalia </td><td>Elongator</td><td>0        </td><td>16       </td><td>159      </td><td>13       </td><td>26986    </td></tr>\n",
       "\t<tr><th scope=row>6</th><td>Mammalia</td><td>iMet    </td><td>0       </td><td>0       </td><td>403     </td><td>0       </td><td>2       </td></tr>\n",
       "\t<tr><th scope=row>7</th><td>Nematoda </td><td>Elongator</td><td>17       </td><td>0        </td><td>12       </td><td>28       </td><td>5869     </td></tr>\n",
       "\t<tr><th scope=row>8</th><td>Nematoda</td><td>iMet    </td><td>0       </td><td>0       </td><td>95      </td><td>0       </td><td>1       </td></tr>\n",
       "\t<tr><th scope=row>9</th><td>Spermatophyta</td><td>Elongator    </td><td>0            </td><td>3            </td><td>7            </td><td>2            </td><td>10771        </td></tr>\n",
       "\t<tr><th scope=row>10</th><td>Spermatophyta</td><td>iMet         </td><td>0            </td><td>0            </td><td>204          </td><td>0            </td><td>0            </td></tr>\n",
       "\t<tr><th scope=row>11</th><td>Vertebrata</td><td>Elongator </td><td>0         </td><td>43        </td><td>106       </td><td>30        </td><td>20148     </td></tr>\n",
       "\t<tr><th scope=row>12</th><td>Vertebrata</td><td>iMet      </td><td>0         </td><td>0         </td><td>448       </td><td>0         </td><td>2         </td></tr>\n",
       "</tbody>\n",
       "</table>\n"
      ],
      "text/latex": [
       "\\begin{tabular}{r|lllllll}\n",
       "  & clade & isotype & - & A & C & G & U\\\\\n",
       "\\hline\n",
       "\t1 & Fungi     & Elongator & 0         & 6         & 43        & 8         & 12275    \\\\\n",
       "\t2 & Fungi & iMet  & 0     & 0     & 9     & 0     & 194  \\\\\n",
       "\t3 & Insecta   & Elongator & 0         & 1         & 5         & 0         & 4675     \\\\\n",
       "\t4 & Insecta & iMet    & 0       & 0       & 96      & 0       & 0      \\\\\n",
       "\t5 & Mammalia  & Elongator & 0         & 16        & 159       & 13        & 26986    \\\\\n",
       "\t6 & Mammalia & iMet     & 0        & 0        & 403      & 0        & 2       \\\\\n",
       "\t7 & Nematoda  & Elongator & 17        & 0         & 12        & 28        & 5869     \\\\\n",
       "\t8 & Nematoda & iMet     & 0        & 0        & 95       & 0        & 1       \\\\\n",
       "\t9 & Spermatophyta & Elongator     & 0             & 3             & 7             & 2             & 10771        \\\\\n",
       "\t10 & Spermatophyta & iMet          & 0             & 0             & 204           & 0             & 0            \\\\\n",
       "\t11 & Vertebrata & Elongator  & 0          & 43         & 106        & 30         & 20148     \\\\\n",
       "\t12 & Vertebrata & iMet       & 0          & 0          & 448        & 0          & 2         \\\\\n",
       "\\end{tabular}\n"
      ],
      "text/plain": [
       "           clade   isotype  -  A   C  G     U\n",
       "1          Fungi Elongator  0  6  43  8 12275\n",
       "2          Fungi      iMet  0  0   9  0   194\n",
       "3        Insecta Elongator  0  1   5  0  4675\n",
       "4        Insecta      iMet  0  0  96  0     0\n",
       "5       Mammalia Elongator  0 16 159 13 26986\n",
       "6       Mammalia      iMet  0  0 403  0     2\n",
       "7       Nematoda Elongator 17  0  12 28  5869\n",
       "8       Nematoda      iMet  0  0  95  0     1\n",
       "9  Spermatophyta Elongator  0  3   7  2 10771\n",
       "10 Spermatophyta      iMet  0  0 204  0     0\n",
       "11    Vertebrata Elongator  0 43 106 30 20148\n",
       "12    Vertebrata      iMet  0  0 448  0     2"
      ]
     },
     "metadata": {},
     "output_type": "display_data"
    }
   ],
   "source": [
    "# which clades have what? iMet is exceptional so group on that\n",
    "identities %>% select(clade, species, isotype, X33) %>%\n",
    "  mutate(isotype = ifelse(isotype == 'iMet', 'iMet', 'Elongator')) %>%\n",
    "  group_by(clade, isotype, X33) %>% tally %>% spread(X33, n, 0) "
   ]
  },
  {
   "cell_type": "markdown",
   "metadata": {},
   "source": [
    "## R37"
   ]
  },
  {
   "cell_type": "code",
   "execution_count": 48,
   "metadata": {
    "collapsed": false
   },
   "outputs": [
    {
     "data": {
      "text/html": [
       "<table>\n",
       "<thead><tr><th></th><th scope=col>clade</th><th scope=col>species</th><th scope=col>isotype</th><th scope=col>-</th><th scope=col>A</th><th scope=col>C</th><th scope=col>G</th><th scope=col>U</th></tr></thead>\n",
       "<tbody>\n",
       "</tbody>\n",
       "</table>\n"
      ],
      "text/latex": [
       "\\begin{tabular}{r|llllllll}\n",
       "  & clade & species & isotype & - & A & C & G & U\\\\\n",
       "\\hline\n",
       "\\end{tabular}\n"
      ],
      "text/plain": [
       "[1] clade   species isotype -       A       C       G       U      \n",
       "<0 rows> (or 0-length row.names)"
      ]
     },
     "metadata": {},
     "output_type": "display_data"
    }
   ],
   "source": [
    "identities %>% filter(!restrict) %>% select(clade, species, isotype, X37) %>%\n",
    "  count(clade, species, isotype, X37) %>% spread(X37, n, 0) %>%\n",
    "  filter(A + G < 1)"
   ]
  },
  {
   "cell_type": "markdown",
   "metadata": {},
   "source": [
    "## R46"
   ]
  },
  {
   "cell_type": "code",
   "execution_count": 57,
   "metadata": {
    "collapsed": false
   },
   "outputs": [
    {
     "data": {
      "text/html": [
       "<table>\n",
       "<thead><tr><th></th><th scope=col>clade</th><th scope=col>isotype</th><th scope=col>positions</th><th scope=col>clade_iso_pos_total</th><th scope=col>feature</th><th scope=col>n</th><th scope=col>freq</th></tr></thead>\n",
       "<tbody>\n",
       "\t<tr><th scope=row>1</th><td>Fungi            </td><td>Leu              </td><td>X46              </td><td>459              </td><td>Keto             </td><td>434              </td><td>0.945533769063181</td></tr>\n",
       "</tbody>\n",
       "</table>\n"
      ],
      "text/latex": [
       "\\begin{tabular}{r|lllllll}\n",
       "  & clade & isotype & positions & clade\\_iso\\_pos\\_total & feature & n & freq\\\\\n",
       "\\hline\n",
       "\t1 & Fungi             & Leu               & X46               & 459               & Keto              & 434               & 0.945533769063181\\\\\n",
       "\\end{tabular}\n"
      ],
      "text/plain": [
       "  clade isotype positions clade_iso_pos_total feature   n      freq\n",
       "1 Fungi     Leu       X46                 459    Keto 434 0.9455338"
      ]
     },
     "metadata": {},
     "output_type": "display_data"
    },
    {
     "data": {
      "text/html": [
       "<table>\n",
       "<thead><tr><th></th><th scope=col>clade</th><th scope=col>isotype</th><th scope=col>positions</th><th scope=col>clade_iso_pos_total</th><th scope=col>feature</th><th scope=col>n</th><th scope=col>freq</th></tr></thead>\n",
       "<tbody>\n",
       "\t<tr><th scope=row>1</th><td>Fungi             </td><td>Leu               </td><td>X46               </td><td>459               </td><td>A                 </td><td>10                </td><td>0.0217864923747277</td></tr>\n",
       "\t<tr><th scope=row>2</th><td>Fungi            </td><td>Leu              </td><td>X46              </td><td>459              </td><td>G                </td><td>404              </td><td>0.880174291938998</td></tr>\n",
       "\t<tr><th scope=row>3</th><td>Fungi            </td><td>Leu              </td><td>X46              </td><td>459              </td><td>U                </td><td>30               </td><td>0.065359477124183</td></tr>\n",
       "\t<tr><th scope=row>4</th><td>Fungi             </td><td>Leu               </td><td>X46               </td><td>459               </td><td>Absent            </td><td>10                </td><td>0.0217864923747277</td></tr>\n",
       "\t<tr><th scope=row>5</th><td>Fungi            </td><td>Leu              </td><td>X46              </td><td>459              </td><td>Purine           </td><td>404              </td><td>0.880174291938998</td></tr>\n",
       "\t<tr><th scope=row>6</th><td>Fungi            </td><td>Leu              </td><td>X46              </td><td>459              </td><td>Pyrimidine       </td><td>30               </td><td>0.065359477124183</td></tr>\n",
       "\t<tr><th scope=row>7</th><td>Fungi            </td><td>Leu              </td><td>X46              </td><td>459              </td><td>Weak             </td><td>30               </td><td>0.065359477124183</td></tr>\n",
       "\t<tr><th scope=row>8</th><td>Fungi            </td><td>Leu              </td><td>X46              </td><td>459              </td><td>Strong           </td><td>404              </td><td>0.880174291938998</td></tr>\n",
       "\t<tr><th scope=row>9</th><td>Fungi            </td><td>Leu              </td><td>X46              </td><td>459              </td><td>Keto             </td><td>434              </td><td>0.945533769063181</td></tr>\n",
       "\t<tr><th scope=row>10</th><td>Fungi            </td><td>Leu              </td><td>X46              </td><td>459              </td><td>B                </td><td>434              </td><td>0.945533769063181</td></tr>\n",
       "\t<tr><th scope=row>11</th><td>Fungi            </td><td>Leu              </td><td>X46              </td><td>459              </td><td>D                </td><td>434              </td><td>0.945533769063181</td></tr>\n",
       "\t<tr><th scope=row>12</th><td>Fungi            </td><td>Leu              </td><td>X46              </td><td>459              </td><td>H                </td><td>30               </td><td>0.065359477124183</td></tr>\n",
       "\t<tr><th scope=row>13</th><td>Fungi            </td><td>Leu              </td><td>X46              </td><td>459              </td><td>V                </td><td>404              </td><td>0.880174291938998</td></tr>\n",
       "</tbody>\n",
       "</table>\n"
      ],
      "text/latex": [
       "\\begin{tabular}{r|lllllll}\n",
       "  & clade & isotype & positions & clade\\_iso\\_pos\\_total & feature & n & freq\\\\\n",
       "\\hline\n",
       "\t1 & Fungi              & Leu                & X46                & 459                & A                  & 10                 & 0.0217864923747277\\\\\n",
       "\t2 & Fungi             & Leu               & X46               & 459               & G                 & 404               & 0.880174291938998\\\\\n",
       "\t3 & Fungi             & Leu               & X46               & 459               & U                 & 30                & 0.065359477124183\\\\\n",
       "\t4 & Fungi              & Leu                & X46                & 459                & Absent             & 10                 & 0.0217864923747277\\\\\n",
       "\t5 & Fungi             & Leu               & X46               & 459               & Purine            & 404               & 0.880174291938998\\\\\n",
       "\t6 & Fungi             & Leu               & X46               & 459               & Pyrimidine        & 30                & 0.065359477124183\\\\\n",
       "\t7 & Fungi             & Leu               & X46               & 459               & Weak              & 30                & 0.065359477124183\\\\\n",
       "\t8 & Fungi             & Leu               & X46               & 459               & Strong            & 404               & 0.880174291938998\\\\\n",
       "\t9 & Fungi             & Leu               & X46               & 459               & Keto              & 434               & 0.945533769063181\\\\\n",
       "\t10 & Fungi             & Leu               & X46               & 459               & B                 & 434               & 0.945533769063181\\\\\n",
       "\t11 & Fungi             & Leu               & X46               & 459               & D                 & 434               & 0.945533769063181\\\\\n",
       "\t12 & Fungi             & Leu               & X46               & 459               & H                 & 30                & 0.065359477124183\\\\\n",
       "\t13 & Fungi             & Leu               & X46               & 459               & V                 & 404               & 0.880174291938998\\\\\n",
       "\\end{tabular}\n"
      ],
      "text/plain": [
       "   clade isotype positions clade_iso_pos_total    feature   n       freq\n",
       "1  Fungi     Leu       X46                 459          A  10 0.02178649\n",
       "2  Fungi     Leu       X46                 459          G 404 0.88017429\n",
       "3  Fungi     Leu       X46                 459          U  30 0.06535948\n",
       "4  Fungi     Leu       X46                 459     Absent  10 0.02178649\n",
       "5  Fungi     Leu       X46                 459     Purine 404 0.88017429\n",
       "6  Fungi     Leu       X46                 459 Pyrimidine  30 0.06535948\n",
       "7  Fungi     Leu       X46                 459       Weak  30 0.06535948\n",
       "8  Fungi     Leu       X46                 459     Strong 404 0.88017429\n",
       "9  Fungi     Leu       X46                 459       Keto 434 0.94553377\n",
       "10 Fungi     Leu       X46                 459          B 434 0.94553377\n",
       "11 Fungi     Leu       X46                 459          D 434 0.94553377\n",
       "12 Fungi     Leu       X46                 459          H  30 0.06535948\n",
       "13 Fungi     Leu       X46                 459          V 404 0.88017429"
      ]
     },
     "metadata": {},
     "output_type": "display_data"
    }
   ],
   "source": [
    "best_freqs %>% filter(positions == \"X46\", !(feature %in% c(\"A\", \"G\", \"Purine\")))\n",
    "\n",
    "clade_iso_freqs %>% filter(clade == \"Fungi\", isotype == \"Leu\", positions == \"X46\", n > 5)"
   ]
  },
  {
   "cell_type": "code",
   "execution_count": 53,
   "metadata": {
    "collapsed": false
   },
   "outputs": [
    {
     "data": {
      "text/markdown": [
       "|clade         |X46 | Ala| Arg| Asn| Asp| Cys| Gln| Glu| Gly| His| Ile| Leu| Lys| Met| Phe| Pro| Ser| Thr| Trp| Tyr| Val|\n",
       "|:-------------|:---|---:|---:|---:|---:|---:|---:|---:|---:|---:|---:|---:|---:|---:|---:|---:|---:|---:|---:|---:|---:|\n",
       "|Fungi         |-   |   0|   0|   0|   0|   0|   0|   0|   0|   0|   0|  10|   0|   0|   0|   0|   0|   0|   0|   0|   0|\n",
       "|Fungi         |C   |   0|   0|   0|   0|   0|   0|   0|   0|   0|   0|   5|   0|   1|   0|   0|  20|   0|   0|   0|   0|\n",
       "|Fungi         |U   |   0|   0|   0|   0|   0|   0|   0|   1|   0|   0|  30|   0|   0|   0|   0|  14|   0|   0|   0|   2|\n",
       "|Insecta       |U   |   0|   0|   0|   0|   0|   0|   0|   0|   0|   0|   0|   0|   0|   0|   0|   0|   0|   1|   0|   0|\n",
       "|Mammalia      |-   |   0|   0|   0|   0|   0|   0|   0|   0|   0|   0|   0|   0|   0|   0|   0|   1|   0|   1|   0|   0|\n",
       "|Mammalia      |C   |   2|   0|   4|   0|   0|   0|   0|   0|   0|   0|   1|   4|   0|   0|   0|   3|   0|   0|   0|   5|\n",
       "|Mammalia      |U   |   3|   6|   1|   0|   1|   0|   0|   0|   0|   0|  15|   7|   1|   4|   1|   4|   1|   0|   0|   0|\n",
       "|Nematoda      |-   |   0|   0|   0|   0|   0|   0|   0|   0|   0|   0|   0|   0|   0|   0|   0|   1|   0|   0|   0|   0|\n",
       "|Nematoda      |C   |   0|   0|   0|   0|   0|   0|   0|   0|   0|   2|   3|   1|   0|   0|   0|   0|   0|   0|   0|   0|\n",
       "|Nematoda      |N   |   0|   0|   0|   0|   0|   1|   0|   0|   0|   0|   0|   0|   0|   0|   0|   0|   0|   0|   0|   0|\n",
       "|Nematoda      |U   |   0|   1|   0|   0|   0|   0|   0|   0|   1|   0|  10|   0|   0|   0|   0|   0|   0|   1|   0|   4|\n",
       "|Spermatophyta |-   |   0|   0|   0|   0|   0|   0|   0|   0|   0|   0|   0|   1|   0|   0|   0|  43|   0|   0|   0|   0|\n",
       "|Spermatophyta |C   |   0|   0|   3|   1|   0|   0|   0|   0|   0|   0|   0|   0|   1|   0|   0|   4|   0|   0|   0|   0|\n",
       "|Spermatophyta |U   |   0|   1|   0|   0|  10|   0|   0|   0|   0|   2|   0|   0|   5|   0|   1|   0|   0|   0|   1|   0|\n",
       "|Vertebrata    |-   |   0|   0|   0|   0|   0|   0|   1|   0|   0|   0|   0|   0|   0|   0|   0|   0|   0|   0|   0|   0|\n",
       "|Vertebrata    |C   |   0|   2|   2|   0|   0|   0|   0|   0|   0|   1|  21|   0|   0|   1|   0|   2|   1|   0|   0|   0|\n",
       "|Vertebrata    |U   |   2|   2|   5|   0|   2|   0|   0|   0|   0|   2|  17|   1|   1|   2|   0|   2|   2|   0|   2|   4|"
      ]
     },
     "metadata": {},
     "output_type": "display_data"
    }
   ],
   "source": [
    "# Clade/isotype quantification\n",
    "identities %>% filter(!restrict) %>% select(clade, isotype, X46) %>% filter(X46 != \"A\" & X46 != \"G\") %>%\n",
    "  count(clade, isotype, X46) %>% spread(isotype, n, 0) %>%\n",
    "  kable %>% paste(collapse = '\\n') %>% display_markdown"
   ]
  },
  {
   "cell_type": "code",
   "execution_count": 99,
   "metadata": {
    "collapsed": false,
    "scrolled": true
   },
   "outputs": [
    {
     "data": {
      "text/html": [
       "<table>\n",
       "<thead><tr><th></th><th scope=col>X4.69</th><th scope=col>n</th><th scope=col>freq</th></tr></thead>\n",
       "<tbody>\n",
       "\t<tr><th scope=row>1</th><td>-:-                 </td><td>19                  </td><td>0.000720242608036391</td></tr>\n",
       "\t<tr><th scope=row>2</th><td>-:A                 </td><td>23                  </td><td>0.000871872630780895</td></tr>\n",
       "\t<tr><th scope=row>3</th><td>-:C                 </td><td>23                  </td><td>0.000871872630780895</td></tr>\n",
       "\t<tr><th scope=row>4</th><td>-:G                 </td><td>15                  </td><td>0.000568612585291888</td></tr>\n",
       "\t<tr><th scope=row>5</th><td>A:A                 </td><td>23                  </td><td>0.000871872630780895</td></tr>\n",
       "\t<tr><th scope=row>6</th><td>A:C                </td><td>83                 </td><td>0.00314632297194845</td></tr>\n",
       "\t<tr><th scope=row>7</th><td>A:G                 </td><td>15                  </td><td>0.000568612585291888</td></tr>\n",
       "\t<tr><th scope=row>8</th><td>A:U              </td><td>2788             </td><td>0.105686125852919</td></tr>\n",
       "\t<tr><th scope=row>9</th><td>C:A                </td><td>90                 </td><td>0.00341167551175133</td></tr>\n",
       "\t<tr><th scope=row>10</th><td>C:C                </td><td>30                 </td><td>0.00113722517058378</td></tr>\n",
       "\t<tr><th scope=row>11</th><td>C:G              </td><td>7330             </td><td>0.277862016679302</td></tr>\n",
       "\t<tr><th scope=row>12</th><td>C:N                 </td><td>1                   </td><td>3.79075056861259e-05</td></tr>\n",
       "\t<tr><th scope=row>13</th><td>C:U               </td><td>58                </td><td>0.0021986353297953</td></tr>\n",
       "\t<tr><th scope=row>14</th><td>G:A                </td><td>38                 </td><td>0.00144048521607278</td></tr>\n",
       "\t<tr><th scope=row>15</th><td>G:C             </td><td>6373            </td><td>0.24158453373768</td></tr>\n",
       "\t<tr><th scope=row>16</th><td>G:G                </td><td>70                 </td><td>0.00265352539802881</td></tr>\n",
       "\t<tr><th scope=row>17</th><td>G:N                 </td><td>1                   </td><td>3.79075056861259e-05</td></tr>\n",
       "\t<tr><th scope=row>18</th><td>G:U              </td><td>898              </td><td>0.034040940106141</td></tr>\n",
       "\t<tr><th scope=row>19</th><td>N:U                 </td><td>2                   </td><td>7.58150113722517e-05</td></tr>\n",
       "\t<tr><th scope=row>20</th><td>U:A              </td><td>5201             </td><td>0.197156937073541</td></tr>\n",
       "\t<tr><th scope=row>21</th><td>U:C                 </td><td>14                  </td><td>0.000530705079605762</td></tr>\n",
       "\t<tr><th scope=row>22</th><td>U:G              </td><td>3195             </td><td>0.121114480667172</td></tr>\n",
       "\t<tr><th scope=row>23</th><td>U:N                 </td><td>2                   </td><td>7.58150113722517e-05</td></tr>\n",
       "\t<tr><th scope=row>24</th><td>U:U                </td><td>88                 </td><td>0.00333586050037907</td></tr>\n",
       "</tbody>\n",
       "</table>\n"
      ],
      "text/latex": [
       "\\begin{tabular}{r|lll}\n",
       "  & X4.69 & n & freq\\\\\n",
       "\\hline\n",
       "\t1 & -:-                  & 19                   & 0.000720242608036391\\\\\n",
       "\t2 & -:A                  & 23                   & 0.000871872630780895\\\\\n",
       "\t3 & -:C                  & 23                   & 0.000871872630780895\\\\\n",
       "\t4 & -:G                  & 15                   & 0.000568612585291888\\\\\n",
       "\t5 & A:A                  & 23                   & 0.000871872630780895\\\\\n",
       "\t6 & A:C                 & 83                  & 0.00314632297194845\\\\\n",
       "\t7 & A:G                  & 15                   & 0.000568612585291888\\\\\n",
       "\t8 & A:U               & 2788              & 0.105686125852919\\\\\n",
       "\t9 & C:A                 & 90                  & 0.00341167551175133\\\\\n",
       "\t10 & C:C                 & 30                  & 0.00113722517058378\\\\\n",
       "\t11 & C:G               & 7330              & 0.277862016679302\\\\\n",
       "\t12 & C:N                  & 1                    & 3.79075056861259e-05\\\\\n",
       "\t13 & C:U                & 58                 & 0.0021986353297953\\\\\n",
       "\t14 & G:A                 & 38                  & 0.00144048521607278\\\\\n",
       "\t15 & G:C              & 6373             & 0.24158453373768\\\\\n",
       "\t16 & G:G                 & 70                  & 0.00265352539802881\\\\\n",
       "\t17 & G:N                  & 1                    & 3.79075056861259e-05\\\\\n",
       "\t18 & G:U               & 898               & 0.034040940106141\\\\\n",
       "\t19 & N:U                  & 2                    & 7.58150113722517e-05\\\\\n",
       "\t20 & U:A               & 5201              & 0.197156937073541\\\\\n",
       "\t21 & U:C                  & 14                   & 0.000530705079605762\\\\\n",
       "\t22 & U:G               & 3195              & 0.121114480667172\\\\\n",
       "\t23 & U:N                  & 2                    & 7.58150113722517e-05\\\\\n",
       "\t24 & U:U                 & 88                  & 0.00333586050037907\\\\\n",
       "\\end{tabular}\n"
      ],
      "text/plain": [
       "   X4.69    n         freq\n",
       "1    -:-   19 7.202426e-04\n",
       "2    -:A   23 8.718726e-04\n",
       "3    -:C   23 8.718726e-04\n",
       "4    -:G   15 5.686126e-04\n",
       "5    A:A   23 8.718726e-04\n",
       "6    A:C   83 3.146323e-03\n",
       "7    A:G   15 5.686126e-04\n",
       "8    A:U 2788 1.056861e-01\n",
       "9    C:A   90 3.411676e-03\n",
       "10   C:C   30 1.137225e-03\n",
       "11   C:G 7330 2.778620e-01\n",
       "12   C:N    1 3.790751e-05\n",
       "13   C:U   58 2.198635e-03\n",
       "14   G:A   38 1.440485e-03\n",
       "15   G:C 6373 2.415845e-01\n",
       "16   G:G   70 2.653525e-03\n",
       "17   G:N    1 3.790751e-05\n",
       "18   G:U  898 3.404094e-02\n",
       "19   N:U    2 7.581501e-05\n",
       "20   U:A 5201 1.971569e-01\n",
       "21   U:C   14 5.307051e-04\n",
       "22   U:G 3195 1.211145e-01\n",
       "23   U:N    2 7.581501e-05\n",
       "24   U:U   88 3.335861e-03"
      ]
     },
     "metadata": {},
     "output_type": "display_data"
    }
   ],
   "source": [
    "identities %>% filter(!restrict) %>% count(X4.69) %>% filter(X4.69 != '-') %>% mutate(freq = n/sum(n))"
   ]
  },
  {
   "cell_type": "markdown",
   "metadata": {},
   "source": [
    "## R48"
   ]
  },
  {
   "cell_type": "code",
   "execution_count": 58,
   "metadata": {
    "collapsed": false
   },
   "outputs": [
    {
     "data": {
      "text/html": [
       "<table>\n",
       "<thead><tr><th></th><th scope=col>clade</th><th scope=col>isotype</th><th scope=col>positions</th><th scope=col>clade_iso_pos_total</th><th scope=col>feature</th><th scope=col>n</th><th scope=col>freq</th></tr></thead>\n",
       "<tbody>\n",
       "\t<tr><th scope=row>1</th><td>Spermatophyta    </td><td>Ala              </td><td>X48              </td><td>201              </td><td>A                </td><td>194              </td><td>0.965174129353234</td></tr>\n",
       "\t<tr><th scope=row>2</th><td>Insecta          </td><td>Ala              </td><td>X48              </td><td>93               </td><td>Amino            </td><td>92               </td><td>0.989247311827957</td></tr>\n",
       "\t<tr><th scope=row>3</th><td>Vertebrata       </td><td>Ala              </td><td>X48              </td><td>306              </td><td>Amino            </td><td>300              </td><td>0.980392156862745</td></tr>\n",
       "\t<tr><th scope=row>4</th><td>Mammalia         </td><td>Ala              </td><td>X48              </td><td>1034             </td><td>Amino            </td><td>988              </td><td>0.955512572533849</td></tr>\n",
       "</tbody>\n",
       "</table>\n"
      ],
      "text/latex": [
       "\\begin{tabular}{r|lllllll}\n",
       "  & clade & isotype & positions & clade\\_iso\\_pos\\_total & feature & n & freq\\\\\n",
       "\\hline\n",
       "\t1 & Spermatophyta     & Ala               & X48               & 201               & A                 & 194               & 0.965174129353234\\\\\n",
       "\t2 & Insecta           & Ala               & X48               & 93                & Amino             & 92                & 0.989247311827957\\\\\n",
       "\t3 & Vertebrata        & Ala               & X48               & 306               & Amino             & 300               & 0.980392156862745\\\\\n",
       "\t4 & Mammalia          & Ala               & X48               & 1034              & Amino             & 988               & 0.955512572533849\\\\\n",
       "\\end{tabular}\n"
      ],
      "text/plain": [
       "          clade isotype positions clade_iso_pos_total feature   n      freq\n",
       "1 Spermatophyta     Ala       X48                 201       A 194 0.9651741\n",
       "2       Insecta     Ala       X48                  93   Amino  92 0.9892473\n",
       "3    Vertebrata     Ala       X48                 306   Amino 300 0.9803922\n",
       "4      Mammalia     Ala       X48                1034   Amino 988 0.9555126"
      ]
     },
     "metadata": {},
     "output_type": "display_data"
    },
    {
     "data": {
      "text/html": [
       "<table>\n",
       "<thead><tr><th></th><th scope=col>clade</th><th scope=col>isotype</th><th scope=col>A</th><th scope=col>C</th><th scope=col>G</th><th scope=col>U</th></tr></thead>\n",
       "<tbody>\n",
       "\t<tr><th scope=row>1</th><td>Fungi</td><td>Ala  </td><td>24   </td><td>269  </td><td>4    </td><td>1    </td></tr>\n",
       "\t<tr><th scope=row>2</th><td>Insecta</td><td>Ala    </td><td>31     </td><td>61     </td><td>0      </td><td>1      </td></tr>\n",
       "\t<tr><th scope=row>3</th><td>Mammalia</td><td>Ala     </td><td>182     </td><td>806     </td><td>27      </td><td>19      </td></tr>\n",
       "\t<tr><th scope=row>4</th><td>Nematoda</td><td>Ala     </td><td>5       </td><td>92      </td><td>0       </td><td>1       </td></tr>\n",
       "\t<tr><th scope=row>5</th><td>Spermatophyta</td><td>Ala          </td><td>194          </td><td>6            </td><td>1            </td><td>0            </td></tr>\n",
       "\t<tr><th scope=row>6</th><td>Vertebrata</td><td>Ala       </td><td>52        </td><td>248       </td><td>1         </td><td>5         </td></tr>\n",
       "</tbody>\n",
       "</table>\n"
      ],
      "text/latex": [
       "\\begin{tabular}{r|llllll}\n",
       "  & clade & isotype & A & C & G & U\\\\\n",
       "\\hline\n",
       "\t1 & Fungi & Ala   & 24    & 269   & 4     & 1    \\\\\n",
       "\t2 & Insecta & Ala     & 31      & 61      & 0       & 1      \\\\\n",
       "\t3 & Mammalia & Ala      & 182      & 806      & 27       & 19      \\\\\n",
       "\t4 & Nematoda & Ala      & 5        & 92       & 0        & 1       \\\\\n",
       "\t5 & Spermatophyta & Ala           & 194           & 6             & 1             & 0            \\\\\n",
       "\t6 & Vertebrata & Ala        & 52         & 248        & 1          & 5         \\\\\n",
       "\\end{tabular}\n"
      ],
      "text/plain": [
       "          clade isotype   A   C  G  U\n",
       "1         Fungi     Ala  24 269  4  1\n",
       "2       Insecta     Ala  31  61  0  1\n",
       "3      Mammalia     Ala 182 806 27 19\n",
       "4      Nematoda     Ala   5  92  0  1\n",
       "5 Spermatophyta     Ala 194   6  1  0\n",
       "6    Vertebrata     Ala  52 248  1  5"
      ]
     },
     "metadata": {},
     "output_type": "display_data"
    }
   ],
   "source": [
    "best_freqs %>% filter(positions == \"X48\", !(feature %in% c(\"C\", \"U\", \"Pyrimidine\")))\n",
    "\n",
    "identities %>% filter(!restrict, isotype == \"Ala\") %>% select(clade, isotype, X48) %>% \n",
    "  group_by(clade, isotype, X48) %>% tally %>% spread(X48, n, 0)"
   ]
  },
  {
   "cell_type": "markdown",
   "metadata": {},
   "source": [
    "## R52:Y62"
   ]
  },
  {
   "cell_type": "code",
   "execution_count": 59,
   "metadata": {
    "collapsed": false
   },
   "outputs": [
    {
     "data": {
      "text/html": [
       "<table>\n",
       "<thead><tr><th></th><th scope=col>clade</th><th scope=col>isotype</th><th scope=col>positions</th><th scope=col>clade_iso_pos_total</th><th scope=col>feature</th><th scope=col>n</th><th scope=col>freq</th></tr></thead>\n",
       "<tbody>\n",
       "\t<tr><th scope=row>1</th><td>Vertebrata       </td><td>Trp              </td><td>X52.62           </td><td>137              </td><td>UA               </td><td>135              </td><td>0.985401459854015</td></tr>\n",
       "\t<tr><th scope=row>2</th><td>Mammalia         </td><td>Trp              </td><td>X52.62           </td><td>249              </td><td>UA               </td><td>231              </td><td>0.927710843373494</td></tr>\n",
       "\t<tr><th scope=row>3</th><td>Insecta          </td><td>Trp              </td><td>X52.62           </td><td>36               </td><td>UA               </td><td>33               </td><td>0.916666666666667</td></tr>\n",
       "\t<tr><th scope=row>4</th><td>Fungi            </td><td>Trp              </td><td>X52.62           </td><td>114              </td><td>StrongPair       </td><td>112              </td><td>0.982456140350877</td></tr>\n",
       "\t<tr><th scope=row>5</th><td>Fungi            </td><td>Pro              </td><td>X52.62           </td><td>229              </td><td>StrongPair       </td><td>223              </td><td>0.973799126637555</td></tr>\n",
       "\t<tr><th scope=row>6</th><td>Spermatophyta    </td><td>Phe              </td><td>X52.62           </td><td>88               </td><td>WeakPair         </td><td>84               </td><td>0.954545454545455</td></tr>\n",
       "\t<tr><th scope=row>7</th><td>Fungi           </td><td>iMet            </td><td>X52.62          </td><td>83              </td><td>StrongPair      </td><td>76              </td><td>0.91566265060241</td></tr>\n",
       "\t<tr><th scope=row>8</th><td>Fungi            </td><td>Ala              </td><td>X52.62           </td><td>298              </td><td>StrongPair       </td><td>269              </td><td>0.902684563758389</td></tr>\n",
       "\t<tr><th scope=row>9</th><td>Nematoda         </td><td>Trp              </td><td>X52.62           </td><td>29               </td><td>PyrimidinePurine </td><td>27               </td><td>0.931034482758621</td></tr>\n",
       "\t<tr><th scope=row>10</th><td>Fungi </td><td>Phe   </td><td>X52.62</td><td>148   </td><td>Paired</td><td>148   </td><td>1     </td></tr>\n",
       "\t<tr><th scope=row>11</th><td>Fungi </td><td>Thr   </td><td>X52.62</td><td>329   </td><td>Paired</td><td>329   </td><td>1     </td></tr>\n",
       "\t<tr><th scope=row>12</th><td>Fungi </td><td>Tyr   </td><td>X52.62</td><td>130   </td><td>Paired</td><td>130   </td><td>1     </td></tr>\n",
       "\t<tr><th scope=row>13</th><td>Fungi           </td><td>Gly             </td><td>X52.62          </td><td>281             </td><td>Paired          </td><td>279             </td><td>0.99288256227758</td></tr>\n",
       "\t<tr><th scope=row>14</th><td>Fungi            </td><td>Ser              </td><td>X52.62           </td><td>402              </td><td>Paired           </td><td>396              </td><td>0.985074626865672</td></tr>\n",
       "\t<tr><th scope=row>15</th><td>Mammalia         </td><td>Phe              </td><td>X52.62           </td><td>261              </td><td>Paired           </td><td>257              </td><td>0.984674329501916</td></tr>\n",
       "\t<tr><th scope=row>16</th><td>Fungi            </td><td>Cys              </td><td>X52.62           </td><td>117              </td><td>Paired           </td><td>115              </td><td>0.982905982905983</td></tr>\n",
       "\t<tr><th scope=row>17</th><td>Spermatophyta    </td><td>Trp              </td><td>X52.62           </td><td>70               </td><td>Paired           </td><td>68               </td><td>0.971428571428571</td></tr>\n",
       "\t<tr><th scope=row>18</th><td>Vertebrata       </td><td>Phe              </td><td>X52.62           </td><td>194              </td><td>Paired           </td><td>187              </td><td>0.963917525773196</td></tr>\n",
       "\t<tr><th scope=row>19</th><td>Fungi            </td><td>His              </td><td>X52.62           </td><td>137              </td><td>Paired           </td><td>131              </td><td>0.956204379562044</td></tr>\n",
       "\t<tr><th scope=row>20</th><td>Spermatophyta   </td><td>Cys             </td><td>X52.62          </td><td>115             </td><td>Paired          </td><td>105             </td><td>0.91304347826087</td></tr>\n",
       "\t<tr><th scope=row>21</th><td>Mammalia         </td><td>Lys              </td><td>X52.62           </td><td>865              </td><td>Paired           </td><td>780              </td><td>0.901734104046243</td></tr>\n",
       "</tbody>\n",
       "</table>\n"
      ],
      "text/latex": [
       "\\begin{tabular}{r|lllllll}\n",
       "  & clade & isotype & positions & clade\\_iso\\_pos\\_total & feature & n & freq\\\\\n",
       "\\hline\n",
       "\t1 & Vertebrata        & Trp               & X52.62            & 137               & UA                & 135               & 0.985401459854015\\\\\n",
       "\t2 & Mammalia          & Trp               & X52.62            & 249               & UA                & 231               & 0.927710843373494\\\\\n",
       "\t3 & Insecta           & Trp               & X52.62            & 36                & UA                & 33                & 0.916666666666667\\\\\n",
       "\t4 & Fungi             & Trp               & X52.62            & 114               & StrongPair        & 112               & 0.982456140350877\\\\\n",
       "\t5 & Fungi             & Pro               & X52.62            & 229               & StrongPair        & 223               & 0.973799126637555\\\\\n",
       "\t6 & Spermatophyta     & Phe               & X52.62            & 88                & WeakPair          & 84                & 0.954545454545455\\\\\n",
       "\t7 & Fungi            & iMet             & X52.62           & 83               & StrongPair       & 76               & 0.91566265060241\\\\\n",
       "\t8 & Fungi             & Ala               & X52.62            & 298               & StrongPair        & 269               & 0.902684563758389\\\\\n",
       "\t9 & Nematoda          & Trp               & X52.62            & 29                & PyrimidinePurine  & 27                & 0.931034482758621\\\\\n",
       "\t10 & Fungi  & Phe    & X52.62 & 148    & Paired & 148    & 1     \\\\\n",
       "\t11 & Fungi  & Thr    & X52.62 & 329    & Paired & 329    & 1     \\\\\n",
       "\t12 & Fungi  & Tyr    & X52.62 & 130    & Paired & 130    & 1     \\\\\n",
       "\t13 & Fungi            & Gly              & X52.62           & 281              & Paired           & 279              & 0.99288256227758\\\\\n",
       "\t14 & Fungi             & Ser               & X52.62            & 402               & Paired            & 396               & 0.985074626865672\\\\\n",
       "\t15 & Mammalia          & Phe               & X52.62            & 261               & Paired            & 257               & 0.984674329501916\\\\\n",
       "\t16 & Fungi             & Cys               & X52.62            & 117               & Paired            & 115               & 0.982905982905983\\\\\n",
       "\t17 & Spermatophyta     & Trp               & X52.62            & 70                & Paired            & 68                & 0.971428571428571\\\\\n",
       "\t18 & Vertebrata        & Phe               & X52.62            & 194               & Paired            & 187               & 0.963917525773196\\\\\n",
       "\t19 & Fungi             & His               & X52.62            & 137               & Paired            & 131               & 0.956204379562044\\\\\n",
       "\t20 & Spermatophyta    & Cys              & X52.62           & 115              & Paired           & 105              & 0.91304347826087\\\\\n",
       "\t21 & Mammalia          & Lys               & X52.62            & 865               & Paired            & 780               & 0.901734104046243\\\\\n",
       "\\end{tabular}\n"
      ],
      "text/plain": [
       "           clade isotype positions clade_iso_pos_total          feature   n\n",
       "1     Vertebrata     Trp    X52.62                 137               UA 135\n",
       "2       Mammalia     Trp    X52.62                 249               UA 231\n",
       "3        Insecta     Trp    X52.62                  36               UA  33\n",
       "4          Fungi     Trp    X52.62                 114       StrongPair 112\n",
       "5          Fungi     Pro    X52.62                 229       StrongPair 223\n",
       "6  Spermatophyta     Phe    X52.62                  88         WeakPair  84\n",
       "7          Fungi    iMet    X52.62                  83       StrongPair  76\n",
       "8          Fungi     Ala    X52.62                 298       StrongPair 269\n",
       "9       Nematoda     Trp    X52.62                  29 PyrimidinePurine  27\n",
       "10         Fungi     Phe    X52.62                 148           Paired 148\n",
       "11         Fungi     Thr    X52.62                 329           Paired 329\n",
       "12         Fungi     Tyr    X52.62                 130           Paired 130\n",
       "13         Fungi     Gly    X52.62                 281           Paired 279\n",
       "14         Fungi     Ser    X52.62                 402           Paired 396\n",
       "15      Mammalia     Phe    X52.62                 261           Paired 257\n",
       "16         Fungi     Cys    X52.62                 117           Paired 115\n",
       "17 Spermatophyta     Trp    X52.62                  70           Paired  68\n",
       "18    Vertebrata     Phe    X52.62                 194           Paired 187\n",
       "19         Fungi     His    X52.62                 137           Paired 131\n",
       "20 Spermatophyta     Cys    X52.62                 115           Paired 105\n",
       "21      Mammalia     Lys    X52.62                 865           Paired 780\n",
       "        freq\n",
       "1  0.9854015\n",
       "2  0.9277108\n",
       "3  0.9166667\n",
       "4  0.9824561\n",
       "5  0.9737991\n",
       "6  0.9545455\n",
       "7  0.9156627\n",
       "8  0.9026846\n",
       "9  0.9310345\n",
       "10 1.0000000\n",
       "11 1.0000000\n",
       "12 1.0000000\n",
       "13 0.9928826\n",
       "14 0.9850746\n",
       "15 0.9846743\n",
       "16 0.9829060\n",
       "17 0.9714286\n",
       "18 0.9639175\n",
       "19 0.9562044\n",
       "20 0.9130435\n",
       "21 0.9017341"
      ]
     },
     "metadata": {},
     "output_type": "display_data"
    },
    {
     "data": {
      "text/html": [
       "<table>\n",
       "<thead><tr><th></th><th scope=col>clade</th><th scope=col>isotype</th><th scope=col>-:C</th><th scope=col>A:A</th><th scope=col>A:C</th><th scope=col>A:G</th><th scope=col>A:U</th><th scope=col>C:A</th><th scope=col>C:C</th><th scope=col>C:G</th><th scope=col>C:U</th><th scope=col>G:-</th><th scope=col>G:A</th><th scope=col>G:C</th><th scope=col>G:G</th><th scope=col>G:U</th><th scope=col>U:A</th><th scope=col>U:C</th><th scope=col>U:G</th><th scope=col>U:U</th></tr></thead>\n",
       "<tbody>\n",
       "\t<tr><th scope=row>1</th><td>Fungi</td><td>Ala  </td><td>0    </td><td>0    </td><td>1    </td><td>0    </td><td>18   </td><td>0    </td><td>0    </td><td>21   </td><td>0    </td><td>0    </td><td>0    </td><td>248  </td><td>0    </td><td>0    </td><td>7    </td><td>0    </td><td>3    </td><td>0    </td></tr>\n",
       "\t<tr><th scope=row>2</th><td>Fungi</td><td>Arg  </td><td>0    </td><td>0    </td><td>4    </td><td>0    </td><td>29   </td><td>0    </td><td>0    </td><td>9    </td><td>0    </td><td>0    </td><td>0    </td><td>400  </td><td>0    </td><td>0    </td><td>3    </td><td>0    </td><td>1    </td><td>0    </td></tr>\n",
       "\t<tr><th scope=row>3</th><td>Fungi</td><td>Asn  </td><td>0    </td><td>0    </td><td>0    </td><td>0    </td><td>128  </td><td>0    </td><td>0    </td><td>0    </td><td>0    </td><td>0    </td><td>0    </td><td>21   </td><td>0    </td><td>0    </td><td>0    </td><td>0    </td><td>0    </td><td>0    </td></tr>\n",
       "\t<tr><th scope=row>4</th><td>Fungi</td><td>Asp  </td><td>0    </td><td>0    </td><td>0    </td><td>0    </td><td>9    </td><td>0    </td><td>0    </td><td>0    </td><td>0    </td><td>0    </td><td>0    </td><td>96   </td><td>0    </td><td>0    </td><td>0    </td><td>0    </td><td>0    </td><td>0    </td></tr>\n",
       "\t<tr><th scope=row>5</th><td>Fungi</td><td>Cys  </td><td>0    </td><td>0    </td><td>2    </td><td>0    </td><td>34   </td><td>0    </td><td>0    </td><td>15   </td><td>0    </td><td>0    </td><td>0    </td><td>38   </td><td>0    </td><td>0    </td><td>28   </td><td>0    </td><td>0    </td><td>0    </td></tr>\n",
       "\t<tr><th scope=row>6</th><td>Fungi</td><td>Gln  </td><td>0    </td><td>0    </td><td>12   </td><td>0    </td><td>15   </td><td>0    </td><td>0    </td><td>0    </td><td>0    </td><td>0    </td><td>0    </td><td>212  </td><td>0    </td><td>0    </td><td>0    </td><td>0    </td><td>0    </td><td>0    </td></tr>\n",
       "\t<tr><th scope=row>7</th><td>Fungi</td><td>Glu  </td><td>0    </td><td>0    </td><td>0    </td><td>0    </td><td>6    </td><td>0    </td><td>0    </td><td>0    </td><td>0    </td><td>0    </td><td>0    </td><td>235  </td><td>0    </td><td>0    </td><td>0    </td><td>0    </td><td>0    </td><td>0    </td></tr>\n",
       "\t<tr><th scope=row>8</th><td>Fungi</td><td>Gly  </td><td>0    </td><td>0    </td><td>1    </td><td>0    </td><td>9    </td><td>0    </td><td>0    </td><td>21   </td><td>0    </td><td>0    </td><td>0    </td><td>214  </td><td>0    </td><td>22   </td><td>13   </td><td>1    </td><td>0    </td><td>0    </td></tr>\n",
       "\t<tr><th scope=row>9</th><td>Fungi</td><td>His  </td><td>0    </td><td>0    </td><td>4    </td><td>0    </td><td>40   </td><td>0    </td><td>0    </td><td>2    </td><td>0    </td><td>0    </td><td>0    </td><td>52   </td><td>0    </td><td>21   </td><td>16   </td><td>1    </td><td>0    </td><td>1    </td></tr>\n",
       "\t<tr><th scope=row>10</th><td>Fungi</td><td>Ile  </td><td>0    </td><td>0    </td><td>0    </td><td>0    </td><td>71   </td><td>0    </td><td>0    </td><td>0    </td><td>0    </td><td>0    </td><td>0    </td><td>119  </td><td>0    </td><td>0    </td><td>0    </td><td>0    </td><td>0    </td><td>0    </td></tr>\n",
       "\t<tr><th scope=row>11</th><td>Fungi</td><td>iMet </td><td>0    </td><td>0    </td><td>0    </td><td>0    </td><td>4    </td><td>0    </td><td>0    </td><td>12   </td><td>0    </td><td>0    </td><td>0    </td><td>64   </td><td>0    </td><td>1    </td><td>2    </td><td>0    </td><td>0    </td><td>0    </td></tr>\n",
       "\t<tr><th scope=row>12</th><td>Fungi</td><td>Leu  </td><td>0    </td><td>0    </td><td>0    </td><td>0    </td><td>220  </td><td>0    </td><td>0    </td><td>8    </td><td>0    </td><td>0    </td><td>0    </td><td>229  </td><td>0    </td><td>1    </td><td>1    </td><td>0    </td><td>0    </td><td>0    </td></tr>\n",
       "\t<tr><th scope=row>13</th><td>Fungi</td><td>Lys  </td><td>0    </td><td>0    </td><td>0    </td><td>0    </td><td>29   </td><td>0    </td><td>0    </td><td>0    </td><td>0    </td><td>0    </td><td>0    </td><td>200  </td><td>0    </td><td>0    </td><td>0    </td><td>0    </td><td>0    </td><td>0    </td></tr>\n",
       "\t<tr><th scope=row>14</th><td>Fungi</td><td>Met  </td><td>0    </td><td>0    </td><td>0    </td><td>0    </td><td>105  </td><td>0    </td><td>0    </td><td>0    </td><td>0    </td><td>0    </td><td>0    </td><td>13   </td><td>0    </td><td>2    </td><td>0    </td><td>0    </td><td>0    </td><td>1    </td></tr>\n",
       "\t<tr><th scope=row>15</th><td>Fungi</td><td>Phe  </td><td>0    </td><td>0    </td><td>0    </td><td>0    </td><td>13   </td><td>0    </td><td>0    </td><td>0    </td><td>0    </td><td>0    </td><td>0    </td><td>32   </td><td>0    </td><td>0    </td><td>103  </td><td>0    </td><td>0    </td><td>0    </td></tr>\n",
       "\t<tr><th scope=row>16</th><td>Fungi</td><td>Pro  </td><td>0    </td><td>0    </td><td>0    </td><td>0    </td><td>6    </td><td>0    </td><td>0    </td><td>24   </td><td>0    </td><td>0    </td><td>0    </td><td>199  </td><td>0    </td><td>0    </td><td>0    </td><td>0    </td><td>0    </td><td>0    </td></tr>\n",
       "\t<tr><th scope=row>17</th><td>Fungi</td><td>Ser  </td><td>0    </td><td>0    </td><td>3    </td><td>0    </td><td>23   </td><td>0    </td><td>0    </td><td>4    </td><td>0    </td><td>0    </td><td>0    </td><td>317  </td><td>0    </td><td>0    </td><td>52   </td><td>3    </td><td>0    </td><td>0    </td></tr>\n",
       "\t<tr><th scope=row>18</th><td>Fungi</td><td>Thr  </td><td>0    </td><td>0    </td><td>0    </td><td>0    </td><td>127  </td><td>0    </td><td>0    </td><td>44   </td><td>0    </td><td>0    </td><td>0    </td><td>145  </td><td>0    </td><td>0    </td><td>13   </td><td>0    </td><td>0    </td><td>0    </td></tr>\n",
       "\t<tr><th scope=row>19</th><td>Fungi</td><td>Trp  </td><td>0    </td><td>0    </td><td>0    </td><td>0    </td><td>1    </td><td>0    </td><td>0    </td><td>34   </td><td>0    </td><td>0    </td><td>0    </td><td>78   </td><td>0    </td><td>0    </td><td>1    </td><td>0    </td><td>0    </td><td>0    </td></tr>\n",
       "\t<tr><th scope=row>20</th><td>Fungi</td><td>Tyr  </td><td>0    </td><td>0    </td><td>0    </td><td>0    </td><td>2    </td><td>0    </td><td>0    </td><td>44   </td><td>0    </td><td>0    </td><td>0    </td><td>38   </td><td>0    </td><td>0    </td><td>46   </td><td>0    </td><td>0    </td><td>0    </td></tr>\n",
       "\t<tr><th scope=row>21</th><td>Fungi</td><td>Val  </td><td>0    </td><td>0    </td><td>0    </td><td>0    </td><td>189  </td><td>0    </td><td>0    </td><td>0    </td><td>0    </td><td>0    </td><td>0    </td><td>146  </td><td>0    </td><td>1    </td><td>1    </td><td>0    </td><td>0    </td><td>0    </td></tr>\n",
       "\t<tr><th scope=row>22</th><td>Insecta</td><td>Ala    </td><td>0      </td><td>0      </td><td>1      </td><td>0      </td><td>2      </td><td>0      </td><td>0      </td><td>0      </td><td>0      </td><td>0      </td><td>0      </td><td>89     </td><td>0      </td><td>0      </td><td>0      </td><td>0      </td><td>0      </td><td>1      </td></tr>\n",
       "\t<tr><th scope=row>23</th><td>Insecta</td><td>Arg    </td><td>0      </td><td>0      </td><td>0      </td><td>0      </td><td>0      </td><td>0      </td><td>0      </td><td>0      </td><td>0      </td><td>0      </td><td>0      </td><td>162    </td><td>0      </td><td>0      </td><td>0      </td><td>0      </td><td>0      </td><td>0      </td></tr>\n",
       "\t<tr><th scope=row>24</th><td>Insecta</td><td>Asn    </td><td>0      </td><td>0      </td><td>0      </td><td>0      </td><td>0      </td><td>0      </td><td>0      </td><td>0      </td><td>0      </td><td>0      </td><td>0      </td><td>32     </td><td>0      </td><td>0      </td><td>0      </td><td>0      </td><td>0      </td><td>0      </td></tr>\n",
       "\t<tr><th scope=row>25</th><td>Insecta</td><td>Asp    </td><td>0      </td><td>0      </td><td>0      </td><td>0      </td><td>0      </td><td>0      </td><td>0      </td><td>0      </td><td>0      </td><td>0      </td><td>0      </td><td>34     </td><td>0      </td><td>1      </td><td>0      </td><td>1      </td><td>0      </td><td>0      </td></tr>\n",
       "\t<tr><th scope=row>26</th><td>Insecta</td><td>Cys    </td><td>0      </td><td>0      </td><td>0      </td><td>0      </td><td>1      </td><td>0      </td><td>0      </td><td>0      </td><td>0      </td><td>0      </td><td>0      </td><td>52     </td><td>0      </td><td>0      </td><td>0      </td><td>0      </td><td>0      </td><td>0      </td></tr>\n",
       "\t<tr><th scope=row>27</th><td>Insecta</td><td>Gln    </td><td>0      </td><td>0      </td><td>0      </td><td>0      </td><td>89     </td><td>0      </td><td>0      </td><td>0      </td><td>0      </td><td>0      </td><td>0      </td><td>0      </td><td>0      </td><td>0      </td><td>0      </td><td>0      </td><td>0      </td><td>0      </td></tr>\n",
       "\t<tr><th scope=row>28</th><td>Insecta</td><td>Glu    </td><td>0      </td><td>0      </td><td>0      </td><td>0      </td><td>0      </td><td>0      </td><td>0      </td><td>0      </td><td>0      </td><td>0      </td><td>0      </td><td>75     </td><td>0      </td><td>0      </td><td>0      </td><td>0      </td><td>0      </td><td>0      </td></tr>\n",
       "\t<tr><th scope=row>29</th><td>Insecta</td><td>Gly    </td><td>0      </td><td>0      </td><td>1      </td><td>0      </td><td>8      </td><td>0      </td><td>0      </td><td>0      </td><td>0      </td><td>0      </td><td>0      </td><td>78     </td><td>0      </td><td>0      </td><td>0      </td><td>0      </td><td>0      </td><td>0      </td></tr>\n",
       "\t<tr><th scope=row>30</th><td>Insecta</td><td>His    </td><td>0      </td><td>0      </td><td>0      </td><td>0      </td><td>0      </td><td>0      </td><td>0      </td><td>0      </td><td>0      </td><td>0      </td><td>0      </td><td>22     </td><td>0      </td><td>1      </td><td>0      </td><td>0      </td><td>0      </td><td>0      </td></tr>\n",
       "\t<tr><th scope=row>⋮</th><td>⋮</td><td>⋮</td><td>⋮</td><td>⋮</td><td>⋮</td><td>⋮</td><td>⋮</td><td>⋮</td><td>⋮</td><td>⋮</td><td>⋮</td><td>⋮</td><td>⋮</td><td>⋮</td><td>⋮</td><td>⋮</td><td>⋮</td><td>⋮</td><td>⋮</td><td>⋮</td></tr>\n",
       "\t<tr><th scope=row>97</th><td>Spermatophyta</td><td>Lys          </td><td>0            </td><td>0            </td><td>0            </td><td>0            </td><td>0            </td><td>0            </td><td>0            </td><td>0            </td><td>0            </td><td>0            </td><td>0            </td><td>220          </td><td>0            </td><td>2            </td><td>0            </td><td>1            </td><td>0            </td><td>0            </td></tr>\n",
       "\t<tr><th scope=row>98</th><td>Spermatophyta</td><td>Met          </td><td>0            </td><td>0            </td><td>0            </td><td>0            </td><td>72           </td><td>0            </td><td>0            </td><td>0            </td><td>0            </td><td>0            </td><td>0            </td><td>21           </td><td>0            </td><td>1            </td><td>0            </td><td>0            </td><td>0            </td><td>0            </td></tr>\n",
       "\t<tr><th scope=row>99</th><td>Spermatophyta</td><td>Phe          </td><td>0            </td><td>0            </td><td>0            </td><td>0            </td><td>9            </td><td>0            </td><td>0            </td><td>0            </td><td>0            </td><td>0            </td><td>0            </td><td>1            </td><td>0            </td><td>0            </td><td>75           </td><td>0            </td><td>1            </td><td>2            </td></tr>\n",
       "\t<tr><th scope=row>100</th><td>Spermatophyta</td><td>Pro          </td><td>0            </td><td>0            </td><td>2            </td><td>1            </td><td>172          </td><td>0            </td><td>0            </td><td>0            </td><td>0            </td><td>0            </td><td>0            </td><td>6            </td><td>0            </td><td>0            </td><td>0            </td><td>0            </td><td>0            </td><td>0            </td></tr>\n",
       "\t<tr><th scope=row>101</th><td>Spermatophyta</td><td>Ser          </td><td>0            </td><td>0            </td><td>1            </td><td>0            </td><td>76           </td><td>0            </td><td>0            </td><td>0            </td><td>0            </td><td>0            </td><td>2            </td><td>238          </td><td>0            </td><td>2            </td><td>0            </td><td>1            </td><td>0            </td><td>0            </td></tr>\n",
       "\t<tr><th scope=row>102</th><td>Spermatophyta</td><td>Thr          </td><td>0            </td><td>1            </td><td>1            </td><td>0            </td><td>217          </td><td>0            </td><td>0            </td><td>0            </td><td>0            </td><td>0            </td><td>0            </td><td>29           </td><td>0            </td><td>0            </td><td>0            </td><td>1            </td><td>0            </td><td>0            </td></tr>\n",
       "\t<tr><th scope=row>103</th><td>Spermatophyta</td><td>Trp          </td><td>0            </td><td>0            </td><td>0            </td><td>0            </td><td>0            </td><td>0            </td><td>0            </td><td>0            </td><td>0            </td><td>0            </td><td>0            </td><td>15           </td><td>0            </td><td>0            </td><td>53           </td><td>0            </td><td>0            </td><td>2            </td></tr>\n",
       "\t<tr><th scope=row>104</th><td>Spermatophyta</td><td>Tyr          </td><td>0            </td><td>0            </td><td>0            </td><td>0            </td><td>1            </td><td>0            </td><td>0            </td><td>0            </td><td>0            </td><td>0            </td><td>0            </td><td>140          </td><td>0            </td><td>1            </td><td>0            </td><td>0            </td><td>0            </td><td>0            </td></tr>\n",
       "\t<tr><th scope=row>105</th><td>Spermatophyta</td><td>Val          </td><td>0            </td><td>0            </td><td>2            </td><td>0            </td><td>86           </td><td>0            </td><td>2            </td><td>0            </td><td>1            </td><td>0            </td><td>1            </td><td>114          </td><td>0            </td><td>3            </td><td>1            </td><td>1            </td><td>0            </td><td>1            </td></tr>\n",
       "\t<tr><th scope=row>106</th><td>Vertebrata</td><td>Ala       </td><td>0         </td><td>0         </td><td>3         </td><td>0         </td><td>0         </td><td>0         </td><td>1         </td><td>0         </td><td>0         </td><td>1         </td><td>0         </td><td>298       </td><td>0         </td><td>2         </td><td>0         </td><td>1         </td><td>0         </td><td>0         </td></tr>\n",
       "\t<tr><th scope=row>107</th><td>Vertebrata</td><td>Arg       </td><td>0         </td><td>0         </td><td>0         </td><td>0         </td><td>0         </td><td>0         </td><td>1         </td><td>0         </td><td>0         </td><td>0         </td><td>0         </td><td>371       </td><td>0         </td><td>0         </td><td>0         </td><td>0         </td><td>0         </td><td>0         </td></tr>\n",
       "\t<tr><th scope=row>108</th><td>Vertebrata</td><td>Asn       </td><td>0         </td><td>0         </td><td>0         </td><td>0         </td><td>0         </td><td>0         </td><td>2         </td><td>0         </td><td>0         </td><td>0         </td><td>0         </td><td>184       </td><td>0         </td><td>1         </td><td>0         </td><td>1         </td><td>0         </td><td>0         </td></tr>\n",
       "\t<tr><th scope=row>109</th><td>Vertebrata</td><td>Asp       </td><td>0         </td><td>0         </td><td>1         </td><td>0         </td><td>0         </td><td>0         </td><td>0         </td><td>0         </td><td>0         </td><td>0         </td><td>0         </td><td>73        </td><td>0         </td><td>1         </td><td>0         </td><td>0         </td><td>0         </td><td>0         </td></tr>\n",
       "\t<tr><th scope=row>110</th><td>Vertebrata</td><td>Cys       </td><td>0         </td><td>0         </td><td>3         </td><td>2         </td><td>72        </td><td>0         </td><td>0         </td><td>0         </td><td>0         </td><td>0         </td><td>0         </td><td>109       </td><td>0         </td><td>7         </td><td>0         </td><td>0         </td><td>0         </td><td>1         </td></tr>\n",
       "\t<tr><th scope=row>111</th><td>Vertebrata</td><td>Gln       </td><td>0         </td><td>0         </td><td>0         </td><td>0         </td><td>214       </td><td>0         </td><td>0         </td><td>0         </td><td>2         </td><td>0         </td><td>0         </td><td>0         </td><td>0         </td><td>0         </td><td>0         </td><td>0         </td><td>0         </td><td>0         </td></tr>\n",
       "\t<tr><th scope=row>112</th><td>Vertebrata</td><td>Glu       </td><td>0         </td><td>0         </td><td>2         </td><td>0         </td><td>0         </td><td>0         </td><td>0         </td><td>0         </td><td>0         </td><td>0         </td><td>1         </td><td>271       </td><td>0         </td><td>1         </td><td>0         </td><td>2         </td><td>0         </td><td>0         </td></tr>\n",
       "\t<tr><th scope=row>113</th><td>Vertebrata</td><td>Gly       </td><td>0         </td><td>0         </td><td>3         </td><td>0         </td><td>0         </td><td>0         </td><td>0         </td><td>0         </td><td>0         </td><td>0         </td><td>0         </td><td>256       </td><td>0         </td><td>2         </td><td>1         </td><td>0         </td><td>0         </td><td>0         </td></tr>\n",
       "\t<tr><th scope=row>114</th><td>Vertebrata</td><td>His       </td><td>0         </td><td>0         </td><td>0         </td><td>0         </td><td>0         </td><td>0         </td><td>0         </td><td>0         </td><td>0         </td><td>0         </td><td>0         </td><td>85        </td><td>0         </td><td>0         </td><td>0         </td><td>0         </td><td>0         </td><td>0         </td></tr>\n",
       "\t<tr><th scope=row>115</th><td>Vertebrata</td><td>Ile       </td><td>0         </td><td>0         </td><td>0         </td><td>0         </td><td>68        </td><td>0         </td><td>0         </td><td>0         </td><td>0         </td><td>0         </td><td>1         </td><td>151       </td><td>0         </td><td>1         </td><td>0         </td><td>4         </td><td>0         </td><td>0         </td></tr>\n",
       "\t<tr><th scope=row>116</th><td>Vertebrata</td><td>iMet      </td><td>0         </td><td>0         </td><td>0         </td><td>0         </td><td>0         </td><td>0         </td><td>0         </td><td>0         </td><td>0         </td><td>0         </td><td>0         </td><td>71        </td><td>0         </td><td>0         </td><td>0         </td><td>0         </td><td>0         </td><td>0         </td></tr>\n",
       "\t<tr><th scope=row>117</th><td>Vertebrata</td><td>Leu       </td><td>0         </td><td>0         </td><td>2         </td><td>0         </td><td>1         </td><td>0         </td><td>0         </td><td>0         </td><td>0         </td><td>0         </td><td>0         </td><td>452       </td><td>0         </td><td>2         </td><td>0         </td><td>2         </td><td>0         </td><td>0         </td></tr>\n",
       "\t<tr><th scope=row>118</th><td>Vertebrata</td><td>Lys       </td><td>0         </td><td>0         </td><td>0         </td><td>0         </td><td>0         </td><td>0         </td><td>2         </td><td>0         </td><td>0         </td><td>0         </td><td>1         </td><td>305       </td><td>2         </td><td>4         </td><td>0         </td><td>0         </td><td>0         </td><td>1         </td></tr>\n",
       "\t<tr><th scope=row>119</th><td>Vertebrata</td><td>Met       </td><td>0         </td><td>0         </td><td>0         </td><td>0         </td><td>143       </td><td>0         </td><td>0         </td><td>0         </td><td>0         </td><td>0         </td><td>0         </td><td>0         </td><td>0         </td><td>1         </td><td>0         </td><td>0         </td><td>0         </td><td>0         </td></tr>\n",
       "\t<tr><th scope=row>120</th><td>Vertebrata</td><td>Phe       </td><td>0         </td><td>0         </td><td>1         </td><td>0         </td><td>3         </td><td>0         </td><td>0         </td><td>0         </td><td>1         </td><td>0         </td><td>4         </td><td>156       </td><td>0         </td><td>28        </td><td>0         </td><td>1         </td><td>0         </td><td>0         </td></tr>\n",
       "\t<tr><th scope=row>121</th><td>Vertebrata</td><td>Pro       </td><td>0         </td><td>0         </td><td>1         </td><td>0         </td><td>0         </td><td>0         </td><td>0         </td><td>0         </td><td>0         </td><td>0         </td><td>3         </td><td>179       </td><td>0         </td><td>2         </td><td>0         </td><td>0         </td><td>0         </td><td>0         </td></tr>\n",
       "\t<tr><th scope=row>122</th><td>Vertebrata</td><td>Ser       </td><td>0         </td><td>0         </td><td>2         </td><td>0         </td><td>0         </td><td>0         </td><td>0         </td><td>0         </td><td>0         </td><td>0         </td><td>2         </td><td>409       </td><td>0         </td><td>5         </td><td>0         </td><td>0         </td><td>0         </td><td>0         </td></tr>\n",
       "\t<tr><th scope=row>123</th><td>Vertebrata</td><td>Thr       </td><td>0         </td><td>0         </td><td>2         </td><td>0         </td><td>102       </td><td>0         </td><td>1         </td><td>0         </td><td>0         </td><td>0         </td><td>0         </td><td>266       </td><td>1         </td><td>4         </td><td>0         </td><td>0         </td><td>0         </td><td>0         </td></tr>\n",
       "\t<tr><th scope=row>124</th><td>Vertebrata</td><td>Trp       </td><td>0         </td><td>0         </td><td>0         </td><td>0         </td><td>0         </td><td>0         </td><td>0         </td><td>0         </td><td>0         </td><td>0         </td><td>0         </td><td>0         </td><td>0         </td><td>0         </td><td>135       </td><td>1         </td><td>1         </td><td>0         </td></tr>\n",
       "\t<tr><th scope=row>125</th><td>Vertebrata</td><td>Tyr       </td><td>0         </td><td>0         </td><td>0         </td><td>0         </td><td>0         </td><td>0         </td><td>0         </td><td>0         </td><td>0         </td><td>0         </td><td>0         </td><td>177       </td><td>0         </td><td>9         </td><td>0         </td><td>1         </td><td>0         </td><td>0         </td></tr>\n",
       "\t<tr><th scope=row>126</th><td>Vertebrata</td><td>Val       </td><td>0         </td><td>0         </td><td>4         </td><td>0         </td><td>26        </td><td>0         </td><td>1         </td><td>0         </td><td>0         </td><td>1         </td><td>1         </td><td>259       </td><td>0         </td><td>4         </td><td>1         </td><td>4         </td><td>0         </td><td>0         </td></tr>\n",
       "</tbody>\n",
       "</table>\n"
      ],
      "text/latex": [
       "\\begin{tabular}{r|llllllllllllllllllll}\n",
       "  & clade & isotype & -:C & A:A & A:C & A:G & A:U & C:A & C:C & C:G & C:U & G:- & G:A & G:C & G:G & G:U & U:A & U:C & U:G & U:U\\\\\n",
       "\\hline\n",
       "\t1 & Fungi & Ala   & 0     & 0     & 1     & 0     & 18    & 0     & 0     & 21    & 0     & 0     & 0     & 248   & 0     & 0     & 7     & 0     & 3     & 0    \\\\\n",
       "\t2 & Fungi & Arg   & 0     & 0     & 4     & 0     & 29    & 0     & 0     & 9     & 0     & 0     & 0     & 400   & 0     & 0     & 3     & 0     & 1     & 0    \\\\\n",
       "\t3 & Fungi & Asn   & 0     & 0     & 0     & 0     & 128   & 0     & 0     & 0     & 0     & 0     & 0     & 21    & 0     & 0     & 0     & 0     & 0     & 0    \\\\\n",
       "\t4 & Fungi & Asp   & 0     & 0     & 0     & 0     & 9     & 0     & 0     & 0     & 0     & 0     & 0     & 96    & 0     & 0     & 0     & 0     & 0     & 0    \\\\\n",
       "\t5 & Fungi & Cys   & 0     & 0     & 2     & 0     & 34    & 0     & 0     & 15    & 0     & 0     & 0     & 38    & 0     & 0     & 28    & 0     & 0     & 0    \\\\\n",
       "\t6 & Fungi & Gln   & 0     & 0     & 12    & 0     & 15    & 0     & 0     & 0     & 0     & 0     & 0     & 212   & 0     & 0     & 0     & 0     & 0     & 0    \\\\\n",
       "\t7 & Fungi & Glu   & 0     & 0     & 0     & 0     & 6     & 0     & 0     & 0     & 0     & 0     & 0     & 235   & 0     & 0     & 0     & 0     & 0     & 0    \\\\\n",
       "\t8 & Fungi & Gly   & 0     & 0     & 1     & 0     & 9     & 0     & 0     & 21    & 0     & 0     & 0     & 214   & 0     & 22    & 13    & 1     & 0     & 0    \\\\\n",
       "\t9 & Fungi & His   & 0     & 0     & 4     & 0     & 40    & 0     & 0     & 2     & 0     & 0     & 0     & 52    & 0     & 21    & 16    & 1     & 0     & 1    \\\\\n",
       "\t10 & Fungi & Ile   & 0     & 0     & 0     & 0     & 71    & 0     & 0     & 0     & 0     & 0     & 0     & 119   & 0     & 0     & 0     & 0     & 0     & 0    \\\\\n",
       "\t11 & Fungi & iMet  & 0     & 0     & 0     & 0     & 4     & 0     & 0     & 12    & 0     & 0     & 0     & 64    & 0     & 1     & 2     & 0     & 0     & 0    \\\\\n",
       "\t12 & Fungi & Leu   & 0     & 0     & 0     & 0     & 220   & 0     & 0     & 8     & 0     & 0     & 0     & 229   & 0     & 1     & 1     & 0     & 0     & 0    \\\\\n",
       "\t13 & Fungi & Lys   & 0     & 0     & 0     & 0     & 29    & 0     & 0     & 0     & 0     & 0     & 0     & 200   & 0     & 0     & 0     & 0     & 0     & 0    \\\\\n",
       "\t14 & Fungi & Met   & 0     & 0     & 0     & 0     & 105   & 0     & 0     & 0     & 0     & 0     & 0     & 13    & 0     & 2     & 0     & 0     & 0     & 1    \\\\\n",
       "\t15 & Fungi & Phe   & 0     & 0     & 0     & 0     & 13    & 0     & 0     & 0     & 0     & 0     & 0     & 32    & 0     & 0     & 103   & 0     & 0     & 0    \\\\\n",
       "\t16 & Fungi & Pro   & 0     & 0     & 0     & 0     & 6     & 0     & 0     & 24    & 0     & 0     & 0     & 199   & 0     & 0     & 0     & 0     & 0     & 0    \\\\\n",
       "\t17 & Fungi & Ser   & 0     & 0     & 3     & 0     & 23    & 0     & 0     & 4     & 0     & 0     & 0     & 317   & 0     & 0     & 52    & 3     & 0     & 0    \\\\\n",
       "\t18 & Fungi & Thr   & 0     & 0     & 0     & 0     & 127   & 0     & 0     & 44    & 0     & 0     & 0     & 145   & 0     & 0     & 13    & 0     & 0     & 0    \\\\\n",
       "\t19 & Fungi & Trp   & 0     & 0     & 0     & 0     & 1     & 0     & 0     & 34    & 0     & 0     & 0     & 78    & 0     & 0     & 1     & 0     & 0     & 0    \\\\\n",
       "\t20 & Fungi & Tyr   & 0     & 0     & 0     & 0     & 2     & 0     & 0     & 44    & 0     & 0     & 0     & 38    & 0     & 0     & 46    & 0     & 0     & 0    \\\\\n",
       "\t21 & Fungi & Val   & 0     & 0     & 0     & 0     & 189   & 0     & 0     & 0     & 0     & 0     & 0     & 146   & 0     & 1     & 1     & 0     & 0     & 0    \\\\\n",
       "\t22 & Insecta & Ala     & 0       & 0       & 1       & 0       & 2       & 0       & 0       & 0       & 0       & 0       & 0       & 89      & 0       & 0       & 0       & 0       & 0       & 1      \\\\\n",
       "\t23 & Insecta & Arg     & 0       & 0       & 0       & 0       & 0       & 0       & 0       & 0       & 0       & 0       & 0       & 162     & 0       & 0       & 0       & 0       & 0       & 0      \\\\\n",
       "\t24 & Insecta & Asn     & 0       & 0       & 0       & 0       & 0       & 0       & 0       & 0       & 0       & 0       & 0       & 32      & 0       & 0       & 0       & 0       & 0       & 0      \\\\\n",
       "\t25 & Insecta & Asp     & 0       & 0       & 0       & 0       & 0       & 0       & 0       & 0       & 0       & 0       & 0       & 34      & 0       & 1       & 0       & 1       & 0       & 0      \\\\\n",
       "\t26 & Insecta & Cys     & 0       & 0       & 0       & 0       & 1       & 0       & 0       & 0       & 0       & 0       & 0       & 52      & 0       & 0       & 0       & 0       & 0       & 0      \\\\\n",
       "\t27 & Insecta & Gln     & 0       & 0       & 0       & 0       & 89      & 0       & 0       & 0       & 0       & 0       & 0       & 0       & 0       & 0       & 0       & 0       & 0       & 0      \\\\\n",
       "\t28 & Insecta & Glu     & 0       & 0       & 0       & 0       & 0       & 0       & 0       & 0       & 0       & 0       & 0       & 75      & 0       & 0       & 0       & 0       & 0       & 0      \\\\\n",
       "\t29 & Insecta & Gly     & 0       & 0       & 1       & 0       & 8       & 0       & 0       & 0       & 0       & 0       & 0       & 78      & 0       & 0       & 0       & 0       & 0       & 0      \\\\\n",
       "\t30 & Insecta & His     & 0       & 0       & 0       & 0       & 0       & 0       & 0       & 0       & 0       & 0       & 0       & 22      & 0       & 1       & 0       & 0       & 0       & 0      \\\\\n",
       "\t⋮ & ⋮ & ⋮ & ⋮ & ⋮ & ⋮ & ⋮ & ⋮ & ⋮ & ⋮ & ⋮ & ⋮ & ⋮ & ⋮ & ⋮ & ⋮ & ⋮ & ⋮ & ⋮ & ⋮ & ⋮\\\\\n",
       "\t97 & Spermatophyta & Lys           & 0             & 0             & 0             & 0             & 0             & 0             & 0             & 0             & 0             & 0             & 0             & 220           & 0             & 2             & 0             & 1             & 0             & 0            \\\\\n",
       "\t98 & Spermatophyta & Met           & 0             & 0             & 0             & 0             & 72            & 0             & 0             & 0             & 0             & 0             & 0             & 21            & 0             & 1             & 0             & 0             & 0             & 0            \\\\\n",
       "\t99 & Spermatophyta & Phe           & 0             & 0             & 0             & 0             & 9             & 0             & 0             & 0             & 0             & 0             & 0             & 1             & 0             & 0             & 75            & 0             & 1             & 2            \\\\\n",
       "\t100 & Spermatophyta & Pro           & 0             & 0             & 2             & 1             & 172           & 0             & 0             & 0             & 0             & 0             & 0             & 6             & 0             & 0             & 0             & 0             & 0             & 0            \\\\\n",
       "\t101 & Spermatophyta & Ser           & 0             & 0             & 1             & 0             & 76            & 0             & 0             & 0             & 0             & 0             & 2             & 238           & 0             & 2             & 0             & 1             & 0             & 0            \\\\\n",
       "\t102 & Spermatophyta & Thr           & 0             & 1             & 1             & 0             & 217           & 0             & 0             & 0             & 0             & 0             & 0             & 29            & 0             & 0             & 0             & 1             & 0             & 0            \\\\\n",
       "\t103 & Spermatophyta & Trp           & 0             & 0             & 0             & 0             & 0             & 0             & 0             & 0             & 0             & 0             & 0             & 15            & 0             & 0             & 53            & 0             & 0             & 2            \\\\\n",
       "\t104 & Spermatophyta & Tyr           & 0             & 0             & 0             & 0             & 1             & 0             & 0             & 0             & 0             & 0             & 0             & 140           & 0             & 1             & 0             & 0             & 0             & 0            \\\\\n",
       "\t105 & Spermatophyta & Val           & 0             & 0             & 2             & 0             & 86            & 0             & 2             & 0             & 1             & 0             & 1             & 114           & 0             & 3             & 1             & 1             & 0             & 1            \\\\\n",
       "\t106 & Vertebrata & Ala        & 0          & 0          & 3          & 0          & 0          & 0          & 1          & 0          & 0          & 1          & 0          & 298        & 0          & 2          & 0          & 1          & 0          & 0         \\\\\n",
       "\t107 & Vertebrata & Arg        & 0          & 0          & 0          & 0          & 0          & 0          & 1          & 0          & 0          & 0          & 0          & 371        & 0          & 0          & 0          & 0          & 0          & 0         \\\\\n",
       "\t108 & Vertebrata & Asn        & 0          & 0          & 0          & 0          & 0          & 0          & 2          & 0          & 0          & 0          & 0          & 184        & 0          & 1          & 0          & 1          & 0          & 0         \\\\\n",
       "\t109 & Vertebrata & Asp        & 0          & 0          & 1          & 0          & 0          & 0          & 0          & 0          & 0          & 0          & 0          & 73         & 0          & 1          & 0          & 0          & 0          & 0         \\\\\n",
       "\t110 & Vertebrata & Cys        & 0          & 0          & 3          & 2          & 72         & 0          & 0          & 0          & 0          & 0          & 0          & 109        & 0          & 7          & 0          & 0          & 0          & 1         \\\\\n",
       "\t111 & Vertebrata & Gln        & 0          & 0          & 0          & 0          & 214        & 0          & 0          & 0          & 2          & 0          & 0          & 0          & 0          & 0          & 0          & 0          & 0          & 0         \\\\\n",
       "\t112 & Vertebrata & Glu        & 0          & 0          & 2          & 0          & 0          & 0          & 0          & 0          & 0          & 0          & 1          & 271        & 0          & 1          & 0          & 2          & 0          & 0         \\\\\n",
       "\t113 & Vertebrata & Gly        & 0          & 0          & 3          & 0          & 0          & 0          & 0          & 0          & 0          & 0          & 0          & 256        & 0          & 2          & 1          & 0          & 0          & 0         \\\\\n",
       "\t114 & Vertebrata & His        & 0          & 0          & 0          & 0          & 0          & 0          & 0          & 0          & 0          & 0          & 0          & 85         & 0          & 0          & 0          & 0          & 0          & 0         \\\\\n",
       "\t115 & Vertebrata & Ile        & 0          & 0          & 0          & 0          & 68         & 0          & 0          & 0          & 0          & 0          & 1          & 151        & 0          & 1          & 0          & 4          & 0          & 0         \\\\\n",
       "\t116 & Vertebrata & iMet       & 0          & 0          & 0          & 0          & 0          & 0          & 0          & 0          & 0          & 0          & 0          & 71         & 0          & 0          & 0          & 0          & 0          & 0         \\\\\n",
       "\t117 & Vertebrata & Leu        & 0          & 0          & 2          & 0          & 1          & 0          & 0          & 0          & 0          & 0          & 0          & 452        & 0          & 2          & 0          & 2          & 0          & 0         \\\\\n",
       "\t118 & Vertebrata & Lys        & 0          & 0          & 0          & 0          & 0          & 0          & 2          & 0          & 0          & 0          & 1          & 305        & 2          & 4          & 0          & 0          & 0          & 1         \\\\\n",
       "\t119 & Vertebrata & Met        & 0          & 0          & 0          & 0          & 143        & 0          & 0          & 0          & 0          & 0          & 0          & 0          & 0          & 1          & 0          & 0          & 0          & 0         \\\\\n",
       "\t120 & Vertebrata & Phe        & 0          & 0          & 1          & 0          & 3          & 0          & 0          & 0          & 1          & 0          & 4          & 156        & 0          & 28         & 0          & 1          & 0          & 0         \\\\\n",
       "\t121 & Vertebrata & Pro        & 0          & 0          & 1          & 0          & 0          & 0          & 0          & 0          & 0          & 0          & 3          & 179        & 0          & 2          & 0          & 0          & 0          & 0         \\\\\n",
       "\t122 & Vertebrata & Ser        & 0          & 0          & 2          & 0          & 0          & 0          & 0          & 0          & 0          & 0          & 2          & 409        & 0          & 5          & 0          & 0          & 0          & 0         \\\\\n",
       "\t123 & Vertebrata & Thr        & 0          & 0          & 2          & 0          & 102        & 0          & 1          & 0          & 0          & 0          & 0          & 266        & 1          & 4          & 0          & 0          & 0          & 0         \\\\\n",
       "\t124 & Vertebrata & Trp        & 0          & 0          & 0          & 0          & 0          & 0          & 0          & 0          & 0          & 0          & 0          & 0          & 0          & 0          & 135        & 1          & 1          & 0         \\\\\n",
       "\t125 & Vertebrata & Tyr        & 0          & 0          & 0          & 0          & 0          & 0          & 0          & 0          & 0          & 0          & 0          & 177        & 0          & 9          & 0          & 1          & 0          & 0         \\\\\n",
       "\t126 & Vertebrata & Val        & 0          & 0          & 4          & 0          & 26         & 0          & 1          & 0          & 0          & 1          & 1          & 259        & 0          & 4          & 1          & 4          & 0          & 0         \\\\\n",
       "\\end{tabular}\n"
      ],
      "text/plain": [
       "            clade isotype -:C A:A A:C A:G A:U C:A C:C C:G C:U G:- G:A G:C G:G\n",
       "1           Fungi     Ala   0   0   1   0  18   0   0  21   0   0   0 248   0\n",
       "2           Fungi     Arg   0   0   4   0  29   0   0   9   0   0   0 400   0\n",
       "3           Fungi     Asn   0   0   0   0 128   0   0   0   0   0   0  21   0\n",
       "4           Fungi     Asp   0   0   0   0   9   0   0   0   0   0   0  96   0\n",
       "5           Fungi     Cys   0   0   2   0  34   0   0  15   0   0   0  38   0\n",
       "6           Fungi     Gln   0   0  12   0  15   0   0   0   0   0   0 212   0\n",
       "7           Fungi     Glu   0   0   0   0   6   0   0   0   0   0   0 235   0\n",
       "8           Fungi     Gly   0   0   1   0   9   0   0  21   0   0   0 214   0\n",
       "9           Fungi     His   0   0   4   0  40   0   0   2   0   0   0  52   0\n",
       "10          Fungi     Ile   0   0   0   0  71   0   0   0   0   0   0 119   0\n",
       "11          Fungi    iMet   0   0   0   0   4   0   0  12   0   0   0  64   0\n",
       "12          Fungi     Leu   0   0   0   0 220   0   0   8   0   0   0 229   0\n",
       "13          Fungi     Lys   0   0   0   0  29   0   0   0   0   0   0 200   0\n",
       "14          Fungi     Met   0   0   0   0 105   0   0   0   0   0   0  13   0\n",
       "15          Fungi     Phe   0   0   0   0  13   0   0   0   0   0   0  32   0\n",
       "16          Fungi     Pro   0   0   0   0   6   0   0  24   0   0   0 199   0\n",
       "17          Fungi     Ser   0   0   3   0  23   0   0   4   0   0   0 317   0\n",
       "18          Fungi     Thr   0   0   0   0 127   0   0  44   0   0   0 145   0\n",
       "19          Fungi     Trp   0   0   0   0   1   0   0  34   0   0   0  78   0\n",
       "20          Fungi     Tyr   0   0   0   0   2   0   0  44   0   0   0  38   0\n",
       "21          Fungi     Val   0   0   0   0 189   0   0   0   0   0   0 146   0\n",
       "22        Insecta     Ala   0   0   1   0   2   0   0   0   0   0   0  89   0\n",
       "23        Insecta     Arg   0   0   0   0   0   0   0   0   0   0   0 162   0\n",
       "24        Insecta     Asn   0   0   0   0   0   0   0   0   0   0   0  32   0\n",
       "25        Insecta     Asp   0   0   0   0   0   0   0   0   0   0   0  34   0\n",
       "26        Insecta     Cys   0   0   0   0   1   0   0   0   0   0   0  52   0\n",
       "27        Insecta     Gln   0   0   0   0  89   0   0   0   0   0   0   0   0\n",
       "28        Insecta     Glu   0   0   0   0   0   0   0   0   0   0   0  75   0\n",
       "29        Insecta     Gly   0   0   1   0   8   0   0   0   0   0   0  78   0\n",
       "30        Insecta     His   0   0   0   0   0   0   0   0   0   0   0  22   0\n",
       "⋮               ⋮       ⋮   ⋮   ⋮   ⋮   ⋮   ⋮   ⋮   ⋮   ⋮   ⋮   ⋮   ⋮   ⋮   ⋮\n",
       "97  Spermatophyta     Lys   0   0   0   0   0   0   0   0   0   0   0 220   0\n",
       "98  Spermatophyta     Met   0   0   0   0  72   0   0   0   0   0   0  21   0\n",
       "99  Spermatophyta     Phe   0   0   0   0   9   0   0   0   0   0   0   1   0\n",
       "100 Spermatophyta     Pro   0   0   2   1 172   0   0   0   0   0   0   6   0\n",
       "101 Spermatophyta     Ser   0   0   1   0  76   0   0   0   0   0   2 238   0\n",
       "102 Spermatophyta     Thr   0   1   1   0 217   0   0   0   0   0   0  29   0\n",
       "103 Spermatophyta     Trp   0   0   0   0   0   0   0   0   0   0   0  15   0\n",
       "104 Spermatophyta     Tyr   0   0   0   0   1   0   0   0   0   0   0 140   0\n",
       "105 Spermatophyta     Val   0   0   2   0  86   0   2   0   1   0   1 114   0\n",
       "106    Vertebrata     Ala   0   0   3   0   0   0   1   0   0   1   0 298   0\n",
       "107    Vertebrata     Arg   0   0   0   0   0   0   1   0   0   0   0 371   0\n",
       "108    Vertebrata     Asn   0   0   0   0   0   0   2   0   0   0   0 184   0\n",
       "109    Vertebrata     Asp   0   0   1   0   0   0   0   0   0   0   0  73   0\n",
       "110    Vertebrata     Cys   0   0   3   2  72   0   0   0   0   0   0 109   0\n",
       "111    Vertebrata     Gln   0   0   0   0 214   0   0   0   2   0   0   0   0\n",
       "112    Vertebrata     Glu   0   0   2   0   0   0   0   0   0   0   1 271   0\n",
       "113    Vertebrata     Gly   0   0   3   0   0   0   0   0   0   0   0 256   0\n",
       "114    Vertebrata     His   0   0   0   0   0   0   0   0   0   0   0  85   0\n",
       "115    Vertebrata     Ile   0   0   0   0  68   0   0   0   0   0   1 151   0\n",
       "116    Vertebrata    iMet   0   0   0   0   0   0   0   0   0   0   0  71   0\n",
       "117    Vertebrata     Leu   0   0   2   0   1   0   0   0   0   0   0 452   0\n",
       "118    Vertebrata     Lys   0   0   0   0   0   0   2   0   0   0   1 305   2\n",
       "119    Vertebrata     Met   0   0   0   0 143   0   0   0   0   0   0   0   0\n",
       "120    Vertebrata     Phe   0   0   1   0   3   0   0   0   1   0   4 156   0\n",
       "121    Vertebrata     Pro   0   0   1   0   0   0   0   0   0   0   3 179   0\n",
       "122    Vertebrata     Ser   0   0   2   0   0   0   0   0   0   0   2 409   0\n",
       "123    Vertebrata     Thr   0   0   2   0 102   0   1   0   0   0   0 266   1\n",
       "124    Vertebrata     Trp   0   0   0   0   0   0   0   0   0   0   0   0   0\n",
       "125    Vertebrata     Tyr   0   0   0   0   0   0   0   0   0   0   0 177   0\n",
       "126    Vertebrata     Val   0   0   4   0  26   0   1   0   0   1   1 259   0\n",
       "    G:U U:A U:C U:G U:U\n",
       "1     0   7   0   3   0\n",
       "2     0   3   0   1   0\n",
       "3     0   0   0   0   0\n",
       "4     0   0   0   0   0\n",
       "5     0  28   0   0   0\n",
       "6     0   0   0   0   0\n",
       "7     0   0   0   0   0\n",
       "8    22  13   1   0   0\n",
       "9    21  16   1   0   1\n",
       "10    0   0   0   0   0\n",
       "11    1   2   0   0   0\n",
       "12    1   1   0   0   0\n",
       "13    0   0   0   0   0\n",
       "14    2   0   0   0   1\n",
       "15    0 103   0   0   0\n",
       "16    0   0   0   0   0\n",
       "17    0  52   3   0   0\n",
       "18    0  13   0   0   0\n",
       "19    0   1   0   0   0\n",
       "20    0  46   0   0   0\n",
       "21    1   1   0   0   0\n",
       "22    0   0   0   0   1\n",
       "23    0   0   0   0   0\n",
       "24    0   0   0   0   0\n",
       "25    1   0   1   0   0\n",
       "26    0   0   0   0   0\n",
       "27    0   0   0   0   0\n",
       "28    0   0   0   0   0\n",
       "29    0   0   0   0   0\n",
       "30    1   0   0   0   0\n",
       "⋮     ⋮   ⋮   ⋮   ⋮   ⋮\n",
       "97    2   0   1   0   0\n",
       "98    1   0   0   0   0\n",
       "99    0  75   0   1   2\n",
       "100   0   0   0   0   0\n",
       "101   2   0   1   0   0\n",
       "102   0   0   1   0   0\n",
       "103   0  53   0   0   2\n",
       "104   1   0   0   0   0\n",
       "105   3   1   1   0   1\n",
       "106   2   0   1   0   0\n",
       "107   0   0   0   0   0\n",
       "108   1   0   1   0   0\n",
       "109   1   0   0   0   0\n",
       "110   7   0   0   0   1\n",
       "111   0   0   0   0   0\n",
       "112   1   0   2   0   0\n",
       "113   2   1   0   0   0\n",
       "114   0   0   0   0   0\n",
       "115   1   0   4   0   0\n",
       "116   0   0   0   0   0\n",
       "117   2   0   2   0   0\n",
       "118   4   0   0   0   1\n",
       "119   1   0   0   0   0\n",
       "120  28   0   1   0   0\n",
       "121   2   0   0   0   0\n",
       "122   5   0   0   0   0\n",
       "123   4   0   0   0   0\n",
       "124   0 135   1   1   0\n",
       "125   9   0   1   0   0\n",
       "126   4   1   4   0   0"
      ]
     },
     "metadata": {},
     "output_type": "display_data"
    },
    {
     "data": {
      "text/html": [
       "<table>\n",
       "<thead><tr><th></th><th scope=col>clade</th><th scope=col>species</th><th scope=col>-:C</th><th scope=col>A:A</th><th scope=col>A:C</th><th scope=col>A:G</th><th scope=col>A:U</th><th scope=col>C:A</th><th scope=col>C:C</th><th scope=col>C:G</th><th scope=col>C:U</th><th scope=col>G:-</th><th scope=col>G:A</th><th scope=col>G:C</th><th scope=col>G:G</th><th scope=col>G:U</th><th scope=col>U:A</th><th scope=col>U:C</th><th scope=col>U:G</th><th scope=col>U:U</th></tr></thead>\n",
       "<tbody>\n",
       "\t<tr><th scope=row>1</th><td>Fungi             </td><td>ashbGoss_ATCC10895</td><td>0                 </td><td>0                 </td><td>1                 </td><td>0                 </td><td>18                </td><td>0                 </td><td>0                 </td><td>0                 </td><td>0                 </td><td>0                 </td><td>0                 </td><td>47                </td><td>0                 </td><td>3                 </td><td>4                 </td><td>0                 </td><td>0                 </td><td>0                 </td></tr>\n",
       "\t<tr><th scope=row>2</th><td>Fungi         </td><td>aspeFumi_AF293</td><td>0             </td><td>0             </td><td>1             </td><td>0             </td><td>11            </td><td>0             </td><td>0             </td><td>9             </td><td>0             </td><td>0             </td><td>0             </td><td>57            </td><td>0             </td><td>0             </td><td>4             </td><td>0             </td><td>0             </td><td>0             </td></tr>\n",
       "\t<tr><th scope=row>3</th><td>Fungi           </td><td>aspeNidu_FGSC_A4</td><td>0               </td><td>0               </td><td>0               </td><td>0               </td><td>15              </td><td>0               </td><td>0               </td><td>12              </td><td>0               </td><td>0               </td><td>0               </td><td>54              </td><td>0               </td><td>0               </td><td>2               </td><td>0               </td><td>1               </td><td>0               </td></tr>\n",
       "\t<tr><th scope=row>4</th><td>Fungi          </td><td>botrCine_B05_10</td><td>0              </td><td>0              </td><td>0              </td><td>0              </td><td>9              </td><td>0              </td><td>0              </td><td>7              </td><td>0              </td><td>0              </td><td>0              </td><td>71             </td><td>0              </td><td>0              </td><td>14             </td><td>0              </td><td>0              </td><td>0              </td></tr>\n",
       "\t<tr><th scope=row>5</th><td>Fungi           </td><td>candGlab_CBS_138</td><td>0               </td><td>0               </td><td>0               </td><td>0               </td><td>14              </td><td>0               </td><td>0               </td><td>1               </td><td>0               </td><td>0               </td><td>0               </td><td>29              </td><td>0               </td><td>3               </td><td>1               </td><td>0               </td><td>0               </td><td>0               </td></tr>\n",
       "\t<tr><th scope=row>6</th><td>Fungi                         </td><td>chaeTher_VAR_THERMOPHILUM_DSM1</td><td>0                             </td><td>0                             </td><td>0                             </td><td>0                             </td><td>40                            </td><td>0                             </td><td>0                             </td><td>19                            </td><td>0                             </td><td>0                             </td><td>0                             </td><td>91                            </td><td>0                             </td><td>0                             </td><td>5                             </td><td>0                             </td><td>0                             </td><td>0                             </td></tr>\n",
       "\t<tr><th scope=row>7</th><td>Fungi         </td><td>crypGatt_WM276</td><td>0             </td><td>0             </td><td>0             </td><td>0             </td><td>10            </td><td>0             </td><td>0             </td><td>7             </td><td>0             </td><td>0             </td><td>0             </td><td>45            </td><td>0             </td><td>0             </td><td>3             </td><td>0             </td><td>0             </td><td>0             </td></tr>\n",
       "\t<tr><th scope=row>8</th><td>Fungi                  </td><td>crypNeof_VAR_GRUBII_H99</td><td>0                      </td><td>0                      </td><td>0                      </td><td>0                      </td><td>11                     </td><td>0                      </td><td>0                      </td><td>8                      </td><td>0                      </td><td>0                      </td><td>0                      </td><td>47                     </td><td>0                      </td><td>0                      </td><td>4                      </td><td>0                      </td><td>0                      </td><td>0                      </td></tr>\n",
       "\t<tr><th scope=row>9</th><td>Fungi                         </td><td>crypNeof_VAR_NEOFORMANS_B_3501</td><td>0                             </td><td>0                             </td><td>0                             </td><td>0                             </td><td>10                            </td><td>0                             </td><td>0                             </td><td>7                             </td><td>0                             </td><td>0                             </td><td>0                             </td><td>48                            </td><td>0                             </td><td>0                             </td><td>4                             </td><td>0                             </td><td>0                             </td><td>0                             </td></tr>\n",
       "\t<tr><th scope=row>10</th><td>Fungi                        </td><td>crypNeof_VAR_NEOFORMANS_JEC21</td><td>0                            </td><td>0                            </td><td>0                            </td><td>0                            </td><td>10                           </td><td>0                            </td><td>0                            </td><td>7                            </td><td>0                            </td><td>0                            </td><td>0                            </td><td>47                           </td><td>0                            </td><td>0                            </td><td>4                            </td><td>0                            </td><td>0                            </td><td>0                            </td></tr>\n",
       "\t<tr><th scope=row>11</th><td>Fungi              </td><td>eremCymb_DBVPG#7215</td><td>0                  </td><td>0                  </td><td>1                  </td><td>0                  </td><td>15                 </td><td>0                  </td><td>0                  </td><td>0                  </td><td>0                  </td><td>0                  </td><td>0                  </td><td>39                 </td><td>0                  </td><td>4                  </td><td>5                  </td><td>0                  </td><td>0                  </td><td>0                  </td></tr>\n",
       "\t<tr><th scope=row>12</th><td>Fungi             </td><td>flamVelu_KACC42780</td><td>0                 </td><td>0                 </td><td>0                 </td><td>0                 </td><td>41                </td><td>0                 </td><td>0                 </td><td>13                </td><td>0                 </td><td>0                 </td><td>0                 </td><td>75                </td><td>0                 </td><td>0                 </td><td>9                 </td><td>0                 </td><td>0                 </td><td>0                 </td></tr>\n",
       "\t<tr><th scope=row>13</th><td>Fungi          </td><td>fusaGram_CS3005</td><td>0              </td><td>0              </td><td>1              </td><td>0              </td><td>14             </td><td>0              </td><td>0              </td><td>3              </td><td>0              </td><td>0              </td><td>0              </td><td>76             </td><td>0              </td><td>0              </td><td>16             </td><td>0              </td><td>0              </td><td>0              </td></tr>\n",
       "\t<tr><th scope=row>14</th><td>Fungi                   </td><td>fusaGram_PH_1_NRRL_31084</td><td>0                       </td><td>0                       </td><td>1                       </td><td>0                       </td><td>16                      </td><td>0                       </td><td>0                       </td><td>3                       </td><td>0                       </td><td>0                       </td><td>0                       </td><td>81                      </td><td>0                       </td><td>0                       </td><td>16                      </td><td>0                       </td><td>0                       </td><td>0                       </td></tr>\n",
       "\t<tr><th scope=row>15</th><td>Fungi          </td><td>fusaPseu_CS3096</td><td>0              </td><td>0              </td><td>1              </td><td>0              </td><td>16             </td><td>0              </td><td>0              </td><td>3              </td><td>0              </td><td>0              </td><td>0              </td><td>83             </td><td>0              </td><td>1              </td><td>16             </td><td>0              </td><td>0              </td><td>0              </td></tr>\n",
       "\t<tr><th scope=row>16</th><td>Fungi          </td><td>fusaPseu_CS3270</td><td>0              </td><td>0              </td><td>1              </td><td>0              </td><td>18             </td><td>0              </td><td>0              </td><td>3              </td><td>0              </td><td>0              </td><td>0              </td><td>77             </td><td>0              </td><td>1              </td><td>15             </td><td>0              </td><td>0              </td><td>0              </td></tr>\n",
       "\t<tr><th scope=row>17</th><td>Fungi        </td><td>fusaVert_7600</td><td>0            </td><td>0            </td><td>0            </td><td>0            </td><td>16           </td><td>0            </td><td>0            </td><td>3            </td><td>0            </td><td>0            </td><td>0            </td><td>69           </td><td>0            </td><td>0            </td><td>17           </td><td>0            </td><td>0            </td><td>0            </td></tr>\n",
       "\t<tr><th scope=row>18</th><td>Fungi            </td><td>kazaAfri_CBS_2517</td><td>0                </td><td>0                </td><td>0                </td><td>0                </td><td>19               </td><td>0                </td><td>0                </td><td>1                </td><td>0                </td><td>0                </td><td>0                </td><td>35               </td><td>0                </td><td>3                </td><td>3                </td><td>0                </td><td>0                </td><td>0                </td></tr>\n",
       "\t<tr><th scope=row>19</th><td>Fungi                </td><td>lachKluy_NRRL_Y_12651</td><td>0                    </td><td>0                    </td><td>0                    </td><td>0                    </td><td>17                   </td><td>0                    </td><td>0                    </td><td>4                    </td><td>0                    </td><td>0                    </td><td>0                    </td><td>35                   </td><td>0                    </td><td>2                    </td><td>1                    </td><td>0                    </td><td>0                    </td><td>0                    </td></tr>\n",
       "\t<tr><th scope=row>20</th><td>Fungi            </td><td>lachTher_CBS_6340</td><td>0                </td><td>0                </td><td>0                </td><td>0                </td><td>18               </td><td>0                </td><td>0                </td><td>3                </td><td>0                </td><td>0                </td><td>0                </td><td>48               </td><td>0                </td><td>4                </td><td>2                </td><td>0                </td><td>0                </td><td>0                </td></tr>\n",
       "\t<tr><th scope=row>21</th><td>Fungi         </td><td>magnOryz_70_15</td><td>0             </td><td>0             </td><td>0             </td><td>0             </td><td>22            </td><td>0             </td><td>0             </td><td>4             </td><td>0             </td><td>0             </td><td>0             </td><td>72            </td><td>0             </td><td>1             </td><td>8             </td><td>0             </td><td>0             </td><td>0             </td></tr>\n",
       "\t<tr><th scope=row>22</th><td>Fungi             </td><td>myceTher_ATCC42464</td><td>0                 </td><td>0                 </td><td>0                 </td><td>0                 </td><td>34                </td><td>0                 </td><td>0                 </td><td>15                </td><td>0                 </td><td>0                 </td><td>0                 </td><td>71                </td><td>0                 </td><td>0                 </td><td>5                 </td><td>0                 </td><td>0                 </td><td>0                 </td></tr>\n",
       "\t<tr><th scope=row>23</th><td>Fungi            </td><td>naumCast_CBS_4309</td><td>0                </td><td>0                </td><td>2                </td><td>0                </td><td>18               </td><td>0                </td><td>0                </td><td>1                </td><td>0                </td><td>0                </td><td>0                </td><td>45               </td><td>0                </td><td>2                </td><td>3                </td><td>0                </td><td>0                </td><td>0                </td></tr>\n",
       "\t<tr><th scope=row>24</th><td>Fungi           </td><td>naumDair_CBS_421</td><td>0               </td><td>0               </td><td>1               </td><td>0               </td><td>19              </td><td>0               </td><td>0               </td><td>2               </td><td>0               </td><td>0               </td><td>0               </td><td>56              </td><td>0               </td><td>3               </td><td>4               </td><td>2               </td><td>0               </td><td>1               </td></tr>\n",
       "\t<tr><th scope=row>25</th><td>Fungi         </td><td>neurCras_OR74A</td><td>0             </td><td>0             </td><td>0             </td><td>0             </td><td>21            </td><td>0             </td><td>0             </td><td>11            </td><td>0             </td><td>0             </td><td>0             </td><td>88            </td><td>0             </td><td>0             </td><td>6             </td><td>0             </td><td>0             </td><td>0             </td></tr>\n",
       "\t<tr><th scope=row>26</th><td>Fungi            </td><td>peniChry_P2NIAD18</td><td>0                </td><td>0                </td><td>0                </td><td>0                </td><td>5                </td><td>0                </td><td>0                </td><td>7                </td><td>0                </td><td>0                </td><td>0                </td><td>44               </td><td>0                </td><td>0                </td><td>8                </td><td>0                </td><td>0                </td><td>0                </td></tr>\n",
       "\t<tr><th scope=row>27</th><td>Fungi  </td><td>sacCer3</td><td>0      </td><td>0      </td><td>1      </td><td>0      </td><td>12     </td><td>0      </td><td>0      </td><td>1      </td><td>0      </td><td>0      </td><td>0      </td><td>35     </td><td>0      </td><td>2      </td><td>2      </td><td>0      </td><td>0      </td><td>0      </td></tr>\n",
       "\t<tr><th scope=row>28</th><td>Fungi                       </td><td>saccSp_BOULARDII_ATCCMYA_796</td><td>0                           </td><td>0                           </td><td>1                           </td><td>0                           </td><td>15                          </td><td>0                           </td><td>0                           </td><td>1                           </td><td>0                           </td><td>0                           </td><td>0                           </td><td>41                          </td><td>0                           </td><td>2                           </td><td>3                           </td><td>0                           </td><td>0                           </td><td>0                           </td></tr>\n",
       "\t<tr><th scope=row>29</th><td>Fungi        </td><td>sporReil_SRZ2</td><td>0            </td><td>0            </td><td>0            </td><td>0            </td><td>4            </td><td>0            </td><td>0            </td><td>7            </td><td>0            </td><td>0            </td><td>0            </td><td>51           </td><td>0            </td><td>2            </td><td>7            </td><td>1            </td><td>0            </td><td>0            </td></tr>\n",
       "\t<tr><th scope=row>30</th><td>Fungi            </td><td>tetrBlat_CBS_6284</td><td>0                </td><td>0                </td><td>0                </td><td>0                </td><td>23               </td><td>0                </td><td>0                </td><td>4                </td><td>0                </td><td>0                </td><td>0                </td><td>54               </td><td>0                </td><td>3                </td><td>2                </td><td>0                </td><td>0                </td><td>0                </td></tr>\n",
       "\t<tr><th scope=row>31</th><td>Fungi            </td><td>tetrPhaf_CBS_4417</td><td>0                </td><td>0                </td><td>1                </td><td>0                </td><td>14               </td><td>0                </td><td>0                </td><td>1                </td><td>0                </td><td>0                </td><td>0                </td><td>33               </td><td>0                </td><td>3                </td><td>1                </td><td>2                </td><td>0                </td><td>0                </td></tr>\n",
       "\t<tr><th scope=row>32</th><td>Fungi             </td><td>thieTerr_NRRL_8126</td><td>0                 </td><td>0                 </td><td>0                 </td><td>0                 </td><td>24                </td><td>0                 </td><td>0                 </td><td>12                </td><td>0                 </td><td>0                 </td><td>0                 </td><td>68                </td><td>0                 </td><td>0                 </td><td>7                 </td><td>0                 </td><td>0                 </td><td>0                 </td></tr>\n",
       "\t<tr><th scope=row>33</th><td>Fungi       </td><td>ustiMayd_521</td><td>0           </td><td>0           </td><td>0           </td><td>0           </td><td>5           </td><td>0           </td><td>0           </td><td>4           </td><td>0           </td><td>0           </td><td>0           </td><td>47          </td><td>0           </td><td>0           </td><td>3           </td><td>0           </td><td>0           </td><td>0           </td></tr>\n",
       "\t<tr><th scope=row>34</th><td>Fungi        </td><td>valsMali_03_8</td><td>0            </td><td>0            </td><td>0            </td><td>0            </td><td>17           </td><td>0            </td><td>0            </td><td>2            </td><td>0            </td><td>0            </td><td>0            </td><td>74           </td><td>0            </td><td>0            </td><td>13           </td><td>0            </td><td>0            </td><td>0            </td></tr>\n",
       "\t<tr><th scope=row>35</th><td>Fungi       </td><td>vertDahl_JR2</td><td>0           </td><td>0           </td><td>1           </td><td>0           </td><td>20          </td><td>0           </td><td>0           </td><td>12          </td><td>0           </td><td>0           </td><td>0           </td><td>61          </td><td>0           </td><td>0           </td><td>2           </td><td>0           </td><td>1           </td><td>0           </td></tr>\n",
       "\t<tr><th scope=row>36</th><td>Fungi           </td><td>vertDahl_VDLS_17</td><td>0               </td><td>0               </td><td>1               </td><td>0               </td><td>20              </td><td>0               </td><td>0               </td><td>11              </td><td>0               </td><td>0               </td><td>0               </td><td>62              </td><td>0               </td><td>0               </td><td>2               </td><td>0               </td><td>2               </td><td>0               </td></tr>\n",
       "\t<tr><th scope=row>37</th><td>Mammalia</td><td>ailMel1 </td><td>0       </td><td>0       </td><td>26      </td><td>0       </td><td>26      </td><td>0       </td><td>0       </td><td>0       </td><td>0       </td><td>0       </td><td>0       </td><td>150     </td><td>0       </td><td>0       </td><td>4       </td><td>2       </td><td>0       </td><td>0       </td></tr>\n",
       "\t<tr><th scope=row>38</th><td>Mammalia</td><td>canFam3 </td><td>0       </td><td>0       </td><td>14      </td><td>0       </td><td>25      </td><td>0       </td><td>0       </td><td>0       </td><td>0       </td><td>0       </td><td>0       </td><td>152     </td><td>0       </td><td>2       </td><td>5       </td><td>0       </td><td>0       </td><td>0       </td></tr>\n",
       "\t<tr><th scope=row>39</th><td>Mammalia</td><td>felCat5 </td><td>0       </td><td>0       </td><td>16      </td><td>0       </td><td>26      </td><td>0       </td><td>0       </td><td>0       </td><td>0       </td><td>0       </td><td>0       </td><td>167     </td><td>0       </td><td>2       </td><td>6       </td><td>0       </td><td>0       </td><td>0       </td></tr>\n",
       "\t<tr><th scope=row>40</th><td>Mammalia</td><td>musFur1 </td><td>0       </td><td>0       </td><td>17      </td><td>0       </td><td>27      </td><td>0       </td><td>0       </td><td>0       </td><td>0       </td><td>0       </td><td>0       </td><td>163     </td><td>0       </td><td>0       </td><td>5       </td><td>0       </td><td>0       </td><td>0       </td></tr>\n",
       "\t<tr><th scope=row>41</th><td>Spermatophyta</td><td>braOle1      </td><td>0            </td><td>1            </td><td>2            </td><td>1            </td><td>91           </td><td>0            </td><td>1            </td><td>0            </td><td>0            </td><td>0            </td><td>2            </td><td>274          </td><td>0            </td><td>8            </td><td>30           </td><td>2            </td><td>0            </td><td>1            </td></tr>\n",
       "</tbody>\n",
       "</table>\n"
      ],
      "text/latex": [
       "\\begin{tabular}{r|llllllllllllllllllll}\n",
       "  & clade & species & -:C & A:A & A:C & A:G & A:U & C:A & C:C & C:G & C:U & G:- & G:A & G:C & G:G & G:U & U:A & U:C & U:G & U:U\\\\\n",
       "\\hline\n",
       "\t1 & Fungi                & ashbGoss\\_ATCC10895 & 0                    & 0                    & 1                    & 0                    & 18                   & 0                    & 0                    & 0                    & 0                    & 0                    & 0                    & 47                   & 0                    & 3                    & 4                    & 0                    & 0                    & 0                   \\\\\n",
       "\t2 & Fungi            & aspeFumi\\_AF293 & 0                & 0                & 1                & 0                & 11               & 0                & 0                & 9                & 0                & 0                & 0                & 57               & 0                & 0                & 4                & 0                & 0                & 0               \\\\\n",
       "\t3 & Fungi                & aspeNidu\\_FGSC\\_A4 & 0                    & 0                    & 0                    & 0                    & 15                   & 0                    & 0                    & 12                   & 0                    & 0                    & 0                    & 54                   & 0                    & 0                    & 2                    & 0                    & 1                    & 0                   \\\\\n",
       "\t4 & Fungi               & botrCine\\_B05\\_10 & 0                   & 0                   & 0                   & 0                   & 9                   & 0                   & 0                   & 7                   & 0                   & 0                   & 0                   & 71                  & 0                   & 0                   & 14                  & 0                   & 0                   & 0                  \\\\\n",
       "\t5 & Fungi                & candGlab\\_CBS\\_138 & 0                    & 0                    & 0                    & 0                    & 14                   & 0                    & 0                    & 1                    & 0                    & 0                    & 0                    & 29                   & 0                    & 3                    & 1                    & 0                    & 0                    & 0                   \\\\\n",
       "\t6 & Fungi                                & chaeTher\\_VAR\\_THERMOPHILUM\\_DSM1 & 0                                    & 0                                    & 0                                    & 0                                    & 40                                   & 0                                    & 0                                    & 19                                   & 0                                    & 0                                    & 0                                    & 91                                   & 0                                    & 0                                    & 5                                    & 0                                    & 0                                    & 0                                   \\\\\n",
       "\t7 & Fungi            & crypGatt\\_WM276 & 0                & 0                & 0                & 0                & 10               & 0                & 0                & 7                & 0                & 0                & 0                & 45               & 0                & 0                & 3                & 0                & 0                & 0               \\\\\n",
       "\t8 & Fungi                         & crypNeof\\_VAR\\_GRUBII\\_H99 & 0                             & 0                             & 0                             & 0                             & 11                            & 0                             & 0                             & 8                             & 0                             & 0                             & 0                             & 47                            & 0                             & 0                             & 4                             & 0                             & 0                             & 0                            \\\\\n",
       "\t9 & Fungi                                  & crypNeof\\_VAR\\_NEOFORMANS\\_B\\_3501 & 0                                      & 0                                      & 0                                      & 0                                      & 10                                     & 0                                      & 0                                      & 7                                      & 0                                      & 0                                      & 0                                      & 48                                     & 0                                      & 0                                      & 4                                      & 0                                      & 0                                      & 0                                     \\\\\n",
       "\t10 & Fungi                               & crypNeof\\_VAR\\_NEOFORMANS\\_JEC21 & 0                                   & 0                                   & 0                                   & 0                                   & 10                                  & 0                                   & 0                                   & 7                                   & 0                                   & 0                                   & 0                                   & 47                                  & 0                                   & 0                                   & 4                                   & 0                                   & 0                                   & 0                                  \\\\\n",
       "\t11 & Fungi                   & eremCymb\\_DBVPG\\#7215 & 0                       & 0                       & 1                       & 0                       & 15                      & 0                       & 0                       & 0                       & 0                       & 0                       & 0                       & 39                      & 0                       & 4                       & 5                       & 0                       & 0                       & 0                      \\\\\n",
       "\t12 & Fungi                & flamVelu\\_KACC42780 & 0                    & 0                    & 0                    & 0                    & 41                   & 0                    & 0                    & 13                   & 0                    & 0                    & 0                    & 75                   & 0                    & 0                    & 9                    & 0                    & 0                    & 0                   \\\\\n",
       "\t13 & Fungi             & fusaGram\\_CS3005 & 0                 & 0                 & 1                 & 0                 & 14                & 0                 & 0                 & 3                 & 0                 & 0                 & 0                 & 76                & 0                 & 0                 & 16                & 0                 & 0                 & 0                \\\\\n",
       "\t14 & Fungi                            & fusaGram\\_PH\\_1\\_NRRL\\_31084 & 0                                & 0                                & 1                                & 0                                & 16                               & 0                                & 0                                & 3                                & 0                                & 0                                & 0                                & 81                               & 0                                & 0                                & 16                               & 0                                & 0                                & 0                               \\\\\n",
       "\t15 & Fungi             & fusaPseu\\_CS3096 & 0                 & 0                 & 1                 & 0                 & 16                & 0                 & 0                 & 3                 & 0                 & 0                 & 0                 & 83                & 0                 & 1                 & 16                & 0                 & 0                 & 0                \\\\\n",
       "\t16 & Fungi             & fusaPseu\\_CS3270 & 0                 & 0                 & 1                 & 0                 & 18                & 0                 & 0                 & 3                 & 0                 & 0                 & 0                 & 77                & 0                 & 1                 & 15                & 0                 & 0                 & 0                \\\\\n",
       "\t17 & Fungi           & fusaVert\\_7600 & 0               & 0               & 0               & 0               & 16              & 0               & 0               & 3               & 0               & 0               & 0               & 69              & 0               & 0               & 17              & 0               & 0               & 0              \\\\\n",
       "\t18 & Fungi                 & kazaAfri\\_CBS\\_2517 & 0                     & 0                     & 0                     & 0                     & 19                    & 0                     & 0                     & 1                     & 0                     & 0                     & 0                     & 35                    & 0                     & 3                     & 3                     & 0                     & 0                     & 0                    \\\\\n",
       "\t19 & Fungi                       & lachKluy\\_NRRL\\_Y\\_12651 & 0                           & 0                           & 0                           & 0                           & 17                          & 0                           & 0                           & 4                           & 0                           & 0                           & 0                           & 35                          & 0                           & 2                           & 1                           & 0                           & 0                           & 0                          \\\\\n",
       "\t20 & Fungi                 & lachTher\\_CBS\\_6340 & 0                     & 0                     & 0                     & 0                     & 18                    & 0                     & 0                     & 3                     & 0                     & 0                     & 0                     & 48                    & 0                     & 4                     & 2                     & 0                     & 0                     & 0                    \\\\\n",
       "\t21 & Fungi              & magnOryz\\_70\\_15 & 0                  & 0                  & 0                  & 0                  & 22                 & 0                  & 0                  & 4                  & 0                  & 0                  & 0                  & 72                 & 0                  & 1                  & 8                  & 0                  & 0                  & 0                 \\\\\n",
       "\t22 & Fungi                & myceTher\\_ATCC42464 & 0                    & 0                    & 0                    & 0                    & 34                   & 0                    & 0                    & 15                   & 0                    & 0                    & 0                    & 71                   & 0                    & 0                    & 5                    & 0                    & 0                    & 0                   \\\\\n",
       "\t23 & Fungi                 & naumCast\\_CBS\\_4309 & 0                     & 0                     & 2                     & 0                     & 18                    & 0                     & 0                     & 1                     & 0                     & 0                     & 0                     & 45                    & 0                     & 2                     & 3                     & 0                     & 0                     & 0                    \\\\\n",
       "\t24 & Fungi                & naumDair\\_CBS\\_421 & 0                    & 0                    & 1                    & 0                    & 19                   & 0                    & 0                    & 2                    & 0                    & 0                    & 0                    & 56                   & 0                    & 3                    & 4                    & 2                    & 0                    & 1                   \\\\\n",
       "\t25 & Fungi            & neurCras\\_OR74A & 0                & 0                & 0                & 0                & 21               & 0                & 0                & 11               & 0                & 0                & 0                & 88               & 0                & 0                & 6                & 0                & 0                & 0               \\\\\n",
       "\t26 & Fungi               & peniChry\\_P2NIAD18 & 0                   & 0                   & 0                   & 0                   & 5                   & 0                   & 0                   & 7                   & 0                   & 0                   & 0                   & 44                  & 0                   & 0                   & 8                   & 0                   & 0                   & 0                  \\\\\n",
       "\t27 & Fungi   & sacCer3 & 0       & 0       & 1       & 0       & 12      & 0       & 0       & 1       & 0       & 0       & 0       & 35      & 0       & 2       & 2       & 0       & 0       & 0      \\\\\n",
       "\t28 & Fungi                              & saccSp\\_BOULARDII\\_ATCCMYA\\_796 & 0                                  & 0                                  & 1                                  & 0                                  & 15                                 & 0                                  & 0                                  & 1                                  & 0                                  & 0                                  & 0                                  & 41                                 & 0                                  & 2                                  & 3                                  & 0                                  & 0                                  & 0                                 \\\\\n",
       "\t29 & Fungi           & sporReil\\_SRZ2 & 0               & 0               & 0               & 0               & 4               & 0               & 0               & 7               & 0               & 0               & 0               & 51              & 0               & 2               & 7               & 1               & 0               & 0              \\\\\n",
       "\t30 & Fungi                 & tetrBlat\\_CBS\\_6284 & 0                     & 0                     & 0                     & 0                     & 23                    & 0                     & 0                     & 4                     & 0                     & 0                     & 0                     & 54                    & 0                     & 3                     & 2                     & 0                     & 0                     & 0                    \\\\\n",
       "\t31 & Fungi                 & tetrPhaf\\_CBS\\_4417 & 0                     & 0                     & 1                     & 0                     & 14                    & 0                     & 0                     & 1                     & 0                     & 0                     & 0                     & 33                    & 0                     & 3                     & 1                     & 2                     & 0                     & 0                    \\\\\n",
       "\t32 & Fungi                  & thieTerr\\_NRRL\\_8126 & 0                      & 0                      & 0                      & 0                      & 24                     & 0                      & 0                      & 12                     & 0                      & 0                      & 0                      & 68                     & 0                      & 0                      & 7                      & 0                      & 0                      & 0                     \\\\\n",
       "\t33 & Fungi          & ustiMayd\\_521 & 0              & 0              & 0              & 0              & 5              & 0              & 0              & 4              & 0              & 0              & 0              & 47             & 0              & 0              & 3              & 0              & 0              & 0             \\\\\n",
       "\t34 & Fungi             & valsMali\\_03\\_8 & 0                 & 0                 & 0                 & 0                 & 17                & 0                 & 0                 & 2                 & 0                 & 0                 & 0                 & 74                & 0                 & 0                 & 13                & 0                 & 0                 & 0                \\\\\n",
       "\t35 & Fungi          & vertDahl\\_JR2 & 0              & 0              & 1              & 0              & 20             & 0              & 0              & 12             & 0              & 0              & 0              & 61             & 0              & 0              & 2              & 0              & 1              & 0             \\\\\n",
       "\t36 & Fungi                & vertDahl\\_VDLS\\_17 & 0                    & 0                    & 1                    & 0                    & 20                   & 0                    & 0                    & 11                   & 0                    & 0                    & 0                    & 62                   & 0                    & 0                    & 2                    & 0                    & 2                    & 0                   \\\\\n",
       "\t37 & Mammalia & ailMel1  & 0        & 0        & 26       & 0        & 26       & 0        & 0        & 0        & 0        & 0        & 0        & 150      & 0        & 0        & 4        & 2        & 0        & 0       \\\\\n",
       "\t38 & Mammalia & canFam3  & 0        & 0        & 14       & 0        & 25       & 0        & 0        & 0        & 0        & 0        & 0        & 152      & 0        & 2        & 5        & 0        & 0        & 0       \\\\\n",
       "\t39 & Mammalia & felCat5  & 0        & 0        & 16       & 0        & 26       & 0        & 0        & 0        & 0        & 0        & 0        & 167      & 0        & 2        & 6        & 0        & 0        & 0       \\\\\n",
       "\t40 & Mammalia & musFur1  & 0        & 0        & 17       & 0        & 27       & 0        & 0        & 0        & 0        & 0        & 0        & 163      & 0        & 0        & 5        & 0        & 0        & 0       \\\\\n",
       "\t41 & Spermatophyta & braOle1       & 0             & 1             & 2             & 1             & 91            & 0             & 1             & 0             & 0             & 0             & 2             & 274           & 0             & 8             & 30            & 2             & 0             & 1            \\\\\n",
       "\\end{tabular}\n"
      ],
      "text/plain": [
       "           clade                        species -:C A:A A:C A:G A:U C:A C:C C:G\n",
       "1          Fungi             ashbGoss_ATCC10895   0   0   1   0  18   0   0   0\n",
       "2          Fungi                 aspeFumi_AF293   0   0   1   0  11   0   0   9\n",
       "3          Fungi               aspeNidu_FGSC_A4   0   0   0   0  15   0   0  12\n",
       "4          Fungi                botrCine_B05_10   0   0   0   0   9   0   0   7\n",
       "5          Fungi               candGlab_CBS_138   0   0   0   0  14   0   0   1\n",
       "6          Fungi chaeTher_VAR_THERMOPHILUM_DSM1   0   0   0   0  40   0   0  19\n",
       "7          Fungi                 crypGatt_WM276   0   0   0   0  10   0   0   7\n",
       "8          Fungi        crypNeof_VAR_GRUBII_H99   0   0   0   0  11   0   0   8\n",
       "9          Fungi crypNeof_VAR_NEOFORMANS_B_3501   0   0   0   0  10   0   0   7\n",
       "10         Fungi  crypNeof_VAR_NEOFORMANS_JEC21   0   0   0   0  10   0   0   7\n",
       "11         Fungi            eremCymb_DBVPG#7215   0   0   1   0  15   0   0   0\n",
       "12         Fungi             flamVelu_KACC42780   0   0   0   0  41   0   0  13\n",
       "13         Fungi                fusaGram_CS3005   0   0   1   0  14   0   0   3\n",
       "14         Fungi       fusaGram_PH_1_NRRL_31084   0   0   1   0  16   0   0   3\n",
       "15         Fungi                fusaPseu_CS3096   0   0   1   0  16   0   0   3\n",
       "16         Fungi                fusaPseu_CS3270   0   0   1   0  18   0   0   3\n",
       "17         Fungi                  fusaVert_7600   0   0   0   0  16   0   0   3\n",
       "18         Fungi              kazaAfri_CBS_2517   0   0   0   0  19   0   0   1\n",
       "19         Fungi          lachKluy_NRRL_Y_12651   0   0   0   0  17   0   0   4\n",
       "20         Fungi              lachTher_CBS_6340   0   0   0   0  18   0   0   3\n",
       "21         Fungi                 magnOryz_70_15   0   0   0   0  22   0   0   4\n",
       "22         Fungi             myceTher_ATCC42464   0   0   0   0  34   0   0  15\n",
       "23         Fungi              naumCast_CBS_4309   0   0   2   0  18   0   0   1\n",
       "24         Fungi               naumDair_CBS_421   0   0   1   0  19   0   0   2\n",
       "25         Fungi                 neurCras_OR74A   0   0   0   0  21   0   0  11\n",
       "26         Fungi              peniChry_P2NIAD18   0   0   0   0   5   0   0   7\n",
       "27         Fungi                        sacCer3   0   0   1   0  12   0   0   1\n",
       "28         Fungi   saccSp_BOULARDII_ATCCMYA_796   0   0   1   0  15   0   0   1\n",
       "29         Fungi                  sporReil_SRZ2   0   0   0   0   4   0   0   7\n",
       "30         Fungi              tetrBlat_CBS_6284   0   0   0   0  23   0   0   4\n",
       "31         Fungi              tetrPhaf_CBS_4417   0   0   1   0  14   0   0   1\n",
       "32         Fungi             thieTerr_NRRL_8126   0   0   0   0  24   0   0  12\n",
       "33         Fungi                   ustiMayd_521   0   0   0   0   5   0   0   4\n",
       "34         Fungi                  valsMali_03_8   0   0   0   0  17   0   0   2\n",
       "35         Fungi                   vertDahl_JR2   0   0   1   0  20   0   0  12\n",
       "36         Fungi               vertDahl_VDLS_17   0   0   1   0  20   0   0  11\n",
       "37      Mammalia                        ailMel1   0   0  26   0  26   0   0   0\n",
       "38      Mammalia                        canFam3   0   0  14   0  25   0   0   0\n",
       "39      Mammalia                        felCat5   0   0  16   0  26   0   0   0\n",
       "40      Mammalia                        musFur1   0   0  17   0  27   0   0   0\n",
       "41 Spermatophyta                        braOle1   0   1   2   1  91   0   1   0\n",
       "   C:U G:- G:A G:C G:G G:U U:A U:C U:G U:U\n",
       "1    0   0   0  47   0   3   4   0   0   0\n",
       "2    0   0   0  57   0   0   4   0   0   0\n",
       "3    0   0   0  54   0   0   2   0   1   0\n",
       "4    0   0   0  71   0   0  14   0   0   0\n",
       "5    0   0   0  29   0   3   1   0   0   0\n",
       "6    0   0   0  91   0   0   5   0   0   0\n",
       "7    0   0   0  45   0   0   3   0   0   0\n",
       "8    0   0   0  47   0   0   4   0   0   0\n",
       "9    0   0   0  48   0   0   4   0   0   0\n",
       "10   0   0   0  47   0   0   4   0   0   0\n",
       "11   0   0   0  39   0   4   5   0   0   0\n",
       "12   0   0   0  75   0   0   9   0   0   0\n",
       "13   0   0   0  76   0   0  16   0   0   0\n",
       "14   0   0   0  81   0   0  16   0   0   0\n",
       "15   0   0   0  83   0   1  16   0   0   0\n",
       "16   0   0   0  77   0   1  15   0   0   0\n",
       "17   0   0   0  69   0   0  17   0   0   0\n",
       "18   0   0   0  35   0   3   3   0   0   0\n",
       "19   0   0   0  35   0   2   1   0   0   0\n",
       "20   0   0   0  48   0   4   2   0   0   0\n",
       "21   0   0   0  72   0   1   8   0   0   0\n",
       "22   0   0   0  71   0   0   5   0   0   0\n",
       "23   0   0   0  45   0   2   3   0   0   0\n",
       "24   0   0   0  56   0   3   4   2   0   1\n",
       "25   0   0   0  88   0   0   6   0   0   0\n",
       "26   0   0   0  44   0   0   8   0   0   0\n",
       "27   0   0   0  35   0   2   2   0   0   0\n",
       "28   0   0   0  41   0   2   3   0   0   0\n",
       "29   0   0   0  51   0   2   7   1   0   0\n",
       "30   0   0   0  54   0   3   2   0   0   0\n",
       "31   0   0   0  33   0   3   1   2   0   0\n",
       "32   0   0   0  68   0   0   7   0   0   0\n",
       "33   0   0   0  47   0   0   3   0   0   0\n",
       "34   0   0   0  74   0   0  13   0   0   0\n",
       "35   0   0   0  61   0   0   2   0   1   0\n",
       "36   0   0   0  62   0   0   2   0   2   0\n",
       "37   0   0   0 150   0   0   4   2   0   0\n",
       "38   0   0   0 152   0   2   5   0   0   0\n",
       "39   0   0   0 167   0   2   6   0   0   0\n",
       "40   0   0   0 163   0   0   5   0   0   0\n",
       "41   0   0   2 274   0   8  30   2   0   1"
      ]
     },
     "metadata": {},
     "output_type": "display_data"
    }
   ],
   "source": [
    "best_freqs %>% filter(positions == \"X52.62\", !(feature %in% c(\"GC\", \"AU\", \"PurinePyrimidine\")))\n",
    "\n",
    "identities %>% filter(!restrict) %>% select(clade, species, isotype, X52.62) %>% \n",
    "  count(clade, isotype, X52.62) %>% spread(X52.62, n, 0)\n",
    "\n",
    "identities %>% filter(!restrict) %>% select(clade, species, isotype, X52.62) %>% \n",
    "  count(clade, species, X52.62) %>% spread(X52.62, n, 0) %>%\n",
    "  filter((`G:C` + `A:U`) / (`A:C` + `A:G` + `A:U` + `C:A` + `C:C` + `C:G` + `C:U` + `G:-` + `G:A` + `G:C` + `G:G` + `G:U` + `U:A` + `U:C` + `U:G` + `U:U`) < 0.9)"
   ]
  },
  {
   "cell_type": "code",
   "execution_count": 60,
   "metadata": {
    "collapsed": false
   },
   "outputs": [
    {
     "data": {
      "text/html": [
       "<table>\n",
       "<thead><tr><th></th><th scope=col>isotype</th></tr></thead>\n",
       "<tbody>\n",
       "\t<tr><th scope=row>1</th><td>Trp</td></tr>\n",
       "\t<tr><th scope=row>2</th><td>Phe</td></tr>\n",
       "\t<tr><th scope=row>3</th><td>Tyr</td></tr>\n",
       "\t<tr><th scope=row>4</th><td>Cys</td></tr>\n",
       "\t<tr><th scope=row>5</th><td>Pro</td></tr>\n",
       "\t<tr><th scope=row>6</th><td>His</td></tr>\n",
       "\t<tr><th scope=row>7</th><td>iMet</td></tr>\n",
       "\t<tr><th scope=row>8</th><td>Thr</td></tr>\n",
       "\t<tr><th scope=row>9</th><td>Met</td></tr>\n",
       "</tbody>\n",
       "</table>\n"
      ],
      "text/latex": [
       "\\begin{tabular}{r|l}\n",
       "  & isotype\\\\\n",
       "\\hline\n",
       "\t1 & Trp\\\\\n",
       "\t2 & Phe\\\\\n",
       "\t3 & Tyr\\\\\n",
       "\t4 & Cys\\\\\n",
       "\t5 & Pro\\\\\n",
       "\t6 & His\\\\\n",
       "\t7 & iMet\\\\\n",
       "\t8 & Thr\\\\\n",
       "\t9 & Met\\\\\n",
       "\\end{tabular}\n"
      ],
      "text/plain": [
       "  isotype\n",
       "1     Trp\n",
       "2     Phe\n",
       "3     Tyr\n",
       "4     Cys\n",
       "5     Pro\n",
       "6     His\n",
       "7    iMet\n",
       "8     Thr\n",
       "9     Met"
      ]
     },
     "metadata": {},
     "output_type": "display_data"
    },
    {
     "data": {
      "text/html": [
       "<table>\n",
       "<thead><tr><th></th><th scope=col>species</th></tr></thead>\n",
       "<tbody>\n",
       "\t<tr><th scope=row>1</th><td>ailMel1</td></tr>\n",
       "\t<tr><th scope=row>2</th><td>anoCar2</td></tr>\n",
       "\t<tr><th scope=row>3</th><td>anoGam2</td></tr>\n",
       "\t<tr><th scope=row>4</th><td>apiMel1</td></tr>\n",
       "\t<tr><th scope=row>5</th><td>araTha1</td></tr>\n",
       "\t<tr><th scope=row>6</th><td>ashbGoss_ATCC10895</td></tr>\n",
       "\t<tr><th scope=row>7</th><td>aspeFumi_AF293</td></tr>\n",
       "\t<tr><th scope=row>8</th><td>aspeNidu_FGSC_A4</td></tr>\n",
       "\t<tr><th scope=row>9</th><td>aspeOryz_RIB40</td></tr>\n",
       "\t<tr><th scope=row>10</th><td>bomTer1</td></tr>\n",
       "\t<tr><th scope=row>11</th><td>botrCine_B05_10</td></tr>\n",
       "\t<tr><th scope=row>12</th><td>braDis3</td></tr>\n",
       "\t<tr><th scope=row>13</th><td>bruMal1</td></tr>\n",
       "\t<tr><th scope=row>14</th><td>caePb2</td></tr>\n",
       "\t<tr><th scope=row>15</th><td>caeRem3</td></tr>\n",
       "\t<tr><th scope=row>16</th><td>calJac3</td></tr>\n",
       "\t<tr><th scope=row>17</th><td>calMil1</td></tr>\n",
       "\t<tr><th scope=row>18</th><td>candAlbi_WO_1</td></tr>\n",
       "\t<tr><th scope=row>19</th><td>candDubl_CD36</td></tr>\n",
       "\t<tr><th scope=row>20</th><td>candGlab_CBS_138</td></tr>\n",
       "\t<tr><th scope=row>21</th><td>candOrth_CO_90_125</td></tr>\n",
       "\t<tr><th scope=row>22</th><td>canFam3</td></tr>\n",
       "\t<tr><th scope=row>23</th><td>cavPor3</td></tr>\n",
       "\t<tr><th scope=row>24</th><td>cb3</td></tr>\n",
       "\t<tr><th scope=row>25</th><td>ce11</td></tr>\n",
       "\t<tr><th scope=row>26</th><td>cerSim1</td></tr>\n",
       "\t<tr><th scope=row>27</th><td>chaeTher_VAR_THERMOPHILUM_DSM1</td></tr>\n",
       "\t<tr><th scope=row>28</th><td>chrPic1</td></tr>\n",
       "\t<tr><th scope=row>29</th><td>criGri1</td></tr>\n",
       "\t<tr><th scope=row>30</th><td>crypGatt_WM276</td></tr>\n",
       "\t<tr><th scope=row>⋮</th><td>⋮</td></tr>\n",
       "\t<tr><th scope=row>127</th><td>schiPomb_972H</td></tr>\n",
       "\t<tr><th scope=row>128</th><td>sorAra2</td></tr>\n",
       "\t<tr><th scope=row>129</th><td>sorBic3</td></tr>\n",
       "\t<tr><th scope=row>130</th><td>speTri2</td></tr>\n",
       "\t<tr><th scope=row>131</th><td>spiPol1</td></tr>\n",
       "\t<tr><th scope=row>132</th><td>sporReil_SRZ2</td></tr>\n",
       "\t<tr><th scope=row>133</th><td>strRat1</td></tr>\n",
       "\t<tr><th scope=row>134</th><td>susScr3</td></tr>\n",
       "\t<tr><th scope=row>135</th><td>taeGut2</td></tr>\n",
       "\t<tr><th scope=row>136</th><td>tarSyr2</td></tr>\n",
       "\t<tr><th scope=row>137</th><td>tetNig2</td></tr>\n",
       "\t<tr><th scope=row>138</th><td>tetrBlat_CBS_6284</td></tr>\n",
       "\t<tr><th scope=row>139</th><td>tetrPhaf_CBS_4417</td></tr>\n",
       "\t<tr><th scope=row>140</th><td>thieTerr_NRRL_8126</td></tr>\n",
       "\t<tr><th scope=row>141</th><td>toruDelb_CBS_1146</td></tr>\n",
       "\t<tr><th scope=row>142</th><td>triCas1</td></tr>\n",
       "\t<tr><th scope=row>143</th><td>triMan1</td></tr>\n",
       "\t<tr><th scope=row>144</th><td>triSpi1</td></tr>\n",
       "\t<tr><th scope=row>145</th><td>ustiMayd_521</td></tr>\n",
       "\t<tr><th scope=row>146</th><td>valsMali_03_8</td></tr>\n",
       "\t<tr><th scope=row>147</th><td>vertDahl_JR2</td></tr>\n",
       "\t<tr><th scope=row>148</th><td>vertDahl_VDLS_17</td></tr>\n",
       "\t<tr><th scope=row>149</th><td>vicPac2</td></tr>\n",
       "\t<tr><th scope=row>150</th><td>vitVin1</td></tr>\n",
       "\t<tr><th scope=row>151</th><td>xenTro3</td></tr>\n",
       "\t<tr><th scope=row>152</th><td>yarrLipo_CLIB122</td></tr>\n",
       "\t<tr><th scope=row>153</th><td>yarrLipo_PO1F</td></tr>\n",
       "\t<tr><th scope=row>154</th><td>yarrLipo_WSH_Z06</td></tr>\n",
       "\t<tr><th scope=row>155</th><td>zeaMay6</td></tr>\n",
       "\t<tr><th scope=row>156</th><td>zygoRoux_CBS_732</td></tr>\n",
       "</tbody>\n",
       "</table>\n"
      ],
      "text/latex": [
       "\\begin{tabular}{r|l}\n",
       "  & species\\\\\n",
       "\\hline\n",
       "\t1 & ailMel1\\\\\n",
       "\t2 & anoCar2\\\\\n",
       "\t3 & anoGam2\\\\\n",
       "\t4 & apiMel1\\\\\n",
       "\t5 & araTha1\\\\\n",
       "\t6 & ashbGoss\\_ATCC10895\\\\\n",
       "\t7 & aspeFumi\\_AF293\\\\\n",
       "\t8 & aspeNidu\\_FGSC\\_A4\\\\\n",
       "\t9 & aspeOryz\\_RIB40\\\\\n",
       "\t10 & bomTer1\\\\\n",
       "\t11 & botrCine\\_B05\\_10\\\\\n",
       "\t12 & braDis3\\\\\n",
       "\t13 & bruMal1\\\\\n",
       "\t14 & caePb2\\\\\n",
       "\t15 & caeRem3\\\\\n",
       "\t16 & calJac3\\\\\n",
       "\t17 & calMil1\\\\\n",
       "\t18 & candAlbi\\_WO\\_1\\\\\n",
       "\t19 & candDubl\\_CD36\\\\\n",
       "\t20 & candGlab\\_CBS\\_138\\\\\n",
       "\t21 & candOrth\\_CO\\_90\\_125\\\\\n",
       "\t22 & canFam3\\\\\n",
       "\t23 & cavPor3\\\\\n",
       "\t24 & cb3\\\\\n",
       "\t25 & ce11\\\\\n",
       "\t26 & cerSim1\\\\\n",
       "\t27 & chaeTher\\_VAR\\_THERMOPHILUM\\_DSM1\\\\\n",
       "\t28 & chrPic1\\\\\n",
       "\t29 & criGri1\\\\\n",
       "\t30 & crypGatt\\_WM276\\\\\n",
       "\t⋮ & ⋮\\\\\n",
       "\t127 & schiPomb\\_972H\\\\\n",
       "\t128 & sorAra2\\\\\n",
       "\t129 & sorBic3\\\\\n",
       "\t130 & speTri2\\\\\n",
       "\t131 & spiPol1\\\\\n",
       "\t132 & sporReil\\_SRZ2\\\\\n",
       "\t133 & strRat1\\\\\n",
       "\t134 & susScr3\\\\\n",
       "\t135 & taeGut2\\\\\n",
       "\t136 & tarSyr2\\\\\n",
       "\t137 & tetNig2\\\\\n",
       "\t138 & tetrBlat\\_CBS\\_6284\\\\\n",
       "\t139 & tetrPhaf\\_CBS\\_4417\\\\\n",
       "\t140 & thieTerr\\_NRRL\\_8126\\\\\n",
       "\t141 & toruDelb\\_CBS\\_1146\\\\\n",
       "\t142 & triCas1\\\\\n",
       "\t143 & triMan1\\\\\n",
       "\t144 & triSpi1\\\\\n",
       "\t145 & ustiMayd\\_521\\\\\n",
       "\t146 & valsMali\\_03\\_8\\\\\n",
       "\t147 & vertDahl\\_JR2\\\\\n",
       "\t148 & vertDahl\\_VDLS\\_17\\\\\n",
       "\t149 & vicPac2\\\\\n",
       "\t150 & vitVin1\\\\\n",
       "\t151 & xenTro3\\\\\n",
       "\t152 & yarrLipo\\_CLIB122\\\\\n",
       "\t153 & yarrLipo\\_PO1F\\\\\n",
       "\t154 & yarrLipo\\_WSH\\_Z06\\\\\n",
       "\t155 & zeaMay6\\\\\n",
       "\t156 & zygoRoux\\_CBS\\_732\\\\\n",
       "\\end{tabular}\n"
      ],
      "text/plain": [
       "                           species\n",
       "1                          ailMel1\n",
       "2                          anoCar2\n",
       "3                          anoGam2\n",
       "4                          apiMel1\n",
       "5                          araTha1\n",
       "6               ashbGoss_ATCC10895\n",
       "7                   aspeFumi_AF293\n",
       "8                 aspeNidu_FGSC_A4\n",
       "9                   aspeOryz_RIB40\n",
       "10                         bomTer1\n",
       "11                 botrCine_B05_10\n",
       "12                         braDis3\n",
       "13                         bruMal1\n",
       "14                          caePb2\n",
       "15                         caeRem3\n",
       "16                         calJac3\n",
       "17                         calMil1\n",
       "18                   candAlbi_WO_1\n",
       "19                   candDubl_CD36\n",
       "20                candGlab_CBS_138\n",
       "21              candOrth_CO_90_125\n",
       "22                         canFam3\n",
       "23                         cavPor3\n",
       "24                             cb3\n",
       "25                            ce11\n",
       "26                         cerSim1\n",
       "27  chaeTher_VAR_THERMOPHILUM_DSM1\n",
       "28                         chrPic1\n",
       "29                         criGri1\n",
       "30                  crypGatt_WM276\n",
       "⋮                                ⋮\n",
       "127                  schiPomb_972H\n",
       "128                        sorAra2\n",
       "129                        sorBic3\n",
       "130                        speTri2\n",
       "131                        spiPol1\n",
       "132                  sporReil_SRZ2\n",
       "133                        strRat1\n",
       "134                        susScr3\n",
       "135                        taeGut2\n",
       "136                        tarSyr2\n",
       "137                        tetNig2\n",
       "138              tetrBlat_CBS_6284\n",
       "139              tetrPhaf_CBS_4417\n",
       "140             thieTerr_NRRL_8126\n",
       "141              toruDelb_CBS_1146\n",
       "142                        triCas1\n",
       "143                        triMan1\n",
       "144                        triSpi1\n",
       "145                   ustiMayd_521\n",
       "146                  valsMali_03_8\n",
       "147                   vertDahl_JR2\n",
       "148               vertDahl_VDLS_17\n",
       "149                        vicPac2\n",
       "150                        vitVin1\n",
       "151                        xenTro3\n",
       "152               yarrLipo_CLIB122\n",
       "153                  yarrLipo_PO1F\n",
       "154               yarrLipo_WSH_Z06\n",
       "155                        zeaMay6\n",
       "156               zygoRoux_CBS_732"
      ]
     },
     "metadata": {},
     "output_type": "display_data"
    }
   ],
   "source": [
    "# check no. isotypes without R52:Y52\n",
    "identities %>% filter(!restrict) %>% count(species, isotype, X52.62) %>% spread(X52.62, n, fill = 0) %>% \n",
    "  filter(`G:C` == 0 & `A:U` == 0) %>% \n",
    "  ungroup %>% select(isotype) %>% unique\n",
    "\n",
    "# check no. species with all tRNAs of an isotype without R52:Y52\n",
    "identities %>% filter(!restrict) %>% count(species, isotype, X52.62) %>% spread(X52.62, n, fill = 0) %>% \n",
    "  filter(`G:C` == 0 & `A:U` == 0) %>% \n",
    "  ungroup %>% select(species) %>% unique"
   ]
  },
  {
   "cell_type": "markdown",
   "metadata": {},
   "source": [
    "## G53:C61"
   ]
  },
  {
   "cell_type": "code",
   "execution_count": 63,
   "metadata": {
    "collapsed": false
   },
   "outputs": [
    {
     "data": {
      "text/html": [
       "<table>\n",
       "<thead><tr><th></th><th scope=col>clade</th><th scope=col>isotype</th><th scope=col>positions</th><th scope=col>clade_iso_pos_total</th><th scope=col>feature</th><th scope=col>n</th><th scope=col>freq</th></tr></thead>\n",
       "<tbody>\n",
       "\t<tr><th scope=row>1</th><td>Nematoda         </td><td>Pro              </td><td>X53.61           </td><td>87               </td><td>Paired           </td><td>86               </td><td>0.988505747126437</td></tr>\n",
       "</tbody>\n",
       "</table>\n"
      ],
      "text/latex": [
       "\\begin{tabular}{r|lllllll}\n",
       "  & clade & isotype & positions & clade\\_iso\\_pos\\_total & feature & n & freq\\\\\n",
       "\\hline\n",
       "\t1 & Nematoda          & Pro               & X53.61            & 87                & Paired            & 86                & 0.988505747126437\\\\\n",
       "\\end{tabular}\n"
      ],
      "text/plain": [
       "     clade isotype positions clade_iso_pos_total feature  n      freq\n",
       "1 Nematoda     Pro    X53.61                  87  Paired 86 0.9885057"
      ]
     },
     "metadata": {},
     "output_type": "display_data"
    },
    {
     "data": {
      "text/html": [
       "<table>\n",
       "<thead><tr><th></th><th scope=col>clade</th><th scope=col>isotype</th><th scope=col>positions</th><th scope=col>clade_iso_pos_total</th><th scope=col>feature</th><th scope=col>n</th><th scope=col>freq</th></tr></thead>\n",
       "<tbody>\n",
       "\t<tr><th scope=row>1</th><td>Nematoda         </td><td>Pro              </td><td>X53.61           </td><td>87               </td><td>GC               </td><td>75               </td><td>0.862068965517241</td></tr>\n",
       "\t<tr><th scope=row>2</th><td>Nematoda         </td><td>Pro              </td><td>X53.61           </td><td>87               </td><td>UA               </td><td>10               </td><td>0.114942528735632</td></tr>\n",
       "\t<tr><th scope=row>3</th><td>Nematoda         </td><td>Pro              </td><td>X53.61           </td><td>87               </td><td>Paired           </td><td>86               </td><td>0.988505747126437</td></tr>\n",
       "\t<tr><th scope=row>4</th><td>Nematoda         </td><td>Pro              </td><td>X53.61           </td><td>87               </td><td>PurinePyrimidine </td><td>75               </td><td>0.862068965517241</td></tr>\n",
       "\t<tr><th scope=row>5</th><td>Nematoda         </td><td>Pro              </td><td>X53.61           </td><td>87               </td><td>PyrimidinePurine </td><td>10               </td><td>0.114942528735632</td></tr>\n",
       "\t<tr><th scope=row>6</th><td>Nematoda         </td><td>Pro              </td><td>X53.61           </td><td>87               </td><td>StrongPair       </td><td>75               </td><td>0.862068965517241</td></tr>\n",
       "\t<tr><th scope=row>7</th><td>Nematoda         </td><td>Pro              </td><td>X53.61           </td><td>87               </td><td>WeakPair         </td><td>10               </td><td>0.114942528735632</td></tr>\n",
       "</tbody>\n",
       "</table>\n"
      ],
      "text/latex": [
       "\\begin{tabular}{r|lllllll}\n",
       "  & clade & isotype & positions & clade\\_iso\\_pos\\_total & feature & n & freq\\\\\n",
       "\\hline\n",
       "\t1 & Nematoda          & Pro               & X53.61            & 87                & GC                & 75                & 0.862068965517241\\\\\n",
       "\t2 & Nematoda          & Pro               & X53.61            & 87                & UA                & 10                & 0.114942528735632\\\\\n",
       "\t3 & Nematoda          & Pro               & X53.61            & 87                & Paired            & 86                & 0.988505747126437\\\\\n",
       "\t4 & Nematoda          & Pro               & X53.61            & 87                & PurinePyrimidine  & 75                & 0.862068965517241\\\\\n",
       "\t5 & Nematoda          & Pro               & X53.61            & 87                & PyrimidinePurine  & 10                & 0.114942528735632\\\\\n",
       "\t6 & Nematoda          & Pro               & X53.61            & 87                & StrongPair        & 75                & 0.862068965517241\\\\\n",
       "\t7 & Nematoda          & Pro               & X53.61            & 87                & WeakPair          & 10                & 0.114942528735632\\\\\n",
       "\\end{tabular}\n"
      ],
      "text/plain": [
       "     clade isotype positions clade_iso_pos_total          feature  n      freq\n",
       "1 Nematoda     Pro    X53.61                  87               GC 75 0.8620690\n",
       "2 Nematoda     Pro    X53.61                  87               UA 10 0.1149425\n",
       "3 Nematoda     Pro    X53.61                  87           Paired 86 0.9885057\n",
       "4 Nematoda     Pro    X53.61                  87 PurinePyrimidine 75 0.8620690\n",
       "5 Nematoda     Pro    X53.61                  87 PyrimidinePurine 10 0.1149425\n",
       "6 Nematoda     Pro    X53.61                  87       StrongPair 75 0.8620690\n",
       "7 Nematoda     Pro    X53.61                  87         WeakPair 10 0.1149425"
      ]
     },
     "metadata": {},
     "output_type": "display_data"
    },
    {
     "data": {
      "text/html": [
       "<table>\n",
       "<thead><tr><th></th><th scope=col>X53.61</th><th scope=col>n</th></tr></thead>\n",
       "<tbody>\n",
       "\t<tr><th scope=row>1</th><td>A:C</td><td>1  </td></tr>\n",
       "\t<tr><th scope=row>2</th><td>G:C</td><td>75 </td></tr>\n",
       "\t<tr><th scope=row>3</th><td>G:U</td><td>1  </td></tr>\n",
       "\t<tr><th scope=row>4</th><td>U:A</td><td>10 </td></tr>\n",
       "</tbody>\n",
       "</table>\n"
      ],
      "text/latex": [
       "\\begin{tabular}{r|ll}\n",
       "  & X53.61 & n\\\\\n",
       "\\hline\n",
       "\t1 & A:C & 1  \\\\\n",
       "\t2 & G:C & 75 \\\\\n",
       "\t3 & G:U & 1  \\\\\n",
       "\t4 & U:A & 10 \\\\\n",
       "\\end{tabular}\n"
      ],
      "text/plain": [
       "  X53.61  n\n",
       "1    A:C  1\n",
       "2    G:C 75\n",
       "3    G:U  1\n",
       "4    U:A 10"
      ]
     },
     "metadata": {},
     "output_type": "display_data"
    },
    {
     "data": {
      "text/html": [
       "<table>\n",
       "<thead><tr><th></th><th scope=col>species_long</th><th scope=col>A:C</th><th scope=col>G:C</th><th scope=col>G:U</th><th scope=col>U:A</th></tr></thead>\n",
       "<tbody>\n",
       "\t<tr><th scope=row>1</th><td>Brugia malayi</td><td>0            </td><td>2            </td><td>0            </td><td>1            </td></tr>\n",
       "\t<tr><th scope=row>2</th><td>Caenorhabditis brenneri (WUGSC 6.0.1 Feb 2008)</td><td>1                                             </td><td>11                                            </td><td>0                                             </td><td>0                                             </td></tr>\n",
       "\t<tr><th scope=row>3</th><td>Caenorhabditis briggsae (C. briggsae Jan. 2007 WUGSC 1.0/cb3)</td><td>0                                                            </td><td>12                                                           </td><td>0                                                            </td><td>0                                                            </td></tr>\n",
       "\t<tr><th scope=row>4</th><td>Caenorhabditis elegans (C. elegans Feb 2013 WBcel235/ce11)</td><td>0                                                         </td><td>12                                                        </td><td>0                                                         </td><td>0                                                         </td></tr>\n",
       "\t<tr><th scope=row>5</th><td>Caenorhabditis japonica (WUGSC 3.0.2 Mar 2008)</td><td>0                                             </td><td>8                                             </td><td>1                                             </td><td>0                                             </td></tr>\n",
       "\t<tr><th scope=row>6</th><td>Caenorhabditis remanei (WUGSC 15.0.1 May 2007)</td><td>0                                             </td><td>8                                             </td><td>0                                             </td><td>0                                             </td></tr>\n",
       "\t<tr><th scope=row>7</th><td>Heterodera glycines (soybean cyst nematode) (OP25)</td><td>0                                                 </td><td>3                                                 </td><td>0                                                 </td><td>0                                                 </td></tr>\n",
       "\t<tr><th scope=row>8</th><td>Heterorhabditis bacteriophora M31e</td><td>0                                 </td><td>4                                 </td><td>0                                 </td><td>0                                 </td></tr>\n",
       "\t<tr><th scope=row>9</th><td>Loa loa (V3.1)</td><td>0             </td><td>1             </td><td>0             </td><td>2             </td></tr>\n",
       "\t<tr><th scope=row>10</th><td>Panagrellus redivivus MT8872</td><td>0                           </td><td>1                           </td><td>0                           </td><td>2                           </td></tr>\n",
       "\t<tr><th scope=row>11</th><td>Pristionchus pacificus (WUGSC 5.0 Feb 2007)</td><td>0                                          </td><td>10                                         </td><td>0                                          </td><td>1                                          </td></tr>\n",
       "\t<tr><th scope=row>12</th><td>Strongyloides ratti</td><td>0                  </td><td>0                  </td><td>0                  </td><td>4                  </td></tr>\n",
       "\t<tr><th scope=row>13</th><td>Trichinella spiralis (ISS 195)</td><td>0                             </td><td>3                             </td><td>0                             </td><td>0                             </td></tr>\n",
       "</tbody>\n",
       "</table>\n"
      ],
      "text/latex": [
       "\\begin{tabular}{r|lllll}\n",
       "  & species\\_long & A:C & G:C & G:U & U:A\\\\\n",
       "\\hline\n",
       "\t1 & Brugia malayi & 0             & 2             & 0             & 1            \\\\\n",
       "\t2 & Caenorhabditis brenneri (WUGSC 6.0.1 Feb 2008) & 1                                              & 11                                             & 0                                              & 0                                             \\\\\n",
       "\t3 & Caenorhabditis briggsae (C. briggsae Jan. 2007 WUGSC 1.0/cb3) & 0                                                             & 12                                                            & 0                                                             & 0                                                            \\\\\n",
       "\t4 & Caenorhabditis elegans (C. elegans Feb 2013 WBcel235/ce11) & 0                                                          & 12                                                         & 0                                                          & 0                                                         \\\\\n",
       "\t5 & Caenorhabditis japonica (WUGSC 3.0.2 Mar 2008) & 0                                              & 8                                              & 1                                              & 0                                             \\\\\n",
       "\t6 & Caenorhabditis remanei (WUGSC 15.0.1 May 2007) & 0                                              & 8                                              & 0                                              & 0                                             \\\\\n",
       "\t7 & Heterodera glycines (soybean cyst nematode) (OP25) & 0                                                  & 3                                                  & 0                                                  & 0                                                 \\\\\n",
       "\t8 & Heterorhabditis bacteriophora M31e & 0                                  & 4                                  & 0                                  & 0                                 \\\\\n",
       "\t9 & Loa loa (V3.1) & 0              & 1              & 0              & 2             \\\\\n",
       "\t10 & Panagrellus redivivus MT8872 & 0                            & 1                            & 0                            & 2                           \\\\\n",
       "\t11 & Pristionchus pacificus (WUGSC 5.0 Feb 2007) & 0                                           & 10                                          & 0                                           & 1                                          \\\\\n",
       "\t12 & Strongyloides ratti & 0                   & 0                   & 0                   & 4                  \\\\\n",
       "\t13 & Trichinella spiralis (ISS 195) & 0                              & 3                              & 0                              & 0                             \\\\\n",
       "\\end{tabular}\n"
      ],
      "text/plain": [
       "                                                    species_long A:C G:C G:U\n",
       "1                                                  Brugia malayi   0   2   0\n",
       "2                 Caenorhabditis brenneri (WUGSC 6.0.1 Feb 2008)   1  11   0\n",
       "3  Caenorhabditis briggsae (C. briggsae Jan. 2007 WUGSC 1.0/cb3)   0  12   0\n",
       "4     Caenorhabditis elegans (C. elegans Feb 2013 WBcel235/ce11)   0  12   0\n",
       "5                 Caenorhabditis japonica (WUGSC 3.0.2 Mar 2008)   0   8   1\n",
       "6                 Caenorhabditis remanei (WUGSC 15.0.1 May 2007)   0   8   0\n",
       "7             Heterodera glycines (soybean cyst nematode) (OP25)   0   3   0\n",
       "8                             Heterorhabditis bacteriophora M31e   0   4   0\n",
       "9                                                 Loa loa (V3.1)   0   1   0\n",
       "10                                  Panagrellus redivivus MT8872   0   1   0\n",
       "11                   Pristionchus pacificus (WUGSC 5.0 Feb 2007)   0  10   0\n",
       "12                                           Strongyloides ratti   0   0   0\n",
       "13                                Trichinella spiralis (ISS 195)   0   3   0\n",
       "   U:A\n",
       "1    1\n",
       "2    0\n",
       "3    0\n",
       "4    0\n",
       "5    0\n",
       "6    0\n",
       "7    0\n",
       "8    0\n",
       "9    2\n",
       "10   2\n",
       "11   1\n",
       "12   4\n",
       "13   0"
      ]
     },
     "metadata": {},
     "output_type": "display_data"
    }
   ],
   "source": [
    "best_freqs %>% filter(positions == \"X53.61\", feature != \"GC\")\n",
    "\n",
    "clade_iso_freqs %>% filter(positions == \"X53.61\", isotype == \"Pro\", clade == \"Nematoda\", freq > 0.02)\n",
    "\n",
    "identities %>% filter(!restrict, isotype == \"Pro\", clade == \"Nematoda\") %>% \n",
    "  select(species_long, X53.61) %>% count(species_long, X53.61) %>% spread(X53.61, n, 0)"
   ]
  },
  {
   "cell_type": "markdown",
   "metadata": {},
   "source": [
    "## U54:A58"
   ]
  },
  {
   "cell_type": "code",
   "execution_count": 64,
   "metadata": {
    "collapsed": false
   },
   "outputs": [
    {
     "data": {
      "text/html": [
       "<table>\n",
       "<thead><tr><th></th><th scope=col>clade</th><th scope=col>isotype</th><th scope=col>positions</th><th scope=col>clade_iso_pos_total</th><th scope=col>feature</th><th scope=col>n</th><th scope=col>freq</th></tr></thead>\n",
       "<tbody>\n",
       "\t<tr><th scope=row>1</th><td>Fungi     </td><td>iMet      </td><td>X54.58    </td><td>83        </td><td>Mismatched</td><td>83        </td><td>1         </td></tr>\n",
       "\t<tr><th scope=row>2</th><td>Insecta   </td><td>iMet      </td><td>X54.58    </td><td>28        </td><td>Mismatched</td><td>28        </td><td>1         </td></tr>\n",
       "\t<tr><th scope=row>3</th><td>Mammalia  </td><td>iMet      </td><td>X54.58    </td><td>88        </td><td>Mismatched</td><td>88        </td><td>1         </td></tr>\n",
       "\t<tr><th scope=row>4</th><td>Nematoda  </td><td>iMet      </td><td>X54.58    </td><td>18        </td><td>Mismatched</td><td>18        </td><td>1         </td></tr>\n",
       "\t<tr><th scope=row>5</th><td>Spermatophyta</td><td>iMet         </td><td>X54.58       </td><td>45           </td><td>Mismatched   </td><td>45           </td><td>1            </td></tr>\n",
       "\t<tr><th scope=row>6</th><td>Vertebrata       </td><td>iMet             </td><td>X54.58           </td><td>71               </td><td>Mismatched       </td><td>69               </td><td>0.971830985915493</td></tr>\n",
       "\t<tr><th scope=row>7</th><td>Insecta          </td><td>Lys              </td><td>X54.58           </td><td>69               </td><td>Paired           </td><td>66               </td><td>0.956521739130435</td></tr>\n",
       "\t<tr><th scope=row>8</th><td>Spermatophyta    </td><td>His              </td><td>X54.58           </td><td>39               </td><td>Mismatched       </td><td>37               </td><td>0.948717948717949</td></tr>\n",
       "</tbody>\n",
       "</table>\n"
      ],
      "text/latex": [
       "\\begin{tabular}{r|lllllll}\n",
       "  & clade & isotype & positions & clade\\_iso\\_pos\\_total & feature & n & freq\\\\\n",
       "\\hline\n",
       "\t1 & Fungi      & iMet       & X54.58     & 83         & Mismatched & 83         & 1         \\\\\n",
       "\t2 & Insecta    & iMet       & X54.58     & 28         & Mismatched & 28         & 1         \\\\\n",
       "\t3 & Mammalia   & iMet       & X54.58     & 88         & Mismatched & 88         & 1         \\\\\n",
       "\t4 & Nematoda   & iMet       & X54.58     & 18         & Mismatched & 18         & 1         \\\\\n",
       "\t5 & Spermatophyta & iMet          & X54.58        & 45            & Mismatched    & 45            & 1            \\\\\n",
       "\t6 & Vertebrata        & iMet              & X54.58            & 71                & Mismatched        & 69                & 0.971830985915493\\\\\n",
       "\t7 & Insecta           & Lys               & X54.58            & 69                & Paired            & 66                & 0.956521739130435\\\\\n",
       "\t8 & Spermatophyta     & His               & X54.58            & 39                & Mismatched        & 37                & 0.948717948717949\\\\\n",
       "\\end{tabular}\n"
      ],
      "text/plain": [
       "          clade isotype positions clade_iso_pos_total    feature  n      freq\n",
       "1         Fungi    iMet    X54.58                  83 Mismatched 83 1.0000000\n",
       "2       Insecta    iMet    X54.58                  28 Mismatched 28 1.0000000\n",
       "3      Mammalia    iMet    X54.58                  88 Mismatched 88 1.0000000\n",
       "4      Nematoda    iMet    X54.58                  18 Mismatched 18 1.0000000\n",
       "5 Spermatophyta    iMet    X54.58                  45 Mismatched 45 1.0000000\n",
       "6    Vertebrata    iMet    X54.58                  71 Mismatched 69 0.9718310\n",
       "7       Insecta     Lys    X54.58                  69     Paired 66 0.9565217\n",
       "8 Spermatophyta     His    X54.58                  39 Mismatched 37 0.9487179"
      ]
     },
     "metadata": {},
     "output_type": "display_data"
    }
   ],
   "source": [
    "best_freqs %>% filter(positions == \"X54.58\", feature != \"UA\")"
   ]
  },
  {
   "cell_type": "code",
   "execution_count": 65,
   "metadata": {
    "collapsed": false
   },
   "outputs": [
    {
     "data": {
      "text/html": [
       "<table>\n",
       "<thead><tr><th></th><th scope=col>clade</th><th scope=col>A:A</th><th scope=col>C:A</th><th scope=col>U:A</th></tr></thead>\n",
       "<tbody>\n",
       "\t<tr><th scope=row>1</th><td>Fungi</td><td>83   </td><td>0    </td><td>0    </td></tr>\n",
       "\t<tr><th scope=row>2</th><td>Insecta</td><td>28     </td><td>0      </td><td>0      </td></tr>\n",
       "\t<tr><th scope=row>3</th><td>Mammalia</td><td>88      </td><td>0       </td><td>0       </td></tr>\n",
       "\t<tr><th scope=row>4</th><td>Nematoda</td><td>18      </td><td>0       </td><td>0       </td></tr>\n",
       "\t<tr><th scope=row>5</th><td>Spermatophyta</td><td>45           </td><td>0            </td><td>0            </td></tr>\n",
       "\t<tr><th scope=row>6</th><td>Vertebrata</td><td>68        </td><td>1         </td><td>2         </td></tr>\n",
       "</tbody>\n",
       "</table>\n"
      ],
      "text/latex": [
       "\\begin{tabular}{r|llll}\n",
       "  & clade & A:A & C:A & U:A\\\\\n",
       "\\hline\n",
       "\t1 & Fungi & 83    & 0     & 0    \\\\\n",
       "\t2 & Insecta & 28      & 0       & 0      \\\\\n",
       "\t3 & Mammalia & 88       & 0        & 0       \\\\\n",
       "\t4 & Nematoda & 18       & 0        & 0       \\\\\n",
       "\t5 & Spermatophyta & 45            & 0             & 0            \\\\\n",
       "\t6 & Vertebrata & 68         & 1          & 2         \\\\\n",
       "\\end{tabular}\n"
      ],
      "text/plain": [
       "          clade A:A C:A U:A\n",
       "1         Fungi  83   0   0\n",
       "2       Insecta  28   0   0\n",
       "3      Mammalia  88   0   0\n",
       "4      Nematoda  18   0   0\n",
       "5 Spermatophyta  45   0   0\n",
       "6    Vertebrata  68   1   2"
      ]
     },
     "metadata": {},
     "output_type": "display_data"
    }
   ],
   "source": [
    "# iMets in general have what kind of mismatch?\n",
    "identities %>% filter(!restrict, isotype == \"iMet\") %>% select(clade, X54.58) %>%\n",
    "  group_by(clade, X54.58) %>% tally %>% spread(X54.58, n, 0)"
   ]
  },
  {
   "cell_type": "code",
   "execution_count": 66,
   "metadata": {
    "collapsed": false
   },
   "outputs": [
    {
     "data": {
      "text/html": [
       "<table>\n",
       "<thead><tr><th></th><th scope=col>species_long</th><th scope=col>C:G</th><th scope=col>U:A</th><th scope=col>U:C</th><th scope=col>U:G</th><th scope=col>U:U</th></tr></thead>\n",
       "<tbody>\n",
       "\t<tr><th scope=row>1</th><td>Anopheles gambiae (AgamP4)</td><td>0                         </td><td>24                        </td><td>0                         </td><td>0                         </td><td>0                         </td></tr>\n",
       "\t<tr><th scope=row>2</th><td>Apis mellifera (DH4) (honey bee)</td><td>0                               </td><td>13                              </td><td>0                               </td><td>0                               </td><td>0                               </td></tr>\n",
       "\t<tr><th scope=row>3</th><td>Bombus terrestris (buff-tailed bumblebee)</td><td>0                                        </td><td>10                                       </td><td>0                                        </td><td>0                                        </td><td>0                                        </td></tr>\n",
       "\t<tr><th scope=row>4</th><td>Drosophila ananassae (D. ananassae Feb. 2006 Agencourt CAF1)</td><td>0                                                           </td><td>19                                                          </td><td>0                                                           </td><td>3                                                           </td><td>0                                                           </td></tr>\n",
       "\t<tr><th scope=row>5</th><td>Drosophila erecta (D. erecta Feb. 2006 Agencourt CAF1)</td><td>0                                                     </td><td>16                                                    </td><td>0                                                     </td><td>0                                                     </td><td>0                                                     </td></tr>\n",
       "\t<tr><th scope=row>6</th><td>Drosophila grimshawi (D. grimshawi Feb. 2006 Agencourt CAF1)</td><td>0                                                           </td><td>18                                                          </td><td>0                                                           </td><td>0                                                           </td><td>0                                                           </td></tr>\n",
       "\t<tr><th scope=row>7</th><td>Drosophila melanogaster (D. melanogaster Aug. 2014 BDGP Release 6 + ISO1 MT/dm6)</td><td>0                                                                               </td><td>19                                                                              </td><td>0                                                                               </td><td>0                                                                               </td><td>0                                                                               </td></tr>\n",
       "\t<tr><th scope=row>8</th><td>Drosophila mojavensis (D. mojavensis Feb. 2006 Agencourt CAF1)</td><td>0                                                             </td><td>17                                                            </td><td>0                                                             </td><td>1                                                             </td><td>0                                                             </td></tr>\n",
       "\t<tr><th scope=row>9</th><td>Drosophila persimilis (D. persimilis Oct. 2005 Broad)</td><td>0                                                    </td><td>17                                                   </td><td>0                                                    </td><td>0                                                    </td><td>1                                                    </td></tr>\n",
       "\t<tr><th scope=row>10</th><td>Drosophila pseudoobscura (D. pseudoobscura Feb. 2006)</td><td>0                                                    </td><td>17                                                   </td><td>0                                                    </td><td>0                                                    </td><td>0                                                    </td></tr>\n",
       "\t<tr><th scope=row>11</th><td>Drosophila sechellia (D. sechellia Oct. 2005 Broad)</td><td>0                                                  </td><td>16                                                 </td><td>0                                                  </td><td>0                                                  </td><td>0                                                  </td></tr>\n",
       "\t<tr><th scope=row>12</th><td>Drosophila simulans (D. simulans Apr. 2005 WUGSC mosaic 1.0)</td><td>0                                                           </td><td>15                                                          </td><td>0                                                           </td><td>0                                                           </td><td>0                                                           </td></tr>\n",
       "\t<tr><th scope=row>13</th><td>Drosophila virilis (D. virilis Feb. 2006 Agencourt CAF1)</td><td>0                                                       </td><td>23                                                      </td><td>1                                                       </td><td>0                                                       </td><td>0                                                       </td></tr>\n",
       "\t<tr><th scope=row>14</th><td>Drosophila willistoni (D. willistoni Feb. 2006)</td><td>0                                              </td><td>17                                             </td><td>0                                              </td><td>0                                              </td><td>0                                              </td></tr>\n",
       "\t<tr><th scope=row>15</th><td>Drosophila yakuba (D. yakuba Nov. 2005 WUGSC 7.1)</td><td>1                                                </td><td>18                                               </td><td>0                                                </td><td>2                                                </td><td>1                                                </td></tr>\n",
       "\t<tr><th scope=row>16</th><td>Mayetiola destructor (Hessian fly)</td><td>0                                 </td><td>9                                 </td><td>0                                 </td><td>0                                 </td><td>0                                 </td></tr>\n",
       "\t<tr><th scope=row>17</th><td>Nasonia vitripennis AsymCS (jewel wasp)</td><td>0                                      </td><td>18                                     </td><td>0                                      </td><td>0                                      </td><td>0                                      </td></tr>\n",
       "\t<tr><th scope=row>18</th><td>Tribolium castaneum (Georgia GA2) (red flour beetle)</td><td>0                                                   </td><td>11                                                  </td><td>0                                                   </td><td>0                                                   </td><td>0                                                   </td></tr>\n",
       "</tbody>\n",
       "</table>\n"
      ],
      "text/latex": [
       "\\begin{tabular}{r|llllll}\n",
       "  & species\\_long & C:G & U:A & U:C & U:G & U:U\\\\\n",
       "\\hline\n",
       "\t1 & Anopheles gambiae (AgamP4) & 0                          & 24                         & 0                          & 0                          & 0                         \\\\\n",
       "\t2 & Apis mellifera (DH4) (honey bee) & 0                                & 13                               & 0                                & 0                                & 0                               \\\\\n",
       "\t3 & Bombus terrestris (buff-tailed bumblebee) & 0                                         & 10                                        & 0                                         & 0                                         & 0                                        \\\\\n",
       "\t4 & Drosophila ananassae (D. ananassae Feb. 2006 Agencourt CAF1) & 0                                                            & 19                                                           & 0                                                            & 3                                                            & 0                                                           \\\\\n",
       "\t5 & Drosophila erecta (D. erecta Feb. 2006 Agencourt CAF1) & 0                                                      & 16                                                     & 0                                                      & 0                                                      & 0                                                     \\\\\n",
       "\t6 & Drosophila grimshawi (D. grimshawi Feb. 2006 Agencourt CAF1) & 0                                                            & 18                                                           & 0                                                            & 0                                                            & 0                                                           \\\\\n",
       "\t7 & Drosophila melanogaster (D. melanogaster Aug. 2014 BDGP Release 6 + ISO1 MT/dm6) & 0                                                                                & 19                                                                               & 0                                                                                & 0                                                                                & 0                                                                               \\\\\n",
       "\t8 & Drosophila mojavensis (D. mojavensis Feb. 2006 Agencourt CAF1) & 0                                                              & 17                                                             & 0                                                              & 1                                                              & 0                                                             \\\\\n",
       "\t9 & Drosophila persimilis (D. persimilis Oct. 2005 Broad) & 0                                                     & 17                                                    & 0                                                     & 0                                                     & 1                                                    \\\\\n",
       "\t10 & Drosophila pseudoobscura (D. pseudoobscura Feb. 2006) & 0                                                     & 17                                                    & 0                                                     & 0                                                     & 0                                                    \\\\\n",
       "\t11 & Drosophila sechellia (D. sechellia Oct. 2005 Broad) & 0                                                   & 16                                                  & 0                                                   & 0                                                   & 0                                                  \\\\\n",
       "\t12 & Drosophila simulans (D. simulans Apr. 2005 WUGSC mosaic 1.0) & 0                                                            & 15                                                           & 0                                                            & 0                                                            & 0                                                           \\\\\n",
       "\t13 & Drosophila virilis (D. virilis Feb. 2006 Agencourt CAF1) & 0                                                        & 23                                                       & 1                                                        & 0                                                        & 0                                                       \\\\\n",
       "\t14 & Drosophila willistoni (D. willistoni Feb. 2006) & 0                                               & 17                                              & 0                                               & 0                                               & 0                                              \\\\\n",
       "\t15 & Drosophila yakuba (D. yakuba Nov. 2005 WUGSC 7.1) & 1                                                 & 18                                                & 0                                                 & 2                                                 & 1                                                \\\\\n",
       "\t16 & Mayetiola destructor (Hessian fly) & 0                                  & 9                                  & 0                                  & 0                                  & 0                                 \\\\\n",
       "\t17 & Nasonia vitripennis AsymCS (jewel wasp) & 0                                       & 18                                      & 0                                       & 0                                       & 0                                      \\\\\n",
       "\t18 & Tribolium castaneum (Georgia GA2) (red flour beetle) & 0                                                    & 11                                                   & 0                                                    & 0                                                    & 0                                                   \\\\\n",
       "\\end{tabular}\n"
      ],
      "text/plain": [
       "                                                                       species_long\n",
       "1                                                        Anopheles gambiae (AgamP4)\n",
       "2                                                  Apis mellifera (DH4) (honey bee)\n",
       "3                                         Bombus terrestris (buff-tailed bumblebee)\n",
       "4                      Drosophila ananassae (D. ananassae Feb. 2006 Agencourt CAF1)\n",
       "5                            Drosophila erecta (D. erecta Feb. 2006 Agencourt CAF1)\n",
       "6                      Drosophila grimshawi (D. grimshawi Feb. 2006 Agencourt CAF1)\n",
       "7  Drosophila melanogaster (D. melanogaster Aug. 2014 BDGP Release 6 + ISO1 MT/dm6)\n",
       "8                    Drosophila mojavensis (D. mojavensis Feb. 2006 Agencourt CAF1)\n",
       "9                             Drosophila persimilis (D. persimilis Oct. 2005 Broad)\n",
       "10                            Drosophila pseudoobscura (D. pseudoobscura Feb. 2006)\n",
       "11                              Drosophila sechellia (D. sechellia Oct. 2005 Broad)\n",
       "12                     Drosophila simulans (D. simulans Apr. 2005 WUGSC mosaic 1.0)\n",
       "13                         Drosophila virilis (D. virilis Feb. 2006 Agencourt CAF1)\n",
       "14                                  Drosophila willistoni (D. willistoni Feb. 2006)\n",
       "15                                Drosophila yakuba (D. yakuba Nov. 2005 WUGSC 7.1)\n",
       "16                                               Mayetiola destructor (Hessian fly)\n",
       "17                                          Nasonia vitripennis AsymCS (jewel wasp)\n",
       "18                             Tribolium castaneum (Georgia GA2) (red flour beetle)\n",
       "   C:G U:A U:C U:G U:U\n",
       "1    0  24   0   0   0\n",
       "2    0  13   0   0   0\n",
       "3    0  10   0   0   0\n",
       "4    0  19   0   3   0\n",
       "5    0  16   0   0   0\n",
       "6    0  18   0   0   0\n",
       "7    0  19   0   0   0\n",
       "8    0  17   0   1   0\n",
       "9    0  17   0   0   1\n",
       "10   0  17   0   0   0\n",
       "11   0  16   0   0   0\n",
       "12   0  15   0   0   0\n",
       "13   0  23   1   0   0\n",
       "14   0  17   0   0   0\n",
       "15   1  18   0   2   1\n",
       "16   0   9   0   0   0\n",
       "17   0  18   0   0   0\n",
       "18   0  11   0   0   0"
      ]
     },
     "metadata": {},
     "output_type": "display_data"
    }
   ],
   "source": [
    "# Insect Lys\n",
    "identities %>% filter(isotype == \"Lys\", clade == \"Insecta\") %>% select(species_long, X54.58) %>%\n",
    "  group_by(species_long, X54.58) %>% tally %>% spread(X54.58, n, 0)"
   ]
  },
  {
   "cell_type": "code",
   "execution_count": 67,
   "metadata": {
    "collapsed": false
   },
   "outputs": [
    {
     "data": {
      "text/html": [
       "<table>\n",
       "<thead><tr><th></th><th scope=col>species_long</th><th scope=col>C:A</th><th scope=col>U:A</th></tr></thead>\n",
       "<tbody>\n",
       "\t<tr><th scope=row>1</th><td>Arabidopsis thaliana (TAIR10 Feb 2011)</td><td>9                                     </td><td>0                                     </td></tr>\n",
       "\t<tr><th scope=row>2</th><td>Brachypodium distachyon Bd21 (JGI v3.0)</td><td>10                                     </td><td>0                                      </td></tr>\n",
       "\t<tr><th scope=row>3</th><td>Brassica oleracea var. oleracea TO1000</td><td>13                                    </td><td>1                                     </td></tr>\n",
       "\t<tr><th scope=row>4</th><td>Carica papaya (papaya)</td><td>6                     </td><td>0                     </td></tr>\n",
       "\t<tr><th scope=row>5</th><td>Cucumis sativus (cucumber)</td><td>12                        </td><td>0                         </td></tr>\n",
       "\t<tr><th scope=row>6</th><td>Fragaria vesca (strawberry) (v2.0.a1)</td><td>11                                   </td><td>0                                    </td></tr>\n",
       "\t<tr><th scope=row>7</th><td>Glycine max (soybean) (Wm82.a2)</td><td>17                             </td><td>0                              </td></tr>\n",
       "\t<tr><th scope=row>8</th><td>Gossypium raimondii (Cotton v2)</td><td>13                             </td><td>0                              </td></tr>\n",
       "\t<tr><th scope=row>9</th><td>Malus x domestica (apple v3.0.a1)</td><td>21                               </td><td>0                                </td></tr>\n",
       "\t<tr><th scope=row>10</th><td>Manihot esculenta (Cassava v6)</td><td>17                            </td><td>0                             </td></tr>\n",
       "\t<tr><th scope=row>11</th><td>Medicago truncatula (Mt4.0v1)</td><td>14                           </td><td>0                            </td></tr>\n",
       "\t<tr><th scope=row>12</th><td>Oryza sativa</td><td>10          </td><td>0           </td></tr>\n",
       "\t<tr><th scope=row>13</th><td>Populus trichocarpa (JGI v3.0)</td><td>12                            </td><td>0                             </td></tr>\n",
       "\t<tr><th scope=row>14</th><td>Solanum pennellii (tomato)</td><td>15                        </td><td>1                         </td></tr>\n",
       "\t<tr><th scope=row>15</th><td>Sorghum bicolor (Version 3.1)</td><td>11                           </td><td>0                            </td></tr>\n",
       "\t<tr><th scope=row>16</th><td>Spirodela polyrhiza (great duckweed)</td><td>3                                   </td><td>0                                   </td></tr>\n",
       "\t<tr><th scope=row>17</th><td>Vitis vinifera (Grapevine 12X)</td><td>9                             </td><td>0                             </td></tr>\n",
       "\t<tr><th scope=row>18</th><td>Zea mays B73 (Version AGPv3)</td><td>13                          </td><td>0                           </td></tr>\n",
       "</tbody>\n",
       "</table>\n"
      ],
      "text/latex": [
       "\\begin{tabular}{r|lll}\n",
       "  & species\\_long & C:A & U:A\\\\\n",
       "\\hline\n",
       "\t1 & Arabidopsis thaliana (TAIR10 Feb 2011) & 9                                      & 0                                     \\\\\n",
       "\t2 & Brachypodium distachyon Bd21 (JGI v3.0) & 10                                      & 0                                      \\\\\n",
       "\t3 & Brassica oleracea var. oleracea TO1000 & 13                                     & 1                                     \\\\\n",
       "\t4 & Carica papaya (papaya) & 6                      & 0                     \\\\\n",
       "\t5 & Cucumis sativus (cucumber) & 12                         & 0                         \\\\\n",
       "\t6 & Fragaria vesca (strawberry) (v2.0.a1) & 11                                    & 0                                    \\\\\n",
       "\t7 & Glycine max (soybean) (Wm82.a2) & 17                              & 0                              \\\\\n",
       "\t8 & Gossypium raimondii (Cotton v2) & 13                              & 0                              \\\\\n",
       "\t9 & Malus x domestica (apple v3.0.a1) & 21                                & 0                                \\\\\n",
       "\t10 & Manihot esculenta (Cassava v6) & 17                             & 0                             \\\\\n",
       "\t11 & Medicago truncatula (Mt4.0v1) & 14                            & 0                            \\\\\n",
       "\t12 & Oryza sativa & 10           & 0           \\\\\n",
       "\t13 & Populus trichocarpa (JGI v3.0) & 12                             & 0                             \\\\\n",
       "\t14 & Solanum pennellii (tomato) & 15                         & 1                         \\\\\n",
       "\t15 & Sorghum bicolor (Version 3.1) & 11                            & 0                            \\\\\n",
       "\t16 & Spirodela polyrhiza (great duckweed) & 3                                    & 0                                   \\\\\n",
       "\t17 & Vitis vinifera (Grapevine 12X) & 9                              & 0                             \\\\\n",
       "\t18 & Zea mays B73 (Version AGPv3) & 13                           & 0                           \\\\\n",
       "\\end{tabular}\n"
      ],
      "text/plain": [
       "                              species_long C:A U:A\n",
       "1   Arabidopsis thaliana (TAIR10 Feb 2011)   9   0\n",
       "2  Brachypodium distachyon Bd21 (JGI v3.0)  10   0\n",
       "3   Brassica oleracea var. oleracea TO1000  13   1\n",
       "4                   Carica papaya (papaya)   6   0\n",
       "5               Cucumis sativus (cucumber)  12   0\n",
       "6    Fragaria vesca (strawberry) (v2.0.a1)  11   0\n",
       "7          Glycine max (soybean) (Wm82.a2)  17   0\n",
       "8          Gossypium raimondii (Cotton v2)  13   0\n",
       "9        Malus x domestica (apple v3.0.a1)  21   0\n",
       "10          Manihot esculenta (Cassava v6)  17   0\n",
       "11           Medicago truncatula (Mt4.0v1)  14   0\n",
       "12                            Oryza sativa  10   0\n",
       "13          Populus trichocarpa (JGI v3.0)  12   0\n",
       "14              Solanum pennellii (tomato)  15   1\n",
       "15           Sorghum bicolor (Version 3.1)  11   0\n",
       "16    Spirodela polyrhiza (great duckweed)   3   0\n",
       "17          Vitis vinifera (Grapevine 12X)   9   0\n",
       "18            Zea mays B73 (Version AGPv3)  13   0"
      ]
     },
     "metadata": {},
     "output_type": "display_data"
    }
   ],
   "source": [
    "# Plant His\n",
    "identities %>% filter(isotype == \"His\", clade == \"Spermatophyta\") %>% select(species_long, X54.58) %>%\n",
    "  group_by(species_long, X54.58) %>% tally %>% spread(X54.58, n, 0)"
   ]
  },
  {
   "cell_type": "code",
   "execution_count": 70,
   "metadata": {
    "collapsed": false
   },
   "outputs": [
    {
     "data": {
      "text/html": [
       "<table>\n",
       "<thead><tr><th></th><th scope=col>species</th><th scope=col>X54</th><th scope=col>X58</th><th scope=col>n</th></tr></thead>\n",
       "<tbody>\n",
       "\t<tr><th scope=row>1</th><td>bruMal1</td><td>U      </td><td>A      </td><td>5      </td></tr>\n",
       "\t<tr><th scope=row>2</th><td>caeJap1</td><td>U      </td><td>A      </td><td>8      </td></tr>\n",
       "\t<tr><th scope=row>3</th><td>caePb2</td><td>U     </td><td>A     </td><td>9     </td></tr>\n",
       "\t<tr><th scope=row>4</th><td>caeRem3</td><td>U      </td><td>A      </td><td>7      </td></tr>\n",
       "\t<tr><th scope=row>5</th><td>cb3</td><td>-  </td><td>A  </td><td>1  </td></tr>\n",
       "\t<tr><th scope=row>6</th><td>cb3</td><td>U  </td><td>A  </td><td>11 </td></tr>\n",
       "\t<tr><th scope=row>7</th><td>ce11</td><td>U   </td><td>A   </td><td>9   </td></tr>\n",
       "\t<tr><th scope=row>8</th><td>hetBac1</td><td>U      </td><td>A      </td><td>6      </td></tr>\n",
       "\t<tr><th scope=row>9</th><td>hetGly1</td><td>U      </td><td>A      </td><td>3      </td></tr>\n",
       "\t<tr><th scope=row>10</th><td>loaLoa1</td><td>U      </td><td>A      </td><td>5      </td></tr>\n",
       "\t<tr><th scope=row>11</th><td>panRed1</td><td>U      </td><td>A      </td><td>6      </td></tr>\n",
       "\t<tr><th scope=row>12</th><td>priPac1</td><td>-      </td><td>A      </td><td>1      </td></tr>\n",
       "\t<tr><th scope=row>13</th><td>priPac1</td><td>U      </td><td>A      </td><td>16     </td></tr>\n",
       "\t<tr><th scope=row>14</th><td>strRat1</td><td>U      </td><td>A      </td><td>6      </td></tr>\n",
       "\t<tr><th scope=row>15</th><td>triSpi1</td><td>A      </td><td>A      </td><td>5      </td></tr>\n",
       "</tbody>\n",
       "</table>\n"
      ],
      "text/latex": [
       "\\begin{tabular}{r|llll}\n",
       "  & species & X54 & X58 & n\\\\\n",
       "\\hline\n",
       "\t1 & bruMal1 & U       & A       & 5      \\\\\n",
       "\t2 & caeJap1 & U       & A       & 8      \\\\\n",
       "\t3 & caePb2 & U      & A      & 9     \\\\\n",
       "\t4 & caeRem3 & U       & A       & 7      \\\\\n",
       "\t5 & cb3 & -   & A   & 1  \\\\\n",
       "\t6 & cb3 & U   & A   & 11 \\\\\n",
       "\t7 & ce11 & U    & A    & 9   \\\\\n",
       "\t8 & hetBac1 & U       & A       & 6      \\\\\n",
       "\t9 & hetGly1 & U       & A       & 3      \\\\\n",
       "\t10 & loaLoa1 & U       & A       & 5      \\\\\n",
       "\t11 & panRed1 & U       & A       & 6      \\\\\n",
       "\t12 & priPac1 & -       & A       & 1      \\\\\n",
       "\t13 & priPac1 & U       & A       & 16     \\\\\n",
       "\t14 & strRat1 & U       & A       & 6      \\\\\n",
       "\t15 & triSpi1 & A       & A       & 5      \\\\\n",
       "\\end{tabular}\n"
      ],
      "text/plain": [
       "   species X54 X58  n\n",
       "1  bruMal1   U   A  5\n",
       "2  caeJap1   U   A  8\n",
       "3   caePb2   U   A  9\n",
       "4  caeRem3   U   A  7\n",
       "5      cb3   -   A  1\n",
       "6      cb3   U   A 11\n",
       "7     ce11   U   A  9\n",
       "8  hetBac1   U   A  6\n",
       "9  hetGly1   U   A  3\n",
       "10 loaLoa1   U   A  5\n",
       "11 panRed1   U   A  6\n",
       "12 priPac1   -   A  1\n",
       "13 priPac1   U   A 16\n",
       "14 strRat1   U   A  6\n",
       "15 triSpi1   A   A  5"
      ]
     },
     "metadata": {},
     "output_type": "display_data"
    },
    {
     "data": {
      "text/html": [
       "<table>\n",
       "<thead><tr><th></th><th scope=col>clade</th><th scope=col>domain</th><th scope=col>isotype</th><th scope=col>seqname</th><th scope=col>species</th><th scope=col>species_long</th><th scope=col>taxid</th><th scope=col>isotype_best</th><th scope=col>anticodon</th><th scope=col>score</th><th scope=col>⋯</th><th scope=col>X70i8</th><th scope=col>X70i9</th><th scope=col>X71</th><th scope=col>X71i1</th><th scope=col>X71i2</th><th scope=col>X72</th><th scope=col>X73</th><th scope=col>X74</th><th scope=col>X75</th><th scope=col>X76</th></tr></thead>\n",
       "<tbody>\n",
       "\t<tr><th scope=row>1</th><td>Nematoda                       </td><td>eukaryota                      </td><td>Ala                            </td><td>triSpi1_GL622787.1.trna1-AlaAGC</td><td>triSpi1                        </td><td>Trichinella spiralis (ISS 195) </td><td>.                              </td><td>Ala                            </td><td>AGC                            </td><td>60.2                           </td><td>⋯                              </td><td>.                              </td><td>.                              </td><td>C                              </td><td>.                              </td><td>.                              </td><td>C                              </td><td>A                              </td><td>-                              </td><td>-                              </td><td>-                              </td></tr>\n",
       "\t<tr><th scope=row>2</th><td>Nematoda                        </td><td>eukaryota                       </td><td>Ala                             </td><td>triSpi1_GL622787.1.trna17-AlaTGC</td><td>triSpi1                         </td><td>Trichinella spiralis (ISS 195)  </td><td>.                               </td><td>Ala                             </td><td>TGC                             </td><td>61.6                            </td><td>⋯                               </td><td>.                               </td><td>.                               </td><td>C                               </td><td>.                               </td><td>.                               </td><td>C                               </td><td>A                               </td><td>-                               </td><td>-                               </td><td>-                               </td></tr>\n",
       "\t<tr><th scope=row>3</th><td>Nematoda                        </td><td>eukaryota                       </td><td>Ala                             </td><td>triSpi1_GL622787.1.trna44-AlaTGC</td><td>triSpi1                         </td><td>Trichinella spiralis (ISS 195)  </td><td>.                               </td><td>Ala                             </td><td>TGC                             </td><td>61.6                            </td><td>⋯                               </td><td>.                               </td><td>.                               </td><td>C                               </td><td>.                               </td><td>.                               </td><td>C                               </td><td>A                               </td><td>-                               </td><td>-                               </td><td>-                               </td></tr>\n",
       "\t<tr><th scope=row>4</th><td>Nematoda                        </td><td>eukaryota                       </td><td>Ala                             </td><td>triSpi1_GL622787.1.trna62-AlaTGC</td><td>triSpi1                         </td><td>Trichinella spiralis (ISS 195)  </td><td>.                               </td><td>Ala                             </td><td>TGC                             </td><td>66.7                            </td><td>⋯                               </td><td>.                               </td><td>.                               </td><td>C                               </td><td>.                               </td><td>.                               </td><td>C                               </td><td>A                               </td><td>-                               </td><td>-                               </td><td>-                               </td></tr>\n",
       "\t<tr><th scope=row>5</th><td>Nematoda                       </td><td>eukaryota                      </td><td>Ala                            </td><td>triSpi1_GL624340.1.trna3-AlaCGC</td><td>triSpi1                        </td><td>Trichinella spiralis (ISS 195) </td><td>.                              </td><td>Ala                            </td><td>CGC                            </td><td>61.5                           </td><td>⋯                              </td><td>.                              </td><td>.                              </td><td>C                              </td><td>.                              </td><td>.                              </td><td>C                              </td><td>A                              </td><td>-                              </td><td>-                              </td><td>-                              </td></tr>\n",
       "\t<tr><th scope=row>6</th><td>Nematoda                       </td><td>eukaryota                      </td><td>Ala                            </td><td>triSpi1_GL624340.1.trna5-AlaAGC</td><td>triSpi1                        </td><td>Trichinella spiralis (ISS 195) </td><td>.                              </td><td>Ala                            </td><td>AGC                            </td><td>59.8                           </td><td>⋯                              </td><td>.                              </td><td>.                              </td><td>C                              </td><td>.                              </td><td>.                              </td><td>C                              </td><td>A                              </td><td>-                              </td><td>-                              </td><td>-                              </td></tr>\n",
       "</tbody>\n",
       "</table>\n"
      ],
      "text/latex": [
       "\\begin{tabular}{r|lllllllllllllllllllllllllllllllllllllllllllllllllllllllllllllllllllllllllllllllllllllllllllllllllllllllllllllllllllllllllllllllllllllllllllllllllllllllllllllllllllllllllllllllllllllllllllllllllllllllllllllllllllllllllllllllllllllllllllllllllllllllllllllllllllllllllllllllllllllllllllllllllllllllllllllllllllllllllllllllllllllllllllllllllllllllllllllllllllllllllllllllllllllllllllllllllllllllllllllllllllllllllllllllllllllllllllllllllllllllllllllllllllllllllllllllllllllllllllll}\n",
       "  & clade & domain & isotype & seqname & species & species\\_long & taxid & isotype\\_best & anticodon & score & ⋯ & X70i8 & X70i9 & X71 & X71i1 & X71i2 & X72 & X73 & X74 & X75 & X76\\\\\n",
       "\\hline\n",
       "\t1 & Nematoda                          & eukaryota                         & Ala                               & triSpi1\\_GL622787.1.trna1-AlaAGC & triSpi1                           & Trichinella spiralis (ISS 195)    & .                                 & Ala                               & AGC                               & 60.2                              & ⋯                                 & .                                 & .                                 & C                                 & .                                 & .                                 & C                                 & A                                 & -                                 & -                                 & -                                \\\\\n",
       "\t2 & Nematoda                           & eukaryota                          & Ala                                & triSpi1\\_GL622787.1.trna17-AlaTGC & triSpi1                            & Trichinella spiralis (ISS 195)     & .                                  & Ala                                & TGC                                & 61.6                               & ⋯                                  & .                                  & .                                  & C                                  & .                                  & .                                  & C                                  & A                                  & -                                  & -                                  & -                                 \\\\\n",
       "\t3 & Nematoda                           & eukaryota                          & Ala                                & triSpi1\\_GL622787.1.trna44-AlaTGC & triSpi1                            & Trichinella spiralis (ISS 195)     & .                                  & Ala                                & TGC                                & 61.6                               & ⋯                                  & .                                  & .                                  & C                                  & .                                  & .                                  & C                                  & A                                  & -                                  & -                                  & -                                 \\\\\n",
       "\t4 & Nematoda                           & eukaryota                          & Ala                                & triSpi1\\_GL622787.1.trna62-AlaTGC & triSpi1                            & Trichinella spiralis (ISS 195)     & .                                  & Ala                                & TGC                                & 66.7                               & ⋯                                  & .                                  & .                                  & C                                  & .                                  & .                                  & C                                  & A                                  & -                                  & -                                  & -                                 \\\\\n",
       "\t5 & Nematoda                          & eukaryota                         & Ala                               & triSpi1\\_GL624340.1.trna3-AlaCGC & triSpi1                           & Trichinella spiralis (ISS 195)    & .                                 & Ala                               & CGC                               & 61.5                              & ⋯                                 & .                                 & .                                 & C                                 & .                                 & .                                 & C                                 & A                                 & -                                 & -                                 & -                                \\\\\n",
       "\t6 & Nematoda                          & eukaryota                         & Ala                               & triSpi1\\_GL624340.1.trna5-AlaAGC & triSpi1                           & Trichinella spiralis (ISS 195)    & .                                 & Ala                               & AGC                               & 59.8                              & ⋯                                 & .                                 & .                                 & C                                 & .                                 & .                                 & C                                 & A                                 & -                                 & -                                 & -                                \\\\\n",
       "\\end{tabular}\n"
      ],
      "text/plain": [
       "     clade    domain isotype                          seqname species\n",
       "1 Nematoda eukaryota     Ala  triSpi1_GL622787.1.trna1-AlaAGC triSpi1\n",
       "2 Nematoda eukaryota     Ala triSpi1_GL622787.1.trna17-AlaTGC triSpi1\n",
       "3 Nematoda eukaryota     Ala triSpi1_GL622787.1.trna44-AlaTGC triSpi1\n",
       "4 Nematoda eukaryota     Ala triSpi1_GL622787.1.trna62-AlaTGC triSpi1\n",
       "5 Nematoda eukaryota     Ala  triSpi1_GL624340.1.trna3-AlaCGC triSpi1\n",
       "6 Nematoda eukaryota     Ala  triSpi1_GL624340.1.trna5-AlaAGC triSpi1\n",
       "                    species_long taxid isotype_best anticodon score ⋯ X70i8\n",
       "1 Trichinella spiralis (ISS 195)     .          Ala       AGC  60.2 ⋯     .\n",
       "2 Trichinella spiralis (ISS 195)     .          Ala       TGC  61.6 ⋯     .\n",
       "3 Trichinella spiralis (ISS 195)     .          Ala       TGC  61.6 ⋯     .\n",
       "4 Trichinella spiralis (ISS 195)     .          Ala       TGC  66.7 ⋯     .\n",
       "5 Trichinella spiralis (ISS 195)     .          Ala       CGC  61.5 ⋯     .\n",
       "6 Trichinella spiralis (ISS 195)     .          Ala       AGC  59.8 ⋯     .\n",
       "  X70i9 X71 X71i1 X71i2 X72 X73 X74 X75 X76\n",
       "1     .   C     .     .   C   A   -   -   -\n",
       "2     .   C     .     .   C   A   -   -   -\n",
       "3     .   C     .     .   C   A   -   -   -\n",
       "4     .   C     .     .   C   A   -   -   -\n",
       "5     .   C     .     .   C   A   -   -   -\n",
       "6     .   C     .     .   C   A   -   -   -"
      ]
     },
     "metadata": {},
     "output_type": "display_data"
    },
    {
     "data": {
      "text/html": [
       "<table>\n",
       "<thead><tr><th></th><th scope=col>score</th><th scope=col>X54</th><th scope=col>X55</th><th scope=col>X56</th><th scope=col>X57</th><th scope=col>X58</th><th scope=col>X59</th></tr></thead>\n",
       "<tbody>\n",
       "\t<tr><th scope=row>1</th><td>63</td><td>C </td><td>U </td><td>C </td><td>G </td><td>A </td><td>A </td></tr>\n",
       "\t<tr><th scope=row>2</th><td>63</td><td>C </td><td>U </td><td>C </td><td>G </td><td>A </td><td>A </td></tr>\n",
       "\t<tr><th scope=row>3</th><td>56.8</td><td>C   </td><td>U   </td><td>C   </td><td>G   </td><td>A   </td><td>A   </td></tr>\n",
       "\t<tr><th scope=row>4</th><td>63</td><td>C </td><td>U </td><td>C </td><td>G </td><td>A </td><td>A </td></tr>\n",
       "\t<tr><th scope=row>5</th><td>56.8</td><td>C   </td><td>U   </td><td>C   </td><td>G   </td><td>A   </td><td>A   </td></tr>\n",
       "\t<tr><th scope=row>6</th><td>63</td><td>C </td><td>U </td><td>C </td><td>G </td><td>A </td><td>A </td></tr>\n",
       "\t<tr><th scope=row>7</th><td>63</td><td>C </td><td>U </td><td>C </td><td>G </td><td>A </td><td>A </td></tr>\n",
       "\t<tr><th scope=row>8</th><td>63</td><td>C </td><td>U </td><td>C </td><td>G </td><td>A </td><td>A </td></tr>\n",
       "\t<tr><th scope=row>9</th><td>63</td><td>C </td><td>U </td><td>C </td><td>G </td><td>A </td><td>A </td></tr>\n",
       "</tbody>\n",
       "</table>\n"
      ],
      "text/latex": [
       "\\begin{tabular}{r|lllllll}\n",
       "  & score & X54 & X55 & X56 & X57 & X58 & X59\\\\\n",
       "\\hline\n",
       "\t1 & 63 & C  & U  & C  & G  & A  & A \\\\\n",
       "\t2 & 63 & C  & U  & C  & G  & A  & A \\\\\n",
       "\t3 & 56.8 & C    & U    & C    & G    & A    & A   \\\\\n",
       "\t4 & 63 & C  & U  & C  & G  & A  & A \\\\\n",
       "\t5 & 56.8 & C    & U    & C    & G    & A    & A   \\\\\n",
       "\t6 & 63 & C  & U  & C  & G  & A  & A \\\\\n",
       "\t7 & 63 & C  & U  & C  & G  & A  & A \\\\\n",
       "\t8 & 63 & C  & U  & C  & G  & A  & A \\\\\n",
       "\t9 & 63 & C  & U  & C  & G  & A  & A \\\\\n",
       "\\end{tabular}\n"
      ],
      "text/plain": [
       "  score X54 X55 X56 X57 X58 X59\n",
       "1  63.0   C   U   C   G   A   A\n",
       "2  63.0   C   U   C   G   A   A\n",
       "3  56.8   C   U   C   G   A   A\n",
       "4  63.0   C   U   C   G   A   A\n",
       "5  56.8   C   U   C   G   A   A\n",
       "6  63.0   C   U   C   G   A   A\n",
       "7  63.0   C   U   C   G   A   A\n",
       "8  63.0   C   U   C   G   A   A\n",
       "9  63.0   C   U   C   G   A   A"
      ]
     },
     "metadata": {},
     "output_type": "display_data"
    }
   ],
   "source": [
    "# Nematode position 54\n",
    "identities %>% filter(!restrict) %>% select(clade, isotype, species, X54, X58) %>% filter(isotype == \"Ala\", clade == \"Nematoda\") %>%\n",
    "  count(species, X54, X58)\n",
    "identities %>% filter(species == \"triSpi1\" & isotype == \"Ala\" & clade == \"Nematoda\")\n",
    "# found by M&G\n",
    "identities %>% filter(species == \"araTha1\" & isotype == \"His\") %>% select(score, X54, X55, X56, X57, X58, X59)"
   ]
  },
  {
   "cell_type": "markdown",
   "metadata": {},
   "source": [
    "## Y60"
   ]
  },
  {
   "cell_type": "code",
   "execution_count": 73,
   "metadata": {
    "collapsed": false,
    "scrolled": true
   },
   "outputs": [
    {
     "data": {
      "text/html": [
       "<table>\n",
       "<thead><tr><th></th><th scope=col>clade</th><th scope=col>isotype</th><th scope=col>positions</th><th scope=col>clade_iso_pos_total</th><th scope=col>feature</th><th scope=col>n</th><th scope=col>freq</th></tr></thead>\n",
       "<tbody>\n",
       "\t<tr><th scope=row>1</th><td>Fungi</td><td>iMet </td><td>X60  </td><td>83   </td><td>A    </td><td>83   </td><td>1    </td></tr>\n",
       "\t<tr><th scope=row>2</th><td>Insecta</td><td>iMet   </td><td>X60    </td><td>28     </td><td>A      </td><td>28     </td><td>1      </td></tr>\n",
       "\t<tr><th scope=row>3</th><td>Mammalia</td><td>iMet    </td><td>X60     </td><td>88      </td><td>A       </td><td>88      </td><td>1       </td></tr>\n",
       "\t<tr><th scope=row>4</th><td>Nematoda</td><td>iMet    </td><td>X60     </td><td>18      </td><td>A       </td><td>18      </td><td>1       </td></tr>\n",
       "\t<tr><th scope=row>5</th><td>Spermatophyta</td><td>iMet         </td><td>X60          </td><td>45           </td><td>A            </td><td>45           </td><td>1            </td></tr>\n",
       "\t<tr><th scope=row>6</th><td>Vertebrata       </td><td>iMet             </td><td>X60              </td><td>71               </td><td>A                </td><td>70               </td><td>0.985915492957746</td></tr>\n",
       "\t<tr><th scope=row>7</th><td>Vertebrata       </td><td>Val              </td><td>X60              </td><td>301              </td><td>Amino            </td><td>295              </td><td>0.980066445182724</td></tr>\n",
       "\t<tr><th scope=row>8</th><td>Spermatophyta   </td><td>Ile             </td><td>X60             </td><td>184             </td><td>Amino           </td><td>177             </td><td>0.96195652173913</td></tr>\n",
       "\t<tr><th scope=row>9</th><td>Mammalia         </td><td>Val              </td><td>X60              </td><td>577              </td><td>Amino            </td><td>538              </td><td>0.932409012131716</td></tr>\n",
       "\t<tr><th scope=row>10</th><td>Vertebrata       </td><td>Ala              </td><td>X60              </td><td>306              </td><td>B                </td><td>305              </td><td>0.996732026143791</td></tr>\n",
       "\t<tr><th scope=row>11</th><td>Spermatophyta    </td><td>Ala              </td><td>X60              </td><td>201              </td><td>H                </td><td>198              </td><td>0.985074626865672</td></tr>\n",
       "\t<tr><th scope=row>12</th><td>Mammalia         </td><td>Ala              </td><td>X60              </td><td>1034             </td><td>B                </td><td>1007             </td><td>0.973887814313346</td></tr>\n",
       "</tbody>\n",
       "</table>\n"
      ],
      "text/latex": [
       "\\begin{tabular}{r|lllllll}\n",
       "  & clade & isotype & positions & clade\\_iso\\_pos\\_total & feature & n & freq\\\\\n",
       "\\hline\n",
       "\t1 & Fungi & iMet  & X60   & 83    & A     & 83    & 1    \\\\\n",
       "\t2 & Insecta & iMet    & X60     & 28      & A       & 28      & 1      \\\\\n",
       "\t3 & Mammalia & iMet     & X60      & 88       & A        & 88       & 1       \\\\\n",
       "\t4 & Nematoda & iMet     & X60      & 18       & A        & 18       & 1       \\\\\n",
       "\t5 & Spermatophyta & iMet          & X60           & 45            & A             & 45            & 1            \\\\\n",
       "\t6 & Vertebrata        & iMet              & X60               & 71                & A                 & 70                & 0.985915492957746\\\\\n",
       "\t7 & Vertebrata        & Val               & X60               & 301               & Amino             & 295               & 0.980066445182724\\\\\n",
       "\t8 & Spermatophyta    & Ile              & X60              & 184              & Amino            & 177              & 0.96195652173913\\\\\n",
       "\t9 & Mammalia          & Val               & X60               & 577               & Amino             & 538               & 0.932409012131716\\\\\n",
       "\t10 & Vertebrata        & Ala               & X60               & 306               & B                 & 305               & 0.996732026143791\\\\\n",
       "\t11 & Spermatophyta     & Ala               & X60               & 201               & H                 & 198               & 0.985074626865672\\\\\n",
       "\t12 & Mammalia          & Ala               & X60               & 1034              & B                 & 1007              & 0.973887814313346\\\\\n",
       "\\end{tabular}\n"
      ],
      "text/plain": [
       "           clade isotype positions clade_iso_pos_total feature    n      freq\n",
       "1          Fungi    iMet       X60                  83       A   83 1.0000000\n",
       "2        Insecta    iMet       X60                  28       A   28 1.0000000\n",
       "3       Mammalia    iMet       X60                  88       A   88 1.0000000\n",
       "4       Nematoda    iMet       X60                  18       A   18 1.0000000\n",
       "5  Spermatophyta    iMet       X60                  45       A   45 1.0000000\n",
       "6     Vertebrata    iMet       X60                  71       A   70 0.9859155\n",
       "7     Vertebrata     Val       X60                 301   Amino  295 0.9800664\n",
       "8  Spermatophyta     Ile       X60                 184   Amino  177 0.9619565\n",
       "9       Mammalia     Val       X60                 577   Amino  538 0.9324090\n",
       "10    Vertebrata     Ala       X60                 306       B  305 0.9967320\n",
       "11 Spermatophyta     Ala       X60                 201       H  198 0.9850746\n",
       "12      Mammalia     Ala       X60                1034       B 1007 0.9738878"
      ]
     },
     "metadata": {},
     "output_type": "display_data"
    }
   ],
   "source": [
    "best_freqs %>% filter(positions == \"X60\", !(feature %in% c(\"Pyrimidine\", \"U\", \"C\")))"
   ]
  },
  {
   "cell_type": "code",
   "execution_count": 80,
   "metadata": {
    "collapsed": false
   },
   "outputs": [
    {
     "data": {
      "text/markdown": [
       "|clade         |X60 | Ala| Arg| Asn| Asp| Cys| Gln| Glu| Gly| His| Ile| iMet| Leu| Lys| Met| Phe| Pro| Ser| Thr| Trp| Tyr| Val|\n",
       "|:-------------|:---|---:|---:|---:|---:|---:|---:|---:|---:|---:|---:|----:|---:|---:|---:|---:|---:|---:|---:|---:|---:|---:|\n",
       "|Fungi         |-   |   0|   0|   0|   0|   0|   0|   0|   0|   0|   0|    0|   0|   3|   0|   0|   0|   0|   0|   0|   0|   0|\n",
       "|Fungi         |A   |   0|   5|   0|   0|   0|   0|   0|   0|   0|   2|   83|   3|   0|   3|   0|   0|   0|   0|   0|   0|   5|\n",
       "|Fungi         |C   |  54| 147| 129|   0|  65|  65|   5|  12|   0| 172|    0| 125| 188|  86| 143| 105|  19|  91|   6|  25| 320|\n",
       "|Fungi         |G   |   0|   0|   0|   0|   0|   0|   0|   0|   0|   0|    0|   0|   0|   2|   0|   0|   0|   0|   0|   0|   0|\n",
       "|Fungi         |U   | 244| 294|  20| 105|  52| 174| 236| 269| 137|  16|    0| 331|  38|  30|   5| 124| 383| 238| 108| 105|  12|\n",
       "|Insecta       |A   |  15|   0|   0|   0|   0|   0|   0|   0|   0|   0|   28|   0|   0|   0|   0|   0|   0|   0|   0|   0|   3|\n",
       "|Insecta       |C   |  45|  34|  12|   0|  24|   0|   0|   0|   0|  80|    0|  35|  30|  39|  31|   0|   0|  49|   0|   0| 110|\n",
       "|Insecta       |G   |  16|   0|   0|   0|   0|   0|   0|   0|   0|   0|    0|   0|   1|   0|   0|   0|   0|   0|   0|   0|   0|\n",
       "|Insecta       |U   |  17| 128|  20|  36|  29|  89|  75|  87|  23|   3|    0| 121|  38|   1|   2|  87| 131|  61|  36| 103|   4|\n",
       "|Mammalia      |-   |   1|   0|   0|   0|   2|   0|   0|   0|   0|   2|    0|   0|   1|   1|   1|   0|   0|   0|   0|   0|   1|\n",
       "|Mammalia      |A   |  26|   0|   5|   1|   0|   0|   1|   0|   0|   2|   88|   1|   4|   0|   1|   0|   3|   0|   0|   0| 315|\n",
       "|Mammalia      |C   | 716|  27| 277|  28|  13|   2| 137|   3|   1| 368|    0| 162| 540| 272| 250|   3|  44| 121|  13|   0| 223|\n",
       "|Mammalia      |G   | 187|   0|   0|   1|   0|   1|   0|   0|   0|   1|    0|   0|   2|   0|   0|   0|   1|   0|   0|   0|   5|\n",
       "|Mammalia      |U   | 104| 852|  11| 137| 613| 347| 336| 542|  77|  26|    0| 556| 318|  10|   9| 217| 644| 560| 236| 307|  33|\n",
       "|Nematoda      |-   |   0|   0|   0|   0|   0|   0|   0|   0|   0|   1|    0|   0|   0|   0|   0|   0|   0|   0|   0|   0|   0|\n",
       "|Nematoda      |A   |   5|   1|   0|   1|   0|   0|   0|   0|   0|   0|   18|   0|   3|   0|   0|   0|   0|   1|   0|   0|   0|\n",
       "|Nematoda      |C   |  16|  42|  38|   0|   3|   0|   0|   1|   0|  60|    0|  44|  58|  28|  40|  66|  22|  52|  17|   0|  96|\n",
       "|Nematoda      |G   |   0|   1|   0|   0|   0|   0|   0|   0|   0|   0|    0|   0|   0|   0|   0|   0|   1|   0|   0|   0|   0|\n",
       "|Nematoda      |U   |  77| 110|   1|  29|  23|  66|  81| 107|  30|   8|    0| 108|  35|   2|   0|  21| 131|  65|  12|  46|  15|\n",
       "|Spermatophyta |-   |   0|   0|   1|   1|   0|   0|   0|   0|   0|   3|    0|   0|   1|   0|   2|   0|   0|   1|   1|   0|   0|\n",
       "|Spermatophyta |A   |  82|   1|   1|   2|   1|   0|   0|   0|   0| 115|   45|   1|   4|   0|   0|   0|   0|   0|   1|   0|   1|\n",
       "|Spermatophyta |C   |  55| 127| 125|  99|  86|   2|   0|   3|   0|  62|    0|  81| 145|  74|  69|   0|  70| 125|   1|   0| 156|\n",
       "|Spermatophyta |G   |   3|   0|   0|   2|   0|   0|   1|   1|   0|   1|    0|   2|   3|   0|   1|   0|   0|   1|   1|   0|   0|\n",
       "|Spermatophyta |U   |  61| 196|  64|   4|  28| 159| 155| 190|  39|   3|    0| 214|  70|  20|  16| 181| 250| 122|  66| 142|  55|\n",
       "|Vertebrata    |-   |   0|   0|   0|   0|   0|   1|   0|   0|   0|   1|    0|   0|   1|   0|   2|   0|   0|   0|   0|   0|   1|\n",
       "|Vertebrata    |A   |   1|   0|   2|   1|   0|   0|   0|   0|   0|  13|   70|   1|   0|   1|   6|   0|   3|   1|   0|   0| 231|\n",
       "|Vertebrata    |C   | 202|   5| 185|   0|   4|   0|   2|   1|   1| 204|    1| 111| 152| 140| 183|   2|  35|  69|   1|   0|  64|\n",
       "|Vertebrata    |G   |  50|   0|   0|   0|   0|   1|   0|   0|   0|   2|    0|   0|   0|   1|   2|   1|   1|   0|   0|   0|   1|\n",
       "|Vertebrata    |U   |  53| 367|   1|  74| 190| 214| 275| 261|  84|   5|    0| 347| 162|   2|   1| 182| 379| 306| 136| 187|   4|"
      ]
     },
     "metadata": {},
     "output_type": "display_data"
    }
   ],
   "source": [
    "identities %>% filter(!restrict) %>% count(clade, isotype, X60) %>% spread(isotype, n, 0) %>%\n",
    "  kable %>% paste(collapse = '\\n') %>% display_markdown"
   ]
  },
  {
   "cell_type": "code",
   "execution_count": 74,
   "metadata": {
    "collapsed": false
   },
   "outputs": [
    {
     "data": {
      "text/html": [
       "<table>\n",
       "<thead><tr><th></th><th scope=col>species</th><th scope=col>-</th><th scope=col>A</th><th scope=col>C</th><th scope=col>G</th><th scope=col>U</th></tr></thead>\n",
       "<tbody>\n",
       "\t<tr><th scope=row>1</th><td>ailMel1</td><td>0      </td><td>2      </td><td>5      </td><td>0      </td><td>3      </td></tr>\n",
       "\t<tr><th scope=row>2</th><td>balAcu1</td><td>0      </td><td>10     </td><td>3      </td><td>0      </td><td>1      </td></tr>\n",
       "\t<tr><th scope=row>3</th><td>bosTau8</td><td>0      </td><td>19     </td><td>4      </td><td>0      </td><td>0      </td></tr>\n",
       "\t<tr><th scope=row>4</th><td>calJac3</td><td>0      </td><td>5      </td><td>3      </td><td>0      </td><td>0      </td></tr>\n",
       "\t<tr><th scope=row>5</th><td>canFam3</td><td>0      </td><td>4      </td><td>4      </td><td>1      </td><td>2      </td></tr>\n",
       "\t<tr><th scope=row>6</th><td>cavPor3</td><td>0      </td><td>3      </td><td>3      </td><td>0      </td><td>0      </td></tr>\n",
       "\t<tr><th scope=row>7</th><td>cerSim1</td><td>0      </td><td>12     </td><td>5      </td><td>0      </td><td>2      </td></tr>\n",
       "\t<tr><th scope=row>8</th><td>criGri1</td><td>0      </td><td>9      </td><td>4      </td><td>0      </td><td>0      </td></tr>\n",
       "\t<tr><th scope=row>9</th><td>dasNov3</td><td>0      </td><td>8      </td><td>5      </td><td>0      </td><td>2      </td></tr>\n",
       "\t<tr><th scope=row>10</th><td>dipOrd1</td><td>0      </td><td>3      </td><td>3      </td><td>0      </td><td>3      </td></tr>\n",
       "\t<tr><th scope=row>11</th><td>equCab2</td><td>0      </td><td>9      </td><td>4      </td><td>0      </td><td>2      </td></tr>\n",
       "\t<tr><th scope=row>12</th><td>eriEur2</td><td>0      </td><td>5      </td><td>6      </td><td>0      </td><td>0      </td></tr>\n",
       "\t<tr><th scope=row>13</th><td>felCat5</td><td>0      </td><td>4      </td><td>4      </td><td>0      </td><td>3      </td></tr>\n",
       "\t<tr><th scope=row>14</th><td>gorGor3</td><td>0      </td><td>7      </td><td>4      </td><td>0      </td><td>0      </td></tr>\n",
       "\t<tr><th scope=row>15</th><td>hetGla2</td><td>0      </td><td>7      </td><td>2      </td><td>0      </td><td>0      </td></tr>\n",
       "\t<tr><th scope=row>16</th><td>hg19</td><td>0   </td><td>9   </td><td>3   </td><td>0   </td><td>0   </td></tr>\n",
       "\t<tr><th scope=row>17</th><td>loxAfr3</td><td>1      </td><td>27     </td><td>20     </td><td>1      </td><td>1      </td></tr>\n",
       "\t<tr><th scope=row>18</th><td>macEug2</td><td>0      </td><td>4      </td><td>2      </td><td>0      </td><td>0      </td></tr>\n",
       "\t<tr><th scope=row>19</th><td>micMur1</td><td>0      </td><td>2      </td><td>2      </td><td>0      </td><td>0      </td></tr>\n",
       "\t<tr><th scope=row>20</th><td>mm10</td><td>0   </td><td>8   </td><td>1   </td><td>0   </td><td>0   </td></tr>\n",
       "\t<tr><th scope=row>21</th><td>monDom5</td><td>0      </td><td>3      </td><td>4      </td><td>0      </td><td>1      </td></tr>\n",
       "\t<tr><th scope=row>22</th><td>musFur1</td><td>0      </td><td>5      </td><td>6      </td><td>0      </td><td>1      </td></tr>\n",
       "\t<tr><th scope=row>23</th><td>myoLuc2</td><td>0      </td><td>2      </td><td>2      </td><td>0      </td><td>0      </td></tr>\n",
       "\t<tr><th scope=row>24</th><td>nomLeu3</td><td>0      </td><td>6      </td><td>6      </td><td>1      </td><td>0      </td></tr>\n",
       "\t<tr><th scope=row>25</th><td>ochPri3</td><td>0      </td><td>5      </td><td>4      </td><td>0      </td><td>0      </td></tr>\n",
       "\t<tr><th scope=row>26</th><td>ornAna1</td><td>0      </td><td>16     </td><td>8      </td><td>0      </td><td>0      </td></tr>\n",
       "\t<tr><th scope=row>27</th><td>oryCun2</td><td>0      </td><td>8      </td><td>3      </td><td>0      </td><td>0      </td></tr>\n",
       "\t<tr><th scope=row>28</th><td>otoGar3</td><td>0      </td><td>3      </td><td>2      </td><td>0      </td><td>0      </td></tr>\n",
       "\t<tr><th scope=row>29</th><td>oviAri3</td><td>0      </td><td>7      </td><td>2      </td><td>0      </td><td>1      </td></tr>\n",
       "\t<tr><th scope=row>30</th><td>panTro4</td><td>0      </td><td>10     </td><td>5      </td><td>0      </td><td>0      </td></tr>\n",
       "\t<tr><th scope=row>31</th><td>papAnu2</td><td>0      </td><td>6      </td><td>5      </td><td>0      </td><td>0      </td></tr>\n",
       "\t<tr><th scope=row>32</th><td>ponAbe2</td><td>0      </td><td>8      </td><td>4      </td><td>1      </td><td>0      </td></tr>\n",
       "\t<tr><th scope=row>33</th><td>proCap1</td><td>0      </td><td>7      </td><td>6      </td><td>0      </td><td>0      </td></tr>\n",
       "\t<tr><th scope=row>34</th><td>pteVam1</td><td>0      </td><td>3      </td><td>41     </td><td>0      </td><td>6      </td></tr>\n",
       "\t<tr><th scope=row>35</th><td>rheMac8</td><td>0      </td><td>11     </td><td>3      </td><td>0      </td><td>2      </td></tr>\n",
       "\t<tr><th scope=row>36</th><td>rn6</td><td>0  </td><td>6  </td><td>2  </td><td>0  </td><td>0  </td></tr>\n",
       "\t<tr><th scope=row>37</th><td>saiBol1</td><td>0      </td><td>5      </td><td>3      </td><td>0      </td><td>0      </td></tr>\n",
       "\t<tr><th scope=row>38</th><td>sarHar1</td><td>0      </td><td>2      </td><td>4      </td><td>0      </td><td>1      </td></tr>\n",
       "\t<tr><th scope=row>39</th><td>sorAra2</td><td>0      </td><td>2      </td><td>5      </td><td>0      </td><td>0      </td></tr>\n",
       "\t<tr><th scope=row>40</th><td>speTri2</td><td>0      </td><td>3      </td><td>3      </td><td>0      </td><td>0      </td></tr>\n",
       "\t<tr><th scope=row>41</th><td>susScr3</td><td>0      </td><td>10     </td><td>4      </td><td>1      </td><td>0      </td></tr>\n",
       "\t<tr><th scope=row>42</th><td>tarSyr2</td><td>0      </td><td>4      </td><td>3      </td><td>0      </td><td>0      </td></tr>\n",
       "\t<tr><th scope=row>43</th><td>triMan1</td><td>0      </td><td>8      </td><td>7      </td><td>0      </td><td>1      </td></tr>\n",
       "\t<tr><th scope=row>44</th><td>turTru2</td><td>0      </td><td>12     </td><td>3      </td><td>0      </td><td>0      </td></tr>\n",
       "\t<tr><th scope=row>45</th><td>vicPac2</td><td>0      </td><td>6      </td><td>1      </td><td>0      </td><td>1      </td></tr>\n",
       "</tbody>\n",
       "</table>\n"
      ],
      "text/latex": [
       "\\begin{tabular}{r|llllll}\n",
       "  & species & - & A & C & G & U\\\\\n",
       "\\hline\n",
       "\t1 & ailMel1 & 0       & 2       & 5       & 0       & 3      \\\\\n",
       "\t2 & balAcu1 & 0       & 10      & 3       & 0       & 1      \\\\\n",
       "\t3 & bosTau8 & 0       & 19      & 4       & 0       & 0      \\\\\n",
       "\t4 & calJac3 & 0       & 5       & 3       & 0       & 0      \\\\\n",
       "\t5 & canFam3 & 0       & 4       & 4       & 1       & 2      \\\\\n",
       "\t6 & cavPor3 & 0       & 3       & 3       & 0       & 0      \\\\\n",
       "\t7 & cerSim1 & 0       & 12      & 5       & 0       & 2      \\\\\n",
       "\t8 & criGri1 & 0       & 9       & 4       & 0       & 0      \\\\\n",
       "\t9 & dasNov3 & 0       & 8       & 5       & 0       & 2      \\\\\n",
       "\t10 & dipOrd1 & 0       & 3       & 3       & 0       & 3      \\\\\n",
       "\t11 & equCab2 & 0       & 9       & 4       & 0       & 2      \\\\\n",
       "\t12 & eriEur2 & 0       & 5       & 6       & 0       & 0      \\\\\n",
       "\t13 & felCat5 & 0       & 4       & 4       & 0       & 3      \\\\\n",
       "\t14 & gorGor3 & 0       & 7       & 4       & 0       & 0      \\\\\n",
       "\t15 & hetGla2 & 0       & 7       & 2       & 0       & 0      \\\\\n",
       "\t16 & hg19 & 0    & 9    & 3    & 0    & 0   \\\\\n",
       "\t17 & loxAfr3 & 1       & 27      & 20      & 1       & 1      \\\\\n",
       "\t18 & macEug2 & 0       & 4       & 2       & 0       & 0      \\\\\n",
       "\t19 & micMur1 & 0       & 2       & 2       & 0       & 0      \\\\\n",
       "\t20 & mm10 & 0    & 8    & 1    & 0    & 0   \\\\\n",
       "\t21 & monDom5 & 0       & 3       & 4       & 0       & 1      \\\\\n",
       "\t22 & musFur1 & 0       & 5       & 6       & 0       & 1      \\\\\n",
       "\t23 & myoLuc2 & 0       & 2       & 2       & 0       & 0      \\\\\n",
       "\t24 & nomLeu3 & 0       & 6       & 6       & 1       & 0      \\\\\n",
       "\t25 & ochPri3 & 0       & 5       & 4       & 0       & 0      \\\\\n",
       "\t26 & ornAna1 & 0       & 16      & 8       & 0       & 0      \\\\\n",
       "\t27 & oryCun2 & 0       & 8       & 3       & 0       & 0      \\\\\n",
       "\t28 & otoGar3 & 0       & 3       & 2       & 0       & 0      \\\\\n",
       "\t29 & oviAri3 & 0       & 7       & 2       & 0       & 1      \\\\\n",
       "\t30 & panTro4 & 0       & 10      & 5       & 0       & 0      \\\\\n",
       "\t31 & papAnu2 & 0       & 6       & 5       & 0       & 0      \\\\\n",
       "\t32 & ponAbe2 & 0       & 8       & 4       & 1       & 0      \\\\\n",
       "\t33 & proCap1 & 0       & 7       & 6       & 0       & 0      \\\\\n",
       "\t34 & pteVam1 & 0       & 3       & 41      & 0       & 6      \\\\\n",
       "\t35 & rheMac8 & 0       & 11      & 3       & 0       & 2      \\\\\n",
       "\t36 & rn6 & 0   & 6   & 2   & 0   & 0  \\\\\n",
       "\t37 & saiBol1 & 0       & 5       & 3       & 0       & 0      \\\\\n",
       "\t38 & sarHar1 & 0       & 2       & 4       & 0       & 1      \\\\\n",
       "\t39 & sorAra2 & 0       & 2       & 5       & 0       & 0      \\\\\n",
       "\t40 & speTri2 & 0       & 3       & 3       & 0       & 0      \\\\\n",
       "\t41 & susScr3 & 0       & 10      & 4       & 1       & 0      \\\\\n",
       "\t42 & tarSyr2 & 0       & 4       & 3       & 0       & 0      \\\\\n",
       "\t43 & triMan1 & 0       & 8       & 7       & 0       & 1      \\\\\n",
       "\t44 & turTru2 & 0       & 12      & 3       & 0       & 0      \\\\\n",
       "\t45 & vicPac2 & 0       & 6       & 1       & 0       & 1      \\\\\n",
       "\\end{tabular}\n"
      ],
      "text/plain": [
       "   species -  A  C G U\n",
       "1  ailMel1 0  2  5 0 3\n",
       "2  balAcu1 0 10  3 0 1\n",
       "3  bosTau8 0 19  4 0 0\n",
       "4  calJac3 0  5  3 0 0\n",
       "5  canFam3 0  4  4 1 2\n",
       "6  cavPor3 0  3  3 0 0\n",
       "7  cerSim1 0 12  5 0 2\n",
       "8  criGri1 0  9  4 0 0\n",
       "9  dasNov3 0  8  5 0 2\n",
       "10 dipOrd1 0  3  3 0 3\n",
       "11 equCab2 0  9  4 0 2\n",
       "12 eriEur2 0  5  6 0 0\n",
       "13 felCat5 0  4  4 0 3\n",
       "14 gorGor3 0  7  4 0 0\n",
       "15 hetGla2 0  7  2 0 0\n",
       "16    hg19 0  9  3 0 0\n",
       "17 loxAfr3 1 27 20 1 1\n",
       "18 macEug2 0  4  2 0 0\n",
       "19 micMur1 0  2  2 0 0\n",
       "20    mm10 0  8  1 0 0\n",
       "21 monDom5 0  3  4 0 1\n",
       "22 musFur1 0  5  6 0 1\n",
       "23 myoLuc2 0  2  2 0 0\n",
       "24 nomLeu3 0  6  6 1 0\n",
       "25 ochPri3 0  5  4 0 0\n",
       "26 ornAna1 0 16  8 0 0\n",
       "27 oryCun2 0  8  3 0 0\n",
       "28 otoGar3 0  3  2 0 0\n",
       "29 oviAri3 0  7  2 0 1\n",
       "30 panTro4 0 10  5 0 0\n",
       "31 papAnu2 0  6  5 0 0\n",
       "32 ponAbe2 0  8  4 1 0\n",
       "33 proCap1 0  7  6 0 0\n",
       "34 pteVam1 0  3 41 0 6\n",
       "35 rheMac8 0 11  3 0 2\n",
       "36     rn6 0  6  2 0 0\n",
       "37 saiBol1 0  5  3 0 0\n",
       "38 sarHar1 0  2  4 0 1\n",
       "39 sorAra2 0  2  5 0 0\n",
       "40 speTri2 0  3  3 0 0\n",
       "41 susScr3 0 10  4 1 0\n",
       "42 tarSyr2 0  4  3 0 0\n",
       "43 triMan1 0  8  7 0 1\n",
       "44 turTru2 0 12  3 0 0\n",
       "45 vicPac2 0  6  1 0 1"
      ]
     },
     "metadata": {},
     "output_type": "display_data"
    }
   ],
   "source": [
    "identities %>% filter(!restrict, isotype == \"Val\", clade == \"Mammalia\") %>% select(species, X60) %>%\n",
    "  group_by(species, X60) %>% tally %>% spread(X60, n, 0) %>% filter(A != 0 | G != 0)"
   ]
  },
  {
   "cell_type": "code",
   "execution_count": 75,
   "metadata": {
    "collapsed": false
   },
   "outputs": [
    {
     "data": {
      "text/html": [
       "<table>\n",
       "<thead><tr><th></th><th scope=col>species</th><th scope=col>-</th><th scope=col>A</th><th scope=col>C</th><th scope=col>G</th><th scope=col>U</th></tr></thead>\n",
       "<tbody>\n",
       "\t<tr><th scope=row>1</th><td>araTha1</td><td>0      </td><td>1      </td><td>3      </td><td>0      </td><td>0      </td></tr>\n",
       "\t<tr><th scope=row>2</th><td>braDis3</td><td>0      </td><td>6      </td><td>3      </td><td>0      </td><td>0      </td></tr>\n",
       "\t<tr><th scope=row>3</th><td>braOle1</td><td>1      </td><td>12     </td><td>10     </td><td>1      </td><td>0      </td></tr>\n",
       "\t<tr><th scope=row>4</th><td>carPap1</td><td>0      </td><td>2      </td><td>4      </td><td>0      </td><td>0      </td></tr>\n",
       "\t<tr><th scope=row>5</th><td>cucSat1</td><td>0      </td><td>8      </td><td>2      </td><td>0      </td><td>0      </td></tr>\n",
       "\t<tr><th scope=row>6</th><td>fraVes1</td><td>0      </td><td>3      </td><td>3      </td><td>0      </td><td>0      </td></tr>\n",
       "\t<tr><th scope=row>7</th><td>glyMax2</td><td>0      </td><td>11     </td><td>3      </td><td>0      </td><td>1      </td></tr>\n",
       "\t<tr><th scope=row>8</th><td>gosRai2</td><td>0      </td><td>9      </td><td>5      </td><td>0      </td><td>0      </td></tr>\n",
       "\t<tr><th scope=row>9</th><td>malDom1</td><td>0      </td><td>5      </td><td>2      </td><td>0      </td><td>0      </td></tr>\n",
       "\t<tr><th scope=row>10</th><td>manEsc6</td><td>0      </td><td>7      </td><td>5      </td><td>0      </td><td>1      </td></tr>\n",
       "\t<tr><th scope=row>11</th><td>medTru4</td><td>2      </td><td>7      </td><td>3      </td><td>0      </td><td>0      </td></tr>\n",
       "\t<tr><th scope=row>12</th><td>orySat7</td><td>0      </td><td>4      </td><td>3      </td><td>0      </td><td>0      </td></tr>\n",
       "\t<tr><th scope=row>13</th><td>popTri3</td><td>0      </td><td>5      </td><td>1      </td><td>0      </td><td>0      </td></tr>\n",
       "\t<tr><th scope=row>14</th><td>solPen1</td><td>0      </td><td>5      </td><td>6      </td><td>0      </td><td>1      </td></tr>\n",
       "\t<tr><th scope=row>15</th><td>sorBic3</td><td>0      </td><td>3      </td><td>3      </td><td>0      </td><td>0      </td></tr>\n",
       "\t<tr><th scope=row>16</th><td>spiPol1</td><td>0      </td><td>1      </td><td>1      </td><td>0      </td><td>0      </td></tr>\n",
       "\t<tr><th scope=row>17</th><td>vitVin1</td><td>0      </td><td>3      </td><td>2      </td><td>0      </td><td>0      </td></tr>\n",
       "\t<tr><th scope=row>18</th><td>zeaMay6</td><td>0      </td><td>23     </td><td>3      </td><td>0      </td><td>0      </td></tr>\n",
       "</tbody>\n",
       "</table>\n"
      ],
      "text/latex": [
       "\\begin{tabular}{r|llllll}\n",
       "  & species & - & A & C & G & U\\\\\n",
       "\\hline\n",
       "\t1 & araTha1 & 0       & 1       & 3       & 0       & 0      \\\\\n",
       "\t2 & braDis3 & 0       & 6       & 3       & 0       & 0      \\\\\n",
       "\t3 & braOle1 & 1       & 12      & 10      & 1       & 0      \\\\\n",
       "\t4 & carPap1 & 0       & 2       & 4       & 0       & 0      \\\\\n",
       "\t5 & cucSat1 & 0       & 8       & 2       & 0       & 0      \\\\\n",
       "\t6 & fraVes1 & 0       & 3       & 3       & 0       & 0      \\\\\n",
       "\t7 & glyMax2 & 0       & 11      & 3       & 0       & 1      \\\\\n",
       "\t8 & gosRai2 & 0       & 9       & 5       & 0       & 0      \\\\\n",
       "\t9 & malDom1 & 0       & 5       & 2       & 0       & 0      \\\\\n",
       "\t10 & manEsc6 & 0       & 7       & 5       & 0       & 1      \\\\\n",
       "\t11 & medTru4 & 2       & 7       & 3       & 0       & 0      \\\\\n",
       "\t12 & orySat7 & 0       & 4       & 3       & 0       & 0      \\\\\n",
       "\t13 & popTri3 & 0       & 5       & 1       & 0       & 0      \\\\\n",
       "\t14 & solPen1 & 0       & 5       & 6       & 0       & 1      \\\\\n",
       "\t15 & sorBic3 & 0       & 3       & 3       & 0       & 0      \\\\\n",
       "\t16 & spiPol1 & 0       & 1       & 1       & 0       & 0      \\\\\n",
       "\t17 & vitVin1 & 0       & 3       & 2       & 0       & 0      \\\\\n",
       "\t18 & zeaMay6 & 0       & 23      & 3       & 0       & 0      \\\\\n",
       "\\end{tabular}\n"
      ],
      "text/plain": [
       "   species -  A  C G U\n",
       "1  araTha1 0  1  3 0 0\n",
       "2  braDis3 0  6  3 0 0\n",
       "3  braOle1 1 12 10 1 0\n",
       "4  carPap1 0  2  4 0 0\n",
       "5  cucSat1 0  8  2 0 0\n",
       "6  fraVes1 0  3  3 0 0\n",
       "7  glyMax2 0 11  3 0 1\n",
       "8  gosRai2 0  9  5 0 0\n",
       "9  malDom1 0  5  2 0 0\n",
       "10 manEsc6 0  7  5 0 1\n",
       "11 medTru4 2  7  3 0 0\n",
       "12 orySat7 0  4  3 0 0\n",
       "13 popTri3 0  5  1 0 0\n",
       "14 solPen1 0  5  6 0 1\n",
       "15 sorBic3 0  3  3 0 0\n",
       "16 spiPol1 0  1  1 0 0\n",
       "17 vitVin1 0  3  2 0 0\n",
       "18 zeaMay6 0 23  3 0 0"
      ]
     },
     "metadata": {},
     "output_type": "display_data"
    }
   ],
   "source": [
    "identities %>% filter(!restrict, isotype == \"Ile\", clade == \"Spermatophyta\") %>% select(species, X60) %>%\n",
    "  group_by(species, X60) %>% tally %>% spread(X60, n, 0) %>% filter(A != 0 | G != 0)"
   ]
  },
  {
   "cell_type": "markdown",
   "metadata": {},
   "source": [
    "# Ala"
   ]
  },
  {
   "cell_type": "code",
   "execution_count": null,
   "metadata": {
    "collapsed": false
   },
   "outputs": [],
   "source": [
    "best_freqs %>% filter(positions == 'X3.70', feature == \"GU\")"
   ]
  },
  {
   "cell_type": "code",
   "execution_count": null,
   "metadata": {
    "collapsed": false
   },
   "outputs": [],
   "source": [
    "# Exceptions to G3:U70\n",
    "identities %>% select(clade, species, isotype, X3.70) %>% filter(isotype == \"Ala\") %>%\n",
    "  group_by(species) %>% mutate(ntRNAs = n()) %>%\n",
    "  group_by(clade, species, ntRNAs, X3.70) %>% tally() %>% spread(X3.70, n, fill='.') %>% \n",
    "  filter(as.integer(`G:U`)/ntRNAs < 0.9) %>%\n",
    "  kable %>% paste(collapse = '\\n') %>% display_markdown\n",
    "\n",
    "# related: G1:C72, which vertebrates?\n",
    "identities %>% select(clade, species, isotype, X1.72) %>% filter(isotype == 'Ala', clade == \"Vertebrata\") %>%\n",
    "  group_by(clade, species, X1.72) %>% tally() %>% spread(X1.72, n, fill='.')\n",
    "identities %>% select(clade, quality, species, isotype, X1.72) %>% \n",
    "  filter(isotype == 'Ala', species == \"calMil1\") %>%\n",
    "  group_by(species, quality, X1.72) %>% tally()"
   ]
  },
  {
   "cell_type": "code",
   "execution_count": null,
   "metadata": {
    "collapsed": false
   },
   "outputs": [],
   "source": [
    "# Pos. 73 for insects\n",
    "identities %>% select(clade, restrict, isotype, X73) %>% filter(isotype == \"Ala\", clade == 'Insecta') %>%\n",
    "  group_by(restrict, X73) %>% tally() %>% spread(X73, n, fill='.')"
   ]
  },
  {
   "cell_type": "markdown",
   "metadata": {},
   "source": [
    "# Arg"
   ]
  },
  {
   "cell_type": "code",
   "execution_count": null,
   "metadata": {
    "collapsed": false
   },
   "outputs": [],
   "source": [
    "#G36 and U36\n",
    "identities %>% filter(isotype == \"Arg\") %>% select(clade, X36) %>% \n",
    "  group_by(clade, X36) %>% tally() %>% spread(X36, n, fill='.')"
   ]
  },
  {
   "cell_type": "code",
   "execution_count": null,
   "metadata": {
    "collapsed": false
   },
   "outputs": [],
   "source": [
    "# N73 is clade-specific\n",
    "identities %>% filter(isotype == \"Arg\") %>% select(clade, X73) %>% \n",
    "  group_by(clade, X73) %>% tally() %>% spread(X73, n, fill='.')\n",
    "\n",
    "# species-specific?\n",
    "identities %>% filter(isotype == \"Arg\") %>% select(clade, species, X73) %>% \n",
    "  group_by(clade, species, X73) %>% tally() %>% spread(X73, n, fill='.') %>%\n",
    "  kable %>% paste(collapse = '\\n') %>% display_markdown"
   ]
  },
  {
   "cell_type": "markdown",
   "metadata": {},
   "source": [
    "# Asn"
   ]
  },
  {
   "cell_type": "code",
   "execution_count": null,
   "metadata": {
    "collapsed": false
   },
   "outputs": [],
   "source": [
    "# G1\n",
    "identities %>% select(clade, isotype, X1.72) %>% filter(isotype == 'Asn') %>%\n",
    "  group_by(clade, X1.72) %>% tally() %>% spread(X1.72, n, fill='.')"
   ]
  },
  {
   "cell_type": "code",
   "execution_count": null,
   "metadata": {
    "collapsed": false
   },
   "outputs": [],
   "source": [
    "# Y60 transition to C60\n",
    "identities %>% select(clade, isotype, X60) %>% filter(isotype == \"Asn\") %>%\n",
    "  group_by(clade, isotype, X60) %>% tally() %>% spread(X60, n, fill='.')\n",
    "\n",
    "identities %>% select(clade, species_long, isotype, X60) %>% filter(isotype == \"Asn\", clade == \"Nematoda\") %>%\n",
    "  group_by(clade, species_long, isotype, X60) %>% tally() %>% spread(X60, n, fill='.') %>% \n",
    "    kable %>% paste(collapse = '\\n') %>% display_markdown"
   ]
  },
  {
   "cell_type": "markdown",
   "metadata": {},
   "source": [
    "# Asp"
   ]
  },
  {
   "cell_type": "code",
   "execution_count": null,
   "metadata": {
    "collapsed": false
   },
   "outputs": [],
   "source": [
    "# 1:72\n",
    "identities %>% select(clade, isotype, X1.72) %>% filter(isotype == \"Asp\") %>%\n",
    "  group_by(clade, X1.72) %>% tally %>% spread(X1.72, n, fill='.')"
   ]
  },
  {
   "cell_type": "code",
   "execution_count": null,
   "metadata": {
    "collapsed": false
   },
   "outputs": [],
   "source": [
    "# G10:U25\n",
    "identities %>% select(clade, isotype, X10.25) %>% filter(isotype == \"Asp\") %>%\n",
    "  group_by(clade, X10.25) %>% tally %>% spread(X10.25, n, fill='.')\n",
    "identities %>% select(clade, species_long, isotype, X10.25) %>% filter(isotype == \"Asp\") %>%\n",
    "  group_by(clade, species_long, X10.25) %>% tally %>% spread(X10.25, n, fill='.') %>%\n",
    "  filter(!(`G:C` == '.' & `A:U` == \".\" & `G:A` == \".\")) "
   ]
  },
  {
   "cell_type": "code",
   "execution_count": null,
   "metadata": {
    "collapsed": false
   },
   "outputs": [],
   "source": [
    "# C38 in plants / insects\n",
    "identities %>% select(clade, species, isotype, X34) %>% filter(isotype == \"Asp\", clade == \"Insecta\") %>%\n",
    "  group_by(clade, species, X34) %>% tally %>% spread(X34, n, fill = '.')\n",
    "identities %>% select(clade, species, isotype, X38) %>% filter(isotype == \"Asp\", clade %in% c(\"Insecta\", \"Spermatophyta\")) %>%\n",
    "  group_by(clade, species, X38) %>% tally %>% spread(X38, n, fill = '.')"
   ]
  },
  {
   "cell_type": "code",
   "execution_count": null,
   "metadata": {
    "collapsed": false
   },
   "outputs": [],
   "source": [
    "# G73 in mammals\n",
    "identities %>% select(restrict, clade, species, isotype, X73) %>% filter(!restrict, clade == \"Mammalia\", isotype == \"Asp\") %>%\n",
    "  group_by(species, X73) %>% tally %>% spread(X73, n, fill = '.') %>% filter(A != '.')\n",
    "identities %>% filter(!restrict, species %in% c(\"oviAri3\", \"rheMac8\", \"turTru2\"), isotype == \"Asp\", X73 == \"A\")"
   ]
  },
  {
   "cell_type": "markdown",
   "metadata": {},
   "source": [
    "# Cys"
   ]
  },
  {
   "cell_type": "code",
   "execution_count": null,
   "metadata": {
    "collapsed": false
   },
   "outputs": [],
   "source": [
    "# U73\n",
    "identities %>% select(restrict, clade, species, isotype, X73) %>% filter(!restrict, clade == \"Insecta\", isotype == \"Cys\") %>%\n",
    "  group_by(X73) %>% tally"
   ]
  },
  {
   "cell_type": "markdown",
   "metadata": {},
   "source": [
    "# Gln"
   ]
  },
  {
   "cell_type": "code",
   "execution_count": null,
   "metadata": {
    "collapsed": false
   },
   "outputs": [],
   "source": [
    "# N73\n",
    "identities %>% select(restrict, clade, species_long, isotype, X73) %>% filter(!restrict, clade == \"Fungi\", isotype == \"Gln\") %>%\n",
    "  group_by(species_long, X73) %>% tally %>% spread(X73, n, '.') %>% filter(`A` != '.' | `C` != '.')"
   ]
  },
  {
   "cell_type": "markdown",
   "metadata": {},
   "source": [
    "# Glu"
   ]
  },
  {
   "cell_type": "code",
   "execution_count": null,
   "metadata": {
    "collapsed": false
   },
   "outputs": [],
   "source": [
    "# U9\n",
    "identities %>% select(restrict, clade, species_long, isotype, X9) %>%\n",
    "  filter(!restrict, clade == \"Insecta\", isotype == \"Glu\") %>%\n",
    "  group_by(species_long, X9) %>% tally %>% spread(X9, n, '.')\n",
    "identities %>% select(restrict, clade, species_long, isotype, X9) %>%\n",
    "  filter(!restrict, clade == \"Spermatophyta\", isotype == \"Glu\") %>%\n",
    "  group_by(species_long, X9) %>% tally %>% spread(X9, n, '.')"
   ]
  },
  {
   "cell_type": "code",
   "execution_count": null,
   "metadata": {
    "collapsed": false
   },
   "outputs": [],
   "source": [
    "# R73\n",
    "identities %>% select(restrict, clade, species_long, isotype, X73) %>%\n",
    "  filter(!restrict, clade == \"Fungi\", isotype == \"Glu\") %>%\n",
    "  group_by(species_long, X73) %>% tally %>% spread(X73, n, '.')\n",
    "identities %>% select(restrict, clade, species_long, isotype, X73) %>%\n",
    "  filter(!restrict, clade == \"Spermatophyta\", isotype == \"Glu\") %>%\n",
    "  group_by(species_long, X73) %>% tally %>% spread(X73, n, '.')"
   ]
  },
  {
   "cell_type": "markdown",
   "metadata": {},
   "source": [
    "# Gly"
   ]
  },
  {
   "cell_type": "code",
   "execution_count": null,
   "metadata": {
    "collapsed": false
   },
   "outputs": [],
   "source": [
    "# C2:G71 is present alongisde G:U in fungi\n",
    "identities %>% select(restrict, clade, species_long, isotype, X2.71) %>%\n",
    "  filter(!restrict, clade == \"Fungi\", isotype == \"Gly\") %>%\n",
    "  group_by(species_long, X2.71) %>% tally %>% spread(X2.71, n, '.') %>%\n",
    "  kable %>% paste(collapse = '\\n') %>% display_markdown\n",
    "\n",
    "identities %>% select(restrict, clade, species_long, isotype, X2.71) %>%\n",
    "  filter(!restrict, clade == \"Fungi\", isotype == \"Gly\") %>%\n",
    "  group_by(species_long, X2.71) %>% tally %>% spread(X2.71, n, '.') %>% filter(`C:G` == '.')"
   ]
  },
  {
   "cell_type": "code",
   "execution_count": null,
   "metadata": {
    "collapsed": false
   },
   "outputs": [],
   "source": [
    "# A73 is not conserved in insects\n",
    "identities %>% select(restrict, clade, species_long, isotype, X73) %>% \n",
    "  filter(!restrict, clade == \"Insecta\", isotype == \"Gly\") %>%\n",
    "  group_by(species_long, X73) %>% tally %>% spread(X73, n, '.')"
   ]
  },
  {
   "cell_type": "markdown",
   "metadata": {},
   "source": [
    "# His"
   ]
  },
  {
   "cell_type": "code",
   "execution_count": null,
   "metadata": {
    "collapsed": false
   },
   "outputs": [],
   "source": [
    "# A73 and U73\n",
    "identities %>% select(restrict, clade, species_long, isotype, X73) %>%\n",
    "  filter(!restrict, clade == \"Fungi\", isotype == \"His\") %>%\n",
    "  group_by(species_long, X73) %>% tally %>% spread(X73, n, '.') %>% filter(C != '.' | U != '.')"
   ]
  },
  {
   "cell_type": "markdown",
   "metadata": {},
   "source": [
    "# Ile"
   ]
  },
  {
   "cell_type": "code",
   "execution_count": null,
   "metadata": {
    "collapsed": false
   },
   "outputs": [],
   "source": [
    "# A34, U34\n",
    "identities %>% select(restrict, clade, species_long, isotype, X34) %>%\n",
    "  filter(!restrict, isotype == \"Ile\") %>%\n",
    "  group_by(species_long, X34) %>% tally %>% spread(X34, n, '.') %>% \n",
    "  kable %>% paste(collapse = '\\n') %>% display_markdown\n",
    "\n",
    "identities %>% select(restrict, clade, species_long, isotype, X34) %>%\n",
    "  filter(isotype == \"Ile\") %>%\n",
    "  group_by(species_long, X34) %>% tally %>% spread(X34, n, '.') %>% filter(A == '.' | U == '.')"
   ]
  },
  {
   "cell_type": "code",
   "execution_count": null,
   "metadata": {
    "collapsed": false
   },
   "outputs": [],
   "source": [
    "# A73 is muddled in insects\n",
    "identities %>% select(restrict, clade, species_long, isotype, X73) %>%\n",
    "  filter(!restrict, isotype == \"Ile\") %>%\n",
    "  group_by(species_long, X73) %>% tally %>% spread(X73, n, '.') %>% filter(G != '.')"
   ]
  },
  {
   "cell_type": "markdown",
   "metadata": {},
   "source": [
    "# Leu"
   ]
  },
  {
   "cell_type": "code",
   "execution_count": null,
   "metadata": {
    "collapsed": false
   },
   "outputs": [],
   "source": [
    "# 3:70, 4:69, 5:68\n",
    "identities %>% select(restrict, clade, isotype, X3.70) %>%\n",
    "  filter(!restrict, isotype == \"Leu\") %>%\n",
    "  group_by(clade, X3.70) %>% tally %>% filter(n > 1) %>% spread(X3.70, n, '.')\n",
    "identities %>% select(restrict, clade, isotype, X4.69) %>%\n",
    "  filter(!restrict, isotype == \"Leu\") %>%\n",
    "  group_by(clade, X4.69) %>% tally %>% filter(n > 1) %>% spread(X4.69, n, '.')\n",
    "identities %>% select(restrict, clade, isotype, X5.68) %>%\n",
    "  filter(!restrict, isotype == \"Leu\") %>%\n",
    "  group_by(clade, X5.68) %>% tally %>% filter(n > 1) %>% spread(X5.68, n, '.')\n"
   ]
  },
  {
   "cell_type": "code",
   "execution_count": null,
   "metadata": {
    "collapsed": false
   },
   "outputs": [],
   "source": [
    "# C20a\n",
    "identities %>% select(restrict, clade, isotype, X20a) %>%\n",
    "  filter(!restrict, isotype == \"Leu\") %>%\n",
    "  group_by(clade, X20a) %>% tally %>% filter(n > 1) %>% spread(X20a, n, '.')"
   ]
  },
  {
   "cell_type": "markdown",
   "metadata": {},
   "source": [
    "# Lys"
   ]
  },
  {
   "cell_type": "code",
   "execution_count": null,
   "metadata": {
    "collapsed": false
   },
   "outputs": [],
   "source": [
    "# N73 nonspecificity\n",
    "identities %>% select(restrict, clade, isotype, X73) %>% filter(!restrict, isotype == \"Lys\") %>%\n",
    "  group_by(clade, X73) %>% tally %>% spread(X73, n, '.')"
   ]
  },
  {
   "cell_type": "code",
   "execution_count": null,
   "metadata": {
    "collapsed": false
   },
   "outputs": [],
   "source": [
    "identities %>% filter(!restrict, clade == \"Mammalia\", isotype == \"Lys\", species == \"hg19\") %>% select(seqname, X18.55, score, isoscore)"
   ]
  },
  {
   "cell_type": "code",
   "execution_count": null,
   "metadata": {
    "collapsed": false
   },
   "outputs": [],
   "source": [
    "# 18:55 in mammals\n",
    "identities %>% filter(!restrict, clade == \"Mammalia\", isotype == \"Lys\") %>% count(species, X18.55) %>%\n",
    "  spread(X18.55, n, fill = 0)"
   ]
  },
  {
   "cell_type": "markdown",
   "metadata": {},
   "source": [
    "# Met"
   ]
  },
  {
   "cell_type": "markdown",
   "metadata": {},
   "source": [
    "# iMet"
   ]
  },
  {
   "cell_type": "code",
   "execution_count": null,
   "metadata": {
    "collapsed": false
   },
   "outputs": [],
   "source": [
    "# G21\n",
    "identities %>% select(restrict "
   ]
  },
  {
   "cell_type": "code",
   "execution_count": null,
   "metadata": {
    "collapsed": false
   },
   "outputs": [],
   "source": [
    "# 29:41\n",
    "identities %>% select(restrict, clade, X29.41, isotype) %>% filter(isotype == \"iMet\") %>%\n",
    "  group_by(clade, X29.41) %>% tally %>% spread(X29.41, n, '.')\n",
    "\n",
    "identities %>% select(restrict, clade, species_long, X29.41, isotype) %>% filter(clade %in% c(\"Fungi\", \"Nematoda\"), isotype == \"iMet\") %>%\n",
    "  group_by(species_long, X29.41) %>% tally %>% spread(X29.41, n, '.') %>% filter(`A:U` != '.')"
   ]
  },
  {
   "cell_type": "code",
   "execution_count": null,
   "metadata": {
    "collapsed": false
   },
   "outputs": [],
   "source": [
    "# lack of U54\n",
    "identities %>% select(restrict, clade, species_long, X54, isotype) %>% filter(isotype == \"iMet\") %>%\n",
    "  group_by(species_long, X54) %>% tally %>% spread(X54, n, '.') %>% filter(C != '.' | U != '.')"
   ]
  },
  {
   "cell_type": "code",
   "execution_count": null,
   "metadata": {
    "collapsed": false
   },
   "outputs": [],
   "source": [
    "identities %>% filter(str_detect(species_long, \"Encephalito\")) %>% filter(isotype == 'Met') %>%\n",
    "kable %>% paste(collapse='\\n') %>% display_markdown"
   ]
  },
  {
   "cell_type": "markdown",
   "metadata": {},
   "source": [
    "# Phe"
   ]
  },
  {
   "cell_type": "code",
   "execution_count": null,
   "metadata": {
    "collapsed": false,
    "scrolled": true
   },
   "outputs": [],
   "source": [
    "# G20\n",
    "identities %>% select(restrict, clade, species_long, X20, isotype) %>% filter(isotype == \"Phe\", clade %in% c('Spermatophyta', 'Fungi')) %>%\n",
    "  group_by(clade, species_long, X20) %>% tally %>% spread(X20, n, 0) %>% filter(A != 0 | U != 0)"
   ]
  },
  {
   "cell_type": "markdown",
   "metadata": {},
   "source": [
    "# Pro"
   ]
  },
  {
   "cell_type": "code",
   "execution_count": null,
   "metadata": {
    "collapsed": false
   },
   "outputs": [],
   "source": [
    "# 13:22 mismatch\n",
    "identities %>% select(restrict, clade, species_long, X13.22, isotype) %>% filter(isotype == \"Pro\") %>%\n",
    "  group_by(X13.22, species_long) %>% tally %>% spread(X13.22, n, 0) %>%\n",
    "  kable %>% paste(collapse = '\\n') %>% display_markdown"
   ]
  },
  {
   "cell_type": "code",
   "execution_count": null,
   "metadata": {
    "collapsed": false
   },
   "outputs": [],
   "source": [
    "# Botrytis cinerea has a lot of C13:G22s\n",
    "identities %>% filter(isotype == \"Pro\", species == \"botrCine_B05_10\") %>%\n",
    "  select(clade, isotype, species, species_long, isotype_best, anticodon, score, isoscore, isoscore_ac, quality, restrict, X13.22)\n",
    "\n",
    "# Is TGG enriched for paired identities?\n",
    "identities %>% filter(isotype == \"Pro\") %>% group_by(anticodon, X13.22) %>% tally %>% spread(X13.22, n, 0)"
   ]
  },
  {
   "cell_type": "markdown",
   "metadata": {},
   "source": [
    "## Ser"
   ]
  },
  {
   "cell_type": "code",
   "execution_count": null,
   "metadata": {
    "collapsed": false
   },
   "outputs": [],
   "source": [
    "identities %>% select(restrict, clade, V.arm, isotype) %>% filter(!restrict, isotype %in% c(\"Leu\", \"Ser\")) %>%\n",
    "  group_by(isotype, clade) %>% summarize(n = mean(V.arm)) %>%\n",
    "  ggplot() + geom_bar(aes(y = n, x = isotype, fill = clade), position = 'dodge', stat = 'identity')"
   ]
  },
  {
   "cell_type": "markdown",
   "metadata": {},
   "source": [
    "# Thr"
   ]
  },
  {
   "cell_type": "code",
   "execution_count": null,
   "metadata": {
    "collapsed": false
   },
   "outputs": [],
   "source": [
    "identities %>% filter(isotype == \"Thr\") %>% select(clade, X73) %>% group_by(clade, X73) %>% tally %>% spread(X73, n, 0)"
   ]
  },
  {
   "cell_type": "markdown",
   "metadata": {},
   "source": [
    "# Trp"
   ]
  },
  {
   "cell_type": "code",
   "execution_count": null,
   "metadata": {
    "collapsed": false
   },
   "outputs": [],
   "source": [
    "identities %>% filter(isotype == \"Trp\") %>% select(clade, species_long, X35) %>% group_by(species_long, X35) %>%\n",
    "  tally %>% spread(X35, n, 0) %>% kable %>% paste(collapse = '\\n') %>% display_markdown"
   ]
  },
  {
   "cell_type": "markdown",
   "metadata": {},
   "source": [
    "# Tyr"
   ]
  },
  {
   "cell_type": "code",
   "execution_count": null,
   "metadata": {
    "collapsed": false
   },
   "outputs": [],
   "source": [
    "# 1:72\n",
    "identities %>% select(restrict, species_long, clade, isotype, X1.72, X2.71) %>% filter(!restrict, clade %in% c(\"Fungi\", \"Nematoda\"), isotype == \"Tyr\") %>%\n",
    "  group_by(species_long, X1.72) %>% tally %>% spread(X1.72, n, 0) %>% filter(sum(`A:G`, `A:U`, `C:A`, `C:G`, `G:C`, `G:U`, `U:A`) != `C:G`)"
   ]
  },
  {
   "cell_type": "code",
   "execution_count": null,
   "metadata": {
    "collapsed": false,
    "scrolled": true
   },
   "outputs": [],
   "source": [
    "identities %>% filter(species == \"caePb2\", isotype == \"Tyr\") %>% select(-seqname) %>% unique %>% kable %>% paste(collapse = '\\n') %>% display_markdown"
   ]
  },
  {
   "cell_type": "markdown",
   "metadata": {},
   "source": [
    "# Val"
   ]
  },
  {
   "cell_type": "code",
   "execution_count": null,
   "metadata": {
    "collapsed": false
   },
   "outputs": [],
   "source": [
    "# A/U 73\n",
    "identities %>% select(restrict, clade, species_long, isotype, X73) %>% filter(clade %in% c(\"Fungi\", \"Nematoda\"), isotype == \"Val\") %>%\n",
    "  group_by(X73, clade) %>% tally %>% spread(X73, n, 0)"
   ]
  },
  {
   "cell_type": "code",
   "execution_count": null,
   "metadata": {
    "collapsed": false
   },
   "outputs": [],
   "source": [
    "# species breakdown A/U 73\n",
    "identities %>% select(restrict, clade, species_long, isotype, X73) %>% filter(clade %in% c(\"Fungi\", \"Nematoda\"), isotype == \"Val\") %>%\n",
    "  group_by(X73, species_long, clade) %>% tally %>% spread(X73, n, 0) %>% filter(G != 0 | U != 0) %>% arrange(clade)\n"
   ]
  },
  {
   "cell_type": "markdown",
   "metadata": {},
   "source": [
    "# Misc sequence features\n",
    "\n",
    "## 3D interaction freqs"
   ]
  },
  {
   "cell_type": "code",
   "execution_count": null,
   "metadata": {
    "collapsed": false,
    "scrolled": true
   },
   "outputs": [],
   "source": [
    "# 9:23\n",
    "identities %>% select(restrict, clade, species_long, isotype, X9.23) %>% filter(!restrict) %>%\n",
    "  group_by(clade, X9.23) %>% tally %>% spread(X9.23, n, fill='.')\n",
    "\n",
    "# 10:45\n",
    "identities %>% select(restrict, clade, species_long, isotype, X10.45) %>% filter(!restrict) %>%\n",
    "  group_by(clade, X10.45) %>% tally %>% spread(X10.45, n, fill='.')\n",
    "\n",
    "# 22:46\n",
    "identities %>% select(restrict, clade, species_long, isotype, X22.46) %>% filter(!restrict) %>%\n",
    "  group_by(clade, X22.46) %>% tally %>% spread(X22.46, n, fill='.')"
   ]
  },
  {
   "cell_type": "code",
   "execution_count": null,
   "metadata": {
    "collapsed": false
   },
   "outputs": [],
   "source": [
    "identities %>% filter(!restrict) %>% select(intron) %>% filter(intron == 0) %>% nrow"
   ]
  },
  {
   "cell_type": "markdown",
   "metadata": {},
   "source": [
    "## Intron Y32 R37 requirements"
   ]
  },
  {
   "cell_type": "code",
   "execution_count": null,
   "metadata": {
    "collapsed": false
   },
   "outputs": [],
   "source": [
    "# Y32 divergence\n",
    "identities %>% filter(!restrict, X32 %in% c(\"A\", \"G\")) %>% \n",
    "  select(clade, species_long, seqname, isotype, X32, intron) %>% filter(intron != 0) %>% spread(X32, X32, '-')\n",
    "\n",
    "# R37 divergence\n",
    "identities %>% filter(!restrict, X37 %in% c(\"C\", \"U\")) %>% \n",
    "  select(clade, species_long, seqname, isotype, X37, intron) %>% filter(intron != 0) %>% spread(X37, X37, '-')\n",
    "\n",
    "# avg. score and isoscore_ac\n",
    "identities %>% filter(!restrict, (X37 %in% c(\"C\", \"U\")) | (X32 %in% c(\"A\", \"G\"))) %>% \n",
    "  select(clade, species_long, seqname, isotype, score, isoscore_ac, X32, X37, intron) %>% filter(intron != 0)\n"
   ]
  },
  {
   "cell_type": "markdown",
   "metadata": {},
   "source": [
    "## Ile-GAT sparing"
   ]
  },
  {
   "cell_type": "code",
   "execution_count": null,
   "metadata": {
    "collapsed": false
   },
   "outputs": [],
   "source": [
    "identities %>% select(clade, isotype, anticodon, species, score, isoscore_ac) %>% \n",
    "  filter(isotype == \"Ile\", clade %in% c(\"Mammalia\", \"Insecta\")) %>%\n",
    "  group_by(clade, species, anticodon) %>%\n",
    "  summarize(n = length(anticodon)) %>%\n",
    "  spread(anticodon, n, 0) %>% filter(GAT != 0)"
   ]
  },
  {
   "cell_type": "markdown",
   "metadata": {},
   "source": [
    "## Base pair mismatches"
   ]
  },
  {
   "cell_type": "code",
   "execution_count": null,
   "metadata": {
    "collapsed": false
   },
   "outputs": [],
   "source": [
    "# 3:70 in mammals\n",
    "identities %>% filter(!restrict) %>%\n",
    "  select(clade, species, isotype, X3.70) %>% filter(clade == \"Mammalia\", isotype == \"Gln\") %>% \n",
    "  group_by(species, X3.70) %>% tally %>% spread(X3.70, n, 0)"
   ]
  },
  {
   "cell_type": "code",
   "execution_count": null,
   "metadata": {
    "collapsed": true
   },
   "outputs": [],
   "source": [
    "df = identities %>% select(clade, species, isotype, X1.72) %>% filter(clade == \"Vertebrata\", isotype == \"Ala\") %>% group_by(X1.72) %>% tally"
   ]
  },
  {
   "cell_type": "markdown",
   "metadata": {
    "collapsed": true
   },
   "source": [
    "## 13:22"
   ]
  },
  {
   "cell_type": "code",
   "execution_count": null,
   "metadata": {
    "collapsed": false
   },
   "outputs": [],
   "source": [
    "identities %>% filter(isotype %in% c(\"Leu\", \"Ser\", \"Val\", \"Pro\")) %>% select(clade, species, isotype, X13.22) %>%\n",
    "  group_by(clade, isotype, X13.22) %>% tally %>% spread(X13.22, n, 0)"
   ]
  },
  {
   "cell_type": "markdown",
   "metadata": {},
   "source": [
    "## 27:43 in Phe"
   ]
  },
  {
   "cell_type": "code",
   "execution_count": null,
   "metadata": {
    "collapsed": false
   },
   "outputs": [],
   "source": [
    "identities %>% filter(isotype == \"Phe\", clade %in% c(\"Fungi\", \"Nematoda\")) %>% select(clade, species, isotype, X27.43) %>%\n",
    "  group_by(clade, species, isotype, X27.43) %>% tally %>% spread(X27.43, n, 0) %>% filter(`A:G` != 0 | `C:A` != 0 | `G:A` != 0 | `U:U` != 0)"
   ]
  },
  {
   "cell_type": "markdown",
   "metadata": {},
   "source": [
    "## 50:64 in Ile"
   ]
  },
  {
   "cell_type": "code",
   "execution_count": null,
   "metadata": {
    "collapsed": false
   },
   "outputs": [],
   "source": [
    "identities %>% filter(isotype == \"Ile\", clade == \"Insecta\") %>% select(clade, species, isotype, X50.64) %>%\n",
    "  group_by(clade, species, isotype, X50.64) %>% tally %>% spread(X50.64, n, 0)"
   ]
  },
  {
   "cell_type": "code",
   "execution_count": null,
   "metadata": {
    "collapsed": false
   },
   "outputs": [],
   "source": [
    "identities %>% filter(!restrict, species == \"micMur1\", isotype == \"Ser\")  %>% select(species, seqname, score, isotype, isoscore_ac, X5.68, X6.67, X7.66)"
   ]
  },
  {
   "cell_type": "code",
   "execution_count": null,
   "metadata": {
    "collapsed": false
   },
   "outputs": [],
   "source": [
    "identities %>% filter(!restrict, clade == \"Mammalia\", isotype == \"Ser\") %>% select(species, X5.68, X6.67, X7.66) %>%\n",
    "  gather(position, feature, -species) %>% group_by(feature) %>% tally %>% spread(feature, n, 0)\n",
    "\n",
    "identities %>% filter(!restrict, clade == \"Mammalia\", isotype == \"Ser\") %>% select(species, X5.68, X6.67, X7.66) %>%\n",
    "  gather(position, feature, -species) %>% group_by(species, feature) %>% tally %>% spread(feature, n, 0)"
   ]
  },
  {
   "cell_type": "code",
   "execution_count": null,
   "metadata": {
    "collapsed": true
   },
   "outputs": [],
   "source": []
  }
 ],
 "metadata": {
  "anaconda-cloud": {},
  "kernelspec": {
   "display_name": "R",
   "language": "R",
   "name": "ir"
  },
  "language_info": {
   "codemirror_mode": "r",
   "file_extension": ".r",
   "mimetype": "text/x-r-source",
   "name": "R",
   "pygments_lexer": "r",
   "version": "3.3.1"
  }
 },
 "nbformat": 4,
 "nbformat_minor": 0
}
