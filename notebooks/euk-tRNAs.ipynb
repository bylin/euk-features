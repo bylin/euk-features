{
 "cells": [
  {
   "cell_type": "code",
   "execution_count": 1,
   "metadata": {
    "collapsed": false
   },
   "outputs": [],
   "source": [
    "%matplotlib inline\n",
    "from ggplot import *\n",
    "import matplotlib as mpl\n",
    "import seaborn as sns\n",
    "mpl.rcParams['figure.figsize'] = (15, 6)\n",
    "mpl.style.use('ggplot')\n",
    "import pandas as pd\n",
    "import numpy\n",
    "import subprocess\n",
    "import glob\n",
    "import re\n",
    "import os, sys\n",
    "from collections import defaultdict, Counter, OrderedDict\n",
    "from Bio import SeqIO, SeqRecord, Seq\n",
    "from tRNA_position import *\n",
    "pd.set_option('display.max_colwidth',10000)\n",
    "pd.set_option('display.width', 10000)\n",
    "pd.set_option('display.max_columns', 10000)\n",
    "pd.set_option('display.max_rows',1000)\n",
    "isotypes = ['Ala', 'Arg', 'Asn', 'Asp', 'Cys', 'Gln', 'Glu', 'Gly', 'His', 'Ile', 'iMet', 'Leu', 'Lys', 'Met', 'Phe', 'Pro', 'Ser', 'Thr', 'Trp', 'Tyr', 'Val']"
   ]
  },
  {
   "cell_type": "markdown",
   "metadata": {},
   "source": [
    "# Introduction\n",
    "\n",
    "A global view of identity elements versus biological features would be a powerful tool for predicting tRNA function using primary sequence. To do this, I'll need to align eukaryotic tRNAs to our established models and annotate positions based on universal numbering. Then, I'll extract sequence information such as position, clade, or variable arm length."
   ]
  },
  {
   "cell_type": "markdown",
   "metadata": {},
   "source": [
    "# Process tRNAs\n",
    "## Species information"
   ]
  },
  {
   "cell_type": "code",
   "execution_count": 2,
   "metadata": {
    "collapsed": false,
    "scrolled": true
   },
   "outputs": [
    {
     "data": {
      "text/html": [
       "<div>\n",
       "<table border=\"1\" class=\"dataframe\">\n",
       "  <thead>\n",
       "    <tr style=\"text-align: right;\">\n",
       "      <th></th>\n",
       "      <th>shortname</th>\n",
       "      <th>name</th>\n",
       "      <th>longname</th>\n",
       "      <th>domain</th>\n",
       "      <th>clade</th>\n",
       "      <th>subclade</th>\n",
       "    </tr>\n",
       "  </thead>\n",
       "  <tbody>\n",
       "    <tr>\n",
       "      <th>0</th>\n",
       "      <td>Bdist3</td>\n",
       "      <td>braDis3</td>\n",
       "      <td>Brachypodium distachyon Bd21 (JGI v3.0)</td>\n",
       "      <td>eukaryota</td>\n",
       "      <td>Streptophyta</td>\n",
       "      <td>NaN</td>\n",
       "    </tr>\n",
       "    <tr>\n",
       "      <th>1</th>\n",
       "      <td>Mtrun4</td>\n",
       "      <td>medTru4</td>\n",
       "      <td>Medicago truncatula (Mt4.0v1)</td>\n",
       "      <td>eukaryota</td>\n",
       "      <td>Streptophyta</td>\n",
       "      <td>NaN</td>\n",
       "    </tr>\n",
       "    <tr>\n",
       "      <th>2</th>\n",
       "      <td>Graim2</td>\n",
       "      <td>gosRai2</td>\n",
       "      <td>Gossypium raimondii (Cotton v2)</td>\n",
       "      <td>eukaryota</td>\n",
       "      <td>Streptophyta</td>\n",
       "      <td>NaN</td>\n",
       "    </tr>\n",
       "    <tr>\n",
       "      <th>3</th>\n",
       "      <td>Ptric3</td>\n",
       "      <td>popTri3</td>\n",
       "      <td>Populus trichocarpa (JGI v3.0)</td>\n",
       "      <td>eukaryota</td>\n",
       "      <td>Streptophyta</td>\n",
       "      <td>NaN</td>\n",
       "    </tr>\n",
       "    <tr>\n",
       "      <th>4</th>\n",
       "      <td>Sbico3</td>\n",
       "      <td>sorBic3</td>\n",
       "      <td>Sorghum bicolor (Version 3.1)</td>\n",
       "      <td>eukaryota</td>\n",
       "      <td>Streptophyta</td>\n",
       "      <td>NaN</td>\n",
       "    </tr>\n",
       "  </tbody>\n",
       "</table>\n",
       "</div>"
      ],
      "text/plain": [
       "  shortname     name                                 longname     domain         clade subclade\n",
       "0    Bdist3  braDis3  Brachypodium distachyon Bd21 (JGI v3.0)  eukaryota  Streptophyta      NaN\n",
       "1    Mtrun4  medTru4            Medicago truncatula (Mt4.0v1)  eukaryota  Streptophyta      NaN\n",
       "2    Graim2  gosRai2          Gossypium raimondii (Cotton v2)  eukaryota  Streptophyta      NaN\n",
       "3    Ptric3  popTri3           Populus trichocarpa (JGI v3.0)  eukaryota  Streptophyta      NaN\n",
       "4    Sbico3  sorBic3            Sorghum bicolor (Version 3.1)  eukaryota  Streptophyta      NaN"
      ]
     },
     "execution_count": 2,
     "metadata": {},
     "output_type": "execute_result"
    }
   ],
   "source": [
    "species_table = pd.read_table('genome_table+.txt', header=None, names=['shortname', 'name', 'longname', 'domain', 'clade', 'subclade'])\n",
    "# set NaN to empty strings\n",
    "species_table.ix[species_table.name.apply(lambda x: type(x) is float), 'name'] = ''\n",
    "species_table.head()"
   ]
  },
  {
   "cell_type": "markdown",
   "metadata": {},
   "source": [
    "## Align tRNAs to existing CMs"
   ]
  },
  {
   "cell_type": "markdown",
   "metadata": {},
   "source": [
    "We have a \"quality set\" of tRNAs, which include tRNAs from previous versions of genomes and newer versions of genomes. It is simpler and easier to create a new fasta file and alignment for each isotype, based on the `.iso` files from each run.\n",
    "\n",
    "I also need to manually curate the genome table file to include the new species. And while I'm doing that, I might as well fix the broken entries."
   ]
  },
  {
   "cell_type": "code",
   "execution_count": null,
   "metadata": {
    "collapsed": false
   },
   "outputs": [],
   "source": [
    "species = sorted(glob.glob(\"iso/*.iso\"))\n",
    "species = [sp[4:-10] for sp in species]\n",
    "isotype_seqs = defaultdict(list)\n",
    "for sp in species:\n",
    "  sys.stdout.write('processing ' + sp + '...')\n",
    "  sys.stdout.flush()\n",
    "  tRNA_file = 'tRNAs/' + sp + '-tRNAs.fa'\n",
    "  if not os.path.exists(tRNA_file):\n",
    "    print(sp + ' tRNA file not found, skipping')\n",
    "    continue\n",
    "\n",
    "  seqs = []\n",
    "  seqids = []\n",
    "  for seq in SeqIO.parse(tRNA_file, 'fasta'):\n",
    "    if \"pseudogene\" in seq.description: continue\n",
    "    score = float(re.findall('Sc: [\\d\\.]+', seq.description)[0].split()[-1])\n",
    "    if score < 55: continue\n",
    "    seqs.append(seq)\n",
    "    seqids.append(seq.id)\n",
    "\n",
    "  iso_scores = pd.read_table('iso/' + sp + '-tRNAs.iso', header=0)\n",
    "  iso_scores = iso_scores[iso_scores.tRNAscanID.isin(seqids)]\n",
    "  iso_scores['best'] = iso_scores.ix[:,2:].idxmax(axis=1)\n",
    "  iso_scores['score'] = iso_scores.max(axis=1, numeric_only=True)\n",
    "  iso_scores.index = iso_scores.tRNAscanID.values\n",
    "  iso_scores = iso_scores[['best', 'score']]\n",
    "  \n",
    "  for seq in seqs:\n",
    "    isotype = iso_scores.ix[seq.id].best\n",
    "    if isotype == 'SeC' or 'mito' in isotype: continue\n",
    "    isoscore = iso_scores.ix[seq.id].score\n",
    "    seq.id = '{}_{} Iso: {}'.format(sp, seq.description, isoscore)\n",
    "    seq.description = ''\n",
    "    isotype_seqs[isotype].append(seq)\n",
    "\n",
    "  print('finished')\n",
    "  sys.stdout.flush()"
   ]
  },
  {
   "cell_type": "code",
   "execution_count": null,
   "metadata": {
    "collapsed": false
   },
   "outputs": [],
   "source": [
    "# Run this only after successfully running the above\n",
    "for isotype in isotypes:\n",
    "  fasta = 'fasta/euk-' + isotype + '.fa'\n",
    "  fasta_handle = open(fasta, 'w')\n",
    "  SeqIO.write(isotype_seqs[isotype], fasta_handle, 'fasta')\n",
    "  fasta_handle.close()"
   ]
  },
  {
   "cell_type": "code",
   "execution_count": null,
   "metadata": {
    "collapsed": false
   },
   "outputs": [],
   "source": [
    "for isotype in isotypes:\n",
    "  fasta = 'fasta/euk-' + isotype + '.fa'\n",
    "  alignment = 'alignments/euk-' + isotype + '.sto'\n",
    "  model = '/projects/lowelab/users/blin/tRNAscan/models/domain-specific/euk-num-092016.cm'\n",
    "  subprocess.call('cmalign -g --notrunc -o {} {} {}'.format(alignment, model, fasta), shell=True)"
   ]
  },
  {
   "cell_type": "markdown",
   "metadata": {},
   "source": [
    "### Merge alignment lines\n",
    "\n",
    "The parser requires the alignment to fit one line per sequence. Infernal splits up long alignments nondeterministically into multiple lines, with no way to control this behavior. We need to reconstruct the alignments one by one, with fully untruncated lines."
   ]
  },
  {
   "cell_type": "code",
   "execution_count": null,
   "metadata": {
    "collapsed": false
   },
   "outputs": [],
   "source": [
    "for isotype in isotypes:\n",
    "  alignment = 'alignments/euk-' + isotype + '.sto'\n",
    "  lines = []\n",
    "  ss_cons = ''\n",
    "  rf = ''\n",
    "  ordered_seqs = OrderedDict() # use ordered dict as an ordered set\n",
    "  seqs = defaultdict(str)\n",
    "  scores = defaultdict(str)\n",
    "  \n",
    "  for line in open(alignment):\n",
    "    if line[0] == '\\n' or line[0:4] in ['# ST', '#=GF', '#=GS']:\n",
    "      lines.append(line)\n",
    "    elif line == '//\\n': continue\n",
    "    elif line[0:7] == '#=GC SS':\n",
    "      ss_cons += line.strip().split()[2]\n",
    "      gaplength = line.count(' ') + 6\n",
    "    elif line[0:7] == '#=GC RF':\n",
    "      rf += line.strip().split()[2]\n",
    "    # else, column is either nucleotide or score line for a sequence\n",
    "    else:\n",
    "      cols = line.strip().split()\n",
    "      if cols[0] == \"#=GR\":\n",
    "        scores[cols[1]] += cols[3]\n",
    "      else:\n",
    "        ordered_seqs[cols[0]] = ''\n",
    "        seqs[cols[0]] += cols[1]\n",
    "      \n",
    "  for seq in ordered_seqs:\n",
    "    lines.append('{}{}{}\\n'.format(seq, ' ' * (gaplength - len(seq) + 5), seqs[seq]))\n",
    "    lines.append('#=GR {}{}PP {}\\n'.format(seq, ' ' * (gaplength - len(seq) - 3), scores[seq]))\n",
    "  lines.append('#=GC SS_cons{}{}\\n'.format(' ' * (gaplength - 7), ss_cons))\n",
    "  lines.append('#=GC RF{}{}\\n'.format(' ' * (gaplength - 2), rf))\n",
    "  lines.append('//')\n",
    "  \n",
    "  outfile = open(alignment, 'w')\n",
    "  for line in lines: outfile.write(line)\n",
    "  outfile.close()"
   ]
  },
  {
   "cell_type": "markdown",
   "metadata": {},
   "source": [
    "## Create table of tRNA bases by position\n",
    "\n",
    "This is a giant data frame with one row per tRNA, and with columns for each position, plus tRNA metadata like species and loop lengths."
   ]
  },
  {
   "cell_type": "code",
   "execution_count": 3,
   "metadata": {
    "collapsed": false
   },
   "outputs": [
    {
     "name": "stdout",
     "output_type": "stream",
     "text": [
      "processing Ala...done\n",
      "processing Arg...done\n",
      "processing Asn...done\n",
      "processing Asp...done\n",
      "processing Cys...done\n",
      "processing Gln...done\n",
      "processing Glu...done\n",
      "processing Gly...done\n",
      "processing His...done\n",
      "processing Ile...done\n",
      "processing iMet...done\n",
      "processing Leu...done\n",
      "processing Lys...done\n",
      "processing Met...done\n",
      "processing Phe...done\n",
      "processing Pro...done\n",
      "processing Ser...done\n",
      "processing Thr...done\n",
      "processing Trp...done\n",
      "processing Tyr...done\n",
      "processing Val...done\n"
     ]
    }
   ],
   "source": [
    "def position_base(positions, seq):\n",
    "  for position_index, position in enumerate(positions):\n",
    "    if position.paired:\n",
    "      index1, index2 = position.position.split(':')\n",
    "      index1, index2 = int(index1), int(index2)\n",
    "      base_pair = \"{}:{}\".format(seq[index1 - 1].upper(), seq[index2 - 1].upper())\n",
    "      yield position.sprinzl, base_pair\n",
    "    else:\n",
    "      index = int(position.position)\n",
    "      base = seq[index - 1].upper()\n",
    "      yield position.sprinzl, base\n",
    "      \n",
    "identities = pd.DataFrame()\n",
    "\n",
    "for isotype in isotypes:\n",
    "  sys.stdout.write('processing ' + isotype + '...')\n",
    "  alignment = 'alignments/euk-' + isotype + '.sto'\n",
    "  # get positions\n",
    "  alignment_fhandle = open(alignment)\n",
    "  positions = [] # list containing each position in the tRNA\n",
    "  # first, get secondary structure\n",
    "  for line in alignment_fhandle:\n",
    "    if line[0:12] == '#=GC SS_cons':\n",
    "      ss = line.strip().split()[-1]\n",
    "  # parse secondary structure into regions and positions\n",
    "  positions = annotate_positions(ss)\n",
    "  # get counts for each position by parsing Stockholm file\n",
    "  alignment_fhandle = open(alignment)\n",
    "  trnas = []\n",
    "  for line in alignment_fhandle:\n",
    "    if line[0] in [\"#\", '\\n', '/']: continue\n",
    "    seqname, seq = line.strip().split()\n",
    "    species = seqname.rsplit('_', 1)[0]\n",
    "    if any(species_table.name == species):\n",
    "      row = species_table[species_table.name == species]\n",
    "    else:\n",
    "      species = re.split(\"_chr|_scaffold|_cut|_super\", seqname)[0]\n",
    "      if any(species_table.name == species): row = species_table[species_table.name == species]\n",
    "      else: continue # skip species that need too much babying\n",
    "    domain = row.domain.values[0]\n",
    "    clade = row.clade.values[0]\n",
    "    species_long = row.longname.values[0]\n",
    "    trna = {'domain': domain, 'clade': clade, 'species': species, 'species_long': species_long, 'seqname': seqname, 'isotype': isotype}\n",
    "    trna = {**trna, **{sprinzl: base for sprinzl, base in position_base(positions, seq)}}\n",
    "    trnas.append(trna)\n",
    "  identities = identities.append(trnas, ignore_index=True)\n",
    "  print('done')\n",
    "\n",
    "identities.fillna('.', inplace=True)"
   ]
  },
  {
   "cell_type": "markdown",
   "metadata": {},
   "source": [
    "### Create single base columns from paired positions\n",
    "\n",
    "This is mainly for plotting and such."
   ]
  },
  {
   "cell_type": "code",
   "execution_count": 4,
   "metadata": {
    "collapsed": false
   },
   "outputs": [],
   "source": [
    "cols = list(filter(lambda x: ':' in x, identities.columns))\n",
    "for col in cols:\n",
    "  pos1, pos2 = col.split(':')\n",
    "  base1 = [bases.split(':')[0] for bases in identities[col]]\n",
    "  base2 = [bases.split(':')[1] for bases in identities[col]]\n",
    "  identities[pos1] = base1\n",
    "  identities[pos2] = base2"
   ]
  },
  {
   "cell_type": "markdown",
   "metadata": {},
   "source": [
    "### Shorten D stem for class II tRNAs\n",
    "\n",
    "Leu, Ser, and Tyr have a 3 base pair D stem instead of 4. Since we've already copied over the columns into single bases, this is okay. I don't want to change the entries for this position to \"-:-\" because it would imply a deletion, and I don't want to change it to \".:.\" because it would break a lot of code. I'll leave it alone for now, until it's necessary to change it."
   ]
  },
  {
   "cell_type": "markdown",
   "metadata": {},
   "source": [
    "## Resolve consensus positions\n",
    "\n",
    "There are some discrepencies between the covariance model, the Sprinzl model, and reality. For instance, is position 17 really a gap position for most tRNAs? If so, why is it considered a position? We know that the D loop interacts with the TPC loop, so the general position 17 area should be a key identity element or structural feature contributing to tRNA activity. What should we call insertions at 17 if it's not a real position? These conflicts need to be resolved into a consensus version."
   ]
  },
  {
   "cell_type": "code",
   "execution_count": 5,
   "metadata": {
    "collapsed": true
   },
   "outputs": [],
   "source": [
    "def bounds_to_cols(cols, start, end):\n",
    "  selected_cols = []\n",
    "  for col in cols:\n",
    "    matches = re.findall('\\d+', col)\n",
    "    if len(matches) < 1: continue\n",
    "    index = int(matches[0])\n",
    "    if (index >= start and index <= end or col[0:3] == '{}i'.format(start - 1)) and col[0] != 'V':\n",
    "      selected_cols.append(col)\n",
    "  return selected_cols\n",
    "\n",
    "def position_histogram(identities, cols):\n",
    "  df = pd.melt(identities[cols + ['seqname']], id_vars=['seqname'])\n",
    "  df = df[(df.value != \".\") & (df.value != \"-\")]\n",
    "  counts = pd.Series(Counter([x for x in df.variable]), index=cols)\n",
    "  counts = counts[counts > 10]\n",
    "  counts = pd.DataFrame({\"Position\": counts.index, 'tRNAs': counts})\n",
    "  return counts.plot(kind='bar')"
   ]
  },
  {
   "cell_type": "markdown",
   "metadata": {},
   "source": [
    "### D-loop positions"
   ]
  },
  {
   "cell_type": "code",
   "execution_count": 6,
   "metadata": {
    "collapsed": false
   },
   "outputs": [
    {
     "data": {
      "text/plain": [
       "<matplotlib.axes._subplots.AxesSubplot at 0x7f4ef92a46d8>"
      ]
     },
     "execution_count": 6,
     "metadata": {},
     "output_type": "execute_result"
    },
    {
     "data": {
      "image/png": "[encoded data removed]",
      "text/plain": [
       "<matplotlib.figure.Figure at 0x7f4ef92a1cc0>"
      ]
     },
     "metadata": {},
     "output_type": "display_data"
    }
   ],
   "source": [
    "dloop_cols = bounds_to_cols(identities.columns, 14, 21)\n",
    "position_histogram(identities, dloop_cols)"
   ]
  },
  {
   "cell_type": "markdown",
   "metadata": {},
   "source": [
    "With the model curated using --hand, the D loop now contains 17a, 20a, and 20b. The alignment seems to have been fixed, as we don't have a bump at 20i5 (or even 20i5-20i7) anymore.\n",
    "\n",
    "#### 17A\n",
    "\n",
    "What isotypes have position 17?"
   ]
  },
  {
   "cell_type": "code",
   "execution_count": 7,
   "metadata": {
    "collapsed": false
   },
   "outputs": [
    {
     "data": {
      "text/plain": [
       "<matplotlib.axes._subplots.AxesSubplot at 0x7f4ef6ccdeb8>"
      ]
     },
     "execution_count": 7,
     "metadata": {},
     "output_type": "execute_result"
    },
    {
     "data": {
      "image/png": "[encoded data removed]",
      "text/plain": [
       "<matplotlib.figure.Figure at 0x7f4ef92a1a20>"
      ]
     },
     "metadata": {},
     "output_type": "display_data"
    }
   ],
   "source": [
    "df = pd.melt(identities[['isotype', '17']], id_vars=['isotype'])\n",
    "df = df[(df.value != \".\") & (df.value != \"-\")]\n",
    "df = pd.Series(Counter([x for x in df.isotype]))\n",
    "df.plot(kind='bar')"
   ]
  },
  {
   "cell_type": "code",
   "execution_count": 8,
   "metadata": {
    "collapsed": false
   },
   "outputs": [
    {
     "data": {
      "text/plain": [
       "<matplotlib.axes._subplots.AxesSubplot at 0x7f4f349f6da0>"
      ]
     },
     "execution_count": 8,
     "metadata": {},
     "output_type": "execute_result"
    },
    {
     "data": {
      "image/png": "[encoded data removed]",
      "text/plain": [
       "<matplotlib.figure.Figure at 0x7f4ef6c62a90>"
      ]
     },
     "metadata": {},
     "output_type": "display_data"
    }
   ],
   "source": [
    "df = pd.melt(identities[['isotype', '17a']], id_vars=['isotype'])\n",
    "df = df[(df.value != \".\") & (df.value != \"-\")]\n",
    "df = pd.Series(Counter([x for x in df.isotype]))\n",
    "df.plot(kind='bar')"
   ]
  },
  {
   "cell_type": "markdown",
   "metadata": {},
   "source": [
    "Based on Sprinzl alignments, there are 19 tRNAs out of 2249 with a base at position 17A. It also doesn't look like we can hardcode position 17 for just one or two isotypes - it's universal enough. Based on this data, 17A is pretty rare, and even position 17 is only there 30% of the time (based on our data). Position 17A could actually be considered as an insertion.\n",
    "\n",
    "#### 20a/20b\n",
    "\n",
    "** This section is somewhat deprecated as the alignment has been fixed. ** The following analysis has been modified to double check whether the new 20a/20b alignment is sound.\n",
    "\n",
    "Also based on Sprinzl alignments, no tRNAs have only 20b and not 20a. So whenever there is 20b, 20a is sure to be there. Let's take a look at the distribution out of 2249 tRNA genes:"
   ]
  },
  {
   "cell_type": "code",
   "execution_count": 9,
   "metadata": {
    "collapsed": false,
    "scrolled": false
   },
   "outputs": [
    {
     "data": {
      "text/plain": [
       "<matplotlib.axes._subplots.AxesSubplot at 0x7f4ef6b0ba90>"
      ]
     },
     "execution_count": 9,
     "metadata": {},
     "output_type": "execute_result"
    },
    {
     "data": {
      "image/png": "[encoded data removed]",
      "text/plain": [
       "<matplotlib.figure.Figure at 0x7f4ef6b44e10>"
      ]
     },
     "metadata": {},
     "output_type": "display_data"
    }
   ],
   "source": [
    "sprinzl_20ab = pd.read_table('sprinzl-20ab.txt', header=None, names=['20a', '20b', 'Isotype'])\n",
    "sprinzl_20ab = sprinzl_20ab.groupby([\"Isotype\"]).aggregate(lambda x: len(x[x != '-']))\n",
    "sprinzl_20ab.plot(kind=\"bar\")"
   ]
  },
  {
   "cell_type": "markdown",
   "metadata": {},
   "source": [
    "This complicates things. Ideally we'd like to see all of the tRNAs with 20b to belong to one or two isotypes. Then we could manually check the most common insertion positions for those isotypes and adjust it. Instead, we'll just have to check the insertion positions for all isotypes and attempt to come up with some universal rules."
   ]
  },
  {
   "cell_type": "code",
   "execution_count": 10,
   "metadata": {
    "collapsed": false
   },
   "outputs": [
    {
     "data": {
      "text/plain": [
       "<matplotlib.axes._subplots.AxesSubplot at 0x7f4ef6a796a0>"
      ]
     },
     "execution_count": 10,
     "metadata": {},
     "output_type": "execute_result"
    },
    {
     "data": {
      "image/png": "[encoded data removed]",
      "text/plain": [
       "<matplotlib.figure.Figure at 0x7f4ef6a7e1d0>"
      ]
     },
     "metadata": {},
     "output_type": "display_data"
    }
   ],
   "source": [
    "sprinzl_20ab = pd.read_table('sprinzl-20ab.txt', header=None, names=['20a', '20b', 'Isotype'])\n",
    "sprinzl_20ab = sprinzl_20ab.groupby([\"20a\", \"20b\"]).aggregate(len)\n",
    "sprinzl_20ab.plot(kind=\"bar\")"
   ]
  },
  {
   "cell_type": "markdown",
   "metadata": {},
   "source": [
    "This plot tells us a few things.\n",
    "\n",
    "First, 20a is typically a T, but there are a few ACG 20as. To be expected, as 20ab are typically modified to dihydrouridine (D).\n",
    "\n",
    "20b is typically also a T, but is most commonly paired with C20a. There are a few of the others, too. [Nissan and Perona (2000)](https://www.ncbi.nlm.nih.gov/pubmed/11105758) corroborate this by showing a successful replacement of  yeast function serine U20a/G20b with C20a/A20b _in vitro_. This complicates things. \n",
    "\n",
    "I hesitate to use a rule like \"First base is 20a, second base is 20b, third and up is 20i\". There is high potential for misannotation of an insertion as 20ab or vice versa. We can agree on the following:\n",
    "- single base insertion: 20a\n",
    "- two base insertion: 20a, 20b\n",
    "\n",
    "For three and up, we could potentially leave it unannotated. Let's take a look at the relative insertion lengths, by isotype:"
   ]
  },
  {
   "cell_type": "code",
   "execution_count": 11,
   "metadata": {
    "collapsed": false,
    "scrolled": true
   },
   "outputs": [],
   "source": [
    "insert_df = identities[['isotype'] + ['20a', '20b', '20i1', '20i2', '20i3', '20i4']]\n",
    "insertionab = insert_df.ix[:, 1:].apply(lambda x: sum((x != '.') & (x != '-')), axis=1)\n",
    "insert_df = insert_df.assign(insertionab = insertionab)"
   ]
  },
  {
   "cell_type": "code",
   "execution_count": 12,
   "metadata": {
    "collapsed": false
   },
   "outputs": [
    {
     "name": "stdout",
     "output_type": "stream",
     "text": [
      "             isotype\n",
      "insertionab         \n",
      "0              54030\n",
      "1              58994\n",
      "2               5260\n",
      "3                 20\n",
      "4                 13\n",
      "5                  3\n",
      "6                  3\n"
     ]
    },
    {
     "data": {
      "text/plain": [
       "[(-1, 5)]"
      ]
     },
     "execution_count": 12,
     "metadata": {},
     "output_type": "execute_result"
    },
    {
     "data": {
      "image/png": "[encoded data removed]",
      "text/plain": [
       "<matplotlib.figure.Figure at 0x7f4ef699d518>"
      ]
     },
     "metadata": {},
     "output_type": "display_data"
    }
   ],
   "source": [
    "print(insert_df.groupby('insertionab').aggregate({\"isotype\": len}))\n",
    "plot = sns.violinplot(data=insert_df, x='isotype', y='insertionab', scale='width', cut=0)\n",
    "plot.set(ylim=(-1, 5))"
   ]
  },
  {
   "cell_type": "markdown",
   "metadata": {},
   "source": [
    "Half of the tRNAs have no 20a/20b, and the other half does. For 10 isotypes, all tRNAs are 2 insertions and below. For the other 10, it varies. Exactly how many tRNAs are we working with here? Is there a correlation betweeen number of tRNAs and number of tRNAs with insertions > 2?"
   ]
  },
  {
   "cell_type": "code",
   "execution_count": 13,
   "metadata": {
    "collapsed": false,
    "scrolled": false
   },
   "outputs": [
    {
     "name": "stdout",
     "output_type": "stream",
     "text": [
      "No. tRNAs with > 2 insertions: 39\n"
     ]
    },
    {
     "data": {
      "text/plain": [
       "<matplotlib.text.Text at 0x7f4ef6b292e8>"
      ]
     },
     "execution_count": 13,
     "metadata": {},
     "output_type": "execute_result"
    },
    {
     "data": {
      "image/png": "[encoded data removed]",
      "text/plain": [
       "<matplotlib.figure.Figure at 0x7f4eef7ba7f0>"
      ]
     },
     "metadata": {},
     "output_type": "display_data"
    }
   ],
   "source": [
    "df = insert_df.ix[insert_df.insertionab > 2, ['isotype', 'insertionab']].groupby('isotype').aggregate(len)\n",
    "print(\"No. tRNAs with > 2 insertions: {}\".format(sum(df.insertionab)))\n",
    "df = df.merge(identities[['isotype', 'seqname']].groupby('isotype').aggregate(len), how='right', right_index=True, left_index=True)\n",
    "df = df.fillna(0)\n",
    "df.columns = ['insertionab_tRNAs', 'tRNAs']\n",
    "\n",
    "# scatter plot\n",
    "plot = df.plot(kind='scatter', x='insertionab_tRNAs', y='tRNAs')\n",
    "for isotype, num_tRNAs in df.iterrows(): plot.annotate(isotype, num_tRNAs, xytext=(5, 0), textcoords='offset points', family='sans-serif')\n",
    "\n",
    "# add trendline\n",
    "beta = numpy.polyfit(x=df.insertionab_tRNAs, y=df.tRNAs, deg=1)\n",
    "trendline = pd.DataFrame({'x': list(df.insertionab_tRNAs) + [-20, 120], 'trendline': numpy.poly1d(beta)(list(df.insertionab_tRNAs) + [-20, 120])})\n",
    "trendline.plot(ax=plot, x='x', y='trendline', kind='line', xlim=[-5, 35], ylim=[-5000, 30000])\n",
    "\n",
    "plot.set_xlabel('No. tRNAs with >2 insertions at position 20')\n",
    "plot.set_ylabel('No. tRNAs')"
   ]
  },
  {
   "cell_type": "markdown",
   "metadata": {},
   "source": [
    "There's only 38 tRNAs with a 3 base or larger insertion. Here they are below. They're mostly leucine tRNAs."
   ]
  },
  {
   "cell_type": "code",
   "execution_count": 14,
   "metadata": {
    "collapsed": false,
    "scrolled": true
   },
   "outputs": [
    {
     "name": "stderr",
     "output_type": "stream",
     "text": [
      "/projects/lowelab/users/blin/anaconda3/lib/python3.5/site-packages/ipykernel/__main__.py:2: SettingWithCopyWarning: \n",
      "A value is trying to be set on a copy of a slice from a DataFrame.\n",
      "Try using .loc[row_indexer,col_indexer] = value instead\n",
      "\n",
      "See the caveats in the documentation: http://pandas.pydata.org/pandas-docs/stable/indexing.html#indexing-view-versus-copy\n",
      "  from ipykernel import kernelapp as app\n"
     ]
    },
    {
     "data": {
      "text/html": [
       "<div>\n",
       "<table border=\"1\" class=\"dataframe\">\n",
       "  <thead>\n",
       "    <tr style=\"text-align: right;\">\n",
       "      <th></th>\n",
       "      <th>isotype</th>\n",
       "      <th>seq</th>\n",
       "    </tr>\n",
       "  </thead>\n",
       "  <tbody>\n",
       "    <tr>\n",
       "      <th>8755</th>\n",
       "      <td>Ala</td>\n",
       "      <td>CAA</td>\n",
       "    </tr>\n",
       "    <tr>\n",
       "      <th>112990</th>\n",
       "      <td>Tyr</td>\n",
       "      <td>UUC</td>\n",
       "    </tr>\n",
       "    <tr>\n",
       "      <th>75151</th>\n",
       "      <td>Leu</td>\n",
       "      <td>CCU</td>\n",
       "    </tr>\n",
       "    <tr>\n",
       "      <th>75969</th>\n",
       "      <td>Leu</td>\n",
       "      <td>CUC</td>\n",
       "    </tr>\n",
       "    <tr>\n",
       "      <th>76801</th>\n",
       "      <td>Leu</td>\n",
       "      <td>CUC</td>\n",
       "    </tr>\n",
       "    <tr>\n",
       "      <th>76833</th>\n",
       "      <td>Leu</td>\n",
       "      <td>CUC</td>\n",
       "    </tr>\n",
       "    <tr>\n",
       "      <th>91251</th>\n",
       "      <td>Ser</td>\n",
       "      <td>UCC</td>\n",
       "    </tr>\n",
       "    <tr>\n",
       "      <th>94904</th>\n",
       "      <td>Ser</td>\n",
       "      <td>UUG</td>\n",
       "    </tr>\n",
       "    <tr>\n",
       "      <th>74649</th>\n",
       "      <td>Leu</td>\n",
       "      <td>CUA</td>\n",
       "    </tr>\n",
       "    <tr>\n",
       "      <th>94905</th>\n",
       "      <td>Ser</td>\n",
       "      <td>UUG</td>\n",
       "    </tr>\n",
       "    <tr>\n",
       "      <th>67773</th>\n",
       "      <td>His</td>\n",
       "      <td>UAU</td>\n",
       "    </tr>\n",
       "    <tr>\n",
       "      <th>103640</th>\n",
       "      <td>Thr</td>\n",
       "      <td>UAG</td>\n",
       "    </tr>\n",
       "    <tr>\n",
       "      <th>105676</th>\n",
       "      <td>Thr</td>\n",
       "      <td>UAG</td>\n",
       "    </tr>\n",
       "    <tr>\n",
       "      <th>45070</th>\n",
       "      <td>Asp</td>\n",
       "      <td>UAG</td>\n",
       "    </tr>\n",
       "    <tr>\n",
       "      <th>112977</th>\n",
       "      <td>Tyr</td>\n",
       "      <td>UUC</td>\n",
       "    </tr>\n",
       "    <tr>\n",
       "      <th>29359</th>\n",
       "      <td>Arg</td>\n",
       "      <td>UGC</td>\n",
       "    </tr>\n",
       "    <tr>\n",
       "      <th>29312</th>\n",
       "      <td>Arg</td>\n",
       "      <td>CAG</td>\n",
       "    </tr>\n",
       "    <tr>\n",
       "      <th>29217</th>\n",
       "      <td>Arg</td>\n",
       "      <td>CGU</td>\n",
       "    </tr>\n",
       "    <tr>\n",
       "      <th>102321</th>\n",
       "      <td>Thr</td>\n",
       "      <td>UAG</td>\n",
       "    </tr>\n",
       "    <tr>\n",
       "      <th>74640</th>\n",
       "      <td>Leu</td>\n",
       "      <td>UAU</td>\n",
       "    </tr>\n",
       "    <tr>\n",
       "      <th>91333</th>\n",
       "      <td>Ser</td>\n",
       "      <td>UCUU</td>\n",
       "    </tr>\n",
       "    <tr>\n",
       "      <th>76214</th>\n",
       "      <td>Leu</td>\n",
       "      <td>CUCU</td>\n",
       "    </tr>\n",
       "    <tr>\n",
       "      <th>73491</th>\n",
       "      <td>Leu</td>\n",
       "      <td>CUGG</td>\n",
       "    </tr>\n",
       "    <tr>\n",
       "      <th>73288</th>\n",
       "      <td>Leu</td>\n",
       "      <td>CUGU</td>\n",
       "    </tr>\n",
       "    <tr>\n",
       "      <th>72224</th>\n",
       "      <td>Leu</td>\n",
       "      <td>CUUU</td>\n",
       "    </tr>\n",
       "    <tr>\n",
       "      <th>72223</th>\n",
       "      <td>Leu</td>\n",
       "      <td>CUUU</td>\n",
       "    </tr>\n",
       "    <tr>\n",
       "      <th>72217</th>\n",
       "      <td>Leu</td>\n",
       "      <td>CUUU</td>\n",
       "    </tr>\n",
       "    <tr>\n",
       "      <th>72215</th>\n",
       "      <td>Leu</td>\n",
       "      <td>CUUU</td>\n",
       "    </tr>\n",
       "    <tr>\n",
       "      <th>72214</th>\n",
       "      <td>Leu</td>\n",
       "      <td>CUUU</td>\n",
       "    </tr>\n",
       "    <tr>\n",
       "      <th>72213</th>\n",
       "      <td>Leu</td>\n",
       "      <td>CUUU</td>\n",
       "    </tr>\n",
       "    <tr>\n",
       "      <th>51961</th>\n",
       "      <td>Glu</td>\n",
       "      <td>UAAG</td>\n",
       "    </tr>\n",
       "    <tr>\n",
       "      <th>50616</th>\n",
       "      <td>Glu</td>\n",
       "      <td>UAAA</td>\n",
       "    </tr>\n",
       "    <tr>\n",
       "      <th>73496</th>\n",
       "      <td>Leu</td>\n",
       "      <td>CUGG</td>\n",
       "    </tr>\n",
       "    <tr>\n",
       "      <th>77139</th>\n",
       "      <td>Lys</td>\n",
       "      <td>CUCAU</td>\n",
       "    </tr>\n",
       "    <tr>\n",
       "      <th>40093</th>\n",
       "      <td>Asp</td>\n",
       "      <td>UAGUC</td>\n",
       "    </tr>\n",
       "    <tr>\n",
       "      <th>113798</th>\n",
       "      <td>Val</td>\n",
       "      <td>UUCAC</td>\n",
       "    </tr>\n",
       "    <tr>\n",
       "      <th>73098</th>\n",
       "      <td>Leu</td>\n",
       "      <td>CUUGGU</td>\n",
       "    </tr>\n",
       "    <tr>\n",
       "      <th>73089</th>\n",
       "      <td>Leu</td>\n",
       "      <td>CUUGGU</td>\n",
       "    </tr>\n",
       "    <tr>\n",
       "      <th>73080</th>\n",
       "      <td>Leu</td>\n",
       "      <td>CUUGGU</td>\n",
       "    </tr>\n",
       "  </tbody>\n",
       "</table>\n",
       "</div>"
      ],
      "text/plain": [
       "       isotype     seq\n",
       "8755       Ala     CAA\n",
       "112990     Tyr     UUC\n",
       "75151      Leu     CCU\n",
       "75969      Leu     CUC\n",
       "76801      Leu     CUC\n",
       "76833      Leu     CUC\n",
       "91251      Ser     UCC\n",
       "94904      Ser     UUG\n",
       "74649      Leu     CUA\n",
       "94905      Ser     UUG\n",
       "67773      His     UAU\n",
       "103640     Thr     UAG\n",
       "105676     Thr     UAG\n",
       "45070      Asp     UAG\n",
       "112977     Tyr     UUC\n",
       "29359      Arg     UGC\n",
       "29312      Arg     CAG\n",
       "29217      Arg     CGU\n",
       "102321     Thr     UAG\n",
       "74640      Leu     UAU\n",
       "91333      Ser    UCUU\n",
       "76214      Leu    CUCU\n",
       "73491      Leu    CUGG\n",
       "73288      Leu    CUGU\n",
       "72224      Leu    CUUU\n",
       "72223      Leu    CUUU\n",
       "72217      Leu    CUUU\n",
       "72215      Leu    CUUU\n",
       "72214      Leu    CUUU\n",
       "72213      Leu    CUUU\n",
       "51961      Glu    UAAG\n",
       "50616      Glu    UAAA\n",
       "73496      Leu    CUGG\n",
       "77139      Lys   CUCAU\n",
       "40093      Asp   UAGUC\n",
       "113798     Val   UUCAC\n",
       "73098      Leu  CUUGGU\n",
       "73089      Leu  CUUGGU\n",
       "73080      Leu  CUUGGU"
      ]
     },
     "execution_count": 14,
     "metadata": {},
     "output_type": "execute_result"
    }
   ],
   "source": [
    "df = insert_df[insert_df.insertionab > 2]\n",
    "df[\"seq\"] = df[['20a', '20b', '20i1', '20i2', '20i3', '20i4']].apply(lambda x: ''.join(x[(x != '.') & (x != '-')]), axis=1)\n",
    "df.sort_values('insertionab')[['isotype', 'seq']]"
   ]
  },
  {
   "cell_type": "markdown",
   "metadata": {},
   "source": [
    "### Variable stem-loop plus spacer nucleotides\n",
    "\n",
    "** This section is somewhat deprecated as the alignment has been fixed. ** The following analysis has been modified to double check whether the position 47 and V-arm alignment is sound."
   ]
  },
  {
   "cell_type": "code",
   "execution_count": 15,
   "metadata": {
    "collapsed": false,
    "scrolled": false
   },
   "outputs": [
    {
     "data": {
      "text/plain": [
       "<matplotlib.axes._subplots.AxesSubplot at 0x7f4ef4099710>"
      ]
     },
     "execution_count": 15,
     "metadata": {},
     "output_type": "execute_result"
    },
    {
     "data": {
      "image/png": "[encoded data removed]",
      "text/plain": [
       "<matplotlib.figure.Figure at 0x7f4ef4099358>"
      ]
     },
     "metadata": {},
     "output_type": "display_data"
    }
   ],
   "source": [
    "varm_cols = list(filter(lambda x: ('V' in x) & (':' not in x), identities.columns))\n",
    "varm_cols += bounds_to_cols(identities.columns, 44, 48)\n",
    "position_histogram(identities, varm_cols)"
   ]
  },
  {
   "cell_type": "markdown",
   "metadata": {},
   "source": [
    "This data correlates well with the Sprinzl data. Most variable stems are missing at least V15:V25, V16:V26, and V17:V27, and most variable loops are 3 nucleotides long.\n",
    "\n",
    "Here is the same plot, but split into Ser, Leu, and Tyr, versus everything else."
   ]
  },
  {
   "cell_type": "code",
   "execution_count": 16,
   "metadata": {
    "collapsed": false,
    "scrolled": false
   },
   "outputs": [
    {
     "data": {
      "text/plain": [
       "<matplotlib.axes._subplots.AxesSubplot at 0x7f4ef40d1cc0>"
      ]
     },
     "execution_count": 16,
     "metadata": {},
     "output_type": "execute_result"
    },
    {
     "data": {
      "image/png": "[encoded data removed]",
      "text/plain": [
       "<matplotlib.figure.Figure at 0x7f4eef6e3e10>"
      ]
     },
     "metadata": {},
     "output_type": "display_data"
    }
   ],
   "source": [
    "df = pd.melt(identities[varm_cols + ['seqname', 'isotype']], id_vars=['seqname', 'isotype'])\n",
    "df = df[(df.value != \".\") & (df.value != \"-\")]\n",
    "counts = pd.Series(Counter([x for x in df[(df.isotype == \"Tyr\") | (df.isotype == \"Leu\") | (df.isotype == \"Ser\")].variable]), index=varm_cols)\n",
    "counts = pd.DataFrame({\"Position\": counts.index, 'tRNAs': counts})\n",
    "counts2 = pd.Series(Counter([x for x in df[(df.isotype != \"Tyr\") | (df.isotype != \"Leu\") | (df.isotype != \"Ser\")].variable]), index=varm_cols)\n",
    "counts = pd.merge(counts, pd.DataFrame({\"Position\": counts2.index, 'tRNAs': counts2}), on=['Position'])\n",
    "counts.columns = ['Position', 'Class II', 'Class I']\n",
    "counts.index = counts.Position\n",
    "counts.plot(kind='bar')"
   ]
  },
  {
   "cell_type": "markdown",
   "metadata": {},
   "source": [
    "We need to apply a similar analysis for 47 as we did for 20ab. What does the distribution of 47 + insert length look like?"
   ]
  },
  {
   "cell_type": "code",
   "execution_count": 17,
   "metadata": {
    "collapsed": false,
    "scrolled": true
   },
   "outputs": [
    {
     "name": "stdout",
     "output_type": "stream",
     "text": [
      "             isotype\n",
      "insertion47         \n",
      "0              42544\n",
      "1              75304\n",
      "2                467\n",
      "3                  6\n",
      "4                  1\n",
      "5                  1\n"
     ]
    }
   ],
   "source": [
    "insert_df = identities[['isotype', '47', '47i1', '47i2', '47i3', '47i4']]\n",
    "insert_df.head()\n",
    "insertion47 = 5 - sum([(insert_df.ix[:, 1] == \".\"), (insert_df.ix[:, 2] == \".\"), (insert_df.ix[:, 3] == \".\"), (insert_df.ix[:, 4] == \".\"), (insert_df.ix[:, 5] == \".\"), (insert_df.ix[:, 1] == \"-\"), (insert_df.ix[:, 2] == \"-\"), (insert_df.ix[:, 3] == \"-\"), (insert_df.ix[:, 4] == \"-\"), (insert_df.ix[:, 5] == \"-\")])\n",
    "insert_df = insert_df.assign(insertion47 = insertion47)\n",
    "print(insert_df.groupby('insertion47').aggregate({\"isotype\": len}))"
   ]
  },
  {
   "cell_type": "markdown",
   "metadata": {},
   "source": [
    "Of the 94197 tRNAs with 1 nucleotide at position 47 + 47ix, which position does it appear on? Is there a typical position 47 nucleotide?"
   ]
  },
  {
   "cell_type": "code",
   "execution_count": 18,
   "metadata": {
    "collapsed": false
   },
   "outputs": [
    {
     "data": {
      "text/html": [
       "<div>\n",
       "<table border=\"1\" class=\"dataframe\">\n",
       "  <thead>\n",
       "    <tr style=\"text-align: right;\">\n",
       "      <th></th>\n",
       "      <th>isotype</th>\n",
       "      <th>variable</th>\n",
       "      <th>value</th>\n",
       "    </tr>\n",
       "  </thead>\n",
       "  <tbody>\n",
       "    <tr>\n",
       "      <th>151825</th>\n",
       "      <td>Ala</td>\n",
       "      <td>47i2</td>\n",
       "      <td>A</td>\n",
       "    </tr>\n",
       "    <tr>\n",
       "      <th>327661</th>\n",
       "      <td>Arg</td>\n",
       "      <td>47i4</td>\n",
       "      <td>U</td>\n",
       "    </tr>\n",
       "  </tbody>\n",
       "</table>\n",
       "</div>"
      ],
      "text/plain": [
       "       isotype variable value\n",
       "151825     Ala     47i2     A\n",
       "327661     Arg     47i4     U"
      ]
     },
     "execution_count": 18,
     "metadata": {},
     "output_type": "execute_result"
    },
    {
     "data": {
      "image/png": "[encoded data removed]",
      "text/plain": [
       "<matplotlib.figure.Figure at 0x7f4ef691d908>"
      ]
     },
     "metadata": {},
     "output_type": "display_data"
    }
   ],
   "source": [
    "df = pd.melt(insert_df.ix[insert_df.insertion47 == 1, 0:6], id_vars='isotype')\n",
    "df = df[(df.value != \"-\") & (df.value != '.')]\n",
    "df[['variable', 'value']].groupby(['variable', 'value']).aggregate(len).unstack().plot(kind='bar')\n",
    "df.ix[df.variable != \"47\", :]"
   ]
  },
  {
   "cell_type": "markdown",
   "metadata": {},
   "source": [
    "There are literally 2 cases where a single base is not aligned to position 47 properly, and there are no cases where 2 bases are both aligned to insertion positions."
   ]
  },
  {
   "cell_type": "markdown",
   "metadata": {},
   "source": [
    "## Annotate tertiary interactions\n",
    "\n",
    "We also want to annotate the 2-base version of the base triples. This makes checking for conserved interactions (e.g. an identity element) a bit easier. It's important to remember to consider the 3rd base pair too, though."
   ]
  },
  {
   "cell_type": "code",
   "execution_count": 19,
   "metadata": {
    "collapsed": false
   },
   "outputs": [],
   "source": [
    "identities['8:14:21'] = identities.ix[:, [\"8\", \"14\", \"21\"]].apply(lambda row: ':'.join(row), axis=1)\n",
    "identities['8:14'] = identities.ix[:, [\"8\", \"14\"]].apply(lambda row: ':'.join(row), axis=1)\n",
    "identities['9:12:23'] = identities.ix[:, [\"9\", \"12\", \"23\"]].apply(lambda row: ':'.join(row), axis=1)\n",
    "identities['9:23'] = identities.ix[:, [\"9\", \"23\"]].apply(lambda row: ':'.join(row), axis=1)\n",
    "identities['10:25:45'] = identities.ix[:, [\"10\", \"25\", \"45\"]].apply(lambda row: ':'.join(row), axis=1)\n",
    "identities['10:45'] = identities.ix[:, [\"10\", \"45\"]].apply(lambda row: ':'.join(row), axis=1)\n",
    "identities['13:22:46'] = identities.ix[:, [\"13\", \"22\", \"46\"]].apply(lambda row: ':'.join(row), axis=1)\n",
    "identities['22:46'] = identities.ix[:, [\"22\", \"46\"]].apply(lambda row: ':'.join(row), axis=1)\n",
    "identities['15:48'] = identities.ix[:, [\"15\", \"48\"]].apply(lambda row: ':'.join(row), axis=1)\n",
    "identities['18:55'] = identities.ix[:, [\"18\", \"55\"]].apply(lambda row: ':'.join(row), axis=1)\n",
    "identities['19:56'] = identities.ix[:, [\"19\", \"56\"]].apply(lambda row: ':'.join(row), axis=1)\n",
    "identities['26:44'] = identities.ix[:, [\"26\", \"44\"]].apply(lambda row: ':'.join(row), axis=1)\n",
    "identities['54:58'] = identities.ix[:, [\"54\", \"58\"]].apply(lambda row: ':'.join(row), axis=1)"
   ]
  },
  {
   "cell_type": "markdown",
   "metadata": {},
   "source": [
    "## Additional sequence information"
   ]
  },
  {
   "cell_type": "code",
   "execution_count": 20,
   "metadata": {
    "collapsed": false
   },
   "outputs": [],
   "source": [
    "# Isotype, anticodon, score\n",
    "seqinfo = []\n",
    "for isotype in isotypes:\n",
    "  alignment = 'alignments/euk-' + isotype + '.sto'\n",
    "  for line in open(alignment):\n",
    "    if line[0:4] != \"#=GS\": continue\n",
    "    _, seqname, _, _, _, isotype, anticodon, _, _, _, score, _, isoscore = line.strip().split()\n",
    "    seqinfo.append([seqname, isotype, anticodon[1:-1], float(score), float(isoscore)])\n",
    "seqinfo = pd.DataFrame(seqinfo, columns=['seqname', 'isotype_ac', 'anticodon', 'score', 'isoscore'])\n",
    "identities = identities.merge(seqinfo, on='seqname')\n",
    "\n",
    "# GC content\n",
    "paired_cols = identities.columns[list(map(lambda x: (':' in x), identities.columns))]\n",
    "identities['GC'] = identities[paired_cols].apply(lambda x: sum((x == \"G:C\") | (x == \"C:G\"))/len(paired_cols), axis=1)"
   ]
  },
  {
   "cell_type": "markdown",
   "metadata": {},
   "source": [
    "### Insertions/deletions/introns"
   ]
  },
  {
   "cell_type": "code",
   "execution_count": 21,
   "metadata": {
    "collapsed": false
   },
   "outputs": [],
   "source": [
    "# Intron length\n",
    "intron_cols = list(filter(lambda x: x[0:3] == '37i', identities.columns))\n",
    "identities['intron'] = identities[intron_cols].apply(lambda x: sum(x != \".\"), axis=1)\n",
    "\n",
    "# Insertions (minus introns at 37/38)\n",
    "insertion_cols = list(filter(lambda x: bool(re.search('^\\d+i', x)) & (x not in intron_cols), identities.columns))\n",
    "identities['insertions'] = identities[insertion_cols].apply(lambda x: sum(x != '.'), axis=1)\n",
    "\n",
    "# Deletions at positions that are not the variable arm, and not counting 17/17a/20a/20b\n",
    "base_cols = list(filter(lambda x: bool(re.match('^\\d+$', x)) & (x not in ['74', '75', '76', '17', '17a', '20a', '20b']), identities.columns))\n",
    "identities['deletions'] = identities[base_cols].apply(lambda x: ''.join(x).count('-'), axis=1)"
   ]
  },
  {
   "cell_type": "markdown",
   "metadata": {},
   "source": [
    "### Loop sizes"
   ]
  },
  {
   "cell_type": "code",
   "execution_count": 22,
   "metadata": {
    "collapsed": false,
    "scrolled": false
   },
   "outputs": [],
   "source": [
    "def bounds_to_cols(cols, start, end):\n",
    "  selected_cols = []\n",
    "  for col in cols:\n",
    "    matches = re.findall('\\d+', col)\n",
    "    if len(matches) < 1: continue\n",
    "    index = int(matches[0])\n",
    "    if (index >= start and index <= end or col[0:3] == '{}i'.format(start - 1)) and col[0] != 'V':\n",
    "      selected_cols.append(col)\n",
    "  return selected_cols\n",
    "\n",
    "dloop_cols = list(filter(lambda col: ':' not in col, bounds_to_cols(identities.columns, 14, 21)))\n",
    "identities['D-loop'] = identities[dloop_cols].apply(lambda x: len(x[(x != '.') & (x != '-')]), axis=1)\n",
    "\n",
    "# Leu, Ser, Tyr have a 3 bp D stem\n",
    "dloop_II_cols = list(filter(lambda col: ':' not in col, bounds_to_cols(identities.columns, 13, 22)))\n",
    "identities.ix[(identities.isotype == 'Leu') | (identities.isotype == 'Ser') | (identities.isotype == 'Tyr'), 'D-loop'] = identities[dloop_II_cols].apply(lambda x: len(x[(x != '.') & (x != '-')]), axis=1)\n",
    "\n",
    "acloop_cols = list(filter(lambda x: not re.match('37i.+', x), bounds_to_cols(identities.columns, 32, 38)))\n",
    "identities['AC-loop'] = identities[acloop_cols].apply(lambda x: len(x[(x != '.') & (x != '-')]), axis=1)\n",
    "\n",
    "tpcloop_cols = bounds_to_cols(identities.columns, 54, 60)\n",
    "identities['TPC-loop'] = identities[tpcloop_cols].apply(lambda x: len(x[(x != '.') & (x != '-')]), axis=1)\n",
    "\n",
    "varm_cols = list(filter(lambda x: ('V' in x) & (':' not in x), identities.columns))\n",
    "identities['V-arm'] = identities[varm_cols].apply(lambda x: len(x[(x != '.') & (x != '-') & (x != \"-:-\")]), axis=1)"
   ]
  },
  {
   "cell_type": "markdown",
   "metadata": {},
   "source": [
    "### High-quality tRNA set\n",
    "\n",
    "There was talk about using the high quality tRNAs to look at identity elements. Instead, I will just annotate specific tRNAs as high-quality or not. We can sort out the differences later."
   ]
  },
  {
   "cell_type": "code",
   "execution_count": 23,
   "metadata": {
    "collapsed": false
   },
   "outputs": [],
   "source": [
    "# Import list of quality tRNAs\n",
    "quality_trnas = [line.strip() for line in open('quality-set.out')]\n",
    "identities['quality'] = identities.seqname.isin(quality_trnas)"
   ]
  },
  {
   "cell_type": "markdown",
   "metadata": {
    "collapsed": true
   },
   "source": [
    "### Restrict tRNAs by species\n",
    "\n",
    "We may also want to limit the contribution of any single species, similar to how we built the isotype-specific models. The restricted set is a subset of the quality set."
   ]
  },
  {
   "cell_type": "code",
   "execution_count": 27,
   "metadata": {
    "collapsed": false,
    "scrolled": true
   },
   "outputs": [],
   "source": [
    "identities.ix[:, 'restrict'] = False\n",
    "for species in identities.species.unique():\n",
    "  species_df = identities.ix[identities.species == species, :]\n",
    "  for isotype in isotypes:\n",
    "    isotype_indices = identities.ix[(identities.species == species) & (identities.isotype == isotype) & (-identities.restrict) & (identities.quality), ].index\n",
    "    unique_scores_indices = isotype_indices[-identities.ix[isotype_indices, 'score'].duplicated()]\n",
    "    if len(unique_scores_indices) > 50:\n",
    "      unique_scores_indices = unique_scores_indices[numpy.argsort(identities.ix[unique_scores_indices, 'score'])][::-1][:50]\n",
    "    restricted_indices = list(set(isotype_indices) - set(unique_scores_indices))\n",
    "    identities.ix[restricted_indices, 'restrict'] = True"
   ]
  },
  {
   "cell_type": "markdown",
   "metadata": {},
   "source": [
    "## Export to R\n",
    "\n",
    "R has superior visualization capabilities.\n",
    "\n",
    "### Order columns\n",
    "\n",
    "To make it look pretty."
   ]
  },
  {
   "cell_type": "code",
   "execution_count": 28,
   "metadata": {
    "collapsed": false,
    "scrolled": false
   },
   "outputs": [],
   "source": [
    "def position_str_to_int(position):\n",
    "  if position == \"20a\": return 20.1\n",
    "  if position == \"20b\": return 20.2\n",
    "  digits = re.findall('\\d+', position)\n",
    "  if len(digits) == 0: return -1\n",
    "  insert = 0\n",
    "  if 'i' in position and len(digits) == 2: insert = float(digits[1]) / 1000\n",
    "  if position[0] == 'V':\n",
    "    if ':' in position: return int(digits[0]) + 45 - 10 + insert # V11~V17\n",
    "    else: return int(digits[0]) + 45 + 7 + insert # V1~V5\n",
    "  if int(digits[0]) >= 46: return int(digits[0]) + 50 + insert # just add an arbitrarily large number to skip v-arm\n",
    "  return int(digits[0]) + insert\n",
    "\n",
    "identities = identities[sorted(list(identities.columns), key=position_str_to_int)]"
   ]
  },
  {
   "cell_type": "code",
   "execution_count": 29,
   "metadata": {
    "collapsed": true
   },
   "outputs": [],
   "source": [
    "identities.to_csv(path_or_buf='identities.tsv', sep='\\t', index_label=False)"
   ]
  }
 ],
 "metadata": {
  "anaconda-cloud": {},
  "kernelspec": {
   "display_name": "Python [Root]",
   "language": "python",
   "name": "Python [Root]"
  },
  "language_info": {
   "codemirror_mode": {
    "name": "ipython",
    "version": 3
   },
   "file_extension": ".py",
   "mimetype": "text/x-python",
   "name": "python",
   "nbconvert_exporter": "python",
   "pygments_lexer": "ipython3",
   "version": "3.5.2"
  }
 },
 "nbformat": 4,
 "nbformat_minor": 0
}
