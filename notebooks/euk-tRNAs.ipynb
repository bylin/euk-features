{
 "cells": [
  {
   "cell_type": "code",
   "execution_count": 142,
   "metadata": {
    "collapsed": false
   },
   "outputs": [],
   "source": [
    "%matplotlib inline\n",
    "from ggplot import *\n",
    "import matplotlib as mpl\n",
    "import seaborn as sns\n",
    "mpl.rcParams['figure.figsize'] = (15, 6)\n",
    "mpl.style.use('ggplot')\n",
    "import pandas as pd\n",
    "import numpy\n",
    "import scipy\n",
    "import pylab\n",
    "import subprocess\n",
    "import math\n",
    "import glob\n",
    "import os, sys\n",
    "from collections import defaultdict, Counter, OrderedDict\n",
    "from Bio import SeqIO, SeqRecord, Seq\n",
    "from tRNA_position import *\n",
    "pd.set_option('display.max_colwidth',10000)\n",
    "pd.set_option('display.width', 10000)\n",
    "pd.set_option('display.max_columns', 10000)\n",
    "pd.set_option('display.max_rows',1000)\n",
    "isotypes = ['Ala', 'Arg', 'Asn', 'Asp', 'Cys', 'Gln', 'Glu', 'Gly', 'His', 'Ile', 'iMet', 'Leu', 'Lys', 'Met', 'Phe', 'Pro', 'Ser', 'Thr', 'Trp', 'Tyr', 'Val']"
   ]
  },
  {
   "cell_type": "markdown",
   "metadata": {},
   "source": [
    "# Introduction\n",
    "\n",
    "A global view of identity elements versus biological features would be a powerful tool for predicting tRNA function using primary sequence. To do this, I'll need to align eukaryotic tRNAs to our established models and annotate positions based on universal numbering. Then, I'll extract sequence information such as position, clade, or variable arm length."
   ]
  },
  {
   "cell_type": "markdown",
   "metadata": {},
   "source": [
    "# Process tRNAs\n",
    "## Species information"
   ]
  },
  {
   "cell_type": "code",
   "execution_count": 3,
   "metadata": {
    "collapsed": false,
    "scrolled": true
   },
   "outputs": [
    {
     "data": {
      "text/html": [
       "<div>\n",
       "<table border=\"1\" class=\"dataframe\">\n",
       "  <thead>\n",
       "    <tr style=\"text-align: right;\">\n",
       "      <th></th>\n",
       "      <th>shortname</th>\n",
       "      <th>name</th>\n",
       "      <th>longname</th>\n",
       "      <th>domain</th>\n",
       "      <th>clade</th>\n",
       "      <th>subclade</th>\n",
       "    </tr>\n",
       "  </thead>\n",
       "  <tbody>\n",
       "    <tr>\n",
       "      <th>0</th>\n",
       "      <td>Bdist3</td>\n",
       "      <td>braDis3</td>\n",
       "      <td>Brachypodium distachyon Bd21 (JGI v3.0)</td>\n",
       "      <td>eukaryota</td>\n",
       "      <td>Streptophyta</td>\n",
       "      <td>NaN</td>\n",
       "    </tr>\n",
       "    <tr>\n",
       "      <th>1</th>\n",
       "      <td>Mtrun4</td>\n",
       "      <td>medTru4</td>\n",
       "      <td>Medicago truncatula (Mt4.0v1)</td>\n",
       "      <td>eukaryota</td>\n",
       "      <td>Streptophyta</td>\n",
       "      <td>NaN</td>\n",
       "    </tr>\n",
       "    <tr>\n",
       "      <th>2</th>\n",
       "      <td>Graim2</td>\n",
       "      <td>gosRai2</td>\n",
       "      <td>Gossypium raimondii (Cotton v2)</td>\n",
       "      <td>eukaryota</td>\n",
       "      <td>Streptophyta</td>\n",
       "      <td>NaN</td>\n",
       "    </tr>\n",
       "    <tr>\n",
       "      <th>3</th>\n",
       "      <td>Ptric3</td>\n",
       "      <td>popTri3</td>\n",
       "      <td>Populus trichocarpa (JGI v3.0)</td>\n",
       "      <td>eukaryota</td>\n",
       "      <td>Streptophyta</td>\n",
       "      <td>NaN</td>\n",
       "    </tr>\n",
       "    <tr>\n",
       "      <th>4</th>\n",
       "      <td>Sbico3</td>\n",
       "      <td>sorBic3</td>\n",
       "      <td>Sorghum bicolor (Version 3.1)</td>\n",
       "      <td>eukaryota</td>\n",
       "      <td>Streptophyta</td>\n",
       "      <td>NaN</td>\n",
       "    </tr>\n",
       "  </tbody>\n",
       "</table>\n",
       "</div>"
      ],
      "text/plain": [
       "  shortname     name                                 longname     domain         clade subclade\n",
       "0    Bdist3  braDis3  Brachypodium distachyon Bd21 (JGI v3.0)  eukaryota  Streptophyta      NaN\n",
       "1    Mtrun4  medTru4            Medicago truncatula (Mt4.0v1)  eukaryota  Streptophyta      NaN\n",
       "2    Graim2  gosRai2          Gossypium raimondii (Cotton v2)  eukaryota  Streptophyta      NaN\n",
       "3    Ptric3  popTri3           Populus trichocarpa (JGI v3.0)  eukaryota  Streptophyta      NaN\n",
       "4    Sbico3  sorBic3            Sorghum bicolor (Version 3.1)  eukaryota  Streptophyta      NaN"
      ]
     },
     "execution_count": 3,
     "metadata": {},
     "output_type": "execute_result"
    }
   ],
   "source": [
    "species_table = pd.read_table('genome_table+.txt', header=None, names=['shortname', 'name', 'longname', 'domain', 'clade', 'subclade'])\n",
    "# set NaN to empty strings\n",
    "species_table.ix[species_table.name.apply(lambda x: type(x) is float), 'name'] = ''\n",
    "species_table.head()"
   ]
  },
  {
   "cell_type": "markdown",
   "metadata": {},
   "source": [
    "## Align tRNAs to existing CMs"
   ]
  },
  {
   "cell_type": "markdown",
   "metadata": {},
   "source": [
    "We have a \"quality set\" of tRNAs, which include tRNAs from previous versions of genomes and newer versions of genomes. It is simpler and easier to create a new fasta file and alignment for each isotype, based on the `.iso` files from each run.\n",
    "\n",
    "I also need to manually curate the genome table file to include the new species. And while I'm doing that, I might as well fix the broken entries."
   ]
  },
  {
   "cell_type": "code",
   "execution_count": 39,
   "metadata": {
    "collapsed": false,
    "scrolled": true
   },
   "outputs": [
    {
     "name": "stdout",
     "output_type": "stream",
     "text": [
      "processing Mus129S1_SvImJ_1509...Mus129S1_SvImJ_1509 tRNA file not found, skipping\n",
      "processing MusAKR_J_1509...MusAKR_J_1509 tRNA file not found, skipping\n",
      "processing MusA_J_1509...MusA_J_1509 tRNA file not found, skipping\n",
      "processing MusBALB_cJ_1509...MusBALB_cJ_1509 tRNA file not found, skipping\n",
      "processing MusC3H_HeJ_1509...MusC3H_HeJ_1509 tRNA file not found, skipping\n",
      "processing MusC57BL_6NJ_1509...MusC57BL_6NJ_1509 tRNA file not found, skipping\n",
      "processing MusCAROLI_EiJ_1509...MusCAROLI_EiJ_1509 tRNA file not found, skipping\n",
      "processing MusCAST_EiJ_1509...MusCAST_EiJ_1509 tRNA file not found, skipping\n",
      "processing MusCBA_J_1509...MusCBA_J_1509 tRNA file not found, skipping\n",
      "processing MusDBA_2J_1509...MusDBA_2J_1509 tRNA file not found, skipping\n",
      "processing MusFVB_NJ_1509...MusFVB_NJ_1509 tRNA file not found, skipping\n",
      "processing MusLP_J_1509...MusLP_J_1509 tRNA file not found, skipping\n",
      "processing MusNOD_ShiLtJ_1509...MusNOD_ShiLtJ_1509 tRNA file not found, skipping\n",
      "processing MusNZO_HlLtJ_1509...MusNZO_HlLtJ_1509 tRNA file not found, skipping\n",
      "processing MusPWK_PhJ_1509...MusPWK_PhJ_1509 tRNA file not found, skipping\n",
      "processing MusPahari_EiJ_1509...MusPahari_EiJ_1509 tRNA file not found, skipping\n",
      "processing MusSPRET_EiJ_1509...MusSPRET_EiJ_1509 tRNA file not found, skipping\n",
      "processing MusWSB_EiJ_1509...MusWSB_EiJ_1509 tRNA file not found, skipping\n",
      "processing ailMel1...finished\n",
      "processing anoCar2...finished\n",
      "processing araTha1...finished\n",
      "processing ashbGoss_ATCC10895...finished\n",
      "processing aspeFumi_AF293...finished\n",
      "processing aspeNidu_FGSC_A4...finished\n",
      "processing aspeOryz_RIB40...finished\n",
      "processing balAcu1...finished\n",
      "processing bosTau8...finished\n",
      "processing botrCine_B05_10...finished\n",
      "processing braDis3...finished\n",
      "processing caeJap1...finished\n",
      "processing caePb2...finished\n",
      "processing caeRem3...finished\n",
      "processing calJac3...finished\n",
      "processing calMil1...finished\n",
      "processing canFam3...finished\n",
      "processing candAlbi_WO_1...finished\n",
      "processing candDubl_CD36...finished\n",
      "processing candGlab_CBS_138...finished\n",
      "processing candOrth_CO_90_125...finished\n",
      "processing cavPor3...finished\n",
      "processing cb3...finished\n",
      "processing ce10...finished\n",
      "processing cerSim1...finished\n",
      "processing chaeTher_VAR_THERMOPHILUM_DSM1...chaeTher_VAR_THERMOPHILUM_DSM1 tRNA file not found, skipping\n",
      "processing chrPic1...finished\n",
      "processing criGri1...finished\n",
      "processing crypGatt_WM276...finished\n",
      "processing crypNeof_VAR_GRUBII_H99...finished\n",
      "processing crypNeof_VAR_NEOFORMANS_B_3501...finished\n",
      "processing crypNeof_VAR_NEOFORMANS_JEC21...finished\n",
      "processing cybeJadi_NBRC_0988_NBRC0988...finished\n",
      "processing danRer10...finished\n",
      "processing dasNov3...finished\n",
      "processing debaHans_CBS767...finished\n",
      "processing dipOrd1...dipOrd1 tRNA file not found, skipping\n",
      "processing dm6...finished\n",
      "processing dp4...finished\n",
      "processing droAna3...finished\n",
      "processing droEre2...finished\n",
      "processing droGri2...finished\n",
      "processing droMoj3...finished\n",
      "processing droPer1...finished\n",
      "processing droSec1...finished\n",
      "processing droSim1...finished\n",
      "processing droVir3...finished\n",
      "processing droWil1...finished\n",
      "processing droYak2...finished\n",
      "processing enceCuni_GB_M1...finished\n",
      "processing enceHell_ATCC50504...finished\n",
      "processing enceInte_ATCC50506...finished\n",
      "processing enceRoma_SJ_2008...finished\n",
      "processing equCab2...finished\n",
      "processing eremCymb_DBVPG#7215...finished\n",
      "processing eriEur2...finished\n",
      "processing felCat5...finished\n",
      "processing flamVelu_KACC42780...finished\n",
      "processing fr3...finished\n",
      "processing fusaGram_CS3005...finished\n",
      "processing fusaGram_PH_1_NRRL_31084...finished\n",
      "processing fusaPseu_CS3096...finished\n",
      "processing fusaPseu_CS3270...finished\n",
      "processing fusaVert_7600...finished\n",
      "processing gadMor1...finished\n",
      "processing galGal4...finished\n",
      "processing gasAcu1...finished\n",
      "processing geoFor1...finished\n",
      "processing glyMax2...finished\n",
      "processing gorGor3...finished\n",
      "processing gosRai2...finished\n",
      "processing hetGla2...finished\n",
      "processing hg19...finished\n",
      "processing hg38...finished\n",
      "processing kazaAfri_CBS_2517...finished\n",
      "processing kazaNaga_CBS_8797...finished\n",
      "processing kluyLact_NRRL_Y_1140...finished\n",
      "processing komaPast_CBS_7435...finished\n",
      "processing komaPast_GS115...finished\n",
      "processing lachKluy_NRRL_Y_12651...finished\n",
      "processing lachTher_CBS_6340...finished\n",
      "processing latCha1...finished\n",
      "processing loxAfr3...finished\n",
      "processing macEug2...finished\n",
      "processing magnOryz_70_15...finished\n",
      "processing manEsc6...finished\n",
      "processing medTru4...finished\n",
      "processing melGal1...finished\n",
      "processing melUnd1...finished\n",
      "processing micMur1...finished\n",
      "processing millFari_CBS_7064...finished\n",
      "processing mm10...finished\n",
      "processing monDom5...finished\n",
      "processing musFur1...finished\n",
      "processing myceTher_ATCC42464...finished\n",
      "processing myoLuc2...finished\n",
      "processing naumCast_CBS_4309...finished\n",
      "processing naumDair_CBS_421...finished\n",
      "processing neurCras_OR74A...finished\n",
      "processing nomLeu3...finished\n",
      "processing ochPri3...finished\n",
      "processing ogatPara_DL_1...finished\n",
      "processing oreNil2...finished\n",
      "processing ornAna1...finished\n",
      "processing oryCun2...finished\n",
      "processing oryLat2...finished\n",
      "processing orySat7...finished\n",
      "processing otoGar3...finished\n",
      "processing oviAri3...finished\n",
      "processing panTro4...finished\n",
      "processing papAnu2...finished\n",
      "processing peniChry_P2NIAD18...finished\n",
      "processing ponAbe2...finished\n",
      "processing popTri3...finished\n",
      "processing priPac1...finished\n",
      "processing proCap1...finished\n",
      "processing pteVam1...finished\n",
      "processing rheMac3...finished\n",
      "processing rn6...finished\n",
      "processing sacCer3...finished\n",
      "processing saccCere_AWRI796...finished\n",
      "processing saccCere_CEN_PK113_7D...finished\n",
      "processing saccCere_FOSTERSB...finished\n",
      "processing saccCere_P283...finished\n",
      "processing saccCere_P301...finished\n",
      "processing saccCere_R008...finished\n",
      "processing saccCere_R103...finished\n",
      "processing saccCere_SIGMA1278B...finished\n",
      "processing saccCere_UFMG_A_905...finished\n",
      "processing saccCere_VIN13...finished\n",
      "processing saccCere_VL3...finished\n",
      "processing saccCere_W303...finished\n",
      "processing saccCere_YJSH1...finished\n",
      "processing saccSp_ASHBYA_ACERI...finished\n",
      "processing saccSp_BOULARDII_17...finished\n",
      "processing saccSp_BOULARDII_ATCCMYA_796...finished\n",
      "processing saiBol1...finished\n",
      "processing sarHar1...finished\n",
      "processing scheStip_CBS_6054...finished\n",
      "processing schiPomb_972H...finished\n",
      "processing sorAra2...finished\n",
      "processing sorBic3...finished\n",
      "processing speTri2...finished\n",
      "processing sporReil_SRZ2...finished\n",
      "processing susScr3...finished\n",
      "processing taeGut2...finished\n",
      "processing tarSyr2...finished\n",
      "processing tetNig2...finished\n",
      "processing tetrBlat_CBS_6284...finished\n",
      "processing tetrPhaf_CBS_4417...finished\n",
      "processing thieTerr_NRRL_8126...finished\n",
      "processing toruDelb_CBS_1146...finished\n",
      "processing triMan1...finished\n",
      "processing trypBruc_BRUCEI_TREU927_927_4...trypBruc_BRUCEI_TREU927_927_4 tRNA file not found, skipping\n",
      "processing trypBruc_GAMBIENSE_DAL972_DAL...trypBruc_GAMBIENSE_DAL972_DAL tRNA file not found, skipping\n",
      "processing turTru2...finished\n",
      "processing ustiMayd_521...finished\n",
      "processing valsMali_03_8...finished\n",
      "processing vertDahl_JR2...finished\n",
      "processing vertDahl_VDLS_17...finished\n",
      "processing vicPac2...finished\n",
      "processing vitVin1...finished\n",
      "processing xenTro3...finished\n",
      "processing yarrLipo_CLIB122...finished\n",
      "processing yarrLipo_PO1F...finished\n",
      "processing yarrLipo_WSH_Z06...finished\n",
      "processing zeaMay6...finished\n",
      "processing zygoRoux_CBS_732...finished\n"
     ]
    }
   ],
   "source": [
    "species = sorted(glob.glob(\"iso/*.iso\"))\n",
    "species = [sp[4:-10] for sp in species]\n",
    "isotype_seqs = defaultdict(list)\n",
    "for sp in species:\n",
    "  sys.stdout.write('processing ' + sp + '...')\n",
    "  sys.stdout.flush()\n",
    "  tRNA_file = 'tRNAs/' + sp + '-tRNAs.fa'\n",
    "  if not os.path.exists(tRNA_file):\n",
    "    print(sp + ' tRNA file not found, skipping')\n",
    "    continue\n",
    "\n",
    "  seqs = []\n",
    "  seqids = []\n",
    "  for seq in SeqIO.parse(tRNA_file, 'fasta'):\n",
    "    if \"pseudogene\" in seq.description: continue\n",
    "    score = float(re.findall('Sc: [\\d\\.]+', seq.description)[0].split()[-1])\n",
    "    if score < 55: continue\n",
    "    seqs.append(seq)\n",
    "    seqids.append(seq.id)\n",
    "\n",
    "  iso_scores = pd.read_table('iso/' + sp + '-tRNAs.iso', header=0)\n",
    "  iso_scores = iso_scores[iso_scores.tRNAscanID.isin(seqids)]\n",
    "  iso_scores['best'] = iso_scores.ix[:,2:].idxmax(axis=1)\n",
    "  iso_scores['score'] = iso_scores.max(axis=1, numeric_only=True)\n",
    "  iso_scores.index = iso_scores.tRNAscanID.values\n",
    "  iso_scores = iso_scores[['best', 'score']]\n",
    "  \n",
    "  for seq in seqs:\n",
    "    isotype = iso_scores.ix[seq.id].best\n",
    "    if isotype == 'SeC' or 'mito' in isotype: continue\n",
    "    isoscore = iso_scores.ix[seq.id].score\n",
    "    seq.id = '{}_{} Iso: {}'.format(sp, seq.description, isoscore)\n",
    "    seq.description = ''\n",
    "    isotype_seqs[isotype].append(seq)\n",
    "\n",
    "  print('finished')\n",
    "  sys.stdout.flush()"
   ]
  },
  {
   "cell_type": "code",
   "execution_count": 40,
   "metadata": {
    "collapsed": false
   },
   "outputs": [],
   "source": [
    "# Run this only after successfully running the above\n",
    "for isotype in isotypes:\n",
    "  fasta = 'fasta/euk-' + isotype + '.fa'\n",
    "  if os.path.exists(fasta): # Force user to manually check whether it needs to be rewritten\n",
    "    print(\"File exists: \" + fasta)\n",
    "    continue\n",
    "  fasta_handle = open(fasta, 'w')\n",
    "  SeqIO.write(isotype_seqs[isotype], fasta_handle, 'fasta')\n",
    "  fasta_handle.close()"
   ]
  },
  {
   "cell_type": "code",
   "execution_count": 216,
   "metadata": {
    "collapsed": false
   },
   "outputs": [],
   "source": [
    "for isotype in isotypes:\n",
    "  fasta = 'fasta/euk-' + isotype + '.fa'\n",
    "  alignment = 'alignments/euk-' + isotype + '.sto'\n",
    "  model = '/projects/lowelab/users/blin/tRNAscan/models/current/TRNAinf-euk.cm'\n",
    "  subprocess.call('cmalign -g --notrunc -o {} {} {}'.format(alignment, model, fasta), shell=True)"
   ]
  },
  {
   "cell_type": "markdown",
   "metadata": {},
   "source": [
    "### Merge alignment lines\n",
    "\n",
    "The parser requires the alignment to fit one line per sequence. Infernal splits up long alignments nondeterministically into multiple lines, with no way to control this behavior. We need to reconstruct the alignments one by one, with fully untruncated lines."
   ]
  },
  {
   "cell_type": "code",
   "execution_count": null,
   "metadata": {
    "collapsed": false
   },
   "outputs": [],
   "source": [
    "for isotype in isotypes:\n",
    "  alignment = 'alignments/euk-' + isotype + '.sto'\n",
    "  lines = []\n",
    "  ss_cons = ''\n",
    "  rf = ''\n",
    "  ordered_seqs = OrderedDict() # use ordered dict as an ordered set\n",
    "  seqs = defaultdict(str)\n",
    "  scores = defaultdict(str)\n",
    "  \n",
    "  for line in open(alignment):\n",
    "    if line[0] == '\\n' or line[0:4] in ['# ST', '#=GF', '#=GS']:\n",
    "      lines.append(line)\n",
    "    elif line == '//\\n': continue\n",
    "    elif line[0:7] == '#=GC SS':\n",
    "      ss_cons += line.strip().split()[2]\n",
    "      gaplength = line.count(' ') + 6\n",
    "    elif line[0:7] == '#=GC RF':\n",
    "      rf += line.strip().split()[2]\n",
    "    # else, column is either nucleotide or score line for a sequence\n",
    "    else:\n",
    "      cols = line.strip().split()\n",
    "      if cols[0] == \"#=GR\":\n",
    "        scores[cols[1]] += cols[3]\n",
    "      else:\n",
    "        ordered_seqs[cols[0]] = ''\n",
    "        seqs[cols[0]] += cols[1]\n",
    "      \n",
    "  for seq in ordered_seqs:\n",
    "    lines.append('{}{}{}\\n'.format(seq, ' ' * (gaplength - len(seq) + 5), seqs[seq]))\n",
    "    lines.append('#=GR {}{}PP {}\\n'.format(seq, ' ' * (gaplength - len(seq) - 3), scores[seq]))\n",
    "  lines.append('#=GC SS_cons{}{}\\n'.format(' ' * (gaplength - 7), ss_cons))\n",
    "  lines.append('#=GC RF{}{}\\n'.format(' ' * (gaplength - 2), rf))\n",
    "  lines.append('//')\n",
    "  \n",
    "  outfile = open(alignment, 'w')\n",
    "  for line in lines: outfile.write(line)\n",
    "  outfile.close()"
   ]
  },
  {
   "cell_type": "markdown",
   "metadata": {},
   "source": [
    "## Create table of tRNA bases by position\n",
    "\n",
    "This is a giant data frame with one row per tRNA, and with columns for each position, plus tRNA metadata like species and loop lengths."
   ]
  },
  {
   "cell_type": "code",
   "execution_count": 356,
   "metadata": {
    "collapsed": false,
    "scrolled": true
   },
   "outputs": [
    {
     "name": "stdout",
     "output_type": "stream",
     "text": [
      "processing Ala...done\n",
      "processing Arg...done\n",
      "processing Asn...done\n",
      "processing Asp...done\n",
      "processing Cys...done\n",
      "processing Gln...done\n",
      "processing Glu...done\n",
      "processing Gly...done\n",
      "processing His...done\n",
      "processing Ile...done\n",
      "processing iMet...done\n",
      "processing Leu...done\n",
      "processing Lys...done\n",
      "processing Met...done\n",
      "processing Phe...done\n",
      "processing Pro...done\n",
      "processing Ser...done\n",
      "processing Thr...done\n",
      "processing Trp...done\n",
      "processing Tyr...done\n",
      "processing Val...done\n"
     ]
    }
   ],
   "source": [
    "def position_base(positions, seq):\n",
    "  for position_index, position in enumerate(positions):\n",
    "    if position.paired:\n",
    "      index1, index2 = position.position.split(':')\n",
    "      index1, index2 = int(index1), int(index2)\n",
    "      base_pair = \"{}:{}\".format(seq[index1 - 1].upper(), seq[index2 - 1].upper())\n",
    "      yield position.sprinzl, base_pair\n",
    "    else:\n",
    "      index = int(position.position)\n",
    "      base = seq[index - 1].upper()\n",
    "      yield position.sprinzl, base\n",
    "      \n",
    "identities = pd.DataFrame()\n",
    "\n",
    "for isotype in isotypes:\n",
    "  sys.stdout.write('processing ' + isotype + '...')\n",
    "  alignment = 'alignments/euk-' + isotype + '.sto'\n",
    "  # get positions\n",
    "  alignment_fhandle = open(alignment)\n",
    "  positions = [] # list containing each position in the tRNA\n",
    "  # first, get secondary structure\n",
    "  for line in alignment_fhandle:\n",
    "    if line[0:12] == '#=GC SS_cons':\n",
    "      ss = line.strip().split()[-1]\n",
    "  # parse secondary structure into regions and positions\n",
    "  positions = annotate_positions(ss)\n",
    "  # get counts for each position by parsing Stockholm file\n",
    "  alignment_fhandle = open(alignment)\n",
    "  trnas = []\n",
    "  for line in alignment_fhandle:\n",
    "    if line[0] in [\"#\", '\\n', '/']: continue\n",
    "    seqname, seq = line.strip().split()\n",
    "    species = seqname.rsplit('_', 1)[0]\n",
    "    if any(species_table.name == species): row = species_table[species_table.name == species]\n",
    "    else: continue # skip species that need too much babying\n",
    "    domain = row.domain.values[0]\n",
    "    clade = row.clade.values[0]\n",
    "    species_long = row.longname.values[0]\n",
    "    trna = {'domain': domain, 'clade': clade, 'species': species, 'species_long': species_long, 'seqname': seqname, 'isotype': isotype}\n",
    "    trna = {**trna, **{sprinzl: base for sprinzl, base in position_base(positions, seq)}}\n",
    "    trnas.append(trna)\n",
    "  identities = identities.append(trnas, ignore_index=True)\n",
    "  print('done')\n",
    "\n",
    "identities.fillna('.', inplace=True)"
   ]
  },
  {
   "cell_type": "markdown",
   "metadata": {},
   "source": [
    "### Create single base columns from paired positions\n",
    "\n",
    "This is mainly for plotting and such."
   ]
  },
  {
   "cell_type": "code",
   "execution_count": 385,
   "metadata": {
    "collapsed": false
   },
   "outputs": [],
   "source": [
    "cols = list(filter(lambda x: ':' in x, identities.columns))\n",
    "for col in cols:\n",
    "  pos1, pos2 = col.split(':')\n",
    "  base1 = [bases.split(':')[0] for bases in identities[col]]\n",
    "  base2 = [bases.split(':')[1] for bases in identities[col]]\n",
    "  identities[pos1] = base1\n",
    "  identities[pos2] = base2"
   ]
  },
  {
   "cell_type": "markdown",
   "metadata": {},
   "source": [
    "### Shorten D stem for class II tRNAs\n",
    "\n",
    "Leu, Ser, and Tyr have a 3 base pair D stem instead of 4. Since we've already copied over the columns into single bases, this is okay. I don't want to change the entries for this position to \"-:-\" because it would imply a deletion, and I don't want to change it to \".:.\" because it would break a lot of code. I'll leave it alone for now, until it's necessary to change it."
   ]
  },
  {
   "cell_type": "markdown",
   "metadata": {},
   "source": [
    "## Resolve consensus positions\n",
    "\n",
    "There are some discrepencies between the covariance model, the Sprinzl model, and reality. For instance, is position 17 really a gap position for most tRNAs? If so, why is it considered a position? We know that the D loop interacts with the TPC loop, so the general position 17 area should be a key identity element or structural feature contributing to tRNA activity. What should we call insertions at 17 if it's not a real position? These conflicts need to be resolved into a consensus version."
   ]
  },
  {
   "cell_type": "code",
   "execution_count": 386,
   "metadata": {
    "collapsed": true
   },
   "outputs": [],
   "source": [
    "def bounds_to_cols(cols, start, end):\n",
    "  selected_cols = []\n",
    "  for col in cols:\n",
    "    matches = re.findall('\\d+', col)\n",
    "    if len(matches) < 1: continue\n",
    "    index = int(matches[0])\n",
    "    if (index >= start and index <= end or col[0:3] == '{}i'.format(start - 1)) and col[0] != 'V':\n",
    "      selected_cols.append(col)\n",
    "  return selected_cols\n",
    "\n",
    "def position_histogram(identities, cols):\n",
    "  df = pd.melt(identities[cols + ['seqname']], id_vars=['seqname'])\n",
    "  df = df[(df.value != \".\") & (df.value != \"-\")]\n",
    "  counts = pd.Series(Counter([x for x in df.variable]), index=cols)\n",
    "  counts = counts[counts > 10]\n",
    "  counts = pd.DataFrame({\"Position\": counts.index, 'tRNAs': counts})\n",
    "  return counts.plot(kind='bar')"
   ]
  },
  {
   "cell_type": "markdown",
   "metadata": {},
   "source": [
    "### D-loop positions"
   ]
  },
  {
   "cell_type": "code",
   "execution_count": 387,
   "metadata": {
    "collapsed": false
   },
   "outputs": [
    {
     "data": {
      "text/plain": [
       "<matplotlib.axes._subplots.AxesSubplot at 0x7feb5f7965f8>"
      ]
     },
     "execution_count": 387,
     "metadata": {},
     "output_type": "execute_result"
    },
    {
     "data": {
      "image/png": "[encoded data removed]",
      "text/plain": [
       "<matplotlib.figure.Figure at 0x7feb5f796b70>"
      ]
     },
     "metadata": {},
     "output_type": "display_data"
    }
   ],
   "source": [
    "dloop_cols = bounds_to_cols(identities.columns, 14, 21)\n",
    "position_histogram(identities, dloop_cols)"
   ]
  },
  {
   "cell_type": "markdown",
   "metadata": {},
   "source": [
    "At first glance, it looks like we want to use 20i5 as position 20A. But that's not completely clear. I need to look up the biology of 20A and 20B first. It's possible that one of these was aligned to 20i5, and the other aligned to 20i2, or even 20i1/6/7.\n",
    "\n",
    "#### 17A\n",
    "\n",
    "But first, what isotypes have position 17?"
   ]
  },
  {
   "cell_type": "code",
   "execution_count": 388,
   "metadata": {
    "collapsed": false
   },
   "outputs": [
    {
     "data": {
      "text/plain": [
       "<matplotlib.axes._subplots.AxesSubplot at 0x7feb5f74a0b8>"
      ]
     },
     "execution_count": 388,
     "metadata": {},
     "output_type": "execute_result"
    },
    {
     "data": {
      "image/png": "[encoded data removed]",
      "text/plain": [
       "<matplotlib.figure.Figure at 0x7feb5f738e80>"
      ]
     },
     "metadata": {},
     "output_type": "display_data"
    }
   ],
   "source": [
    "df = pd.melt(identities[['isotype', '17']], id_vars=['isotype'])\n",
    "df = df[(df.value != \".\") & (df.value != \"-\")]\n",
    "df = pd.Series(Counter([x for x in df.isotype]))\n",
    "df.plot(kind='bar')"
   ]
  },
  {
   "cell_type": "markdown",
   "metadata": {},
   "source": [
    "Based on Sprinzl alignments, there are 19 tRNAs out of 2249 with a base at position 17A. It also doesn't look like we can hardcode position 17 for just one or two isotypes - it's universal enough. Based on this data, 17A is exceedingly rare, and even position 17 is only there 30% of the time (based on our data). So, the current consensus around position 17 is acceptable.\n",
    "\n",
    "#### 20a/20b\n",
    "\n",
    "Also based on Sprinzl alignments, no tRNAs have only 20b and not 20a. So whenever there is 20b, 20a is sure to be there. Let's take a look at the distribution out of 2249 tRNA genes:"
   ]
  },
  {
   "cell_type": "code",
   "execution_count": 389,
   "metadata": {
    "collapsed": false,
    "scrolled": false
   },
   "outputs": [
    {
     "data": {
      "text/plain": [
       "<matplotlib.axes._subplots.AxesSubplot at 0x7feb54b70eb8>"
      ]
     },
     "execution_count": 389,
     "metadata": {},
     "output_type": "execute_result"
    },
    {
     "data": {
      "image/png": "[encoded data removed]",
      "text/plain": [
       "<matplotlib.figure.Figure at 0x7feb54b5fd68>"
      ]
     },
     "metadata": {},
     "output_type": "display_data"
    }
   ],
   "source": [
    "sprinzl_20ab = pd.read_table('sprinzl-20ab.txt', header=None, names=['20a', '20b', 'Isotype'])\n",
    "sprinzl_20ab = sprinzl_20ab.groupby([\"Isotype\"]).aggregate(lambda x: len(x[x != '-']))\n",
    "sprinzl_20ab.plot(kind=\"bar\")"
   ]
  },
  {
   "cell_type": "markdown",
   "metadata": {},
   "source": [
    "This complicates things. Ideally we'd like to see all of the tRNAs with 20b to belong to one or two isotypes. Then we could manually check the most common insertion positions for those isotypes and adjust it. Instead, we'll just have to check the insertion positions for all isotypes and attempt to come up with some universal rules.\n",
    "\n",
    "One additional issue is that insertions can occur anywhere in the span between 20 and 21. For example, Ala has a 7 base insert in the alignment, which means that the longest insert is 7 nucleotides. Typically bases will align as [------x], but some will show up as [--xxx--], or [x------]. This lends itself to an alternative solution: remove empty positions from the 20-21 span, and use rules to determine which bases to mark as 20a, 20b, or insertions."
   ]
  },
  {
   "cell_type": "code",
   "execution_count": 390,
   "metadata": {
    "collapsed": false
   },
   "outputs": [
    {
     "name": "stdout",
     "output_type": "stream",
     "text": [
      "         Isotype\n",
      "20a 20b         \n",
      "-   -        934\n",
      "A   -         30\n",
      "    G          1\n",
      "    T          3\n",
      "C   -        102\n",
      "    A          4\n",
      "    C         13\n",
      "    G          6\n",
      "    T        128\n",
      "D   -          1\n",
      "G   -         67\n",
      "    G          1\n",
      "    _          1\n",
      "T   -        919\n",
      "    A          3\n",
      "    C          3\n",
      "    G          4\n",
      "    T         29\n"
     ]
    },
    {
     "data": {
      "text/plain": [
       "<matplotlib.axes._subplots.AxesSubplot at 0x7feb54aacc18>"
      ]
     },
     "execution_count": 390,
     "metadata": {},
     "output_type": "execute_result"
    },
    {
     "data": {
      "image/png": "[encoded data removed]",
      "text/plain": [
       "<matplotlib.figure.Figure at 0x7feb54aa7898>"
      ]
     },
     "metadata": {},
     "output_type": "display_data"
    }
   ],
   "source": [
    "sprinzl_20ab = pd.read_table('sprinzl-20ab.txt', header=None, names=['20a', '20b', 'Isotype'])\n",
    "sprinzl_20ab = sprinzl_20ab.groupby([\"20a\", \"20b\"]).aggregate(len)\n",
    "print(sprinzl_20ab)\n",
    "sprinzl_20ab.plot(kind=\"bar\")"
   ]
  },
  {
   "cell_type": "markdown",
   "metadata": {},
   "source": [
    "This plot tells us a few things.\n",
    "\n",
    "First, 20a is typically a T, but there are a few ACG 20as. To be expected, as 20ab are typically modified to dihydrouridine (D).\n",
    "\n",
    "20b is typically also a T, but is most commonly paired with C20a. There are a few of the others, too. [Nissan and Perona (2000)](https://www.ncbi.nlm.nih.gov/pubmed/11105758) corroborate this by showing a successful replacement of  yeast function serine U20a/G20b with C20a/A20b _in vitro_. This complicates things. \n",
    "\n",
    "I hesitate to use a rule like \"First base is 20a, second base is 20b, third and up is 20i\". There is high potential for misannotation of an insertion as 20ab or vice versa. We can agree on the following:\n",
    "- single base insertion: 20a\n",
    "- two base insertion: 20a, 20b\n",
    "\n",
    "For three and up, we could potentially leave it unannotated. Let's take a look at the relative insertion lengths, by isotype:"
   ]
  },
  {
   "cell_type": "code",
   "execution_count": 391,
   "metadata": {
    "collapsed": false,
    "scrolled": true
   },
   "outputs": [],
   "source": [
    "insert_df = identities[['isotype'] + bounds_to_cols(identities.columns, 20, 20)]\n",
    "insertionab = insert_df.ix[:, 2:].apply(lambda x: sum(x != '.'), axis=1)\n",
    "insert_df = insert_df.assign(insertionab = insertionab)"
   ]
  },
  {
   "cell_type": "code",
   "execution_count": 398,
   "metadata": {
    "collapsed": false
   },
   "outputs": [
    {
     "name": "stdout",
     "output_type": "stream",
     "text": [
      "             isotype\n",
      "insertionab         \n",
      "0              59682\n",
      "1              50085\n",
      "2                372\n",
      "3                 68\n",
      "4                 19\n",
      "5                  8\n",
      "6                  1\n",
      "7                  2\n",
      "10                 1\n"
     ]
    },
    {
     "data": {
      "text/plain": [
       "[(-1, 5)]"
      ]
     },
     "execution_count": 398,
     "metadata": {},
     "output_type": "execute_result"
    },
    {
     "data": {
      "image/png": "[encoded data removed]",
      "text/plain": [
       "<matplotlib.figure.Figure at 0x7feb5424ef28>"
      ]
     },
     "metadata": {},
     "output_type": "display_data"
    }
   ],
   "source": [
    "print(insert_df.groupby('insertionab').aggregate({\"isotype\": len}))\n",
    "plot = sns.violinplot(data=insert_df, x='isotype', y='insertionab', scale='width', cut=0)\n",
    "plot.set(ylim=(-1, 5))"
   ]
  },
  {
   "cell_type": "markdown",
   "metadata": {},
   "source": [
    "Half of the tRNAs have no 20a/20b, and the other half does. For 10 isotypes, all tRNAs are 2 insertions and below. For the other 10, it varies. Exactly how many tRNAs are we working with here? Is there a correlation betweeen number of tRNAs and number of tRNAs with insertions > 2?"
   ]
  },
  {
   "cell_type": "code",
   "execution_count": 399,
   "metadata": {
    "collapsed": false,
    "scrolled": false
   },
   "outputs": [
    {
     "name": "stdout",
     "output_type": "stream",
     "text": [
      "No. tRNAs with > 2 insertions: 99\n"
     ]
    },
    {
     "data": {
      "text/plain": [
       "<matplotlib.text.Text at 0x7feb5437f2b0>"
      ]
     },
     "execution_count": 399,
     "metadata": {},
     "output_type": "execute_result"
    },
    {
     "data": {
      "image/png": "[encoded data removed]",
      "text/plain": [
       "<matplotlib.figure.Figure at 0x7fec5c090320>"
      ]
     },
     "metadata": {},
     "output_type": "display_data"
    }
   ],
   "source": [
    "df = insert_df.ix[insert_df.insertionab > 2, ['isotype', 'insertionab']].groupby('isotype').aggregate(len)\n",
    "print(\"No. tRNAs with > 2 insertions: {}\".format(sum(df.insertionab)))\n",
    "df = df.merge(identities[['isotype', 'seqname']].groupby('isotype').aggregate(len), how='right', right_index=True, left_index=True)\n",
    "df = df.fillna(0)\n",
    "df.columns = ['insertionab_tRNAs', 'tRNAs']\n",
    "\n",
    "# scatter plot\n",
    "plot = df.plot(kind='scatter', x='insertionab_tRNAs', y='tRNAs')\n",
    "for isotype, num_tRNAs in df.iterrows(): plot.annotate(isotype, num_tRNAs, xytext=(5, 0), textcoords='offset points', family='sans-serif')\n",
    "\n",
    "# add trendline\n",
    "beta = numpy.polyfit(x=df.insertionab_tRNAs, y=df.tRNAs, deg=1)\n",
    "trendline = pd.DataFrame({'x': list(df.insertionab_tRNAs) + [-20, 120], 'trendline': numpy.poly1d(beta)(list(df.insertionab_tRNAs) + [-20, 120])})\n",
    "trendline.plot(ax=plot, x='x', y='trendline', kind='line', xlim=[-5, 35], ylim=[-5000, 30000])\n",
    "\n",
    "plot.set_xlabel('No. tRNAs with >2 insertions at position 20')\n",
    "plot.set_ylabel('No. tRNAs')"
   ]
  },
  {
   "cell_type": "markdown",
   "metadata": {},
   "source": [
    "The propensity of an isotype to have more tRNAs with large insertions _seems_ to be correlated with the number of tRNAs of that isotype. In other words, more tRNAs, more chances to have large insertions. \n",
    "\n",
    "There's only 99 tRNAs with a 3 base or larger insertion. Here they are below."
   ]
  },
  {
   "cell_type": "code",
   "execution_count": 400,
   "metadata": {
    "collapsed": false
   },
   "outputs": [
    {
     "name": "stderr",
     "output_type": "stream",
     "text": [
      "/projects/lowelab/users/blin/anaconda3/lib/python3.5/site-packages/ipykernel/__main__.py:2: SettingWithCopyWarning: \n",
      "A value is trying to be set on a copy of a slice from a DataFrame.\n",
      "Try using .loc[row_indexer,col_indexer] = value instead\n",
      "\n",
      "See the caveats in the documentation: http://pandas.pydata.org/pandas-docs/stable/indexing.html#indexing-view-versus-copy\n",
      "  from ipykernel import kernelapp as app\n"
     ]
    },
    {
     "data": {
      "text/html": [
       "<div>\n",
       "<table border=\"1\" class=\"dataframe\">\n",
       "  <thead>\n",
       "    <tr style=\"text-align: right;\">\n",
       "      <th></th>\n",
       "      <th>isotype</th>\n",
       "      <th>seq</th>\n",
       "    </tr>\n",
       "  </thead>\n",
       "  <tbody>\n",
       "    <tr>\n",
       "      <th>435</th>\n",
       "      <td>Ala</td>\n",
       "      <td>UUU</td>\n",
       "    </tr>\n",
       "    <tr>\n",
       "      <th>71333</th>\n",
       "      <td>Leu</td>\n",
       "      <td>AGA</td>\n",
       "    </tr>\n",
       "    <tr>\n",
       "      <th>71332</th>\n",
       "      <td>Leu</td>\n",
       "      <td>AGA</td>\n",
       "    </tr>\n",
       "    <tr>\n",
       "      <th>71328</th>\n",
       "      <td>Leu</td>\n",
       "      <td>AGA</td>\n",
       "    </tr>\n",
       "    <tr>\n",
       "      <th>71322</th>\n",
       "      <td>Leu</td>\n",
       "      <td>AGA</td>\n",
       "    </tr>\n",
       "    <tr>\n",
       "      <th>71276</th>\n",
       "      <td>Leu</td>\n",
       "      <td>AGA</td>\n",
       "    </tr>\n",
       "    <tr>\n",
       "      <th>71275</th>\n",
       "      <td>Leu</td>\n",
       "      <td>AGA</td>\n",
       "    </tr>\n",
       "    <tr>\n",
       "      <th>71266</th>\n",
       "      <td>Leu</td>\n",
       "      <td>AGA</td>\n",
       "    </tr>\n",
       "    <tr>\n",
       "      <th>71004</th>\n",
       "      <td>Leu</td>\n",
       "      <td>AGA</td>\n",
       "    </tr>\n",
       "    <tr>\n",
       "      <th>70970</th>\n",
       "      <td>Leu</td>\n",
       "      <td>AGA</td>\n",
       "    </tr>\n",
       "    <tr>\n",
       "      <th>69224</th>\n",
       "      <td>Leu</td>\n",
       "      <td>CAC</td>\n",
       "    </tr>\n",
       "    <tr>\n",
       "      <th>69174</th>\n",
       "      <td>Leu</td>\n",
       "      <td>AAC</td>\n",
       "    </tr>\n",
       "    <tr>\n",
       "      <th>68638</th>\n",
       "      <td>Leu</td>\n",
       "      <td>AGA</td>\n",
       "    </tr>\n",
       "    <tr>\n",
       "      <th>68593</th>\n",
       "      <td>Leu</td>\n",
       "      <td>AGA</td>\n",
       "    </tr>\n",
       "    <tr>\n",
       "      <th>107282</th>\n",
       "      <td>Val</td>\n",
       "      <td>CCU</td>\n",
       "    </tr>\n",
       "    <tr>\n",
       "      <th>68561</th>\n",
       "      <td>Leu</td>\n",
       "      <td>AGA</td>\n",
       "    </tr>\n",
       "    <tr>\n",
       "      <th>58772</th>\n",
       "      <td>Gly</td>\n",
       "      <td>UAA</td>\n",
       "    </tr>\n",
       "    <tr>\n",
       "      <th>54638</th>\n",
       "      <td>Glu</td>\n",
       "      <td>UAA</td>\n",
       "    </tr>\n",
       "    <tr>\n",
       "      <th>71334</th>\n",
       "      <td>Leu</td>\n",
       "      <td>AGA</td>\n",
       "    </tr>\n",
       "    <tr>\n",
       "      <th>50449</th>\n",
       "      <td>Glu</td>\n",
       "      <td>UAA</td>\n",
       "    </tr>\n",
       "    <tr>\n",
       "      <th>71336</th>\n",
       "      <td>Leu</td>\n",
       "      <td>AGA</td>\n",
       "    </tr>\n",
       "    <tr>\n",
       "      <th>71345</th>\n",
       "      <td>Leu</td>\n",
       "      <td>AGA</td>\n",
       "    </tr>\n",
       "    <tr>\n",
       "      <th>99707</th>\n",
       "      <td>Thr</td>\n",
       "      <td>UAG</td>\n",
       "    </tr>\n",
       "    <tr>\n",
       "      <th>97671</th>\n",
       "      <td>Thr</td>\n",
       "      <td>UAG</td>\n",
       "    </tr>\n",
       "    <tr>\n",
       "      <th>96352</th>\n",
       "      <td>Thr</td>\n",
       "      <td>UAG</td>\n",
       "    </tr>\n",
       "    <tr>\n",
       "      <th>93583</th>\n",
       "      <td>Thr</td>\n",
       "      <td>UAA</td>\n",
       "    </tr>\n",
       "    <tr>\n",
       "      <th>92446</th>\n",
       "      <td>Thr</td>\n",
       "      <td>UUU</td>\n",
       "    </tr>\n",
       "    <tr>\n",
       "      <th>91163</th>\n",
       "      <td>Thr</td>\n",
       "      <td>UAA</td>\n",
       "    </tr>\n",
       "    <tr>\n",
       "      <th>72655</th>\n",
       "      <td>Leu</td>\n",
       "      <td>AGA</td>\n",
       "    </tr>\n",
       "    <tr>\n",
       "      <th>72648</th>\n",
       "      <td>Leu</td>\n",
       "      <td>AGA</td>\n",
       "    </tr>\n",
       "    <tr>\n",
       "      <th>72642</th>\n",
       "      <td>Leu</td>\n",
       "      <td>AGA</td>\n",
       "    </tr>\n",
       "    <tr>\n",
       "      <th>72033</th>\n",
       "      <td>Leu</td>\n",
       "      <td>AGA</td>\n",
       "    </tr>\n",
       "    <tr>\n",
       "      <th>72031</th>\n",
       "      <td>Leu</td>\n",
       "      <td>AGA</td>\n",
       "    </tr>\n",
       "    <tr>\n",
       "      <th>71363</th>\n",
       "      <td>Leu</td>\n",
       "      <td>AGA</td>\n",
       "    </tr>\n",
       "    <tr>\n",
       "      <th>71362</th>\n",
       "      <td>Leu</td>\n",
       "      <td>AGA</td>\n",
       "    </tr>\n",
       "    <tr>\n",
       "      <th>71361</th>\n",
       "      <td>Leu</td>\n",
       "      <td>AGA</td>\n",
       "    </tr>\n",
       "    <tr>\n",
       "      <th>71350</th>\n",
       "      <td>Leu</td>\n",
       "      <td>AGA</td>\n",
       "    </tr>\n",
       "    <tr>\n",
       "      <th>71348</th>\n",
       "      <td>Leu</td>\n",
       "      <td>AGA</td>\n",
       "    </tr>\n",
       "    <tr>\n",
       "      <th>71346</th>\n",
       "      <td>Leu</td>\n",
       "      <td>AGA</td>\n",
       "    </tr>\n",
       "    <tr>\n",
       "      <th>71341</th>\n",
       "      <td>Leu</td>\n",
       "      <td>AGA</td>\n",
       "    </tr>\n",
       "    <tr>\n",
       "      <th>50026</th>\n",
       "      <td>Glu</td>\n",
       "      <td>AAG</td>\n",
       "    </tr>\n",
       "    <tr>\n",
       "      <th>68584</th>\n",
       "      <td>Leu</td>\n",
       "      <td>AGA</td>\n",
       "    </tr>\n",
       "    <tr>\n",
       "      <th>10999</th>\n",
       "      <td>Ala</td>\n",
       "      <td>GGU</td>\n",
       "    </tr>\n",
       "    <tr>\n",
       "      <th>999</th>\n",
       "      <td>Ala</td>\n",
       "      <td>UAG</td>\n",
       "    </tr>\n",
       "    <tr>\n",
       "      <th>1028</th>\n",
       "      <td>Ala</td>\n",
       "      <td>UAG</td>\n",
       "    </tr>\n",
       "    <tr>\n",
       "      <th>1136</th>\n",
       "      <td>Ala</td>\n",
       "      <td>UAG</td>\n",
       "    </tr>\n",
       "    <tr>\n",
       "      <th>1315</th>\n",
       "      <td>Ala</td>\n",
       "      <td>UUU</td>\n",
       "    </tr>\n",
       "    <tr>\n",
       "      <th>1780</th>\n",
       "      <td>Ala</td>\n",
       "      <td>UAU</td>\n",
       "    </tr>\n",
       "    <tr>\n",
       "      <th>2566</th>\n",
       "      <td>Ala</td>\n",
       "      <td>UAU</td>\n",
       "    </tr>\n",
       "    <tr>\n",
       "      <th>2580</th>\n",
       "      <td>Ala</td>\n",
       "      <td>UAG</td>\n",
       "    </tr>\n",
       "    <tr>\n",
       "      <th>2712</th>\n",
       "      <td>Ala</td>\n",
       "      <td>CAG</td>\n",
       "    </tr>\n",
       "    <tr>\n",
       "      <th>2779</th>\n",
       "      <td>Ala</td>\n",
       "      <td>UUU</td>\n",
       "    </tr>\n",
       "    <tr>\n",
       "      <th>2961</th>\n",
       "      <td>Ala</td>\n",
       "      <td>UAU</td>\n",
       "    </tr>\n",
       "    <tr>\n",
       "      <th>3509</th>\n",
       "      <td>Ala</td>\n",
       "      <td>UAG</td>\n",
       "    </tr>\n",
       "    <tr>\n",
       "      <th>21442</th>\n",
       "      <td>Ala</td>\n",
       "      <td>GGC</td>\n",
       "    </tr>\n",
       "    <tr>\n",
       "      <th>24527</th>\n",
       "      <td>Ala</td>\n",
       "      <td>AGU</td>\n",
       "    </tr>\n",
       "    <tr>\n",
       "      <th>28397</th>\n",
       "      <td>Arg</td>\n",
       "      <td>CGU</td>\n",
       "    </tr>\n",
       "    <tr>\n",
       "      <th>28492</th>\n",
       "      <td>Arg</td>\n",
       "      <td>CAG</td>\n",
       "    </tr>\n",
       "    <tr>\n",
       "      <th>108336</th>\n",
       "      <td>Val</td>\n",
       "      <td>AUU</td>\n",
       "    </tr>\n",
       "    <tr>\n",
       "      <th>28561</th>\n",
       "      <td>Arg</td>\n",
       "      <td>CAG</td>\n",
       "    </tr>\n",
       "    <tr>\n",
       "      <th>43612</th>\n",
       "      <td>Asp</td>\n",
       "      <td>UAG</td>\n",
       "    </tr>\n",
       "    <tr>\n",
       "      <th>41562</th>\n",
       "      <td>Asp</td>\n",
       "      <td>UUU</td>\n",
       "    </tr>\n",
       "    <tr>\n",
       "      <th>40082</th>\n",
       "      <td>Asp</td>\n",
       "      <td>UAA</td>\n",
       "    </tr>\n",
       "    <tr>\n",
       "      <th>35461</th>\n",
       "      <td>Asp</td>\n",
       "      <td>UAA</td>\n",
       "    </tr>\n",
       "    <tr>\n",
       "      <th>28830</th>\n",
       "      <td>Arg</td>\n",
       "      <td>CAG</td>\n",
       "    </tr>\n",
       "    <tr>\n",
       "      <th>28770</th>\n",
       "      <td>Arg</td>\n",
       "      <td>CAG</td>\n",
       "    </tr>\n",
       "    <tr>\n",
       "      <th>28769</th>\n",
       "      <td>Arg</td>\n",
       "      <td>CAG</td>\n",
       "    </tr>\n",
       "    <tr>\n",
       "      <th>28866</th>\n",
       "      <td>Arg</td>\n",
       "      <td>GAG</td>\n",
       "    </tr>\n",
       "    <tr>\n",
       "      <th>13183</th>\n",
       "      <td>Ala</td>\n",
       "      <td>CUAC</td>\n",
       "    </tr>\n",
       "    <tr>\n",
       "      <th>69458</th>\n",
       "      <td>Leu</td>\n",
       "      <td>UGGU</td>\n",
       "    </tr>\n",
       "    <tr>\n",
       "      <th>24727</th>\n",
       "      <td>Ala</td>\n",
       "      <td>AAGU</td>\n",
       "    </tr>\n",
       "    <tr>\n",
       "      <th>96474</th>\n",
       "      <td>Thr</td>\n",
       "      <td>GGUU</td>\n",
       "    </tr>\n",
       "    <tr>\n",
       "      <th>57858</th>\n",
       "      <td>Glu</td>\n",
       "      <td>GGUU</td>\n",
       "    </tr>\n",
       "    <tr>\n",
       "      <th>69449</th>\n",
       "      <td>Leu</td>\n",
       "      <td>UGGU</td>\n",
       "    </tr>\n",
       "    <tr>\n",
       "      <th>2529</th>\n",
       "      <td>Ala</td>\n",
       "      <td>UAAA</td>\n",
       "    </tr>\n",
       "    <tr>\n",
       "      <th>14577</th>\n",
       "      <td>Ala</td>\n",
       "      <td>AGAC</td>\n",
       "    </tr>\n",
       "    <tr>\n",
       "      <th>23013</th>\n",
       "      <td>Ala</td>\n",
       "      <td>AGAU</td>\n",
       "    </tr>\n",
       "    <tr>\n",
       "      <th>28493</th>\n",
       "      <td>Arg</td>\n",
       "      <td>CAUA</td>\n",
       "    </tr>\n",
       "    <tr>\n",
       "      <th>44398</th>\n",
       "      <td>Cys</td>\n",
       "      <td>UGCC</td>\n",
       "    </tr>\n",
       "    <tr>\n",
       "      <th>8167</th>\n",
       "      <td>Ala</td>\n",
       "      <td>AGAG</td>\n",
       "    </tr>\n",
       "    <tr>\n",
       "      <th>48681</th>\n",
       "      <td>Glu</td>\n",
       "      <td>UAAA</td>\n",
       "    </tr>\n",
       "    <tr>\n",
       "      <th>9721</th>\n",
       "      <td>Ala</td>\n",
       "      <td>AAAU</td>\n",
       "    </tr>\n",
       "    <tr>\n",
       "      <th>69440</th>\n",
       "      <td>Leu</td>\n",
       "      <td>UGGU</td>\n",
       "    </tr>\n",
       "    <tr>\n",
       "      <th>16426</th>\n",
       "      <td>Ala</td>\n",
       "      <td>AGGU</td>\n",
       "    </tr>\n",
       "    <tr>\n",
       "      <th>3482</th>\n",
       "      <td>Ala</td>\n",
       "      <td>UAGU</td>\n",
       "    </tr>\n",
       "    <tr>\n",
       "      <th>12737</th>\n",
       "      <td>Ala</td>\n",
       "      <td>AGAU</td>\n",
       "    </tr>\n",
       "    <tr>\n",
       "      <th>3171</th>\n",
       "      <td>Ala</td>\n",
       "      <td>UAUU</td>\n",
       "    </tr>\n",
       "    <tr>\n",
       "      <th>98155</th>\n",
       "      <td>Thr</td>\n",
       "      <td>UAGUU</td>\n",
       "    </tr>\n",
       "    <tr>\n",
       "      <th>57406</th>\n",
       "      <td>Glu</td>\n",
       "      <td>UAAUU</td>\n",
       "    </tr>\n",
       "    <tr>\n",
       "      <th>96418</th>\n",
       "      <td>Thr</td>\n",
       "      <td>UAGUU</td>\n",
       "    </tr>\n",
       "    <tr>\n",
       "      <th>73083</th>\n",
       "      <td>Lys</td>\n",
       "      <td>CUUCA</td>\n",
       "    </tr>\n",
       "    <tr>\n",
       "      <th>96610</th>\n",
       "      <td>Thr</td>\n",
       "      <td>UAGUU</td>\n",
       "    </tr>\n",
       "    <tr>\n",
       "      <th>38840</th>\n",
       "      <td>Asp</td>\n",
       "      <td>UAGUC</td>\n",
       "    </tr>\n",
       "    <tr>\n",
       "      <th>85848</th>\n",
       "      <td>Ser</td>\n",
       "      <td>GUAAC</td>\n",
       "    </tr>\n",
       "    <tr>\n",
       "      <th>94783</th>\n",
       "      <td>Thr</td>\n",
       "      <td>UGGUU</td>\n",
       "    </tr>\n",
       "    <tr>\n",
       "      <th>107073</th>\n",
       "      <td>Val</td>\n",
       "      <td>UAUCAC</td>\n",
       "    </tr>\n",
       "    <tr>\n",
       "      <th>17745</th>\n",
       "      <td>Ala</td>\n",
       "      <td>AGAUUGU</td>\n",
       "    </tr>\n",
       "    <tr>\n",
       "      <th>76732</th>\n",
       "      <td>Lys</td>\n",
       "      <td>AUGAGCG</td>\n",
       "    </tr>\n",
       "    <tr>\n",
       "      <th>74324</th>\n",
       "      <td>Lys</td>\n",
       "      <td>AUCCUCUACG</td>\n",
       "    </tr>\n",
       "  </tbody>\n",
       "</table>\n",
       "</div>"
      ],
      "text/plain": [
       "       isotype         seq\n",
       "435        Ala         UUU\n",
       "71333      Leu         AGA\n",
       "71332      Leu         AGA\n",
       "71328      Leu         AGA\n",
       "71322      Leu         AGA\n",
       "71276      Leu         AGA\n",
       "71275      Leu         AGA\n",
       "71266      Leu         AGA\n",
       "71004      Leu         AGA\n",
       "70970      Leu         AGA\n",
       "69224      Leu         CAC\n",
       "69174      Leu         AAC\n",
       "68638      Leu         AGA\n",
       "68593      Leu         AGA\n",
       "107282     Val         CCU\n",
       "68561      Leu         AGA\n",
       "58772      Gly         UAA\n",
       "54638      Glu         UAA\n",
       "71334      Leu         AGA\n",
       "50449      Glu         UAA\n",
       "71336      Leu         AGA\n",
       "71345      Leu         AGA\n",
       "99707      Thr         UAG\n",
       "97671      Thr         UAG\n",
       "96352      Thr         UAG\n",
       "93583      Thr         UAA\n",
       "92446      Thr         UUU\n",
       "91163      Thr         UAA\n",
       "72655      Leu         AGA\n",
       "72648      Leu         AGA\n",
       "72642      Leu         AGA\n",
       "72033      Leu         AGA\n",
       "72031      Leu         AGA\n",
       "71363      Leu         AGA\n",
       "71362      Leu         AGA\n",
       "71361      Leu         AGA\n",
       "71350      Leu         AGA\n",
       "71348      Leu         AGA\n",
       "71346      Leu         AGA\n",
       "71341      Leu         AGA\n",
       "50026      Glu         AAG\n",
       "68584      Leu         AGA\n",
       "10999      Ala         GGU\n",
       "999        Ala         UAG\n",
       "1028       Ala         UAG\n",
       "1136       Ala         UAG\n",
       "1315       Ala         UUU\n",
       "1780       Ala         UAU\n",
       "2566       Ala         UAU\n",
       "2580       Ala         UAG\n",
       "2712       Ala         CAG\n",
       "2779       Ala         UUU\n",
       "2961       Ala         UAU\n",
       "3509       Ala         UAG\n",
       "21442      Ala         GGC\n",
       "24527      Ala         AGU\n",
       "28397      Arg         CGU\n",
       "28492      Arg         CAG\n",
       "108336     Val         AUU\n",
       "28561      Arg         CAG\n",
       "43612      Asp         UAG\n",
       "41562      Asp         UUU\n",
       "40082      Asp         UAA\n",
       "35461      Asp         UAA\n",
       "28830      Arg         CAG\n",
       "28770      Arg         CAG\n",
       "28769      Arg         CAG\n",
       "28866      Arg         GAG\n",
       "13183      Ala        CUAC\n",
       "69458      Leu        UGGU\n",
       "24727      Ala        AAGU\n",
       "96474      Thr        GGUU\n",
       "57858      Glu        GGUU\n",
       "69449      Leu        UGGU\n",
       "2529       Ala        UAAA\n",
       "14577      Ala        AGAC\n",
       "23013      Ala        AGAU\n",
       "28493      Arg        CAUA\n",
       "44398      Cys        UGCC\n",
       "8167       Ala        AGAG\n",
       "48681      Glu        UAAA\n",
       "9721       Ala        AAAU\n",
       "69440      Leu        UGGU\n",
       "16426      Ala        AGGU\n",
       "3482       Ala        UAGU\n",
       "12737      Ala        AGAU\n",
       "3171       Ala        UAUU\n",
       "98155      Thr       UAGUU\n",
       "57406      Glu       UAAUU\n",
       "96418      Thr       UAGUU\n",
       "73083      Lys       CUUCA\n",
       "96610      Thr       UAGUU\n",
       "38840      Asp       UAGUC\n",
       "85848      Ser       GUAAC\n",
       "94783      Thr       UGGUU\n",
       "107073     Val      UAUCAC\n",
       "17745      Ala     AGAUUGU\n",
       "76732      Lys     AUGAGCG\n",
       "74324      Lys  AUCCUCUACG"
      ]
     },
     "execution_count": 400,
     "metadata": {},
     "output_type": "execute_result"
    }
   ],
   "source": [
    "df = insert_df[insert_df.insertionab > 2]\n",
    "df[\"seq\"] = df[['20i1', '20i10', '20i2', '20i3', '20i4', '20i5', '20i6', '20i7', '20i8', '20i9']].apply(lambda x: ''.join(x[x != '.']), axis=1)\n",
    "df.sort_values('insertionab')[['isotype', 'seq']]"
   ]
  },
  {
   "cell_type": "markdown",
   "metadata": {},
   "source": [
    "I can definitely see a few places where selecting the first two bases would result in misannotation. I would estimate the chances of making a massive annotation error at one in five, or about 20 tRNAs. There are 372 tRNAs with only 2 bases. So it's a significant error rate. But I'm willing to eat it, if not also because >2 base insertions are unlikely to aid with tRNA folding.\n",
    "\n",
    "The first base of the insertion will be 20a, and the second base will be 20b. The actual 20iX columns will stay on too."
   ]
  },
  {
   "cell_type": "code",
   "execution_count": 401,
   "metadata": {
    "collapsed": false,
    "scrolled": true
   },
   "outputs": [],
   "source": [
    "inserts = insert_df[['20i1', '20i10', '20i2', '20i3', '20i4', '20i5', '20i6', '20i7', '20i8', '20i9']].apply(lambda x: ''.join(x[x != '.']), axis=1)\n",
    "inserts = inserts.apply(lambda x: x + (\".\" * max(2 - len(x), 0)))\n",
    "identities['20a'] = inserts.apply(lambda x: x[0])\n",
    "identities['20b'] = inserts.apply(lambda x: x[1])"
   ]
  },
  {
   "cell_type": "markdown",
   "metadata": {},
   "source": [
    "### Variable stem-loop plus spacer nucleotides"
   ]
  },
  {
   "cell_type": "code",
   "execution_count": 433,
   "metadata": {
    "collapsed": false,
    "scrolled": false
   },
   "outputs": [
    {
     "data": {
      "text/plain": [
       "<matplotlib.axes._subplots.AxesSubplot at 0x7feb5f317588>"
      ]
     },
     "execution_count": 433,
     "metadata": {},
     "output_type": "execute_result"
    },
    {
     "data": {
      "image/png": "[encoded data removed]",
      "text/plain": [
       "<matplotlib.figure.Figure at 0x7feb5eb5a470>"
      ]
     },
     "metadata": {},
     "output_type": "display_data"
    }
   ],
   "source": [
    "varm_cols = list(filter(lambda x: ('V' in x) & (':' not in x), identities.columns))\n",
    "varm_cols += bounds_to_cols(identities.columns, 44, 48)\n",
    "position_histogram(identities, varm_cols)"
   ]
  },
  {
   "cell_type": "markdown",
   "metadata": {},
   "source": [
    "For the variable arm, this doesn't tell us what happened to position 47. So, I'll generate this again, but split into Ser, Leu, and Tyr, versus everything else."
   ]
  },
  {
   "cell_type": "code",
   "execution_count": 403,
   "metadata": {
    "collapsed": false,
    "scrolled": false
   },
   "outputs": [
    {
     "data": {
      "text/plain": [
       "<matplotlib.axes._subplots.AxesSubplot at 0x7feb5fd4b780>"
      ]
     },
     "execution_count": 403,
     "metadata": {},
     "output_type": "execute_result"
    },
    {
     "data": {
      "image/png": "[encoded data removed]",
      "text/plain": [
       "<matplotlib.figure.Figure at 0x7feb5fd21b00>"
      ]
     },
     "metadata": {},
     "output_type": "display_data"
    }
   ],
   "source": [
    "df = pd.melt(identities[varm_cols + ['seqname', 'isotype']], id_vars=['seqname', 'isotype'])\n",
    "df = df[(df.value != \".\") & (df.value != \"-\")]\n",
    "counts = pd.Series(Counter([x for x in df[(df.isotype == \"Tyr\") | (df.isotype == \"Leu\") | (df.isotype == \"Ser\")].variable]), index=varm_cols)\n",
    "counts = pd.DataFrame({\"Position\": counts.index, 'tRNAs': counts})\n",
    "counts2 = pd.Series(Counter([x for x in df[(df.isotype != \"Tyr\") | (df.isotype != \"Leu\") | (df.isotype != \"Ser\")].variable]), index=varm_cols)\n",
    "counts = pd.merge(counts, pd.DataFrame({\"Position\": counts2.index, 'tRNAs': counts2}), on=['Position'])\n",
    "counts.columns = ['Position', 'Class II', 'Class I']\n",
    "counts.index = counts.Position\n",
    "counts.plot(kind='bar')"
   ]
  },
  {
   "cell_type": "markdown",
   "metadata": {},
   "source": [
    "All class I tRNAs combined have as many tRNAs with a full variable loop as the class II tRNAs. Looks like the variable arm is fine as is, and eukaryotes don't have a position 47. \n",
    "\n",
    "This data correlates well with the Sprinzl data. Most variable stems are missing at least V15:V25, V16:V26, and V17:V27, and most variable loops are 3 nucleotides long."
   ]
  },
  {
   "cell_type": "markdown",
   "metadata": {},
   "source": [
    "## Additional sequence information"
   ]
  },
  {
   "cell_type": "code",
   "execution_count": 404,
   "metadata": {
    "collapsed": false
   },
   "outputs": [],
   "source": [
    "# Isotype, anticodon, score\n",
    "seqinfo = []\n",
    "for isotype in isotypes:\n",
    "  alignment = 'alignments/euk-' + isotype + '.sto'\n",
    "  for line in open(alignment):\n",
    "    if line[0:4] != \"#=GS\": continue\n",
    "    _, seqname, _, _, _, isotype, anticodon, _, _, _, score, _, isoscore = line.strip().split()\n",
    "    seqinfo.append([seqname, isotype, anticodon[1:-1], float(score), float(isoscore)])\n",
    "seqinfo = pd.DataFrame(seqinfo, columns=['seqname', 'isotype_ac', 'anticodon', 'score', 'isoscore'])\n",
    "identities = identities.merge(seqinfo, on='seqname')\n",
    "\n",
    "# GC content\n",
    "paired_cols = identities.columns[list(map(lambda x: (':' in x), identities.columns))]\n",
    "identities['GC'] = identities[paired_cols].apply(lambda x: sum((x == \"G:C\") | (x == \"C:G\"))/len(paired_cols), axis=1)"
   ]
  },
  {
   "cell_type": "markdown",
   "metadata": {},
   "source": [
    "### Loop sizes"
   ]
  },
  {
   "cell_type": "code",
   "execution_count": 424,
   "metadata": {
    "collapsed": false,
    "scrolled": false
   },
   "outputs": [],
   "source": [
    "def bounds_to_cols(cols, start, end):\n",
    "  selected_cols = []\n",
    "  for col in cols:\n",
    "    matches = re.findall('\\d+', col)\n",
    "    if len(matches) < 1: continue\n",
    "    index = int(matches[0])\n",
    "    if (index >= start and index <= end or col[0:3] == '{}i'.format(start - 1)) and col[0] != 'V':\n",
    "      selected_cols.append(col)\n",
    "  return selected_cols\n",
    "\n",
    "dloop_cols = bounds_to_cols(identities.columns, 14, 21)\n",
    "identities['D-loop'] = identities[dloop_cols].apply(lambda x: len(x[(x != '.') & (x != '-') & (x != '20a') & (x != '20b') & (':' not in x)]), axis=1)\n",
    "\n",
    "# Leu, Ser, Tyr have a 3 bp D stem\n",
    "dloop_II_cols = bounds_to_cols(identities.columns, 13, 22)\n",
    "identities.ix[(identities.isotype == 'Leu') | (identities.isotype == 'Ser') | (identities.isotype == 'Tyr'), 'D-loop'] = identities[dloop_II_cols].apply(lambda x: len(x[(x != '.') & (x != '-') & (x != '20a') & (x != '20b') & (':' not in x)]), axis=1)\n",
    "\n",
    "acloop_cols = bounds_to_cols(identities.columns, 32, 38)\n",
    "identities['AC-loop'] = identities[acloop_cols].apply(lambda x: len(x[(x != '.') & (x != '-')]), axis=1)\n",
    "\n",
    "tpcloop_cols = bounds_to_cols(identities.columns, 54, 60)\n",
    "identities['TPC-loop'] = identities[tpcloop_cols].apply(lambda x: len(x[(x != '.') & (x != '-')]), axis=1)\n",
    "\n",
    "varm_cols = list(filter(lambda x: ('V' in x) & (':' not in x), identities.columns))\n",
    "identities['V-arm'] = identities[varm_cols].apply(lambda x: len(x[(x != '.') & (x != '-') & (x != \"-:-\")]), axis=1)"
   ]
  },
  {
   "cell_type": "markdown",
   "metadata": {},
   "source": [
    "### Insertions/deletions/introns"
   ]
  },
  {
   "cell_type": "code",
   "execution_count": 430,
   "metadata": {
    "collapsed": false
   },
   "outputs": [],
   "source": [
    "# Intron length\n",
    "intron_cols = list(filter(lambda x: x[0:3] == '37i', identities.columns))\n",
    "identities['intron'] = identities[intron_cols].apply(lambda x: sum(x != \".\"), axis=1)\n",
    "\n",
    "# Insertions (minus introns at 37/38)\n",
    "insertion_cols = list(filter(lambda x: bool(re.search('^\\d+i', x)) & (x not in intron_cols), identities.columns))\n",
    "identities['insertions'] = identities[insertion_cols].apply(lambda x: sum(x != '.'), axis=1)\n",
    "\n",
    "# Deletions at positions that are not the variable arm, and not counting 20a/20b\n",
    "base_cols = list(filter(lambda x: re.match('^((\\d+)|(\\d+:\\d+))$', x), identities.columns))\n",
    "identities['deletions'] = identities[base_cols].apply(lambda x: ''.join(x).count('-'), axis=1)"
   ]
  },
  {
   "cell_type": "markdown",
   "metadata": {},
   "source": [
    "### High-quality tRNA set\n",
    "\n",
    "There was talk about using the high quality tRNAs to look at identity elements. Instead, I will just annotate specific tRNAs as high-quality or not. We can sort out the differences later."
   ]
  },
  {
   "cell_type": "code",
   "execution_count": null,
   "metadata": {
    "collapsed": false
   },
   "outputs": [],
   "source": [
    "# Import list of quality tRNAs\n",
    "quality_trnas = [line.strip() for line in open('quality-set.out')]\n",
    "identities['quality'] = identities.seqname.isin(quality_trnas)"
   ]
  },
  {
   "cell_type": "markdown",
   "metadata": {
    "collapsed": true
   },
   "source": [
    "### Restrict tRNAs by species\n",
    "\n",
    "We may also want to limit the contribution of any single species, similar to how we built the isotype-specific models."
   ]
  },
  {
   "cell_type": "markdown",
   "metadata": {},
   "source": [
    "## Export to R\n",
    "\n",
    "R has superior visualization capabilities.\n",
    "\n",
    "### Order columns\n",
    "\n",
    "To make it look pretty."
   ]
  },
  {
   "cell_type": "code",
   "execution_count": null,
   "metadata": {
    "collapsed": false,
    "scrolled": false
   },
   "outputs": [],
   "source": [
    "def position_str_to_int(position):\n",
    "  if position == \"20a\": return 20.1\n",
    "  if position == \"20b\": return 20.2\n",
    "  digits = re.findall('\\d+', position)\n",
    "  if len(digits) == 0: return -1\n",
    "  insert = 0\n",
    "  if 'i' in position and len(digits) == 2: insert = float(digits[1]) / 1000\n",
    "  if position[0] == 'V':\n",
    "    if ':' in position: return int(digits[0]) + 45 - 10 + insert # V11~V17\n",
    "    else: return int(digits[0]) + 45 + 7 + insert # V1~V5\n",
    "  if int(digits[0]) >= 46: return int(digits[0]) + 50 + insert # just add an arbitrarily large number to skip v-arm\n",
    "  return int(digits[0]) + insert\n",
    "\n",
    "identities = identities[sorted(list(identities.columns), key=position_str_to_int)]"
   ]
  },
  {
   "cell_type": "code",
   "execution_count": null,
   "metadata": {
    "collapsed": true
   },
   "outputs": [],
   "source": [
    "identities.to_csv(path_or_buf='identities.tsv', sep='\\t', index_label=False)"
   ]
  },
  {
   "cell_type": "code",
   "execution_count": null,
   "metadata": {
    "collapsed": false
   },
   "outputs": [],
   "source": [
    "identities.head()"
   ]
  }
 ],
 "metadata": {
  "anaconda-cloud": {},
  "kernelspec": {
   "display_name": "Python [Root]",
   "language": "python",
   "name": "Python [Root]"
  },
  "language_info": {
   "codemirror_mode": {
    "name": "ipython",
    "version": 3
   },
   "file_extension": ".py",
   "mimetype": "text/x-python",
   "name": "python",
   "nbconvert_exporter": "python",
   "pygments_lexer": "ipython3",
   "version": "3.5.2"
  }
 },
 "nbformat": 4,
 "nbformat_minor": 0
}
