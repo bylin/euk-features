{
 "cells": [
  {
   "cell_type": "code",
   "execution_count": 17,
   "metadata": {
    "collapsed": false
   },
   "outputs": [],
   "source": [
    "import pandas as pd\n",
    "import subprocess\n",
    "import math\n",
    "from tRNA_position import *\n",
    "pd.set_option('display.max_colwidth',10000)\n",
    "pd.set_option('display.width', 10000)\n",
    "pd.set_option('display.max_columns', 10000)\n",
    "pd.set_option('display.max_rows',1000)\n",
    "isotypes = ['Ala', 'Arg', 'Asn', 'Asp', 'Cys', 'Gln', 'Glu', 'Gly', 'His', 'Ile', 'iMet', 'Leu', 'Lys', 'Met', 'Phe', 'Pro', 'Ser', 'Thr', 'Trp', 'Tyr', 'Val']"
   ]
  },
  {
   "cell_type": "markdown",
   "metadata": {},
   "source": [
    "## Introduction\n",
    "\n",
    "A global view of identity elements versus biological features would be a powerful tool for predicting tRNA function using primary sequence. To do this, I'll need to align eukaryotic tRNAs to our established models and annotate positions based on universal numbering. Then, I'll extract sequence information such as position, clade, or variable arm length."
   ]
  },
  {
   "cell_type": "markdown",
   "metadata": {},
   "source": [
    "## Process tRNAs\n",
    "### Species information"
   ]
  },
  {
   "cell_type": "code",
   "execution_count": 3,
   "metadata": {
    "collapsed": false
   },
   "outputs": [
    {
     "data": {
      "text/html": [
       "<div>\n",
       "<table border=\"1\" class=\"dataframe\">\n",
       "  <thead>\n",
       "    <tr style=\"text-align: right;\">\n",
       "      <th></th>\n",
       "      <th>shortname</th>\n",
       "      <th>name</th>\n",
       "      <th>longname</th>\n",
       "      <th>domain</th>\n",
       "      <th>clade</th>\n",
       "      <th>subclade</th>\n",
       "    </tr>\n",
       "  </thead>\n",
       "  <tbody>\n",
       "    <tr>\n",
       "      <th>0</th>\n",
       "      <td>Pfalc</td>\n",
       "      <td>plasFalc1</td>\n",
       "      <td>Plasmodium falciparum (Oct 2007)</td>\n",
       "      <td>eukaryota</td>\n",
       "      <td>Apicomplexa</td>\n",
       "      <td>NaN</td>\n",
       "    </tr>\n",
       "    <tr>\n",
       "      <th>1</th>\n",
       "      <td>Ppate</td>\n",
       "      <td>phyPat1.1</td>\n",
       "      <td>Physcomitrella patens (Version 1.1)</td>\n",
       "      <td>eukaryota</td>\n",
       "      <td>Bryophyta</td>\n",
       "      <td>NaN</td>\n",
       "    </tr>\n",
       "    <tr>\n",
       "      <th>2</th>\n",
       "      <td>Spurp</td>\n",
       "      <td></td>\n",
       "      <td>Strongylocentrotus purpuratus (Sea urchin) (Version 2.1)</td>\n",
       "      <td>eukaryota</td>\n",
       "      <td>Echinodermata</td>\n",
       "      <td>NaN</td>\n",
       "    </tr>\n",
       "    <tr>\n",
       "      <th>3</th>\n",
       "      <td>Lmajo</td>\n",
       "      <td></td>\n",
       "      <td>Leishmania major (Version 5.0)</td>\n",
       "      <td>eukaryota</td>\n",
       "      <td>Euglenozoa</td>\n",
       "      <td>NaN</td>\n",
       "    </tr>\n",
       "    <tr>\n",
       "      <th>4</th>\n",
       "      <td>Ashb_goss_ATCC_10895</td>\n",
       "      <td>ashbGoss_ATCC10895</td>\n",
       "      <td>Ashbya gossypii ATCC 10895</td>\n",
       "      <td>eukaryota</td>\n",
       "      <td>Fungi</td>\n",
       "      <td>NaN</td>\n",
       "    </tr>\n",
       "  </tbody>\n",
       "</table>\n",
       "</div>"
      ],
      "text/plain": [
       "              shortname                name  \\\n",
       "0                 Pfalc           plasFalc1   \n",
       "1                 Ppate           phyPat1.1   \n",
       "2                 Spurp                       \n",
       "3                 Lmajo                       \n",
       "4  Ashb_goss_ATCC_10895  ashbGoss_ATCC10895   \n",
       "\n",
       "                                                   longname     domain  \\\n",
       "0                          Plasmodium falciparum (Oct 2007)  eukaryota   \n",
       "1                       Physcomitrella patens (Version 1.1)  eukaryota   \n",
       "2  Strongylocentrotus purpuratus (Sea urchin) (Version 2.1)  eukaryota   \n",
       "3                            Leishmania major (Version 5.0)  eukaryota   \n",
       "4                                Ashbya gossypii ATCC 10895  eukaryota   \n",
       "\n",
       "           clade subclade  \n",
       "0    Apicomplexa      NaN  \n",
       "1      Bryophyta      NaN  \n",
       "2  Echinodermata      NaN  \n",
       "3     Euglenozoa      NaN  \n",
       "4          Fungi      NaN  "
      ]
     },
     "execution_count": 3,
     "metadata": {},
     "output_type": "execute_result"
    }
   ],
   "source": [
    "species_table = pd.read_table('/projects/lowelab/users/blin/tRNAscan/models/taxonomy/genome_table_20151017.txt', header=None, names=['shortname', 'name', 'longname', 'domain', 'clade', 'subclade'])\n",
    "# set NaN to empty strings\n",
    "species_table.ix[species_table.name.apply(lambda x: type(x) is float), 'name'] = ''\n",
    "# special cases\n",
    "species_table.ix[species_table.shortname == \"Bdist\", 'name'] = \"braDis1\"\n",
    "species_table.ix[species_table.shortname == \"Gmax2\", 'name'] = \"glyMax2\"\n",
    "species_table.ix[species_table.shortname == \"Mtrun\", 'name'] = \"mt3\"\n",
    "species_table.ix[species_table.shortname == \"Phama1\", 'name'] = \"papHam1\"\n",
    "species_table.ix[species_table.shortname == \"Ppate\", 'name'] = \"phyPat1.1\"\n",
    "species_table.ix[species_table.shortname == \"Ptric\", 'name'] = \"popTri2\"\n",
    "species_table.ix[species_table.shortname == \"Vvini\", 'name'] = \"vitVin1\"\n",
    "species_table.ix[species_table.shortname == \"Zmays5\", 'name'] = \"zeaMay5\"\n",
    "species_table.head()"
   ]
  },
  {
   "cell_type": "markdown",
   "metadata": {},
   "source": [
    "### Align tRNAs to isotype-specific model\n",
    "\n",
    "TODO. Patricia will send me the high quality tRNAs soon, so those will be updated at that time."
   ]
  },
  {
   "cell_type": "markdown",
   "metadata": {},
   "source": [
    "### Parse alignment positions"
   ]
  },
  {
   "cell_type": "code",
   "execution_count": null,
   "metadata": {
    "collapsed": false
   },
   "outputs": [],
   "source": [
    "def position_base(positions, seq):\n",
    "  for position_index, position in enumerate(positions):\n",
    "    if position.paired:\n",
    "      index1, index2 = position.position.split(':')\n",
    "      index1, index2 = int(index1), int(index2)\n",
    "      base_pair = \"{}:{}\".format(seq[index1 - 1], seq[index2 - 1])\n",
    "      yield position.sprinzl, base_pair\n",
    "    else:\n",
    "      index = int(position.position)\n",
    "      base = seq[index - 1]\n",
    "      yield position.sprinzl, base\n",
    "      \n",
    "isotypes = ['Ala']\n",
    "identities = pd.DataFrame()\n",
    "\n",
    "for isotype in isotypes:\n",
    "  alignment = 'alignments/euk-' + isotype + '.sto'\n",
    "  # get positions\n",
    "  alignment_fhandle = open(alignment)\n",
    "  positions = [] # list containing each position in the tRNA\n",
    "  # first, get secondary structure\n",
    "  for line in alignment_fhandle:\n",
    "    if line[0:12] == '#=GC SS_cons':\n",
    "      ss = line.strip().split()[-1]\n",
    "  # parse secondary structure into regions and positions\n",
    "  positions = annotate_positions(ss)\n",
    "  # get counts for each position by parsing Stockholm file\n",
    "  alignment_fhandle = open(alignment)\n",
    "  for line in alignment_fhandle:\n",
    "    if line[0] in [\"#\", '\\n', '/']: continue\n",
    "    seqname, seq = line.strip().split()\n",
    "    species = re.split('_|\\\\.trna', seqname, 1)[0]\n",
    "    if any(species_table.shortname == species): row = species_table[species_table.shortname == species]\n",
    "    elif any(species_table.name == species): row = species_table[species_table.name == species]\n",
    "    elif any(species_table.name.apply(lambda x: bool(re.search(species, x)))): row = species_table[species_table.name.apply(lambda x: bool(re.search(species, x)))]\n",
    "    else: continue # skip species that need too much babying\n",
    "    domain = row.domain.values[0]\n",
    "    clade = row.clade.values[0]\n",
    "    species_long = row.longname.values[0]\n",
    "    trna = {'domain': domain, 'clade': clade, 'species': species, 'species_long': species_long, 'seqname': seqname}\n",
    "    trna = {**trna, **{sprinzl: base for sprinzl, base in position_base(positions, seq)}}\n",
    "    identities = identities.append([trna], ignore_index=True)\n",
    "\n",
    "identities.head()"
   ]
  },
  {
   "cell_type": "markdown",
   "metadata": {},
   "source": [
    "## Get sequence information"
   ]
  },
  {
   "cell_type": "code",
   "execution_count": null,
   "metadata": {
    "collapsed": true
   },
   "outputs": [],
   "source": [
    "# Isodecoder\n",
    "\n",
    "\n",
    "# GC content\n",
    "\n",
    "\n",
    "# Stem and loop sizes\n",
    "\n",
    "\n",
    "# Insertions and deletions\n",
    "\n",
    "# Reorder, rename columns"
   ]
  }
 ],
 "metadata": {
  "anaconda-cloud": {},
  "kernelspec": {
   "display_name": "Python [Root]",
   "language": "python",
   "name": "Python [Root]"
  },
  "language_info": {
   "codemirror_mode": {
    "name": "ipython",
    "version": 3
   },
   "file_extension": ".py",
   "mimetype": "text/x-python",
   "name": "python",
   "nbconvert_exporter": "python",
   "pygments_lexer": "ipython3",
   "version": "3.5.2"
  }
 },
 "nbformat": 4,
 "nbformat_minor": 0
}
