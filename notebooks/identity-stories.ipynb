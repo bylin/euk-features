{
 "cells": [
  {
   "cell_type": "code",
   "execution_count": 8,
   "metadata": {
    "collapsed": true
   },
   "outputs": [],
   "source": [
    "library(ggplot2)\n",
    "library(reshape2)\n",
    "library(RColorBrewer)\n",
    "suppressMessages(library(dplyr))\n",
    "library(stringr)\n",
    "suppressMessages(library(tidyr))\n",
    "theme_set(theme_bw())\n",
    "library(scales)\n",
    "options(repr.plot.width=7, repr.plot.height=4)\n",
    "isotypes = c('Ala', 'Arg', 'Asn', 'Asp', 'Cys', 'Gln', 'Glu', 'Gly', 'His', 'Ile', 'iMet', 'Leu', 'Lys', 'Met', 'Phe', 'Pro', 'Ser', 'Thr', 'Trp', 'Tyr', 'Val')\n",
    "\n",
    "paired_positions = c('X1.72'='1:72', 'X2.71'='2:71', 'X3.70'='3:70', 'X4.69'='4:69', 'X5.68'='5:68', 'X6.67'='6:67', 'X7.66'='7:66', 'X8.14'='*8:14', 'X9.23'='*9:23', 'X10.25'='10:25', 'X10.45'='*10:45', 'X11.24'='11:24', 'X12.23'='12:23', 'X13.22'='13:22', 'X15.48'='*15:48','X18.55'='*18:55', 'X19.56'='*19:56', 'X22.46'='*22:46', 'X26.44'='*26:44', 'X27.43'='27:43', 'X28.42'='28:42', 'X29.41'='29:41', 'X30.40'='30:40', 'X31.39'='31:39', 'X49.65'='49:65', 'X50.64'='50:64', 'X51.63'='51:63', 'X52.62'='52:62', 'X53.61'='53:61', 'X54.58'='*54:58')\n",
    "paired_identities = c('GC', 'AU', 'UA', 'CG', 'GU', 'UG', 'PurinePyrimidine', 'PyrimidinePurine', 'StrongPair', 'WeakPair', 'AminoKeto', 'KetoAmino', 'Wobble', 'Paired', 'Bulge', 'Mismatched', 'Absent')\n",
    "\n",
    "single_positions = c('X8'='8', 'X9'='9', 'X14'='14', 'X15'='15', 'X16'='16', 'X17'='17', 'X17a'='17a', 'X17b'='17b', 'X18'='18', 'X19'='19', 'X20'='20', 'X20a'='20a', 'X20b'='20b', 'X21'='21', 'X26'='26', 'X32'='32', 'X33'='33', 'X34'='34', 'X35'='35', 'X36'='36', 'X37'='37', 'X38'='38', 'X44'='44', 'X45'='45', 'X46'='46', 'X47'='47', 'X48'='48', 'X54'='54', 'X55'='55', 'X56'='56', 'X57'='57', 'X58'='58', 'X59'='59', 'X60'='60', 'X73'='73')\n",
    "single_identities = c('A', 'C', 'G', 'U', 'Purine', 'Pyrimidine', 'Weak', 'Strong', 'Amino', 'Keto', 'B', 'D', 'H', 'V', 'Absent')\n",
    "\n",
    "colors = c('A'='gray20', 'C'='gray20', 'G'='gray20', 'U'='gray20', 'Absent'='gray20', 'Purine'='gray20', 'Pyrimidine'='gray20', 'Weak'='gray20', 'Strong'='gray20', 'Amino'='gray20', 'Keto'='gray20', 'B'='gray50', 'D'='gray50', 'H'='gray50', 'V'='gray50', 'GC'='gray20', 'AU'='gray20', 'UA'='gray20', 'CG'='gray20', 'GU'='gray20', 'UG'='gray20', 'PurinePyrimidine'='gray20', 'PyrimidinePurine'='gray20', 'StrongPair'='gray20', 'WeakPair'='gray20', 'AminoKeto'='gray20', 'KetoAmino'='gray20', 'Wobble'='gray20', 'Paired'='gray20', 'Bulge'='gray20', 'Mismatched'='gray20')\n",
    "fills = c('A'='#ffd92f', 'C'='#4daf4a', 'G'='#e41a1c', 'U'='#377eb8', 'Purine'='#ff8300', 'Pyrimidine'='#66c2a5', 'Weak'='#b3de69', 'Strong'='#fb72b2', 'Amino'='#c1764a', 'Keto'='#b26cbd', 'B'='#e5c494', 'D'='#ccebd5', 'H'='#ffa79d', 'V'='#a6cdea', 'Absent'='gray60', 'Mismatched'='gray30', 'Paired'='#ffffcc')"
   ]
  },
  {
   "cell_type": "code",
   "execution_count": 2,
   "metadata": {
    "collapsed": true
   },
   "outputs": [],
   "source": [
    "load('best-freqs.RData')\n",
    "load('clade-isotype-specific.RData')\n",
    "load('isotype-specific.RData')\n",
    "load('consensus-IDEs.RData')\n",
    "load('clade-isotype-specific-freqs.RData')"
   ]
  },
  {
   "cell_type": "code",
   "execution_count": 3,
   "metadata": {
    "collapsed": true
   },
   "outputs": [],
   "source": [
    "identities = read.delim('identities.tsv', sep='\\t')\n",
    "identities$quality = as.logical(identities$quality)\n",
    "identities$restrict = as.logical(identities$restrict)\n",
    "identities = identities %>% mutate(quality=quality & !restrict)"
   ]
  },
  {
   "cell_type": "code",
   "execution_count": 4,
   "metadata": {
    "collapsed": false
   },
   "outputs": [],
   "source": [
    "genome_table = read.delim('genome_table+.txt', sep='\\t', stringsAsFactors=FALSE, header=FALSE, col.names=c(\"species_short\", \"species\", \"species_long\", \"domain\", \"clade\"))"
   ]
  },
  {
   "cell_type": "markdown",
   "metadata": {},
   "source": [
    "# Introduction\n",
    "\n",
    "Previous analysis in `euk-tRNAs` and `isotype-clade-specific` focused on processing and dicing the data with appropriate assumptions. Now, we move on to the meat of this project. Comparison with previously determined identity elements is tracked in a spreadsheet; the rest is here.\n",
    "\n",
    "For **new identity stories**, I'll employ a few strategies to find interesting stores in a systematic way. Some of these will have been covered in `first-pass-consensus`.\n",
    "\n",
    "1. Find rejected sequence features. Set a cutoff at 95% presence, but fails (i) isotype check, (ii) clade check, or (iii) species check. Spin in previous work, if any. Bonus points if previous work _conflicts_ with our frequencies.\n",
    "    a. rejected consensus features\n",
    "    b. isotype-specific\n",
    "    c. clade-isotype-specific elements\n",
    "    \n",
    "2. Previous work conflicts with \"accepted\" identity elements. \n",
    "\n",
    "Per Todd's advice, I'll take a look at a few in each category and \n",
    "\n",
    "For **analyzing weird tRNAs in context of sequence features**, I will go through a list of weird tRNAs, their isotype-specific scores, and where they went wrong."
   ]
  },
  {
   "cell_type": "markdown",
   "metadata": {},
   "source": [
    "# New identity stories\n",
    "\n",
    "## Strategy 1A\n",
    "\n",
    "### Find targets"
   ]
  },
  {
   "cell_type": "code",
   "execution_count": 6,
   "metadata": {
    "collapsed": false
   },
   "outputs": [],
   "source": [
    "code_groups = c('A'=1, 'C'=1, 'G'=1, 'U'=1, 'Absent'=1, \n",
    "                'Purine'=2, 'Pyrimidine'=2,\n",
    "                'Weak'=3, 'Strong'=3, 'Amino'=3, 'Keto'=3,\n",
    "                'B'=4, 'D'=4, 'H'=4, 'V'=4,\n",
    "                'GC'=1, 'AU'=1, 'UA'=1, 'CG'=1, 'GU'=1, 'UG'=1,\n",
    "                'StrongPair'=2, 'WeakPair'=2, 'Wobble'=2,\n",
    "                'PurinePyrimidine'=3, 'PyrimidinePurine'=3, 'AminoKeto'=3, 'KetoAmino'=3,\n",
    "                'Paired'=4, 'Mismatched'=4, 'Bulge'=4)\n",
    "\n",
    "cutoff_freqs = data.frame()\n",
    "for (cutoff in c(0.5, 0.6, 0.7, 0.8, 0.9, 0.95, 0.99, 1.0)) {\n",
    "  df = clade_iso_ac_freqs %>%\n",
    "    group_by(positions, variable) %>%\n",
    "    summarize(count=sum(value), freq=sum(value)/sum(total)) %>%\n",
    "    filter(freq >= cutoff) %>%\n",
    "    mutate(cutoff=as.character(cutoff)) %>%\n",
    "    select(positions, variable, freq, cutoff) %>%\n",
    "    group_by(positions) %>%\n",
    "    arrange(code_groups[variable], desc(freq)) %>%\n",
    "    filter(row_number(positions) == 1)\n",
    "  if (nrow(cutoff_freqs) == 0) cutoff_freqs = df\n",
    "  else cutoff_freqs = rbind(cutoff_freqs, df)\n",
    "}"
   ]
  },
  {
   "cell_type": "code",
   "execution_count": 7,
   "metadata": {
    "collapsed": false,
    "scrolled": true
   },
   "outputs": [
    {
     "data": {
      "text/html": [
       "<table>\n",
       "<thead><tr><th></th><th scope=col>positions</th><th scope=col>0.5</th><th scope=col>0.6</th><th scope=col>0.7</th><th scope=col>0.8</th><th scope=col>0.9</th><th scope=col>0.95</th><th scope=col>0.99</th></tr></thead>\n",
       "<tbody>\n",
       "\t<tr><th scope=row>1</th><td>X10.25</td><td>GC</td><td>GC</td><td>GC</td><td>Paired</td><td>Paired</td><td>Paired</td><td>Paired</td></tr>\n",
       "\t<tr><th scope=row>2</th><td>X11.24</td><td>CG</td><td>CG</td><td>PyrimidinePurine</td><td>PyrimidinePurine</td><td>PyrimidinePurine</td><td>PyrimidinePurine</td><td>Paired</td></tr>\n",
       "\t<tr><th scope=row>3</th><td>X12.23</td><td>PyrimidinePurine</td><td>PyrimidinePurine</td><td>Paired</td><td>Paired</td><td>Paired</td><td>Paired</td><td>NA</td></tr>\n",
       "\t<tr><th scope=row>4</th><td>X13.22</td><td>PyrimidinePurine</td><td>Paired</td><td>NA</td><td>NA</td><td>NA</td><td>NA</td><td>NA</td></tr>\n",
       "\t<tr><th scope=row>5</th><td>X14</td><td>A</td><td>A</td><td>A</td><td>A</td><td>A</td><td>A</td><td>A</td></tr>\n",
       "\t<tr><th scope=row>6</th><td>X15</td><td>G</td><td>G</td><td>G</td><td>Purine</td><td>Purine</td><td>Purine</td><td>Purine</td></tr>\n",
       "\t<tr><th scope=row>7</th><td>X15.48</td><td>GC</td><td>GC</td><td>GC</td><td>PurinePyrimidine</td><td>PurinePyrimidine</td><td>Paired</td><td>NA</td></tr>\n",
       "\t<tr><th scope=row>8</th><td>X16</td><td>U</td><td>U</td><td>U</td><td>Pyrimidine</td><td>Pyrimidine</td><td>B</td><td>NA</td></tr>\n",
       "\t<tr><th scope=row>9</th><td>X17</td><td>Absent</td><td>Absent</td><td>Absent</td><td>NA</td><td>NA</td><td>NA</td><td>NA</td></tr>\n",
       "\t<tr><th scope=row>10</th><td>X1.72</td><td>GC</td><td>GC</td><td>GC</td><td>GC</td><td>Paired</td><td>Paired</td><td>NA</td></tr>\n",
       "\t<tr><th scope=row>11</th><td>X17a</td><td>Absent</td><td>Absent</td><td>Absent</td><td>Absent</td><td>Absent</td><td>Absent</td><td>Absent</td></tr>\n",
       "\t<tr><th scope=row>12</th><td>X18</td><td>G</td><td>G</td><td>G</td><td>G</td><td>G</td><td>G</td><td>G</td></tr>\n",
       "\t<tr><th scope=row>13</th><td>X18.55</td><td>GU</td><td>GU</td><td>GU</td><td>GU</td><td>GU</td><td>GU</td><td>Paired</td></tr>\n",
       "\t<tr><th scope=row>14</th><td>X19</td><td>G</td><td>G</td><td>G</td><td>G</td><td>G</td><td>G</td><td>G</td></tr>\n",
       "\t<tr><th scope=row>15</th><td>X19.56</td><td>GC</td><td>GC</td><td>GC</td><td>GC</td><td>GC</td><td>GC</td><td>Paired</td></tr>\n",
       "\t<tr><th scope=row>16</th><td>X20</td><td>U</td><td>U</td><td>U</td><td>U</td><td>Weak</td><td>H</td><td>NA</td></tr>\n",
       "\t<tr><th scope=row>17</th><td>X20a</td><td>Pyrimidine</td><td>NA</td><td>NA</td><td>NA</td><td>NA</td><td>NA</td><td>NA</td></tr>\n",
       "\t<tr><th scope=row>18</th><td>X20b</td><td>Absent</td><td>Absent</td><td>Absent</td><td>Absent</td><td>Absent</td><td>NA</td><td>NA</td></tr>\n",
       "\t<tr><th scope=row>19</th><td>X21</td><td>A</td><td>A</td><td>A</td><td>A</td><td>A</td><td>A</td><td>A</td></tr>\n",
       "\t<tr><th scope=row>20</th><td>X26</td><td>G</td><td>G</td><td>Purine</td><td>Purine</td><td>D</td><td>D</td><td>NA</td></tr>\n",
       "\t<tr><th scope=row>21</th><td>X2.71</td><td>StrongPair</td><td>StrongPair</td><td>Paired</td><td>Paired</td><td>Paired</td><td>Paired</td><td>NA</td></tr>\n",
       "\t<tr><th scope=row>22</th><td>X27.43</td><td>PyrimidinePurine</td><td>PyrimidinePurine</td><td>PyrimidinePurine</td><td>Paired</td><td>Paired</td><td>Paired</td><td>Paired</td></tr>\n",
       "\t<tr><th scope=row>23</th><td>X28.42</td><td>PyrimidinePurine</td><td>PyrimidinePurine</td><td>PyrimidinePurine</td><td>Paired</td><td>Paired</td><td>Paired</td><td>NA</td></tr>\n",
       "\t<tr><th scope=row>24</th><td>X29.41</td><td>PurinePyrimidine</td><td>Paired</td><td>Paired</td><td>Paired</td><td>Paired</td><td>Paired</td><td>NA</td></tr>\n",
       "\t<tr><th scope=row>25</th><td>X30.40</td><td>GC</td><td>GC</td><td>GC</td><td>StrongPair</td><td>Paired</td><td>Paired</td><td>Paired</td></tr>\n",
       "\t<tr><th scope=row>26</th><td>X31.39</td><td>PurinePyrimidine</td><td>PurinePyrimidine</td><td>Paired</td><td>Paired</td><td>Paired</td><td>Paired</td><td>NA</td></tr>\n",
       "\t<tr><th scope=row>27</th><td>X32</td><td>C</td><td>C</td><td>C</td><td>Pyrimidine</td><td>Pyrimidine</td><td>Pyrimidine</td><td>Pyrimidine</td></tr>\n",
       "\t<tr><th scope=row>28</th><td>X33</td><td>U</td><td>U</td><td>U</td><td>U</td><td>U</td><td>U</td><td>Pyrimidine</td></tr>\n",
       "\t<tr><th scope=row>29</th><td>X34</td><td>Pyrimidine</td><td>B</td><td>B</td><td>B</td><td>NA</td><td>NA</td><td>NA</td></tr>\n",
       "\t<tr><th scope=row>30</th><td>X35</td><td>Purine</td><td>D</td><td>D</td><td>NA</td><td>NA</td><td>NA</td><td>NA</td></tr>\n",
       "\t<tr><th scope=row>31</th><td>X36</td><td>Pyrimidine</td><td>H</td><td>H</td><td>H</td><td>NA</td><td>NA</td><td>NA</td></tr>\n",
       "\t<tr><th scope=row>32</th><td>X37</td><td>A</td><td>A</td><td>Purine</td><td>Purine</td><td>Purine</td><td>Purine</td><td>Purine</td></tr>\n",
       "\t<tr><th scope=row>33</th><td>X3.70</td><td>CG</td><td>PyrimidinePurine</td><td>PyrimidinePurine</td><td>Paired</td><td>Paired</td><td>Paired</td><td>NA</td></tr>\n",
       "\t<tr><th scope=row>34</th><td>X38</td><td>A</td><td>A</td><td>Amino</td><td>Amino</td><td>H</td><td>H</td><td>H</td></tr>\n",
       "\t<tr><th scope=row>35</th><td>X44</td><td>A</td><td>A</td><td>Purine</td><td>Weak</td><td>D</td><td>NA</td><td>NA</td></tr>\n",
       "\t<tr><th scope=row>36</th><td>X45</td><td>G</td><td>G</td><td>G</td><td>Purine</td><td>NA</td><td>NA</td><td>NA</td></tr>\n",
       "\t<tr><th scope=row>37</th><td>X46</td><td>G</td><td>G</td><td>G</td><td>Purine</td><td>Purine</td><td>Purine</td><td>Purine</td></tr>\n",
       "\t<tr><th scope=row>38</th><td>X4.69</td><td>StrongPair</td><td>Paired</td><td>Paired</td><td>Paired</td><td>Paired</td><td>Paired</td><td>NA</td></tr>\n",
       "\t<tr><th scope=row>39</th><td>X47</td><td>U</td><td>Pyrimidine</td><td>NA</td><td>NA</td><td>NA</td><td>NA</td><td>NA</td></tr>\n",
       "\t<tr><th scope=row>40</th><td>X48</td><td>C</td><td>C</td><td>C</td><td>Pyrimidine</td><td>Pyrimidine</td><td>Pyrimidine</td><td>H</td></tr>\n",
       "\t<tr><th scope=row>41</th><td>X49.65</td><td>StrongPair</td><td>StrongPair</td><td>StrongPair</td><td>StrongPair</td><td>Paired</td><td>Paired</td><td>Paired</td></tr>\n",
       "\t<tr><th scope=row>42</th><td>X50.64</td><td>PyrimidinePurine</td><td>PyrimidinePurine</td><td>PyrimidinePurine</td><td>PyrimidinePurine</td><td>Paired</td><td>Paired</td><td>NA</td></tr>\n",
       "\t<tr><th scope=row>43</th><td>X51.63</td><td>GC</td><td>GC</td><td>PurinePyrimidine</td><td>Paired</td><td>Paired</td><td>Paired</td><td>NA</td></tr>\n",
       "\t<tr><th scope=row>44</th><td>X52.62</td><td>GC</td><td>GC</td><td>GC</td><td>PurinePyrimidine</td><td>PurinePyrimidine</td><td>Paired</td><td>NA</td></tr>\n",
       "\t<tr><th scope=row>45</th><td>X53.61</td><td>GC</td><td>GC</td><td>GC</td><td>GC</td><td>GC</td><td>GC</td><td>Paired</td></tr>\n",
       "\t<tr><th scope=row>46</th><td>X54</td><td>U</td><td>U</td><td>U</td><td>U</td><td>U</td><td>U</td><td>Weak</td></tr>\n",
       "\t<tr><th scope=row>47</th><td>X54.58</td><td>UA</td><td>UA</td><td>UA</td><td>UA</td><td>UA</td><td>UA</td><td>NA</td></tr>\n",
       "\t<tr><th scope=row>48</th><td>X55</td><td>U</td><td>U</td><td>U</td><td>U</td><td>U</td><td>U</td><td>U</td></tr>\n",
       "\t<tr><th scope=row>49</th><td>X56</td><td>C</td><td>C</td><td>C</td><td>C</td><td>C</td><td>C</td><td>Pyrimidine</td></tr>\n",
       "\t<tr><th scope=row>50</th><td>X5.68</td><td>StrongPair</td><td>Paired</td><td>Paired</td><td>Paired</td><td>Paired</td><td>Paired</td><td>NA</td></tr>\n",
       "\t<tr><th scope=row>51</th><td>X57</td><td>G</td><td>G</td><td>Purine</td><td>Purine</td><td>Purine</td><td>Purine</td><td>Purine</td></tr>\n",
       "\t<tr><th scope=row>52</th><td>X58</td><td>A</td><td>A</td><td>A</td><td>A</td><td>A</td><td>A</td><td>Purine</td></tr>\n",
       "\t<tr><th scope=row>53</th><td>X59</td><td>Purine</td><td>Purine</td><td>Weak</td><td>D</td><td>D</td><td>NA</td><td>NA</td></tr>\n",
       "\t<tr><th scope=row>54</th><td>X60</td><td>U</td><td>U</td><td>Pyrimidine</td><td>Pyrimidine</td><td>Pyrimidine</td><td>H</td><td>NA</td></tr>\n",
       "\t<tr><th scope=row>55</th><td>X6.67</td><td>Paired</td><td>Paired</td><td>Paired</td><td>Paired</td><td>Paired</td><td>Paired</td><td>NA</td></tr>\n",
       "\t<tr><th scope=row>56</th><td>X73</td><td>A</td><td>Purine</td><td>Purine</td><td>Purine</td><td>D</td><td>D</td><td>NA</td></tr>\n",
       "\t<tr><th scope=row>57</th><td>X7.66</td><td>PurinePyrimidine</td><td>PurinePyrimidine</td><td>PurinePyrimidine</td><td>Paired</td><td>Paired</td><td>Paired</td><td>NA</td></tr>\n",
       "\t<tr><th scope=row>58</th><td>X8</td><td>U</td><td>U</td><td>U</td><td>U</td><td>U</td><td>U</td><td>U</td></tr>\n",
       "\t<tr><th scope=row>59</th><td>X8.14</td><td>UA</td><td>UA</td><td>UA</td><td>UA</td><td>UA</td><td>UA</td><td>UA</td></tr>\n",
       "\t<tr><th scope=row>60</th><td>X9</td><td>G</td><td>Purine</td><td>Purine</td><td>Purine</td><td>Purine</td><td>Purine</td><td>V</td></tr>\n",
       "</tbody>\n",
       "</table>\n"
      ],
      "text/latex": [
       "\\begin{tabular}{r|llllllll}\n",
       "  & positions & 0.5 & 0.6 & 0.7 & 0.8 & 0.9 & 0.95 & 0.99\\\\\n",
       "\\hline\n",
       "\t1 & X10.25 & GC & GC & GC & Paired & Paired & Paired & Paired\\\\\n",
       "\t2 & X11.24 & CG & CG & PyrimidinePurine & PyrimidinePurine & PyrimidinePurine & PyrimidinePurine & Paired\\\\\n",
       "\t3 & X12.23 & PyrimidinePurine & PyrimidinePurine & Paired & Paired & Paired & Paired & NA\\\\\n",
       "\t4 & X13.22 & PyrimidinePurine & Paired & NA & NA & NA & NA & NA\\\\\n",
       "\t5 & X14 & A & A & A & A & A & A & A\\\\\n",
       "\t6 & X15 & G & G & G & Purine & Purine & Purine & Purine\\\\\n",
       "\t7 & X15.48 & GC & GC & GC & PurinePyrimidine & PurinePyrimidine & Paired & NA\\\\\n",
       "\t8 & X16 & U & U & U & Pyrimidine & Pyrimidine & B & NA\\\\\n",
       "\t9 & X17 & Absent & Absent & Absent & NA & NA & NA & NA\\\\\n",
       "\t10 & X1.72 & GC & GC & GC & GC & Paired & Paired & NA\\\\\n",
       "\t11 & X17a & Absent & Absent & Absent & Absent & Absent & Absent & Absent\\\\\n",
       "\t12 & X18 & G & G & G & G & G & G & G\\\\\n",
       "\t13 & X18.55 & GU & GU & GU & GU & GU & GU & Paired\\\\\n",
       "\t14 & X19 & G & G & G & G & G & G & G\\\\\n",
       "\t15 & X19.56 & GC & GC & GC & GC & GC & GC & Paired\\\\\n",
       "\t16 & X20 & U & U & U & U & Weak & H & NA\\\\\n",
       "\t17 & X20a & Pyrimidine & NA & NA & NA & NA & NA & NA\\\\\n",
       "\t18 & X20b & Absent & Absent & Absent & Absent & Absent & NA & NA\\\\\n",
       "\t19 & X21 & A & A & A & A & A & A & A\\\\\n",
       "\t20 & X26 & G & G & Purine & Purine & D & D & NA\\\\\n",
       "\t21 & X2.71 & StrongPair & StrongPair & Paired & Paired & Paired & Paired & NA\\\\\n",
       "\t22 & X27.43 & PyrimidinePurine & PyrimidinePurine & PyrimidinePurine & Paired & Paired & Paired & Paired\\\\\n",
       "\t23 & X28.42 & PyrimidinePurine & PyrimidinePurine & PyrimidinePurine & Paired & Paired & Paired & NA\\\\\n",
       "\t24 & X29.41 & PurinePyrimidine & Paired & Paired & Paired & Paired & Paired & NA\\\\\n",
       "\t25 & X30.40 & GC & GC & GC & StrongPair & Paired & Paired & Paired\\\\\n",
       "\t26 & X31.39 & PurinePyrimidine & PurinePyrimidine & Paired & Paired & Paired & Paired & NA\\\\\n",
       "\t27 & X32 & C & C & C & Pyrimidine & Pyrimidine & Pyrimidine & Pyrimidine\\\\\n",
       "\t28 & X33 & U & U & U & U & U & U & Pyrimidine\\\\\n",
       "\t29 & X34 & Pyrimidine & B & B & B & NA & NA & NA\\\\\n",
       "\t30 & X35 & Purine & D & D & NA & NA & NA & NA\\\\\n",
       "\t31 & X36 & Pyrimidine & H & H & H & NA & NA & NA\\\\\n",
       "\t32 & X37 & A & A & Purine & Purine & Purine & Purine & Purine\\\\\n",
       "\t33 & X3.70 & CG & PyrimidinePurine & PyrimidinePurine & Paired & Paired & Paired & NA\\\\\n",
       "\t34 & X38 & A & A & Amino & Amino & H & H & H\\\\\n",
       "\t35 & X44 & A & A & Purine & Weak & D & NA & NA\\\\\n",
       "\t36 & X45 & G & G & G & Purine & NA & NA & NA\\\\\n",
       "\t37 & X46 & G & G & G & Purine & Purine & Purine & Purine\\\\\n",
       "\t38 & X4.69 & StrongPair & Paired & Paired & Paired & Paired & Paired & NA\\\\\n",
       "\t39 & X47 & U & Pyrimidine & NA & NA & NA & NA & NA\\\\\n",
       "\t40 & X48 & C & C & C & Pyrimidine & Pyrimidine & Pyrimidine & H\\\\\n",
       "\t41 & X49.65 & StrongPair & StrongPair & StrongPair & StrongPair & Paired & Paired & Paired\\\\\n",
       "\t42 & X50.64 & PyrimidinePurine & PyrimidinePurine & PyrimidinePurine & PyrimidinePurine & Paired & Paired & NA\\\\\n",
       "\t43 & X51.63 & GC & GC & PurinePyrimidine & Paired & Paired & Paired & NA\\\\\n",
       "\t44 & X52.62 & GC & GC & GC & PurinePyrimidine & PurinePyrimidine & Paired & NA\\\\\n",
       "\t45 & X53.61 & GC & GC & GC & GC & GC & GC & Paired\\\\\n",
       "\t46 & X54 & U & U & U & U & U & U & Weak\\\\\n",
       "\t47 & X54.58 & UA & UA & UA & UA & UA & UA & NA\\\\\n",
       "\t48 & X55 & U & U & U & U & U & U & U\\\\\n",
       "\t49 & X56 & C & C & C & C & C & C & Pyrimidine\\\\\n",
       "\t50 & X5.68 & StrongPair & Paired & Paired & Paired & Paired & Paired & NA\\\\\n",
       "\t51 & X57 & G & G & Purine & Purine & Purine & Purine & Purine\\\\\n",
       "\t52 & X58 & A & A & A & A & A & A & Purine\\\\\n",
       "\t53 & X59 & Purine & Purine & Weak & D & D & NA & NA\\\\\n",
       "\t54 & X60 & U & U & Pyrimidine & Pyrimidine & Pyrimidine & H & NA\\\\\n",
       "\t55 & X6.67 & Paired & Paired & Paired & Paired & Paired & Paired & NA\\\\\n",
       "\t56 & X73 & A & Purine & Purine & Purine & D & D & NA\\\\\n",
       "\t57 & X7.66 & PurinePyrimidine & PurinePyrimidine & PurinePyrimidine & Paired & Paired & Paired & NA\\\\\n",
       "\t58 & X8 & U & U & U & U & U & U & U\\\\\n",
       "\t59 & X8.14 & UA & UA & UA & UA & UA & UA & UA\\\\\n",
       "\t60 & X9 & G & Purine & Purine & Purine & Purine & Purine & V\\\\\n",
       "\\end{tabular}\n"
      ],
      "text/plain": [
       "Source: local data frame [60 x 8]\n",
       "Groups: positions [60]\n",
       "\n",
       "   positions            `0.5`            `0.6`            `0.7`\n",
       "*      <chr>           <fctr>           <fctr>           <fctr>\n",
       "1     X10.25               GC               GC               GC\n",
       "2     X11.24               CG               CG PyrimidinePurine\n",
       "3     X12.23 PyrimidinePurine PyrimidinePurine           Paired\n",
       "4     X13.22 PyrimidinePurine           Paired               NA\n",
       "5        X14                A                A                A\n",
       "6        X15                G                G                G\n",
       "7     X15.48               GC               GC               GC\n",
       "8        X16                U                U                U\n",
       "9        X17           Absent           Absent           Absent\n",
       "10     X1.72               GC               GC               GC\n",
       "# ... with 50 more rows, and 4 more variables: `0.8` <fctr>, `0.9` <fctr>,\n",
       "#   `0.95` <fctr>, `0.99` <fctr>"
      ]
     },
     "execution_count": 7,
     "metadata": {},
     "output_type": "execute_result"
    }
   ],
   "source": [
    "cutoff_freqs %>% \n",
    "  filter(positions %in% c(names(single_positions), names(paired_positions))) %>%\n",
    "  select(positions, cutoff, variable) %>%\n",
    "  spread(cutoff, variable)"
   ]
  },
  {
   "cell_type": "code",
   "execution_count": 9,
   "metadata": {
    "collapsed": false,
    "scrolled": true
   },
   "outputs": [
    {
     "data": {
      "text/html": [
       "<table>\n",
       "<thead><tr><th></th><th scope=col>positions</th><th scope=col>identity</th></tr></thead>\n",
       "<tbody>\n",
       "\t<tr><th scope=row>1</th><td>X10.25</td><td>Paired</td></tr>\n",
       "\t<tr><th scope=row>2</th><td>X11.24</td><td>Paired</td></tr>\n",
       "\t<tr><th scope=row>3</th><td>X14</td><td>A</td></tr>\n",
       "\t<tr><th scope=row>4</th><td>X15</td><td>V</td></tr>\n",
       "\t<tr><th scope=row>5</th><td>X1.72</td><td>Paired</td></tr>\n",
       "\t<tr><th scope=row>6</th><td>X18</td><td>V</td></tr>\n",
       "\t<tr><th scope=row>7</th><td>X19</td><td>G</td></tr>\n",
       "\t<tr><th scope=row>8</th><td>X19.56</td><td>GC</td></tr>\n",
       "\t<tr><th scope=row>9</th><td>X21</td><td>H</td></tr>\n",
       "\t<tr><th scope=row>10</th><td>X2.71</td><td>Paired</td></tr>\n",
       "\t<tr><th scope=row>11</th><td>X28.42</td><td>Paired</td></tr>\n",
       "\t<tr><th scope=row>12</th><td>X29.41</td><td>Paired</td></tr>\n",
       "\t<tr><th scope=row>13</th><td>X30.40</td><td>Paired</td></tr>\n",
       "\t<tr><th scope=row>14</th><td>X32</td><td>Pyrimidine</td></tr>\n",
       "\t<tr><th scope=row>15</th><td>X33</td><td>Pyrimidine</td></tr>\n",
       "\t<tr><th scope=row>16</th><td>X37</td><td>V</td></tr>\n",
       "\t<tr><th scope=row>17</th><td>X38</td><td>H</td></tr>\n",
       "\t<tr><th scope=row>18</th><td>X46</td><td>Purine</td></tr>\n",
       "\t<tr><th scope=row>19</th><td>X49.65</td><td>Paired</td></tr>\n",
       "\t<tr><th scope=row>20</th><td>X53.61</td><td>GC</td></tr>\n",
       "\t<tr><th scope=row>21</th><td>X54</td><td>H</td></tr>\n",
       "\t<tr><th scope=row>22</th><td>X55</td><td>Keto</td></tr>\n",
       "\t<tr><th scope=row>23</th><td>X56</td><td>C</td></tr>\n",
       "\t<tr><th scope=row>24</th><td>X57</td><td>Purine</td></tr>\n",
       "\t<tr><th scope=row>25</th><td>X58</td><td>A</td></tr>\n",
       "\t<tr><th scope=row>26</th><td>X7.66</td><td>Paired</td></tr>\n",
       "\t<tr><th scope=row>27</th><td>X8</td><td>U</td></tr>\n",
       "\t<tr><th scope=row>28</th><td>X8.14</td><td>UA</td></tr>\n",
       "</tbody>\n",
       "</table>\n"
      ],
      "text/latex": [
       "\\begin{tabular}{r|ll}\n",
       "  & positions & identity\\\\\n",
       "\\hline\n",
       "\t1 & X10.25 & Paired\\\\\n",
       "\t2 & X11.24 & Paired\\\\\n",
       "\t3 & X14 & A\\\\\n",
       "\t4 & X15 & V\\\\\n",
       "\t5 & X1.72 & Paired\\\\\n",
       "\t6 & X18 & V\\\\\n",
       "\t7 & X19 & G\\\\\n",
       "\t8 & X19.56 & GC\\\\\n",
       "\t9 & X21 & H\\\\\n",
       "\t10 & X2.71 & Paired\\\\\n",
       "\t11 & X28.42 & Paired\\\\\n",
       "\t12 & X29.41 & Paired\\\\\n",
       "\t13 & X30.40 & Paired\\\\\n",
       "\t14 & X32 & Pyrimidine\\\\\n",
       "\t15 & X33 & Pyrimidine\\\\\n",
       "\t16 & X37 & V\\\\\n",
       "\t17 & X38 & H\\\\\n",
       "\t18 & X46 & Purine\\\\\n",
       "\t19 & X49.65 & Paired\\\\\n",
       "\t20 & X53.61 & GC\\\\\n",
       "\t21 & X54 & H\\\\\n",
       "\t22 & X55 & Keto\\\\\n",
       "\t23 & X56 & C\\\\\n",
       "\t24 & X57 & Purine\\\\\n",
       "\t25 & X58 & A\\\\\n",
       "\t26 & X7.66 & Paired\\\\\n",
       "\t27 & X8 & U\\\\\n",
       "\t28 & X8.14 & UA\\\\\n",
       "\\end{tabular}\n"
      ],
      "text/plain": [
       "# A tibble: 28 × 2\n",
       "   positions identity\n",
       "       <chr>    <chr>\n",
       "1     X10.25   Paired\n",
       "2     X11.24   Paired\n",
       "3        X14        A\n",
       "4        X15        V\n",
       "5      X1.72   Paired\n",
       "6        X18        V\n",
       "7        X19        G\n",
       "8     X19.56       GC\n",
       "9        X21        H\n",
       "10     X2.71   Paired\n",
       "# ... with 18 more rows"
      ]
     },
     "execution_count": 9,
     "metadata": {},
     "output_type": "execute_result"
    }
   ],
   "source": [
    "consensus"
   ]
  },
  {
   "cell_type": "markdown",
   "metadata": {},
   "source": [
    "For strategy 1A, some good candidates here: \n",
    "- R9 (95%)\n",
    "- Y11:R24 (99%)\n",
    "- G18, U55, and G18:U55 (99%)\n",
    "- G19:C56 (99%)\n",
    "- A21 and A14/A21 (99%)\n",
    "- U33 (99%)\n",
    "- R37 (99%)\n",
    "- R46 (99%)\n",
    "- G53:C61 (99%)\n",
    "- U54:A58 (99%)\n",
    "- U55 (99%)\n",
    "- R57 (99%)\n",
    "- Y60 (95%)"
   ]
  },
  {
   "cell_type": "markdown",
   "metadata": {},
   "source": [
    "### R9 and R46"
   ]
  },
  {
   "cell_type": "markdown",
   "metadata": {
    "collapsed": true
   },
   "source": [
    "#### What's known\n",
    "\n",
    "- Marck and Grosjean have a purine for iMet and no consensus for elongator, though they are mostly R or V. R9 is also conserved in initiators for archaea/bacteria.\n",
    "- 9-12-23 is a tertiary interaction. [Gautheret et al. (1995)](http://dx.doi.org/10.1006/jmbi.1995.0200) has these frequencies from the Sprinzl 1991 database: ![9-12-23 frequency matrix](figures/9-12-23-gautheret.png)"
   ]
  },
  {
   "cell_type": "markdown",
   "metadata": {},
   "source": [
    "- Position 9 is known to be modified with m$^1$G (along with 37) in a wide range of eukaryotes. \n",
    "\n",
    "#### Our data\n",
    "\n",
    "- Here's our frequencies:"
   ]
  },
  {
   "cell_type": "code",
   "execution_count": 10,
   "metadata": {
    "collapsed": false
   },
   "outputs": [
    {
     "data": {
      "text/plain": [
       "     \n",
       "         -    A    C    G    R    U\n",
       "  A:A    0    5    1    7    0    0\n",
       "  A:C    0   25    2  227    0    0\n",
       "  A:G    0    2    1   14    0    0\n",
       "  A:U    0  492  146   65    0    4\n",
       "  C:-    0    0    0    1    0    0\n",
       "  C:A    0    8    0   57    0    1\n",
       "  C:C    0    1    0    4    0    0\n",
       "  C:G    0  251   58 6990    0   53\n",
       "  C:U    0    0    0    6    0    0\n",
       "  G:A    0    2    0    2    0    0\n",
       "  G:C    1 1709    7 4182    0    5\n",
       "  G:G    0    0    0    8    0    0\n",
       "  G:U    0   14    1   31    0    0\n",
       "  U:A    0 6571    6 1842    1   33\n",
       "  U:C    0    2    0    2    0    0\n",
       "  U:G    0   23    0   68    0    0\n",
       "  U:U    0    5    0    1    0    0"
      ]
     },
     "execution_count": 10,
     "metadata": {},
     "output_type": "execute_result"
    }
   ],
   "source": [
    "table(paste0(identities[identities$quality, ]$X12, ':', identities[identities$quality, ]$X23), identities[identities$quality, ]$X9)"
   ]
  },
  {
   "cell_type": "markdown",
   "metadata": {},
   "source": [
    "**Which isotypes/clades/species fail the consensus checks?**"
   ]
  },
  {
   "cell_type": "code",
   "execution_count": 11,
   "metadata": {
    "collapsed": false,
    "scrolled": true
   },
   "outputs": [
    {
     "data": {
      "text/html": [
       "<table>\n",
       "<thead><tr><th></th><th scope=col>clade</th><th scope=col>isotype</th><th scope=col>status</th></tr></thead>\n",
       "<tbody>\n",
       "\t<tr><th scope=row>1</th><td>Insecta</td><td>Glu</td><td>FALSE</td></tr>\n",
       "\t<tr><th scope=row>2</th><td>Insecta</td><td>His</td><td>FALSE</td></tr>\n",
       "\t<tr><th scope=row>3</th><td>Mammalia</td><td>His</td><td>FALSE</td></tr>\n",
       "\t<tr><th scope=row>4</th><td>Vertebrata</td><td>His</td><td>FALSE</td></tr>\n",
       "</tbody>\n",
       "</table>\n"
      ],
      "text/latex": [
       "\\begin{tabular}{r|lll}\n",
       "  & clade & isotype & status\\\\\n",
       "\\hline\n",
       "\t1 & Insecta & Glu & FALSE\\\\\n",
       "\t2 & Insecta & His & FALSE\\\\\n",
       "\t3 & Mammalia & His & FALSE\\\\\n",
       "\t4 & Vertebrata & His & FALSE\\\\\n",
       "\\end{tabular}\n"
      ],
      "text/plain": [
       "Source: local data frame [4 x 3]\n",
       "Groups: clade [3]\n",
       "\n",
       "       clade isotype status\n",
       "       <chr>   <chr>  <lgl>\n",
       "1    Insecta     Glu  FALSE\n",
       "2    Insecta     His  FALSE\n",
       "3   Mammalia     His  FALSE\n",
       "4 Vertebrata     His  FALSE"
      ]
     },
     "execution_count": 11,
     "metadata": {},
     "output_type": "execute_result"
    },
    {
     "data": {
      "text/html": [
       "<table>\n",
       "<thead><tr><th></th><th scope=col>clade</th><th scope=col>species</th><th scope=col>isotype</th><th scope=col>status</th><th scope=col>freq</th><th scope=col>ntRNAs</th></tr></thead>\n",
       "<tbody>\n",
       "\t<tr><th scope=row>1</th><td>Fungi</td><td>crypGatt_WM276</td><td>Gly</td><td>FALSE</td><td>0</td><td>2</td></tr>\n",
       "\t<tr><th scope=row>2</th><td>Fungi</td><td>crypNeof_VAR_GRUBII_H99</td><td>Gly</td><td>FALSE</td><td>0</td><td>2</td></tr>\n",
       "\t<tr><th scope=row>3</th><td>Fungi</td><td>crypNeof_VAR_NEOFORMANS_B_3501</td><td>Gly</td><td>FALSE</td><td>0</td><td>2</td></tr>\n",
       "\t<tr><th scope=row>4</th><td>Fungi</td><td>crypNeof_VAR_NEOFORMANS_JEC21</td><td>Gly</td><td>FALSE</td><td>0</td><td>2</td></tr>\n",
       "\t<tr><th scope=row>5</th><td>Insecta</td><td>dm6</td><td>His</td><td>FALSE</td><td>0</td><td>5</td></tr>\n",
       "\t<tr><th scope=row>6</th><td>Insecta</td><td>dp4</td><td>His</td><td>FALSE</td><td>0</td><td>5</td></tr>\n",
       "\t<tr><th scope=row>7</th><td>Insecta</td><td>dp4_Unknown_group_638.trna1-GluCTC</td><td>Glu</td><td>FALSE</td><td>0</td><td>1</td></tr>\n",
       "\t<tr><th scope=row>8</th><td>Insecta</td><td>dp4_Unknown_group_638.trna2-GluCTC</td><td>Glu</td><td>FALSE</td><td>0</td><td>1</td></tr>\n",
       "\t<tr><th scope=row>9</th><td>Insecta</td><td>droAna3</td><td>His</td><td>FALSE</td><td>0</td><td>5</td></tr>\n",
       "\t<tr><th scope=row>10</th><td>Insecta</td><td>droEre2</td><td>His</td><td>FALSE</td><td>0</td><td>6</td></tr>\n",
       "\t<tr><th scope=row>11</th><td>Insecta</td><td>droGri2</td><td>His</td><td>FALSE</td><td>0</td><td>5</td></tr>\n",
       "\t<tr><th scope=row>12</th><td>Insecta</td><td>droMoj3</td><td>His</td><td>FALSE</td><td>0</td><td>5</td></tr>\n",
       "\t<tr><th scope=row>13</th><td>Insecta</td><td>droPer1</td><td>His</td><td>FALSE</td><td>0</td><td>7</td></tr>\n",
       "\t<tr><th scope=row>14</th><td>Insecta</td><td>droSec1</td><td>His</td><td>FALSE</td><td>0</td><td>6</td></tr>\n",
       "\t<tr><th scope=row>15</th><td>Insecta</td><td>droVir3</td><td>His</td><td>FALSE</td><td>0</td><td>5</td></tr>\n",
       "\t<tr><th scope=row>16</th><td>Insecta</td><td>droWil1</td><td>His</td><td>FALSE</td><td>0</td><td>7</td></tr>\n",
       "\t<tr><th scope=row>17</th><td>Insecta</td><td>droYak2</td><td>His</td><td>FALSE</td><td>0</td><td>5</td></tr>\n",
       "\t<tr><th scope=row>18</th><td>Mammalia</td><td>ailMel1</td><td>His</td><td>FALSE</td><td>0</td><td>8</td></tr>\n",
       "\t<tr><th scope=row>19</th><td>Mammalia</td><td>balAcu1</td><td>His</td><td>FALSE</td><td>0</td><td>8</td></tr>\n",
       "\t<tr><th scope=row>20</th><td>Mammalia</td><td>bosTau8</td><td>His</td><td>FALSE</td><td>0</td><td>15</td></tr>\n",
       "\t<tr><th scope=row>21</th><td>Mammalia</td><td>calJac3</td><td>His</td><td>FALSE</td><td>0</td><td>7</td></tr>\n",
       "\t<tr><th scope=row>22</th><td>Mammalia</td><td>canFam3</td><td>His</td><td>FALSE</td><td>0</td><td>8</td></tr>\n",
       "\t<tr><th scope=row>23</th><td>Mammalia</td><td>cavPor3</td><td>His</td><td>FALSE</td><td>0</td><td>7</td></tr>\n",
       "\t<tr><th scope=row>24</th><td>Mammalia</td><td>cerSim1</td><td>His</td><td>FALSE</td><td>0</td><td>9</td></tr>\n",
       "\t<tr><th scope=row>25</th><td>Mammalia</td><td>criGri1</td><td>His</td><td>FALSE</td><td>0</td><td>13</td></tr>\n",
       "\t<tr><th scope=row>26</th><td>Mammalia</td><td>dipOrd1</td><td>His</td><td>FALSE</td><td>0</td><td>1</td></tr>\n",
       "\t<tr><th scope=row>27</th><td>Mammalia</td><td>equCab2</td><td>His</td><td>FALSE</td><td>0</td><td>7</td></tr>\n",
       "\t<tr><th scope=row>28</th><td>Mammalia</td><td>eriEur2</td><td>His</td><td>FALSE</td><td>0</td><td>5</td></tr>\n",
       "\t<tr><th scope=row>29</th><td>Mammalia</td><td>felCat5</td><td>His</td><td>FALSE</td><td>0</td><td>9</td></tr>\n",
       "\t<tr><th scope=row>30</th><td>Mammalia</td><td>gorGor3</td><td>His</td><td>FALSE</td><td>0</td><td>7</td></tr>\n",
       "\t<tr><th scope=row>31</th><td>Mammalia</td><td>hetGla2</td><td>His</td><td>FALSE</td><td>0</td><td>6</td></tr>\n",
       "\t<tr><th scope=row>32</th><td>Mammalia</td><td>hg19</td><td>His</td><td>FALSE</td><td>0</td><td>10</td></tr>\n",
       "\t<tr><th scope=row>33</th><td>Mammalia</td><td>loxAfr3</td><td>His</td><td>FALSE</td><td>0</td><td>18</td></tr>\n",
       "\t<tr><th scope=row>34</th><td>Mammalia</td><td>macEug2</td><td>His</td><td>FALSE</td><td>0</td><td>6</td></tr>\n",
       "\t<tr><th scope=row>35</th><td>Mammalia</td><td>micMur1</td><td>His</td><td>FALSE</td><td>0</td><td>3</td></tr>\n",
       "\t<tr><th scope=row>36</th><td>Mammalia</td><td>mm10</td><td>His</td><td>FALSE</td><td>0</td><td>10</td></tr>\n",
       "\t<tr><th scope=row>37</th><td>Mammalia</td><td>monDom5</td><td>His</td><td>FALSE</td><td>0</td><td>9</td></tr>\n",
       "\t<tr><th scope=row>38</th><td>Mammalia</td><td>musFur1</td><td>His</td><td>FALSE</td><td>0</td><td>6</td></tr>\n",
       "\t<tr><th scope=row>39</th><td>Mammalia</td><td>nomLeu3</td><td>His</td><td>FALSE</td><td>0</td><td>10</td></tr>\n",
       "\t<tr><th scope=row>40</th><td>Mammalia</td><td>ochPri3</td><td>His</td><td>FALSE</td><td>0</td><td>5</td></tr>\n",
       "\t<tr><th scope=row>41</th><td>Mammalia</td><td>ornAna1</td><td>His</td><td>FALSE</td><td>0</td><td>6</td></tr>\n",
       "\t<tr><th scope=row>42</th><td>Mammalia</td><td>oryCun2</td><td>His</td><td>FALSE</td><td>0</td><td>9</td></tr>\n",
       "\t<tr><th scope=row>43</th><td>Mammalia</td><td>otoGar3</td><td>His</td><td>FALSE</td><td>0</td><td>8</td></tr>\n",
       "\t<tr><th scope=row>44</th><td>Mammalia</td><td>oviAri3</td><td>His</td><td>FALSE</td><td>0</td><td>11</td></tr>\n",
       "\t<tr><th scope=row>45</th><td>Mammalia</td><td>papAnu2</td><td>His</td><td>FALSE</td><td>0</td><td>10</td></tr>\n",
       "\t<tr><th scope=row>46</th><td>Mammalia</td><td>ponAbe2</td><td>His</td><td>FALSE</td><td>0</td><td>10</td></tr>\n",
       "\t<tr><th scope=row>47</th><td>Mammalia</td><td>proCap1</td><td>His</td><td>FALSE</td><td>0</td><td>7</td></tr>\n",
       "\t<tr><th scope=row>48</th><td>Mammalia</td><td>pteVam1</td><td>His</td><td>FALSE</td><td>0</td><td>4</td></tr>\n",
       "\t<tr><th scope=row>49</th><td>Mammalia</td><td>rheMac8</td><td>His</td><td>FALSE</td><td>0</td><td>12</td></tr>\n",
       "\t<tr><th scope=row>50</th><td>Mammalia</td><td>rn6</td><td>His</td><td>FALSE</td><td>0</td><td>10</td></tr>\n",
       "\t<tr><th scope=row>51</th><td>Mammalia</td><td>saiBol1</td><td>His</td><td>FALSE</td><td>0</td><td>7</td></tr>\n",
       "\t<tr><th scope=row>52</th><td>Mammalia</td><td>sarHar1</td><td>His</td><td>FALSE</td><td>0</td><td>9</td></tr>\n",
       "\t<tr><th scope=row>53</th><td>Mammalia</td><td>sorAra2</td><td>His</td><td>FALSE</td><td>0</td><td>7</td></tr>\n",
       "\t<tr><th scope=row>54</th><td>Mammalia</td><td>speTri2</td><td>His</td><td>FALSE</td><td>0</td><td>6</td></tr>\n",
       "\t<tr><th scope=row>55</th><td>Mammalia</td><td>susScr3</td><td>His</td><td>FALSE</td><td>0</td><td>9</td></tr>\n",
       "\t<tr><th scope=row>56</th><td>Mammalia</td><td>tarSyr2</td><td>His</td><td>FALSE</td><td>0</td><td>6</td></tr>\n",
       "\t<tr><th scope=row>57</th><td>Mammalia</td><td>triMan1</td><td>His</td><td>FALSE</td><td>0</td><td>9</td></tr>\n",
       "\t<tr><th scope=row>58</th><td>Mammalia</td><td>turTru2</td><td>His</td><td>FALSE</td><td>0</td><td>8</td></tr>\n",
       "\t<tr><th scope=row>59</th><td>Mammalia</td><td>vicPac2</td><td>His</td><td>FALSE</td><td>0</td><td>8</td></tr>\n",
       "\t<tr><th scope=row>60</th><td>Vertebrata</td><td>anoCar2</td><td>His</td><td>FALSE</td><td>0</td><td>4</td></tr>\n",
       "\t<tr><th scope=row>61</th><td>Vertebrata</td><td>calMil1</td><td>His</td><td>FALSE</td><td>0</td><td>13</td></tr>\n",
       "\t<tr><th scope=row>62</th><td>Vertebrata</td><td>danRer10</td><td>His</td><td>FALSE</td><td>2</td><td>195</td></tr>\n",
       "\t<tr><th scope=row>63</th><td>Vertebrata</td><td>fr3</td><td>His</td><td>FALSE</td><td>0</td><td>15</td></tr>\n",
       "\t<tr><th scope=row>64</th><td>Vertebrata</td><td>gadMor1</td><td>His</td><td>FALSE</td><td>0</td><td>12</td></tr>\n",
       "\t<tr><th scope=row>65</th><td>Vertebrata</td><td>galGal4</td><td>His</td><td>FALSE</td><td>0</td><td>5</td></tr>\n",
       "\t<tr><th scope=row>66</th><td>Vertebrata</td><td>gasAcu1</td><td>His</td><td>FALSE</td><td>0</td><td>40</td></tr>\n",
       "\t<tr><th scope=row>67</th><td>Vertebrata</td><td>geoFor1</td><td>His</td><td>FALSE</td><td>0</td><td>2</td></tr>\n",
       "\t<tr><th scope=row>68</th><td>Vertebrata</td><td>latCha1</td><td>His</td><td>FALSE</td><td>0</td><td>4</td></tr>\n",
       "\t<tr><th scope=row>69</th><td>Vertebrata</td><td>melGal1</td><td>His</td><td>FALSE</td><td>0</td><td>2</td></tr>\n",
       "\t<tr><th scope=row>70</th><td>Vertebrata</td><td>melUnd1</td><td>His</td><td>FALSE</td><td>0</td><td>2</td></tr>\n",
       "\t<tr><th scope=row>71</th><td>Vertebrata</td><td>oreNil2</td><td>His</td><td>FALSE</td><td>0</td><td>16</td></tr>\n",
       "\t<tr><th scope=row>72</th><td>Vertebrata</td><td>oryLat2</td><td>His</td><td>FALSE</td><td>1</td><td>19</td></tr>\n",
       "\t<tr><th scope=row>73</th><td>Vertebrata</td><td>taeGut2</td><td>His</td><td>FALSE</td><td>0</td><td>5</td></tr>\n",
       "\t<tr><th scope=row>74</th><td>Vertebrata</td><td>tetNig2</td><td>His</td><td>FALSE</td><td>0</td><td>10</td></tr>\n",
       "\t<tr><th scope=row>75</th><td>Vertebrata</td><td>xenTro3</td><td>His</td><td>FALSE</td><td>0</td><td>31</td></tr>\n",
       "</tbody>\n",
       "</table>\n"
      ],
      "text/latex": [
       "\\begin{tabular}{r|llllll}\n",
       "  & clade & species & isotype & status & freq & ntRNAs\\\\\n",
       "\\hline\n",
       "\t1 & Fungi & crypGatt_WM276 & Gly & FALSE & 0 & 2\\\\\n",
       "\t2 & Fungi & crypNeof_VAR_GRUBII_H99 & Gly & FALSE & 0 & 2\\\\\n",
       "\t3 & Fungi & crypNeof_VAR_NEOFORMANS_B_3501 & Gly & FALSE & 0 & 2\\\\\n",
       "\t4 & Fungi & crypNeof_VAR_NEOFORMANS_JEC21 & Gly & FALSE & 0 & 2\\\\\n",
       "\t5 & Insecta & dm6 & His & FALSE & 0 & 5\\\\\n",
       "\t6 & Insecta & dp4 & His & FALSE & 0 & 5\\\\\n",
       "\t7 & Insecta & dp4_Unknown_group_638.trna1-GluCTC & Glu & FALSE & 0 & 1\\\\\n",
       "\t8 & Insecta & dp4_Unknown_group_638.trna2-GluCTC & Glu & FALSE & 0 & 1\\\\\n",
       "\t9 & Insecta & droAna3 & His & FALSE & 0 & 5\\\\\n",
       "\t10 & Insecta & droEre2 & His & FALSE & 0 & 6\\\\\n",
       "\t11 & Insecta & droGri2 & His & FALSE & 0 & 5\\\\\n",
       "\t12 & Insecta & droMoj3 & His & FALSE & 0 & 5\\\\\n",
       "\t13 & Insecta & droPer1 & His & FALSE & 0 & 7\\\\\n",
       "\t14 & Insecta & droSec1 & His & FALSE & 0 & 6\\\\\n",
       "\t15 & Insecta & droVir3 & His & FALSE & 0 & 5\\\\\n",
       "\t16 & Insecta & droWil1 & His & FALSE & 0 & 7\\\\\n",
       "\t17 & Insecta & droYak2 & His & FALSE & 0 & 5\\\\\n",
       "\t18 & Mammalia & ailMel1 & His & FALSE & 0 & 8\\\\\n",
       "\t19 & Mammalia & balAcu1 & His & FALSE & 0 & 8\\\\\n",
       "\t20 & Mammalia & bosTau8 & His & FALSE & 0 & 15\\\\\n",
       "\t21 & Mammalia & calJac3 & His & FALSE & 0 & 7\\\\\n",
       "\t22 & Mammalia & canFam3 & His & FALSE & 0 & 8\\\\\n",
       "\t23 & Mammalia & cavPor3 & His & FALSE & 0 & 7\\\\\n",
       "\t24 & Mammalia & cerSim1 & His & FALSE & 0 & 9\\\\\n",
       "\t25 & Mammalia & criGri1 & His & FALSE & 0 & 13\\\\\n",
       "\t26 & Mammalia & dipOrd1 & His & FALSE & 0 & 1\\\\\n",
       "\t27 & Mammalia & equCab2 & His & FALSE & 0 & 7\\\\\n",
       "\t28 & Mammalia & eriEur2 & His & FALSE & 0 & 5\\\\\n",
       "\t29 & Mammalia & felCat5 & His & FALSE & 0 & 9\\\\\n",
       "\t30 & Mammalia & gorGor3 & His & FALSE & 0 & 7\\\\\n",
       "\t31 & Mammalia & hetGla2 & His & FALSE & 0 & 6\\\\\n",
       "\t32 & Mammalia & hg19 & His & FALSE & 0 & 10\\\\\n",
       "\t33 & Mammalia & loxAfr3 & His & FALSE & 0 & 18\\\\\n",
       "\t34 & Mammalia & macEug2 & His & FALSE & 0 & 6\\\\\n",
       "\t35 & Mammalia & micMur1 & His & FALSE & 0 & 3\\\\\n",
       "\t36 & Mammalia & mm10 & His & FALSE & 0 & 10\\\\\n",
       "\t37 & Mammalia & monDom5 & His & FALSE & 0 & 9\\\\\n",
       "\t38 & Mammalia & musFur1 & His & FALSE & 0 & 6\\\\\n",
       "\t39 & Mammalia & nomLeu3 & His & FALSE & 0 & 10\\\\\n",
       "\t40 & Mammalia & ochPri3 & His & FALSE & 0 & 5\\\\\n",
       "\t41 & Mammalia & ornAna1 & His & FALSE & 0 & 6\\\\\n",
       "\t42 & Mammalia & oryCun2 & His & FALSE & 0 & 9\\\\\n",
       "\t43 & Mammalia & otoGar3 & His & FALSE & 0 & 8\\\\\n",
       "\t44 & Mammalia & oviAri3 & His & FALSE & 0 & 11\\\\\n",
       "\t45 & Mammalia & papAnu2 & His & FALSE & 0 & 10\\\\\n",
       "\t46 & Mammalia & ponAbe2 & His & FALSE & 0 & 10\\\\\n",
       "\t47 & Mammalia & proCap1 & His & FALSE & 0 & 7\\\\\n",
       "\t48 & Mammalia & pteVam1 & His & FALSE & 0 & 4\\\\\n",
       "\t49 & Mammalia & rheMac8 & His & FALSE & 0 & 12\\\\\n",
       "\t50 & Mammalia & rn6 & His & FALSE & 0 & 10\\\\\n",
       "\t51 & Mammalia & saiBol1 & His & FALSE & 0 & 7\\\\\n",
       "\t52 & Mammalia & sarHar1 & His & FALSE & 0 & 9\\\\\n",
       "\t53 & Mammalia & sorAra2 & His & FALSE & 0 & 7\\\\\n",
       "\t54 & Mammalia & speTri2 & His & FALSE & 0 & 6\\\\\n",
       "\t55 & Mammalia & susScr3 & His & FALSE & 0 & 9\\\\\n",
       "\t56 & Mammalia & tarSyr2 & His & FALSE & 0 & 6\\\\\n",
       "\t57 & Mammalia & triMan1 & His & FALSE & 0 & 9\\\\\n",
       "\t58 & Mammalia & turTru2 & His & FALSE & 0 & 8\\\\\n",
       "\t59 & Mammalia & vicPac2 & His & FALSE & 0 & 8\\\\\n",
       "\t60 & Vertebrata & anoCar2 & His & FALSE & 0 & 4\\\\\n",
       "\t61 & Vertebrata & calMil1 & His & FALSE & 0 & 13\\\\\n",
       "\t62 & Vertebrata & danRer10 & His & FALSE & 2 & 195\\\\\n",
       "\t63 & Vertebrata & fr3 & His & FALSE & 0 & 15\\\\\n",
       "\t64 & Vertebrata & gadMor1 & His & FALSE & 0 & 12\\\\\n",
       "\t65 & Vertebrata & galGal4 & His & FALSE & 0 & 5\\\\\n",
       "\t66 & Vertebrata & gasAcu1 & His & FALSE & 0 & 40\\\\\n",
       "\t67 & Vertebrata & geoFor1 & His & FALSE & 0 & 2\\\\\n",
       "\t68 & Vertebrata & latCha1 & His & FALSE & 0 & 4\\\\\n",
       "\t69 & Vertebrata & melGal1 & His & FALSE & 0 & 2\\\\\n",
       "\t70 & Vertebrata & melUnd1 & His & FALSE & 0 & 2\\\\\n",
       "\t71 & Vertebrata & oreNil2 & His & FALSE & 0 & 16\\\\\n",
       "\t72 & Vertebrata & oryLat2 & His & FALSE & 1 & 19\\\\\n",
       "\t73 & Vertebrata & taeGut2 & His & FALSE & 0 & 5\\\\\n",
       "\t74 & Vertebrata & tetNig2 & His & FALSE & 0 & 10\\\\\n",
       "\t75 & Vertebrata & xenTro3 & His & FALSE & 0 & 31\\\\\n",
       "\\end{tabular}\n"
      ],
      "text/plain": [
       "Source: local data frame [75 x 6]\n",
       "Groups: clade, species [75]\n",
       "\n",
       "     clade                            species isotype status  freq ntRNAs\n",
       "    <fctr>                             <fctr>  <fctr>  <lgl> <int>  <int>\n",
       "1    Fungi                     crypGatt_WM276     Gly  FALSE     0      2\n",
       "2    Fungi            crypNeof_VAR_GRUBII_H99     Gly  FALSE     0      2\n",
       "3    Fungi     crypNeof_VAR_NEOFORMANS_B_3501     Gly  FALSE     0      2\n",
       "4    Fungi      crypNeof_VAR_NEOFORMANS_JEC21     Gly  FALSE     0      2\n",
       "5  Insecta                                dm6     His  FALSE     0      5\n",
       "6  Insecta                                dp4     His  FALSE     0      5\n",
       "7  Insecta dp4_Unknown_group_638.trna1-GluCTC     Glu  FALSE     0      1\n",
       "8  Insecta dp4_Unknown_group_638.trna2-GluCTC     Glu  FALSE     0      1\n",
       "9  Insecta                            droAna3     His  FALSE     0      5\n",
       "10 Insecta                            droEre2     His  FALSE     0      6\n",
       "# ... with 65 more rows"
      ]
     },
     "execution_count": 11,
     "metadata": {},
     "output_type": "execute_result"
    }
   ],
   "source": [
    "## Clade/isotype check\n",
    "best_freqs %>% filter(positions == 'X9') %>% group_by(clade, isotype) %>%\n",
    "  summarize(status=sum((variable %in% c(\"G\", \"A\", \"Purine\"))*count)/sum(count) == 1) %>%\n",
    "  filter(!status)\n",
    "\n",
    "## Species check\n",
    "identities %>% select(clade, species, isotype, X9) %>% group_by(clade, species, isotype) %>%\n",
    "  summarize(status=sum(X9 %in% c(\"G\", \"A\", \"Purine\")/n()) >= 0.1,\n",
    "            freq=sum(X9 %in% c(\"G\", \"A\", \"Purine\")), ntRNAs=n()) %>%\n",
    "  filter(!status)"
   ]
  },
  {
   "cell_type": "markdown",
   "metadata": {},
   "source": [
    "#### What's new\n",
    "\n",
    "The 9:12:23 ratios are a bit different. But it shows the same thing: there is some selectivity for what base triples are allowed, but enough tolerance that there are a few interactions that persist.\n",
    "\n",
    "The default hypothesis is that the 9-23 interaction has a conserved interaction type that explains the frequencies shown. We can marginalize as such because 12:23 is always a WC pair. This is not the case - although some (R:R) have a a strong trans WC-Hoogsteen pair of hydrogen bonds, others (C:R) do not. The hoogsteen side of C is just two stable carbons unlikely to hydrogen bond.\n",
    "\n",
    "Examining the frequencies _without_ histidine shows that the C9:U23 is conserved in His, and A9:U23 is conserved in Asp, for some clades. (See tertiary interactions figure)."
   ]
  },
  {
   "cell_type": "code",
   "execution_count": 12,
   "metadata": {
    "collapsed": false
   },
   "outputs": [
    {
     "data": {
      "text/plain": [
       "   \n",
       "       -    A    C    G    U\n",
       "  -    0    0    1    0    0\n",
       "  A    0 6586 1737  276  511\n",
       "  C    0    7    9   59  147\n",
       "  G    1 1908 4415 7080  103\n",
       "  R    0    1    0    0    0\n",
       "  U    0   34    5   53    4"
      ]
     },
     "execution_count": 12,
     "metadata": {},
     "output_type": "execute_result"
    }
   ],
   "source": [
    "table(identities[identities$quality, ]$X9, identities[identities$quality, ]$X23)"
   ]
  },
  {
   "cell_type": "markdown",
   "metadata": {},
   "source": [
    "So here's what we know.\n",
    "- 12:23 is almost always WC paired, so we can marginalize it.\n",
    "- 9 is typically a purine, though there are isotype- and clade-specific exceptions. For example, His and Asp deviate in 4 clades.\n",
    "    - In the His case, C and U can interact via the 2-carbonyl [amino pairing](http://www.columbuslabs.org/wp-content/uploads/2008/03/basepairs.pdf).\n",
    "- 9:23 is thought to be a _trans_ interaction with two hydrogen bonds.\n",
    "\n",
    "**Conclusion 1**: Position 9 was thought to be a purine. Instead, it varies by isotype and clade. Much of the variation from R9 can be explained by looking at 9:23 as an clade/isotype discriminating tertiary interaction.\n",
    "\n",
    "We can leave it at that. But we should also look into compensatory interactions if 9:23 is disrupted.\n",
    "\n",
    "### Covariation for core D stem 3d pairs\n",
    "\n",
    "#### tRNA covariation frequencies for 9:23, 22:46, and 10:45"
   ]
  },
  {
   "cell_type": "code",
   "execution_count": 13,
   "metadata": {
    "collapsed": false
   },
   "outputs": [],
   "source": [
    "df = table(paste0(identities[identities$quality, ]$X9, ':', identities[identities$quality, ]$X23),\n",
    "           paste0(identities[identities$quality, ]$X46, ':', identities[identities$quality, ]$X22, ' / ', identities[identities$quality, ]$X45, ':', identities[identities$quality, ]$X10),\n",
    "           identities[identities$quality, ]$isotype)"
   ]
  },
  {
   "cell_type": "code",
   "execution_count": 14,
   "metadata": {
    "collapsed": false,
    "scrolled": true
   },
   "outputs": [
    {
     "data": {
      "text/html": [
       "<table>\n",
       "<thead><tr><th></th><th scope=col>Var1</th><th scope=col>Var2</th><th scope=col>Var3</th><th scope=col>Freq</th></tr></thead>\n",
       "<tbody>\n",
       "\t<tr><th scope=row>1</th><td>A:A</td><td>G:G / G:G</td><td>Ala</td><td>1382</td></tr>\n",
       "\t<tr><th scope=row>2</th><td>G:C</td><td>G:G / G:G</td><td>Ala</td><td>120</td></tr>\n",
       "\t<tr><th scope=row>3</th><td>G:A</td><td>G:U / G:G</td><td>Ala</td><td>51</td></tr>\n",
       "\t<tr><th scope=row>4</th><td>G:C</td><td>A:A / G:G</td><td>Arg</td><td>318</td></tr>\n",
       "\t<tr><th scope=row>5</th><td>G:G</td><td>A:A / G:G</td><td>Arg</td><td>954</td></tr>\n",
       "\t<tr><th scope=row>6</th><td>G:G</td><td>A:C / G:G</td><td>Arg</td><td>60</td></tr>\n",
       "\t<tr><th scope=row>7</th><td>G:C</td><td>G:G / G:G</td><td>Arg</td><td>449</td></tr>\n",
       "\t<tr><th scope=row>8</th><td>G:G</td><td>A:A / G:G</td><td>Asn</td><td>86</td></tr>\n",
       "\t<tr><th scope=row>9</th><td>A:A</td><td>G:G / G:G</td><td>Asn</td><td>108</td></tr>\n",
       "\t<tr><th scope=row>10</th><td>G:C</td><td>G:G / G:G</td><td>Asn</td><td>457</td></tr>\n",
       "\t<tr><th scope=row>11</th><td>A:A</td><td>A:G / G:G</td><td>Asp</td><td>51</td></tr>\n",
       "\t<tr><th scope=row>12</th><td>A:U</td><td>A:G / G:G</td><td>Asp</td><td>324</td></tr>\n",
       "\t<tr><th scope=row>13</th><td>A:A</td><td>G:G / G:G</td><td>Cys</td><td>871</td></tr>\n",
       "\t<tr><th scope=row>14</th><td>G:C</td><td>A:G / A:G</td><td>Gln</td><td>75</td></tr>\n",
       "\t<tr><th scope=row>15</th><td>G:C</td><td>A:G / G:G</td><td>Gln</td><td>573</td></tr>\n",
       "\t<tr><th scope=row>16</th><td>A:C</td><td>A:U / A:G</td><td>Gln</td><td>177</td></tr>\n",
       "\t<tr><th scope=row>17</th><td>A:G</td><td>A:G / G:G</td><td>Glu</td><td>58</td></tr>\n",
       "\t<tr><th scope=row>18</th><td>A:C</td><td>A:U / G:G</td><td>Glu</td><td>95</td></tr>\n",
       "\t<tr><th scope=row>19</th><td>G:G</td><td>G:G / G:G</td><td>Glu</td><td>696</td></tr>\n",
       "\t<tr><th scope=row>20</th><td>G:A</td><td>A:G / G:G</td><td>Gly</td><td>279</td></tr>\n",
       "\t<tr><th scope=row>21</th><td>G:C</td><td>A:G / G:G</td><td>Gly</td><td>246</td></tr>\n",
       "\t<tr><th scope=row>22</th><td>A:C</td><td>A:U / G:G</td><td>Gly</td><td>54</td></tr>\n",
       "\t<tr><th scope=row>23</th><td>G:C</td><td>A:U / G:G</td><td>Gly</td><td>90</td></tr>\n",
       "\t<tr><th scope=row>24</th><td>G:A</td><td>G:A / -:G</td><td>Gly</td><td>105</td></tr>\n",
       "\t<tr><th scope=row>25</th><td>G:A</td><td>G:G / G:G</td><td>Gly</td><td>313</td></tr>\n",
       "\t<tr><th scope=row>26</th><td>A:U</td><td>A:G / A:G</td><td>His</td><td>55</td></tr>\n",
       "\t<tr><th scope=row>27</th><td>C:U</td><td>A:G / A:G</td><td>His</td><td>144</td></tr>\n",
       "\t<tr><th scope=row>28</th><td>G:G</td><td>A:A / G:G</td><td>Ile</td><td>75</td></tr>\n",
       "\t<tr><th scope=row>29</th><td>A:A</td><td>G:G / G:G</td><td>Ile</td><td>493</td></tr>\n",
       "\t<tr><th scope=row>30</th><td>G:C</td><td>G:G / G:G</td><td>Ile</td><td>271</td></tr>\n",
       "\t<tr><th scope=row>31</th><td>G:C</td><td>G:G / G:G</td><td>iMet</td><td>219</td></tr>\n",
       "\t<tr><th scope=row>32</th><td>G:C</td><td>G:G / U:G</td><td>iMet</td><td>70</td></tr>\n",
       "\t<tr><th scope=row>33</th><td>G:G</td><td>A:A / -:G</td><td>Leu</td><td>68</td></tr>\n",
       "\t<tr><th scope=row>34</th><td>G:G</td><td>G:A / -:G</td><td>Leu</td><td>1690</td></tr>\n",
       "\t<tr><th scope=row>35</th><td>A:A</td><td>G:G / G:G</td><td>Lys</td><td>1117</td></tr>\n",
       "\t<tr><th scope=row>36</th><td>G:A</td><td>G:G / G:G</td><td>Lys</td><td>87</td></tr>\n",
       "\t<tr><th scope=row>37</th><td>A:A</td><td>G:G / U:G</td><td>Lys</td><td>104</td></tr>\n",
       "\t<tr><th scope=row>38</th><td>A:A</td><td>G:G / G:G</td><td>Met</td><td>56</td></tr>\n",
       "\t<tr><th scope=row>39</th><td>A:C</td><td>G:G / G:G</td><td>Met</td><td>319</td></tr>\n",
       "\t<tr><th scope=row>40</th><td>G:C</td><td>G:G / G:G</td><td>Met</td><td>166</td></tr>\n",
       "\t<tr><th scope=row>41</th><td>A:A</td><td>G:G / G:G</td><td>Phe</td><td>559</td></tr>\n",
       "\t<tr><th scope=row>42</th><td>G:G</td><td>G:U / G:G</td><td>Pro</td><td>804</td></tr>\n",
       "\t<tr><th scope=row>43</th><td>G:G</td><td>G:A / -:G</td><td>Ser</td><td>1244</td></tr>\n",
       "\t<tr><th scope=row>44</th><td>G:G</td><td>G:A / G:G</td><td>Ser</td><td>123</td></tr>\n",
       "\t<tr><th scope=row>45</th><td>G:G</td><td>G:A / -:U</td><td>Ser</td><td>169</td></tr>\n",
       "\t<tr><th scope=row>46</th><td>G:C</td><td>G:U / -:C</td><td>Ser</td><td>55</td></tr>\n",
       "\t<tr><th scope=row>47</th><td>G:A</td><td>A:A / G:G</td><td>Thr</td><td>617</td></tr>\n",
       "\t<tr><th scope=row>48</th><td>G:G</td><td>A:A / G:G</td><td>Thr</td><td>240</td></tr>\n",
       "\t<tr><th scope=row>49</th><td>A:A</td><td>G:G / G:G</td><td>Thr</td><td>604</td></tr>\n",
       "\t<tr><th scope=row>50</th><td>G:A</td><td>G:G / G:G</td><td>Thr</td><td>73</td></tr>\n",
       "\t<tr><th scope=row>51</th><td>G:A</td><td>G:G / G:G</td><td>Trp</td><td>68</td></tr>\n",
       "\t<tr><th scope=row>52</th><td>G:C</td><td>G:G / G:G</td><td>Trp</td><td>439</td></tr>\n",
       "\t<tr><th scope=row>53</th><td>A:A</td><td>G:G / G:G</td><td>Tyr</td><td>633</td></tr>\n",
       "\t<tr><th scope=row>54</th><td>A:C</td><td>G:G / G:G</td><td>Val</td><td>65</td></tr>\n",
       "\t<tr><th scope=row>55</th><td>G:G</td><td>G:U / C:G</td><td>Val</td><td>82</td></tr>\n",
       "\t<tr><th scope=row>56</th><td>A:C</td><td>G:U / G:G</td><td>Val</td><td>781</td></tr>\n",
       "\t<tr><th scope=row>57</th><td>G:C</td><td>G:U / G:G</td><td>Val</td><td>353</td></tr>\n",
       "\t<tr><th scope=row>58</th><td>G:G</td><td>G:U / G:G</td><td>Val</td><td>51</td></tr>\n",
       "</tbody>\n",
       "</table>\n"
      ],
      "text/latex": [
       "\\begin{tabular}{r|llll}\n",
       "  & Var1 & Var2 & Var3 & Freq\\\\\n",
       "\\hline\n",
       "\t1 & A:A & G:G / G:G & Ala & 1382\\\\\n",
       "\t2 & G:C & G:G / G:G & Ala & 120\\\\\n",
       "\t3 & G:A & G:U / G:G & Ala & 51\\\\\n",
       "\t4 & G:C & A:A / G:G & Arg & 318\\\\\n",
       "\t5 & G:G & A:A / G:G & Arg & 954\\\\\n",
       "\t6 & G:G & A:C / G:G & Arg & 60\\\\\n",
       "\t7 & G:C & G:G / G:G & Arg & 449\\\\\n",
       "\t8 & G:G & A:A / G:G & Asn & 86\\\\\n",
       "\t9 & A:A & G:G / G:G & Asn & 108\\\\\n",
       "\t10 & G:C & G:G / G:G & Asn & 457\\\\\n",
       "\t11 & A:A & A:G / G:G & Asp & 51\\\\\n",
       "\t12 & A:U & A:G / G:G & Asp & 324\\\\\n",
       "\t13 & A:A & G:G / G:G & Cys & 871\\\\\n",
       "\t14 & G:C & A:G / A:G & Gln & 75\\\\\n",
       "\t15 & G:C & A:G / G:G & Gln & 573\\\\\n",
       "\t16 & A:C & A:U / A:G & Gln & 177\\\\\n",
       "\t17 & A:G & A:G / G:G & Glu & 58\\\\\n",
       "\t18 & A:C & A:U / G:G & Glu & 95\\\\\n",
       "\t19 & G:G & G:G / G:G & Glu & 696\\\\\n",
       "\t20 & G:A & A:G / G:G & Gly & 279\\\\\n",
       "\t21 & G:C & A:G / G:G & Gly & 246\\\\\n",
       "\t22 & A:C & A:U / G:G & Gly & 54\\\\\n",
       "\t23 & G:C & A:U / G:G & Gly & 90\\\\\n",
       "\t24 & G:A & G:A / -:G & Gly & 105\\\\\n",
       "\t25 & G:A & G:G / G:G & Gly & 313\\\\\n",
       "\t26 & A:U & A:G / A:G & His & 55\\\\\n",
       "\t27 & C:U & A:G / A:G & His & 144\\\\\n",
       "\t28 & G:G & A:A / G:G & Ile & 75\\\\\n",
       "\t29 & A:A & G:G / G:G & Ile & 493\\\\\n",
       "\t30 & G:C & G:G / G:G & Ile & 271\\\\\n",
       "\t31 & G:C & G:G / G:G & iMet & 219\\\\\n",
       "\t32 & G:C & G:G / U:G & iMet & 70\\\\\n",
       "\t33 & G:G & A:A / -:G & Leu & 68\\\\\n",
       "\t34 & G:G & G:A / -:G & Leu & 1690\\\\\n",
       "\t35 & A:A & G:G / G:G & Lys & 1117\\\\\n",
       "\t36 & G:A & G:G / G:G & Lys & 87\\\\\n",
       "\t37 & A:A & G:G / U:G & Lys & 104\\\\\n",
       "\t38 & A:A & G:G / G:G & Met & 56\\\\\n",
       "\t39 & A:C & G:G / G:G & Met & 319\\\\\n",
       "\t40 & G:C & G:G / G:G & Met & 166\\\\\n",
       "\t41 & A:A & G:G / G:G & Phe & 559\\\\\n",
       "\t42 & G:G & G:U / G:G & Pro & 804\\\\\n",
       "\t43 & G:G & G:A / -:G & Ser & 1244\\\\\n",
       "\t44 & G:G & G:A / G:G & Ser & 123\\\\\n",
       "\t45 & G:G & G:A / -:U & Ser & 169\\\\\n",
       "\t46 & G:C & G:U / -:C & Ser & 55\\\\\n",
       "\t47 & G:A & A:A / G:G & Thr & 617\\\\\n",
       "\t48 & G:G & A:A / G:G & Thr & 240\\\\\n",
       "\t49 & A:A & G:G / G:G & Thr & 604\\\\\n",
       "\t50 & G:A & G:G / G:G & Thr & 73\\\\\n",
       "\t51 & G:A & G:G / G:G & Trp & 68\\\\\n",
       "\t52 & G:C & G:G / G:G & Trp & 439\\\\\n",
       "\t53 & A:A & G:G / G:G & Tyr & 633\\\\\n",
       "\t54 & A:C & G:G / G:G & Val & 65\\\\\n",
       "\t55 & G:G & G:U / C:G & Val & 82\\\\\n",
       "\t56 & A:C & G:U / G:G & Val & 781\\\\\n",
       "\t57 & G:C & G:U / G:G & Val & 353\\\\\n",
       "\t58 & G:G & G:U / G:G & Val & 51\\\\\n",
       "\\end{tabular}\n"
      ],
      "text/plain": [
       "Source: local data frame [58 x 4]\n",
       "Groups: Var3 [21]\n",
       "\n",
       "     Var1      Var2   Var3  Freq\n",
       "   <fctr>    <fctr> <fctr> <int>\n",
       "1     A:A G:G / G:G    Ala  1382\n",
       "2     G:C G:G / G:G    Ala   120\n",
       "3     G:A G:U / G:G    Ala    51\n",
       "4     G:C A:A / G:G    Arg   318\n",
       "5     G:G A:A / G:G    Arg   954\n",
       "6     G:G A:C / G:G    Arg    60\n",
       "7     G:C G:G / G:G    Arg   449\n",
       "8     G:G A:A / G:G    Asn    86\n",
       "9     A:A G:G / G:G    Asn   108\n",
       "10    G:C G:G / G:G    Asn   457\n",
       "# ... with 48 more rows"
      ]
     },
     "execution_count": 14,
     "metadata": {},
     "output_type": "execute_result"
    }
   ],
   "source": [
    "as.data.frame(df) %>% group_by(Var3) %>% filter(Freq > 50)"
   ]
  },
  {
   "cell_type": "markdown",
   "metadata": {},
   "source": [
    "This is messy. For each isotype there may be a different tertiary interaction compensating for the lack of A:A. It seems that purine:purine interactions are unusually enriched among all three of these except in valine. \n",
    "\n",
    "![classical interaction structure](figures/3d-interactions-oliva.png)\n",
    "\n",
    "#### Average number of purine:purine interactions by isotype and clade"
   ]
  },
  {
   "cell_type": "code",
   "execution_count": 15,
   "metadata": {
    "collapsed": false
   },
   "outputs": [
    {
     "name": "stderr",
     "output_type": "stream",
     "text": [
      "Warning message:\n",
      ": Grouping rowwise data frame strips rowwise nature"
     ]
    },
    {
     "data": {
      "text/html": [
       "<table>\n",
       "<thead><tr><th></th><th scope=col>clade</th><th scope=col>Ala</th><th scope=col>Arg</th><th scope=col>Asn</th><th scope=col>Asp</th><th scope=col>Cys</th><th scope=col>Gln</th><th scope=col>Glu</th><th scope=col>Gly</th><th scope=col>His</th><th scope=col>Ile</th><th scope=col>iMet</th><th scope=col>Leu</th><th scope=col>Lys</th><th scope=col>Met</th><th scope=col>Phe</th><th scope=col>Pro</th><th scope=col>Ser</th><th scope=col>Thr</th><th scope=col>Trp</th><th scope=col>Tyr</th><th scope=col>Val</th></tr></thead>\n",
       "<tbody>\n",
       "\t<tr><th scope=row>1</th><td>Fungi</td><td>2.9</td><td>3.23</td><td>3.56</td><td>3.18</td><td>3.02</td><td>1.35</td><td>1.88</td><td>1.99</td><td>2.87</td><td>3.45</td><td>2.32</td><td>1.97</td><td>3.44</td><td>3.88</td><td>3.88</td><td>2.02</td><td>1.84</td><td>3.86</td><td>3.02</td><td>3.69</td><td>2.33</td></tr>\n",
       "\t<tr><th scope=row>2</th><td>Insecta</td><td>4</td><td>3.62</td><td>3</td><td>2</td><td>4</td><td>2</td><td>3.29</td><td>2.5</td><td>2.07</td><td>3.57</td><td>3</td><td>2</td><td>4</td><td>3</td><td>3.94</td><td>2.05</td><td>1.99</td><td>3.97</td><td>2.96</td><td>4</td><td>1.99</td></tr>\n",
       "\t<tr><th scope=row>3</th><td>Mammalia</td><td>3.95</td><td>3.54</td><td>2.95</td><td>2.11</td><td>3.97</td><td>1.97</td><td>2.96</td><td>2.64</td><td>2.04</td><td>3.49</td><td>3</td><td>2</td><td>3.92</td><td>2.99</td><td>3.92</td><td>2</td><td>2.05</td><td>3.99</td><td>2.98</td><td>3.99</td><td>2.17</td></tr>\n",
       "\t<tr><th scope=row>4</th><td>Nematoda</td><td>3.98</td><td>3.59</td><td>2.95</td><td>2</td><td>4</td><td>1.94</td><td>2.75</td><td>2.48</td><td>1.95</td><td>3.52</td><td>3</td><td>1.98</td><td>2.59</td><td>2.94</td><td>3.88</td><td>2.02</td><td>1.99</td><td>3.97</td><td>2.82</td><td>3.96</td><td>2</td></tr>\n",
       "\t<tr><th scope=row>5</th><td>Spermatophyta</td><td>4</td><td>3.51</td><td>3.79</td><td>2.05</td><td>3.84</td><td>2.58</td><td>3.55</td><td>3.04</td><td>3</td><td>4</td><td>3</td><td>2</td><td>3.03</td><td>3.11</td><td>4</td><td>2</td><td>1.12</td><td>3.68</td><td>3</td><td>4</td><td>2</td></tr>\n",
       "\t<tr><th scope=row>6</th><td>Streptophyta</td><td>3.98</td><td>3.45</td><td>3.73</td><td>1.97</td><td>3.6</td><td>2.35</td><td>3.39</td><td>3.25</td><td>3</td><td>3.99</td><td>3</td><td>2</td><td>3</td><td>2.97</td><td>3.97</td><td>2.06</td><td>1.27</td><td>3.73</td><td>3</td><td>3.78</td><td>2</td></tr>\n",
       "\t<tr><th scope=row>7</th><td>Vertebrata</td><td>3.96</td><td>3.45</td><td>2.93</td><td>2</td><td>3.92</td><td>1.98</td><td>2.96</td><td>2.34</td><td>1.99</td><td>3.63</td><td>2.99</td><td>1.97</td><td>3.94</td><td>2.96</td><td>3.72</td><td>1.99</td><td>2.06</td><td>3.95</td><td>2.99</td><td>3.93</td><td>1.97</td></tr>\n",
       "</tbody>\n",
       "</table>\n"
      ],
      "text/latex": [
       "\\begin{tabular}{r|llllllllllllllllllllll}\n",
       "  & clade & Ala & Arg & Asn & Asp & Cys & Gln & Glu & Gly & His & Ile & iMet & Leu & Lys & Met & Phe & Pro & Ser & Thr & Trp & Tyr & Val\\\\\n",
       "\\hline\n",
       "\t1 & Fungi & 2.9 & 3.23 & 3.56 & 3.18 & 3.02 & 1.35 & 1.88 & 1.99 & 2.87 & 3.45 & 2.32 & 1.97 & 3.44 & 3.88 & 3.88 & 2.02 & 1.84 & 3.86 & 3.02 & 3.69 & 2.33\\\\\n",
       "\t2 & Insecta & 4 & 3.62 & 3 & 2 & 4 & 2 & 3.29 & 2.5 & 2.07 & 3.57 & 3 & 2 & 4 & 3 & 3.94 & 2.05 & 1.99 & 3.97 & 2.96 & 4 & 1.99\\\\\n",
       "\t3 & Mammalia & 3.95 & 3.54 & 2.95 & 2.11 & 3.97 & 1.97 & 2.96 & 2.64 & 2.04 & 3.49 & 3 & 2 & 3.92 & 2.99 & 3.92 & 2 & 2.05 & 3.99 & 2.98 & 3.99 & 2.17\\\\\n",
       "\t4 & Nematoda & 3.98 & 3.59 & 2.95 & 2 & 4 & 1.94 & 2.75 & 2.48 & 1.95 & 3.52 & 3 & 1.98 & 2.59 & 2.94 & 3.88 & 2.02 & 1.99 & 3.97 & 2.82 & 3.96 & 2\\\\\n",
       "\t5 & Spermatophyta & 4 & 3.51 & 3.79 & 2.05 & 3.84 & 2.58 & 3.55 & 3.04 & 3 & 4 & 3 & 2 & 3.03 & 3.11 & 4 & 2 & 1.12 & 3.68 & 3 & 4 & 2\\\\\n",
       "\t6 & Streptophyta & 3.98 & 3.45 & 3.73 & 1.97 & 3.6 & 2.35 & 3.39 & 3.25 & 3 & 3.99 & 3 & 2 & 3 & 2.97 & 3.97 & 2.06 & 1.27 & 3.73 & 3 & 3.78 & 2\\\\\n",
       "\t7 & Vertebrata & 3.96 & 3.45 & 2.93 & 2 & 3.92 & 1.98 & 2.96 & 2.34 & 1.99 & 3.63 & 2.99 & 1.97 & 3.94 & 2.96 & 3.72 & 1.99 & 2.06 & 3.95 & 2.99 & 3.93 & 1.97\\\\\n",
       "\\end{tabular}\n"
      ],
      "text/plain": [
       "# A tibble: 7 × 22\n",
       "          clade   Ala   Arg   Asn   Asp   Cys   Gln   Glu   Gly   His   Ile\n",
       "*        <fctr> <dbl> <dbl> <dbl> <dbl> <dbl> <dbl> <dbl> <dbl> <dbl> <dbl>\n",
       "1         Fungi  2.90  3.23  3.56  3.18  3.02  1.35  1.88  1.99  2.87  3.45\n",
       "2       Insecta  4.00  3.62  3.00  2.00  4.00  2.00  3.29  2.50  2.07  3.57\n",
       "3      Mammalia  3.95  3.54  2.95  2.11  3.97  1.97  2.96  2.64  2.04  3.49\n",
       "4      Nematoda  3.98  3.59  2.95  2.00  4.00  1.94  2.75  2.48  1.95  3.52\n",
       "5 Spermatophyta  4.00  3.51  3.79  2.05  3.84  2.58  3.55  3.04  3.00  4.00\n",
       "6  Streptophyta  3.98  3.45  3.73  1.97  3.60  2.35  3.39  3.25  3.00  3.99\n",
       "7    Vertebrata  3.96  3.45  2.93  2.00  3.92  1.98  2.96  2.34  1.99  3.63\n",
       "# ... with 11 more variables: iMet <dbl>, Leu <dbl>, Lys <dbl>, Met <dbl>,\n",
       "#   Phe <dbl>, Pro <dbl>, Ser <dbl>, Thr <dbl>, Trp <dbl>, Tyr <dbl>, Val <dbl>"
      ]
     },
     "execution_count": 15,
     "metadata": {},
     "output_type": "execute_result"
    }
   ],
   "source": [
    "RRs = c(\"A:A\", \"A:G\", \"G:G\", \"G:A\")\n",
    "identities %>% select(isotype, clade, quality, X9.23, X22.46, X10.45, X26.44) %>% \n",
    "  filter(quality) %>%\n",
    "  rowwise() %>% \n",
    "  mutate(nRR=(X9.23 %in% RRs) + (X22.46 %in% RRs) + (X10.45 %in% RRs) + (X26.44 %in% RRs)) %>%\n",
    "  group_by(isotype, clade) %>% \n",
    "  summarize(nRR=signif(mean(nRR), 3)) %>%\n",
    "  spread(isotype, nRR)"
   ]
  },
  {
   "cell_type": "markdown",
   "metadata": {},
   "source": [
    "#### Average number of purine:purine interactions by position/isotype"
   ]
  },
  {
   "cell_type": "code",
   "execution_count": 16,
   "metadata": {
    "collapsed": false
   },
   "outputs": [
    {
     "data": {
      "text/html": [
       "<table>\n",
       "<thead><tr><th></th><th scope=col>position</th><th scope=col>Ala</th><th scope=col>Arg</th><th scope=col>Asn</th><th scope=col>Asp</th><th scope=col>Cys</th><th scope=col>Gln</th><th scope=col>Glu</th><th scope=col>Gly</th><th scope=col>His</th><th scope=col>Ile</th><th scope=col>iMet</th><th scope=col>Leu</th><th scope=col>Lys</th><th scope=col>Met</th><th scope=col>Phe</th><th scope=col>Pro</th><th scope=col>Ser</th><th scope=col>Thr</th><th scope=col>Trp</th><th scope=col>Tyr</th><th scope=col>Val</th></tr></thead>\n",
       "<tbody>\n",
       "\t<tr><th scope=row>1</th><td>X10.45</td><td>1</td><td>1</td><td>1</td><td>1</td><td>1</td><td>1</td><td>0.9</td><td>0.9</td><td>1</td><td>1</td><td>0.8</td><td>0</td><td>0.9</td><td>1</td><td>0.9</td><td>1</td><td>0.1</td><td>1</td><td>1</td><td>1</td><td>0.9</td></tr>\n",
       "\t<tr><th scope=row>2</th><td>X22.46</td><td>0.9</td><td>1</td><td>1</td><td>1</td><td>1</td><td>0.8</td><td>0.9</td><td>0.9</td><td>0.9</td><td>1</td><td>1</td><td>1</td><td>1</td><td>1</td><td>1</td><td>0</td><td>0.9</td><td>1</td><td>1</td><td>1</td><td>0.1</td></tr>\n",
       "\t<tr><th scope=row>3</th><td>X26.44</td><td>1</td><td>1</td><td>0.9</td><td>0.2</td><td>0.9</td><td>0</td><td>0.2</td><td>0.1</td><td>0.2</td><td>0.9</td><td>1</td><td>0</td><td>0.9</td><td>1</td><td>1</td><td>0</td><td>0</td><td>1</td><td>0.8</td><td>1</td><td>1</td></tr>\n",
       "\t<tr><th scope=row>4</th><td>X9.23</td><td>0.9</td><td>0.6</td><td>0.3</td><td>0.2</td><td>0.9</td><td>0.1</td><td>0.8</td><td>0.6</td><td>0.2</td><td>0.7</td><td>0</td><td>1</td><td>1</td><td>0.2</td><td>1</td><td>1</td><td>0.9</td><td>1</td><td>0.2</td><td>1</td><td>0.1</td></tr>\n",
       "</tbody>\n",
       "</table>\n"
      ],
      "text/latex": [
       "\\begin{tabular}{r|llllllllllllllllllllll}\n",
       "  & position & Ala & Arg & Asn & Asp & Cys & Gln & Glu & Gly & His & Ile & iMet & Leu & Lys & Met & Phe & Pro & Ser & Thr & Trp & Tyr & Val\\\\\n",
       "\\hline\n",
       "\t1 & X10.45 & 1 & 1 & 1 & 1 & 1 & 1 & 0.9 & 0.9 & 1 & 1 & 0.8 & 0 & 0.9 & 1 & 0.9 & 1 & 0.1 & 1 & 1 & 1 & 0.9\\\\\n",
       "\t2 & X22.46 & 0.9 & 1 & 1 & 1 & 1 & 0.8 & 0.9 & 0.9 & 0.9 & 1 & 1 & 1 & 1 & 1 & 1 & 0 & 0.9 & 1 & 1 & 1 & 0.1\\\\\n",
       "\t3 & X26.44 & 1 & 1 & 0.9 & 0.2 & 0.9 & 0 & 0.2 & 0.1 & 0.2 & 0.9 & 1 & 0 & 0.9 & 1 & 1 & 0 & 0 & 1 & 0.8 & 1 & 1\\\\\n",
       "\t4 & X9.23 & 0.9 & 0.6 & 0.3 & 0.2 & 0.9 & 0.1 & 0.8 & 0.6 & 0.2 & 0.7 & 0 & 1 & 1 & 0.2 & 1 & 1 & 0.9 & 1 & 0.2 & 1 & 0.1\\\\\n",
       "\\end{tabular}\n"
      ],
      "text/plain": [
       "# A tibble: 4 × 22\n",
       "  position   Ala   Arg   Asn   Asp   Cys   Gln   Glu   Gly   His   Ile  iMet\n",
       "*    <chr> <dbl> <dbl> <dbl> <dbl> <dbl> <dbl> <dbl> <dbl> <dbl> <dbl> <dbl>\n",
       "1   X10.45   1.0   1.0   1.0   1.0   1.0   1.0   0.9   0.9   1.0   1.0   0.8\n",
       "2   X22.46   0.9   1.0   1.0   1.0   1.0   0.8   0.9   0.9   0.9   1.0   1.0\n",
       "3   X26.44   1.0   1.0   0.9   0.2   0.9   0.0   0.2   0.1   0.2   0.9   1.0\n",
       "4    X9.23   0.9   0.6   0.3   0.2   0.9   0.1   0.8   0.6   0.2   0.7   0.0\n",
       "# ... with 10 more variables: Leu <dbl>, Lys <dbl>, Met <dbl>, Phe <dbl>,\n",
       "#   Pro <dbl>, Ser <dbl>, Thr <dbl>, Trp <dbl>, Tyr <dbl>, Val <dbl>"
      ]
     },
     "execution_count": 16,
     "metadata": {},
     "output_type": "execute_result"
    }
   ],
   "source": [
    "RRs = c(\"A:A\", \"A:G\", \"G:G\", \"G:A\")\n",
    "identities %>% select(isotype, quality, X9.23, X22.46, X10.45, X26.44) %>% \n",
    "  filter(quality) %>%\n",
    "  rowwise() %>% \n",
    "  mutate(X9.23=X9.23 %in% RRs, X22.46=X22.46 %in% RRs, X10.45=X10.45 %in% RRs, X26.44=X26.44 %in% RRs) %>%\n",
    "  gather(position, RR, X9.23, X22.46, X10.45, X26.44, -isotype, -quality) %>%\n",
    "  group_by(isotype, position) %>%\n",
    "  summarize(RR=round(mean(RR), digits=1)) %>%\n",
    "  spread(isotype, RR)"
   ]
  },
  {
   "cell_type": "markdown",
   "metadata": {},
   "source": [
    "#### Average number of interactions containing a purine by position/isotype"
   ]
  },
  {
   "cell_type": "code",
   "execution_count": 17,
   "metadata": {
    "collapsed": false
   },
   "outputs": [
    {
     "data": {
      "text/html": [
       "<table>\n",
       "<thead><tr><th></th><th scope=col>position</th><th scope=col>Ala</th><th scope=col>Arg</th><th scope=col>Asn</th><th scope=col>Asp</th><th scope=col>Cys</th><th scope=col>Gln</th><th scope=col>Glu</th><th scope=col>Gly</th><th scope=col>His</th><th scope=col>Ile</th><th scope=col>iMet</th><th scope=col>Leu</th><th scope=col>Lys</th><th scope=col>Met</th><th scope=col>Phe</th><th scope=col>Pro</th><th scope=col>Ser</th><th scope=col>Thr</th><th scope=col>Trp</th><th scope=col>Tyr</th><th scope=col>Val</th></tr></thead>\n",
       "<tbody>\n",
       "\t<tr><th scope=row>1</th><td>X10.45</td><td>1</td><td>1</td><td>1</td><td>1</td><td>1</td><td>1</td><td>1</td><td>0.9</td><td>1</td><td>1</td><td>1</td><td>0</td><td>1</td><td>1</td><td>1</td><td>1</td><td>0.1</td><td>1</td><td>1</td><td>1</td><td>1</td></tr>\n",
       "\t<tr><th scope=row>2</th><td>X22.46</td><td>1</td><td>1</td><td>1</td><td>1</td><td>1</td><td>1</td><td>1</td><td>1</td><td>1</td><td>1</td><td>1</td><td>1</td><td>1</td><td>1</td><td>1</td><td>1</td><td>1</td><td>1</td><td>1</td><td>1</td><td>1</td></tr>\n",
       "\t<tr><th scope=row>3</th><td>X26.44</td><td>1</td><td>1</td><td>1</td><td>0.9</td><td>1</td><td>0.1</td><td>0.4</td><td>1</td><td>0.4</td><td>0.9</td><td>1</td><td>1</td><td>1</td><td>1</td><td>1</td><td>1</td><td>1</td><td>1</td><td>1</td><td>1</td><td>1</td></tr>\n",
       "\t<tr><th scope=row>4</th><td>X9.23</td><td>1</td><td>1</td><td>1</td><td>1</td><td>1</td><td>1</td><td>1</td><td>1</td><td>0.5</td><td>1</td><td>1</td><td>1</td><td>1</td><td>1</td><td>1</td><td>1</td><td>1</td><td>1</td><td>1</td><td>1</td><td>1</td></tr>\n",
       "</tbody>\n",
       "</table>\n"
      ],
      "text/latex": [
       "\\begin{tabular}{r|llllllllllllllllllllll}\n",
       "  & position & Ala & Arg & Asn & Asp & Cys & Gln & Glu & Gly & His & Ile & iMet & Leu & Lys & Met & Phe & Pro & Ser & Thr & Trp & Tyr & Val\\\\\n",
       "\\hline\n",
       "\t1 & X10.45 & 1 & 1 & 1 & 1 & 1 & 1 & 1 & 0.9 & 1 & 1 & 1 & 0 & 1 & 1 & 1 & 1 & 0.1 & 1 & 1 & 1 & 1\\\\\n",
       "\t2 & X22.46 & 1 & 1 & 1 & 1 & 1 & 1 & 1 & 1 & 1 & 1 & 1 & 1 & 1 & 1 & 1 & 1 & 1 & 1 & 1 & 1 & 1\\\\\n",
       "\t3 & X26.44 & 1 & 1 & 1 & 0.9 & 1 & 0.1 & 0.4 & 1 & 0.4 & 0.9 & 1 & 1 & 1 & 1 & 1 & 1 & 1 & 1 & 1 & 1 & 1\\\\\n",
       "\t4 & X9.23 & 1 & 1 & 1 & 1 & 1 & 1 & 1 & 1 & 0.5 & 1 & 1 & 1 & 1 & 1 & 1 & 1 & 1 & 1 & 1 & 1 & 1\\\\\n",
       "\\end{tabular}\n"
      ],
      "text/plain": [
       "# A tibble: 4 × 22\n",
       "  position   Ala   Arg   Asn   Asp   Cys   Gln   Glu   Gly   His   Ile  iMet\n",
       "*    <chr> <dbl> <dbl> <dbl> <dbl> <dbl> <dbl> <dbl> <dbl> <dbl> <dbl> <dbl>\n",
       "1   X10.45     1     1     1   1.0     1   1.0   1.0   0.9   1.0   1.0     1\n",
       "2   X22.46     1     1     1   1.0     1   1.0   1.0   1.0   1.0   1.0     1\n",
       "3   X26.44     1     1     1   0.9     1   0.1   0.4   1.0   0.4   0.9     1\n",
       "4    X9.23     1     1     1   1.0     1   1.0   1.0   1.0   0.5   1.0     1\n",
       "# ... with 10 more variables: Leu <dbl>, Lys <dbl>, Met <dbl>, Phe <dbl>,\n",
       "#   Pro <dbl>, Ser <dbl>, Thr <dbl>, Trp <dbl>, Tyr <dbl>, Val <dbl>"
      ]
     },
     "execution_count": 17,
     "metadata": {},
     "output_type": "execute_result"
    }
   ],
   "source": [
    "RRs = c(\"A:A\", \"A:G\", \"G:G\", \"G:A\", \"G:C\", \"C:G\", \"A:C\", \"C:A\", \"U:G\", \"G:U\", \"A:U\", \"U:A\")\n",
    "identities %>% select(isotype, quality, X9.23, X22.46, X10.45, X26.44) %>% \n",
    "  filter(quality) %>%\n",
    "  rowwise() %>% \n",
    "  mutate(X9.23=X9.23 %in% RRs, X22.46=X22.46 %in% RRs, X10.45=X10.45 %in% RRs, X26.44=X26.44 %in% RRs) %>%\n",
    "  gather(position, RR, X9.23, X22.46, X10.45, X26.44, -isotype, -quality) %>%\n",
    "  group_by(isotype, position) %>%\n",
    "  summarize(RR=round(mean(RR), digits=1)) %>%\n",
    "  spread(isotype, RR)"
   ]
  },
  {
   "cell_type": "markdown",
   "metadata": {},
   "source": [
    "#### Are non-purine-containing interactions enriched for some other type of interaction?"
   ]
  },
  {
   "cell_type": "code",
   "execution_count": 18,
   "metadata": {
    "collapsed": false
   },
   "outputs": [
    {
     "name": "stderr",
     "output_type": "stream",
     "text": [
      "Warning message:\n",
      ": attributes are not identical across measure variables; they will be dropped"
     ]
    },
    {
     "data": {
      "text/html": [
       "<table>\n",
       "<thead><tr><th></th><th scope=col>position</th><th scope=col>isotype</th><th scope=col>C:-</th><th scope=col>C:U</th><th scope=col>U:-</th><th scope=col>U:C</th><th scope=col>U:U</th></tr></thead>\n",
       "<tbody>\n",
       "\t<tr><th scope=row>1</th><td>X10.45</td><td>Leu</td><td>48</td><td>0</td><td>0</td><td>0</td><td>0</td></tr>\n",
       "\t<tr><th scope=row>2</th><td>X10.45</td><td>Ser</td><td>93</td><td>0</td><td>173</td><td>0</td><td>0</td></tr>\n",
       "\t<tr><th scope=row>3</th><td>X26.44</td><td>Asp</td><td>0</td><td>0</td><td>0</td><td>0</td><td>43</td></tr>\n",
       "\t<tr><th scope=row>4</th><td>X26.44</td><td>Gln</td><td>0</td><td>31</td><td>0</td><td>742</td><td>123</td></tr>\n",
       "\t<tr><th scope=row>5</th><td>X26.44</td><td>Glu</td><td>0</td><td>0</td><td>0</td><td>561</td><td>102</td></tr>\n",
       "\t<tr><th scope=row>6</th><td>X26.44</td><td>Gly</td><td>0</td><td>0</td><td>0</td><td>0</td><td>26</td></tr>\n",
       "\t<tr><th scope=row>7</th><td>X26.44</td><td>His</td><td>0</td><td>0</td><td>0</td><td>175</td><td>0</td></tr>\n",
       "\t<tr><th scope=row>8</th><td>X26.44</td><td>Ile</td><td>0</td><td>0</td><td>0</td><td>46</td><td>0</td></tr>\n",
       "\t<tr><th scope=row>9</th><td>X9.23</td><td>His</td><td>0</td><td>147</td><td>0</td><td>0</td><td>0</td></tr>\n",
       "</tbody>\n",
       "</table>\n"
      ],
      "text/latex": [
       "\\begin{tabular}{r|lllllll}\n",
       "  & position & isotype & C:- & C:U & U:- & U:C & U:U\\\\\n",
       "\\hline\n",
       "\t1 & X10.45 & Leu & 48 & 0 & 0 & 0 & 0\\\\\n",
       "\t2 & X10.45 & Ser & 93 & 0 & 173 & 0 & 0\\\\\n",
       "\t3 & X26.44 & Asp & 0 & 0 & 0 & 0 & 43\\\\\n",
       "\t4 & X26.44 & Gln & 0 & 31 & 0 & 742 & 123\\\\\n",
       "\t5 & X26.44 & Glu & 0 & 0 & 0 & 561 & 102\\\\\n",
       "\t6 & X26.44 & Gly & 0 & 0 & 0 & 0 & 26\\\\\n",
       "\t7 & X26.44 & His & 0 & 0 & 0 & 175 & 0\\\\\n",
       "\t8 & X26.44 & Ile & 0 & 0 & 0 & 46 & 0\\\\\n",
       "\t9 & X9.23 & His & 0 & 147 & 0 & 0 & 0\\\\\n",
       "\\end{tabular}\n"
      ],
      "text/plain": [
       "Source: local data frame [9 x 7]\n",
       "Groups: position, isotype [9]\n",
       "\n",
       "  position isotype `C:-` `C:U` `U:-` `U:C` `U:U`\n",
       "*    <chr>  <fctr> <dbl> <dbl> <dbl> <dbl> <dbl>\n",
       "1   X10.45     Leu    48     0     0     0     0\n",
       "2   X10.45     Ser    93     0   173     0     0\n",
       "3   X26.44     Asp     0     0     0     0    43\n",
       "4   X26.44     Gln     0    31     0   742   123\n",
       "5   X26.44     Glu     0     0     0   561   102\n",
       "6   X26.44     Gly     0     0     0     0    26\n",
       "7   X26.44     His     0     0     0   175     0\n",
       "8   X26.44     Ile     0     0     0    46     0\n",
       "9    X9.23     His     0   147     0     0     0"
      ]
     },
     "execution_count": 18,
     "metadata": {},
     "output_type": "execute_result"
    }
   ],
   "source": [
    "identities %>% select(isotype, quality, X9.23, X22.46, X10.45, X26.44) %>% \n",
    "  filter(quality) %>%\n",
    "  gather(position, identity, X9.23, X22.46, X10.45, X26.44, -isotype, -quality) %>%\n",
    "  filter(!(identity %in% c(RRs, \"G:-\", \"A:-\"))) %>%\n",
    "  group_by(position, isotype, identity) %>%\n",
    "  summarize(count=n()) %>%\n",
    "  filter(count > 20) %>%\n",
    "  spread(identity, count, fill=0)"
   ]
  },
  {
   "cell_type": "markdown",
   "metadata": {},
   "source": [
    "They are not - but they are isotype-specific.\n",
    "\n",
    "**Summary**: Tertiary interactions within this \"tRNA core region\" along the D stem are enriched in purines and purine-purine interactions, though the extent varies by isotype and position. Exceptions are isotype-specific.\n",
    "\n",
    "### G18, U55, and G18:U55\n",
    "\n",
    "#### Number of tRNAs without G18:U55"
   ]
  },
  {
   "cell_type": "code",
   "execution_count": 19,
   "metadata": {
    "collapsed": false
   },
   "outputs": [
    {
     "data": {
      "text/html": [
       "309"
      ],
      "text/latex": [
       "309"
      ],
      "text/markdown": [
       "309"
      ],
      "text/plain": [
       "[1] 309"
      ]
     },
     "execution_count": 19,
     "metadata": {},
     "output_type": "execute_result"
    }
   ],
   "source": [
    "identities %>% select(clade, species, quality, X18, X55, X18.55) %>%\n",
    "  filter(quality & X18.55 != \"G:U\") %>% nrow()"
   ]
  },
  {
   "cell_type": "markdown",
   "metadata": {},
   "source": [
    "#### Which isotypes/clades/species fail the consensus checks?"
   ]
  },
  {
   "cell_type": "code",
   "execution_count": 20,
   "metadata": {
    "collapsed": false,
    "scrolled": true
   },
   "outputs": [
    {
     "data": {
      "text/html": [
       "<table>\n",
       "<thead><tr><th></th><th scope=col>clade</th><th scope=col>isotype</th><th scope=col>status</th></tr></thead>\n",
       "<tbody>\n",
       "</tbody>\n",
       "</table>\n"
      ],
      "text/latex": [
       "\\begin{tabular}{r|lll}\n",
       "  & clade & isotype & status\\\\\n",
       "\\hline\n",
       "\\end{tabular}\n"
      ],
      "text/plain": [
       "Source: local data frame [0 x 3]\n",
       "Groups: clade [0]\n",
       "\n",
       "# ... with 3 variables: clade <chr>, isotype <chr>, status <lgl>"
      ]
     },
     "execution_count": 20,
     "metadata": {},
     "output_type": "execute_result"
    },
    {
     "data": {
      "text/html": [
       "<table>\n",
       "<thead><tr><th></th><th scope=col>clade</th><th scope=col>species</th><th scope=col>isotype</th><th scope=col>status</th><th scope=col>freq</th><th scope=col>tRNAs</th></tr></thead>\n",
       "<tbody>\n",
       "\t<tr><th scope=row>1</th><td>Fungi</td><td>flamVelu_KACC42780</td><td>Pro</td><td>FALSE</td><td>0</td><td>1</td></tr>\n",
       "\t<tr><th scope=row>2</th><td>Fungi</td><td>valsMali_03_8</td><td>Pro</td><td>FALSE</td><td>0</td><td>2</td></tr>\n",
       "\t<tr><th scope=row>3</th><td>Insecta</td><td>dp4_Unknown_group_638.trna2-GluCTC</td><td>Glu</td><td>FALSE</td><td>0</td><td>1</td></tr>\n",
       "</tbody>\n",
       "</table>\n"
      ],
      "text/latex": [
       "\\begin{tabular}{r|llllll}\n",
       "  & clade & species & isotype & status & freq & tRNAs\\\\\n",
       "\\hline\n",
       "\t1 & Fungi & flamVelu_KACC42780 & Pro & FALSE & 0 & 1\\\\\n",
       "\t2 & Fungi & valsMali_03_8 & Pro & FALSE & 0 & 2\\\\\n",
       "\t3 & Insecta & dp4_Unknown_group_638.trna2-GluCTC & Glu & FALSE & 0 & 1\\\\\n",
       "\\end{tabular}\n"
      ],
      "text/plain": [
       "Source: local data frame [3 x 6]\n",
       "Groups: clade, species [3]\n",
       "\n",
       "    clade                            species isotype status  freq tRNAs\n",
       "   <fctr>                             <fctr>  <fctr>  <lgl> <int> <int>\n",
       "1   Fungi                 flamVelu_KACC42780     Pro  FALSE     0     1\n",
       "2   Fungi                      valsMali_03_8     Pro  FALSE     0     2\n",
       "3 Insecta dp4_Unknown_group_638.trna2-GluCTC     Glu  FALSE     0     1"
      ]
     },
     "execution_count": 20,
     "metadata": {},
     "output_type": "execute_result"
    }
   ],
   "source": [
    "## Clade/isotype check\n",
    "best_freqs %>% filter(positions == 'X18.55') %>% group_by(clade, isotype) %>%\n",
    "  summarize(status=sum((variable == \"GU\")*count)/sum(count) == 1) %>%\n",
    "  filter(!status)\n",
    "\n",
    "## Species check\n",
    "identities %>% select(clade, species, isotype, quality, X18.55) %>%\n",
    "  filter(quality) %>%\n",
    "  group_by(clade, species, isotype) %>%\n",
    "  summarize(status=sum((X18.55 == \"G:U\")/n()) >= 0.1,\n",
    "            freq=sum(X18.55 == \"G:U\"), tRNAs=n()) %>%\n",
    "  filter(!status)"
   ]
  },
  {
   "cell_type": "code",
   "execution_count": 21,
   "metadata": {
    "collapsed": false
   },
   "outputs": [
    {
     "name": "stderr",
     "output_type": "stream",
     "text": [
      "Adding missing grouping variables: `total`\n"
     ]
    },
    {
     "data": {
      "text/html": [
       "<table>\n",
       "<thead><tr><th></th><th scope=col>total</th><th scope=col>isotype</th><th scope=col>clade</th><th scope=col>A:U</th><th scope=col>G:C</th><th scope=col>G:G</th><th scope=col>G:U</th><th scope=col>-:U</th></tr></thead>\n",
       "<tbody>\n",
       "\t<tr><th scope=row>1</th><td>19</td><td>Asn</td><td>Nematoda</td><td>0.1052632</td><td>0</td><td>0</td><td>0.8947368</td><td>0</td></tr>\n",
       "\t<tr><th scope=row>2</th><td>250</td><td>Gly</td><td>Vertebrata</td><td>0</td><td>0.136</td><td>0.004</td><td>0.856</td><td>0.004</td></tr>\n",
       "</tbody>\n",
       "</table>\n"
      ],
      "text/latex": [
       "\\begin{tabular}{r|llllllll}\n",
       "  & total & isotype & clade & A:U & G:C & G:G & G:U & -:U\\\\\n",
       "\\hline\n",
       "\t1 & 19 & Asn & Nematoda & 0.1052632 & 0 & 0 & 0.8947368 & 0\\\\\n",
       "\t2 & 250 & Gly & Vertebrata & 0 & 0.136 & 0.004 & 0.856 & 0.004\\\\\n",
       "\\end{tabular}\n"
      ],
      "text/plain": [
       "Source: local data frame [2 x 8]\n",
       "Groups: isotype, clade, total [2]\n",
       "\n",
       "  total isotype      clade     `A:U` `G:C` `G:G`     `G:U` `-:U`\n",
       "* <int>  <fctr>     <fctr>     <dbl> <dbl> <dbl>     <dbl> <dbl>\n",
       "1    19     Asn   Nematoda 0.1052632 0.000 0.000 0.8947368 0.000\n",
       "2   250     Gly Vertebrata 0.0000000 0.136 0.004 0.8560000 0.004"
      ]
     },
     "execution_count": 21,
     "metadata": {},
     "output_type": "execute_result"
    }
   ],
   "source": [
    "identities %>% select(clade, quality, isotype, X18.55) %>%\n",
    "  filter(quality & ((clade == \"Nematoda\" & isotype == \"Asn\") | \n",
    "                    (clade == \"Vertebrata\" & isotype == \"Gly\"))) %>%\n",
    "  group_by(isotype, clade) %>%\n",
    "  mutate(total=n()) %>%\n",
    "  group_by(isotype, clade, total, X18.55) %>%\n",
    "  summarize(count=n()) %>%\n",
    "  mutate(freq=count/total) %>%\n",
    "  select(-total, -count) %>%\n",
    "  spread(X18.55, freq, fill=0)"
   ]
  },
  {
   "cell_type": "markdown",
   "metadata": {},
   "source": [
    "The isotype/clade check fails for nematode Asn at 88% and vertebrate Gly at 86%. \n",
    "\n",
    "Earlier, we had a vertebrate check fail because of the methods used to build the quality set. I've relaxed the species check constraints to 10% to better identify IDEs even when there are massively amplified tRNAs. Curiously, in danRer10, gasAcu1, and oryLat2, the majority of the non-G:U tRNAs contain a G:C. It's pretty likely that, given the high copy number, many of these tRNAs are actually pseudogenes. In addition, there are a decent amount of G18:U55 tRNAs to actually drive translation.\n",
    "\n",
    "The two fungi listed here are rare exceptions to the rule. _Flammulina velutipes_ is the enokitake mushroom, and none of its proline tRNAs contain G18. _Valsa mali_ is a fungus that infects apple trees. It contains 4 proline tRNAs. The first two (Pro-AGG-1, Pro-CGG-1) score at 22 and 47, contain G18:U55, and are filtered out. The other two (Pro-TGG-1) score at 58, and contain C18:U55. So we have two main possibilities here.\n",
    "\n",
    "1. G18:U55 is required for proper folding and recognition. Pro-CGG-1 is used as the main proline tRNA.\n",
    "2. G18:U55 is not required. The synthetase is able to recognize some combination of Pro-CGG and Pro-TGG.\n",
    "\n",
    "The evidence below points to option 2. In fungi, TGG is a much more common anticodon than CGG. Pro-TGG in this species also scores better, and contains a position 47. There are only two other fungal proline tRNAs without a position 47, both of which exist in _Encephalitozoon_ species, and both of which are supplemented by other high-scoring proline tRNAs.\n",
    "\n",
    "#### Fungal proline anticodon usage /  Fungal proline position 47 incidence"
   ]
  },
  {
   "cell_type": "code",
   "execution_count": 22,
   "metadata": {
    "collapsed": false
   },
   "outputs": [
    {
     "data": {
      "text/html": [
       "<table>\n",
       "<thead><tr><th></th><th scope=col>clade</th><th scope=col>isotype</th><th scope=col>anticodon</th><th scope=col>count</th></tr></thead>\n",
       "<tbody>\n",
       "\t<tr><th scope=row>1</th><td>Fungi</td><td>Pro</td><td>AGG</td><td>79</td></tr>\n",
       "\t<tr><th scope=row>2</th><td>Fungi</td><td>Pro</td><td>CGG</td><td>33</td></tr>\n",
       "\t<tr><th scope=row>3</th><td>Fungi</td><td>Pro</td><td>TGG</td><td>123</td></tr>\n",
       "</tbody>\n",
       "</table>\n"
      ],
      "text/latex": [
       "\\begin{tabular}{r|llll}\n",
       "  & clade & isotype & anticodon & count\\\\\n",
       "\\hline\n",
       "\t1 & Fungi & Pro & AGG & 79\\\\\n",
       "\t2 & Fungi & Pro & CGG & 33\\\\\n",
       "\t3 & Fungi & Pro & TGG & 123\\\\\n",
       "\\end{tabular}\n"
      ],
      "text/plain": [
       "Source: local data frame [3 x 4]\n",
       "Groups: clade, isotype [?]\n",
       "\n",
       "   clade isotype anticodon count\n",
       "  <fctr>  <fctr>    <fctr> <int>\n",
       "1  Fungi     Pro       AGG    79\n",
       "2  Fungi     Pro       CGG    33\n",
       "3  Fungi     Pro       TGG   123"
      ]
     },
     "execution_count": 22,
     "metadata": {},
     "output_type": "execute_result"
    },
    {
     "data": {
      "text/html": [
       "<table>\n",
       "<thead><tr><th></th><th scope=col>clade</th><th scope=col>isotype</th><th scope=col>-</th><th scope=col>C</th><th scope=col>U</th></tr></thead>\n",
       "<tbody>\n",
       "\t<tr><th scope=row>1</th><td>Fungi</td><td>Pro</td><td>2</td><td>84</td><td>149</td></tr>\n",
       "</tbody>\n",
       "</table>\n"
      ],
      "text/latex": [
       "\\begin{tabular}{r|lllll}\n",
       "  & clade & isotype & - & C & U\\\\\n",
       "\\hline\n",
       "\t1 & Fungi & Pro & 2 & 84 & 149\\\\\n",
       "\\end{tabular}\n"
      ],
      "text/plain": [
       "Source: local data frame [1 x 5]\n",
       "Groups: clade, isotype [1]\n",
       "\n",
       "   clade isotype   `-`     C     U\n",
       "* <fctr>  <fctr> <int> <int> <int>\n",
       "1  Fungi     Pro     2    84   149"
      ]
     },
     "execution_count": 22,
     "metadata": {},
     "output_type": "execute_result"
    },
    {
     "data": {
      "text/html": [
       "<table>\n",
       "<thead><tr><th></th><th scope=col>clade</th><th scope=col>quality</th><th scope=col>species</th><th scope=col>species_long</th><th scope=col>seqname</th><th scope=col>isotype</th><th scope=col>score</th><th scope=col>X47</th></tr></thead>\n",
       "<tbody>\n",
       "\t<tr><th scope=row>1</th><td>Fungi</td><td>TRUE</td><td>enceHell_ATCC50504</td><td>Encephalitozoon hellem ATCC 50504</td><td>enceHell_ATCC50504_chrX.trna2-ProCGG</td><td>Pro</td><td>60.7</td><td>-</td></tr>\n",
       "\t<tr><th scope=row>2</th><td>Fungi</td><td>TRUE</td><td>enceInte_ATCC50506</td><td>Encephalitozoon intestinalis ATCC 50506</td><td>enceInte_ATCC50506_chrX.trna2-ProCGG</td><td>Pro</td><td>63.4</td><td>-</td></tr>\n",
       "</tbody>\n",
       "</table>\n"
      ],
      "text/latex": [
       "\\begin{tabular}{r|llllllll}\n",
       "  & clade & quality & species & species_long & seqname & isotype & score & X47\\\\\n",
       "\\hline\n",
       "\t1 & Fungi & TRUE & enceHell_ATCC50504 & Encephalitozoon hellem ATCC 50504 & enceHell_ATCC50504_chrX.trna2-ProCGG & Pro & 60.7 & -\\\\\n",
       "\t2 & Fungi & TRUE & enceInte_ATCC50506 & Encephalitozoon intestinalis ATCC 50506 & enceInte_ATCC50506_chrX.trna2-ProCGG & Pro & 63.4 & -\\\\\n",
       "\\end{tabular}\n"
      ],
      "text/plain": [
       "  clade quality            species                            species_long\n",
       "1 Fungi    TRUE enceHell_ATCC50504       Encephalitozoon hellem ATCC 50504\n",
       "2 Fungi    TRUE enceInte_ATCC50506 Encephalitozoon intestinalis ATCC 50506\n",
       "                               seqname isotype score X47\n",
       "1 enceHell_ATCC50504_chrX.trna2-ProCGG     Pro  60.7   -\n",
       "2 enceInte_ATCC50506_chrX.trna2-ProCGG     Pro  63.4   -"
      ]
     },
     "execution_count": 22,
     "metadata": {},
     "output_type": "execute_result"
    }
   ],
   "source": [
    "identities %>% select(clade, quality, isotype, anticodon) %>%\n",
    "  filter(quality & isotype == \"Pro\" & clade == \"Fungi\") %>%\n",
    "  group_by(clade, isotype, anticodon) %>%\n",
    "  summarize(count=n())\n",
    "\n",
    "identities %>% select(clade, quality, isotype, X47) %>%\n",
    "  filter(quality & isotype == \"Pro\" & clade == \"Fungi\") %>%\n",
    "  group_by(clade, isotype, X47) %>%\n",
    "  summarize(count=n()) %>%\n",
    "  spread(X47, count)\n",
    "\n",
    "identities %>% select(clade, quality, species, species_long, seqname, isotype, score, X47) %>%\n",
    "  filter(quality & isotype == \"Pro\" & clade == \"Fungi\" & X47 == \"-\")"
   ]
  },
  {
   "cell_type": "markdown",
   "metadata": {},
   "source": [
    "### G19:C56\n",
    "\n",
    "We now look at 19:56 in context of 18:55. G19:C56 similarly hits 99% frequency.\n",
    "\n",
    "#### Distribution of 18:55 and 19:56"
   ]
  },
  {
   "cell_type": "code",
   "execution_count": 23,
   "metadata": {
    "collapsed": false
   },
   "outputs": [
    {
     "data": {
      "text/html": [
       "<table>\n",
       "<thead><tr><th></th><th scope=col>X18.55</th><th scope=col>A:C</th><th scope=col>C:C</th><th scope=col>G:A</th><th scope=col>G:C</th><th scope=col>G:G</th><th scope=col>G:U</th><th scope=col>U:C</th></tr></thead>\n",
       "<tbody>\n",
       "\t<tr><th scope=row>1</th><td>A:U</td><td>0</td><td>0</td><td>0</td><td>137</td><td>0</td><td>9</td><td>0</td></tr>\n",
       "\t<tr><th scope=row>2</th><td>C:U</td><td>0</td><td>0</td><td>0</td><td>19</td><td>0</td><td>0</td><td>0</td></tr>\n",
       "\t<tr><th scope=row>3</th><td>G:A</td><td>0</td><td>0</td><td>0</td><td>6</td><td>0</td><td>0</td><td>0</td></tr>\n",
       "\t<tr><th scope=row>4</th><td>G:C</td><td>0</td><td>0</td><td>0</td><td>89</td><td>0</td><td>0</td><td>0</td></tr>\n",
       "\t<tr><th scope=row>5</th><td>G:G</td><td>0</td><td>0</td><td>0</td><td>15</td><td>0</td><td>0</td><td>0</td></tr>\n",
       "\t<tr><th scope=row>6</th><td>G:U</td><td>74</td><td>14</td><td>34</td><td>22028</td><td>27</td><td>419</td><td>19</td></tr>\n",
       "\t<tr><th scope=row>7</th><td>U:U</td><td>0</td><td>0</td><td>0</td><td>15</td><td>0</td><td>0</td><td>0</td></tr>\n",
       "</tbody>\n",
       "</table>\n"
      ],
      "text/latex": [
       "\\begin{tabular}{r|llllllll}\n",
       "  & X18.55 & A:C & C:C & G:A & G:C & G:G & G:U & U:C\\\\\n",
       "\\hline\n",
       "\t1 & A:U & 0 & 0 & 0 & 137 & 0 & 9 & 0\\\\\n",
       "\t2 & C:U & 0 & 0 & 0 & 19 & 0 & 0 & 0\\\\\n",
       "\t3 & G:A & 0 & 0 & 0 & 6 & 0 & 0 & 0\\\\\n",
       "\t4 & G:C & 0 & 0 & 0 & 89 & 0 & 0 & 0\\\\\n",
       "\t5 & G:G & 0 & 0 & 0 & 15 & 0 & 0 & 0\\\\\n",
       "\t6 & G:U & 74 & 14 & 34 & 22028 & 27 & 419 & 19\\\\\n",
       "\t7 & U:U & 0 & 0 & 0 & 15 & 0 & 0 & 0\\\\\n",
       "\\end{tabular}\n"
      ],
      "text/plain": [
       "Source: local data frame [7 x 8]\n",
       "Groups: X18.55 [7]\n",
       "\n",
       "  X18.55 `A:C` `C:C` `G:A` `G:C` `G:G` `G:U` `U:C`\n",
       "* <fctr> <dbl> <dbl> <dbl> <dbl> <dbl> <dbl> <dbl>\n",
       "1    A:U     0     0     0   137     0     9     0\n",
       "2    C:U     0     0     0    19     0     0     0\n",
       "3    G:A     0     0     0     6     0     0     0\n",
       "4    G:C     0     0     0    89     0     0     0\n",
       "5    G:G     0     0     0    15     0     0     0\n",
       "6    G:U    74    14    34 22028    27   419    19\n",
       "7    U:U     0     0     0    15     0     0     0"
      ]
     },
     "execution_count": 23,
     "metadata": {},
     "output_type": "execute_result"
    }
   ],
   "source": [
    "identities %>% select(quality, X18.55, X19.56) %>%\n",
    "  filter(quality) %>%\n",
    "  group_by(X18.55, X19.56) %>%\n",
    "  summarize(count=n()) %>%\n",
    "  filter(count > 5) %>%\n",
    "  spread(X19.56, count, fill=0)"
   ]
  },
  {
   "cell_type": "markdown",
   "metadata": {},
   "source": [
    "What may be happening here is that 18:55 and 19:56 act in concert. Both are required, but failing that, having at least one of them will weakly preserve the tertiary structure. This makes sense in context of the tertiary structure shown above - 18:55 and 19:56 are right next to each other and perform the same function, forming the tRNA elbow. \n",
    "\n",
    "In this case, whether it fails the species or isotype/clade check doesn't matter anymore, unless we specifically see enrichment for a clade/isotype.\n",
    "\n",
    "The one exception is with the 9 tRNAs for A18:U55 and G19:U56. Let's take a look at both of them.\n",
    "\n",
    "#### Is there enrichment for certain isotypes/clades for the non-GU/GC tRNAs?\n",
    "\n",
    "This measures the percentage of tRNAs in the isotype/clade with non-GU/GC tRNAs."
   ]
  },
  {
   "cell_type": "code",
   "execution_count": 22,
   "metadata": {
    "collapsed": false,
    "scrolled": true
   },
   "outputs": [
    {
     "data": {
      "text/html": [
       "<table>\n",
       "<thead><tr><th></th><th scope=col>isotype</th><th scope=col>clade</th><th scope=col>freq</th><th scope=col>count</th><th scope=col>total</th></tr></thead>\n",
       "<tbody>\n",
       "\t<tr><th scope=row>1</th><td>Gly</td><td>Vertebrata</td><td>0.21</td><td>52</td><td>250</td></tr>\n",
       "\t<tr><th scope=row>2</th><td>Lys</td><td>Mammalia</td><td>0.17</td><td>127</td><td>737</td></tr>\n",
       "\t<tr><th scope=row>3</th><td>Asn</td><td>Nematoda</td><td>0.12</td><td>2</td><td>17</td></tr>\n",
       "\t<tr><th scope=row>4</th><td>Lys</td><td>Streptophyta</td><td>0.12</td><td>13</td><td>108</td></tr>\n",
       "\t<tr><th scope=row>5</th><td>Met</td><td>Vertebrata</td><td>0.12</td><td>17</td><td>139</td></tr>\n",
       "\t<tr><th scope=row>6</th><td>Thr</td><td>Vertebrata</td><td>0.12</td><td>43</td><td>370</td></tr>\n",
       "\t<tr><th scope=row>7</th><td>Asn</td><td>Insecta</td><td>0.11</td><td>2</td><td>18</td></tr>\n",
       "\t<tr><th scope=row>8</th><td>Cys</td><td>Spermatophyta</td><td>0.11</td><td>2</td><td>19</td></tr>\n",
       "\t<tr><th scope=row>9</th><td>Gly</td><td>Nematoda</td><td>0.11</td><td>7</td><td>63</td></tr>\n",
       "\t<tr><th scope=row>10</th><td>Ile</td><td>Streptophyta</td><td>0.11</td><td>10</td><td>92</td></tr>\n",
       "\t<tr><th scope=row>11</th><td>Lys</td><td>Vertebrata</td><td>0.11</td><td>31</td><td>294</td></tr>\n",
       "\t<tr><th scope=row>12</th><td>Tyr</td><td>Nematoda</td><td>0.11</td><td>2</td><td>19</td></tr>\n",
       "\t<tr><th scope=row>13</th><td>Tyr</td><td>Vertebrata</td><td>0.11</td><td>20</td><td>183</td></tr>\n",
       "\t<tr><th scope=row>14</th><td>Lys</td><td>Spermatophyta</td><td>0.1</td><td>3</td><td>30</td></tr>\n",
       "\t<tr><th scope=row>15</th><td>Phe</td><td>Mammalia</td><td>0.1</td><td>23</td><td>226</td></tr>\n",
       "\t<tr><th scope=row>16</th><td>Gln</td><td>Nematoda</td><td>0.095</td><td>4</td><td>42</td></tr>\n",
       "\t<tr><th scope=row>17</th><td>Glu</td><td>Vertebrata</td><td>0.083</td><td>23</td><td>277</td></tr>\n",
       "\t<tr><th scope=row>18</th><td>Ser</td><td>Vertebrata</td><td>0.082</td><td>34</td><td>413</td></tr>\n",
       "\t<tr><th scope=row>19</th><td>Gly</td><td>Mammalia</td><td>0.081</td><td>41</td><td>505</td></tr>\n",
       "\t<tr><th scope=row>20</th><td>Glu</td><td>Nematoda</td><td>0.075</td><td>4</td><td>53</td></tr>\n",
       "\t<tr><th scope=row>21</th><td>Phe</td><td>Streptophyta</td><td>0.069</td><td>2</td><td>29</td></tr>\n",
       "\t<tr><th scope=row>22</th><td>Pro</td><td>Vertebrata</td><td>0.065</td><td>12</td><td>184</td></tr>\n",
       "\t<tr><th scope=row>23</th><td>Cys</td><td>Streptophyta</td><td>0.064</td><td>3</td><td>47</td></tr>\n",
       "\t<tr><th scope=row>24</th><td>Val</td><td>Vertebrata</td><td>0.061</td><td>18</td><td>295</td></tr>\n",
       "\t<tr><th scope=row>25</th><td>Asn</td><td>Mammalia</td><td>0.06</td><td>17</td><td>282</td></tr>\n",
       "\t<tr><th scope=row>26</th><td>Asn</td><td>Vertebrata</td><td>0.059</td><td>11</td><td>185</td></tr>\n",
       "\t<tr><th scope=row>27</th><td>Glu</td><td>Streptophyta</td><td>0.058</td><td>4</td><td>69</td></tr>\n",
       "\t<tr><th scope=row>28</th><td>Ile</td><td>Vertebrata</td><td>0.057</td><td>12</td><td>211</td></tr>\n",
       "\t<tr><th scope=row>29</th><td>Leu</td><td>Vertebrata</td><td>0.057</td><td>26</td><td>458</td></tr>\n",
       "\t<tr><th scope=row>30</th><td>Val</td><td>Mammalia</td><td>0.056</td><td>31</td><td>556</td></tr>\n",
       "\t<tr><th scope=row>31</th><td>Ala</td><td>Streptophyta</td><td>0.054</td><td>5</td><td>92</td></tr>\n",
       "\t<tr><th scope=row>32</th><td>Trp</td><td>Streptophyta</td><td>0.053</td><td>1</td><td>19</td></tr>\n",
       "\t<tr><th scope=row>33</th><td>Phe</td><td>Vertebrata</td><td>0.051</td><td>9</td><td>176</td></tr>\n",
       "</tbody>\n",
       "</table>\n"
      ],
      "text/latex": [
       "\\begin{tabular}{r|lllll}\n",
       "  & isotype & clade & freq & count & total\\\\\n",
       "\\hline\n",
       "\t1 & Gly & Vertebrata & 0.21 & 52 & 250\\\\\n",
       "\t2 & Lys & Mammalia & 0.17 & 127 & 737\\\\\n",
       "\t3 & Asn & Nematoda & 0.12 & 2 & 17\\\\\n",
       "\t4 & Lys & Streptophyta & 0.12 & 13 & 108\\\\\n",
       "\t5 & Met & Vertebrata & 0.12 & 17 & 139\\\\\n",
       "\t6 & Thr & Vertebrata & 0.12 & 43 & 370\\\\\n",
       "\t7 & Asn & Insecta & 0.11 & 2 & 18\\\\\n",
       "\t8 & Cys & Spermatophyta & 0.11 & 2 & 19\\\\\n",
       "\t9 & Gly & Nematoda & 0.11 & 7 & 63\\\\\n",
       "\t10 & Ile & Streptophyta & 0.11 & 10 & 92\\\\\n",
       "\t11 & Lys & Vertebrata & 0.11 & 31 & 294\\\\\n",
       "\t12 & Tyr & Nematoda & 0.11 & 2 & 19\\\\\n",
       "\t13 & Tyr & Vertebrata & 0.11 & 20 & 183\\\\\n",
       "\t14 & Lys & Spermatophyta & 0.1 & 3 & 30\\\\\n",
       "\t15 & Phe & Mammalia & 0.1 & 23 & 226\\\\\n",
       "\t16 & Gln & Nematoda & 0.095 & 4 & 42\\\\\n",
       "\t17 & Glu & Vertebrata & 0.083 & 23 & 277\\\\\n",
       "\t18 & Ser & Vertebrata & 0.082 & 34 & 413\\\\\n",
       "\t19 & Gly & Mammalia & 0.081 & 41 & 505\\\\\n",
       "\t20 & Glu & Nematoda & 0.075 & 4 & 53\\\\\n",
       "\t21 & Phe & Streptophyta & 0.069 & 2 & 29\\\\\n",
       "\t22 & Pro & Vertebrata & 0.065 & 12 & 184\\\\\n",
       "\t23 & Cys & Streptophyta & 0.064 & 3 & 47\\\\\n",
       "\t24 & Val & Vertebrata & 0.061 & 18 & 295\\\\\n",
       "\t25 & Asn & Mammalia & 0.06 & 17 & 282\\\\\n",
       "\t26 & Asn & Vertebrata & 0.059 & 11 & 185\\\\\n",
       "\t27 & Glu & Streptophyta & 0.058 & 4 & 69\\\\\n",
       "\t28 & Ile & Vertebrata & 0.057 & 12 & 211\\\\\n",
       "\t29 & Leu & Vertebrata & 0.057 & 26 & 458\\\\\n",
       "\t30 & Val & Mammalia & 0.056 & 31 & 556\\\\\n",
       "\t31 & Ala & Streptophyta & 0.054 & 5 & 92\\\\\n",
       "\t32 & Trp & Streptophyta & 0.053 & 1 & 19\\\\\n",
       "\t33 & Phe & Vertebrata & 0.051 & 9 & 176\\\\\n",
       "\\end{tabular}\n"
      ],
      "text/plain": [
       "Source: local data frame [33 x 5]\n",
       "Groups: isotype [17]\n",
       "\n",
       "   isotype         clade  freq count total\n",
       "    <fctr>        <fctr> <dbl> <int> <int>\n",
       "1      Gly    Vertebrata  0.21    52   250\n",
       "2      Lys      Mammalia  0.17   127   737\n",
       "3      Asn      Nematoda  0.12     2    17\n",
       "4      Lys  Streptophyta  0.12    13   108\n",
       "5      Met    Vertebrata  0.12    17   139\n",
       "6      Thr    Vertebrata  0.12    43   370\n",
       "7      Asn       Insecta  0.11     2    18\n",
       "8      Cys Spermatophyta  0.11     2    19\n",
       "9      Gly      Nematoda  0.11     7    63\n",
       "10     Ile  Streptophyta  0.11    10    92\n",
       "# ... with 23 more rows"
      ]
     },
     "execution_count": 22,
     "metadata": {},
     "output_type": "execute_result"
    }
   ],
   "source": [
    "identities %>% select(isotype, clade, quality, X18.55, X19.56) %>%\n",
    "  filter(quality) %>%\n",
    "  group_by(isotype, clade) %>%\n",
    "  mutate(total=n()) %>%\n",
    "  filter(X18.55 != 'G:U' | X19.56 != 'G:C') %>%\n",
    "  summarize(freq=signif(n()/unique(total), digits=2), count=n(), total=total[1]) %>%\n",
    "  filter(freq > 0.05) %>%\n",
    "  arrange(desc(freq))"
   ]
  },
  {
   "cell_type": "code",
   "execution_count": 23,
   "metadata": {
    "collapsed": false,
    "scrolled": true
   },
   "outputs": [
    {
     "data": {
      "text/html": [
       "<table>\n",
       "<thead><tr><th></th><th scope=col>isotype</th><th scope=col>clade</th><th scope=col>freq</th><th scope=col>count</th><th scope=col>total</th></tr></thead>\n",
       "<tbody>\n",
       "\t<tr><th scope=row>1</th><td>Asn</td><td>Insecta</td><td>0.056</td><td>1</td><td>18</td></tr>\n",
       "\t<tr><th scope=row>2</th><td>Lys</td><td>Spermatophyta</td><td>0.033</td><td>1</td><td>30</td></tr>\n",
       "\t<tr><th scope=row>3</th><td>Met</td><td>Fungi</td><td>0.021</td><td>2</td><td>95</td></tr>\n",
       "\t<tr><th scope=row>4</th><td>Gly</td><td>Vertebrata</td><td>0.012</td><td>3</td><td>250</td></tr>\n",
       "\t<tr><th scope=row>5</th><td>Ile</td><td>Streptophyta</td><td>0.011</td><td>1</td><td>92</td></tr>\n",
       "\t<tr><th scope=row>6</th><td>Lys</td><td>Mammalia</td><td>0.011</td><td>8</td><td>737</td></tr>\n",
       "</tbody>\n",
       "</table>\n"
      ],
      "text/latex": [
       "\\begin{tabular}{r|lllll}\n",
       "  & isotype & clade & freq & count & total\\\\\n",
       "\\hline\n",
       "\t1 & Asn & Insecta & 0.056 & 1 & 18\\\\\n",
       "\t2 & Lys & Spermatophyta & 0.033 & 1 & 30\\\\\n",
       "\t3 & Met & Fungi & 0.021 & 2 & 95\\\\\n",
       "\t4 & Gly & Vertebrata & 0.012 & 3 & 250\\\\\n",
       "\t5 & Ile & Streptophyta & 0.011 & 1 & 92\\\\\n",
       "\t6 & Lys & Mammalia & 0.011 & 8 & 737\\\\\n",
       "\\end{tabular}\n"
      ],
      "text/plain": [
       "Source: local data frame [6 x 5]\n",
       "Groups: isotype [5]\n",
       "\n",
       "  isotype         clade  freq count total\n",
       "   <fctr>        <fctr> <dbl> <int> <int>\n",
       "1     Asn       Insecta 0.056     1    18\n",
       "2     Lys Spermatophyta 0.033     1    30\n",
       "3     Met         Fungi 0.021     2    95\n",
       "4     Gly    Vertebrata 0.012     3   250\n",
       "5     Ile  Streptophyta 0.011     1    92\n",
       "6     Lys      Mammalia 0.011     8   737"
      ]
     },
     "execution_count": 23,
     "metadata": {},
     "output_type": "execute_result"
    }
   ],
   "source": [
    "identities %>% select(isotype, clade, quality, X18.55, X19.56) %>%\n",
    "  filter(quality) %>%\n",
    "  group_by(isotype, clade) %>%\n",
    "  mutate(total=n()) %>%\n",
    "  filter(X18.55 != 'G:U' & X19.56 != 'G:C') %>%\n",
    "  summarize(freq=signif(n()/unique(total), digits=2), count=n(), total=total[1]) %>%\n",
    "  filter(freq > 0.01) %>%\n",
    "  arrange(desc(freq))"
   ]
  },
  {
   "cell_type": "markdown",
   "metadata": {},
   "source": [
    "We see differential enrichment in the \"not GU or not GC\" case, but not in this case (\"not GU/GC\"). Which is to be expected - it's easier to mutate one or the other, rather than both. But just in case, we'll double check vertebrate glycine and mammalian lysine.\n",
    "\n",
    "#### Which species have which divergent identities at 18:55 and 19:56?"
   ]
  },
  {
   "cell_type": "code",
   "execution_count": 24,
   "metadata": {
    "collapsed": false
   },
   "outputs": [
    {
     "data": {
      "text/html": [
       "<table>\n",
       "<thead><tr><th></th><th scope=col>isotype</th><th scope=col>clade</th><th scope=col>X18.55</th><th scope=col>A:C</th><th scope=col>G:C</th><th scope=col>G:U</th></tr></thead>\n",
       "<tbody>\n",
       "\t<tr><th scope=row>1</th><td>Gly</td><td>Vertebrata</td><td>G:C</td><td>0</td><td>32</td><td>0</td></tr>\n",
       "\t<tr><th scope=row>2</th><td>Gly</td><td>Vertebrata</td><td>G:U</td><td>0</td><td>198</td><td>14</td></tr>\n",
       "\t<tr><th scope=row>3</th><td>Lys</td><td>Mammalia</td><td>A:U</td><td>0</td><td>48</td><td>0</td></tr>\n",
       "\t<tr><th scope=row>4</th><td>Lys</td><td>Mammalia</td><td>G:U</td><td>11</td><td>610</td><td>47</td></tr>\n",
       "</tbody>\n",
       "</table>\n"
      ],
      "text/latex": [
       "\\begin{tabular}{r|llllll}\n",
       "  & isotype & clade & X18.55 & A:C & G:C & G:U\\\\\n",
       "\\hline\n",
       "\t1 & Gly & Vertebrata & G:C & 0 & 32 & 0\\\\\n",
       "\t2 & Gly & Vertebrata & G:U & 0 & 198 & 14\\\\\n",
       "\t3 & Lys & Mammalia & A:U & 0 & 48 & 0\\\\\n",
       "\t4 & Lys & Mammalia & G:U & 11 & 610 & 47\\\\\n",
       "\\end{tabular}\n"
      ],
      "text/plain": [
       "Source: local data frame [4 x 6]\n",
       "Groups: isotype, clade, X18.55 [4]\n",
       "\n",
       "  isotype      clade X18.55 `A:C` `G:C` `G:U`\n",
       "*  <fctr>     <fctr> <fctr> <dbl> <dbl> <dbl>\n",
       "1     Gly Vertebrata    G:C     0    32     0\n",
       "2     Gly Vertebrata    G:U     0   198    14\n",
       "3     Lys   Mammalia    A:U     0    48     0\n",
       "4     Lys   Mammalia    G:U    11   610    47"
      ]
     },
     "execution_count": 24,
     "metadata": {},
     "output_type": "execute_result"
    },
    {
     "data": {
      "text/html": [
       "<table>\n",
       "<thead><tr><th></th><th scope=col>species</th><th scope=col>clade</th><th scope=col>isotype</th><th scope=col>total_tRNAs</th><th scope=col>count</th></tr></thead>\n",
       "<tbody>\n",
       "\t<tr><th scope=row>1</th><td>danRer10</td><td>Vertebrata</td><td>Gly</td><td>50</td><td>31</td></tr>\n",
       "\t<tr><th scope=row>2</th><td>fr3</td><td>Vertebrata</td><td>Gly</td><td>9</td><td>1</td></tr>\n",
       "</tbody>\n",
       "</table>\n"
      ],
      "text/latex": [
       "\\begin{tabular}{r|lllll}\n",
       "  & species & clade & isotype & total_tRNAs & count\\\\\n",
       "\\hline\n",
       "\t1 & danRer10 & Vertebrata & Gly & 50 & 31\\\\\n",
       "\t2 & fr3 & Vertebrata & Gly & 9 & 1\\\\\n",
       "\\end{tabular}\n"
      ],
      "text/plain": [
       "Source: local data frame [2 x 5]\n",
       "Groups: species, clade, isotype [?]\n",
       "\n",
       "   species      clade isotype total_tRNAs count\n",
       "    <fctr>     <fctr>  <fctr>       <int> <int>\n",
       "1 danRer10 Vertebrata     Gly          50    31\n",
       "2      fr3 Vertebrata     Gly           9     1"
      ]
     },
     "execution_count": 24,
     "metadata": {},
     "output_type": "execute_result"
    },
    {
     "data": {
      "text/html": [
       "<table>\n",
       "<thead><tr><th></th><th scope=col>species</th><th scope=col>clade</th><th scope=col>isotype</th><th scope=col>total_tRNAs</th><th scope=col>count</th></tr></thead>\n",
       "<tbody>\n",
       "\t<tr><th scope=row>1</th><td>ailMel1</td><td>Mammalia</td><td>Lys</td><td>40</td><td>5</td></tr>\n",
       "\t<tr><th scope=row>2</th><td>calJac3</td><td>Mammalia</td><td>Lys</td><td>8</td><td>1</td></tr>\n",
       "\t<tr><th scope=row>3</th><td>canFam3</td><td>Mammalia</td><td>Lys</td><td>31</td><td>4</td></tr>\n",
       "\t<tr><th scope=row>4</th><td>cavPor3</td><td>Mammalia</td><td>Lys</td><td>14</td><td>1</td></tr>\n",
       "\t<tr><th scope=row>5</th><td>criGri1</td><td>Mammalia</td><td>Lys</td><td>39</td><td>2</td></tr>\n",
       "\t<tr><th scope=row>6</th><td>dasNov3</td><td>Mammalia</td><td>Lys</td><td>29</td><td>2</td></tr>\n",
       "\t<tr><th scope=row>7</th><td>eriEur2</td><td>Mammalia</td><td>Lys</td><td>50</td><td>7</td></tr>\n",
       "\t<tr><th scope=row>8</th><td>felCat5</td><td>Mammalia</td><td>Lys</td><td>40</td><td>2</td></tr>\n",
       "\t<tr><th scope=row>9</th><td>gorGor3</td><td>Mammalia</td><td>Lys</td><td>11</td><td>1</td></tr>\n",
       "\t<tr><th scope=row>10</th><td>hetGla2</td><td>Mammalia</td><td>Lys</td><td>10</td><td>2</td></tr>\n",
       "\t<tr><th scope=row>11</th><td>hg19</td><td>Mammalia</td><td>Lys</td><td>16</td><td>1</td></tr>\n",
       "\t<tr><th scope=row>12</th><td>loxAfr3</td><td>Mammalia</td><td>Lys</td><td>35</td><td>2</td></tr>\n",
       "\t<tr><th scope=row>13</th><td>monDom5</td><td>Mammalia</td><td>Lys</td><td>10</td><td>1</td></tr>\n",
       "\t<tr><th scope=row>14</th><td>musFur1</td><td>Mammalia</td><td>Lys</td><td>30</td><td>3</td></tr>\n",
       "\t<tr><th scope=row>15</th><td>myoLuc2</td><td>Mammalia</td><td>Lys</td><td>8</td><td>1</td></tr>\n",
       "\t<tr><th scope=row>16</th><td>oryCun2</td><td>Mammalia</td><td>Lys</td><td>27</td><td>4</td></tr>\n",
       "\t<tr><th scope=row>17</th><td>panTro4</td><td>Mammalia</td><td>Lys</td><td>14</td><td>1</td></tr>\n",
       "\t<tr><th scope=row>18</th><td>ponAbe2</td><td>Mammalia</td><td>Lys</td><td>16</td><td>2</td></tr>\n",
       "\t<tr><th scope=row>19</th><td>sarHar1</td><td>Mammalia</td><td>Lys</td><td>21</td><td>2</td></tr>\n",
       "\t<tr><th scope=row>20</th><td>sorAra2</td><td>Mammalia</td><td>Lys</td><td>6</td><td>1</td></tr>\n",
       "\t<tr><th scope=row>21</th><td>tarSyr2</td><td>Mammalia</td><td>Lys</td><td>10</td><td>1</td></tr>\n",
       "\t<tr><th scope=row>22</th><td>vicPac2</td><td>Mammalia</td><td>Lys</td><td>10</td><td>1</td></tr>\n",
       "</tbody>\n",
       "</table>\n"
      ],
      "text/latex": [
       "\\begin{tabular}{r|lllll}\n",
       "  & species & clade & isotype & total_tRNAs & count\\\\\n",
       "\\hline\n",
       "\t1 & ailMel1 & Mammalia & Lys & 40 & 5\\\\\n",
       "\t2 & calJac3 & Mammalia & Lys & 8 & 1\\\\\n",
       "\t3 & canFam3 & Mammalia & Lys & 31 & 4\\\\\n",
       "\t4 & cavPor3 & Mammalia & Lys & 14 & 1\\\\\n",
       "\t5 & criGri1 & Mammalia & Lys & 39 & 2\\\\\n",
       "\t6 & dasNov3 & Mammalia & Lys & 29 & 2\\\\\n",
       "\t7 & eriEur2 & Mammalia & Lys & 50 & 7\\\\\n",
       "\t8 & felCat5 & Mammalia & Lys & 40 & 2\\\\\n",
       "\t9 & gorGor3 & Mammalia & Lys & 11 & 1\\\\\n",
       "\t10 & hetGla2 & Mammalia & Lys & 10 & 2\\\\\n",
       "\t11 & hg19 & Mammalia & Lys & 16 & 1\\\\\n",
       "\t12 & loxAfr3 & Mammalia & Lys & 35 & 2\\\\\n",
       "\t13 & monDom5 & Mammalia & Lys & 10 & 1\\\\\n",
       "\t14 & musFur1 & Mammalia & Lys & 30 & 3\\\\\n",
       "\t15 & myoLuc2 & Mammalia & Lys & 8 & 1\\\\\n",
       "\t16 & oryCun2 & Mammalia & Lys & 27 & 4\\\\\n",
       "\t17 & panTro4 & Mammalia & Lys & 14 & 1\\\\\n",
       "\t18 & ponAbe2 & Mammalia & Lys & 16 & 2\\\\\n",
       "\t19 & sarHar1 & Mammalia & Lys & 21 & 2\\\\\n",
       "\t20 & sorAra2 & Mammalia & Lys & 6 & 1\\\\\n",
       "\t21 & tarSyr2 & Mammalia & Lys & 10 & 1\\\\\n",
       "\t22 & vicPac2 & Mammalia & Lys & 10 & 1\\\\\n",
       "\\end{tabular}\n"
      ],
      "text/plain": [
       "Source: local data frame [22 x 5]\n",
       "Groups: species, clade, isotype [?]\n",
       "\n",
       "   species    clade isotype total_tRNAs count\n",
       "    <fctr>   <fctr>  <fctr>       <int> <int>\n",
       "1  ailMel1 Mammalia     Lys          40     5\n",
       "2  calJac3 Mammalia     Lys           8     1\n",
       "3  canFam3 Mammalia     Lys          31     4\n",
       "4  cavPor3 Mammalia     Lys          14     1\n",
       "5  criGri1 Mammalia     Lys          39     2\n",
       "6  dasNov3 Mammalia     Lys          29     2\n",
       "7  eriEur2 Mammalia     Lys          50     7\n",
       "8  felCat5 Mammalia     Lys          40     2\n",
       "9  gorGor3 Mammalia     Lys          11     1\n",
       "10 hetGla2 Mammalia     Lys          10     2\n",
       "# ... with 12 more rows"
      ]
     },
     "execution_count": 24,
     "metadata": {},
     "output_type": "execute_result"
    }
   ],
   "source": [
    "identities %>% select(isotype, clade, quality, X18.55, X19.56) %>%\n",
    "  filter(quality & ((isotype == \"Gly\" & clade == \"Vertebrata\") | (isotype == \"Lys\" & clade == \"Mammalia\"))) %>%\n",
    "  group_by(isotype, clade, X18.55, X19.56) %>%\n",
    "  summarize(count=n()) %>%\n",
    "  filter(count > 5) %>%\n",
    "  spread(X19.56, count, fill=0)\n",
    "\n",
    "identities %>% select(isotype, clade, species, quality, X18.55, X19.56) %>%\n",
    "  filter(quality & isotype == \"Gly\" & clade == \"Vertebrata\") %>%\n",
    "  group_by(species, clade, isotype) %>% mutate(total_tRNAs=n()) %>%\n",
    "  filter(X18.55 == \"G:C\" & X19.56 == \"G:C\") %>%\n",
    "  group_by(species, clade, isotype, total_tRNAs) %>% summarize(count=n())\n",
    "\n",
    "identities %>% select(isotype, clade, species, quality, X18.55, X19.56) %>%\n",
    "  filter(quality & isotype == \"Lys\" & clade == \"Mammalia\") %>%\n",
    "  group_by(species, clade, isotype) %>% mutate(total_tRNAs=n()) %>%\n",
    "  filter(X18.55 == \"G:U\" & X19.56 == \"G:U\") %>%\n",
    "  group_by(species, clade, isotype, total_tRNAs) %>% summarize(count=n())"
   ]
  },
  {
   "cell_type": "markdown",
   "metadata": {},
   "source": [
    "If it's the case that G:C/G:C or G:U/G:U is deficient, both vertebrate glycine and mammalian lysine are well-compensated in each species by other tRNAs, since there are so many tRNA copies.\n",
    "\n",
    "Now to go back to the original 18:55 and 19:56 table - \n",
    "\n",
    "#### Is there enrichment in certain isotypes/clades/species for A18:U55 and G19:U56?"
   ]
  },
  {
   "cell_type": "code",
   "execution_count": 25,
   "metadata": {
    "collapsed": false
   },
   "outputs": [
    {
     "data": {
      "text/html": [
       "<table>\n",
       "<thead><tr><th></th><th scope=col>isotype</th><th scope=col>clade</th><th scope=col>species</th><th scope=col>quality</th><th scope=col>X18.55</th><th scope=col>X19.56</th><th scope=col>total_tRNAs</th></tr></thead>\n",
       "<tbody>\n",
       "\t<tr><th scope=row>1</th><td>Ala</td><td>Mammalia</td><td>hetGla2</td><td>TRUE</td><td>A:U</td><td>G:U</td><td>18</td></tr>\n",
       "\t<tr><th scope=row>2</th><td>Ala</td><td>Mammalia</td><td>speTri2</td><td>TRUE</td><td>A:U</td><td>G:U</td><td>49</td></tr>\n",
       "\t<tr><th scope=row>3</th><td>Gly</td><td>Mammalia</td><td>micMur1</td><td>TRUE</td><td>A:U</td><td>G:U</td><td>8</td></tr>\n",
       "\t<tr><th scope=row>4</th><td>Ile</td><td>Mammalia</td><td>triMan1</td><td>TRUE</td><td>A:U</td><td>G:U</td><td>10</td></tr>\n",
       "\t<tr><th scope=row>5</th><td>Leu</td><td>Mammalia</td><td>nomLeu3</td><td>TRUE</td><td>A:U</td><td>G:U</td><td>18</td></tr>\n",
       "\t<tr><th scope=row>6</th><td>Lys</td><td>Mammalia</td><td>criGri1</td><td>TRUE</td><td>A:U</td><td>G:U</td><td>39</td></tr>\n",
       "\t<tr><th scope=row>7</th><td>Lys</td><td>Vertebrata</td><td>melUnd1</td><td>TRUE</td><td>A:U</td><td>G:U</td><td>9</td></tr>\n",
       "\t<tr><th scope=row>8</th><td>Lys</td><td>Vertebrata</td><td>oreNil2</td><td>TRUE</td><td>A:U</td><td>G:U</td><td>18</td></tr>\n",
       "\t<tr><th scope=row>9</th><td>Lys</td><td>Mammalia</td><td>otoGar3</td><td>TRUE</td><td>A:U</td><td>G:U</td><td>11</td></tr>\n",
       "</tbody>\n",
       "</table>\n"
      ],
      "text/latex": [
       "\\begin{tabular}{r|lllllll}\n",
       "  & isotype & clade & species & quality & X18.55 & X19.56 & total_tRNAs\\\\\n",
       "\\hline\n",
       "\t1 & Ala & Mammalia & hetGla2 & TRUE & A:U & G:U & 18\\\\\n",
       "\t2 & Ala & Mammalia & speTri2 & TRUE & A:U & G:U & 49\\\\\n",
       "\t3 & Gly & Mammalia & micMur1 & TRUE & A:U & G:U & 8\\\\\n",
       "\t4 & Ile & Mammalia & triMan1 & TRUE & A:U & G:U & 10\\\\\n",
       "\t5 & Leu & Mammalia & nomLeu3 & TRUE & A:U & G:U & 18\\\\\n",
       "\t6 & Lys & Mammalia & criGri1 & TRUE & A:U & G:U & 39\\\\\n",
       "\t7 & Lys & Vertebrata & melUnd1 & TRUE & A:U & G:U & 9\\\\\n",
       "\t8 & Lys & Vertebrata & oreNil2 & TRUE & A:U & G:U & 18\\\\\n",
       "\t9 & Lys & Mammalia & otoGar3 & TRUE & A:U & G:U & 11\\\\\n",
       "\\end{tabular}\n"
      ],
      "text/plain": [
       "Source: local data frame [9 x 7]\n",
       "Groups: isotype, clade, species [9]\n",
       "\n",
       "  isotype      clade species quality X18.55 X19.56 total_tRNAs\n",
       "   <fctr>     <fctr>  <fctr>   <lgl> <fctr> <fctr>       <int>\n",
       "1     Ala   Mammalia hetGla2    TRUE    A:U    G:U          18\n",
       "2     Ala   Mammalia speTri2    TRUE    A:U    G:U          49\n",
       "3     Gly   Mammalia micMur1    TRUE    A:U    G:U           8\n",
       "4     Ile   Mammalia triMan1    TRUE    A:U    G:U          10\n",
       "5     Leu   Mammalia nomLeu3    TRUE    A:U    G:U          18\n",
       "6     Lys   Mammalia criGri1    TRUE    A:U    G:U          39\n",
       "7     Lys Vertebrata melUnd1    TRUE    A:U    G:U           9\n",
       "8     Lys Vertebrata oreNil2    TRUE    A:U    G:U          18\n",
       "9     Lys   Mammalia otoGar3    TRUE    A:U    G:U          11"
      ]
     },
     "execution_count": 25,
     "metadata": {},
     "output_type": "execute_result"
    }
   ],
   "source": [
    "identities %>% select(isotype, clade, species, quality, X18.55, X19.56) %>%\n",
    "  filter(quality) %>%\n",
    "  group_by(isotype, clade, species) %>% mutate(total_tRNAs=n()) %>%\n",
    "  filter(X18.55 == \"A:U\" & X19.56 == \"G:U\")"
   ]
  },
  {
   "cell_type": "markdown",
   "metadata": {},
   "source": [
    "Nope! No enrichment. Each of these species has a lot of tRNAs that can compensate for one faulty tRNA. It's also worth noting that A:U and G:U are the most common single mutations, making it likely that they can still participate in the 3D interaction. Thus, a double mutation may be the strongest non-GU/GC interaction.\n",
    "\n",
    "**Do the fungal proline tRNAs without G18:U55 have G19:C56?** They have to, otherwise they would've appeared in the table above!\n",
    "\n",
    "#### What's known\n",
    "\n",
    "G19 often contains a 2'-O-methyl modification, and in the majority of tested tRNAs, U55 is modified to $\\Psi$. It's known that G18:U55 and G19:C56 are conserved.\n",
    "\n",
    "A kinetics study showed an 80-fold decrease in translation efficiency (because of ribosome docking) without G18:U55 ([Pan et al. 2006](http://www.nature.com/nsmb/journal/v13/n4/full/nsmb1074.html)).\n",
    "\n",
    "#### Summary\n",
    "\n",
    "- 18:55 and 19:56 frequencies have been studied in isolation but not together.\n",
    "- G18:U55 and G19:C56 are vital for forming the tertiary structure at the tRNA elbow, and exist in 96% of tRNAs.\n",
    "- If it's not 100% conserved, is it a clade/isotype IDE, or is it an artifact of high-copy pseudogenes?\n",
    "    - Most of the remaining 4% has one mutation. For the two most egregious isotypes/clades, each species has several more tRNAs of the same isoacceptor to compensate. These can be explained by pseudogenes getting through the quality filter.\n",
    "    - There are also 9 tRNAs with two mutations. All of them are AU/GU, and like before, each species have several more tRNAs of the same isoacceptor to compensate.\n",
    "- Based on this evidence, I would say that having one of G18:U55 and G19:C56 is an identity element.    "
   ]
  },
  {
   "cell_type": "markdown",
   "metadata": {},
   "source": [
    "### Y11:R24\n",
    "\n",
    "#### Number of tRNAs without C11:G24 or U11:A24"
   ]
  },
  {
   "cell_type": "code",
   "execution_count": 26,
   "metadata": {
    "collapsed": false
   },
   "outputs": [
    {
     "data": {
      "text/html": [
       "393"
      ],
      "text/latex": [
       "393"
      ],
      "text/markdown": [
       "393"
      ],
      "text/plain": [
       "[1] 393"
      ]
     },
     "execution_count": 26,
     "metadata": {},
     "output_type": "execute_result"
    }
   ],
   "source": [
    "identities %>% select(clade, species, quality, X11.24) %>%\n",
    "  filter(quality & !(X11.24 %in% c(\"C:G\", \"U:A\"))) %>% nrow()"
   ]
  },
  {
   "cell_type": "markdown",
   "metadata": {},
   "source": [
    "#### Which isotypes/clades/species fail the consensus checks?"
   ]
  },
  {
   "cell_type": "code",
   "execution_count": 27,
   "metadata": {
    "collapsed": false
   },
   "outputs": [
    {
     "data": {
      "text/html": [
       "<table>\n",
       "<thead><tr><th></th><th scope=col>clade</th><th scope=col>isotype</th><th scope=col>status</th><th scope=col>freq</th></tr></thead>\n",
       "<tbody>\n",
       "\t<tr><th scope=row>1</th><td>Fungi</td><td>Val</td><td>FALSE</td><td>0</td></tr>\n",
       "</tbody>\n",
       "</table>\n"
      ],
      "text/latex": [
       "\\begin{tabular}{r|llll}\n",
       "  & clade & isotype & status & freq\\\\\n",
       "\\hline\n",
       "\t1 & Fungi & Val & FALSE & 0\\\\\n",
       "\\end{tabular}\n"
      ],
      "text/plain": [
       "Source: local data frame [1 x 4]\n",
       "Groups: clade [1]\n",
       "\n",
       "  clade isotype status  freq\n",
       "  <chr>   <chr>  <lgl> <dbl>\n",
       "1 Fungi     Val  FALSE     0"
      ]
     },
     "execution_count": 27,
     "metadata": {},
     "output_type": "execute_result"
    },
    {
     "data": {
      "text/html": [
       "<table>\n",
       "<thead><tr><th></th><th scope=col>clade</th><th scope=col>species</th><th scope=col>isotype</th><th scope=col>status</th><th scope=col>freq</th><th scope=col>tRNAs</th></tr></thead>\n",
       "<tbody>\n",
       "</tbody>\n",
       "</table>\n"
      ],
      "text/latex": [
       "\\begin{tabular}{r|llllll}\n",
       "  & clade & species & isotype & status & freq & tRNAs\\\\\n",
       "\\hline\n",
       "\\end{tabular}\n"
      ],
      "text/plain": [
       "Source: local data frame [0 x 6]\n",
       "Groups: clade, species [0]\n",
       "\n",
       "# ... with 6 variables: clade <fctr>, species <fctr>, isotype <fctr>,\n",
       "#   status <lgl>, freq <int>, tRNAs <int>"
      ]
     },
     "execution_count": 27,
     "metadata": {},
     "output_type": "execute_result"
    }
   ],
   "source": [
    "## Clade/isotype check\n",
    "best_freqs %>% filter(positions == 'X11.24') %>% group_by(clade, isotype) %>%\n",
    "  summarize(status=sum((variable %in% c(\"CG\", \"UA\", \"PyrimidinePurine\"))*count)/sum(count) == 1,\n",
    "            freq=((variable %in% c(\"CG\", \"UA\", \"PyrimidinePurine\"))*count)/sum(count)) %>%\n",
    "  filter(!status)\n",
    "\n",
    "## Species check\n",
    "identities %>% select(clade, species, isotype, quality, X11.24) %>%\n",
    "  filter(quality) %>%\n",
    "  group_by(clade, species, isotype) %>%\n",
    "  summarize(status=sum((X11.24 %in% c(\"C:G\", \"U:A\"))/n()) >= 0.1,\n",
    "            freq=sum(X11.24 %in% c(\"C:G\", \"U:A\")), tRNAs=n()) %>% \n",
    "  filter(!status)"
   ]
  },
  {
   "cell_type": "code",
   "execution_count": 28,
   "metadata": {
    "collapsed": false
   },
   "outputs": [
    {
     "data": {
      "text/html": [
       "<table>\n",
       "<thead><tr><th></th><th scope=col>clade</th><th scope=col>isotype</th><th scope=col>X11.24</th><th scope=col>count</th></tr></thead>\n",
       "<tbody>\n",
       "\t<tr><th scope=row>1</th><td>Fungi</td><td>Val</td><td>A:U</td><td>1</td></tr>\n",
       "\t<tr><th scope=row>2</th><td>Fungi</td><td>Val</td><td>C:G</td><td>31</td></tr>\n",
       "\t<tr><th scope=row>3</th><td>Fungi</td><td>Val</td><td>G:C</td><td>1</td></tr>\n",
       "\t<tr><th scope=row>4</th><td>Fungi</td><td>Val</td><td>U:A</td><td>184</td></tr>\n",
       "\t<tr><th scope=row>5</th><td>Fungi</td><td>Val</td><td>U:G</td><td>87</td></tr>\n",
       "</tbody>\n",
       "</table>\n"
      ],
      "text/latex": [
       "\\begin{tabular}{r|llll}\n",
       "  & clade & isotype & X11.24 & count\\\\\n",
       "\\hline\n",
       "\t1 & Fungi & Val & A:U & 1\\\\\n",
       "\t2 & Fungi & Val & C:G & 31\\\\\n",
       "\t3 & Fungi & Val & G:C & 1\\\\\n",
       "\t4 & Fungi & Val & U:A & 184\\\\\n",
       "\t5 & Fungi & Val & U:G & 87\\\\\n",
       "\\end{tabular}\n"
      ],
      "text/plain": [
       "Source: local data frame [5 x 4]\n",
       "Groups: clade, isotype [?]\n",
       "\n",
       "   clade isotype X11.24 count\n",
       "  <fctr>  <fctr> <fctr> <int>\n",
       "1  Fungi     Val    A:U     1\n",
       "2  Fungi     Val    C:G    31\n",
       "3  Fungi     Val    G:C     1\n",
       "4  Fungi     Val    U:A   184\n",
       "5  Fungi     Val    U:G    87"
      ]
     },
     "execution_count": 28,
     "metadata": {},
     "output_type": "execute_result"
    }
   ],
   "source": [
    "identities %>% select(clade, quality, isotype, X11.24) %>%\n",
    "  filter(quality & clade == \"Fungi\" & isotype == \"Val\") %>%\n",
    "  group_by(clade, isotype, X11.24) %>%\n",
    "  summarize(count=n())"
   ]
  },
  {
   "cell_type": "markdown",
   "metadata": {},
   "source": [
    "Although pyrimidine:purine passes the species check, it doesn't meet the 90% threshold required in fungal valine tRNAs due to a high frequency of U11:G24 (though technically, it is also a pyrimidine:purine interaction).\n",
    "\n",
    "#### What's known\n",
    "\n",
    "- [Ohana et al. 1994](http://dx.doi.org/10.1006/abbi.1994.1503) studied yeast Ser, which contains C11:G24. A switch to G11:C24 decreased aminoacylation efficiency to 78%.\n",
    "- C11:G24, along with G10:C25, are vital for m$^2_2$G26, according to [Edqvist et al. 1992](https://doi.org/10.1093/nar/20.24.6575). However, other eukaryotes such as _Drosophila_ contain the modification even without these identities.\n",
    "- U11:A24 prevents RNase P processing in _Drosophila_ ([Levinger et al. 1995](10.1074/jbc.270.32.18903)). It's noted that the tRNA probably folds correctly, and the recognition is stalled by \"local helix deformation\". \n",
    "- This identity element is also important in mitochondrial tRNAs ([Takeuchi et al. 2001)](http://www.jbc.org/content/276/23/20064.full))."
   ]
  },
  {
   "cell_type": "markdown",
   "metadata": {},
   "source": [
    "#### What's new\n",
    "\n",
    "#### Covariance of 10:25 and 11:24 with respect to U:G"
   ]
  },
  {
   "cell_type": "code",
   "execution_count": 29,
   "metadata": {
    "collapsed": false
   },
   "outputs": [
    {
     "name": "stderr",
     "output_type": "stream",
     "text": [
      "Adding missing grouping variables: `total`\n"
     ]
    },
    {
     "data": {
      "text/html": [
       "<table>\n",
       "<thead><tr><th></th><th scope=col>total</th><th scope=col>clade</th><th scope=col>X11.24</th><th scope=col>G:C</th><th scope=col>G:U</th></tr></thead>\n",
       "<tbody>\n",
       "\t<tr><th scope=row>1</th><td>846</td><td>Fungi</td><td>C:G</td><td>0.04373522</td><td>0</td></tr>\n",
       "\t<tr><th scope=row>2</th><td>846</td><td>Fungi</td><td>U:A</td><td>0.4160757</td><td>0.04137116</td></tr>\n",
       "\t<tr><th scope=row>3</th><td>846</td><td>Fungi</td><td>U:G</td><td>0.4787234</td><td>0</td></tr>\n",
       "\t<tr><th scope=row>4</th><td>3862</td><td>Other</td><td>U:A</td><td>0.9093734</td><td>0.07353703</td></tr>\n",
       "</tbody>\n",
       "</table>\n"
      ],
      "text/latex": [
       "\\begin{tabular}{r|lllll}\n",
       "  & total & clade & X11.24 & G:C & G:U\\\\\n",
       "\\hline\n",
       "\t1 & 846 & Fungi & C:G & 0.04373522 & 0\\\\\n",
       "\t2 & 846 & Fungi & U:A & 0.4160757 & 0.04137116\\\\\n",
       "\t3 & 846 & Fungi & U:G & 0.4787234 & 0\\\\\n",
       "\t4 & 3862 & Other & U:A & 0.9093734 & 0.07353703\\\\\n",
       "\\end{tabular}\n"
      ],
      "text/plain": [
       "Source: local data frame [4 x 5]\n",
       "Groups: clade, total [2]\n",
       "\n",
       "  total clade X11.24      `G:C`      `G:U`\n",
       "* <int> <chr> <fctr>      <dbl>      <dbl>\n",
       "1   846 Fungi    C:G 0.04373522 0.00000000\n",
       "2   846 Fungi    U:A 0.41607565 0.04137116\n",
       "3   846 Fungi    U:G 0.47872340 0.00000000\n",
       "4  3862 Other    U:A 0.90937338 0.07353703"
      ]
     },
     "execution_count": 29,
     "metadata": {},
     "output_type": "execute_result"
    }
   ],
   "source": [
    "identities %>% select(clade, isotype, quality, X10.25, X11.24) %>%\n",
    "  filter(isotype == \"Val\") %>%\n",
    "  mutate(clade=ifelse(clade == \"Fungi\", \"Fungi\", \"Other\")) %>%\n",
    "  filter(X11.24 %in% c(\"U:A\", \"C:G\", \"U:G\")) %>%\n",
    "  group_by(clade) %>%\n",
    "  mutate(total=n()) %>%\n",
    "  group_by(clade, total, X10.25, X11.24) %>%\n",
    "  summarize(count=n()) %>%\n",
    "  mutate(freq=count/total) %>%\n",
    "  filter(freq > 0.01) %>%\n",
    "  select(-total, -count) %>%\n",
    "  spread(X10.25, freq, fill=0)"
   ]
  },
  {
   "cell_type": "markdown",
   "metadata": {},
   "source": [
    "A whopping **48%** of fungal valine tRNAs contain G10:C25 and U11:G24. This is very different from other eukaryotic valines, which hovers around 91% for G10:C25 and U11:A24. This seems to be tolerated specifically in fungal valine tRNAs. This could potentially be a switch for modification or for cleavage.\n",
    "\n",
    "### R15:Y48\n",
    "\n",
    "#### Number of tRNAs without R15:Y48"
   ]
  },
  {
   "cell_type": "code",
   "execution_count": 30,
   "metadata": {
    "collapsed": false
   },
   "outputs": [
    {
     "data": {
      "text/html": [
       "1266"
      ],
      "text/latex": [
       "1266"
      ],
      "text/markdown": [
       "1266"
      ],
      "text/plain": [
       "[1] 1266"
      ]
     },
     "execution_count": 30,
     "metadata": {},
     "output_type": "execute_result"
    }
   ],
   "source": [
    "identities %>% select(clade, species, quality, X15.48) %>%\n",
    "  filter(quality & !(X15.48 %in% c('G:C', 'A:U'))) %>% nrow()"
   ]
  },
  {
   "cell_type": "markdown",
   "metadata": {},
   "source": [
    "#### Which isotypes/clades/species fail the consensus checks?"
   ]
  },
  {
   "cell_type": "code",
   "execution_count": 31,
   "metadata": {
    "collapsed": false,
    "scrolled": true
   },
   "outputs": [
    {
     "data": {
      "text/html": [
       "<table>\n",
       "<thead><tr><th></th><th scope=col>clade</th><th scope=col>isotype</th><th scope=col>status</th></tr></thead>\n",
       "<tbody>\n",
       "\t<tr><th scope=row>1</th><td>Mammalia</td><td>Lys</td><td>FALSE</td></tr>\n",
       "\t<tr><th scope=row>2</th><td>Spermatophyta</td><td>Ala</td><td>FALSE</td></tr>\n",
       "\t<tr><th scope=row>3</th><td>Streptophyta</td><td>Ala</td><td>FALSE</td></tr>\n",
       "\t<tr><th scope=row>4</th><td>Streptophyta</td><td>Asp</td><td>FALSE</td></tr>\n",
       "\t<tr><th scope=row>5</th><td>Streptophyta</td><td>Lys</td><td>FALSE</td></tr>\n",
       "\t<tr><th scope=row>6</th><td>Vertebrata</td><td>iMet</td><td>FALSE</td></tr>\n",
       "</tbody>\n",
       "</table>\n"
      ],
      "text/latex": [
       "\\begin{tabular}{r|lll}\n",
       "  & clade & isotype & status\\\\\n",
       "\\hline\n",
       "\t1 & Mammalia & Lys & FALSE\\\\\n",
       "\t2 & Spermatophyta & Ala & FALSE\\\\\n",
       "\t3 & Streptophyta & Ala & FALSE\\\\\n",
       "\t4 & Streptophyta & Asp & FALSE\\\\\n",
       "\t5 & Streptophyta & Lys & FALSE\\\\\n",
       "\t6 & Vertebrata & iMet & FALSE\\\\\n",
       "\\end{tabular}\n"
      ],
      "text/plain": [
       "Source: local data frame [6 x 3]\n",
       "Groups: clade [4]\n",
       "\n",
       "          clade isotype status\n",
       "          <chr>   <chr>  <lgl>\n",
       "1      Mammalia     Lys  FALSE\n",
       "2 Spermatophyta     Ala  FALSE\n",
       "3  Streptophyta     Ala  FALSE\n",
       "4  Streptophyta     Asp  FALSE\n",
       "5  Streptophyta     Lys  FALSE\n",
       "6    Vertebrata    iMet  FALSE"
      ]
     },
     "execution_count": 31,
     "metadata": {},
     "output_type": "execute_result"
    },
    {
     "data": {
      "text/html": [
       "<table>\n",
       "<thead><tr><th></th><th scope=col>clade</th><th scope=col>species</th><th scope=col>isotype</th><th scope=col>status</th><th scope=col>freq</th><th scope=col>tRNAs</th></tr></thead>\n",
       "<tbody>\n",
       "\t<tr><th scope=row>1</th><td>Fungi</td><td>ashbGoss_ATCC10895</td><td>Glu</td><td>FALSE</td><td>0</td><td>2</td></tr>\n",
       "\t<tr><th scope=row>2</th><td>Fungi</td><td>aspeFumi_AF293</td><td>Asp</td><td>FALSE</td><td>0</td><td>2</td></tr>\n",
       "\t<tr><th scope=row>3</th><td>Fungi</td><td>aspeNidu_FGSC_A4</td><td>Asp</td><td>FALSE</td><td>0</td><td>1</td></tr>\n",
       "\t<tr><th scope=row>4</th><td>Fungi</td><td>botrCine_B05_10</td><td>Phe</td><td>FALSE</td><td>0</td><td>4</td></tr>\n",
       "\t<tr><th scope=row>5</th><td>Fungi</td><td>candGlab_CBS_138</td><td>Glu</td><td>FALSE</td><td>0</td><td>2</td></tr>\n",
       "\t<tr><th scope=row>6</th><td>Fungi</td><td>candOrth_CO_90_125</td><td>Phe</td><td>FALSE</td><td>0</td><td>1</td></tr>\n",
       "\t<tr><th scope=row>7</th><td>Fungi</td><td>crypGatt_WM276</td><td>Ala</td><td>FALSE</td><td>0</td><td>1</td></tr>\n",
       "\t<tr><th scope=row>8</th><td>Fungi</td><td>crypNeof_VAR_GRUBII_H99</td><td>Ala</td><td>FALSE</td><td>0</td><td>1</td></tr>\n",
       "\t<tr><th scope=row>9</th><td>Fungi</td><td>crypNeof_VAR_GRUBII_H99</td><td>Gln</td><td>FALSE</td><td>0</td><td>1</td></tr>\n",
       "\t<tr><th scope=row>10</th><td>Fungi</td><td>crypNeof_VAR_NEOFORMANS_B_3501</td><td>Ala</td><td>FALSE</td><td>0</td><td>1</td></tr>\n",
       "\t<tr><th scope=row>11</th><td>Fungi</td><td>crypNeof_VAR_NEOFORMANS_B_3501</td><td>Gln</td><td>FALSE</td><td>0</td><td>1</td></tr>\n",
       "\t<tr><th scope=row>12</th><td>Fungi</td><td>crypNeof_VAR_NEOFORMANS_JEC21</td><td>Ala</td><td>FALSE</td><td>0</td><td>1</td></tr>\n",
       "\t<tr><th scope=row>13</th><td>Fungi</td><td>crypNeof_VAR_NEOFORMANS_JEC21</td><td>Gln</td><td>FALSE</td><td>0</td><td>1</td></tr>\n",
       "\t<tr><th scope=row>14</th><td>Fungi</td><td>cybeJadi_NBRC_0988_NBRC0988</td><td>Glu</td><td>FALSE</td><td>0</td><td>1</td></tr>\n",
       "\t<tr><th scope=row>15</th><td>Fungi</td><td>enceCuni_GB_M1</td><td>Glu</td><td>FALSE</td><td>0</td><td>1</td></tr>\n",
       "\t<tr><th scope=row>16</th><td>Fungi</td><td>enceCuni_GB_M1</td><td>His</td><td>FALSE</td><td>0</td><td>1</td></tr>\n",
       "\t<tr><th scope=row>17</th><td>Fungi</td><td>enceHell_ATCC50504</td><td>Glu</td><td>FALSE</td><td>0</td><td>1</td></tr>\n",
       "\t<tr><th scope=row>18</th><td>Fungi</td><td>enceHell_ATCC50504</td><td>His</td><td>FALSE</td><td>0</td><td>1</td></tr>\n",
       "\t<tr><th scope=row>19</th><td>Fungi</td><td>enceInte_ATCC50506</td><td>Glu</td><td>FALSE</td><td>0</td><td>1</td></tr>\n",
       "\t<tr><th scope=row>20</th><td>Fungi</td><td>enceInte_ATCC50506</td><td>His</td><td>FALSE</td><td>0</td><td>1</td></tr>\n",
       "\t<tr><th scope=row>21</th><td>Fungi</td><td>enceRoma_SJ_2008</td><td>Glu</td><td>FALSE</td><td>0</td><td>1</td></tr>\n",
       "\t<tr><th scope=row>22</th><td>Fungi</td><td>enceRoma_SJ_2008</td><td>His</td><td>FALSE</td><td>0</td><td>1</td></tr>\n",
       "\t<tr><th scope=row>23</th><td>Fungi</td><td>eremCymb_DBVPG#7215</td><td>Glu</td><td>FALSE</td><td>0</td><td>4</td></tr>\n",
       "\t<tr><th scope=row>24</th><td>Fungi</td><td>kazaAfri_CBS_2517</td><td>Glu</td><td>FALSE</td><td>0</td><td>2</td></tr>\n",
       "\t<tr><th scope=row>25</th><td>Fungi</td><td>kluyLact_NRRL_Y_1140</td><td>Glu</td><td>FALSE</td><td>0</td><td>2</td></tr>\n",
       "\t<tr><th scope=row>26</th><td>Fungi</td><td>komaPast_CBS_7435</td><td>Glu</td><td>FALSE</td><td>0</td><td>2</td></tr>\n",
       "\t<tr><th scope=row>27</th><td>Fungi</td><td>komaPast_GS115</td><td>Glu</td><td>FALSE</td><td>0</td><td>2</td></tr>\n",
       "\t<tr><th scope=row>28</th><td>Fungi</td><td>lachKluy_NRRL_Y_12651</td><td>Glu</td><td>FALSE</td><td>0</td><td>2</td></tr>\n",
       "\t<tr><th scope=row>29</th><td>Fungi</td><td>magnOryz_70_15</td><td>Gly</td><td>FALSE</td><td>0</td><td>2</td></tr>\n",
       "\t<tr><th scope=row>30</th><td>Fungi</td><td>naumCast_CBS_4309</td><td>Glu</td><td>FALSE</td><td>0</td><td>3</td></tr>\n",
       "\t<tr><th scope=row>31</th><td>Fungi</td><td>naumDair_CBS_421</td><td>Glu</td><td>FALSE</td><td>0</td><td>3</td></tr>\n",
       "\t<tr><th scope=row>32</th><td>Fungi</td><td>ogatPara_DL_1</td><td>Glu</td><td>FALSE</td><td>0</td><td>1</td></tr>\n",
       "\t<tr><th scope=row>33</th><td>Fungi</td><td>sacCer3</td><td>Glu</td><td>FALSE</td><td>0</td><td>2</td></tr>\n",
       "\t<tr><th scope=row>34</th><td>Fungi</td><td>saccSp_ASHBYA_ACERI</td><td>Glu</td><td>FALSE</td><td>0</td><td>2</td></tr>\n",
       "\t<tr><th scope=row>35</th><td>Fungi</td><td>saccSp_BOULARDII_17</td><td>Glu</td><td>FALSE</td><td>0</td><td>2</td></tr>\n",
       "\t<tr><th scope=row>36</th><td>Fungi</td><td>saccSp_BOULARDII_ATCCMYA_796</td><td>Glu</td><td>FALSE</td><td>0</td><td>2</td></tr>\n",
       "\t<tr><th scope=row>37</th><td>Fungi</td><td>schiPomb_972H</td><td>Gln</td><td>FALSE</td><td>0</td><td>2</td></tr>\n",
       "\t<tr><th scope=row>38</th><td>Fungi</td><td>tetrPhaf_CBS_4417</td><td>Glu</td><td>FALSE</td><td>0</td><td>3</td></tr>\n",
       "\t<tr><th scope=row>39</th><td>Fungi</td><td>toruDelb_CBS_1146</td><td>Glu</td><td>FALSE</td><td>0</td><td>2</td></tr>\n",
       "\t<tr><th scope=row>40</th><td>Fungi</td><td>vertDahl_JR2</td><td>Gln</td><td>FALSE</td><td>0</td><td>1</td></tr>\n",
       "\t<tr><th scope=row>41</th><td>Fungi</td><td>vertDahl_VDLS_17</td><td>Gln</td><td>FALSE</td><td>0</td><td>1</td></tr>\n",
       "\t<tr><th scope=row>42</th><td>Fungi</td><td>zygoRoux_CBS_732</td><td>Glu</td><td>FALSE</td><td>0</td><td>2</td></tr>\n",
       "\t<tr><th scope=row>43</th><td>Nematoda</td><td>priPac1</td><td>Asn</td><td>FALSE</td><td>0</td><td>5</td></tr>\n",
       "\t<tr><th scope=row>44</th><td>Spermatophyta</td><td>araTha1</td><td>Ala</td><td>FALSE</td><td>0</td><td>7</td></tr>\n",
       "\t<tr><th scope=row>45</th><td>Spermatophyta</td><td>manEsc6</td><td>Ala</td><td>FALSE</td><td>0</td><td>22</td></tr>\n",
       "\t<tr><th scope=row>46</th><td>Spermatophyta</td><td>vitVin1</td><td>Ala</td><td>FALSE</td><td>0</td><td>9</td></tr>\n",
       "\t<tr><th scope=row>47</th><td>Streptophyta</td><td>braDis3</td><td>Ala</td><td>FALSE</td><td>0</td><td>5</td></tr>\n",
       "\t<tr><th scope=row>48</th><td>Streptophyta</td><td>glyMax2</td><td>Ala</td><td>FALSE</td><td>0</td><td>9</td></tr>\n",
       "\t<tr><th scope=row>49</th><td>Streptophyta</td><td>gosRai2</td><td>Ala</td><td>FALSE</td><td>0</td><td>10</td></tr>\n",
       "\t<tr><th scope=row>50</th><td>Streptophyta</td><td>medTru4</td><td>Ala</td><td>FALSE</td><td>0</td><td>18</td></tr>\n",
       "\t<tr><th scope=row>51</th><td>Streptophyta</td><td>orySat7</td><td>Ala</td><td>FALSE</td><td>0</td><td>7</td></tr>\n",
       "\t<tr><th scope=row>52</th><td>Streptophyta</td><td>popTri3</td><td>Ala</td><td>FALSE</td><td>0</td><td>9</td></tr>\n",
       "\t<tr><th scope=row>53</th><td>Streptophyta</td><td>sorBic3</td><td>Ala</td><td>FALSE</td><td>0</td><td>7</td></tr>\n",
       "\t<tr><th scope=row>54</th><td>Streptophyta</td><td>zeaMay6</td><td>Ala</td><td>FALSE</td><td>0</td><td>27</td></tr>\n",
       "</tbody>\n",
       "</table>\n"
      ],
      "text/latex": [
       "\\begin{tabular}{r|llllll}\n",
       "  & clade & species & isotype & status & freq & tRNAs\\\\\n",
       "\\hline\n",
       "\t1 & Fungi & ashbGoss_ATCC10895 & Glu & FALSE & 0 & 2\\\\\n",
       "\t2 & Fungi & aspeFumi_AF293 & Asp & FALSE & 0 & 2\\\\\n",
       "\t3 & Fungi & aspeNidu_FGSC_A4 & Asp & FALSE & 0 & 1\\\\\n",
       "\t4 & Fungi & botrCine_B05_10 & Phe & FALSE & 0 & 4\\\\\n",
       "\t5 & Fungi & candGlab_CBS_138 & Glu & FALSE & 0 & 2\\\\\n",
       "\t6 & Fungi & candOrth_CO_90_125 & Phe & FALSE & 0 & 1\\\\\n",
       "\t7 & Fungi & crypGatt_WM276 & Ala & FALSE & 0 & 1\\\\\n",
       "\t8 & Fungi & crypNeof_VAR_GRUBII_H99 & Ala & FALSE & 0 & 1\\\\\n",
       "\t9 & Fungi & crypNeof_VAR_GRUBII_H99 & Gln & FALSE & 0 & 1\\\\\n",
       "\t10 & Fungi & crypNeof_VAR_NEOFORMANS_B_3501 & Ala & FALSE & 0 & 1\\\\\n",
       "\t11 & Fungi & crypNeof_VAR_NEOFORMANS_B_3501 & Gln & FALSE & 0 & 1\\\\\n",
       "\t12 & Fungi & crypNeof_VAR_NEOFORMANS_JEC21 & Ala & FALSE & 0 & 1\\\\\n",
       "\t13 & Fungi & crypNeof_VAR_NEOFORMANS_JEC21 & Gln & FALSE & 0 & 1\\\\\n",
       "\t14 & Fungi & cybeJadi_NBRC_0988_NBRC0988 & Glu & FALSE & 0 & 1\\\\\n",
       "\t15 & Fungi & enceCuni_GB_M1 & Glu & FALSE & 0 & 1\\\\\n",
       "\t16 & Fungi & enceCuni_GB_M1 & His & FALSE & 0 & 1\\\\\n",
       "\t17 & Fungi & enceHell_ATCC50504 & Glu & FALSE & 0 & 1\\\\\n",
       "\t18 & Fungi & enceHell_ATCC50504 & His & FALSE & 0 & 1\\\\\n",
       "\t19 & Fungi & enceInte_ATCC50506 & Glu & FALSE & 0 & 1\\\\\n",
       "\t20 & Fungi & enceInte_ATCC50506 & His & FALSE & 0 & 1\\\\\n",
       "\t21 & Fungi & enceRoma_SJ_2008 & Glu & FALSE & 0 & 1\\\\\n",
       "\t22 & Fungi & enceRoma_SJ_2008 & His & FALSE & 0 & 1\\\\\n",
       "\t23 & Fungi & eremCymb_DBVPG#7215 & Glu & FALSE & 0 & 4\\\\\n",
       "\t24 & Fungi & kazaAfri_CBS_2517 & Glu & FALSE & 0 & 2\\\\\n",
       "\t25 & Fungi & kluyLact_NRRL_Y_1140 & Glu & FALSE & 0 & 2\\\\\n",
       "\t26 & Fungi & komaPast_CBS_7435 & Glu & FALSE & 0 & 2\\\\\n",
       "\t27 & Fungi & komaPast_GS115 & Glu & FALSE & 0 & 2\\\\\n",
       "\t28 & Fungi & lachKluy_NRRL_Y_12651 & Glu & FALSE & 0 & 2\\\\\n",
       "\t29 & Fungi & magnOryz_70_15 & Gly & FALSE & 0 & 2\\\\\n",
       "\t30 & Fungi & naumCast_CBS_4309 & Glu & FALSE & 0 & 3\\\\\n",
       "\t31 & Fungi & naumDair_CBS_421 & Glu & FALSE & 0 & 3\\\\\n",
       "\t32 & Fungi & ogatPara_DL_1 & Glu & FALSE & 0 & 1\\\\\n",
       "\t33 & Fungi & sacCer3 & Glu & FALSE & 0 & 2\\\\\n",
       "\t34 & Fungi & saccSp_ASHBYA_ACERI & Glu & FALSE & 0 & 2\\\\\n",
       "\t35 & Fungi & saccSp_BOULARDII_17 & Glu & FALSE & 0 & 2\\\\\n",
       "\t36 & Fungi & saccSp_BOULARDII_ATCCMYA_796 & Glu & FALSE & 0 & 2\\\\\n",
       "\t37 & Fungi & schiPomb_972H & Gln & FALSE & 0 & 2\\\\\n",
       "\t38 & Fungi & tetrPhaf_CBS_4417 & Glu & FALSE & 0 & 3\\\\\n",
       "\t39 & Fungi & toruDelb_CBS_1146 & Glu & FALSE & 0 & 2\\\\\n",
       "\t40 & Fungi & vertDahl_JR2 & Gln & FALSE & 0 & 1\\\\\n",
       "\t41 & Fungi & vertDahl_VDLS_17 & Gln & FALSE & 0 & 1\\\\\n",
       "\t42 & Fungi & zygoRoux_CBS_732 & Glu & FALSE & 0 & 2\\\\\n",
       "\t43 & Nematoda & priPac1 & Asn & FALSE & 0 & 5\\\\\n",
       "\t44 & Spermatophyta & araTha1 & Ala & FALSE & 0 & 7\\\\\n",
       "\t45 & Spermatophyta & manEsc6 & Ala & FALSE & 0 & 22\\\\\n",
       "\t46 & Spermatophyta & vitVin1 & Ala & FALSE & 0 & 9\\\\\n",
       "\t47 & Streptophyta & braDis3 & Ala & FALSE & 0 & 5\\\\\n",
       "\t48 & Streptophyta & glyMax2 & Ala & FALSE & 0 & 9\\\\\n",
       "\t49 & Streptophyta & gosRai2 & Ala & FALSE & 0 & 10\\\\\n",
       "\t50 & Streptophyta & medTru4 & Ala & FALSE & 0 & 18\\\\\n",
       "\t51 & Streptophyta & orySat7 & Ala & FALSE & 0 & 7\\\\\n",
       "\t52 & Streptophyta & popTri3 & Ala & FALSE & 0 & 9\\\\\n",
       "\t53 & Streptophyta & sorBic3 & Ala & FALSE & 0 & 7\\\\\n",
       "\t54 & Streptophyta & zeaMay6 & Ala & FALSE & 0 & 27\\\\\n",
       "\\end{tabular}\n"
      ],
      "text/plain": [
       "Source: local data frame [54 x 6]\n",
       "Groups: clade, species [47]\n",
       "\n",
       "    clade                        species isotype status  freq tRNAs\n",
       "   <fctr>                         <fctr>  <fctr>  <lgl> <int> <int>\n",
       "1   Fungi             ashbGoss_ATCC10895     Glu  FALSE     0     2\n",
       "2   Fungi                 aspeFumi_AF293     Asp  FALSE     0     2\n",
       "3   Fungi               aspeNidu_FGSC_A4     Asp  FALSE     0     1\n",
       "4   Fungi                botrCine_B05_10     Phe  FALSE     0     4\n",
       "5   Fungi               candGlab_CBS_138     Glu  FALSE     0     2\n",
       "6   Fungi             candOrth_CO_90_125     Phe  FALSE     0     1\n",
       "7   Fungi                 crypGatt_WM276     Ala  FALSE     0     1\n",
       "8   Fungi        crypNeof_VAR_GRUBII_H99     Ala  FALSE     0     1\n",
       "9   Fungi        crypNeof_VAR_GRUBII_H99     Gln  FALSE     0     1\n",
       "10  Fungi crypNeof_VAR_NEOFORMANS_B_3501     Ala  FALSE     0     1\n",
       "# ... with 44 more rows"
      ]
     },
     "execution_count": 31,
     "metadata": {},
     "output_type": "execute_result"
    }
   ],
   "source": [
    "## Clade/isotype check\n",
    "best_freqs %>% filter(positions == 'X15.48') %>% group_by(clade, isotype) %>%\n",
    "  summarize(status=sum((variable %in% c('GC', 'AU', 'PurinePyrimidine'))*count)/sum(count) == 1) %>%\n",
    "  filter(!status)\n",
    "\n",
    "## Species check\n",
    "identities %>% select(clade, species, isotype, quality, X15.48) %>%\n",
    "  filter(quality) %>%\n",
    "  group_by(clade, species, isotype) %>%\n",
    "  summarize(status=sum((X15.48 %in% c('G:C', 'A:U'))/n()) >= 0.1,\n",
    "            freq=sum(X15.48 %in% c('G:C', 'A:U')), tRNAs=n()) %>%\n",
    "  filter(!status)"
   ]
  },
  {
   "cell_type": "markdown",
   "metadata": {},
   "source": [
    "This one's the Levitt base pair, and has been shown in E. coli to tolerate different combinations other than R15:Y48. Despite the historical hubbub, it looks like a typical clade/isotype-specific IDE.\n",
    "\n",
    "### A21 and 8-14-21\n",
    "\n",
    "#### Number of tRNAs without A21 or U8-A14-A21"
   ]
  },
  {
   "cell_type": "code",
   "execution_count": 32,
   "metadata": {
    "collapsed": false
   },
   "outputs": [
    {
     "data": {
      "text/html": [
       "4"
      ],
      "text/latex": [
       "4"
      ],
      "text/markdown": [
       "4"
      ],
      "text/plain": [
       "[1] 4"
      ]
     },
     "execution_count": 32,
     "metadata": {},
     "output_type": "execute_result"
    },
    {
     "data": {
      "text/html": [
       "133"
      ],
      "text/latex": [
       "133"
      ],
      "text/markdown": [
       "133"
      ],
      "text/plain": [
       "[1] 133"
      ]
     },
     "execution_count": 32,
     "metadata": {},
     "output_type": "execute_result"
    }
   ],
   "source": [
    "identities %>% select(clade, species, quality, X8.14, X21) %>%\n",
    "  filter(quality & X8.14 != 'U:A' & X21 != 'A') %>% nrow()\n",
    "\n",
    "identities %>% select(clade, species, quality, X8.14, X21) %>%\n",
    "  filter(quality & X21 != 'A') %>% nrow()"
   ]
  },
  {
   "cell_type": "markdown",
   "metadata": {},
   "source": [
    "Even though U:A:A is almost universally conserved, I'm going to focus on A21. The 4 tRNAs without U:A:A can easily be explained away by compensatory tRNAs with U:A:A.\n",
    "\n",
    "#### Which isotypes/clades/species fail the consensus checks?"
   ]
  },
  {
   "cell_type": "code",
   "execution_count": 33,
   "metadata": {
    "collapsed": false,
    "scrolled": true
   },
   "outputs": [
    {
     "data": {
      "text/html": [
       "<table>\n",
       "<thead><tr><th></th><th scope=col>clade</th><th scope=col>isotype</th><th scope=col>status</th></tr></thead>\n",
       "<tbody>\n",
       "</tbody>\n",
       "</table>\n"
      ],
      "text/latex": [
       "\\begin{tabular}{r|lll}\n",
       "  & clade & isotype & status\\\\\n",
       "\\hline\n",
       "\\end{tabular}\n"
      ],
      "text/plain": [
       "Source: local data frame [0 x 3]\n",
       "Groups: clade [0]\n",
       "\n",
       "# ... with 3 variables: clade <chr>, isotype <chr>, status <lgl>"
      ]
     },
     "execution_count": 33,
     "metadata": {},
     "output_type": "execute_result"
    },
    {
     "data": {
      "text/html": [
       "<table>\n",
       "<thead><tr><th></th><th scope=col>clade</th><th scope=col>species</th><th scope=col>isotype</th><th scope=col>status</th><th scope=col>freq</th><th scope=col>tRNAs</th></tr></thead>\n",
       "<tbody>\n",
       "\t<tr><th scope=row>1</th><td>Fungi</td><td>aspeNidu_FGSC_A4</td><td>Phe</td><td>FALSE</td><td>0</td><td>2</td></tr>\n",
       "\t<tr><th scope=row>2</th><td>Fungi</td><td>sporReil_SRZ2</td><td>Phe</td><td>FALSE</td><td>0</td><td>4</td></tr>\n",
       "\t<tr><th scope=row>3</th><td>Fungi</td><td>ustiMayd_521</td><td>Phe</td><td>FALSE</td><td>0</td><td>2</td></tr>\n",
       "</tbody>\n",
       "</table>\n"
      ],
      "text/latex": [
       "\\begin{tabular}{r|llllll}\n",
       "  & clade & species & isotype & status & freq & tRNAs\\\\\n",
       "\\hline\n",
       "\t1 & Fungi & aspeNidu_FGSC_A4 & Phe & FALSE & 0 & 2\\\\\n",
       "\t2 & Fungi & sporReil_SRZ2 & Phe & FALSE & 0 & 4\\\\\n",
       "\t3 & Fungi & ustiMayd_521 & Phe & FALSE & 0 & 2\\\\\n",
       "\\end{tabular}\n"
      ],
      "text/plain": [
       "Source: local data frame [3 x 6]\n",
       "Groups: clade, species [3]\n",
       "\n",
       "   clade          species isotype status  freq tRNAs\n",
       "  <fctr>           <fctr>  <fctr>  <lgl> <int> <int>\n",
       "1  Fungi aspeNidu_FGSC_A4     Phe  FALSE     0     2\n",
       "2  Fungi    sporReil_SRZ2     Phe  FALSE     0     4\n",
       "3  Fungi     ustiMayd_521     Phe  FALSE     0     2"
      ]
     },
     "execution_count": 33,
     "metadata": {},
     "output_type": "execute_result"
    }
   ],
   "source": [
    "## Clade/isotype check\n",
    "best_freqs %>% filter(positions == 'X21') %>% group_by(clade, isotype) %>%\n",
    "  summarize(status=sum((variable == 'A')*count)/sum(count) == 1) %>%\n",
    "  filter(!status)\n",
    "\n",
    "## Species check\n",
    "identities %>% select(clade, species, isotype, quality, X21) %>%\n",
    "  filter(quality) %>%\n",
    "  group_by(clade, species, isotype) %>%\n",
    "  summarize(status=sum(X21 == 'A')/n() >= 0.1,\n",
    "            freq=sum(X21 == 'A'), tRNAs=n()) %>%\n",
    "  filter(!status)"
   ]
  },
  {
   "cell_type": "code",
   "execution_count": 34,
   "metadata": {
    "collapsed": false
   },
   "outputs": [
    {
     "data": {
      "text/html": [
       "<table>\n",
       "<thead><tr><th></th><th scope=col>clade</th><th scope=col>species</th><th scope=col>isotype</th><th scope=col>anticodon</th><th scope=col>score</th><th scope=col>isoscore</th><th scope=col>quality</th><th scope=col>X8</th><th scope=col>X14</th><th scope=col>X15</th><th scope=col>X16</th><th scope=col>X17</th><th scope=col>X17a</th><th scope=col>X18</th><th scope=col>X19</th><th scope=col>X20</th><th scope=col>X20a</th><th scope=col>X20b</th><th scope=col>X21</th><th scope=col>X22</th></tr></thead>\n",
       "<tbody>\n",
       "\t<tr><th scope=row>1</th><td>Fungi</td><td>aspeNidu_FGSC_A4</td><td>Phe</td><td>GAA</td><td>65</td><td>86.7</td><td>TRUE</td><td>U</td><td>A</td><td>G</td><td>U</td><td>U</td><td>-</td><td>G</td><td>G</td><td>U</td><td>A</td><td>-</td><td>U</td><td>G</td></tr>\n",
       "\t<tr><th scope=row>2</th><td>Fungi</td><td>aspeNidu_FGSC_A4</td><td>Phe</td><td>GAA</td><td>65.1</td><td>86.7</td><td>TRUE</td><td>U</td><td>A</td><td>G</td><td>U</td><td>U</td><td>-</td><td>G</td><td>G</td><td>U</td><td>A</td><td>-</td><td>U</td><td>G</td></tr>\n",
       "\t<tr><th scope=row>3</th><td>Fungi</td><td>sporReil_SRZ2</td><td>Phe</td><td>GAA</td><td>56.5</td><td>97.8</td><td>TRUE</td><td>U</td><td>A</td><td>G</td><td>U</td><td>U</td><td>-</td><td>G</td><td>G</td><td>U</td><td>A</td><td>-</td><td>C</td><td>G</td></tr>\n",
       "\t<tr><th scope=row>4</th><td>Fungi</td><td>sporReil_SRZ2</td><td>Phe</td><td>GAA</td><td>63.8</td><td>100</td><td>TRUE</td><td>U</td><td>A</td><td>G</td><td>U</td><td>U</td><td>-</td><td>G</td><td>G</td><td>U</td><td>A</td><td>-</td><td>C</td><td>G</td></tr>\n",
       "\t<tr><th scope=row>5</th><td>Fungi</td><td>sporReil_SRZ2</td><td>Phe</td><td>GAA</td><td>60.9</td><td>101</td><td>TRUE</td><td>U</td><td>A</td><td>G</td><td>U</td><td>U</td><td>-</td><td>G</td><td>G</td><td>U</td><td>A</td><td>-</td><td>C</td><td>G</td></tr>\n",
       "\t<tr><th scope=row>6</th><td>Fungi</td><td>sporReil_SRZ2</td><td>Phe</td><td>GAA</td><td>60.6</td><td>101</td><td>TRUE</td><td>U</td><td>A</td><td>G</td><td>U</td><td>U</td><td>-</td><td>G</td><td>G</td><td>U</td><td>A</td><td>-</td><td>C</td><td>G</td></tr>\n",
       "\t<tr><th scope=row>7</th><td>Fungi</td><td>ustiMayd_521</td><td>Phe</td><td>GAA</td><td>62.7</td><td>93.1</td><td>TRUE</td><td>U</td><td>A</td><td>G</td><td>U</td><td>U</td><td>-</td><td>G</td><td>G</td><td>U</td><td>A</td><td>-</td><td>C</td><td>G</td></tr>\n",
       "\t<tr><th scope=row>8</th><td>Fungi</td><td>ustiMayd_521</td><td>Phe</td><td>GAA</td><td>61.4</td><td>101</td><td>TRUE</td><td>U</td><td>A</td><td>G</td><td>U</td><td>U</td><td>-</td><td>G</td><td>G</td><td>U</td><td>A</td><td>-</td><td>C</td><td>G</td></tr>\n",
       "</tbody>\n",
       "</table>\n"
      ],
      "text/latex": [
       "\\begin{tabular}{r|llllllllllllllllllll}\n",
       "  & clade & species & isotype & anticodon & score & isoscore & quality & X8 & X14 & X15 & X16 & X17 & X17a & X18 & X19 & X20 & X20a & X20b & X21 & X22\\\\\n",
       "\\hline\n",
       "\t1 & Fungi & aspeNidu_FGSC_A4 & Phe & GAA & 65 & 86.7 & TRUE & U & A & G & U & U & - & G & G & U & A & - & U & G\\\\\n",
       "\t2 & Fungi & aspeNidu_FGSC_A4 & Phe & GAA & 65.1 & 86.7 & TRUE & U & A & G & U & U & - & G & G & U & A & - & U & G\\\\\n",
       "\t3 & Fungi & sporReil_SRZ2 & Phe & GAA & 56.5 & 97.8 & TRUE & U & A & G & U & U & - & G & G & U & A & - & C & G\\\\\n",
       "\t4 & Fungi & sporReil_SRZ2 & Phe & GAA & 63.8 & 100 & TRUE & U & A & G & U & U & - & G & G & U & A & - & C & G\\\\\n",
       "\t5 & Fungi & sporReil_SRZ2 & Phe & GAA & 60.9 & 101 & TRUE & U & A & G & U & U & - & G & G & U & A & - & C & G\\\\\n",
       "\t6 & Fungi & sporReil_SRZ2 & Phe & GAA & 60.6 & 101 & TRUE & U & A & G & U & U & - & G & G & U & A & - & C & G\\\\\n",
       "\t7 & Fungi & ustiMayd_521 & Phe & GAA & 62.7 & 93.1 & TRUE & U & A & G & U & U & - & G & G & U & A & - & C & G\\\\\n",
       "\t8 & Fungi & ustiMayd_521 & Phe & GAA & 61.4 & 101 & TRUE & U & A & G & U & U & - & G & G & U & A & - & C & G\\\\\n",
       "\\end{tabular}\n"
      ],
      "text/plain": [
       "  clade          species isotype anticodon score isoscore quality X8 X14 X15\n",
       "1 Fungi aspeNidu_FGSC_A4     Phe       GAA  65.0     86.7    TRUE  U   A   G\n",
       "2 Fungi aspeNidu_FGSC_A4     Phe       GAA  65.1     86.7    TRUE  U   A   G\n",
       "3 Fungi    sporReil_SRZ2     Phe       GAA  56.5     97.8    TRUE  U   A   G\n",
       "4 Fungi    sporReil_SRZ2     Phe       GAA  63.8    100.0    TRUE  U   A   G\n",
       "5 Fungi    sporReil_SRZ2     Phe       GAA  60.9    101.0    TRUE  U   A   G\n",
       "6 Fungi    sporReil_SRZ2     Phe       GAA  60.6    101.0    TRUE  U   A   G\n",
       "7 Fungi     ustiMayd_521     Phe       GAA  62.7     93.1    TRUE  U   A   G\n",
       "8 Fungi     ustiMayd_521     Phe       GAA  61.4    101.0    TRUE  U   A   G\n",
       "  X16 X17 X17a X18 X19 X20 X20a X20b X21 X22\n",
       "1   U   U    -   G   G   U    A    -   U   G\n",
       "2   U   U    -   G   G   U    A    -   U   G\n",
       "3   U   U    -   G   G   U    A    -   C   G\n",
       "4   U   U    -   G   G   U    A    -   C   G\n",
       "5   U   U    -   G   G   U    A    -   C   G\n",
       "6   U   U    -   G   G   U    A    -   C   G\n",
       "7   U   U    -   G   G   U    A    -   C   G\n",
       "8   U   U    -   G   G   U    A    -   C   G"
      ]
     },
     "execution_count": 34,
     "metadata": {},
     "output_type": "execute_result"
    }
   ],
   "source": [
    "identities %>% select(clade, species, isotype, anticodon, score, isoscore, quality, X8, X14, X15, X16, X17, X17a, X18, X19, X20, X20a, X20b, X21, X22) %>%\n",
    "  filter(quality & species %in% c(\"aspeNidu_FGSC_A4\", \"sporReil_SRZ2\", \"ustiMayd_521\") & isotype == \"Phe\")"
   ]
  },
  {
   "cell_type": "markdown",
   "metadata": {},
   "source": [
    "It's hard to say whether these are misalignments or not. The standard alignment model lists A20a as A21, and Y21 as Y21i. None of these species have compensatory tRNAs. It's also unusual that all of them are Phe-GAA mutations. It's probably not evolutionarily related since there are several more species more related to each of them (e.g., _Aspergillus oryzae_). One possibility is that the fungi Phe synthetase or processing machinery is more permissive in general, and that it can tolerate mutations.\n",
    "\n",
    "#### What's known\n",
    "\n",
    "M&G: Always A21, but there are 3 copies of G21 in _S. pombe_. It interacts as U8-A14-A21.\n",
    "\n",
    "_S. pombe_ Met tRNAs disappear from our data because Thr scores higher through the isotype-specific models. They are also a very odd case - in addition to G21, elongator _S. pombe_ Met tRNAs contain short, 6 and 8 bp introns at position 37. More on that [here](http://rna.cshl.edu/content/free/chapters/21_rna_world_2nd.pdf).\n",
    "\n",
    "### U33\n",
    "\n",
    "#### Number of tRNAs without U33"
   ]
  },
  {
   "cell_type": "code",
   "execution_count": 35,
   "metadata": {
    "collapsed": false
   },
   "outputs": [
    {
     "data": {
      "text/html": [
       "315"
      ],
      "text/latex": [
       "315"
      ],
      "text/markdown": [
       "315"
      ],
      "text/plain": [
       "[1] 315"
      ]
     },
     "execution_count": 35,
     "metadata": {},
     "output_type": "execute_result"
    }
   ],
   "source": [
    "identities %>% select(clade, species, quality, X33) %>%\n",
    "  filter(quality & X33 != 'U') %>% nrow()"
   ]
  },
  {
   "cell_type": "markdown",
   "metadata": {},
   "source": [
    "#### Which isotypes/clades/species fail the consensus checks?"
   ]
  },
  {
   "cell_type": "code",
   "execution_count": 36,
   "metadata": {
    "collapsed": false
   },
   "outputs": [
    {
     "data": {
      "text/html": [
       "<table>\n",
       "<thead><tr><th></th><th scope=col>clade</th><th scope=col>isotype</th><th scope=col>status</th></tr></thead>\n",
       "<tbody>\n",
       "\t<tr><th scope=row>1</th><td>Insecta</td><td>iMet</td><td>FALSE</td></tr>\n",
       "\t<tr><th scope=row>2</th><td>Mammalia</td><td>iMet</td><td>FALSE</td></tr>\n",
       "\t<tr><th scope=row>3</th><td>Nematoda</td><td>iMet</td><td>FALSE</td></tr>\n",
       "\t<tr><th scope=row>4</th><td>Spermatophyta</td><td>iMet</td><td>FALSE</td></tr>\n",
       "\t<tr><th scope=row>5</th><td>Streptophyta</td><td>iMet</td><td>FALSE</td></tr>\n",
       "\t<tr><th scope=row>6</th><td>Vertebrata</td><td>iMet</td><td>FALSE</td></tr>\n",
       "</tbody>\n",
       "</table>\n"
      ],
      "text/latex": [
       "\\begin{tabular}{r|lll}\n",
       "  & clade & isotype & status\\\\\n",
       "\\hline\n",
       "\t1 & Insecta & iMet & FALSE\\\\\n",
       "\t2 & Mammalia & iMet & FALSE\\\\\n",
       "\t3 & Nematoda & iMet & FALSE\\\\\n",
       "\t4 & Spermatophyta & iMet & FALSE\\\\\n",
       "\t5 & Streptophyta & iMet & FALSE\\\\\n",
       "\t6 & Vertebrata & iMet & FALSE\\\\\n",
       "\\end{tabular}\n"
      ],
      "text/plain": [
       "Source: local data frame [6 x 3]\n",
       "Groups: clade [6]\n",
       "\n",
       "          clade isotype status\n",
       "          <chr>   <chr>  <lgl>\n",
       "1       Insecta    iMet  FALSE\n",
       "2      Mammalia    iMet  FALSE\n",
       "3      Nematoda    iMet  FALSE\n",
       "4 Spermatophyta    iMet  FALSE\n",
       "5  Streptophyta    iMet  FALSE\n",
       "6    Vertebrata    iMet  FALSE"
      ]
     },
     "execution_count": 36,
     "metadata": {},
     "output_type": "execute_result"
    },
    {
     "data": {
      "text/html": [
       "<table>\n",
       "<thead><tr><th></th><th scope=col>clade</th><th scope=col>species</th><th scope=col>isotype</th><th scope=col>status</th><th scope=col>freq</th><th scope=col>tRNAs</th></tr></thead>\n",
       "<tbody>\n",
       "\t<tr><th scope=row>1</th><td>Fungi</td><td>flamVelu_KACC42780</td><td>iMet</td><td>FALSE</td><td>0</td><td>1</td></tr>\n",
       "\t<tr><th scope=row>2</th><td>Insecta</td><td>dm6</td><td>iMet</td><td>FALSE</td><td>0</td><td>2</td></tr>\n",
       "\t<tr><th scope=row>3</th><td>Insecta</td><td>dp4</td><td>iMet</td><td>FALSE</td><td>0</td><td>1</td></tr>\n",
       "\t<tr><th scope=row>4</th><td>Insecta</td><td>droAna3</td><td>iMet</td><td>FALSE</td><td>0</td><td>2</td></tr>\n",
       "\t<tr><th scope=row>5</th><td>Insecta</td><td>droEre2</td><td>iMet</td><td>FALSE</td><td>0</td><td>1</td></tr>\n",
       "\t<tr><th scope=row>6</th><td>Insecta</td><td>droGri2</td><td>iMet</td><td>FALSE</td><td>0</td><td>3</td></tr>\n",
       "\t<tr><th scope=row>7</th><td>Insecta</td><td>droMoj3</td><td>iMet</td><td>FALSE</td><td>0</td><td>1</td></tr>\n",
       "\t<tr><th scope=row>8</th><td>Insecta</td><td>droPer1</td><td>iMet</td><td>FALSE</td><td>0</td><td>1</td></tr>\n",
       "\t<tr><th scope=row>9</th><td>Insecta</td><td>droSec1</td><td>iMet</td><td>FALSE</td><td>0</td><td>1</td></tr>\n",
       "\t<tr><th scope=row>10</th><td>Insecta</td><td>droSim1</td><td>iMet</td><td>FALSE</td><td>0</td><td>2</td></tr>\n",
       "\t<tr><th scope=row>11</th><td>Insecta</td><td>droVir3</td><td>iMet</td><td>FALSE</td><td>0</td><td>1</td></tr>\n",
       "\t<tr><th scope=row>12</th><td>Insecta</td><td>droWil1</td><td>iMet</td><td>FALSE</td><td>0</td><td>1</td></tr>\n",
       "\t<tr><th scope=row>13</th><td>Insecta</td><td>droYak2</td><td>iMet</td><td>FALSE</td><td>0</td><td>2</td></tr>\n",
       "\t<tr><th scope=row>14</th><td>Mammalia</td><td>ailMel1</td><td>iMet</td><td>FALSE</td><td>0</td><td>2</td></tr>\n",
       "\t<tr><th scope=row>15</th><td>Mammalia</td><td>balAcu1</td><td>iMet</td><td>FALSE</td><td>0</td><td>2</td></tr>\n",
       "\t<tr><th scope=row>16</th><td>Mammalia</td><td>bosTau8</td><td>iMet</td><td>FALSE</td><td>0</td><td>3</td></tr>\n",
       "\t<tr><th scope=row>17</th><td>Mammalia</td><td>calJac3</td><td>iMet</td><td>FALSE</td><td>0</td><td>1</td></tr>\n",
       "\t<tr><th scope=row>18</th><td>Mammalia</td><td>canFam3</td><td>iMet</td><td>FALSE</td><td>0</td><td>2</td></tr>\n",
       "\t<tr><th scope=row>19</th><td>Mammalia</td><td>cavPor3</td><td>iMet</td><td>FALSE</td><td>0</td><td>2</td></tr>\n",
       "\t<tr><th scope=row>20</th><td>Mammalia</td><td>cerSim1</td><td>iMet</td><td>FALSE</td><td>0</td><td>3</td></tr>\n",
       "\t<tr><th scope=row>21</th><td>Mammalia</td><td>criGri1</td><td>iMet</td><td>FALSE</td><td>0</td><td>1</td></tr>\n",
       "\t<tr><th scope=row>22</th><td>Mammalia</td><td>dasNov3</td><td>iMet</td><td>FALSE</td><td>0</td><td>3</td></tr>\n",
       "\t<tr><th scope=row>23</th><td>Mammalia</td><td>equCab2</td><td>iMet</td><td>FALSE</td><td>0</td><td>2</td></tr>\n",
       "\t<tr><th scope=row>24</th><td>Mammalia</td><td>eriEur2</td><td>iMet</td><td>FALSE</td><td>0</td><td>1</td></tr>\n",
       "\t<tr><th scope=row>25</th><td>Mammalia</td><td>felCat5</td><td>iMet</td><td>FALSE</td><td>0</td><td>2</td></tr>\n",
       "\t<tr><th scope=row>26</th><td>Mammalia</td><td>gorGor3</td><td>iMet</td><td>FALSE</td><td>0</td><td>1</td></tr>\n",
       "\t<tr><th scope=row>27</th><td>Mammalia</td><td>hetGla2</td><td>iMet</td><td>FALSE</td><td>0</td><td>1</td></tr>\n",
       "\t<tr><th scope=row>28</th><td>Mammalia</td><td>hg19</td><td>iMet</td><td>FALSE</td><td>0</td><td>1</td></tr>\n",
       "\t<tr><th scope=row>29</th><td>Mammalia</td><td>loxAfr3</td><td>iMet</td><td>FALSE</td><td>0</td><td>4</td></tr>\n",
       "\t<tr><th scope=row>30</th><td>Mammalia</td><td>macEug2</td><td>iMet</td><td>FALSE</td><td>0</td><td>3</td></tr>\n",
       "\t<tr><th scope=row>31</th><td>Mammalia</td><td>micMur1</td><td>iMet</td><td>FALSE</td><td>0</td><td>1</td></tr>\n",
       "\t<tr><th scope=row>32</th><td>Mammalia</td><td>mm10</td><td>iMet</td><td>FALSE</td><td>0</td><td>1</td></tr>\n",
       "\t<tr><th scope=row>33</th><td>Mammalia</td><td>monDom5</td><td>iMet</td><td>FALSE</td><td>0</td><td>2</td></tr>\n",
       "\t<tr><th scope=row>34</th><td>Mammalia</td><td>musFur1</td><td>iMet</td><td>FALSE</td><td>0</td><td>2</td></tr>\n",
       "\t<tr><th scope=row>35</th><td>Mammalia</td><td>myoLuc2</td><td>iMet</td><td>FALSE</td><td>0</td><td>2</td></tr>\n",
       "\t<tr><th scope=row>36</th><td>Mammalia</td><td>nomLeu3</td><td>iMet</td><td>FALSE</td><td>0</td><td>1</td></tr>\n",
       "\t<tr><th scope=row>37</th><td>Mammalia</td><td>ochPri3</td><td>iMet</td><td>FALSE</td><td>0</td><td>1</td></tr>\n",
       "\t<tr><th scope=row>38</th><td>Mammalia</td><td>oryCun2</td><td>iMet</td><td>FALSE</td><td>0</td><td>3</td></tr>\n",
       "\t<tr><th scope=row>39</th><td>Mammalia</td><td>otoGar3</td><td>iMet</td><td>FALSE</td><td>0</td><td>2</td></tr>\n",
       "\t<tr><th scope=row>40</th><td>Mammalia</td><td>oviAri3</td><td>iMet</td><td>FALSE</td><td>0</td><td>4</td></tr>\n",
       "\t<tr><th scope=row>41</th><td>Mammalia</td><td>panTro4</td><td>iMet</td><td>FALSE</td><td>0</td><td>1</td></tr>\n",
       "\t<tr><th scope=row>42</th><td>Mammalia</td><td>papAnu2</td><td>iMet</td><td>FALSE</td><td>0</td><td>1</td></tr>\n",
       "\t<tr><th scope=row>43</th><td>Mammalia</td><td>ponAbe2</td><td>iMet</td><td>FALSE</td><td>0</td><td>1</td></tr>\n",
       "\t<tr><th scope=row>44</th><td>Mammalia</td><td>proCap1</td><td>iMet</td><td>FALSE</td><td>0</td><td>2</td></tr>\n",
       "\t<tr><th scope=row>45</th><td>Mammalia</td><td>pteVam1</td><td>iMet</td><td>FALSE</td><td>0</td><td>2</td></tr>\n",
       "\t<tr><th scope=row>46</th><td>Mammalia</td><td>rheMac3</td><td>iMet</td><td>FALSE</td><td>0</td><td>2</td></tr>\n",
       "\t<tr><th scope=row>47</th><td>Mammalia</td><td>rn6</td><td>iMet</td><td>FALSE</td><td>0</td><td>2</td></tr>\n",
       "\t<tr><th scope=row>48</th><td>Mammalia</td><td>saiBol1</td><td>iMet</td><td>FALSE</td><td>0</td><td>1</td></tr>\n",
       "\t<tr><th scope=row>49</th><td>Mammalia</td><td>sarHar1</td><td>iMet</td><td>FALSE</td><td>0</td><td>2</td></tr>\n",
       "\t<tr><th scope=row>50</th><td>Mammalia</td><td>sorAra2</td><td>iMet</td><td>FALSE</td><td>0</td><td>1</td></tr>\n",
       "\t<tr><th scope=row>51</th><td>Mammalia</td><td>speTri2</td><td>iMet</td><td>FALSE</td><td>0</td><td>1</td></tr>\n",
       "\t<tr><th scope=row>52</th><td>Mammalia</td><td>susScr3</td><td>iMet</td><td>FALSE</td><td>0</td><td>3</td></tr>\n",
       "\t<tr><th scope=row>53</th><td>Mammalia</td><td>tarSyr2</td><td>iMet</td><td>FALSE</td><td>0</td><td>1</td></tr>\n",
       "\t<tr><th scope=row>54</th><td>Mammalia</td><td>triMan1</td><td>iMet</td><td>FALSE</td><td>0</td><td>2</td></tr>\n",
       "\t<tr><th scope=row>55</th><td>Mammalia</td><td>turTru2</td><td>iMet</td><td>FALSE</td><td>0</td><td>2</td></tr>\n",
       "\t<tr><th scope=row>56</th><td>Mammalia</td><td>vicPac2</td><td>iMet</td><td>FALSE</td><td>0</td><td>2</td></tr>\n",
       "\t<tr><th scope=row>57</th><td>Nematoda</td><td>caeJap1</td><td>iMet</td><td>FALSE</td><td>0</td><td>1</td></tr>\n",
       "\t<tr><th scope=row>58</th><td>Nematoda</td><td>caePb2</td><td>iMet</td><td>FALSE</td><td>0</td><td>1</td></tr>\n",
       "\t<tr><th scope=row>59</th><td>Nematoda</td><td>caeRem3</td><td>iMet</td><td>FALSE</td><td>0</td><td>1</td></tr>\n",
       "\t<tr><th scope=row>60</th><td>Nematoda</td><td>cb3</td><td>iMet</td><td>FALSE</td><td>0</td><td>1</td></tr>\n",
       "\t<tr><th scope=row>61</th><td>Nematoda</td><td>priPac1</td><td>iMet</td><td>FALSE</td><td>0</td><td>2</td></tr>\n",
       "\t<tr><th scope=row>62</th><td>Spermatophyta</td><td>araTha1</td><td>iMet</td><td>FALSE</td><td>0</td><td>3</td></tr>\n",
       "\t<tr><th scope=row>63</th><td>Spermatophyta</td><td>manEsc6</td><td>iMet</td><td>FALSE</td><td>0</td><td>3</td></tr>\n",
       "\t<tr><th scope=row>64</th><td>Spermatophyta</td><td>vitVin1</td><td>iMet</td><td>FALSE</td><td>0</td><td>2</td></tr>\n",
       "\t<tr><th scope=row>65</th><td>Streptophyta</td><td>braDis3</td><td>iMet</td><td>FALSE</td><td>0</td><td>1</td></tr>\n",
       "\t<tr><th scope=row>66</th><td>Streptophyta</td><td>glyMax2</td><td>iMet</td><td>FALSE</td><td>0</td><td>2</td></tr>\n",
       "\t<tr><th scope=row>67</th><td>Streptophyta</td><td>gosRai2</td><td>iMet</td><td>FALSE</td><td>0</td><td>2</td></tr>\n",
       "\t<tr><th scope=row>68</th><td>Streptophyta</td><td>medTru4</td><td>iMet</td><td>FALSE</td><td>0</td><td>3</td></tr>\n",
       "\t<tr><th scope=row>69</th><td>Streptophyta</td><td>orySat7</td><td>iMet</td><td>FALSE</td><td>0</td><td>2</td></tr>\n",
       "\t<tr><th scope=row>70</th><td>Streptophyta</td><td>popTri3</td><td>iMet</td><td>FALSE</td><td>0</td><td>3</td></tr>\n",
       "\t<tr><th scope=row>71</th><td>Streptophyta</td><td>sorBic3</td><td>iMet</td><td>FALSE</td><td>0</td><td>4</td></tr>\n",
       "\t<tr><th scope=row>72</th><td>Streptophyta</td><td>zeaMay6</td><td>iMet</td><td>FALSE</td><td>0</td><td>7</td></tr>\n",
       "\t<tr><th scope=row>73</th><td>Vertebrata</td><td>anoCar2</td><td>iMet</td><td>FALSE</td><td>0</td><td>3</td></tr>\n",
       "\t<tr><th scope=row>74</th><td>Vertebrata</td><td>calMil1</td><td>iMet</td><td>FALSE</td><td>0</td><td>2</td></tr>\n",
       "\t<tr><th scope=row>75</th><td>Vertebrata</td><td>chrPic1</td><td>iMet</td><td>FALSE</td><td>0</td><td>2</td></tr>\n",
       "\t<tr><th scope=row>76</th><td>Vertebrata</td><td>danRer10</td><td>iMet</td><td>FALSE</td><td>0</td><td>7</td></tr>\n",
       "\t<tr><th scope=row>77</th><td>Vertebrata</td><td>fr3</td><td>iMet</td><td>FALSE</td><td>0</td><td>5</td></tr>\n",
       "\t<tr><th scope=row>78</th><td>Vertebrata</td><td>gadMor1</td><td>iMet</td><td>FALSE</td><td>1</td><td>18</td></tr>\n",
       "\t<tr><th scope=row>79</th><td>Vertebrata</td><td>galGal4</td><td>iMet</td><td>FALSE</td><td>0</td><td>2</td></tr>\n",
       "\t<tr><th scope=row>80</th><td>Vertebrata</td><td>gasAcu1</td><td>iMet</td><td>FALSE</td><td>1</td><td>13</td></tr>\n",
       "\t<tr><th scope=row>81</th><td>Vertebrata</td><td>geoFor1</td><td>iMet</td><td>FALSE</td><td>0</td><td>2</td></tr>\n",
       "\t<tr><th scope=row>82</th><td>Vertebrata</td><td>latCha1</td><td>iMet</td><td>FALSE</td><td>0</td><td>3</td></tr>\n",
       "\t<tr><th scope=row>83</th><td>Vertebrata</td><td>melGal1</td><td>iMet</td><td>FALSE</td><td>0</td><td>1</td></tr>\n",
       "\t<tr><th scope=row>84</th><td>Vertebrata</td><td>melUnd1</td><td>iMet</td><td>FALSE</td><td>0</td><td>1</td></tr>\n",
       "\t<tr><th scope=row>85</th><td>Vertebrata</td><td>oreNil2</td><td>iMet</td><td>FALSE</td><td>0</td><td>2</td></tr>\n",
       "\t<tr><th scope=row>86</th><td>Vertebrata</td><td>oryLat2</td><td>iMet</td><td>FALSE</td><td>0</td><td>2</td></tr>\n",
       "\t<tr><th scope=row>87</th><td>Vertebrata</td><td>taeGut2</td><td>iMet</td><td>FALSE</td><td>0</td><td>2</td></tr>\n",
       "\t<tr><th scope=row>88</th><td>Vertebrata</td><td>tetNig2</td><td>iMet</td><td>FALSE</td><td>0</td><td>2</td></tr>\n",
       "\t<tr><th scope=row>89</th><td>Vertebrata</td><td>xenTro3</td><td>iMet</td><td>FALSE</td><td>0</td><td>4</td></tr>\n",
       "</tbody>\n",
       "</table>\n"
      ],
      "text/latex": [
       "\\begin{tabular}{r|llllll}\n",
       "  & clade & species & isotype & status & freq & tRNAs\\\\\n",
       "\\hline\n",
       "\t1 & Fungi & flamVelu_KACC42780 & iMet & FALSE & 0 & 1\\\\\n",
       "\t2 & Insecta & dm6 & iMet & FALSE & 0 & 2\\\\\n",
       "\t3 & Insecta & dp4 & iMet & FALSE & 0 & 1\\\\\n",
       "\t4 & Insecta & droAna3 & iMet & FALSE & 0 & 2\\\\\n",
       "\t5 & Insecta & droEre2 & iMet & FALSE & 0 & 1\\\\\n",
       "\t6 & Insecta & droGri2 & iMet & FALSE & 0 & 3\\\\\n",
       "\t7 & Insecta & droMoj3 & iMet & FALSE & 0 & 1\\\\\n",
       "\t8 & Insecta & droPer1 & iMet & FALSE & 0 & 1\\\\\n",
       "\t9 & Insecta & droSec1 & iMet & FALSE & 0 & 1\\\\\n",
       "\t10 & Insecta & droSim1 & iMet & FALSE & 0 & 2\\\\\n",
       "\t11 & Insecta & droVir3 & iMet & FALSE & 0 & 1\\\\\n",
       "\t12 & Insecta & droWil1 & iMet & FALSE & 0 & 1\\\\\n",
       "\t13 & Insecta & droYak2 & iMet & FALSE & 0 & 2\\\\\n",
       "\t14 & Mammalia & ailMel1 & iMet & FALSE & 0 & 2\\\\\n",
       "\t15 & Mammalia & balAcu1 & iMet & FALSE & 0 & 2\\\\\n",
       "\t16 & Mammalia & bosTau8 & iMet & FALSE & 0 & 3\\\\\n",
       "\t17 & Mammalia & calJac3 & iMet & FALSE & 0 & 1\\\\\n",
       "\t18 & Mammalia & canFam3 & iMet & FALSE & 0 & 2\\\\\n",
       "\t19 & Mammalia & cavPor3 & iMet & FALSE & 0 & 2\\\\\n",
       "\t20 & Mammalia & cerSim1 & iMet & FALSE & 0 & 3\\\\\n",
       "\t21 & Mammalia & criGri1 & iMet & FALSE & 0 & 1\\\\\n",
       "\t22 & Mammalia & dasNov3 & iMet & FALSE & 0 & 3\\\\\n",
       "\t23 & Mammalia & equCab2 & iMet & FALSE & 0 & 2\\\\\n",
       "\t24 & Mammalia & eriEur2 & iMet & FALSE & 0 & 1\\\\\n",
       "\t25 & Mammalia & felCat5 & iMet & FALSE & 0 & 2\\\\\n",
       "\t26 & Mammalia & gorGor3 & iMet & FALSE & 0 & 1\\\\\n",
       "\t27 & Mammalia & hetGla2 & iMet & FALSE & 0 & 1\\\\\n",
       "\t28 & Mammalia & hg19 & iMet & FALSE & 0 & 1\\\\\n",
       "\t29 & Mammalia & loxAfr3 & iMet & FALSE & 0 & 4\\\\\n",
       "\t30 & Mammalia & macEug2 & iMet & FALSE & 0 & 3\\\\\n",
       "\t31 & Mammalia & micMur1 & iMet & FALSE & 0 & 1\\\\\n",
       "\t32 & Mammalia & mm10 & iMet & FALSE & 0 & 1\\\\\n",
       "\t33 & Mammalia & monDom5 & iMet & FALSE & 0 & 2\\\\\n",
       "\t34 & Mammalia & musFur1 & iMet & FALSE & 0 & 2\\\\\n",
       "\t35 & Mammalia & myoLuc2 & iMet & FALSE & 0 & 2\\\\\n",
       "\t36 & Mammalia & nomLeu3 & iMet & FALSE & 0 & 1\\\\\n",
       "\t37 & Mammalia & ochPri3 & iMet & FALSE & 0 & 1\\\\\n",
       "\t38 & Mammalia & oryCun2 & iMet & FALSE & 0 & 3\\\\\n",
       "\t39 & Mammalia & otoGar3 & iMet & FALSE & 0 & 2\\\\\n",
       "\t40 & Mammalia & oviAri3 & iMet & FALSE & 0 & 4\\\\\n",
       "\t41 & Mammalia & panTro4 & iMet & FALSE & 0 & 1\\\\\n",
       "\t42 & Mammalia & papAnu2 & iMet & FALSE & 0 & 1\\\\\n",
       "\t43 & Mammalia & ponAbe2 & iMet & FALSE & 0 & 1\\\\\n",
       "\t44 & Mammalia & proCap1 & iMet & FALSE & 0 & 2\\\\\n",
       "\t45 & Mammalia & pteVam1 & iMet & FALSE & 0 & 2\\\\\n",
       "\t46 & Mammalia & rheMac3 & iMet & FALSE & 0 & 2\\\\\n",
       "\t47 & Mammalia & rn6 & iMet & FALSE & 0 & 2\\\\\n",
       "\t48 & Mammalia & saiBol1 & iMet & FALSE & 0 & 1\\\\\n",
       "\t49 & Mammalia & sarHar1 & iMet & FALSE & 0 & 2\\\\\n",
       "\t50 & Mammalia & sorAra2 & iMet & FALSE & 0 & 1\\\\\n",
       "\t51 & Mammalia & speTri2 & iMet & FALSE & 0 & 1\\\\\n",
       "\t52 & Mammalia & susScr3 & iMet & FALSE & 0 & 3\\\\\n",
       "\t53 & Mammalia & tarSyr2 & iMet & FALSE & 0 & 1\\\\\n",
       "\t54 & Mammalia & triMan1 & iMet & FALSE & 0 & 2\\\\\n",
       "\t55 & Mammalia & turTru2 & iMet & FALSE & 0 & 2\\\\\n",
       "\t56 & Mammalia & vicPac2 & iMet & FALSE & 0 & 2\\\\\n",
       "\t57 & Nematoda & caeJap1 & iMet & FALSE & 0 & 1\\\\\n",
       "\t58 & Nematoda & caePb2 & iMet & FALSE & 0 & 1\\\\\n",
       "\t59 & Nematoda & caeRem3 & iMet & FALSE & 0 & 1\\\\\n",
       "\t60 & Nematoda & cb3 & iMet & FALSE & 0 & 1\\\\\n",
       "\t61 & Nematoda & priPac1 & iMet & FALSE & 0 & 2\\\\\n",
       "\t62 & Spermatophyta & araTha1 & iMet & FALSE & 0 & 3\\\\\n",
       "\t63 & Spermatophyta & manEsc6 & iMet & FALSE & 0 & 3\\\\\n",
       "\t64 & Spermatophyta & vitVin1 & iMet & FALSE & 0 & 2\\\\\n",
       "\t65 & Streptophyta & braDis3 & iMet & FALSE & 0 & 1\\\\\n",
       "\t66 & Streptophyta & glyMax2 & iMet & FALSE & 0 & 2\\\\\n",
       "\t67 & Streptophyta & gosRai2 & iMet & FALSE & 0 & 2\\\\\n",
       "\t68 & Streptophyta & medTru4 & iMet & FALSE & 0 & 3\\\\\n",
       "\t69 & Streptophyta & orySat7 & iMet & FALSE & 0 & 2\\\\\n",
       "\t70 & Streptophyta & popTri3 & iMet & FALSE & 0 & 3\\\\\n",
       "\t71 & Streptophyta & sorBic3 & iMet & FALSE & 0 & 4\\\\\n",
       "\t72 & Streptophyta & zeaMay6 & iMet & FALSE & 0 & 7\\\\\n",
       "\t73 & Vertebrata & anoCar2 & iMet & FALSE & 0 & 3\\\\\n",
       "\t74 & Vertebrata & calMil1 & iMet & FALSE & 0 & 2\\\\\n",
       "\t75 & Vertebrata & chrPic1 & iMet & FALSE & 0 & 2\\\\\n",
       "\t76 & Vertebrata & danRer10 & iMet & FALSE & 0 & 7\\\\\n",
       "\t77 & Vertebrata & fr3 & iMet & FALSE & 0 & 5\\\\\n",
       "\t78 & Vertebrata & gadMor1 & iMet & FALSE & 1 & 18\\\\\n",
       "\t79 & Vertebrata & galGal4 & iMet & FALSE & 0 & 2\\\\\n",
       "\t80 & Vertebrata & gasAcu1 & iMet & FALSE & 1 & 13\\\\\n",
       "\t81 & Vertebrata & geoFor1 & iMet & FALSE & 0 & 2\\\\\n",
       "\t82 & Vertebrata & latCha1 & iMet & FALSE & 0 & 3\\\\\n",
       "\t83 & Vertebrata & melGal1 & iMet & FALSE & 0 & 1\\\\\n",
       "\t84 & Vertebrata & melUnd1 & iMet & FALSE & 0 & 1\\\\\n",
       "\t85 & Vertebrata & oreNil2 & iMet & FALSE & 0 & 2\\\\\n",
       "\t86 & Vertebrata & oryLat2 & iMet & FALSE & 0 & 2\\\\\n",
       "\t87 & Vertebrata & taeGut2 & iMet & FALSE & 0 & 2\\\\\n",
       "\t88 & Vertebrata & tetNig2 & iMet & FALSE & 0 & 2\\\\\n",
       "\t89 & Vertebrata & xenTro3 & iMet & FALSE & 0 & 4\\\\\n",
       "\\end{tabular}\n"
      ],
      "text/plain": [
       "Source: local data frame [89 x 6]\n",
       "Groups: clade, species [89]\n",
       "\n",
       "     clade            species isotype status  freq tRNAs\n",
       "    <fctr>             <fctr>  <fctr>  <lgl> <int> <int>\n",
       "1    Fungi flamVelu_KACC42780    iMet  FALSE     0     1\n",
       "2  Insecta                dm6    iMet  FALSE     0     2\n",
       "3  Insecta                dp4    iMet  FALSE     0     1\n",
       "4  Insecta            droAna3    iMet  FALSE     0     2\n",
       "5  Insecta            droEre2    iMet  FALSE     0     1\n",
       "6  Insecta            droGri2    iMet  FALSE     0     3\n",
       "7  Insecta            droMoj3    iMet  FALSE     0     1\n",
       "8  Insecta            droPer1    iMet  FALSE     0     1\n",
       "9  Insecta            droSec1    iMet  FALSE     0     1\n",
       "10 Insecta            droSim1    iMet  FALSE     0     2\n",
       "# ... with 79 more rows"
      ]
     },
     "execution_count": 36,
     "metadata": {},
     "output_type": "execute_result"
    }
   ],
   "source": [
    "## Clade/isotype check\n",
    "best_freqs %>% filter(positions == 'X33') %>% group_by(clade, isotype) %>%\n",
    "  summarize(status=sum((variable == 'U')*count)/sum(count) == 1) %>%\n",
    "  filter(!status)\n",
    "\n",
    "## Species check\n",
    "identities %>% select(clade, species, isotype, quality, X33) %>%\n",
    "  filter(quality) %>%\n",
    "  group_by(clade, species, isotype) %>%\n",
    "  summarize(status=sum(X33 == 'U')/n() >= 0.1,\n",
    "            freq=sum(X33 == 'U'), tRNAs=n()) %>%\n",
    "  filter(!status)"
   ]
  },
  {
   "cell_type": "markdown",
   "metadata": {},
   "source": [
    "This is a pretty strong non-Fungi iMet identity element (which is known). M&G note some Cs here and there, plus a G33 in _Candida albicans_ that disrupts the anticodon arm and deforms the tRNA, decreasing charging efficiency."
   ]
  },
  {
   "cell_type": "code",
   "execution_count": 37,
   "metadata": {
    "collapsed": false
   },
   "outputs": [
    {
     "data": {
      "text/html": [
       "<table>\n",
       "<thead><tr><th></th><th scope=col>isotype_ac</th><th scope=col>count</th></tr></thead>\n",
       "<tbody>\n",
       "\t<tr><th scope=row>1</th><td>Tyr</td><td>128</td></tr>\n",
       "\t<tr><th scope=row>2</th><td>His</td><td>134</td></tr>\n",
       "\t<tr><th scope=row>3</th><td>Trp</td><td>138</td></tr>\n",
       "\t<tr><th scope=row>4</th><td>Asp</td><td>140</td></tr>\n",
       "\t<tr><th scope=row>5</th><td>Lys</td><td>142</td></tr>\n",
       "\t<tr><th scope=row>6</th><td>Glu</td><td>143</td></tr>\n",
       "\t<tr><th scope=row>7</th><td>Met</td><td>143</td></tr>\n",
       "\t<tr><th scope=row>8</th><td>Cys</td><td>145</td></tr>\n",
       "\t<tr><th scope=row>9</th><td>Ile</td><td>145</td></tr>\n",
       "\t<tr><th scope=row>10</th><td>Pro</td><td>145</td></tr>\n",
       "\t<tr><th scope=row>11</th><td>Phe</td><td>146</td></tr>\n",
       "\t<tr><th scope=row>12</th><td>Gln</td><td>148</td></tr>\n",
       "\t<tr><th scope=row>13</th><td>Gly</td><td>148</td></tr>\n",
       "\t<tr><th scope=row>14</th><td>Ala</td><td>149</td></tr>\n",
       "\t<tr><th scope=row>15</th><td>Arg</td><td>149</td></tr>\n",
       "\t<tr><th scope=row>16</th><td>Asn</td><td>149</td></tr>\n",
       "\t<tr><th scope=row>17</th><td>Leu</td><td>149</td></tr>\n",
       "\t<tr><th scope=row>18</th><td>Ser</td><td>149</td></tr>\n",
       "\t<tr><th scope=row>19</th><td>Thr</td><td>149</td></tr>\n",
       "\t<tr><th scope=row>20</th><td>Val</td><td>149</td></tr>\n",
       "</tbody>\n",
       "</table>\n"
      ],
      "text/latex": [
       "\\begin{tabular}{r|ll}\n",
       "  & isotype_ac & count\\\\\n",
       "\\hline\n",
       "\t1 & Tyr & 128\\\\\n",
       "\t2 & His & 134\\\\\n",
       "\t3 & Trp & 138\\\\\n",
       "\t4 & Asp & 140\\\\\n",
       "\t5 & Lys & 142\\\\\n",
       "\t6 & Glu & 143\\\\\n",
       "\t7 & Met & 143\\\\\n",
       "\t8 & Cys & 145\\\\\n",
       "\t9 & Ile & 145\\\\\n",
       "\t10 & Pro & 145\\\\\n",
       "\t11 & Phe & 146\\\\\n",
       "\t12 & Gln & 148\\\\\n",
       "\t13 & Gly & 148\\\\\n",
       "\t14 & Ala & 149\\\\\n",
       "\t15 & Arg & 149\\\\\n",
       "\t16 & Asn & 149\\\\\n",
       "\t17 & Leu & 149\\\\\n",
       "\t18 & Ser & 149\\\\\n",
       "\t19 & Thr & 149\\\\\n",
       "\t20 & Val & 149\\\\\n",
       "\\end{tabular}\n"
      ],
      "text/plain": [
       "# A tibble: 20 × 2\n",
       "   isotype_ac count\n",
       "       <fctr> <int>\n",
       "1         Tyr   128\n",
       "2         His   134\n",
       "3         Trp   138\n",
       "4         Asp   140\n",
       "5         Lys   142\n",
       "6         Glu   143\n",
       "7         Met   143\n",
       "8         Cys   145\n",
       "9         Ile   145\n",
       "10        Pro   145\n",
       "11        Phe   146\n",
       "12        Gln   148\n",
       "13        Gly   148\n",
       "14        Ala   149\n",
       "15        Arg   149\n",
       "16        Asn   149\n",
       "17        Leu   149\n",
       "18        Ser   149\n",
       "19        Thr   149\n",
       "20        Val   149"
      ]
     },
     "execution_count": 37,
     "metadata": {},
     "output_type": "execute_result"
    }
   ],
   "source": [
    "identities %>% select(species, quality, isotype, isotype_ac) %>%\n",
    "  filter(quality) %>%\n",
    "  group_by(isotype_ac, species) %>% summarize(count=n()>=1) %>% \n",
    "  group_by(isotype_ac) %>% summarize(count=sum(count)) %>% arrange(count)"
   ]
  },
  {
   "cell_type": "markdown",
   "metadata": {},
   "source": [
    "## Other thoughts\n",
    "\n",
    "- Although the synthetase and tRNA should represent a stronger evolutionary signal w.r.t speciation, this isn't the case for tRNA processing that is not isotype-specific.\n",
    "    - For instance, yeast has an unusually high amount of introns. \n",
    "    - This could apply to other processing enzymes, e.g., RNase P, RNase Z, etc.\n",
    "    "
   ]
  },
  {
   "cell_type": "markdown",
   "metadata": {
    "collapsed": true
   },
   "source": [
    "# Weird tRNAs in context of sequence features\n",
    "\n",
    "List of weird tRNAs:\n",
    "\n",
    "- Susan Ackerman's [Arg-UCU](http://gtrnadb.ucsc.edu/genomes/eukaryota/Hsapi19/genes/tRNA-Arg-TCT-4-1.html) in mouse. \n",
    "    - Only Arg-UCU without an intron.\n",
    "    - See alignment for details, but it also includes C20a instead of T20a, G20b, C40 instead of T40, etc. \n",
    "    - Most importantly, it contains C50, but its mutation to T50 likely causes misfolding in the B6J mouse strain.\n",
    "    - Conserved in human, and potentially all the way to zebrafish and Drosophila.\n",
    "- [Lys-CUU](http://gtrnadb.ucsc.edu/genomes/eukaryota/Scere3/genes/tRNA-Lys-CTT-1-1.html) in yeast. It's the only isodecoder for Lys-CUU. Can fold into an \"F\"-form able to be imported into the mitochondria.\n",
    "- [Gly-GCC](http://gtrnadb.ucsc.edu/genomes/eukaryota/Hsapi19/genes/tRNA-Gly-GCC-2-1.html), which is \n",
    "DICER-dependent, associates with Ago (mostly Ago1/3/4)\n",
    "Downregulated in B cell lymphoma cells (as opposed to normal GC B cells), and a ton of lymphoma cell lines. \n",
    "Represses RPA1, which is involved in DNA repair, DNA replication, and DNA damage response. Overexpression reduces proliferation and sensitizes cell to etoposide-induced DNA damage. "
   ]
  },
  {
   "cell_type": "code",
   "execution_count": null,
   "metadata": {
    "collapsed": true
   },
   "outputs": [],
   "source": []
  }
 ],
 "metadata": {
  "anaconda-cloud": {},
  "kernelspec": {
   "display_name": "R",
   "language": "R",
   "name": "ir"
  },
  "language_info": {
   "codemirror_mode": "r",
   "file_extension": ".r",
   "mimetype": "text/x-r-source",
   "name": "R",
   "pygments_lexer": "r",
   "version": "3.2.2"
  }
 },
 "nbformat": 4,
 "nbformat_minor": 0
}
