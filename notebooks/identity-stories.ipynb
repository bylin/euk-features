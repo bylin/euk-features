{
 "cells": [
  {
   "cell_type": "code",
   "execution_count": 1,
   "metadata": {
    "collapsed": true
   },
   "outputs": [],
   "source": [
    "library(ggplot2)\n",
    "library(reshape2)\n",
    "library(RColorBrewer)\n",
    "suppressMessages(library(dplyr))\n",
    "library(stringr)\n",
    "suppressMessages(library(tidyr))\n",
    "theme_set(theme_bw())\n",
    "library(scales)\n",
    "options(repr.plot.width=7, repr.plot.height=4)\n",
    "isotypes = c('Ala', 'Arg', 'Asn', 'Asp', 'Cys', 'Gln', 'Glu', 'Gly', 'His', 'Ile', 'iMet', 'Leu', 'Lys', 'Met', 'Phe', 'Pro', 'Ser', 'Thr', 'Trp', 'Tyr', 'Val')\n",
    "\n",
    "paired_positions = c('X1.72'='1:72', 'X2.71'='2:71', 'X3.70'='3:70', 'X4.69'='4:69', 'X5.68'='5:68', 'X6.67'='6:67', 'X7.66'='7:66', 'X8.14'='*8:14', 'X9.23'='*9:23', 'X10.25'='10:25', 'X10.45'='*10:45', 'X11.24'='11:24', 'X12.23'='12:23', 'X13.22'='13:22', 'X15.48'='*15:48','X18.55'='*18:55', 'X19.56'='*19:56', 'X22.46'='*22:46', 'X26.44'='*26:44', 'X27.43'='27:43', 'X28.42'='28:42', 'X29.41'='29:41', 'X30.40'='30:40', 'X31.39'='31:39', 'X49.65'='49:65', 'X50.64'='50:64', 'X51.63'='51:63', 'X52.62'='52:62', 'X53.61'='53:61', 'X54.58'='*54:58')\n",
    "paired_identities = c('GC', 'AU', 'UA', 'CG', 'GU', 'UG', 'PurinePyrimidine', 'PyrimidinePurine', 'StrongPair', 'WeakPair', 'AminoKeto', 'KetoAmino', 'Wobble', 'Paired', 'Bulge', 'Mismatched', 'Absent')\n",
    "\n",
    "single_positions = c('X8'='8', 'X9'='9', 'X14'='14', 'X15'='15', 'X16'='16', 'X17'='17', 'X17a'='17a', 'X17b'='17b', 'X18'='18', 'X19'='19', 'X20'='20', 'X20a'='20a', 'X20b'='20b', 'X21'='21', 'X26'='26', 'X32'='32', 'X33'='33', 'X34'='34', 'X35'='35', 'X36'='36', 'X37'='37', 'X38'='38', 'X44'='44', 'X45'='45', 'X46'='46', 'X47'='47', 'X48'='48', 'X54'='54', 'X55'='55', 'X56'='56', 'X57'='57', 'X58'='58', 'X59'='59', 'X60'='60', 'X73'='73')\n",
    "single_identities = c('A', 'C', 'G', 'U', 'Purine', 'Pyrimidine', 'Weak', 'Strong', 'Amino', 'Keto', 'B', 'D', 'H', 'V', 'Absent')\n",
    "\n",
    "colors = c('A'='gray20', 'C'='gray20', 'G'='gray20', 'U'='gray20', 'Absent'='gray20', 'Purine'='gray20', 'Pyrimidine'='gray20', 'Weak'='gray20', 'Strong'='gray20', 'Amino'='gray20', 'Keto'='gray20', 'B'='gray50', 'D'='gray50', 'H'='gray50', 'V'='gray50', 'GC'='gray20', 'AU'='gray20', 'UA'='gray20', 'CG'='gray20', 'GU'='gray20', 'UG'='gray20', 'PurinePyrimidine'='gray20', 'PyrimidinePurine'='gray20', 'StrongPair'='gray20', 'WeakPair'='gray20', 'AminoKeto'='gray20', 'KetoAmino'='gray20', 'Wobble'='gray20', 'Paired'='gray20', 'Bulge'='gray20', 'Mismatched'='gray20')\n",
    "fills = c('A'='#ffd92f', 'C'='#4daf4a', 'G'='#e41a1c', 'U'='#377eb8', 'Purine'='#ff8300', 'Pyrimidine'='#66c2a5', 'Weak'='#b3de69', 'Strong'='#fb72b2', 'Amino'='#c1764a', 'Keto'='#b26cbd', 'B'='#e5c494', 'D'='#ccebd5', 'H'='#ffa79d', 'V'='#a6cdea', 'Absent'='gray60', 'Mismatched'='gray30', 'Paired'='#ffffcc')"
   ]
  },
  {
   "cell_type": "code",
   "execution_count": 3,
   "metadata": {
    "collapsed": true
   },
   "outputs": [],
   "source": [
    "load('best-freqs.RData')\n",
    "load('clade-isotype-specific.RData')\n",
    "load('isotype-specific.RData')\n",
    "load('consensus-IDEs.RData')\n",
    "load('clade-isotype-specific-freqs.RData')"
   ]
  },
  {
   "cell_type": "markdown",
   "metadata": {},
   "source": [
    "# Introduction\n",
    "\n",
    "Strategy 1: find rejected (a) consensus, (b) identity-specific, or (c) clade-identity-specific elements. Set a cutoff at 95% presence, but fails (i) isotype check, (ii) clade check, or (iii) species check. Spin in previous work, if any.\n",
    "\n",
    "Strategy 2: highlight instances where previous work conflicts.\n",
    "\n",
    "Some of these will have been covered in `first-pass-consensus`."
   ]
  },
  {
   "cell_type": "markdown",
   "metadata": {},
   "source": [
    "# Strategy 1A\n",
    "\n",
    "## Find targets"
   ]
  },
  {
   "cell_type": "code",
   "execution_count": 34,
   "metadata": {
    "collapsed": false
   },
   "outputs": [],
   "source": [
    "code_groups = c('A'=1, 'C'=1, 'G'=1, 'U'=1, 'Absent'=1, \n",
    "                'Purine'=2, 'Pyrimidine'=2,\n",
    "                'Weak'=3, 'Strong'=3, 'Amino'=3, 'Keto'=3,\n",
    "                'B'=4, 'D'=4, 'H'=4, 'V'=4,\n",
    "                'GC'=1, 'AU'=1, 'UA'=1, 'CG'=1, 'GU'=1, 'UG'=1,\n",
    "                'StrongPair'=2, 'WeakPair'=2, 'Wobble'=2,\n",
    "                'PurinePyrimidine'=3, 'PyrimidinePurine'=3, 'AminoKeto'=3, 'KetoAmino'=3,\n",
    "                'Paired'=4, 'Mismatched'=4, 'Bulge'=4)\n",
    "\n",
    "cutoff_freqs = data.frame()\n",
    "for (cutoff in c(0.5, 0.6, 0.7, 0.8, 0.9, 0.95, 0.99, 1.0)) {\n",
    "  df = clade_iso_ac_freqs %>%\n",
    "    group_by(positions, variable) %>%\n",
    "    summarize(count=sum(value), freq=sum(value)/sum(total)) %>%\n",
    "    filter(freq >= cutoff) %>%\n",
    "    mutate(cutoff=as.character(cutoff)) %>%\n",
    "    select(positions, variable, freq, cutoff) %>%\n",
    "    group_by(positions) %>%\n",
    "    arrange(code_groups[variable], desc(freq)) %>%\n",
    "    filter(row_number(positions) == 1)\n",
    "  if (nrow(cutoff_freqs) == 0) cutoff_freqs = df\n",
    "  else cutoff_freqs = rbind(cutoff_freqs, df)\n",
    "}"
   ]
  },
  {
   "cell_type": "code",
   "execution_count": 35,
   "metadata": {
    "collapsed": false
   },
   "outputs": [
    {
     "data": {
      "text/html": [
       "<table>\n",
       "<thead><tr><th></th><th scope=col>positions</th><th scope=col>0.5</th><th scope=col>0.6</th><th scope=col>0.7</th><th scope=col>0.8</th><th scope=col>0.9</th><th scope=col>0.95</th><th scope=col>0.99</th></tr></thead>\n",
       "<tbody>\n",
       "\t<tr><th scope=row>1</th><td>X10.25</td><td>GC</td><td>GC</td><td>GC</td><td>Paired</td><td>Paired</td><td>Paired</td><td>Paired</td></tr>\n",
       "\t<tr><th scope=row>2</th><td>X10.45</td><td>Mismatched</td><td>Mismatched</td><td>Mismatched</td><td>Mismatched</td><td>NA</td><td>NA</td><td>NA</td></tr>\n",
       "\t<tr><th scope=row>3</th><td>X11.24</td><td>CG</td><td>CG</td><td>PyrimidinePurine</td><td>PyrimidinePurine</td><td>PyrimidinePurine</td><td>PyrimidinePurine</td><td>Paired</td></tr>\n",
       "\t<tr><th scope=row>4</th><td>X12.23</td><td>PyrimidinePurine</td><td>PyrimidinePurine</td><td>Paired</td><td>Paired</td><td>Paired</td><td>Paired</td><td>NA</td></tr>\n",
       "\t<tr><th scope=row>5</th><td>X13.22</td><td>PyrimidinePurine</td><td>Paired</td><td>NA</td><td>NA</td><td>NA</td><td>NA</td><td>NA</td></tr>\n",
       "\t<tr><th scope=row>6</th><td>X14</td><td>A</td><td>A</td><td>A</td><td>A</td><td>A</td><td>A</td><td>A</td></tr>\n",
       "\t<tr><th scope=row>7</th><td>X15</td><td>G</td><td>G</td><td>G</td><td>G</td><td>Purine</td><td>Purine</td><td>Purine</td></tr>\n",
       "\t<tr><th scope=row>8</th><td>X15.48</td><td>GC</td><td>GC</td><td>GC</td><td>PurinePyrimidine</td><td>PurinePyrimidine</td><td>Paired</td><td>NA</td></tr>\n",
       "\t<tr><th scope=row>9</th><td>X16</td><td>U</td><td>U</td><td>U</td><td>Pyrimidine</td><td>Pyrimidine</td><td>B</td><td>NA</td></tr>\n",
       "\t<tr><th scope=row>10</th><td>X17</td><td>Absent</td><td>Absent</td><td>NA</td><td>NA</td><td>NA</td><td>NA</td><td>NA</td></tr>\n",
       "\t<tr><th scope=row>11</th><td>X1.72</td><td>GC</td><td>GC</td><td>GC</td><td>GC</td><td>Paired</td><td>Paired</td><td>Paired</td></tr>\n",
       "\t<tr><th scope=row>12</th><td>X17a</td><td>Absent</td><td>Absent</td><td>Absent</td><td>Absent</td><td>Absent</td><td>Absent</td><td>Absent</td></tr>\n",
       "\t<tr><th scope=row>13</th><td>X18</td><td>G</td><td>G</td><td>G</td><td>G</td><td>G</td><td>G</td><td>G</td></tr>\n",
       "\t<tr><th scope=row>14</th><td>X18.55</td><td>GU</td><td>GU</td><td>GU</td><td>GU</td><td>GU</td><td>GU</td><td>GU</td></tr>\n",
       "\t<tr><th scope=row>15</th><td>X19</td><td>G</td><td>G</td><td>G</td><td>G</td><td>G</td><td>G</td><td>G</td></tr>\n",
       "\t<tr><th scope=row>16</th><td>X19.56</td><td>GC</td><td>GC</td><td>GC</td><td>GC</td><td>GC</td><td>GC</td><td>Paired</td></tr>\n",
       "\t<tr><th scope=row>17</th><td>X20</td><td>U</td><td>U</td><td>U</td><td>U</td><td>H</td><td>H</td><td>NA</td></tr>\n",
       "\t<tr><th scope=row>18</th><td>X20a</td><td>Pyrimidine</td><td>NA</td><td>NA</td><td>NA</td><td>NA</td><td>NA</td><td>NA</td></tr>\n",
       "\t<tr><th scope=row>19</th><td>X20b</td><td>Absent</td><td>Absent</td><td>Absent</td><td>Absent</td><td>Absent</td><td>NA</td><td>NA</td></tr>\n",
       "\t<tr><th scope=row>20</th><td>X21</td><td>A</td><td>A</td><td>A</td><td>A</td><td>A</td><td>A</td><td>A</td></tr>\n",
       "\t<tr><th scope=row>21</th><td>X22.46</td><td>Mismatched</td><td>Mismatched</td><td>Mismatched</td><td>Mismatched</td><td>NA</td><td>NA</td><td>NA</td></tr>\n",
       "\t<tr><th scope=row>22</th><td>X26</td><td>G</td><td>Purine</td><td>Purine</td><td>D</td><td>D</td><td>D</td><td>NA</td></tr>\n",
       "\t<tr><th scope=row>23</th><td>X26.44</td><td>Mismatched</td><td>Mismatched</td><td>Mismatched</td><td>NA</td><td>NA</td><td>NA</td><td>NA</td></tr>\n",
       "\t<tr><th scope=row>24</th><td>X2.71</td><td>StrongPair</td><td>StrongPair</td><td>StrongPair</td><td>Paired</td><td>Paired</td><td>Paired</td><td>Paired</td></tr>\n",
       "\t<tr><th scope=row>25</th><td>X27.43</td><td>PyrimidinePurine</td><td>PyrimidinePurine</td><td>PyrimidinePurine</td><td>Paired</td><td>Paired</td><td>Paired</td><td>Paired</td></tr>\n",
       "\t<tr><th scope=row>26</th><td>X28.42</td><td>PyrimidinePurine</td><td>PyrimidinePurine</td><td>PyrimidinePurine</td><td>Paired</td><td>Paired</td><td>Paired</td><td>Paired</td></tr>\n",
       "\t<tr><th scope=row>27</th><td>X29.41</td><td>StrongPair</td><td>Paired</td><td>Paired</td><td>Paired</td><td>Paired</td><td>Paired</td><td>Paired</td></tr>\n",
       "\t<tr><th scope=row>28</th><td>X30.40</td><td>GC</td><td>GC</td><td>GC</td><td>StrongPair</td><td>Paired</td><td>Paired</td><td>Paired</td></tr>\n",
       "\t<tr><th scope=row>29</th><td>X31.39</td><td>PurinePyrimidine</td><td>PurinePyrimidine</td><td>Paired</td><td>Paired</td><td>Paired</td><td>Paired</td><td>NA</td></tr>\n",
       "\t<tr><th scope=row>30</th><td>X32</td><td>C</td><td>C</td><td>C</td><td>Pyrimidine</td><td>Pyrimidine</td><td>Pyrimidine</td><td>Pyrimidine</td></tr>\n",
       "\t<tr><th scope=row>31</th><td>X33</td><td>U</td><td>U</td><td>U</td><td>U</td><td>U</td><td>U</td><td>Pyrimidine</td></tr>\n",
       "\t<tr><th scope=row>32</th><td>X34</td><td>Pyrimidine</td><td>B</td><td>B</td><td>NA</td><td>NA</td><td>NA</td><td>NA</td></tr>\n",
       "\t<tr><th scope=row>33</th><td>X35</td><td>Pyrimidine</td><td>D</td><td>D</td><td>NA</td><td>NA</td><td>NA</td><td>NA</td></tr>\n",
       "\t<tr><th scope=row>34</th><td>X36</td><td>Pyrimidine</td><td>Pyrimidine</td><td>B</td><td>B</td><td>NA</td><td>NA</td><td>NA</td></tr>\n",
       "\t<tr><th scope=row>35</th><td>X37</td><td>A</td><td>A</td><td>Purine</td><td>Purine</td><td>Purine</td><td>Purine</td><td>Purine</td></tr>\n",
       "\t<tr><th scope=row>36</th><td>X3.70</td><td>CG</td><td>PyrimidinePurine</td><td>Paired</td><td>Paired</td><td>Paired</td><td>Paired</td><td>Paired</td></tr>\n",
       "\t<tr><th scope=row>37</th><td>X38</td><td>A</td><td>Amino</td><td>Amino</td><td>Amino</td><td>H</td><td>H</td><td>H</td></tr>\n",
       "\t<tr><th scope=row>38</th><td>X44</td><td>A</td><td>A</td><td>Purine</td><td>Weak</td><td>H</td><td>NA</td><td>NA</td></tr>\n",
       "\t<tr><th scope=row>39</th><td>X45</td><td>G</td><td>G</td><td>G</td><td>Purine</td><td>NA</td><td>NA</td><td>NA</td></tr>\n",
       "\t<tr><th scope=row>40</th><td>X46</td><td>G</td><td>G</td><td>G</td><td>Purine</td><td>Purine</td><td>Purine</td><td>Purine</td></tr>\n",
       "\t<tr><th scope=row>41</th><td>X4.69</td><td>StrongPair</td><td>Paired</td><td>Paired</td><td>Paired</td><td>Paired</td><td>Paired</td><td>NA</td></tr>\n",
       "\t<tr><th scope=row>42</th><td>X47</td><td>U</td><td>Pyrimidine</td><td>NA</td><td>NA</td><td>NA</td><td>NA</td><td>NA</td></tr>\n",
       "\t<tr><th scope=row>43</th><td>X48</td><td>C</td><td>C</td><td>C</td><td>C</td><td>Pyrimidine</td><td>Pyrimidine</td><td>H</td></tr>\n",
       "\t<tr><th scope=row>44</th><td>X49.65</td><td>StrongPair</td><td>StrongPair</td><td>StrongPair</td><td>StrongPair</td><td>Paired</td><td>Paired</td><td>Paired</td></tr>\n",
       "\t<tr><th scope=row>45</th><td>X50.64</td><td>PyrimidinePurine</td><td>PyrimidinePurine</td><td>PyrimidinePurine</td><td>Paired</td><td>Paired</td><td>Paired</td><td>Paired</td></tr>\n",
       "\t<tr><th scope=row>46</th><td>X51.63</td><td>GC</td><td>GC</td><td>StrongPair</td><td>Paired</td><td>Paired</td><td>Paired</td><td>Paired</td></tr>\n",
       "\t<tr><th scope=row>47</th><td>X52.62</td><td>GC</td><td>GC</td><td>GC</td><td>PurinePyrimidine</td><td>PurinePyrimidine</td><td>Paired</td><td>Paired</td></tr>\n",
       "\t<tr><th scope=row>48</th><td>X53.61</td><td>GC</td><td>GC</td><td>GC</td><td>GC</td><td>GC</td><td>GC</td><td>GC</td></tr>\n",
       "\t<tr><th scope=row>49</th><td>X54</td><td>U</td><td>U</td><td>U</td><td>U</td><td>U</td><td>U</td><td>Weak</td></tr>\n",
       "\t<tr><th scope=row>50</th><td>X54.58</td><td>UA</td><td>UA</td><td>UA</td><td>UA</td><td>UA</td><td>Paired</td><td>NA</td></tr>\n",
       "\t<tr><th scope=row>51</th><td>X55</td><td>U</td><td>U</td><td>U</td><td>U</td><td>U</td><td>U</td><td>U</td></tr>\n",
       "\t<tr><th scope=row>52</th><td>X56</td><td>C</td><td>C</td><td>C</td><td>C</td><td>C</td><td>C</td><td>Pyrimidine</td></tr>\n",
       "\t<tr><th scope=row>53</th><td>X5.68</td><td>StrongPair</td><td>Paired</td><td>Paired</td><td>Paired</td><td>Paired</td><td>Paired</td><td>NA</td></tr>\n",
       "\t<tr><th scope=row>54</th><td>X57</td><td>G</td><td>G</td><td>G</td><td>Purine</td><td>Purine</td><td>Purine</td><td>Purine</td></tr>\n",
       "\t<tr><th scope=row>55</th><td>X58</td><td>A</td><td>A</td><td>A</td><td>A</td><td>A</td><td>A</td><td>A</td></tr>\n",
       "\t<tr><th scope=row>56</th><td>X59</td><td>Purine</td><td>Weak</td><td>Weak</td><td>D</td><td>D</td><td>NA</td><td>NA</td></tr>\n",
       "\t<tr><th scope=row>57</th><td>X60</td><td>U</td><td>U</td><td>Pyrimidine</td><td>Pyrimidine</td><td>Pyrimidine</td><td>H</td><td>NA</td></tr>\n",
       "\t<tr><th scope=row>58</th><td>X6.67</td><td>Paired</td><td>Paired</td><td>Paired</td><td>Paired</td><td>Paired</td><td>Paired</td><td>NA</td></tr>\n",
       "\t<tr><th scope=row>59</th><td>X73</td><td>A</td><td>Purine</td><td>Purine</td><td>Purine</td><td>D</td><td>NA</td><td>NA</td></tr>\n",
       "\t<tr><th scope=row>60</th><td>X7.66</td><td>PurinePyrimidine</td><td>PurinePyrimidine</td><td>PurinePyrimidine</td><td>Paired</td><td>Paired</td><td>Paired</td><td>Paired</td></tr>\n",
       "\t<tr><th scope=row>61</th><td>X8</td><td>U</td><td>U</td><td>U</td><td>U</td><td>U</td><td>U</td><td>U</td></tr>\n",
       "\t<tr><th scope=row>62</th><td>X8.14</td><td>UA</td><td>UA</td><td>UA</td><td>UA</td><td>UA</td><td>UA</td><td>UA</td></tr>\n",
       "\t<tr><th scope=row>63</th><td>X9</td><td>G</td><td>Purine</td><td>Purine</td><td>Purine</td><td>Purine</td><td>Purine</td><td>V</td></tr>\n",
       "\t<tr><th scope=row>64</th><td>X9.23</td><td>Mismatched</td><td>Mismatched</td><td>Mismatched</td><td>NA</td><td>NA</td><td>NA</td><td>NA</td></tr>\n",
       "</tbody>\n",
       "</table>\n"
      ],
      "text/latex": [
       "\\begin{tabular}{r|llllllll}\n",
       "  & positions & 0.5 & 0.6 & 0.7 & 0.8 & 0.9 & 0.95 & 0.99\\\\\n",
       "\\hline\n",
       "\t1 & X10.25 & GC & GC & GC & Paired & Paired & Paired & Paired\\\\\n",
       "\t2 & X10.45 & Mismatched & Mismatched & Mismatched & Mismatched & NA & NA & NA\\\\\n",
       "\t3 & X11.24 & CG & CG & PyrimidinePurine & PyrimidinePurine & PyrimidinePurine & PyrimidinePurine & Paired\\\\\n",
       "\t4 & X12.23 & PyrimidinePurine & PyrimidinePurine & Paired & Paired & Paired & Paired & NA\\\\\n",
       "\t5 & X13.22 & PyrimidinePurine & Paired & NA & NA & NA & NA & NA\\\\\n",
       "\t6 & X14 & A & A & A & A & A & A & A\\\\\n",
       "\t7 & X15 & G & G & G & G & Purine & Purine & Purine\\\\\n",
       "\t8 & X15.48 & GC & GC & GC & PurinePyrimidine & PurinePyrimidine & Paired & NA\\\\\n",
       "\t9 & X16 & U & U & U & Pyrimidine & Pyrimidine & B & NA\\\\\n",
       "\t10 & X17 & Absent & Absent & NA & NA & NA & NA & NA\\\\\n",
       "\t11 & X1.72 & GC & GC & GC & GC & Paired & Paired & Paired\\\\\n",
       "\t12 & X17a & Absent & Absent & Absent & Absent & Absent & Absent & Absent\\\\\n",
       "\t13 & X18 & G & G & G & G & G & G & G\\\\\n",
       "\t14 & X18.55 & GU & GU & GU & GU & GU & GU & GU\\\\\n",
       "\t15 & X19 & G & G & G & G & G & G & G\\\\\n",
       "\t16 & X19.56 & GC & GC & GC & GC & GC & GC & Paired\\\\\n",
       "\t17 & X20 & U & U & U & U & H & H & NA\\\\\n",
       "\t18 & X20a & Pyrimidine & NA & NA & NA & NA & NA & NA\\\\\n",
       "\t19 & X20b & Absent & Absent & Absent & Absent & Absent & NA & NA\\\\\n",
       "\t20 & X21 & A & A & A & A & A & A & A\\\\\n",
       "\t21 & X22.46 & Mismatched & Mismatched & Mismatched & Mismatched & NA & NA & NA\\\\\n",
       "\t22 & X26 & G & Purine & Purine & D & D & D & NA\\\\\n",
       "\t23 & X26.44 & Mismatched & Mismatched & Mismatched & NA & NA & NA & NA\\\\\n",
       "\t24 & X2.71 & StrongPair & StrongPair & StrongPair & Paired & Paired & Paired & Paired\\\\\n",
       "\t25 & X27.43 & PyrimidinePurine & PyrimidinePurine & PyrimidinePurine & Paired & Paired & Paired & Paired\\\\\n",
       "\t26 & X28.42 & PyrimidinePurine & PyrimidinePurine & PyrimidinePurine & Paired & Paired & Paired & Paired\\\\\n",
       "\t27 & X29.41 & StrongPair & Paired & Paired & Paired & Paired & Paired & Paired\\\\\n",
       "\t28 & X30.40 & GC & GC & GC & StrongPair & Paired & Paired & Paired\\\\\n",
       "\t29 & X31.39 & PurinePyrimidine & PurinePyrimidine & Paired & Paired & Paired & Paired & NA\\\\\n",
       "\t30 & X32 & C & C & C & Pyrimidine & Pyrimidine & Pyrimidine & Pyrimidine\\\\\n",
       "\t31 & X33 & U & U & U & U & U & U & Pyrimidine\\\\\n",
       "\t32 & X34 & Pyrimidine & B & B & NA & NA & NA & NA\\\\\n",
       "\t33 & X35 & Pyrimidine & D & D & NA & NA & NA & NA\\\\\n",
       "\t34 & X36 & Pyrimidine & Pyrimidine & B & B & NA & NA & NA\\\\\n",
       "\t35 & X37 & A & A & Purine & Purine & Purine & Purine & Purine\\\\\n",
       "\t36 & X3.70 & CG & PyrimidinePurine & Paired & Paired & Paired & Paired & Paired\\\\\n",
       "\t37 & X38 & A & Amino & Amino & Amino & H & H & H\\\\\n",
       "\t38 & X44 & A & A & Purine & Weak & H & NA & NA\\\\\n",
       "\t39 & X45 & G & G & G & Purine & NA & NA & NA\\\\\n",
       "\t40 & X46 & G & G & G & Purine & Purine & Purine & Purine\\\\\n",
       "\t41 & X4.69 & StrongPair & Paired & Paired & Paired & Paired & Paired & NA\\\\\n",
       "\t42 & X47 & U & Pyrimidine & NA & NA & NA & NA & NA\\\\\n",
       "\t43 & X48 & C & C & C & C & Pyrimidine & Pyrimidine & H\\\\\n",
       "\t44 & X49.65 & StrongPair & StrongPair & StrongPair & StrongPair & Paired & Paired & Paired\\\\\n",
       "\t45 & X50.64 & PyrimidinePurine & PyrimidinePurine & PyrimidinePurine & Paired & Paired & Paired & Paired\\\\\n",
       "\t46 & X51.63 & GC & GC & StrongPair & Paired & Paired & Paired & Paired\\\\\n",
       "\t47 & X52.62 & GC & GC & GC & PurinePyrimidine & PurinePyrimidine & Paired & Paired\\\\\n",
       "\t48 & X53.61 & GC & GC & GC & GC & GC & GC & GC\\\\\n",
       "\t49 & X54 & U & U & U & U & U & U & Weak\\\\\n",
       "\t50 & X54.58 & UA & UA & UA & UA & UA & Paired & NA\\\\\n",
       "\t51 & X55 & U & U & U & U & U & U & U\\\\\n",
       "\t52 & X56 & C & C & C & C & C & C & Pyrimidine\\\\\n",
       "\t53 & X5.68 & StrongPair & Paired & Paired & Paired & Paired & Paired & NA\\\\\n",
       "\t54 & X57 & G & G & G & Purine & Purine & Purine & Purine\\\\\n",
       "\t55 & X58 & A & A & A & A & A & A & A\\\\\n",
       "\t56 & X59 & Purine & Weak & Weak & D & D & NA & NA\\\\\n",
       "\t57 & X60 & U & U & Pyrimidine & Pyrimidine & Pyrimidine & H & NA\\\\\n",
       "\t58 & X6.67 & Paired & Paired & Paired & Paired & Paired & Paired & NA\\\\\n",
       "\t59 & X73 & A & Purine & Purine & Purine & D & NA & NA\\\\\n",
       "\t60 & X7.66 & PurinePyrimidine & PurinePyrimidine & PurinePyrimidine & Paired & Paired & Paired & Paired\\\\\n",
       "\t61 & X8 & U & U & U & U & U & U & U\\\\\n",
       "\t62 & X8.14 & UA & UA & UA & UA & UA & UA & UA\\\\\n",
       "\t63 & X9 & G & Purine & Purine & Purine & Purine & Purine & V\\\\\n",
       "\t64 & X9.23 & Mismatched & Mismatched & Mismatched & NA & NA & NA & NA\\\\\n",
       "\\end{tabular}\n"
      ],
      "text/plain": [
       "Source: local data frame [64 x 8]\n",
       "Groups: positions [64]\n",
       "\n",
       "   positions            `0.5`            `0.6`            `0.7`\n",
       "*      <chr>           <fctr>           <fctr>           <fctr>\n",
       "1     X10.25               GC               GC               GC\n",
       "2     X10.45       Mismatched       Mismatched       Mismatched\n",
       "3     X11.24               CG               CG PyrimidinePurine\n",
       "4     X12.23 PyrimidinePurine PyrimidinePurine           Paired\n",
       "5     X13.22 PyrimidinePurine           Paired               NA\n",
       "6        X14                A                A                A\n",
       "7        X15                G                G                G\n",
       "8     X15.48               GC               GC               GC\n",
       "9        X16                U                U                U\n",
       "10       X17           Absent           Absent               NA\n",
       "# ... with 54 more rows, and 4 more variables: `0.8` <fctr>, `0.9` <fctr>,\n",
       "#   `0.95` <fctr>, `0.99` <fctr>"
      ]
     },
     "execution_count": 35,
     "metadata": {},
     "output_type": "execute_result"
    }
   ],
   "source": [
    "cutoff_freqs %>% \n",
    "  filter(positions %in% c(names(single_positions), names(paired_positions))) %>%\n",
    "  select(positions, cutoff, variable) %>%\n",
    "  spread(cutoff, variable)"
   ]
  },
  {
   "cell_type": "code",
   "execution_count": 36,
   "metadata": {
    "collapsed": false
   },
   "outputs": [
    {
     "data": {
      "text/html": [
       "<table>\n",
       "<thead><tr><th></th><th scope=col>positions</th><th scope=col>identity</th></tr></thead>\n",
       "<tbody>\n",
       "\t<tr><th scope=row>1</th><td>X11.24</td><td>Paired</td></tr>\n",
       "\t<tr><th scope=row>2</th><td>X14</td><td>A</td></tr>\n",
       "\t<tr><th scope=row>3</th><td>X18</td><td>V</td></tr>\n",
       "\t<tr><th scope=row>4</th><td>X19</td><td>G</td></tr>\n",
       "\t<tr><th scope=row>5</th><td>X19.56</td><td>GC</td></tr>\n",
       "\t<tr><th scope=row>6</th><td>X21</td><td>H</td></tr>\n",
       "\t<tr><th scope=row>7</th><td>X2.71</td><td>Paired</td></tr>\n",
       "\t<tr><th scope=row>8</th><td>X30.40</td><td>Paired</td></tr>\n",
       "\t<tr><th scope=row>9</th><td>X32</td><td>B</td></tr>\n",
       "\t<tr><th scope=row>10</th><td>X33</td><td>Pyrimidine</td></tr>\n",
       "\t<tr><th scope=row>11</th><td>X37</td><td>V</td></tr>\n",
       "\t<tr><th scope=row>12</th><td>X38</td><td>H</td></tr>\n",
       "\t<tr><th scope=row>13</th><td>X53.61</td><td>Paired</td></tr>\n",
       "\t<tr><th scope=row>14</th><td>X54</td><td>H</td></tr>\n",
       "\t<tr><th scope=row>15</th><td>X55</td><td>Pyrimidine</td></tr>\n",
       "\t<tr><th scope=row>16</th><td>X56</td><td>C</td></tr>\n",
       "\t<tr><th scope=row>17</th><td>X57</td><td>Purine</td></tr>\n",
       "\t<tr><th scope=row>18</th><td>X58</td><td>D</td></tr>\n",
       "\t<tr><th scope=row>19</th><td>X8</td><td>U</td></tr>\n",
       "\t<tr><th scope=row>20</th><td>X8.14</td><td>UA</td></tr>\n",
       "</tbody>\n",
       "</table>\n"
      ],
      "text/latex": [
       "\\begin{tabular}{r|ll}\n",
       "  & positions & identity\\\\\n",
       "\\hline\n",
       "\t1 & X11.24 & Paired\\\\\n",
       "\t2 & X14 & A\\\\\n",
       "\t3 & X18 & V\\\\\n",
       "\t4 & X19 & G\\\\\n",
       "\t5 & X19.56 & GC\\\\\n",
       "\t6 & X21 & H\\\\\n",
       "\t7 & X2.71 & Paired\\\\\n",
       "\t8 & X30.40 & Paired\\\\\n",
       "\t9 & X32 & B\\\\\n",
       "\t10 & X33 & Pyrimidine\\\\\n",
       "\t11 & X37 & V\\\\\n",
       "\t12 & X38 & H\\\\\n",
       "\t13 & X53.61 & Paired\\\\\n",
       "\t14 & X54 & H\\\\\n",
       "\t15 & X55 & Pyrimidine\\\\\n",
       "\t16 & X56 & C\\\\\n",
       "\t17 & X57 & Purine\\\\\n",
       "\t18 & X58 & D\\\\\n",
       "\t19 & X8 & U\\\\\n",
       "\t20 & X8.14 & UA\\\\\n",
       "\\end{tabular}\n"
      ],
      "text/plain": [
       "# A tibble: 20 × 2\n",
       "   positions   identity\n",
       "       <chr>      <chr>\n",
       "1     X11.24     Paired\n",
       "2        X14          A\n",
       "3        X18          V\n",
       "4        X19          G\n",
       "5     X19.56         GC\n",
       "6        X21          H\n",
       "7      X2.71     Paired\n",
       "8     X30.40     Paired\n",
       "9        X32          B\n",
       "10       X33 Pyrimidine\n",
       "11       X37          V\n",
       "12       X38          H\n",
       "13    X53.61     Paired\n",
       "14       X54          H\n",
       "15       X55 Pyrimidine\n",
       "16       X56          C\n",
       "17       X57     Purine\n",
       "18       X58          D\n",
       "19        X8          U\n",
       "20     X8.14         UA"
      ]
     },
     "execution_count": 36,
     "metadata": {},
     "output_type": "execute_result"
    }
   ],
   "source": [
    "consensus"
   ]
  },
  {
   "cell_type": "markdown",
   "metadata": {},
   "source": [
    "For strategy 1A, some good candidates here: \n",
    "- R9 (95%)\n",
    "- G18, U55, and G18:U55 (99%)\n",
    "- A21 and A14/A21 (99%)\n",
    "- U33 (95%)\n",
    "- R46 (99%)\n",
    "- G53:C61 (99%)\n",
    "- U55 (99%)"
   ]
  },
  {
   "cell_type": "markdown",
   "metadata": {},
   "source": [
    "## R9"
   ]
  },
  {
   "cell_type": "code",
   "execution_count": null,
   "metadata": {
    "collapsed": true
   },
   "outputs": [],
   "source": []
  }
 ],
 "metadata": {
  "kernelspec": {
   "display_name": "R",
   "language": "R",
   "name": "ir"
  },
  "language_info": {
   "codemirror_mode": "r",
   "file_extension": ".r",
   "mimetype": "text/x-r-source",
   "name": "R",
   "pygments_lexer": "r",
   "version": "3.2.2"
  }
 },
 "nbformat": 4,
 "nbformat_minor": 0
}
