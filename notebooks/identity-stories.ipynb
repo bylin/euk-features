{
 "cells": [
  {
   "cell_type": "code",
   "execution_count": 1,
   "metadata": {
    "collapsed": true
   },
   "outputs": [],
   "source": [
    "library(ggplot2)\n",
    "library(reshape2)\n",
    "library(RColorBrewer)\n",
    "suppressMessages(library(dplyr))\n",
    "library(stringr)\n",
    "suppressMessages(library(tidyr))\n",
    "theme_set(theme_bw())\n",
    "library(scales)\n",
    "options(repr.plot.width=7, repr.plot.height=4)\n",
    "isotypes = c('Ala', 'Arg', 'Asn', 'Asp', 'Cys', 'Gln', 'Glu', 'Gly', 'His', 'Ile', 'iMet', 'Leu', 'Lys', 'Met', 'Phe', 'Pro', 'Ser', 'Thr', 'Trp', 'Tyr', 'Val')\n",
    "\n",
    "paired_positions = c('X1.72'='1:72', 'X2.71'='2:71', 'X3.70'='3:70', 'X4.69'='4:69', 'X5.68'='5:68', 'X6.67'='6:67', 'X7.66'='7:66', 'X8.14'='*8:14', 'X9.23'='*9:23', 'X10.25'='10:25', 'X10.45'='*10:45', 'X11.24'='11:24', 'X12.23'='12:23', 'X13.22'='13:22', 'X15.48'='*15:48','X18.55'='*18:55', 'X19.56'='*19:56', 'X22.46'='*22:46', 'X26.44'='*26:44', 'X27.43'='27:43', 'X28.42'='28:42', 'X29.41'='29:41', 'X30.40'='30:40', 'X31.39'='31:39', 'X49.65'='49:65', 'X50.64'='50:64', 'X51.63'='51:63', 'X52.62'='52:62', 'X53.61'='53:61', 'X54.58'='*54:58')\n",
    "paired_identities = c('GC', 'AU', 'UA', 'CG', 'GU', 'UG', 'PurinePyrimidine', 'PyrimidinePurine', 'StrongPair', 'WeakPair', 'AminoKeto', 'KetoAmino', 'Wobble', 'Paired', 'Bulge', 'Mismatched', 'Absent')\n",
    "\n",
    "single_positions = c('X8'='8', 'X9'='9', 'X14'='14', 'X15'='15', 'X16'='16', 'X17'='17', 'X17a'='17a', 'X17b'='17b', 'X18'='18', 'X19'='19', 'X20'='20', 'X20a'='20a', 'X20b'='20b', 'X21'='21', 'X26'='26', 'X32'='32', 'X33'='33', 'X34'='34', 'X35'='35', 'X36'='36', 'X37'='37', 'X38'='38', 'X44'='44', 'X45'='45', 'X46'='46', 'X47'='47', 'X48'='48', 'X54'='54', 'X55'='55', 'X56'='56', 'X57'='57', 'X58'='58', 'X59'='59', 'X60'='60', 'X73'='73')\n",
    "single_identities = c('A', 'C', 'G', 'U', 'Purine', 'Pyrimidine', 'Weak', 'Strong', 'Amino', 'Keto', 'B', 'D', 'H', 'V', 'Absent')\n",
    "\n",
    "colors = c('A'='gray20', 'C'='gray20', 'G'='gray20', 'U'='gray20', 'Absent'='gray20', 'Purine'='gray20', 'Pyrimidine'='gray20', 'Weak'='gray20', 'Strong'='gray20', 'Amino'='gray20', 'Keto'='gray20', 'B'='gray50', 'D'='gray50', 'H'='gray50', 'V'='gray50', 'GC'='gray20', 'AU'='gray20', 'UA'='gray20', 'CG'='gray20', 'GU'='gray20', 'UG'='gray20', 'PurinePyrimidine'='gray20', 'PyrimidinePurine'='gray20', 'StrongPair'='gray20', 'WeakPair'='gray20', 'AminoKeto'='gray20', 'KetoAmino'='gray20', 'Wobble'='gray20', 'Paired'='gray20', 'Bulge'='gray20', 'Mismatched'='gray20')\n",
    "fills = c('A'='#ffd92f', 'C'='#4daf4a', 'G'='#e41a1c', 'U'='#377eb8', 'Purine'='#ff8300', 'Pyrimidine'='#66c2a5', 'Weak'='#b3de69', 'Strong'='#fb72b2', 'Amino'='#c1764a', 'Keto'='#b26cbd', 'B'='#e5c494', 'D'='#ccebd5', 'H'='#ffa79d', 'V'='#a6cdea', 'Absent'='gray60', 'Mismatched'='gray30', 'Paired'='#ffffcc')"
   ]
  },
  {
   "cell_type": "code",
   "execution_count": 2,
   "metadata": {
    "collapsed": true
   },
   "outputs": [],
   "source": [
    "load('best-freqs.RData')\n",
    "load('clade-isotype-specific.RData')\n",
    "load('isotype-specific.RData')\n",
    "load('consensus-IDEs.RData')\n",
    "load('clade-isotype-specific-freqs.RData')"
   ]
  },
  {
   "cell_type": "code",
   "execution_count": 3,
   "metadata": {
    "collapsed": true
   },
   "outputs": [],
   "source": [
    "identities = read.delim('identities.tsv', sep='\\t')\n",
    "identities$quality = as.logical(identities$quality)\n",
    "identities$restrict = as.logical(identities$restrict)\n",
    "identities = identities %>% mutate(quality=quality & !restrict)"
   ]
  },
  {
   "cell_type": "markdown",
   "metadata": {},
   "source": [
    "# Introduction\n",
    "\n",
    "Strategy 1: find rejected (a) consensus, (b) isotype-specific, or (c) clade-isotype-specific elements. Set a cutoff at 95% presence, but fails (i) isotype check, (ii) clade check, or (iii) species check. Spin in previous work, if any. Bonus points if previous work _conflicts_ with consensus definition.\n",
    "\n",
    "Strategy 2: highlight instances where previous work conflicts.\n",
    "\n",
    "Some of these will have been covered in `first-pass-consensus`."
   ]
  },
  {
   "cell_type": "markdown",
   "metadata": {},
   "source": [
    "# Strategy 1A\n",
    "\n",
    "## Find targets"
   ]
  },
  {
   "cell_type": "code",
   "execution_count": 4,
   "metadata": {
    "collapsed": false
   },
   "outputs": [],
   "source": [
    "code_groups = c('A'=1, 'C'=1, 'G'=1, 'U'=1, 'Absent'=1, \n",
    "                'Purine'=2, 'Pyrimidine'=2,\n",
    "                'Weak'=3, 'Strong'=3, 'Amino'=3, 'Keto'=3,\n",
    "                'B'=4, 'D'=4, 'H'=4, 'V'=4,\n",
    "                'GC'=1, 'AU'=1, 'UA'=1, 'CG'=1, 'GU'=1, 'UG'=1,\n",
    "                'StrongPair'=2, 'WeakPair'=2, 'Wobble'=2,\n",
    "                'PurinePyrimidine'=3, 'PyrimidinePurine'=3, 'AminoKeto'=3, 'KetoAmino'=3,\n",
    "                'Paired'=4, 'Mismatched'=4, 'Bulge'=4)\n",
    "\n",
    "cutoff_freqs = data.frame()\n",
    "for (cutoff in c(0.5, 0.6, 0.7, 0.8, 0.9, 0.95, 0.99, 1.0)) {\n",
    "  df = clade_iso_ac_freqs %>%\n",
    "    group_by(positions, variable) %>%\n",
    "    summarize(count=sum(value), freq=sum(value)/sum(total)) %>%\n",
    "    filter(freq >= cutoff) %>%\n",
    "    mutate(cutoff=as.character(cutoff)) %>%\n",
    "    select(positions, variable, freq, cutoff) %>%\n",
    "    group_by(positions) %>%\n",
    "    arrange(code_groups[variable], desc(freq)) %>%\n",
    "    filter(row_number(positions) == 1)\n",
    "  if (nrow(cutoff_freqs) == 0) cutoff_freqs = df\n",
    "  else cutoff_freqs = rbind(cutoff_freqs, df)\n",
    "}"
   ]
  },
  {
   "cell_type": "code",
   "execution_count": 5,
   "metadata": {
    "collapsed": false,
    "scrolled": true
   },
   "outputs": [
    {
     "data": {
      "text/html": [
       "<table>\n",
       "<thead><tr><th></th><th scope=col>positions</th><th scope=col>0.5</th><th scope=col>0.6</th><th scope=col>0.7</th><th scope=col>0.8</th><th scope=col>0.9</th><th scope=col>0.95</th><th scope=col>0.99</th></tr></thead>\n",
       "<tbody>\n",
       "\t<tr><th scope=row>1</th><td>X10.25</td><td>GC</td><td>GC</td><td>GC</td><td>Paired</td><td>Paired</td><td>Paired</td><td>Paired</td></tr>\n",
       "\t<tr><th scope=row>2</th><td>X10.45</td><td>Mismatched</td><td>Mismatched</td><td>Mismatched</td><td>Mismatched</td><td>NA</td><td>NA</td><td>NA</td></tr>\n",
       "\t<tr><th scope=row>3</th><td>X11.24</td><td>CG</td><td>CG</td><td>PyrimidinePurine</td><td>PyrimidinePurine</td><td>PyrimidinePurine</td><td>PyrimidinePurine</td><td>Paired</td></tr>\n",
       "\t<tr><th scope=row>4</th><td>X12.23</td><td>PyrimidinePurine</td><td>PyrimidinePurine</td><td>Paired</td><td>Paired</td><td>Paired</td><td>Paired</td><td>NA</td></tr>\n",
       "\t<tr><th scope=row>5</th><td>X13.22</td><td>PyrimidinePurine</td><td>Paired</td><td>NA</td><td>NA</td><td>NA</td><td>NA</td><td>NA</td></tr>\n",
       "\t<tr><th scope=row>6</th><td>X14</td><td>A</td><td>A</td><td>A</td><td>A</td><td>A</td><td>A</td><td>A</td></tr>\n",
       "\t<tr><th scope=row>7</th><td>X15</td><td>G</td><td>G</td><td>G</td><td>Purine</td><td>Purine</td><td>Purine</td><td>Purine</td></tr>\n",
       "\t<tr><th scope=row>8</th><td>X15.48</td><td>GC</td><td>GC</td><td>GC</td><td>PurinePyrimidine</td><td>PurinePyrimidine</td><td>Paired</td><td>NA</td></tr>\n",
       "\t<tr><th scope=row>9</th><td>X16</td><td>U</td><td>U</td><td>U</td><td>Pyrimidine</td><td>Pyrimidine</td><td>B</td><td>NA</td></tr>\n",
       "\t<tr><th scope=row>10</th><td>X17</td><td>Absent</td><td>Absent</td><td>Absent</td><td>NA</td><td>NA</td><td>NA</td><td>NA</td></tr>\n",
       "\t<tr><th scope=row>11</th><td>X1.72</td><td>GC</td><td>GC</td><td>GC</td><td>GC</td><td>Paired</td><td>Paired</td><td>NA</td></tr>\n",
       "\t<tr><th scope=row>12</th><td>X17a</td><td>Absent</td><td>Absent</td><td>Absent</td><td>Absent</td><td>Absent</td><td>Absent</td><td>Absent</td></tr>\n",
       "\t<tr><th scope=row>13</th><td>X18</td><td>G</td><td>G</td><td>G</td><td>G</td><td>G</td><td>G</td><td>G</td></tr>\n",
       "\t<tr><th scope=row>14</th><td>X18.55</td><td>GU</td><td>GU</td><td>GU</td><td>GU</td><td>GU</td><td>GU</td><td>Paired</td></tr>\n",
       "\t<tr><th scope=row>15</th><td>X19</td><td>G</td><td>G</td><td>G</td><td>G</td><td>G</td><td>G</td><td>G</td></tr>\n",
       "\t<tr><th scope=row>16</th><td>X19.56</td><td>GC</td><td>GC</td><td>GC</td><td>GC</td><td>GC</td><td>GC</td><td>Paired</td></tr>\n",
       "\t<tr><th scope=row>17</th><td>X20</td><td>U</td><td>U</td><td>U</td><td>U</td><td>Weak</td><td>H</td><td>NA</td></tr>\n",
       "\t<tr><th scope=row>18</th><td>X20a</td><td>Pyrimidine</td><td>NA</td><td>NA</td><td>NA</td><td>NA</td><td>NA</td><td>NA</td></tr>\n",
       "\t<tr><th scope=row>19</th><td>X20b</td><td>Absent</td><td>Absent</td><td>Absent</td><td>Absent</td><td>Absent</td><td>NA</td><td>NA</td></tr>\n",
       "\t<tr><th scope=row>20</th><td>X21</td><td>A</td><td>A</td><td>A</td><td>A</td><td>A</td><td>A</td><td>A</td></tr>\n",
       "\t<tr><th scope=row>21</th><td>X22.46</td><td>Mismatched</td><td>Mismatched</td><td>Mismatched</td><td>Mismatched</td><td>NA</td><td>NA</td><td>NA</td></tr>\n",
       "\t<tr><th scope=row>22</th><td>X26</td><td>G</td><td>Purine</td><td>Purine</td><td>Purine</td><td>D</td><td>D</td><td>NA</td></tr>\n",
       "\t<tr><th scope=row>23</th><td>X26.44</td><td>Mismatched</td><td>Mismatched</td><td>Mismatched</td><td>NA</td><td>NA</td><td>NA</td><td>NA</td></tr>\n",
       "\t<tr><th scope=row>24</th><td>X2.71</td><td>StrongPair</td><td>StrongPair</td><td>Paired</td><td>Paired</td><td>Paired</td><td>Paired</td><td>NA</td></tr>\n",
       "\t<tr><th scope=row>25</th><td>X27.43</td><td>PyrimidinePurine</td><td>PyrimidinePurine</td><td>PyrimidinePurine</td><td>Paired</td><td>Paired</td><td>Paired</td><td>NA</td></tr>\n",
       "\t<tr><th scope=row>26</th><td>X28.42</td><td>PyrimidinePurine</td><td>PyrimidinePurine</td><td>PyrimidinePurine</td><td>Paired</td><td>Paired</td><td>Paired</td><td>NA</td></tr>\n",
       "\t<tr><th scope=row>27</th><td>X29.41</td><td>PurinePyrimidine</td><td>Paired</td><td>Paired</td><td>Paired</td><td>Paired</td><td>Paired</td><td>NA</td></tr>\n",
       "\t<tr><th scope=row>28</th><td>X30.40</td><td>GC</td><td>GC</td><td>GC</td><td>StrongPair</td><td>Paired</td><td>Paired</td><td>NA</td></tr>\n",
       "\t<tr><th scope=row>29</th><td>X31.39</td><td>PurinePyrimidine</td><td>PurinePyrimidine</td><td>Paired</td><td>Paired</td><td>Paired</td><td>Paired</td><td>NA</td></tr>\n",
       "\t<tr><th scope=row>30</th><td>X32</td><td>C</td><td>C</td><td>C</td><td>Pyrimidine</td><td>Pyrimidine</td><td>Pyrimidine</td><td>Pyrimidine</td></tr>\n",
       "\t<tr><th scope=row>31</th><td>X33</td><td>U</td><td>U</td><td>U</td><td>U</td><td>U</td><td>U</td><td>Pyrimidine</td></tr>\n",
       "\t<tr><th scope=row>32</th><td>X34</td><td>Pyrimidine</td><td>B</td><td>B</td><td>B</td><td>NA</td><td>NA</td><td>NA</td></tr>\n",
       "\t<tr><th scope=row>33</th><td>X35</td><td>Purine</td><td>D</td><td>D</td><td>NA</td><td>NA</td><td>NA</td><td>NA</td></tr>\n",
       "\t<tr><th scope=row>34</th><td>X36</td><td>Pyrimidine</td><td>H</td><td>H</td><td>H</td><td>NA</td><td>NA</td><td>NA</td></tr>\n",
       "\t<tr><th scope=row>35</th><td>X37</td><td>A</td><td>A</td><td>Purine</td><td>Purine</td><td>Purine</td><td>Purine</td><td>Purine</td></tr>\n",
       "\t<tr><th scope=row>36</th><td>X3.70</td><td>CG</td><td>PyrimidinePurine</td><td>PyrimidinePurine</td><td>Paired</td><td>Paired</td><td>Paired</td><td>NA</td></tr>\n",
       "\t<tr><th scope=row>37</th><td>X38</td><td>A</td><td>A</td><td>Amino</td><td>Amino</td><td>H</td><td>H</td><td>H</td></tr>\n",
       "\t<tr><th scope=row>38</th><td>X44</td><td>A</td><td>Purine</td><td>Weak</td><td>Weak</td><td>D</td><td>NA</td><td>NA</td></tr>\n",
       "\t<tr><th scope=row>39</th><td>X45</td><td>G</td><td>G</td><td>G</td><td>Purine</td><td>NA</td><td>NA</td><td>NA</td></tr>\n",
       "\t<tr><th scope=row>40</th><td>X46</td><td>G</td><td>G</td><td>G</td><td>Purine</td><td>Purine</td><td>Purine</td><td>Purine</td></tr>\n",
       "\t<tr><th scope=row>41</th><td>X4.69</td><td>StrongPair</td><td>Paired</td><td>Paired</td><td>Paired</td><td>Paired</td><td>Paired</td><td>NA</td></tr>\n",
       "\t<tr><th scope=row>42</th><td>X47</td><td>U</td><td>Pyrimidine</td><td>NA</td><td>NA</td><td>NA</td><td>NA</td><td>NA</td></tr>\n",
       "\t<tr><th scope=row>43</th><td>X48</td><td>C</td><td>C</td><td>C</td><td>Pyrimidine</td><td>Pyrimidine</td><td>Pyrimidine</td><td>H</td></tr>\n",
       "\t<tr><th scope=row>44</th><td>X49.65</td><td>StrongPair</td><td>StrongPair</td><td>StrongPair</td><td>StrongPair</td><td>Paired</td><td>Paired</td><td>Paired</td></tr>\n",
       "\t<tr><th scope=row>45</th><td>X50.64</td><td>PyrimidinePurine</td><td>PyrimidinePurine</td><td>PyrimidinePurine</td><td>PyrimidinePurine</td><td>Paired</td><td>Paired</td><td>NA</td></tr>\n",
       "\t<tr><th scope=row>46</th><td>X51.63</td><td>GC</td><td>GC</td><td>PurinePyrimidine</td><td>Paired</td><td>Paired</td><td>Paired</td><td>NA</td></tr>\n",
       "\t<tr><th scope=row>47</th><td>X52.62</td><td>GC</td><td>GC</td><td>GC</td><td>PurinePyrimidine</td><td>PurinePyrimidine</td><td>Paired</td><td>NA</td></tr>\n",
       "\t<tr><th scope=row>48</th><td>X53.61</td><td>GC</td><td>GC</td><td>GC</td><td>GC</td><td>GC</td><td>GC</td><td>Paired</td></tr>\n",
       "\t<tr><th scope=row>49</th><td>X54</td><td>U</td><td>U</td><td>U</td><td>U</td><td>U</td><td>U</td><td>Weak</td></tr>\n",
       "\t<tr><th scope=row>50</th><td>X54.58</td><td>UA</td><td>UA</td><td>UA</td><td>UA</td><td>UA</td><td>UA</td><td>NA</td></tr>\n",
       "\t<tr><th scope=row>51</th><td>X55</td><td>U</td><td>U</td><td>U</td><td>U</td><td>U</td><td>U</td><td>U</td></tr>\n",
       "\t<tr><th scope=row>52</th><td>X56</td><td>C</td><td>C</td><td>C</td><td>C</td><td>C</td><td>C</td><td>Pyrimidine</td></tr>\n",
       "\t<tr><th scope=row>53</th><td>X5.68</td><td>StrongPair</td><td>Paired</td><td>Paired</td><td>Paired</td><td>Paired</td><td>Paired</td><td>NA</td></tr>\n",
       "\t<tr><th scope=row>54</th><td>X57</td><td>G</td><td>G</td><td>Purine</td><td>Purine</td><td>Purine</td><td>Purine</td><td>Purine</td></tr>\n",
       "\t<tr><th scope=row>55</th><td>X58</td><td>A</td><td>A</td><td>A</td><td>A</td><td>A</td><td>A</td><td>A</td></tr>\n",
       "\t<tr><th scope=row>56</th><td>X59</td><td>Purine</td><td>Purine</td><td>Weak</td><td>D</td><td>D</td><td>NA</td><td>NA</td></tr>\n",
       "\t<tr><th scope=row>57</th><td>X60</td><td>U</td><td>U</td><td>Pyrimidine</td><td>Pyrimidine</td><td>Pyrimidine</td><td>H</td><td>NA</td></tr>\n",
       "\t<tr><th scope=row>58</th><td>X6.67</td><td>Paired</td><td>Paired</td><td>Paired</td><td>Paired</td><td>Paired</td><td>Paired</td><td>NA</td></tr>\n",
       "\t<tr><th scope=row>59</th><td>X73</td><td>A</td><td>Purine</td><td>Purine</td><td>Purine</td><td>D</td><td>D</td><td>NA</td></tr>\n",
       "\t<tr><th scope=row>60</th><td>X7.66</td><td>PurinePyrimidine</td><td>PurinePyrimidine</td><td>PurinePyrimidine</td><td>Paired</td><td>Paired</td><td>Paired</td><td>NA</td></tr>\n",
       "\t<tr><th scope=row>61</th><td>X8</td><td>U</td><td>U</td><td>U</td><td>U</td><td>U</td><td>U</td><td>U</td></tr>\n",
       "\t<tr><th scope=row>62</th><td>X8.14</td><td>UA</td><td>UA</td><td>UA</td><td>UA</td><td>UA</td><td>UA</td><td>UA</td></tr>\n",
       "\t<tr><th scope=row>63</th><td>X9</td><td>G</td><td>Purine</td><td>Purine</td><td>Purine</td><td>Purine</td><td>Purine</td><td>V</td></tr>\n",
       "\t<tr><th scope=row>64</th><td>X9.23</td><td>Mismatched</td><td>Mismatched</td><td>Mismatched</td><td>NA</td><td>NA</td><td>NA</td><td>NA</td></tr>\n",
       "</tbody>\n",
       "</table>\n"
      ],
      "text/latex": [
       "\\begin{tabular}{r|llllllll}\n",
       "  & positions & 0.5 & 0.6 & 0.7 & 0.8 & 0.9 & 0.95 & 0.99\\\\\n",
       "\\hline\n",
       "\t1 & X10.25 & GC & GC & GC & Paired & Paired & Paired & Paired\\\\\n",
       "\t2 & X10.45 & Mismatched & Mismatched & Mismatched & Mismatched & NA & NA & NA\\\\\n",
       "\t3 & X11.24 & CG & CG & PyrimidinePurine & PyrimidinePurine & PyrimidinePurine & PyrimidinePurine & Paired\\\\\n",
       "\t4 & X12.23 & PyrimidinePurine & PyrimidinePurine & Paired & Paired & Paired & Paired & NA\\\\\n",
       "\t5 & X13.22 & PyrimidinePurine & Paired & NA & NA & NA & NA & NA\\\\\n",
       "\t6 & X14 & A & A & A & A & A & A & A\\\\\n",
       "\t7 & X15 & G & G & G & Purine & Purine & Purine & Purine\\\\\n",
       "\t8 & X15.48 & GC & GC & GC & PurinePyrimidine & PurinePyrimidine & Paired & NA\\\\\n",
       "\t9 & X16 & U & U & U & Pyrimidine & Pyrimidine & B & NA\\\\\n",
       "\t10 & X17 & Absent & Absent & Absent & NA & NA & NA & NA\\\\\n",
       "\t11 & X1.72 & GC & GC & GC & GC & Paired & Paired & NA\\\\\n",
       "\t12 & X17a & Absent & Absent & Absent & Absent & Absent & Absent & Absent\\\\\n",
       "\t13 & X18 & G & G & G & G & G & G & G\\\\\n",
       "\t14 & X18.55 & GU & GU & GU & GU & GU & GU & Paired\\\\\n",
       "\t15 & X19 & G & G & G & G & G & G & G\\\\\n",
       "\t16 & X19.56 & GC & GC & GC & GC & GC & GC & Paired\\\\\n",
       "\t17 & X20 & U & U & U & U & Weak & H & NA\\\\\n",
       "\t18 & X20a & Pyrimidine & NA & NA & NA & NA & NA & NA\\\\\n",
       "\t19 & X20b & Absent & Absent & Absent & Absent & Absent & NA & NA\\\\\n",
       "\t20 & X21 & A & A & A & A & A & A & A\\\\\n",
       "\t21 & X22.46 & Mismatched & Mismatched & Mismatched & Mismatched & NA & NA & NA\\\\\n",
       "\t22 & X26 & G & Purine & Purine & Purine & D & D & NA\\\\\n",
       "\t23 & X26.44 & Mismatched & Mismatched & Mismatched & NA & NA & NA & NA\\\\\n",
       "\t24 & X2.71 & StrongPair & StrongPair & Paired & Paired & Paired & Paired & NA\\\\\n",
       "\t25 & X27.43 & PyrimidinePurine & PyrimidinePurine & PyrimidinePurine & Paired & Paired & Paired & NA\\\\\n",
       "\t26 & X28.42 & PyrimidinePurine & PyrimidinePurine & PyrimidinePurine & Paired & Paired & Paired & NA\\\\\n",
       "\t27 & X29.41 & PurinePyrimidine & Paired & Paired & Paired & Paired & Paired & NA\\\\\n",
       "\t28 & X30.40 & GC & GC & GC & StrongPair & Paired & Paired & NA\\\\\n",
       "\t29 & X31.39 & PurinePyrimidine & PurinePyrimidine & Paired & Paired & Paired & Paired & NA\\\\\n",
       "\t30 & X32 & C & C & C & Pyrimidine & Pyrimidine & Pyrimidine & Pyrimidine\\\\\n",
       "\t31 & X33 & U & U & U & U & U & U & Pyrimidine\\\\\n",
       "\t32 & X34 & Pyrimidine & B & B & B & NA & NA & NA\\\\\n",
       "\t33 & X35 & Purine & D & D & NA & NA & NA & NA\\\\\n",
       "\t34 & X36 & Pyrimidine & H & H & H & NA & NA & NA\\\\\n",
       "\t35 & X37 & A & A & Purine & Purine & Purine & Purine & Purine\\\\\n",
       "\t36 & X3.70 & CG & PyrimidinePurine & PyrimidinePurine & Paired & Paired & Paired & NA\\\\\n",
       "\t37 & X38 & A & A & Amino & Amino & H & H & H\\\\\n",
       "\t38 & X44 & A & Purine & Weak & Weak & D & NA & NA\\\\\n",
       "\t39 & X45 & G & G & G & Purine & NA & NA & NA\\\\\n",
       "\t40 & X46 & G & G & G & Purine & Purine & Purine & Purine\\\\\n",
       "\t41 & X4.69 & StrongPair & Paired & Paired & Paired & Paired & Paired & NA\\\\\n",
       "\t42 & X47 & U & Pyrimidine & NA & NA & NA & NA & NA\\\\\n",
       "\t43 & X48 & C & C & C & Pyrimidine & Pyrimidine & Pyrimidine & H\\\\\n",
       "\t44 & X49.65 & StrongPair & StrongPair & StrongPair & StrongPair & Paired & Paired & Paired\\\\\n",
       "\t45 & X50.64 & PyrimidinePurine & PyrimidinePurine & PyrimidinePurine & PyrimidinePurine & Paired & Paired & NA\\\\\n",
       "\t46 & X51.63 & GC & GC & PurinePyrimidine & Paired & Paired & Paired & NA\\\\\n",
       "\t47 & X52.62 & GC & GC & GC & PurinePyrimidine & PurinePyrimidine & Paired & NA\\\\\n",
       "\t48 & X53.61 & GC & GC & GC & GC & GC & GC & Paired\\\\\n",
       "\t49 & X54 & U & U & U & U & U & U & Weak\\\\\n",
       "\t50 & X54.58 & UA & UA & UA & UA & UA & UA & NA\\\\\n",
       "\t51 & X55 & U & U & U & U & U & U & U\\\\\n",
       "\t52 & X56 & C & C & C & C & C & C & Pyrimidine\\\\\n",
       "\t53 & X5.68 & StrongPair & Paired & Paired & Paired & Paired & Paired & NA\\\\\n",
       "\t54 & X57 & G & G & Purine & Purine & Purine & Purine & Purine\\\\\n",
       "\t55 & X58 & A & A & A & A & A & A & A\\\\\n",
       "\t56 & X59 & Purine & Purine & Weak & D & D & NA & NA\\\\\n",
       "\t57 & X60 & U & U & Pyrimidine & Pyrimidine & Pyrimidine & H & NA\\\\\n",
       "\t58 & X6.67 & Paired & Paired & Paired & Paired & Paired & Paired & NA\\\\\n",
       "\t59 & X73 & A & Purine & Purine & Purine & D & D & NA\\\\\n",
       "\t60 & X7.66 & PurinePyrimidine & PurinePyrimidine & PurinePyrimidine & Paired & Paired & Paired & NA\\\\\n",
       "\t61 & X8 & U & U & U & U & U & U & U\\\\\n",
       "\t62 & X8.14 & UA & UA & UA & UA & UA & UA & UA\\\\\n",
       "\t63 & X9 & G & Purine & Purine & Purine & Purine & Purine & V\\\\\n",
       "\t64 & X9.23 & Mismatched & Mismatched & Mismatched & NA & NA & NA & NA\\\\\n",
       "\\end{tabular}\n"
      ],
      "text/plain": [
       "Source: local data frame [64 x 8]\n",
       "Groups: positions [64]\n",
       "\n",
       "   positions            `0.5`            `0.6`            `0.7`\n",
       "*      <chr>           <fctr>           <fctr>           <fctr>\n",
       "1     X10.25               GC               GC               GC\n",
       "2     X10.45       Mismatched       Mismatched       Mismatched\n",
       "3     X11.24               CG               CG PyrimidinePurine\n",
       "4     X12.23 PyrimidinePurine PyrimidinePurine           Paired\n",
       "5     X13.22 PyrimidinePurine           Paired               NA\n",
       "6        X14                A                A                A\n",
       "7        X15                G                G                G\n",
       "8     X15.48               GC               GC               GC\n",
       "9        X16                U                U                U\n",
       "10       X17           Absent           Absent           Absent\n",
       "# ... with 54 more rows, and 4 more variables: `0.8` <fctr>, `0.9` <fctr>,\n",
       "#   `0.95` <fctr>, `0.99` <fctr>"
      ]
     },
     "execution_count": 5,
     "metadata": {},
     "output_type": "execute_result"
    }
   ],
   "source": [
    "cutoff_freqs %>% \n",
    "  filter(positions %in% c(names(single_positions), names(paired_positions))) %>%\n",
    "  select(positions, cutoff, variable) %>%\n",
    "  spread(cutoff, variable)"
   ]
  },
  {
   "cell_type": "code",
   "execution_count": 6,
   "metadata": {
    "collapsed": false,
    "scrolled": true
   },
   "outputs": [
    {
     "data": {
      "text/html": [
       "<table>\n",
       "<thead><tr><th></th><th scope=col>positions</th><th scope=col>identity</th></tr></thead>\n",
       "<tbody>\n",
       "\t<tr><th scope=row>1</th><td>X10.25</td><td>Paired</td></tr>\n",
       "\t<tr><th scope=row>2</th><td>X11.24</td><td>Paired</td></tr>\n",
       "\t<tr><th scope=row>3</th><td>X14</td><td>A</td></tr>\n",
       "\t<tr><th scope=row>4</th><td>X15</td><td>V</td></tr>\n",
       "\t<tr><th scope=row>5</th><td>X18</td><td>V</td></tr>\n",
       "\t<tr><th scope=row>6</th><td>X19</td><td>Purine</td></tr>\n",
       "\t<tr><th scope=row>7</th><td>X21</td><td>H</td></tr>\n",
       "\t<tr><th scope=row>8</th><td>X2.71</td><td>Paired</td></tr>\n",
       "\t<tr><th scope=row>9</th><td>X28.42</td><td>Paired</td></tr>\n",
       "\t<tr><th scope=row>10</th><td>X30.40</td><td>Paired</td></tr>\n",
       "\t<tr><th scope=row>11</th><td>X32</td><td>Pyrimidine</td></tr>\n",
       "\t<tr><th scope=row>12</th><td>X33</td><td>Pyrimidine</td></tr>\n",
       "\t<tr><th scope=row>13</th><td>X37</td><td>V</td></tr>\n",
       "\t<tr><th scope=row>14</th><td>X38</td><td>H</td></tr>\n",
       "\t<tr><th scope=row>15</th><td>X46</td><td>V</td></tr>\n",
       "\t<tr><th scope=row>16</th><td>X48</td><td>H</td></tr>\n",
       "\t<tr><th scope=row>17</th><td>X49.65</td><td>Paired</td></tr>\n",
       "\t<tr><th scope=row>18</th><td>X53.61</td><td>GC</td></tr>\n",
       "\t<tr><th scope=row>19</th><td>X54</td><td>H</td></tr>\n",
       "\t<tr><th scope=row>20</th><td>X55</td><td>Pyrimidine</td></tr>\n",
       "\t<tr><th scope=row>21</th><td>X56</td><td>C</td></tr>\n",
       "\t<tr><th scope=row>22</th><td>X57</td><td>Purine</td></tr>\n",
       "\t<tr><th scope=row>23</th><td>X58</td><td>Purine</td></tr>\n",
       "\t<tr><th scope=row>24</th><td>X7.66</td><td>Paired</td></tr>\n",
       "\t<tr><th scope=row>25</th><td>X8</td><td>U</td></tr>\n",
       "\t<tr><th scope=row>26</th><td>X8.14</td><td>UA</td></tr>\n",
       "</tbody>\n",
       "</table>\n"
      ],
      "text/latex": [
       "\\begin{tabular}{r|ll}\n",
       "  & positions & identity\\\\\n",
       "\\hline\n",
       "\t1 & X10.25 & Paired\\\\\n",
       "\t2 & X11.24 & Paired\\\\\n",
       "\t3 & X14 & A\\\\\n",
       "\t4 & X15 & V\\\\\n",
       "\t5 & X18 & V\\\\\n",
       "\t6 & X19 & Purine\\\\\n",
       "\t7 & X21 & H\\\\\n",
       "\t8 & X2.71 & Paired\\\\\n",
       "\t9 & X28.42 & Paired\\\\\n",
       "\t10 & X30.40 & Paired\\\\\n",
       "\t11 & X32 & Pyrimidine\\\\\n",
       "\t12 & X33 & Pyrimidine\\\\\n",
       "\t13 & X37 & V\\\\\n",
       "\t14 & X38 & H\\\\\n",
       "\t15 & X46 & V\\\\\n",
       "\t16 & X48 & H\\\\\n",
       "\t17 & X49.65 & Paired\\\\\n",
       "\t18 & X53.61 & GC\\\\\n",
       "\t19 & X54 & H\\\\\n",
       "\t20 & X55 & Pyrimidine\\\\\n",
       "\t21 & X56 & C\\\\\n",
       "\t22 & X57 & Purine\\\\\n",
       "\t23 & X58 & Purine\\\\\n",
       "\t24 & X7.66 & Paired\\\\\n",
       "\t25 & X8 & U\\\\\n",
       "\t26 & X8.14 & UA\\\\\n",
       "\\end{tabular}\n"
      ],
      "text/plain": [
       "# A tibble: 26 × 2\n",
       "   positions identity\n",
       "       <chr>    <chr>\n",
       "1     X10.25   Paired\n",
       "2     X11.24   Paired\n",
       "3        X14        A\n",
       "4        X15        V\n",
       "5        X18        V\n",
       "6        X19   Purine\n",
       "7        X21        H\n",
       "8      X2.71   Paired\n",
       "9     X28.42   Paired\n",
       "10    X30.40   Paired\n",
       "# ... with 16 more rows"
      ]
     },
     "execution_count": 6,
     "metadata": {},
     "output_type": "execute_result"
    }
   ],
   "source": [
    "consensus"
   ]
  },
  {
   "cell_type": "markdown",
   "metadata": {},
   "source": [
    "For strategy 1A, some good candidates here: \n",
    "- R9 (95%)\n",
    "- Y11:R24 (99%)\n",
    "- R15:Y48 (95%)\n",
    "- Y16 (95%)\n",
    "- G18, U55, and G18:U55 (99%)\n",
    "- G19:C56 (99%)\n",
    "- A21 and A14/A21 (99%)\n",
    "- U33 (99%)\n",
    "- R37 (99%)\n",
    "- R46 (99%)\n",
    "- G53:C61 (99%)\n",
    "- U54:A58 (99%)\n",
    "- U55 (99%)\n",
    "- R57 (99%)\n",
    "- Y60 (95%)"
   ]
  },
  {
   "cell_type": "markdown",
   "metadata": {},
   "source": [
    "## R9 and R46"
   ]
  },
  {
   "cell_type": "markdown",
   "metadata": {
    "collapsed": true
   },
   "source": [
    "### What's known\n",
    "\n",
    "- Marck and Grosjean have a purine for iMet and no consensus for elongator, though they are mostly R or V. R9 is also conserved in initiators for archaea/bacteria.\n",
    "- 9-12-23 is a tertiary interaction. [Gautheret et al. (1995)](http://dx.doi.org/10.1006/jmbi.1995.0200) has these frequencies from the Sprinzl 1991 database: ![9-12-23 frequency matrix](figures/9-12-23-gautheret.png)"
   ]
  },
  {
   "cell_type": "markdown",
   "metadata": {},
   "source": [
    "- Position 9 is known to be modified with m$^1$G (along with 37) in a wide range of eukaryotes. \n",
    "\n",
    "### Our data\n",
    "\n",
    "- Here's our frequencies:"
   ]
  },
  {
   "cell_type": "code",
   "execution_count": 7,
   "metadata": {
    "collapsed": false
   },
   "outputs": [
    {
     "data": {
      "text/plain": [
       "     \n",
       "         -    A    C    G    U\n",
       "  A:A    0    5    2    6    0\n",
       "  A:C    0   21    0  199    0\n",
       "  A:G    0    2    1   10    0\n",
       "  A:U    0  434  148   57    4\n",
       "  C:A    0    6    0   55    1\n",
       "  C:C    0    1    0    2    0\n",
       "  C:G    0  200   46 5731   26\n",
       "  C:U    0    0    0    3    0\n",
       "  G:A    0    1    0    2    0\n",
       "  G:C    0 1363    7 3371    5\n",
       "  G:G    0    0    0    8    0\n",
       "  G:U    0   12    1   29    0\n",
       "  U:A    1 5501    7 1419   29\n",
       "  U:C    0    1    0    2    0\n",
       "  U:G    0   20    0   50    0\n",
       "  U:U    0    4    0    1    0"
      ]
     },
     "execution_count": 7,
     "metadata": {},
     "output_type": "execute_result"
    }
   ],
   "source": [
    "table(paste0(identities[identities$quality, ]$X12, ':', identities[identities$quality, ]$X23), identities[identities$quality, ]$X9)"
   ]
  },
  {
   "cell_type": "markdown",
   "metadata": {},
   "source": [
    "#### Which isotypes/clades/species fail the consensus checks?"
   ]
  },
  {
   "cell_type": "code",
   "execution_count": 20,
   "metadata": {
    "collapsed": false,
    "scrolled": true
   },
   "outputs": [
    {
     "data": {
      "text/html": [
       "<table>\n",
       "<thead><tr><th></th><th scope=col>clade</th><th scope=col>isotype</th><th scope=col>status</th></tr></thead>\n",
       "<tbody>\n",
       "\t<tr><th scope=row>1</th><td>Insecta</td><td>Glu</td><td>FALSE</td></tr>\n",
       "\t<tr><th scope=row>2</th><td>Insecta</td><td>His</td><td>FALSE</td></tr>\n",
       "\t<tr><th scope=row>3</th><td>Mammalia</td><td>His</td><td>FALSE</td></tr>\n",
       "\t<tr><th scope=row>4</th><td>Spermatophyta</td><td>Glu</td><td>FALSE</td></tr>\n",
       "\t<tr><th scope=row>5</th><td>Streptophyta</td><td>Glu</td><td>FALSE</td></tr>\n",
       "\t<tr><th scope=row>6</th><td>Vertebrata</td><td>His</td><td>FALSE</td></tr>\n",
       "</tbody>\n",
       "</table>\n"
      ],
      "text/latex": [
       "\\begin{tabular}{r|lll}\n",
       "  & clade & isotype & status\\\\\n",
       "\\hline\n",
       "\t1 & Insecta & Glu & FALSE\\\\\n",
       "\t2 & Insecta & His & FALSE\\\\\n",
       "\t3 & Mammalia & His & FALSE\\\\\n",
       "\t4 & Spermatophyta & Glu & FALSE\\\\\n",
       "\t5 & Streptophyta & Glu & FALSE\\\\\n",
       "\t6 & Vertebrata & His & FALSE\\\\\n",
       "\\end{tabular}\n"
      ],
      "text/plain": [
       "Source: local data frame [6 x 3]\n",
       "Groups: clade [5]\n",
       "\n",
       "          clade isotype status\n",
       "          <chr>   <chr>  <lgl>\n",
       "1       Insecta     Glu  FALSE\n",
       "2       Insecta     His  FALSE\n",
       "3      Mammalia     His  FALSE\n",
       "4 Spermatophyta     Glu  FALSE\n",
       "5  Streptophyta     Glu  FALSE\n",
       "6    Vertebrata     His  FALSE"
      ]
     },
     "execution_count": 20,
     "metadata": {},
     "output_type": "execute_result"
    },
    {
     "data": {
      "text/html": [
       "<table>\n",
       "<thead><tr><th></th><th scope=col>clade</th><th scope=col>species</th><th scope=col>isotype</th><th scope=col>status</th><th scope=col>freq</th><th scope=col>ntRNAs</th></tr></thead>\n",
       "<tbody>\n",
       "\t<tr><th scope=row>1</th><td>Fungi</td><td>botrCine_B05_10</td><td>Tyr</td><td>FALSE</td><td>0</td><td>5</td></tr>\n",
       "\t<tr><th scope=row>2</th><td>Fungi</td><td>crypGatt_WM276</td><td>Gly</td><td>FALSE</td><td>0</td><td>2</td></tr>\n",
       "\t<tr><th scope=row>3</th><td>Fungi</td><td>crypNeof_VAR_GRUBII_H99</td><td>Gly</td><td>FALSE</td><td>0</td><td>2</td></tr>\n",
       "\t<tr><th scope=row>4</th><td>Fungi</td><td>crypNeof_VAR_NEOFORMANS_B_3501</td><td>Gly</td><td>FALSE</td><td>0</td><td>2</td></tr>\n",
       "\t<tr><th scope=row>5</th><td>Fungi</td><td>crypNeof_VAR_NEOFORMANS_JEC21</td><td>Gly</td><td>FALSE</td><td>0</td><td>2</td></tr>\n",
       "\t<tr><th scope=row>6</th><td>Insecta</td><td>dm6</td><td>His</td><td>FALSE</td><td>0</td><td>5</td></tr>\n",
       "\t<tr><th scope=row>7</th><td>Insecta</td><td>dp4</td><td>His</td><td>FALSE</td><td>0</td><td>5</td></tr>\n",
       "\t<tr><th scope=row>8</th><td>Insecta</td><td>droYak2</td><td>His</td><td>FALSE</td><td>0</td><td>5</td></tr>\n",
       "\t<tr><th scope=row>9</th><td>Mammalia</td><td>ailMel1</td><td>His</td><td>FALSE</td><td>0</td><td>8</td></tr>\n",
       "\t<tr><th scope=row>10</th><td>Mammalia</td><td>balAcu1</td><td>His</td><td>FALSE</td><td>0</td><td>8</td></tr>\n",
       "\t<tr><th scope=row>11</th><td>Mammalia</td><td>bosTau8</td><td>His</td><td>FALSE</td><td>0</td><td>15</td></tr>\n",
       "\t<tr><th scope=row>12</th><td>Mammalia</td><td>calJac3</td><td>His</td><td>FALSE</td><td>0</td><td>6</td></tr>\n",
       "\t<tr><th scope=row>13</th><td>Mammalia</td><td>canFam3</td><td>His</td><td>FALSE</td><td>0</td><td>8</td></tr>\n",
       "\t<tr><th scope=row>14</th><td>Mammalia</td><td>cerSim1</td><td>His</td><td>FALSE</td><td>0</td><td>9</td></tr>\n",
       "\t<tr><th scope=row>15</th><td>Mammalia</td><td>equCab2</td><td>His</td><td>FALSE</td><td>0</td><td>7</td></tr>\n",
       "\t<tr><th scope=row>16</th><td>Mammalia</td><td>eriEur2</td><td>His</td><td>FALSE</td><td>0</td><td>5</td></tr>\n",
       "\t<tr><th scope=row>17</th><td>Mammalia</td><td>felCat5</td><td>His</td><td>FALSE</td><td>0</td><td>8</td></tr>\n",
       "\t<tr><th scope=row>18</th><td>Mammalia</td><td>gorGor3</td><td>His</td><td>FALSE</td><td>0</td><td>7</td></tr>\n",
       "\t<tr><th scope=row>19</th><td>Mammalia</td><td>hetGla2</td><td>His</td><td>FALSE</td><td>0</td><td>6</td></tr>\n",
       "\t<tr><th scope=row>20</th><td>Mammalia</td><td>hg19</td><td>His</td><td>FALSE</td><td>0</td><td>10</td></tr>\n",
       "\t<tr><th scope=row>21</th><td>Mammalia</td><td>macEug2</td><td>His</td><td>FALSE</td><td>0</td><td>6</td></tr>\n",
       "\t<tr><th scope=row>22</th><td>Mammalia</td><td>mm10</td><td>His</td><td>FALSE</td><td>0</td><td>10</td></tr>\n",
       "\t<tr><th scope=row>23</th><td>Mammalia</td><td>monDom5</td><td>His</td><td>FALSE</td><td>0</td><td>9</td></tr>\n",
       "\t<tr><th scope=row>24</th><td>Mammalia</td><td>musFur1</td><td>His</td><td>FALSE</td><td>0</td><td>6</td></tr>\n",
       "\t<tr><th scope=row>25</th><td>Mammalia</td><td>nomLeu3</td><td>His</td><td>FALSE</td><td>0</td><td>10</td></tr>\n",
       "\t<tr><th scope=row>26</th><td>Mammalia</td><td>ochPri3</td><td>His</td><td>FALSE</td><td>0</td><td>5</td></tr>\n",
       "\t<tr><th scope=row>27</th><td>Mammalia</td><td>ornAna1</td><td>His</td><td>FALSE</td><td>0</td><td>6</td></tr>\n",
       "\t<tr><th scope=row>28</th><td>Mammalia</td><td>oryCun2</td><td>His</td><td>FALSE</td><td>0</td><td>9</td></tr>\n",
       "\t<tr><th scope=row>29</th><td>Mammalia</td><td>otoGar3</td><td>His</td><td>FALSE</td><td>0</td><td>8</td></tr>\n",
       "\t<tr><th scope=row>30</th><td>Mammalia</td><td>oviAri3</td><td>His</td><td>FALSE</td><td>0</td><td>11</td></tr>\n",
       "\t<tr><th scope=row>31</th><td>Mammalia</td><td>papAnu2</td><td>His</td><td>FALSE</td><td>0</td><td>10</td></tr>\n",
       "\t<tr><th scope=row>32</th><td>Mammalia</td><td>ponAbe2</td><td>His</td><td>FALSE</td><td>0</td><td>9</td></tr>\n",
       "\t<tr><th scope=row>33</th><td>Mammalia</td><td>rheMac3</td><td>His</td><td>FALSE</td><td>0</td><td>12</td></tr>\n",
       "\t<tr><th scope=row>34</th><td>Mammalia</td><td>rn6</td><td>His</td><td>FALSE</td><td>0</td><td>10</td></tr>\n",
       "\t<tr><th scope=row>35</th><td>Mammalia</td><td>saiBol1</td><td>His</td><td>FALSE</td><td>0</td><td>7</td></tr>\n",
       "\t<tr><th scope=row>36</th><td>Mammalia</td><td>sorAra2</td><td>His</td><td>FALSE</td><td>0</td><td>7</td></tr>\n",
       "\t<tr><th scope=row>37</th><td>Mammalia</td><td>speTri2</td><td>His</td><td>FALSE</td><td>0</td><td>6</td></tr>\n",
       "\t<tr><th scope=row>38</th><td>Mammalia</td><td>susScr3</td><td>His</td><td>FALSE</td><td>0</td><td>9</td></tr>\n",
       "\t<tr><th scope=row>39</th><td>Mammalia</td><td>tarSyr2</td><td>His</td><td>FALSE</td><td>0</td><td>6</td></tr>\n",
       "\t<tr><th scope=row>40</th><td>Mammalia</td><td>triMan1</td><td>His</td><td>FALSE</td><td>0</td><td>9</td></tr>\n",
       "\t<tr><th scope=row>41</th><td>Mammalia</td><td>turTru2</td><td>His</td><td>FALSE</td><td>0</td><td>8</td></tr>\n",
       "\t<tr><th scope=row>42</th><td>Vertebrata</td><td>anoCar2</td><td>His</td><td>FALSE</td><td>0</td><td>3</td></tr>\n",
       "\t<tr><th scope=row>43</th><td>Vertebrata</td><td>danRer10</td><td>His</td><td>FALSE</td><td>2</td><td>185</td></tr>\n",
       "\t<tr><th scope=row>44</th><td>Vertebrata</td><td>fr3</td><td>His</td><td>FALSE</td><td>0</td><td>15</td></tr>\n",
       "\t<tr><th scope=row>45</th><td>Vertebrata</td><td>gadMor1</td><td>His</td><td>FALSE</td><td>0</td><td>12</td></tr>\n",
       "\t<tr><th scope=row>46</th><td>Vertebrata</td><td>galGal4</td><td>His</td><td>FALSE</td><td>0</td><td>5</td></tr>\n",
       "\t<tr><th scope=row>47</th><td>Vertebrata</td><td>gasAcu1</td><td>His</td><td>FALSE</td><td>0</td><td>40</td></tr>\n",
       "\t<tr><th scope=row>48</th><td>Vertebrata</td><td>geoFor1</td><td>His</td><td>FALSE</td><td>0</td><td>2</td></tr>\n",
       "\t<tr><th scope=row>49</th><td>Vertebrata</td><td>latCha1</td><td>His</td><td>FALSE</td><td>0</td><td>4</td></tr>\n",
       "\t<tr><th scope=row>50</th><td>Vertebrata</td><td>melGal1</td><td>His</td><td>FALSE</td><td>0</td><td>2</td></tr>\n",
       "\t<tr><th scope=row>51</th><td>Vertebrata</td><td>melUnd1</td><td>His</td><td>FALSE</td><td>0</td><td>2</td></tr>\n",
       "\t<tr><th scope=row>52</th><td>Vertebrata</td><td>oreNil2</td><td>His</td><td>FALSE</td><td>0</td><td>17</td></tr>\n",
       "\t<tr><th scope=row>53</th><td>Vertebrata</td><td>oryLat2</td><td>His</td><td>FALSE</td><td>1</td><td>19</td></tr>\n",
       "\t<tr><th scope=row>54</th><td>Vertebrata</td><td>taeGut2</td><td>His</td><td>FALSE</td><td>0</td><td>5</td></tr>\n",
       "\t<tr><th scope=row>55</th><td>Vertebrata</td><td>tetNig2</td><td>His</td><td>FALSE</td><td>0</td><td>9</td></tr>\n",
       "\t<tr><th scope=row>56</th><td>Vertebrata</td><td>xenTro3</td><td>His</td><td>FALSE</td><td>0</td><td>31</td></tr>\n",
       "</tbody>\n",
       "</table>\n"
      ],
      "text/latex": [
       "\\begin{tabular}{r|llllll}\n",
       "  & clade & species & isotype & status & freq & ntRNAs\\\\\n",
       "\\hline\n",
       "\t1 & Fungi & botrCine_B05_10 & Tyr & FALSE & 0 & 5\\\\\n",
       "\t2 & Fungi & crypGatt_WM276 & Gly & FALSE & 0 & 2\\\\\n",
       "\t3 & Fungi & crypNeof_VAR_GRUBII_H99 & Gly & FALSE & 0 & 2\\\\\n",
       "\t4 & Fungi & crypNeof_VAR_NEOFORMANS_B_3501 & Gly & FALSE & 0 & 2\\\\\n",
       "\t5 & Fungi & crypNeof_VAR_NEOFORMANS_JEC21 & Gly & FALSE & 0 & 2\\\\\n",
       "\t6 & Insecta & dm6 & His & FALSE & 0 & 5\\\\\n",
       "\t7 & Insecta & dp4 & His & FALSE & 0 & 5\\\\\n",
       "\t8 & Insecta & droYak2 & His & FALSE & 0 & 5\\\\\n",
       "\t9 & Mammalia & ailMel1 & His & FALSE & 0 & 8\\\\\n",
       "\t10 & Mammalia & balAcu1 & His & FALSE & 0 & 8\\\\\n",
       "\t11 & Mammalia & bosTau8 & His & FALSE & 0 & 15\\\\\n",
       "\t12 & Mammalia & calJac3 & His & FALSE & 0 & 6\\\\\n",
       "\t13 & Mammalia & canFam3 & His & FALSE & 0 & 8\\\\\n",
       "\t14 & Mammalia & cerSim1 & His & FALSE & 0 & 9\\\\\n",
       "\t15 & Mammalia & equCab2 & His & FALSE & 0 & 7\\\\\n",
       "\t16 & Mammalia & eriEur2 & His & FALSE & 0 & 5\\\\\n",
       "\t17 & Mammalia & felCat5 & His & FALSE & 0 & 8\\\\\n",
       "\t18 & Mammalia & gorGor3 & His & FALSE & 0 & 7\\\\\n",
       "\t19 & Mammalia & hetGla2 & His & FALSE & 0 & 6\\\\\n",
       "\t20 & Mammalia & hg19 & His & FALSE & 0 & 10\\\\\n",
       "\t21 & Mammalia & macEug2 & His & FALSE & 0 & 6\\\\\n",
       "\t22 & Mammalia & mm10 & His & FALSE & 0 & 10\\\\\n",
       "\t23 & Mammalia & monDom5 & His & FALSE & 0 & 9\\\\\n",
       "\t24 & Mammalia & musFur1 & His & FALSE & 0 & 6\\\\\n",
       "\t25 & Mammalia & nomLeu3 & His & FALSE & 0 & 10\\\\\n",
       "\t26 & Mammalia & ochPri3 & His & FALSE & 0 & 5\\\\\n",
       "\t27 & Mammalia & ornAna1 & His & FALSE & 0 & 6\\\\\n",
       "\t28 & Mammalia & oryCun2 & His & FALSE & 0 & 9\\\\\n",
       "\t29 & Mammalia & otoGar3 & His & FALSE & 0 & 8\\\\\n",
       "\t30 & Mammalia & oviAri3 & His & FALSE & 0 & 11\\\\\n",
       "\t31 & Mammalia & papAnu2 & His & FALSE & 0 & 10\\\\\n",
       "\t32 & Mammalia & ponAbe2 & His & FALSE & 0 & 9\\\\\n",
       "\t33 & Mammalia & rheMac3 & His & FALSE & 0 & 12\\\\\n",
       "\t34 & Mammalia & rn6 & His & FALSE & 0 & 10\\\\\n",
       "\t35 & Mammalia & saiBol1 & His & FALSE & 0 & 7\\\\\n",
       "\t36 & Mammalia & sorAra2 & His & FALSE & 0 & 7\\\\\n",
       "\t37 & Mammalia & speTri2 & His & FALSE & 0 & 6\\\\\n",
       "\t38 & Mammalia & susScr3 & His & FALSE & 0 & 9\\\\\n",
       "\t39 & Mammalia & tarSyr2 & His & FALSE & 0 & 6\\\\\n",
       "\t40 & Mammalia & triMan1 & His & FALSE & 0 & 9\\\\\n",
       "\t41 & Mammalia & turTru2 & His & FALSE & 0 & 8\\\\\n",
       "\t42 & Vertebrata & anoCar2 & His & FALSE & 0 & 3\\\\\n",
       "\t43 & Vertebrata & danRer10 & His & FALSE & 2 & 185\\\\\n",
       "\t44 & Vertebrata & fr3 & His & FALSE & 0 & 15\\\\\n",
       "\t45 & Vertebrata & gadMor1 & His & FALSE & 0 & 12\\\\\n",
       "\t46 & Vertebrata & galGal4 & His & FALSE & 0 & 5\\\\\n",
       "\t47 & Vertebrata & gasAcu1 & His & FALSE & 0 & 40\\\\\n",
       "\t48 & Vertebrata & geoFor1 & His & FALSE & 0 & 2\\\\\n",
       "\t49 & Vertebrata & latCha1 & His & FALSE & 0 & 4\\\\\n",
       "\t50 & Vertebrata & melGal1 & His & FALSE & 0 & 2\\\\\n",
       "\t51 & Vertebrata & melUnd1 & His & FALSE & 0 & 2\\\\\n",
       "\t52 & Vertebrata & oreNil2 & His & FALSE & 0 & 17\\\\\n",
       "\t53 & Vertebrata & oryLat2 & His & FALSE & 1 & 19\\\\\n",
       "\t54 & Vertebrata & taeGut2 & His & FALSE & 0 & 5\\\\\n",
       "\t55 & Vertebrata & tetNig2 & His & FALSE & 0 & 9\\\\\n",
       "\t56 & Vertebrata & xenTro3 & His & FALSE & 0 & 31\\\\\n",
       "\\end{tabular}\n"
      ],
      "text/plain": [
       "Source: local data frame [56 x 6]\n",
       "Groups: clade, species [56]\n",
       "\n",
       "      clade                        species isotype status  freq ntRNAs\n",
       "     <fctr>                         <fctr>  <fctr>  <lgl> <int>  <int>\n",
       "1     Fungi                botrCine_B05_10     Tyr  FALSE     0      5\n",
       "2     Fungi                 crypGatt_WM276     Gly  FALSE     0      2\n",
       "3     Fungi        crypNeof_VAR_GRUBII_H99     Gly  FALSE     0      2\n",
       "4     Fungi crypNeof_VAR_NEOFORMANS_B_3501     Gly  FALSE     0      2\n",
       "5     Fungi  crypNeof_VAR_NEOFORMANS_JEC21     Gly  FALSE     0      2\n",
       "6   Insecta                            dm6     His  FALSE     0      5\n",
       "7   Insecta                            dp4     His  FALSE     0      5\n",
       "8   Insecta                        droYak2     His  FALSE     0      5\n",
       "9  Mammalia                        ailMel1     His  FALSE     0      8\n",
       "10 Mammalia                        balAcu1     His  FALSE     0      8\n",
       "# ... with 46 more rows"
      ]
     },
     "execution_count": 20,
     "metadata": {},
     "output_type": "execute_result"
    }
   ],
   "source": [
    "## Clade/isotype check\n",
    "best_freqs %>% filter(positions == 'X9') %>% group_by(clade, isotype) %>%\n",
    "  summarize(status=sum((variable %in% c(\"G\", \"A\", \"Purine\"))*count)/sum(count) == 1) %>%\n",
    "  filter(!status)\n",
    "\n",
    "## Species check\n",
    "identities %>% select(clade, species, isotype, X9) %>% group_by(clade, species, isotype) %>%\n",
    "  summarize(status=sum(X9 %in% c(\"G\", \"A\", \"Purine\")/n()) >= 0.1,\n",
    "            freq=sum(X9 %in% c(\"G\", \"A\", \"Purine\")), ntRNAs=n()) %>%\n",
    "  filter(!status)"
   ]
  },
  {
   "cell_type": "markdown",
   "metadata": {},
   "source": [
    "### What's new\n",
    "\n",
    "The 9:12:23 ratios are a bit different. But it shows the same thing: there is some selectivity for what base triples are allowed, but enough tolerance that there are a few interactions that persist.\n",
    "\n",
    "The default hypothesis is that the 9-23 interaction has a conserved interaction type that explains the frequencies shown. We can marginalize as such because 12:23 is always a WC pair. This is not the case - although some (R:R) have a a strong trans WC-Hoogsteen pair of hydrogen bonds, others (C:R) do not. The hoogsteen side of C is just two stable carbons unlikely to hydrogen bond.\n",
    "\n",
    "Examining the frequencies _without_ histidine shows that the C9:U23 is conserved in His, and A9:U23 is conserved in Asp, for some clades. (See tertiary interactions figure)."
   ]
  },
  {
   "cell_type": "code",
   "execution_count": 9,
   "metadata": {
    "collapsed": false
   },
   "outputs": [
    {
     "data": {
      "text/plain": [
       "   \n",
       "       -    A    C    G    U\n",
       "  -    0    1    0    0    0\n",
       "  A    0 5513 1386  222  450\n",
       "  C    0    9    7   47  149\n",
       "  G    0 1482 3574 5799   90\n",
       "  U    0   30    5   26    4"
      ]
     },
     "execution_count": 9,
     "metadata": {},
     "output_type": "execute_result"
    }
   ],
   "source": [
    "table(identities[identities$quality, ]$X9, identities[identities$quality, ]$X23)"
   ]
  },
  {
   "cell_type": "markdown",
   "metadata": {},
   "source": [
    "So here's what we know.\n",
    "- 12:23 is almost always WC paired, so we can marginalize it.\n",
    "- 9 is typically a purine, though there are isotype- and clade-specific exceptions. For example, His and Asp deviate in 4 clades.\n",
    "    - In the His case, C and U can interact via the 2-carbonyl [amino pairing](http://www.columbuslabs.org/wp-content/uploads/2008/03/basepairs.pdf).\n",
    "- 9:23 is thought to be a _trans_ interaction with two hydrogen bonds.\n",
    "\n",
    "**Conclusion 1**: Position 9 was thought to be a purine. Instead, it varies by isotype and clade. Much of the variation from R9 can be explained by looking at 9:23 as an clade/isotype discriminating tertiary interaction.\n",
    "\n",
    "We can leave it at that. But we should also look into compensatory interactions if 9:23 is disrupted.\n",
    "\n",
    "## Covariation for core D stem 3d pairs\n",
    "\n",
    "#### tRNA covariation frequencies for 9:23, 22:46, and 10:45"
   ]
  },
  {
   "cell_type": "code",
   "execution_count": 10,
   "metadata": {
    "collapsed": false
   },
   "outputs": [],
   "source": [
    "df = table(paste0(identities[identities$quality, ]$X9, ':', identities[identities$quality, ]$X23),\n",
    "           paste0(identities[identities$quality, ]$X46, ':', identities[identities$quality, ]$X22, ' / ', identities[identities$quality, ]$X45, ':', identities[identities$quality, ]$X10),\n",
    "           identities[identities$quality, ]$isotype)"
   ]
  },
  {
   "cell_type": "code",
   "execution_count": 11,
   "metadata": {
    "collapsed": false,
    "scrolled": true
   },
   "outputs": [
    {
     "data": {
      "text/html": [
       "<table>\n",
       "<thead><tr><th></th><th scope=col>Var1</th><th scope=col>Var2</th><th scope=col>Var3</th><th scope=col>Freq</th></tr></thead>\n",
       "<tbody>\n",
       "\t<tr><th scope=row>1</th><td>A:A</td><td>G:G / G:G</td><td>Ala</td><td>1178</td></tr>\n",
       "\t<tr><th scope=row>2</th><td>G:C</td><td>G:G / G:G</td><td>Ala</td><td>84</td></tr>\n",
       "\t<tr><th scope=row>3</th><td>G:C</td><td>A:A / G:G</td><td>Arg</td><td>252</td></tr>\n",
       "\t<tr><th scope=row>4</th><td>G:G</td><td>A:A / G:G</td><td>Arg</td><td>821</td></tr>\n",
       "\t<tr><th scope=row>5</th><td>G:C</td><td>G:G / G:G</td><td>Arg</td><td>364</td></tr>\n",
       "\t<tr><th scope=row>6</th><td>G:G</td><td>A:A / G:G</td><td>Asn</td><td>59</td></tr>\n",
       "\t<tr><th scope=row>7</th><td>A:A</td><td>G:G / G:G</td><td>Asn</td><td>106</td></tr>\n",
       "\t<tr><th scope=row>8</th><td>G:C</td><td>G:G / G:G</td><td>Asn</td><td>388</td></tr>\n",
       "\t<tr><th scope=row>9</th><td>A:U</td><td>A:G / G:G</td><td>Asp</td><td>301</td></tr>\n",
       "\t<tr><th scope=row>10</th><td>A:A</td><td>G:G / G:G</td><td>Cys</td><td>777</td></tr>\n",
       "\t<tr><th scope=row>11</th><td>G:C</td><td>A:G / A:G</td><td>Gln</td><td>65</td></tr>\n",
       "\t<tr><th scope=row>12</th><td>G:G</td><td>A:G / A:G</td><td>Gln</td><td>57</td></tr>\n",
       "\t<tr><th scope=row>13</th><td>G:C</td><td>A:G / G:G</td><td>Gln</td><td>462</td></tr>\n",
       "\t<tr><th scope=row>14</th><td>A:C</td><td>A:U / A:G</td><td>Gln</td><td>108</td></tr>\n",
       "\t<tr><th scope=row>15</th><td>A:G</td><td>A:G / G:G</td><td>Glu</td><td>59</td></tr>\n",
       "\t<tr><th scope=row>16</th><td>A:C</td><td>A:U / G:G</td><td>Glu</td><td>59</td></tr>\n",
       "\t<tr><th scope=row>17</th><td>G:G</td><td>G:G / G:G</td><td>Glu</td><td>626</td></tr>\n",
       "\t<tr><th scope=row>18</th><td>G:A</td><td>A:G / G:G</td><td>Gly</td><td>222</td></tr>\n",
       "\t<tr><th scope=row>19</th><td>G:C</td><td>A:G / G:G</td><td>Gly</td><td>195</td></tr>\n",
       "\t<tr><th scope=row>20</th><td>G:C</td><td>A:U / G:G</td><td>Gly</td><td>78</td></tr>\n",
       "\t<tr><th scope=row>21</th><td>G:A</td><td>G:A / -:G</td><td>Gly</td><td>65</td></tr>\n",
       "\t<tr><th scope=row>22</th><td>G:A</td><td>G:G / G:G</td><td>Gly</td><td>233</td></tr>\n",
       "\t<tr><th scope=row>23</th><td>C:U</td><td>A:G / A:G</td><td>His</td><td>144</td></tr>\n",
       "\t<tr><th scope=row>24</th><td>A:A</td><td>G:G / G:G</td><td>Ile</td><td>435</td></tr>\n",
       "\t<tr><th scope=row>25</th><td>G:C</td><td>G:G / G:G</td><td>Ile</td><td>192</td></tr>\n",
       "\t<tr><th scope=row>26</th><td>G:C</td><td>G:G / G:G</td><td>iMet</td><td>196</td></tr>\n",
       "\t<tr><th scope=row>27</th><td>G:G</td><td>A:A / -:G</td><td>Leu</td><td>60</td></tr>\n",
       "\t<tr><th scope=row>28</th><td>G:G</td><td>G:A / -:G</td><td>Leu</td><td>1380</td></tr>\n",
       "\t<tr><th scope=row>29</th><td>A:A</td><td>G:G / G:G</td><td>Lys</td><td>992</td></tr>\n",
       "\t<tr><th scope=row>30</th><td>G:A</td><td>G:G / G:G</td><td>Lys</td><td>95</td></tr>\n",
       "\t<tr><th scope=row>31</th><td>A:A</td><td>G:G / U:G</td><td>Lys</td><td>77</td></tr>\n",
       "\t<tr><th scope=row>32</th><td>A:C</td><td>G:G / G:G</td><td>Met</td><td>273</td></tr>\n",
       "\t<tr><th scope=row>33</th><td>G:C</td><td>G:G / G:G</td><td>Met</td><td>116</td></tr>\n",
       "\t<tr><th scope=row>34</th><td>A:A</td><td>G:G / G:G</td><td>Phe</td><td>435</td></tr>\n",
       "\t<tr><th scope=row>35</th><td>G:G</td><td>G:U / G:G</td><td>Pro</td><td>598</td></tr>\n",
       "\t<tr><th scope=row>36</th><td>G:G</td><td>G:A / -:G</td><td>Ser</td><td>1017</td></tr>\n",
       "\t<tr><th scope=row>37</th><td>G:G</td><td>G:A / G:G</td><td>Ser</td><td>92</td></tr>\n",
       "\t<tr><th scope=row>38</th><td>G:G</td><td>G:A / -:U</td><td>Ser</td><td>145</td></tr>\n",
       "\t<tr><th scope=row>39</th><td>G:C</td><td>G:U / -:C</td><td>Ser</td><td>53</td></tr>\n",
       "\t<tr><th scope=row>40</th><td>G:A</td><td>A:A / G:G</td><td>Thr</td><td>537</td></tr>\n",
       "\t<tr><th scope=row>41</th><td>G:G</td><td>A:A / G:G</td><td>Thr</td><td>194</td></tr>\n",
       "\t<tr><th scope=row>42</th><td>A:A</td><td>G:G / G:G</td><td>Thr</td><td>485</td></tr>\n",
       "\t<tr><th scope=row>43</th><td>G:A</td><td>G:G / G:G</td><td>Thr</td><td>52</td></tr>\n",
       "\t<tr><th scope=row>44</th><td>G:C</td><td>G:G / G:G</td><td>Trp</td><td>371</td></tr>\n",
       "\t<tr><th scope=row>45</th><td>A:A</td><td>G:G / G:G</td><td>Tyr</td><td>440</td></tr>\n",
       "\t<tr><th scope=row>46</th><td>G:G</td><td>G:U / C:G</td><td>Val</td><td>60</td></tr>\n",
       "\t<tr><th scope=row>47</th><td>A:C</td><td>G:U / G:G</td><td>Val</td><td>663</td></tr>\n",
       "\t<tr><th scope=row>48</th><td>G:C</td><td>G:U / G:G</td><td>Val</td><td>296</td></tr>\n",
       "</tbody>\n",
       "</table>\n"
      ],
      "text/latex": [
       "\\begin{tabular}{r|llll}\n",
       "  & Var1 & Var2 & Var3 & Freq\\\\\n",
       "\\hline\n",
       "\t1 & A:A & G:G / G:G & Ala & 1178\\\\\n",
       "\t2 & G:C & G:G / G:G & Ala & 84\\\\\n",
       "\t3 & G:C & A:A / G:G & Arg & 252\\\\\n",
       "\t4 & G:G & A:A / G:G & Arg & 821\\\\\n",
       "\t5 & G:C & G:G / G:G & Arg & 364\\\\\n",
       "\t6 & G:G & A:A / G:G & Asn & 59\\\\\n",
       "\t7 & A:A & G:G / G:G & Asn & 106\\\\\n",
       "\t8 & G:C & G:G / G:G & Asn & 388\\\\\n",
       "\t9 & A:U & A:G / G:G & Asp & 301\\\\\n",
       "\t10 & A:A & G:G / G:G & Cys & 777\\\\\n",
       "\t11 & G:C & A:G / A:G & Gln & 65\\\\\n",
       "\t12 & G:G & A:G / A:G & Gln & 57\\\\\n",
       "\t13 & G:C & A:G / G:G & Gln & 462\\\\\n",
       "\t14 & A:C & A:U / A:G & Gln & 108\\\\\n",
       "\t15 & A:G & A:G / G:G & Glu & 59\\\\\n",
       "\t16 & A:C & A:U / G:G & Glu & 59\\\\\n",
       "\t17 & G:G & G:G / G:G & Glu & 626\\\\\n",
       "\t18 & G:A & A:G / G:G & Gly & 222\\\\\n",
       "\t19 & G:C & A:G / G:G & Gly & 195\\\\\n",
       "\t20 & G:C & A:U / G:G & Gly & 78\\\\\n",
       "\t21 & G:A & G:A / -:G & Gly & 65\\\\\n",
       "\t22 & G:A & G:G / G:G & Gly & 233\\\\\n",
       "\t23 & C:U & A:G / A:G & His & 144\\\\\n",
       "\t24 & A:A & G:G / G:G & Ile & 435\\\\\n",
       "\t25 & G:C & G:G / G:G & Ile & 192\\\\\n",
       "\t26 & G:C & G:G / G:G & iMet & 196\\\\\n",
       "\t27 & G:G & A:A / -:G & Leu & 60\\\\\n",
       "\t28 & G:G & G:A / -:G & Leu & 1380\\\\\n",
       "\t29 & A:A & G:G / G:G & Lys & 992\\\\\n",
       "\t30 & G:A & G:G / G:G & Lys & 95\\\\\n",
       "\t31 & A:A & G:G / U:G & Lys & 77\\\\\n",
       "\t32 & A:C & G:G / G:G & Met & 273\\\\\n",
       "\t33 & G:C & G:G / G:G & Met & 116\\\\\n",
       "\t34 & A:A & G:G / G:G & Phe & 435\\\\\n",
       "\t35 & G:G & G:U / G:G & Pro & 598\\\\\n",
       "\t36 & G:G & G:A / -:G & Ser & 1017\\\\\n",
       "\t37 & G:G & G:A / G:G & Ser & 92\\\\\n",
       "\t38 & G:G & G:A / -:U & Ser & 145\\\\\n",
       "\t39 & G:C & G:U / -:C & Ser & 53\\\\\n",
       "\t40 & G:A & A:A / G:G & Thr & 537\\\\\n",
       "\t41 & G:G & A:A / G:G & Thr & 194\\\\\n",
       "\t42 & A:A & G:G / G:G & Thr & 485\\\\\n",
       "\t43 & G:A & G:G / G:G & Thr & 52\\\\\n",
       "\t44 & G:C & G:G / G:G & Trp & 371\\\\\n",
       "\t45 & A:A & G:G / G:G & Tyr & 440\\\\\n",
       "\t46 & G:G & G:U / C:G & Val & 60\\\\\n",
       "\t47 & A:C & G:U / G:G & Val & 663\\\\\n",
       "\t48 & G:C & G:U / G:G & Val & 296\\\\\n",
       "\\end{tabular}\n"
      ],
      "text/plain": [
       "Source: local data frame [48 x 4]\n",
       "Groups: Var3 [21]\n",
       "\n",
       "     Var1      Var2   Var3  Freq\n",
       "   <fctr>    <fctr> <fctr> <int>\n",
       "1     A:A G:G / G:G    Ala  1178\n",
       "2     G:C G:G / G:G    Ala    84\n",
       "3     G:C A:A / G:G    Arg   252\n",
       "4     G:G A:A / G:G    Arg   821\n",
       "5     G:C G:G / G:G    Arg   364\n",
       "6     G:G A:A / G:G    Asn    59\n",
       "7     A:A G:G / G:G    Asn   106\n",
       "8     G:C G:G / G:G    Asn   388\n",
       "9     A:U A:G / G:G    Asp   301\n",
       "10    A:A G:G / G:G    Cys   777\n",
       "# ... with 38 more rows"
      ]
     },
     "execution_count": 11,
     "metadata": {},
     "output_type": "execute_result"
    }
   ],
   "source": [
    "as.data.frame(df) %>% group_by(Var3) %>% filter(Freq > 50)"
   ]
  },
  {
   "cell_type": "markdown",
   "metadata": {},
   "source": [
    "This is messy. For each isotype there may be a different tertiary interaction compensating for the lack of A:A. It seems that purine:purine interactions are unusually enriched among all three of these except in valine. \n",
    "\n",
    "![classical interaction structure](figures/3d-interactions-oliva.png)\n",
    "\n",
    "#### Average number of purine:purine interactions by isotype and clade"
   ]
  },
  {
   "cell_type": "code",
   "execution_count": 12,
   "metadata": {
    "collapsed": false
   },
   "outputs": [
    {
     "name": "stderr",
     "output_type": "stream",
     "text": [
      "Warning message:\n",
      ": Grouping rowwise data frame strips rowwise nature"
     ]
    },
    {
     "data": {
      "text/html": [
       "<table>\n",
       "<thead><tr><th></th><th scope=col>clade</th><th scope=col>Ala</th><th scope=col>Arg</th><th scope=col>Asn</th><th scope=col>Asp</th><th scope=col>Cys</th><th scope=col>Gln</th><th scope=col>Glu</th><th scope=col>Gly</th><th scope=col>His</th><th scope=col>Ile</th><th scope=col>iMet</th><th scope=col>Leu</th><th scope=col>Lys</th><th scope=col>Met</th><th scope=col>Phe</th><th scope=col>Pro</th><th scope=col>Ser</th><th scope=col>Thr</th><th scope=col>Trp</th><th scope=col>Tyr</th><th scope=col>Val</th></tr></thead>\n",
       "<tbody>\n",
       "\t<tr><th scope=row>1</th><td>Fungi</td><td>2.88</td><td>3.23</td><td>3.57</td><td>3.02</td><td>3.09</td><td>1.46</td><td>1.89</td><td>1.93</td><td>2.87</td><td>3.37</td><td>2.4</td><td>1.97</td><td>3.43</td><td>3.86</td><td>3.84</td><td>2.03</td><td>1.76</td><td>3.86</td><td>3.03</td><td>3.57</td><td>2.3</td></tr>\n",
       "\t<tr><th scope=row>2</th><td>Insecta</td><td>4</td><td>3.61</td><td>3</td><td>2</td><td>4</td><td>2</td><td>3.25</td><td>2.43</td><td>2.2</td><td>3.82</td><td>3</td><td>2</td><td>4</td><td>3</td><td>4</td><td>2</td><td>2</td><td>4</td><td>3</td><td>4</td><td>2</td></tr>\n",
       "\t<tr><th scope=row>3</th><td>Mammalia</td><td>3.97</td><td>3.54</td><td>2.96</td><td>2.12</td><td>3.97</td><td>1.98</td><td>2.96</td><td>2.62</td><td>2.05</td><td>3.58</td><td>3</td><td>2.01</td><td>3.93</td><td>2.99</td><td>3.92</td><td>2</td><td>2.05</td><td>3.99</td><td>2.99</td><td>3.99</td><td>2.07</td></tr>\n",
       "\t<tr><th scope=row>4</th><td>Nematoda</td><td>3.98</td><td>3.58</td><td>2.94</td><td>2</td><td>4</td><td>1.93</td><td>2.75</td><td>2.49</td><td>1.94</td><td>3.52</td><td>3</td><td>1.96</td><td>2.62</td><td>2.93</td><td>3.86</td><td>1.98</td><td>1.99</td><td>3.97</td><td>2.79</td><td>3.95</td><td>1.98</td></tr>\n",
       "\t<tr><th scope=row>5</th><td>Spermatophyta</td><td>4</td><td>3.48</td><td>3.79</td><td>2.04</td><td>3.85</td><td>2.67</td><td>3.55</td><td>3.04</td><td>3</td><td>4</td><td>3</td><td>2</td><td>3.03</td><td>3.17</td><td>4</td><td>2</td><td>1.14</td><td>3.68</td><td>3</td><td>4</td><td>2</td></tr>\n",
       "\t<tr><th scope=row>6</th><td>Streptophyta</td><td>3.98</td><td>3.47</td><td>3.73</td><td>1.98</td><td>3.59</td><td>2.4</td><td>3.41</td><td>3.26</td><td>3</td><td>3.99</td><td>3</td><td>2</td><td>3</td><td>2.95</td><td>3.96</td><td>2.05</td><td>1.3</td><td>3.74</td><td>3</td><td>3.62</td><td>2</td></tr>\n",
       "\t<tr><th scope=row>7</th><td>Vertebrata</td><td>3.95</td><td>3.48</td><td>2.92</td><td>2.01</td><td>3.92</td><td>1.98</td><td>2.96</td><td>2.35</td><td>1.97</td><td>3.62</td><td>2.99</td><td>1.99</td><td>3.96</td><td>2.95</td><td>3.75</td><td>1.99</td><td>2.04</td><td>3.96</td><td>2.99</td><td>3.93</td><td>1.97</td></tr>\n",
       "</tbody>\n",
       "</table>\n"
      ],
      "text/latex": [
       "\\begin{tabular}{r|llllllllllllllllllllll}\n",
       "  & clade & Ala & Arg & Asn & Asp & Cys & Gln & Glu & Gly & His & Ile & iMet & Leu & Lys & Met & Phe & Pro & Ser & Thr & Trp & Tyr & Val\\\\\n",
       "\\hline\n",
       "\t1 & Fungi & 2.88 & 3.23 & 3.57 & 3.02 & 3.09 & 1.46 & 1.89 & 1.93 & 2.87 & 3.37 & 2.4 & 1.97 & 3.43 & 3.86 & 3.84 & 2.03 & 1.76 & 3.86 & 3.03 & 3.57 & 2.3\\\\\n",
       "\t2 & Insecta & 4 & 3.61 & 3 & 2 & 4 & 2 & 3.25 & 2.43 & 2.2 & 3.82 & 3 & 2 & 4 & 3 & 4 & 2 & 2 & 4 & 3 & 4 & 2\\\\\n",
       "\t3 & Mammalia & 3.97 & 3.54 & 2.96 & 2.12 & 3.97 & 1.98 & 2.96 & 2.62 & 2.05 & 3.58 & 3 & 2.01 & 3.93 & 2.99 & 3.92 & 2 & 2.05 & 3.99 & 2.99 & 3.99 & 2.07\\\\\n",
       "\t4 & Nematoda & 3.98 & 3.58 & 2.94 & 2 & 4 & 1.93 & 2.75 & 2.49 & 1.94 & 3.52 & 3 & 1.96 & 2.62 & 2.93 & 3.86 & 1.98 & 1.99 & 3.97 & 2.79 & 3.95 & 1.98\\\\\n",
       "\t5 & Spermatophyta & 4 & 3.48 & 3.79 & 2.04 & 3.85 & 2.67 & 3.55 & 3.04 & 3 & 4 & 3 & 2 & 3.03 & 3.17 & 4 & 2 & 1.14 & 3.68 & 3 & 4 & 2\\\\\n",
       "\t6 & Streptophyta & 3.98 & 3.47 & 3.73 & 1.98 & 3.59 & 2.4 & 3.41 & 3.26 & 3 & 3.99 & 3 & 2 & 3 & 2.95 & 3.96 & 2.05 & 1.3 & 3.74 & 3 & 3.62 & 2\\\\\n",
       "\t7 & Vertebrata & 3.95 & 3.48 & 2.92 & 2.01 & 3.92 & 1.98 & 2.96 & 2.35 & 1.97 & 3.62 & 2.99 & 1.99 & 3.96 & 2.95 & 3.75 & 1.99 & 2.04 & 3.96 & 2.99 & 3.93 & 1.97\\\\\n",
       "\\end{tabular}\n"
      ],
      "text/plain": [
       "# A tibble: 7 × 22\n",
       "          clade   Ala   Arg   Asn   Asp   Cys   Gln   Glu   Gly   His   Ile\n",
       "*        <fctr> <dbl> <dbl> <dbl> <dbl> <dbl> <dbl> <dbl> <dbl> <dbl> <dbl>\n",
       "1         Fungi  2.88  3.23  3.57  3.02  3.09  1.46  1.89  1.93  2.87  3.37\n",
       "2       Insecta  4.00  3.61  3.00  2.00  4.00  2.00  3.25  2.43  2.20  3.82\n",
       "3      Mammalia  3.97  3.54  2.96  2.12  3.97  1.98  2.96  2.62  2.05  3.58\n",
       "4      Nematoda  3.98  3.58  2.94  2.00  4.00  1.93  2.75  2.49  1.94  3.52\n",
       "5 Spermatophyta  4.00  3.48  3.79  2.04  3.85  2.67  3.55  3.04  3.00  4.00\n",
       "6  Streptophyta  3.98  3.47  3.73  1.98  3.59  2.40  3.41  3.26  3.00  3.99\n",
       "7    Vertebrata  3.95  3.48  2.92  2.01  3.92  1.98  2.96  2.35  1.97  3.62\n",
       "# ... with 11 more variables: iMet <dbl>, Leu <dbl>, Lys <dbl>, Met <dbl>,\n",
       "#   Phe <dbl>, Pro <dbl>, Ser <dbl>, Thr <dbl>, Trp <dbl>, Tyr <dbl>, Val <dbl>"
      ]
     },
     "execution_count": 12,
     "metadata": {},
     "output_type": "execute_result"
    }
   ],
   "source": [
    "RRs = c(\"A:A\", \"A:G\", \"G:G\", \"G:A\")\n",
    "identities %>% select(isotype, clade, quality, X9.23, X22.46, X10.45, X26.44) %>% \n",
    "  filter(quality) %>%\n",
    "  rowwise() %>% \n",
    "  mutate(nRR=(X9.23 %in% RRs) + (X22.46 %in% RRs) + (X10.45 %in% RRs) + (X26.44 %in% RRs)) %>%\n",
    "  group_by(isotype, clade) %>% \n",
    "  summarize(nRR=signif(mean(nRR), 3)) %>%\n",
    "  spread(isotype, nRR)"
   ]
  },
  {
   "cell_type": "markdown",
   "metadata": {},
   "source": [
    "#### Average number of purine:purine interactions by position/isotype"
   ]
  },
  {
   "cell_type": "code",
   "execution_count": 13,
   "metadata": {
    "collapsed": false
   },
   "outputs": [
    {
     "data": {
      "text/html": [
       "<table>\n",
       "<thead><tr><th></th><th scope=col>position</th><th scope=col>Ala</th><th scope=col>Arg</th><th scope=col>Asn</th><th scope=col>Asp</th><th scope=col>Cys</th><th scope=col>Gln</th><th scope=col>Glu</th><th scope=col>Gly</th><th scope=col>His</th><th scope=col>Ile</th><th scope=col>iMet</th><th scope=col>Leu</th><th scope=col>Lys</th><th scope=col>Met</th><th scope=col>Phe</th><th scope=col>Pro</th><th scope=col>Ser</th><th scope=col>Thr</th><th scope=col>Trp</th><th scope=col>Tyr</th><th scope=col>Val</th></tr></thead>\n",
       "<tbody>\n",
       "\t<tr><th scope=row>1</th><td>X10.45</td><td>1</td><td>1</td><td>1</td><td>1</td><td>1</td><td>1</td><td>1</td><td>0.9</td><td>1</td><td>1</td><td>0.8</td><td>0</td><td>0.9</td><td>1</td><td>0.9</td><td>1</td><td>0.1</td><td>1</td><td>1</td><td>1</td><td>0.9</td></tr>\n",
       "\t<tr><th scope=row>2</th><td>X22.46</td><td>0.9</td><td>1</td><td>1</td><td>1</td><td>1</td><td>0.8</td><td>0.9</td><td>0.9</td><td>0.9</td><td>1</td><td>1</td><td>1</td><td>1</td><td>1</td><td>1</td><td>0</td><td>0.9</td><td>1</td><td>1</td><td>1</td><td>0</td></tr>\n",
       "\t<tr><th scope=row>3</th><td>X26.44</td><td>1</td><td>0.9</td><td>0.9</td><td>0.1</td><td>0.9</td><td>0</td><td>0.2</td><td>0.1</td><td>0.2</td><td>0.9</td><td>1</td><td>0</td><td>0.9</td><td>1</td><td>1</td><td>0</td><td>0</td><td>1</td><td>0.9</td><td>1</td><td>1</td></tr>\n",
       "\t<tr><th scope=row>4</th><td>X9.23</td><td>0.9</td><td>0.6</td><td>0.3</td><td>0.2</td><td>1</td><td>0.1</td><td>0.8</td><td>0.6</td><td>0.2</td><td>0.7</td><td>0</td><td>1</td><td>1</td><td>0.1</td><td>1</td><td>1</td><td>0.9</td><td>1</td><td>0.1</td><td>1</td><td>0.1</td></tr>\n",
       "</tbody>\n",
       "</table>\n"
      ],
      "text/latex": [
       "\\begin{tabular}{r|llllllllllllllllllllll}\n",
       "  & position & Ala & Arg & Asn & Asp & Cys & Gln & Glu & Gly & His & Ile & iMet & Leu & Lys & Met & Phe & Pro & Ser & Thr & Trp & Tyr & Val\\\\\n",
       "\\hline\n",
       "\t1 & X10.45 & 1 & 1 & 1 & 1 & 1 & 1 & 1 & 0.9 & 1 & 1 & 0.8 & 0 & 0.9 & 1 & 0.9 & 1 & 0.1 & 1 & 1 & 1 & 0.9\\\\\n",
       "\t2 & X22.46 & 0.9 & 1 & 1 & 1 & 1 & 0.8 & 0.9 & 0.9 & 0.9 & 1 & 1 & 1 & 1 & 1 & 1 & 0 & 0.9 & 1 & 1 & 1 & 0\\\\\n",
       "\t3 & X26.44 & 1 & 0.9 & 0.9 & 0.1 & 0.9 & 0 & 0.2 & 0.1 & 0.2 & 0.9 & 1 & 0 & 0.9 & 1 & 1 & 0 & 0 & 1 & 0.9 & 1 & 1\\\\\n",
       "\t4 & X9.23 & 0.9 & 0.6 & 0.3 & 0.2 & 1 & 0.1 & 0.8 & 0.6 & 0.2 & 0.7 & 0 & 1 & 1 & 0.1 & 1 & 1 & 0.9 & 1 & 0.1 & 1 & 0.1\\\\\n",
       "\\end{tabular}\n"
      ],
      "text/plain": [
       "# A tibble: 4 × 22\n",
       "  position   Ala   Arg   Asn   Asp   Cys   Gln   Glu   Gly   His   Ile  iMet\n",
       "*    <chr> <dbl> <dbl> <dbl> <dbl> <dbl> <dbl> <dbl> <dbl> <dbl> <dbl> <dbl>\n",
       "1   X10.45   1.0   1.0   1.0   1.0   1.0   1.0   1.0   0.9   1.0   1.0   0.8\n",
       "2   X22.46   0.9   1.0   1.0   1.0   1.0   0.8   0.9   0.9   0.9   1.0   1.0\n",
       "3   X26.44   1.0   0.9   0.9   0.1   0.9   0.0   0.2   0.1   0.2   0.9   1.0\n",
       "4    X9.23   0.9   0.6   0.3   0.2   1.0   0.1   0.8   0.6   0.2   0.7   0.0\n",
       "# ... with 10 more variables: Leu <dbl>, Lys <dbl>, Met <dbl>, Phe <dbl>,\n",
       "#   Pro <dbl>, Ser <dbl>, Thr <dbl>, Trp <dbl>, Tyr <dbl>, Val <dbl>"
      ]
     },
     "execution_count": 13,
     "metadata": {},
     "output_type": "execute_result"
    }
   ],
   "source": [
    "RRs = c(\"A:A\", \"A:G\", \"G:G\", \"G:A\")\n",
    "identities %>% select(isotype, quality, X9.23, X22.46, X10.45, X26.44) %>% \n",
    "  filter(quality) %>%\n",
    "  rowwise() %>% \n",
    "  mutate(X9.23=X9.23 %in% RRs, X22.46=X22.46 %in% RRs, X10.45=X10.45 %in% RRs, X26.44=X26.44 %in% RRs) %>%\n",
    "  gather(position, RR, X9.23, X22.46, X10.45, X26.44, -isotype, -quality) %>%\n",
    "  group_by(isotype, position) %>%\n",
    "  summarize(RR=round(mean(RR), digits=1)) %>%\n",
    "  spread(isotype, RR)"
   ]
  },
  {
   "cell_type": "markdown",
   "metadata": {},
   "source": [
    "#### Average number of interactions containing a purine by position/isotype"
   ]
  },
  {
   "cell_type": "code",
   "execution_count": 14,
   "metadata": {
    "collapsed": false
   },
   "outputs": [
    {
     "data": {
      "text/html": [
       "<table>\n",
       "<thead><tr><th></th><th scope=col>position</th><th scope=col>Ala</th><th scope=col>Arg</th><th scope=col>Asn</th><th scope=col>Asp</th><th scope=col>Cys</th><th scope=col>Gln</th><th scope=col>Glu</th><th scope=col>Gly</th><th scope=col>His</th><th scope=col>Ile</th><th scope=col>iMet</th><th scope=col>Leu</th><th scope=col>Lys</th><th scope=col>Met</th><th scope=col>Phe</th><th scope=col>Pro</th><th scope=col>Ser</th><th scope=col>Thr</th><th scope=col>Trp</th><th scope=col>Tyr</th><th scope=col>Val</th></tr></thead>\n",
       "<tbody>\n",
       "\t<tr><th scope=row>1</th><td>X10.45</td><td>1</td><td>1</td><td>1</td><td>1</td><td>1</td><td>1</td><td>1</td><td>0.9</td><td>1</td><td>1</td><td>1</td><td>0</td><td>1</td><td>1</td><td>1</td><td>1</td><td>0.1</td><td>1</td><td>1</td><td>1</td><td>1</td></tr>\n",
       "\t<tr><th scope=row>2</th><td>X22.46</td><td>1</td><td>1</td><td>1</td><td>1</td><td>1</td><td>1</td><td>1</td><td>1</td><td>1</td><td>1</td><td>1</td><td>1</td><td>1</td><td>1</td><td>1</td><td>1</td><td>1</td><td>1</td><td>1</td><td>1</td><td>1</td></tr>\n",
       "\t<tr><th scope=row>3</th><td>X26.44</td><td>1</td><td>1</td><td>1</td><td>0.8</td><td>1</td><td>0.1</td><td>0.4</td><td>1</td><td>0.4</td><td>1</td><td>1</td><td>1</td><td>1</td><td>1</td><td>1</td><td>1</td><td>1</td><td>1</td><td>1</td><td>1</td><td>1</td></tr>\n",
       "\t<tr><th scope=row>4</th><td>X9.23</td><td>1</td><td>1</td><td>1</td><td>1</td><td>1</td><td>1</td><td>1</td><td>1</td><td>0.5</td><td>1</td><td>1</td><td>1</td><td>1</td><td>1</td><td>1</td><td>1</td><td>1</td><td>1</td><td>1</td><td>1</td><td>1</td></tr>\n",
       "</tbody>\n",
       "</table>\n"
      ],
      "text/latex": [
       "\\begin{tabular}{r|llllllllllllllllllllll}\n",
       "  & position & Ala & Arg & Asn & Asp & Cys & Gln & Glu & Gly & His & Ile & iMet & Leu & Lys & Met & Phe & Pro & Ser & Thr & Trp & Tyr & Val\\\\\n",
       "\\hline\n",
       "\t1 & X10.45 & 1 & 1 & 1 & 1 & 1 & 1 & 1 & 0.9 & 1 & 1 & 1 & 0 & 1 & 1 & 1 & 1 & 0.1 & 1 & 1 & 1 & 1\\\\\n",
       "\t2 & X22.46 & 1 & 1 & 1 & 1 & 1 & 1 & 1 & 1 & 1 & 1 & 1 & 1 & 1 & 1 & 1 & 1 & 1 & 1 & 1 & 1 & 1\\\\\n",
       "\t3 & X26.44 & 1 & 1 & 1 & 0.8 & 1 & 0.1 & 0.4 & 1 & 0.4 & 1 & 1 & 1 & 1 & 1 & 1 & 1 & 1 & 1 & 1 & 1 & 1\\\\\n",
       "\t4 & X9.23 & 1 & 1 & 1 & 1 & 1 & 1 & 1 & 1 & 0.5 & 1 & 1 & 1 & 1 & 1 & 1 & 1 & 1 & 1 & 1 & 1 & 1\\\\\n",
       "\\end{tabular}\n"
      ],
      "text/plain": [
       "# A tibble: 4 × 22\n",
       "  position   Ala   Arg   Asn   Asp   Cys   Gln   Glu   Gly   His   Ile  iMet\n",
       "*    <chr> <dbl> <dbl> <dbl> <dbl> <dbl> <dbl> <dbl> <dbl> <dbl> <dbl> <dbl>\n",
       "1   X10.45     1     1     1   1.0     1   1.0   1.0   0.9   1.0     1     1\n",
       "2   X22.46     1     1     1   1.0     1   1.0   1.0   1.0   1.0     1     1\n",
       "3   X26.44     1     1     1   0.8     1   0.1   0.4   1.0   0.4     1     1\n",
       "4    X9.23     1     1     1   1.0     1   1.0   1.0   1.0   0.5     1     1\n",
       "# ... with 10 more variables: Leu <dbl>, Lys <dbl>, Met <dbl>, Phe <dbl>,\n",
       "#   Pro <dbl>, Ser <dbl>, Thr <dbl>, Trp <dbl>, Tyr <dbl>, Val <dbl>"
      ]
     },
     "execution_count": 14,
     "metadata": {},
     "output_type": "execute_result"
    }
   ],
   "source": [
    "RRs = c(\"A:A\", \"A:G\", \"G:G\", \"G:A\", \"G:C\", \"C:G\", \"A:C\", \"C:A\", \"U:G\", \"G:U\", \"A:U\", \"U:A\")\n",
    "identities %>% select(isotype, quality, X9.23, X22.46, X10.45, X26.44) %>% \n",
    "  filter(quality) %>%\n",
    "  rowwise() %>% \n",
    "  mutate(X9.23=X9.23 %in% RRs, X22.46=X22.46 %in% RRs, X10.45=X10.45 %in% RRs, X26.44=X26.44 %in% RRs) %>%\n",
    "  gather(position, RR, X9.23, X22.46, X10.45, X26.44, -isotype, -quality) %>%\n",
    "  group_by(isotype, position) %>%\n",
    "  summarize(RR=round(mean(RR), digits=1)) %>%\n",
    "  spread(isotype, RR)"
   ]
  },
  {
   "cell_type": "markdown",
   "metadata": {},
   "source": [
    "#### Are non-purine-containing interactions enriched for some other type of interaction?"
   ]
  },
  {
   "cell_type": "code",
   "execution_count": 15,
   "metadata": {
    "collapsed": false
   },
   "outputs": [
    {
     "name": "stderr",
     "output_type": "stream",
     "text": [
      "Warning message:\n",
      ": attributes are not identical across measure variables; they will be dropped"
     ]
    },
    {
     "data": {
      "text/html": [
       "<table>\n",
       "<thead><tr><th></th><th scope=col>position</th><th scope=col>isotype</th><th scope=col>C:-</th><th scope=col>C:U</th><th scope=col>U:-</th><th scope=col>U:C</th><th scope=col>U:U</th></tr></thead>\n",
       "<tbody>\n",
       "\t<tr><th scope=row>1</th><td>X10.45</td><td>Leu</td><td>44</td><td>0</td><td>0</td><td>0</td><td>0</td></tr>\n",
       "\t<tr><th scope=row>2</th><td>X10.45</td><td>Ser</td><td>86</td><td>0</td><td>149</td><td>0</td><td>0</td></tr>\n",
       "\t<tr><th scope=row>3</th><td>X26.44</td><td>Asp</td><td>0</td><td>0</td><td>0</td><td>0</td><td>47</td></tr>\n",
       "\t<tr><th scope=row>4</th><td>X26.44</td><td>Gln</td><td>0</td><td>28</td><td>0</td><td>585</td><td>99</td></tr>\n",
       "\t<tr><th scope=row>5</th><td>X26.44</td><td>Glu</td><td>0</td><td>0</td><td>0</td><td>515</td><td>94</td></tr>\n",
       "\t<tr><th scope=row>6</th><td>X26.44</td><td>Gly</td><td>0</td><td>0</td><td>0</td><td>0</td><td>25</td></tr>\n",
       "\t<tr><th scope=row>7</th><td>X26.44</td><td>His</td><td>0</td><td>0</td><td>0</td><td>174</td><td>0</td></tr>\n",
       "\t<tr><th scope=row>8</th><td>X26.44</td><td>Ile</td><td>0</td><td>0</td><td>0</td><td>36</td><td>0</td></tr>\n",
       "\t<tr><th scope=row>9</th><td>X9.23</td><td>His</td><td>0</td><td>149</td><td>0</td><td>0</td><td>0</td></tr>\n",
       "</tbody>\n",
       "</table>\n"
      ],
      "text/latex": [
       "\\begin{tabular}{r|lllllll}\n",
       "  & position & isotype & C:- & C:U & U:- & U:C & U:U\\\\\n",
       "\\hline\n",
       "\t1 & X10.45 & Leu & 44 & 0 & 0 & 0 & 0\\\\\n",
       "\t2 & X10.45 & Ser & 86 & 0 & 149 & 0 & 0\\\\\n",
       "\t3 & X26.44 & Asp & 0 & 0 & 0 & 0 & 47\\\\\n",
       "\t4 & X26.44 & Gln & 0 & 28 & 0 & 585 & 99\\\\\n",
       "\t5 & X26.44 & Glu & 0 & 0 & 0 & 515 & 94\\\\\n",
       "\t6 & X26.44 & Gly & 0 & 0 & 0 & 0 & 25\\\\\n",
       "\t7 & X26.44 & His & 0 & 0 & 0 & 174 & 0\\\\\n",
       "\t8 & X26.44 & Ile & 0 & 0 & 0 & 36 & 0\\\\\n",
       "\t9 & X9.23 & His & 0 & 149 & 0 & 0 & 0\\\\\n",
       "\\end{tabular}\n"
      ],
      "text/plain": [
       "Source: local data frame [9 x 7]\n",
       "Groups: position, isotype [9]\n",
       "\n",
       "  position isotype `C:-` `C:U` `U:-` `U:C` `U:U`\n",
       "*    <chr>  <fctr> <dbl> <dbl> <dbl> <dbl> <dbl>\n",
       "1   X10.45     Leu    44     0     0     0     0\n",
       "2   X10.45     Ser    86     0   149     0     0\n",
       "3   X26.44     Asp     0     0     0     0    47\n",
       "4   X26.44     Gln     0    28     0   585    99\n",
       "5   X26.44     Glu     0     0     0   515    94\n",
       "6   X26.44     Gly     0     0     0     0    25\n",
       "7   X26.44     His     0     0     0   174     0\n",
       "8   X26.44     Ile     0     0     0    36     0\n",
       "9    X9.23     His     0   149     0     0     0"
      ]
     },
     "execution_count": 15,
     "metadata": {},
     "output_type": "execute_result"
    }
   ],
   "source": [
    "identities %>% select(isotype, quality, X9.23, X22.46, X10.45, X26.44) %>% \n",
    "  filter(quality) %>%\n",
    "  gather(position, identity, X9.23, X22.46, X10.45, X26.44, -isotype, -quality) %>%\n",
    "  filter(!(identity %in% c(RRs, \"G:-\", \"A:-\"))) %>%\n",
    "  group_by(position, isotype, identity) %>%\n",
    "  summarize(count=n()) %>%\n",
    "  filter(count > 20) %>%\n",
    "  spread(identity, count, fill=0)"
   ]
  },
  {
   "cell_type": "markdown",
   "metadata": {},
   "source": [
    "They are not - but they are isotype-specific."
   ]
  },
  {
   "cell_type": "markdown",
   "metadata": {},
   "source": [
    "**Conclusion**: Tertiary interactions within this \"tRNA core region\" along the D stem are enriched in purines and purine-purine interactions, though the extent varies by isotype and position. Exceptions are isotype-specific."
   ]
  },
  {
   "cell_type": "markdown",
   "metadata": {},
   "source": [
    "## G18, U55, and G18:U55"
   ]
  },
  {
   "cell_type": "markdown",
   "metadata": {},
   "source": [
    "#### Number of tRNAs without G18:U55"
   ]
  },
  {
   "cell_type": "code",
   "execution_count": 16,
   "metadata": {
    "collapsed": false
   },
   "outputs": [
    {
     "data": {
      "text/html": [
       "288"
      ],
      "text/latex": [
       "288"
      ],
      "text/markdown": [
       "288"
      ],
      "text/plain": [
       "[1] 288"
      ]
     },
     "execution_count": 16,
     "metadata": {},
     "output_type": "execute_result"
    }
   ],
   "source": [
    "identities %>% select(clade, species, quality, X18, X55, X18.55) %>%\n",
    "  filter(quality & X18.55 != \"G:U\") %>% nrow()"
   ]
  },
  {
   "cell_type": "markdown",
   "metadata": {},
   "source": [
    "#### Which isotypes/clades/species fail the consensus checks?"
   ]
  },
  {
   "cell_type": "code",
   "execution_count": 21,
   "metadata": {
    "collapsed": false
   },
   "outputs": [
    {
     "data": {
      "text/html": [
       "<table>\n",
       "<thead><tr><th></th><th scope=col>clade</th><th scope=col>isotype</th><th scope=col>status</th></tr></thead>\n",
       "<tbody>\n",
       "\t<tr><th scope=row>1</th><td>Nematoda</td><td>Asn</td><td>FALSE</td></tr>\n",
       "\t<tr><th scope=row>2</th><td>Vertebrata</td><td>Gly</td><td>FALSE</td></tr>\n",
       "</tbody>\n",
       "</table>\n"
      ],
      "text/latex": [
       "\\begin{tabular}{r|lll}\n",
       "  & clade & isotype & status\\\\\n",
       "\\hline\n",
       "\t1 & Nematoda & Asn & FALSE\\\\\n",
       "\t2 & Vertebrata & Gly & FALSE\\\\\n",
       "\\end{tabular}\n"
      ],
      "text/plain": [
       "Source: local data frame [2 x 3]\n",
       "Groups: clade [2]\n",
       "\n",
       "       clade isotype status\n",
       "       <chr>   <chr>  <lgl>\n",
       "1   Nematoda     Asn  FALSE\n",
       "2 Vertebrata     Gly  FALSE"
      ]
     },
     "execution_count": 21,
     "metadata": {},
     "output_type": "execute_result"
    },
    {
     "data": {
      "text/html": [
       "<table>\n",
       "<thead><tr><th></th><th scope=col>clade</th><th scope=col>species</th><th scope=col>isotype</th><th scope=col>status</th><th scope=col>freq</th><th scope=col>tRNAs</th></tr></thead>\n",
       "<tbody>\n",
       "\t<tr><th scope=row>1</th><td>Fungi</td><td>flamVelu_KACC42780</td><td>Pro</td><td>FALSE</td><td>0</td><td>1</td></tr>\n",
       "\t<tr><th scope=row>2</th><td>Fungi</td><td>valsMali_03_8</td><td>Pro</td><td>FALSE</td><td>0</td><td>1</td></tr>\n",
       "</tbody>\n",
       "</table>\n"
      ],
      "text/latex": [
       "\\begin{tabular}{r|llllll}\n",
       "  & clade & species & isotype & status & freq & tRNAs\\\\\n",
       "\\hline\n",
       "\t1 & Fungi & flamVelu_KACC42780 & Pro & FALSE & 0 & 1\\\\\n",
       "\t2 & Fungi & valsMali_03_8 & Pro & FALSE & 0 & 1\\\\\n",
       "\\end{tabular}\n"
      ],
      "text/plain": [
       "Source: local data frame [2 x 6]\n",
       "Groups: clade, species [2]\n",
       "\n",
       "   clade            species isotype status  freq tRNAs\n",
       "  <fctr>             <fctr>  <fctr>  <lgl> <int> <int>\n",
       "1  Fungi flamVelu_KACC42780     Pro  FALSE     0     1\n",
       "2  Fungi      valsMali_03_8     Pro  FALSE     0     1"
      ]
     },
     "execution_count": 21,
     "metadata": {},
     "output_type": "execute_result"
    }
   ],
   "source": [
    "## Clade/isotype check\n",
    "best_freqs %>% filter(positions == 'X18.55') %>% group_by(clade, isotype) %>%\n",
    "  summarize(status=sum((variable == \"GU\")*count)/sum(count) == 1) %>%\n",
    "  filter(!status)\n",
    "\n",
    "## Species check\n",
    "identities %>% select(clade, species, isotype, quality, X18.55) %>%\n",
    "  filter(quality) %>%\n",
    "  group_by(clade, species, isotype) %>%\n",
    "  summarize(status=sum((X18.55 == \"G:U\")/n()) >= 0.1,\n",
    "            freq=sum(X18.55 == \"G:U\"), tRNAs=n()) %>%\n",
    "  filter(!status)"
   ]
  },
  {
   "cell_type": "markdown",
   "metadata": {},
   "source": [
    "The isotype/clade check fails for nematode Asn at 88% and vertebrate Gly at 84%. The two fungi listed here are rare exceptions to the rule. \n",
    "\n",
    "Earlier, we had a vertebrate check fail because of the methods used to build the quality set. I've relaxed the species check constraints to 10% to better identify IDEs even when there are massively amplified tRNAs. Curiously, in danRer10, gasAcu1, and oryLat2, the majority of the non-G:U tRNAs contain a G:C. It's pretty likely that, given the high copy number, many of these tRNAs are actually pseudogenes. In addition, there are a decent amount of G18:U55 tRNAs to actually drive translation."
   ]
  }
 ],
 "metadata": {
  "anaconda-cloud": {},
  "kernelspec": {
   "display_name": "R",
   "language": "R",
   "name": "ir"
  },
  "language_info": {
   "codemirror_mode": "r",
   "file_extension": ".r",
   "mimetype": "text/x-r-source",
   "name": "R",
   "pygments_lexer": "r",
   "version": "3.2.2"
  }
 },
 "nbformat": 4,
 "nbformat_minor": 0
}
