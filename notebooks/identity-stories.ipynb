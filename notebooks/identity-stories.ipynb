{
 "cells": [
  {
   "cell_type": "code",
   "execution_count": 1,
   "metadata": {
    "collapsed": true
   },
   "outputs": [],
   "source": [
    "library(ggplot2)\n",
    "library(reshape2)\n",
    "library(RColorBrewer)\n",
    "suppressMessages(library(dplyr))\n",
    "library(stringr)\n",
    "suppressMessages(library(tidyr))\n",
    "theme_set(theme_bw())\n",
    "library(scales)\n",
    "options(repr.plot.width=7, repr.plot.height=4)\n",
    "isotypes = c('Ala', 'Arg', 'Asn', 'Asp', 'Cys', 'Gln', 'Glu', 'Gly', 'His', 'Ile', 'iMet', 'Leu', 'Lys', 'Met', 'Phe', 'Pro', 'Ser', 'Thr', 'Trp', 'Tyr', 'Val')\n",
    "\n",
    "paired_positions = c('X1.72'='1:72', 'X2.71'='2:71', 'X3.70'='3:70', 'X4.69'='4:69', 'X5.68'='5:68', 'X6.67'='6:67', 'X7.66'='7:66', 'X8.14'='*8:14', 'X9.23'='*9:23', 'X10.25'='10:25', 'X10.45'='*10:45', 'X11.24'='11:24', 'X12.23'='12:23', 'X13.22'='13:22', 'X15.48'='*15:48','X18.55'='*18:55', 'X19.56'='*19:56', 'X22.46'='*22:46', 'X26.44'='*26:44', 'X27.43'='27:43', 'X28.42'='28:42', 'X29.41'='29:41', 'X30.40'='30:40', 'X31.39'='31:39', 'X49.65'='49:65', 'X50.64'='50:64', 'X51.63'='51:63', 'X52.62'='52:62', 'X53.61'='53:61', 'X54.58'='*54:58')\n",
    "paired_identities = c('GC', 'AU', 'UA', 'CG', 'GU', 'UG', 'PurinePyrimidine', 'PyrimidinePurine', 'StrongPair', 'WeakPair', 'AminoKeto', 'KetoAmino', 'Wobble', 'Paired', 'Bulge', 'Mismatched', 'Absent')\n",
    "\n",
    "single_positions = c('X8'='8', 'X9'='9', 'X14'='14', 'X15'='15', 'X16'='16', 'X17'='17', 'X17a'='17a', 'X17b'='17b', 'X18'='18', 'X19'='19', 'X20'='20', 'X20a'='20a', 'X20b'='20b', 'X21'='21', 'X26'='26', 'X32'='32', 'X33'='33', 'X34'='34', 'X35'='35', 'X36'='36', 'X37'='37', 'X38'='38', 'X44'='44', 'X45'='45', 'X46'='46', 'X47'='47', 'X48'='48', 'X54'='54', 'X55'='55', 'X56'='56', 'X57'='57', 'X58'='58', 'X59'='59', 'X60'='60', 'X73'='73')\n",
    "single_identities = c('A', 'C', 'G', 'U', 'Purine', 'Pyrimidine', 'Weak', 'Strong', 'Amino', 'Keto', 'B', 'D', 'H', 'V', 'Absent')\n",
    "\n",
    "colors = c('A'='gray20', 'C'='gray20', 'G'='gray20', 'U'='gray20', 'Absent'='gray20', 'Purine'='gray20', 'Pyrimidine'='gray20', 'Weak'='gray20', 'Strong'='gray20', 'Amino'='gray20', 'Keto'='gray20', 'B'='gray50', 'D'='gray50', 'H'='gray50', 'V'='gray50', 'GC'='gray20', 'AU'='gray20', 'UA'='gray20', 'CG'='gray20', 'GU'='gray20', 'UG'='gray20', 'PurinePyrimidine'='gray20', 'PyrimidinePurine'='gray20', 'StrongPair'='gray20', 'WeakPair'='gray20', 'AminoKeto'='gray20', 'KetoAmino'='gray20', 'Wobble'='gray20', 'Paired'='gray20', 'Bulge'='gray20', 'Mismatched'='gray20')\n",
    "fills = c('A'='#ffd92f', 'C'='#4daf4a', 'G'='#e41a1c', 'U'='#377eb8', 'Purine'='#ff8300', 'Pyrimidine'='#66c2a5', 'Weak'='#b3de69', 'Strong'='#fb72b2', 'Amino'='#c1764a', 'Keto'='#b26cbd', 'B'='#e5c494', 'D'='#ccebd5', 'H'='#ffa79d', 'V'='#a6cdea', 'Absent'='gray60', 'Mismatched'='gray30', 'Paired'='#ffffcc')"
   ]
  },
  {
   "cell_type": "code",
   "execution_count": 61,
   "metadata": {
    "collapsed": true
   },
   "outputs": [],
   "source": [
    "load('best-freqs.RData')\n",
    "load('clade-isotype-specific.RData')\n",
    "load('isotype-specific.RData')\n",
    "load('consensus-IDEs.RData')\n",
    "load('clade-isotype-specific-freqs.RData')"
   ]
  },
  {
   "cell_type": "code",
   "execution_count": 41,
   "metadata": {
    "collapsed": true
   },
   "outputs": [],
   "source": [
    "identities = read.delim('identities.tsv', sep='\\t')\n",
    "identities$quality = as.logical(identities$quality)\n",
    "identities$restrict = as.logical(identities$restrict)\n",
    "identities = identities %>% mutate(quality=quality & (!restrict | isotype == \"iMet\"))"
   ]
  },
  {
   "cell_type": "markdown",
   "metadata": {},
   "source": [
    "# Introduction\n",
    "\n",
    "Strategy 1: find rejected (a) consensus, (b) isotype-specific, or (c) clade-isotype-specific elements. Set a cutoff at 95% presence, but fails (i) isotype check, (ii) clade check, or (iii) species check. Spin in previous work, if any. Bonus points if previous work _conflicts_ with consensus definition.\n",
    "\n",
    "Strategy 2: highlight instances where previous work conflicts.\n",
    "\n",
    "Some of these will have been covered in `first-pass-consensus`."
   ]
  },
  {
   "cell_type": "markdown",
   "metadata": {},
   "source": [
    "# Strategy 1A\n",
    "\n",
    "## Find targets"
   ]
  },
  {
   "cell_type": "code",
   "execution_count": 34,
   "metadata": {
    "collapsed": false
   },
   "outputs": [],
   "source": [
    "code_groups = c('A'=1, 'C'=1, 'G'=1, 'U'=1, 'Absent'=1, \n",
    "                'Purine'=2, 'Pyrimidine'=2,\n",
    "                'Weak'=3, 'Strong'=3, 'Amino'=3, 'Keto'=3,\n",
    "                'B'=4, 'D'=4, 'H'=4, 'V'=4,\n",
    "                'GC'=1, 'AU'=1, 'UA'=1, 'CG'=1, 'GU'=1, 'UG'=1,\n",
    "                'StrongPair'=2, 'WeakPair'=2, 'Wobble'=2,\n",
    "                'PurinePyrimidine'=3, 'PyrimidinePurine'=3, 'AminoKeto'=3, 'KetoAmino'=3,\n",
    "                'Paired'=4, 'Mismatched'=4, 'Bulge'=4)\n",
    "\n",
    "cutoff_freqs = data.frame()\n",
    "for (cutoff in c(0.5, 0.6, 0.7, 0.8, 0.9, 0.95, 0.99, 1.0)) {\n",
    "  df = clade_iso_ac_freqs %>%\n",
    "    group_by(positions, variable) %>%\n",
    "    summarize(count=sum(value), freq=sum(value)/sum(total)) %>%\n",
    "    filter(freq >= cutoff) %>%\n",
    "    mutate(cutoff=as.character(cutoff)) %>%\n",
    "    select(positions, variable, freq, cutoff) %>%\n",
    "    group_by(positions) %>%\n",
    "    arrange(code_groups[variable], desc(freq)) %>%\n",
    "    filter(row_number(positions) == 1)\n",
    "  if (nrow(cutoff_freqs) == 0) cutoff_freqs = df\n",
    "  else cutoff_freqs = rbind(cutoff_freqs, df)\n",
    "}"
   ]
  },
  {
   "cell_type": "code",
   "execution_count": 35,
   "metadata": {
    "collapsed": false
   },
   "outputs": [
    {
     "data": {
      "text/html": [
       "<table>\n",
       "<thead><tr><th></th><th scope=col>positions</th><th scope=col>0.5</th><th scope=col>0.6</th><th scope=col>0.7</th><th scope=col>0.8</th><th scope=col>0.9</th><th scope=col>0.95</th><th scope=col>0.99</th></tr></thead>\n",
       "<tbody>\n",
       "\t<tr><th scope=row>1</th><td>X10.25</td><td>GC</td><td>GC</td><td>GC</td><td>Paired</td><td>Paired</td><td>Paired</td><td>Paired</td></tr>\n",
       "\t<tr><th scope=row>2</th><td>X10.45</td><td>Mismatched</td><td>Mismatched</td><td>Mismatched</td><td>Mismatched</td><td>NA</td><td>NA</td><td>NA</td></tr>\n",
       "\t<tr><th scope=row>3</th><td>X11.24</td><td>CG</td><td>CG</td><td>PyrimidinePurine</td><td>PyrimidinePurine</td><td>PyrimidinePurine</td><td>PyrimidinePurine</td><td>Paired</td></tr>\n",
       "\t<tr><th scope=row>4</th><td>X12.23</td><td>PyrimidinePurine</td><td>PyrimidinePurine</td><td>Paired</td><td>Paired</td><td>Paired</td><td>Paired</td><td>NA</td></tr>\n",
       "\t<tr><th scope=row>5</th><td>X13.22</td><td>PyrimidinePurine</td><td>Paired</td><td>NA</td><td>NA</td><td>NA</td><td>NA</td><td>NA</td></tr>\n",
       "\t<tr><th scope=row>6</th><td>X14</td><td>A</td><td>A</td><td>A</td><td>A</td><td>A</td><td>A</td><td>A</td></tr>\n",
       "\t<tr><th scope=row>7</th><td>X15</td><td>G</td><td>G</td><td>G</td><td>G</td><td>Purine</td><td>Purine</td><td>Purine</td></tr>\n",
       "\t<tr><th scope=row>8</th><td>X15.48</td><td>GC</td><td>GC</td><td>GC</td><td>PurinePyrimidine</td><td>PurinePyrimidine</td><td>Paired</td><td>NA</td></tr>\n",
       "\t<tr><th scope=row>9</th><td>X16</td><td>U</td><td>U</td><td>U</td><td>Pyrimidine</td><td>Pyrimidine</td><td>B</td><td>NA</td></tr>\n",
       "\t<tr><th scope=row>10</th><td>X17</td><td>Absent</td><td>Absent</td><td>NA</td><td>NA</td><td>NA</td><td>NA</td><td>NA</td></tr>\n",
       "\t<tr><th scope=row>11</th><td>X1.72</td><td>GC</td><td>GC</td><td>GC</td><td>GC</td><td>Paired</td><td>Paired</td><td>Paired</td></tr>\n",
       "\t<tr><th scope=row>12</th><td>X17a</td><td>Absent</td><td>Absent</td><td>Absent</td><td>Absent</td><td>Absent</td><td>Absent</td><td>Absent</td></tr>\n",
       "\t<tr><th scope=row>13</th><td>X18</td><td>G</td><td>G</td><td>G</td><td>G</td><td>G</td><td>G</td><td>G</td></tr>\n",
       "\t<tr><th scope=row>14</th><td>X18.55</td><td>GU</td><td>GU</td><td>GU</td><td>GU</td><td>GU</td><td>GU</td><td>GU</td></tr>\n",
       "\t<tr><th scope=row>15</th><td>X19</td><td>G</td><td>G</td><td>G</td><td>G</td><td>G</td><td>G</td><td>G</td></tr>\n",
       "\t<tr><th scope=row>16</th><td>X19.56</td><td>GC</td><td>GC</td><td>GC</td><td>GC</td><td>GC</td><td>GC</td><td>Paired</td></tr>\n",
       "\t<tr><th scope=row>17</th><td>X20</td><td>U</td><td>U</td><td>U</td><td>U</td><td>H</td><td>H</td><td>NA</td></tr>\n",
       "\t<tr><th scope=row>18</th><td>X20a</td><td>Pyrimidine</td><td>NA</td><td>NA</td><td>NA</td><td>NA</td><td>NA</td><td>NA</td></tr>\n",
       "\t<tr><th scope=row>19</th><td>X20b</td><td>Absent</td><td>Absent</td><td>Absent</td><td>Absent</td><td>Absent</td><td>NA</td><td>NA</td></tr>\n",
       "\t<tr><th scope=row>20</th><td>X21</td><td>A</td><td>A</td><td>A</td><td>A</td><td>A</td><td>A</td><td>A</td></tr>\n",
       "\t<tr><th scope=row>21</th><td>X22.46</td><td>Mismatched</td><td>Mismatched</td><td>Mismatched</td><td>Mismatched</td><td>NA</td><td>NA</td><td>NA</td></tr>\n",
       "\t<tr><th scope=row>22</th><td>X26</td><td>G</td><td>Purine</td><td>Purine</td><td>D</td><td>D</td><td>D</td><td>NA</td></tr>\n",
       "\t<tr><th scope=row>23</th><td>X26.44</td><td>Mismatched</td><td>Mismatched</td><td>Mismatched</td><td>NA</td><td>NA</td><td>NA</td><td>NA</td></tr>\n",
       "\t<tr><th scope=row>24</th><td>X2.71</td><td>StrongPair</td><td>StrongPair</td><td>StrongPair</td><td>Paired</td><td>Paired</td><td>Paired</td><td>Paired</td></tr>\n",
       "\t<tr><th scope=row>25</th><td>X27.43</td><td>PyrimidinePurine</td><td>PyrimidinePurine</td><td>PyrimidinePurine</td><td>Paired</td><td>Paired</td><td>Paired</td><td>Paired</td></tr>\n",
       "\t<tr><th scope=row>26</th><td>X28.42</td><td>PyrimidinePurine</td><td>PyrimidinePurine</td><td>PyrimidinePurine</td><td>Paired</td><td>Paired</td><td>Paired</td><td>Paired</td></tr>\n",
       "\t<tr><th scope=row>27</th><td>X29.41</td><td>StrongPair</td><td>Paired</td><td>Paired</td><td>Paired</td><td>Paired</td><td>Paired</td><td>Paired</td></tr>\n",
       "\t<tr><th scope=row>28</th><td>X30.40</td><td>GC</td><td>GC</td><td>GC</td><td>StrongPair</td><td>Paired</td><td>Paired</td><td>Paired</td></tr>\n",
       "\t<tr><th scope=row>29</th><td>X31.39</td><td>PurinePyrimidine</td><td>PurinePyrimidine</td><td>Paired</td><td>Paired</td><td>Paired</td><td>Paired</td><td>NA</td></tr>\n",
       "\t<tr><th scope=row>30</th><td>X32</td><td>C</td><td>C</td><td>C</td><td>Pyrimidine</td><td>Pyrimidine</td><td>Pyrimidine</td><td>Pyrimidine</td></tr>\n",
       "\t<tr><th scope=row>31</th><td>X33</td><td>U</td><td>U</td><td>U</td><td>U</td><td>U</td><td>U</td><td>Pyrimidine</td></tr>\n",
       "\t<tr><th scope=row>32</th><td>X34</td><td>Pyrimidine</td><td>B</td><td>B</td><td>NA</td><td>NA</td><td>NA</td><td>NA</td></tr>\n",
       "\t<tr><th scope=row>33</th><td>X35</td><td>Pyrimidine</td><td>D</td><td>D</td><td>NA</td><td>NA</td><td>NA</td><td>NA</td></tr>\n",
       "\t<tr><th scope=row>34</th><td>X36</td><td>Pyrimidine</td><td>Pyrimidine</td><td>B</td><td>B</td><td>NA</td><td>NA</td><td>NA</td></tr>\n",
       "\t<tr><th scope=row>35</th><td>X37</td><td>A</td><td>A</td><td>Purine</td><td>Purine</td><td>Purine</td><td>Purine</td><td>Purine</td></tr>\n",
       "\t<tr><th scope=row>36</th><td>X3.70</td><td>CG</td><td>PyrimidinePurine</td><td>Paired</td><td>Paired</td><td>Paired</td><td>Paired</td><td>Paired</td></tr>\n",
       "\t<tr><th scope=row>37</th><td>X38</td><td>A</td><td>Amino</td><td>Amino</td><td>Amino</td><td>H</td><td>H</td><td>H</td></tr>\n",
       "\t<tr><th scope=row>38</th><td>X44</td><td>A</td><td>A</td><td>Purine</td><td>Weak</td><td>H</td><td>NA</td><td>NA</td></tr>\n",
       "\t<tr><th scope=row>39</th><td>X45</td><td>G</td><td>G</td><td>G</td><td>Purine</td><td>NA</td><td>NA</td><td>NA</td></tr>\n",
       "\t<tr><th scope=row>40</th><td>X46</td><td>G</td><td>G</td><td>G</td><td>Purine</td><td>Purine</td><td>Purine</td><td>Purine</td></tr>\n",
       "\t<tr><th scope=row>41</th><td>X4.69</td><td>StrongPair</td><td>Paired</td><td>Paired</td><td>Paired</td><td>Paired</td><td>Paired</td><td>NA</td></tr>\n",
       "\t<tr><th scope=row>42</th><td>X47</td><td>U</td><td>Pyrimidine</td><td>NA</td><td>NA</td><td>NA</td><td>NA</td><td>NA</td></tr>\n",
       "\t<tr><th scope=row>43</th><td>X48</td><td>C</td><td>C</td><td>C</td><td>C</td><td>Pyrimidine</td><td>Pyrimidine</td><td>H</td></tr>\n",
       "\t<tr><th scope=row>44</th><td>X49.65</td><td>StrongPair</td><td>StrongPair</td><td>StrongPair</td><td>StrongPair</td><td>Paired</td><td>Paired</td><td>Paired</td></tr>\n",
       "\t<tr><th scope=row>45</th><td>X50.64</td><td>PyrimidinePurine</td><td>PyrimidinePurine</td><td>PyrimidinePurine</td><td>Paired</td><td>Paired</td><td>Paired</td><td>Paired</td></tr>\n",
       "\t<tr><th scope=row>46</th><td>X51.63</td><td>GC</td><td>GC</td><td>StrongPair</td><td>Paired</td><td>Paired</td><td>Paired</td><td>Paired</td></tr>\n",
       "\t<tr><th scope=row>47</th><td>X52.62</td><td>GC</td><td>GC</td><td>GC</td><td>PurinePyrimidine</td><td>PurinePyrimidine</td><td>Paired</td><td>Paired</td></tr>\n",
       "\t<tr><th scope=row>48</th><td>X53.61</td><td>GC</td><td>GC</td><td>GC</td><td>GC</td><td>GC</td><td>GC</td><td>GC</td></tr>\n",
       "\t<tr><th scope=row>49</th><td>X54</td><td>U</td><td>U</td><td>U</td><td>U</td><td>U</td><td>U</td><td>Weak</td></tr>\n",
       "\t<tr><th scope=row>50</th><td>X54.58</td><td>UA</td><td>UA</td><td>UA</td><td>UA</td><td>UA</td><td>Paired</td><td>NA</td></tr>\n",
       "\t<tr><th scope=row>51</th><td>X55</td><td>U</td><td>U</td><td>U</td><td>U</td><td>U</td><td>U</td><td>U</td></tr>\n",
       "\t<tr><th scope=row>52</th><td>X56</td><td>C</td><td>C</td><td>C</td><td>C</td><td>C</td><td>C</td><td>Pyrimidine</td></tr>\n",
       "\t<tr><th scope=row>53</th><td>X5.68</td><td>StrongPair</td><td>Paired</td><td>Paired</td><td>Paired</td><td>Paired</td><td>Paired</td><td>NA</td></tr>\n",
       "\t<tr><th scope=row>54</th><td>X57</td><td>G</td><td>G</td><td>G</td><td>Purine</td><td>Purine</td><td>Purine</td><td>Purine</td></tr>\n",
       "\t<tr><th scope=row>55</th><td>X58</td><td>A</td><td>A</td><td>A</td><td>A</td><td>A</td><td>A</td><td>A</td></tr>\n",
       "\t<tr><th scope=row>56</th><td>X59</td><td>Purine</td><td>Weak</td><td>Weak</td><td>D</td><td>D</td><td>NA</td><td>NA</td></tr>\n",
       "\t<tr><th scope=row>57</th><td>X60</td><td>U</td><td>U</td><td>Pyrimidine</td><td>Pyrimidine</td><td>Pyrimidine</td><td>H</td><td>NA</td></tr>\n",
       "\t<tr><th scope=row>58</th><td>X6.67</td><td>Paired</td><td>Paired</td><td>Paired</td><td>Paired</td><td>Paired</td><td>Paired</td><td>NA</td></tr>\n",
       "\t<tr><th scope=row>59</th><td>X73</td><td>A</td><td>Purine</td><td>Purine</td><td>Purine</td><td>D</td><td>NA</td><td>NA</td></tr>\n",
       "\t<tr><th scope=row>60</th><td>X7.66</td><td>PurinePyrimidine</td><td>PurinePyrimidine</td><td>PurinePyrimidine</td><td>Paired</td><td>Paired</td><td>Paired</td><td>Paired</td></tr>\n",
       "\t<tr><th scope=row>61</th><td>X8</td><td>U</td><td>U</td><td>U</td><td>U</td><td>U</td><td>U</td><td>U</td></tr>\n",
       "\t<tr><th scope=row>62</th><td>X8.14</td><td>UA</td><td>UA</td><td>UA</td><td>UA</td><td>UA</td><td>UA</td><td>UA</td></tr>\n",
       "\t<tr><th scope=row>63</th><td>X9</td><td>G</td><td>Purine</td><td>Purine</td><td>Purine</td><td>Purine</td><td>Purine</td><td>V</td></tr>\n",
       "\t<tr><th scope=row>64</th><td>X9.23</td><td>Mismatched</td><td>Mismatched</td><td>Mismatched</td><td>NA</td><td>NA</td><td>NA</td><td>NA</td></tr>\n",
       "</tbody>\n",
       "</table>\n"
      ],
      "text/latex": [
       "\\begin{tabular}{r|llllllll}\n",
       "  & positions & 0.5 & 0.6 & 0.7 & 0.8 & 0.9 & 0.95 & 0.99\\\\\n",
       "\\hline\n",
       "\t1 & X10.25 & GC & GC & GC & Paired & Paired & Paired & Paired\\\\\n",
       "\t2 & X10.45 & Mismatched & Mismatched & Mismatched & Mismatched & NA & NA & NA\\\\\n",
       "\t3 & X11.24 & CG & CG & PyrimidinePurine & PyrimidinePurine & PyrimidinePurine & PyrimidinePurine & Paired\\\\\n",
       "\t4 & X12.23 & PyrimidinePurine & PyrimidinePurine & Paired & Paired & Paired & Paired & NA\\\\\n",
       "\t5 & X13.22 & PyrimidinePurine & Paired & NA & NA & NA & NA & NA\\\\\n",
       "\t6 & X14 & A & A & A & A & A & A & A\\\\\n",
       "\t7 & X15 & G & G & G & G & Purine & Purine & Purine\\\\\n",
       "\t8 & X15.48 & GC & GC & GC & PurinePyrimidine & PurinePyrimidine & Paired & NA\\\\\n",
       "\t9 & X16 & U & U & U & Pyrimidine & Pyrimidine & B & NA\\\\\n",
       "\t10 & X17 & Absent & Absent & NA & NA & NA & NA & NA\\\\\n",
       "\t11 & X1.72 & GC & GC & GC & GC & Paired & Paired & Paired\\\\\n",
       "\t12 & X17a & Absent & Absent & Absent & Absent & Absent & Absent & Absent\\\\\n",
       "\t13 & X18 & G & G & G & G & G & G & G\\\\\n",
       "\t14 & X18.55 & GU & GU & GU & GU & GU & GU & GU\\\\\n",
       "\t15 & X19 & G & G & G & G & G & G & G\\\\\n",
       "\t16 & X19.56 & GC & GC & GC & GC & GC & GC & Paired\\\\\n",
       "\t17 & X20 & U & U & U & U & H & H & NA\\\\\n",
       "\t18 & X20a & Pyrimidine & NA & NA & NA & NA & NA & NA\\\\\n",
       "\t19 & X20b & Absent & Absent & Absent & Absent & Absent & NA & NA\\\\\n",
       "\t20 & X21 & A & A & A & A & A & A & A\\\\\n",
       "\t21 & X22.46 & Mismatched & Mismatched & Mismatched & Mismatched & NA & NA & NA\\\\\n",
       "\t22 & X26 & G & Purine & Purine & D & D & D & NA\\\\\n",
       "\t23 & X26.44 & Mismatched & Mismatched & Mismatched & NA & NA & NA & NA\\\\\n",
       "\t24 & X2.71 & StrongPair & StrongPair & StrongPair & Paired & Paired & Paired & Paired\\\\\n",
       "\t25 & X27.43 & PyrimidinePurine & PyrimidinePurine & PyrimidinePurine & Paired & Paired & Paired & Paired\\\\\n",
       "\t26 & X28.42 & PyrimidinePurine & PyrimidinePurine & PyrimidinePurine & Paired & Paired & Paired & Paired\\\\\n",
       "\t27 & X29.41 & StrongPair & Paired & Paired & Paired & Paired & Paired & Paired\\\\\n",
       "\t28 & X30.40 & GC & GC & GC & StrongPair & Paired & Paired & Paired\\\\\n",
       "\t29 & X31.39 & PurinePyrimidine & PurinePyrimidine & Paired & Paired & Paired & Paired & NA\\\\\n",
       "\t30 & X32 & C & C & C & Pyrimidine & Pyrimidine & Pyrimidine & Pyrimidine\\\\\n",
       "\t31 & X33 & U & U & U & U & U & U & Pyrimidine\\\\\n",
       "\t32 & X34 & Pyrimidine & B & B & NA & NA & NA & NA\\\\\n",
       "\t33 & X35 & Pyrimidine & D & D & NA & NA & NA & NA\\\\\n",
       "\t34 & X36 & Pyrimidine & Pyrimidine & B & B & NA & NA & NA\\\\\n",
       "\t35 & X37 & A & A & Purine & Purine & Purine & Purine & Purine\\\\\n",
       "\t36 & X3.70 & CG & PyrimidinePurine & Paired & Paired & Paired & Paired & Paired\\\\\n",
       "\t37 & X38 & A & Amino & Amino & Amino & H & H & H\\\\\n",
       "\t38 & X44 & A & A & Purine & Weak & H & NA & NA\\\\\n",
       "\t39 & X45 & G & G & G & Purine & NA & NA & NA\\\\\n",
       "\t40 & X46 & G & G & G & Purine & Purine & Purine & Purine\\\\\n",
       "\t41 & X4.69 & StrongPair & Paired & Paired & Paired & Paired & Paired & NA\\\\\n",
       "\t42 & X47 & U & Pyrimidine & NA & NA & NA & NA & NA\\\\\n",
       "\t43 & X48 & C & C & C & C & Pyrimidine & Pyrimidine & H\\\\\n",
       "\t44 & X49.65 & StrongPair & StrongPair & StrongPair & StrongPair & Paired & Paired & Paired\\\\\n",
       "\t45 & X50.64 & PyrimidinePurine & PyrimidinePurine & PyrimidinePurine & Paired & Paired & Paired & Paired\\\\\n",
       "\t46 & X51.63 & GC & GC & StrongPair & Paired & Paired & Paired & Paired\\\\\n",
       "\t47 & X52.62 & GC & GC & GC & PurinePyrimidine & PurinePyrimidine & Paired & Paired\\\\\n",
       "\t48 & X53.61 & GC & GC & GC & GC & GC & GC & GC\\\\\n",
       "\t49 & X54 & U & U & U & U & U & U & Weak\\\\\n",
       "\t50 & X54.58 & UA & UA & UA & UA & UA & Paired & NA\\\\\n",
       "\t51 & X55 & U & U & U & U & U & U & U\\\\\n",
       "\t52 & X56 & C & C & C & C & C & C & Pyrimidine\\\\\n",
       "\t53 & X5.68 & StrongPair & Paired & Paired & Paired & Paired & Paired & NA\\\\\n",
       "\t54 & X57 & G & G & G & Purine & Purine & Purine & Purine\\\\\n",
       "\t55 & X58 & A & A & A & A & A & A & A\\\\\n",
       "\t56 & X59 & Purine & Weak & Weak & D & D & NA & NA\\\\\n",
       "\t57 & X60 & U & U & Pyrimidine & Pyrimidine & Pyrimidine & H & NA\\\\\n",
       "\t58 & X6.67 & Paired & Paired & Paired & Paired & Paired & Paired & NA\\\\\n",
       "\t59 & X73 & A & Purine & Purine & Purine & D & NA & NA\\\\\n",
       "\t60 & X7.66 & PurinePyrimidine & PurinePyrimidine & PurinePyrimidine & Paired & Paired & Paired & Paired\\\\\n",
       "\t61 & X8 & U & U & U & U & U & U & U\\\\\n",
       "\t62 & X8.14 & UA & UA & UA & UA & UA & UA & UA\\\\\n",
       "\t63 & X9 & G & Purine & Purine & Purine & Purine & Purine & V\\\\\n",
       "\t64 & X9.23 & Mismatched & Mismatched & Mismatched & NA & NA & NA & NA\\\\\n",
       "\\end{tabular}\n"
      ],
      "text/plain": [
       "Source: local data frame [64 x 8]\n",
       "Groups: positions [64]\n",
       "\n",
       "   positions            `0.5`            `0.6`            `0.7`\n",
       "*      <chr>           <fctr>           <fctr>           <fctr>\n",
       "1     X10.25               GC               GC               GC\n",
       "2     X10.45       Mismatched       Mismatched       Mismatched\n",
       "3     X11.24               CG               CG PyrimidinePurine\n",
       "4     X12.23 PyrimidinePurine PyrimidinePurine           Paired\n",
       "5     X13.22 PyrimidinePurine           Paired               NA\n",
       "6        X14                A                A                A\n",
       "7        X15                G                G                G\n",
       "8     X15.48               GC               GC               GC\n",
       "9        X16                U                U                U\n",
       "10       X17           Absent           Absent               NA\n",
       "# ... with 54 more rows, and 4 more variables: `0.8` <fctr>, `0.9` <fctr>,\n",
       "#   `0.95` <fctr>, `0.99` <fctr>"
      ]
     },
     "execution_count": 35,
     "metadata": {},
     "output_type": "execute_result"
    }
   ],
   "source": [
    "cutoff_freqs %>% \n",
    "  filter(positions %in% c(names(single_positions), names(paired_positions))) %>%\n",
    "  select(positions, cutoff, variable) %>%\n",
    "  spread(cutoff, variable)"
   ]
  },
  {
   "cell_type": "code",
   "execution_count": 36,
   "metadata": {
    "collapsed": false
   },
   "outputs": [
    {
     "data": {
      "text/html": [
       "<table>\n",
       "<thead><tr><th></th><th scope=col>positions</th><th scope=col>identity</th></tr></thead>\n",
       "<tbody>\n",
       "\t<tr><th scope=row>1</th><td>X11.24</td><td>Paired</td></tr>\n",
       "\t<tr><th scope=row>2</th><td>X14</td><td>A</td></tr>\n",
       "\t<tr><th scope=row>3</th><td>X18</td><td>V</td></tr>\n",
       "\t<tr><th scope=row>4</th><td>X19</td><td>G</td></tr>\n",
       "\t<tr><th scope=row>5</th><td>X19.56</td><td>GC</td></tr>\n",
       "\t<tr><th scope=row>6</th><td>X21</td><td>H</td></tr>\n",
       "\t<tr><th scope=row>7</th><td>X2.71</td><td>Paired</td></tr>\n",
       "\t<tr><th scope=row>8</th><td>X30.40</td><td>Paired</td></tr>\n",
       "\t<tr><th scope=row>9</th><td>X32</td><td>B</td></tr>\n",
       "\t<tr><th scope=row>10</th><td>X33</td><td>Pyrimidine</td></tr>\n",
       "\t<tr><th scope=row>11</th><td>X37</td><td>V</td></tr>\n",
       "\t<tr><th scope=row>12</th><td>X38</td><td>H</td></tr>\n",
       "\t<tr><th scope=row>13</th><td>X53.61</td><td>Paired</td></tr>\n",
       "\t<tr><th scope=row>14</th><td>X54</td><td>H</td></tr>\n",
       "\t<tr><th scope=row>15</th><td>X55</td><td>Pyrimidine</td></tr>\n",
       "\t<tr><th scope=row>16</th><td>X56</td><td>C</td></tr>\n",
       "\t<tr><th scope=row>17</th><td>X57</td><td>Purine</td></tr>\n",
       "\t<tr><th scope=row>18</th><td>X58</td><td>D</td></tr>\n",
       "\t<tr><th scope=row>19</th><td>X8</td><td>U</td></tr>\n",
       "\t<tr><th scope=row>20</th><td>X8.14</td><td>UA</td></tr>\n",
       "</tbody>\n",
       "</table>\n"
      ],
      "text/latex": [
       "\\begin{tabular}{r|ll}\n",
       "  & positions & identity\\\\\n",
       "\\hline\n",
       "\t1 & X11.24 & Paired\\\\\n",
       "\t2 & X14 & A\\\\\n",
       "\t3 & X18 & V\\\\\n",
       "\t4 & X19 & G\\\\\n",
       "\t5 & X19.56 & GC\\\\\n",
       "\t6 & X21 & H\\\\\n",
       "\t7 & X2.71 & Paired\\\\\n",
       "\t8 & X30.40 & Paired\\\\\n",
       "\t9 & X32 & B\\\\\n",
       "\t10 & X33 & Pyrimidine\\\\\n",
       "\t11 & X37 & V\\\\\n",
       "\t12 & X38 & H\\\\\n",
       "\t13 & X53.61 & Paired\\\\\n",
       "\t14 & X54 & H\\\\\n",
       "\t15 & X55 & Pyrimidine\\\\\n",
       "\t16 & X56 & C\\\\\n",
       "\t17 & X57 & Purine\\\\\n",
       "\t18 & X58 & D\\\\\n",
       "\t19 & X8 & U\\\\\n",
       "\t20 & X8.14 & UA\\\\\n",
       "\\end{tabular}\n"
      ],
      "text/plain": [
       "# A tibble: 20 × 2\n",
       "   positions   identity\n",
       "       <chr>      <chr>\n",
       "1     X11.24     Paired\n",
       "2        X14          A\n",
       "3        X18          V\n",
       "4        X19          G\n",
       "5     X19.56         GC\n",
       "6        X21          H\n",
       "7      X2.71     Paired\n",
       "8     X30.40     Paired\n",
       "9        X32          B\n",
       "10       X33 Pyrimidine\n",
       "11       X37          V\n",
       "12       X38          H\n",
       "13    X53.61     Paired\n",
       "14       X54          H\n",
       "15       X55 Pyrimidine\n",
       "16       X56          C\n",
       "17       X57     Purine\n",
       "18       X58          D\n",
       "19        X8          U\n",
       "20     X8.14         UA"
      ]
     },
     "execution_count": 36,
     "metadata": {},
     "output_type": "execute_result"
    }
   ],
   "source": [
    "consensus"
   ]
  },
  {
   "cell_type": "markdown",
   "metadata": {},
   "source": [
    "For strategy 1A, some good candidates here: \n",
    "- R9 (95%)\n",
    "- G18, U55, and G18:U55 (99%)\n",
    "- A21 and A14/A21 (99%)\n",
    "- U33 (95%)\n",
    "- R46 (99%)\n",
    "- G53:C61 (99%)\n",
    "- U55 (99%)"
   ]
  },
  {
   "cell_type": "markdown",
   "metadata": {},
   "source": [
    "## R9 and R46"
   ]
  },
  {
   "cell_type": "markdown",
   "metadata": {
    "collapsed": true
   },
   "source": [
    "### What's known\n",
    "\n",
    "- Marck and Grosjean have a purine for iMet and no consensus for elongator, though they are mostly R or V. R9 is also conserved in initiators for archaea/bacteria.\n",
    "- 9-12-23 is a tertiary interaction. [Gautheret et al. (1995)](http://dx.doi.org/10.1006/jmbi.1995.0200) has these frequencies from the Sprinzl 1991 database: ![9-12-23 frequency matrix](figures/9-12-23-gautheret.png)"
   ]
  },
  {
   "cell_type": "markdown",
   "metadata": {},
   "source": [
    "- Position 9 is known to be modified with m$^1$G (along with 37) in a wide range of eukaryotes. \n",
    "\n",
    "### Our data\n",
    "\n",
    "- Here's our frequencies:"
   ]
  },
  {
   "cell_type": "code",
   "execution_count": 44,
   "metadata": {
    "collapsed": false
   },
   "outputs": [
    {
     "data": {
      "text/plain": [
       "     \n",
       "          -     A     C     G     U\n",
       "  A:A     0     6     8     9     0\n",
       "  A:C     0    22     1   578     0\n",
       "  A:G     0     2     2    11     0\n",
       "  A:U     0  1853   641    96     5\n",
       "  C:A     0     6     0   321     1\n",
       "  C:C     0     1     0     2     0\n",
       "  C:G     0   644   174 13514    54\n",
       "  C:U     0     0     0     3     0\n",
       "  G:A     0     1     0     2     0\n",
       "  G:C     0  2845     7  9278     5\n",
       "  G:G     0     0     0     8     0\n",
       "  G:U     0    13     1    34     0\n",
       "  U:A     1 13537     8  3849    53\n",
       "  U:C     0     1     0     3     0\n",
       "  U:G     0    23     0    51     0\n",
       "  U:U     0     6     0     1     0"
      ]
     },
     "execution_count": 44,
     "metadata": {},
     "output_type": "execute_result"
    }
   ],
   "source": [
    "table(paste0(identities[identities$quality, ]$X12, ':', identities[identities$quality, ]$X23), identities[identities$quality, ]$X9)"
   ]
  },
  {
   "cell_type": "markdown",
   "metadata": {},
   "source": [
    "#### Which isotypes/clades/species fail the consensus checks?"
   ]
  },
  {
   "cell_type": "code",
   "execution_count": 73,
   "metadata": {
    "collapsed": false
   },
   "outputs": [
    {
     "data": {
      "text/html": [
       "<table>\n",
       "<thead><tr><th></th><th scope=col>clade</th><th scope=col>isotype</th><th scope=col>status</th></tr></thead>\n",
       "<tbody>\n",
       "\t<tr><th scope=row>1</th><td>Insecta</td><td>Glu</td><td>FALSE</td></tr>\n",
       "\t<tr><th scope=row>2</th><td>Insecta</td><td>His</td><td>FALSE</td></tr>\n",
       "\t<tr><th scope=row>3</th><td>Mammalia</td><td>His</td><td>FALSE</td></tr>\n",
       "\t<tr><th scope=row>4</th><td>Spermatophyta</td><td>Glu</td><td>FALSE</td></tr>\n",
       "\t<tr><th scope=row>5</th><td>Streptophyta</td><td>Glu</td><td>FALSE</td></tr>\n",
       "\t<tr><th scope=row>6</th><td>Vertebrata</td><td>His</td><td>FALSE</td></tr>\n",
       "</tbody>\n",
       "</table>\n"
      ],
      "text/latex": [
       "\\begin{tabular}{r|lll}\n",
       "  & clade & isotype & status\\\\\n",
       "\\hline\n",
       "\t1 & Insecta & Glu & FALSE\\\\\n",
       "\t2 & Insecta & His & FALSE\\\\\n",
       "\t3 & Mammalia & His & FALSE\\\\\n",
       "\t4 & Spermatophyta & Glu & FALSE\\\\\n",
       "\t5 & Streptophyta & Glu & FALSE\\\\\n",
       "\t6 & Vertebrata & His & FALSE\\\\\n",
       "\\end{tabular}\n"
      ],
      "text/plain": [
       "Source: local data frame [6 x 3]\n",
       "Groups: clade [5]\n",
       "\n",
       "          clade isotype status\n",
       "          <chr>   <chr>  <lgl>\n",
       "1       Insecta     Glu  FALSE\n",
       "2       Insecta     His  FALSE\n",
       "3      Mammalia     His  FALSE\n",
       "4 Spermatophyta     Glu  FALSE\n",
       "5  Streptophyta     Glu  FALSE\n",
       "6    Vertebrata     His  FALSE"
      ]
     },
     "execution_count": 73,
     "metadata": {},
     "output_type": "execute_result"
    },
    {
     "data": {
      "text/html": [
       "<table>\n",
       "<thead><tr><th></th><th scope=col>clade</th><th scope=col>species</th><th scope=col>isotype</th><th scope=col>status</th><th scope=col>freq</th><th scope=col>ntRNAs</th></tr></thead>\n",
       "<tbody>\n",
       "\t<tr><th scope=row>1</th><td>Fungi</td><td>botrCine_B05_10</td><td>Tyr</td><td>FALSE</td><td>0</td><td>5</td></tr>\n",
       "\t<tr><th scope=row>2</th><td>Fungi</td><td>crypGatt_WM276</td><td>Gly</td><td>FALSE</td><td>0</td><td>2</td></tr>\n",
       "\t<tr><th scope=row>3</th><td>Fungi</td><td>crypNeof_VAR_GRUBII_H99</td><td>Gly</td><td>FALSE</td><td>0</td><td>2</td></tr>\n",
       "\t<tr><th scope=row>4</th><td>Fungi</td><td>crypNeof_VAR_NEOFORMANS_B_3501</td><td>Gly</td><td>FALSE</td><td>0</td><td>2</td></tr>\n",
       "\t<tr><th scope=row>5</th><td>Fungi</td><td>crypNeof_VAR_NEOFORMANS_JEC21</td><td>Gly</td><td>FALSE</td><td>0</td><td>2</td></tr>\n",
       "\t<tr><th scope=row>6</th><td>Insecta</td><td>dm6</td><td>Glu</td><td>FALSE</td><td>6</td><td>19</td></tr>\n",
       "\t<tr><th scope=row>7</th><td>Insecta</td><td>dm6</td><td>His</td><td>FALSE</td><td>0</td><td>5</td></tr>\n",
       "\t<tr><th scope=row>8</th><td>Insecta</td><td>dp4</td><td>His</td><td>FALSE</td><td>0</td><td>5</td></tr>\n",
       "\t<tr><th scope=row>9</th><td>Insecta</td><td>droSim1</td><td>Glu</td><td>FALSE</td><td>3</td><td>13</td></tr>\n",
       "\t<tr><th scope=row>10</th><td>Insecta</td><td>droSim1</td><td>His</td><td>FALSE</td><td>1</td><td>5</td></tr>\n",
       "\t<tr><th scope=row>11</th><td>Insecta</td><td>droYak2</td><td>Glu</td><td>FALSE</td><td>6</td><td>20</td></tr>\n",
       "\t<tr><th scope=row>12</th><td>Insecta</td><td>droYak2</td><td>His</td><td>FALSE</td><td>0</td><td>5</td></tr>\n",
       "\t<tr><th scope=row>13</th><td>Mammalia</td><td>ailMel1</td><td>His</td><td>FALSE</td><td>0</td><td>8</td></tr>\n",
       "\t<tr><th scope=row>14</th><td>Mammalia</td><td>balAcu1</td><td>His</td><td>FALSE</td><td>0</td><td>8</td></tr>\n",
       "\t<tr><th scope=row>15</th><td>Mammalia</td><td>bosTau8</td><td>His</td><td>FALSE</td><td>0</td><td>15</td></tr>\n",
       "\t<tr><th scope=row>16</th><td>Mammalia</td><td>calJac3</td><td>His</td><td>FALSE</td><td>0</td><td>6</td></tr>\n",
       "\t<tr><th scope=row>17</th><td>Mammalia</td><td>canFam3</td><td>His</td><td>FALSE</td><td>0</td><td>8</td></tr>\n",
       "\t<tr><th scope=row>18</th><td>Mammalia</td><td>cerSim1</td><td>His</td><td>FALSE</td><td>0</td><td>9</td></tr>\n",
       "\t<tr><th scope=row>19</th><td>Mammalia</td><td>dasNov3</td><td>His</td><td>FALSE</td><td>1</td><td>9</td></tr>\n",
       "\t<tr><th scope=row>20</th><td>Mammalia</td><td>equCab2</td><td>His</td><td>FALSE</td><td>0</td><td>7</td></tr>\n",
       "\t<tr><th scope=row>21</th><td>Mammalia</td><td>eriEur2</td><td>His</td><td>FALSE</td><td>0</td><td>5</td></tr>\n",
       "\t<tr><th scope=row>22</th><td>Mammalia</td><td>felCat5</td><td>His</td><td>FALSE</td><td>0</td><td>8</td></tr>\n",
       "\t<tr><th scope=row>23</th><td>Mammalia</td><td>gorGor3</td><td>His</td><td>FALSE</td><td>0</td><td>7</td></tr>\n",
       "\t<tr><th scope=row>24</th><td>Mammalia</td><td>hetGla2</td><td>His</td><td>FALSE</td><td>0</td><td>6</td></tr>\n",
       "\t<tr><th scope=row>25</th><td>Mammalia</td><td>hg19</td><td>His</td><td>FALSE</td><td>0</td><td>10</td></tr>\n",
       "\t<tr><th scope=row>26</th><td>Mammalia</td><td>macEug2</td><td>His</td><td>FALSE</td><td>0</td><td>6</td></tr>\n",
       "\t<tr><th scope=row>27</th><td>Mammalia</td><td>mm10</td><td>His</td><td>FALSE</td><td>0</td><td>10</td></tr>\n",
       "\t<tr><th scope=row>28</th><td>Mammalia</td><td>monDom5</td><td>His</td><td>FALSE</td><td>0</td><td>9</td></tr>\n",
       "\t<tr><th scope=row>29</th><td>Mammalia</td><td>musFur1</td><td>His</td><td>FALSE</td><td>0</td><td>6</td></tr>\n",
       "\t<tr><th scope=row>30</th><td>Mammalia</td><td>nomLeu3</td><td>His</td><td>FALSE</td><td>0</td><td>10</td></tr>\n",
       "\t<tr><th scope=row>31</th><td>Mammalia</td><td>ochPri3</td><td>His</td><td>FALSE</td><td>0</td><td>5</td></tr>\n",
       "\t<tr><th scope=row>32</th><td>Mammalia</td><td>ornAna1</td><td>His</td><td>FALSE</td><td>0</td><td>6</td></tr>\n",
       "\t<tr><th scope=row>33</th><td>Mammalia</td><td>oryCun2</td><td>His</td><td>FALSE</td><td>0</td><td>9</td></tr>\n",
       "\t<tr><th scope=row>34</th><td>Mammalia</td><td>otoGar3</td><td>His</td><td>FALSE</td><td>0</td><td>8</td></tr>\n",
       "\t<tr><th scope=row>35</th><td>Mammalia</td><td>oviAri3</td><td>His</td><td>FALSE</td><td>0</td><td>11</td></tr>\n",
       "\t<tr><th scope=row>36</th><td>Mammalia</td><td>panTro4</td><td>His</td><td>FALSE</td><td>1</td><td>7</td></tr>\n",
       "\t<tr><th scope=row>37</th><td>Mammalia</td><td>papAnu2</td><td>His</td><td>FALSE</td><td>0</td><td>10</td></tr>\n",
       "\t<tr><th scope=row>38</th><td>Mammalia</td><td>ponAbe2</td><td>His</td><td>FALSE</td><td>0</td><td>9</td></tr>\n",
       "\t<tr><th scope=row>39</th><td>Mammalia</td><td>rheMac3</td><td>His</td><td>FALSE</td><td>0</td><td>12</td></tr>\n",
       "\t<tr><th scope=row>40</th><td>Mammalia</td><td>rn6</td><td>His</td><td>FALSE</td><td>0</td><td>10</td></tr>\n",
       "\t<tr><th scope=row>41</th><td>Mammalia</td><td>saiBol1</td><td>His</td><td>FALSE</td><td>0</td><td>7</td></tr>\n",
       "\t<tr><th scope=row>42</th><td>Mammalia</td><td>sorAra2</td><td>His</td><td>FALSE</td><td>0</td><td>7</td></tr>\n",
       "\t<tr><th scope=row>43</th><td>Mammalia</td><td>speTri2</td><td>His</td><td>FALSE</td><td>0</td><td>6</td></tr>\n",
       "\t<tr><th scope=row>44</th><td>Mammalia</td><td>susScr3</td><td>His</td><td>FALSE</td><td>0</td><td>9</td></tr>\n",
       "\t<tr><th scope=row>45</th><td>Mammalia</td><td>tarSyr2</td><td>His</td><td>FALSE</td><td>0</td><td>6</td></tr>\n",
       "\t<tr><th scope=row>46</th><td>Mammalia</td><td>triMan1</td><td>His</td><td>FALSE</td><td>0</td><td>9</td></tr>\n",
       "\t<tr><th scope=row>47</th><td>Mammalia</td><td>turTru2</td><td>His</td><td>FALSE</td><td>0</td><td>8</td></tr>\n",
       "\t<tr><th scope=row>48</th><td>Mammalia</td><td>vicPac2</td><td>His</td><td>FALSE</td><td>1</td><td>9</td></tr>\n",
       "\t<tr><th scope=row>49</th><td>Vertebrata</td><td>anoCar2</td><td>His</td><td>FALSE</td><td>0</td><td>3</td></tr>\n",
       "\t<tr><th scope=row>50</th><td>Vertebrata</td><td>calMil1</td><td>His</td><td>FALSE</td><td>6</td><td>21</td></tr>\n",
       "\t<tr><th scope=row>51</th><td>Vertebrata</td><td>chrPic1</td><td>His</td><td>FALSE</td><td>1</td><td>7</td></tr>\n",
       "\t<tr><th scope=row>52</th><td>Vertebrata</td><td>danRer10</td><td>His</td><td>FALSE</td><td>2</td><td>185</td></tr>\n",
       "\t<tr><th scope=row>53</th><td>Vertebrata</td><td>fr3</td><td>His</td><td>FALSE</td><td>0</td><td>15</td></tr>\n",
       "\t<tr><th scope=row>54</th><td>Vertebrata</td><td>gadMor1</td><td>His</td><td>FALSE</td><td>0</td><td>12</td></tr>\n",
       "\t<tr><th scope=row>55</th><td>Vertebrata</td><td>galGal4</td><td>His</td><td>FALSE</td><td>0</td><td>5</td></tr>\n",
       "\t<tr><th scope=row>56</th><td>Vertebrata</td><td>gasAcu1</td><td>His</td><td>FALSE</td><td>0</td><td>40</td></tr>\n",
       "\t<tr><th scope=row>57</th><td>Vertebrata</td><td>geoFor1</td><td>His</td><td>FALSE</td><td>0</td><td>2</td></tr>\n",
       "\t<tr><th scope=row>58</th><td>Vertebrata</td><td>latCha1</td><td>His</td><td>FALSE</td><td>0</td><td>4</td></tr>\n",
       "\t<tr><th scope=row>59</th><td>Vertebrata</td><td>melGal1</td><td>His</td><td>FALSE</td><td>0</td><td>2</td></tr>\n",
       "\t<tr><th scope=row>60</th><td>Vertebrata</td><td>melUnd1</td><td>His</td><td>FALSE</td><td>0</td><td>2</td></tr>\n",
       "\t<tr><th scope=row>61</th><td>Vertebrata</td><td>oreNil2</td><td>His</td><td>FALSE</td><td>0</td><td>17</td></tr>\n",
       "\t<tr><th scope=row>62</th><td>Vertebrata</td><td>oryLat2</td><td>His</td><td>FALSE</td><td>1</td><td>19</td></tr>\n",
       "\t<tr><th scope=row>63</th><td>Vertebrata</td><td>taeGut2</td><td>His</td><td>FALSE</td><td>0</td><td>5</td></tr>\n",
       "\t<tr><th scope=row>64</th><td>Vertebrata</td><td>tetNig2</td><td>His</td><td>FALSE</td><td>0</td><td>9</td></tr>\n",
       "\t<tr><th scope=row>65</th><td>Vertebrata</td><td>xenTro3</td><td>His</td><td>FALSE</td><td>0</td><td>31</td></tr>\n",
       "</tbody>\n",
       "</table>\n"
      ],
      "text/latex": [
       "\\begin{tabular}{r|llllll}\n",
       "  & clade & species & isotype & status & freq & ntRNAs\\\\\n",
       "\\hline\n",
       "\t1 & Fungi & botrCine_B05_10 & Tyr & FALSE & 0 & 5\\\\\n",
       "\t2 & Fungi & crypGatt_WM276 & Gly & FALSE & 0 & 2\\\\\n",
       "\t3 & Fungi & crypNeof_VAR_GRUBII_H99 & Gly & FALSE & 0 & 2\\\\\n",
       "\t4 & Fungi & crypNeof_VAR_NEOFORMANS_B_3501 & Gly & FALSE & 0 & 2\\\\\n",
       "\t5 & Fungi & crypNeof_VAR_NEOFORMANS_JEC21 & Gly & FALSE & 0 & 2\\\\\n",
       "\t6 & Insecta & dm6 & Glu & FALSE & 6 & 19\\\\\n",
       "\t7 & Insecta & dm6 & His & FALSE & 0 & 5\\\\\n",
       "\t8 & Insecta & dp4 & His & FALSE & 0 & 5\\\\\n",
       "\t9 & Insecta & droSim1 & Glu & FALSE & 3 & 13\\\\\n",
       "\t10 & Insecta & droSim1 & His & FALSE & 1 & 5\\\\\n",
       "\t11 & Insecta & droYak2 & Glu & FALSE & 6 & 20\\\\\n",
       "\t12 & Insecta & droYak2 & His & FALSE & 0 & 5\\\\\n",
       "\t13 & Mammalia & ailMel1 & His & FALSE & 0 & 8\\\\\n",
       "\t14 & Mammalia & balAcu1 & His & FALSE & 0 & 8\\\\\n",
       "\t15 & Mammalia & bosTau8 & His & FALSE & 0 & 15\\\\\n",
       "\t16 & Mammalia & calJac3 & His & FALSE & 0 & 6\\\\\n",
       "\t17 & Mammalia & canFam3 & His & FALSE & 0 & 8\\\\\n",
       "\t18 & Mammalia & cerSim1 & His & FALSE & 0 & 9\\\\\n",
       "\t19 & Mammalia & dasNov3 & His & FALSE & 1 & 9\\\\\n",
       "\t20 & Mammalia & equCab2 & His & FALSE & 0 & 7\\\\\n",
       "\t21 & Mammalia & eriEur2 & His & FALSE & 0 & 5\\\\\n",
       "\t22 & Mammalia & felCat5 & His & FALSE & 0 & 8\\\\\n",
       "\t23 & Mammalia & gorGor3 & His & FALSE & 0 & 7\\\\\n",
       "\t24 & Mammalia & hetGla2 & His & FALSE & 0 & 6\\\\\n",
       "\t25 & Mammalia & hg19 & His & FALSE & 0 & 10\\\\\n",
       "\t26 & Mammalia & macEug2 & His & FALSE & 0 & 6\\\\\n",
       "\t27 & Mammalia & mm10 & His & FALSE & 0 & 10\\\\\n",
       "\t28 & Mammalia & monDom5 & His & FALSE & 0 & 9\\\\\n",
       "\t29 & Mammalia & musFur1 & His & FALSE & 0 & 6\\\\\n",
       "\t30 & Mammalia & nomLeu3 & His & FALSE & 0 & 10\\\\\n",
       "\t31 & Mammalia & ochPri3 & His & FALSE & 0 & 5\\\\\n",
       "\t32 & Mammalia & ornAna1 & His & FALSE & 0 & 6\\\\\n",
       "\t33 & Mammalia & oryCun2 & His & FALSE & 0 & 9\\\\\n",
       "\t34 & Mammalia & otoGar3 & His & FALSE & 0 & 8\\\\\n",
       "\t35 & Mammalia & oviAri3 & His & FALSE & 0 & 11\\\\\n",
       "\t36 & Mammalia & panTro4 & His & FALSE & 1 & 7\\\\\n",
       "\t37 & Mammalia & papAnu2 & His & FALSE & 0 & 10\\\\\n",
       "\t38 & Mammalia & ponAbe2 & His & FALSE & 0 & 9\\\\\n",
       "\t39 & Mammalia & rheMac3 & His & FALSE & 0 & 12\\\\\n",
       "\t40 & Mammalia & rn6 & His & FALSE & 0 & 10\\\\\n",
       "\t41 & Mammalia & saiBol1 & His & FALSE & 0 & 7\\\\\n",
       "\t42 & Mammalia & sorAra2 & His & FALSE & 0 & 7\\\\\n",
       "\t43 & Mammalia & speTri2 & His & FALSE & 0 & 6\\\\\n",
       "\t44 & Mammalia & susScr3 & His & FALSE & 0 & 9\\\\\n",
       "\t45 & Mammalia & tarSyr2 & His & FALSE & 0 & 6\\\\\n",
       "\t46 & Mammalia & triMan1 & His & FALSE & 0 & 9\\\\\n",
       "\t47 & Mammalia & turTru2 & His & FALSE & 0 & 8\\\\\n",
       "\t48 & Mammalia & vicPac2 & His & FALSE & 1 & 9\\\\\n",
       "\t49 & Vertebrata & anoCar2 & His & FALSE & 0 & 3\\\\\n",
       "\t50 & Vertebrata & calMil1 & His & FALSE & 6 & 21\\\\\n",
       "\t51 & Vertebrata & chrPic1 & His & FALSE & 1 & 7\\\\\n",
       "\t52 & Vertebrata & danRer10 & His & FALSE & 2 & 185\\\\\n",
       "\t53 & Vertebrata & fr3 & His & FALSE & 0 & 15\\\\\n",
       "\t54 & Vertebrata & gadMor1 & His & FALSE & 0 & 12\\\\\n",
       "\t55 & Vertebrata & galGal4 & His & FALSE & 0 & 5\\\\\n",
       "\t56 & Vertebrata & gasAcu1 & His & FALSE & 0 & 40\\\\\n",
       "\t57 & Vertebrata & geoFor1 & His & FALSE & 0 & 2\\\\\n",
       "\t58 & Vertebrata & latCha1 & His & FALSE & 0 & 4\\\\\n",
       "\t59 & Vertebrata & melGal1 & His & FALSE & 0 & 2\\\\\n",
       "\t60 & Vertebrata & melUnd1 & His & FALSE & 0 & 2\\\\\n",
       "\t61 & Vertebrata & oreNil2 & His & FALSE & 0 & 17\\\\\n",
       "\t62 & Vertebrata & oryLat2 & His & FALSE & 1 & 19\\\\\n",
       "\t63 & Vertebrata & taeGut2 & His & FALSE & 0 & 5\\\\\n",
       "\t64 & Vertebrata & tetNig2 & His & FALSE & 0 & 9\\\\\n",
       "\t65 & Vertebrata & xenTro3 & His & FALSE & 0 & 31\\\\\n",
       "\\end{tabular}\n"
      ],
      "text/plain": [
       "Source: local data frame [65 x 6]\n",
       "Groups: clade, species [62]\n",
       "\n",
       "     clade                        species isotype status  freq ntRNAs\n",
       "    <fctr>                         <fctr>  <fctr>  <lgl> <int>  <int>\n",
       "1    Fungi                botrCine_B05_10     Tyr  FALSE     0      5\n",
       "2    Fungi                 crypGatt_WM276     Gly  FALSE     0      2\n",
       "3    Fungi        crypNeof_VAR_GRUBII_H99     Gly  FALSE     0      2\n",
       "4    Fungi crypNeof_VAR_NEOFORMANS_B_3501     Gly  FALSE     0      2\n",
       "5    Fungi  crypNeof_VAR_NEOFORMANS_JEC21     Gly  FALSE     0      2\n",
       "6  Insecta                            dm6     Glu  FALSE     6     19\n",
       "7  Insecta                            dm6     His  FALSE     0      5\n",
       "8  Insecta                            dp4     His  FALSE     0      5\n",
       "9  Insecta                        droSim1     Glu  FALSE     3     13\n",
       "10 Insecta                        droSim1     His  FALSE     1      5\n",
       "# ... with 55 more rows"
      ]
     },
     "execution_count": 73,
     "metadata": {},
     "output_type": "execute_result"
    }
   ],
   "source": [
    "## Clade/isotype check\n",
    "best_freqs %>% filter(positions == 'X9') %>% group_by(clade, isotype) %>%\n",
    "  summarize(status=sum((variable %in% c(\"G\", \"A\", \"Purine\"))*count)/sum(count) == 1) %>%\n",
    "  filter(!status)\n",
    "\n",
    "## Species check\n",
    "identities %>% select(clade, species, isotype, X9) %>% group_by(clade, species, isotype) %>%\n",
    "  summarize(status=sum(X9 %in% c(\"G\", \"A\", \"Purine\")/n()) >= 0.5,\n",
    "            freq=sum(X9 %in% c(\"G\", \"A\", \"Purine\")), ntRNAs=n()) %>%\n",
    "  filter(!status)"
   ]
  },
  {
   "cell_type": "markdown",
   "metadata": {},
   "source": [
    "### What's new\n",
    "\n",
    "The 9:12:23 ratios are a bit different. But it shows the same thing: there is some selectivity for what base triples are allowed, but enough tolerance that there are a few interactions that persist.\n",
    "\n",
    "The default hypothesis is that the 9-23 interaction has a conserved interaction type that explains the frequencies shown. We can marginalize as such because 12:23 is always a WC pair. This is not the case - although some (R:R) have a a strong trans WC-Hoogsteen pair of hydrogen bonds, others (C:R) do not. The hoogsteen side of C is just two stable carbons unlikely to hydrogen bond.\n",
    "\n",
    "Examining the frequencies _without_ histidine shows that the C9:U23 is conserved in His, and A9:U23 is conserved in Asp, for some clades. (See tertiary interactions figure).\n",
    "\n",
    "So here's what we know.\n",
    "- 12:23 is almost always WC paired, so we can marginalize it.\n",
    "- 9:23 is thought to be a _trans_ interaction with two hydrogen bonds. It's most commonly a purine:purine.\n",
    "- His and Asp deviate from the common purine:purine interaction in some clades. There are many more (see tertiary interactions figure). \n",
    "\n",
    "**Conclusion 1**: Position 9 was thought to be a purine. Instead, it varies by isotype and clade. Much of the variation can be explained by looking at 9:23 is an clade/isotype discriminating tertiary interaction.\n",
    "\n",
    "We can leave it at that. But we should also look into compensatory interactions if 9:23 is disrupted.\n",
    "\n",
    "#### tRNA covariation frequencies for 9:23, 22:46, and 10:45"
   ]
  },
  {
   "cell_type": "code",
   "execution_count": 126,
   "metadata": {
    "collapsed": false
   },
   "outputs": [],
   "source": [
    "df = table(paste0(identities[identities$quality, ]$X9, ':', identities[identities$quality, ]$X23),\n",
    "           paste0(identities[identities$quality, ]$X46, ':', identities[identities$quality, ]$X22, ' / ', identities[identities$quality, ]$X45, ':', identities[identities$quality, ]$X10),\n",
    "           identities[identities$quality, ]$isotype)"
   ]
  },
  {
   "cell_type": "code",
   "execution_count": 162,
   "metadata": {
    "collapsed": false,
    "scrolled": true
   },
   "outputs": [
    {
     "data": {
      "text/html": [
       "<table>\n",
       "<thead><tr><th></th><th scope=col>Var1</th><th scope=col>Var2</th><th scope=col>Var3</th><th scope=col>Freq</th></tr></thead>\n",
       "<tbody>\n",
       "\t<tr><th scope=row>1</th><td>A:A</td><td>G:G / A:G</td><td>Ala</td><td>116</td></tr>\n",
       "\t<tr><th scope=row>2</th><td>A:A</td><td>G:G / G:G</td><td>Ala</td><td>2589</td></tr>\n",
       "\t<tr><th scope=row>3</th><td>G:A</td><td>G:G / G:G</td><td>Ala</td><td>53</td></tr>\n",
       "\t<tr><th scope=row>4</th><td>G:C</td><td>G:G / G:G</td><td>Ala</td><td>351</td></tr>\n",
       "\t<tr><th scope=row>5</th><td>G:A</td><td>G:U / G:G</td><td>Ala</td><td>147</td></tr>\n",
       "\t<tr><th scope=row>6</th><td>G:C</td><td>G:U / G:G</td><td>Ala</td><td>122</td></tr>\n",
       "\t<tr><th scope=row>7</th><td>G:C</td><td>A:A / G:G</td><td>Arg</td><td>884</td></tr>\n",
       "\t<tr><th scope=row>8</th><td>G:G</td><td>A:A / G:G</td><td>Arg</td><td>1623</td></tr>\n",
       "\t<tr><th scope=row>9</th><td>G:G</td><td>A:C / G:G</td><td>Arg</td><td>91</td></tr>\n",
       "\t<tr><th scope=row>10</th><td>A:A</td><td>G:G / G:G</td><td>Arg</td><td>69</td></tr>\n",
       "\t<tr><th scope=row>11</th><td>A:C</td><td>G:G / G:G</td><td>Arg</td><td>81</td></tr>\n",
       "\t<tr><th scope=row>12</th><td>G:C</td><td>G:G / G:G</td><td>Arg</td><td>687</td></tr>\n",
       "\t<tr><th scope=row>13</th><td>G:G</td><td>A:A / G:G</td><td>Asn</td><td>261</td></tr>\n",
       "\t<tr><th scope=row>14</th><td>A:A</td><td>G:G / G:G</td><td>Asn</td><td>264</td></tr>\n",
       "\t<tr><th scope=row>15</th><td>G:C</td><td>G:G / G:G</td><td>Asn</td><td>1052</td></tr>\n",
       "\t<tr><th scope=row>16</th><td>A:A</td><td>A:G / G:G</td><td>Asp</td><td>349</td></tr>\n",
       "\t<tr><th scope=row>17</th><td>A:U</td><td>A:G / G:G</td><td>Asp</td><td>1463</td></tr>\n",
       "\t<tr><th scope=row>18</th><td>A:A</td><td>G:G / G:G</td><td>Cys</td><td>1674</td></tr>\n",
       "\t<tr><th scope=row>19</th><td>G:C</td><td>G:G / G:G</td><td>Cys</td><td>108</td></tr>\n",
       "\t<tr><th scope=row>20</th><td>G:C</td><td>A:G / A:G</td><td>Gln</td><td>177</td></tr>\n",
       "\t<tr><th scope=row>21</th><td>G:G</td><td>A:G / A:G</td><td>Gln</td><td>113</td></tr>\n",
       "\t<tr><th scope=row>22</th><td>G:C</td><td>A:G / G:G</td><td>Gln</td><td>1027</td></tr>\n",
       "\t<tr><th scope=row>23</th><td>A:C</td><td>A:U / A:G</td><td>Gln</td><td>281</td></tr>\n",
       "\t<tr><th scope=row>24</th><td>A:G</td><td>A:G / G:G</td><td>Glu</td><td>225</td></tr>\n",
       "\t<tr><th scope=row>25</th><td>C:G</td><td>A:G / G:G</td><td>Glu</td><td>142</td></tr>\n",
       "\t<tr><th scope=row>26</th><td>A:C</td><td>A:U / G:G</td><td>Glu</td><td>321</td></tr>\n",
       "\t<tr><th scope=row>27</th><td>G:C</td><td>G:A / -:G</td><td>Glu</td><td>147</td></tr>\n",
       "\t<tr><th scope=row>28</th><td>G:G</td><td>G:G / G:G</td><td>Glu</td><td>1476</td></tr>\n",
       "\t<tr><th scope=row>29</th><td>A:G</td><td>A:G / G:G</td><td>Gly</td><td>152</td></tr>\n",
       "\t<tr><th scope=row>30</th><td>G:A</td><td>A:G / G:G</td><td>Gly</td><td>513</td></tr>\n",
       "\t<tr><th scope=row>31</th><td>G:C</td><td>A:G / G:G</td><td>Gly</td><td>705</td></tr>\n",
       "\t<tr><th scope=row>32</th><td>A:C</td><td>A:U / G:G</td><td>Gly</td><td>84</td></tr>\n",
       "\t<tr><th scope=row>33</th><td>G:C</td><td>A:U / G:G</td><td>Gly</td><td>174</td></tr>\n",
       "\t<tr><th scope=row>34</th><td>G:A</td><td>G:A / -:G</td><td>Gly</td><td>538</td></tr>\n",
       "\t<tr><th scope=row>35</th><td>G:A</td><td>G:G / G:G</td><td>Gly</td><td>904</td></tr>\n",
       "\t<tr><th scope=row>36</th><td>A:U</td><td>A:G / A:G</td><td>His</td><td>140</td></tr>\n",
       "\t<tr><th scope=row>37</th><td>C:U</td><td>A:G / A:G</td><td>His</td><td>636</td></tr>\n",
       "\t<tr><th scope=row>38</th><td>A:A</td><td>A:G / G:G</td><td>His</td><td>137</td></tr>\n",
       "\t<tr><th scope=row>39</th><td>A:U</td><td>A:G / G:G</td><td>His</td><td>132</td></tr>\n",
       "\t<tr><th scope=row>40</th><td>G:G</td><td>A:A / G:G</td><td>Ile</td><td>326</td></tr>\n",
       "\t<tr><th scope=row>41</th><td>A:A</td><td>G:G / G:G</td><td>Ile</td><td>1358</td></tr>\n",
       "\t<tr><th scope=row>42</th><td>G:C</td><td>G:G / G:G</td><td>Ile</td><td>372</td></tr>\n",
       "\t<tr><th scope=row>43</th><td>G:C</td><td>G:G / G:G</td><td>iMet</td><td>1019</td></tr>\n",
       "\t<tr><th scope=row>44</th><td>G:C</td><td>G:G / U:G</td><td>iMet</td><td>111</td></tr>\n",
       "\t<tr><th scope=row>45</th><td>G:G</td><td>A:A / -:G</td><td>Leu</td><td>69</td></tr>\n",
       "\t<tr><th scope=row>46</th><td>G:G</td><td>G:A / -:C</td><td>Leu</td><td>71</td></tr>\n",
       "\t<tr><th scope=row>47</th><td>G:G</td><td>G:A / -:G</td><td>Leu</td><td>2811</td></tr>\n",
       "\t<tr><th scope=row>48</th><td>G:G</td><td>U:U / -:G</td><td>Leu</td><td>62</td></tr>\n",
       "\t<tr><th scope=row>49</th><td>A:A</td><td>G:G / G:G</td><td>Lys</td><td>2505</td></tr>\n",
       "\t<tr><th scope=row>50</th><td>G:A</td><td>G:G / G:G</td><td>Lys</td><td>105</td></tr>\n",
       "\t<tr><th scope=row>51</th><td>G:C</td><td>G:G / G:G</td><td>Lys</td><td>212</td></tr>\n",
       "\t<tr><th scope=row>52</th><td>A:A</td><td>G:G / U:G</td><td>Lys</td><td>359</td></tr>\n",
       "\t<tr><th scope=row>53</th><td>A:A</td><td>G:G / G:G</td><td>Met</td><td>101</td></tr>\n",
       "\t<tr><th scope=row>54</th><td>A:C</td><td>G:G / G:G</td><td>Met</td><td>471</td></tr>\n",
       "\t<tr><th scope=row>55</th><td>G:C</td><td>G:G / G:G</td><td>Met</td><td>422</td></tr>\n",
       "\t<tr><th scope=row>56</th><td>A:A</td><td>G:G / G:G</td><td>Phe</td><td>1389</td></tr>\n",
       "\t<tr><th scope=row>57</th><td>G:A</td><td>G:U / G:G</td><td>Pro</td><td>71</td></tr>\n",
       "\t<tr><th scope=row>58</th><td>G:G</td><td>G:U / G:G</td><td>Pro</td><td>2284</td></tr>\n",
       "\t<tr><th scope=row>59</th><td>G:C</td><td>G:A / -:G</td><td>Ser</td><td>79</td></tr>\n",
       "\t<tr><th scope=row>60</th><td>G:G</td><td>G:A / -:G</td><td>Ser</td><td>2114</td></tr>\n",
       "\t<tr><th scope=row>61</th><td>G:U</td><td>G:A / -:G</td><td>Ser</td><td>64</td></tr>\n",
       "\t<tr><th scope=row>62</th><td>G:G</td><td>G:A / G:G</td><td>Ser</td><td>170</td></tr>\n",
       "\t<tr><th scope=row>63</th><td>G:G</td><td>G:A / -:U</td><td>Ser</td><td>389</td></tr>\n",
       "\t<tr><th scope=row>64</th><td>G:C</td><td>G:U / -:C</td><td>Ser</td><td>156</td></tr>\n",
       "\t<tr><th scope=row>65</th><td>G:A</td><td>A:A / G:G</td><td>Thr</td><td>1100</td></tr>\n",
       "\t<tr><th scope=row>66</th><td>G:G</td><td>A:A / G:G</td><td>Thr</td><td>453</td></tr>\n",
       "\t<tr><th scope=row>67</th><td>A:A</td><td>G:G / G:G</td><td>Thr</td><td>839</td></tr>\n",
       "\t<tr><th scope=row>68</th><td>G:A</td><td>G:G / G:G</td><td>Thr</td><td>206</td></tr>\n",
       "\t<tr><th scope=row>69</th><td>G:A</td><td>G:G / G:G</td><td>Trp</td><td>158</td></tr>\n",
       "\t<tr><th scope=row>70</th><td>G:C</td><td>G:G / G:G</td><td>Trp</td><td>823</td></tr>\n",
       "\t<tr><th scope=row>71</th><td>A:G</td><td>A:A / G:G</td><td>Tyr</td><td>99</td></tr>\n",
       "\t<tr><th scope=row>72</th><td>A:A</td><td>G:G / G:G</td><td>Tyr</td><td>1229</td></tr>\n",
       "\t<tr><th scope=row>73</th><td>G:G</td><td>G:U / C:G</td><td>Val</td><td>341</td></tr>\n",
       "\t<tr><th scope=row>74</th><td>A:C</td><td>G:U / G:G</td><td>Val</td><td>1300</td></tr>\n",
       "\t<tr><th scope=row>75</th><td>G:C</td><td>G:U / G:G</td><td>Val</td><td>810</td></tr>\n",
       "\t<tr><th scope=row>76</th><td>G:G</td><td>G:U / G:G</td><td>Val</td><td>120</td></tr>\n",
       "</tbody>\n",
       "</table>\n"
      ],
      "text/latex": [
       "\\begin{tabular}{r|llll}\n",
       "  & Var1 & Var2 & Var3 & Freq\\\\\n",
       "\\hline\n",
       "\t1 & A:A & G:G / A:G & Ala & 116\\\\\n",
       "\t2 & A:A & G:G / G:G & Ala & 2589\\\\\n",
       "\t3 & G:A & G:G / G:G & Ala & 53\\\\\n",
       "\t4 & G:C & G:G / G:G & Ala & 351\\\\\n",
       "\t5 & G:A & G:U / G:G & Ala & 147\\\\\n",
       "\t6 & G:C & G:U / G:G & Ala & 122\\\\\n",
       "\t7 & G:C & A:A / G:G & Arg & 884\\\\\n",
       "\t8 & G:G & A:A / G:G & Arg & 1623\\\\\n",
       "\t9 & G:G & A:C / G:G & Arg & 91\\\\\n",
       "\t10 & A:A & G:G / G:G & Arg & 69\\\\\n",
       "\t11 & A:C & G:G / G:G & Arg & 81\\\\\n",
       "\t12 & G:C & G:G / G:G & Arg & 687\\\\\n",
       "\t13 & G:G & A:A / G:G & Asn & 261\\\\\n",
       "\t14 & A:A & G:G / G:G & Asn & 264\\\\\n",
       "\t15 & G:C & G:G / G:G & Asn & 1052\\\\\n",
       "\t16 & A:A & A:G / G:G & Asp & 349\\\\\n",
       "\t17 & A:U & A:G / G:G & Asp & 1463\\\\\n",
       "\t18 & A:A & G:G / G:G & Cys & 1674\\\\\n",
       "\t19 & G:C & G:G / G:G & Cys & 108\\\\\n",
       "\t20 & G:C & A:G / A:G & Gln & 177\\\\\n",
       "\t21 & G:G & A:G / A:G & Gln & 113\\\\\n",
       "\t22 & G:C & A:G / G:G & Gln & 1027\\\\\n",
       "\t23 & A:C & A:U / A:G & Gln & 281\\\\\n",
       "\t24 & A:G & A:G / G:G & Glu & 225\\\\\n",
       "\t25 & C:G & A:G / G:G & Glu & 142\\\\\n",
       "\t26 & A:C & A:U / G:G & Glu & 321\\\\\n",
       "\t27 & G:C & G:A / -:G & Glu & 147\\\\\n",
       "\t28 & G:G & G:G / G:G & Glu & 1476\\\\\n",
       "\t29 & A:G & A:G / G:G & Gly & 152\\\\\n",
       "\t30 & G:A & A:G / G:G & Gly & 513\\\\\n",
       "\t31 & G:C & A:G / G:G & Gly & 705\\\\\n",
       "\t32 & A:C & A:U / G:G & Gly & 84\\\\\n",
       "\t33 & G:C & A:U / G:G & Gly & 174\\\\\n",
       "\t34 & G:A & G:A / -:G & Gly & 538\\\\\n",
       "\t35 & G:A & G:G / G:G & Gly & 904\\\\\n",
       "\t36 & A:U & A:G / A:G & His & 140\\\\\n",
       "\t37 & C:U & A:G / A:G & His & 636\\\\\n",
       "\t38 & A:A & A:G / G:G & His & 137\\\\\n",
       "\t39 & A:U & A:G / G:G & His & 132\\\\\n",
       "\t40 & G:G & A:A / G:G & Ile & 326\\\\\n",
       "\t41 & A:A & G:G / G:G & Ile & 1358\\\\\n",
       "\t42 & G:C & G:G / G:G & Ile & 372\\\\\n",
       "\t43 & G:C & G:G / G:G & iMet & 1019\\\\\n",
       "\t44 & G:C & G:G / U:G & iMet & 111\\\\\n",
       "\t45 & G:G & A:A / -:G & Leu & 69\\\\\n",
       "\t46 & G:G & G:A / -:C & Leu & 71\\\\\n",
       "\t47 & G:G & G:A / -:G & Leu & 2811\\\\\n",
       "\t48 & G:G & U:U / -:G & Leu & 62\\\\\n",
       "\t49 & A:A & G:G / G:G & Lys & 2505\\\\\n",
       "\t50 & G:A & G:G / G:G & Lys & 105\\\\\n",
       "\t51 & G:C & G:G / G:G & Lys & 212\\\\\n",
       "\t52 & A:A & G:G / U:G & Lys & 359\\\\\n",
       "\t53 & A:A & G:G / G:G & Met & 101\\\\\n",
       "\t54 & A:C & G:G / G:G & Met & 471\\\\\n",
       "\t55 & G:C & G:G / G:G & Met & 422\\\\\n",
       "\t56 & A:A & G:G / G:G & Phe & 1389\\\\\n",
       "\t57 & G:A & G:U / G:G & Pro & 71\\\\\n",
       "\t58 & G:G & G:U / G:G & Pro & 2284\\\\\n",
       "\t59 & G:C & G:A / -:G & Ser & 79\\\\\n",
       "\t60 & G:G & G:A / -:G & Ser & 2114\\\\\n",
       "\t61 & G:U & G:A / -:G & Ser & 64\\\\\n",
       "\t62 & G:G & G:A / G:G & Ser & 170\\\\\n",
       "\t63 & G:G & G:A / -:U & Ser & 389\\\\\n",
       "\t64 & G:C & G:U / -:C & Ser & 156\\\\\n",
       "\t65 & G:A & A:A / G:G & Thr & 1100\\\\\n",
       "\t66 & G:G & A:A / G:G & Thr & 453\\\\\n",
       "\t67 & A:A & G:G / G:G & Thr & 839\\\\\n",
       "\t68 & G:A & G:G / G:G & Thr & 206\\\\\n",
       "\t69 & G:A & G:G / G:G & Trp & 158\\\\\n",
       "\t70 & G:C & G:G / G:G & Trp & 823\\\\\n",
       "\t71 & A:G & A:A / G:G & Tyr & 99\\\\\n",
       "\t72 & A:A & G:G / G:G & Tyr & 1229\\\\\n",
       "\t73 & G:G & G:U / C:G & Val & 341\\\\\n",
       "\t74 & A:C & G:U / G:G & Val & 1300\\\\\n",
       "\t75 & G:C & G:U / G:G & Val & 810\\\\\n",
       "\t76 & G:G & G:U / G:G & Val & 120\\\\\n",
       "\\end{tabular}\n"
      ],
      "text/plain": [
       "Source: local data frame [76 x 4]\n",
       "Groups: Var3 [21]\n",
       "\n",
       "     Var1      Var2   Var3  Freq\n",
       "   <fctr>    <fctr> <fctr> <int>\n",
       "1     A:A G:G / A:G    Ala   116\n",
       "2     A:A G:G / G:G    Ala  2589\n",
       "3     G:A G:G / G:G    Ala    53\n",
       "4     G:C G:G / G:G    Ala   351\n",
       "5     G:A G:U / G:G    Ala   147\n",
       "6     G:C G:U / G:G    Ala   122\n",
       "7     G:C A:A / G:G    Arg   884\n",
       "8     G:G A:A / G:G    Arg  1623\n",
       "9     G:G A:C / G:G    Arg    91\n",
       "10    A:A G:G / G:G    Arg    69\n",
       "# ... with 66 more rows"
      ]
     },
     "execution_count": 162,
     "metadata": {},
     "output_type": "execute_result"
    }
   ],
   "source": [
    "as.data.frame(df) %>% group_by(Var3) %>% filter(Freq > 50)"
   ]
  },
  {
   "cell_type": "markdown",
   "metadata": {},
   "source": [
    "This is messy. For each isotype there may be a different tertiary interaction compensating for the lack of A:A. It seems that purine:purine interactions are unusually enriched among all three of these except in valine. \n",
    "\n",
    "![classical interaction structure](figures/3d-interactions-oliva.png)\n",
    "\n",
    "#### Average number of purine:purine interactions by isotype and clade"
   ]
  },
  {
   "cell_type": "code",
   "execution_count": 169,
   "metadata": {
    "collapsed": false
   },
   "outputs": [
    {
     "name": "stderr",
     "output_type": "stream",
     "text": [
      "Warning message:\n",
      ": Grouping rowwise data frame strips rowwise nature"
     ]
    },
    {
     "data": {
      "text/html": [
       "<table>\n",
       "<thead><tr><th></th><th scope=col>clade</th><th scope=col>Ala</th><th scope=col>Arg</th><th scope=col>Asn</th><th scope=col>Asp</th><th scope=col>Cys</th><th scope=col>Gln</th><th scope=col>Glu</th><th scope=col>Gly</th><th scope=col>His</th><th scope=col>Ile</th><th scope=col>iMet</th><th scope=col>Leu</th><th scope=col>Lys</th><th scope=col>Met</th><th scope=col>Phe</th><th scope=col>Pro</th><th scope=col>Ser</th><th scope=col>Thr</th><th scope=col>Trp</th><th scope=col>Tyr</th><th scope=col>Val</th></tr></thead>\n",
       "<tbody>\n",
       "\t<tr><th scope=row>1</th><td>Fungi</td><td>2.76</td><td>3.26</td><td>3.72</td><td>3.21</td><td>2.9</td><td>1.37</td><td>1.78</td><td>1.96</td><td>2.84</td><td>3.82</td><td>2.46</td><td>1.92</td><td>3.5</td><td>3.91</td><td>3.91</td><td>2.02</td><td>1.85</td><td>3.91</td><td>3.01</td><td>3.76</td><td>2.22</td></tr>\n",
       "\t<tr><th scope=row>2</th><td>Insecta</td><td>4</td><td>3.44</td><td>3</td><td>2</td><td>4</td><td>2</td><td>3.33</td><td>2.68</td><td>2.05</td><td>3.9</td><td>3</td><td>2</td><td>4</td><td>3</td><td>4</td><td>2</td><td>2</td><td>4</td><td>3</td><td>4</td><td>2</td></tr>\n",
       "\t<tr><th scope=row>3</th><td>Mammalia</td><td>3.98</td><td>3.51</td><td>2.98</td><td>2.04</td><td>3.98</td><td>1.99</td><td>2.98</td><td>2.6</td><td>2.01</td><td>3.68</td><td>3</td><td>2</td><td>3.96</td><td>2.99</td><td>3.96</td><td>2</td><td>2.03</td><td>3.99</td><td>2.99</td><td>4</td><td>2.04</td></tr>\n",
       "\t<tr><th scope=row>4</th><td>Nematoda</td><td>4</td><td>3.48</td><td>2.99</td><td>2</td><td>4</td><td>1.98</td><td>2.83</td><td>2.44</td><td>1.99</td><td>3.83</td><td>3</td><td>1.99</td><td>2.6</td><td>2.99</td><td>3.97</td><td>2</td><td>2</td><td>3.98</td><td>2.97</td><td>3.99</td><td>1.99</td></tr>\n",
       "\t<tr><th scope=row>5</th><td>Spermatophyta</td><td>4</td><td>3.52</td><td>3.87</td><td>2.01</td><td>3.93</td><td>2.5</td><td>3.57</td><td>3.5</td><td>3</td><td>4</td><td>3</td><td>2</td><td>3.01</td><td>3.03</td><td>4</td><td>2</td><td>1.19</td><td>3.74</td><td>3</td><td>4</td><td>2</td></tr>\n",
       "\t<tr><th scope=row>6</th><td>Streptophyta</td><td>3.99</td><td>3.58</td><td>3.77</td><td>2</td><td>3.67</td><td>2.4</td><td>3.45</td><td>3.48</td><td>3</td><td>4</td><td>3</td><td>2</td><td>3</td><td>2.99</td><td>3.99</td><td>2.03</td><td>1.34</td><td>3.79</td><td>3</td><td>3.84</td><td>2</td></tr>\n",
       "\t<tr><th scope=row>7</th><td>Vertebrata</td><td>3.97</td><td>3.42</td><td>2.96</td><td>2</td><td>3.97</td><td>1.99</td><td>2.97</td><td>2.4</td><td>1.99</td><td>3.66</td><td>3</td><td>1.99</td><td>3.97</td><td>2.98</td><td>3.81</td><td>2</td><td>2.04</td><td>3.98</td><td>2.99</td><td>3.97</td><td>1.98</td></tr>\n",
       "</tbody>\n",
       "</table>\n"
      ],
      "text/latex": [
       "\\begin{tabular}{r|llllllllllllllllllllll}\n",
       "  & clade & Ala & Arg & Asn & Asp & Cys & Gln & Glu & Gly & His & Ile & iMet & Leu & Lys & Met & Phe & Pro & Ser & Thr & Trp & Tyr & Val\\\\\n",
       "\\hline\n",
       "\t1 & Fungi & 2.76 & 3.26 & 3.72 & 3.21 & 2.9 & 1.37 & 1.78 & 1.96 & 2.84 & 3.82 & 2.46 & 1.92 & 3.5 & 3.91 & 3.91 & 2.02 & 1.85 & 3.91 & 3.01 & 3.76 & 2.22\\\\\n",
       "\t2 & Insecta & 4 & 3.44 & 3 & 2 & 4 & 2 & 3.33 & 2.68 & 2.05 & 3.9 & 3 & 2 & 4 & 3 & 4 & 2 & 2 & 4 & 3 & 4 & 2\\\\\n",
       "\t3 & Mammalia & 3.98 & 3.51 & 2.98 & 2.04 & 3.98 & 1.99 & 2.98 & 2.6 & 2.01 & 3.68 & 3 & 2 & 3.96 & 2.99 & 3.96 & 2 & 2.03 & 3.99 & 2.99 & 4 & 2.04\\\\\n",
       "\t4 & Nematoda & 4 & 3.48 & 2.99 & 2 & 4 & 1.98 & 2.83 & 2.44 & 1.99 & 3.83 & 3 & 1.99 & 2.6 & 2.99 & 3.97 & 2 & 2 & 3.98 & 2.97 & 3.99 & 1.99\\\\\n",
       "\t5 & Spermatophyta & 4 & 3.52 & 3.87 & 2.01 & 3.93 & 2.5 & 3.57 & 3.5 & 3 & 4 & 3 & 2 & 3.01 & 3.03 & 4 & 2 & 1.19 & 3.74 & 3 & 4 & 2\\\\\n",
       "\t6 & Streptophyta & 3.99 & 3.58 & 3.77 & 2 & 3.67 & 2.4 & 3.45 & 3.48 & 3 & 4 & 3 & 2 & 3 & 2.99 & 3.99 & 2.03 & 1.34 & 3.79 & 3 & 3.84 & 2\\\\\n",
       "\t7 & Vertebrata & 3.97 & 3.42 & 2.96 & 2 & 3.97 & 1.99 & 2.97 & 2.4 & 1.99 & 3.66 & 3 & 1.99 & 3.97 & 2.98 & 3.81 & 2 & 2.04 & 3.98 & 2.99 & 3.97 & 1.98\\\\\n",
       "\\end{tabular}\n"
      ],
      "text/plain": [
       "# A tibble: 7 × 22\n",
       "          clade   Ala   Arg   Asn   Asp   Cys   Gln   Glu   Gly   His   Ile\n",
       "*        <fctr> <dbl> <dbl> <dbl> <dbl> <dbl> <dbl> <dbl> <dbl> <dbl> <dbl>\n",
       "1         Fungi  2.76  3.26  3.72  3.21  2.90  1.37  1.78  1.96  2.84  3.82\n",
       "2       Insecta  4.00  3.44  3.00  2.00  4.00  2.00  3.33  2.68  2.05  3.90\n",
       "3      Mammalia  3.98  3.51  2.98  2.04  3.98  1.99  2.98  2.60  2.01  3.68\n",
       "4      Nematoda  4.00  3.48  2.99  2.00  4.00  1.98  2.83  2.44  1.99  3.83\n",
       "5 Spermatophyta  4.00  3.52  3.87  2.01  3.93  2.50  3.57  3.50  3.00  4.00\n",
       "6  Streptophyta  3.99  3.58  3.77  2.00  3.67  2.40  3.45  3.48  3.00  4.00\n",
       "7    Vertebrata  3.97  3.42  2.96  2.00  3.97  1.99  2.97  2.40  1.99  3.66\n",
       "# ... with 11 more variables: iMet <dbl>, Leu <dbl>, Lys <dbl>, Met <dbl>,\n",
       "#   Phe <dbl>, Pro <dbl>, Ser <dbl>, Thr <dbl>, Trp <dbl>, Tyr <dbl>, Val <dbl>"
      ]
     },
     "execution_count": 169,
     "metadata": {},
     "output_type": "execute_result"
    }
   ],
   "source": [
    "RRs = c(\"A:A\", \"A:G\", \"G:G\", \"G:A\")\n",
    "identities %>% select(isotype, clade, quality, X9.23, X22.46, X10.45, X26.44) %>% \n",
    "  filter(quality) %>%\n",
    "  rowwise() %>% \n",
    "  mutate(nRR=(X9.23 %in% RRs) + (X22.46 %in% RRs) + (X10.45 %in% RRs) + (X26.44 %in% RRs)) %>%\n",
    "  group_by(isotype, clade) %>% \n",
    "  summarize(nRR=signif(mean(nRR), 3)) %>%\n",
    "  spread(isotype, nRR)"
   ]
  },
  {
   "cell_type": "markdown",
   "metadata": {},
   "source": [
    "#### Average number of purine:purine interactions by position/isotype"
   ]
  },
  {
   "cell_type": "code",
   "execution_count": 175,
   "metadata": {
    "collapsed": false
   },
   "outputs": [
    {
     "data": {
      "text/html": [
       "<table>\n",
       "<thead><tr><th></th><th scope=col>position</th><th scope=col>Ala</th><th scope=col>Arg</th><th scope=col>Asn</th><th scope=col>Asp</th><th scope=col>Cys</th><th scope=col>Gln</th><th scope=col>Glu</th><th scope=col>Gly</th><th scope=col>His</th><th scope=col>Ile</th><th scope=col>iMet</th><th scope=col>Leu</th><th scope=col>Lys</th><th scope=col>Met</th><th scope=col>Phe</th><th scope=col>Pro</th><th scope=col>Ser</th><th scope=col>Thr</th><th scope=col>Trp</th><th scope=col>Tyr</th><th scope=col>Val</th></tr></thead>\n",
       "<tbody>\n",
       "\t<tr><th scope=row>1</th><td>X10.45</td><td>1</td><td>1</td><td>1</td><td>1</td><td>1</td><td>1</td><td>0.9</td><td>0.8</td><td>1</td><td>1</td><td>0.9</td><td>0</td><td>0.9</td><td>1</td><td>1</td><td>1</td><td>0.1</td><td>1</td><td>1</td><td>1</td><td>0.9</td></tr>\n",
       "\t<tr><th scope=row>2</th><td>X22.46</td><td>0.9</td><td>1</td><td>1</td><td>1</td><td>1</td><td>0.8</td><td>0.8</td><td>0.9</td><td>1</td><td>1</td><td>1</td><td>1</td><td>1</td><td>1</td><td>1</td><td>0</td><td>0.9</td><td>1</td><td>1</td><td>1</td><td>0</td></tr>\n",
       "\t<tr><th scope=row>3</th><td>X26.44</td><td>1</td><td>1</td><td>1</td><td>0.1</td><td>0.9</td><td>0</td><td>0.3</td><td>0.1</td><td>0.2</td><td>1</td><td>1</td><td>0</td><td>0.8</td><td>1</td><td>1</td><td>0</td><td>0</td><td>1</td><td>0.8</td><td>1</td><td>1</td></tr>\n",
       "\t<tr><th scope=row>4</th><td>X9.23</td><td>0.9</td><td>0.5</td><td>0.3</td><td>0.2</td><td>0.9</td><td>0.1</td><td>0.7</td><td>0.7</td><td>0.2</td><td>0.8</td><td>0</td><td>1</td><td>0.9</td><td>0.2</td><td>1</td><td>1</td><td>0.9</td><td>1</td><td>0.2</td><td>1</td><td>0.2</td></tr>\n",
       "</tbody>\n",
       "</table>\n"
      ],
      "text/latex": [
       "\\begin{tabular}{r|llllllllllllllllllllll}\n",
       "  & position & Ala & Arg & Asn & Asp & Cys & Gln & Glu & Gly & His & Ile & iMet & Leu & Lys & Met & Phe & Pro & Ser & Thr & Trp & Tyr & Val\\\\\n",
       "\\hline\n",
       "\t1 & X10.45 & 1 & 1 & 1 & 1 & 1 & 1 & 0.9 & 0.8 & 1 & 1 & 0.9 & 0 & 0.9 & 1 & 1 & 1 & 0.1 & 1 & 1 & 1 & 0.9\\\\\n",
       "\t2 & X22.46 & 0.9 & 1 & 1 & 1 & 1 & 0.8 & 0.8 & 0.9 & 1 & 1 & 1 & 1 & 1 & 1 & 1 & 0 & 0.9 & 1 & 1 & 1 & 0\\\\\n",
       "\t3 & X26.44 & 1 & 1 & 1 & 0.1 & 0.9 & 0 & 0.3 & 0.1 & 0.2 & 1 & 1 & 0 & 0.8 & 1 & 1 & 0 & 0 & 1 & 0.8 & 1 & 1\\\\\n",
       "\t4 & X9.23 & 0.9 & 0.5 & 0.3 & 0.2 & 0.9 & 0.1 & 0.7 & 0.7 & 0.2 & 0.8 & 0 & 1 & 0.9 & 0.2 & 1 & 1 & 0.9 & 1 & 0.2 & 1 & 0.2\\\\\n",
       "\\end{tabular}\n"
      ],
      "text/plain": [
       "# A tibble: 4 × 22\n",
       "  position   Ala   Arg   Asn   Asp   Cys   Gln   Glu   Gly   His   Ile  iMet\n",
       "*    <chr> <dbl> <dbl> <dbl> <dbl> <dbl> <dbl> <dbl> <dbl> <dbl> <dbl> <dbl>\n",
       "1   X10.45   1.0   1.0   1.0   1.0   1.0   1.0   0.9   0.8   1.0   1.0   0.9\n",
       "2   X22.46   0.9   1.0   1.0   1.0   1.0   0.8   0.8   0.9   1.0   1.0   1.0\n",
       "3   X26.44   1.0   1.0   1.0   0.1   0.9   0.0   0.3   0.1   0.2   1.0   1.0\n",
       "4    X9.23   0.9   0.5   0.3   0.2   0.9   0.1   0.7   0.7   0.2   0.8   0.0\n",
       "# ... with 10 more variables: Leu <dbl>, Lys <dbl>, Met <dbl>, Phe <dbl>,\n",
       "#   Pro <dbl>, Ser <dbl>, Thr <dbl>, Trp <dbl>, Tyr <dbl>, Val <dbl>"
      ]
     },
     "execution_count": 175,
     "metadata": {},
     "output_type": "execute_result"
    }
   ],
   "source": [
    "RRs = c(\"A:A\", \"A:G\", \"G:G\", \"G:A\")\n",
    "identities %>% select(isotype, quality, X9.23, X22.46, X10.45, X26.44) %>% \n",
    "  filter(quality) %>%\n",
    "  rowwise() %>% \n",
    "  mutate(X9.23=X9.23 %in% RRs, X22.46=X22.46 %in% RRs, X10.45=X10.45 %in% RRs, X26.44=X26.44 %in% RRs) %>%\n",
    "  gather(position, RR, X9.23, X22.46, X10.45, X26.44, -isotype, -quality) %>%\n",
    "  group_by(isotype, position) %>%\n",
    "  summarize(RR=round(mean(RR), digits=1)) %>%\n",
    "  spread(isotype, RR)"
   ]
  },
  {
   "cell_type": "markdown",
   "metadata": {},
   "source": [
    "#### Are non-purine-purine interactions enriched for some other type of interaction?"
   ]
  },
  {
   "cell_type": "code",
   "execution_count": 188,
   "metadata": {
    "collapsed": false
   },
   "outputs": [
    {
     "name": "stderr",
     "output_type": "stream",
     "text": [
      "Warning message:\n",
      ": attributes are not identical across measure variables; they will be dropped"
     ]
    },
    {
     "data": {
      "text/html": [
       "<table>\n",
       "<thead><tr><th></th><th scope=col>position</th><th scope=col>A:C</th><th scope=col>A:U</th><th scope=col>C:-</th><th scope=col>C:A</th><th scope=col>C:G</th><th scope=col>C:U</th><th scope=col>G:-</th><th scope=col>G:C</th><th scope=col>G:U</th><th scope=col>U:-</th><th scope=col>U:A</th><th scope=col>U:C</th><th scope=col>U:G</th><th scope=col>U:U</th></tr></thead>\n",
       "<tbody>\n",
       "\t<tr><th scope=row>1</th><td>X10.45</td><td>0</td><td>0</td><td>287</td><td>0</td><td>0</td><td>0</td><td>6213</td><td>455</td><td>572</td><td>399</td><td>0</td><td>0</td><td>55</td><td>0</td></tr>\n",
       "\t<tr><th scope=row>2</th><td>X22.46</td><td>0</td><td>64</td><td>0</td><td>123</td><td>60</td><td>0</td><td>0</td><td>0</td><td>0</td><td>0</td><td>1081</td><td>0</td><td>5728</td><td>70</td></tr>\n",
       "\t<tr><th scope=row>3</th><td>X26.44</td><td>150</td><td>1348</td><td>0</td><td>1131</td><td>461</td><td>94</td><td>0</td><td>660</td><td>6850</td><td>0</td><td>4142</td><td>3415</td><td>420</td><td>644</td></tr>\n",
       "\t<tr><th scope=row>4</th><td>X9.23</td><td>2869</td><td>1872</td><td>0</td><td>0</td><td>176</td><td>642</td><td>0</td><td>9861</td><td>134</td><td>0</td><td>54</td><td>0</td><td>54</td><td>0</td></tr>\n",
       "</tbody>\n",
       "</table>\n"
      ],
      "text/latex": [
       "\\begin{tabular}{r|lllllllllllllll}\n",
       "  & position & A:C & A:U & C:- & C:A & C:G & C:U & G:- & G:C & G:U & U:- & U:A & U:C & U:G & U:U\\\\\n",
       "\\hline\n",
       "\t1 & X10.45 & 0 & 0 & 287 & 0 & 0 & 0 & 6213 & 455 & 572 & 399 & 0 & 0 & 55 & 0\\\\\n",
       "\t2 & X22.46 & 0 & 64 & 0 & 123 & 60 & 0 & 0 & 0 & 0 & 0 & 1081 & 0 & 5728 & 70\\\\\n",
       "\t3 & X26.44 & 150 & 1348 & 0 & 1131 & 461 & 94 & 0 & 660 & 6850 & 0 & 4142 & 3415 & 420 & 644\\\\\n",
       "\t4 & X9.23 & 2869 & 1872 & 0 & 0 & 176 & 642 & 0 & 9861 & 134 & 0 & 54 & 0 & 54 & 0\\\\\n",
       "\\end{tabular}\n"
      ],
      "text/plain": [
       "Source: local data frame [4 x 15]\n",
       "Groups: position [4]\n",
       "\n",
       "  position `A:C` `A:U` `C:-` `C:A` `C:G` `C:U` `G:-` `G:C` `G:U` `U:-` `U:A`\n",
       "*    <chr> <dbl> <dbl> <dbl> <dbl> <dbl> <dbl> <dbl> <dbl> <dbl> <dbl> <dbl>\n",
       "1   X10.45     0     0   287     0     0     0  6213   455   572   399     0\n",
       "2   X22.46     0    64     0   123    60     0     0     0     0     0  1081\n",
       "3   X26.44   150  1348     0  1131   461    94     0   660  6850     0  4142\n",
       "4    X9.23  2869  1872     0     0   176   642     0  9861   134     0    54\n",
       "# ... with 3 more variables: `U:C` <dbl>, `U:G` <dbl>, `U:U` <dbl>"
      ]
     },
     "execution_count": 188,
     "metadata": {},
     "output_type": "execute_result"
    }
   ],
   "source": [
    "identities %>% select(isotype, quality, X9.23, X22.46, X10.45, X26.44) %>% \n",
    "  filter(quality) %>%\n",
    "  gather(position, identity, X9.23, X22.46, X10.45, X26.44, -isotype, -quality) %>%\n",
    "  filter(!(identity %in% RRs)) %>%\n",
    "  group_by(position, identity) %>%\n",
    "  summarize(count=n()) %>%\n",
    "  filter(count > 50) %>%\n",
    "  spread(identity, count, fill=0)\n"
   ]
  },
  {
   "cell_type": "markdown",
   "metadata": {},
   "source": [
    "**Conclusion 2**: Tertiary interactions within this \"tRNA core region\" along the D stem are enriched in purine-purine interactions, though the extent varies by isotype and position. Meanwhile, the interactions that are _not_ purine-purine are also isotype, position, and clade-specific."
   ]
  },
  {
   "cell_type": "code",
   "execution_count": null,
   "metadata": {
    "collapsed": true
   },
   "outputs": [],
   "source": []
  }
 ],
 "metadata": {
  "anaconda-cloud": {},
  "kernelspec": {
   "display_name": "R",
   "language": "R",
   "name": "ir"
  },
  "language_info": {
   "codemirror_mode": "r",
   "file_extension": ".r",
   "mimetype": "text/x-r-source",
   "name": "R",
   "pygments_lexer": "r",
   "version": "3.2.2"
  }
 },
 "nbformat": 4,
 "nbformat_minor": 0
}
