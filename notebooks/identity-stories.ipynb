{
 "cells": [
  {
   "cell_type": "code",
   "execution_count": 4,
   "metadata": {},
   "outputs": [],
   "source": [
    "library(ggplot2)\n",
    "library(reshape2)\n",
    "library(RColorBrewer)\n",
    "suppressMessages(library(dplyr))\n",
    "library(stringr)\n",
    "suppressMessages(library(tidyr))\n",
    "theme_set(theme_bw())\n",
    "library(scales)\n",
    "library(IRdisplay)\n",
    "library(knitr)\n",
    "options(repr.plot.width = 7, repr.plot.height = 4)\n",
    "isotypes = c('Ala', 'Arg', 'Asn', 'Asp', 'Cys', 'Gln', 'Glu', 'Gly', 'His', 'Ile', 'iMet', 'Leu', 'Lys', 'Met', 'Phe', 'Pro', 'Ser', 'Thr', 'Trp', 'Tyr', 'Val')\n",
    "single_positions = c('X8'='8', 'X9'='9', 'X14'='14', 'X15'='15', 'X16'='16', 'X17'='17', 'X17a'='17a', 'X17b'='17b', 'X18'='18', 'X19'='19', 'X20'='20', 'X20a'='20a', 'X20b'='20b', 'X21'='21', 'X26'='26', 'X32'='32', 'X33'='33', 'X34'='34', 'X35'='35', 'X36'='36', 'X37'='37', 'X38'='38', 'X44'='44', 'X45'='45', 'X46'='46', 'X47'='47', 'X48'='48', 'X54'='54', 'X55'='55', 'X56'='56', 'X57'='57', 'X58'='58', 'X59'='59', 'X60'='60', 'X73'='73')\n",
    "paired_positions = c('X1.72'='1:72', 'X2.71'='2:71', 'X3.70'='3:70', 'X4.69'='4:69', 'X5.68'='5:68', 'X6.67'='6:67', 'X7.66'='7:66', 'X8.14'='*8:14', 'X10.25'='10:25', 'X11.24'='11:24', 'X12.23'='12:23', 'X13.22'='13:22', 'X15.48'='*15:48','X18.55'='*18:55', 'X19.56'='*19:56', 'X27.43'='27:43', 'X28.42'='28:42', 'X29.41'='29:41', 'X30.40'='30:40', 'X31.39'='31:39', 'X49.65'='49:65', 'X50.64'='50:64', 'X51.63'='51:63', 'X52.62'='52:62', 'X53.61'='53:61', 'X54.58'='*54:58')\n",
    "fills = c('A'='#ffd92f', 'C'='#4daf4a', 'G'='#e41a1c', 'U'='#377eb8', 'A:U'='#93da69', 'U:A'='#93da69', 'G:C'='#c1764a', 'C:G'='#c1764a', 'G:U'='#b26cbd', 'U:G'='#b26cbd', '-'='gray60', '-:-'='gray60')\n",
    "suppressWarnings(suppressMessages(library(Biostrings)))\n",
    "options(knitr.table.format = 'html')"
   ]
  },
  {
   "cell_type": "code",
   "execution_count": 5,
   "metadata": {
    "collapsed": true
   },
   "outputs": [],
   "source": [
    "paired_positions = c('X1.72'='1:72', 'X2.71'='2:71', 'X3.70'='3:70', 'X4.69'='4:69', 'X5.68'='5:68', 'X6.67'='6:67', 'X7.66'='7:66', 'X8.14'='*8:14', 'X10.25'='10:25', 'X11.24'='11:24', 'X12.23'='12:23', 'X13.22'='13:22', 'X15.48'='*15:48','X18.55'='*18:55', 'X19.56'='*19:56', 'X27.43'='27:43', 'X28.42'='28:42', 'X29.41'='29:41', 'X30.40'='30:40', 'X31.39'='31:39', 'X49.65'='49:65', 'X50.64'='50:64', 'X51.63'='51:63', 'X52.62'='52:62', 'X53.61'='53:61', 'X54.58'='*54:58')"
   ]
  },
  {
   "cell_type": "code",
   "execution_count": 6,
   "metadata": {
    "collapsed": true
   },
   "outputs": [],
   "source": [
    "load('best-freqs.RData')\n",
    "load('clade-isotype-specific.RData')\n",
    "load('isotype-specific.RData')\n",
    "load('consensus-IDEs.RData')\n",
    "load('clade-isotype-freqs.RData')"
   ]
  },
  {
   "cell_type": "code",
   "execution_count": 8,
   "metadata": {},
   "outputs": [],
   "source": [
    "identities = read.delim('identities-071917.tsv', sep='\\t')\n",
    "identities_all = identities\n",
    "identities$quality = as.logical(identities$quality)\n",
    "identities$restrict = as.logical(identities$restrict)\n",
    "identities = identities %>% filter(isotype %in% isotypes)"
   ]
  },
  {
   "cell_type": "code",
   "execution_count": 9,
   "metadata": {},
   "outputs": [],
   "source": [
    "genome_table = read.delim('genomes-061517.tsv', sep='\\t', stringsAsFactors=FALSE, header=FALSE, col.names=c(\"species\", \"species_long\", \"domain\", \"clade\", \"taxid\"))"
   ]
  },
  {
   "cell_type": "markdown",
   "metadata": {},
   "source": [
    "# Introduction\n",
    "\n",
    "Previous analysis in `euk-tRNAs` and `isotype-clade-specific` focused on processing and dicing the data with appropriate assumptions. Now, we move on to the meat of this project. For **new identity stories**, I'll employ a few strategies to find interesting stories in a systematic way. Some of these will have been covered in `first-pass-consensus`.\n",
    "\n",
    "1. Find rejected universal sequence features. Set a cutoff at 95% presence, but fails (a) isotype check, (b) clade check, or (c) species check. Spin in previous work, if any. Bonus points if previous work _conflicts_ with our frequencies. I will select one of each for inclusion in the paper.\n",
    "    \n",
    "2. Find rejected isotype-specific sequence features. Slightly different from (1a) above, since this could apply to highly isotype-specific positions (e.g. N73). For the paper, find one example (choose between species or clade checks).\n",
    "\n",
    "Per Todd's advice, I'll take a look at a few in each category."
   ]
  },
  {
   "cell_type": "code",
   "execution_count": 11,
   "metadata": {},
   "outputs": [
    {
     "data": {
      "text/html": [
       "82677"
      ],
      "text/latex": [
       "82677"
      ],
      "text/markdown": [
       "82677"
      ],
      "text/plain": [
       "[1] 82677"
      ]
     },
     "metadata": {},
     "output_type": "display_data"
    },
    {
     "data": {
      "text/html": [
       "82691"
      ],
      "text/latex": [
       "82691"
      ],
      "text/markdown": [
       "82691"
      ],
      "text/plain": [
       "[1] 82691"
      ]
     },
     "metadata": {},
     "output_type": "display_data"
    }
   ],
   "source": [
    "# No. tRNAs we're looking at\n",
    "identities %>% nrow\n",
    "identities_all %>% nrow"
   ]
  },
  {
   "cell_type": "markdown",
   "metadata": {},
   "source": [
    "## 31:39"
   ]
  },
  {
   "cell_type": "code",
   "execution_count": 13,
   "metadata": {
    "scrolled": true
   },
   "outputs": [
    {
     "data": {
      "text/html": [
       "<table>\n",
       "<thead><tr><th></th><th scope=col>X31.39</th><th scope=col>n</th></tr></thead>\n",
       "<tbody>\n",
       "\t<tr><th scope=row>1</th><td>A:U</td><td>110</td></tr>\n",
       "\t<tr><th scope=row>2</th><td>C:G</td><td>1  </td></tr>\n",
       "\t<tr><th scope=row>3</th><td>G:C</td><td>16 </td></tr>\n",
       "\t<tr><th scope=row>4</th><td>U:A</td><td>3  </td></tr>\n",
       "</tbody>\n",
       "</table>\n"
      ],
      "text/latex": [
       "\\begin{tabular}{r|ll}\n",
       "  & X31.39 & n\\\\\n",
       "\\hline\n",
       "\t1 & A:U & 110\\\\\n",
       "\t2 & C:G & 1  \\\\\n",
       "\t3 & G:C & 16 \\\\\n",
       "\t4 & U:A & 3  \\\\\n",
       "\\end{tabular}\n"
      ],
      "text/plain": [
       "  X31.39   n\n",
       "1    A:U 110\n",
       "2    C:G   1\n",
       "3    G:C  16\n",
       "4    U:A   3"
      ]
     },
     "metadata": {},
     "output_type": "display_data"
    }
   ],
   "source": [
    "identities %>% filter(!restrict, clade == \"Fungi\", isotype == \"Tyr\") %>% count(X31.39)"
   ]
  },
  {
   "cell_type": "code",
   "execution_count": 15,
   "metadata": {},
   "outputs": [
    {
     "data": {
      "text/html": [
       "<table>\n",
       "<thead><tr><th></th><th scope=col>species</th><th scope=col>A:U</th><th scope=col>C:G</th><th scope=col>G:C</th><th scope=col>U:A</th></tr></thead>\n",
       "<tbody>\n",
       "\t<tr><th scope=row>1</th><td>aspeFumi_AF293</td><td>0             </td><td>0             </td><td>1             </td><td>0             </td></tr>\n",
       "\t<tr><th scope=row>2</th><td>fusaVert_7600</td><td>0            </td><td>0            </td><td>4            </td><td>0            </td></tr>\n",
       "\t<tr><th scope=row>3</th><td>myceTher_ATCC42464</td><td>0                 </td><td>0                 </td><td>1                 </td><td>0                 </td></tr>\n",
       "\t<tr><th scope=row>4</th><td>neurCras_OR74A</td><td>0             </td><td>0             </td><td>3             </td><td>0             </td></tr>\n",
       "\t<tr><th scope=row>5</th><td>schiPomb_972H</td><td>0            </td><td>0            </td><td>2            </td><td>0            </td></tr>\n",
       "\t<tr><th scope=row>6</th><td>sporReil_SRZ2</td><td>0            </td><td>0            </td><td>0            </td><td>2            </td></tr>\n",
       "\t<tr><th scope=row>7</th><td>thieTerr_NRRL_8126</td><td>0                 </td><td>0                 </td><td>1                 </td><td>0                 </td></tr>\n",
       "\t<tr><th scope=row>8</th><td>ustiMayd_521</td><td>0           </td><td>0           </td><td>0           </td><td>1           </td></tr>\n",
       "</tbody>\n",
       "</table>\n"
      ],
      "text/latex": [
       "\\begin{tabular}{r|lllll}\n",
       "  & species & A:U & C:G & G:C & U:A\\\\\n",
       "\\hline\n",
       "\t1 & aspeFumi\\_AF293 & 0                & 0                & 1                & 0               \\\\\n",
       "\t2 & fusaVert\\_7600 & 0               & 0               & 4               & 0              \\\\\n",
       "\t3 & myceTher\\_ATCC42464 & 0                    & 0                    & 1                    & 0                   \\\\\n",
       "\t4 & neurCras\\_OR74A & 0                & 0                & 3                & 0               \\\\\n",
       "\t5 & schiPomb\\_972H & 0               & 0               & 2               & 0              \\\\\n",
       "\t6 & sporReil\\_SRZ2 & 0               & 0               & 0               & 2              \\\\\n",
       "\t7 & thieTerr\\_NRRL\\_8126 & 0                      & 0                      & 1                      & 0                     \\\\\n",
       "\t8 & ustiMayd\\_521 & 0              & 0              & 0              & 1             \\\\\n",
       "\\end{tabular}\n"
      ],
      "text/plain": [
       "             species A:U C:G G:C U:A\n",
       "1     aspeFumi_AF293   0   0   1   0\n",
       "2      fusaVert_7600   0   0   4   0\n",
       "3 myceTher_ATCC42464   0   0   1   0\n",
       "4     neurCras_OR74A   0   0   3   0\n",
       "5      schiPomb_972H   0   0   2   0\n",
       "6      sporReil_SRZ2   0   0   0   2\n",
       "7 thieTerr_NRRL_8126   0   0   1   0\n",
       "8       ustiMayd_521   0   0   0   1"
      ]
     },
     "metadata": {},
     "output_type": "display_data"
    }
   ],
   "source": [
    "identities %>% filter(!restrict, clade == \"Fungi\", isotype == \"Tyr\") %>% count(X31.39, species) %>%\n",
    "  spread(X31.39, n, 0) %>% filter(`A:U` == 0)"
   ]
  },
  {
   "cell_type": "markdown",
   "metadata": {},
   "source": [
    "# Strategy 1: Universal features\n",
    "\n",
    "### Find targets"
   ]
  },
  {
   "cell_type": "code",
   "execution_count": 7,
   "metadata": {},
   "outputs": [],
   "source": [
    "code_groups = c('A'=1, 'C'=1, 'G'=1, 'U'=1, 'Absent'=1, \n",
    "                'Purine'=2, 'Pyrimidine'=2,\n",
    "                'Weak'=3, 'Strong'=3, 'Amino'=3, 'Keto'=3,\n",
    "                'B'=4, 'D'=4, 'H'=4, 'V'=4,\n",
    "                'GC'=1, 'AU'=1, 'UA'=1, 'CG'=1, 'GU'=1, 'UG'=1,\n",
    "                'StrongPair'=2, 'WeakPair'=2, 'Wobble'=2,\n",
    "                'PurinePyrimidine'=3, 'PyrimidinePurine'=3, 'AminoKeto'=3, 'KetoAmino'=3,\n",
    "                'Paired'=4, 'Mismatched'=4, 'Bulge'=4)\n",
    "\n",
    "cutoff_freqs = data.frame()\n",
    "for (cutoff in c(0.5, 0.6, 0.7, 0.8, 0.9, 0.95, 0.99, 1.0)) {\n",
    "  df = clade_iso_freqs %>%\n",
    "    group_by(positions, feature) %>%\n",
    "    summarize(count = sum(n), freq = sum(n)/sum(clade_iso_pos_total)) %>%\n",
    "    filter(freq >= cutoff) %>%\n",
    "    mutate(cutoff = as.character(cutoff)) %>%\n",
    "    select(positions, feature, freq, cutoff) %>%\n",
    "    group_by(positions) %>%\n",
    "    arrange(code_groups[feature], desc(freq)) %>%\n",
    "    filter(row_number(positions) == 1)\n",
    "  if (nrow(cutoff_freqs) == 0) cutoff_freqs = df\n",
    "  else cutoff_freqs = rbind(cutoff_freqs, df)\n",
    "}"
   ]
  },
  {
   "cell_type": "code",
   "execution_count": 8,
   "metadata": {},
   "outputs": [
    {
     "data": {
      "text/html": [
       "<table>\n",
       "<thead><tr><th></th><th scope=col>positions</th><th scope=col>0.5</th><th scope=col>0.6</th><th scope=col>0.7</th><th scope=col>0.8</th><th scope=col>0.9</th><th scope=col>0.95</th><th scope=col>0.99</th><th scope=col>Consensus</th></tr></thead>\n",
       "<tbody>\n",
       "\t<tr><th scope=row>1</th><td>X1.72     </td><td>GC        </td><td>GC        </td><td>GC        </td><td>StrongPair</td><td>Paired    </td><td>Paired    </td><td>NA        </td><td>NA        </td></tr>\n",
       "\t<tr><th scope=row>2</th><td>X10.25</td><td>GC    </td><td>GC    </td><td>GC    </td><td>Paired</td><td>Paired</td><td>Paired</td><td>Paired</td><td>Paired</td></tr>\n",
       "\t<tr><th scope=row>3</th><td>X11.24          </td><td>CG              </td><td>CG              </td><td>PyrimidinePurine</td><td>PyrimidinePurine</td><td>PyrimidinePurine</td><td>PyrimidinePurine</td><td>Paired          </td><td>Paired          </td></tr>\n",
       "\t<tr><th scope=row>4</th><td>X12.23          </td><td>StrongPair      </td><td>PyrimidinePurine</td><td>Paired          </td><td>Paired          </td><td>Paired          </td><td>Paired          </td><td>NA              </td><td>NA              </td></tr>\n",
       "\t<tr><th scope=row>5</th><td>X13.22          </td><td>PyrimidinePurine</td><td>Paired          </td><td>NA              </td><td>NA              </td><td>NA              </td><td>NA              </td><td>NA              </td><td>NA              </td></tr>\n",
       "\t<tr><th scope=row>6</th><td>X14</td><td>A  </td><td>A  </td><td>A  </td><td>A  </td><td>A  </td><td>A  </td><td>A  </td><td>A  </td></tr>\n",
       "\t<tr><th scope=row>7</th><td>X15   </td><td>G     </td><td>G     </td><td>G     </td><td>Purine</td><td>Purine</td><td>Purine</td><td>NA    </td><td>NA    </td></tr>\n",
       "\t<tr><th scope=row>8</th><td>X15.48          </td><td>GC              </td><td>GC              </td><td>GC              </td><td>PurinePyrimidine</td><td>PurinePyrimidine</td><td>Paired          </td><td>NA              </td><td>NA              </td></tr>\n",
       "\t<tr><th scope=row>9</th><td>X16       </td><td>U         </td><td>U         </td><td>U         </td><td>Pyrimidine</td><td>Pyrimidine</td><td>B         </td><td>NA        </td><td>NA        </td></tr>\n",
       "\t<tr><th scope=row>10</th><td>X17   </td><td>Absent</td><td>Absent</td><td>NA    </td><td>NA    </td><td>NA    </td><td>NA    </td><td>NA    </td><td>NA    </td></tr>\n",
       "\t<tr><th scope=row>11</th><td>X17a  </td><td>Absent</td><td>Absent</td><td>Absent</td><td>Absent</td><td>Absent</td><td>Absent</td><td>Absent</td><td>NA    </td></tr>\n",
       "\t<tr><th scope=row>12</th><td>X18   </td><td>G     </td><td>G     </td><td>G     </td><td>G     </td><td>G     </td><td>G     </td><td>G     </td><td>Purine</td></tr>\n",
       "\t<tr><th scope=row>13</th><td>X18.55</td><td>GU    </td><td>GU    </td><td>GU    </td><td>GU    </td><td>GU    </td><td>GU    </td><td>Paired</td><td>Paired</td></tr>\n",
       "\t<tr><th scope=row>14</th><td>X19</td><td>G  </td><td>G  </td><td>G  </td><td>G  </td><td>G  </td><td>G  </td><td>G  </td><td>G  </td></tr>\n",
       "\t<tr><th scope=row>15</th><td>X19.56</td><td>GC    </td><td>GC    </td><td>GC    </td><td>GC    </td><td>GC    </td><td>GC    </td><td>Paired</td><td>Paired</td></tr>\n",
       "\t<tr><th scope=row>16</th><td>X2.71     </td><td>StrongPair</td><td>StrongPair</td><td>Paired    </td><td>Paired    </td><td>Paired    </td><td>Paired    </td><td>NA        </td><td>Paired    </td></tr>\n",
       "\t<tr><th scope=row>17</th><td>X20</td><td>U  </td><td>U  </td><td>U  </td><td>U  </td><td>H  </td><td>NA </td><td>NA </td><td>NA </td></tr>\n",
       "\t<tr><th scope=row>18</th><td>X20a      </td><td>Pyrimidine</td><td>NA        </td><td>NA        </td><td>NA        </td><td>NA        </td><td>NA        </td><td>NA        </td><td>NA        </td></tr>\n",
       "\t<tr><th scope=row>19</th><td>X20b  </td><td>Absent</td><td>Absent</td><td>Absent</td><td>Absent</td><td>Absent</td><td>NA    </td><td>NA    </td><td>NA    </td></tr>\n",
       "\t<tr><th scope=row>20</th><td>X21</td><td>A  </td><td>A  </td><td>A  </td><td>A  </td><td>A  </td><td>A  </td><td>A  </td><td>NA </td></tr>\n",
       "\t<tr><th scope=row>21</th><td>X26   </td><td>G     </td><td>G     </td><td>Purine</td><td>Purine</td><td>D     </td><td>D     </td><td>NA    </td><td>NA    </td></tr>\n",
       "\t<tr><th scope=row>22</th><td>X27.43          </td><td>PyrimidinePurine</td><td>PyrimidinePurine</td><td>PyrimidinePurine</td><td>Paired          </td><td>Paired          </td><td>Paired          </td><td>NA              </td><td>NA              </td></tr>\n",
       "\t<tr><th scope=row>23</th><td>X28.42          </td><td>WeakPair        </td><td>PyrimidinePurine</td><td>PyrimidinePurine</td><td>Paired          </td><td>Paired          </td><td>Paired          </td><td>NA              </td><td>NA              </td></tr>\n",
       "\t<tr><th scope=row>24</th><td>X29.41    </td><td>StrongPair</td><td>Paired    </td><td>Paired    </td><td>Paired    </td><td>Paired    </td><td>Paired    </td><td>NA        </td><td>Paired    </td></tr>\n",
       "\t<tr><th scope=row>25</th><td>X3.70     </td><td>CG        </td><td>StrongPair</td><td>Paired    </td><td>Paired    </td><td>Paired    </td><td>Paired    </td><td>NA        </td><td>NA        </td></tr>\n",
       "\t<tr><th scope=row>26</th><td>X30.40    </td><td>GC        </td><td>GC        </td><td>GC        </td><td>StrongPair</td><td>Paired    </td><td>Paired    </td><td>NA        </td><td>NA        </td></tr>\n",
       "\t<tr><th scope=row>27</th><td>X31.39          </td><td>WeakPair        </td><td>PurinePyrimidine</td><td>Paired          </td><td>Paired          </td><td>Paired          </td><td>Paired          </td><td>NA              </td><td>NA              </td></tr>\n",
       "\t<tr><th scope=row>28</th><td>X32       </td><td>C         </td><td>C         </td><td>C         </td><td>Pyrimidine</td><td>Pyrimidine</td><td>Pyrimidine</td><td>NA        </td><td>Pyrimidine</td></tr>\n",
       "\t<tr><th scope=row>29</th><td>X33       </td><td>U         </td><td>U         </td><td>U         </td><td>U         </td><td>U         </td><td>U         </td><td>Pyrimidine</td><td>Pyrimidine</td></tr>\n",
       "\t<tr><th scope=row>30</th><td>X34       </td><td>Pyrimidine</td><td>B         </td><td>B         </td><td>B         </td><td>NA        </td><td>NA        </td><td>NA        </td><td>NA        </td></tr>\n",
       "\t<tr><th scope=row>31</th><td>X35 </td><td>Weak</td><td>D   </td><td>D   </td><td>NA  </td><td>NA  </td><td>NA  </td><td>NA  </td><td>NA  </td></tr>\n",
       "\t<tr><th scope=row>32</th><td>X36       </td><td>Pyrimidine</td><td>H         </td><td>H         </td><td>H         </td><td>NA        </td><td>NA        </td><td>NA        </td><td>NA        </td></tr>\n",
       "\t<tr><th scope=row>33</th><td>X37   </td><td>A     </td><td>A     </td><td>Purine</td><td>Purine</td><td>Purine</td><td>Purine</td><td>Purine</td><td>Purine</td></tr>\n",
       "\t<tr><th scope=row>34</th><td>X38  </td><td>A    </td><td>A    </td><td>Amino</td><td>Amino</td><td>H    </td><td>H    </td><td>NA   </td><td>H    </td></tr>\n",
       "\t<tr><th scope=row>35</th><td>X4.69     </td><td>StrongPair</td><td>Paired    </td><td>Paired    </td><td>Paired    </td><td>Paired    </td><td>Paired    </td><td>NA        </td><td>NA        </td></tr>\n",
       "\t<tr><th scope=row>36</th><td>X44 </td><td>A   </td><td>A   </td><td>Weak</td><td>Weak</td><td>D   </td><td>NA  </td><td>NA  </td><td>NA  </td></tr>\n",
       "\t<tr><th scope=row>37</th><td>X45   </td><td>G     </td><td>G     </td><td>G     </td><td>Purine</td><td>NA    </td><td>NA    </td><td>NA    </td><td>NA    </td></tr>\n",
       "\t<tr><th scope=row>38</th><td>X46   </td><td>G     </td><td>G     </td><td>G     </td><td>Purine</td><td>Purine</td><td>Purine</td><td>NA    </td><td>NA    </td></tr>\n",
       "\t<tr><th scope=row>39</th><td>X47       </td><td>U         </td><td>Pyrimidine</td><td>NA        </td><td>NA        </td><td>NA        </td><td>NA        </td><td>NA        </td><td>NA        </td></tr>\n",
       "\t<tr><th scope=row>40</th><td>X48       </td><td>C         </td><td>C         </td><td>C         </td><td>Pyrimidine</td><td>Pyrimidine</td><td>Pyrimidine</td><td>NA        </td><td>H         </td></tr>\n",
       "\t<tr><th scope=row>41</th><td>X49.65    </td><td>StrongPair</td><td>StrongPair</td><td>StrongPair</td><td>StrongPair</td><td>Paired    </td><td>Paired    </td><td>NA        </td><td>Paired    </td></tr>\n",
       "\t<tr><th scope=row>42</th><td>X5.68     </td><td>StrongPair</td><td>Paired    </td><td>Paired    </td><td>Paired    </td><td>Paired    </td><td>Paired    </td><td>NA        </td><td>NA        </td></tr>\n",
       "\t<tr><th scope=row>43</th><td>X50.64          </td><td>StrongPair      </td><td>PyrimidinePurine</td><td>PyrimidinePurine</td><td>Paired          </td><td>Paired          </td><td>Paired          </td><td>NA              </td><td>NA              </td></tr>\n",
       "\t<tr><th scope=row>44</th><td>X51.63    </td><td>GC        </td><td>GC        </td><td>StrongPair</td><td>Paired    </td><td>Paired    </td><td>Paired    </td><td>NA        </td><td>NA        </td></tr>\n",
       "\t<tr><th scope=row>45</th><td>X52.62          </td><td>GC              </td><td>GC              </td><td>GC              </td><td>PurinePyrimidine</td><td>PurinePyrimidine</td><td>Paired          </td><td>NA              </td><td>NA              </td></tr>\n",
       "\t<tr><th scope=row>46</th><td>X53.61</td><td>GC    </td><td>GC    </td><td>GC    </td><td>GC    </td><td>GC    </td><td>GC    </td><td>Paired</td><td>Paired</td></tr>\n",
       "\t<tr><th scope=row>47</th><td>X54 </td><td>U   </td><td>U   </td><td>U   </td><td>U   </td><td>U   </td><td>U   </td><td>Weak</td><td>H   </td></tr>\n",
       "\t<tr><th scope=row>48</th><td>X54.58</td><td>UA    </td><td>UA    </td><td>UA    </td><td>UA    </td><td>UA    </td><td>UA    </td><td>NA    </td><td>NA    </td></tr>\n",
       "\t<tr><th scope=row>49</th><td>X55       </td><td>U         </td><td>U         </td><td>U         </td><td>U         </td><td>U         </td><td>U         </td><td>U         </td><td>Pyrimidine</td></tr>\n",
       "\t<tr><th scope=row>50</th><td>X56</td><td>C  </td><td>C  </td><td>C  </td><td>C  </td><td>C  </td><td>C  </td><td>NA </td><td>C  </td></tr>\n",
       "\t<tr><th scope=row>51</th><td>X57   </td><td>G     </td><td>G     </td><td>Purine</td><td>Purine</td><td>Purine</td><td>Purine</td><td>Purine</td><td>Purine</td></tr>\n",
       "\t<tr><th scope=row>52</th><td>X58 </td><td>A   </td><td>A   </td><td>A   </td><td>A   </td><td>A   </td><td>A   </td><td>Weak</td><td>D   </td></tr>\n",
       "\t<tr><th scope=row>53</th><td>X59   </td><td>Purine</td><td>Weak  </td><td>Weak  </td><td>D     </td><td>D     </td><td>NA    </td><td>NA    </td><td>NA    </td></tr>\n",
       "\t<tr><th scope=row>54</th><td>X6.67 </td><td>Paired</td><td>Paired</td><td>Paired</td><td>Paired</td><td>Paired</td><td>Paired</td><td>NA    </td><td>NA    </td></tr>\n",
       "\t<tr><th scope=row>55</th><td>X60       </td><td>U         </td><td>U         </td><td>Pyrimidine</td><td>Pyrimidine</td><td>Pyrimidine</td><td>H         </td><td>NA        </td><td>NA        </td></tr>\n",
       "\t<tr><th scope=row>56</th><td>X7.66           </td><td>PurinePyrimidine</td><td>PurinePyrimidine</td><td>PurinePyrimidine</td><td>Paired          </td><td>Paired          </td><td>Paired          </td><td>NA              </td><td>NA              </td></tr>\n",
       "\t<tr><th scope=row>57</th><td>X73   </td><td>A     </td><td>Purine</td><td>Purine</td><td>D     </td><td>D     </td><td>NA    </td><td>NA    </td><td>NA    </td></tr>\n",
       "\t<tr><th scope=row>58</th><td>X8  </td><td>U   </td><td>U   </td><td>U   </td><td>U   </td><td>U   </td><td>U   </td><td>U   </td><td>Weak</td></tr>\n",
       "\t<tr><th scope=row>59</th><td>X8.14</td><td>UA   </td><td>UA   </td><td>UA   </td><td>UA   </td><td>UA   </td><td>UA   </td><td>UA   </td><td>NA   </td></tr>\n",
       "\t<tr><th scope=row>60</th><td>X9    </td><td>G     </td><td>Purine</td><td>Purine</td><td>Purine</td><td>Purine</td><td>Purine</td><td>NA    </td><td>NA    </td></tr>\n",
       "</tbody>\n",
       "</table>\n"
      ],
      "text/latex": [
       "\\begin{tabular}{r|lllllllll}\n",
       "  & positions & 0.5 & 0.6 & 0.7 & 0.8 & 0.9 & 0.95 & 0.99 & Consensus\\\\\n",
       "\\hline\n",
       "\t1 & X1.72      & GC         & GC         & GC         & StrongPair & Paired     & Paired     & NA         & NA        \\\\\n",
       "\t2 & X10.25 & GC     & GC     & GC     & Paired & Paired & Paired & Paired & Paired\\\\\n",
       "\t3 & X11.24           & CG               & CG               & PyrimidinePurine & PyrimidinePurine & PyrimidinePurine & PyrimidinePurine & Paired           & Paired          \\\\\n",
       "\t4 & X12.23           & StrongPair       & PyrimidinePurine & Paired           & Paired           & Paired           & Paired           & NA               & NA              \\\\\n",
       "\t5 & X13.22           & PyrimidinePurine & Paired           & NA               & NA               & NA               & NA               & NA               & NA              \\\\\n",
       "\t6 & X14 & A   & A   & A   & A   & A   & A   & A   & A  \\\\\n",
       "\t7 & X15    & G      & G      & G      & Purine & Purine & Purine & NA     & NA    \\\\\n",
       "\t8 & X15.48           & GC               & GC               & GC               & PurinePyrimidine & PurinePyrimidine & Paired           & NA               & NA              \\\\\n",
       "\t9 & X16        & U          & U          & U          & Pyrimidine & Pyrimidine & B          & NA         & NA        \\\\\n",
       "\t10 & X17    & Absent & Absent & NA     & NA     & NA     & NA     & NA     & NA    \\\\\n",
       "\t11 & X17a   & Absent & Absent & Absent & Absent & Absent & Absent & Absent & NA    \\\\\n",
       "\t12 & X18    & G      & G      & G      & G      & G      & G      & G      & Purine\\\\\n",
       "\t13 & X18.55 & GU     & GU     & GU     & GU     & GU     & GU     & Paired & Paired\\\\\n",
       "\t14 & X19 & G   & G   & G   & G   & G   & G   & G   & G  \\\\\n",
       "\t15 & X19.56 & GC     & GC     & GC     & GC     & GC     & GC     & Paired & Paired\\\\\n",
       "\t16 & X2.71      & StrongPair & StrongPair & Paired     & Paired     & Paired     & Paired     & NA         & Paired    \\\\\n",
       "\t17 & X20 & U   & U   & U   & U   & H   & NA  & NA  & NA \\\\\n",
       "\t18 & X20a       & Pyrimidine & NA         & NA         & NA         & NA         & NA         & NA         & NA        \\\\\n",
       "\t19 & X20b   & Absent & Absent & Absent & Absent & Absent & NA     & NA     & NA    \\\\\n",
       "\t20 & X21 & A   & A   & A   & A   & A   & A   & A   & NA \\\\\n",
       "\t21 & X26    & G      & G      & Purine & Purine & D      & D      & NA     & NA    \\\\\n",
       "\t22 & X27.43           & PyrimidinePurine & PyrimidinePurine & PyrimidinePurine & Paired           & Paired           & Paired           & NA               & NA              \\\\\n",
       "\t23 & X28.42           & WeakPair         & PyrimidinePurine & PyrimidinePurine & Paired           & Paired           & Paired           & NA               & NA              \\\\\n",
       "\t24 & X29.41     & StrongPair & Paired     & Paired     & Paired     & Paired     & Paired     & NA         & Paired    \\\\\n",
       "\t25 & X3.70      & CG         & StrongPair & Paired     & Paired     & Paired     & Paired     & NA         & NA        \\\\\n",
       "\t26 & X30.40     & GC         & GC         & GC         & StrongPair & Paired     & Paired     & NA         & NA        \\\\\n",
       "\t27 & X31.39           & WeakPair         & PurinePyrimidine & Paired           & Paired           & Paired           & Paired           & NA               & NA              \\\\\n",
       "\t28 & X32        & C          & C          & C          & Pyrimidine & Pyrimidine & Pyrimidine & NA         & Pyrimidine\\\\\n",
       "\t29 & X33        & U          & U          & U          & U          & U          & U          & Pyrimidine & Pyrimidine\\\\\n",
       "\t30 & X34        & Pyrimidine & B          & B          & B          & NA         & NA         & NA         & NA        \\\\\n",
       "\t31 & X35  & Weak & D    & D    & NA   & NA   & NA   & NA   & NA  \\\\\n",
       "\t32 & X36        & Pyrimidine & H          & H          & H          & NA         & NA         & NA         & NA        \\\\\n",
       "\t33 & X37    & A      & A      & Purine & Purine & Purine & Purine & Purine & Purine\\\\\n",
       "\t34 & X38   & A     & A     & Amino & Amino & H     & H     & NA    & H    \\\\\n",
       "\t35 & X4.69      & StrongPair & Paired     & Paired     & Paired     & Paired     & Paired     & NA         & NA        \\\\\n",
       "\t36 & X44  & A    & A    & Weak & Weak & D    & NA   & NA   & NA  \\\\\n",
       "\t37 & X45    & G      & G      & G      & Purine & NA     & NA     & NA     & NA    \\\\\n",
       "\t38 & X46    & G      & G      & G      & Purine & Purine & Purine & NA     & NA    \\\\\n",
       "\t39 & X47        & U          & Pyrimidine & NA         & NA         & NA         & NA         & NA         & NA        \\\\\n",
       "\t40 & X48        & C          & C          & C          & Pyrimidine & Pyrimidine & Pyrimidine & NA         & H         \\\\\n",
       "\t41 & X49.65     & StrongPair & StrongPair & StrongPair & StrongPair & Paired     & Paired     & NA         & Paired    \\\\\n",
       "\t42 & X5.68      & StrongPair & Paired     & Paired     & Paired     & Paired     & Paired     & NA         & NA        \\\\\n",
       "\t43 & X50.64           & StrongPair       & PyrimidinePurine & PyrimidinePurine & Paired           & Paired           & Paired           & NA               & NA              \\\\\n",
       "\t44 & X51.63     & GC         & GC         & StrongPair & Paired     & Paired     & Paired     & NA         & NA        \\\\\n",
       "\t45 & X52.62           & GC               & GC               & GC               & PurinePyrimidine & PurinePyrimidine & Paired           & NA               & NA              \\\\\n",
       "\t46 & X53.61 & GC     & GC     & GC     & GC     & GC     & GC     & Paired & Paired\\\\\n",
       "\t47 & X54  & U    & U    & U    & U    & U    & U    & Weak & H   \\\\\n",
       "\t48 & X54.58 & UA     & UA     & UA     & UA     & UA     & UA     & NA     & NA    \\\\\n",
       "\t49 & X55        & U          & U          & U          & U          & U          & U          & U          & Pyrimidine\\\\\n",
       "\t50 & X56 & C   & C   & C   & C   & C   & C   & NA  & C  \\\\\n",
       "\t51 & X57    & G      & G      & Purine & Purine & Purine & Purine & Purine & Purine\\\\\n",
       "\t52 & X58  & A    & A    & A    & A    & A    & A    & Weak & D   \\\\\n",
       "\t53 & X59    & Purine & Weak   & Weak   & D      & D      & NA     & NA     & NA    \\\\\n",
       "\t54 & X6.67  & Paired & Paired & Paired & Paired & Paired & Paired & NA     & NA    \\\\\n",
       "\t55 & X60        & U          & U          & Pyrimidine & Pyrimidine & Pyrimidine & H          & NA         & NA        \\\\\n",
       "\t56 & X7.66            & PurinePyrimidine & PurinePyrimidine & PurinePyrimidine & Paired           & Paired           & Paired           & NA               & NA              \\\\\n",
       "\t57 & X73    & A      & Purine & Purine & D      & D      & NA     & NA     & NA    \\\\\n",
       "\t58 & X8   & U    & U    & U    & U    & U    & U    & U    & Weak\\\\\n",
       "\t59 & X8.14 & UA    & UA    & UA    & UA    & UA    & UA    & UA    & NA   \\\\\n",
       "\t60 & X9     & G      & Purine & Purine & Purine & Purine & Purine & NA     & NA    \\\\\n",
       "\\end{tabular}\n"
      ],
      "text/plain": [
       "   positions              0.5              0.6              0.7\n",
       "1      X1.72               GC               GC               GC\n",
       "2     X10.25               GC               GC               GC\n",
       "3     X11.24               CG               CG PyrimidinePurine\n",
       "4     X12.23       StrongPair PyrimidinePurine           Paired\n",
       "5     X13.22 PyrimidinePurine           Paired             <NA>\n",
       "6        X14                A                A                A\n",
       "7        X15                G                G                G\n",
       "8     X15.48               GC               GC               GC\n",
       "9        X16                U                U                U\n",
       "10       X17           Absent           Absent             <NA>\n",
       "11      X17a           Absent           Absent           Absent\n",
       "12       X18                G                G                G\n",
       "13    X18.55               GU               GU               GU\n",
       "14       X19                G                G                G\n",
       "15    X19.56               GC               GC               GC\n",
       "16     X2.71       StrongPair       StrongPair           Paired\n",
       "17       X20                U                U                U\n",
       "18      X20a       Pyrimidine             <NA>             <NA>\n",
       "19      X20b           Absent           Absent           Absent\n",
       "20       X21                A                A                A\n",
       "21       X26                G                G           Purine\n",
       "22    X27.43 PyrimidinePurine PyrimidinePurine PyrimidinePurine\n",
       "23    X28.42         WeakPair PyrimidinePurine PyrimidinePurine\n",
       "24    X29.41       StrongPair           Paired           Paired\n",
       "25     X3.70               CG       StrongPair           Paired\n",
       "26    X30.40               GC               GC               GC\n",
       "27    X31.39         WeakPair PurinePyrimidine           Paired\n",
       "28       X32                C                C                C\n",
       "29       X33                U                U                U\n",
       "30       X34       Pyrimidine                B                B\n",
       "31       X35             Weak                D                D\n",
       "32       X36       Pyrimidine                H                H\n",
       "33       X37                A                A           Purine\n",
       "34       X38                A                A            Amino\n",
       "35     X4.69       StrongPair           Paired           Paired\n",
       "36       X44                A                A             Weak\n",
       "37       X45                G                G                G\n",
       "38       X46                G                G                G\n",
       "39       X47                U       Pyrimidine             <NA>\n",
       "40       X48                C                C                C\n",
       "41    X49.65       StrongPair       StrongPair       StrongPair\n",
       "42     X5.68       StrongPair           Paired           Paired\n",
       "43    X50.64       StrongPair PyrimidinePurine PyrimidinePurine\n",
       "44    X51.63               GC               GC       StrongPair\n",
       "45    X52.62               GC               GC               GC\n",
       "46    X53.61               GC               GC               GC\n",
       "47       X54                U                U                U\n",
       "48    X54.58               UA               UA               UA\n",
       "49       X55                U                U                U\n",
       "50       X56                C                C                C\n",
       "51       X57                G                G           Purine\n",
       "52       X58                A                A                A\n",
       "53       X59           Purine             Weak             Weak\n",
       "54     X6.67           Paired           Paired           Paired\n",
       "55       X60                U                U       Pyrimidine\n",
       "56     X7.66 PurinePyrimidine PurinePyrimidine PurinePyrimidine\n",
       "57       X73                A           Purine           Purine\n",
       "58        X8                U                U                U\n",
       "59     X8.14               UA               UA               UA\n",
       "60        X9                G           Purine           Purine\n",
       "                0.8              0.9             0.95       0.99  Consensus\n",
       "1        StrongPair           Paired           Paired       <NA>       <NA>\n",
       "2            Paired           Paired           Paired     Paired     Paired\n",
       "3  PyrimidinePurine PyrimidinePurine PyrimidinePurine     Paired     Paired\n",
       "4            Paired           Paired           Paired       <NA>       <NA>\n",
       "5              <NA>             <NA>             <NA>       <NA>       <NA>\n",
       "6                 A                A                A          A          A\n",
       "7            Purine           Purine           Purine       <NA>       <NA>\n",
       "8  PurinePyrimidine PurinePyrimidine           Paired       <NA>       <NA>\n",
       "9        Pyrimidine       Pyrimidine                B       <NA>       <NA>\n",
       "10             <NA>             <NA>             <NA>       <NA>       <NA>\n",
       "11           Absent           Absent           Absent     Absent       <NA>\n",
       "12                G                G                G          G     Purine\n",
       "13               GU               GU               GU     Paired     Paired\n",
       "14                G                G                G          G          G\n",
       "15               GC               GC               GC     Paired     Paired\n",
       "16           Paired           Paired           Paired       <NA>     Paired\n",
       "17                U                H             <NA>       <NA>       <NA>\n",
       "18             <NA>             <NA>             <NA>       <NA>       <NA>\n",
       "19           Absent           Absent             <NA>       <NA>       <NA>\n",
       "20                A                A                A          A       <NA>\n",
       "21           Purine                D                D       <NA>       <NA>\n",
       "22           Paired           Paired           Paired       <NA>       <NA>\n",
       "23           Paired           Paired           Paired       <NA>       <NA>\n",
       "24           Paired           Paired           Paired       <NA>     Paired\n",
       "25           Paired           Paired           Paired       <NA>       <NA>\n",
       "26       StrongPair           Paired           Paired       <NA>       <NA>\n",
       "27           Paired           Paired           Paired       <NA>       <NA>\n",
       "28       Pyrimidine       Pyrimidine       Pyrimidine       <NA> Pyrimidine\n",
       "29                U                U                U Pyrimidine Pyrimidine\n",
       "30                B             <NA>             <NA>       <NA>       <NA>\n",
       "31             <NA>             <NA>             <NA>       <NA>       <NA>\n",
       "32                H             <NA>             <NA>       <NA>       <NA>\n",
       "33           Purine           Purine           Purine     Purine     Purine\n",
       "34            Amino                H                H       <NA>          H\n",
       "35           Paired           Paired           Paired       <NA>       <NA>\n",
       "36             Weak                D             <NA>       <NA>       <NA>\n",
       "37           Purine             <NA>             <NA>       <NA>       <NA>\n",
       "38           Purine           Purine           Purine       <NA>       <NA>\n",
       "39             <NA>             <NA>             <NA>       <NA>       <NA>\n",
       "40       Pyrimidine       Pyrimidine       Pyrimidine       <NA>          H\n",
       "41       StrongPair           Paired           Paired       <NA>     Paired\n",
       "42           Paired           Paired           Paired       <NA>       <NA>\n",
       "43           Paired           Paired           Paired       <NA>       <NA>\n",
       "44           Paired           Paired           Paired       <NA>       <NA>\n",
       "45 PurinePyrimidine PurinePyrimidine           Paired       <NA>       <NA>\n",
       "46               GC               GC               GC     Paired     Paired\n",
       "47                U                U                U       Weak          H\n",
       "48               UA               UA               UA       <NA>       <NA>\n",
       "49                U                U                U          U Pyrimidine\n",
       "50                C                C                C       <NA>          C\n",
       "51           Purine           Purine           Purine     Purine     Purine\n",
       "52                A                A                A       Weak          D\n",
       "53                D                D             <NA>       <NA>       <NA>\n",
       "54           Paired           Paired           Paired       <NA>       <NA>\n",
       "55       Pyrimidine       Pyrimidine                H       <NA>       <NA>\n",
       "56           Paired           Paired           Paired       <NA>       <NA>\n",
       "57                D                D             <NA>       <NA>       <NA>\n",
       "58                U                U                U          U       Weak\n",
       "59               UA               UA               UA         UA       <NA>\n",
       "60           Purine           Purine           Purine       <NA>       <NA>"
      ]
     },
     "metadata": {},
     "output_type": "display_data"
    }
   ],
   "source": [
    "df = cutoff_freqs %>% \n",
    "  mutate(feature = as.character(feature)) %>%\n",
    "  bind_rows(consensus %>% mutate(feature = identity, freq = 0.9, cutoff = \"Consensus\") %>% select(positions, feature, freq, cutoff)) %>%\n",
    "  filter(positions %in% c(names(single_positions), names(paired_positions))) %>%\n",
    "  select(positions, cutoff, feature) %>%\n",
    "  group_by(positions) %>%\n",
    "  spread(cutoff, feature)\n",
    "\n",
    "df"
   ]
  },
  {
   "cell_type": "markdown",
   "metadata": {},
   "source": [
    "For strategy 1A, some good candidates here: \n",
    "- R9 (95%)\n",
    "- Y11:R24 (99%)\n",
    "- G18, U55, and G18:U55 (99%)\n",
    "- G19:C56 (99%)\n",
    "- A21 and A14/A21 (99%)\n",
    "- U33 (99%)\n",
    "- R37 (99%)\n",
    "- R46 (99%)\n",
    "- G53:C61 (99%)\n",
    "- U54:A58 (99%)\n",
    "- U55 (99%)\n",
    "- R57 (99%)\n",
    "- Y60 (90%)"
   ]
  },
  {
   "cell_type": "markdown",
   "metadata": {},
   "source": [
    "### R9 and R46"
   ]
  },
  {
   "cell_type": "markdown",
   "metadata": {
    "collapsed": true
   },
   "source": [
    "#### What's known\n",
    "\n",
    "- Marck and Grosjean have a purine for iMet and no consensus for elongator, though they are mostly R or V. R9 is also conserved in initiators for archaea/bacteria.\n",
    "- 9-12-23 is a tertiary interaction. [Gautheret et al. (1995)](http://dx.doi.org/10.1006/jmbi.1995.0200) has these frequencies from the Sprinzl 1991 database: ![9-12-23 frequency matrix](figures/9-12-23-gautheret.png)"
   ]
  },
  {
   "cell_type": "markdown",
   "metadata": {},
   "source": [
    "- Position 9 is known to be modified with m$^1$G (along with 37) in a wide range of eukaryotes. \n",
    "\n",
    "#### Our data\n",
    "\n",
    "- Here's our frequencies:"
   ]
  },
  {
   "cell_type": "code",
   "execution_count": 9,
   "metadata": {
    "scrolled": false
   },
   "outputs": [
    {
     "data": {
      "text/plain": [
       "     \n",
       "         -    A    C    G    U\n",
       "  -:A    0    1    0    0    0\n",
       "  -:G    0    0    0    1    0\n",
       "  A:A    0    9    1   11    0\n",
       "  A:C    0   36    2  255    0\n",
       "  A:G    0    8    1   18    0\n",
       "  A:U    0  707  229   78    7\n",
       "  C:-    0    0    0    4    0\n",
       "  C:A    0   16    0  116    2\n",
       "  C:C    0    1    0    6    0\n",
       "  C:G    0  382  125 8011   70\n",
       "  C:U    0    0    0    8    0\n",
       "  G:A    0    5    0    7    0\n",
       "  G:C    1 1883   10 5070    7\n",
       "  G:G    0    2    0   14    0\n",
       "  G:N    0    0    0    1    0\n",
       "  G:U    0   24    2   52    0\n",
       "  U:A    5 8402   14 2179   47\n",
       "  U:C    0    7    0    7    0\n",
       "  U:G    0   43    0  103    1\n",
       "  U:U    0    8    1    2    0"
      ]
     },
     "metadata": {},
     "output_type": "display_data"
    }
   ],
   "source": [
    "table(paste0(identities$X12, ':', identities$X23), identities$X9)"
   ]
  },
  {
   "cell_type": "markdown",
   "metadata": {},
   "source": [
    "**Which isotypes/clades/species fail the consensus checks?**"
   ]
  },
  {
   "cell_type": "code",
   "execution_count": 10,
   "metadata": {
    "scrolled": true
   },
   "outputs": [
    {
     "ename": "ERROR",
     "evalue": "Error in eval(expr, envir, enclos): non-numeric argument to binary operator\n",
     "output_type": "error",
     "traceback": [
      "Error in eval(expr, envir, enclos): non-numeric argument to binary operator\nTraceback:\n",
      "1. best_freqs %>% filter(positions == \"X9\") %>% group_by(clade, \n .     isotype) %>% summarize(status = sum((feature %in% c(\"G\", \n .     \"A\", \"Purine\")) * count)/sum(count) == 1) %>% filter(!status)",
      "2. withVisible(eval(quote(`_fseq`(`_lhs`)), env, env))",
      "3. eval(quote(`_fseq`(`_lhs`)), env, env)",
      "4. eval(expr, envir, enclos)",
      "5. `_fseq`(`_lhs`)",
      "6. freduce(value, `_function_list`)",
      "7. function_list[[i]](value)",
      "8. summarize(., status = sum((feature %in% c(\"G\", \"A\", \"Purine\")) * \n .     count)/sum(count) == 1)",
      "9. summarise_(.data, .dots = lazyeval::lazy_dots(...))",
      "10. summarise_.tbl_df(.data, .dots = lazyeval::lazy_dots(...))",
      "11. summarise_impl(.data, dots)"
     ]
    }
   ],
   "source": [
    "## Clade/isotype check\n",
    "best_freqs %>% filter(positions == 'X9') %>% group_by(clade, isotype) %>%\n",
    "  summarize(status=sum((feature %in% c(\"G\", \"A\", \"Purine\"))*count)/sum(count) == 1) %>%\n",
    "  filter(!status)\n",
    "\n",
    "## Species check\n",
    "identities %>% select(clade, species, isotype, X9) %>% group_by(clade, species, isotype) %>%\n",
    "  summarize(status=sum(X9 %in% c(\"G\", \"A\", \"Purine\")/n()) >= 0.1,\n",
    "            freq=sum(X9 %in% c(\"G\", \"A\", \"Purine\")), ntRNAs=n()) %>%\n",
    "  filter(!status)"
   ]
  },
  {
   "cell_type": "markdown",
   "metadata": {},
   "source": [
    "#### What's new\n",
    "\n",
    "The 9:12:23 ratios are a bit different. But it shows the same thing: there is some selectivity for what base triples are allowed, but enough tolerance that there are a few interactions that persist.\n",
    "\n",
    "The default hypothesis is that the 9-23 interaction has a conserved interaction type that explains the frequencies shown. We can marginalize as such because 12:23 is always a WC pair. This is not the case - although some (R:R) have a a strong trans WC-Hoogsteen pair of hydrogen bonds, others (C:R) do not. The hoogsteen side of C is just two stable carbons unlikely to hydrogen bond.\n",
    "\n",
    "Examining the frequencies _without_ histidine shows that the C9:U23 is conserved in His, and A9:U23 is conserved in Asp, for some clades. (See tertiary interactions figure)."
   ]
  },
  {
   "cell_type": "code",
   "execution_count": null,
   "metadata": {},
   "outputs": [],
   "source": [
    "table(identities$X9, identities$X23)"
   ]
  },
  {
   "cell_type": "markdown",
   "metadata": {},
   "source": [
    "So here's what we know.\n",
    "- 12:23 is almost always WC paired, so we can marginalize it.\n",
    "- 9 is typically a purine, though there are isotype- and clade-specific exceptions. For example, His and Asp deviate in 4 clades.\n",
    "    - In the His case, C and U can interact via the 2-carbonyl [amino pairing](http://www.columbuslabs.org/wp-content/uploads/2008/03/basepairs.pdf).\n",
    "- 9:23 is thought to be a _trans_ interaction with two hydrogen bonds.\n",
    "\n",
    "**Conclusion 1**: Position 9 was thought to be a purine. Instead, it varies by isotype and clade. Much of the variation from R9 can be explained by looking at 9:23 as an clade/isotype discriminating tertiary interaction.\n",
    "\n",
    "We can leave it at that. But we should also look into compensatory interactions if 9:23 is disrupted.\n",
    "\n",
    "### Covariation for core D stem 3d pairs\n",
    "\n",
    "#### tRNA covariation frequencies for 9:23, 22:46, and 10:45"
   ]
  },
  {
   "cell_type": "code",
   "execution_count": null,
   "metadata": {},
   "outputs": [],
   "source": [
    "df = table(paste0(identities$X9, ':', identities$X23),\n",
    "           paste0(identities$X46, ':', identities$X22, ' / ', identities$X45, ':', identities$X10),\n",
    "           identities$isotype)"
   ]
  },
  {
   "cell_type": "code",
   "execution_count": null,
   "metadata": {
    "scrolled": true
   },
   "outputs": [],
   "source": [
    "as.data.frame(df) %>% group_by(Var3) %>% filter(Freq > 50)"
   ]
  },
  {
   "cell_type": "markdown",
   "metadata": {},
   "source": [
    "This is messy. For each isotype there may be a different tertiary interaction compensating for the lack of A:A. It seems that purine:purine interactions are unusually enriched among all three of these except in valine. \n",
    "\n",
    "![classical interaction structure](figures/3d-interactions-oliva.png)\n",
    "\n",
    "#### Average number of purine:purine interactions by isotype and clade"
   ]
  },
  {
   "cell_type": "code",
   "execution_count": null,
   "metadata": {},
   "outputs": [],
   "source": [
    "RRs = c(\"A:A\", \"A:G\", \"G:G\", \"G:A\")\n",
    "identities %>% select(isotype, clade, X9.23, X22.46, X10.45, X26.44) %>% \n",
    "  rowwise() %>% \n",
    "  mutate(nRR=(X9.23 %in% RRs) + (X22.46 %in% RRs) + (X10.45 %in% RRs) + (X26.44 %in% RRs)) %>%\n",
    "  group_by(isotype, clade) %>% \n",
    "  summarize(nRR=signif(mean(nRR), 3)) %>%\n",
    "  spread(isotype, nRR)"
   ]
  },
  {
   "cell_type": "markdown",
   "metadata": {},
   "source": [
    "#### Average number of purine:purine interactions by position/isotype"
   ]
  },
  {
   "cell_type": "code",
   "execution_count": null,
   "metadata": {},
   "outputs": [],
   "source": [
    "RRs = c(\"A:A\", \"A:G\", \"G:G\", \"G:A\")\n",
    "identities %>% select(isotype, X9.23, X22.46, X10.45, X26.44) %>% \n",
    "  rowwise() %>% \n",
    "  mutate(X9.23=X9.23 %in% RRs, X22.46=X22.46 %in% RRs, X10.45=X10.45 %in% RRs, X26.44=X26.44 %in% RRs) %>%\n",
    "  gather(position, RR, X9.23, X22.46, X10.45, X26.44, -isotype) %>%\n",
    "  group_by(isotype, position) %>%\n",
    "  summarize(RR=round(mean(RR), digits=1)) %>%\n",
    "  spread(isotype, RR)"
   ]
  },
  {
   "cell_type": "markdown",
   "metadata": {},
   "source": [
    "#### Average number of interactions containing a purine by position/isotype"
   ]
  },
  {
   "cell_type": "code",
   "execution_count": null,
   "metadata": {},
   "outputs": [],
   "source": [
    "RRs = c(\"A:A\", \"A:G\", \"G:G\", \"G:A\", \"G:C\", \"C:G\", \"A:C\", \"C:A\", \"U:G\", \"G:U\", \"A:U\", \"U:A\")\n",
    "identities %>% select(isotype, X9.23, X22.46, X10.45, X26.44) %>% \n",
    "  rowwise() %>% \n",
    "  mutate(X9.23=X9.23 %in% RRs, X22.46=X22.46 %in% RRs, X10.45=X10.45 %in% RRs, X26.44=X26.44 %in% RRs) %>%\n",
    "  gather(position, RR, X9.23, X22.46, X10.45, X26.44, -isotype) %>%\n",
    "  group_by(isotype, position) %>%\n",
    "  summarize(RR=round(mean(RR), digits=1)) %>%\n",
    "  spread(isotype, RR)"
   ]
  },
  {
   "cell_type": "markdown",
   "metadata": {},
   "source": [
    "#### Are non-purine-containing interactions enriched for some other type of interaction?"
   ]
  },
  {
   "cell_type": "code",
   "execution_count": null,
   "metadata": {},
   "outputs": [],
   "source": [
    "identities %>% select(isotype, X9.23, X22.46, X10.45, X26.44) %>% \n",
    "  gather(position, identity, X9.23, X22.46, X10.45, X26.44, -isotype) %>%\n",
    "  filter(!(identity %in% c(RRs, \"G:-\", \"A:-\"))) %>%\n",
    "  group_by(position, isotype, identity) %>%\n",
    "  summarize(count=n()) %>%\n",
    "  filter(count > 20) %>%\n",
    "  spread(identity, count, fill=0)"
   ]
  },
  {
   "cell_type": "markdown",
   "metadata": {},
   "source": [
    "They are not - but they are isotype-specific.\n",
    "\n",
    "**Summary**: Tertiary interactions within this \"tRNA core region\" along the D stem are enriched in purines and purine-purine interactions, though the extent varies by isotype and position. Exceptions are isotype-specific.\n",
    "\n",
    "### G18, U55, and G18:U55\n",
    "\n",
    "#### Number of tRNAs without G18:U55"
   ]
  },
  {
   "cell_type": "code",
   "execution_count": 8,
   "metadata": {},
   "outputs": [
    {
     "data": {
      "text/html": [
       "1451"
      ],
      "text/latex": [
       "1451"
      ],
      "text/markdown": [
       "1451"
      ],
      "text/plain": [
       "[1] 1451"
      ]
     },
     "metadata": {},
     "output_type": "display_data"
    }
   ],
   "source": [
    "identities %>% select(clade, species, X18, X55, X18.55) %>%\n",
    "  filter(X18.55 != \"G:U\") %>% nrow()"
   ]
  },
  {
   "cell_type": "markdown",
   "metadata": {},
   "source": [
    "#### Which isotypes/clades/species fail the consensus checks?"
   ]
  },
  {
   "cell_type": "code",
   "execution_count": 10,
   "metadata": {},
   "outputs": [
    {
     "data": {
      "text/html": [
       "<table>\n",
       "<thead><tr><th></th><th scope=col>clade</th><th scope=col>isotype</th><th scope=col>positions</th><th scope=col>clade_iso_pos_total</th><th scope=col>feature</th><th scope=col>n</th><th scope=col>freq</th></tr></thead>\n",
       "<tbody>\n",
       "\t<tr><th scope=row>1</th><td>Fungi</td><td>Ala  </td><td>X14  </td><td>298  </td><td>A    </td><td>298  </td><td>1    </td></tr>\n",
       "\t<tr><th scope=row>2</th><td>Fungi</td><td>Ala  </td><td>X21  </td><td>298  </td><td>A    </td><td>298  </td><td>1    </td></tr>\n",
       "\t<tr><th scope=row>3</th><td>Fungi</td><td>Ala  </td><td>X37  </td><td>298  </td><td>A    </td><td>298  </td><td>1    </td></tr>\n",
       "\t<tr><th scope=row>4</th><td>Fungi</td><td>Ala  </td><td>X58  </td><td>298  </td><td>A    </td><td>298  </td><td>1    </td></tr>\n",
       "\t<tr><th scope=row>5</th><td>Fungi</td><td>Ala  </td><td>X73  </td><td>298  </td><td>A    </td><td>298  </td><td>1    </td></tr>\n",
       "\t<tr><th scope=row>6</th><td>Fungi</td><td>Arg  </td><td>X14  </td><td>446  </td><td>A    </td><td>446  </td><td>1    </td></tr>\n",
       "</tbody>\n",
       "</table>\n"
      ],
      "text/latex": [
       "\\begin{tabular}{r|lllllll}\n",
       "  & clade & isotype & positions & clade\\_iso\\_pos\\_total & feature & n & freq\\\\\n",
       "\\hline\n",
       "\t1 & Fungi & Ala   & X14   & 298   & A     & 298   & 1    \\\\\n",
       "\t2 & Fungi & Ala   & X21   & 298   & A     & 298   & 1    \\\\\n",
       "\t3 & Fungi & Ala   & X37   & 298   & A     & 298   & 1    \\\\\n",
       "\t4 & Fungi & Ala   & X58   & 298   & A     & 298   & 1    \\\\\n",
       "\t5 & Fungi & Ala   & X73   & 298   & A     & 298   & 1    \\\\\n",
       "\t6 & Fungi & Arg   & X14   & 446   & A     & 446   & 1    \\\\\n",
       "\\end{tabular}\n"
      ],
      "text/plain": [
       "  clade isotype positions clade_iso_pos_total feature   n freq\n",
       "1 Fungi     Ala       X14                 298       A 298    1\n",
       "2 Fungi     Ala       X21                 298       A 298    1\n",
       "3 Fungi     Ala       X37                 298       A 298    1\n",
       "4 Fungi     Ala       X58                 298       A 298    1\n",
       "5 Fungi     Ala       X73                 298       A 298    1\n",
       "6 Fungi     Arg       X14                 446       A 446    1"
      ]
     },
     "metadata": {},
     "output_type": "display_data"
    }
   ],
   "source": [
    "best_freqs %>% head"
   ]
  },
  {
   "cell_type": "code",
   "execution_count": 22,
   "metadata": {
    "scrolled": true
   },
   "outputs": [
    {
     "data": {
      "text/html": [
       "<table>\n",
       "<thead><tr><th></th><th scope=col>clade</th><th scope=col>isotype</th><th scope=col>status</th></tr></thead>\n",
       "<tbody>\n",
       "\t<tr><th scope=row>1</th><td>Vertebrata</td><td>Gly       </td><td>0         </td></tr>\n",
       "</tbody>\n",
       "</table>\n"
      ],
      "text/latex": [
       "\\begin{tabular}{r|lll}\n",
       "  & clade & isotype & status\\\\\n",
       "\\hline\n",
       "\t1 & Vertebrata & Gly        & 0         \\\\\n",
       "\\end{tabular}\n"
      ],
      "text/plain": [
       "       clade isotype status\n",
       "1 Vertebrata     Gly      0"
      ]
     },
     "metadata": {},
     "output_type": "display_data"
    },
    {
     "data": {
      "text/html": [
       "<table>\n",
       "<thead><tr><th></th><th scope=col>clade</th><th scope=col>isotype</th><th scope=col>positions</th><th scope=col>clade_iso_pos_total</th><th scope=col>feature</th><th scope=col>n</th><th scope=col>freq</th></tr></thead>\n",
       "<tbody>\n",
       "\t<tr><th scope=row>1</th><td>Vertebrata       </td><td>Gly              </td><td>X18.55           </td><td>262              </td><td>GC               </td><td>34               </td><td>0.129770992366412</td></tr>\n",
       "\t<tr><th scope=row>2</th><td>Vertebrata       </td><td>Gly              </td><td>X18.55           </td><td>262              </td><td>GU               </td><td>226              </td><td>0.862595419847328</td></tr>\n",
       "\t<tr><th scope=row>3</th><td>Vertebrata      </td><td>Gly             </td><td>X18.55          </td><td>262             </td><td>Paired          </td><td>260             </td><td>0.99236641221374</td></tr>\n",
       "\t<tr><th scope=row>4</th><td>Vertebrata       </td><td>Gly              </td><td>X18.55           </td><td>262              </td><td>PurinePyrimidine </td><td>34               </td><td>0.129770992366412</td></tr>\n",
       "\t<tr><th scope=row>5</th><td>Vertebrata       </td><td>Gly              </td><td>X18.55           </td><td>262              </td><td>StrongPair       </td><td>34               </td><td>0.129770992366412</td></tr>\n",
       "\t<tr><th scope=row>6</th><td>Vertebrata       </td><td>Gly              </td><td>X18.55           </td><td>262              </td><td>Wobble           </td><td>226              </td><td>0.862595419847328</td></tr>\n",
       "</tbody>\n",
       "</table>\n"
      ],
      "text/latex": [
       "\\begin{tabular}{r|lllllll}\n",
       "  & clade & isotype & positions & clade\\_iso\\_pos\\_total & feature & n & freq\\\\\n",
       "\\hline\n",
       "\t1 & Vertebrata        & Gly               & X18.55            & 262               & GC                & 34                & 0.129770992366412\\\\\n",
       "\t2 & Vertebrata        & Gly               & X18.55            & 262               & GU                & 226               & 0.862595419847328\\\\\n",
       "\t3 & Vertebrata       & Gly              & X18.55           & 262              & Paired           & 260              & 0.99236641221374\\\\\n",
       "\t4 & Vertebrata        & Gly               & X18.55            & 262               & PurinePyrimidine  & 34                & 0.129770992366412\\\\\n",
       "\t5 & Vertebrata        & Gly               & X18.55            & 262               & StrongPair        & 34                & 0.129770992366412\\\\\n",
       "\t6 & Vertebrata        & Gly               & X18.55            & 262               & Wobble            & 226               & 0.862595419847328\\\\\n",
       "\\end{tabular}\n"
      ],
      "text/plain": [
       "       clade isotype positions clade_iso_pos_total          feature   n\n",
       "1 Vertebrata     Gly    X18.55                 262               GC  34\n",
       "2 Vertebrata     Gly    X18.55                 262               GU 226\n",
       "3 Vertebrata     Gly    X18.55                 262           Paired 260\n",
       "4 Vertebrata     Gly    X18.55                 262 PurinePyrimidine  34\n",
       "5 Vertebrata     Gly    X18.55                 262       StrongPair  34\n",
       "6 Vertebrata     Gly    X18.55                 262           Wobble 226\n",
       "       freq\n",
       "1 0.1297710\n",
       "2 0.8625954\n",
       "3 0.9923664\n",
       "4 0.1297710\n",
       "5 0.1297710\n",
       "6 0.8625954"
      ]
     },
     "metadata": {},
     "output_type": "display_data"
    },
    {
     "data": {
      "text/html": [
       "<table>\n",
       "<thead><tr><th></th><th scope=col>clade</th><th scope=col>species</th><th scope=col>isotype</th><th scope=col>status</th><th scope=col>freq</th><th scope=col>tRNAs</th></tr></thead>\n",
       "<tbody>\n",
       "\t<tr><th scope=row>1</th><td>Fungi             </td><td>flamVelu_KACC42780</td><td>Pro               </td><td>0                 </td><td>0                 </td><td>10                </td></tr>\n",
       "\t<tr><th scope=row>2</th><td>Nematoda</td><td>strRat1 </td><td>Glu     </td><td>0       </td><td>1       </td><td>15      </td></tr>\n",
       "\t<tr><th scope=row>3</th><td>Vertebrata</td><td>danRer10  </td><td>Gly       </td><td>0         </td><td>77        </td><td>559       </td></tr>\n",
       "\t<tr><th scope=row>4</th><td>Vertebrata</td><td>gasAcu1   </td><td>Pro       </td><td>0         </td><td>27        </td><td>105       </td></tr>\n",
       "\t<tr><th scope=row>5</th><td>Vertebrata</td><td>oryLat2   </td><td>Thr       </td><td>0         </td><td>18        </td><td>73        </td></tr>\n",
       "</tbody>\n",
       "</table>\n"
      ],
      "text/latex": [
       "\\begin{tabular}{r|llllll}\n",
       "  & clade & species & isotype & status & freq & tRNAs\\\\\n",
       "\\hline\n",
       "\t1 & Fungi                & flamVelu\\_KACC42780 & Pro                  & 0                    & 0                    & 10                  \\\\\n",
       "\t2 & Nematoda & strRat1  & Glu      & 0        & 1        & 15      \\\\\n",
       "\t3 & Vertebrata & danRer10   & Gly        & 0          & 77         & 559       \\\\\n",
       "\t4 & Vertebrata & gasAcu1    & Pro        & 0          & 27         & 105       \\\\\n",
       "\t5 & Vertebrata & oryLat2    & Thr        & 0          & 18         & 73        \\\\\n",
       "\\end{tabular}\n"
      ],
      "text/plain": [
       "       clade            species isotype status freq tRNAs\n",
       "1      Fungi flamVelu_KACC42780     Pro  FALSE    0    10\n",
       "2   Nematoda            strRat1     Glu  FALSE    1    15\n",
       "3 Vertebrata           danRer10     Gly  FALSE   77   559\n",
       "4 Vertebrata            gasAcu1     Pro  FALSE   27   105\n",
       "5 Vertebrata            oryLat2     Thr  FALSE   18    73"
      ]
     },
     "metadata": {},
     "output_type": "display_data"
    }
   ],
   "source": [
    "## Clade/isotype check\n",
    "best_freqs %>% filter(positions == 'X18.55') %>% group_by(clade, isotype) %>%\n",
    "  summarize(status=sum((feature == \"GU\")*n)/sum(clade_iso_pos_total)) %>% filter(status < 0.9)\n",
    "\n",
    "clade_iso_freqs %>% filter(positions == 'X18.55', isotype == 'Gly', clade == 'Vertebrata') %>% filter(freq > 0.05)\n",
    "\n",
    "## Species check\n",
    "identities %>% select(clade, species, isotype, X18.55) %>%\n",
    "  group_by(clade, species, isotype) %>%\n",
    "  summarize(status=sum((X18.55 == \"G:U\")/n()) >= 0.3,\n",
    "            freq=sum(X18.55 == \"G:U\"), tRNAs=n()) %>%\n",
    "  filter(!status)"
   ]
  },
  {
   "cell_type": "code",
   "execution_count": 25,
   "metadata": {
    "scrolled": true
   },
   "outputs": [
    {
     "data": {
      "text/html": [
       "<table>\n",
       "<thead><tr><th></th><th scope=col>clade</th><th scope=col>species</th><th scope=col>isotype</th><th scope=col>score</th><th scope=col>X18.55</th></tr></thead>\n",
       "<tbody>\n",
       "\t<tr><th scope=row>1</th><td>Fungi        </td><td>valsMali_03_8</td><td>Pro          </td><td>58.7         </td><td>C:U          </td></tr>\n",
       "\t<tr><th scope=row>2</th><td>Fungi        </td><td>valsMali_03_8</td><td>Pro          </td><td>58.6         </td><td>C:U          </td></tr>\n",
       "\t<tr><th scope=row>3</th><td>Fungi        </td><td>valsMali_03_8</td><td>Pro          </td><td>47.2         </td><td>G:U          </td></tr>\n",
       "</tbody>\n",
       "</table>\n"
      ],
      "text/latex": [
       "\\begin{tabular}{r|lllll}\n",
       "  & clade & species & isotype & score & X18.55\\\\\n",
       "\\hline\n",
       "\t1 & Fungi             & valsMali\\_03\\_8 & Pro               & 58.7              & C:U              \\\\\n",
       "\t2 & Fungi             & valsMali\\_03\\_8 & Pro               & 58.6              & C:U              \\\\\n",
       "\t3 & Fungi             & valsMali\\_03\\_8 & Pro               & 47.2              & G:U              \\\\\n",
       "\\end{tabular}\n"
      ],
      "text/plain": [
       "  clade       species isotype score X18.55\n",
       "1 Fungi valsMali_03_8     Pro  58.7    C:U\n",
       "2 Fungi valsMali_03_8     Pro  58.6    C:U\n",
       "3 Fungi valsMali_03_8     Pro  47.2    G:U"
      ]
     },
     "metadata": {},
     "output_type": "display_data"
    }
   ],
   "source": [
    "identities %>% select(clade, species, isotype, score, X18.55) %>% filter(species == \"valsMali_03_8\", isotype == \"Pro\")"
   ]
  },
  {
   "cell_type": "code",
   "execution_count": 27,
   "metadata": {},
   "outputs": [
    {
     "data": {
      "text/html": [
       "<table>\n",
       "<thead><tr><th></th><th scope=col>clade</th><th scope=col>taxid</th><th scope=col>species_long</th><th scope=col>isotype</th><th scope=col>A:U</th><th scope=col>C:U</th><th scope=col>G:U</th></tr></thead>\n",
       "<tbody>\n",
       "\t<tr><th scope=row>1</th><td>Fungi          </td><td>105487         </td><td>Valsa mali 03-8</td><td>Pro            </td><td>0              </td><td>2              </td><td>1              </td></tr>\n",
       "\t<tr><th scope=row>2</th><td>Fungi                      </td><td>1437815                    </td><td>Yarrowia lipolytica WSH-Z06</td><td>Pro                        </td><td>1                          </td><td>0                          </td><td>3                          </td></tr>\n",
       "\t<tr><th scope=row>3</th><td>Fungi                   </td><td>1445506                 </td><td>Yarrowia lipolytica PO1f</td><td>Pro                     </td><td>1                       </td><td>0                       </td><td>3                       </td></tr>\n",
       "\t<tr><th scope=row>4</th><td>Fungi                       </td><td>162425                      </td><td>Aspergillus nidulans FGSC A4</td><td>Pro                         </td><td>0                           </td><td>2                           </td><td>6                           </td></tr>\n",
       "\t<tr><th scope=row>5</th><td>Fungi                      </td><td>284591                     </td><td>Yarrowia lipolytica CLIB122</td><td>Pro                        </td><td>1                          </td><td>0                          </td><td>3                          </td></tr>\n",
       "\t<tr><th scope=row>6</th><td>Fungi                         </td><td>38945                         </td><td>Flammulina velutipes KACC42780</td><td>Pro                           </td><td>2                             </td><td>2                             </td><td>0                             </td></tr>\n",
       "</tbody>\n",
       "</table>\n"
      ],
      "text/latex": [
       "\\begin{tabular}{r|lllllll}\n",
       "  & clade & taxid & species\\_long & isotype & A:U & C:U & G:U\\\\\n",
       "\\hline\n",
       "\t1 & Fungi           & 105487          & Valsa mali 03-8 & Pro             & 0               & 2               & 1              \\\\\n",
       "\t2 & Fungi                       & 1437815                     & Yarrowia lipolytica WSH-Z06 & Pro                         & 1                           & 0                           & 3                          \\\\\n",
       "\t3 & Fungi                    & 1445506                  & Yarrowia lipolytica PO1f & Pro                      & 1                        & 0                        & 3                       \\\\\n",
       "\t4 & Fungi                        & 162425                       & Aspergillus nidulans FGSC A4 & Pro                          & 0                            & 2                            & 6                           \\\\\n",
       "\t5 & Fungi                       & 284591                      & Yarrowia lipolytica CLIB122 & Pro                         & 1                           & 0                           & 3                          \\\\\n",
       "\t6 & Fungi                          & 38945                          & Flammulina velutipes KACC42780 & Pro                            & 2                              & 2                              & 0                             \\\\\n",
       "\\end{tabular}\n"
      ],
      "text/plain": [
       "  clade   taxid                   species_long isotype A:U C:U G:U\n",
       "1 Fungi  105487                Valsa mali 03-8     Pro   0   2   1\n",
       "2 Fungi 1437815    Yarrowia lipolytica WSH-Z06     Pro   1   0   3\n",
       "3 Fungi 1445506       Yarrowia lipolytica PO1f     Pro   1   0   3\n",
       "4 Fungi  162425   Aspergillus nidulans FGSC A4     Pro   0   2   6\n",
       "5 Fungi  284591    Yarrowia lipolytica CLIB122     Pro   1   0   3\n",
       "6 Fungi   38945 Flammulina velutipes KACC42780     Pro   2   2   0"
      ]
     },
     "metadata": {},
     "output_type": "display_data"
    }
   ],
   "source": [
    "identities %>% filter(!restrict, isotype == \"Pro\", clade == \"Fungi\") %>% \n",
    "  count(clade, taxid, species_long, isotype, X18.55) %>%\n",
    "  spread(X18.55, n, 0) %>% filter(`A:U` != 0 | `C:U` != 0)"
   ]
  },
  {
   "cell_type": "code",
   "execution_count": 32,
   "metadata": {},
   "outputs": [
    {
     "data": {
      "text/html": [
       "<table>\n",
       "<thead><tr><th></th><th scope=col>species_long</th><th scope=col>anticodon</th><th scope=col>X18.55</th><th scope=col>score</th><th scope=col>isoscore</th></tr></thead>\n",
       "<tbody>\n",
       "\t<tr><th scope=row>1</th><td>Aspergillus nidulans FGSC A4</td><td>AGG                         </td><td>G:U                         </td><td>62.1                        </td><td>108.9                       </td></tr>\n",
       "\t<tr><th scope=row>2</th><td>Aspergillus nidulans FGSC A4</td><td>AGG                         </td><td>G:U                         </td><td>60.6                        </td><td>106.2                       </td></tr>\n",
       "\t<tr><th scope=row>3</th><td>Aspergillus nidulans FGSC A4</td><td>AGG                         </td><td>G:U                         </td><td>63.7                        </td><td>108.4                       </td></tr>\n",
       "\t<tr><th scope=row>4</th><td>Aspergillus nidulans FGSC A4</td><td>AGG                         </td><td>G:U                         </td><td>60.7                        </td><td>106.2                       </td></tr>\n",
       "\t<tr><th scope=row>5</th><td>Aspergillus nidulans FGSC A4</td><td>CGG                         </td><td>G:U                         </td><td>59.7                        </td><td>107.2                       </td></tr>\n",
       "\t<tr><th scope=row>6</th><td>Aspergillus nidulans FGSC A4</td><td>TGG                         </td><td>C:U                         </td><td>58.5                        </td><td>103                         </td></tr>\n",
       "\t<tr><th scope=row>7</th><td>Aspergillus nidulans FGSC A4</td><td>TGG                         </td><td>C:U                         </td><td>60                          </td><td>108.2                       </td></tr>\n",
       "\t<tr><th scope=row>8</th><td>Aspergillus nidulans FGSC A4</td><td>AGG                         </td><td>G:U                         </td><td>60.4                        </td><td>104.2                       </td></tr>\n",
       "\t<tr><th scope=row>9</th><td>Flammulina velutipes KACC42780</td><td>TGG                           </td><td>C:U                           </td><td>49.4                          </td><td>80                            </td></tr>\n",
       "\t<tr><th scope=row>10</th><td>Flammulina velutipes KACC42780</td><td>TGG                           </td><td>C:U                           </td><td>49.2                          </td><td>80                            </td></tr>\n",
       "\t<tr><th scope=row>11</th><td>Flammulina velutipes KACC42780</td><td>AGG                           </td><td>A:U                           </td><td>56                            </td><td>88.4                          </td></tr>\n",
       "\t<tr><th scope=row>12</th><td>Flammulina velutipes KACC42780</td><td>CGG                           </td><td>A:U                           </td><td>46.6                          </td><td>89.3                          </td></tr>\n",
       "\t<tr><th scope=row>13</th><td>Valsa mali 03-8</td><td>TGG            </td><td>C:U            </td><td>58.7           </td><td>104.6          </td></tr>\n",
       "\t<tr><th scope=row>14</th><td>Valsa mali 03-8</td><td>TGG            </td><td>C:U            </td><td>58.6           </td><td>104.6          </td></tr>\n",
       "\t<tr><th scope=row>15</th><td>Valsa mali 03-8</td><td>CGG            </td><td>G:U            </td><td>47.2           </td><td>88.8           </td></tr>\n",
       "\t<tr><th scope=row>16</th><td>Yarrowia lipolytica CLIB122</td><td>AGG                        </td><td>G:U                        </td><td>69.2                       </td><td>115.5                      </td></tr>\n",
       "\t<tr><th scope=row>17</th><td>Yarrowia lipolytica CLIB122</td><td>TGG                        </td><td>A:U                        </td><td>54.6                       </td><td>91                         </td></tr>\n",
       "\t<tr><th scope=row>18</th><td>Yarrowia lipolytica CLIB122</td><td>CGG                        </td><td>G:U                        </td><td>48.5                       </td><td>70.6                       </td></tr>\n",
       "\t<tr><th scope=row>19</th><td>Yarrowia lipolytica CLIB122</td><td>CGG                        </td><td>G:U                        </td><td>52.9                       </td><td>75.5                       </td></tr>\n",
       "</tbody>\n",
       "</table>\n"
      ],
      "text/latex": [
       "\\begin{tabular}{r|lllll}\n",
       "  & species\\_long & anticodon & X18.55 & score & isoscore\\\\\n",
       "\\hline\n",
       "\t1 & Aspergillus nidulans FGSC A4 & AGG                          & G:U                          & 62.1                         & 108.9                       \\\\\n",
       "\t2 & Aspergillus nidulans FGSC A4 & AGG                          & G:U                          & 60.6                         & 106.2                       \\\\\n",
       "\t3 & Aspergillus nidulans FGSC A4 & AGG                          & G:U                          & 63.7                         & 108.4                       \\\\\n",
       "\t4 & Aspergillus nidulans FGSC A4 & AGG                          & G:U                          & 60.7                         & 106.2                       \\\\\n",
       "\t5 & Aspergillus nidulans FGSC A4 & CGG                          & G:U                          & 59.7                         & 107.2                       \\\\\n",
       "\t6 & Aspergillus nidulans FGSC A4 & TGG                          & C:U                          & 58.5                         & 103                         \\\\\n",
       "\t7 & Aspergillus nidulans FGSC A4 & TGG                          & C:U                          & 60                           & 108.2                       \\\\\n",
       "\t8 & Aspergillus nidulans FGSC A4 & AGG                          & G:U                          & 60.4                         & 104.2                       \\\\\n",
       "\t9 & Flammulina velutipes KACC42780 & TGG                            & C:U                            & 49.4                           & 80                            \\\\\n",
       "\t10 & Flammulina velutipes KACC42780 & TGG                            & C:U                            & 49.2                           & 80                            \\\\\n",
       "\t11 & Flammulina velutipes KACC42780 & AGG                            & A:U                            & 56                             & 88.4                          \\\\\n",
       "\t12 & Flammulina velutipes KACC42780 & CGG                            & A:U                            & 46.6                           & 89.3                          \\\\\n",
       "\t13 & Valsa mali 03-8 & TGG             & C:U             & 58.7            & 104.6          \\\\\n",
       "\t14 & Valsa mali 03-8 & TGG             & C:U             & 58.6            & 104.6          \\\\\n",
       "\t15 & Valsa mali 03-8 & CGG             & G:U             & 47.2            & 88.8           \\\\\n",
       "\t16 & Yarrowia lipolytica CLIB122 & AGG                         & G:U                         & 69.2                        & 115.5                      \\\\\n",
       "\t17 & Yarrowia lipolytica CLIB122 & TGG                         & A:U                         & 54.6                        & 91                         \\\\\n",
       "\t18 & Yarrowia lipolytica CLIB122 & CGG                         & G:U                         & 48.5                        & 70.6                       \\\\\n",
       "\t19 & Yarrowia lipolytica CLIB122 & CGG                         & G:U                         & 52.9                        & 75.5                       \\\\\n",
       "\\end{tabular}\n"
      ],
      "text/plain": [
       "                     species_long anticodon X18.55 score isoscore\n",
       "1    Aspergillus nidulans FGSC A4       AGG    G:U  62.1    108.9\n",
       "2    Aspergillus nidulans FGSC A4       AGG    G:U  60.6    106.2\n",
       "3    Aspergillus nidulans FGSC A4       AGG    G:U  63.7    108.4\n",
       "4    Aspergillus nidulans FGSC A4       AGG    G:U  60.7    106.2\n",
       "5    Aspergillus nidulans FGSC A4       CGG    G:U  59.7    107.2\n",
       "6    Aspergillus nidulans FGSC A4       TGG    C:U  58.5    103.0\n",
       "7    Aspergillus nidulans FGSC A4       TGG    C:U  60.0    108.2\n",
       "8    Aspergillus nidulans FGSC A4       AGG    G:U  60.4    104.2\n",
       "9  Flammulina velutipes KACC42780       TGG    C:U  49.4     80.0\n",
       "10 Flammulina velutipes KACC42780       TGG    C:U  49.2     80.0\n",
       "11 Flammulina velutipes KACC42780       AGG    A:U  56.0     88.4\n",
       "12 Flammulina velutipes KACC42780       CGG    A:U  46.6     89.3\n",
       "13                Valsa mali 03-8       TGG    C:U  58.7    104.6\n",
       "14                Valsa mali 03-8       TGG    C:U  58.6    104.6\n",
       "15                Valsa mali 03-8       CGG    G:U  47.2     88.8\n",
       "16    Yarrowia lipolytica CLIB122       AGG    G:U  69.2    115.5\n",
       "17    Yarrowia lipolytica CLIB122       TGG    A:U  54.6     91.0\n",
       "18    Yarrowia lipolytica CLIB122       CGG    G:U  48.5     70.6\n",
       "19    Yarrowia lipolytica CLIB122       CGG    G:U  52.9     75.5"
      ]
     },
     "metadata": {},
     "output_type": "display_data"
    }
   ],
   "source": [
    "identities %>% filter(!restrict, isotype == \"Pro\", taxid %in% c(105487, 162425, 284591, 38945)) %>% \n",
    "  select(species_long, anticodon, X18.55, score, isoscore)"
   ]
  },
  {
   "cell_type": "markdown",
   "metadata": {},
   "source": [
    "Earlier, we had a vertebrate check fail because of the methods used to build the quality set. I've relaxed the species check constraints to 10% to better identify IDEs even when there are massively amplified tRNAs. Curiously, in danRer10, gasAcu1, and oryLat2, the majority of the non-G:U tRNAs contain a G:C. It's pretty likely that, given the high copy number, many of these tRNAs are actually pseudogenes. In addition, there are a decent amount of G18:U55 tRNAs to actually drive translation.\n",
    "\n",
    "The two fungi listed here are rare exceptions to the rule. _Flammulina velutipes_ is the enokitake mushroom, and none of its proline tRNAs contain G18. _Valsa mali_ is a fungus that infects apple trees. It contains 4 proline tRNAs. The first two (Pro-AGG-1, Pro-CGG-1) score at 22 and 47, contain G18:U55, and are filtered out. The other two (Pro-TGG-1) score at 58, and contain C18:U55. So we have two main possibilities here.\n",
    "\n",
    "1. G18:U55 is required for proper folding and recognition. Pro-CGG-1 is used as the main proline tRNA.\n",
    "2. G18:U55 is not required. The synthetase is able to recognize some combination of Pro-CGG and Pro-TGG.\n",
    "\n",
    "The evidence below points to option 2. In fungi, TGG is a much more common anticodon than CGG. Pro-TGG in this species also scores better, and contains a position 47. There are only two other fungal proline tRNAs without a position 47, both of which exist in _Encephalitozoon_ species, and both of which are supplemented by other high-scoring proline tRNAs.\n",
    "\n",
    "#### Fungal proline anticodon usage /  Fungal proline position 47 incidence"
   ]
  },
  {
   "cell_type": "code",
   "execution_count": null,
   "metadata": {},
   "outputs": [],
   "source": [
    "identities %>% select(clade, isotype, anticodon) %>%\n",
    "  filter(isotype == \"Pro\" & clade == \"Fungi\") %>%\n",
    "  group_by(clade, isotype, anticodon) %>%\n",
    "  summarize(count=n())\n",
    "\n",
    "identities %>% select(clade, isotype, X47) %>%\n",
    "  filter(isotype == \"Pro\" & clade == \"Fungi\") %>%\n",
    "  group_by(clade, isotype, X47) %>%\n",
    "  summarize(count=n()) %>%\n",
    "  spread(X47, count)\n",
    "\n",
    "identities %>% select(clade, species, isotype, anticodon) %>%\n",
    "  filter(isotype == \"Pro\" & clade == \"Fungi\") %>%\n",
    "  group_by(clade, species, isotype, anticodon) %>% \n",
    "  tally %>% spread(anticodon, n, 0)\n",
    "\n",
    "identities %>% select(clade, species, species_long, seqname, isotype, score, X47) %>%\n",
    "  filter(isotype == \"Pro\" & clade == \"Fungi\" & X47 == \"-\")"
   ]
  },
  {
   "cell_type": "markdown",
   "metadata": {},
   "source": [
    "### G19:C56\n",
    "\n",
    "We now look at 19:56 in context of 18:55. G19:C56 similarly hits 99% frequency.\n",
    "\n",
    "#### Distribution of 18:55 and 19:56"
   ]
  },
  {
   "cell_type": "code",
   "execution_count": null,
   "metadata": {},
   "outputs": [],
   "source": [
    "identities %>% select(X18.55, X19.56) %>%\n",
    "  group_by(X18.55, X19.56) %>%\n",
    "  summarize(count=n()) %>%\n",
    "  filter(count > 5) %>%\n",
    "  spread(X19.56, count, fill=0)"
   ]
  },
  {
   "cell_type": "markdown",
   "metadata": {},
   "source": [
    "What may be happening here is that 18:55 and 19:56 act in concert. Both are required, but failing that, having at least one of them will weakly preserve the tertiary structure. This makes sense in context of the tertiary structure shown above - 18:55 and 19:56 are right next to each other and perform the same function, forming the tRNA elbow. \n",
    "\n",
    "In this case, whether it fails the species or isotype/clade check doesn't matter anymore, unless we specifically see enrichment for a clade/isotype.\n",
    "\n",
    "The one exception is with the 9 tRNAs for A18:U55 and G19:U56. Let's take a look at both of them.\n",
    "\n",
    "#### Is there enrichment for certain isotypes/clades for the non-GU/GC tRNAs?\n",
    "\n",
    "This measures the percentage of tRNAs in the isotype/clade with non-GU/GC tRNAs.\n",
    "\n",
    "**Either no G:U or no G:C:**"
   ]
  },
  {
   "cell_type": "code",
   "execution_count": null,
   "metadata": {
    "scrolled": true
   },
   "outputs": [],
   "source": [
    "identities %>% select(isotype, clade, X18.55, X19.56) %>%\n",
    "  group_by(isotype, clade) %>%\n",
    "  mutate(total=n()) %>%\n",
    "  filter(X18.55 != 'G:U' | X19.56 != 'G:C') %>%\n",
    "  summarize(freq=signif(n()/unique(total), digits=2), count=n(), total=total[1]) %>%\n",
    "  filter(freq > 0.05) %>%\n",
    "  arrange(desc(freq))"
   ]
  },
  {
   "cell_type": "markdown",
   "metadata": {},
   "source": [
    "**Neither G:U nor G:C:**"
   ]
  },
  {
   "cell_type": "code",
   "execution_count": null,
   "metadata": {
    "scrolled": true
   },
   "outputs": [],
   "source": [
    "identities %>% select(isotype, clade, X18.55, X19.56) %>%\n",
    "  group_by(isotype, clade) %>%\n",
    "  mutate(total=n()) %>%\n",
    "  filter(X18.55 != 'G:U' & X19.56 != 'G:C') %>%\n",
    "  summarize(freq=signif(n()/unique(total), digits=2), count=n(), total=total[1]) %>%\n",
    "  filter(freq > 0.01) %>%\n",
    "  arrange(desc(freq))"
   ]
  },
  {
   "cell_type": "markdown",
   "metadata": {},
   "source": [
    "We see differential enrichment in the \"not GU or not GC\" case, but not in this case (\"not GU/GC\"). Which is to be expected - it's easier to mutate one or the other, rather than both. But just in case, we'll double check these clades.\n",
    "\n",
    "#### Which species have which divergent identities at 18:55 and 19:56?"
   ]
  },
  {
   "cell_type": "code",
   "execution_count": null,
   "metadata": {},
   "outputs": [],
   "source": [
    "identities %>% select(isotype, clade, X18.55, X19.56) %>%\n",
    "  filter((isotype == \"Gly\" & clade == \"Vertebrata\") | (isotype == \"Lys\" & clade == \"Mammalia\") | (isotype == \"Met\" & clade == \"Fungi\")) %>%\n",
    "  group_by(isotype, clade, X18.55, X19.56) %>%\n",
    "  summarize(count=n()) %>%\n",
    "  filter(count > 1) %>%\n",
    "  spread(X19.56, count, fill=0)\n",
    "\n",
    "identities %>% select(isotype, clade, species, X18.55, X19.56) %>%\n",
    "  filter(isotype == \"Met\" & clade == \"Fungi\") %>%\n",
    "  group_by(species, clade, isotype) %>% mutate(total_tRNAs=n()) %>%\n",
    "  filter(X18.55 == \"G:-\" & X19.56 == \"G:-\") %>%\n",
    "  group_by(species, clade, isotype, total_tRNAs) %>% summarize(count=n())\n",
    "\n",
    "identities %>% select(isotype, clade, species, X18.55, X19.56) %>%\n",
    "  filter(isotype == \"Gly\" & clade == \"Vertebrata\") %>%\n",
    "  group_by(species, clade, isotype) %>% mutate(total_tRNAs=n()) %>%\n",
    "  filter(X18.55 == \"G:C\" & X19.56 == \"G:C\") %>%\n",
    "  group_by(species, clade, isotype, total_tRNAs) %>% summarize(count=n())\n",
    "\n",
    "identities %>% select(isotype, clade, species, X18.55, X19.56) %>%\n",
    "  filter(isotype == \"Lys\" & clade == \"Mammalia\") %>%\n",
    "  group_by(species, clade, isotype) %>% mutate(total_tRNAs=n()) %>%\n",
    "  filter(X18.55 == \"G:U\" & X19.56 == \"G:U\") %>%\n",
    "  group_by(species, clade, isotype, total_tRNAs) %>% summarize(count=n())"
   ]
  },
  {
   "cell_type": "markdown",
   "metadata": {},
   "source": [
    "If it's the case that G:C/G:C or G:U/G:U is deficient, both vertebrate glycine and mammalian lysine are well-compensated in each species by other tRNAs, since there are so many tRNA copies.\n",
    "\n",
    "Now to go back to the original 18:55 and 19:56 table - \n",
    "\n",
    "#### Is there enrichment in certain isotypes/clades/species for A18:U55 and G19:U56?"
   ]
  },
  {
   "cell_type": "code",
   "execution_count": null,
   "metadata": {
    "scrolled": true
   },
   "outputs": [],
   "source": [
    "identities %>% select(isotype, clade, species, X18.55, X19.56) %>%\n",
    "  group_by(isotype, clade, species) %>% mutate(total_tRNAs=n()) %>%\n",
    "  filter(X18.55 == \"A:U\" & X19.56 == \"G:U\")"
   ]
  },
  {
   "cell_type": "markdown",
   "metadata": {},
   "source": [
    "There is slight enrichment, but it's nothing especially noteworthy, unless it's a conserved atypical tRNA. Let's check for that later. Each of these species has a lot of tRNAs that can compensate for one faulty tRNA. It's also worth noting that A:U and G:U are the most common single mutations, making it likely that they can still participate in the 3D interaction. Thus, a double mutation may be the strongest non-GU/GC interaction.\n",
    "\n",
    "**Do the fungal proline tRNAs without G18:U55 have G19:C56?** They have to, otherwise they would've appeared in the table above!\n",
    "\n",
    "#### What's known\n",
    "\n",
    "G19 often contains a 2'-O-methyl modification, and in the majority of tested tRNAs, U55 is modified to $\\Psi$. It's known that G18:U55 and G19:C56 are conserved.\n",
    "\n",
    "A kinetics study showed an 80-fold decrease in translation efficiency (because of ribosome docking) without G18:U55 ([Pan et al. 2006](http://www.nature.com/nsmb/journal/v13/n4/full/nsmb1074.html)).\n",
    "\n",
    "#### Summary\n",
    "\n",
    "- 18:55 and 19:56 frequencies have been studied in isolation but not together.\n",
    "- G18:U55 and G19:C56 are vital for forming the tertiary structure at the tRNA elbow, and exist in 96% of tRNAs.\n",
    "- If it's not 100% conserved, is it a clade/isotype IDE, or is it an artifact of high-copy pseudogenes?\n",
    "    - Most of the remaining 4% has one mutation. For the two most egregious isotypes/clades, each species has several more tRNAs of the same isoacceptor to compensate. These can be explained by pseudogenes getting through the quality filter.\n",
    "    - There are also 9 tRNAs with two mutations. All of them are AU/GU, and like before, each species have several more tRNAs of the same isoacceptor to compensate.\n",
    "- Based on this evidence, I would say that having one of G18:U55 and G19:C56 is an identity element.    "
   ]
  },
  {
   "cell_type": "markdown",
   "metadata": {},
   "source": [
    "### Y11:R24\n",
    "\n",
    "This one meets our definition of consensus, though it doesn't reach the 99% threshold. Let's see if the tRNAs themselves are enriched in any way.\n",
    "\n",
    "#### Number of tRNAs without C11:G24 or U11:A24"
   ]
  },
  {
   "cell_type": "code",
   "execution_count": 11,
   "metadata": {},
   "outputs": [
    {
     "data": {
      "text/html": [
       "689"
      ],
      "text/latex": [
       "689"
      ],
      "text/markdown": [
       "689"
      ],
      "text/plain": [
       "[1] 689"
      ]
     },
     "metadata": {},
     "output_type": "display_data"
    }
   ],
   "source": [
    "identities %>% select(clade, species, X11.24) %>%\n",
    "  filter(!(X11.24 %in% c(\"C:G\", \"U:A\"))) %>% nrow()"
   ]
  },
  {
   "cell_type": "markdown",
   "metadata": {},
   "source": [
    "#### Clade / isotype enrichment for tRNAs without Y11:R24"
   ]
  },
  {
   "cell_type": "code",
   "execution_count": 14,
   "metadata": {
    "scrolled": true
   },
   "outputs": [
    {
     "data": {
      "text/markdown": [
       "<table>\n",
       " <thead>\n",
       "  <tr>\n",
       "   <th style=\"text-align:left;\"> clade </th>\n",
       "   <th style=\"text-align:right;\"> Ala </th>\n",
       "   <th style=\"text-align:right;\"> Arg </th>\n",
       "   <th style=\"text-align:right;\"> Asn </th>\n",
       "   <th style=\"text-align:right;\"> Asp </th>\n",
       "   <th style=\"text-align:right;\"> Cys </th>\n",
       "   <th style=\"text-align:right;\"> Gln </th>\n",
       "   <th style=\"text-align:right;\"> Glu </th>\n",
       "   <th style=\"text-align:right;\"> Gly </th>\n",
       "   <th style=\"text-align:right;\"> His </th>\n",
       "   <th style=\"text-align:right;\"> Ile </th>\n",
       "   <th style=\"text-align:right;\"> iMet </th>\n",
       "   <th style=\"text-align:right;\"> Leu </th>\n",
       "   <th style=\"text-align:right;\"> Lys </th>\n",
       "   <th style=\"text-align:right;\"> Met </th>\n",
       "   <th style=\"text-align:right;\"> Phe </th>\n",
       "   <th style=\"text-align:right;\"> Pro </th>\n",
       "   <th style=\"text-align:right;\"> Ser </th>\n",
       "   <th style=\"text-align:right;\"> Thr </th>\n",
       "   <th style=\"text-align:right;\"> Trp </th>\n",
       "   <th style=\"text-align:right;\"> Tyr </th>\n",
       "   <th style=\"text-align:right;\"> Val </th>\n",
       "  </tr>\n",
       " </thead>\n",
       "<tbody>\n",
       "  <tr>\n",
       "   <td style=\"text-align:left;\"> Fungi </td>\n",
       "   <td style=\"text-align:right;\"> 6 </td>\n",
       "   <td style=\"text-align:right;\"> 1 </td>\n",
       "   <td style=\"text-align:right;\"> 2 </td>\n",
       "   <td style=\"text-align:right;\"> 0 </td>\n",
       "   <td style=\"text-align:right;\"> 0 </td>\n",
       "   <td style=\"text-align:right;\"> 7 </td>\n",
       "   <td style=\"text-align:right;\"> 1 </td>\n",
       "   <td style=\"text-align:right;\"> 4 </td>\n",
       "   <td style=\"text-align:right;\"> 3 </td>\n",
       "   <td style=\"text-align:right;\"> 8 </td>\n",
       "   <td style=\"text-align:right;\"> 1 </td>\n",
       "   <td style=\"text-align:right;\"> 13 </td>\n",
       "   <td style=\"text-align:right;\"> 1 </td>\n",
       "   <td style=\"text-align:right;\"> 0 </td>\n",
       "   <td style=\"text-align:right;\"> 0 </td>\n",
       "   <td style=\"text-align:right;\"> 5 </td>\n",
       "   <td style=\"text-align:right;\"> 7 </td>\n",
       "   <td style=\"text-align:right;\"> 1 </td>\n",
       "   <td style=\"text-align:right;\"> 0 </td>\n",
       "   <td style=\"text-align:right;\"> 9 </td>\n",
       "   <td style=\"text-align:right;\"> 91 </td>\n",
       "  </tr>\n",
       "  <tr>\n",
       "   <td style=\"text-align:left;\"> Insecta </td>\n",
       "   <td style=\"text-align:right;\"> 0 </td>\n",
       "   <td style=\"text-align:right;\"> 1 </td>\n",
       "   <td style=\"text-align:right;\"> 1 </td>\n",
       "   <td style=\"text-align:right;\"> 0 </td>\n",
       "   <td style=\"text-align:right;\"> 0 </td>\n",
       "   <td style=\"text-align:right;\"> 0 </td>\n",
       "   <td style=\"text-align:right;\"> 0 </td>\n",
       "   <td style=\"text-align:right;\"> 2 </td>\n",
       "   <td style=\"text-align:right;\"> 0 </td>\n",
       "   <td style=\"text-align:right;\"> 1 </td>\n",
       "   <td style=\"text-align:right;\"> 0 </td>\n",
       "   <td style=\"text-align:right;\"> 0 </td>\n",
       "   <td style=\"text-align:right;\"> 0 </td>\n",
       "   <td style=\"text-align:right;\"> 0 </td>\n",
       "   <td style=\"text-align:right;\"> 0 </td>\n",
       "   <td style=\"text-align:right;\"> 1 </td>\n",
       "   <td style=\"text-align:right;\"> 0 </td>\n",
       "   <td style=\"text-align:right;\"> 0 </td>\n",
       "   <td style=\"text-align:right;\"> 0 </td>\n",
       "   <td style=\"text-align:right;\"> 1 </td>\n",
       "   <td style=\"text-align:right;\"> 0 </td>\n",
       "  </tr>\n",
       "  <tr>\n",
       "   <td style=\"text-align:left;\"> Mammalia </td>\n",
       "   <td style=\"text-align:right;\"> 23 </td>\n",
       "   <td style=\"text-align:right;\"> 11 </td>\n",
       "   <td style=\"text-align:right;\"> 32 </td>\n",
       "   <td style=\"text-align:right;\"> 6 </td>\n",
       "   <td style=\"text-align:right;\"> 16 </td>\n",
       "   <td style=\"text-align:right;\"> 1 </td>\n",
       "   <td style=\"text-align:right;\"> 11 </td>\n",
       "   <td style=\"text-align:right;\"> 11 </td>\n",
       "   <td style=\"text-align:right;\"> 0 </td>\n",
       "   <td style=\"text-align:right;\"> 17 </td>\n",
       "   <td style=\"text-align:right;\"> 4 </td>\n",
       "   <td style=\"text-align:right;\"> 5 </td>\n",
       "   <td style=\"text-align:right;\"> 46 </td>\n",
       "   <td style=\"text-align:right;\"> 27 </td>\n",
       "   <td style=\"text-align:right;\"> 11 </td>\n",
       "   <td style=\"text-align:right;\"> 3 </td>\n",
       "   <td style=\"text-align:right;\"> 8 </td>\n",
       "   <td style=\"text-align:right;\"> 3 </td>\n",
       "   <td style=\"text-align:right;\"> 8 </td>\n",
       "   <td style=\"text-align:right;\"> 6 </td>\n",
       "   <td style=\"text-align:right;\"> 8 </td>\n",
       "  </tr>\n",
       "  <tr>\n",
       "   <td style=\"text-align:left;\"> Nematoda </td>\n",
       "   <td style=\"text-align:right;\"> 4 </td>\n",
       "   <td style=\"text-align:right;\"> 3 </td>\n",
       "   <td style=\"text-align:right;\"> 1 </td>\n",
       "   <td style=\"text-align:right;\"> 0 </td>\n",
       "   <td style=\"text-align:right;\"> 0 </td>\n",
       "   <td style=\"text-align:right;\"> 0 </td>\n",
       "   <td style=\"text-align:right;\"> 3 </td>\n",
       "   <td style=\"text-align:right;\"> 2 </td>\n",
       "   <td style=\"text-align:right;\"> 1 </td>\n",
       "   <td style=\"text-align:right;\"> 2 </td>\n",
       "   <td style=\"text-align:right;\"> 0 </td>\n",
       "   <td style=\"text-align:right;\"> 4 </td>\n",
       "   <td style=\"text-align:right;\"> 2 </td>\n",
       "   <td style=\"text-align:right;\"> 2 </td>\n",
       "   <td style=\"text-align:right;\"> 0 </td>\n",
       "   <td style=\"text-align:right;\"> 3 </td>\n",
       "   <td style=\"text-align:right;\"> 0 </td>\n",
       "   <td style=\"text-align:right;\"> 2 </td>\n",
       "   <td style=\"text-align:right;\"> 0 </td>\n",
       "   <td style=\"text-align:right;\"> 1 </td>\n",
       "   <td style=\"text-align:right;\"> 0 </td>\n",
       "  </tr>\n",
       "  <tr>\n",
       "   <td style=\"text-align:left;\"> Spermatophyta </td>\n",
       "   <td style=\"text-align:right;\"> 2 </td>\n",
       "   <td style=\"text-align:right;\"> 3 </td>\n",
       "   <td style=\"text-align:right;\"> 2 </td>\n",
       "   <td style=\"text-align:right;\"> 9 </td>\n",
       "   <td style=\"text-align:right;\"> 2 </td>\n",
       "   <td style=\"text-align:right;\"> 0 </td>\n",
       "   <td style=\"text-align:right;\"> 2 </td>\n",
       "   <td style=\"text-align:right;\"> 3 </td>\n",
       "   <td style=\"text-align:right;\"> 0 </td>\n",
       "   <td style=\"text-align:right;\"> 4 </td>\n",
       "   <td style=\"text-align:right;\"> 1 </td>\n",
       "   <td style=\"text-align:right;\"> 8 </td>\n",
       "   <td style=\"text-align:right;\"> 4 </td>\n",
       "   <td style=\"text-align:right;\"> 16 </td>\n",
       "   <td style=\"text-align:right;\"> 3 </td>\n",
       "   <td style=\"text-align:right;\"> 0 </td>\n",
       "   <td style=\"text-align:right;\"> 11 </td>\n",
       "   <td style=\"text-align:right;\"> 2 </td>\n",
       "   <td style=\"text-align:right;\"> 1 </td>\n",
       "   <td style=\"text-align:right;\"> 4 </td>\n",
       "   <td style=\"text-align:right;\"> 1 </td>\n",
       "  </tr>\n",
       "  <tr>\n",
       "   <td style=\"text-align:left;\"> Vertebrata </td>\n",
       "   <td style=\"text-align:right;\"> 7 </td>\n",
       "   <td style=\"text-align:right;\"> 9 </td>\n",
       "   <td style=\"text-align:right;\"> 24 </td>\n",
       "   <td style=\"text-align:right;\"> 2 </td>\n",
       "   <td style=\"text-align:right;\"> 7 </td>\n",
       "   <td style=\"text-align:right;\"> 3 </td>\n",
       "   <td style=\"text-align:right;\"> 9 </td>\n",
       "   <td style=\"text-align:right;\"> 2 </td>\n",
       "   <td style=\"text-align:right;\"> 0 </td>\n",
       "   <td style=\"text-align:right;\"> 10 </td>\n",
       "   <td style=\"text-align:right;\"> 6 </td>\n",
       "   <td style=\"text-align:right;\"> 4 </td>\n",
       "   <td style=\"text-align:right;\"> 12 </td>\n",
       "   <td style=\"text-align:right;\"> 8 </td>\n",
       "   <td style=\"text-align:right;\"> 13 </td>\n",
       "   <td style=\"text-align:right;\"> 2 </td>\n",
       "   <td style=\"text-align:right;\"> 12 </td>\n",
       "   <td style=\"text-align:right;\"> 8 </td>\n",
       "   <td style=\"text-align:right;\"> 12 </td>\n",
       "   <td style=\"text-align:right;\"> 0 </td>\n",
       "   <td style=\"text-align:right;\"> 7 </td>\n",
       "  </tr>\n",
       "</tbody>\n",
       "</table>"
      ]
     },
     "metadata": {},
     "output_type": "display_data"
    }
   ],
   "source": [
    "display_markdown(paste(as.character(kable(identities %>% select(clade, restrict, isotype, X11.24) %>%\n",
    "  filter(!restrict & !(X11.24 %in% c(\"C:G\", \"U:A\"))) %>%\n",
    "  group_by(clade, isotype) %>%\n",
    "  summarize(count = n()) %>%\n",
    "  spread(isotype, count, fill = 0))), collapse = \"\\n\"))"
   ]
  },
  {
   "cell_type": "markdown",
   "metadata": {},
   "source": [
    "What's this strange bump in fungal valine tRNAs?\n",
    "\n",
    "#### Frequency of non-Y11:R24 tRNAs in fungi Val"
   ]
  },
  {
   "cell_type": "code",
   "execution_count": null,
   "metadata": {},
   "outputs": [],
   "source": [
    "identities %>% select(clade, quality, isotype, X11.24) %>%\n",
    "  filter(quality & clade == \"Fungi\" & isotype == \"Val\") %>%\n",
    "  group_by(clade, isotype, X11.24) %>%\n",
    "  summarize(count = n())"
   ]
  },
  {
   "cell_type": "markdown",
   "metadata": {},
   "source": [
    "There's high frequency of U11:G24 (though technically, it is also a pyrimidine:purine interaction).\n",
    "\n",
    "#### What's known\n",
    "\n",
    "- [Ohana et al. 1994](http://dx.doi.org/10.1006/abbi.1994.1503) studied yeast Ser, which contains C11:G24. A switch to G11:C24 decreased aminoacylation efficiency to 78%.\n",
    "- C11:G24, along with G10:C25, are vital for m$^2_2$G26, according to [Edqvist et al. 1992](https://doi.org/10.1093/nar/20.24.6575). However, other eukaryotes such as _Drosophila_ contain the modification even without these identities.\n",
    "- U11:A24 prevents RNase P processing in _Drosophila_ ([Levinger et al. 1995](10.1074/jbc.270.32.18903)). It's noted that the tRNA probably folds correctly, and the recognition is stalled by \"local helix deformation\". \n",
    "- This identity element is also important in mitochondrial tRNAs ([Takeuchi et al. 2001)](http://www.jbc.org/content/276/23/20064.full))."
   ]
  },
  {
   "cell_type": "markdown",
   "metadata": {},
   "source": [
    "#### What's new\n",
    "\n",
    "#### Covariance of 10:25 and 11:24 for fungi vs all other clades"
   ]
  },
  {
   "cell_type": "code",
   "execution_count": null,
   "metadata": {},
   "outputs": [],
   "source": [
    "identities %>% select(clade, isotype, X10.25, X11.24) %>%\n",
    "  filter(isotype == \"Val\") %>%\n",
    "  mutate(clade=ifelse(clade == \"Fungi\", \"Fungi\", \"Other\")) %>%\n",
    "  filter(X11.24 %in% c(\"U:A\", \"C:G\", \"U:G\")) %>%\n",
    "  group_by(clade) %>%\n",
    "  mutate(total=n()) %>%\n",
    "  group_by(clade, total, X10.25, X11.24) %>%\n",
    "  summarize(count=n()) %>%\n",
    "  mutate(freq=count/total) %>%\n",
    "  filter(freq > 0.01) %>%\n",
    "  select(-total, -count) %>%\n",
    "  spread(X10.25, freq, fill=0)"
   ]
  },
  {
   "cell_type": "markdown",
   "metadata": {},
   "source": [
    "A whopping **27%** of fungal valine tRNAs contain G10:C25 and U11:G24. This is very different from other eukaryotic valines, which hovers around 92% for G10:C25 and U11:A24. This seems to be tolerated specifically in fungal valine tRNAs. This could potentially be a switch for modification or for cleavage. Is this enriched in specific species?"
   ]
  },
  {
   "cell_type": "code",
   "execution_count": null,
   "metadata": {
    "scrolled": true
   },
   "outputs": [],
   "source": [
    "identities %>% select(species, clade, isotype, X10.25, X11.24) %>%\n",
    "  filter(isotype == \"Val\", clade == \"Fungi\", X11.24 %in% c(\"U:A\", \"C:G\", \"U:G\")) %>%\n",
    "  mutate(identity = paste0(X10.25, ' / ', X11.24)) %>%\n",
    "  group_by(species, identity) %>%\n",
    "  summarize(count = n()) %>%\n",
    "  spread(identity, count, fill = 0) %>% \n",
    "  kable() %>% paste(collapse = '\\n') %>% display_markdown"
   ]
  },
  {
   "cell_type": "markdown",
   "metadata": {},
   "source": [
    "G10:C25 / U11:A24 (canonical) and G10:C25 / U11:G24 (fungal valine) are broadly distributed. Seems like in fungi, both are tolerated by the synthetase or do some other conserved function.\n",
    "\n",
    "There are a few species that are noteworthy, though:\n",
    "\n",
    "_Flammulina velutipes_ shows up here again. _Cryptococcus_, _Penicillium chrysogenum_, _Ustilago maydis_, _Sporisorium reilianum_, and _S. pombe_ are all exceptions that contain neither the canonical set or the fungal valine set of features. Instead, they contain a variety of different features.\n",
    "\n",
    "<img src='figures/fungi-tree.png' style=\"width: 700px;\">\n",
    "\n",
    "All of the aforementioned species group together. \n",
    "\n",
    "### R15:Y48\n",
    "\n",
    "#### Number of tRNAs without R15:Y48"
   ]
  },
  {
   "cell_type": "code",
   "execution_count": null,
   "metadata": {},
   "outputs": [],
   "source": [
    "identities %>% select(clade, species, X15.48) %>%\n",
    "  filter(!(X15.48 %in% c('G:C', 'A:U'))) %>% nrow()"
   ]
  },
  {
   "cell_type": "markdown",
   "metadata": {},
   "source": [
    "#### Which isotypes/clades/species fail the consensus checks?"
   ]
  },
  {
   "cell_type": "code",
   "execution_count": null,
   "metadata": {},
   "outputs": [],
   "source": [
    "best_freqs %>% head"
   ]
  },
  {
   "cell_type": "code",
   "execution_count": null,
   "metadata": {
    "scrolled": true
   },
   "outputs": [],
   "source": [
    "## Clade/isotype check\n",
    "best_freqs %>% filter(positions == 'X15.48') %>% group_by(clade, isotype) %>%\n",
    "  summarize(status = sum((feature %in% c('GC', 'AU', 'PurinePyrimidine')) * n) / sum(n) == 1) %>%\n",
    "  filter(!status)\n",
    "\n",
    "## Species check\n",
    "identities %>% select(clade, species, isotype, X15.48) %>%\n",
    "  group_by(clade, species, isotype) %>%\n",
    "  summarize(status = sum((X15.48 %in% c('G:C', 'A:U'))/n()) >= 0.1,\n",
    "            freq = sum(X15.48 %in% c('G:C', 'A:U')), tRNAs = n()) %>%\n",
    "  filter(!status)"
   ]
  },
  {
   "cell_type": "markdown",
   "metadata": {},
   "source": [
    "This one's the Levitt base pair, and has been shown in E. coli to tolerate different combinations other than R15:Y48. Despite the historical hubbub, it looks like a typical clade/isotype-specific IDE. Are any isotypes enriched?"
   ]
  },
  {
   "cell_type": "code",
   "execution_count": null,
   "metadata": {},
   "outputs": [],
   "source": [
    "identities %>% select(clade, species, isotype, X15.48) %>%\n",
    "  group_by(isotype) %>%\n",
    "  summarize(freq=sum((X15.48 %in% c('G:C', 'A:U'))/n()))"
   ]
  },
  {
   "cell_type": "markdown",
   "metadata": {},
   "source": [
    "### A21 and 8-14-21\n",
    "\n",
    "#### Number of tRNAs without A21 or U8-A14-A21"
   ]
  },
  {
   "cell_type": "code",
   "execution_count": null,
   "metadata": {},
   "outputs": [],
   "source": [
    "identities %>% select(clade, species, X8.14, X21) %>%\n",
    "  filter(X8.14 != 'U:A' & X21 != 'A') %>% nrow()\n",
    "\n",
    "identities %>% select(clade, species, X8.14, X21) %>%\n",
    "  filter(X21 != 'A') %>% nrow()"
   ]
  },
  {
   "cell_type": "markdown",
   "metadata": {},
   "source": [
    "Even though U:A:A is almost universally conserved, I'm going to focus on A21. The 4 tRNAs without U:A:A can easily be explained away by compensatory tRNAs with U:A:A.\n",
    "\n",
    "#### Which isotypes/clades/species fail the consensus checks?"
   ]
  },
  {
   "cell_type": "code",
   "execution_count": null,
   "metadata": {
    "scrolled": false
   },
   "outputs": [],
   "source": [
    "## Clade/isotype check\n",
    "best_freqs %>% filter(positions == 'X21') %>% group_by(clade, isotype) %>%\n",
    "  summarize(status=sum((feature == 'A')*count)/sum(count) == 1) %>%\n",
    "  filter(!status)\n",
    "\n",
    "## Species check\n",
    "identities %>% select(clade, species, isotype, X21) %>%\n",
    "  group_by(clade, species, isotype) %>%\n",
    "  summarize(status=sum(X21 == 'A')/n() >= 0.1,\n",
    "            freq=sum(X21 == 'A'), tRNAs=n()) %>%\n",
    "  filter(!status)"
   ]
  },
  {
   "cell_type": "code",
   "execution_count": null,
   "metadata": {
    "scrolled": true
   },
   "outputs": [],
   "source": [
    "identities %>% select(clade, species, isotype, anticodon, score, isoscore, X8, X14, X15, X16, X17, X17a, X18, X19, X20, X20a, X20b, X21, X22) %>%\n",
    "  filter((species %in% c(\"aspeNidu_FGSC_A4\", \"sporReil_SRZ2\", \"ustiMayd_521\") & isotype == \"Phe\") | (species %in% c(\"schiPomb_972H\") & isotype == \"Met\"))"
   ]
  },
  {
   "cell_type": "markdown",
   "metadata": {},
   "source": [
    "It's hard to say whether these are misalignments or not. _S. pombe_ was previously noted as an exception to the A21 rule. We introduce 3 new exceptions with no compensatory tRNAs. It's unusual that all of them are Phe. It's probably not evolutionarily related since there are several more species more related to each of them (e.g., _Aspergillus oryzae_). One possibility is that the fungi Phe synthetase or processing machinery is more permissive in general, and that it can tolerate mutations.\n",
    "\n",
    "#### What's known\n",
    "\n",
    "M&G: Always A21, but there are 3 copies of G21 in _S. pombe_. It interacts as U8-A14-A21.\n",
    "\n",
    "### U33\n",
    "\n",
    "#### Number of tRNAs without U33"
   ]
  },
  {
   "cell_type": "code",
   "execution_count": null,
   "metadata": {},
   "outputs": [],
   "source": [
    "identities %>% select(clade, species, X33) %>%\n",
    "  filter(X33 != 'U') %>% nrow()"
   ]
  },
  {
   "cell_type": "markdown",
   "metadata": {},
   "source": [
    "#### Which isotypes/clades/species fail the consensus checks?"
   ]
  },
  {
   "cell_type": "code",
   "execution_count": null,
   "metadata": {},
   "outputs": [],
   "source": [
    "## Clade/isotype check\n",
    "best_freqs %>% filter(positions == 'X33') %>% group_by(clade, isotype) %>%\n",
    "  summarize(status=sum((feature == 'U')*count)/sum(count) == 1) %>%\n",
    "  filter(!status)"
   ]
  },
  {
   "cell_type": "markdown",
   "metadata": {},
   "source": [
    "This is a pretty strong non-Fungi iMet identity element (which is known). M&G note some Cs here and there, plus a G33 in _Candida albicans_ that disrupts the anticodon arm and deforms the tRNA, decreasing charging efficiency."
   ]
  },
  {
   "cell_type": "markdown",
   "metadata": {},
   "source": [
    "## Other thoughts\n",
    "\n",
    "- Although the synthetase and tRNA should represent a stronger evolutionary signal w.r.t speciation, this isn't the case for tRNA processing that is not isotype-specific.\n",
    "    - For instance, yeast has an unusually high amount of introns. \n",
    "    - This could apply to other processing enzymes, e.g., RNase P, RNase Z, etc.\n",
    "\n",
    "\n",
    "# Strategy 2: Isotype-specific features"
   ]
  },
  {
   "cell_type": "code",
   "execution_count": null,
   "metadata": {
    "collapsed": true
   },
   "outputs": [],
   "source": [
    "iso_cutoff_freqs = data.frame()\n",
    "for (cutoff in c(0.5, 0.6, 0.7, 0.8, 0.9, 0.95, 0.99, 1.0)) {\n",
    "  df = clade_iso_freqs %>%\n",
    "    group_by(isotype, positions, feature) %>%\n",
    "    summarize(count = sum(n), freq = sum(n)/sum(clade_iso_pos_total)) %>%\n",
    "    filter(freq >= cutoff) %>%\n",
    "    mutate(cutoff = as.character(cutoff)) %>%\n",
    "    select(isotype, positions, feature, freq, cutoff) %>%\n",
    "    group_by(isotype, positions) %>%\n",
    "    arrange(code_groups[feature], desc(freq)) %>%\n",
    "    filter(row_number(positions) == 1)\n",
    "  if (nrow(iso_cutoff_freqs) == 0) iso_cutoff_freqs = df\n",
    "  else iso_cutoff_freqs = rbind(iso_cutoff_freqs, df)\n",
    "}"
   ]
  },
  {
   "cell_type": "code",
   "execution_count": null,
   "metadata": {
    "scrolled": false
   },
   "outputs": [],
   "source": [
    "iso_cutoff_freqs %>% \n",
    "  mutate(feature = as.character(feature)) %>%\n",
    "  bind_rows(isotype_specific %>% mutate(feature = identity, freq = 0.9, cutoff = \"Isotype-specific\") %>% select(-identity)) %>%\n",
    "  filter(positions %in% c(names(paired_positions), names(single_positions))) %>%\n",
    "  filter(!(positions %in% cutoff_freqs$positions[cutoff_freqs$cutoff == 0.9 & cutoff_freqs$feature %in% c(\"A\", \"C\", \"G\", \"U\", \"AU\", \"UA\", \"GC\", \"CG\", \"UG\", \"GU\")])) %>%\n",
    "  filter(cutoff %in% c(0.95, 'Isotype-specific')) %>%\n",
    "  select(-freq) %>%\n",
    "  spread(cutoff, feature) %>% # generate NAs for missing identities\n",
    "  gather(cutoff, feature, -isotype, -positions) %>%\n",
    "  group_by(isotype, positions) %>%\n",
    "  arrange(cutoff) %>% \n",
    "  summarize(identity = paste(feature, collapse = \" / \")) %>%\n",
    "  spread(isotype, identity, fill = '-') %>%\n",
    "  kable %>% as.character %>% display_markdown"
   ]
  },
  {
   "cell_type": "markdown",
   "metadata": {},
   "source": [
    "Literally hundreds of candidates here. I want to choose a position that is (a) not involved in 3D interactions, (b) not involved in base pairing, (c) has clear isotype specificity, (d) does not have clear functionality (aside from intron splicing, but this is an exception), (e) is a single position (we looked at a lot of base pairs above), and (f) differs between 99% and isotype-specific cutoffs. It'd also be nice if the isotype is not Pro and is of Type I, and the exception is not from Fungi.\n",
    "\n",
    "First - we try Tyr-A38:"
   ]
  },
  {
   "cell_type": "code",
   "execution_count": null,
   "metadata": {},
   "outputs": [],
   "source": [
    "iso_cutoff_freqs %>% mutate(feature = as.character(feature)) %>%\n",
    "  bind_rows(isotype_specific %>% mutate(feature = identity, freq = 0.9, cutoff = \"Isotype-specific\") %>% select(-identity)) %>%\n",
    "  filter(isotype == \"Tyr\" & positions == \"X38\") %>%\n",
    "  spread(cutoff, feature, fill = '-') %>% select(-freq)"
   ]
  },
  {
   "cell_type": "markdown",
   "metadata": {},
   "source": [
    "#### No. of Tyr RNAs without A38"
   ]
  },
  {
   "cell_type": "code",
   "execution_count": null,
   "metadata": {},
   "outputs": [],
   "source": [
    "identities %>% select(clade, species, isotype, X38) %>%\n",
    "  filter(isotype == \"Tyr\" & X38 != 'A') %>% nrow()"
   ]
  },
  {
   "cell_type": "markdown",
   "metadata": {},
   "source": [
    "#### Which species or clades fail the check?"
   ]
  },
  {
   "cell_type": "code",
   "execution_count": null,
   "metadata": {},
   "outputs": [],
   "source": [
    "## Clade check\n",
    "best_freqs %>% filter(positions == 'X38' & isotype == \"Tyr\") %>% group_by(clade) %>%\n",
    "  summarize(status=sum((feature == 'A')*count)/sum(count) == 1) %>%\n",
    "  filter(!status)\n",
    "\n",
    "## Species check\n",
    "identities %>% select(clade, species, isotype, X38) %>%\n",
    "  filter(isotype == \"Tyr\") %>%\n",
    "  group_by(clade, species) %>%\n",
    "  summarize(status=sum(X38 == 'A')/n() >= 0.1,\n",
    "            freq=sum(X38 == 'A'), tRNAs=n()) %>%\n",
    "  filter(!status)"
   ]
  },
  {
   "cell_type": "markdown",
   "metadata": {},
   "source": [
    "Yet another example with these two fungi. Next, we try Asp-U59:\n",
    "\n",
    "#### No. of Asp RNAs without U59"
   ]
  },
  {
   "cell_type": "code",
   "execution_count": null,
   "metadata": {},
   "outputs": [],
   "source": [
    "iso_cutoff_freqs %>% mutate(feature = as.character(feature)) %>%\n",
    "  bind_rows(isotype_specific %>% mutate(feature = identity, freq = 0.9, cutoff = \"Isotype-specific\") %>% select(-identity)) %>%\n",
    "  filter(isotype == \"Asp\" & positions == \"X59\") %>%\n",
    "  spread(cutoff, feature, fill = '-') %>% select(-freq)"
   ]
  },
  {
   "cell_type": "markdown",
   "metadata": {},
   "source": [
    "#### Which species or clades fail the check?"
   ]
  },
  {
   "cell_type": "code",
   "execution_count": null,
   "metadata": {},
   "outputs": [],
   "source": [
    "## Clade check\n",
    "best_freqs %>% filter(positions == 'X59' & isotype == \"Asp\") %>% group_by(clade) %>%\n",
    "  summarize(status=sum((feature == 'U')*count)/sum(count) == 1) %>%\n",
    "  filter(!status)\n",
    "\n",
    "## Species check\n",
    "identities %>% select(clade, species, isotype, X59) %>%\n",
    "  filter(isotype == \"Asp\") %>%\n",
    "  group_by(clade, species) %>%\n",
    "  summarize(status=sum(X59 == 'U')/n() >= 0.1,\n",
    "            freq=sum(X59 == 'U'), tRNAs=n()) %>%\n",
    "  filter(!status)"
   ]
  },
  {
   "cell_type": "markdown",
   "metadata": {
    "collapsed": true
   },
   "source": [
    "More fungi examples. Next, we try Ile 29:41.\n",
    "\n",
    "#### Ile G29:C41"
   ]
  },
  {
   "cell_type": "code",
   "execution_count": null,
   "metadata": {},
   "outputs": [],
   "source": [
    "## No. tRNAs without G29:C41\n",
    "identities %>% select(clade, species, isotype, X29.41) %>%\n",
    "  filter(isotype == \"Ile\" & X29.41 != 'G:C') %>% nrow()\n",
    "\n",
    "## Clade check\n",
    "best_freqs %>% filter(positions == 'X29.41' & isotype == \"Ile\") %>% group_by(clade) %>%\n",
    "  summarize(status=sum((feature == 'GC')*count)/sum(count) == 1) %>%\n",
    "  filter(!status)\n",
    "\n",
    "## Species check\n",
    "identities %>% select(clade, species, isotype, X29.41) %>%\n",
    "  filter(isotype == \"Ile\") %>%\n",
    "  group_by(clade, species) %>%\n",
    "  summarize(status=sum(X29.41 == 'G:C')/n() >= 0.1,\n",
    "            freq=sum(X29.41 == 'G:C'), tRNAs=n()) %>%\n",
    "  filter(!status)"
   ]
  },
  {
   "cell_type": "markdown",
   "metadata": {},
   "source": [
    "#### Cys A38"
   ]
  },
  {
   "cell_type": "code",
   "execution_count": null,
   "metadata": {},
   "outputs": [],
   "source": [
    "## No. tRNAs without A38\n",
    "identities %>% select(clade, species, isotype, X38) %>%\n",
    "  filter(isotype == \"Cys\" & X38 != 'A') %>% nrow()\n",
    "\n",
    "## Clade check\n",
    "best_freqs %>% filter(positions == 'X38' & isotype == \"Cys\") %>% group_by(clade) %>%\n",
    "  summarize(status=sum((feature == 'A')*count)/sum(count) == 1) %>%\n",
    "  filter(!status)\n",
    "\n",
    "## Species check\n",
    "identities %>% select(clade, species, isotype, X38) %>%\n",
    "  filter(isotype == \"Cys\") %>%\n",
    "  group_by(clade, species) %>%\n",
    "  summarize(status=sum(X38 == 'A')/n() >= 0.1,\n",
    "            freq=sum(X38 == 'A'), tRNAs=n()) %>%\n",
    "  filter(!status)"
   ]
  },
  {
   "cell_type": "markdown",
   "metadata": {},
   "source": [
    "Finally, an example outside of fungi!"
   ]
  },
  {
   "cell_type": "code",
   "execution_count": null,
   "metadata": {},
   "outputs": [],
   "source": [
    "identities %>% filter(species == \"panRed1\", isotype == \"Cys\") %>%\n",
    "  kable %>% as.character %>% display_markdown"
   ]
  },
  {
   "cell_type": "markdown",
   "metadata": {},
   "source": [
    "There are 5 copies of Cys in _Panagrellus redivivus_, a nematode commonly used to feed aquarium fish.\n",
    "\n",
    "#### Asp-A46"
   ]
  },
  {
   "cell_type": "code",
   "execution_count": null,
   "metadata": {},
   "outputs": [],
   "source": [
    "## No. tRNAs without A46\n",
    "identities %>% select(clade, species, isotype, X46) %>%\n",
    "  filter(isotype == \"Asp\" & X46 != 'A') %>% nrow()\n",
    "\n",
    "## Clade check\n",
    "best_freqs %>% filter(positions == 'X46' & isotype == \"Asp\") %>% group_by(clade) %>%\n",
    "  summarize(status=sum((feature == 'A')*count)/sum(count) == 1) %>%\n",
    "  filter(!status)\n",
    "\n",
    "## Species check\n",
    "identities %>% select(clade, species, isotype, X46) %>%\n",
    "  filter(isotype == \"Asp\") %>%\n",
    "  group_by(clade, species) %>%\n",
    "  summarize(status=sum(X46 == 'A')/n() >= 0.1,\n",
    "            freq=sum(X46 == 'A'), tRNAs=n()) %>%\n",
    "  filter(!status)"
   ]
  },
  {
   "cell_type": "markdown",
   "metadata": {},
   "source": [
    "Is this enriched in certain clades?"
   ]
  },
  {
   "cell_type": "code",
   "execution_count": null,
   "metadata": {},
   "outputs": [],
   "source": [
    "identities %>% select(clade, species, isotype, quality, X46) %>%\n",
    "  filter(quality & isotype == \"Asp\" & X46 != 'A') %>% group_by(clade) %>% tally()"
   ]
  },
  {
   "cell_type": "markdown",
   "metadata": {},
   "source": [
    "How about certain species? Pseudo tRNA counts are obtained from the quality set filter file."
   ]
  },
  {
   "cell_type": "code",
   "execution_count": null,
   "metadata": {},
   "outputs": [],
   "source": []
  },
  {
   "cell_type": "code",
   "execution_count": null,
   "metadata": {},
   "outputs": [],
   "source": [
    "df = identities %>% select(clade, species, isotype, X46) %>%\n",
    "  group_by(species) %>%\n",
    "  mutate(ntRNAs = n()) %>%\n",
    "  ungroup() %>%\n",
    "  filter(isotype == \"Asp\" & X46 != 'A') %>% \n",
    "  group_by(clade, species, ntRNAs) %>% \n",
    "  summarize(countB46 = n()) %>%\n",
    "  ungroup() %>%\n",
    "  mutate(nPseudo = c(191918, 228656, 1908, 222374, 102, 1679, 93827, 244, 154651, 103, 8, 103, 36, 12, 98))\n",
    "\n",
    "df"
   ]
  },
  {
   "cell_type": "markdown",
   "metadata": {},
   "source": [
    "What's the typical score for these guys?"
   ]
  },
  {
   "cell_type": "code",
   "execution_count": null,
   "metadata": {},
   "outputs": [],
   "source": [
    "# Score for all identified species\n",
    "identities %>% select(clade, species, isotype, X46, score, isoscore) %>%\n",
    "  filter(isotype == \"Asp\", species %in% df$species) %>%\n",
    "  group_by(X46) %>%\n",
    "  summarize(score = mean(score), isoscore = mean(isoscore))\n",
    "\n",
    "# Score for low pseudogene count species\n",
    "identities %>% select(clade, species, isotype, quality, X46, score, isoscore) %>%\n",
    "  filter(isotype == \"Asp\", species %in% df$species) %>%\n",
    "  mutate(species = ifelse(species %in% c(\"panTro4\", \"tarSyr2\", \"ce11\", \"araTha1\", \"braOle1\", \"carPap1\", \"orySat7\", \"solPen1\"), \"Low pseudo\", \"Hi pseudo\")) %>%\n",
    "  group_by(species, X46) %>%\n",
    "  summarize(score = mean(score), isoscore = mean(isoscore))"
   ]
  },
  {
   "cell_type": "markdown",
   "metadata": {},
   "source": [
    "These actually score fairly well. In high tRNA pseudogene species, there's a slight difference between A46 and G46 Asp-specific scores, whereas in low pseudogene species, there's a negligible difference.\n",
    "\n",
    "To be fair, there aren't a lot of low pseudogene species and tRNAs to compare. It's a small signal, a very small piece of evidence. I'll run the low pseudo guys through the single tRNA analysis pipeline."
   ]
  },
  {
   "cell_type": "code",
   "execution_count": null,
   "metadata": {},
   "outputs": [],
   "source": [
    "identities %>%\n",
    "  filter(isotype == \"Asp\", X46 == \"G\") %>% \n",
    "  filter(species %in% c(\"panTro4\", \"tarSyr2\", \"ce11\", \"araTha1\", \"braOle1\", \"carPap1\", \"orySat7\", \"solPen1\")) %>%\n",
    "  kable %>% as.character %>% display_html"
   ]
  },
  {
   "cell_type": "markdown",
   "metadata": {},
   "source": [
    "- _A. thaliana_'s Asp is the highest scoring one, and is single copy. It differs from all other Asp tRNAs by one base (G46). Same with _C. elegans_.\n",
    "- In _O. sativa_, _T. syrichta_, and _P. troglodytes_, it's single copy.\n",
    "\n",
    "Here are the bitcharts for these guys with respect to mammalian Asp: \n",
    "![Asp-G46 bitchart](figures/Asp-G46.png)"
   ]
  },
  {
   "cell_type": "code",
   "execution_count": null,
   "metadata": {
    "collapsed": true
   },
   "outputs": [],
   "source": []
  }
 ],
 "metadata": {
  "anaconda-cloud": {},
  "kernelspec": {
   "display_name": "R",
   "language": "R",
   "name": "ir"
  },
  "language_info": {
   "codemirror_mode": "r",
   "file_extension": ".r",
   "mimetype": "text/x-r-source",
   "name": "R",
   "pygments_lexer": "r",
   "version": "3.3.1"
  }
 },
 "nbformat": 4,
 "nbformat_minor": 1
}
