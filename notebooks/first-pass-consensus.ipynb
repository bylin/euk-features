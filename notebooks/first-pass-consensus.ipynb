{
 "cells": [
  {
   "cell_type": "code",
   "execution_count": 1,
   "metadata": {
    "collapsed": false,
    "scrolled": true
   },
   "outputs": [
    {
     "name": "stderr",
     "output_type": "stream",
     "text": [
      "\n",
      "Attaching package: ‘dplyr’\n",
      "\n",
      "The following objects are masked from ‘package:stats’:\n",
      "\n",
      "    filter, lag\n",
      "\n",
      "The following objects are masked from ‘package:base’:\n",
      "\n",
      "    intersect, setdiff, setequal, union\n",
      "\n",
      "\n",
      "Attaching package: ‘tidyr’\n",
      "\n",
      "The following object is masked from ‘package:reshape2’:\n",
      "\n",
      "    smiths\n",
      "\n"
     ]
    }
   ],
   "source": [
    "library(ggplot2)\n",
    "library(reshape2)\n",
    "library(dplyr)\n",
    "library(stringr)\n",
    "library(tidyr)\n",
    "theme_set(theme_bw())\n",
    "options(repr.plot.width=7, repr.plot.height=4)"
   ]
  },
  {
   "cell_type": "markdown",
   "metadata": {},
   "source": [
    "# Introduction\n",
    "\n",
    "In [clade-freqs](clade-freqs.ipynb), I've annotated a list of identity elements that appear to be conserved in over 95% of tRNAs. Some of these are reflected in the literature; others are not. I expect that the well-studied IDEs that are agreed to be universal to hold true. Thus, I need to look into the tRNAs that *don't* have this IDE. \n",
    "\n",
    "Do these exceptions function as tRNAs? Using a suite of supposedly gold standard IDEs, we would expect to be able to differentiate between bona fide tRNAs and tRNA pseudogenes.\n",
    "\n",
    "I'll get a set of tRNAs that may or may not be missing a key IDE. I'll then proceed in two branches. \n",
    "1) IDE rules. We've learned something about which IDEs are required. We now know how to choose canonical tRNAs. Filter based on these IDEs or based on suites of IDEs, regenerate frequencies, rinse and repeat.\n",
    "2) Interesting exceptions to the rule. Some tRNAs are exceptional. Look deeply into a few examples where they're missing a key IDE. Are any of them functional? Are they missing all of the other IDEs?\n",
    " \n",
    "#2 is easier to tackle first, as we isolate the tRNAs. First, we'll recreate the frequency table.\n",
    "\n",
    "# Data wrangling\n",
    "\n",
    "## Import alignment and bases\n"
   ]
  },
  {
   "cell_type": "code",
   "execution_count": 2,
   "metadata": {
    "collapsed": false
   },
   "outputs": [],
   "source": [
    "identities = read.delim('identities.tsv', sep='\\t', stringsAsFactors=FALSE)\n",
    "identities$quality = as.logical(identities$quality)\n",
    "identities$restrict = as.logical(identities$restrict)"
   ]
  },
  {
   "cell_type": "code",
   "execution_count": 3,
   "metadata": {
    "collapsed": false
   },
   "outputs": [],
   "source": [
    "positions = colnames(identities)[which(str_detect(colnames(identities), \"X\\\\d+\\\\.\\\\d+$\"))]\n",
    "positions = c(positions, 'X8', 'X9', 'X14', 'X15', 'X16', 'X17', 'X18', 'X19', 'X20', 'X20a', 'X21', 'X26', 'X32', 'X33', 'X34', 'X35', 'X36', 'X37', 'X38', 'X44', 'X45', 'X46', 'X47', 'X48', 'X54', 'X55', 'X56', 'X57', 'X58', 'X59', 'X60', 'X73')"
   ]
  },
  {
   "cell_type": "markdown",
   "metadata": {},
   "source": [
    "## Get frequencies"
   ]
  },
  {
   "cell_type": "code",
   "execution_count": 5,
   "metadata": {
    "collapsed": false
   },
   "outputs": [],
   "source": [
    "clade_iso_freqs = identities %>%\n",
    "  select(match(c('clade', 'isotype', positions), colnames(identities))) %>%\n",
    "  gather(positions, bases, -clade, -isotype) %>%\n",
    "  group_by(clade, isotype, positions, bases) %>%\n",
    "  tally() %>%\n",
    "  group_by(clade, isotype, positions) %>%\n",
    "  mutate(freq=n) %>%\n",
    "  group_by(clade, isotype, positions) %>%\n",
    "  summarize(A = sum(freq[bases == \"A\"]),\n",
    "            C = sum(freq[bases == \"C\"]),\n",
    "            G = sum(freq[bases == \"G\"]),\n",
    "            U = sum(freq[bases == \"U\"]),\n",
    "            Deletion = sum(freq[bases %in% c(\"-\", \".\")]), \n",
    "            Purine = sum(freq[bases %in% c(\"A\", \"G\")]),\n",
    "            Pyrimidine = sum(freq[bases %in% c(\"C\", \"U\")]),\n",
    "            Weak = sum(freq[bases %in% c(\"A\", \"U\")]),\n",
    "            Strong = sum(freq[bases %in% c(\"G\", \"C\")]),\n",
    "            Amino = sum(freq[bases %in% c(\"A\", \"C\")]),\n",
    "            Keto = sum(freq[bases %in% c(\"G\", \"U\")]),\n",
    "            B = sum(freq[bases %in% c(\"C\", \"G\", \"U\")]),\n",
    "            D = sum(freq[bases %in% c(\"A\", \"G\", \"U\")]),\n",
    "            H = sum(freq[bases %in% c(\"A\", \"C\", \"U\")]),\n",
    "            V = sum(freq[bases %in% c(\"A\", \"C\", \"G\")]),\n",
    "            D = sum(freq[bases %in% c(\"A\", \"G\", \"U\")]),\n",
    "            GC = sum(freq[bases == \"G:C\"]),\n",
    "            AU = sum(freq[bases == \"A:U\"]),\n",
    "            UA = sum(freq[bases == \"U:A\"]),\n",
    "            CG = sum(freq[bases == \"C:G\"]),\n",
    "            GU = sum(freq[bases == \"G:U\"]),\n",
    "            UG = sum(freq[bases == \"U:G\"]),\n",
    "            PairDeletion = sum(freq[bases == \"-:-\"]), \n",
    "            PurinePyrimidine = sum(freq[bases %in% c(\"A:U\", \"G:C\")]),\n",
    "            PyrimidinePurine = sum(freq[bases %in% c(\"U:A\", \"C:G\")]),\n",
    "            StrongPair = sum(freq[bases %in% c(\"G:C\", \"C:G\")]),\n",
    "            WeakPair = sum(freq[bases %in% c(\"A:U\", \"U:A\")]),\n",
    "            Wobble = sum(freq[bases %in% c(\"G:U\", \"U:G\")]),\n",
    "            Paired = sum(freq[bases %in% c(\"A:U\", \"U:A\", \"C:G\", \"G:C\", \"G:U\", \"U:G\")]),\n",
    "            Bulge = sum(freq[bases %in% c(\"A:-\", \"U:-\", \"C:-\", \"G:-\", \"-:A\", \"-:G\", \"-:C\", \"-:U\")]),\n",
    "            Mismatched = sum(freq[bases %in% c(\"A:A\", \"G:G\", \"C:C\", \"U:U\", \"A:G\", \"A:C\", \"C:A\", \"C:U\", \"G:A\", \"U:C\")])\n",
    "            ) %>%\n",
    "  mutate(total = A + B + Deletion + Paired + Mismatched + Bulge + PairDeletion) %>%\n",
    "  melt(id.vars=c(\"clade\", \"isotype\", \"positions\", \"total\")) %>%\n",
    "  mutate(freq=value/total)"
   ]
  },
  {
   "cell_type": "code",
   "execution_count": 6,
   "metadata": {
    "collapsed": false
   },
   "outputs": [
    {
     "data": {
      "text/html": [
       "<table>\n",
       "<thead><tr><th></th><th scope=col>positions</th><th scope=col>variable</th><th scope=col>count</th><th scope=col>freq</th></tr></thead>\n",
       "<tbody>\n",
       "\t<tr><th scope=row>1</th><td>X10.25</td><td>Paired</td><td>108575</td><td>0.9849145</td></tr>\n",
       "\t<tr><th scope=row>2</th><td>X14</td><td>A</td><td>109604</td><td>0.9942488</td></tr>\n",
       "\t<tr><th scope=row>3</th><td>X15</td><td>Purine</td><td>109916</td><td>0.997079</td></tr>\n",
       "\t<tr><th scope=row>4</th><td>X18</td><td>G</td><td>109042</td><td>0.9891507</td></tr>\n",
       "\t<tr><th scope=row>5</th><td>X18.55</td><td>GU</td><td>107878</td><td>0.9785918</td></tr>\n",
       "\t<tr><th scope=row>6</th><td>X19</td><td>G</td><td>108902</td><td>0.9878808</td></tr>\n",
       "\t<tr><th scope=row>7</th><td>X19.56</td><td>Paired</td><td>108429</td><td>0.983599</td></tr>\n",
       "\t<tr><th scope=row>8</th><td>X20</td><td>H</td><td>106812</td><td>0.9689218</td></tr>\n",
       "\t<tr><th scope=row>9</th><td>X21</td><td>A</td><td>108344</td><td>0.982819</td></tr>\n",
       "\t<tr><th scope=row>10</th><td>X26</td><td>D</td><td>107831</td><td>0.9781654</td></tr>\n",
       "\t<tr><th scope=row>11</th><td>X32</td><td>Pyrimidine</td><td>109874</td><td>0.9966981</td></tr>\n",
       "\t<tr><th scope=row>12</th><td>X33</td><td>U</td><td>107716</td><td>0.9771222</td></tr>\n",
       "\t<tr><th scope=row>13</th><td>X37</td><td>Purine</td><td>109567</td><td>0.9939132</td></tr>\n",
       "\t<tr><th scope=row>14</th><td>X3.70</td><td>Paired</td><td>106010</td><td>0.96176</td></tr>\n",
       "\t<tr><th scope=row>15</th><td>X38</td><td>H</td><td>109647</td><td>0.9946389</td></tr>\n",
       "\t<tr><th scope=row>16</th><td>X44</td><td>D</td><td>104782</td><td>0.9505157</td></tr>\n",
       "\t<tr><th scope=row>17</th><td>X46</td><td>Purine</td><td>109198</td><td>0.9905659</td></tr>\n",
       "\t<tr><th scope=row>18</th><td>X48</td><td>Pyrimidine</td><td>106132</td><td>0.962762</td></tr>\n",
       "\t<tr><th scope=row>19</th><td>X49.65</td><td>Paired</td><td>106896</td><td>0.9697014</td></tr>\n",
       "\t<tr><th scope=row>20</th><td>X53.61</td><td>Paired</td><td>107645</td><td>0.976487</td></tr>\n",
       "\t<tr><th scope=row>21</th><td>X54</td><td>U</td><td>107175</td><td>0.9722147</td></tr>\n",
       "\t<tr><th scope=row>22</th><td>X54.58</td><td>Paired</td><td>106741</td><td>0.9682865</td></tr>\n",
       "\t<tr><th scope=row>23</th><td>X55</td><td>U</td><td>109063</td><td>0.9893412</td></tr>\n",
       "\t<tr><th scope=row>24</th><td>X56</td><td>V</td><td>104896</td><td>0.9515498</td></tr>\n",
       "\t<tr><th scope=row>25</th><td>X57</td><td>Purine</td><td>109499</td><td>0.9933053</td></tr>\n",
       "\t<tr><th scope=row>26</th><td>X58</td><td>A</td><td>107426</td><td>0.9745004</td></tr>\n",
       "\t<tr><th scope=row>27</th><td>X59</td><td>D</td><td>104807</td><td>0.9507339</td></tr>\n",
       "\t<tr><th scope=row>28</th><td>X60</td><td>Pyrimidine</td><td>105699</td><td>0.9588255</td></tr>\n",
       "\t<tr><th scope=row>29</th><td>X73</td><td>D</td><td>106835</td><td>0.9693942</td></tr>\n",
       "\t<tr><th scope=row>30</th><td>X8</td><td>U</td><td>107368</td><td>0.9739654</td></tr>\n",
       "\t<tr><th scope=row>31</th><td>X8.14</td><td>UA</td><td>106746</td><td>0.9683231</td></tr>\n",
       "\t<tr><th scope=row>32</th><td>X9</td><td>Purine</td><td>108842</td><td>0.9873365</td></tr>\n",
       "</tbody>\n",
       "</table>\n"
      ],
      "text/latex": [
       "\\begin{tabular}{r|llll}\n",
       "  & positions & variable & count & freq\\\\\n",
       "\\hline\n",
       "\t1 & X10.25 & Paired & 108575 & 0.9849145\\\\\n",
       "\t2 & X14 & A & 109604 & 0.9942488\\\\\n",
       "\t3 & X15 & Purine & 109916 & 0.997079\\\\\n",
       "\t4 & X18 & G & 109042 & 0.9891507\\\\\n",
       "\t5 & X18.55 & GU & 107878 & 0.9785918\\\\\n",
       "\t6 & X19 & G & 108902 & 0.9878808\\\\\n",
       "\t7 & X19.56 & Paired & 108429 & 0.983599\\\\\n",
       "\t8 & X20 & H & 106812 & 0.9689218\\\\\n",
       "\t9 & X21 & A & 108344 & 0.982819\\\\\n",
       "\t10 & X26 & D & 107831 & 0.9781654\\\\\n",
       "\t11 & X32 & Pyrimidine & 109874 & 0.9966981\\\\\n",
       "\t12 & X33 & U & 107716 & 0.9771222\\\\\n",
       "\t13 & X37 & Purine & 109567 & 0.9939132\\\\\n",
       "\t14 & X3.70 & Paired & 106010 & 0.96176\\\\\n",
       "\t15 & X38 & H & 109647 & 0.9946389\\\\\n",
       "\t16 & X44 & D & 104782 & 0.9505157\\\\\n",
       "\t17 & X46 & Purine & 109198 & 0.9905659\\\\\n",
       "\t18 & X48 & Pyrimidine & 106132 & 0.962762\\\\\n",
       "\t19 & X49.65 & Paired & 106896 & 0.9697014\\\\\n",
       "\t20 & X53.61 & Paired & 107645 & 0.976487\\\\\n",
       "\t21 & X54 & U & 107175 & 0.9722147\\\\\n",
       "\t22 & X54.58 & Paired & 106741 & 0.9682865\\\\\n",
       "\t23 & X55 & U & 109063 & 0.9893412\\\\\n",
       "\t24 & X56 & V & 104896 & 0.9515498\\\\\n",
       "\t25 & X57 & Purine & 109499 & 0.9933053\\\\\n",
       "\t26 & X58 & A & 107426 & 0.9745004\\\\\n",
       "\t27 & X59 & D & 104807 & 0.9507339\\\\\n",
       "\t28 & X60 & Pyrimidine & 105699 & 0.9588255\\\\\n",
       "\t29 & X73 & D & 106835 & 0.9693942\\\\\n",
       "\t30 & X8 & U & 107368 & 0.9739654\\\\\n",
       "\t31 & X8.14 & UA & 106746 & 0.9683231\\\\\n",
       "\t32 & X9 & Purine & 108842 & 0.9873365\\\\\n",
       "\\end{tabular}\n"
      ],
      "text/plain": [
       "Source: local data frame [32 x 4]\n",
       "Groups: positions [32]\n",
       "\n",
       "   positions variable  count      freq\n",
       "       <chr>   <fctr>  <int>     <dbl>\n",
       "1     X10.25   Paired 108575 0.9849145\n",
       "2        X14        A 109604 0.9942488\n",
       "3        X15   Purine 109916 0.9970790\n",
       "4        X18        G 109042 0.9891507\n",
       "5     X18.55       GU 107878 0.9785918\n",
       "6        X19        G 108902 0.9878808\n",
       "7     X19.56   Paired 108429 0.9835990\n",
       "8        X20        H 106812 0.9689218\n",
       "9        X21        A 108344 0.9828190\n",
       "10       X26        D 107831 0.9781654\n",
       "# ... with 22 more rows"
      ]
     },
     "execution_count": 6,
     "metadata": {},
     "output_type": "execute_result"
    }
   ],
   "source": [
    "euk_freqs =  clade_iso_freqs %>% group_by(positions, variable) %>%\n",
    "  summarize(count=sum(value), freq=sum(value)/sum(total))\n",
    "\n",
    "consensus = euk_freqs %>%\n",
    "  filter(freq > 0.95) %>%\n",
    "  group_by(positions) %>% # remove duplicates\n",
    "  filter(row_number(freq) == 1) %>%\n",
    "  arrange(positions)\n",
    "consensus"
   ]
  },
  {
   "cell_type": "markdown",
   "metadata": {},
   "source": [
    "# Analysis of eukaryotic all-tRNA consensus identity elements\n",
    "\n",
    "## 3:70\n",
    "\n",
    "M&G: Even numbers across all pairs, 9 mismatches. G3-U70 unique to Ala. A few other isotypes have single exceptions. Antideterminant for Thr. C3-G70 positive for iMet. Dependent on 2-71 context.\n",
    "\n",
    "First, let's check the iMet frequencies. "
   ]
  },
  {
   "cell_type": "code",
   "execution_count": 7,
   "metadata": {
    "collapsed": false
   },
   "outputs": [
    {
     "data": {
      "text/html": [
       "<table>\n",
       "<thead><tr><th></th><th scope=col>positions</th><th scope=col>isotype</th><th scope=col>variable</th><th scope=col>count</th><th scope=col>freq</th></tr></thead>\n",
       "<tbody>\n",
       "\t<tr><th scope=row>1</th><td>X3.70</td><td>iMet</td><td>CG</td><td>1195</td><td>0.9991639</td></tr>\n",
       "\t<tr><th scope=row>2</th><td>X3.70</td><td>iMet</td><td>PyrimidinePurine</td><td>1195</td><td>0.9991639</td></tr>\n",
       "\t<tr><th scope=row>3</th><td>X3.70</td><td>iMet</td><td>StrongPair</td><td>1195</td><td>0.9991639</td></tr>\n",
       "\t<tr><th scope=row>4</th><td>X3.70</td><td>iMet</td><td>Paired</td><td>1196</td><td>1</td></tr>\n",
       "</tbody>\n",
       "</table>\n"
      ],
      "text/latex": [
       "\\begin{tabular}{r|lllll}\n",
       "  & positions & isotype & variable & count & freq\\\\\n",
       "\\hline\n",
       "\t1 & X3.70 & iMet & CG & 1195 & 0.9991639\\\\\n",
       "\t2 & X3.70 & iMet & PyrimidinePurine & 1195 & 0.9991639\\\\\n",
       "\t3 & X3.70 & iMet & StrongPair & 1195 & 0.9991639\\\\\n",
       "\t4 & X3.70 & iMet & Paired & 1196 & 1\\\\\n",
       "\\end{tabular}\n"
      ],
      "text/plain": [
       "Source: local data frame [4 x 5]\n",
       "Groups: positions, isotype [1]\n",
       "\n",
       "  positions isotype         variable count      freq\n",
       "      <chr>   <chr>           <fctr> <int>     <dbl>\n",
       "1     X3.70    iMet               CG  1195 0.9991639\n",
       "2     X3.70    iMet PyrimidinePurine  1195 0.9991639\n",
       "3     X3.70    iMet       StrongPair  1195 0.9991639\n",
       "4     X3.70    iMet           Paired  1196 1.0000000"
      ]
     },
     "execution_count": 7,
     "metadata": {},
     "output_type": "execute_result"
    }
   ],
   "source": [
    "clade_iso_freqs %>% filter(positions == 'X3.70' & isotype == \"iMet\") %>%\n",
    "  group_by(positions, isotype, variable) %>%\n",
    "  summarize(count=sum(value), freq=sum(value)/sum(total)) %>%\n",
    "  filter(freq > 0.05)"
   ]
  },
  {
   "cell_type": "markdown",
   "metadata": {},
   "source": [
    "M&G's frequencies with iMet are confirmed. This is a pretty strong determinant for initiator methionine.\n",
    "\n",
    "For alanine, previous work (e.g. with [Chihade et al. 1998](http://pubs.acs.org/doi/pdf/10.1021/bi9804636)) shows that G3-U70 is a strong determinant in *C. elegans*. M&G do find that a few other tRNAs also contain G3-U70. [Beuning et al. 2002](http://rnajournal.cshlp.org/content/8/5/659.full.pdf) also shows that the orientation of a 2:71 purine:pyrimidine pair is helpful for charging. Let's see if G3-U70 is specifically enriched in alanine."
   ]
  },
  {
   "cell_type": "code",
   "execution_count": 8,
   "metadata": {
    "collapsed": false
   },
   "outputs": [
    {
     "data": {
      "text/html": [
       "<table>\n",
       "<thead><tr><th></th><th scope=col>positions</th><th scope=col>isotype</th><th scope=col>variable</th><th scope=col>count</th><th scope=col>freq</th></tr></thead>\n",
       "<tbody>\n",
       "\t<tr><th scope=row>1</th><td>X3.70</td><td>Ala</td><td>GU</td><td>6658</td><td>0.2527043</td></tr>\n",
       "\t<tr><th scope=row>2</th><td>X3.70</td><td>Cys</td><td>GU</td><td>27</td><td>0.01237964</td></tr>\n",
       "\t<tr><th scope=row>3</th><td>X3.70</td><td>Gly</td><td>GU</td><td>62</td><td>0.0118865</td></tr>\n",
       "</tbody>\n",
       "</table>\n"
      ],
      "text/latex": [
       "\\begin{tabular}{r|lllll}\n",
       "  & positions & isotype & variable & count & freq\\\\\n",
       "\\hline\n",
       "\t1 & X3.70 & Ala & GU & 6658 & 0.2527043\\\\\n",
       "\t2 & X3.70 & Cys & GU & 27 & 0.01237964\\\\\n",
       "\t3 & X3.70 & Gly & GU & 62 & 0.0118865\\\\\n",
       "\\end{tabular}\n"
      ],
      "text/plain": [
       "Source: local data frame [3 x 5]\n",
       "Groups: positions, isotype [3]\n",
       "\n",
       "  positions isotype variable count       freq\n",
       "      <chr>   <chr>   <fctr> <int>      <dbl>\n",
       "1     X3.70     Ala       GU  6658 0.25270429\n",
       "2     X3.70     Cys       GU    27 0.01237964\n",
       "3     X3.70     Gly       GU    62 0.01188650"
      ]
     },
     "execution_count": 8,
     "metadata": {},
     "output_type": "execute_result"
    }
   ],
   "source": [
    "clade_iso_freqs %>% filter(positions == 'X3.70' & variable == \"GU\") %>%\n",
    "  group_by(positions, isotype, variable) %>%\n",
    "  summarize(count=sum(value), freq=sum(value)/sum(total)) %>%\n",
    "  filter(freq > 0.01)"
   ]
  },
  {
   "cell_type": "markdown",
   "metadata": {},
   "source": [
    "This basically confirms M&G's (non-)conclusions - GU is enriched in Ala\n",
    "\n",
    "## U8\n",
    "\n",
    "M&G: "
   ]
  },
  {
   "cell_type": "code",
   "execution_count": null,
   "metadata": {
    "collapsed": true
   },
   "outputs": [],
   "source": [
    "clade_iso_freqs %>% filter(positions == 'X8.14'"
   ]
  },
  {
   "cell_type": "markdown",
   "metadata": {},
   "source": [
    "## 10:25\n",
    "\n",
    "M&G: 10/41 GC, 31/41 GU, positive determinant for yeast Asp, negative determinant for yeast M22G on 26, interacts with 45.\n",
    "\n",
    "This is pretty par for the course. Our data show that GC $\\approx$ 75% is more common though (GU $\\approx$ 22%)."
   ]
  },
  {
   "cell_type": "code",
   "execution_count": 79,
   "metadata": {
    "collapsed": false
   },
   "outputs": [
    {
     "data": {
      "text/html": [
       "<table>\n",
       "<thead><tr><th></th><th scope=col>positions</th><th scope=col>variable</th><th scope=col>count</th><th scope=col>freq</th></tr></thead>\n",
       "<tbody>\n",
       "\t<tr><th scope=row>1</th><td>X10.25</td><td>GC</td><td>83468</td><td>0.7571618</td></tr>\n",
       "\t<tr><th scope=row>2</th><td>X10.25</td><td>GU</td><td>23788</td><td>0.2157877</td></tr>\n",
       "\t<tr><th scope=row>3</th><td>X10.25</td><td>PurinePyrimidine</td><td>83984</td><td>0.7618426</td></tr>\n",
       "\t<tr><th scope=row>4</th><td>X10.25</td><td>StrongPair</td><td>83774</td><td>0.7599376</td></tr>\n",
       "\t<tr><th scope=row>5</th><td>X10.25</td><td>Wobble</td><td>23790</td><td>0.2158058</td></tr>\n",
       "\t<tr><th scope=row>6</th><td>X10.25</td><td>Paired</td><td>108575</td><td>0.9849145</td></tr>\n",
       "</tbody>\n",
       "</table>\n"
      ],
      "text/latex": [
       "\\begin{tabular}{r|llll}\n",
       "  & positions & variable & count & freq\\\\\n",
       "\\hline\n",
       "\t1 & X10.25 & GC & 83468 & 0.7571618\\\\\n",
       "\t2 & X10.25 & GU & 23788 & 0.2157877\\\\\n",
       "\t3 & X10.25 & PurinePyrimidine & 83984 & 0.7618426\\\\\n",
       "\t4 & X10.25 & StrongPair & 83774 & 0.7599376\\\\\n",
       "\t5 & X10.25 & Wobble & 23790 & 0.2158058\\\\\n",
       "\t6 & X10.25 & Paired & 108575 & 0.9849145\\\\\n",
       "\\end{tabular}\n"
      ],
      "text/plain": [
       "Source: local data frame [6 x 4]\n",
       "Groups: positions [1]\n",
       "\n",
       "  positions         variable  count      freq\n",
       "      <chr>           <fctr>  <int>     <dbl>\n",
       "1    X10.25               GC  83468 0.7571618\n",
       "2    X10.25               GU  23788 0.2157877\n",
       "3    X10.25 PurinePyrimidine  83984 0.7618426\n",
       "4    X10.25       StrongPair  83774 0.7599376\n",
       "5    X10.25           Wobble  23790 0.2158058\n",
       "6    X10.25           Paired 108575 0.9849145"
      ]
     },
     "execution_count": 79,
     "metadata": {},
     "output_type": "execute_result"
    }
   ],
   "source": [
    "euk_freqs %>% filter(positions == 'X10.25' & freq > 0.05)"
   ]
  },
  {
   "cell_type": "markdown",
   "metadata": {},
   "source": [
    "## Non-consensus identity elements\n",
    "\n",
    "There's plenty of examples where our frequencies confirm known rules, supplant known rules, or indicate new rules. There's also plenty of rules that weren't recapitulated above - and those are worth looking into individually.\n",
    "\n",
    "## C1:G72"
   ]
  },
  {
   "cell_type": "markdown",
   "metadata": {},
   "source": [
    "# No. tRNAs by missing IDEs"
   ]
  },
  {
   "cell_type": "code",
   "execution_count": null,
   "metadata": {
    "collapsed": true
   },
   "outputs": [],
   "source": []
  },
  {
   "cell_type": "code",
   "execution_count": null,
   "metadata": {
    "collapsed": true
   },
   "outputs": [],
   "source": []
  }
 ],
 "metadata": {
  "anaconda-cloud": {},
  "kernelspec": {
   "display_name": "R",
   "language": "R",
   "name": "ir"
  },
  "language_info": {
   "codemirror_mode": "r",
   "file_extension": ".r",
   "mimetype": "text/x-r-source",
   "name": "R",
   "pygments_lexer": "r",
   "version": "3.2.2"
  }
 },
 "nbformat": 4,
 "nbformat_minor": 0
}
