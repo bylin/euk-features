{
 "cells": [
  {
   "cell_type": "code",
   "execution_count": 1,
   "metadata": {
    "collapsed": false,
    "scrolled": true
   },
   "outputs": [
    {
     "name": "stderr",
     "output_type": "stream",
     "text": [
      "\n",
      "Attaching package: ‘dplyr’\n",
      "\n",
      "The following objects are masked from ‘package:stats’:\n",
      "\n",
      "    filter, lag\n",
      "\n",
      "The following objects are masked from ‘package:base’:\n",
      "\n",
      "    intersect, setdiff, setequal, union\n",
      "\n",
      "\n",
      "Attaching package: ‘tidyr’\n",
      "\n",
      "The following object is masked from ‘package:reshape2’:\n",
      "\n",
      "    smiths\n",
      "\n"
     ]
    }
   ],
   "source": [
    "library(ggplot2)\n",
    "library(reshape2)\n",
    "library(dplyr)\n",
    "library(stringr)\n",
    "library(tidyr)\n",
    "theme_set(theme_bw())\n",
    "options(repr.plot.width=7, repr.plot.height=4)"
   ]
  },
  {
   "cell_type": "markdown",
   "metadata": {},
   "source": [
    "# Introduction\n",
    "\n",
    "In [clade-freqs](clade-freqs.ipynb), I've annotated a list of identity elements that appear to be conserved in over 95% of tRNAs. Some of these are reflected in the literature; others are not. I expect that the well-studied IDEs that are agreed to be universal to hold true. Thus, I need to look into the tRNAs that *don't* have this IDE. \n",
    "\n",
    "Do these exceptions function as tRNAs? Using a suite of supposedly gold standard IDEs, we would expect to be able to differentiate between bona fide tRNAs and tRNA pseudogenes.\n",
    "\n",
    "I'll get a set of tRNAs that may or may not be missing a key IDE. I'll then proceed in two branches. \n",
    "1) IDE rules. We've learned something about which IDEs are required. We now know how to choose canonical tRNAs. Filter based on these IDEs or based on suites of IDEs, regenerate frequencies, rinse and repeat.\n",
    "2) Interesting exceptions to the rule. Some tRNAs are exceptional. Look deeply into a few examples where they're missing a key IDE. Are any of them functional? Are they missing all of the other IDEs?\n",
    " \n",
    "#2 is easier to tackle first, as we isolate the tRNAs. First, we'll recreate the frequency table.\n",
    "\n",
    "# Data wrangling\n",
    "\n",
    "## Import alignment and bases\n"
   ]
  },
  {
   "cell_type": "code",
   "execution_count": 2,
   "metadata": {
    "collapsed": false
   },
   "outputs": [],
   "source": [
    "identities = read.delim('identities.tsv', sep='\\t', stringsAsFactors=FALSE)\n",
    "identities$quality = as.logical(identities$quality)\n",
    "identities$restrict = as.logical(identities$restrict)"
   ]
  },
  {
   "cell_type": "code",
   "execution_count": 3,
   "metadata": {
    "collapsed": false
   },
   "outputs": [],
   "source": [
    "positions = colnames(identities)[which(str_detect(colnames(identities), \"X\\\\d+\\\\.\\\\d+$\"))]\n",
    "positions = c(positions, 'X8', 'X9', 'X14', 'X15', 'X16', 'X17', 'X18', 'X19', 'X20', 'X20a', 'X21', 'X26', 'X32', 'X33', 'X34', 'X35', 'X36', 'X37', 'X38', 'X44', 'X45', 'X46', 'X47', 'X48', 'X54', 'X55', 'X56', 'X57', 'X58', 'X59', 'X60', 'X73')"
   ]
  },
  {
   "cell_type": "markdown",
   "metadata": {},
   "source": [
    "## Get frequencies"
   ]
  },
  {
   "cell_type": "code",
   "execution_count": 147,
   "metadata": {
    "collapsed": false
   },
   "outputs": [],
   "source": [
    "clade_iso_ac_freqs = identities %>%\n",
    "  filter(quality & (!restrict | isotype == \"iMet\")) %>%\n",
    "  select(match(c('clade', 'isotype', 'anticodon', positions), colnames(identities))) %>%\n",
    "  gather(positions, bases, -clade, -isotype, -anticodon) %>%\n",
    "  group_by(clade, isotype, anticodon, positions, bases) %>%\n",
    "  tally() %>%\n",
    "  group_by(clade, isotype, anticodon, positions) %>%\n",
    "  mutate(freq=n) %>%\n",
    "  group_by(clade, isotype, anticodon, positions) %>%\n",
    "  summarize(A = sum(freq[bases == \"A\"]),\n",
    "            C = sum(freq[bases == \"C\"]),\n",
    "            G = sum(freq[bases == \"G\"]),\n",
    "            U = sum(freq[bases == \"U\"]),\n",
    "            Deletion = sum(freq[bases %in% c(\"-\", \".\")]), \n",
    "            Purine = sum(freq[bases %in% c(\"A\", \"G\")]),\n",
    "            Pyrimidine = sum(freq[bases %in% c(\"C\", \"U\")]),\n",
    "            Weak = sum(freq[bases %in% c(\"A\", \"U\")]),\n",
    "            Strong = sum(freq[bases %in% c(\"G\", \"C\")]),\n",
    "            Amino = sum(freq[bases %in% c(\"A\", \"C\")]),\n",
    "            Keto = sum(freq[bases %in% c(\"G\", \"U\")]),\n",
    "            B = sum(freq[bases %in% c(\"C\", \"G\", \"U\")]),\n",
    "            D = sum(freq[bases %in% c(\"A\", \"G\", \"U\")]),\n",
    "            H = sum(freq[bases %in% c(\"A\", \"C\", \"U\")]),\n",
    "            V = sum(freq[bases %in% c(\"A\", \"C\", \"G\")]),\n",
    "            D = sum(freq[bases %in% c(\"A\", \"G\", \"U\")]),\n",
    "            GC = sum(freq[bases == \"G:C\"]),\n",
    "            AU = sum(freq[bases == \"A:U\"]),\n",
    "            UA = sum(freq[bases == \"U:A\"]),\n",
    "            CG = sum(freq[bases == \"C:G\"]),\n",
    "            GU = sum(freq[bases == \"G:U\"]),\n",
    "            UG = sum(freq[bases == \"U:G\"]),\n",
    "            PairDeletion = sum(freq[bases == \"-:-\"]), \n",
    "            PurinePyrimidine = sum(freq[bases %in% c(\"A:U\", \"G:C\")]),\n",
    "            PyrimidinePurine = sum(freq[bases %in% c(\"U:A\", \"C:G\")]),\n",
    "            StrongPair = sum(freq[bases %in% c(\"G:C\", \"C:G\")]),\n",
    "            WeakPair = sum(freq[bases %in% c(\"A:U\", \"U:A\")]),\n",
    "            Wobble = sum(freq[bases %in% c(\"G:U\", \"U:G\")]),\n",
    "            Paired = sum(freq[bases %in% c(\"A:U\", \"U:A\", \"C:G\", \"G:C\", \"G:U\", \"U:G\")]),\n",
    "            Bulge = sum(freq[bases %in% c(\"A:-\", \"U:-\", \"C:-\", \"G:-\", \"-:A\", \"-:G\", \"-:C\", \"-:U\")]),\n",
    "            Mismatched = sum(freq[bases %in% c(\"A:A\", \"G:G\", \"C:C\", \"U:U\", \"A:G\", \"A:C\", \"C:A\", \"C:U\", \"G:A\", \"U:C\")])\n",
    "            ) %>%\n",
    "  mutate(total = A + B + Deletion + Paired + Mismatched + Bulge + PairDeletion) %>%\n",
    "  melt(id.vars=c(\"clade\", \"isotype\", \"anticodon\", \"positions\", \"total\")) %>%\n",
    "  mutate(freq=value/total)"
   ]
  },
  {
   "cell_type": "code",
   "execution_count": 148,
   "metadata": {
    "collapsed": false
   },
   "outputs": [
    {
     "data": {
      "text/html": [
       "<table>\n",
       "<thead><tr><th></th><th scope=col>positions</th><th scope=col>variable</th><th scope=col>count</th><th scope=col>freq</th></tr></thead>\n",
       "<tbody>\n",
       "\t<tr><th scope=row>1</th><td>X10.25</td><td>Paired</td><td>46359</td><td>0.9972465</td></tr>\n",
       "\t<tr><th scope=row>2</th><td>X14</td><td>A</td><td>46411</td><td>0.9983651</td></tr>\n",
       "\t<tr><th scope=row>3</th><td>X15</td><td>Purine</td><td>46425</td><td>0.9986663</td></tr>\n",
       "\t<tr><th scope=row>4</th><td>X15.48</td><td>Paired</td><td>44501</td><td>0.957299</td></tr>\n",
       "\t<tr><th scope=row>5</th><td>X16</td><td>B</td><td>45087</td><td>0.9698841</td></tr>\n",
       "\t<tr><th scope=row>6</th><td>X1.72</td><td>Paired</td><td>46207</td><td>0.9944046</td></tr>\n",
       "\t<tr><th scope=row>7</th><td>X18</td><td>G</td><td>46322</td><td>0.9964506</td></tr>\n",
       "\t<tr><th scope=row>8</th><td>X18.55</td><td>GU</td><td>46063</td><td>0.9908792</td></tr>\n",
       "\t<tr><th scope=row>9</th><td>X19</td><td>G</td><td>46367</td><td>0.9974186</td></tr>\n",
       "\t<tr><th scope=row>10</th><td>X19.56</td><td>GC</td><td>45915</td><td>0.9876955</td></tr>\n",
       "\t<tr><th scope=row>11</th><td>X20</td><td>H</td><td>44899</td><td>0.9658399</td></tr>\n",
       "\t<tr><th scope=row>12</th><td>X21</td><td>A</td><td>46351</td><td>0.9970745</td></tr>\n",
       "\t<tr><th scope=row>13</th><td>X26</td><td>D</td><td>44787</td><td>0.9634306</td></tr>\n",
       "\t<tr><th scope=row>14</th><td>X2.71</td><td>Paired</td><td>44417</td><td>0.955677</td></tr>\n",
       "\t<tr><th scope=row>15</th><td>X27.43</td><td>Paired</td><td>46222</td><td>0.9942995</td></tr>\n",
       "\t<tr><th scope=row>16</th><td>X32</td><td>Pyrimidine</td><td>46400</td><td>0.9981285</td></tr>\n",
       "\t<tr><th scope=row>17</th><td>X33</td><td>U</td><td>45387</td><td>0.9763375</td></tr>\n",
       "\t<tr><th scope=row>18</th><td>X37</td><td>Purine</td><td>46438</td><td>0.9989459</td></tr>\n",
       "\t<tr><th scope=row>19</th><td>X3.70</td><td>Paired</td><td>46264</td><td>0.9952458</td></tr>\n",
       "\t<tr><th scope=row>20</th><td>X38</td><td>H</td><td>46444</td><td>0.999075</td></tr>\n",
       "\t<tr><th scope=row>21</th><td>X46</td><td>Purine</td><td>46175</td><td>0.9932884</td></tr>\n",
       "\t<tr><th scope=row>22</th><td>X48</td><td>Pyrimidine</td><td>45355</td><td>0.9756701</td></tr>\n",
       "\t<tr><th scope=row>23</th><td>X49.65</td><td>Paired</td><td>46199</td><td>0.9938475</td></tr>\n",
       "\t<tr><th scope=row>24</th><td>X53.61</td><td>Paired</td><td>45122</td><td>0.9706578</td></tr>\n",
       "\t<tr><th scope=row>25</th><td>X54</td><td>U</td><td>44252</td><td>0.951922</td></tr>\n",
       "\t<tr><th scope=row>26</th><td>X55</td><td>U</td><td>46228</td><td>0.9944285</td></tr>\n",
       "\t<tr><th scope=row>27</th><td>X56</td><td>C</td><td>46028</td><td>0.9901263</td></tr>\n",
       "\t<tr><th scope=row>28</th><td>X57</td><td>Purine</td><td>46441</td><td>0.999032</td></tr>\n",
       "\t<tr><th scope=row>29</th><td>X58</td><td>A</td><td>46291</td><td>0.9958052</td></tr>\n",
       "\t<tr><th scope=row>30</th><td>X60</td><td>H</td><td>45977</td><td>0.9890292</td></tr>\n",
       "\t<tr><th scope=row>31</th><td>X8</td><td>U</td><td>46387</td><td>0.9978489</td></tr>\n",
       "\t<tr><th scope=row>32</th><td>X8.14</td><td>UA</td><td>46311</td><td>0.996214</td></tr>\n",
       "\t<tr><th scope=row>33</th><td>X9</td><td>Purine</td><td>45542</td><td>0.9796717</td></tr>\n",
       "</tbody>\n",
       "</table>\n"
      ],
      "text/latex": [
       "\\begin{tabular}{r|llll}\n",
       "  & positions & variable & count & freq\\\\\n",
       "\\hline\n",
       "\t1 & X10.25 & Paired & 46359 & 0.9972465\\\\\n",
       "\t2 & X14 & A & 46411 & 0.9983651\\\\\n",
       "\t3 & X15 & Purine & 46425 & 0.9986663\\\\\n",
       "\t4 & X15.48 & Paired & 44501 & 0.957299\\\\\n",
       "\t5 & X16 & B & 45087 & 0.9698841\\\\\n",
       "\t6 & X1.72 & Paired & 46207 & 0.9944046\\\\\n",
       "\t7 & X18 & G & 46322 & 0.9964506\\\\\n",
       "\t8 & X18.55 & GU & 46063 & 0.9908792\\\\\n",
       "\t9 & X19 & G & 46367 & 0.9974186\\\\\n",
       "\t10 & X19.56 & GC & 45915 & 0.9876955\\\\\n",
       "\t11 & X20 & H & 44899 & 0.9658399\\\\\n",
       "\t12 & X21 & A & 46351 & 0.9970745\\\\\n",
       "\t13 & X26 & D & 44787 & 0.9634306\\\\\n",
       "\t14 & X2.71 & Paired & 44417 & 0.955677\\\\\n",
       "\t15 & X27.43 & Paired & 46222 & 0.9942995\\\\\n",
       "\t16 & X32 & Pyrimidine & 46400 & 0.9981285\\\\\n",
       "\t17 & X33 & U & 45387 & 0.9763375\\\\\n",
       "\t18 & X37 & Purine & 46438 & 0.9989459\\\\\n",
       "\t19 & X3.70 & Paired & 46264 & 0.9952458\\\\\n",
       "\t20 & X38 & H & 46444 & 0.999075\\\\\n",
       "\t21 & X46 & Purine & 46175 & 0.9932884\\\\\n",
       "\t22 & X48 & Pyrimidine & 45355 & 0.9756701\\\\\n",
       "\t23 & X49.65 & Paired & 46199 & 0.9938475\\\\\n",
       "\t24 & X53.61 & Paired & 45122 & 0.9706578\\\\\n",
       "\t25 & X54 & U & 44252 & 0.951922\\\\\n",
       "\t26 & X55 & U & 46228 & 0.9944285\\\\\n",
       "\t27 & X56 & C & 46028 & 0.9901263\\\\\n",
       "\t28 & X57 & Purine & 46441 & 0.999032\\\\\n",
       "\t29 & X58 & A & 46291 & 0.9958052\\\\\n",
       "\t30 & X60 & H & 45977 & 0.9890292\\\\\n",
       "\t31 & X8 & U & 46387 & 0.9978489\\\\\n",
       "\t32 & X8.14 & UA & 46311 & 0.996214\\\\\n",
       "\t33 & X9 & Purine & 45542 & 0.9796717\\\\\n",
       "\\end{tabular}\n"
      ],
      "text/plain": [
       "Source: local data frame [33 x 4]\n",
       "Groups: positions [33]\n",
       "\n",
       "   positions variable count      freq\n",
       "       <chr>   <fctr> <int>     <dbl>\n",
       "1     X10.25   Paired 46359 0.9972465\n",
       "2        X14        A 46411 0.9983651\n",
       "3        X15   Purine 46425 0.9986663\n",
       "4     X15.48   Paired 44501 0.9572990\n",
       "5        X16        B 45087 0.9698841\n",
       "6      X1.72   Paired 46207 0.9944046\n",
       "7        X18        G 46322 0.9964506\n",
       "8     X18.55       GU 46063 0.9908792\n",
       "9        X19        G 46367 0.9974186\n",
       "10    X19.56       GC 45915 0.9876955\n",
       "# ... with 23 more rows"
      ]
     },
     "execution_count": 148,
     "metadata": {},
     "output_type": "execute_result"
    }
   ],
   "source": [
    "clade_iso_freqs = clade_iso_ac_freqs %>%\n",
    "  group_by(positions, isotype, variable) %>%\n",
    "  summarize(count=sum(value), freq=sum(value)/sum(total))\n",
    "\n",
    "euk_freqs = clade_iso_ac_freqs %>%\n",
    "  group_by(positions, variable) %>%\n",
    "  summarize(count=sum(value), freq=sum(value)/sum(total))\n",
    "\n",
    "consensus = euk_freqs %>%\n",
    "  filter(freq > 0.95) %>%\n",
    "  group_by(positions) %>% # remove duplicates\n",
    "  filter(row_number(freq) == 1) %>%\n",
    "  arrange(positions)\n",
    "consensus"
   ]
  },
  {
   "cell_type": "markdown",
   "metadata": {},
   "source": [
    "# Analysis of eukaryotic all-tRNA consensus identity elements\n",
    "\n",
    "## 2:71\n",
    "\n",
    "This one is not mentioned in M&G often, but they do note a dependency for alanine. Giegé lists C2:G71 for glycine.\n",
    "\n",
    "It seems like 2:71 is typically a strong pair, perhaps to strengthen the acceptor stem."
   ]
  },
  {
   "cell_type": "code",
   "execution_count": 196,
   "metadata": {
    "collapsed": false
   },
   "outputs": [
    {
     "data": {
      "text/html": [
       "<table>\n",
       "<thead><tr><th></th><th scope=col>positions</th><th scope=col>isotype</th><th scope=col>variable</th><th scope=col>count</th><th scope=col>freq</th></tr></thead>\n",
       "<tbody>\n",
       "\t<tr><th scope=row>1</th><td>X2.71</td><td>Ala</td><td>GC</td><td>3260</td><td>0.9848943</td></tr>\n",
       "\t<tr><th scope=row>2</th><td>X2.71</td><td>Asn</td><td>PyrimidinePurine</td><td>1436</td><td>0.8210406</td></tr>\n",
       "\t<tr><th scope=row>3</th><td>X2.71</td><td>Asp</td><td>CG</td><td>1592</td><td>0.8295987</td></tr>\n",
       "\t<tr><th scope=row>4</th><td>X2.71</td><td>Cys</td><td>GC</td><td>1770</td><td>0.9325606</td></tr>\n",
       "\t<tr><th scope=row>5</th><td>X2.71</td><td>Gln</td><td>Mismatched</td><td>1846</td><td>0.9951482</td></tr>\n",
       "\t<tr><th scope=row>6</th><td>X2.71</td><td>Glu</td><td>CG</td><td>2499</td><td>0.9857988</td></tr>\n",
       "\t<tr><th scope=row>7</th><td>X2.71</td><td>Gly</td><td>CG</td><td>3017</td><td>0.9556541</td></tr>\n",
       "\t<tr><th scope=row>8</th><td>X2.71</td><td>His</td><td>CG</td><td>956</td><td>0.8342059</td></tr>\n",
       "\t<tr><th scope=row>9</th><td>X2.71</td><td>Ile</td><td>StrongPair</td><td>2139</td><td>0.9807428</td></tr>\n",
       "\t<tr><th scope=row>10</th><td>X2.71</td><td>iMet</td><td>GC</td><td>1040</td><td>0.8881298</td></tr>\n",
       "\t<tr><th scope=row>11</th><td>X2.71</td><td>Lys</td><td>CG</td><td>3046</td><td>0.9787918</td></tr>\n",
       "\t<tr><th scope=row>12</th><td>X2.71</td><td>Met</td><td>PyrimidinePurine</td><td>916</td><td>0.8127773</td></tr>\n",
       "\t<tr><th scope=row>13</th><td>X2.71</td><td>Phe</td><td>CG</td><td>1342</td><td>0.9457364</td></tr>\n",
       "\t<tr><th scope=row>14</th><td>X2.71</td><td>Pro</td><td>GC</td><td>2366</td><td>0.9760726</td></tr>\n",
       "\t<tr><th scope=row>15</th><td>X2.71</td><td>Thr</td><td>StrongPair</td><td>2426</td><td>0.9918234</td></tr>\n",
       "\t<tr><th scope=row>16</th><td>X2.71</td><td>Tyr</td><td>CG</td><td>1256</td><td>0.8579235</td></tr>\n",
       "</tbody>\n",
       "</table>\n"
      ],
      "text/latex": [
       "\\begin{tabular}{r|lllll}\n",
       "  & positions & isotype & variable & count & freq\\\\\n",
       "\\hline\n",
       "\t1 & X2.71 & Ala & GC & 3260 & 0.9848943\\\\\n",
       "\t2 & X2.71 & Asn & PyrimidinePurine & 1436 & 0.8210406\\\\\n",
       "\t3 & X2.71 & Asp & CG & 1592 & 0.8295987\\\\\n",
       "\t4 & X2.71 & Cys & GC & 1770 & 0.9325606\\\\\n",
       "\t5 & X2.71 & Gln & Mismatched & 1846 & 0.9951482\\\\\n",
       "\t6 & X2.71 & Glu & CG & 2499 & 0.9857988\\\\\n",
       "\t7 & X2.71 & Gly & CG & 3017 & 0.9556541\\\\\n",
       "\t8 & X2.71 & His & CG & 956 & 0.8342059\\\\\n",
       "\t9 & X2.71 & Ile & StrongPair & 2139 & 0.9807428\\\\\n",
       "\t10 & X2.71 & iMet & GC & 1040 & 0.8881298\\\\\n",
       "\t11 & X2.71 & Lys & CG & 3046 & 0.9787918\\\\\n",
       "\t12 & X2.71 & Met & PyrimidinePurine & 916 & 0.8127773\\\\\n",
       "\t13 & X2.71 & Phe & CG & 1342 & 0.9457364\\\\\n",
       "\t14 & X2.71 & Pro & GC & 2366 & 0.9760726\\\\\n",
       "\t15 & X2.71 & Thr & StrongPair & 2426 & 0.9918234\\\\\n",
       "\t16 & X2.71 & Tyr & CG & 1256 & 0.8579235\\\\\n",
       "\\end{tabular}\n"
      ],
      "text/plain": [
       "Source: local data frame [16 x 5]\n",
       "Groups: positions, isotype [16]\n",
       "\n",
       "   positions isotype         variable count      freq\n",
       "       <chr>   <chr>           <fctr> <int>     <dbl>\n",
       "1      X2.71     Ala               GC  3260 0.9848943\n",
       "2      X2.71     Asn PyrimidinePurine  1436 0.8210406\n",
       "3      X2.71     Asp               CG  1592 0.8295987\n",
       "4      X2.71     Cys               GC  1770 0.9325606\n",
       "5      X2.71     Gln       Mismatched  1846 0.9951482\n",
       "6      X2.71     Glu               CG  2499 0.9857988\n",
       "7      X2.71     Gly               CG  3017 0.9556541\n",
       "8      X2.71     His               CG   956 0.8342059\n",
       "9      X2.71     Ile       StrongPair  2139 0.9807428\n",
       "10     X2.71    iMet               GC  1040 0.8881298\n",
       "11     X2.71     Lys               CG  3046 0.9787918\n",
       "12     X2.71     Met PyrimidinePurine   916 0.8127773\n",
       "13     X2.71     Phe               CG  1342 0.9457364\n",
       "14     X2.71     Pro               GC  2366 0.9760726\n",
       "15     X2.71     Thr       StrongPair  2426 0.9918234\n",
       "16     X2.71     Tyr               CG  1256 0.8579235"
      ]
     },
     "execution_count": 196,
     "metadata": {},
     "output_type": "execute_result"
    }
   ],
   "source": [
    "clade_iso_ac_freqs %>% filter(positions == 'X2.71') %>%\n",
    "  group_by(positions, isotype, variable) %>%\n",
    "  summarize(count=sum(value), freq=sum(value)/sum(total)) %>%\n",
    "  filter(freq > 0.8) %>% filter(row_number(freq) == 1 & variable != \"Paired\")"
   ]
  },
  {
   "cell_type": "markdown",
   "metadata": {},
   "source": [
    "\n",
    "## 3:70\n",
    "\n",
    "M&G: Even numbers across all pairs, 9 mismatches. G3-U70 unique to Ala. A few other isotypes have single exceptions. Antideterminant for Thr. C3-G70 positive for iMet. Dependent on 2-71 context.\n",
    "\n",
    "First, let's check the iMet frequencies. "
   ]
  },
  {
   "cell_type": "code",
   "execution_count": 150,
   "metadata": {
    "collapsed": false
   },
   "outputs": [
    {
     "data": {
      "text/html": [
       "<table>\n",
       "<thead><tr><th></th><th scope=col>positions</th><th scope=col>isotype</th><th scope=col>variable</th><th scope=col>count</th><th scope=col>freq</th></tr></thead>\n",
       "<tbody>\n",
       "\t<tr><th scope=row>1</th><td>X3.70</td><td>iMet</td><td>CG</td><td>1171</td><td>0.9991468</td></tr>\n",
       "\t<tr><th scope=row>2</th><td>X3.70</td><td>iMet</td><td>PyrimidinePurine</td><td>1171</td><td>0.9991468</td></tr>\n",
       "\t<tr><th scope=row>3</th><td>X3.70</td><td>iMet</td><td>StrongPair</td><td>1171</td><td>0.9991468</td></tr>\n",
       "\t<tr><th scope=row>4</th><td>X3.70</td><td>iMet</td><td>Paired</td><td>1172</td><td>1</td></tr>\n",
       "</tbody>\n",
       "</table>\n"
      ],
      "text/latex": [
       "\\begin{tabular}{r|lllll}\n",
       "  & positions & isotype & variable & count & freq\\\\\n",
       "\\hline\n",
       "\t1 & X3.70 & iMet & CG & 1171 & 0.9991468\\\\\n",
       "\t2 & X3.70 & iMet & PyrimidinePurine & 1171 & 0.9991468\\\\\n",
       "\t3 & X3.70 & iMet & StrongPair & 1171 & 0.9991468\\\\\n",
       "\t4 & X3.70 & iMet & Paired & 1172 & 1\\\\\n",
       "\\end{tabular}\n"
      ],
      "text/plain": [
       "Source: local data frame [4 x 5]\n",
       "Groups: positions, isotype [1]\n",
       "\n",
       "  positions isotype         variable count      freq\n",
       "      <chr>   <chr>           <fctr> <int>     <dbl>\n",
       "1     X3.70    iMet               CG  1171 0.9991468\n",
       "2     X3.70    iMet PyrimidinePurine  1171 0.9991468\n",
       "3     X3.70    iMet       StrongPair  1171 0.9991468\n",
       "4     X3.70    iMet           Paired  1172 1.0000000"
      ]
     },
     "execution_count": 150,
     "metadata": {},
     "output_type": "execute_result"
    }
   ],
   "source": [
    "clade_iso_ac_freqs %>% filter(positions == 'X3.70' & isotype == \"iMet\") %>%\n",
    "  group_by(positions, isotype, variable) %>%\n",
    "  summarize(count=sum(value), freq=sum(value)/sum(total)) %>%\n",
    "  filter(freq > 0.05)"
   ]
  },
  {
   "cell_type": "markdown",
   "metadata": {},
   "source": [
    "M&G's frequencies with iMet are confirmed. This is a pretty strong determinant for initiator methionine.\n",
    "\n",
    "For alanine, previous work (e.g. with [Chihade et al. 1998](http://pubs.acs.org/doi/pdf/10.1021/bi9804636)) shows that G3-U70 is a strong determinant in *C. elegans*. M&G do find that a few other tRNAs also contain G3-U70. [Beuning et al. 2002](http://rnajournal.cshlp.org/content/8/5/659.full.pdf) also shows that the orientation of a 2:71 purine:pyrimidine pair is helpful for charging. Let's see if G3-U70 is specifically enriched in alanine."
   ]
  },
  {
   "cell_type": "code",
   "execution_count": 156,
   "metadata": {
    "collapsed": false
   },
   "outputs": [
    {
     "data": {
      "text/html": [
       "<table>\n",
       "<thead><tr><th></th><th scope=col>positions</th><th scope=col>isotype</th><th scope=col>variable</th><th scope=col>count</th><th scope=col>freq</th></tr></thead>\n",
       "<tbody>\n",
       "\t<tr><th scope=row>1</th><td>X3.70</td><td>Ala</td><td>GU</td><td>3199</td><td>0.9664653</td></tr>\n",
       "\t<tr><th scope=row>2</th><td>X3.70</td><td>Cys</td><td>GU</td><td>11</td><td>0.005795574</td></tr>\n",
       "\t<tr><th scope=row>3</th><td>X3.70</td><td>Gly</td><td>GU</td><td>15</td><td>0.004751346</td></tr>\n",
       "</tbody>\n",
       "</table>\n"
      ],
      "text/latex": [
       "\\begin{tabular}{r|lllll}\n",
       "  & positions & isotype & variable & count & freq\\\\\n",
       "\\hline\n",
       "\t1 & X3.70 & Ala & GU & 3199 & 0.9664653\\\\\n",
       "\t2 & X3.70 & Cys & GU & 11 & 0.005795574\\\\\n",
       "\t3 & X3.70 & Gly & GU & 15 & 0.004751346\\\\\n",
       "\\end{tabular}\n"
      ],
      "text/plain": [
       "Source: local data frame [3 x 5]\n",
       "Groups: positions, isotype [3]\n",
       "\n",
       "  positions isotype variable count        freq\n",
       "      <chr>   <chr>   <fctr> <int>       <dbl>\n",
       "1     X3.70     Ala       GU  3199 0.966465257\n",
       "2     X3.70     Cys       GU    11 0.005795574\n",
       "3     X3.70     Gly       GU    15 0.004751346"
      ]
     },
     "execution_count": 156,
     "metadata": {},
     "output_type": "execute_result"
    }
   ],
   "source": [
    "clade_iso_ac_freqs %>% filter(positions == 'X3.70' & variable == \"GU\") %>%\n",
    "  group_by(positions, isotype, variable) %>%\n",
    "  summarize(count=sum(value), freq=sum(value)/sum(total)) %>%\n",
    "  filter(freq > 0.001)"
   ]
  },
  {
   "cell_type": "markdown",
   "metadata": {},
   "source": [
    "This basically confirms M&G's (non-)conclusions - GU is enriched for Ala, though no recriprocal relationship exists, except for Ala-NGC.\n",
    "\n",
    "## U8-A14\n",
    "\n",
    "This is known to be extremely conserved, since it stabilizes the tertiary structure. M&G found that a variety of bacteria and archaea contain a C8 variation. Our data fits the eukaryotic side of things at 97%.\n",
    "\n",
    "## R9 and 9:23\n",
    "\n",
    "M&G: mostly a purine here. Interacts with base 23 in class I tRNAs. \n",
    "\n",
    "Our data supports this, and goes a step further in class II tRNAs, where it's a G9. The 9-23 interaction is not restricted to a particular interaction in any way, which agrees with my previous [tertiary interactions analysis](../tertiary-interactions.ipynb), where I proposed that it is an isotype- and clade-specific IDE. As for fungi, it would appear that the 9:23 interaction exhibits more pairing behavior, but is still typically mismatched as in other clades. Then again, it's not even listed as part of the consensus IDEs found above."
   ]
  },
  {
   "cell_type": "code",
   "execution_count": 158,
   "metadata": {
    "collapsed": false
   },
   "outputs": [
    {
     "data": {
      "text/html": [
       "<table>\n",
       "<thead><tr><th></th><th scope=col>positions</th><th scope=col>variable</th><th scope=col>count</th><th scope=col>freq</th></tr></thead>\n",
       "<tbody>\n",
       "\t<tr><th scope=row>1</th><td>X9</td><td>Purine</td><td>39055</td><td>0.9764482</td></tr>\n",
       "\t<tr><th scope=row>2</th><td>X9.23</td><td>Mismatched</td><td>36234</td><td>0.9059179</td></tr>\n",
       "</tbody>\n",
       "</table>\n"
      ],
      "text/latex": [
       "\\begin{tabular}{r|llll}\n",
       "  & positions & variable & count & freq\\\\\n",
       "\\hline\n",
       "\t1 & X9 & Purine & 39055 & 0.9764482\\\\\n",
       "\t2 & X9.23 & Mismatched & 36234 & 0.9059179\\\\\n",
       "\\end{tabular}\n"
      ],
      "text/plain": [
       "Source: local data frame [2 x 4]\n",
       "Groups: positions [2]\n",
       "\n",
       "  positions   variable count      freq\n",
       "      <chr>     <fctr> <int>     <dbl>\n",
       "1        X9     Purine 39055 0.9764482\n",
       "2     X9.23 Mismatched 36234 0.9059179"
      ]
     },
     "execution_count": 158,
     "metadata": {},
     "output_type": "execute_result"
    },
    {
     "data": {
      "text/html": [
       "<table>\n",
       "<thead><tr><th></th><th scope=col>positions</th><th scope=col>variable</th><th scope=col>count</th><th scope=col>freq</th></tr></thead>\n",
       "<tbody>\n",
       "\t<tr><th scope=row>1</th><td>X9</td><td>G</td><td>6466</td><td>0.996302</td></tr>\n",
       "\t<tr><th scope=row>2</th><td>X9.23</td><td>Mismatched</td><td>6204</td><td>0.9559322</td></tr>\n",
       "</tbody>\n",
       "</table>\n"
      ],
      "text/latex": [
       "\\begin{tabular}{r|llll}\n",
       "  & positions & variable & count & freq\\\\\n",
       "\\hline\n",
       "\t1 & X9 & G & 6466 & 0.996302\\\\\n",
       "\t2 & X9.23 & Mismatched & 6204 & 0.9559322\\\\\n",
       "\\end{tabular}\n"
      ],
      "text/plain": [
       "Source: local data frame [2 x 4]\n",
       "Groups: positions [2]\n",
       "\n",
       "  positions   variable count      freq\n",
       "      <chr>     <fctr> <int>     <dbl>\n",
       "1        X9          G  6466 0.9963020\n",
       "2     X9.23 Mismatched  6204 0.9559322"
      ]
     },
     "execution_count": 158,
     "metadata": {},
     "output_type": "execute_result"
    },
    {
     "data": {
      "text/html": [
       "<table>\n",
       "<thead><tr><th></th><th scope=col>positions</th><th scope=col>clade</th><th scope=col>variable</th><th scope=col>count</th><th scope=col>freq</th></tr></thead>\n",
       "<tbody>\n",
       "\t<tr><th scope=row>1</th><td>X9.23</td><td>Fungi</td><td>GU</td><td>1099</td><td>0.1014774</td></tr>\n",
       "\t<tr><th scope=row>2</th><td>X9.23</td><td>Fungi</td><td>Wobble</td><td>1099</td><td>0.1014774</td></tr>\n",
       "\t<tr><th scope=row>3</th><td>X9.23</td><td>Fungi</td><td>Paired</td><td>1578</td><td>0.1457064</td></tr>\n",
       "\t<tr><th scope=row>4</th><td>X9.23</td><td>Fungi</td><td>Mismatched</td><td>9252</td><td>0.8542936</td></tr>\n",
       "\t<tr><th scope=row>5</th><td>X9.23</td><td>Insecta</td><td>Mismatched</td><td>900</td><td>0.9018036</td></tr>\n",
       "\t<tr><th scope=row>6</th><td>X9.23</td><td>Mammalia</td><td>Mismatched</td><td>13300</td><td>0.9410599</td></tr>\n",
       "\t<tr><th scope=row>7</th><td>X9.23</td><td>Nematoda</td><td>Mismatched</td><td>3639</td><td>0.9321209</td></tr>\n",
       "\t<tr><th scope=row>8</th><td>X9.23</td><td>Spermatophyta</td><td>Paired</td><td>207</td><td>0.1212654</td></tr>\n",
       "\t<tr><th scope=row>9</th><td>X9.23</td><td>Spermatophyta</td><td>Mismatched</td><td>1500</td><td>0.8787346</td></tr>\n",
       "\t<tr><th scope=row>10</th><td>X9.23</td><td>Streptophyta</td><td>Paired</td><td>508</td><td>0.104141</td></tr>\n",
       "\t<tr><th scope=row>11</th><td>X9.23</td><td>Streptophyta</td><td>Mismatched</td><td>4370</td><td>0.895859</td></tr>\n",
       "\t<tr><th scope=row>12</th><td>X9.23</td><td>Vertebrata</td><td>Mismatched</td><td>9477</td><td>0.9442064</td></tr>\n",
       "</tbody>\n",
       "</table>\n"
      ],
      "text/latex": [
       "\\begin{tabular}{r|lllll}\n",
       "  & positions & clade & variable & count & freq\\\\\n",
       "\\hline\n",
       "\t1 & X9.23 & Fungi & GU & 1099 & 0.1014774\\\\\n",
       "\t2 & X9.23 & Fungi & Wobble & 1099 & 0.1014774\\\\\n",
       "\t3 & X9.23 & Fungi & Paired & 1578 & 0.1457064\\\\\n",
       "\t4 & X9.23 & Fungi & Mismatched & 9252 & 0.8542936\\\\\n",
       "\t5 & X9.23 & Insecta & Mismatched & 900 & 0.9018036\\\\\n",
       "\t6 & X9.23 & Mammalia & Mismatched & 13300 & 0.9410599\\\\\n",
       "\t7 & X9.23 & Nematoda & Mismatched & 3639 & 0.9321209\\\\\n",
       "\t8 & X9.23 & Spermatophyta & Paired & 207 & 0.1212654\\\\\n",
       "\t9 & X9.23 & Spermatophyta & Mismatched & 1500 & 0.8787346\\\\\n",
       "\t10 & X9.23 & Streptophyta & Paired & 508 & 0.104141\\\\\n",
       "\t11 & X9.23 & Streptophyta & Mismatched & 4370 & 0.895859\\\\\n",
       "\t12 & X9.23 & Vertebrata & Mismatched & 9477 & 0.9442064\\\\\n",
       "\\end{tabular}\n"
      ],
      "text/plain": [
       "Source: local data frame [12 x 5]\n",
       "Groups: positions, clade [7]\n",
       "\n",
       "   positions         clade   variable count      freq\n",
       "       <chr>         <chr>     <fctr> <int>     <dbl>\n",
       "1      X9.23         Fungi         GU  1099 0.1014774\n",
       "2      X9.23         Fungi     Wobble  1099 0.1014774\n",
       "3      X9.23         Fungi     Paired  1578 0.1457064\n",
       "4      X9.23         Fungi Mismatched  9252 0.8542936\n",
       "5      X9.23       Insecta Mismatched   900 0.9018036\n",
       "6      X9.23      Mammalia Mismatched 13300 0.9410599\n",
       "7      X9.23      Nematoda Mismatched  3639 0.9321209\n",
       "8      X9.23 Spermatophyta     Paired   207 0.1212654\n",
       "9      X9.23 Spermatophyta Mismatched  1500 0.8787346\n",
       "10     X9.23  Streptophyta     Paired   508 0.1041410\n",
       "11     X9.23  Streptophyta Mismatched  4370 0.8958590\n",
       "12     X9.23    Vertebrata Mismatched  9477 0.9442064"
      ]
     },
     "execution_count": 158,
     "metadata": {},
     "output_type": "execute_result"
    }
   ],
   "source": [
    "clade_iso_ac_freqs %>% filter(!(isotype %in% c(\"Ser\", \"Leu\")) & positions %in% c('X9', 'X9.23')) %>%\n",
    "  group_by(positions, variable) %>%\n",
    "  summarize(count=sum(value), freq=sum(value)/sum(total)) %>%\n",
    "  filter(freq > 0.9) %>% filter(row_number(freq) == 1)\n",
    "\n",
    "clade_iso_ac_freqs %>% filter(isotype %in% c(\"Ser\", \"Leu\") & positions %in% c('X9', 'X9.23')) %>%\n",
    "  group_by(positions, variable) %>%\n",
    "  summarize(count=sum(value), freq=sum(value)/sum(total)) %>%\n",
    "  filter(freq > 0.9) %>% filter(row_number(freq) == 1)\n",
    "\n",
    "clade_iso_ac_freqs %>% filter(positions == 'X9.23') %>%\n",
    "  group_by(positions, clade, variable) %>%\n",
    "  summarize(count=sum(value), freq=sum(value)/sum(total)) %>%\n",
    "  filter(freq > 0.1)"
   ]
  },
  {
   "cell_type": "markdown",
   "metadata": {},
   "source": [
    "## 10:25\n",
    "\n",
    "M&G: 10/41 GC, 31/41 GU, positive determinant for yeast Asp, negative determinant for yeast M22G on 26, interacts with 45.\n",
    "\n",
    "This is pretty par for the course. Our data show that GC $\\approx$ 75% is more common though (GU $\\approx$ 22%)."
   ]
  },
  {
   "cell_type": "code",
   "execution_count": 159,
   "metadata": {
    "collapsed": false,
    "scrolled": true
   },
   "outputs": [
    {
     "data": {
      "text/html": [
       "<table>\n",
       "<thead><tr><th></th><th scope=col>positions</th><th scope=col>variable</th><th scope=col>count</th><th scope=col>freq</th></tr></thead>\n",
       "<tbody>\n",
       "\t<tr><th scope=row>1</th><td>X10.25</td><td>GC</td><td>34254</td><td>0.7368512</td></tr>\n",
       "\t<tr><th scope=row>2</th><td>X10.25</td><td>GU</td><td>11262</td><td>0.2422613</td></tr>\n",
       "\t<tr><th scope=row>3</th><td>X10.25</td><td>PurinePyrimidine</td><td>34372</td><td>0.7393895</td></tr>\n",
       "\t<tr><th scope=row>4</th><td>X10.25</td><td>StrongPair</td><td>34554</td><td>0.7433046</td></tr>\n",
       "\t<tr><th scope=row>5</th><td>X10.25</td><td>Wobble</td><td>11264</td><td>0.2423043</td></tr>\n",
       "\t<tr><th scope=row>6</th><td>X10.25</td><td>Paired</td><td>46359</td><td>0.9972465</td></tr>\n",
       "</tbody>\n",
       "</table>\n"
      ],
      "text/latex": [
       "\\begin{tabular}{r|llll}\n",
       "  & positions & variable & count & freq\\\\\n",
       "\\hline\n",
       "\t1 & X10.25 & GC & 34254 & 0.7368512\\\\\n",
       "\t2 & X10.25 & GU & 11262 & 0.2422613\\\\\n",
       "\t3 & X10.25 & PurinePyrimidine & 34372 & 0.7393895\\\\\n",
       "\t4 & X10.25 & StrongPair & 34554 & 0.7433046\\\\\n",
       "\t5 & X10.25 & Wobble & 11264 & 0.2423043\\\\\n",
       "\t6 & X10.25 & Paired & 46359 & 0.9972465\\\\\n",
       "\\end{tabular}\n"
      ],
      "text/plain": [
       "Source: local data frame [6 x 4]\n",
       "Groups: positions [1]\n",
       "\n",
       "  positions         variable count      freq\n",
       "      <chr>           <fctr> <int>     <dbl>\n",
       "1    X10.25               GC 34254 0.7368512\n",
       "2    X10.25               GU 11262 0.2422613\n",
       "3    X10.25 PurinePyrimidine 34372 0.7393895\n",
       "4    X10.25       StrongPair 34554 0.7433046\n",
       "5    X10.25           Wobble 11264 0.2423043\n",
       "6    X10.25           Paired 46359 0.9972465"
      ]
     },
     "execution_count": 159,
     "metadata": {},
     "output_type": "execute_result"
    }
   ],
   "source": [
    "euk_freqs %>% filter(positions == 'X10.25' & freq > 0.1)"
   ]
  },
  {
   "cell_type": "markdown",
   "metadata": {},
   "source": [
    "## A14\n",
    "\n",
    "This is an invariant position, mentioned in M&G, involved in U8:A14.\n",
    "\n",
    "## R15, 15:48\n",
    "\n",
    "This is the Levitt base pair. M&G note that this usually forms R15:Y48, but has been shown in *E. coli* to tolerate different combinations. Our data show support for a R15:Y48 requirement."
   ]
  },
  {
   "cell_type": "code",
   "execution_count": 160,
   "metadata": {
    "collapsed": false,
    "scrolled": true
   },
   "outputs": [
    {
     "data": {
      "text/html": [
       "<table>\n",
       "<thead><tr><th></th><th scope=col>positions</th><th scope=col>variable</th><th scope=col>count</th><th scope=col>freq</th></tr></thead>\n",
       "<tbody>\n",
       "\t<tr><th scope=row>1</th><td>X15.48</td><td>GC</td><td>36600</td><td>0.7873338</td></tr>\n",
       "\t<tr><th scope=row>2</th><td>X15.48</td><td>AU</td><td>7482</td><td>0.1609517</td></tr>\n",
       "\t<tr><th scope=row>3</th><td>X15.48</td><td>PurinePyrimidine</td><td>44082</td><td>0.9482855</td></tr>\n",
       "\t<tr><th scope=row>4</th><td>X15.48</td><td>StrongPair</td><td>36600</td><td>0.7873338</td></tr>\n",
       "\t<tr><th scope=row>5</th><td>X15.48</td><td>WeakPair</td><td>7482</td><td>0.1609517</td></tr>\n",
       "\t<tr><th scope=row>6</th><td>X15.48</td><td>Paired</td><td>44501</td><td>0.957299</td></tr>\n",
       "</tbody>\n",
       "</table>\n"
      ],
      "text/latex": [
       "\\begin{tabular}{r|llll}\n",
       "  & positions & variable & count & freq\\\\\n",
       "\\hline\n",
       "\t1 & X15.48 & GC & 36600 & 0.7873338\\\\\n",
       "\t2 & X15.48 & AU & 7482 & 0.1609517\\\\\n",
       "\t3 & X15.48 & PurinePyrimidine & 44082 & 0.9482855\\\\\n",
       "\t4 & X15.48 & StrongPair & 36600 & 0.7873338\\\\\n",
       "\t5 & X15.48 & WeakPair & 7482 & 0.1609517\\\\\n",
       "\t6 & X15.48 & Paired & 44501 & 0.957299\\\\\n",
       "\\end{tabular}\n"
      ],
      "text/plain": [
       "Source: local data frame [6 x 4]\n",
       "Groups: positions [1]\n",
       "\n",
       "  positions         variable count      freq\n",
       "      <chr>           <fctr> <int>     <dbl>\n",
       "1    X15.48               GC 36600 0.7873338\n",
       "2    X15.48               AU  7482 0.1609517\n",
       "3    X15.48 PurinePyrimidine 44082 0.9482855\n",
       "4    X15.48       StrongPair 36600 0.7873338\n",
       "5    X15.48         WeakPair  7482 0.1609517\n",
       "6    X15.48           Paired 44501 0.9572990"
      ]
     },
     "execution_count": 160,
     "metadata": {},
     "output_type": "execute_result"
    }
   ],
   "source": [
    "clade_iso_ac_freqs %>% filter(positions == \"X15.48\") %>%\n",
    "  group_by(positions, variable) %>%\n",
    "  summarize(count=sum(value), freq=sum(value)/sum(total)) %>%\n",
    "  filter(freq > 0.1)"
   ]
  },
  {
   "cell_type": "markdown",
   "metadata": {},
   "source": [
    "## B16\n",
    "\n",
    "In M&G, 16 is most commonly a U. There's lower conservation here. This position is commonly modified to a D, so a U makes sense. But it's also strange that a position thought to be important for synthetase recognition doesn't exhibit strong conservation. The same goes for position 17."
   ]
  },
  {
   "cell_type": "code",
   "execution_count": 201,
   "metadata": {
    "collapsed": false
   },
   "outputs": [
    {
     "data": {
      "text/html": [
       "<table>\n",
       "<thead><tr><th></th><th scope=col>positions</th><th scope=col>variable</th><th scope=col>count</th><th scope=col>freq</th></tr></thead>\n",
       "<tbody>\n",
       "\t<tr><th scope=row>1</th><td>X16</td><td>A</td><td>1397</td><td>0.03005141</td></tr>\n",
       "\t<tr><th scope=row>2</th><td>X16</td><td>C</td><td>6193</td><td>0.13322</td></tr>\n",
       "\t<tr><th scope=row>3</th><td>X16</td><td>G</td><td>2674</td><td>0.05752146</td></tr>\n",
       "\t<tr><th scope=row>4</th><td>X16</td><td>U</td><td>36220</td><td>0.7791426</td></tr>\n",
       "</tbody>\n",
       "</table>\n"
      ],
      "text/latex": [
       "\\begin{tabular}{r|llll}\n",
       "  & positions & variable & count & freq\\\\\n",
       "\\hline\n",
       "\t1 & X16 & A & 1397 & 0.03005141\\\\\n",
       "\t2 & X16 & C & 6193 & 0.13322\\\\\n",
       "\t3 & X16 & G & 2674 & 0.05752146\\\\\n",
       "\t4 & X16 & U & 36220 & 0.7791426\\\\\n",
       "\\end{tabular}\n"
      ],
      "text/plain": [
       "Source: local data frame [4 x 4]\n",
       "Groups: positions [1]\n",
       "\n",
       "  positions variable count       freq\n",
       "      <chr>   <fctr> <int>      <dbl>\n",
       "1       X16        A  1397 0.03005141\n",
       "2       X16        C  6193 0.13322004\n",
       "3       X16        G  2674 0.05752146\n",
       "4       X16        U 36220 0.77914256"
      ]
     },
     "execution_count": 201,
     "metadata": {},
     "output_type": "execute_result"
    }
   ],
   "source": [
    "clade_iso_ac_freqs %>% filter(positions %in% c('X16')) %>%\n",
    "  group_by(positions, variable) %>%\n",
    "  summarize(count=sum(value), freq=sum(value)/sum(total)) %>%\n",
    "  filter(variable %in% c(\"A\", \"C\", \"G\", \"U\"))"
   ]
  },
  {
   "cell_type": "markdown",
   "metadata": {},
   "source": [
    "## G18:U55, 19:56\n",
    "\n",
    "M&G: G18:U55, G19 in eukaryotes. G19:U56 is common enough. Data shows invariant G19:C56 in eukaryotes. 4 bases downstream from 14 is always a G - so what they were trying to say was a conserved G18. \n",
    "\n",
    "They locked in the search strategy to require G18 and R19, and our data doesn't show otherwise."
   ]
  },
  {
   "cell_type": "code",
   "execution_count": 163,
   "metadata": {
    "collapsed": false
   },
   "outputs": [
    {
     "data": {
      "text/html": [
       "<table>\n",
       "<thead><tr><th></th><th scope=col>positions</th><th scope=col>variable</th><th scope=col>count</th><th scope=col>freq</th></tr></thead>\n",
       "<tbody>\n",
       "\t<tr><th scope=row>1</th><td>X18.55</td><td>GU</td><td>46063</td><td>0.9908792</td></tr>\n",
       "\t<tr><th scope=row>2</th><td>X19.56</td><td>GC</td><td>45915</td><td>0.9876955</td></tr>\n",
       "</tbody>\n",
       "</table>\n"
      ],
      "text/latex": [
       "\\begin{tabular}{r|llll}\n",
       "  & positions & variable & count & freq\\\\\n",
       "\\hline\n",
       "\t1 & X18.55 & GU & 46063 & 0.9908792\\\\\n",
       "\t2 & X19.56 & GC & 45915 & 0.9876955\\\\\n",
       "\\end{tabular}\n"
      ],
      "text/plain": [
       "Source: local data frame [2 x 4]\n",
       "Groups: positions [2]\n",
       "\n",
       "  positions variable count      freq\n",
       "      <chr>   <fctr> <int>     <dbl>\n",
       "1    X18.55       GU 46063 0.9908792\n",
       "2    X19.56       GC 45915 0.9876955"
      ]
     },
     "execution_count": 163,
     "metadata": {},
     "output_type": "execute_result"
    }
   ],
   "source": [
    "clade_iso_ac_freqs %>% filter(positions %in% c(\"X18.55\", \"X19.56\")) %>%\n",
    "  group_by(positions, variable) %>% \n",
    "  summarize(count=sum(value), freq=sum(value)/sum(total)) %>%\n",
    "  filter(freq > 0.1) %>%\n",
    "  group_by(positions) %>% # remove duplicates\n",
    "  filter(row_number(freq) == 1)"
   ]
  },
  {
   "cell_type": "markdown",
   "metadata": {},
   "source": [
    "## H20\n",
    "\n",
    "M&G: Mostly U. G20 is exclusive to Phe-GAA, and vice versa, barring 1 exception.\n",
    "\n",
    "This base is almost certainly involved in 3d structure, whether as a spacer or stacking nucleotide. Our data shows many tRNAs that don't have a U. G20 does seem to be conserved in Phe-GAA too. It also looks like A20 in arginine is fairly well conserved with respect to the other isotypes."
   ]
  },
  {
   "cell_type": "code",
   "execution_count": 165,
   "metadata": {
    "collapsed": false
   },
   "outputs": [
    {
     "data": {
      "text/html": [
       "<table>\n",
       "<thead><tr><th></th><th scope=col>positions</th><th scope=col>variable</th><th scope=col>count</th><th scope=col>freq</th></tr></thead>\n",
       "<tbody>\n",
       "\t<tr><th scope=row>1</th><td>X20</td><td>A</td><td>4035</td><td>0.08679846</td></tr>\n",
       "\t<tr><th scope=row>2</th><td>X20</td><td>C</td><td>3063</td><td>0.06588939</td></tr>\n",
       "\t<tr><th scope=row>3</th><td>X20</td><td>G</td><td>1588</td><td>0.03416009</td></tr>\n",
       "\t<tr><th scope=row>4</th><td>X20</td><td>U</td><td>37801</td><td>0.8131521</td></tr>\n",
       "</tbody>\n",
       "</table>\n"
      ],
      "text/latex": [
       "\\begin{tabular}{r|llll}\n",
       "  & positions & variable & count & freq\\\\\n",
       "\\hline\n",
       "\t1 & X20 & A & 4035 & 0.08679846\\\\\n",
       "\t2 & X20 & C & 3063 & 0.06588939\\\\\n",
       "\t3 & X20 & G & 1588 & 0.03416009\\\\\n",
       "\t4 & X20 & U & 37801 & 0.8131521\\\\\n",
       "\\end{tabular}\n"
      ],
      "text/plain": [
       "Source: local data frame [4 x 4]\n",
       "Groups: positions [1]\n",
       "\n",
       "  positions variable count       freq\n",
       "      <chr>   <fctr> <int>      <dbl>\n",
       "1       X20        A  4035 0.08679846\n",
       "2       X20        C  3063 0.06588939\n",
       "3       X20        G  1588 0.03416009\n",
       "4       X20        U 37801 0.81315206"
      ]
     },
     "execution_count": 165,
     "metadata": {},
     "output_type": "execute_result"
    },
    {
     "data": {
      "text/html": [
       "<table>\n",
       "<thead><tr><th></th><th scope=col>positions</th><th scope=col>isotype</th><th scope=col>anticodon</th><th scope=col>variable</th><th scope=col>count</th><th scope=col>freq</th></tr></thead>\n",
       "<tbody>\n",
       "\t<tr><th scope=row>1</th><td>X20</td><td>Arg</td><td>ACG</td><td>A</td><td>693</td><td>0.6985887</td></tr>\n",
       "\t<tr><th scope=row>2</th><td>X20</td><td>Arg</td><td>CCG</td><td>A</td><td>258</td><td>0.8628763</td></tr>\n",
       "\t<tr><th scope=row>3</th><td>X20</td><td>Arg</td><td>CCT</td><td>A</td><td>436</td><td>0.8466019</td></tr>\n",
       "\t<tr><th scope=row>4</th><td>X20</td><td>Arg</td><td>TCG</td><td>A</td><td>484</td><td>0.75625</td></tr>\n",
       "\t<tr><th scope=row>5</th><td>X20</td><td>Arg</td><td>TCT</td><td>A</td><td>578</td><td>0.6963855</td></tr>\n",
       "\t<tr><th scope=row>6</th><td>X20</td><td>iMet</td><td>CAT</td><td>A</td><td>1102</td><td>0.940273</td></tr>\n",
       "\t<tr><th scope=row>7</th><td>X20</td><td>Met</td><td>CAT</td><td>C</td><td>753</td><td>0.6681455</td></tr>\n",
       "\t<tr><th scope=row>8</th><td>X20</td><td>Phe</td><td>GAA</td><td>G</td><td>1391</td><td>0.9802678</td></tr>\n",
       "</tbody>\n",
       "</table>\n"
      ],
      "text/latex": [
       "\\begin{tabular}{r|llllll}\n",
       "  & positions & isotype & anticodon & variable & count & freq\\\\\n",
       "\\hline\n",
       "\t1 & X20 & Arg & ACG & A & 693 & 0.6985887\\\\\n",
       "\t2 & X20 & Arg & CCG & A & 258 & 0.8628763\\\\\n",
       "\t3 & X20 & Arg & CCT & A & 436 & 0.8466019\\\\\n",
       "\t4 & X20 & Arg & TCG & A & 484 & 0.75625\\\\\n",
       "\t5 & X20 & Arg & TCT & A & 578 & 0.6963855\\\\\n",
       "\t6 & X20 & iMet & CAT & A & 1102 & 0.940273\\\\\n",
       "\t7 & X20 & Met & CAT & C & 753 & 0.6681455\\\\\n",
       "\t8 & X20 & Phe & GAA & G & 1391 & 0.9802678\\\\\n",
       "\\end{tabular}\n"
      ],
      "text/plain": [
       "Source: local data frame [8 x 6]\n",
       "Groups: positions, isotype, anticodon [8]\n",
       "\n",
       "  positions isotype anticodon variable count      freq\n",
       "      <chr>   <chr>     <chr>   <fctr> <int>     <dbl>\n",
       "1       X20     Arg       ACG        A   693 0.6985887\n",
       "2       X20     Arg       CCG        A   258 0.8628763\n",
       "3       X20     Arg       CCT        A   436 0.8466019\n",
       "4       X20     Arg       TCG        A   484 0.7562500\n",
       "5       X20     Arg       TCT        A   578 0.6963855\n",
       "6       X20    iMet       CAT        A  1102 0.9402730\n",
       "7       X20     Met       CAT        C   753 0.6681455\n",
       "8       X20     Phe       GAA        G  1391 0.9802678"
      ]
     },
     "execution_count": 165,
     "metadata": {},
     "output_type": "execute_result"
    },
    {
     "data": {
      "text/html": [
       "<table>\n",
       "<thead><tr><th></th><th scope=col>positions</th><th scope=col>isotype</th><th scope=col>variable</th><th scope=col>count</th><th scope=col>freq</th></tr></thead>\n",
       "<tbody>\n",
       "\t<tr><th scope=row>1</th><td>X20</td><td>Arg</td><td>A</td><td>2449</td><td>0.747558</td></tr>\n",
       "\t<tr><th scope=row>2</th><td>X20</td><td>Arg</td><td>C</td><td>389</td><td>0.1187424</td></tr>\n",
       "\t<tr><th scope=row>3</th><td>X20</td><td>Arg</td><td>G</td><td>1</td><td>0.0003052503</td></tr>\n",
       "\t<tr><th scope=row>4</th><td>X20</td><td>Arg</td><td>U</td><td>437</td><td>0.1333944</td></tr>\n",
       "</tbody>\n",
       "</table>\n"
      ],
      "text/latex": [
       "\\begin{tabular}{r|lllll}\n",
       "  & positions & isotype & variable & count & freq\\\\\n",
       "\\hline\n",
       "\t1 & X20 & Arg & A & 2449 & 0.747558\\\\\n",
       "\t2 & X20 & Arg & C & 389 & 0.1187424\\\\\n",
       "\t3 & X20 & Arg & G & 1 & 0.0003052503\\\\\n",
       "\t4 & X20 & Arg & U & 437 & 0.1333944\\\\\n",
       "\\end{tabular}\n"
      ],
      "text/plain": [
       "Source: local data frame [4 x 5]\n",
       "Groups: positions, isotype [1]\n",
       "\n",
       "  positions isotype variable count         freq\n",
       "      <chr>   <chr>   <fctr> <int>        <dbl>\n",
       "1       X20     Arg        A  2449 0.7475579976\n",
       "2       X20     Arg        C   389 0.1187423687\n",
       "3       X20     Arg        G     1 0.0003052503\n",
       "4       X20     Arg        U   437 0.1333943834"
      ]
     },
     "execution_count": 165,
     "metadata": {},
     "output_type": "execute_result"
    }
   ],
   "source": [
    "clade_iso_ac_freqs %>% filter(positions %in% c(\"X20\")) %>% group_by(positions, variable) %>% summarize(count=sum(value), freq=sum(value)/sum(total)) %>%\n",
    "  filter(variable %in% c(\"A\", \"G\", \"C\", \"U\"))\n",
    "\n",
    "clade_iso_ac_freqs %>% filter(positions %in% c(\"X20\")) %>% group_by(positions, isotype, anticodon, variable) %>% summarize(count=sum(value), freq=sum(value)/sum(total)) %>%\n",
    "  filter(variable %in% c(\"A\", \"G\", \"C\") & freq > 0.5 & count > 10)\n",
    "\n",
    "clade_iso_ac_freqs %>% filter(positions %in% c(\"X20\") & isotype == \"Arg\") %>% group_by(positions, isotype, variable) %>% summarize(count=sum(value), freq=sum(value)/sum(total)) %>%\n",
    "  filter(variable %in% c(\"A\", \"G\", \"C\", \"U\"))"
   ]
  },
  {
   "cell_type": "markdown",
   "metadata": {},
   "source": [
    "## A21\n",
    "\n",
    "M&G: A21 is invariant except for G21 in Met-CAT in *S. pombe*.\n",
    "\n",
    "This base stacks with 8:14. However, I don't see G21 at all. "
   ]
  },
  {
   "cell_type": "code",
   "execution_count": 166,
   "metadata": {
    "collapsed": false
   },
   "outputs": [
    {
     "data": {
      "text/html": [
       "<table>\n",
       "<thead><tr><th></th><th scope=col>positions</th><th scope=col>variable</th><th scope=col>count</th><th scope=col>freq</th></tr></thead>\n",
       "<tbody>\n",
       "\t<tr><th scope=row>1</th><td>X21</td><td>A</td><td>46351</td><td>0.9970745</td></tr>\n",
       "</tbody>\n",
       "</table>\n"
      ],
      "text/latex": [
       "\\begin{tabular}{r|llll}\n",
       "  & positions & variable & count & freq\\\\\n",
       "\\hline\n",
       "\t1 & X21 & A & 46351 & 0.9970745\\\\\n",
       "\\end{tabular}\n"
      ],
      "text/plain": [
       "Source: local data frame [1 x 4]\n",
       "Groups: positions [1]\n",
       "\n",
       "  positions variable count      freq\n",
       "      <chr>   <fctr> <int>     <dbl>\n",
       "1       X21        A 46351 0.9970745"
      ]
     },
     "execution_count": 166,
     "metadata": {},
     "output_type": "execute_result"
    },
    {
     "data": {
      "text/html": [
       "<table>\n",
       "<thead><tr><th></th><th scope=col>positions</th><th scope=col>clade</th><th scope=col>isotype</th><th scope=col>anticodon</th><th scope=col>variable</th><th scope=col>count</th><th scope=col>freq</th></tr></thead>\n",
       "<tbody>\n",
       "\t<tr><th scope=row>1</th><td>X21</td><td>Fungi</td><td>Met</td><td>CAT</td><td>A</td><td>209</td><td>1</td></tr>\n",
       "\t<tr><th scope=row>2</th><td>X21</td><td>Fungi</td><td>Met</td><td>CAT</td><td>C</td><td>0</td><td>0</td></tr>\n",
       "\t<tr><th scope=row>3</th><td>X21</td><td>Fungi</td><td>Met</td><td>CAT</td><td>G</td><td>0</td><td>0</td></tr>\n",
       "\t<tr><th scope=row>4</th><td>X21</td><td>Fungi</td><td>Met</td><td>CAT</td><td>U</td><td>0</td><td>0</td></tr>\n",
       "</tbody>\n",
       "</table>\n"
      ],
      "text/latex": [
       "\\begin{tabular}{r|lllllll}\n",
       "  & positions & clade & isotype & anticodon & variable & count & freq\\\\\n",
       "\\hline\n",
       "\t1 & X21 & Fungi & Met & CAT & A & 209 & 1\\\\\n",
       "\t2 & X21 & Fungi & Met & CAT & C & 0 & 0\\\\\n",
       "\t3 & X21 & Fungi & Met & CAT & G & 0 & 0\\\\\n",
       "\t4 & X21 & Fungi & Met & CAT & U & 0 & 0\\\\\n",
       "\\end{tabular}\n"
      ],
      "text/plain": [
       "Source: local data frame [4 x 7]\n",
       "Groups: positions, clade, isotype, anticodon [1]\n",
       "\n",
       "  positions clade isotype anticodon variable count  freq\n",
       "      <chr> <chr>   <chr>     <chr>   <fctr> <int> <dbl>\n",
       "1       X21 Fungi     Met       CAT        A   209     1\n",
       "2       X21 Fungi     Met       CAT        C     0     0\n",
       "3       X21 Fungi     Met       CAT        G     0     0\n",
       "4       X21 Fungi     Met       CAT        U     0     0"
      ]
     },
     "execution_count": 166,
     "metadata": {},
     "output_type": "execute_result"
    }
   ],
   "source": [
    "clade_iso_ac_freqs %>% filter(positions == \"X21\") %>% group_by(positions, variable) %>% summarize(count=sum(value), freq=sum(value)/sum(total)) %>% filter(freq > 0.5) %>% filter(row_number(freq) == 1)\n",
    "\n",
    "clade_iso_ac_freqs %>% filter(positions == \"X21\") %>% group_by(positions, clade, isotype, anticodon, variable)%>% summarize(count=sum(value), freq=sum(value)/sum(total)) %>% filter(clade == \"Fungi\" & isotype == \"Met\" & variable %in% c(\"U\", \"G\", \"C\", \"A\"))"
   ]
  },
  {
   "cell_type": "markdown",
   "metadata": {},
   "source": [
    "Digging in more deeply, the *S. pombe* tRNAs score poorly, and align better to the threonine CM. Previously, the alignment has U20-G20a-G21. However, the alignment places a gap at 21 and 22, and places the insertion before 20a.\n",
    "\n",
    "This is an exceedingly rare exception - almost all other tRNAs have this aligned properly, as shown in [euk-tRNAs](../euk-tRNAs.ipynb). "
   ]
  },
  {
   "cell_type": "code",
   "execution_count": 93,
   "metadata": {
    "collapsed": false
   },
   "outputs": [
    {
     "data": {
      "text/html": [
       "<table>\n",
       "<thead><tr><th></th><th scope=col>clade</th><th scope=col>domain</th><th scope=col>isotype</th><th scope=col>seqname</th><th scope=col>species</th><th scope=col>species_long</th><th scope=col>isotype_ac</th><th scope=col>anticodon</th><th scope=col>score</th><th scope=col>isoscore</th><th scope=col>GC</th><th scope=col>D.loop</th><th scope=col>AC.loop</th><th scope=col>TPC.loop</th><th scope=col>V.arm</th><th scope=col>intron</th><th scope=col>insertions</th><th scope=col>deletions</th><th scope=col>quality</th><th scope=col>restrict</th><th scope=col>X0i1</th><th scope=col>X0i2</th><th scope=col>X0i3</th><th scope=col>X0i4</th><th scope=col>X0i5</th><th scope=col>X0i6</th><th scope=col>X0i7</th><th scope=col>X0i8</th><th scope=col>X0i9</th><th scope=col>X0i10</th><th scope=col>X0i11</th><th scope=col>X1.72</th><th scope=col>X1</th><th scope=col>X1i1</th><th scope=col>X2.71</th><th scope=col>X2</th><th scope=col>X2i1</th><th scope=col>X3.70</th><th scope=col>X3</th><th scope=col>X3i1</th><th scope=col>X3i2</th><th scope=col>X3i3</th><th scope=col>X3i4</th><th scope=col>X3i5</th><th scope=col>X3i6</th><th scope=col>X3i7</th><th scope=col>X4.69</th><th scope=col>X4</th><th scope=col>X4i1</th><th scope=col>X4i2</th><th scope=col>X4i3</th><th scope=col>X4i4</th><th scope=col>X4i5</th><th scope=col>X4i6</th><th scope=col>X4i7</th><th scope=col>X4i8</th><th scope=col>X4i9</th><th scope=col>X4i10</th><th scope=col>X4i11</th><th scope=col>X5.68</th><th scope=col>X5</th><th scope=col>X5i1</th><th scope=col>X5i2</th><th scope=col>X5i3</th><th scope=col>X5i4</th><th scope=col>X5i5</th><th scope=col>X5i6</th><th scope=col>X5i7</th><th scope=col>X6.67</th><th scope=col>X6</th><th scope=col>X6i1</th><th scope=col>X7.66</th><th scope=col>X7</th><th scope=col>X7i1</th><th scope=col>X7i2</th><th scope=col>X7i3</th><th scope=col>X7i4</th><th scope=col>X7i5</th><th scope=col>X7i6</th><th scope=col>X7i7</th><th scope=col>X7i8</th><th scope=col>X7i9</th><th scope=col>X7i10</th><th scope=col>X7i11</th><th scope=col>X7i12</th><th scope=col>X7i13</th><th scope=col>X7i14</th><th scope=col>X8</th><th scope=col>X8.14.21</th><th scope=col>X8.14</th><th scope=col>X8i1</th><th scope=col>X8i2</th><th scope=col>X8i3</th><th scope=col>X8i4</th><th scope=col>X9</th><th scope=col>X9.12.23</th><th scope=col>X9.23</th><th scope=col>X9i1</th><th scope=col>X9i2</th><th scope=col>X9i3</th><th scope=col>X10.25</th><th scope=col>X10</th><th scope=col>X10.25.45</th><th scope=col>X10.45</th><th scope=col>X10i1</th><th scope=col>X11.24</th><th scope=col>X11</th><th scope=col>X12.23</th><th scope=col>X12</th><th scope=col>X12i1</th><th scope=col>X12i2</th><th scope=col>X12i3</th><th scope=col>X12i4</th><th scope=col>X13.22</th><th scope=col>X13</th><th scope=col>X13.22.46</th><th scope=col>X13i1</th><th scope=col>X14</th><th scope=col>X14i1</th><th scope=col>X14i2</th><th scope=col>X14i3</th><th scope=col>X14i4</th><th scope=col>X14i5</th><th scope=col>X14i6</th><th scope=col>X14i7</th><th scope=col>X14i8</th><th scope=col>X14i9</th><th scope=col>X14i10</th><th scope=col>X14i11</th><th scope=col>X14i12</th><th scope=col>X14i13</th><th scope=col>X14i14</th><th scope=col>X14i15</th><th scope=col>X14i16</th><th scope=col>X14i17</th><th scope=col>X14i18</th><th scope=col>X14i19</th><th scope=col>X14i20</th><th scope=col>X14i21</th><th scope=col>X14i22</th><th scope=col>X14i23</th><th scope=col>X14i24</th><th scope=col>X14i25</th><th scope=col>X15</th><th scope=col>X15.48</th><th scope=col>X16</th><th scope=col>X16i1</th><th scope=col>X16i2</th><th scope=col>X16i3</th><th scope=col>X16i4</th><th scope=col>X16i5</th><th scope=col>X16i6</th><th scope=col>X16i7</th><th scope=col>X16i8</th><th scope=col>X16i9</th><th scope=col>X16i10</th><th scope=col>X16i11</th><th scope=col>X16i12</th><th scope=col>X16i13</th><th scope=col>X16i14</th><th scope=col>X16i15</th><th scope=col>X16i16</th><th scope=col>X16i17</th><th scope=col>X16i18</th><th scope=col>X16i19</th><th scope=col>X16i20</th><th scope=col>X17</th><th scope=col>X17i1</th><th scope=col>X17i2</th><th scope=col>X17i3</th><th scope=col>X18</th><th scope=col>X18.55</th><th scope=col>X19</th><th scope=col>X19.56</th><th scope=col>X20</th><th scope=col>X20i1</th><th scope=col>X20i2</th><th scope=col>X20i3</th><th scope=col>X20i4</th><th scope=col>X20i5</th><th scope=col>X20i6</th><th scope=col>X20i7</th><th scope=col>X20i8</th><th scope=col>X20i9</th><th scope=col>X20i10</th><th scope=col>X20a</th><th scope=col>X20b</th><th scope=col>X21</th><th scope=col>X21i1</th><th scope=col>X22</th><th scope=col>X22.46</th><th scope=col>X22i1</th><th scope=col>X23</th><th scope=col>X23i1</th><th scope=col>X24</th><th scope=col>X24i1</th><th scope=col>X25</th><th scope=col>X25i1</th><th scope=col>X25i2</th><th scope=col>X25i3</th><th scope=col>X25i4</th><th scope=col>X25i5</th><th scope=col>X25i6</th><th scope=col>X25i7</th><th scope=col>X25i8</th><th scope=col>X25i9</th><th scope=col>X25i10</th><th scope=col>X25i11</th><th scope=col>X25i12</th><th scope=col>X25i13</th><th scope=col>X26</th><th scope=col>X26.44</th><th scope=col>X26i1</th><th scope=col>X26i2</th><th scope=col>X26i3</th><th scope=col>X26i4</th><th scope=col>X27.43</th><th scope=col>X27</th><th scope=col>X27i1</th><th scope=col>X27i2</th><th scope=col>X27i3</th><th scope=col>X27i4</th><th scope=col>X27i5</th><th scope=col>X28.42</th><th scope=col>X28</th><th scope=col>X28i1</th><th scope=col>X28i2</th><th scope=col>X28i3</th><th scope=col>X28i4</th><th scope=col>X29.41</th><th scope=col>X29</th><th scope=col>X29i1</th><th scope=col>X30.40</th><th scope=col>X30</th><th scope=col>X30i1</th><th scope=col>X31.39</th><th scope=col>X31</th><th scope=col>X32</th><th scope=col>X33</th><th scope=col>X34</th><th scope=col>X35</th><th scope=col>X35i1</th><th scope=col>X36</th><th scope=col>X37</th><th scope=col>X37i1</th><th scope=col>X37i2</th><th scope=col>X37i3</th><th scope=col>X37i4</th><th scope=col>X37i5</th><th scope=col>X37i6</th><th scope=col>X37i7</th><th scope=col>X37i8</th><th scope=col>X37i9</th><th scope=col>X37i10</th><th scope=col>X37i11</th><th scope=col>X37i12</th><th scope=col>X37i13</th><th scope=col>X37i14</th><th scope=col>X37i15</th><th scope=col>X37i16</th><th scope=col>X37i17</th><th scope=col>X37i18</th><th scope=col>X37i19</th><th scope=col>X37i20</th><th scope=col>X37i21</th><th scope=col>X37i22</th><th scope=col>X37i23</th><th scope=col>X37i24</th><th scope=col>X37i25</th><th scope=col>X37i26</th><th scope=col>X37i27</th><th scope=col>X37i28</th><th scope=col>X37i29</th><th scope=col>X37i30</th><th scope=col>X37i31</th><th scope=col>X37i32</th><th scope=col>X37i33</th><th scope=col>X37i34</th><th scope=col>X37i35</th><th scope=col>X37i36</th><th scope=col>X37i37</th><th scope=col>X37i38</th><th scope=col>X37i39</th><th scope=col>X37i40</th><th scope=col>X37i41</th><th scope=col>X37i42</th><th scope=col>X37i43</th><th scope=col>X37i44</th><th scope=col>X37i45</th><th scope=col>X37i46</th><th scope=col>X37i47</th><th scope=col>X37i48</th><th scope=col>X37i49</th><th scope=col>X37i50</th><th scope=col>X37i51</th><th scope=col>X37i52</th><th scope=col>X37i53</th><th scope=col>X37i54</th><th scope=col>X37i55</th><th scope=col>X37i56</th><th scope=col>X37i57</th><th scope=col>X37i58</th><th scope=col>X37i59</th><th scope=col>X37i60</th><th scope=col>X37i61</th><th scope=col>X37i62</th><th scope=col>X37i63</th><th scope=col>X37i64</th><th scope=col>X37i65</th><th scope=col>X37i66</th><th scope=col>X37i67</th><th scope=col>X37i68</th><th scope=col>X37i69</th><th scope=col>X37i70</th><th scope=col>X37i71</th><th scope=col>X37i72</th><th scope=col>X37i73</th><th scope=col>X37i74</th><th scope=col>X37i75</th><th scope=col>X37i76</th><th scope=col>X37i77</th><th scope=col>X37i78</th><th scope=col>X37i79</th><th scope=col>X37i80</th><th scope=col>X37i81</th><th scope=col>X37i82</th><th scope=col>X37i83</th><th scope=col>X37i84</th><th scope=col>X37i85</th><th scope=col>X37i86</th><th scope=col>X37i87</th><th scope=col>X37i88</th><th scope=col>X37i89</th><th scope=col>X37i90</th><th scope=col>X37i91</th><th scope=col>X37i92</th><th scope=col>X37i93</th><th scope=col>X37i94</th><th scope=col>X37i95</th><th scope=col>X37i96</th><th scope=col>X37i97</th><th scope=col>X37i98</th><th scope=col>X37i99</th><th scope=col>X37i100</th><th scope=col>X37i101</th><th scope=col>X37i102</th><th scope=col>X37i103</th><th scope=col>X37i104</th><th scope=col>X37i105</th><th scope=col>X37i106</th><th scope=col>X37i107</th><th scope=col>X37i108</th><th scope=col>X37i109</th><th scope=col>X37i110</th><th scope=col>X37i111</th><th scope=col>X37i112</th><th scope=col>X37i113</th><th scope=col>X37i114</th><th scope=col>X37i115</th><th scope=col>X37i116</th><th scope=col>X37i117</th><th scope=col>X37i118</th><th scope=col>X37i119</th><th scope=col>X37i120</th><th scope=col>X37i121</th><th scope=col>X37i122</th><th scope=col>X37i123</th><th scope=col>X37i124</th><th scope=col>X37i125</th><th scope=col>X37i126</th><th scope=col>X37i127</th><th scope=col>X37i128</th><th scope=col>X37i129</th><th scope=col>X37i130</th><th scope=col>X37i131</th><th scope=col>X37i132</th><th scope=col>X37i133</th><th scope=col>X37i134</th><th scope=col>X37i135</th><th scope=col>X37i136</th><th scope=col>X37i137</th><th scope=col>X37i138</th><th scope=col>X37i139</th><th scope=col>X37i140</th><th scope=col>X37i141</th><th scope=col>X37i142</th><th scope=col>X37i143</th><th scope=col>X37i144</th><th scope=col>X37i145</th><th scope=col>X37i146</th><th scope=col>X37i147</th><th scope=col>X37i148</th><th scope=col>X37i149</th><th scope=col>X37i150</th><th scope=col>X37i151</th><th scope=col>X37i152</th><th scope=col>X37i153</th><th scope=col>X37i154</th><th scope=col>X37i155</th><th scope=col>X37i156</th><th scope=col>X37i157</th><th scope=col>X37i158</th><th scope=col>X37i159</th><th scope=col>X37i160</th><th scope=col>X37i161</th><th scope=col>X37i162</th><th scope=col>X37i163</th><th scope=col>X37i164</th><th scope=col>X37i165</th><th scope=col>X37i166</th><th scope=col>X37i167</th><th scope=col>X37i168</th><th scope=col>X37i169</th><th scope=col>X37i170</th><th scope=col>X37i171</th><th scope=col>X37i172</th><th scope=col>X37i173</th><th scope=col>X37i174</th><th scope=col>X37i175</th><th scope=col>X37i176</th><th scope=col>X37i177</th><th scope=col>X37i178</th><th scope=col>X37i179</th><th scope=col>X37i180</th><th scope=col>X37i181</th><th scope=col>X37i182</th><th scope=col>X37i183</th><th scope=col>X37i184</th><th scope=col>X37i185</th><th scope=col>X37i186</th><th scope=col>X37i187</th><th scope=col>X37i188</th><th scope=col>X37i189</th><th scope=col>X37i190</th><th scope=col>X37i191</th><th scope=col>X37i192</th><th scope=col>X37i193</th><th scope=col>X37i194</th><th scope=col>X37i195</th><th scope=col>X37i196</th><th scope=col>X37i197</th><th scope=col>X37i198</th><th scope=col>X37i199</th><th scope=col>X37i200</th><th scope=col>X37i201</th><th scope=col>X37i202</th><th scope=col>X37i203</th><th scope=col>X37i204</th><th scope=col>X37i205</th><th scope=col>X37i206</th><th scope=col>X37i207</th><th scope=col>X37i208</th><th scope=col>X37i209</th><th scope=col>X37i210</th><th scope=col>X37i211</th><th scope=col>X37i212</th><th scope=col>X37i213</th><th scope=col>X37i214</th><th scope=col>X37i215</th><th scope=col>X37i216</th><th scope=col>X37i217</th><th scope=col>X37i218</th><th scope=col>X37i219</th><th scope=col>X37i220</th><th scope=col>X37i221</th><th scope=col>X37i222</th><th scope=col>X37i223</th><th scope=col>X37i224</th><th scope=col>X37i225</th><th scope=col>X37i226</th><th scope=col>X37i227</th><th scope=col>X37i228</th><th scope=col>X37i229</th><th scope=col>X37i230</th><th scope=col>X37i231</th><th scope=col>X37i232</th><th scope=col>X37i233</th><th scope=col>X37i234</th><th scope=col>X37i235</th><th scope=col>X37i236</th><th scope=col>X37i237</th><th scope=col>X37i238</th><th scope=col>X37i239</th><th scope=col>X37i240</th><th scope=col>X37i241</th><th scope=col>X37i242</th><th scope=col>X37i243</th><th scope=col>X37i244</th><th scope=col>X37i245</th><th scope=col>X37i246</th><th scope=col>X37i247</th><th scope=col>X37i248</th><th scope=col>X37i249</th><th scope=col>X37i250</th><th scope=col>X37i251</th><th scope=col>X37i252</th><th scope=col>X37i253</th><th scope=col>X37i254</th><th scope=col>X37i255</th><th scope=col>X37i256</th><th scope=col>X37i257</th><th scope=col>X37i258</th><th scope=col>X37i259</th><th scope=col>X37i260</th><th scope=col>X37i261</th><th scope=col>X37i262</th><th scope=col>X37i263</th><th scope=col>X37i264</th><th scope=col>X37i265</th><th scope=col>X37i266</th><th scope=col>X37i267</th><th scope=col>X37i268</th><th scope=col>X37i269</th><th scope=col>X37i270</th><th scope=col>X37i271</th><th scope=col>X37i272</th><th scope=col>X37i273</th><th scope=col>X37i274</th><th scope=col>X37i275</th><th scope=col>X37i276</th><th scope=col>X37i277</th><th scope=col>X37i278</th><th scope=col>X37i279</th><th scope=col>X37i280</th><th scope=col>X37i281</th><th scope=col>X37i282</th><th scope=col>X37i283</th><th scope=col>X37i284</th><th scope=col>X37i285</th><th scope=col>X37i286</th><th scope=col>X37i287</th><th scope=col>X37i288</th><th scope=col>X37i289</th><th scope=col>X37i290</th><th scope=col>X37i291</th><th scope=col>X37i292</th><th scope=col>X37i293</th><th scope=col>X37i294</th><th scope=col>X37i295</th><th scope=col>X37i296</th><th scope=col>X37i297</th><th scope=col>X37i298</th><th scope=col>X37i299</th><th scope=col>X37i300</th><th scope=col>X37i301</th><th scope=col>X37i302</th><th scope=col>X37i303</th><th scope=col>X37i304</th><th scope=col>X37i305</th><th scope=col>X37i306</th><th scope=col>X37i307</th><th scope=col>X37i308</th><th scope=col>X37i309</th><th scope=col>X37i310</th><th scope=col>X37i311</th><th scope=col>X37i312</th><th scope=col>X37i313</th><th scope=col>X37i314</th><th scope=col>X37i315</th><th scope=col>X37i316</th><th scope=col>X37i317</th><th scope=col>X37i318</th><th scope=col>X37i319</th><th scope=col>X37i320</th><th scope=col>X37i321</th><th scope=col>X37i322</th><th scope=col>X37i323</th><th scope=col>X37i324</th><th scope=col>X37i325</th><th scope=col>X37i326</th><th scope=col>X37i327</th><th scope=col>X37i328</th><th scope=col>X37i329</th><th scope=col>X37i330</th><th scope=col>X37i331</th><th scope=col>X37i332</th><th scope=col>X37i333</th><th scope=col>X37i334</th><th scope=col>X37i335</th><th scope=col>X37i336</th><th scope=col>X37i337</th><th scope=col>X37i338</th><th scope=col>X37i339</th><th scope=col>X37i340</th><th scope=col>X37i341</th><th scope=col>X37i342</th><th scope=col>X37i343</th><th scope=col>X37i344</th><th scope=col>X37i345</th><th scope=col>X37i346</th><th scope=col>X37i347</th><th scope=col>X37i348</th><th scope=col>X37i349</th><th scope=col>X37i350</th><th scope=col>X37i351</th><th scope=col>X37i352</th><th scope=col>X37i353</th><th scope=col>X37i354</th><th scope=col>X37i355</th><th scope=col>X37i356</th><th scope=col>X37i357</th><th scope=col>X37i358</th><th scope=col>X37i359</th><th scope=col>X37i360</th><th scope=col>X37i361</th><th scope=col>X37i362</th><th scope=col>X37i363</th><th scope=col>X37i364</th><th scope=col>X37i365</th><th scope=col>X37i366</th><th scope=col>X37i367</th><th scope=col>X37i368</th><th scope=col>X37i369</th><th scope=col>X37i370</th><th scope=col>X37i371</th><th scope=col>X37i372</th><th scope=col>X37i373</th><th scope=col>X37i374</th><th scope=col>X37i375</th><th scope=col>X37i376</th><th scope=col>X37i377</th><th scope=col>X37i378</th><th scope=col>X37i379</th><th scope=col>X37i380</th><th scope=col>X37i381</th><th scope=col>X37i382</th><th scope=col>X38</th><th scope=col>X38i1</th><th scope=col>X39</th><th scope=col>X39i1</th><th scope=col>X40</th><th scope=col>X40i1</th><th scope=col>X40i2</th><th scope=col>X40i3</th><th scope=col>X40i4</th><th scope=col>X41</th><th scope=col>X41i1</th><th scope=col>X42</th><th scope=col>X42i1</th><th scope=col>X43</th><th scope=col>X44</th><th scope=col>X44i1</th><th scope=col>X44i2</th><th scope=col>X44i3</th><th scope=col>X44i4</th><th scope=col>X44i5</th><th scope=col>X44i6</th><th scope=col>X44i7</th><th scope=col>X44i8</th><th scope=col>X44i9</th><th scope=col>X44i10</th><th scope=col>X44i11</th><th scope=col>X44i12</th><th scope=col>X44i13</th><th scope=col>X44i14</th><th scope=col>X44i15</th><th scope=col>X44i16</th><th scope=col>X44i17</th><th scope=col>X44i18</th><th scope=col>X44i19</th><th scope=col>X44i20</th><th scope=col>X44i21</th><th scope=col>X44i22</th><th scope=col>X44i23</th><th scope=col>X45</th><th scope=col>V11.V21</th><th scope=col>V12.V22</th><th scope=col>V13.V23</th><th scope=col>V14.V24</th><th scope=col>V15.V25</th><th scope=col>V16.V26</th><th scope=col>V17.V27</th><th scope=col>V1</th><th scope=col>V2</th><th scope=col>V3</th><th scope=col>V4</th><th scope=col>V11</th><th scope=col>V12</th><th scope=col>V13</th><th scope=col>V14</th><th scope=col>V15</th><th scope=col>V16</th><th scope=col>V17</th><th scope=col>V21</th><th scope=col>V22</th><th scope=col>V23</th><th scope=col>V24</th><th scope=col>V25</th><th scope=col>V26</th><th scope=col>V27</th><th scope=col>X46</th><th scope=col>X46i1</th><th scope=col>X47</th><th scope=col>X47i1</th><th scope=col>X48</th><th scope=col>X49.65</th><th scope=col>X49</th><th scope=col>X49i1</th><th scope=col>X50.64</th><th scope=col>X50</th><th scope=col>X50i1</th><th scope=col>X50i2</th><th scope=col>X50i3</th><th scope=col>X50i4</th><th scope=col>X50i5</th><th scope=col>X50i6</th><th scope=col>X50i7</th><th scope=col>X50i8</th><th scope=col>X51.63</th><th scope=col>X51</th><th scope=col>X51i1</th><th scope=col>X51i2</th><th scope=col>X51i3</th><th scope=col>X52.62</th><th scope=col>X52</th><th scope=col>X52i1</th><th scope=col>X53.61</th><th scope=col>X53</th><th scope=col>X53i1</th><th scope=col>X54</th><th scope=col>X54.58</th><th scope=col>X54i1</th><th scope=col>X54i2</th><th scope=col>X54i3</th><th scope=col>X54i4</th><th scope=col>X54i5</th><th scope=col>X54i6</th><th scope=col>X54i7</th><th scope=col>X55</th><th scope=col>X55i1</th><th scope=col>X55i2</th><th scope=col>X55i3</th><th scope=col>X55i4</th><th scope=col>X55i5</th><th scope=col>X55i6</th><th scope=col>X55i7</th><th scope=col>X56</th><th scope=col>X56i1</th><th scope=col>X56i2</th><th scope=col>X56i3</th><th scope=col>X56i4</th><th scope=col>X56i5</th><th scope=col>X56i6</th><th scope=col>X56i7</th><th scope=col>X56i8</th><th scope=col>X56i9</th><th scope=col>X56i10</th><th scope=col>X56i11</th><th scope=col>X56i12</th><th scope=col>X56i13</th><th scope=col>X56i14</th><th scope=col>X56i15</th><th scope=col>X56i16</th><th scope=col>X56i17</th><th scope=col>X56i18</th><th scope=col>X56i19</th><th scope=col>X56i20</th><th scope=col>X56i21</th><th scope=col>X57</th><th scope=col>X57i1</th><th scope=col>X58</th><th scope=col>X58i1</th><th scope=col>X58i2</th><th scope=col>X58i3</th><th scope=col>X58i4</th><th scope=col>X58i5</th><th scope=col>X58i6</th><th scope=col>X58i7</th><th scope=col>X58i8</th><th scope=col>X58i9</th><th scope=col>X58i10</th><th scope=col>X58i11</th><th scope=col>X58i12</th><th scope=col>X58i13</th><th scope=col>X58i14</th><th scope=col>X58i15</th><th scope=col>X58i16</th><th scope=col>X58i17</th><th scope=col>X59</th><th scope=col>X59i1</th><th scope=col>X59i2</th><th scope=col>X59i3</th><th scope=col>X59i4</th><th scope=col>X60</th><th scope=col>X60i1</th><th scope=col>X60i2</th><th scope=col>X61</th><th scope=col>X61i1</th><th scope=col>X62</th><th scope=col>X63</th><th scope=col>X64</th><th scope=col>X64i1</th><th scope=col>X64i2</th><th scope=col>X64i3</th><th scope=col>X64i4</th><th scope=col>X64i5</th><th scope=col>X64i6</th><th scope=col>X65</th><th scope=col>X65i1</th><th scope=col>X65i2</th><th scope=col>X65i3</th><th scope=col>X65i4</th><th scope=col>X65i5</th><th scope=col>X65i6</th><th scope=col>X65i7</th><th scope=col>X65i8</th><th scope=col>X65i9</th><th scope=col>X65i10</th><th scope=col>X65i11</th><th scope=col>X65i12</th><th scope=col>X66</th><th scope=col>X66i1</th><th scope=col>X67</th><th scope=col>X67i1</th><th scope=col>X67i2</th><th scope=col>X68</th><th scope=col>X68i1</th><th scope=col>X68i2</th><th scope=col>X68i3</th><th scope=col>X68i4</th><th scope=col>X68i5</th><th scope=col>X68i6</th><th scope=col>X68i7</th><th scope=col>X68i8</th><th scope=col>X68i9</th><th scope=col>X68i10</th><th scope=col>X68i11</th><th scope=col>X69</th><th scope=col>X69i1</th><th scope=col>X70</th><th scope=col>X70i1</th><th scope=col>X70i2</th><th scope=col>X70i3</th><th scope=col>X70i4</th><th scope=col>X70i5</th><th scope=col>X70i6</th><th scope=col>X70i7</th><th scope=col>X70i8</th><th scope=col>X70i9</th><th scope=col>X70i10</th><th scope=col>X70i11</th><th scope=col>X71</th><th scope=col>X71i1</th><th scope=col>X71i2</th><th scope=col>X71i3</th><th scope=col>X71i4</th><th scope=col>X71i5</th><th scope=col>X72</th><th scope=col>X73</th></tr></thead>\n",
       "<tbody>\n",
       "\t<tr><th scope=row>103031</th><td>Fungi</td><td>eukaryota</td><td>Thr</td><td>schiPomb_972H_chrI.trna50</td><td>schiPomb_972H</td><td>Schizosaccharomyces pombe 972h-</td><td>Met</td><td>CAT</td><td>57.1</td><td>76.3</td><td>0.2682927</td><td>12</td><td>16</td><td>8</td><td>0</td><td>9</td><td>2</td><td>2</td><td>FALSE</td><td>TRUE</td><td>.</td><td>.</td><td>.</td><td>.</td><td>.</td><td>.</td><td>.</td><td>.</td><td>.</td><td>.</td><td>.</td><td>G:C</td><td>G</td><td>.</td><td>C:G</td><td>C</td><td>.</td><td>U:A</td><td>U</td><td>.</td><td>.</td><td>.</td><td>.</td><td>.</td><td>.</td><td>.</td><td>U:G</td><td>U</td><td>.</td><td>.</td><td>.</td><td>.</td><td>.</td><td>.</td><td>.</td><td>.</td><td>.</td><td>.</td><td>.</td><td>C:C</td><td>C</td><td>.</td><td>.</td><td>.</td><td>.</td><td>.</td><td>.</td><td>.</td><td>U:A</td><td>U</td><td>.</td><td>G:U</td><td>G</td><td>.</td><td>.</td><td>.</td><td>.</td><td>.</td><td>.</td><td>.</td><td>.</td><td>.</td><td>.</td><td>.</td><td>.</td><td>.</td><td>.</td><td>U</td><td>U:A:-</td><td>U:A</td><td>.</td><td>.</td><td>.</td><td>.</td><td>A</td><td>A:U:G</td><td>A:G</td><td>.</td><td>.</td><td>.</td><td>G:C</td><td>G</td><td>G:C:G</td><td>G:G</td><td>.</td><td>C:A</td><td>C</td><td>U:G</td><td>U</td><td>.</td><td>.</td><td>.</td><td>.</td><td>C:-</td><td>C</td><td>C:-:G</td><td>.</td><td>A</td><td>.</td><td>.</td><td>.</td><td>.</td><td>.</td><td>.</td><td>.</td><td>.</td><td>.</td><td>.</td><td>.</td><td>.</td><td>.</td><td>.</td><td>.</td><td>.</td><td>.</td><td>.</td><td>.</td><td>.</td><td>.</td><td>.</td><td>.</td><td>.</td><td>.</td><td>G</td><td>G:C</td><td>U</td><td>.</td><td>.</td><td>.</td><td>.</td><td>.</td><td>.</td><td>.</td><td>.</td><td>.</td><td>.</td><td>.</td><td>.</td><td>.</td><td>.</td><td>.</td><td>.</td><td>.</td><td>.</td><td>.</td><td>.</td><td>C</td><td>.</td><td>.</td><td>.</td><td>G</td><td>G:U</td><td>G</td><td>G:C</td><td>U</td><td>.</td><td>.</td><td>.</td><td>.</td><td>G</td><td>.</td><td>.</td><td>.</td><td>.</td><td>.</td><td>G</td><td>.</td><td>-</td><td>.</td><td>-</td><td>-:G</td><td>U</td><td>G</td><td>.</td><td>A</td><td>.</td><td>C</td><td>.</td><td>.</td><td>.</td><td>.</td><td>.</td><td>.</td><td>.</td><td>.</td><td>.</td><td>.</td><td>.</td><td>.</td><td>.</td><td>A</td><td>A:A</td><td>.</td><td>.</td><td>.</td><td>.</td><td>U:A</td><td>U</td><td>.</td><td>.</td><td>.</td><td>.</td><td>.</td><td>C:G</td><td>C</td><td>.</td><td>.</td><td>.</td><td>.</td><td>C:G</td><td>C</td><td>.</td><td>C:G</td><td>C</td><td>.</td><td>U:G</td><td>U</td><td>C</td><td>U</td><td>C</td><td>A</td><td>.</td><td>U</td><td>A</td><td>U</td><td>U</td><td>A</td><td>U</td><td>.</td><td>.</td><td>.</td><td>.</td><td>.</td><td>.</td><td>.</td><td>.</td><td>.</td><td>.</td><td>.</td><td>.</td><td>.</td><td>.</td><td>.</td><td>.</td><td>.</td><td>.</td><td>.</td><td>.</td><td>.</td><td>.</td><td>.</td><td>.</td><td>.</td><td>.</td><td>.</td><td>.</td><td>.</td><td>.</td><td>.</td><td>.</td><td>.</td><td>.</td><td>.</td><td>.</td><td>.</td><td>.</td><td>.</td><td>.</td><td>.</td><td>.</td><td>.</td><td>.</td><td>.</td><td>.</td><td>.</td><td>.</td><td>.</td><td>.</td><td>.</td><td>.</td><td>.</td><td>.</td><td>.</td><td>.</td><td>.</td><td>.</td><td>.</td><td>.</td><td>.</td><td>.</td><td>.</td><td>.</td><td>.</td><td>.</td><td>.</td><td>.</td><td>.</td><td>.</td><td>.</td><td>.</td><td>.</td><td>.</td><td>.</td><td>.</td><td>.</td><td>.</td><td>.</td><td>.</td><td>.</td><td>.</td><td>.</td><td>.</td><td>.</td><td>.</td><td>.</td><td>.</td><td>.</td><td>.</td><td>.</td><td>.</td><td>.</td><td>.</td><td>.</td><td>.</td><td>.</td><td>.</td><td>.</td><td>.</td><td>.</td><td>.</td><td>.</td><td>.</td><td>.</td><td>.</td><td>.</td><td>.</td><td>.</td><td>.</td><td>.</td><td>.</td><td>.</td><td>.</td><td>.</td><td>.</td><td>.</td><td>.</td><td>.</td><td>.</td><td>.</td><td>.</td><td>.</td><td>.</td><td>.</td><td>.</td><td>.</td><td>.</td><td>.</td><td>.</td><td>.</td><td>.</td><td>.</td><td>.</td><td>.</td><td>.</td><td>.</td><td>.</td><td>.</td><td>.</td><td>.</td><td>.</td><td>.</td><td>.</td><td>.</td><td>.</td><td>.</td><td>.</td><td>.</td><td>.</td><td>.</td><td>.</td><td>.</td><td>.</td><td>.</td><td>.</td><td>.</td><td>.</td><td>.</td><td>.</td><td>.</td><td>.</td><td>.</td><td>.</td><td>.</td><td>.</td><td>.</td><td>.</td><td>.</td><td>.</td><td>.</td><td>.</td><td>.</td><td>.</td><td>.</td><td>.</td><td>.</td><td>.</td><td>.</td><td>.</td><td>.</td><td>.</td><td>.</td><td>.</td><td>.</td><td>.</td><td>.</td><td>.</td><td>.</td><td>.</td><td>.</td><td>.</td><td>.</td><td>.</td><td>.</td><td>.</td><td>.</td><td>.</td><td>.</td><td>.</td><td>.</td><td>.</td><td>.</td><td>.</td><td>.</td><td>.</td><td>.</td><td>.</td><td>.</td><td>.</td><td>.</td><td>.</td><td>.</td><td>.</td><td>.</td><td>.</td><td>.</td><td>.</td><td>.</td><td>.</td><td>.</td><td>.</td><td>.</td><td>.</td><td>.</td><td>.</td><td>.</td><td>.</td><td>.</td><td>.</td><td>.</td><td>.</td><td>.</td><td>.</td><td>.</td><td>.</td><td>.</td><td>.</td><td>.</td><td>.</td><td>.</td><td>.</td><td>.</td><td>.</td><td>.</td><td>.</td><td>.</td><td>.</td><td>.</td><td>.</td><td>.</td><td>.</td><td>.</td><td>.</td><td>.</td><td>.</td><td>.</td><td>.</td><td>.</td><td>G</td><td>A</td><td>C</td><td>A</td><td>C</td><td>.</td><td>.</td><td>.</td><td>.</td><td>.</td><td>.</td><td>.</td><td>.</td><td>.</td><td>.</td><td>.</td><td>.</td><td>.</td><td>.</td><td>.</td><td>.</td><td>.</td><td>.</td><td>.</td><td>.</td><td>.</td><td>.</td><td>.</td><td>.</td><td>.</td><td>.</td><td>.</td><td>.</td><td>.</td><td>.</td><td>.</td><td>.</td><td>.</td><td>.</td><td>.</td><td>.</td><td>.</td><td>.</td><td>.</td><td>.</td><td>.</td><td>.</td><td>.</td><td>.</td><td>.</td><td>.</td><td>.</td><td>.</td><td>.</td><td>.</td><td>.</td><td>.</td><td>.</td><td>.</td><td>.</td><td>.</td><td>.</td><td>.</td><td>.</td><td>.</td><td>.</td><td>.</td><td>.</td><td>.</td><td>.</td><td>.</td><td>.</td><td>.</td><td>.</td><td>.</td><td>.</td><td>.</td><td>.</td><td>.</td><td>.</td><td>.</td><td>.</td><td>.</td><td>.</td><td>.</td><td>.</td><td>.</td><td>.</td><td>.</td><td>.</td><td>.</td><td>.</td><td>.</td><td>.</td><td>.</td><td>.</td><td>.</td><td>.</td><td>.</td><td>.</td><td>.</td><td>.</td><td>.</td><td>.</td><td>.</td><td>.</td><td>.</td><td>.</td><td>.</td><td>.</td><td>.</td><td>.</td><td>.</td><td>.</td><td>.</td><td>.</td><td>.</td><td>.</td><td>.</td><td>A</td><td>.</td><td>G</td><td>.</td><td>G</td><td>.</td><td>.</td><td>.</td><td>.</td><td>G</td><td>.</td><td>G</td><td>.</td><td>A</td><td>A</td><td>.</td><td>.</td><td>.</td><td>.</td><td>.</td><td>.</td><td>.</td><td>.</td><td>.</td><td>.</td><td>.</td><td>.</td><td>.</td><td>.</td><td>.</td><td>.</td><td>.</td><td>.</td><td>.</td><td>.</td><td>.</td><td>.</td><td>.</td><td>G</td><td>-:-</td><td>-:-</td><td>-:-</td><td>-:-</td><td>-:-</td><td>-:-</td><td>-:-</td><td>-</td><td>-</td><td>-</td><td>-</td><td>-</td><td>-</td><td>-</td><td>-</td><td>-</td><td>-</td><td>-</td><td>-</td><td>-</td><td>-</td><td>-</td><td>-</td><td>-</td><td>-</td><td>G</td><td>.</td><td>U</td><td>.</td><td>C</td><td>G:C</td><td>G</td><td>.</td><td>U:A</td><td>U</td><td>.</td><td>.</td><td>.</td><td>.</td><td>.</td><td>.</td><td>.</td><td>.</td><td>G:C</td><td>G</td><td>.</td><td>.</td><td>.</td><td>A:U</td><td>A</td><td>.</td><td>G:C</td><td>G</td><td>.</td><td>U</td><td>U:A</td><td>.</td><td>.</td><td>.</td><td>.</td><td>.</td><td>.</td><td>.</td><td>U</td><td>.</td><td>.</td><td>.</td><td>.</td><td>.</td><td>.</td><td>.</td><td>C</td><td>.</td><td>.</td><td>.</td><td>.</td><td>.</td><td>.</td><td>.</td><td>.</td><td>.</td><td>.</td><td>.</td><td>.</td><td>.</td><td>.</td><td>.</td><td>.</td><td>.</td><td>.</td><td>.</td><td>.</td><td>.</td><td>G</td><td>.</td><td>A</td><td>.</td><td>.</td><td>.</td><td>.</td><td>.</td><td>.</td><td>.</td><td>.</td><td>.</td><td>.</td><td>.</td><td>.</td><td>.</td><td>.</td><td>.</td><td>.</td><td>.</td><td>G</td><td>.</td><td>.</td><td>.</td><td>.</td><td>C</td><td>.</td><td>.</td><td>C</td><td>.</td><td>U</td><td>C</td><td>A</td><td>.</td><td>.</td><td>.</td><td>.</td><td>.</td><td>.</td><td>C</td><td>.</td><td>.</td><td>.</td><td>.</td><td>.</td><td>.</td><td>.</td><td>.</td><td>.</td><td>.</td><td>.</td><td>.</td><td>U</td><td>.</td><td>A</td><td>.</td><td>.</td><td>C</td><td>.</td><td>.</td><td>.</td><td>.</td><td>.</td><td>.</td><td>.</td><td>.</td><td>.</td><td>.</td><td>.</td><td>G</td><td>.</td><td>A</td><td>.</td><td>.</td><td>.</td><td>.</td><td>.</td><td>.</td><td>.</td><td>.</td><td>.</td><td>.</td><td>.</td><td>G</td><td>.</td><td>.</td><td>.</td><td>.</td><td>.</td><td>C</td><td>A</td></tr>\n",
       "\t<tr><th scope=row>103032</th><td>Fungi</td><td>eukaryota</td><td>Thr</td><td>schiPomb_972H_chrII.trna7</td><td>schiPomb_972H</td><td>Schizosaccharomyces pombe 972h-</td><td>Met</td><td>CAT</td><td>57.2</td><td>76.3</td><td>0.2682927</td><td>12</td><td>14</td><td>8</td><td>0</td><td>7</td><td>2</td><td>2</td><td>FALSE</td><td>TRUE</td><td>.</td><td>.</td><td>.</td><td>.</td><td>.</td><td>.</td><td>.</td><td>.</td><td>.</td><td>.</td><td>.</td><td>G:C</td><td>G</td><td>.</td><td>C:G</td><td>C</td><td>.</td><td>U:A</td><td>U</td><td>.</td><td>.</td><td>.</td><td>.</td><td>.</td><td>.</td><td>.</td><td>U:G</td><td>U</td><td>.</td><td>.</td><td>.</td><td>.</td><td>.</td><td>.</td><td>.</td><td>.</td><td>.</td><td>.</td><td>.</td><td>C:C</td><td>C</td><td>.</td><td>.</td><td>.</td><td>.</td><td>.</td><td>.</td><td>.</td><td>U:A</td><td>U</td><td>.</td><td>G:U</td><td>G</td><td>.</td><td>.</td><td>.</td><td>.</td><td>.</td><td>.</td><td>.</td><td>.</td><td>.</td><td>.</td><td>.</td><td>.</td><td>.</td><td>.</td><td>U</td><td>U:A:-</td><td>U:A</td><td>.</td><td>.</td><td>.</td><td>.</td><td>A</td><td>A:U:G</td><td>A:G</td><td>.</td><td>.</td><td>.</td><td>G:C</td><td>G</td><td>G:C:G</td><td>G:G</td><td>.</td><td>C:A</td><td>C</td><td>U:G</td><td>U</td><td>.</td><td>.</td><td>.</td><td>.</td><td>C:-</td><td>C</td><td>C:-:G</td><td>.</td><td>A</td><td>.</td><td>.</td><td>.</td><td>.</td><td>.</td><td>.</td><td>.</td><td>.</td><td>.</td><td>.</td><td>.</td><td>.</td><td>.</td><td>.</td><td>.</td><td>.</td><td>.</td><td>.</td><td>.</td><td>.</td><td>.</td><td>.</td><td>.</td><td>.</td><td>.</td><td>G</td><td>G:C</td><td>U</td><td>.</td><td>.</td><td>.</td><td>.</td><td>.</td><td>.</td><td>.</td><td>.</td><td>.</td><td>.</td><td>.</td><td>.</td><td>.</td><td>.</td><td>.</td><td>.</td><td>.</td><td>.</td><td>.</td><td>.</td><td>C</td><td>.</td><td>.</td><td>.</td><td>G</td><td>G:U</td><td>G</td><td>G:C</td><td>U</td><td>.</td><td>.</td><td>.</td><td>.</td><td>G</td><td>.</td><td>.</td><td>.</td><td>.</td><td>.</td><td>G</td><td>.</td><td>-</td><td>.</td><td>-</td><td>-:G</td><td>U</td><td>G</td><td>.</td><td>A</td><td>.</td><td>C</td><td>.</td><td>.</td><td>.</td><td>.</td><td>.</td><td>.</td><td>.</td><td>.</td><td>.</td><td>.</td><td>.</td><td>.</td><td>.</td><td>A</td><td>A:A</td><td>.</td><td>.</td><td>.</td><td>.</td><td>U:A</td><td>U</td><td>.</td><td>.</td><td>.</td><td>.</td><td>.</td><td>C:G</td><td>C</td><td>.</td><td>.</td><td>.</td><td>.</td><td>C:G</td><td>C</td><td>.</td><td>C:G</td><td>C</td><td>.</td><td>U:G</td><td>U</td><td>C</td><td>U</td><td>C</td><td>A</td><td>.</td><td>U</td><td>A</td><td>U</td><td>A</td><td>A</td><td>.</td><td>.</td><td>.</td><td>.</td><td>.</td><td>.</td><td>.</td><td>.</td><td>.</td><td>.</td><td>.</td><td>.</td><td>.</td><td>.</td><td>.</td><td>.</td><td>.</td><td>.</td><td>.</td><td>.</td><td>.</td><td>.</td><td>.</td><td>.</td><td>.</td><td>.</td><td>.</td><td>.</td><td>.</td><td>.</td><td>.</td><td>.</td><td>.</td><td>.</td><td>.</td><td>.</td><td>.</td><td>.</td><td>.</td><td>.</td><td>.</td><td>.</td><td>.</td><td>.</td><td>.</td><td>.</td><td>.</td><td>.</td><td>.</td><td>.</td><td>.</td><td>.</td><td>.</td><td>.</td><td>.</td><td>.</td><td>.</td><td>.</td><td>.</td><td>.</td><td>.</td><td>.</td><td>.</td><td>.</td><td>.</td><td>.</td><td>.</td><td>.</td><td>.</td><td>.</td><td>.</td><td>.</td><td>.</td><td>.</td><td>.</td><td>.</td><td>.</td><td>.</td><td>.</td><td>.</td><td>.</td><td>.</td><td>.</td><td>.</td><td>.</td><td>.</td><td>.</td><td>.</td><td>.</td><td>.</td><td>.</td><td>.</td><td>.</td><td>.</td><td>.</td><td>.</td><td>.</td><td>.</td><td>.</td><td>.</td><td>.</td><td>.</td><td>.</td><td>.</td><td>.</td><td>.</td><td>.</td><td>.</td><td>.</td><td>.</td><td>.</td><td>.</td><td>.</td><td>.</td><td>.</td><td>.</td><td>.</td><td>.</td><td>.</td><td>.</td><td>.</td><td>.</td><td>.</td><td>.</td><td>.</td><td>.</td><td>.</td><td>.</td><td>.</td><td>.</td><td>.</td><td>.</td><td>.</td><td>.</td><td>.</td><td>.</td><td>.</td><td>.</td><td>.</td><td>.</td><td>.</td><td>.</td><td>.</td><td>.</td><td>.</td><td>.</td><td>.</td><td>.</td><td>.</td><td>.</td><td>.</td><td>.</td><td>.</td><td>.</td><td>.</td><td>.</td><td>.</td><td>.</td><td>.</td><td>.</td><td>.</td><td>.</td><td>.</td><td>.</td><td>.</td><td>.</td><td>.</td><td>.</td><td>.</td><td>.</td><td>.</td><td>.</td><td>.</td><td>.</td><td>.</td><td>.</td><td>.</td><td>.</td><td>.</td><td>.</td><td>.</td><td>.</td><td>.</td><td>.</td><td>.</td><td>.</td><td>.</td><td>.</td><td>.</td><td>.</td><td>.</td><td>.</td><td>.</td><td>.</td><td>.</td><td>.</td><td>.</td><td>.</td><td>.</td><td>.</td><td>.</td><td>.</td><td>.</td><td>.</td><td>.</td><td>.</td><td>.</td><td>.</td><td>.</td><td>.</td><td>.</td><td>.</td><td>.</td><td>.</td><td>.</td><td>.</td><td>.</td><td>.</td><td>.</td><td>.</td><td>.</td><td>.</td><td>.</td><td>.</td><td>.</td><td>.</td><td>.</td><td>.</td><td>.</td><td>.</td><td>.</td><td>.</td><td>.</td><td>.</td><td>.</td><td>.</td><td>.</td><td>.</td><td>.</td><td>.</td><td>.</td><td>.</td><td>.</td><td>.</td><td>.</td><td>.</td><td>.</td><td>.</td><td>.</td><td>.</td><td>.</td><td>.</td><td>.</td><td>.</td><td>.</td><td>.</td><td>.</td><td>.</td><td>.</td><td>.</td><td>.</td><td>U</td><td>G</td><td>A</td><td>C</td><td>.</td><td>.</td><td>.</td><td>.</td><td>.</td><td>.</td><td>.</td><td>.</td><td>.</td><td>.</td><td>.</td><td>.</td><td>.</td><td>.</td><td>.</td><td>.</td><td>.</td><td>.</td><td>.</td><td>.</td><td>.</td><td>.</td><td>.</td><td>.</td><td>.</td><td>.</td><td>.</td><td>.</td><td>.</td><td>.</td><td>.</td><td>.</td><td>.</td><td>.</td><td>.</td><td>.</td><td>.</td><td>.</td><td>.</td><td>.</td><td>.</td><td>.</td><td>.</td><td>.</td><td>.</td><td>.</td><td>.</td><td>.</td><td>.</td><td>.</td><td>.</td><td>.</td><td>.</td><td>.</td><td>.</td><td>.</td><td>.</td><td>.</td><td>.</td><td>.</td><td>.</td><td>.</td><td>.</td><td>.</td><td>.</td><td>.</td><td>.</td><td>.</td><td>.</td><td>.</td><td>.</td><td>.</td><td>.</td><td>.</td><td>.</td><td>.</td><td>.</td><td>.</td><td>.</td><td>.</td><td>.</td><td>.</td><td>.</td><td>.</td><td>.</td><td>.</td><td>.</td><td>.</td><td>.</td><td>.</td><td>.</td><td>.</td><td>.</td><td>.</td><td>.</td><td>.</td><td>.</td><td>.</td><td>.</td><td>.</td><td>.</td><td>.</td><td>.</td><td>.</td><td>.</td><td>.</td><td>.</td><td>.</td><td>.</td><td>.</td><td>.</td><td>.</td><td>.</td><td>.</td><td>A</td><td>.</td><td>G</td><td>.</td><td>G</td><td>.</td><td>.</td><td>.</td><td>.</td><td>G</td><td>.</td><td>G</td><td>.</td><td>A</td><td>A</td><td>.</td><td>.</td><td>.</td><td>.</td><td>.</td><td>.</td><td>.</td><td>.</td><td>.</td><td>.</td><td>.</td><td>.</td><td>.</td><td>.</td><td>.</td><td>.</td><td>.</td><td>.</td><td>.</td><td>.</td><td>.</td><td>.</td><td>.</td><td>G</td><td>-:-</td><td>-:-</td><td>-:-</td><td>-:-</td><td>-:-</td><td>-:-</td><td>-:-</td><td>-</td><td>-</td><td>-</td><td>-</td><td>-</td><td>-</td><td>-</td><td>-</td><td>-</td><td>-</td><td>-</td><td>-</td><td>-</td><td>-</td><td>-</td><td>-</td><td>-</td><td>-</td><td>G</td><td>.</td><td>U</td><td>.</td><td>C</td><td>G:C</td><td>G</td><td>.</td><td>U:A</td><td>U</td><td>.</td><td>.</td><td>.</td><td>.</td><td>.</td><td>.</td><td>.</td><td>.</td><td>G:C</td><td>G</td><td>.</td><td>.</td><td>.</td><td>A:U</td><td>A</td><td>.</td><td>G:C</td><td>G</td><td>.</td><td>U</td><td>U:A</td><td>.</td><td>.</td><td>.</td><td>.</td><td>.</td><td>.</td><td>.</td><td>U</td><td>.</td><td>.</td><td>.</td><td>.</td><td>.</td><td>.</td><td>.</td><td>C</td><td>.</td><td>.</td><td>.</td><td>.</td><td>.</td><td>.</td><td>.</td><td>.</td><td>.</td><td>.</td><td>.</td><td>.</td><td>.</td><td>.</td><td>.</td><td>.</td><td>.</td><td>.</td><td>.</td><td>.</td><td>.</td><td>G</td><td>.</td><td>A</td><td>.</td><td>.</td><td>.</td><td>.</td><td>.</td><td>.</td><td>.</td><td>.</td><td>.</td><td>.</td><td>.</td><td>.</td><td>.</td><td>.</td><td>.</td><td>.</td><td>.</td><td>G</td><td>.</td><td>.</td><td>.</td><td>.</td><td>C</td><td>.</td><td>.</td><td>C</td><td>.</td><td>U</td><td>C</td><td>A</td><td>.</td><td>.</td><td>.</td><td>.</td><td>.</td><td>.</td><td>C</td><td>.</td><td>.</td><td>.</td><td>.</td><td>.</td><td>.</td><td>.</td><td>.</td><td>.</td><td>.</td><td>.</td><td>.</td><td>U</td><td>.</td><td>A</td><td>.</td><td>.</td><td>C</td><td>.</td><td>.</td><td>.</td><td>.</td><td>.</td><td>.</td><td>.</td><td>.</td><td>.</td><td>.</td><td>.</td><td>G</td><td>.</td><td>A</td><td>.</td><td>.</td><td>.</td><td>.</td><td>.</td><td>.</td><td>.</td><td>.</td><td>.</td><td>.</td><td>.</td><td>G</td><td>.</td><td>.</td><td>.</td><td>.</td><td>.</td><td>C</td><td>A</td></tr>\n",
       "\t<tr><th scope=row>103039</th><td>Fungi</td><td>eukaryota</td><td>Thr</td><td>schiPomb_972H_chrII.trna58</td><td>schiPomb_972H</td><td>Schizosaccharomyces pombe 972h-</td><td>Met</td><td>CAT</td><td>57.2</td><td>76.3</td><td>0.2682927</td><td>12</td><td>14</td><td>8</td><td>0</td><td>7</td><td>2</td><td>2</td><td>FALSE</td><td>TRUE</td><td>.</td><td>.</td><td>.</td><td>.</td><td>.</td><td>.</td><td>.</td><td>.</td><td>.</td><td>.</td><td>.</td><td>G:C</td><td>G</td><td>.</td><td>C:G</td><td>C</td><td>.</td><td>U:A</td><td>U</td><td>.</td><td>.</td><td>.</td><td>.</td><td>.</td><td>.</td><td>.</td><td>U:G</td><td>U</td><td>.</td><td>.</td><td>.</td><td>.</td><td>.</td><td>.</td><td>.</td><td>.</td><td>.</td><td>.</td><td>.</td><td>C:C</td><td>C</td><td>.</td><td>.</td><td>.</td><td>.</td><td>.</td><td>.</td><td>.</td><td>U:A</td><td>U</td><td>.</td><td>G:U</td><td>G</td><td>.</td><td>.</td><td>.</td><td>.</td><td>.</td><td>.</td><td>.</td><td>.</td><td>.</td><td>.</td><td>.</td><td>.</td><td>.</td><td>.</td><td>U</td><td>U:A:-</td><td>U:A</td><td>.</td><td>.</td><td>.</td><td>.</td><td>A</td><td>A:U:G</td><td>A:G</td><td>.</td><td>.</td><td>.</td><td>G:C</td><td>G</td><td>G:C:G</td><td>G:G</td><td>.</td><td>C:A</td><td>C</td><td>U:G</td><td>U</td><td>.</td><td>.</td><td>.</td><td>.</td><td>C:-</td><td>C</td><td>C:-:G</td><td>.</td><td>A</td><td>.</td><td>.</td><td>.</td><td>.</td><td>.</td><td>.</td><td>.</td><td>.</td><td>.</td><td>.</td><td>.</td><td>.</td><td>.</td><td>.</td><td>.</td><td>.</td><td>.</td><td>.</td><td>.</td><td>.</td><td>.</td><td>.</td><td>.</td><td>.</td><td>.</td><td>G</td><td>G:C</td><td>U</td><td>.</td><td>.</td><td>.</td><td>.</td><td>.</td><td>.</td><td>.</td><td>.</td><td>.</td><td>.</td><td>.</td><td>.</td><td>.</td><td>.</td><td>.</td><td>.</td><td>.</td><td>.</td><td>.</td><td>.</td><td>C</td><td>.</td><td>.</td><td>.</td><td>G</td><td>G:U</td><td>G</td><td>G:C</td><td>U</td><td>.</td><td>.</td><td>.</td><td>.</td><td>G</td><td>.</td><td>.</td><td>.</td><td>.</td><td>.</td><td>G</td><td>.</td><td>-</td><td>.</td><td>-</td><td>-:G</td><td>U</td><td>G</td><td>.</td><td>A</td><td>.</td><td>C</td><td>.</td><td>.</td><td>.</td><td>.</td><td>.</td><td>.</td><td>.</td><td>.</td><td>.</td><td>.</td><td>.</td><td>.</td><td>.</td><td>A</td><td>A:A</td><td>.</td><td>.</td><td>.</td><td>.</td><td>U:A</td><td>U</td><td>.</td><td>.</td><td>.</td><td>.</td><td>.</td><td>C:G</td><td>C</td><td>.</td><td>.</td><td>.</td><td>.</td><td>C:G</td><td>C</td><td>.</td><td>C:G</td><td>C</td><td>.</td><td>U:G</td><td>U</td><td>C</td><td>U</td><td>C</td><td>A</td><td>.</td><td>U</td><td>A</td><td>U</td><td>G</td><td>A</td><td>.</td><td>.</td><td>.</td><td>.</td><td>.</td><td>.</td><td>.</td><td>.</td><td>.</td><td>.</td><td>.</td><td>.</td><td>.</td><td>.</td><td>.</td><td>.</td><td>.</td><td>.</td><td>.</td><td>.</td><td>.</td><td>.</td><td>.</td><td>.</td><td>.</td><td>.</td><td>.</td><td>.</td><td>.</td><td>.</td><td>.</td><td>.</td><td>.</td><td>.</td><td>.</td><td>.</td><td>.</td><td>.</td><td>.</td><td>.</td><td>.</td><td>.</td><td>.</td><td>.</td><td>.</td><td>.</td><td>.</td><td>.</td><td>.</td><td>.</td><td>.</td><td>.</td><td>.</td><td>.</td><td>.</td><td>.</td><td>.</td><td>.</td><td>.</td><td>.</td><td>.</td><td>.</td><td>.</td><td>.</td><td>.</td><td>.</td><td>.</td><td>.</td><td>.</td><td>.</td><td>.</td><td>.</td><td>.</td><td>.</td><td>.</td><td>.</td><td>.</td><td>.</td><td>.</td><td>.</td><td>.</td><td>.</td><td>.</td><td>.</td><td>.</td><td>.</td><td>.</td><td>.</td><td>.</td><td>.</td><td>.</td><td>.</td><td>.</td><td>.</td><td>.</td><td>.</td><td>.</td><td>.</td><td>.</td><td>.</td><td>.</td><td>.</td><td>.</td><td>.</td><td>.</td><td>.</td><td>.</td><td>.</td><td>.</td><td>.</td><td>.</td><td>.</td><td>.</td><td>.</td><td>.</td><td>.</td><td>.</td><td>.</td><td>.</td><td>.</td><td>.</td><td>.</td><td>.</td><td>.</td><td>.</td><td>.</td><td>.</td><td>.</td><td>.</td><td>.</td><td>.</td><td>.</td><td>.</td><td>.</td><td>.</td><td>.</td><td>.</td><td>.</td><td>.</td><td>.</td><td>.</td><td>.</td><td>.</td><td>.</td><td>.</td><td>.</td><td>.</td><td>.</td><td>.</td><td>.</td><td>.</td><td>.</td><td>.</td><td>.</td><td>.</td><td>.</td><td>.</td><td>.</td><td>.</td><td>.</td><td>.</td><td>.</td><td>.</td><td>.</td><td>.</td><td>.</td><td>.</td><td>.</td><td>.</td><td>.</td><td>.</td><td>.</td><td>.</td><td>.</td><td>.</td><td>.</td><td>.</td><td>.</td><td>.</td><td>.</td><td>.</td><td>.</td><td>.</td><td>.</td><td>.</td><td>.</td><td>.</td><td>.</td><td>.</td><td>.</td><td>.</td><td>.</td><td>.</td><td>.</td><td>.</td><td>.</td><td>.</td><td>.</td><td>.</td><td>.</td><td>.</td><td>.</td><td>.</td><td>.</td><td>.</td><td>.</td><td>.</td><td>.</td><td>.</td><td>.</td><td>.</td><td>.</td><td>.</td><td>.</td><td>.</td><td>.</td><td>.</td><td>.</td><td>.</td><td>.</td><td>.</td><td>.</td><td>.</td><td>.</td><td>.</td><td>.</td><td>.</td><td>.</td><td>.</td><td>.</td><td>.</td><td>.</td><td>.</td><td>.</td><td>.</td><td>.</td><td>.</td><td>.</td><td>.</td><td>.</td><td>.</td><td>.</td><td>.</td><td>.</td><td>.</td><td>.</td><td>.</td><td>.</td><td>.</td><td>.</td><td>.</td><td>.</td><td>.</td><td>.</td><td>.</td><td>.</td><td>.</td><td>.</td><td>.</td><td>.</td><td>.</td><td>U</td><td>G</td><td>A</td><td>U</td><td>.</td><td>.</td><td>.</td><td>.</td><td>.</td><td>.</td><td>.</td><td>.</td><td>.</td><td>.</td><td>.</td><td>.</td><td>.</td><td>.</td><td>.</td><td>.</td><td>.</td><td>.</td><td>.</td><td>.</td><td>.</td><td>.</td><td>.</td><td>.</td><td>.</td><td>.</td><td>.</td><td>.</td><td>.</td><td>.</td><td>.</td><td>.</td><td>.</td><td>.</td><td>.</td><td>.</td><td>.</td><td>.</td><td>.</td><td>.</td><td>.</td><td>.</td><td>.</td><td>.</td><td>.</td><td>.</td><td>.</td><td>.</td><td>.</td><td>.</td><td>.</td><td>.</td><td>.</td><td>.</td><td>.</td><td>.</td><td>.</td><td>.</td><td>.</td><td>.</td><td>.</td><td>.</td><td>.</td><td>.</td><td>.</td><td>.</td><td>.</td><td>.</td><td>.</td><td>.</td><td>.</td><td>.</td><td>.</td><td>.</td><td>.</td><td>.</td><td>.</td><td>.</td><td>.</td><td>.</td><td>.</td><td>.</td><td>.</td><td>.</td><td>.</td><td>.</td><td>.</td><td>.</td><td>.</td><td>.</td><td>.</td><td>.</td><td>.</td><td>.</td><td>.</td><td>.</td><td>.</td><td>.</td><td>.</td><td>.</td><td>.</td><td>.</td><td>.</td><td>.</td><td>.</td><td>.</td><td>.</td><td>.</td><td>.</td><td>.</td><td>.</td><td>.</td><td>.</td><td>.</td><td>A</td><td>.</td><td>G</td><td>.</td><td>G</td><td>.</td><td>.</td><td>.</td><td>.</td><td>G</td><td>.</td><td>G</td><td>.</td><td>A</td><td>A</td><td>.</td><td>.</td><td>.</td><td>.</td><td>.</td><td>.</td><td>.</td><td>.</td><td>.</td><td>.</td><td>.</td><td>.</td><td>.</td><td>.</td><td>.</td><td>.</td><td>.</td><td>.</td><td>.</td><td>.</td><td>.</td><td>.</td><td>.</td><td>G</td><td>-:-</td><td>-:-</td><td>-:-</td><td>-:-</td><td>-:-</td><td>-:-</td><td>-:-</td><td>-</td><td>-</td><td>-</td><td>-</td><td>-</td><td>-</td><td>-</td><td>-</td><td>-</td><td>-</td><td>-</td><td>-</td><td>-</td><td>-</td><td>-</td><td>-</td><td>-</td><td>-</td><td>G</td><td>.</td><td>U</td><td>.</td><td>C</td><td>G:C</td><td>G</td><td>.</td><td>U:A</td><td>U</td><td>.</td><td>.</td><td>.</td><td>.</td><td>.</td><td>.</td><td>.</td><td>.</td><td>G:C</td><td>G</td><td>.</td><td>.</td><td>.</td><td>A:U</td><td>A</td><td>.</td><td>G:C</td><td>G</td><td>.</td><td>U</td><td>U:A</td><td>.</td><td>.</td><td>.</td><td>.</td><td>.</td><td>.</td><td>.</td><td>U</td><td>.</td><td>.</td><td>.</td><td>.</td><td>.</td><td>.</td><td>.</td><td>C</td><td>.</td><td>.</td><td>.</td><td>.</td><td>.</td><td>.</td><td>.</td><td>.</td><td>.</td><td>.</td><td>.</td><td>.</td><td>.</td><td>.</td><td>.</td><td>.</td><td>.</td><td>.</td><td>.</td><td>.</td><td>.</td><td>G</td><td>.</td><td>A</td><td>.</td><td>.</td><td>.</td><td>.</td><td>.</td><td>.</td><td>.</td><td>.</td><td>.</td><td>.</td><td>.</td><td>.</td><td>.</td><td>.</td><td>.</td><td>.</td><td>.</td><td>G</td><td>.</td><td>.</td><td>.</td><td>.</td><td>C</td><td>.</td><td>.</td><td>C</td><td>.</td><td>U</td><td>C</td><td>A</td><td>.</td><td>.</td><td>.</td><td>.</td><td>.</td><td>.</td><td>C</td><td>.</td><td>.</td><td>.</td><td>.</td><td>.</td><td>.</td><td>.</td><td>.</td><td>.</td><td>.</td><td>.</td><td>.</td><td>U</td><td>.</td><td>A</td><td>.</td><td>.</td><td>C</td><td>.</td><td>.</td><td>.</td><td>.</td><td>.</td><td>.</td><td>.</td><td>.</td><td>.</td><td>.</td><td>.</td><td>G</td><td>.</td><td>A</td><td>.</td><td>.</td><td>.</td><td>.</td><td>.</td><td>.</td><td>.</td><td>.</td><td>.</td><td>.</td><td>.</td><td>G</td><td>.</td><td>.</td><td>.</td><td>.</td><td>.</td><td>C</td><td>A</td></tr>\n",
       "</tbody>\n",
       "</table>\n"
      ],
      "text/latex": [
       "\\begin{tabular}{r|lllllllllllllllllllllllllllllllllllllllllllllllllllllllllllllllllllllllllllllllllllllllllllllllllllllllllllllllllllllllllllllllllllllllllllllllllllllllllllllllllllllllllllllllllllllllllllllllllllllllllllllllllllllllllllllllllllllllllllllllllllllllllllllllllllllllllllllllllllllllllllllllllllllllllllllllllllllllllllllllllllllllllllllllllllllllllllllllllllllllllllllllllllllllllllllllllllllllllllllllllllllllllllllllllllllllllllllllllllllllllllllllllllllllllllllllllllllllllllllllllllllllllllllllllllllllllllllllllllllllllllllllllllllllllllllllllllllllllllllllllllllllllllllllllllllllllllllllllllllllllllllllllllllllllllllllllllllllllllllllllllllllllllllllllllllllllllllllllllllllllllllllllllllllllllllllllllllllllllllllllllllllllllllllllllllllllllllllllllllllllllllllllllllllllllllllllllllllllllllllllllllllllllllllllllllllllllllllllllllllllllllllll}\n",
       "  & clade & domain & isotype & seqname & species & species_long & isotype_ac & anticodon & score & isoscore & GC & D.loop & AC.loop & TPC.loop & V.arm & intron & insertions & deletions & quality & restrict & X0i1 & X0i2 & X0i3 & X0i4 & X0i5 & X0i6 & X0i7 & X0i8 & X0i9 & X0i10 & X0i11 & X1.72 & X1 & X1i1 & X2.71 & X2 & X2i1 & X3.70 & X3 & X3i1 & X3i2 & X3i3 & X3i4 & X3i5 & X3i6 & X3i7 & X4.69 & X4 & X4i1 & X4i2 & X4i3 & X4i4 & X4i5 & X4i6 & X4i7 & X4i8 & X4i9 & X4i10 & X4i11 & X5.68 & X5 & X5i1 & X5i2 & X5i3 & X5i4 & X5i5 & X5i6 & X5i7 & X6.67 & X6 & X6i1 & X7.66 & X7 & X7i1 & X7i2 & X7i3 & X7i4 & X7i5 & X7i6 & X7i7 & X7i8 & X7i9 & X7i10 & X7i11 & X7i12 & X7i13 & X7i14 & X8 & X8.14.21 & X8.14 & X8i1 & X8i2 & X8i3 & X8i4 & X9 & X9.12.23 & X9.23 & X9i1 & X9i2 & X9i3 & X10.25 & X10 & X10.25.45 & X10.45 & X10i1 & X11.24 & X11 & X12.23 & X12 & X12i1 & X12i2 & X12i3 & X12i4 & X13.22 & X13 & X13.22.46 & X13i1 & X14 & X14i1 & X14i2 & X14i3 & X14i4 & X14i5 & X14i6 & X14i7 & X14i8 & X14i9 & X14i10 & X14i11 & X14i12 & X14i13 & X14i14 & X14i15 & X14i16 & X14i17 & X14i18 & X14i19 & X14i20 & X14i21 & X14i22 & X14i23 & X14i24 & X14i25 & X15 & X15.48 & X16 & X16i1 & X16i2 & X16i3 & X16i4 & X16i5 & X16i6 & X16i7 & X16i8 & X16i9 & X16i10 & X16i11 & X16i12 & X16i13 & X16i14 & X16i15 & X16i16 & X16i17 & X16i18 & X16i19 & X16i20 & X17 & X17i1 & X17i2 & X17i3 & X18 & X18.55 & X19 & X19.56 & X20 & X20i1 & X20i2 & X20i3 & X20i4 & X20i5 & X20i6 & X20i7 & X20i8 & X20i9 & X20i10 & X20a & X20b & X21 & X21i1 & X22 & X22.46 & X22i1 & X23 & X23i1 & X24 & X24i1 & X25 & X25i1 & X25i2 & X25i3 & X25i4 & X25i5 & X25i6 & X25i7 & X25i8 & X25i9 & X25i10 & X25i11 & X25i12 & X25i13 & X26 & X26.44 & X26i1 & X26i2 & X26i3 & X26i4 & X27.43 & X27 & X27i1 & X27i2 & X27i3 & X27i4 & X27i5 & X28.42 & X28 & X28i1 & X28i2 & X28i3 & X28i4 & X29.41 & X29 & X29i1 & X30.40 & X30 & X30i1 & X31.39 & X31 & X32 & X33 & X34 & X35 & X35i1 & X36 & X37 & X37i1 & X37i2 & X37i3 & X37i4 & X37i5 & X37i6 & X37i7 & X37i8 & X37i9 & X37i10 & X37i11 & X37i12 & X37i13 & X37i14 & X37i15 & X37i16 & X37i17 & X37i18 & X37i19 & X37i20 & X37i21 & X37i22 & X37i23 & X37i24 & X37i25 & X37i26 & X37i27 & X37i28 & X37i29 & X37i30 & X37i31 & X37i32 & X37i33 & X37i34 & X37i35 & X37i36 & X37i37 & X37i38 & X37i39 & X37i40 & X37i41 & X37i42 & X37i43 & X37i44 & X37i45 & X37i46 & X37i47 & X37i48 & X37i49 & X37i50 & X37i51 & X37i52 & X37i53 & X37i54 & X37i55 & X37i56 & X37i57 & X37i58 & X37i59 & X37i60 & X37i61 & X37i62 & X37i63 & X37i64 & X37i65 & X37i66 & X37i67 & X37i68 & X37i69 & X37i70 & X37i71 & X37i72 & X37i73 & X37i74 & X37i75 & X37i76 & X37i77 & X37i78 & X37i79 & X37i80 & X37i81 & X37i82 & X37i83 & X37i84 & X37i85 & X37i86 & X37i87 & X37i88 & X37i89 & X37i90 & X37i91 & X37i92 & X37i93 & X37i94 & X37i95 & X37i96 & X37i97 & X37i98 & X37i99 & X37i100 & X37i101 & X37i102 & X37i103 & X37i104 & X37i105 & X37i106 & X37i107 & X37i108 & X37i109 & X37i110 & X37i111 & X37i112 & X37i113 & X37i114 & X37i115 & X37i116 & X37i117 & X37i118 & X37i119 & X37i120 & X37i121 & X37i122 & X37i123 & X37i124 & X37i125 & X37i126 & X37i127 & X37i128 & X37i129 & X37i130 & X37i131 & X37i132 & X37i133 & X37i134 & X37i135 & X37i136 & X37i137 & X37i138 & X37i139 & X37i140 & X37i141 & X37i142 & X37i143 & X37i144 & X37i145 & X37i146 & X37i147 & X37i148 & X37i149 & X37i150 & X37i151 & X37i152 & X37i153 & X37i154 & X37i155 & X37i156 & X37i157 & X37i158 & X37i159 & X37i160 & X37i161 & X37i162 & X37i163 & X37i164 & X37i165 & X37i166 & X37i167 & X37i168 & X37i169 & X37i170 & X37i171 & X37i172 & X37i173 & X37i174 & X37i175 & X37i176 & X37i177 & X37i178 & X37i179 & X37i180 & X37i181 & X37i182 & X37i183 & X37i184 & X37i185 & X37i186 & X37i187 & X37i188 & X37i189 & X37i190 & X37i191 & X37i192 & X37i193 & X37i194 & X37i195 & X37i196 & X37i197 & X37i198 & X37i199 & X37i200 & X37i201 & X37i202 & X37i203 & X37i204 & X37i205 & X37i206 & X37i207 & X37i208 & X37i209 & X37i210 & X37i211 & X37i212 & X37i213 & X37i214 & X37i215 & X37i216 & X37i217 & X37i218 & X37i219 & X37i220 & X37i221 & X37i222 & X37i223 & X37i224 & X37i225 & X37i226 & X37i227 & X37i228 & X37i229 & X37i230 & X37i231 & X37i232 & X37i233 & X37i234 & X37i235 & X37i236 & X37i237 & X37i238 & X37i239 & X37i240 & X37i241 & X37i242 & X37i243 & X37i244 & X37i245 & X37i246 & X37i247 & X37i248 & X37i249 & X37i250 & X37i251 & X37i252 & X37i253 & X37i254 & X37i255 & X37i256 & X37i257 & X37i258 & X37i259 & X37i260 & X37i261 & X37i262 & X37i263 & X37i264 & X37i265 & X37i266 & X37i267 & X37i268 & X37i269 & X37i270 & X37i271 & X37i272 & X37i273 & X37i274 & X37i275 & X37i276 & X37i277 & X37i278 & X37i279 & X37i280 & X37i281 & X37i282 & X37i283 & X37i284 & X37i285 & X37i286 & X37i287 & X37i288 & X37i289 & X37i290 & X37i291 & X37i292 & X37i293 & X37i294 & X37i295 & X37i296 & X37i297 & X37i298 & X37i299 & X37i300 & X37i301 & X37i302 & X37i303 & X37i304 & X37i305 & X37i306 & X37i307 & X37i308 & X37i309 & X37i310 & X37i311 & X37i312 & X37i313 & X37i314 & X37i315 & X37i316 & X37i317 & X37i318 & X37i319 & X37i320 & X37i321 & X37i322 & X37i323 & X37i324 & X37i325 & X37i326 & X37i327 & X37i328 & X37i329 & X37i330 & X37i331 & X37i332 & X37i333 & X37i334 & X37i335 & X37i336 & X37i337 & X37i338 & X37i339 & X37i340 & X37i341 & X37i342 & X37i343 & X37i344 & X37i345 & X37i346 & X37i347 & X37i348 & X37i349 & X37i350 & X37i351 & X37i352 & X37i353 & X37i354 & X37i355 & X37i356 & X37i357 & X37i358 & X37i359 & X37i360 & X37i361 & X37i362 & X37i363 & X37i364 & X37i365 & X37i366 & X37i367 & X37i368 & X37i369 & X37i370 & X37i371 & X37i372 & X37i373 & X37i374 & X37i375 & X37i376 & X37i377 & X37i378 & X37i379 & X37i380 & X37i381 & X37i382 & X38 & X38i1 & X39 & X39i1 & X40 & X40i1 & X40i2 & X40i3 & X40i4 & X41 & X41i1 & X42 & X42i1 & X43 & X44 & X44i1 & X44i2 & X44i3 & X44i4 & X44i5 & X44i6 & X44i7 & X44i8 & X44i9 & X44i10 & X44i11 & X44i12 & X44i13 & X44i14 & X44i15 & X44i16 & X44i17 & X44i18 & X44i19 & X44i20 & X44i21 & X44i22 & X44i23 & X45 & V11.V21 & V12.V22 & V13.V23 & V14.V24 & V15.V25 & V16.V26 & V17.V27 & V1 & V2 & V3 & V4 & V11 & V12 & V13 & V14 & V15 & V16 & V17 & V21 & V22 & V23 & V24 & V25 & V26 & V27 & X46 & X46i1 & X47 & X47i1 & X48 & X49.65 & X49 & X49i1 & X50.64 & X50 & X50i1 & X50i2 & X50i3 & X50i4 & X50i5 & X50i6 & X50i7 & X50i8 & X51.63 & X51 & X51i1 & X51i2 & X51i3 & X52.62 & X52 & X52i1 & X53.61 & X53 & X53i1 & X54 & X54.58 & X54i1 & X54i2 & X54i3 & X54i4 & X54i5 & X54i6 & X54i7 & X55 & X55i1 & X55i2 & X55i3 & X55i4 & X55i5 & X55i6 & X55i7 & X56 & X56i1 & X56i2 & X56i3 & X56i4 & X56i5 & X56i6 & X56i7 & X56i8 & X56i9 & X56i10 & X56i11 & X56i12 & X56i13 & X56i14 & X56i15 & X56i16 & X56i17 & X56i18 & X56i19 & X56i20 & X56i21 & X57 & X57i1 & X58 & X58i1 & X58i2 & X58i3 & X58i4 & X58i5 & X58i6 & X58i7 & X58i8 & X58i9 & X58i10 & X58i11 & X58i12 & X58i13 & X58i14 & X58i15 & X58i16 & X58i17 & X59 & X59i1 & X59i2 & X59i3 & X59i4 & X60 & X60i1 & X60i2 & X61 & X61i1 & X62 & X63 & X64 & X64i1 & X64i2 & X64i3 & X64i4 & X64i5 & X64i6 & X65 & X65i1 & X65i2 & X65i3 & X65i4 & X65i5 & X65i6 & X65i7 & X65i8 & X65i9 & X65i10 & X65i11 & X65i12 & X66 & X66i1 & X67 & X67i1 & X67i2 & X68 & X68i1 & X68i2 & X68i3 & X68i4 & X68i5 & X68i6 & X68i7 & X68i8 & X68i9 & X68i10 & X68i11 & X69 & X69i1 & X70 & X70i1 & X70i2 & X70i3 & X70i4 & X70i5 & X70i6 & X70i7 & X70i8 & X70i9 & X70i10 & X70i11 & X71 & X71i1 & X71i2 & X71i3 & X71i4 & X71i5 & X72 & X73\\\\\n",
       "\\hline\n",
       "\t103031 & Fungi & eukaryota & Thr & schiPomb_972H_chrI.trna50 & schiPomb_972H & Schizosaccharomyces pombe 972h- & Met & CAT & 57.1 & 76.3 & 0.2682927 & 12 & 16 & 8 & 0 & 9 & 2 & 2 & FALSE & TRUE & . & . & . & . & . & . & . & . & . & . & . & G:C & G & . & C:G & C & . & U:A & U & . & . & . & . & . & . & . & U:G & U & . & . & . & . & . & . & . & . & . & . & . & C:C & C & . & . & . & . & . & . & . & U:A & U & . & G:U & G & . & . & . & . & . & . & . & . & . & . & . & . & . & . & U & U:A:- & U:A & . & . & . & . & A & A:U:G & A:G & . & . & . & G:C & G & G:C:G & G:G & . & C:A & C & U:G & U & . & . & . & . & C:- & C & C:-:G & . & A & . & . & . & . & . & . & . & . & . & . & . & . & . & . & . & . & . & . & . & . & . & . & . & . & . & G & G:C & U & . & . & . & . & . & . & . & . & . & . & . & . & . & . & . & . & . & . & . & . & C & . & . & . & G & G:U & G & G:C & U & . & . & . & . & G & . & . & . & . & . & G & . & - & . & - & -:G & U & G & . & A & . & C & . & . & . & . & . & . & . & . & . & . & . & . & . & A & A:A & . & . & . & . & U:A & U & . & . & . & . & . & C:G & C & . & . & . & . & C:G & C & . & C:G & C & . & U:G & U & C & U & C & A & . & U & A & U & U & A & U & . & . & . & . & . & . & . & . & . & . & . & . & . & . & . & . & . & . & . & . & . & . & . & . & . & . & . & . & . & . & . & . & . & . & . & . & . & . & . & . & . & . & . & . & . & . & . & . & . & . & . & . & . & . & . & . & . & . & . & . & . & . & . & . & . & . & . & . & . & . & . & . & . & . & . & . & . & . & . & . & . & . & . & . & . & . & . & . & . & . & . & . & . & . & . & . & . & . & . & . & . & . & . & . & . & . & . & . & . & . & . & . & . & . & . & . & . & . & . & . & . & . & . & . & . & . & . & . & . & . & . & . & . & . & . & . & . & . & . & . & . & . & . & . & . & . & . & . & . & . & . & . & . & . & . & . & . & . & . & . & . & . & . & . & . & . & . & . & . & . & . & . & . & . & . & . & . & . & . & . & . & . & . & . & . & . & . & . & . & . & . & . & . & . & . & . & . & . & . & . & . & . & . & . & . & . & . & . & . & . & . & . & . & . & . & . & . & . & . & . & . & . & . & . & . & . & . & . & . & . & . & . & . & . & . & . & . & . & . & . & . & . & . & . & . & . & . & . & . & . & . & . & . & . & . & . & . & . & . & G & A & C & A & C & . & . & . & . & . & . & . & . & . & . & . & . & . & . & . & . & . & . & . & . & . & . & . & . & . & . & . & . & . & . & . & . & . & . & . & . & . & . & . & . & . & . & . & . & . & . & . & . & . & . & . & . & . & . & . & . & . & . & . & . & . & . & . & . & . & . & . & . & . & . & . & . & . & . & . & . & . & . & . & . & . & . & . & . & . & . & . & . & . & . & . & . & . & . & . & . & . & . & . & . & . & . & . & . & . & . & . & . & . & . & . & . & . & . & A & . & G & . & G & . & . & . & . & G & . & G & . & A & A & . & . & . & . & . & . & . & . & . & . & . & . & . & . & . & . & . & . & . & . & . & . & . & G & -:- & -:- & -:- & -:- & -:- & -:- & -:- & - & - & - & - & - & - & - & - & - & - & - & - & - & - & - & - & - & - & G & . & U & . & C & G:C & G & . & U:A & U & . & . & . & . & . & . & . & . & G:C & G & . & . & . & A:U & A & . & G:C & G & . & U & U:A & . & . & . & . & . & . & . & U & . & . & . & . & . & . & . & C & . & . & . & . & . & . & . & . & . & . & . & . & . & . & . & . & . & . & . & . & . & G & . & A & . & . & . & . & . & . & . & . & . & . & . & . & . & . & . & . & . & G & . & . & . & . & C & . & . & C & . & U & C & A & . & . & . & . & . & . & C & . & . & . & . & . & . & . & . & . & . & . & . & U & . & A & . & . & C & . & . & . & . & . & . & . & . & . & . & . & G & . & A & . & . & . & . & . & . & . & . & . & . & . & G & . & . & . & . & . & C & A\\\\\n",
       "\t103032 & Fungi & eukaryota & Thr & schiPomb_972H_chrII.trna7 & schiPomb_972H & Schizosaccharomyces pombe 972h- & Met & CAT & 57.2 & 76.3 & 0.2682927 & 12 & 14 & 8 & 0 & 7 & 2 & 2 & FALSE & TRUE & . & . & . & . & . & . & . & . & . & . & . & G:C & G & . & C:G & C & . & U:A & U & . & . & . & . & . & . & . & U:G & U & . & . & . & . & . & . & . & . & . & . & . & C:C & C & . & . & . & . & . & . & . & U:A & U & . & G:U & G & . & . & . & . & . & . & . & . & . & . & . & . & . & . & U & U:A:- & U:A & . & . & . & . & A & A:U:G & A:G & . & . & . & G:C & G & G:C:G & G:G & . & C:A & C & U:G & U & . & . & . & . & C:- & C & C:-:G & . & A & . & . & . & . & . & . & . & . & . & . & . & . & . & . & . & . & . & . & . & . & . & . & . & . & . & G & G:C & U & . & . & . & . & . & . & . & . & . & . & . & . & . & . & . & . & . & . & . & . & C & . & . & . & G & G:U & G & G:C & U & . & . & . & . & G & . & . & . & . & . & G & . & - & . & - & -:G & U & G & . & A & . & C & . & . & . & . & . & . & . & . & . & . & . & . & . & A & A:A & . & . & . & . & U:A & U & . & . & . & . & . & C:G & C & . & . & . & . & C:G & C & . & C:G & C & . & U:G & U & C & U & C & A & . & U & A & U & A & A & . & . & . & . & . & . & . & . & . & . & . & . & . & . & . & . & . & . & . & . & . & . & . & . & . & . & . & . & . & . & . & . & . & . & . & . & . & . & . & . & . & . & . & . & . & . & . & . & . & . & . & . & . & . & . & . & . & . & . & . & . & . & . & . & . & . & . & . & . & . & . & . & . & . & . & . & . & . & . & . & . & . & . & . & . & . & . & . & . & . & . & . & . & . & . & . & . & . & . & . & . & . & . & . & . & . & . & . & . & . & . & . & . & . & . & . & . & . & . & . & . & . & . & . & . & . & . & . & . & . & . & . & . & . & . & . & . & . & . & . & . & . & . & . & . & . & . & . & . & . & . & . & . & . & . & . & . & . & . & . & . & . & . & . & . & . & . & . & . & . & . & . & . & . & . & . & . & . & . & . & . & . & . & . & . & . & . & . & . & . & . & . & . & . & . & . & . & . & . & . & . & . & . & . & . & . & . & . & . & . & . & . & . & . & . & . & . & . & . & . & . & . & . & . & . & . & . & . & . & . & . & . & . & . & . & . & . & . & . & . & . & . & . & . & . & . & . & . & . & . & . & . & . & . & . & . & . & . & . & . & . & U & G & A & C & . & . & . & . & . & . & . & . & . & . & . & . & . & . & . & . & . & . & . & . & . & . & . & . & . & . & . & . & . & . & . & . & . & . & . & . & . & . & . & . & . & . & . & . & . & . & . & . & . & . & . & . & . & . & . & . & . & . & . & . & . & . & . & . & . & . & . & . & . & . & . & . & . & . & . & . & . & . & . & . & . & . & . & . & . & . & . & . & . & . & . & . & . & . & . & . & . & . & . & . & . & . & . & . & . & . & . & . & . & . & . & . & . & . & A & . & G & . & G & . & . & . & . & G & . & G & . & A & A & . & . & . & . & . & . & . & . & . & . & . & . & . & . & . & . & . & . & . & . & . & . & . & G & -:- & -:- & -:- & -:- & -:- & -:- & -:- & - & - & - & - & - & - & - & - & - & - & - & - & - & - & - & - & - & - & G & . & U & . & C & G:C & G & . & U:A & U & . & . & . & . & . & . & . & . & G:C & G & . & . & . & A:U & A & . & G:C & G & . & U & U:A & . & . & . & . & . & . & . & U & . & . & . & . & . & . & . & C & . & . & . & . & . & . & . & . & . & . & . & . & . & . & . & . & . & . & . & . & . & G & . & A & . & . & . & . & . & . & . & . & . & . & . & . & . & . & . & . & . & G & . & . & . & . & C & . & . & C & . & U & C & A & . & . & . & . & . & . & C & . & . & . & . & . & . & . & . & . & . & . & . & U & . & A & . & . & C & . & . & . & . & . & . & . & . & . & . & . & G & . & A & . & . & . & . & . & . & . & . & . & . & . & G & . & . & . & . & . & C & A\\\\\n",
       "\t103039 & Fungi & eukaryota & Thr & schiPomb_972H_chrII.trna58 & schiPomb_972H & Schizosaccharomyces pombe 972h- & Met & CAT & 57.2 & 76.3 & 0.2682927 & 12 & 14 & 8 & 0 & 7 & 2 & 2 & FALSE & TRUE & . & . & . & . & . & . & . & . & . & . & . & G:C & G & . & C:G & C & . & U:A & U & . & . & . & . & . & . & . & U:G & U & . & . & . & . & . & . & . & . & . & . & . & C:C & C & . & . & . & . & . & . & . & U:A & U & . & G:U & G & . & . & . & . & . & . & . & . & . & . & . & . & . & . & U & U:A:- & U:A & . & . & . & . & A & A:U:G & A:G & . & . & . & G:C & G & G:C:G & G:G & . & C:A & C & U:G & U & . & . & . & . & C:- & C & C:-:G & . & A & . & . & . & . & . & . & . & . & . & . & . & . & . & . & . & . & . & . & . & . & . & . & . & . & . & G & G:C & U & . & . & . & . & . & . & . & . & . & . & . & . & . & . & . & . & . & . & . & . & C & . & . & . & G & G:U & G & G:C & U & . & . & . & . & G & . & . & . & . & . & G & . & - & . & - & -:G & U & G & . & A & . & C & . & . & . & . & . & . & . & . & . & . & . & . & . & A & A:A & . & . & . & . & U:A & U & . & . & . & . & . & C:G & C & . & . & . & . & C:G & C & . & C:G & C & . & U:G & U & C & U & C & A & . & U & A & U & G & A & . & . & . & . & . & . & . & . & . & . & . & . & . & . & . & . & . & . & . & . & . & . & . & . & . & . & . & . & . & . & . & . & . & . & . & . & . & . & . & . & . & . & . & . & . & . & . & . & . & . & . & . & . & . & . & . & . & . & . & . & . & . & . & . & . & . & . & . & . & . & . & . & . & . & . & . & . & . & . & . & . & . & . & . & . & . & . & . & . & . & . & . & . & . & . & . & . & . & . & . & . & . & . & . & . & . & . & . & . & . & . & . & . & . & . & . & . & . & . & . & . & . & . & . & . & . & . & . & . & . & . & . & . & . & . & . & . & . & . & . & . & . & . & . & . & . & . & . & . & . & . & . & . & . & . & . & . & . & . & . & . & . & . & . & . & . & . & . & . & . & . & . & . & . & . & . & . & . & . & . & . & . & . & . & . & . & . & . & . & . & . & . & . & . & . & . & . & . & . & . & . & . & . & . & . & . & . & . & . & . & . & . & . & . & . & . & . & . & . & . & . & . & . & . & . & . & . & . & . & . & . & . & . & . & . & . & . & . & . & . & . & . & . & . & . & . & . & . & . & . & . & . & . & . & . & . & . & . & . & . & . & U & G & A & U & . & . & . & . & . & . & . & . & . & . & . & . & . & . & . & . & . & . & . & . & . & . & . & . & . & . & . & . & . & . & . & . & . & . & . & . & . & . & . & . & . & . & . & . & . & . & . & . & . & . & . & . & . & . & . & . & . & . & . & . & . & . & . & . & . & . & . & . & . & . & . & . & . & . & . & . & . & . & . & . & . & . & . & . & . & . & . & . & . & . & . & . & . & . & . & . & . & . & . & . & . & . & . & . & . & . & . & . & . & . & . & . & . & . & A & . & G & . & G & . & . & . & . & G & . & G & . & A & A & . & . & . & . & . & . & . & . & . & . & . & . & . & . & . & . & . & . & . & . & . & . & . & G & -:- & -:- & -:- & -:- & -:- & -:- & -:- & - & - & - & - & - & - & - & - & - & - & - & - & - & - & - & - & - & - & G & . & U & . & C & G:C & G & . & U:A & U & . & . & . & . & . & . & . & . & G:C & G & . & . & . & A:U & A & . & G:C & G & . & U & U:A & . & . & . & . & . & . & . & U & . & . & . & . & . & . & . & C & . & . & . & . & . & . & . & . & . & . & . & . & . & . & . & . & . & . & . & . & . & G & . & A & . & . & . & . & . & . & . & . & . & . & . & . & . & . & . & . & . & G & . & . & . & . & C & . & . & C & . & U & C & A & . & . & . & . & . & . & C & . & . & . & . & . & . & . & . & . & . & . & . & U & . & A & . & . & C & . & . & . & . & . & . & . & . & . & . & . & G & . & A & . & . & . & . & . & . & . & . & . & . & . & G & . & . & . & . & . & C & A\\\\\n",
       "\\end{tabular}\n"
      ],
      "text/plain": [
       "       clade    domain isotype                    seqname       species\n",
       "103031 Fungi eukaryota     Thr  schiPomb_972H_chrI.trna50 schiPomb_972H\n",
       "103032 Fungi eukaryota     Thr  schiPomb_972H_chrII.trna7 schiPomb_972H\n",
       "103039 Fungi eukaryota     Thr schiPomb_972H_chrII.trna58 schiPomb_972H\n",
       "                          species_long isotype_ac anticodon score isoscore\n",
       "103031 Schizosaccharomyces pombe 972h-        Met       CAT  57.1     76.3\n",
       "103032 Schizosaccharomyces pombe 972h-        Met       CAT  57.2     76.3\n",
       "103039 Schizosaccharomyces pombe 972h-        Met       CAT  57.2     76.3\n",
       "              GC D.loop AC.loop TPC.loop V.arm intron insertions deletions\n",
       "103031 0.2682927     12      16        8     0      9          2         2\n",
       "103032 0.2682927     12      14        8     0      7          2         2\n",
       "103039 0.2682927     12      14        8     0      7          2         2\n",
       "       quality restrict X0i1 X0i2 X0i3 X0i4 X0i5 X0i6 X0i7 X0i8 X0i9 X0i10\n",
       "103031   FALSE     TRUE    .    .    .    .    .    .    .    .    .     .\n",
       "103032   FALSE     TRUE    .    .    .    .    .    .    .    .    .     .\n",
       "103039   FALSE     TRUE    .    .    .    .    .    .    .    .    .     .\n",
       "       X0i11 X1.72 X1 X1i1 X2.71 X2 X2i1 X3.70 X3 X3i1 X3i2 X3i3 X3i4 X3i5 X3i6\n",
       "103031     .   G:C  G    .   C:G  C    .   U:A  U    .    .    .    .    .    .\n",
       "103032     .   G:C  G    .   C:G  C    .   U:A  U    .    .    .    .    .    .\n",
       "103039     .   G:C  G    .   C:G  C    .   U:A  U    .    .    .    .    .    .\n",
       "       X3i7 X4.69 X4 X4i1 X4i2 X4i3 X4i4 X4i5 X4i6 X4i7 X4i8 X4i9 X4i10 X4i11\n",
       "103031    .   U:G  U    .    .    .    .    .    .    .    .    .     .     .\n",
       "103032    .   U:G  U    .    .    .    .    .    .    .    .    .     .     .\n",
       "103039    .   U:G  U    .    .    .    .    .    .    .    .    .     .     .\n",
       "       X5.68 X5 X5i1 X5i2 X5i3 X5i4 X5i5 X5i6 X5i7 X6.67 X6 X6i1 X7.66 X7 X7i1\n",
       "103031   C:C  C    .    .    .    .    .    .    .   U:A  U    .   G:U  G    .\n",
       "103032   C:C  C    .    .    .    .    .    .    .   U:A  U    .   G:U  G    .\n",
       "103039   C:C  C    .    .    .    .    .    .    .   U:A  U    .   G:U  G    .\n",
       "       X7i2 X7i3 X7i4 X7i5 X7i6 X7i7 X7i8 X7i9 X7i10 X7i11 X7i12 X7i13 X7i14 X8\n",
       "103031    .    .    .    .    .    .    .    .     .     .     .     .     .  U\n",
       "103032    .    .    .    .    .    .    .    .     .     .     .     .     .  U\n",
       "103039    .    .    .    .    .    .    .    .     .     .     .     .     .  U\n",
       "       X8.14.21 X8.14 X8i1 X8i2 X8i3 X8i4 X9 X9.12.23 X9.23 X9i1 X9i2 X9i3\n",
       "103031    U:A:-   U:A    .    .    .    .  A    A:U:G   A:G    .    .    .\n",
       "103032    U:A:-   U:A    .    .    .    .  A    A:U:G   A:G    .    .    .\n",
       "103039    U:A:-   U:A    .    .    .    .  A    A:U:G   A:G    .    .    .\n",
       "       X10.25 X10 X10.25.45 X10.45 X10i1 X11.24 X11 X12.23 X12 X12i1 X12i2\n",
       "103031    G:C   G     G:C:G    G:G     .    C:A   C    U:G   U     .     .\n",
       "103032    G:C   G     G:C:G    G:G     .    C:A   C    U:G   U     .     .\n",
       "103039    G:C   G     G:C:G    G:G     .    C:A   C    U:G   U     .     .\n",
       "       X12i3 X12i4 X13.22 X13 X13.22.46 X13i1 X14 X14i1 X14i2 X14i3 X14i4 X14i5\n",
       "103031     .     .    C:-   C     C:-:G     .   A     .     .     .     .     .\n",
       "103032     .     .    C:-   C     C:-:G     .   A     .     .     .     .     .\n",
       "103039     .     .    C:-   C     C:-:G     .   A     .     .     .     .     .\n",
       "       X14i6 X14i7 X14i8 X14i9 X14i10 X14i11 X14i12 X14i13 X14i14 X14i15 X14i16\n",
       "103031     .     .     .     .      .      .      .      .      .      .      .\n",
       "103032     .     .     .     .      .      .      .      .      .      .      .\n",
       "103039     .     .     .     .      .      .      .      .      .      .      .\n",
       "       X14i17 X14i18 X14i19 X14i20 X14i21 X14i22 X14i23 X14i24 X14i25 X15\n",
       "103031      .      .      .      .      .      .      .      .      .   G\n",
       "103032      .      .      .      .      .      .      .      .      .   G\n",
       "103039      .      .      .      .      .      .      .      .      .   G\n",
       "       X15.48 X16 X16i1 X16i2 X16i3 X16i4 X16i5 X16i6 X16i7 X16i8 X16i9 X16i10\n",
       "103031    G:C   U     .     .     .     .     .     .     .     .     .      .\n",
       "103032    G:C   U     .     .     .     .     .     .     .     .     .      .\n",
       "103039    G:C   U     .     .     .     .     .     .     .     .     .      .\n",
       "       X16i11 X16i12 X16i13 X16i14 X16i15 X16i16 X16i17 X16i18 X16i19 X16i20\n",
       "103031      .      .      .      .      .      .      .      .      .      .\n",
       "103032      .      .      .      .      .      .      .      .      .      .\n",
       "103039      .      .      .      .      .      .      .      .      .      .\n",
       "       X17 X17i1 X17i2 X17i3 X18 X18.55 X19 X19.56 X20 X20i1 X20i2 X20i3 X20i4\n",
       "103031   C     .     .     .   G    G:U   G    G:C   U     .     .     .     .\n",
       "103032   C     .     .     .   G    G:U   G    G:C   U     .     .     .     .\n",
       "103039   C     .     .     .   G    G:U   G    G:C   U     .     .     .     .\n",
       "       X20i5 X20i6 X20i7 X20i8 X20i9 X20i10 X20a X20b X21 X21i1 X22 X22.46\n",
       "103031     G     .     .     .     .      .    G    .   -     .   -    -:G\n",
       "103032     G     .     .     .     .      .    G    .   -     .   -    -:G\n",
       "103039     G     .     .     .     .      .    G    .   -     .   -    -:G\n",
       "       X22i1 X23 X23i1 X24 X24i1 X25 X25i1 X25i2 X25i3 X25i4 X25i5 X25i6 X25i7\n",
       "103031     U   G     .   A     .   C     .     .     .     .     .     .     .\n",
       "103032     U   G     .   A     .   C     .     .     .     .     .     .     .\n",
       "103039     U   G     .   A     .   C     .     .     .     .     .     .     .\n",
       "       X25i8 X25i9 X25i10 X25i11 X25i12 X25i13 X26 X26.44 X26i1 X26i2 X26i3\n",
       "103031     .     .      .      .      .      .   A    A:A     .     .     .\n",
       "103032     .     .      .      .      .      .   A    A:A     .     .     .\n",
       "103039     .     .      .      .      .      .   A    A:A     .     .     .\n",
       "       X26i4 X27.43 X27 X27i1 X27i2 X27i3 X27i4 X27i5 X28.42 X28 X28i1 X28i2\n",
       "103031     .    U:A   U     .     .     .     .     .    C:G   C     .     .\n",
       "103032     .    U:A   U     .     .     .     .     .    C:G   C     .     .\n",
       "103039     .    U:A   U     .     .     .     .     .    C:G   C     .     .\n",
       "       X28i3 X28i4 X29.41 X29 X29i1 X30.40 X30 X30i1 X31.39 X31 X32 X33 X34 X35\n",
       "103031     .     .    C:G   C     .    C:G   C     .    U:G   U   C   U   C   A\n",
       "103032     .     .    C:G   C     .    C:G   C     .    U:G   U   C   U   C   A\n",
       "103039     .     .    C:G   C     .    C:G   C     .    U:G   U   C   U   C   A\n",
       "       X35i1 X36 X37 X37i1 X37i2 X37i3 X37i4 X37i5 X37i6 X37i7 X37i8 X37i9\n",
       "103031     .   U   A     U     U     A     U     .     .     .     .     .\n",
       "103032     .   U   A     U     A     A     .     .     .     .     .     .\n",
       "103039     .   U   A     U     G     A     .     .     .     .     .     .\n",
       "       X37i10 X37i11 X37i12 X37i13 X37i14 X37i15 X37i16 X37i17 X37i18 X37i19\n",
       "103031      .      .      .      .      .      .      .      .      .      .\n",
       "103032      .      .      .      .      .      .      .      .      .      .\n",
       "103039      .      .      .      .      .      .      .      .      .      .\n",
       "       X37i20 X37i21 X37i22 X37i23 X37i24 X37i25 X37i26 X37i27 X37i28 X37i29\n",
       "103031      .      .      .      .      .      .      .      .      .      .\n",
       "103032      .      .      .      .      .      .      .      .      .      .\n",
       "103039      .      .      .      .      .      .      .      .      .      .\n",
       "       X37i30 X37i31 X37i32 X37i33 X37i34 X37i35 X37i36 X37i37 X37i38 X37i39\n",
       "103031      .      .      .      .      .      .      .      .      .      .\n",
       "103032      .      .      .      .      .      .      .      .      .      .\n",
       "103039      .      .      .      .      .      .      .      .      .      .\n",
       "       X37i40 X37i41 X37i42 X37i43 X37i44 X37i45 X37i46 X37i47 X37i48 X37i49\n",
       "103031      .      .      .      .      .      .      .      .      .      .\n",
       "103032      .      .      .      .      .      .      .      .      .      .\n",
       "103039      .      .      .      .      .      .      .      .      .      .\n",
       "       X37i50 X37i51 X37i52 X37i53 X37i54 X37i55 X37i56 X37i57 X37i58 X37i59\n",
       "103031      .      .      .      .      .      .      .      .      .      .\n",
       "103032      .      .      .      .      .      .      .      .      .      .\n",
       "103039      .      .      .      .      .      .      .      .      .      .\n",
       "       X37i60 X37i61 X37i62 X37i63 X37i64 X37i65 X37i66 X37i67 X37i68 X37i69\n",
       "103031      .      .      .      .      .      .      .      .      .      .\n",
       "103032      .      .      .      .      .      .      .      .      .      .\n",
       "103039      .      .      .      .      .      .      .      .      .      .\n",
       "       X37i70 X37i71 X37i72 X37i73 X37i74 X37i75 X37i76 X37i77 X37i78 X37i79\n",
       "103031      .      .      .      .      .      .      .      .      .      .\n",
       "103032      .      .      .      .      .      .      .      .      .      .\n",
       "103039      .      .      .      .      .      .      .      .      .      .\n",
       "       X37i80 X37i81 X37i82 X37i83 X37i84 X37i85 X37i86 X37i87 X37i88 X37i89\n",
       "103031      .      .      .      .      .      .      .      .      .      .\n",
       "103032      .      .      .      .      .      .      .      .      .      .\n",
       "103039      .      .      .      .      .      .      .      .      .      .\n",
       "       X37i90 X37i91 X37i92 X37i93 X37i94 X37i95 X37i96 X37i97 X37i98 X37i99\n",
       "103031      .      .      .      .      .      .      .      .      .      .\n",
       "103032      .      .      .      .      .      .      .      .      .      .\n",
       "103039      .      .      .      .      .      .      .      .      .      .\n",
       "       X37i100 X37i101 X37i102 X37i103 X37i104 X37i105 X37i106 X37i107 X37i108\n",
       "103031       .       .       .       .       .       .       .       .       .\n",
       "103032       .       .       .       .       .       .       .       .       .\n",
       "103039       .       .       .       .       .       .       .       .       .\n",
       "       X37i109 X37i110 X37i111 X37i112 X37i113 X37i114 X37i115 X37i116 X37i117\n",
       "103031       .       .       .       .       .       .       .       .       .\n",
       "103032       .       .       .       .       .       .       .       .       .\n",
       "103039       .       .       .       .       .       .       .       .       .\n",
       "       X37i118 X37i119 X37i120 X37i121 X37i122 X37i123 X37i124 X37i125 X37i126\n",
       "103031       .       .       .       .       .       .       .       .       .\n",
       "103032       .       .       .       .       .       .       .       .       .\n",
       "103039       .       .       .       .       .       .       .       .       .\n",
       "       X37i127 X37i128 X37i129 X37i130 X37i131 X37i132 X37i133 X37i134 X37i135\n",
       "103031       .       .       .       .       .       .       .       .       .\n",
       "103032       .       .       .       .       .       .       .       .       .\n",
       "103039       .       .       .       .       .       .       .       .       .\n",
       "       X37i136 X37i137 X37i138 X37i139 X37i140 X37i141 X37i142 X37i143 X37i144\n",
       "103031       .       .       .       .       .       .       .       .       .\n",
       "103032       .       .       .       .       .       .       .       .       .\n",
       "103039       .       .       .       .       .       .       .       .       .\n",
       "       X37i145 X37i146 X37i147 X37i148 X37i149 X37i150 X37i151 X37i152 X37i153\n",
       "103031       .       .       .       .       .       .       .       .       .\n",
       "103032       .       .       .       .       .       .       .       .       .\n",
       "103039       .       .       .       .       .       .       .       .       .\n",
       "       X37i154 X37i155 X37i156 X37i157 X37i158 X37i159 X37i160 X37i161 X37i162\n",
       "103031       .       .       .       .       .       .       .       .       .\n",
       "103032       .       .       .       .       .       .       .       .       .\n",
       "103039       .       .       .       .       .       .       .       .       .\n",
       "       X37i163 X37i164 X37i165 X37i166 X37i167 X37i168 X37i169 X37i170 X37i171\n",
       "103031       .       .       .       .       .       .       .       .       .\n",
       "103032       .       .       .       .       .       .       .       .       .\n",
       "103039       .       .       .       .       .       .       .       .       .\n",
       "       X37i172 X37i173 X37i174 X37i175 X37i176 X37i177 X37i178 X37i179 X37i180\n",
       "103031       .       .       .       .       .       .       .       .       .\n",
       "103032       .       .       .       .       .       .       .       .       .\n",
       "103039       .       .       .       .       .       .       .       .       .\n",
       "       X37i181 X37i182 X37i183 X37i184 X37i185 X37i186 X37i187 X37i188 X37i189\n",
       "103031       .       .       .       .       .       .       .       .       .\n",
       "103032       .       .       .       .       .       .       .       .       .\n",
       "103039       .       .       .       .       .       .       .       .       .\n",
       "       X37i190 X37i191 X37i192 X37i193 X37i194 X37i195 X37i196 X37i197 X37i198\n",
       "103031       .       .       .       .       .       .       .       .       .\n",
       "103032       .       .       .       .       .       .       .       .       .\n",
       "103039       .       .       .       .       .       .       .       .       .\n",
       "       X37i199 X37i200 X37i201 X37i202 X37i203 X37i204 X37i205 X37i206 X37i207\n",
       "103031       .       .       .       .       .       .       .       .       .\n",
       "103032       .       .       .       .       .       .       .       .       .\n",
       "103039       .       .       .       .       .       .       .       .       .\n",
       "       X37i208 X37i209 X37i210 X37i211 X37i212 X37i213 X37i214 X37i215 X37i216\n",
       "103031       .       .       .       .       .       .       .       .       .\n",
       "103032       .       .       .       .       .       .       .       .       .\n",
       "103039       .       .       .       .       .       .       .       .       .\n",
       "       X37i217 X37i218 X37i219 X37i220 X37i221 X37i222 X37i223 X37i224 X37i225\n",
       "103031       .       .       .       .       .       .       .       .       .\n",
       "103032       .       .       .       .       .       .       .       .       .\n",
       "103039       .       .       .       .       .       .       .       .       .\n",
       "       X37i226 X37i227 X37i228 X37i229 X37i230 X37i231 X37i232 X37i233 X37i234\n",
       "103031       .       .       .       .       .       .       .       .       .\n",
       "103032       .       .       .       .       .       .       .       .       .\n",
       "103039       .       .       .       .       .       .       .       .       .\n",
       "       X37i235 X37i236 X37i237 X37i238 X37i239 X37i240 X37i241 X37i242 X37i243\n",
       "103031       .       .       .       .       .       .       .       .       .\n",
       "103032       .       .       .       .       .       .       .       .       .\n",
       "103039       .       .       .       .       .       .       .       .       .\n",
       "       X37i244 X37i245 X37i246 X37i247 X37i248 X37i249 X37i250 X37i251 X37i252\n",
       "103031       .       .       .       .       .       .       .       .       .\n",
       "103032       .       .       .       .       .       .       .       .       .\n",
       "103039       .       .       .       .       .       .       .       .       .\n",
       "       X37i253 X37i254 X37i255 X37i256 X37i257 X37i258 X37i259 X37i260 X37i261\n",
       "103031       .       .       .       .       .       .       .       .       .\n",
       "103032       .       .       .       .       .       .       .       .       .\n",
       "103039       .       .       .       .       .       .       .       .       .\n",
       "       X37i262 X37i263 X37i264 X37i265 X37i266 X37i267 X37i268 X37i269 X37i270\n",
       "103031       .       .       G       A       C       A       C       .       .\n",
       "103032       .       .       .       U       G       A       C       .       .\n",
       "103039       .       .       .       U       G       A       U       .       .\n",
       "       X37i271 X37i272 X37i273 X37i274 X37i275 X37i276 X37i277 X37i278 X37i279\n",
       "103031       .       .       .       .       .       .       .       .       .\n",
       "103032       .       .       .       .       .       .       .       .       .\n",
       "103039       .       .       .       .       .       .       .       .       .\n",
       "       X37i280 X37i281 X37i282 X37i283 X37i284 X37i285 X37i286 X37i287 X37i288\n",
       "103031       .       .       .       .       .       .       .       .       .\n",
       "103032       .       .       .       .       .       .       .       .       .\n",
       "103039       .       .       .       .       .       .       .       .       .\n",
       "       X37i289 X37i290 X37i291 X37i292 X37i293 X37i294 X37i295 X37i296 X37i297\n",
       "103031       .       .       .       .       .       .       .       .       .\n",
       "103032       .       .       .       .       .       .       .       .       .\n",
       "103039       .       .       .       .       .       .       .       .       .\n",
       "       X37i298 X37i299 X37i300 X37i301 X37i302 X37i303 X37i304 X37i305 X37i306\n",
       "103031       .       .       .       .       .       .       .       .       .\n",
       "103032       .       .       .       .       .       .       .       .       .\n",
       "103039       .       .       .       .       .       .       .       .       .\n",
       "       X37i307 X37i308 X37i309 X37i310 X37i311 X37i312 X37i313 X37i314 X37i315\n",
       "103031       .       .       .       .       .       .       .       .       .\n",
       "103032       .       .       .       .       .       .       .       .       .\n",
       "103039       .       .       .       .       .       .       .       .       .\n",
       "       X37i316 X37i317 X37i318 X37i319 X37i320 X37i321 X37i322 X37i323 X37i324\n",
       "103031       .       .       .       .       .       .       .       .       .\n",
       "103032       .       .       .       .       .       .       .       .       .\n",
       "103039       .       .       .       .       .       .       .       .       .\n",
       "       X37i325 X37i326 X37i327 X37i328 X37i329 X37i330 X37i331 X37i332 X37i333\n",
       "103031       .       .       .       .       .       .       .       .       .\n",
       "103032       .       .       .       .       .       .       .       .       .\n",
       "103039       .       .       .       .       .       .       .       .       .\n",
       "       X37i334 X37i335 X37i336 X37i337 X37i338 X37i339 X37i340 X37i341 X37i342\n",
       "103031       .       .       .       .       .       .       .       .       .\n",
       "103032       .       .       .       .       .       .       .       .       .\n",
       "103039       .       .       .       .       .       .       .       .       .\n",
       "       X37i343 X37i344 X37i345 X37i346 X37i347 X37i348 X37i349 X37i350 X37i351\n",
       "103031       .       .       .       .       .       .       .       .       .\n",
       "103032       .       .       .       .       .       .       .       .       .\n",
       "103039       .       .       .       .       .       .       .       .       .\n",
       "       X37i352 X37i353 X37i354 X37i355 X37i356 X37i357 X37i358 X37i359 X37i360\n",
       "103031       .       .       .       .       .       .       .       .       .\n",
       "103032       .       .       .       .       .       .       .       .       .\n",
       "103039       .       .       .       .       .       .       .       .       .\n",
       "       X37i361 X37i362 X37i363 X37i364 X37i365 X37i366 X37i367 X37i368 X37i369\n",
       "103031       .       .       .       .       .       .       .       .       .\n",
       "103032       .       .       .       .       .       .       .       .       .\n",
       "103039       .       .       .       .       .       .       .       .       .\n",
       "       X37i370 X37i371 X37i372 X37i373 X37i374 X37i375 X37i376 X37i377 X37i378\n",
       "103031       .       .       .       .       .       .       .       .       .\n",
       "103032       .       .       .       .       .       .       .       .       .\n",
       "103039       .       .       .       .       .       .       .       .       .\n",
       "       X37i379 X37i380 X37i381 X37i382 X38 X38i1 X39 X39i1 X40 X40i1 X40i2\n",
       "103031       .       .       .       .   A     .   G     .   G     .     .\n",
       "103032       .       .       .       .   A     .   G     .   G     .     .\n",
       "103039       .       .       .       .   A     .   G     .   G     .     .\n",
       "       X40i3 X40i4 X41 X41i1 X42 X42i1 X43 X44 X44i1 X44i2 X44i3 X44i4 X44i5\n",
       "103031     .     .   G     .   G     .   A   A     .     .     .     .     .\n",
       "103032     .     .   G     .   G     .   A   A     .     .     .     .     .\n",
       "103039     .     .   G     .   G     .   A   A     .     .     .     .     .\n",
       "       X44i6 X44i7 X44i8 X44i9 X44i10 X44i11 X44i12 X44i13 X44i14 X44i15 X44i16\n",
       "103031     .     .     .     .      .      .      .      .      .      .      .\n",
       "103032     .     .     .     .      .      .      .      .      .      .      .\n",
       "103039     .     .     .     .      .      .      .      .      .      .      .\n",
       "       X44i17 X44i18 X44i19 X44i20 X44i21 X44i22 X44i23 X45 V11.V21 V12.V22\n",
       "103031      .      .      .      .      .      .      .   G     -:-     -:-\n",
       "103032      .      .      .      .      .      .      .   G     -:-     -:-\n",
       "103039      .      .      .      .      .      .      .   G     -:-     -:-\n",
       "       V13.V23 V14.V24 V15.V25 V16.V26 V17.V27 V1 V2 V3 V4 V11 V12 V13 V14 V15\n",
       "103031     -:-     -:-     -:-     -:-     -:-  -  -  -  -   -   -   -   -   -\n",
       "103032     -:-     -:-     -:-     -:-     -:-  -  -  -  -   -   -   -   -   -\n",
       "103039     -:-     -:-     -:-     -:-     -:-  -  -  -  -   -   -   -   -   -\n",
       "       V16 V17 V21 V22 V23 V24 V25 V26 V27 X46 X46i1 X47 X47i1 X48 X49.65 X49\n",
       "103031   -   -   -   -   -   -   -   -   -   G     .   U     .   C    G:C   G\n",
       "103032   -   -   -   -   -   -   -   -   -   G     .   U     .   C    G:C   G\n",
       "103039   -   -   -   -   -   -   -   -   -   G     .   U     .   C    G:C   G\n",
       "       X49i1 X50.64 X50 X50i1 X50i2 X50i3 X50i4 X50i5 X50i6 X50i7 X50i8 X51.63\n",
       "103031     .    U:A   U     .     .     .     .     .     .     .     .    G:C\n",
       "103032     .    U:A   U     .     .     .     .     .     .     .     .    G:C\n",
       "103039     .    U:A   U     .     .     .     .     .     .     .     .    G:C\n",
       "       X51 X51i1 X51i2 X51i3 X52.62 X52 X52i1 X53.61 X53 X53i1 X54 X54.58 X54i1\n",
       "103031   G     .     .     .    A:U   A     .    G:C   G     .   U    U:A     .\n",
       "103032   G     .     .     .    A:U   A     .    G:C   G     .   U    U:A     .\n",
       "103039   G     .     .     .    A:U   A     .    G:C   G     .   U    U:A     .\n",
       "       X54i2 X54i3 X54i4 X54i5 X54i6 X54i7 X55 X55i1 X55i2 X55i3 X55i4 X55i5\n",
       "103031     .     .     .     .     .     .   U     .     .     .     .     .\n",
       "103032     .     .     .     .     .     .   U     .     .     .     .     .\n",
       "103039     .     .     .     .     .     .   U     .     .     .     .     .\n",
       "       X55i6 X55i7 X56 X56i1 X56i2 X56i3 X56i4 X56i5 X56i6 X56i7 X56i8 X56i9\n",
       "103031     .     .   C     .     .     .     .     .     .     .     .     .\n",
       "103032     .     .   C     .     .     .     .     .     .     .     .     .\n",
       "103039     .     .   C     .     .     .     .     .     .     .     .     .\n",
       "       X56i10 X56i11 X56i12 X56i13 X56i14 X56i15 X56i16 X56i17 X56i18 X56i19\n",
       "103031      .      .      .      .      .      .      .      .      .      .\n",
       "103032      .      .      .      .      .      .      .      .      .      .\n",
       "103039      .      .      .      .      .      .      .      .      .      .\n",
       "       X56i20 X56i21 X57 X57i1 X58 X58i1 X58i2 X58i3 X58i4 X58i5 X58i6 X58i7\n",
       "103031      .      .   G     .   A     .     .     .     .     .     .     .\n",
       "103032      .      .   G     .   A     .     .     .     .     .     .     .\n",
       "103039      .      .   G     .   A     .     .     .     .     .     .     .\n",
       "       X58i8 X58i9 X58i10 X58i11 X58i12 X58i13 X58i14 X58i15 X58i16 X58i17 X59\n",
       "103031     .     .      .      .      .      .      .      .      .      .   G\n",
       "103032     .     .      .      .      .      .      .      .      .      .   G\n",
       "103039     .     .      .      .      .      .      .      .      .      .   G\n",
       "       X59i1 X59i2 X59i3 X59i4 X60 X60i1 X60i2 X61 X61i1 X62 X63 X64 X64i1\n",
       "103031     .     .     .     .   C     .     .   C     .   U   C   A     .\n",
       "103032     .     .     .     .   C     .     .   C     .   U   C   A     .\n",
       "103039     .     .     .     .   C     .     .   C     .   U   C   A     .\n",
       "       X64i2 X64i3 X64i4 X64i5 X64i6 X65 X65i1 X65i2 X65i3 X65i4 X65i5 X65i6\n",
       "103031     .     .     .     .     .   C     .     .     .     .     .     .\n",
       "103032     .     .     .     .     .   C     .     .     .     .     .     .\n",
       "103039     .     .     .     .     .   C     .     .     .     .     .     .\n",
       "       X65i7 X65i8 X65i9 X65i10 X65i11 X65i12 X66 X66i1 X67 X67i1 X67i2 X68\n",
       "103031     .     .     .      .      .      .   U     .   A     .     .   C\n",
       "103032     .     .     .      .      .      .   U     .   A     .     .   C\n",
       "103039     .     .     .      .      .      .   U     .   A     .     .   C\n",
       "       X68i1 X68i2 X68i3 X68i4 X68i5 X68i6 X68i7 X68i8 X68i9 X68i10 X68i11 X69\n",
       "103031     .     .     .     .     .     .     .     .     .      .      .   G\n",
       "103032     .     .     .     .     .     .     .     .     .      .      .   G\n",
       "103039     .     .     .     .     .     .     .     .     .      .      .   G\n",
       "       X69i1 X70 X70i1 X70i2 X70i3 X70i4 X70i5 X70i6 X70i7 X70i8 X70i9 X70i10\n",
       "103031     .   A     .     .     .     .     .     .     .     .     .      .\n",
       "103032     .   A     .     .     .     .     .     .     .     .     .      .\n",
       "103039     .   A     .     .     .     .     .     .     .     .     .      .\n",
       "       X70i11 X71 X71i1 X71i2 X71i3 X71i4 X71i5 X72 X73\n",
       "103031      .   G     .     .     .     .     .   C   A\n",
       "103032      .   G     .     .     .     .     .   C   A\n",
       "103039      .   G     .     .     .     .     .   C   A"
      ]
     },
     "execution_count": 93,
     "metadata": {},
     "output_type": "execute_result"
    }
   ],
   "source": [
    "identities[identities$clade == \"Fungi\" & identities$isotype_ac == \"Met\" & identities$species == \"schiPomb_972H\", ]"
   ]
  },
  {
   "cell_type": "markdown",
   "metadata": {},
   "source": [
    "## D26, D44, 26:44\n",
    "\n",
    "M&G don't say much about this. Our data show a near-universal consensus for anything but C at these positions. In [tertiary-interactions](../tertiary-interactions.ipynb) I show that this is most commonly G26:A44 (about half of tRNAs), but it's not a strong identity element.\n",
    "\n",
    "## 27:43\n",
    "\n",
    "## Y32, H38\n",
    "\n",
    "M&G: WC pairs rare at 32:38, but there tends to be a weak pairing here for a more stable AC stem-loop. Auffinger and Westhof (1999) showcase a variety of weak pairings (e.g., single hydrogen bond).\n",
    "\n",
    "Giegé lists C38 as a determinant for Asp across the domains. This is confirmed, but clearly a ton of other tRNAs also have a conserved position 38."
   ]
  },
  {
   "cell_type": "code",
   "execution_count": 167,
   "metadata": {
    "collapsed": false
   },
   "outputs": [
    {
     "data": {
      "text/html": [
       "<table>\n",
       "<thead><tr><th></th><th scope=col>positions</th><th scope=col>variable</th><th scope=col>count</th><th scope=col>freq</th></tr></thead>\n",
       "<tbody>\n",
       "\t<tr><th scope=row>1</th><td>X32</td><td>A</td><td>32</td><td>0.0006883645</td></tr>\n",
       "\t<tr><th scope=row>2</th><td>X32</td><td>C</td><td>32947</td><td>0.7087358</td></tr>\n",
       "\t<tr><th scope=row>3</th><td>X32</td><td>G</td><td>55</td><td>0.001183126</td></tr>\n",
       "\t<tr><th scope=row>4</th><td>X32</td><td>U</td><td>13453</td><td>0.2893927</td></tr>\n",
       "\t<tr><th scope=row>5</th><td>X32</td><td>Pyrimidine</td><td>46400</td><td>0.9981285</td></tr>\n",
       "\t<tr><th scope=row>6</th><td>X32</td><td>B</td><td>46455</td><td>0.9993116</td></tr>\n",
       "\t<tr><th scope=row>7</th><td>X32</td><td>H</td><td>46432</td><td>0.9988169</td></tr>\n",
       "\t<tr><th scope=row>8</th><td>X38</td><td>A</td><td>26934</td><td>0.5793878</td></tr>\n",
       "\t<tr><th scope=row>9</th><td>X38</td><td>C</td><td>10835</td><td>0.2330759</td></tr>\n",
       "\t<tr><th scope=row>10</th><td>X38</td><td>G</td><td>42</td><td>0.0009034784</td></tr>\n",
       "\t<tr><th scope=row>11</th><td>X38</td><td>U</td><td>8675</td><td>0.1866113</td></tr>\n",
       "\t<tr><th scope=row>12</th><td>X38</td><td>H</td><td>46444</td><td>0.999075</td></tr>\n",
       "</tbody>\n",
       "</table>\n"
      ],
      "text/latex": [
       "\\begin{tabular}{r|llll}\n",
       "  & positions & variable & count & freq\\\\\n",
       "\\hline\n",
       "\t1 & X32 & A & 32 & 0.0006883645\\\\\n",
       "\t2 & X32 & C & 32947 & 0.7087358\\\\\n",
       "\t3 & X32 & G & 55 & 0.001183126\\\\\n",
       "\t4 & X32 & U & 13453 & 0.2893927\\\\\n",
       "\t5 & X32 & Pyrimidine & 46400 & 0.9981285\\\\\n",
       "\t6 & X32 & B & 46455 & 0.9993116\\\\\n",
       "\t7 & X32 & H & 46432 & 0.9988169\\\\\n",
       "\t8 & X38 & A & 26934 & 0.5793878\\\\\n",
       "\t9 & X38 & C & 10835 & 0.2330759\\\\\n",
       "\t10 & X38 & G & 42 & 0.0009034784\\\\\n",
       "\t11 & X38 & U & 8675 & 0.1866113\\\\\n",
       "\t12 & X38 & H & 46444 & 0.999075\\\\\n",
       "\\end{tabular}\n"
      ],
      "text/plain": [
       "Source: local data frame [12 x 4]\n",
       "Groups: positions [2]\n",
       "\n",
       "   positions   variable count         freq\n",
       "       <chr>     <fctr> <int>        <dbl>\n",
       "1        X32          A    32 0.0006883645\n",
       "2        X32          C 32947 0.7087357756\n",
       "3        X32          G    55 0.0011831265\n",
       "4        X32          U 13453 0.2893927335\n",
       "5        X32 Pyrimidine 46400 0.9981285090\n",
       "6        X32          B 46455 0.9993116355\n",
       "7        X32          H 46432 0.9988168735\n",
       "8        X38          A 26934 0.5793877858\n",
       "9        X38          C 10835 0.2330759137\n",
       "10       X38          G    42 0.0009034784\n",
       "11       X38          U  8675 0.1866113107\n",
       "12       X38          H 46444 0.9990750102"
      ]
     },
     "execution_count": 167,
     "metadata": {},
     "output_type": "execute_result"
    },
    {
     "data": {
      "text/html": [
       "<table>\n",
       "<thead><tr><th></th><th scope=col>positions</th><th scope=col>isotype</th><th scope=col>variable</th><th scope=col>count</th><th scope=col>freq</th></tr></thead>\n",
       "<tbody>\n",
       "\t<tr><th scope=row>1</th><td>X38</td><td>Asn</td><td>A</td><td>1744</td><td>0.9971412</td></tr>\n",
       "\t<tr><th scope=row>2</th><td>X38</td><td>Asp</td><td>C</td><td>1911</td><td>0.9958312</td></tr>\n",
       "\t<tr><th scope=row>3</th><td>X38</td><td>Cys</td><td>A</td><td>1868</td><td>0.9841939</td></tr>\n",
       "\t<tr><th scope=row>4</th><td>X38</td><td>Glu</td><td>C</td><td>2508</td><td>0.9893491</td></tr>\n",
       "\t<tr><th scope=row>5</th><td>X38</td><td>His</td><td>C</td><td>1107</td><td>0.9659686</td></tr>\n",
       "\t<tr><th scope=row>6</th><td>X38</td><td>Ile</td><td>A</td><td>2174</td><td>0.9967905</td></tr>\n",
       "\t<tr><th scope=row>7</th><td>X38</td><td>iMet</td><td>A</td><td>1172</td><td>1</td></tr>\n",
       "\t<tr><th scope=row>8</th><td>X38</td><td>Lys</td><td>A</td><td>3105</td><td>0.9967897</td></tr>\n",
       "\t<tr><th scope=row>9</th><td>X38</td><td>Met</td><td>A</td><td>1123</td><td>0.9964508</td></tr>\n",
       "\t<tr><th scope=row>10</th><td>X38</td><td>Phe</td><td>A</td><td>1378</td><td>0.9711064</td></tr>\n",
       "\t<tr><th scope=row>11</th><td>X38</td><td>Pro</td><td>U</td><td>2412</td><td>0.9950495</td></tr>\n",
       "\t<tr><th scope=row>12</th><td>X38</td><td>Ser</td><td>A</td><td>3239</td><td>0.9941682</td></tr>\n",
       "\t<tr><th scope=row>13</th><td>X38</td><td>Thr</td><td>A</td><td>2445</td><td>0.9991827</td></tr>\n",
       "\t<tr><th scope=row>14</th><td>X38</td><td>Trp</td><td>A</td><td>1012</td><td>0.9853944</td></tr>\n",
       "\t<tr><th scope=row>15</th><td>X38</td><td>Tyr</td><td>A</td><td>1457</td><td>0.9938608</td></tr>\n",
       "\t<tr><th scope=row>16</th><td>X38</td><td>Val</td><td>C</td><td>2730</td><td>0.9841384</td></tr>\n",
       "</tbody>\n",
       "</table>\n"
      ],
      "text/latex": [
       "\\begin{tabular}{r|lllll}\n",
       "  & positions & isotype & variable & count & freq\\\\\n",
       "\\hline\n",
       "\t1 & X38 & Asn & A & 1744 & 0.9971412\\\\\n",
       "\t2 & X38 & Asp & C & 1911 & 0.9958312\\\\\n",
       "\t3 & X38 & Cys & A & 1868 & 0.9841939\\\\\n",
       "\t4 & X38 & Glu & C & 2508 & 0.9893491\\\\\n",
       "\t5 & X38 & His & C & 1107 & 0.9659686\\\\\n",
       "\t6 & X38 & Ile & A & 2174 & 0.9967905\\\\\n",
       "\t7 & X38 & iMet & A & 1172 & 1\\\\\n",
       "\t8 & X38 & Lys & A & 3105 & 0.9967897\\\\\n",
       "\t9 & X38 & Met & A & 1123 & 0.9964508\\\\\n",
       "\t10 & X38 & Phe & A & 1378 & 0.9711064\\\\\n",
       "\t11 & X38 & Pro & U & 2412 & 0.9950495\\\\\n",
       "\t12 & X38 & Ser & A & 3239 & 0.9941682\\\\\n",
       "\t13 & X38 & Thr & A & 2445 & 0.9991827\\\\\n",
       "\t14 & X38 & Trp & A & 1012 & 0.9853944\\\\\n",
       "\t15 & X38 & Tyr & A & 1457 & 0.9938608\\\\\n",
       "\t16 & X38 & Val & C & 2730 & 0.9841384\\\\\n",
       "\\end{tabular}\n"
      ],
      "text/plain": [
       "Source: local data frame [16 x 5]\n",
       "Groups: positions, isotype [16]\n",
       "\n",
       "   positions isotype variable count      freq\n",
       "       <chr>   <chr>   <fctr> <int>     <dbl>\n",
       "1        X38     Asn        A  1744 0.9971412\n",
       "2        X38     Asp        C  1911 0.9958312\n",
       "3        X38     Cys        A  1868 0.9841939\n",
       "4        X38     Glu        C  2508 0.9893491\n",
       "5        X38     His        C  1107 0.9659686\n",
       "6        X38     Ile        A  2174 0.9967905\n",
       "7        X38    iMet        A  1172 1.0000000\n",
       "8        X38     Lys        A  3105 0.9967897\n",
       "9        X38     Met        A  1123 0.9964508\n",
       "10       X38     Phe        A  1378 0.9711064\n",
       "11       X38     Pro        U  2412 0.9950495\n",
       "12       X38     Ser        A  3239 0.9941682\n",
       "13       X38     Thr        A  2445 0.9991827\n",
       "14       X38     Trp        A  1012 0.9853944\n",
       "15       X38     Tyr        A  1457 0.9938608\n",
       "16       X38     Val        C  2730 0.9841384"
      ]
     },
     "execution_count": 167,
     "metadata": {},
     "output_type": "execute_result"
    }
   ],
   "source": [
    "clade_iso_ac_freqs %>% filter(positions %in% c(\"X32\", \"X38\")) %>% \n",
    "  group_by(positions, variable) %>% \n",
    "  summarize(count=sum(value), freq=sum(value)/sum(total)) %>%\n",
    "  filter(freq > 0.95 | variable %in% c(\"A\", \"C\", \"G\", \"U\"))\n",
    "\n",
    "clade_iso_ac_freqs %>% filter(positions == \"X38\") %>% \n",
    "  group_by(positions, isotype, variable) %>% \n",
    "  summarize(count=sum(value), freq=sum(value)/sum(total)) %>% \n",
    "  filter(freq > 0.95 & variable %in% c(\"A\", \"C\", \"G\", \"U\"))"
   ]
  },
  {
   "cell_type": "markdown",
   "metadata": {},
   "source": [
    "## U33\n",
    "\n",
    "M&G: Strong U33 IDE. Exceptions exist. This is reflected clearly in our data.\n",
    "\n",
    "## R37\n",
    "\n",
    "34, 35, and 36 are the anticodon, and 37 is known as the base before the intron. Thus, it should be conserved as it is needed for splice site recognition. M&G note that it is almost always a purine. Giegé et al. list Leu-G37 and Phe-A37 as determinants. While Giegé et al. are correct about Leu-G37, Phenylalanine typically contains G37 too. Like with position 38, many other isotypes have their own preferences, with 15 above 95% frequency.\n",
    "\n",
    "Overall, our data show that 70% of the time, it's an A, only slightly higher than in M&G, where the ratio was closer to 2:1. "
   ]
  },
  {
   "cell_type": "code",
   "execution_count": 168,
   "metadata": {
    "collapsed": false
   },
   "outputs": [
    {
     "data": {
      "text/html": [
       "<table>\n",
       "<thead><tr><th></th><th scope=col>positions</th><th scope=col>variable</th><th scope=col>count</th><th scope=col>freq</th></tr></thead>\n",
       "<tbody>\n",
       "\t<tr><th scope=row>1</th><td>X37</td><td>A</td><td>32353</td><td>0.695958</td></tr>\n",
       "\t<tr><th scope=row>2</th><td>X37</td><td>C</td><td>27</td><td>0.0005808075</td></tr>\n",
       "\t<tr><th scope=row>3</th><td>X37</td><td>G</td><td>14085</td><td>0.3029879</td></tr>\n",
       "\t<tr><th scope=row>4</th><td>X37</td><td>U</td><td>22</td><td>0.0004732506</td></tr>\n",
       "</tbody>\n",
       "</table>\n"
      ],
      "text/latex": [
       "\\begin{tabular}{r|llll}\n",
       "  & positions & variable & count & freq\\\\\n",
       "\\hline\n",
       "\t1 & X37 & A & 32353 & 0.695958\\\\\n",
       "\t2 & X37 & C & 27 & 0.0005808075\\\\\n",
       "\t3 & X37 & G & 14085 & 0.3029879\\\\\n",
       "\t4 & X37 & U & 22 & 0.0004732506\\\\\n",
       "\\end{tabular}\n"
      ],
      "text/plain": [
       "Source: local data frame [4 x 4]\n",
       "Groups: positions [1]\n",
       "\n",
       "  positions variable count         freq\n",
       "      <chr>   <fctr> <int>        <dbl>\n",
       "1       X37        A 32353 0.6959580098\n",
       "2       X37        C    27 0.0005808075\n",
       "3       X37        G 14085 0.3029879321\n",
       "4       X37        U    22 0.0004732506"
      ]
     },
     "execution_count": 168,
     "metadata": {},
     "output_type": "execute_result"
    },
    {
     "data": {
      "text/html": [
       "<table>\n",
       "<thead><tr><th></th><th scope=col>positions</th><th scope=col>isotype</th><th scope=col>variable</th><th scope=col>count</th><th scope=col>freq</th></tr></thead>\n",
       "<tbody>\n",
       "\t<tr><th scope=row>1</th><td>X37</td><td>Ala</td><td>A</td><td>3303</td><td>0.9978852</td></tr>\n",
       "\t<tr><th scope=row>2</th><td>X37</td><td>Asn</td><td>A</td><td>1746</td><td>0.9982847</td></tr>\n",
       "\t<tr><th scope=row>3</th><td>X37</td><td>Cys</td><td>G</td><td>1739</td><td>0.9162276</td></tr>\n",
       "\t<tr><th scope=row>4</th><td>X37</td><td>Gln</td><td>A</td><td>1854</td><td>0.9994609</td></tr>\n",
       "\t<tr><th scope=row>5</th><td>X37</td><td>Glu</td><td>A</td><td>2524</td><td>0.9956607</td></tr>\n",
       "\t<tr><th scope=row>6</th><td>X37</td><td>Gly</td><td>A</td><td>3154</td><td>0.9990497</td></tr>\n",
       "\t<tr><th scope=row>7</th><td>X37</td><td>His</td><td>G</td><td>1145</td><td>0.9991274</td></tr>\n",
       "\t<tr><th scope=row>8</th><td>X37</td><td>Ile</td><td>A</td><td>2105</td><td>0.9651536</td></tr>\n",
       "\t<tr><th scope=row>9</th><td>X37</td><td>iMet</td><td>A</td><td>1172</td><td>1</td></tr>\n",
       "\t<tr><th scope=row>10</th><td>X37</td><td>Leu</td><td>G</td><td>3216</td><td>0.9950495</td></tr>\n",
       "\t<tr><th scope=row>11</th><td>X37</td><td>Lys</td><td>A</td><td>3069</td><td>0.9852327</td></tr>\n",
       "\t<tr><th scope=row>12</th><td>X37</td><td>Met</td><td>A</td><td>1126</td><td>0.9991127</td></tr>\n",
       "\t<tr><th scope=row>13</th><td>X37</td><td>Phe</td><td>G</td><td>1402</td><td>0.9880197</td></tr>\n",
       "\t<tr><th scope=row>14</th><td>X37</td><td>Pro</td><td>G</td><td>2419</td><td>0.9979373</td></tr>\n",
       "\t<tr><th scope=row>15</th><td>X37</td><td>Ser</td><td>A</td><td>3253</td><td>0.9984653</td></tr>\n",
       "\t<tr><th scope=row>16</th><td>X37</td><td>Thr</td><td>A</td><td>2444</td><td>0.998774</td></tr>\n",
       "\t<tr><th scope=row>17</th><td>X37</td><td>Trp</td><td>G</td><td>975</td><td>0.9493671</td></tr>\n",
       "\t<tr><th scope=row>18</th><td>X37</td><td>Val</td><td>A</td><td>2754</td><td>0.9927902</td></tr>\n",
       "</tbody>\n",
       "</table>\n"
      ],
      "text/latex": [
       "\\begin{tabular}{r|lllll}\n",
       "  & positions & isotype & variable & count & freq\\\\\n",
       "\\hline\n",
       "\t1 & X37 & Ala & A & 3303 & 0.9978852\\\\\n",
       "\t2 & X37 & Asn & A & 1746 & 0.9982847\\\\\n",
       "\t3 & X37 & Cys & G & 1739 & 0.9162276\\\\\n",
       "\t4 & X37 & Gln & A & 1854 & 0.9994609\\\\\n",
       "\t5 & X37 & Glu & A & 2524 & 0.9956607\\\\\n",
       "\t6 & X37 & Gly & A & 3154 & 0.9990497\\\\\n",
       "\t7 & X37 & His & G & 1145 & 0.9991274\\\\\n",
       "\t8 & X37 & Ile & A & 2105 & 0.9651536\\\\\n",
       "\t9 & X37 & iMet & A & 1172 & 1\\\\\n",
       "\t10 & X37 & Leu & G & 3216 & 0.9950495\\\\\n",
       "\t11 & X37 & Lys & A & 3069 & 0.9852327\\\\\n",
       "\t12 & X37 & Met & A & 1126 & 0.9991127\\\\\n",
       "\t13 & X37 & Phe & G & 1402 & 0.9880197\\\\\n",
       "\t14 & X37 & Pro & G & 2419 & 0.9979373\\\\\n",
       "\t15 & X37 & Ser & A & 3253 & 0.9984653\\\\\n",
       "\t16 & X37 & Thr & A & 2444 & 0.998774\\\\\n",
       "\t17 & X37 & Trp & G & 975 & 0.9493671\\\\\n",
       "\t18 & X37 & Val & A & 2754 & 0.9927902\\\\\n",
       "\\end{tabular}\n"
      ],
      "text/plain": [
       "Source: local data frame [18 x 5]\n",
       "Groups: positions, isotype [18]\n",
       "\n",
       "   positions isotype variable count      freq\n",
       "       <chr>   <chr>   <fctr> <int>     <dbl>\n",
       "1        X37     Ala        A  3303 0.9978852\n",
       "2        X37     Asn        A  1746 0.9982847\n",
       "3        X37     Cys        G  1739 0.9162276\n",
       "4        X37     Gln        A  1854 0.9994609\n",
       "5        X37     Glu        A  2524 0.9956607\n",
       "6        X37     Gly        A  3154 0.9990497\n",
       "7        X37     His        G  1145 0.9991274\n",
       "8        X37     Ile        A  2105 0.9651536\n",
       "9        X37    iMet        A  1172 1.0000000\n",
       "10       X37     Leu        G  3216 0.9950495\n",
       "11       X37     Lys        A  3069 0.9852327\n",
       "12       X37     Met        A  1126 0.9991127\n",
       "13       X37     Phe        G  1402 0.9880197\n",
       "14       X37     Pro        G  2419 0.9979373\n",
       "15       X37     Ser        A  3253 0.9984653\n",
       "16       X37     Thr        A  2444 0.9987740\n",
       "17       X37     Trp        G   975 0.9493671\n",
       "18       X37     Val        A  2754 0.9927902"
      ]
     },
     "execution_count": 168,
     "metadata": {},
     "output_type": "execute_result"
    }
   ],
   "source": [
    "clade_iso_ac_freqs %>% filter(positions == \"X37\") %>% \n",
    "  group_by(positions, variable) %>% \n",
    "  summarize(count=sum(value), freq=sum(value)/sum(total)) %>% \n",
    "  filter(variable %in% c(\"A\", \"C\", \"G\", \"U\"))\n",
    "\n",
    "clade_iso_ac_freqs %>% filter(positions == \"X37\") %>% \n",
    "  group_by(positions, isotype, variable) %>% \n",
    "  summarize(count=sum(value), freq=sum(value)/sum(total)) %>% \n",
    "  filter(variable %in% c(\"A\", \"C\", \"G\", \"U\") & freq > 0.9)"
   ]
  },
  {
   "cell_type": "markdown",
   "metadata": {},
   "source": [
    "## R46, Y48\n",
    "\n",
    "These two are relatively unknown and not talked about. Could be new identity elements. What could 46/48 be used for? A long variable loop exists in Type II tRNAs and is surmised to happen at position 47. "
   ]
  },
  {
   "cell_type": "code",
   "execution_count": 169,
   "metadata": {
    "collapsed": false
   },
   "outputs": [
    {
     "data": {
      "text/html": [
       "<table>\n",
       "<thead><tr><th></th><th scope=col>positions</th><th scope=col>variable</th><th scope=col>count</th><th scope=col>freq</th></tr></thead>\n",
       "<tbody>\n",
       "\t<tr><th scope=row>1</th><td>X46</td><td>A</td><td>6464</td><td>0.1390496</td></tr>\n",
       "\t<tr><th scope=row>2</th><td>X46</td><td>C</td><td>47</td><td>0.001011035</td></tr>\n",
       "\t<tr><th scope=row>3</th><td>X46</td><td>G</td><td>39711</td><td>0.8542388</td></tr>\n",
       "\t<tr><th scope=row>4</th><td>X46</td><td>U</td><td>241</td><td>0.005184245</td></tr>\n",
       "\t<tr><th scope=row>5</th><td>X48</td><td>A</td><td>995</td><td>0.02140429</td></tr>\n",
       "\t<tr><th scope=row>6</th><td>X48</td><td>C</td><td>37456</td><td>0.805748</td></tr>\n",
       "\t<tr><th scope=row>7</th><td>X48</td><td>G</td><td>133</td><td>0.002861076</td></tr>\n",
       "\t<tr><th scope=row>8</th><td>X48</td><td>U</td><td>7899</td><td>0.1699221</td></tr>\n",
       "</tbody>\n",
       "</table>\n"
      ],
      "text/latex": [
       "\\begin{tabular}{r|llll}\n",
       "  & positions & variable & count & freq\\\\\n",
       "\\hline\n",
       "\t1 & X46 & A & 6464 & 0.1390496\\\\\n",
       "\t2 & X46 & C & 47 & 0.001011035\\\\\n",
       "\t3 & X46 & G & 39711 & 0.8542388\\\\\n",
       "\t4 & X46 & U & 241 & 0.005184245\\\\\n",
       "\t5 & X48 & A & 995 & 0.02140429\\\\\n",
       "\t6 & X48 & C & 37456 & 0.805748\\\\\n",
       "\t7 & X48 & G & 133 & 0.002861076\\\\\n",
       "\t8 & X48 & U & 7899 & 0.1699221\\\\\n",
       "\\end{tabular}\n"
      ],
      "text/plain": [
       "Source: local data frame [8 x 4]\n",
       "Groups: positions [2]\n",
       "\n",
       "  positions variable count        freq\n",
       "      <chr>   <fctr> <int>       <dbl>\n",
       "1       X46        A  6464 0.139049627\n",
       "2       X46        C    47 0.001011035\n",
       "3       X46        G 39711 0.854238819\n",
       "4       X46        U   241 0.005184245\n",
       "5       X48        A   995 0.021404294\n",
       "6       X48        C 37456 0.805747967\n",
       "7       X48        G   133 0.002861076\n",
       "8       X48        U  7899 0.169922127"
      ]
     },
     "execution_count": 169,
     "metadata": {},
     "output_type": "execute_result"
    }
   ],
   "source": [
    "clade_iso_ac_freqs %>% filter(positions %in% c(\"X46\", \"X48\")) %>%\n",
    "  group_by(positions, variable) %>% \n",
    "  summarize(count=sum(value), freq=sum(value)/sum(total)) %>% \n",
    "  filter(variable %in% c(\"A\", \"C\", \"G\", \"U\"))"
   ]
  },
  {
   "cell_type": "markdown",
   "metadata": {},
   "source": [
    "There's a difference between Type I and Type II tRNAs here. Something fishy is going on..."
   ]
  },
  {
   "cell_type": "code",
   "execution_count": 175,
   "metadata": {
    "collapsed": false
   },
   "outputs": [
    {
     "data": {
      "text/html": [
       "<table>\n",
       "<thead><tr><th></th><th scope=col>positions</th><th scope=col>Type</th><th scope=col>variable</th><th scope=col>count</th><th scope=col>freq</th></tr></thead>\n",
       "<tbody>\n",
       "\t<tr><th scope=row>1</th><td>X46</td><td>I</td><td>G</td><td>33535</td><td>0.8384379</td></tr>\n",
       "\t<tr><th scope=row>2</th><td>X46</td><td>II</td><td>G</td><td>6176</td><td>0.9516179</td></tr>\n",
       "\t<tr><th scope=row>3</th><td>X48</td><td>I</td><td>C</td><td>31045</td><td>0.7762026</td></tr>\n",
       "\t<tr><th scope=row>4</th><td>X48</td><td>II</td><td>C</td><td>6411</td><td>0.9878274</td></tr>\n",
       "</tbody>\n",
       "</table>\n"
      ],
      "text/latex": [
       "\\begin{tabular}{r|lllll}\n",
       "  & positions & Type & variable & count & freq\\\\\n",
       "\\hline\n",
       "\t1 & X46 & I & G & 33535 & 0.8384379\\\\\n",
       "\t2 & X46 & II & G & 6176 & 0.9516179\\\\\n",
       "\t3 & X48 & I & C & 31045 & 0.7762026\\\\\n",
       "\t4 & X48 & II & C & 6411 & 0.9878274\\\\\n",
       "\\end{tabular}\n"
      ],
      "text/plain": [
       "Source: local data frame [4 x 5]\n",
       "Groups: positions, Type [4]\n",
       "\n",
       "  positions  Type variable count      freq\n",
       "      <chr> <chr>   <fctr> <int>     <dbl>\n",
       "1       X46     I        G 33535 0.8384379\n",
       "2       X46    II        G  6176 0.9516179\n",
       "3       X48     I        C 31045 0.7762026\n",
       "4       X48    II        C  6411 0.9878274"
      ]
     },
     "execution_count": 175,
     "metadata": {},
     "output_type": "execute_result"
    }
   ],
   "source": [
    "clade_iso_ac_freqs %>% filter(positions %in% c(\"X46\", \"X48\")) %>%\n",
    "  mutate(Type=ifelse(isotype %in% c(\"Ser\", \"Leu\"), \"II\", \"I\")) %>%\n",
    "  group_by(positions, Type, variable) %>% \n",
    "  summarize(count=sum(value), freq=sum(value)/sum(total)) %>% \n",
    "  filter(variable %in% c(\"A\", \"C\", \"G\", \"U\") & freq > 0.5)"
   ]
  },
  {
   "cell_type": "markdown",
   "metadata": {
    "collapsed": true
   },
   "source": [
    "## 49:65, 53:61\n",
    "\n",
    "M&G: The stem after 49:65 is enriched for G-C pairs. G53:C61 is the canonical base pair here, though others, especially A53:U61 are sometimes observed.\n",
    "\n",
    "I would not characterize G53:C61 as \"highly conserved\" as they do. A G-U pair is evidently acceptable in 35% of tRNAs."
   ]
  },
  {
   "cell_type": "code",
   "execution_count": 180,
   "metadata": {
    "collapsed": false
   },
   "outputs": [
    {
     "data": {
      "text/html": [
       "<table>\n",
       "<thead><tr><th></th><th scope=col>positions</th><th scope=col>variable</th><th scope=col>count</th><th scope=col>freq</th></tr></thead>\n",
       "<tbody>\n",
       "\t<tr><th scope=row>1</th><td>X49.65</td><td>GC</td><td>16630</td><td>0.3577498</td></tr>\n",
       "\t<tr><th scope=row>2</th><td>X49.65</td><td>CG</td><td>22478</td><td>0.4835538</td></tr>\n",
       "\t<tr><th scope=row>3</th><td>X49.65</td><td>PurinePyrimidine</td><td>19477</td><td>0.4189954</td></tr>\n",
       "\t<tr><th scope=row>4</th><td>X49.65</td><td>PyrimidinePurine</td><td>23288</td><td>0.5009788</td></tr>\n",
       "\t<tr><th scope=row>5</th><td>X49.65</td><td>StrongPair</td><td>39108</td><td>0.8413036</td></tr>\n",
       "\t<tr><th scope=row>6</th><td>X49.65</td><td>Paired</td><td>46199</td><td>0.9938475</td></tr>\n",
       "\t<tr><th scope=row>7</th><td>X53.61</td><td>GC</td><td>28405</td><td>0.6110442</td></tr>\n",
       "\t<tr><th scope=row>8</th><td>X53.61</td><td>GU</td><td>16661</td><td>0.358409</td></tr>\n",
       "\t<tr><th scope=row>9</th><td>X53.61</td><td>PurinePyrimidine</td><td>28437</td><td>0.6117326</td></tr>\n",
       "\t<tr><th scope=row>10</th><td>X53.61</td><td>StrongPair</td><td>28405</td><td>0.6110442</td></tr>\n",
       "\t<tr><th scope=row>11</th><td>X53.61</td><td>Wobble</td><td>16661</td><td>0.358409</td></tr>\n",
       "\t<tr><th scope=row>12</th><td>X53.61</td><td>Paired</td><td>45122</td><td>0.9706578</td></tr>\n",
       "</tbody>\n",
       "</table>\n"
      ],
      "text/latex": [
       "\\begin{tabular}{r|llll}\n",
       "  & positions & variable & count & freq\\\\\n",
       "\\hline\n",
       "\t1 & X49.65 & GC & 16630 & 0.3577498\\\\\n",
       "\t2 & X49.65 & CG & 22478 & 0.4835538\\\\\n",
       "\t3 & X49.65 & PurinePyrimidine & 19477 & 0.4189954\\\\\n",
       "\t4 & X49.65 & PyrimidinePurine & 23288 & 0.5009788\\\\\n",
       "\t5 & X49.65 & StrongPair & 39108 & 0.8413036\\\\\n",
       "\t6 & X49.65 & Paired & 46199 & 0.9938475\\\\\n",
       "\t7 & X53.61 & GC & 28405 & 0.6110442\\\\\n",
       "\t8 & X53.61 & GU & 16661 & 0.358409\\\\\n",
       "\t9 & X53.61 & PurinePyrimidine & 28437 & 0.6117326\\\\\n",
       "\t10 & X53.61 & StrongPair & 28405 & 0.6110442\\\\\n",
       "\t11 & X53.61 & Wobble & 16661 & 0.358409\\\\\n",
       "\t12 & X53.61 & Paired & 45122 & 0.9706578\\\\\n",
       "\\end{tabular}\n"
      ],
      "text/plain": [
       "Source: local data frame [12 x 4]\n",
       "Groups: positions [2]\n",
       "\n",
       "   positions         variable count      freq\n",
       "       <chr>           <fctr> <int>     <dbl>\n",
       "1     X49.65               GC 16630 0.3577498\n",
       "2     X49.65               CG 22478 0.4835538\n",
       "3     X49.65 PurinePyrimidine 19477 0.4189954\n",
       "4     X49.65 PyrimidinePurine 23288 0.5009788\n",
       "5     X49.65       StrongPair 39108 0.8413036\n",
       "6     X49.65           Paired 46199 0.9938475\n",
       "7     X53.61               GC 28405 0.6110442\n",
       "8     X53.61               GU 16661 0.3584090\n",
       "9     X53.61 PurinePyrimidine 28437 0.6117326\n",
       "10    X53.61       StrongPair 28405 0.6110442\n",
       "11    X53.61           Wobble 16661 0.3584090\n",
       "12    X53.61           Paired 45122 0.9706578"
      ]
     },
     "execution_count": 180,
     "metadata": {},
     "output_type": "execute_result"
    }
   ],
   "source": [
    "clade_iso_ac_freqs %>% \n",
    "  filter(positions %in% c(\"X49.65\", \"X53.61\")) %>% \n",
    "  group_by(positions, variable) %>% \n",
    "  summarize(count=sum(value), freq=sum(value)/sum(total)) %>% \n",
    "  filter(freq > 0.1)"
   ]
  },
  {
   "cell_type": "markdown",
   "metadata": {},
   "source": [
    "## U54, A58, 54:58\n",
    "\n",
    "Base 54 is what the T$\\Psi$C loop is named for. Nothing surprising here. M&G note some exceptions, such as in initiator methionine, so our frequencies are listed below.\n",
    "\n",
    "Base 58 is typically modified into m$^1$A, so this is also expected to be conserved. M&G claim there is no exception to A58. As with many of the previously determined \"consensus\" identity elements, the exceptions found in our data may be tRNAs that sneaked past our quality, species restricted, and score filters.\n"
   ]
  },
  {
   "cell_type": "code",
   "execution_count": 189,
   "metadata": {
    "collapsed": false
   },
   "outputs": [
    {
     "data": {
      "text/html": [
       "<table>\n",
       "<thead><tr><th></th><th scope=col>positions</th><th scope=col>Type</th><th scope=col>variable</th><th scope=col>count</th><th scope=col>freq</th></tr></thead>\n",
       "<tbody>\n",
       "\t<tr><th scope=row>1</th><td>X54</td><td>Elongator</td><td>U</td><td>44250</td><td>0.9764978</td></tr>\n",
       "\t<tr><th scope=row>2</th><td>X54</td><td>Initiator</td><td>A</td><td>1169</td><td>0.9974403</td></tr>\n",
       "\t<tr><th scope=row>3</th><td>X54.58</td><td>Elongator</td><td>UA</td><td>44066</td><td>0.9724588</td></tr>\n",
       "\t<tr><th scope=row>4</th><td>X54.58</td><td>Initiator</td><td>Mismatched</td><td>1170</td><td>0.9982935</td></tr>\n",
       "\t<tr><th scope=row>5</th><td>X58</td><td>Elongator</td><td>A</td><td>45119</td><td>0.9956967</td></tr>\n",
       "\t<tr><th scope=row>6</th><td>X58</td><td>Initiator</td><td>A</td><td>1172</td><td>1</td></tr>\n",
       "</tbody>\n",
       "</table>\n"
      ],
      "text/latex": [
       "\\begin{tabular}{r|lllll}\n",
       "  & positions & Type & variable & count & freq\\\\\n",
       "\\hline\n",
       "\t1 & X54 & Elongator & U & 44250 & 0.9764978\\\\\n",
       "\t2 & X54 & Initiator & A & 1169 & 0.9974403\\\\\n",
       "\t3 & X54.58 & Elongator & UA & 44066 & 0.9724588\\\\\n",
       "\t4 & X54.58 & Initiator & Mismatched & 1170 & 0.9982935\\\\\n",
       "\t5 & X58 & Elongator & A & 45119 & 0.9956967\\\\\n",
       "\t6 & X58 & Initiator & A & 1172 & 1\\\\\n",
       "\\end{tabular}\n"
      ],
      "text/plain": [
       "Source: local data frame [6 x 5]\n",
       "Groups: positions, Type [6]\n",
       "\n",
       "  positions      Type   variable count      freq\n",
       "      <chr>     <chr>     <fctr> <int>     <dbl>\n",
       "1       X54 Elongator          U 44250 0.9764978\n",
       "2       X54 Initiator          A  1169 0.9974403\n",
       "3    X54.58 Elongator         UA 44066 0.9724588\n",
       "4    X54.58 Initiator Mismatched  1170 0.9982935\n",
       "5       X58 Elongator          A 45119 0.9956967\n",
       "6       X58 Initiator          A  1172 1.0000000"
      ]
     },
     "execution_count": 189,
     "metadata": {},
     "output_type": "execute_result"
    }
   ],
   "source": [
    "clade_iso_ac_freqs %>% filter(positions %in% c(\"X54\", \"X58\", \"X54.58\")) %>% \n",
    "  mutate(Type=ifelse(isotype == \"iMet\", \"Initiator\", \"Elongator\")) %>%\n",
    "  group_by(positions, Type, variable) %>% \n",
    "  summarize(count=sum(value), freq=sum(value)/sum(total)) %>% \n",
    "  filter(freq > 0.9) %>% filter(row_number(freq) == 1)"
   ]
  },
  {
   "cell_type": "markdown",
   "metadata": {},
   "source": [
    "## U55, V56, R57\n",
    "\n",
    "M&G: Mostly U55, and locked to Y. Mostly C56. R57. Our data mostly agrees with this.\n",
    "\n",
    "## H60\n",
    "\n",
    "M&G: Pretty variable, but A60 (and A54) is an identity element for iMet-CAT.\n",
    "\n",
    "It seems like it's typically a U (60%) or C (30%). "
   ]
  },
  {
   "cell_type": "code",
   "execution_count": 184,
   "metadata": {
    "collapsed": false
   },
   "outputs": [
    {
     "data": {
      "text/html": [
       "<table>\n",
       "<thead><tr><th></th><th scope=col>positions</th><th scope=col>variable</th><th scope=col>count</th><th scope=col>freq</th></tr></thead>\n",
       "<tbody>\n",
       "\t<tr><th scope=row>1</th><td>X60</td><td>Pyrimidine</td><td>43146</td><td>0.9281304</td></tr>\n",
       "\t<tr><th scope=row>2</th><td>X60</td><td>B</td><td>43639</td><td>0.9387356</td></tr>\n",
       "\t<tr><th scope=row>3</th><td>X60</td><td>H</td><td>45977</td><td>0.9890292</td></tr>\n",
       "</tbody>\n",
       "</table>\n"
      ],
      "text/latex": [
       "\\begin{tabular}{r|llll}\n",
       "  & positions & variable & count & freq\\\\\n",
       "\\hline\n",
       "\t1 & X60 & Pyrimidine & 43146 & 0.9281304\\\\\n",
       "\t2 & X60 & B & 43639 & 0.9387356\\\\\n",
       "\t3 & X60 & H & 45977 & 0.9890292\\\\\n",
       "\\end{tabular}\n"
      ],
      "text/plain": [
       "Source: local data frame [3 x 4]\n",
       "Groups: positions [1]\n",
       "\n",
       "  positions   variable count      freq\n",
       "      <chr>     <fctr> <int>     <dbl>\n",
       "1       X60 Pyrimidine 43146 0.9281304\n",
       "2       X60          B 43639 0.9387356\n",
       "3       X60          H 45977 0.9890292"
      ]
     },
     "execution_count": 184,
     "metadata": {},
     "output_type": "execute_result"
    },
    {
     "data": {
      "text/html": [
       "<table>\n",
       "<thead><tr><th></th><th scope=col>positions</th><th scope=col>isotype</th><th scope=col>variable</th><th scope=col>count</th><th scope=col>freq</th></tr></thead>\n",
       "<tbody>\n",
       "\t<tr><th scope=row>1</th><td>X60</td><td>iMet</td><td>A</td><td>1171</td><td>0.9991468</td></tr>\n",
       "\t<tr><th scope=row>2</th><td>X60</td><td>iMet</td><td>Purine</td><td>1171</td><td>0.9991468</td></tr>\n",
       "\t<tr><th scope=row>3</th><td>X60</td><td>iMet</td><td>Weak</td><td>1171</td><td>0.9991468</td></tr>\n",
       "\t<tr><th scope=row>4</th><td>X60</td><td>iMet</td><td>Amino</td><td>1172</td><td>1</td></tr>\n",
       "\t<tr><th scope=row>5</th><td>X60</td><td>iMet</td><td>D</td><td>1171</td><td>0.9991468</td></tr>\n",
       "\t<tr><th scope=row>6</th><td>X60</td><td>iMet</td><td>H</td><td>1172</td><td>1</td></tr>\n",
       "\t<tr><th scope=row>7</th><td>X60</td><td>iMet</td><td>V</td><td>1172</td><td>1</td></tr>\n",
       "</tbody>\n",
       "</table>\n"
      ],
      "text/latex": [
       "\\begin{tabular}{r|lllll}\n",
       "  & positions & isotype & variable & count & freq\\\\\n",
       "\\hline\n",
       "\t1 & X60 & iMet & A & 1171 & 0.9991468\\\\\n",
       "\t2 & X60 & iMet & Purine & 1171 & 0.9991468\\\\\n",
       "\t3 & X60 & iMet & Weak & 1171 & 0.9991468\\\\\n",
       "\t4 & X60 & iMet & Amino & 1172 & 1\\\\\n",
       "\t5 & X60 & iMet & D & 1171 & 0.9991468\\\\\n",
       "\t6 & X60 & iMet & H & 1172 & 1\\\\\n",
       "\t7 & X60 & iMet & V & 1172 & 1\\\\\n",
       "\\end{tabular}\n"
      ],
      "text/plain": [
       "Source: local data frame [7 x 5]\n",
       "Groups: positions, isotype [1]\n",
       "\n",
       "  positions isotype variable count      freq\n",
       "      <chr>   <chr>   <fctr> <int>     <dbl>\n",
       "1       X60    iMet        A  1171 0.9991468\n",
       "2       X60    iMet   Purine  1171 0.9991468\n",
       "3       X60    iMet     Weak  1171 0.9991468\n",
       "4       X60    iMet    Amino  1172 1.0000000\n",
       "5       X60    iMet        D  1171 0.9991468\n",
       "6       X60    iMet        H  1172 1.0000000\n",
       "7       X60    iMet        V  1172 1.0000000"
      ]
     },
     "execution_count": 184,
     "metadata": {},
     "output_type": "execute_result"
    }
   ],
   "source": [
    "clade_iso_ac_freqs %>% filter(positions == \"X60\") %>% \n",
    "  group_by(positions, variable) %>% \n",
    "  summarize(count=sum(value), freq=sum(value)/sum(total)) %>% \n",
    "  filter(freq > 0.9)\n",
    "\n",
    "clade_iso_ac_freqs %>% filter(isotype == \"iMet\" & positions == \"X60\") %>% \n",
    "  group_by(positions, isotype, variable) %>% \n",
    "  summarize(count=sum(value), freq=sum(value)/sum(total)) %>% \n",
    "  filter(freq > 0.9)"
   ]
  },
  {
   "cell_type": "markdown",
   "metadata": {},
   "source": [
    "## Non-consensus identity elements\n",
    "\n",
    "There's plenty of examples where our frequencies confirm known rules, supplant known rules, or indicate new rules. There's also plenty of rules that weren't recapitulated above - and those are worth looking into individually.\n",
    "\n",
    "## C1:G72\n",
    "\n",
    "## C5:G68"
   ]
  },
  {
   "cell_type": "markdown",
   "metadata": {},
   "source": [
    "# No. tRNAs by missing IDEs"
   ]
  },
  {
   "cell_type": "code",
   "execution_count": null,
   "metadata": {
    "collapsed": true
   },
   "outputs": [],
   "source": []
  },
  {
   "cell_type": "code",
   "execution_count": null,
   "metadata": {
    "collapsed": true
   },
   "outputs": [],
   "source": []
  }
 ],
 "metadata": {
  "anaconda-cloud": {},
  "kernelspec": {
   "display_name": "R",
   "language": "R",
   "name": "ir"
  },
  "language_info": {
   "codemirror_mode": "r",
   "file_extension": ".r",
   "mimetype": "text/x-r-source",
   "name": "R",
   "pygments_lexer": "r",
   "version": "3.2.2"
  }
 },
 "nbformat": 4,
 "nbformat_minor": 0
}
