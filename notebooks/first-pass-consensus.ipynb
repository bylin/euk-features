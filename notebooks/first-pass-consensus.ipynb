{
 "cells": [
  {
   "cell_type": "code",
   "execution_count": 1,
   "metadata": {
    "collapsed": false
   },
   "outputs": [
    {
     "name": "stderr",
     "output_type": "stream",
     "text": [
      "\n",
      "Attaching package: ‘dplyr’\n",
      "\n",
      "The following objects are masked from ‘package:stats’:\n",
      "\n",
      "    filter, lag\n",
      "\n",
      "The following objects are masked from ‘package:base’:\n",
      "\n",
      "    intersect, setdiff, setequal, union\n",
      "\n",
      "\n",
      "Attaching package: ‘tidyr’\n",
      "\n",
      "The following object is masked from ‘package:reshape2’:\n",
      "\n",
      "    smiths\n",
      "\n"
     ]
    }
   ],
   "source": [
    "library(ggplot2)\n",
    "library(reshape2)\n",
    "library(dplyr)\n",
    "library(stringr)\n",
    "library(tidyr)\n",
    "theme_set(theme_bw())\n",
    "options(repr.plot.width=7, repr.plot.height=4)"
   ]
  },
  {
   "cell_type": "markdown",
   "metadata": {},
   "source": [
    "# Introduction\n",
    "\n",
    "In [clade-freqs](clade-freqs.ipynb), I've annotated a list of identity elements that appear to be conserved in over 95% of tRNAs. Some of these are reflected in the literature; others are not. I expect that the well-studied IDEs that are agreed to be universal to hold true. Thus, I need to look into the tRNAs that *don't* have this IDE. \n",
    "\n",
    "Do these exceptions function as tRNAs? Using a suite of supposedly gold standard IDEs, we would expect to be able to differentiate between bona fide tRNAs and tRNA pseudogenes.\n",
    "\n",
    "I'll get a set of tRNAs that may or may not be missing a key IDE. I'll then proceed in two branches. \n",
    "1) IDE rules. We've learned something about which IDEs are required. We now know how to choose canonical tRNAs. Filter based on these IDEs or based on suites of IDEs, regenerate frequencies, rinse and repeat.\n",
    "2) Interesting exceptions to the rule. Some tRNAs are exceptional. Look deeply into a few examples where they're missing a key IDE. Are any of them functional? Are they missing all of the other IDEs?\n",
    " \n",
    "#2 is easier to tackle first, as we isolate the tRNAs. First, we'll recreate the frequency table.\n",
    "\n",
    "# Data import\n"
   ]
  },
  {
   "cell_type": "code",
   "execution_count": 4,
   "metadata": {
    "collapsed": false
   },
   "outputs": [],
   "source": [
    "identities = read.delim('identities.tsv', sep='\\t', stringsAsFactors=FALSE)\n",
    "identities$quality = as.logical(identities$quality)\n",
    "identities$restrict = as.logical(identities$restrict)\n",
    "positions = colnames(identities)[which(str_detect(colnames(identities), 'X\\\\d+\\\\.'))]\n",
    "positions = c(positions, 'X8', 'X9', 'X14', 'X15', 'X16', 'X17', 'X18', 'X19', 'X20', 'X20a', 'X21', 'X26', 'X32', 'X33', 'X34', 'X35', 'X36', 'X37', 'X38', 'X44', 'X45', 'X46', 'X47', 'X48', 'X54', 'X55', 'X56', 'X57', 'X58', 'X59', 'X60', 'X73')"
   ]
  },
  {
   "cell_type": "code",
   "execution_count": 20,
   "metadata": {
    "collapsed": false
   },
   "outputs": [],
   "source": [
    "euk_freqs = identities %>% select(match(positions, colnames(identities))) %>%\n",
    "  gather(positions, bases) %>%\n",
    "  group_by(positions, bases) %>%\n",
    "  tally() %>%\n",
    "  group_by(positions) %>%\n",
    "  mutate(freq=n) %>%\n",
    "  group_by(positions) %>%\n",
    "  summarize(A = sum(freq[bases == \"A\"]),\n",
    "            C = sum(freq[bases == \"C\"]),\n",
    "            G = sum(freq[bases == \"G\"]),\n",
    "            U = sum(freq[bases == \"U\"]),\n",
    "            Purine = sum(freq[bases %in% c(\"A\", \"G\")]),\n",
    "            Pyrimidine = sum(freq[bases %in% c(\"C\", \"U\")]),\n",
    "            Weak = sum(freq[bases %in% c(\"A\", \"U\")]),\n",
    "            Strong = sum(freq[bases %in% c(\"G\", \"C\")]),\n",
    "            Amino = sum(freq[bases %in% c(\"A\", \"C\")]),\n",
    "            Keto = sum(freq[bases %in% c(\"G\", \"U\")]),\n",
    "            B = sum(freq[bases %in% c(\"C\", \"G\", \"U\")]),\n",
    "            D = sum(freq[bases %in% c(\"A\", \"G\", \"U\")]),\n",
    "            H = sum(freq[bases %in% c(\"A\", \"C\", \"U\")]),\n",
    "            V = sum(freq[bases %in% c(\"A\", \"C\", \"G\")]),\n",
    "            D = sum(freq[bases %in% c(\"A\", \"G\", \"U\")]),\n",
    "            GC = sum(freq[bases == \"G:C\"]),\n",
    "            AU = sum(freq[bases == \"A:U\"]),\n",
    "            UA = sum(freq[bases == \"U:A\"]),\n",
    "            CG = sum(freq[bases == \"C:G\"]),\n",
    "            GU = sum(freq[bases == \"G:U\"]),\n",
    "            UG = sum(freq[bases == \"U:G\"]),\n",
    "            PurinePyrimidine = sum(freq[bases %in% c(\"A:U\", \"G:C\")]),\n",
    "            PyrimidinePurine = sum(freq[bases %in% c(\"U:A\", \"C:G\")]),\n",
    "            StrongPair = sum(freq[bases %in% c(\"G:C\", \"C:G\")]),\n",
    "            WeakPair = sum(freq[bases %in% c(\"A:U\", \"U:A\")]),\n",
    "            Wobble = sum(freq[bases %in% c(\"G:U\", \"U:G\")]),\n",
    "            Paired = sum(freq[bases %in% c(\"A:U\", \"U:A\", \"C:G\", \"G:C\", \"G:U\", \"U:G\")]),\n",
    "            Mismatched = sum(freq[bases %in% c(\"A:A\", \"G:G\", \"C:C\", \"U:U\", \"A:G\", \"A:C\", \"C:A\", \"C:U\", \"G:A\", \"U:C\")])\n",
    "            )"
   ]
  },
  {
   "cell_type": "code",
   "execution_count": 27,
   "metadata": {
    "collapsed": true
   },
   "outputs": [],
   "source": [
    "clade_iso_freqs = identities %>%\n",
    "  select(match(c('clade', 'isotype', positions), colnames(identities))) %>%\n",
    "  gather(positions, bases, -clade, -isotype) %>%\n",
    "  group_by(clade, isotype, positions, bases) %>%\n",
    "  tally() %>%\n",
    "  group_by(clade, isotype, positions) %>%\n",
    "  mutate(freq=n) %>%\n",
    "  group_by(clade, isotype, positions) %>%\n",
    "  summarize(A = sum(freq[bases == \"A\"]),\n",
    "            C = sum(freq[bases == \"C\"]),\n",
    "            G = sum(freq[bases == \"G\"]),\n",
    "            U = sum(freq[bases == \"U\"]),\n",
    "            Purine = sum(freq[bases %in% c(\"A\", \"G\")]),\n",
    "            Pyrimidine = sum(freq[bases %in% c(\"C\", \"U\")]),\n",
    "            Weak = sum(freq[bases %in% c(\"A\", \"U\")]),\n",
    "            Strong = sum(freq[bases %in% c(\"G\", \"C\")]),\n",
    "            Amino = sum(freq[bases %in% c(\"A\", \"C\")]),\n",
    "            Keto = sum(freq[bases %in% c(\"G\", \"U\")]),\n",
    "            B = sum(freq[bases %in% c(\"C\", \"G\", \"U\")]),\n",
    "            D = sum(freq[bases %in% c(\"A\", \"G\", \"U\")]),\n",
    "            H = sum(freq[bases %in% c(\"A\", \"C\", \"U\")]),\n",
    "            V = sum(freq[bases %in% c(\"A\", \"C\", \"G\")]),\n",
    "            D = sum(freq[bases %in% c(\"A\", \"G\", \"U\")]),\n",
    "            GC = sum(freq[bases == \"G:C\"]),\n",
    "            AU = sum(freq[bases == \"A:U\"]),\n",
    "            UA = sum(freq[bases == \"U:A\"]),\n",
    "            CG = sum(freq[bases == \"C:G\"]),\n",
    "            PurinePyrimidine = sum(freq[bases %in% c(\"A:U\", \"U:A\", \"C:G\", \"G:C\")]),\n",
    "            StrongPair = sum(freq[bases %in% c(\"G:C\", \"C:G\")]),\n",
    "            WeakPair = sum(freq[bases %in% c(\"A:U\", \"U:A\")]),\n",
    "            Wobble = sum(freq[bases %in% c(\"G:U\", \"U:G\")]),\n",
    "            Paired = sum(freq[bases %in% c(\"A:U\", \"U:A\", \"C:G\", \"G:C\", \"G:U\", \"U:G\")]),\n",
    "            Mismatched = sum(freq[bases %in% c(\"A:A\", \"G:G\", \"C:C\", \"U:U\", \"A:G\", \"A:C\", \"C:A\", \"C:U\", \"G:A\", \"U:C\")])\n",
    "            )"
   ]
  },
  {
   "cell_type": "code",
   "execution_count": 22,
   "metadata": {
    "collapsed": false,
    "scrolled": true
   },
   "outputs": [
    {
     "name": "stderr",
     "output_type": "stream",
     "text": [
      "Using positions as id variables\n"
     ]
    },
    {
     "data": {
      "text/html": [
       "<table>\n",
       "<thead><tr><th></th><th scope=col>positions</th><th scope=col>variable</th><th scope=col>value</th><th scope=col>freq</th></tr></thead>\n",
       "<tbody>\n",
       "\t<tr><th scope=row>1</th><td>X10.25</td><td>Paired</td><td>108575</td><td>0.9849145</td></tr>\n",
       "\t<tr><th scope=row>2</th><td>X14</td><td>A</td><td>109604</td><td>0.9942488</td></tr>\n",
       "\t<tr><th scope=row>3</th><td>X15</td><td>Purine</td><td>109916</td><td>0.997079</td></tr>\n",
       "\t<tr><th scope=row>4</th><td>X18</td><td>G</td><td>109042</td><td>0.9891507</td></tr>\n",
       "\t<tr><th scope=row>5</th><td>X18.55</td><td>GU</td><td>107878</td><td>0.9785918</td></tr>\n",
       "\t<tr><th scope=row>6</th><td>X19</td><td>G</td><td>108902</td><td>0.9878808</td></tr>\n",
       "\t<tr><th scope=row>7</th><td>X19.56</td><td>Paired</td><td>108429</td><td>0.9835901</td></tr>\n",
       "\t<tr><th scope=row>8</th><td>X20</td><td>H</td><td>106812</td><td>0.9689218</td></tr>\n",
       "\t<tr><th scope=row>9</th><td>X21</td><td>A</td><td>108344</td><td>0.982819</td></tr>\n",
       "\t<tr><th scope=row>10</th><td>X26</td><td>D</td><td>107831</td><td>0.9781654</td></tr>\n",
       "\t<tr><th scope=row>11</th><td>X32</td><td>Pyrimidine</td><td>109874</td><td>0.9966981</td></tr>\n",
       "\t<tr><th scope=row>12</th><td>X33</td><td>U</td><td>107716</td><td>0.9771222</td></tr>\n",
       "\t<tr><th scope=row>13</th><td>X37</td><td>Purine</td><td>109567</td><td>0.9939132</td></tr>\n",
       "\t<tr><th scope=row>14</th><td>X3.70</td><td>Paired</td><td>106010</td><td>0.9616466</td></tr>\n",
       "\t<tr><th scope=row>15</th><td>X38</td><td>H</td><td>109647</td><td>0.9946389</td></tr>\n",
       "\t<tr><th scope=row>16</th><td>X44</td><td>D</td><td>104782</td><td>0.9505071</td></tr>\n",
       "\t<tr><th scope=row>17</th><td>X46</td><td>Purine</td><td>109198</td><td>0.9905659</td></tr>\n",
       "\t<tr><th scope=row>18</th><td>X48</td><td>Pyrimidine</td><td>106132</td><td>0.9627533</td></tr>\n",
       "\t<tr><th scope=row>19</th><td>X49.65</td><td>Paired</td><td>106896</td><td>0.9696838</td></tr>\n",
       "\t<tr><th scope=row>20</th><td>X53.61</td><td>Paired</td><td>107645</td><td>0.9764782</td></tr>\n",
       "\t<tr><th scope=row>21</th><td>X54</td><td>U</td><td>107175</td><td>0.9722147</td></tr>\n",
       "\t<tr><th scope=row>22</th><td>X54.58</td><td>Paired</td><td>106741</td><td>0.9682777</td></tr>\n",
       "\t<tr><th scope=row>23</th><td>X55</td><td>U</td><td>109063</td><td>0.9893412</td></tr>\n",
       "\t<tr><th scope=row>24</th><td>X56</td><td>V</td><td>104896</td><td>0.9515412</td></tr>\n",
       "\t<tr><th scope=row>25</th><td>X57</td><td>Purine</td><td>109499</td><td>0.9932963</td></tr>\n",
       "\t<tr><th scope=row>26</th><td>X58</td><td>A</td><td>107426</td><td>0.9744916</td></tr>\n",
       "\t<tr><th scope=row>27</th><td>X59</td><td>D</td><td>104807</td><td>0.9507339</td></tr>\n",
       "\t<tr><th scope=row>28</th><td>X60</td><td>Pyrimidine</td><td>105699</td><td>0.9588255</td></tr>\n",
       "\t<tr><th scope=row>29</th><td>X73</td><td>D</td><td>106835</td><td>0.9691304</td></tr>\n",
       "\t<tr><th scope=row>30</th><td>X8</td><td>U</td><td>107368</td><td>0.9739654</td></tr>\n",
       "\t<tr><th scope=row>31</th><td>X9</td><td>Purine</td><td>108842</td><td>0.9873365</td></tr>\n",
       "</tbody>\n",
       "</table>\n"
      ],
      "text/latex": [
       "\\begin{tabular}{r|llll}\n",
       "  & positions & variable & value & freq\\\\\n",
       "\\hline\n",
       "\t1 & X10.25 & Paired & 108575 & 0.9849145\\\\\n",
       "\t2 & X14 & A & 109604 & 0.9942488\\\\\n",
       "\t3 & X15 & Purine & 109916 & 0.997079\\\\\n",
       "\t4 & X18 & G & 109042 & 0.9891507\\\\\n",
       "\t5 & X18.55 & GU & 107878 & 0.9785918\\\\\n",
       "\t6 & X19 & G & 108902 & 0.9878808\\\\\n",
       "\t7 & X19.56 & Paired & 108429 & 0.9835901\\\\\n",
       "\t8 & X20 & H & 106812 & 0.9689218\\\\\n",
       "\t9 & X21 & A & 108344 & 0.982819\\\\\n",
       "\t10 & X26 & D & 107831 & 0.9781654\\\\\n",
       "\t11 & X32 & Pyrimidine & 109874 & 0.9966981\\\\\n",
       "\t12 & X33 & U & 107716 & 0.9771222\\\\\n",
       "\t13 & X37 & Purine & 109567 & 0.9939132\\\\\n",
       "\t14 & X3.70 & Paired & 106010 & 0.9616466\\\\\n",
       "\t15 & X38 & H & 109647 & 0.9946389\\\\\n",
       "\t16 & X44 & D & 104782 & 0.9505071\\\\\n",
       "\t17 & X46 & Purine & 109198 & 0.9905659\\\\\n",
       "\t18 & X48 & Pyrimidine & 106132 & 0.9627533\\\\\n",
       "\t19 & X49.65 & Paired & 106896 & 0.9696838\\\\\n",
       "\t20 & X53.61 & Paired & 107645 & 0.9764782\\\\\n",
       "\t21 & X54 & U & 107175 & 0.9722147\\\\\n",
       "\t22 & X54.58 & Paired & 106741 & 0.9682777\\\\\n",
       "\t23 & X55 & U & 109063 & 0.9893412\\\\\n",
       "\t24 & X56 & V & 104896 & 0.9515412\\\\\n",
       "\t25 & X57 & Purine & 109499 & 0.9932963\\\\\n",
       "\t26 & X58 & A & 107426 & 0.9744916\\\\\n",
       "\t27 & X59 & D & 104807 & 0.9507339\\\\\n",
       "\t28 & X60 & Pyrimidine & 105699 & 0.9588255\\\\\n",
       "\t29 & X73 & D & 106835 & 0.9691304\\\\\n",
       "\t30 & X8 & U & 107368 & 0.9739654\\\\\n",
       "\t31 & X9 & Purine & 108842 & 0.9873365\\\\\n",
       "\\end{tabular}\n"
      ],
      "text/plain": [
       "Source: local data frame [31 x 4]\n",
       "Groups: positions [31]\n",
       "\n",
       "   positions variable  value      freq\n",
       "       <chr>   <fctr>  <int>     <dbl>\n",
       "1     X10.25   Paired 108575 0.9849145\n",
       "2        X14        A 109604 0.9942488\n",
       "3        X15   Purine 109916 0.9970790\n",
       "4        X18        G 109042 0.9891507\n",
       "5     X18.55       GU 107878 0.9785918\n",
       "6        X19        G 108902 0.9878808\n",
       "7     X19.56   Paired 108429 0.9835901\n",
       "8        X20        H 106812 0.9689218\n",
       "9        X21        A 108344 0.9828190\n",
       "10       X26        D 107831 0.9781654\n",
       "# ... with 21 more rows"
      ]
     },
     "execution_count": 22,
     "metadata": {},
     "output_type": "execute_result"
    }
   ],
   "source": [
    "consensus = euk_freqs %>%\n",
    "  melt %>% \n",
    "  filter(value > 110238*0.95) %>%\n",
    "  group_by(positions) %>% # remove duplicates\n",
    "  filter(row_number(value) == 1) %>%\n",
    "  mutate(freq=value/110238) %>%\n",
    "  arrange(positions)\n",
    "consensus"
   ]
  },
  {
   "cell_type": "markdown",
   "metadata": {},
   "source": [
    "# Analysis of eukaryotic all-tRNA consensus identity elements\n",
    "\n",
    "## 3-70\n",
    "\n",
    "M&G: Even numbers across all pairs, 9 mismatches. G3-U70 unique to Ala. A few other isotypes have single exceptions. Antideterminant for Thr. C3-G70 positive for iMet. Dependent on 2-71 context."
   ]
  },
  {
   "cell_type": "markdown",
   "metadata": {},
   "source": [
    "## 10-25\n",
    "\n",
    "M&G: 10/41 GC, 31/41 GU, positive determinant for yeast Asp, negative determinant for yeast M22G on 26, interacts with 45.\n",
    "\n",
    "This is pretty par for the course. Our data show that GC $\\approx$ 75% is more common though (GU $\\approx$ 22%)."
   ]
  },
  {
   "cell_type": "code",
   "execution_count": 26,
   "metadata": {
    "collapsed": false
   },
   "outputs": [
    {
     "name": "stderr",
     "output_type": "stream",
     "text": [
      "Using positions as id variables\n"
     ]
    },
    {
     "data": {
      "text/html": [
       "<table>\n",
       "<thead><tr><th></th><th scope=col>positions</th><th scope=col>variable</th><th scope=col>value</th><th scope=col>freq</th></tr></thead>\n",
       "<tbody>\n",
       "\t<tr><th scope=row>1</th><td>X10.25</td><td>GC</td><td>83468</td><td>0.7571618</td></tr>\n",
       "\t<tr><th scope=row>2</th><td>X10.25</td><td>GU</td><td>23788</td><td>0.2157877</td></tr>\n",
       "\t<tr><th scope=row>3</th><td>X10.25</td><td>PurinePyrimidine</td><td>83984</td><td>0.7618426</td></tr>\n",
       "\t<tr><th scope=row>4</th><td>X10.25</td><td>StrongPair</td><td>83774</td><td>0.7599376</td></tr>\n",
       "\t<tr><th scope=row>5</th><td>X10.25</td><td>Wobble</td><td>23790</td><td>0.2158058</td></tr>\n",
       "\t<tr><th scope=row>6</th><td>X10.25</td><td>Paired</td><td>108575</td><td>0.9849145</td></tr>\n",
       "</tbody>\n",
       "</table>\n"
      ],
      "text/latex": [
       "\\begin{tabular}{r|llll}\n",
       "  & positions & variable & value & freq\\\\\n",
       "\\hline\n",
       "\t1 & X10.25 & GC & 83468 & 0.7571618\\\\\n",
       "\t2 & X10.25 & GU & 23788 & 0.2157877\\\\\n",
       "\t3 & X10.25 & PurinePyrimidine & 83984 & 0.7618426\\\\\n",
       "\t4 & X10.25 & StrongPair & 83774 & 0.7599376\\\\\n",
       "\t5 & X10.25 & Wobble & 23790 & 0.2158058\\\\\n",
       "\t6 & X10.25 & Paired & 108575 & 0.9849145\\\\\n",
       "\\end{tabular}\n"
      ],
      "text/plain": [
       "  positions         variable  value      freq\n",
       "1    X10.25               GC  83468 0.7571618\n",
       "2    X10.25               GU  23788 0.2157877\n",
       "3    X10.25 PurinePyrimidine  83984 0.7618426\n",
       "4    X10.25       StrongPair  83774 0.7599376\n",
       "5    X10.25           Wobble  23790 0.2158058\n",
       "6    X10.25           Paired 108575 0.9849145"
      ]
     },
     "execution_count": 26,
     "metadata": {},
     "output_type": "execute_result"
    }
   ],
   "source": [
    "euk_freqs %>% melt %>% filter(positions == 'X10.25') %>% mutate(freq=value/110238) %>% filter(freq > 0.05)"
   ]
  },
  {
   "cell_type": "code",
   "execution_count": null,
   "metadata": {
    "collapsed": true
   },
   "outputs": [],
   "source": []
  },
  {
   "cell_type": "code",
   "execution_count": null,
   "metadata": {
    "collapsed": true
   },
   "outputs": [],
   "source": []
  }
 ],
 "metadata": {
  "kernelspec": {
   "display_name": "R",
   "language": "R",
   "name": "ir"
  },
  "language_info": {
   "codemirror_mode": "r",
   "file_extension": ".r",
   "mimetype": "text/x-r-source",
   "name": "R",
   "pygments_lexer": "r",
   "version": "3.2.2"
  }
 },
 "nbformat": 4,
 "nbformat_minor": 0
}
